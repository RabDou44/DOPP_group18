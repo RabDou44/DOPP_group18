{
 "cells": [
  {
   "cell_type": "code",
   "execution_count": 21,
   "metadata": {},
   "outputs": [],
   "source": [
    "# set up\n",
    "import requests\n",
    "import pandas as pd\n",
    "import random\n",
    "\n",
    "airlab_api_params = {\n",
    "    \"api_key\" : \"8ffb5e97-7a50-4773-b2d9-8638ec08bc75\",\n",
    "}\n",
    "\n",
    "airlab_ex_param = {\n",
    "    \"api_key\" : \"8ffb5e97-7a50-4773-b2d9-8638ec08bc75\",\n",
    "    \"dep_iata\" : \"ANR\"\n",
    "}"
   ]
  },
  {
   "cell_type": "markdown",
   "metadata": {},
   "source": [
    "AirLabs API \n",
    "\n",
    "to get information about times schedules in Europe we draw info from airlbas api. In our project we subset our citie"
   ]
  },
  {
   "cell_type": "code",
   "execution_count": 24,
   "metadata": {},
   "outputs": [],
   "source": [
    "PATH_IATA_CODES = \"./datasets/airport-codes.csv\" # we get largest largest airports all over the world\n",
    "\n"
   ]
  },
  {
   "cell_type": "markdown",
   "metadata": {},
   "source": [
    "Summary and filtering largest airports"
   ]
  },
  {
   "cell_type": "code",
   "execution_count": 27,
   "metadata": {},
   "outputs": [
    {
     "data": {
      "text/html": [
       "<div>\n",
       "<style scoped>\n",
       "    .dataframe tbody tr th:only-of-type {\n",
       "        vertical-align: middle;\n",
       "    }\n",
       "\n",
       "    .dataframe tbody tr th {\n",
       "        vertical-align: top;\n",
       "    }\n",
       "\n",
       "    .dataframe thead th {\n",
       "        text-align: right;\n",
       "    }\n",
       "</style>\n",
       "<table border=\"1\" class=\"dataframe\">\n",
       "  <thead>\n",
       "    <tr style=\"text-align: right;\">\n",
       "      <th></th>\n",
       "      <th>ident</th>\n",
       "      <th>type</th>\n",
       "      <th>name</th>\n",
       "      <th>elevation_ft</th>\n",
       "      <th>continent</th>\n",
       "      <th>iso_country</th>\n",
       "      <th>iso_region</th>\n",
       "      <th>municipality</th>\n",
       "      <th>gps_code</th>\n",
       "      <th>iata_code</th>\n",
       "      <th>local_code</th>\n",
       "      <th>coordinates</th>\n",
       "    </tr>\n",
       "  </thead>\n",
       "  <tbody>\n",
       "    <tr>\n",
       "      <th>0</th>\n",
       "      <td>00A</td>\n",
       "      <td>heliport</td>\n",
       "      <td>Total Rf Heliport</td>\n",
       "      <td>11.0</td>\n",
       "      <td>NaN</td>\n",
       "      <td>US</td>\n",
       "      <td>US-PA</td>\n",
       "      <td>Bensalem</td>\n",
       "      <td>00A</td>\n",
       "      <td>NaN</td>\n",
       "      <td>00A</td>\n",
       "      <td>-74.93360137939453, 40.07080078125</td>\n",
       "    </tr>\n",
       "    <tr>\n",
       "      <th>1</th>\n",
       "      <td>00AA</td>\n",
       "      <td>small_airport</td>\n",
       "      <td>Aero B Ranch Airport</td>\n",
       "      <td>3435.0</td>\n",
       "      <td>NaN</td>\n",
       "      <td>US</td>\n",
       "      <td>US-KS</td>\n",
       "      <td>Leoti</td>\n",
       "      <td>00AA</td>\n",
       "      <td>NaN</td>\n",
       "      <td>00AA</td>\n",
       "      <td>-101.473911, 38.704022</td>\n",
       "    </tr>\n",
       "    <tr>\n",
       "      <th>2</th>\n",
       "      <td>00AK</td>\n",
       "      <td>small_airport</td>\n",
       "      <td>Lowell Field</td>\n",
       "      <td>450.0</td>\n",
       "      <td>NaN</td>\n",
       "      <td>US</td>\n",
       "      <td>US-AK</td>\n",
       "      <td>Anchor Point</td>\n",
       "      <td>00AK</td>\n",
       "      <td>NaN</td>\n",
       "      <td>00AK</td>\n",
       "      <td>-151.695999146, 59.94919968</td>\n",
       "    </tr>\n",
       "    <tr>\n",
       "      <th>3</th>\n",
       "      <td>00AL</td>\n",
       "      <td>small_airport</td>\n",
       "      <td>Epps Airpark</td>\n",
       "      <td>820.0</td>\n",
       "      <td>NaN</td>\n",
       "      <td>US</td>\n",
       "      <td>US-AL</td>\n",
       "      <td>Harvest</td>\n",
       "      <td>00AL</td>\n",
       "      <td>NaN</td>\n",
       "      <td>00AL</td>\n",
       "      <td>-86.77030181884766, 34.86479949951172</td>\n",
       "    </tr>\n",
       "    <tr>\n",
       "      <th>4</th>\n",
       "      <td>00AR</td>\n",
       "      <td>closed</td>\n",
       "      <td>Newport Hospital &amp; Clinic Heliport</td>\n",
       "      <td>237.0</td>\n",
       "      <td>NaN</td>\n",
       "      <td>US</td>\n",
       "      <td>US-AR</td>\n",
       "      <td>Newport</td>\n",
       "      <td>NaN</td>\n",
       "      <td>NaN</td>\n",
       "      <td>NaN</td>\n",
       "      <td>-91.254898, 35.6087</td>\n",
       "    </tr>\n",
       "  </tbody>\n",
       "</table>\n",
       "</div>"
      ],
      "text/plain": [
       "  ident           type                                name  elevation_ft  \\\n",
       "0   00A       heliport                   Total Rf Heliport          11.0   \n",
       "1  00AA  small_airport                Aero B Ranch Airport        3435.0   \n",
       "2  00AK  small_airport                        Lowell Field         450.0   \n",
       "3  00AL  small_airport                        Epps Airpark         820.0   \n",
       "4  00AR         closed  Newport Hospital & Clinic Heliport         237.0   \n",
       "\n",
       "  continent iso_country iso_region  municipality gps_code iata_code  \\\n",
       "0       NaN          US      US-PA      Bensalem      00A       NaN   \n",
       "1       NaN          US      US-KS         Leoti     00AA       NaN   \n",
       "2       NaN          US      US-AK  Anchor Point     00AK       NaN   \n",
       "3       NaN          US      US-AL       Harvest     00AL       NaN   \n",
       "4       NaN          US      US-AR       Newport      NaN       NaN   \n",
       "\n",
       "  local_code                            coordinates  \n",
       "0        00A     -74.93360137939453, 40.07080078125  \n",
       "1       00AA                 -101.473911, 38.704022  \n",
       "2       00AK            -151.695999146, 59.94919968  \n",
       "3       00AL  -86.77030181884766, 34.86479949951172  \n",
       "4        NaN                    -91.254898, 35.6087  "
      ]
     },
     "execution_count": 27,
     "metadata": {},
     "output_type": "execute_result"
    }
   ],
   "source": [
    "EURO_IATA_CODES = pd.read_csv(PATH_IATA_CODES)\n",
    "EURO_IATA_CODES.head()"
   ]
  },
  {
   "cell_type": "code",
   "execution_count": 77,
   "metadata": {},
   "outputs": [
    {
     "data": {
      "text/html": [
       "<div>\n",
       "<style scoped>\n",
       "    .dataframe tbody tr th:only-of-type {\n",
       "        vertical-align: middle;\n",
       "    }\n",
       "\n",
       "    .dataframe tbody tr th {\n",
       "        vertical-align: top;\n",
       "    }\n",
       "\n",
       "    .dataframe thead th {\n",
       "        text-align: right;\n",
       "    }\n",
       "</style>\n",
       "<table border=\"1\" class=\"dataframe\">\n",
       "  <thead>\n",
       "    <tr style=\"text-align: right;\">\n",
       "      <th></th>\n",
       "      <th>name</th>\n",
       "      <th>iata_code</th>\n",
       "      <th>iso_region</th>\n",
       "      <th>iso_country</th>\n",
       "      <th>coordinates</th>\n",
       "    </tr>\n",
       "  </thead>\n",
       "  <tbody>\n",
       "    <tr>\n",
       "      <th>0</th>\n",
       "      <td>PriÅ¡tina International Airport</td>\n",
       "      <td>PRN</td>\n",
       "      <td>XK-01</td>\n",
       "      <td>XK</td>\n",
       "      <td>21.035801, 42.5728</td>\n",
       "    </tr>\n",
       "    <tr>\n",
       "      <th>1</th>\n",
       "      <td>Brussels Airport</td>\n",
       "      <td>BRU</td>\n",
       "      <td>BE-BRU</td>\n",
       "      <td>BE</td>\n",
       "      <td>4.48443984985, 50.901401519800004</td>\n",
       "    </tr>\n",
       "    <tr>\n",
       "      <th>2</th>\n",
       "      <td>Brussels South Charleroi Airport</td>\n",
       "      <td>CRL</td>\n",
       "      <td>BE-WHT</td>\n",
       "      <td>BE</td>\n",
       "      <td>4.45382, 50.459202</td>\n",
       "    </tr>\n",
       "    <tr>\n",
       "      <th>3</th>\n",
       "      <td>LiÃ¨ge Airport</td>\n",
       "      <td>LGG</td>\n",
       "      <td>BE-WLG</td>\n",
       "      <td>BE</td>\n",
       "      <td>5.443220138549805, 50.63740158081055</td>\n",
       "    </tr>\n",
       "    <tr>\n",
       "      <th>4</th>\n",
       "      <td>Berlin-SchÃ¶nefeld Airport</td>\n",
       "      <td>SXF</td>\n",
       "      <td>DE-BR</td>\n",
       "      <td>DE</td>\n",
       "      <td>13.5225, 52.380001</td>\n",
       "    </tr>\n",
       "    <tr>\n",
       "      <th>...</th>\n",
       "      <td>...</td>\n",
       "      <td>...</td>\n",
       "      <td>...</td>\n",
       "      <td>...</td>\n",
       "      <td>...</td>\n",
       "    </tr>\n",
       "    <tr>\n",
       "      <th>143</th>\n",
       "      <td>Sheremetyevo International Airport</td>\n",
       "      <td>SVO</td>\n",
       "      <td>RU-MOS</td>\n",
       "      <td>RU</td>\n",
       "      <td>37.4146, 55.972599</td>\n",
       "    </tr>\n",
       "    <tr>\n",
       "      <th>144</th>\n",
       "      <td>Vnukovo International Airport</td>\n",
       "      <td>VKO</td>\n",
       "      <td>RU-MOS</td>\n",
       "      <td>RU</td>\n",
       "      <td>37.2615013123, 55.5914993286</td>\n",
       "    </tr>\n",
       "    <tr>\n",
       "      <th>145</th>\n",
       "      <td>Kazan International Airport</td>\n",
       "      <td>KZN</td>\n",
       "      <td>RU-TA</td>\n",
       "      <td>RU</td>\n",
       "      <td>49.278701782227, 55.606201171875</td>\n",
       "    </tr>\n",
       "    <tr>\n",
       "      <th>146</th>\n",
       "      <td>Ufa International Airport</td>\n",
       "      <td>UFA</td>\n",
       "      <td>RU-BA</td>\n",
       "      <td>RU</td>\n",
       "      <td>55.874401092529, 54.557498931885</td>\n",
       "    </tr>\n",
       "    <tr>\n",
       "      <th>147</th>\n",
       "      <td>Kurumoch International Airport</td>\n",
       "      <td>KUF</td>\n",
       "      <td>RU-SAM</td>\n",
       "      <td>RU</td>\n",
       "      <td>50.16429901123, 53.504901885986</td>\n",
       "    </tr>\n",
       "  </tbody>\n",
       "</table>\n",
       "<p>148 rows × 5 columns</p>\n",
       "</div>"
      ],
      "text/plain": [
       "                                   name iata_code iso_region iso_country  \\\n",
       "0       PriÅ¡tina International Airport       PRN      XK-01          XK   \n",
       "1                      Brussels Airport       BRU     BE-BRU          BE   \n",
       "2      Brussels South Charleroi Airport       CRL     BE-WHT          BE   \n",
       "3                        LiÃ¨ge Airport       LGG     BE-WLG          BE   \n",
       "4            Berlin-SchÃ¶nefeld Airport       SXF      DE-BR          DE   \n",
       "..                                  ...       ...        ...         ...   \n",
       "143  Sheremetyevo International Airport       SVO     RU-MOS          RU   \n",
       "144       Vnukovo International Airport       VKO     RU-MOS          RU   \n",
       "145         Kazan International Airport       KZN      RU-TA          RU   \n",
       "146           Ufa International Airport       UFA      RU-BA          RU   \n",
       "147      Kurumoch International Airport       KUF     RU-SAM          RU   \n",
       "\n",
       "                              coordinates  \n",
       "0                      21.035801, 42.5728  \n",
       "1       4.48443984985, 50.901401519800004  \n",
       "2                      4.45382, 50.459202  \n",
       "3    5.443220138549805, 50.63740158081055  \n",
       "4                      13.5225, 52.380001  \n",
       "..                                    ...  \n",
       "143                    37.4146, 55.972599  \n",
       "144          37.2615013123, 55.5914993286  \n",
       "145      49.278701782227, 55.606201171875  \n",
       "146      55.874401092529, 54.557498931885  \n",
       "147       50.16429901123, 53.504901885986  \n",
       "\n",
       "[148 rows x 5 columns]"
      ]
     },
     "execution_count": 77,
     "metadata": {},
     "output_type": "execute_result"
    }
   ],
   "source": [
    "# EURO_IATA_CODES.loc[EURO_IATA_CODES[\"type\"] == 'large_airport' & EURO_IATA_CODES['continent'] == 'EU']\n",
    "EU_LARGE = EURO_IATA_CODES.loc[(EURO_IATA_CODES[\"type\"] == 'large_airport')  &  (EURO_IATA_CODES['continent'].isin([\"EU\"]) )][[\"name\",\"iata_code\",\"iso_region\",\"iso_country\",\"coordinates\"]]\n",
    "\n",
    "## exclude islands and unaccessible airports\n",
    "\n",
    "airports_to_exclude= [\"HER\", \"NaN\",\"PMI\", \"LPA\", \"TFS\", \"TFN\"]\n",
    "# island countries\n",
    "countries_to_exclude = [\"IS\",\"IE\"]\n",
    "\n",
    "FINAL_AIRPORTS = EU_LARGE.loc[(~EU_LARGE['iso_country'].isin(countries_to_exclude))  \n",
    "                              & (~EU_LARGE['iata_code'].isin(airports_to_exclude))\n",
    "                              & (~EU_LARGE['iata_code'].isna())].reset_index(drop=True)\n",
    "FINAL_AIRPORTS\n"
   ]
  },
  {
   "cell_type": "markdown",
   "metadata": {},
   "source": [
    "Save selected large airports to CSV"
   ]
  },
  {
   "cell_type": "code",
   "execution_count": 85,
   "metadata": {},
   "outputs": [],
   "source": [
    "FINAL_AIRPORTS.to_csv(\"./datasets/AIRPORT_SET.csv\")"
   ]
  },
  {
   "cell_type": "code",
   "execution_count": 20,
   "metadata": {},
   "outputs": [
    {
     "data": {
      "text/plain": [
       "[{'airline_iata': 'BQ',\n",
       "  'airline_icao': 'SWU',\n",
       "  'flight_iata': 'BQ1964',\n",
       "  'flight_icao': 'SWU1964',\n",
       "  'flight_number': '1964',\n",
       "  'dep_iata': 'ANR',\n",
       "  'dep_icao': 'EBAW',\n",
       "  'dep_terminal': None,\n",
       "  'dep_gate': None,\n",
       "  'dep_time': '2024-01-20 14:40',\n",
       "  'dep_time_utc': '2024-01-20 13:40',\n",
       "  'arr_iata': 'BZO',\n",
       "  'arr_icao': 'LIPB',\n",
       "  'arr_terminal': None,\n",
       "  'arr_gate': None,\n",
       "  'arr_baggage': None,\n",
       "  'arr_time': '2024-01-20 16:35',\n",
       "  'arr_time_utc': '2024-01-20 15:35',\n",
       "  'cs_airline_iata': None,\n",
       "  'cs_flight_number': None,\n",
       "  'cs_flight_iata': None,\n",
       "  'status': 'scheduled',\n",
       "  'duration': 115,\n",
       "  'delayed': None,\n",
       "  'dep_delayed': None,\n",
       "  'arr_delayed': None,\n",
       "  'aircraft_icao': None,\n",
       "  'arr_time_ts': 1705764900,\n",
       "  'dep_time_ts': 1705758000}]"
      ]
     },
     "execution_count": 20,
     "metadata": {},
     "output_type": "execute_result"
    }
   ],
   "source": [
    "res_ex = requests.get(\"https://airlabs.co/api/v9/schedules?\",params=airlab_ex_param)\n",
    "js_res = res_ex.json()\n",
    "js_res['response']"
   ]
  },
  {
   "cell_type": "code",
   "execution_count": 19,
   "metadata": {},
   "outputs": [
    {
     "data": {
      "text/plain": [
       "<PreparedRequest [GET]>"
      ]
     },
     "execution_count": 19,
     "metadata": {},
     "output_type": "execute_result"
    }
   ],
   "source": [
    "random.sample(EURO_IATA_CODES)"
   ]
  },
  {
   "cell_type": "markdown",
   "metadata": {},
   "source": []
  },
  {
   "cell_type": "code",
   "execution_count": 23,
   "metadata": {},
   "outputs": [
    {
     "data": {
      "text/plain": [
       "439"
      ]
     },
     "execution_count": 23,
     "metadata": {},
     "output_type": "execute_result"
    }
   ],
   "source": [
    "len(EURO_IATA_CODES)"
   ]
  },
  {
   "cell_type": "code",
   "execution_count": null,
   "metadata": {},
   "outputs": [],
   "source": []
  }
 ],
 "metadata": {
  "kernelspec": {
   "display_name": "Python 3",
   "language": "python",
   "name": "python3"
  },
  "language_info": {
   "codemirror_mode": {
    "name": "ipython",
    "version": 3
   },
   "file_extension": ".py",
   "mimetype": "text/x-python",
   "name": "python",
   "nbconvert_exporter": "python",
   "pygments_lexer": "ipython3",
   "version": "3.10.8"
  }
 },
 "nbformat": 4,
 "nbformat_minor": 2
}
