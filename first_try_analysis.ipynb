{
 "cells": [
  {
   "attachments": {},
   "cell_type": "markdown",
   "metadata": {},
   "source": [
    "# Importing Libraries"
   ]
  },
  {
   "cell_type": "code",
   "execution_count": 1,
   "metadata": {},
   "outputs": [],
   "source": [
    "import pandas as pd\n",
    "import plotly.express as px\n",
    "import plotly.graph_objects as go"
   ]
  },
  {
   "attachments": {},
   "cell_type": "markdown",
   "metadata": {},
   "source": [
    "# Preprocessing Data"
   ]
  },
  {
   "cell_type": "code",
   "execution_count": 2,
   "metadata": {},
   "outputs": [
    {
     "data": {
      "text/html": [
       "<div>\n",
       "<style scoped>\n",
       "    .dataframe tbody tr th:only-of-type {\n",
       "        vertical-align: middle;\n",
       "    }\n",
       "\n",
       "    .dataframe tbody tr th {\n",
       "        vertical-align: top;\n",
       "    }\n",
       "\n",
       "    .dataframe thead th {\n",
       "        text-align: right;\n",
       "    }\n",
       "</style>\n",
       "<table border=\"1\" class=\"dataframe\">\n",
       "  <thead>\n",
       "    <tr style=\"text-align: right;\">\n",
       "      <th></th>\n",
       "      <th>city1</th>\n",
       "      <th>city2</th>\n",
       "      <th>transit_distance [m]</th>\n",
       "      <th>transit_time [s]</th>\n",
       "    </tr>\n",
       "  </thead>\n",
       "  <tbody>\n",
       "    <tr>\n",
       "      <th>0</th>\n",
       "      <td>San Bartolome</td>\n",
       "      <td>Barcelona</td>\n",
       "      <td>-1</td>\n",
       "      <td>-1</td>\n",
       "    </tr>\n",
       "    <tr>\n",
       "      <th>1</th>\n",
       "      <td>Alicante</td>\n",
       "      <td>Barcelona</td>\n",
       "      <td>449965</td>\n",
       "      <td>28800</td>\n",
       "    </tr>\n",
       "    <tr>\n",
       "      <th>2</th>\n",
       "      <td>Amsterdam</td>\n",
       "      <td>Barcelona</td>\n",
       "      <td>1574426</td>\n",
       "      <td>55320</td>\n",
       "    </tr>\n",
       "    <tr>\n",
       "      <th>3</th>\n",
       "      <td>Spata</td>\n",
       "      <td>Barcelona</td>\n",
       "      <td>3359236</td>\n",
       "      <td>189858</td>\n",
       "    </tr>\n",
       "    <tr>\n",
       "      <th>4</th>\n",
       "      <td>Malaga</td>\n",
       "      <td>Barcelona</td>\n",
       "      <td>1049384</td>\n",
       "      <td>36900</td>\n",
       "    </tr>\n",
       "    <tr>\n",
       "      <th>...</th>\n",
       "      <td>...</td>\n",
       "      <td>...</td>\n",
       "      <td>...</td>\n",
       "      <td>...</td>\n",
       "    </tr>\n",
       "    <tr>\n",
       "      <th>1464</th>\n",
       "      <td>Treviso</td>\n",
       "      <td>Rinas</td>\n",
       "      <td>982000</td>\n",
       "      <td>70058</td>\n",
       "    </tr>\n",
       "    <tr>\n",
       "      <th>1465</th>\n",
       "      <td>Ufa</td>\n",
       "      <td>Sochi</td>\n",
       "      <td>5760985</td>\n",
       "      <td>180660</td>\n",
       "    </tr>\n",
       "    <tr>\n",
       "      <th>1466</th>\n",
       "      <td>Ufa</td>\n",
       "      <td>Krasnoyarsk</td>\n",
       "      <td>4316816</td>\n",
       "      <td>162060</td>\n",
       "    </tr>\n",
       "    <tr>\n",
       "      <th>1467</th>\n",
       "      <td>Cologne</td>\n",
       "      <td>Varna</td>\n",
       "      <td>2360943</td>\n",
       "      <td>123578</td>\n",
       "    </tr>\n",
       "    <tr>\n",
       "      <th>1468</th>\n",
       "      <td>Zurich</td>\n",
       "      <td>Rovaniemi</td>\n",
       "      <td>3494234</td>\n",
       "      <td>156300</td>\n",
       "    </tr>\n",
       "  </tbody>\n",
       "</table>\n",
       "<p>1469 rows × 4 columns</p>\n",
       "</div>"
      ],
      "text/plain": [
       "              city1        city2  transit_distance [m]  transit_time [s]\n",
       "0     San Bartolome    Barcelona                    -1                -1\n",
       "1          Alicante    Barcelona                449965             28800\n",
       "2         Amsterdam    Barcelona               1574426             55320\n",
       "3             Spata    Barcelona               3359236            189858\n",
       "4            Malaga    Barcelona               1049384             36900\n",
       "...             ...          ...                   ...               ...\n",
       "1464        Treviso        Rinas                982000             70058\n",
       "1465            Ufa        Sochi               5760985            180660\n",
       "1466            Ufa  Krasnoyarsk               4316816            162060\n",
       "1467        Cologne        Varna               2360943            123578\n",
       "1468         Zurich    Rovaniemi               3494234            156300\n",
       "\n",
       "[1469 rows x 4 columns]"
      ]
     },
     "execution_count": 2,
     "metadata": {},
     "output_type": "execute_result"
    }
   ],
   "source": [
    "flights = pd.read_csv('../datasets/final_flights.csv')\n",
    "trains =  pd.read_csv('/Users/slavicagjorgieva/Desktop/TU/WS23/DOPP/Ex2/DOPP_group18/datasets/train_distances/combined_train_distances.csv')\n",
    "trains"
   ]
  },
  {
   "cell_type": "code",
   "execution_count": 3,
   "metadata": {},
   "outputs": [
    {
     "data": {
      "text/html": [
       "<div>\n",
       "<style scoped>\n",
       "    .dataframe tbody tr th:only-of-type {\n",
       "        vertical-align: middle;\n",
       "    }\n",
       "\n",
       "    .dataframe tbody tr th {\n",
       "        vertical-align: top;\n",
       "    }\n",
       "\n",
       "    .dataframe thead th {\n",
       "        text-align: right;\n",
       "    }\n",
       "</style>\n",
       "<table border=\"1\" class=\"dataframe\">\n",
       "  <thead>\n",
       "    <tr style=\"text-align: right;\">\n",
       "      <th></th>\n",
       "      <th>route</th>\n",
       "      <th>time</th>\n",
       "      <th>departure airport</th>\n",
       "      <th>arrival airport</th>\n",
       "      <th>departure city</th>\n",
       "      <th>arrival city</th>\n",
       "      <th>city1</th>\n",
       "      <th>city2</th>\n",
       "    </tr>\n",
       "  </thead>\n",
       "  <tbody>\n",
       "    <tr>\n",
       "      <th>0</th>\n",
       "      <td>{'AAL', 'AMS'}</td>\n",
       "      <td>85.0</td>\n",
       "      <td>AAL</td>\n",
       "      <td>AMS</td>\n",
       "      <td>Aalborg</td>\n",
       "      <td>Amsterdam</td>\n",
       "      <td>Aalborg</td>\n",
       "      <td>Amsterdam</td>\n",
       "    </tr>\n",
       "    <tr>\n",
       "      <th>1</th>\n",
       "      <td>{'AAQ', 'LED'}</td>\n",
       "      <td>170.0</td>\n",
       "      <td>AAQ</td>\n",
       "      <td>LED</td>\n",
       "      <td>Krasnyi Kurgan</td>\n",
       "      <td>St. Petersburg</td>\n",
       "      <td>Krasnyi Kurgan</td>\n",
       "      <td>St. Petersburg</td>\n",
       "    </tr>\n",
       "    <tr>\n",
       "      <th>2</th>\n",
       "      <td>{'AMS', 'ABZ'}</td>\n",
       "      <td>85.0</td>\n",
       "      <td>AMS</td>\n",
       "      <td>ABZ</td>\n",
       "      <td>Amsterdam</td>\n",
       "      <td>Aberdeen</td>\n",
       "      <td>Amsterdam</td>\n",
       "      <td>Aberdeen</td>\n",
       "    </tr>\n",
       "    <tr>\n",
       "      <th>3</th>\n",
       "      <td>{'ABZ', 'LGW'}</td>\n",
       "      <td>95.0</td>\n",
       "      <td>ABZ</td>\n",
       "      <td>LGW</td>\n",
       "      <td>Aberdeen</td>\n",
       "      <td>Gatwick, Surrey</td>\n",
       "      <td>Aberdeen</td>\n",
       "      <td>Gatwick</td>\n",
       "    </tr>\n",
       "    <tr>\n",
       "      <th>4</th>\n",
       "      <td>{'ACE', 'AGP'}</td>\n",
       "      <td>130.0</td>\n",
       "      <td>ACE</td>\n",
       "      <td>AGP</td>\n",
       "      <td>San Bartolomé</td>\n",
       "      <td>Málaga</td>\n",
       "      <td>San Bartolome</td>\n",
       "      <td>Malaga</td>\n",
       "    </tr>\n",
       "    <tr>\n",
       "      <th>...</th>\n",
       "      <td>...</td>\n",
       "      <td>...</td>\n",
       "      <td>...</td>\n",
       "      <td>...</td>\n",
       "      <td>...</td>\n",
       "      <td>...</td>\n",
       "      <td>...</td>\n",
       "      <td>...</td>\n",
       "    </tr>\n",
       "    <tr>\n",
       "      <th>1464</th>\n",
       "      <td>{'ZRH', 'OTP'}</td>\n",
       "      <td>150.0</td>\n",
       "      <td>ZRH</td>\n",
       "      <td>OTP</td>\n",
       "      <td>Zurich</td>\n",
       "      <td>Otopeni</td>\n",
       "      <td>Zurich</td>\n",
       "      <td>Otopeni</td>\n",
       "    </tr>\n",
       "    <tr>\n",
       "      <th>1465</th>\n",
       "      <td>{'ZRH', 'PRN'}</td>\n",
       "      <td>127.5</td>\n",
       "      <td>ZRH</td>\n",
       "      <td>PRN</td>\n",
       "      <td>Zurich</td>\n",
       "      <td>Prishtina</td>\n",
       "      <td>Zurich</td>\n",
       "      <td>Prishtina</td>\n",
       "    </tr>\n",
       "    <tr>\n",
       "      <th>1466</th>\n",
       "      <td>{'ZRH', 'RVN'}</td>\n",
       "      <td>205.0</td>\n",
       "      <td>ZRH</td>\n",
       "      <td>RVN</td>\n",
       "      <td>Zurich</td>\n",
       "      <td>Rovaniemi</td>\n",
       "      <td>Zurich</td>\n",
       "      <td>Rovaniemi</td>\n",
       "    </tr>\n",
       "    <tr>\n",
       "      <th>1467</th>\n",
       "      <td>{'ZRH', 'STR'}</td>\n",
       "      <td>45.0</td>\n",
       "      <td>ZRH</td>\n",
       "      <td>STR</td>\n",
       "      <td>Zurich</td>\n",
       "      <td>Stuttgart</td>\n",
       "      <td>Zurich</td>\n",
       "      <td>Stuttgart</td>\n",
       "    </tr>\n",
       "    <tr>\n",
       "      <th>1468</th>\n",
       "      <td>{'ZTH', 'ATH'}</td>\n",
       "      <td>62.5</td>\n",
       "      <td>ZTH</td>\n",
       "      <td>ATH</td>\n",
       "      <td>Zakynthos</td>\n",
       "      <td>Spata-Artemida</td>\n",
       "      <td>Zakynthos</td>\n",
       "      <td>Spata</td>\n",
       "    </tr>\n",
       "  </tbody>\n",
       "</table>\n",
       "<p>1469 rows × 8 columns</p>\n",
       "</div>"
      ],
      "text/plain": [
       "               route   time departure airport arrival airport  departure city  \\\n",
       "0     {'AAL', 'AMS'}   85.0               AAL             AMS         Aalborg   \n",
       "1     {'AAQ', 'LED'}  170.0               AAQ             LED  Krasnyi Kurgan   \n",
       "2     {'AMS', 'ABZ'}   85.0               AMS             ABZ       Amsterdam   \n",
       "3     {'ABZ', 'LGW'}   95.0               ABZ             LGW        Aberdeen   \n",
       "4     {'ACE', 'AGP'}  130.0               ACE             AGP   San Bartolomé   \n",
       "...              ...    ...               ...             ...             ...   \n",
       "1464  {'ZRH', 'OTP'}  150.0               ZRH             OTP          Zurich   \n",
       "1465  {'ZRH', 'PRN'}  127.5               ZRH             PRN          Zurich   \n",
       "1466  {'ZRH', 'RVN'}  205.0               ZRH             RVN          Zurich   \n",
       "1467  {'ZRH', 'STR'}   45.0               ZRH             STR          Zurich   \n",
       "1468  {'ZTH', 'ATH'}   62.5               ZTH             ATH       Zakynthos   \n",
       "\n",
       "         arrival city           city1           city2  \n",
       "0           Amsterdam         Aalborg       Amsterdam  \n",
       "1      St. Petersburg  Krasnyi Kurgan  St. Petersburg  \n",
       "2            Aberdeen       Amsterdam        Aberdeen  \n",
       "3     Gatwick, Surrey        Aberdeen         Gatwick  \n",
       "4              Málaga   San Bartolome          Malaga  \n",
       "...               ...             ...             ...  \n",
       "1464          Otopeni          Zurich         Otopeni  \n",
       "1465        Prishtina          Zurich       Prishtina  \n",
       "1466        Rovaniemi          Zurich       Rovaniemi  \n",
       "1467        Stuttgart          Zurich       Stuttgart  \n",
       "1468   Spata-Artemida       Zakynthos           Spata  \n",
       "\n",
       "[1469 rows x 8 columns]"
      ]
     },
     "execution_count": 3,
     "metadata": {},
     "output_type": "execute_result"
    }
   ],
   "source": [
    "flights"
   ]
  },
  {
   "cell_type": "code",
   "execution_count": 4,
   "metadata": {},
   "outputs": [
    {
     "name": "stdout",
     "output_type": "stream",
     "text": [
      "Number of rows in flights: 1469\n",
      "Number of rows in trains: 1469\n"
     ]
    }
   ],
   "source": [
    "print(\"Number of rows in flights:\", flights.shape[0])\n",
    "print(\"Number of rows in trains:\", trains.shape[0])\n"
   ]
  },
  {
   "cell_type": "code",
   "execution_count": 5,
   "metadata": {},
   "outputs": [
    {
     "name": "stdout",
     "output_type": "stream",
     "text": [
      "Number of rows in merged data: 1615\n"
     ]
    }
   ],
   "source": [
    "merged_data = pd.merge(flights, trains, on=['city1', 'city2'])\n",
    "print(\"Number of rows in merged data:\", merged_data.shape[0])"
   ]
  },
  {
   "attachments": {},
   "cell_type": "markdown",
   "metadata": {},
   "source": [
    "## Removing duplicates"
   ]
  },
  {
   "cell_type": "code",
   "execution_count": 6,
   "metadata": {},
   "outputs": [
    {
     "name": "stdout",
     "output_type": "stream",
     "text": [
      "Number of rows after removing duplicates: 1472\n",
      "<class 'pandas.core.frame.DataFrame'>\n",
      "Int64Index: 1472 entries, 0 to 1614\n",
      "Data columns (total 10 columns):\n",
      " #   Column                Non-Null Count  Dtype  \n",
      "---  ------                --------------  -----  \n",
      " 0   route                 1472 non-null   object \n",
      " 1   time                  1472 non-null   float64\n",
      " 2   departure airport     1472 non-null   object \n",
      " 3   arrival airport       1472 non-null   object \n",
      " 4   departure city        1472 non-null   object \n",
      " 5   arrival city          1472 non-null   object \n",
      " 6   city1                 1472 non-null   object \n",
      " 7   city2                 1472 non-null   object \n",
      " 8   transit_distance [m]  1472 non-null   int64  \n",
      " 9   transit_time [s]      1472 non-null   int64  \n",
      "dtypes: float64(1), int64(2), object(7)\n",
      "memory usage: 126.5+ KB\n"
     ]
    }
   ],
   "source": [
    "cleaned_data = merged_data.drop_duplicates()\n",
    "print(\"Number of rows after removing duplicates:\", cleaned_data.shape[0])\n",
    "cleaned_data.info()"
   ]
  },
  {
   "cell_type": "code",
   "execution_count": 7,
   "metadata": {},
   "outputs": [
    {
     "data": {
      "text/html": [
       "<div>\n",
       "<style scoped>\n",
       "    .dataframe tbody tr th:only-of-type {\n",
       "        vertical-align: middle;\n",
       "    }\n",
       "\n",
       "    .dataframe tbody tr th {\n",
       "        vertical-align: top;\n",
       "    }\n",
       "\n",
       "    .dataframe thead th {\n",
       "        text-align: right;\n",
       "    }\n",
       "</style>\n",
       "<table border=\"1\" class=\"dataframe\">\n",
       "  <thead>\n",
       "    <tr style=\"text-align: right;\">\n",
       "      <th></th>\n",
       "      <th>time</th>\n",
       "      <th>transit_distance [m]</th>\n",
       "      <th>transit_time [s]</th>\n",
       "    </tr>\n",
       "  </thead>\n",
       "  <tbody>\n",
       "    <tr>\n",
       "      <th>count</th>\n",
       "      <td>1472.000000</td>\n",
       "      <td>1.472000e+03</td>\n",
       "      <td>1472.000000</td>\n",
       "    </tr>\n",
       "    <tr>\n",
       "      <th>mean</th>\n",
       "      <td>127.859262</td>\n",
       "      <td>1.225550e+06</td>\n",
       "      <td>56415.970109</td>\n",
       "    </tr>\n",
       "    <tr>\n",
       "      <th>std</th>\n",
       "      <td>55.507938</td>\n",
       "      <td>1.104045e+06</td>\n",
       "      <td>48916.373427</td>\n",
       "    </tr>\n",
       "    <tr>\n",
       "      <th>min</th>\n",
       "      <td>10.000000</td>\n",
       "      <td>-1.000000e+00</td>\n",
       "      <td>-1.000000</td>\n",
       "    </tr>\n",
       "    <tr>\n",
       "      <th>25%</th>\n",
       "      <td>85.000000</td>\n",
       "      <td>2.333142e+05</td>\n",
       "      <td>13346.750000</td>\n",
       "    </tr>\n",
       "    <tr>\n",
       "      <th>50%</th>\n",
       "      <td>120.000000</td>\n",
       "      <td>1.045865e+06</td>\n",
       "      <td>48944.500000</td>\n",
       "    </tr>\n",
       "    <tr>\n",
       "      <th>75%</th>\n",
       "      <td>160.000000</td>\n",
       "      <td>1.910968e+06</td>\n",
       "      <td>83700.000000</td>\n",
       "    </tr>\n",
       "    <tr>\n",
       "      <th>max</th>\n",
       "      <td>402.500000</td>\n",
       "      <td>9.959629e+06</td>\n",
       "      <td>360180.000000</td>\n",
       "    </tr>\n",
       "  </tbody>\n",
       "</table>\n",
       "</div>"
      ],
      "text/plain": [
       "              time  transit_distance [m]  transit_time [s]\n",
       "count  1472.000000          1.472000e+03       1472.000000\n",
       "mean    127.859262          1.225550e+06      56415.970109\n",
       "std      55.507938          1.104045e+06      48916.373427\n",
       "min      10.000000         -1.000000e+00         -1.000000\n",
       "25%      85.000000          2.333142e+05      13346.750000\n",
       "50%     120.000000          1.045865e+06      48944.500000\n",
       "75%     160.000000          1.910968e+06      83700.000000\n",
       "max     402.500000          9.959629e+06     360180.000000"
      ]
     },
     "execution_count": 7,
     "metadata": {},
     "output_type": "execute_result"
    }
   ],
   "source": [
    "cleaned_data.describe()"
   ]
  },
  {
   "attachments": {},
   "cell_type": "markdown",
   "metadata": {},
   "source": [
    "## Removing -1 (NaN) values for distance & time"
   ]
  },
  {
   "cell_type": "code",
   "execution_count": 8,
   "metadata": {},
   "outputs": [
    {
     "data": {
      "text/html": [
       "<div>\n",
       "<style scoped>\n",
       "    .dataframe tbody tr th:only-of-type {\n",
       "        vertical-align: middle;\n",
       "    }\n",
       "\n",
       "    .dataframe tbody tr th {\n",
       "        vertical-align: top;\n",
       "    }\n",
       "\n",
       "    .dataframe thead th {\n",
       "        text-align: right;\n",
       "    }\n",
       "</style>\n",
       "<table border=\"1\" class=\"dataframe\">\n",
       "  <thead>\n",
       "    <tr style=\"text-align: right;\">\n",
       "      <th></th>\n",
       "      <th>route</th>\n",
       "      <th>time</th>\n",
       "      <th>departure airport</th>\n",
       "      <th>arrival airport</th>\n",
       "      <th>departure city</th>\n",
       "      <th>arrival city</th>\n",
       "      <th>city1</th>\n",
       "      <th>city2</th>\n",
       "      <th>transit_distance [m]</th>\n",
       "      <th>transit_time [s]</th>\n",
       "    </tr>\n",
       "  </thead>\n",
       "  <tbody>\n",
       "    <tr>\n",
       "      <th>0</th>\n",
       "      <td>{'AAL', 'AMS'}</td>\n",
       "      <td>85.000000</td>\n",
       "      <td>AAL</td>\n",
       "      <td>AMS</td>\n",
       "      <td>Aalborg</td>\n",
       "      <td>Amsterdam</td>\n",
       "      <td>Aalborg</td>\n",
       "      <td>Amsterdam</td>\n",
       "      <td>1027798</td>\n",
       "      <td>58200</td>\n",
       "    </tr>\n",
       "    <tr>\n",
       "      <th>2</th>\n",
       "      <td>{'AMS', 'ABZ'}</td>\n",
       "      <td>85.000000</td>\n",
       "      <td>AMS</td>\n",
       "      <td>ABZ</td>\n",
       "      <td>Amsterdam</td>\n",
       "      <td>Aberdeen</td>\n",
       "      <td>Amsterdam</td>\n",
       "      <td>Aberdeen</td>\n",
       "      <td>1380434</td>\n",
       "      <td>65040</td>\n",
       "    </tr>\n",
       "    <tr>\n",
       "      <th>3</th>\n",
       "      <td>{'ABZ', 'LGW'}</td>\n",
       "      <td>95.000000</td>\n",
       "      <td>ABZ</td>\n",
       "      <td>LGW</td>\n",
       "      <td>Aberdeen</td>\n",
       "      <td>Gatwick, Surrey</td>\n",
       "      <td>Aberdeen</td>\n",
       "      <td>Gatwick</td>\n",
       "      <td>895395</td>\n",
       "      <td>39720</td>\n",
       "    </tr>\n",
       "    <tr>\n",
       "      <th>23</th>\n",
       "      <td>{'AER', 'DME'}</td>\n",
       "      <td>215.000000</td>\n",
       "      <td>AER</td>\n",
       "      <td>DME</td>\n",
       "      <td>Sochi</td>\n",
       "      <td>Moscow</td>\n",
       "      <td>Sochi</td>\n",
       "      <td>Moscow</td>\n",
       "      <td>2919260</td>\n",
       "      <td>103440</td>\n",
       "    </tr>\n",
       "    <tr>\n",
       "      <th>27</th>\n",
       "      <td>{'AER', 'SVO'}</td>\n",
       "      <td>225.833333</td>\n",
       "      <td>AER</td>\n",
       "      <td>SVO</td>\n",
       "      <td>Sochi</td>\n",
       "      <td>Moscow</td>\n",
       "      <td>Sochi</td>\n",
       "      <td>Moscow</td>\n",
       "      <td>2919260</td>\n",
       "      <td>103440</td>\n",
       "    </tr>\n",
       "    <tr>\n",
       "      <th>...</th>\n",
       "      <td>...</td>\n",
       "      <td>...</td>\n",
       "      <td>...</td>\n",
       "      <td>...</td>\n",
       "      <td>...</td>\n",
       "      <td>...</td>\n",
       "      <td>...</td>\n",
       "      <td>...</td>\n",
       "      <td>...</td>\n",
       "      <td>...</td>\n",
       "    </tr>\n",
       "    <tr>\n",
       "      <th>1608</th>\n",
       "      <td>{'ZRH', 'MUC'}</td>\n",
       "      <td>55.000000</td>\n",
       "      <td>ZRH</td>\n",
       "      <td>MUC</td>\n",
       "      <td>Zurich</td>\n",
       "      <td>Munich</td>\n",
       "      <td>Zurich</td>\n",
       "      <td>Munich</td>\n",
       "      <td>570891</td>\n",
       "      <td>29160</td>\n",
       "    </tr>\n",
       "    <tr>\n",
       "      <th>1610</th>\n",
       "      <td>{'ZRH', 'OTP'}</td>\n",
       "      <td>150.000000</td>\n",
       "      <td>ZRH</td>\n",
       "      <td>OTP</td>\n",
       "      <td>Zurich</td>\n",
       "      <td>Otopeni</td>\n",
       "      <td>Zurich</td>\n",
       "      <td>Otopeni</td>\n",
       "      <td>1869221</td>\n",
       "      <td>100620</td>\n",
       "    </tr>\n",
       "    <tr>\n",
       "      <th>1611</th>\n",
       "      <td>{'ZRH', 'PRN'}</td>\n",
       "      <td>127.500000</td>\n",
       "      <td>ZRH</td>\n",
       "      <td>PRN</td>\n",
       "      <td>Zurich</td>\n",
       "      <td>Prishtina</td>\n",
       "      <td>Zurich</td>\n",
       "      <td>Prishtina</td>\n",
       "      <td>1622133</td>\n",
       "      <td>114989</td>\n",
       "    </tr>\n",
       "    <tr>\n",
       "      <th>1612</th>\n",
       "      <td>{'ZRH', 'RVN'}</td>\n",
       "      <td>205.000000</td>\n",
       "      <td>ZRH</td>\n",
       "      <td>RVN</td>\n",
       "      <td>Zurich</td>\n",
       "      <td>Rovaniemi</td>\n",
       "      <td>Zurich</td>\n",
       "      <td>Rovaniemi</td>\n",
       "      <td>3494234</td>\n",
       "      <td>156300</td>\n",
       "    </tr>\n",
       "    <tr>\n",
       "      <th>1613</th>\n",
       "      <td>{'ZRH', 'STR'}</td>\n",
       "      <td>45.000000</td>\n",
       "      <td>ZRH</td>\n",
       "      <td>STR</td>\n",
       "      <td>Zurich</td>\n",
       "      <td>Stuttgart</td>\n",
       "      <td>Zurich</td>\n",
       "      <td>Stuttgart</td>\n",
       "      <td>454595</td>\n",
       "      <td>20040</td>\n",
       "    </tr>\n",
       "  </tbody>\n",
       "</table>\n",
       "<p>1122 rows × 10 columns</p>\n",
       "</div>"
      ],
      "text/plain": [
       "               route        time departure airport arrival airport  \\\n",
       "0     {'AAL', 'AMS'}   85.000000               AAL             AMS   \n",
       "2     {'AMS', 'ABZ'}   85.000000               AMS             ABZ   \n",
       "3     {'ABZ', 'LGW'}   95.000000               ABZ             LGW   \n",
       "23    {'AER', 'DME'}  215.000000               AER             DME   \n",
       "27    {'AER', 'SVO'}  225.833333               AER             SVO   \n",
       "...              ...         ...               ...             ...   \n",
       "1608  {'ZRH', 'MUC'}   55.000000               ZRH             MUC   \n",
       "1610  {'ZRH', 'OTP'}  150.000000               ZRH             OTP   \n",
       "1611  {'ZRH', 'PRN'}  127.500000               ZRH             PRN   \n",
       "1612  {'ZRH', 'RVN'}  205.000000               ZRH             RVN   \n",
       "1613  {'ZRH', 'STR'}   45.000000               ZRH             STR   \n",
       "\n",
       "     departure city     arrival city      city1      city2  \\\n",
       "0           Aalborg        Amsterdam    Aalborg  Amsterdam   \n",
       "2         Amsterdam         Aberdeen  Amsterdam   Aberdeen   \n",
       "3          Aberdeen  Gatwick, Surrey   Aberdeen    Gatwick   \n",
       "23            Sochi           Moscow      Sochi     Moscow   \n",
       "27            Sochi           Moscow      Sochi     Moscow   \n",
       "...             ...              ...        ...        ...   \n",
       "1608         Zurich           Munich     Zurich     Munich   \n",
       "1610         Zurich          Otopeni     Zurich    Otopeni   \n",
       "1611         Zurich        Prishtina     Zurich  Prishtina   \n",
       "1612         Zurich        Rovaniemi     Zurich  Rovaniemi   \n",
       "1613         Zurich        Stuttgart     Zurich  Stuttgart   \n",
       "\n",
       "      transit_distance [m]  transit_time [s]  \n",
       "0                  1027798             58200  \n",
       "2                  1380434             65040  \n",
       "3                   895395             39720  \n",
       "23                 2919260            103440  \n",
       "27                 2919260            103440  \n",
       "...                    ...               ...  \n",
       "1608                570891             29160  \n",
       "1610               1869221            100620  \n",
       "1611               1622133            114989  \n",
       "1612               3494234            156300  \n",
       "1613                454595             20040  \n",
       "\n",
       "[1122 rows x 10 columns]"
      ]
     },
     "execution_count": 8,
     "metadata": {},
     "output_type": "execute_result"
    }
   ],
   "source": [
    "filtered_data = cleaned_data[cleaned_data['transit_distance [m]'] != -1]\n",
    "cleaned_df = filtered_data[filtered_data['transit_time [s]'] != -1]\n",
    "cleaned_df\n",
    "cleaned_df.to_csv('datasets/merged_df.csv')\n",
    "cleaned_df"
   ]
  },
  {
   "attachments": {},
   "cell_type": "markdown",
   "metadata": {},
   "source": []
  },
  {
   "cell_type": "code",
   "execution_count": 9,
   "metadata": {},
   "outputs": [],
   "source": [
    "filtered_data = filtered_data.rename(columns={\n",
    "    'time': 'flight_time', \n",
    "    'transit_time [s]': 'train_time', \n",
    "    'transit_distance [m]': 'train_distance'\n",
    "})\n"
   ]
  },
  {
   "cell_type": "code",
   "execution_count": 10,
   "metadata": {},
   "outputs": [
    {
     "name": "stdout",
     "output_type": "stream",
     "text": [
      "             route  flight_time departure airport arrival airport  \\\n",
      "0   {'AAL', 'AMS'}    85.000000               AAL             AMS   \n",
      "2   {'AMS', 'ABZ'}    85.000000               AMS             ABZ   \n",
      "3   {'ABZ', 'LGW'}    95.000000               ABZ             LGW   \n",
      "23  {'AER', 'DME'}   215.000000               AER             DME   \n",
      "27  {'AER', 'SVO'}   225.833333               AER             SVO   \n",
      "\n",
      "   departure city     arrival city      city1      city2  train_distance  \\\n",
      "0         Aalborg        Amsterdam    Aalborg  Amsterdam         1027798   \n",
      "2       Amsterdam         Aberdeen  Amsterdam   Aberdeen         1380434   \n",
      "3        Aberdeen  Gatwick, Surrey   Aberdeen    Gatwick          895395   \n",
      "23          Sochi           Moscow      Sochi     Moscow         2919260   \n",
      "27          Sochi           Moscow      Sochi     Moscow         2919260   \n",
      "\n",
      "    train_time  \n",
      "0        970.0  \n",
      "2       1084.0  \n",
      "3        662.0  \n",
      "23      1724.0  \n",
      "27      1724.0  \n"
     ]
    }
   ],
   "source": [
    "# Convert train time from seconds to minutes using .loc\n",
    "filtered_data.loc[:, 'train_time'] = filtered_data['train_time'] / 60\n",
    "\n",
    "print(filtered_data.head())"
   ]
  },
  {
   "cell_type": "code",
   "execution_count": 11,
   "metadata": {},
   "outputs": [],
   "source": [
    "iata_codes_country = pd.read_csv('/Users/slavicagjorgieva/Desktop/TU/WS23/DOPP/Ex2/DOPP_group18/datasets/fixed-airports-codes.csv')"
   ]
  },
  {
   "cell_type": "code",
   "execution_count": 12,
   "metadata": {},
   "outputs": [
    {
     "data": {
      "text/html": [
       "<div>\n",
       "<style scoped>\n",
       "    .dataframe tbody tr th:only-of-type {\n",
       "        vertical-align: middle;\n",
       "    }\n",
       "\n",
       "    .dataframe tbody tr th {\n",
       "        vertical-align: top;\n",
       "    }\n",
       "\n",
       "    .dataframe thead th {\n",
       "        text-align: right;\n",
       "    }\n",
       "</style>\n",
       "<table border=\"1\" class=\"dataframe\">\n",
       "  <thead>\n",
       "    <tr style=\"text-align: right;\">\n",
       "      <th></th>\n",
       "      <th>id</th>\n",
       "      <th>ident</th>\n",
       "      <th>type</th>\n",
       "      <th>name</th>\n",
       "      <th>latitude_deg</th>\n",
       "      <th>longitude_deg</th>\n",
       "      <th>elevation_ft</th>\n",
       "      <th>continent</th>\n",
       "      <th>iso_country</th>\n",
       "      <th>iso_region</th>\n",
       "      <th>municipality</th>\n",
       "      <th>scheduled_service</th>\n",
       "      <th>gps_code</th>\n",
       "      <th>iata_code</th>\n",
       "      <th>local_code</th>\n",
       "      <th>home_link</th>\n",
       "      <th>wikipedia_link</th>\n",
       "      <th>keywords</th>\n",
       "    </tr>\n",
       "  </thead>\n",
       "  <tbody>\n",
       "    <tr>\n",
       "      <th>0</th>\n",
       "      <td>6523</td>\n",
       "      <td>00A</td>\n",
       "      <td>heliport</td>\n",
       "      <td>Total RF Heliport</td>\n",
       "      <td>40.070985</td>\n",
       "      <td>-74.933689</td>\n",
       "      <td>11.0</td>\n",
       "      <td>NaN</td>\n",
       "      <td>US</td>\n",
       "      <td>US-PA</td>\n",
       "      <td>Bensalem</td>\n",
       "      <td>no</td>\n",
       "      <td>K00A</td>\n",
       "      <td>NaN</td>\n",
       "      <td>00A</td>\n",
       "      <td>https://www.penndot.pa.gov/TravelInPA/airports...</td>\n",
       "      <td>NaN</td>\n",
       "      <td>NaN</td>\n",
       "    </tr>\n",
       "    <tr>\n",
       "      <th>1</th>\n",
       "      <td>323361</td>\n",
       "      <td>00AA</td>\n",
       "      <td>small_airport</td>\n",
       "      <td>Aero B Ranch Airport</td>\n",
       "      <td>38.704022</td>\n",
       "      <td>-101.473911</td>\n",
       "      <td>3435.0</td>\n",
       "      <td>NaN</td>\n",
       "      <td>US</td>\n",
       "      <td>US-KS</td>\n",
       "      <td>Leoti</td>\n",
       "      <td>no</td>\n",
       "      <td>00AA</td>\n",
       "      <td>NaN</td>\n",
       "      <td>00AA</td>\n",
       "      <td>NaN</td>\n",
       "      <td>NaN</td>\n",
       "      <td>NaN</td>\n",
       "    </tr>\n",
       "    <tr>\n",
       "      <th>2</th>\n",
       "      <td>6524</td>\n",
       "      <td>00AK</td>\n",
       "      <td>small_airport</td>\n",
       "      <td>Lowell Field</td>\n",
       "      <td>59.947733</td>\n",
       "      <td>-151.692524</td>\n",
       "      <td>450.0</td>\n",
       "      <td>NaN</td>\n",
       "      <td>US</td>\n",
       "      <td>US-AK</td>\n",
       "      <td>Anchor Point</td>\n",
       "      <td>no</td>\n",
       "      <td>00AK</td>\n",
       "      <td>NaN</td>\n",
       "      <td>00AK</td>\n",
       "      <td>NaN</td>\n",
       "      <td>NaN</td>\n",
       "      <td>NaN</td>\n",
       "    </tr>\n",
       "    <tr>\n",
       "      <th>3</th>\n",
       "      <td>6525</td>\n",
       "      <td>00AL</td>\n",
       "      <td>small_airport</td>\n",
       "      <td>Epps Airpark</td>\n",
       "      <td>34.864799</td>\n",
       "      <td>-86.770302</td>\n",
       "      <td>820.0</td>\n",
       "      <td>NaN</td>\n",
       "      <td>US</td>\n",
       "      <td>US-AL</td>\n",
       "      <td>Harvest</td>\n",
       "      <td>no</td>\n",
       "      <td>00AL</td>\n",
       "      <td>NaN</td>\n",
       "      <td>00AL</td>\n",
       "      <td>NaN</td>\n",
       "      <td>NaN</td>\n",
       "      <td>NaN</td>\n",
       "    </tr>\n",
       "    <tr>\n",
       "      <th>4</th>\n",
       "      <td>506791</td>\n",
       "      <td>00AN</td>\n",
       "      <td>small_airport</td>\n",
       "      <td>Katmai Lodge Airport</td>\n",
       "      <td>59.093287</td>\n",
       "      <td>-156.456699</td>\n",
       "      <td>80.0</td>\n",
       "      <td>NaN</td>\n",
       "      <td>US</td>\n",
       "      <td>US-AK</td>\n",
       "      <td>King Salmon</td>\n",
       "      <td>no</td>\n",
       "      <td>00AN</td>\n",
       "      <td>NaN</td>\n",
       "      <td>00AN</td>\n",
       "      <td>NaN</td>\n",
       "      <td>NaN</td>\n",
       "      <td>NaN</td>\n",
       "    </tr>\n",
       "    <tr>\n",
       "      <th>...</th>\n",
       "      <td>...</td>\n",
       "      <td>...</td>\n",
       "      <td>...</td>\n",
       "      <td>...</td>\n",
       "      <td>...</td>\n",
       "      <td>...</td>\n",
       "      <td>...</td>\n",
       "      <td>...</td>\n",
       "      <td>...</td>\n",
       "      <td>...</td>\n",
       "      <td>...</td>\n",
       "      <td>...</td>\n",
       "      <td>...</td>\n",
       "      <td>...</td>\n",
       "      <td>...</td>\n",
       "      <td>...</td>\n",
       "      <td>...</td>\n",
       "      <td>...</td>\n",
       "    </tr>\n",
       "    <tr>\n",
       "      <th>78148</th>\n",
       "      <td>46378</td>\n",
       "      <td>ZZ-0001</td>\n",
       "      <td>heliport</td>\n",
       "      <td>Sealand Helipad</td>\n",
       "      <td>51.894444</td>\n",
       "      <td>1.482500</td>\n",
       "      <td>40.0</td>\n",
       "      <td>EU</td>\n",
       "      <td>GB</td>\n",
       "      <td>GB-ENG</td>\n",
       "      <td>Sealand</td>\n",
       "      <td>no</td>\n",
       "      <td>NaN</td>\n",
       "      <td>NaN</td>\n",
       "      <td>NaN</td>\n",
       "      <td>http://www.sealandgov.org/</td>\n",
       "      <td>https://en.wikipedia.org/wiki/Principality_of_...</td>\n",
       "      <td>Roughs Tower Helipad</td>\n",
       "    </tr>\n",
       "    <tr>\n",
       "      <th>78149</th>\n",
       "      <td>307326</td>\n",
       "      <td>ZZ-0002</td>\n",
       "      <td>small_airport</td>\n",
       "      <td>Glorioso Islands Airstrip</td>\n",
       "      <td>-11.584278</td>\n",
       "      <td>47.296389</td>\n",
       "      <td>11.0</td>\n",
       "      <td>AF</td>\n",
       "      <td>TF</td>\n",
       "      <td>TF-U-A</td>\n",
       "      <td>Grande Glorieuse</td>\n",
       "      <td>no</td>\n",
       "      <td>NaN</td>\n",
       "      <td>NaN</td>\n",
       "      <td>NaN</td>\n",
       "      <td>NaN</td>\n",
       "      <td>NaN</td>\n",
       "      <td>NaN</td>\n",
       "    </tr>\n",
       "    <tr>\n",
       "      <th>78150</th>\n",
       "      <td>346788</td>\n",
       "      <td>ZZ-0003</td>\n",
       "      <td>small_airport</td>\n",
       "      <td>Fainting Goat Airport</td>\n",
       "      <td>32.110587</td>\n",
       "      <td>-97.356312</td>\n",
       "      <td>690.0</td>\n",
       "      <td>NaN</td>\n",
       "      <td>US</td>\n",
       "      <td>US-TX</td>\n",
       "      <td>Blum</td>\n",
       "      <td>no</td>\n",
       "      <td>87TX</td>\n",
       "      <td>NaN</td>\n",
       "      <td>87TX</td>\n",
       "      <td>NaN</td>\n",
       "      <td>NaN</td>\n",
       "      <td>NaN</td>\n",
       "    </tr>\n",
       "    <tr>\n",
       "      <th>78151</th>\n",
       "      <td>342102</td>\n",
       "      <td>ZZZW</td>\n",
       "      <td>closed</td>\n",
       "      <td>Scandium City Heliport</td>\n",
       "      <td>69.355287</td>\n",
       "      <td>-138.939310</td>\n",
       "      <td>4.0</td>\n",
       "      <td>NaN</td>\n",
       "      <td>CA</td>\n",
       "      <td>CA-YT</td>\n",
       "      <td>(Old) Scandium City</td>\n",
       "      <td>no</td>\n",
       "      <td>NaN</td>\n",
       "      <td>NaN</td>\n",
       "      <td>NaN</td>\n",
       "      <td>NaN</td>\n",
       "      <td>NaN</td>\n",
       "      <td>ZZZW, ZZZW, ZYW, YK96</td>\n",
       "    </tr>\n",
       "    <tr>\n",
       "      <th>78152</th>\n",
       "      <td>313629</td>\n",
       "      <td>ZZZZ</td>\n",
       "      <td>small_airport</td>\n",
       "      <td>Satsuma Iōjima Airport</td>\n",
       "      <td>30.784722</td>\n",
       "      <td>130.270556</td>\n",
       "      <td>338.0</td>\n",
       "      <td>AS</td>\n",
       "      <td>JP</td>\n",
       "      <td>JP-46</td>\n",
       "      <td>Mishima</td>\n",
       "      <td>no</td>\n",
       "      <td>RJX7</td>\n",
       "      <td>NaN</td>\n",
       "      <td>RJX7</td>\n",
       "      <td>NaN</td>\n",
       "      <td>http://wikimapia.org/6705190/Satsuma-Iwo-jima-...</td>\n",
       "      <td>SATSUMA,IWOJIMA,RJX7</td>\n",
       "    </tr>\n",
       "  </tbody>\n",
       "</table>\n",
       "<p>78153 rows × 18 columns</p>\n",
       "</div>"
      ],
      "text/plain": [
       "           id    ident           type                       name  \\\n",
       "0        6523      00A       heliport          Total RF Heliport   \n",
       "1      323361     00AA  small_airport       Aero B Ranch Airport   \n",
       "2        6524     00AK  small_airport               Lowell Field   \n",
       "3        6525     00AL  small_airport               Epps Airpark   \n",
       "4      506791     00AN  small_airport       Katmai Lodge Airport   \n",
       "...       ...      ...            ...                        ...   \n",
       "78148   46378  ZZ-0001       heliport            Sealand Helipad   \n",
       "78149  307326  ZZ-0002  small_airport  Glorioso Islands Airstrip   \n",
       "78150  346788  ZZ-0003  small_airport      Fainting Goat Airport   \n",
       "78151  342102     ZZZW         closed     Scandium City Heliport   \n",
       "78152  313629     ZZZZ  small_airport     Satsuma Iōjima Airport   \n",
       "\n",
       "       latitude_deg  longitude_deg  elevation_ft continent iso_country  \\\n",
       "0         40.070985     -74.933689          11.0       NaN          US   \n",
       "1         38.704022    -101.473911        3435.0       NaN          US   \n",
       "2         59.947733    -151.692524         450.0       NaN          US   \n",
       "3         34.864799     -86.770302         820.0       NaN          US   \n",
       "4         59.093287    -156.456699          80.0       NaN          US   \n",
       "...             ...            ...           ...       ...         ...   \n",
       "78148     51.894444       1.482500          40.0        EU          GB   \n",
       "78149    -11.584278      47.296389          11.0        AF          TF   \n",
       "78150     32.110587     -97.356312         690.0       NaN          US   \n",
       "78151     69.355287    -138.939310           4.0       NaN          CA   \n",
       "78152     30.784722     130.270556         338.0        AS          JP   \n",
       "\n",
       "      iso_region         municipality scheduled_service gps_code iata_code  \\\n",
       "0          US-PA             Bensalem                no     K00A       NaN   \n",
       "1          US-KS                Leoti                no     00AA       NaN   \n",
       "2          US-AK         Anchor Point                no     00AK       NaN   \n",
       "3          US-AL              Harvest                no     00AL       NaN   \n",
       "4          US-AK          King Salmon                no     00AN       NaN   \n",
       "...          ...                  ...               ...      ...       ...   \n",
       "78148     GB-ENG              Sealand                no      NaN       NaN   \n",
       "78149     TF-U-A     Grande Glorieuse                no      NaN       NaN   \n",
       "78150      US-TX                 Blum                no     87TX       NaN   \n",
       "78151      CA-YT  (Old) Scandium City                no      NaN       NaN   \n",
       "78152      JP-46              Mishima                no     RJX7       NaN   \n",
       "\n",
       "      local_code                                          home_link  \\\n",
       "0            00A  https://www.penndot.pa.gov/TravelInPA/airports...   \n",
       "1           00AA                                                NaN   \n",
       "2           00AK                                                NaN   \n",
       "3           00AL                                                NaN   \n",
       "4           00AN                                                NaN   \n",
       "...          ...                                                ...   \n",
       "78148        NaN                         http://www.sealandgov.org/   \n",
       "78149        NaN                                                NaN   \n",
       "78150       87TX                                                NaN   \n",
       "78151        NaN                                                NaN   \n",
       "78152       RJX7                                                NaN   \n",
       "\n",
       "                                          wikipedia_link  \\\n",
       "0                                                    NaN   \n",
       "1                                                    NaN   \n",
       "2                                                    NaN   \n",
       "3                                                    NaN   \n",
       "4                                                    NaN   \n",
       "...                                                  ...   \n",
       "78148  https://en.wikipedia.org/wiki/Principality_of_...   \n",
       "78149                                                NaN   \n",
       "78150                                                NaN   \n",
       "78151                                                NaN   \n",
       "78152  http://wikimapia.org/6705190/Satsuma-Iwo-jima-...   \n",
       "\n",
       "                    keywords  \n",
       "0                        NaN  \n",
       "1                        NaN  \n",
       "2                        NaN  \n",
       "3                        NaN  \n",
       "4                        NaN  \n",
       "...                      ...  \n",
       "78148   Roughs Tower Helipad  \n",
       "78149                    NaN  \n",
       "78150                    NaN  \n",
       "78151  ZZZW, ZZZW, ZYW, YK96  \n",
       "78152   SATSUMA,IWOJIMA,RJX7  \n",
       "\n",
       "[78153 rows x 18 columns]"
      ]
     },
     "execution_count": 12,
     "metadata": {},
     "output_type": "execute_result"
    }
   ],
   "source": [
    "iata_codes_country"
   ]
  },
  {
   "attachments": {},
   "cell_type": "markdown",
   "metadata": {},
   "source": [
    "### Adding country code for each city (arrival & departure) and their geo-coordinates(longitude & latitude)"
   ]
  },
  {
   "cell_type": "code",
   "execution_count": 13,
   "metadata": {},
   "outputs": [
    {
     "name": "stdout",
     "output_type": "stream",
     "text": [
      "            route  flight_time departure airport arrival airport  \\\n",
      "0  {'AAL', 'AMS'}    85.000000               AAL             AMS   \n",
      "1  {'AMS', 'ABZ'}    85.000000               AMS             ABZ   \n",
      "2  {'ABZ', 'LGW'}    95.000000               ABZ             LGW   \n",
      "3  {'AER', 'DME'}   215.000000               AER             DME   \n",
      "4  {'AER', 'SVO'}   225.833333               AER             SVO   \n",
      "\n",
      "  departure city     arrival city      city1      city2  train_distance  \\\n",
      "0        Aalborg        Amsterdam    Aalborg  Amsterdam         1027798   \n",
      "1      Amsterdam         Aberdeen  Amsterdam   Aberdeen         1380434   \n",
      "2       Aberdeen  Gatwick, Surrey   Aberdeen    Gatwick          895395   \n",
      "3          Sochi           Moscow      Sochi     Moscow         2919260   \n",
      "4          Sochi           Moscow      Sochi     Moscow         2919260   \n",
      "\n",
      "   train_time  dep_latitude_deg  dep_longitude_deg dep_iso_country  \\\n",
      "0       970.0         57.094763            9.84993              DK   \n",
      "1      1084.0         52.308601            4.76389              NL   \n",
      "2       662.0         57.201900           -2.19778              GB   \n",
      "3      1724.0         43.449902           39.95660              RU   \n",
      "4      1724.0         43.449902           39.95660              RU   \n",
      "\n",
      "   arr_latitude_deg  arr_longitude_deg arr_iso_country  \n",
      "0         52.308601           4.763890              NL  \n",
      "1         57.201900          -2.197780              GB  \n",
      "2         51.148771          -0.192089              GB  \n",
      "3         55.408798          37.906300              RU  \n",
      "4         55.972599          37.414600              RU  \n"
     ]
    }
   ],
   "source": [
    "merged_departure = pd.merge(filtered_data, iata_codes_country, left_on='departure airport', right_on='iata_code', how='left')\n",
    "\n",
    "# Rename columns from the first merge\n",
    "merged_departure.rename(columns={'latitude_deg': 'dep_latitude_deg', 'longitude_deg': 'dep_longitude_deg', 'iso_country': 'dep_iso_country'}, inplace=True)\n",
    "\n",
    "# Drop extra columns after the first merge\n",
    "columns_to_drop_first_merge = ['id', 'ident', 'type', 'name', 'elevation_ft', 'continent', 'iso_region', 'municipality', 'scheduled_service', 'gps_code', 'iata_code', 'local_code', 'home_link', 'wikipedia_link', 'keywords']\n",
    "merged_departure.drop(columns_to_drop_first_merge, axis=1, inplace=True)\n",
    "\n",
    "# Second, merge for arrival airport\n",
    "merged_data = pd.merge(merged_departure, iata_codes_country, left_on='arrival airport', right_on='iata_code', how='left')\n",
    "\n",
    "# Rename columns from the second merge\n",
    "merged_data.rename(columns={'latitude_deg': 'arr_latitude_deg', 'longitude_deg': 'arr_longitude_deg', 'iso_country': 'arr_iso_country'}, inplace=True)\n",
    "\n",
    "# Drop extra columns after the second merge\n",
    "columns_to_drop_second_merge = ['id', 'ident', 'type', 'name', 'elevation_ft', 'continent', 'iso_region', 'municipality', 'scheduled_service', 'gps_code', 'iata_code', 'local_code', 'home_link', 'wikipedia_link', 'keywords']\n",
    "merged_data.drop(columns_to_drop_second_merge, axis=1, inplace=True)\n",
    "\n",
    "\n",
    "print(merged_data.head())"
   ]
  },
  {
   "cell_type": "code",
   "execution_count": 44,
   "metadata": {},
   "outputs": [
    {
     "data": {
      "text/html": [
       "<div>\n",
       "<style scoped>\n",
       "    .dataframe tbody tr th:only-of-type {\n",
       "        vertical-align: middle;\n",
       "    }\n",
       "\n",
       "    .dataframe tbody tr th {\n",
       "        vertical-align: top;\n",
       "    }\n",
       "\n",
       "    .dataframe thead th {\n",
       "        text-align: right;\n",
       "    }\n",
       "</style>\n",
       "<table border=\"1\" class=\"dataframe\">\n",
       "  <thead>\n",
       "    <tr style=\"text-align: right;\">\n",
       "      <th></th>\n",
       "      <th>flight_time</th>\n",
       "      <th>train_distance</th>\n",
       "      <th>train_time</th>\n",
       "      <th>dep_latitude_deg</th>\n",
       "      <th>dep_longitude_deg</th>\n",
       "      <th>arr_latitude_deg</th>\n",
       "      <th>arr_longitude_deg</th>\n",
       "      <th>train_time_hours</th>\n",
       "      <th>flight_time_plus_60</th>\n",
       "      <th>flight_time_hours_with_extra</th>\n",
       "    </tr>\n",
       "  </thead>\n",
       "  <tbody>\n",
       "    <tr>\n",
       "      <th>count</th>\n",
       "      <td>1122.000000</td>\n",
       "      <td>1.122000e+03</td>\n",
       "      <td>1122.000000</td>\n",
       "      <td>1122.000000</td>\n",
       "      <td>1122.000000</td>\n",
       "      <td>1122.000000</td>\n",
       "      <td>1122.000000</td>\n",
       "      <td>1122.000000</td>\n",
       "      <td>1122.000000</td>\n",
       "      <td>1122.000000</td>\n",
       "    </tr>\n",
       "    <tr>\n",
       "      <th>mean</th>\n",
       "      <td>121.597074</td>\n",
       "      <td>1.607852e+06</td>\n",
       "      <td>1233.580778</td>\n",
       "      <td>48.758990</td>\n",
       "      <td>12.108577</td>\n",
       "      <td>48.681017</td>\n",
       "      <td>11.378098</td>\n",
       "      <td>20.559680</td>\n",
       "      <td>181.597074</td>\n",
       "      <td>3.026618</td>\n",
       "    </tr>\n",
       "    <tr>\n",
       "      <th>std</th>\n",
       "      <td>48.149078</td>\n",
       "      <td>9.920947e+05</td>\n",
       "      <td>714.170152</td>\n",
       "      <td>6.518959</td>\n",
       "      <td>13.381860</td>\n",
       "      <td>7.196403</td>\n",
       "      <td>12.785169</td>\n",
       "      <td>11.902836</td>\n",
       "      <td>48.149078</td>\n",
       "      <td>0.802485</td>\n",
       "    </tr>\n",
       "    <tr>\n",
       "      <th>min</th>\n",
       "      <td>10.000000</td>\n",
       "      <td>5.296600e+04</td>\n",
       "      <td>79.000000</td>\n",
       "      <td>36.674900</td>\n",
       "      <td>-9.135920</td>\n",
       "      <td>36.151199</td>\n",
       "      <td>-9.355230</td>\n",
       "      <td>1.316667</td>\n",
       "      <td>70.000000</td>\n",
       "      <td>1.166667</td>\n",
       "    </tr>\n",
       "    <tr>\n",
       "      <th>25%</th>\n",
       "      <td>85.000000</td>\n",
       "      <td>8.403885e+05</td>\n",
       "      <td>702.025000</td>\n",
       "      <td>43.472151</td>\n",
       "      <td>2.078460</td>\n",
       "      <td>43.192050</td>\n",
       "      <td>2.078460</td>\n",
       "      <td>11.700417</td>\n",
       "      <td>145.000000</td>\n",
       "      <td>2.416667</td>\n",
       "    </tr>\n",
       "    <tr>\n",
       "      <th>50%</th>\n",
       "      <td>117.500000</td>\n",
       "      <td>1.500930e+06</td>\n",
       "      <td>1121.000000</td>\n",
       "      <td>49.476549</td>\n",
       "      <td>11.100400</td>\n",
       "      <td>48.689899</td>\n",
       "      <td>9.709223</td>\n",
       "      <td>18.683333</td>\n",
       "      <td>177.500000</td>\n",
       "      <td>2.958333</td>\n",
       "    </tr>\n",
       "    <tr>\n",
       "      <th>75%</th>\n",
       "      <td>155.000000</td>\n",
       "      <td>2.156265e+06</td>\n",
       "      <td>1594.250000</td>\n",
       "      <td>52.308601</td>\n",
       "      <td>19.720600</td>\n",
       "      <td>52.453899</td>\n",
       "      <td>18.466200</td>\n",
       "      <td>26.570833</td>\n",
       "      <td>215.000000</td>\n",
       "      <td>3.583333</td>\n",
       "    </tr>\n",
       "    <tr>\n",
       "      <th>max</th>\n",
       "      <td>325.000000</td>\n",
       "      <td>9.959629e+06</td>\n",
       "      <td>6003.000000</td>\n",
       "      <td>69.725800</td>\n",
       "      <td>92.492437</td>\n",
       "      <td>70.065300</td>\n",
       "      <td>92.492437</td>\n",
       "      <td>100.050000</td>\n",
       "      <td>385.000000</td>\n",
       "      <td>6.416667</td>\n",
       "    </tr>\n",
       "  </tbody>\n",
       "</table>\n",
       "</div>"
      ],
      "text/plain": [
       "       flight_time  train_distance   train_time  dep_latitude_deg  \\\n",
       "count  1122.000000    1.122000e+03  1122.000000       1122.000000   \n",
       "mean    121.597074    1.607852e+06  1233.580778         48.758990   \n",
       "std      48.149078    9.920947e+05   714.170152          6.518959   \n",
       "min      10.000000    5.296600e+04    79.000000         36.674900   \n",
       "25%      85.000000    8.403885e+05   702.025000         43.472151   \n",
       "50%     117.500000    1.500930e+06  1121.000000         49.476549   \n",
       "75%     155.000000    2.156265e+06  1594.250000         52.308601   \n",
       "max     325.000000    9.959629e+06  6003.000000         69.725800   \n",
       "\n",
       "       dep_longitude_deg  arr_latitude_deg  arr_longitude_deg  \\\n",
       "count        1122.000000       1122.000000        1122.000000   \n",
       "mean           12.108577         48.681017          11.378098   \n",
       "std            13.381860          7.196403          12.785169   \n",
       "min            -9.135920         36.151199          -9.355230   \n",
       "25%             2.078460         43.192050           2.078460   \n",
       "50%            11.100400         48.689899           9.709223   \n",
       "75%            19.720600         52.453899          18.466200   \n",
       "max            92.492437         70.065300          92.492437   \n",
       "\n",
       "       train_time_hours  flight_time_plus_60  flight_time_hours_with_extra  \n",
       "count       1122.000000          1122.000000                   1122.000000  \n",
       "mean          20.559680           181.597074                      3.026618  \n",
       "std           11.902836            48.149078                      0.802485  \n",
       "min            1.316667            70.000000                      1.166667  \n",
       "25%           11.700417           145.000000                      2.416667  \n",
       "50%           18.683333           177.500000                      2.958333  \n",
       "75%           26.570833           215.000000                      3.583333  \n",
       "max          100.050000           385.000000                      6.416667  "
      ]
     },
     "execution_count": 44,
     "metadata": {},
     "output_type": "execute_result"
    }
   ],
   "source": [
    "merged_data.describe()"
   ]
  },
  {
   "attachments": {},
   "cell_type": "markdown",
   "metadata": {},
   "source": [
    "# Statistical Analysis"
   ]
  },
  {
   "cell_type": "code",
   "execution_count": 45,
   "metadata": {},
   "outputs": [
    {
     "name": "stdout",
     "output_type": "stream",
     "text": [
      "<class 'pandas.core.frame.DataFrame'>\n",
      "Int64Index: 1122 entries, 0 to 1121\n",
      "Data columns (total 19 columns):\n",
      " #   Column                        Non-Null Count  Dtype  \n",
      "---  ------                        --------------  -----  \n",
      " 0   route                         1122 non-null   object \n",
      " 1   flight_time                   1122 non-null   float64\n",
      " 2   departure airport             1122 non-null   object \n",
      " 3   arrival airport               1122 non-null   object \n",
      " 4   departure city                1122 non-null   object \n",
      " 5   arrival city                  1122 non-null   object \n",
      " 6   city1                         1122 non-null   object \n",
      " 7   city2                         1122 non-null   object \n",
      " 8   train_distance                1122 non-null   int64  \n",
      " 9   train_time                    1122 non-null   float64\n",
      " 10  dep_latitude_deg              1122 non-null   float64\n",
      " 11  dep_longitude_deg             1122 non-null   float64\n",
      " 12  dep_iso_country               1122 non-null   object \n",
      " 13  arr_latitude_deg              1122 non-null   float64\n",
      " 14  arr_longitude_deg             1122 non-null   float64\n",
      " 15  arr_iso_country               1122 non-null   object \n",
      " 16  train_time_hours              1122 non-null   float64\n",
      " 17  flight_time_plus_60           1122 non-null   float64\n",
      " 18  flight_time_hours_with_extra  1122 non-null   float64\n",
      "dtypes: float64(9), int64(1), object(9)\n",
      "memory usage: 175.3+ KB\n"
     ]
    }
   ],
   "source": [
    "merged_data.info()"
   ]
  },
  {
   "cell_type": "code",
   "execution_count": 47,
   "metadata": {},
   "outputs": [
    {
     "data": {
      "text/plain": [
       "route                           1122\n",
       "flight_time                     1122\n",
       "departure airport               1122\n",
       "arrival airport                 1122\n",
       "departure city                  1122\n",
       "arrival city                    1122\n",
       "city1                           1122\n",
       "city2                           1122\n",
       "train_distance                  1122\n",
       "train_time                      1122\n",
       "dep_latitude_deg                1122\n",
       "dep_longitude_deg               1122\n",
       "dep_iso_country                 1122\n",
       "arr_latitude_deg                1122\n",
       "arr_longitude_deg               1122\n",
       "arr_iso_country                 1122\n",
       "train_time_hours                1122\n",
       "flight_time_plus_60             1122\n",
       "flight_time_hours_with_extra    1122\n",
       "dtype: int64"
      ]
     },
     "execution_count": 47,
     "metadata": {},
     "output_type": "execute_result"
    }
   ],
   "source": [
    "merged_data.isna()"
   ]
  },
  {
   "cell_type": "code",
   "execution_count": 14,
   "metadata": {},
   "outputs": [
    {
     "name": "stdout",
     "output_type": "stream",
     "text": [
      "            Statistic  Flight Time (hours)  Flight Time (min)  \\\n",
      "0                Mean             2.026618         121.597074   \n",
      "1              Median             1.958333         117.500000   \n",
      "2  Standard Deviation             0.802485          48.149078   \n",
      "\n",
      "   Train Time (hours)  Train Time (min)  \n",
      "0           20.559680       1233.580778  \n",
      "1           18.683333       1121.000000  \n",
      "2           11.902836        714.170152  \n"
     ]
    }
   ],
   "source": [
    "mean_flight_time = merged_data['flight_time'].mean()\n",
    "mean_train_time = merged_data['train_time'].mean()\n",
    "\n",
    "median_flight_time = merged_data['flight_time'].median()\n",
    "median_train_time = merged_data['train_time'].median()\n",
    "\n",
    "std_flight_time = merged_data['flight_time'].std()\n",
    "std_train_time = merged_data['train_time'].std()\n",
    "\n",
    "\n",
    "summary_data = {\n",
    "    \"Statistic\": [\"Mean\", \"Median\", \"Standard Deviation\"],\n",
    "    \"Flight Time (hours)\": [mean_flight_time / 60, median_flight_time / 60, std_flight_time / 60],\n",
    "    \"Flight Time (min)\": [mean_flight_time, median_flight_time, std_flight_time],\n",
    "    \"Train Time (hours)\": [mean_train_time / 60, median_train_time / 60, std_train_time / 60],\n",
    "    \"Train Time (min)\": [mean_train_time, median_train_time, std_train_time]\n",
    "}\n",
    "\n",
    "summary_df = pd.DataFrame(summary_data)\n",
    "\n",
    "print(summary_df)"
   ]
  },
  {
   "cell_type": "markdown",
   "metadata": {},
   "source": []
  },
  {
   "cell_type": "code",
   "execution_count": 30,
   "metadata": {},
   "outputs": [
    {
     "data": {
      "application/vnd.plotly.v1+json": {
       "config": {
        "plotlyServerURL": "https://plot.ly"
       },
       "data": [
        {
         "customdata": [
          [
           "Aalborg",
           "Amsterdam"
          ],
          [
           "Amsterdam",
           "Aberdeen"
          ],
          [
           "Aberdeen",
           "Gatwick"
          ],
          [
           "Sochi",
           "Moscow"
          ],
          [
           "Sochi",
           "Moscow"
          ],
          [
           "Sochi",
           "Moscow"
          ],
          [
           "Sochi",
           "Moscow"
          ],
          [
           "Sochi",
           "Krasnoyarsk"
          ],
          [
           "Sochi",
           "Kazan"
          ],
          [
           "Sochi",
           "St. Petersburg"
          ],
          [
           "Sochi",
           "Perm"
          ],
          [
           "Sochi",
           "Pskov"
          ],
          [
           "Alesund",
           "Bergen"
          ],
          [
           "Barcelona",
           "Malaga"
          ],
          [
           "Bordeaux",
           "Malaga"
          ],
          [
           "Gothenburg",
           "Malaga"
          ],
          [
           "Hamburg",
           "Malaga"
          ],
          [
           "Gatwick",
           "Malaga"
          ],
          [
           "Madrid",
           "Malaga"
          ],
          [
           "Alghero",
           "Orio al Serio"
          ],
          [
           "Alghero",
           "Rome"
          ],
          [
           "Alghero",
           "Segrate"
          ],
          [
           "Ajaccio",
           "Marseille"
          ],
          [
           "Ajaccio",
           "Nice"
          ],
          [
           "Ajaccio",
           "Paris"
          ],
          [
           "Alicante",
           "Barcelona"
          ],
          [
           "Orio al Serio",
           "Alicante"
          ],
          [
           "Alicante",
           "Birmingham"
          ],
          [
           "Bristol",
           "Alicante"
          ],
          [
           "Alicante",
           "Zaventem"
          ],
          [
           "Alicante",
           "Gdansk"
          ],
          [
           "Alicante",
           "Hamburg"
          ],
          [
           "Alicante",
           "Gatwick"
          ],
          [
           "Alicante",
           "Madrid"
          ],
          [
           "Alicante",
           "Maastricht"
          ],
          [
           "Alicante",
           "Warsaw"
          ],
          [
           "Aberdeen",
           "Amsterdam"
          ],
          [
           "Amsterdam",
           "Malaga"
          ],
          [
           "Amsterdam",
           "Alicante"
          ],
          [
           "Amsterdam",
           "Stockholm"
          ],
          [
           "Spata",
           "Amsterdam"
          ],
          [
           "Amsterdam",
           "Barcelona"
          ],
          [
           "Amsterdam",
           "Bergen"
          ],
          [
           "Amsterdam",
           "Birmingham"
          ],
          [
           "Amsterdam",
           "Billund"
          ],
          [
           "Amsterdam",
           "Burgas"
          ],
          [
           "Amsterdam",
           "Bristol"
          ],
          [
           "Amsterdam",
           "Paris"
          ],
          [
           "Amsterdam",
           "Cardiff"
          ],
          [
           "Amsterdam",
           "Firenze"
          ],
          [
           "Amsterdam",
           "Gdansk"
          ],
          [
           "Amsterdam",
           "Geneva"
          ],
          [
           "Amsterdam",
           "Hamburg"
          ],
          [
           "Amsterdam",
           "Helsinki"
          ],
          [
           "Amsterdam",
           "Gatwick"
          ],
          [
           "Luton",
           "Amsterdam"
          ],
          [
           "Amsterdam",
           "Munich"
          ],
          [
           "Amsterdam",
           "Norwich"
          ],
          [
           "Amsterdam",
           "Otopeni"
          ],
          [
           "Amsterdam",
           "Prague"
          ],
          [
           "Amsterdam",
           "Rovaniemi"
          ],
          [
           "Amsterdam",
           "Southampton"
          ],
          [
           "Amsterdam",
           "Valencia"
          ],
          [
           "Andenes",
           "Evenes"
          ],
          [
           "Andenes",
           "Tromso"
          ],
          [
           "Arkhangelsk",
           "St. Petersburg"
          ],
          [
           "Stockholm",
           "Malaga"
          ],
          [
           "Orio al Serio",
           "Stockholm"
          ],
          [
           "Stockholm",
           "Gothenburg"
          ],
          [
           "Helsinki",
           "Stockholm"
          ],
          [
           "Munich",
           "Stockholm"
          ],
          [
           "Stockholm",
           "Poznan"
          ],
          [
           "Astrakhan",
           "Moscow"
          ],
          [
           "Spata",
           "Alexandroupolis"
          ],
          [
           "Spata",
           "Barcelona"
          ],
          [
           "Spata",
           "Bologna"
          ],
          [
           "Spata",
           "Zaventem"
          ],
          [
           "Spata",
           "Paris"
          ],
          [
           "Spata",
           "Geneva"
          ],
          [
           "Kavala",
           "Spata"
          ],
          [
           "Spata",
           "Gatwick"
          ],
          [
           "Spata",
           "Madrid"
          ],
          [
           "Spata",
           "Otopeni"
          ],
          [
           "Spata",
           "Thessaloniki"
          ],
          [
           "Spata",
           "Zurich"
          ],
          [
           "Malaga",
           "Barcelona"
          ],
          [
           "Bologna",
           "Barcelona"
          ],
          [
           "Zaventem",
           "Barcelona"
          ],
          [
           "Charleroi",
           "Barcelona"
          ],
          [
           "Genova",
           "Barcelona"
          ],
          [
           "Gothenburg",
           "Barcelona"
          ],
          [
           "Gatwick",
           "Barcelona"
          ],
          [
           "Maastricht",
           "Barcelona"
          ],
          [
           "Brindisi",
           "Orio al Serio"
          ],
          [
           "Brindisi",
           "Bologna"
          ],
          [
           "Belgrade",
           "Barcelona"
          ],
          [
           "Belgrade",
           "Budapest"
          ],
          [
           "Belgrade",
           "Tille"
          ],
          [
           "Belgrade",
           "Paris"
          ],
          [
           "Belgrade",
           "Nis"
          ],
          [
           "Belgrade",
           "St. Petersburg"
          ],
          [
           "Belgrade",
           "Lisbon"
          ],
          [
           "Belgrade",
           "Oslo"
          ],
          [
           "Belgrade",
           "Moscow"
          ],
          [
           "Belgrade",
           "Podgorica"
          ],
          [
           "Belgrade",
           "Vienna"
          ],
          [
           "Belgrade",
           "Warsaw"
          ],
          [
           "Belgrade",
           "Zurich"
          ],
          [
           "Belfast",
           "Alicante"
          ],
          [
           "Belfast",
           "Birmingham"
          ],
          [
           "Belfast",
           "Birmingham"
          ],
          [
           "Belfast",
           "Geneva"
          ],
          [
           "Braganca",
           "Vila Real"
          ],
          [
           "Malaga",
           "Bergen"
          ],
          [
           "Orio al Serio",
           "Malaga"
          ],
          [
           "Alicante",
           "Orio al Serio"
          ],
          [
           "Stockholm",
           "Orio al Serio"
          ],
          [
           "Orio al Serio",
           "Barcelona"
          ],
          [
           "Bristol",
           "Orio al Serio"
          ],
          [
           "Tille",
           "Orio al Serio"
          ],
          [
           "Orio al Serio",
           "Cagliari"
          ],
          [
           "Orio al Serio",
           "Charleroi"
          ],
          [
           "Orio al Serio",
           "Iasi"
          ],
          [
           "Orio al Serio",
           "Otopeni"
          ],
          [
           "Pescara",
           "Orio al Serio"
          ],
          [
           "Orio al Serio",
           "Lamezia Terme"
          ],
          [
           "Orio al Serio",
           "Valencia"
          ],
          [
           "Belfast",
           "Amsterdam"
          ],
          [
           "Belfast",
           "Gatwick"
          ],
          [
           "Belfast",
           "London"
          ],
          [
           "Belfast",
           "Manchester"
          ],
          [
           "Birmingham",
           "Malaga"
          ],
          [
           "Birmingham",
           "Barcelona"
          ],
          [
           "Birmingham",
           "Craiova"
          ],
          [
           "Birmingham",
           "Otopeni"
          ],
          [
           "Birmingham",
           "Poznan"
          ],
          [
           "Birmingham",
           "Valencia"
          ],
          [
           "Bilbao",
           "Amsterdam"
          ],
          [
           "Bilbao",
           "Barcelona"
          ],
          [
           "Bilbao",
           "Paris"
          ],
          [
           "Bilbao",
           "Gatwick"
          ],
          [
           "Bilbao",
           "Madrid"
          ],
          [
           "Bilbao",
           "Munich"
          ],
          [
           "Gdansk",
           "Billund"
          ],
          [
           "Otopeni",
           "Billund"
          ],
          [
           "Bronnoy",
           "Bodo"
          ],
          [
           "Bronnoy",
           "Trondheim"
          ],
          [
           "Banja Luka",
           "Gothenburg"
          ],
          [
           "Barcelona",
           "Bordeaux"
          ],
          [
           "Bournemouth",
           "Malaga"
          ],
          [
           "Bodo",
           "Leknes"
          ],
          [
           "Bodo",
           "Mosjoen"
          ],
          [
           "Bremen",
           "Munich"
          ],
          [
           "Bari",
           "Orio al Serio"
          ],
          [
           "Bari",
           "Budapest"
          ],
          [
           "Bari",
           "Charleroi"
          ],
          [
           "Bari",
           "Rome"
          ],
          [
           "Bari",
           "Segrate"
          ],
          [
           "Bari",
           "Rinas"
          ],
          [
           "Bari",
           "Caselle Torinese"
          ],
          [
           "Bari",
           "Venezia"
          ],
          [
           "Bari",
           "Caselle"
          ],
          [
           "Bari",
           "Warsaw"
          ],
          [
           "Bristol",
           "Malaga"
          ],
          [
           "Alicante",
           "Bristol"
          ],
          [
           "Bristol",
           "Barcelona"
          ],
          [
           "Orio al Serio",
           "Bristol"
          ],
          [
           "Bristol",
           "Poznan"
          ],
          [
           "Malaga",
           "Zaventem"
          ],
          [
           "Barcelona",
           "Zaventem"
          ],
          [
           "Bratislava",
           "Kaunas"
          ],
          [
           "Bratislava",
           "Luton"
          ],
          [
           "Budapest",
           "Malaga"
          ],
          [
           "Budapest",
           "Stockholm"
          ],
          [
           "Budapest",
           "Spata"
          ],
          [
           "Budapest",
           "Orio al Serio"
          ],
          [
           "Budapest",
           "Bologna"
          ],
          [
           "Budapest",
           "Rome"
          ],
          [
           "Budapest",
           "Charleroi"
          ],
          [
           "Budapest",
           "Catania"
          ],
          [
           "Budapest",
           "Helsinki"
          ],
          [
           "Budapest",
           "London"
          ],
          [
           "Budapest",
           "Prague"
          ],
          [
           "Budapest",
           "Warsaw"
          ],
          [
           "Tille",
           "Barcelona"
          ],
          [
           "Orio al Serio",
           "Tille"
          ],
          [
           "Bydgoszcz",
           "Luton"
          ],
          [
           "Bolzano",
           "Billund"
          ],
          [
           "Beziers",
           "Charleroi"
          ],
          [
           "Paris",
           "Malaga"
          ],
          [
           "Paris",
           "Malaga"
          ],
          [
           "Stockholm",
           "Paris"
          ],
          [
           "Paris",
           "Barcelona"
          ],
          [
           "Paris",
           "Barcelona"
          ],
          [
           "Paris",
           "Birmingham"
          ],
          [
           "Paris",
           "Bologna"
          ],
          [
           "Paris",
           "Bordeaux"
          ],
          [
           "Paris",
           "Zaventem"
          ],
          [
           "Paris",
           "Gothenburg"
          ],
          [
           "Helsinki",
           "Paris"
          ],
          [
           "Munich",
           "Paris"
          ],
          [
           "Paris",
           "Otopeni"
          ],
          [
           "Tromso",
           "Paris"
          ],
          [
           "Castellon de la Plana",
           "Weeze"
          ],
          [
           "St. Petersburg",
           "Cherepovets"
          ],
          [
           "Chelyabinsk",
           "St. Petersburg"
          ],
          [
           "Moscow",
           "Chelyabinsk"
          ],
          [
           "Kerkyra",
           "Spata"
          ],
          [
           "Cologne",
           "Malaga"
          ],
          [
           "Cologne",
           "Munich"
          ],
          [
           "Varna",
           "Cologne"
          ],
          [
           "Charleroi",
           "Rome"
          ],
          [
           "Otopeni",
           "Rome"
          ],
          [
           "Cluj",
           "Orio al Serio"
          ],
          [
           "Cluj",
           "Rome"
          ],
          [
           "Luton",
           "Cluj"
          ],
          [
           "Cluj",
           "Otopeni"
          ],
          [
           "Calvi",
           "Nice"
          ],
          [
           "Viviers",
           "Birmingham"
          ],
          [
           "Copenhagen",
           "Aalborg"
          ],
          [
           "Copenhagen",
           "Aarhus"
          ],
          [
           "Copenhagen",
           "Malaga"
          ],
          [
           "Copenhagen",
           "Alicante"
          ],
          [
           "Copenhagen",
           "Amsterdam"
          ],
          [
           "Copenhagen",
           "Stockholm"
          ],
          [
           "Copenhagen",
           "Budapest"
          ],
          [
           "Copenhagen",
           "Bolzano"
          ],
          [
           "Copenhagen",
           "Paris"
          ],
          [
           "Copenhagen",
           "Cologne"
          ],
          [
           "Copenhagen",
           "Faro"
          ],
          [
           "Copenhagen",
           "Frankfurt am Main"
          ],
          [
           "Copenhagen",
           "Gdansk"
          ],
          [
           "Copenhagen",
           "Gothenburg"
          ],
          [
           "Copenhagen",
           "Geneva"
          ],
          [
           "Copenhagen",
           "Hamburg"
          ],
          [
           "Copenhagen",
           "Helsinki"
          ],
          [
           "Copenhagen",
           "Balice"
          ],
          [
           "Copenhagen",
           "Kaunas"
          ],
          [
           "Copenhagen",
           "London"
          ],
          [
           "Copenhagen",
           "London"
          ],
          [
           "Copenhagen",
           "Madrid"
          ],
          [
           "Copenhagen",
           "Manchester"
          ],
          [
           "Copenhagen",
           "Munich"
          ],
          [
           "Copenhagen",
           "Oslo"
          ],
          [
           "Copenhagen",
           "Riga"
          ],
          [
           "Copenhagen",
           "Salzburg"
          ],
          [
           "Copenhagen",
           "Vienna"
          ],
          [
           "Copenhagen",
           "Zurich"
          ],
          [
           "Bologna",
           "Craiova"
          ],
          [
           "Charleroi",
           "Craiova"
          ],
          [
           "Barcelona",
           "Charleroi"
          ],
          [
           "Rome",
           "Charleroi"
          ],
          [
           "Otopeni",
           "Charleroi"
          ],
          [
           "Crotone",
           "Orio al Serio"
          ],
          [
           "Crotone",
           "Bologna"
          ],
          [
           "Cheboksary",
           "Moscow"
          ],
          [
           "Cheboksary",
           "Moscow"
          ],
          [
           "Catania",
           "Orio al Serio"
          ],
          [
           "Catania",
           "Bologna"
          ],
          [
           "Catania",
           "Charleroi"
          ],
          [
           "Catania",
           "Firenze"
          ],
          [
           "Catania",
           "Caselle"
          ],
          [
           "Debrecen",
           "Luton"
          ],
          [
           "Moscow",
           "Sochi"
          ],
          [
           "Moscow",
           "Grozny"
          ],
          [
           "Moscow",
           "Grozny"
          ],
          [
           "Moscow",
           "Grozny"
          ],
          [
           "Moscow",
           "Izhevsk"
          ],
          [
           "Moscow",
           "Kazan"
          ],
          [
           "Moscow",
           "St. Petersburg"
          ],
          [
           "Moscow",
           "St. Petersburg"
          ],
          [
           "Moscow",
           "St. Petersburg"
          ],
          [
           "Moscow",
           "St. Petersburg"
          ],
          [
           "Moscow",
           "St. Petersburg"
          ],
          [
           "Moscow",
           "St. Petersburg"
          ],
          [
           "Moscow",
           "Murmansk"
          ],
          [
           "Moscow",
           "Murmansk"
          ],
          [
           "Moscow",
           "Murmansk"
          ],
          [
           "Moscow",
           "Minsk"
          ],
          [
           "Moscow",
           "Penza"
          ],
          [
           "Moscow",
           "Volgograd"
          ],
          [
           "Dortmund",
           "Belgrade"
          ],
          [
           "Dortmund",
           "Budapest"
          ],
          [
           "Dortmund",
           "Cluj"
          ],
          [
           "Dortmund",
           "Rome"
          ],
          [
           "Dortmund",
           "Gdansk"
          ],
          [
           "Dortmund",
           "Ozarowice"
          ],
          [
           "Dortmund",
           "Olsztyn"
          ],
          [
           "Dortmund",
           "Vilnius"
          ],
          [
           "Dusseldorf",
           "Amsterdam"
          ],
          [
           "Dusseldorf",
           "Paris"
          ],
          [
           "Dusseldorf",
           "Copenhagen"
          ],
          [
           "Dusseldorf",
           "Frankfurt am Main"
          ],
          [
           "Dusseldorf",
           "Helsinki"
          ],
          [
           "Dusseldorf",
           "Ivalo"
          ],
          [
           "Dusseldorf",
           "Chisinau"
          ],
          [
           "Dusseldorf",
           "Kittila"
          ],
          [
           "Dusseldorf",
           "London"
          ],
          [
           "Dusseldorf",
           "Lisbon"
          ],
          [
           "Dusseldorf",
           "Madrid"
          ],
          [
           "Dusseldorf",
           "Munich"
          ],
          [
           "Dusseldorf",
           "Prishtina"
          ],
          [
           "Dusseldorf",
           "Rinas"
          ],
          [
           "Dusseldorf",
           "Tromso"
          ],
          [
           "Dusseldorf",
           "Vienna"
          ],
          [
           "Dusseldorf",
           "Zurich"
          ],
          [
           "Hondarribia",
           "Madrid"
          ],
          [
           "Edinburgh",
           "Malaga"
          ],
          [
           "Edinburgh",
           "Barcelona"
          ],
          [
           "Edinburgh",
           "Birmingham"
          ],
          [
           "Edinburgh",
           "Bristol"
          ],
          [
           "Edinburgh",
           "Charleroi"
          ],
          [
           "Edinburgh",
           "Geneva"
          ],
          [
           "Edinburgh",
           "Gatwick"
          ],
          [
           "Edinburgh",
           "Madrid"
          ],
          [
           "Eindhoven",
           "Malaga"
          ],
          [
           "Eindhoven",
           "Alicante"
          ],
          [
           "Eindhoven",
           "Spata"
          ],
          [
           "Eindhoven",
           "Brindisi"
          ],
          [
           "Eindhoven",
           "Orio al Serio"
          ],
          [
           "Eindhoven",
           "Budapest"
          ],
          [
           "Eindhoven",
           "Cluj"
          ],
          [
           "Eindhoven",
           "Debrecen"
          ],
          [
           "Eindhoven",
           "Balice"
          ],
          [
           "Eindhoven",
           "Salzburg"
          ],
          [
           "Eindhoven",
           "Vilnius"
          ],
          [
           "Nottingham",
           "Malaga"
          ],
          [
           "Nottingham",
           "Alicante"
          ],
          [
           "Nottingham",
           "Belfast"
          ],
          [
           "Nottingham",
           "Geneva"
          ],
          [
           "Nottingham",
           "Paris"
          ],
          [
           "Nottingham",
           "Jasionka"
          ],
          [
           "Faro",
           "Amsterdam"
          ],
          [
           "Faro",
           "Belfast"
          ],
          [
           "Faro",
           "Lisbon"
          ],
          [
           "Faro",
           "Luton"
          ],
          [
           "Faro",
           "Weeze"
          ],
          [
           "Rome",
           "Malaga"
          ],
          [
           "Rome",
           "Amsterdam"
          ],
          [
           "Rome",
           "Ancona"
          ],
          [
           "Rome",
           "Spata"
          ],
          [
           "Rome",
           "Brindisi"
          ],
          [
           "Rome",
           "Bologna"
          ],
          [
           "Rome",
           "Zaventem"
          ],
          [
           "Rome",
           "Budapest"
          ],
          [
           "Rome",
           "Cagliari"
          ],
          [
           "Rome",
           "Paris"
          ],
          [
           "Rome",
           "Paris"
          ],
          [
           "Rome",
           "Cologne"
          ],
          [
           "Rome",
           "Catania"
          ],
          [
           "Rome",
           "Eindhoven"
          ],
          [
           "Rome",
           "Firenze"
          ],
          [
           "Rome",
           "Memmingen"
          ],
          [
           "Rome",
           "Genova"
          ],
          [
           "Rome",
           "Chisinau"
          ],
          [
           "Rome",
           "Gatwick"
          ],
          [
           "Rome",
           "London"
          ],
          [
           "Rome",
           "Segrate"
          ],
          [
           "Rome",
           "Lisbon"
          ],
          [
           "Rome",
           "Lyon"
          ],
          [
           "Rome",
           "Madrid"
          ],
          [
           "Rome",
           "Munich"
          ],
          [
           "Rome",
           "Nice"
          ],
          [
           "Rome",
           "Olbia"
          ],
          [
           "Rome",
           "Otopeni"
          ],
          [
           "Rome",
           "Otopeni"
          ],
          [
           "Rome",
           "Palermo"
          ],
          [
           "Rome",
           "Poznan"
          ],
          [
           "Rome",
           "Prague"
          ],
          [
           "Rome",
           "Suceava"
          ],
          [
           "Rome",
           "Split"
          ],
          [
           "Rome",
           "Lamezia Terme"
          ],
          [
           "Rome",
           "Rinas"
          ],
          [
           "Rome",
           "Caselle Torinese"
          ],
          [
           "Rome",
           "Ronchi dei Legionari"
          ],
          [
           "Rome",
           "Vienna"
          ],
          [
           "Rome",
           "Valencia"
          ],
          [
           "Rome",
           "Caselle"
          ],
          [
           "Rome",
           "Warsaw"
          ],
          [
           "Rome",
           "Zurich"
          ],
          [
           "Rheinmunster",
           "Alicante"
          ],
          [
           "Firenze",
           "Paris"
          ],
          [
           "Firenze",
           "Gatwick"
          ],
          [
           "Firenze",
           "Madrid"
          ],
          [
           "Firenze",
           "Munich"
          ],
          [
           "Memmingen",
           "Cluj"
          ],
          [
           "Memmingen",
           "Otopeni"
          ],
          [
           "Frankfurt am Main",
           "Malaga"
          ],
          [
           "Frankfurt am Main",
           "Malaga"
          ],
          [
           "Frankfurt am Main",
           "Alicante"
          ],
          [
           "Frankfurt am Main",
           "Amsterdam"
          ],
          [
           "Frankfurt am Main",
           "Stockholm"
          ],
          [
           "Frankfurt am Main",
           "Barcelona"
          ],
          [
           "Frankfurt am Main",
           "Bologna"
          ],
          [
           "Frankfurt am Main",
           "Bremen"
          ],
          [
           "Frankfurt am Main",
           "Bristol"
          ],
          [
           "Frankfurt am Main",
           "Zaventem"
          ],
          [
           "Frankfurt am Main",
           "Budapest"
          ],
          [
           "Frankfurt am Main",
           "Paris"
          ],
          [
           "Frankfurt am Main",
           "Dresden"
          ],
          [
           "Frankfurt am Main",
           "Dusseldorf"
          ],
          [
           "Frankfurt am Main",
           "Firenze"
          ],
          [
           "Frankfurt am Main",
           "Gothenburg"
          ],
          [
           "Frankfurt am Main",
           "Graz"
          ],
          [
           "Frankfurt am Main",
           "Geneva"
          ],
          [
           "Frankfurt am Main",
           "Hamburg"
          ],
          [
           "Frankfurt am Main",
           "Helsinki"
          ],
          [
           "Frankfurt am Main",
           "Ivalo"
          ],
          [
           "Frankfurt am Main",
           "Kuusamo"
          ],
          [
           "Frankfurt am Main",
           "Balice"
          ],
          [
           "Frankfurt am Main",
           "Schkeuditz"
          ],
          [
           "Frankfurt am Main",
           "Gatwick"
          ],
          [
           "Frankfurt am Main",
           "London"
          ],
          [
           "Frankfurt am Main",
           "Segrate"
          ],
          [
           "Frankfurt am Main",
           "Manchester"
          ],
          [
           "Frankfurt am Main",
           "Munich"
          ],
          [
           "Frankfurt am Main",
           "Nuremberg"
          ],
          [
           "Frankfurt am Main",
           "Oslo"
          ],
          [
           "Frankfurt am Main",
           "Poznan"
          ],
          [
           "Frankfurt am Main",
           "Prague"
          ],
          [
           "Frankfurt am Main",
           "Stuttgart"
          ],
          [
           "Frankfurt am Main",
           "Salzburg"
          ],
          [
           "Frankfurt am Main",
           "Tallinn"
          ],
          [
           "Frankfurt am Main",
           "Caselle Torinese"
          ],
          [
           "Frankfurt am Main",
           "Vienna"
          ],
          [
           "Frankfurt am Main",
           "Warsaw"
          ],
          [
           "Frankfurt am Main",
           "Wroclaw"
          ],
          [
           "Frankfurt am Main",
           "Zagreb"
          ],
          [
           "Frankfurt am Main",
           "Zurich"
          ],
          [
           "Floro",
           "Bergen"
          ],
          [
           "Saint Peter Port",
           "Birmingham"
          ],
          [
           "Saint Peter Port",
           "Saint Helier"
          ],
          [
           "Saint Peter Port",
           "Gatwick"
          ],
          [
           "Saint Peter Port",
           "Southampton"
          ],
          [
           "Malaga",
           "Gdansk"
          ],
          [
           "Barcelona",
           "Genova"
          ],
          [
           "Nizhny Novgorod",
           "St. Petersburg"
          ],
          [
           "Nizhny Novgorod",
           "Moscow"
          ],
          [
           "Nizhny Novgorod",
           "Volgograd"
          ],
          [
           "Malaga",
           "Gothenburg"
          ],
          [
           "Bergen",
           "Gothenburg"
          ],
          [
           "Girona",
           "Birmingham"
          ],
          [
           "Granada",
           "Barcelona"
          ],
          [
           "Granada",
           "Madrid"
          ],
          [
           "Geneva",
           "Stockholm"
          ],
          [
           "Geneva",
           "Barcelona"
          ],
          [
           "Geneva",
           "Birmingham"
          ],
          [
           "Geneva",
           "Bournemouth"
          ],
          [
           "Geneva",
           "Bristol"
          ],
          [
           "Geneva",
           "Zaventem"
          ],
          [
           "Geneva",
           "Gothenburg"
          ],
          [
           "Geneva",
           "Gatwick"
          ],
          [
           "Geneva",
           "Madrid"
          ],
          [
           "Geneva",
           "Munich"
          ],
          [
           "Geneva",
           "Prishtina"
          ],
          [
           "Geneva",
           "Southampton"
          ],
          [
           "Hanover",
           "Frankfurt am Main"
          ],
          [
           "Hanover",
           "Munich"
          ],
          [
           "Malaga",
           "Hamburg"
          ],
          [
           "Karmoy",
           "Bergen"
          ],
          [
           "Stockholm",
           "Helsinki"
          ],
          [
           "Helsinki",
           "Barcelona"
          ],
          [
           "Helsinki",
           "Zaventem"
          ],
          [
           "Paris",
           "Helsinki"
          ],
          [
           "Helsinki",
           "Gothenburg"
          ],
          [
           "Helsinki",
           "Hamburg"
          ],
          [
           "Helsinki",
           "Ivalo"
          ],
          [
           "Helsinki",
           "Madrid"
          ],
          [
           "Oulu",
           "Helsinki"
          ],
          [
           "Rovaniemi",
           "Helsinki"
          ],
          [
           "Nis",
           "Frankfurt am Main"
          ],
          [
           "Iasi",
           "Rome"
          ],
          [
           "Iasi",
           "Otopeni"
          ],
          [
           "Ibiza",
           "Barcelona"
          ],
          [
           "Ibiza",
           "Madrid"
          ],
          [
           "Ibiza",
           "Valencia"
          ],
          [
           "Frankfurt am Main",
           "Nis"
          ],
          [
           "Nis",
           "Zgornji Brnik"
          ],
          [
           "Innsbruck",
           "Bristol"
          ],
          [
           "Innsbruck",
           "Edinburgh"
          ],
          [
           "Innsbruck",
           "Gatwick"
          ],
          [
           "Innsbruck",
           "Manchester"
          ],
          [
           "Innsbruck",
           "Vienna"
          ],
          [
           "Inverness",
           "Gatwick"
          ],
          [
           "Ioannina",
           "Spata"
          ],
          [
           "Ivanovo",
           "St. Petersburg"
          ],
          [
           "Gatwick",
           "Saint Helier"
          ],
          [
           "Southampton",
           "Saint Helier"
          ],
          [
           "Kuusamo",
           "Helsinki"
          ],
          [
           "Kaliningrad",
           "St. Petersburg"
          ],
          [
           "Moscow",
           "Kaliningrad"
          ],
          [
           "Moscow",
           "Kaliningrad"
          ],
          [
           "Kos Island",
           "Rhodes"
          ],
          [
           "Chisinau",
           "Paris"
          ],
          [
           "Chisinau",
           "Lisbon"
          ],
          [
           "Chisinau",
           "Otopeni"
          ],
          [
           "Krasnoyarsk",
           "St. Petersburg"
          ],
          [
           "Kirkenes",
           "Vadso"
          ],
          [
           "Balice",
           "Malaga"
          ],
          [
           "Balice",
           "Amsterdam"
          ],
          [
           "Balice",
           "Stockholm"
          ],
          [
           "Balice",
           "Barcelona"
          ],
          [
           "Balice",
           "Orio al Serio"
          ],
          [
           "Balice",
           "Birmingham"
          ],
          [
           "Balice",
           "Bologna"
          ],
          [
           "Balice",
           "Tille"
          ],
          [
           "Balice",
           "Cagliari"
          ],
          [
           "Balice",
           "Rome"
          ],
          [
           "Balice",
           "Charleroi"
          ],
          [
           "Balice",
           "Edinburgh"
          ],
          [
           "Balice",
           "Eindhoven"
          ],
          [
           "Balice",
           "Gothenburg"
          ],
          [
           "Balice",
           "Gatwick"
          ],
          [
           "Balice",
           "Lesquin"
          ],
          [
           "Balice",
           "Luton"
          ],
          [
           "Balice",
           "Nykoping"
          ],
          [
           "Balice",
           "Oslo"
          ],
          [
           "Balice",
           "Pisa"
          ],
          [
           "Balice",
           "Podgorica"
          ],
          [
           "Balice",
           "Vienna"
          ],
          [
           "Balice",
           "Valencia"
          ],
          [
           "Balice",
           "Warsaw"
          ],
          [
           "Krasnodar",
           "Moscow"
          ],
          [
           "Krasnodar",
           "Moscow"
          ],
          [
           "Kjevik",
           "Bergen"
          ],
          [
           "Kosice",
           "Prague"
          ],
          [
           "Kittila",
           "Helsinki"
          ],
          [
           "Kittila",
           "Zurich"
          ],
          [
           "Ozarowice",
           "Alicante"
          ],
          [
           "Ozarowice",
           "Spata"
          ],
          [
           "Ozarowice",
           "Catania"
          ],
          [
           "Ozarowice",
           "Luton"
          ],
          [
           "Samara",
           "St. Petersburg"
          ],
          [
           "Kaunas",
           "Orio al Serio"
          ],
          [
           "Kuopio",
           "Helsinki"
          ],
          [
           "Spata",
           "Kavala"
          ],
          [
           "Kirov",
           "St. Petersburg"
          ],
          [
           "Kirov",
           "Moscow"
          ],
          [
           "Kirov",
           "Moscow"
          ],
          [
           "Kazan",
           "St. Petersburg"
          ],
          [
           "Kazan",
           "Moscow"
          ],
          [
           "Kazan",
           "Moscow"
          ],
          [
           "Leeds",
           "Amsterdam"
          ],
          [
           "Leeds",
           "Viviers"
          ],
          [
           "Leeds",
           "Faro"
          ],
          [
           "Leeds",
           "Balice"
          ],
          [
           "Leeds",
           "Poznan"
          ],
          [
           "Culleredo",
           "Madrid"
          ],
          [
           "Cherepovets",
           "St. Petersburg"
          ],
          [
           "Murmansk",
           "St. Petersburg"
          ],
          [
           "Almeria",
           "Madrid"
          ],
          [
           "Malaga",
           "Gatwick"
          ],
          [
           "Barcelona",
           "Gatwick"
          ],
          [
           "Saint Helier",
           "Gatwick"
          ],
          [
           "London",
           "Malaga"
          ],
          [
           "London",
           "Malaga"
          ],
          [
           "London",
           "Amsterdam"
          ],
          [
           "London",
           "Amsterdam"
          ],
          [
           "London",
           "Stockholm"
          ],
          [
           "London",
           "Stockholm"
          ],
          [
           "London",
           "Spata"
          ],
          [
           "London",
           "Spata"
          ],
          [
           "London",
           "Barcelona"
          ],
          [
           "London",
           "Barcelona"
          ],
          [
           "London",
           "Billund"
          ],
          [
           "London",
           "Billund"
          ],
          [
           "London",
           "Bologna"
          ],
          [
           "London",
           "Bologna"
          ],
          [
           "London",
           "Zaventem"
          ],
          [
           "London",
           "Edinburgh"
          ],
          [
           "London",
           "Edinburgh"
          ],
          [
           "London",
           "Gibraltar"
          ],
          [
           "London",
           "Gothenburg"
          ],
          [
           "London",
           "Gothenburg"
          ],
          [
           "London",
           "Geneva"
          ],
          [
           "London",
           "Geneva"
          ],
          [
           "London",
           "Segrate"
          ],
          [
           "Lisbon",
           "London"
          ],
          [
           "London",
           "Lyon"
          ],
          [
           "London",
           "Madrid"
          ],
          [
           "London",
           "Madrid"
          ],
          [
           "London",
           "Nice"
          ],
          [
           "London",
           "Newcastle"
          ],
          [
           "London",
           "Oslo"
          ],
          [
           "London",
           "Otopeni"
          ],
          [
           "London",
           "Otopeni"
          ],
          [
           "London",
           "Salzburg"
          ],
          [
           "London",
           "Salzburg"
          ],
          [
           "London",
           "Toulouse"
          ],
          [
           "London",
           "Vienna"
          ],
          [
           "London",
           "Vienna"
          ],
          [
           "London",
           "Zurich"
          ],
          [
           "Lesquin",
           "Geneva"
          ],
          [
           "Segrate",
           "Amsterdam"
          ],
          [
           "Segrate",
           "Brindisi"
          ],
          [
           "Segrate",
           "Zaventem"
          ],
          [
           "Segrate",
           "Cagliari"
          ],
          [
           "Segrate",
           "Paris"
          ],
          [
           "Segrate",
           "Catania"
          ],
          [
           "Segrate",
           "Helsinki"
          ],
          [
           "Segrate",
           "Madrid"
          ],
          [
           "Segrate",
           "Munich"
          ],
          [
           "Segrate",
           "Reggio Calabria"
          ],
          [
           "Segrate",
           "Lamezia Terme"
          ],
          [
           "Lisbon",
           "Alicante"
          ],
          [
           "Lisbon",
           "Amsterdam"
          ],
          [
           "Lisbon",
           "Barcelona"
          ],
          [
           "Lisbon",
           "Bordeaux"
          ],
          [
           "Lisbon",
           "Zaventem"
          ],
          [
           "Lisbon",
           "Paris"
          ],
          [
           "Lisbon",
           "Paris"
          ],
          [
           "Lisbon",
           "Cologne"
          ],
          [
           "Lisbon",
           "Rome"
          ],
          [
           "Lisbon",
           "Geneva"
          ],
          [
           "Lisbon",
           "Helsinki"
          ],
          [
           "Lisbon",
           "Gatwick"
          ],
          [
           "London",
           "Lisbon"
          ],
          [
           "London",
           "Lisbon"
          ],
          [
           "Lisbon",
           "Luxembourg"
          ],
          [
           "Lisbon",
           "Lyon"
          ],
          [
           "Lisbon",
           "Madrid"
          ],
          [
           "Lisbon",
           "Munich"
          ],
          [
           "Lisbon",
           "Oslo"
          ],
          [
           "Lisbon",
           "Vienna"
          ],
          [
           "Lisbon",
           "Valencia"
          ],
          [
           "Lisbon",
           "Warsaw"
          ],
          [
           "Lisbon",
           "Zurich"
          ],
          [
           "Lulea",
           "Stockholm"
          ],
          [
           "Luton",
           "Malaga"
          ],
          [
           "Luton",
           "Barcelona"
          ],
          [
           "Luton",
           "Belfast"
          ],
          [
           "Luton",
           "Edinburgh"
          ],
          [
           "Luton",
           "Gdansk"
          ],
          [
           "Luton",
           "Geneva"
          ],
          [
           "Luton",
           "Iasi"
          ],
          [
           "Luton",
           "Otopeni"
          ],
          [
           "Luton",
           "Prishtina"
          ],
          [
           "Luton",
           "Suceava"
          ],
          [
           "Luton",
           "Tromso"
          ],
          [
           "Luton",
           "Vilnius"
          ],
          [
           "Luton",
           "Wroclaw"
          ],
          [
           "Luxembourg",
           "Malaga"
          ],
          [
           "Luxembourg",
           "Orio al Serio"
          ],
          [
           "Lublin",
           "Luton"
          ],
          [
           "Lyon",
           "Stockholm"
          ],
          [
           "Lyon",
           "Paris"
          ],
          [
           "Lyon",
           "Edinburgh"
          ],
          [
           "Lyon",
           "Madrid"
          ],
          [
           "Lyon",
           "Munich"
          ],
          [
           "Malaga",
           "Madrid"
          ],
          [
           "Barcelona",
           "Madrid"
          ],
          [
           "Bologna",
           "Madrid"
          ],
          [
           "Bordeaux",
           "Madrid"
          ],
          [
           "Zaventem",
           "Madrid"
          ],
          [
           "Hamburg",
           "Madrid"
          ],
          [
           "Gatwick",
           "Madrid"
          ],
          [
           "Mahon",
           "Barcelona"
          ],
          [
           "Manchester",
           "Malaga"
          ],
          [
           "Manchester",
           "Amsterdam"
          ],
          [
           "Manchester",
           "Barcelona"
          ],
          [
           "Manchester",
           "Belfast"
          ],
          [
           "Manchester",
           "Belfast"
          ],
          [
           "Manchester",
           "Budapest"
          ],
          [
           "Manchester",
           "Paris"
          ],
          [
           "Manchester",
           "Cologne"
          ],
          [
           "Manchester",
           "Rome"
          ],
          [
           "Manchester",
           "Viviers"
          ],
          [
           "Manchester",
           "Copenhagen"
          ],
          [
           "Manchester",
           "Frankfurt am Main"
          ],
          [
           "Manchester",
           "Geneva"
          ],
          [
           "Manchester",
           "Helsinki"
          ],
          [
           "Manchester",
           "Balice"
          ],
          [
           "Manchester",
           "London"
          ],
          [
           "Manchester",
           "Lisbon"
          ],
          [
           "Manchester",
           "Madrid"
          ],
          [
           "Manchester",
           "Munich"
          ],
          [
           "Manchester",
           "Poznan"
          ],
          [
           "Manchester",
           "Prague"
          ],
          [
           "Manchester",
           "Corvera"
          ],
          [
           "Manchester",
           "Jasionka"
          ],
          [
           "Manchester",
           "Seville"
          ],
          [
           "Manchester",
           "Venezia"
          ],
          [
           "Manchester",
           "Caselle"
          ],
          [
           "Manchester",
           "Wroclaw"
          ],
          [
           "Makhachkala",
           "Moscow"
          ],
          [
           "Makhachkala",
           "Moscow"
          ],
          [
           "Makhachkala",
           "Moscow"
          ],
          [
           "Makhachkala",
           "St. Petersburg"
          ],
          [
           "Malmo",
           "Stockholm"
          ],
          [
           "Malmo",
           "Stockholm"
          ],
          [
           "Montpellier",
           "Amsterdam"
          ],
          [
           "Montpellier",
           "Paris"
          ],
          [
           "Marseille",
           "Malaga"
          ],
          [
           "Marseille",
           "Alicante"
          ],
          [
           "Marseille",
           "Budapest"
          ],
          [
           "Marseille",
           "Paris"
          ],
          [
           "Marseille",
           "Paris"
          ],
          [
           "Marseille",
           "Charleroi"
          ],
          [
           "Marseille",
           "Lisbon"
          ],
          [
           "Marseille",
           "Lyon"
          ],
          [
           "Marseille",
           "Madrid"
          ],
          [
           "Marseille",
           "Nantes"
          ],
          [
           "Mineralnyye Vody",
           "Sochi"
          ],
          [
           "Mineralnyye Vody",
           "Chelyabinsk"
          ],
          [
           "Mineralnyye Vody",
           "Moscow"
          ],
          [
           "Mineralnyye Vody",
           "Moscow"
          ],
          [
           "Mineralnyye Vody",
           "Moscow"
          ],
          [
           "Mineralnyye Vody",
           "Samara"
          ],
          [
           "Mineralnyye Vody",
           "St. Petersburg"
          ],
          [
           "Mineralnyye Vody",
           "Magnitogorsk"
          ],
          [
           "Mineralnyye Vody",
           "Perm"
          ],
          [
           "Mineralnyye Vody",
           "Volgograd"
          ],
          [
           "Minsk",
           "St. Petersburg"
          ],
          [
           "Minsk",
           "Moscow"
          ],
          [
           "Minsk",
           "Moscow"
          ],
          [
           "Munich",
           "Malaga"
          ],
          [
           "Alicante",
           "Munich"
          ],
          [
           "Stockholm",
           "Munich"
          ],
          [
           "Munich",
           "Barcelona"
          ],
          [
           "Munich",
           "Birmingham"
          ],
          [
           "Munich",
           "Bologna"
          ],
          [
           "Munich",
           "Zaventem"
          ],
          [
           "Dresden",
           "Munich"
          ],
          [
           "Munich",
           "Greven"
          ],
          [
           "Munich",
           "Graz"
          ],
          [
           "Munich",
           "Hamburg"
          ],
          [
           "Munich",
           "Gatwick"
          ],
          [
           "Munich",
           "Prishtina"
          ],
          [
           "Munich",
           "Thessaloniki"
          ],
          [
           "Munich",
           "Stuttgart"
          ],
          [
           "Munich",
           "Valencia"
          ],
          [
           "Napoli",
           "Orio al Serio"
          ],
          [
           "Napoli",
           "Charleroi"
          ],
          [
           "Napoli",
           "Catania"
          ],
          [
           "Napoli",
           "Rome"
          ],
          [
           "Napoli",
           "Balice"
          ],
          [
           "Napoli",
           "Segrate"
          ],
          [
           "Napoli",
           "Palermo"
          ],
          [
           "Napoli",
           "London"
          ],
          [
           "Napoli",
           "Ronchi dei Legionari"
          ],
          [
           "Napoli",
           "Venezia"
          ],
          [
           "Napoli",
           "Vienna"
          ],
          [
           "Napoli",
           "Valencia"
          ],
          [
           "Nice",
           "Barcelona"
          ],
          [
           "Nice",
           "Paris"
          ],
          [
           "Nice",
           "Madrid"
          ],
          [
           "Nice",
           "Zurich"
          ],
          [
           "Newcastle",
           "Malaga"
          ],
          [
           "Newquay",
           "Gatwick"
          ],
          [
           "Weeze",
           "Malaga"
          ],
          [
           "Weeze",
           "Thessaloniki"
          ],
          [
           "Nantes",
           "Amsterdam"
          ],
          [
           "Nantes",
           "Geneva"
          ],
          [
           "Nantes",
           "Madrid"
          ],
          [
           "Nantes",
           "Marseille"
          ],
          [
           "Nuremberg",
           "Thessaloniki"
          ],
          [
           "Nykoping",
           "Otopeni"
          ],
          [
           "Beslan",
           "Moscow"
          ],
          [
           "Ohrid",
           "Zurich"
          ],
          [
           "Olbia",
           "Rome"
          ],
          [
           "Oradea",
           "Otopeni"
          ],
          [
           "Paris",
           "Ivalo"
          ],
          [
           "Paris",
           "Tarbes"
          ],
          [
           "Paris",
           "Gatwick"
          ],
          [
           "Paris",
           "Madrid"
          ],
          [
           "Paris",
           "Montpellier"
          ],
          [
           "Paris",
           "Nice"
          ],
          [
           "Paris",
           "Southampton"
          ],
          [
           "Paris",
           "Toulouse"
          ],
          [
           "Paris",
           "Valencia"
          ],
          [
           "Oslo",
           "Malaga"
          ],
          [
           "Oslo",
           "Alicante"
          ],
          [
           "Oslo",
           "Amsterdam"
          ],
          [
           "Oslo",
           "Stockholm"
          ],
          [
           "Oslo",
           "Bergen"
          ],
          [
           "Oslo",
           "Paris"
          ],
          [
           "Oslo",
           "Gothenburg"
          ],
          [
           "Oslo",
           "Helsinki"
          ],
          [
           "Oslo",
           "Stavanger"
          ],
          [
           "Oslo",
           "Tromso"
          ],
          [
           "Oslo",
           "Zurich"
          ],
          [
           "Orsk",
           "Moscow"
          ],
          [
           "Billund",
           "Otopeni"
          ],
          [
           "Bologna",
           "Otopeni"
          ],
          [
           "Gatwick",
           "Otopeni"
          ],
          [
           "Ranon",
           "Barcelona"
          ],
          [
           "Ranon",
           "Madrid"
          ],
          [
           "Ranon",
           "Weeze"
          ],
          [
           "Perm",
           "St. Petersburg"
          ],
          [
           "Perm",
           "Moscow"
          ],
          [
           "Perm",
           "Moscow"
          ],
          [
           "Petrozavodsk",
           "Moscow"
          ],
          [
           "Parma",
           "Cagliari"
          ],
          [
           "Palermo",
           "Barcelona"
          ],
          [
           "Palermo",
           "Orio al Serio"
          ],
          [
           "Palermo",
           "Bologna"
          ],
          [
           "Palermo",
           "Rome"
          ],
          [
           "Palermo",
           "Memmingen"
          ],
          [
           "Palermo",
           "Segrate"
          ],
          [
           "Palermo",
           "Madrid"
          ],
          [
           "Palermo",
           "Napoli"
          ],
          [
           "Palermo",
           "Nuremberg"
          ],
          [
           "Palermo",
           "Pisa"
          ],
          [
           "Palermo",
           "London"
          ],
          [
           "Palermo",
           "Caselle Torinese"
          ],
          [
           "Palermo",
           "Venezia"
          ],
          [
           "Palermo",
           "Valencia"
          ],
          [
           "Palermo",
           "Caselle"
          ],
          [
           "Pamplona",
           "Madrid"
          ],
          [
           "Prague",
           "Malaga"
          ],
          [
           "Prague",
           "Barcelona"
          ],
          [
           "Prague",
           "Orio al Serio"
          ],
          [
           "Prague",
           "Paris"
          ],
          [
           "Prague",
           "Geneva"
          ],
          [
           "Prague",
           "Madrid"
          ],
          [
           "Prishtina",
           "Hamburg"
          ],
          [
           "Prishtina",
           "Stuttgart"
          ],
          [
           "Pisa",
           "Charleroi"
          ],
          [
           "Pisa",
           "Madrid"
          ],
          [
           "Pisa",
           "Valencia"
          ],
          [
           "Orio al Serio",
           "Pescara"
          ],
          [
           "Pula",
           "Zurich"
          ],
          [
           "Orenburg",
           "St. Petersburg"
          ],
          [
           "Orenburg",
           "Moscow"
          ],
          [
           "Riga",
           "Amsterdam"
          ],
          [
           "Riga",
           "Stockholm"
          ],
          [
           "Riga",
           "Bristol"
          ],
          [
           "Riga",
           "Copenhagen"
          ],
          [
           "Riga",
           "Geneva"
          ],
          [
           "Riga",
           "Helsinki"
          ],
          [
           "Riga",
           "Lisbon"
          ],
          [
           "Riga",
           "Palanga"
          ],
          [
           "Riga",
           "London"
          ],
          [
           "Riga",
           "Salzburg"
          ],
          [
           "Riga",
           "Tallinn"
          ],
          [
           "Riga",
           "Vienna"
          ],
          [
           "Riga",
           "Vilnius"
          ],
          [
           "Riga",
           "Warsaw"
          ],
          [
           "Rotterdam",
           "Malaga"
          ],
          [
           "Rotterdam",
           "Salzburg"
          ],
          [
           "Sibiu",
           "Munich"
          ],
          [
           "Santiago de Compostela",
           "Madrid"
          ],
          [
           "Santiago de Compostela",
           "Valencia"
          ],
          [
           "Otopeni",
           "Suceava"
          ],
          [
           "Syktyvkar",
           "St. Petersburg"
          ],
          [
           "Southend",
           "Geneva"
          ],
          [
           "Sarajevo",
           "Cologne"
          ],
          [
           "Stuttgart",
           "Thessaloniki"
          ],
          [
           "Bodo",
           "Hadsel"
          ],
          [
           "Hadsel",
           "Tromso"
          ],
          [
           "Sofia",
           "Alicante"
          ],
          [
           "Sofia",
           "Spata"
          ],
          [
           "Sofia",
           "Barcelona"
          ],
          [
           "Sofia",
           "Orio al Serio"
          ],
          [
           "Sofia",
           "Copenhagen"
          ],
          [
           "Sofia",
           "Charleroi"
          ],
          [
           "Sofia",
           "Eindhoven"
          ],
          [
           "Sofia",
           "Rheinmunster"
          ],
          [
           "Sofia",
           "Memmingen"
          ],
          [
           "Sofia",
           "Madrid"
          ],
          [
           "Sofia",
           "Munich"
          ],
          [
           "Sofia",
           "Nice"
          ],
          [
           "Sofia",
           "Treviso"
          ],
          [
           "Sofia",
           "Varna"
          ],
          [
           "Sofia",
           "Vienna"
          ],
          [
           "Sofia",
           "Warsaw"
          ],
          [
           "Saint Helier",
           "Southampton"
          ],
          [
           "Split",
           "Amsterdam"
          ],
          [
           "London",
           "Alicante"
          ],
          [
           "London",
           "Belfast"
          ],
          [
           "London",
           "Orio al Serio"
          ],
          [
           "London",
           "Bordeaux"
          ],
          [
           "London",
           "Bratislava"
          ],
          [
           "London",
           "Budapest"
          ],
          [
           "London",
           "Bydgoszcz"
          ],
          [
           "London",
           "Cologne"
          ],
          [
           "London",
           "Rome"
          ],
          [
           "London",
           "Viviers"
          ],
          [
           "London",
           "Catania"
          ],
          [
           "London",
           "Eindhoven"
          ],
          [
           "London",
           "Faro"
          ],
          [
           "London",
           "Gdansk"
          ],
          [
           "London",
           "Genova"
          ],
          [
           "London",
           "Balice"
          ],
          [
           "London",
           "Ozarowice"
          ],
          [
           "London",
           "Lodz"
          ],
          [
           "London",
           "Marseille"
          ],
          [
           "London",
           "Napoli"
          ],
          [
           "London",
           "Nuremberg"
          ],
          [
           "London",
           "Poznan"
          ],
          [
           "London",
           "Prague"
          ],
          [
           "London",
           "Pisa"
          ],
          [
           "London",
           "Riga"
          ],
          [
           "London",
           "Santiago de Compostela"
          ],
          [
           "London",
           "Thessaloniki"
          ],
          [
           "London",
           "Sofia"
          ],
          [
           "London",
           "Seville"
          ],
          [
           "London",
           "Olsztyn"
          ],
          [
           "London",
           "Goleniow"
          ],
          [
           "London",
           "Rinas"
          ],
          [
           "London",
           "Caselle Torinese"
          ],
          [
           "London",
           "Ronchi dei Legionari"
          ],
          [
           "London",
           "Venezia"
          ],
          [
           "London",
           "Vigo"
          ],
          [
           "London",
           "Valencia"
          ],
          [
           "London",
           "Vilnius"
          ],
          [
           "London",
           "Caselle"
          ],
          [
           "London",
           "Warsaw"
          ],
          [
           "London",
           "Wroclaw"
          ],
          [
           "London",
           "Zagreb"
          ],
          [
           "London",
           "Zaragoza"
          ],
          [
           "Otopeni",
           "Stuttgart"
          ],
          [
           "Thessaloniki",
           "Stuttgart"
          ],
          [
           "Stavanger",
           "Alicante"
          ],
          [
           "Stavanger",
           "Bergen"
          ],
          [
           "Stavanger",
           "Gdansk"
          ],
          [
           "Stavanger",
           "Oslo"
          ],
          [
           "Svolvaer",
           "Bodo"
          ],
          [
           "Izhevsk",
           "Moscow"
          ],
          [
           "Moscow",
           "Samara"
          ],
          [
           "Moscow",
           "Samara"
          ],
          [
           "Moscow",
           "Magnitogorsk"
          ],
          [
           "Seville",
           "Barcelona"
          ],
          [
           "Seville",
           "Orio al Serio"
          ],
          [
           "Seville",
           "Paris"
          ],
          [
           "Seville",
           "Paris"
          ],
          [
           "Seville",
           "Rome"
          ],
          [
           "Seville",
           "Catania"
          ],
          [
           "Seville",
           "Madrid"
          ],
          [
           "Seville",
           "Manchester"
          ],
          [
           "Seville",
           "Nuremberg"
          ],
          [
           "Seville",
           "Pisa"
          ],
          [
           "Seville",
           "London"
          ],
          [
           "Seville",
           "Warsaw"
          ],
          [
           "Salzburg",
           "Amsterdam"
          ],
          [
           "Salzburg",
           "Stockholm"
          ],
          [
           "Salzburg",
           "Bristol"
          ],
          [
           "Salzburg",
           "Hamburg"
          ],
          [
           "Salzburg",
           "Helsinki"
          ],
          [
           "Salzburg",
           "Gatwick"
          ],
          [
           "Rinas",
           "Stockholm"
          ],
          [
           "Rinas",
           "Barcelona"
          ],
          [
           "Rinas",
           "Orio al Serio"
          ],
          [
           "Rinas",
           "Bologna"
          ],
          [
           "Rinas",
           "Bari"
          ],
          [
           "Rinas",
           "Rome"
          ],
          [
           "Rinas",
           "Rome"
          ],
          [
           "Rinas",
           "Charleroi"
          ],
          [
           "Rinas",
           "Edinburgh"
          ],
          [
           "Rinas",
           "Genova"
          ],
          [
           "Rinas",
           "Hamburg"
          ],
          [
           "Rinas",
           "Frankfurt am Main"
          ],
          [
           "Rinas",
           "Luton"
          ],
          [
           "Rinas",
           "Lyon"
          ],
          [
           "Rinas",
           "Nuremberg"
          ],
          [
           "Rinas",
           "Perugia"
          ],
          [
           "Rinas",
           "Pisa"
          ],
          [
           "Rinas",
           "London"
          ],
          [
           "Rinas",
           "Ronchi dei Legionari"
          ],
          [
           "Rinas",
           "Treviso"
          ],
          [
           "Rinas",
           "Caselle"
          ],
          [
           "Tallinn",
           "Stockholm"
          ],
          [
           "Tallinn",
           "Geneva"
          ],
          [
           "Tallinn",
           "Helsinki"
          ],
          [
           "Tallinn",
           "Gatwick"
          ],
          [
           "Toulouse",
           "Bordeaux"
          ],
          [
           "Toulouse",
           "Madrid"
          ],
          [
           "Toulouse",
           "Munich"
          ],
          [
           "Tampere",
           "Amsterdam"
          ],
          [
           "Tampere",
           "Tallinn"
          ],
          [
           "Tromso",
           "Bergen"
          ],
          [
           "Tromso",
           "Gdansk"
          ],
          [
           "Trondheim",
           "Alicante"
          ],
          [
           "Trondheim",
           "Amsterdam"
          ],
          [
           "Trondheim",
           "Bergen"
          ],
          [
           "Trondheim",
           "Bodo"
          ],
          [
           "Trondheim",
           "Helsinki"
          ],
          [
           "Trondheim",
           "Oslo"
          ],
          [
           "Caselle Torinese",
           "Stockholm"
          ],
          [
           "Caselle Torinese",
           "Barcelona"
          ],
          [
           "Caselle Torinese",
           "Brindisi"
          ],
          [
           "Caselle Torinese",
           "Cagliari"
          ],
          [
           "Caselle Torinese",
           "Gothenburg"
          ],
          [
           "Caselle Torinese",
           "Gatwick"
          ],
          [
           "Caselle Torinese",
           "Madrid"
          ],
          [
           "Caselle Torinese",
           "Munich"
          ],
          [
           "Caselle Torinese",
           "Otopeni"
          ],
          [
           "Caselle Torinese",
           "Vilnius"
          ],
          [
           "Treviso",
           "Tille"
          ],
          [
           "Treviso",
           "Charleroi"
          ],
          [
           "Treviso",
           "Otopeni"
          ],
          [
           "Treviso",
           "Sofia"
          ],
          [
           "Treviso",
           "Rinas"
          ],
          [
           "Treviso",
           "Vienna"
          ],
          [
           "Treviso",
           "Valencia"
          ],
          [
           "Timisoara",
           "Orio al Serio"
          ],
          [
           "Timisoara",
           "Tille"
          ],
          [
           "Timisoara",
           "Otopeni"
          ],
          [
           "Tours",
           "London"
          ],
          [
           "Ufa",
           "Sochi"
          ],
          [
           "Ufa",
           "Moscow"
          ],
          [
           "Ufa",
           "Moscow"
          ],
          [
           "Ufa",
           "Moscow"
          ],
          [
           "Ufa",
           "Krasnoyarsk"
          ],
          [
           "Ufa",
           "St. Petersburg"
          ],
          [
           "Ulyanovsk",
           "St. Petersburg"
          ],
          [
           "Ulyanovsk",
           "Moscow"
          ],
          [
           "Ulyanovsk",
           "Moscow"
          ],
          [
           "Umea",
           "Stockholm"
          ],
          [
           "Bugulma",
           "Moscow"
          ],
          [
           "Vaasa",
           "Helsinki"
          ],
          [
           "Cologne",
           "Varna"
          ],
          [
           "Varna",
           "Hamburg"
          ],
          [
           "Venezia",
           "Amsterdam"
          ],
          [
           "Venezia",
           "Bari"
          ],
          [
           "Venezia",
           "Paris"
          ],
          [
           "Venezia",
           "Paris"
          ],
          [
           "Venezia",
           "Catania"
          ],
          [
           "Venezia",
           "Edinburgh"
          ],
          [
           "Venezia",
           "Rome"
          ],
          [
           "Venezia",
           "Frankfurt am Main"
          ],
          [
           "Venezia",
           "London"
          ],
          [
           "Venezia",
           "London"
          ],
          [
           "Venezia",
           "Lisbon"
          ],
          [
           "Venezia",
           "Manchester"
          ],
          [
           "Venezia",
           "Munich"
          ],
          [
           "Venezia",
           "Napoli"
          ],
          [
           "Venezia",
           "Palermo"
          ],
          [
           "Venezia",
           "Lamezia Terme"
          ],
          [
           "Vigo",
           "Barcelona"
          ],
          [
           "Vigo",
           "Madrid"
          ],
          [
           "Vienna",
           "Malaga"
          ],
          [
           "Vienna",
           "Spata"
          ],
          [
           "Vienna",
           "Barcelona"
          ],
          [
           "Vienna",
           "Orio al Serio"
          ],
          [
           "Vienna",
           "Zaventem"
          ],
          [
           "Vienna",
           "Paris"
          ],
          [
           "Vienna",
           "Cluj"
          ],
          [
           "Vienna",
           "Geneva"
          ],
          [
           "Vienna",
           "Hamburg"
          ],
          [
           "Vienna",
           "Helsinki"
          ],
          [
           "Vienna",
           "Klagenfurt on Lake Worthersee"
          ],
          [
           "Vienna",
           "Gatwick"
          ],
          [
           "Vienna",
           "Luxembourg"
          ],
          [
           "Vienna",
           "Madrid"
          ],
          [
           "Vienna",
           "Munich"
          ],
          [
           "Vienna",
           "Otopeni"
          ],
          [
           "Vienna",
           "Stuttgart"
          ],
          [
           "Vienna",
           "Tallinn"
          ],
          [
           "Vienna",
           "Tromso"
          ],
          [
           "Vienna",
           "Zurich"
          ],
          [
           "Kaliningrad",
           "Moscow"
          ],
          [
           "Valencia",
           "Zaventem"
          ],
          [
           "Valencia",
           "Madrid"
          ],
          [
           "Vilnius",
           "Malaga"
          ],
          [
           "Vilnius",
           "Tille"
          ],
          [
           "Vilnius",
           "Helsinki"
          ],
          [
           "Vilnius",
           "Munich"
          ],
          [
           "Volgograd",
           "St. Petersburg"
          ],
          [
           "Volgograd",
           "Moscow"
          ],
          [
           "Volgograd",
           "Moscow"
          ],
          [
           "Voronezh",
           "St. Petersburg"
          ],
          [
           "Caselle",
           "Gdansk"
          ],
          [
           "Caselle",
           "Poznan"
          ],
          [
           "Viseu",
           "Cascais"
          ],
          [
           "Viseu",
           "Vila Real"
          ],
          [
           "Warsaw",
           "Amsterdam"
          ],
          [
           "Warsaw",
           "Spata"
          ],
          [
           "Warsaw",
           "Barcelona"
          ],
          [
           "Warsaw",
           "Barcelona"
          ],
          [
           "Warsaw",
           "Orio al Serio"
          ],
          [
           "Warsaw",
           "Zaventem"
          ],
          [
           "Warsaw",
           "Budapest"
          ],
          [
           "Warsaw",
           "Paris"
          ],
          [
           "Warsaw",
           "Cluj"
          ],
          [
           "Warsaw",
           "Gdansk"
          ],
          [
           "Warsaw",
           "Geneva"
          ],
          [
           "Warsaw",
           "Helsinki"
          ],
          [
           "Warsaw",
           "Balice"
          ],
          [
           "Warsaw",
           "Ozarowice"
          ],
          [
           "Warsaw",
           "London"
          ],
          [
           "Warsaw",
           "Zgornji Brnik"
          ],
          [
           "Warsaw",
           "Luton"
          ],
          [
           "Warsaw",
           "Munich"
          ],
          [
           "Warsaw",
           "Prague"
          ],
          [
           "Warsaw",
           "Tallinn"
          ],
          [
           "Warsaw",
           "Vilnius"
          ],
          [
           "Warsaw",
           "Caselle"
          ],
          [
           "Warsaw",
           "Wroclaw"
          ],
          [
           "Warsaw",
           "Zurich"
          ],
          [
           "Warsaw",
           "Malaga"
          ],
          [
           "Warsaw",
           "Rome"
          ],
          [
           "Warsaw",
           "Charleroi"
          ],
          [
           "Wroclaw",
           "Malaga"
          ],
          [
           "Wroclaw",
           "Birmingham"
          ],
          [
           "Tille",
           "Wroclaw"
          ],
          [
           "Wroclaw",
           "Valencia"
          ],
          [
           "Zagreb",
           "Amsterdam"
          ],
          [
           "Zagreb",
           "Frankfurt am Main"
          ],
          [
           "Zagreb",
           "Munich"
          ],
          [
           "Zagreb",
           "Sarajevo"
          ],
          [
           "Zagreb",
           "Split"
          ],
          [
           "Zagreb",
           "Vienna"
          ],
          [
           "Zagreb",
           "Zurich"
          ],
          [
           "Zaragoza",
           "Tille"
          ],
          [
           "Zurich",
           "Malaga"
          ],
          [
           "Zurich",
           "Stockholm"
          ],
          [
           "Zurich",
           "Barcelona"
          ],
          [
           "Zurich",
           "Bologna"
          ],
          [
           "Zurich",
           "Zaventem"
          ],
          [
           "Zurich",
           "Paris"
          ],
          [
           "Zurich",
           "Edinburgh"
          ],
          [
           "Zurich",
           "Gothenburg"
          ],
          [
           "Zurich",
           "Geneva"
          ],
          [
           "Zurich",
           "Hamburg"
          ],
          [
           "Zurich",
           "Helsinki"
          ],
          [
           "Zurich",
           "Madrid"
          ],
          [
           "Zurich",
           "Munich"
          ],
          [
           "Zurich",
           "Otopeni"
          ],
          [
           "Zurich",
           "Prishtina"
          ],
          [
           "Zurich",
           "Rovaniemi"
          ],
          [
           "Zurich",
           "Stuttgart"
          ]
         ],
         "hovertemplate": "flight_time=%{x}<br>train_time=%{y}<br>city1=%{customdata[0]}<br>city2=%{customdata[1]}<extra></extra>",
         "legendgroup": "",
         "marker": {
          "color": "#636efa",
          "symbol": "circle"
         },
         "mode": "markers",
         "name": "",
         "showlegend": false,
         "type": "scattergl",
         "x": [
          85,
          85,
          95,
          215,
          225.8333333333333,
          165,
          225,
          325,
          205,
          240,
          203.75,
          245,
          50,
          97.5,
          110,
          230,
          205,
          165,
          80,
          77.5,
          65,
          70,
          50,
          50,
          100,
          70,
          130,
          160,
          145,
          150,
          217.5,
          175,
          155,
          70,
          155,
          205,
          95,
          187.5,
          172.5,
          130,
          220,
          142.5,
          107.5,
          80,
          75,
          200,
          85,
          80,
          80,
          130,
          110,
          97.5,
          70,
          160,
          80,
          70,
          100,
          55,
          185,
          80,
          185,
          75,
          160,
          25,
          30,
          90,
          265,
          165,
          65,
          77.5,
          135,
          100,
          162.5,
          61.66666666666666,
          175,
          135,
          180,
          210,
          165,
          75,
          230,
          245,
          95,
          53.333333333333336,
          165,
          92.5,
          100,
          120,
          115,
          95,
          190,
          125,
          120,
          100,
          85,
          165,
          65,
          152.5,
          155,
          55,
          172.5,
          240,
          170,
          190,
          53.75,
          90,
          100,
          100,
          177.5,
          65,
          75,
          135,
          20,
          240,
          155,
          130,
          165,
          100,
          120,
          90,
          90,
          92.5,
          145,
          137.5,
          75,
          102.5,
          122.5,
          92.5,
          85,
          80,
          65,
          175,
          130,
          210,
          215,
          135,
          150,
          135,
          72.5,
          102.5,
          108.33333333333331,
          67.5,
          135,
          90,
          180,
          40,
          45,
          145,
          80,
          157.5,
          25,
          35,
          75,
          90,
          91.66666666666669,
          145,
          70,
          85,
          60,
          97.5,
          80,
          82.5,
          130,
          165,
          160,
          125,
          125,
          135,
          190,
          130,
          105,
          150,
          213.75,
          145,
          120,
          94.5,
          90,
          100,
          122.5,
          130,
          142.5,
          170,
          72.5,
          77.5,
          105,
          100,
          135,
          135,
          100,
          165,
          150,
          165,
          105,
          100,
          85,
          105,
          85,
          70,
          140,
          200,
          100,
          190,
          240,
          152.5,
          55,
          180,
          155,
          60,
          180,
          65,
          180,
          120,
          125,
          121.66666666666669,
          130,
          175,
          55,
          40,
          115,
          48.333333333333336,
          40,
          220,
          200,
          87.5,
          72.5,
          115,
          130,
          120,
          85,
          235,
          90,
          65,
          52.5,
          123.75,
          60,
          100,
          105,
          90,
          125,
          115,
          195,
          120,
          100,
          75,
          85,
          96.66666666666669,
          102.5,
          105,
          110,
          150,
          135,
          130,
          175,
          105,
          100,
          95,
          85,
          112.5,
          105,
          160,
          95,
          107.5,
          167.5,
          217.5,
          185,
          175,
          195,
          100,
          105,
          96.25,
          96.25,
          92.5,
          92.5,
          90,
          90,
          165,
          158,
          155,
          85,
          80,
          110,
          125,
          105,
          130,
          125,
          95,
          95,
          107.5,
          125,
          55,
          75,
          75,
          50,
          140,
          210,
          160,
          190,
          85,
          185,
          160,
          70,
          162.5,
          145,
          210,
          95,
          70,
          65,
          200,
          160,
          65,
          75,
          105,
          137.5,
          85,
          175,
          177.5,
          155,
          175,
          145,
          97.5,
          120,
          140,
          130,
          115,
          85,
          137.5,
          180,
          165,
          65,
          112.5,
          105,
          165,
          190,
          188.75,
          47.5,
          172.5,
          187.5,
          157.5,
          155,
          65,
          125,
          75,
          60,
          125,
          105,
          65,
          127.5,
          115,
          120,
          80,
          130,
          55,
          90,
          65,
          160,
          150,
          160,
          70,
          185,
          95,
          152.5,
          90,
          70,
          62.5,
          140,
          120,
          67.5,
          140,
          110,
          142.5,
          65,
          70,
          80,
          75,
          65,
          102.5,
          125,
          60,
          145,
          95,
          142.5,
          110,
          130,
          145,
          75,
          115,
          135,
          185,
          175,
          165,
          75,
          132.5,
          130,
          90,
          60,
          97.5,
          60,
          100,
          75,
          65,
          50,
          92.5,
          105,
          85,
          65,
          67.5,
          160,
          220,
          190,
          97.5,
          60,
          90,
          105,
          77.5,
          105,
          65,
          45,
          140,
          90,
          70,
          50,
          65,
          155,
          80,
          86.66666666666667,
          120,
          85,
          95,
          60,
          35,
          85,
          20,
          71.66666666666667,
          45,
          245,
          95,
          125,
          80,
          102.5,
          235,
          75,
          135,
          87.5,
          70,
          160,
          90,
          110,
          100,
          105,
          80,
          135,
          97.5,
          125,
          75,
          137.5,
          100,
          55,
          70,
          200,
          30,
          65,
          245,
          157.5,
          170,
          122.5,
          117.5,
          90,
          265,
          62.5,
          77.5,
          135,
          140,
          70,
          55,
          75,
          50,
          130,
          112.5,
          127.5,
          155,
          123.33333333333331,
          140,
          57.5,
          97.5,
          72.5,
          105,
          60,
          50,
          102.5,
          105,
          115,
          168.33333333333334,
          30,
          195,
          270,
          72.5,
          297.5,
          15,
          222.5,
          120,
          120,
          167.5,
          107.5,
          152.5,
          105,
          135,
          147.5,
          120,
          120,
          165,
          120,
          107.5,
          155,
          127.5,
          147.5,
          110,
          137.5,
          115,
          100,
          62.5,
          185,
          55,
          140,
          132.5,
          50,
          75,
          86.66666666666667,
          220,
          195,
          155,
          153.33333333333334,
          147.5,
          143.75,
          145,
          60,
          70,
          120,
          107.5,
          102.5,
          135,
          105,
          105,
          80,
          120,
          182.5,
          152.5,
          130,
          76.66666666666667,
          55,
          110,
          75,
          170,
          135,
          55,
          185,
          175,
          85,
          70,
          160,
          147.5,
          245,
          215,
          145,
          137.5,
          110,
          95,
          145,
          125,
          71.66666666666667,
          85,
          80,
          185,
          127.5,
          112.5,
          102.5,
          107.5,
          120,
          170,
          112.5,
          147.5,
          155,
          130,
          77.5,
          147.5,
          200,
          195,
          130,
          120,
          115,
          140,
          135,
          107.5,
          80,
          115,
          95,
          85,
          82.5,
          95,
          115,
          185,
          145,
          70,
          100,
          97.5,
          105,
          190,
          117.5,
          115,
          170,
          155,
          151.25,
          185,
          190,
          155,
          275,
          155,
          165,
          165,
          160,
          145,
          80,
          190,
          250,
          215,
          92.5,
          250,
          170,
          80,
          172.5,
          125,
          75,
          75,
          140,
          105,
          205,
          207.5,
          202.5,
          195,
          225,
          167.5,
          127.5,
          162.5,
          75,
          160,
          185,
          72.5,
          140,
          115,
          80,
          75,
          85,
          155,
          85,
          147.5,
          175,
          145,
          52.5,
          177.5,
          77.5,
          135,
          61.25,
          70,
          162.5,
          87.5,
          97.5,
          167.5,
          125,
          115,
          100,
          116.66666666666669,
          172.5,
          150,
          62.5,
          167.5,
          155,
          125,
          130,
          135,
          170,
          170,
          170,
          145,
          145,
          137.5,
          185,
          195,
          167.5,
          200,
          70,
          80,
          125,
          87.5,
          120,
          95,
          120,
          95,
          82.5,
          105,
          140,
          65,
          107.5,
          90,
          62.5,
          192.5,
          195,
          197.5,
          142.5,
          160,
          180,
          160,
          197.5,
          130,
          85,
          90,
          85,
          180,
          155,
          135,
          125,
          115,
          67.5,
          77.5,
          55,
          65,
          50,
          77.5,
          110,
          120,
          130,
          50,
          145,
          85,
          137.5,
          65,
          55,
          120,
          77.5,
          60,
          175,
          75,
          80,
          105,
          125,
          80,
          96.66666666666669,
          120,
          72.5,
          190,
          80,
          182.5,
          170,
          92.5,
          82.5,
          100,
          90,
          145,
          175,
          175,
          125,
          60,
          82.5,
          265,
          85,
          72.5,
          125,
          85,
          87.5,
          90,
          75,
          116.66666666666669,
          250,
          230,
          115,
          72.5,
          56.25,
          150,
          55,
          125,
          60,
          117.5,
          150,
          160,
          160,
          125,
          190,
          85,
          75,
          132.5,
          146.25,
          135,
          127.5,
          95,
          80,
          115,
          100,
          90,
          75,
          117.5,
          95,
          160,
          60,
          127.5,
          80,
          190,
          100,
          95,
          127.5,
          92.5,
          65,
          200,
          147.5,
          80,
          105,
          90,
          185,
          158.75,
          125,
          105,
          145,
          110,
          75,
          85,
          172.5,
          141.66666666666666,
          145,
          70,
          180,
          90,
          165,
          65,
          270,
          39,
          175,
          132.5,
          50,
          127.5,
          48,
          80,
          172.5,
          90,
          102.5,
          72.5,
          92.5,
          70,
          115,
          95,
          115,
          135,
          35,
          40,
          202.5,
          80,
          175,
          120,
          185,
          165,
          155,
          135,
          122.5,
          220,
          120,
          130,
          110,
          50,
          95,
          120,
          50,
          145,
          160,
          80,
          120,
          102.5,
          135,
          150,
          130,
          77.5,
          152.5,
          110,
          202.5,
          65,
          170,
          135,
          130,
          145,
          140,
          140,
          120,
          155,
          100,
          125,
          115,
          132.5,
          155,
          130,
          190,
          180,
          165,
          142.5,
          115,
          185,
          117.5,
          130,
          120,
          130,
          155,
          175,
          122.5,
          135,
          125,
          135,
          132.5,
          145,
          150,
          212.5,
          40,
          107.5,
          50,
          25,
          135,
          113.75,
          112.5,
          152.5,
          100,
          160,
          160,
          150,
          160,
          180,
          67.5,
          180,
          185,
          150,
          170,
          235,
          105,
          127.5,
          125,
          77.5,
          150,
          125,
          195,
          170,
          115,
          100,
          60,
          87.5,
          90,
          162.5,
          220,
          107.5,
          157.5,
          147.5,
          197.5,
          130,
          120,
          85,
          102.5,
          185,
          102.5,
          105,
          110,
          60,
          175,
          35,
          170,
          50,
          85,
          107.5,
          150,
          45,
          120,
          172.5,
          260,
          145,
          65,
          75,
          140,
          57.5,
          165,
          85,
          102.5,
          85,
          135,
          115,
          140,
          72.5,
          155,
          162.5,
          102.5,
          97.5,
          120,
          100,
          90,
          75,
          130,
          105,
          145,
          60,
          85,
          205,
          140,
          141.25,
          130,
          205,
          167.5,
          127.5,
          105,
          95,
          65,
          110,
          60,
          165,
          160,
          112.5,
          80,
          110,
          110,
          108.33333333333331,
          165,
          75,
          90,
          140,
          135,
          190,
          145,
          65,
          75,
          95,
          100,
          105,
          75,
          200,
          125,
          142.5,
          85,
          105,
          122.5,
          80,
          95,
          95,
          147.5,
          45,
          142.5,
          110,
          190,
          62.5,
          100,
          75,
          145,
          220,
          81.66666666666667,
          115,
          142.5,
          62.5,
          265,
          160,
          105,
          125,
          155,
          125,
          107.5,
          115,
          125,
          107.5,
          50,
          10,
          130,
          150,
          190,
          184.5,
          127.5,
          127.5,
          80,
          150,
          90,
          57.5,
          140,
          105,
          57.5,
          50,
          170,
          95,
          155,
          105,
          80,
          97.5,
          67.5,
          120,
          56.66666666666666,
          125,
          237.5,
          137.5,
          125,
          220,
          125,
          115,
          187.5,
          130,
          95,
          70,
          50,
          50,
          50,
          90,
          105,
          155,
          145,
          105,
          70,
          72.5,
          75,
          135,
          120,
          55,
          82.5,
          170,
          145,
          55,
          150,
          127.5,
          205,
          45
         ],
         "xaxis": "x",
         "y": [
          970,
          1084,
          662,
          1724,
          1724,
          1724,
          1724,
          6003,
          3032,
          2074,
          3492,
          2689.3,
          653.7,
          657,
          801.3333333333334,
          2420,
          1895,
          1412,
          488,
          1057.1666666666667,
          1320,
          996,
          751.9166666666666,
          881.65,
          951.65,
          480,
          1381.4833333333333,
          1317,
          1540,
          1188,
          2208,
          1648,
          1264,
          410,
          1271,
          2137,
          872,
          1309,
          1274,
          1116,
          2686.3,
          922,
          1886,
          754,
          751,
          2365,
          762,
          487,
          763,
          1087,
          1032.8166666666666,
          1414,
          394,
          2089,
          675,
          626,
          593,
          749,
          1989,
          754.8166666666667,
          2320,
          717,
          1179,
          475.56666666666666,
          675.2833333333333,
          1403,
          2592,
          1834.9833333333333,
          456,
          816.4833333333333,
          1237,
          1166,
          2240,
          825.8,
          3164.3,
          2290.3,
          2584.3,
          2515.3,
          3087.8,
          756.55,
          2871.3,
          3332.3,
          1278.8,
          383.81666666666666,
          2909.8,
          615,
          1045,
          884,
          975,
          1430,
          2006,
          1041,
          1026.0833333333333,
          761.5666666666667,
          647,
          1956,
          360,
          1674.9,
          1303,
          204.61666666666667,
          2709,
          2790,
          2445,
          2665,
          1744.4,
          660,
          1262,
          1130,
          2068,
          757,
          757,
          1269,
          100,
          3312,
          1376.4833333333333,
          1545.5,
          1794.65,
          952.4833333333333,
          1237.05,
          986.6,
          1161.4833333333333,
          824.9833333333333,
          2149.483333333333,
          1841.9833333333333,
          550.5,
          627.4833333333333,
          1228.4833333333333,
          1075,
          858,
          829,
          744,
          1559,
          1135,
          2198.116666666667,
          2471,
          986,
          1018,
          877,
          510,
          615,
          859,
          270,
          1018,
          1027,
          2282,
          797.6333333333333,
          447.6666666666667,
          2060,
          685,
          1675,
          454.53333333333336,
          232,
          466,
          656.0666666666667,
          1230.0666666666666,
          1261,
          465,
          611,
          754.6333333333333,
          708.6333333333333,
          610,
          701.7,
          1758.0666666666666,
          1560,
          1353,
          1136,
          1010.9833333333333,
          1001,
          1263,
          830,
          1054.4166666666667,
          1182,
          1999,
          1820,
          1794.9666666666667,
          814.6833333333333,
          649,
          769,
          1034,
          1353.0833333333333,
          2009,
          1172,
          380,
          593,
          974.4333333333333,
          828.3166666666667,
          1110,
          1075.8166666666666,
          788.6333333333333,
          1152,
          1152,
          1348,
          795.1666666666666,
          795.1666666666666,
          647,
          749,
          435,
          342,
          1314,
          2347,
          482,
          1987,
          3021.75,
          1214.2833333333333,
          633.5666666666667,
          2305,
          2515,
          792.5333333333333,
          1424,
          355,
          2396.1,
          1121,
          2080,
          1518.65,
          1904,
          2055,
          718,
          1660.2666666666667,
          646.8666666666667,
          456,
          296,
          1962,
          1895,
          790,
          456,
          1262,
          1107,
          1058,
          656,
          2130.4666666666667,
          716,
          1022,
          258,
          1187,
          430,
          1416,
          1216.8166666666666,
          1620.35,
          1101,
          1101,
          1686,
          1244,
          820,
          478,
          1785,
          942,
          1060,
          1080,
          1734.1166666666666,
          2174.116666666667,
          843,
          1145,
          2069,
          740.0666666666667,
          603,
          745,
          745,
          868.2666666666667,
          716.8666666666667,
          1583.8666666666666,
          694.8666666666667,
          900.5666666666667,
          1261,
          1376,
          2110,
          2110,
          2110,
          1021,
          1059,
          480,
          519,
          480,
          519,
          480,
          519,
          2104,
          2104,
          2104,
          410,
          781,
          1278,
          1343,
          925,
          1535,
          910,
          972,
          892.2166666666667,
          933,
          1161,
          269,
          550,
          627,
          109,
          2018,
          2972.85,
          1942.5666666666666,
          2818,
          562,
          1854,
          1224,
          449,
          1957.4833333333333,
          2069.633333333333,
          3055.2833333333333,
          725,
          485,
          455.9,
          1925,
          1368,
          550,
          604,
          749,
          889,
          574,
          1480,
          1388,
          1359,
          2663.85,
          1413,
          1003.05,
          1023,
          1761,
          1194,
          1125.6666666666667,
          929,
          1728.7166666666667,
          1546,
          1551,
          770,
          820,
          623,
          1649.4333333333334,
          1568,
          2374.6,
          225,
          1705,
          1618,
          2080,
          1197,
          265,
          2197.85,
          460,
          200,
          1103,
          1040,
          873,
          943,
          943,
          969,
          585.1166666666667,
          1126,
          85,
          841,
          515,
          2281.5666666666666,
          1239,
          1203,
          509,
          1790,
          859.3833333333333,
          1535,
          710,
          704,
          748,
          1997,
          1997,
          665.3333333333334,
          1241,
          1055,
          2273.2,
          1080,
          390,
          1144.6333333333334,
          668.6833333333333,
          555.4,
          955,
          1561,
          666.7,
          1407,
          610,
          1387.0333333333333,
          707,
          999,
          1280,
          637,
          1381,
          1816,
          1405,
          1405,
          1370,
          490,
          1168,
          1018,
          708,
          401,
          795,
          378,
          760,
          515,
          450,
          109,
          749,
          1091,
          555,
          525,
          411,
          1907,
          2964.85,
          2433.3166666666666,
          856.8166666666667,
          268,
          678,
          661,
          664,
          813,
          284,
          160,
          1395,
          544.8333333333334,
          375,
          79,
          521,
          2013,
          754,
          553,
          925,
          642,
          730,
          349,
          214.78333333333333,
          479.48333333333335,
          212.13333333333333,
          377.48333333333335,
          328.48333333333335,
          2447,
          933,
          815,
          227,
          2085,
          2465,
          695,
          824.9166666666666,
          640,
          445,
          1548,
          571,
          792,
          845,
          823,
          603,
          1470,
          739,
          1100,
          580,
          2176.483333333333,
          814,
          285,
          361,
          1820,
          579.5333333333333,
          845,
          2952.2166666666667,
          2242,
          2429,
          1027,
          1786,
          956.85,
          3092,
          462,
          500,
          1374.2,
          2174.75,
          653,
          622.2333333333333,
          627.2333333333333,
          457.45,
          1484.6166666666666,
          973.2,
          1070,
          1207,
          978,
          1083,
          314,
          700,
          1688.8666666666666,
          584,
          432.65,
          356.65,
          546.35,
          1400.4,
          1511.4,
          1511.4,
          305.53333333333336,
          2386.4333333333334,
          3216.5666666666666,
          451.81666666666666,
          3771,
          607.6666666666666,
          2208.3,
          982.3,
          1430.3,
          1725.6166666666666,
          1146.9333333333334,
          1239.3,
          1038.75,
          1293.1,
          2079.75,
          1173.75,
          1001.3,
          1412.3,
          1006.3,
          1352.3,
          1196.3,
          1062.9,
          1173.3,
          1457.75,
          1474.75,
          1147.75,
          2866.733333333333,
          450.3,
          2042.3,
          322.75,
          1145,
          1145,
          817.4,
          508,
          785,
          3070,
          2116.25,
          2186.1,
          1829.9666666666667,
          1177.2666666666667,
          1210,
          1696.1666666666667,
          248,
          537.8166666666667,
          1369,
          735,
          735,
          1495,
          797,
          797,
          645,
          748.15,
          1994,
          1632.6166666666666,
          1206,
          597.3833333333333,
          615.5666666666667,
          1437,
          401.71666666666664,
          1399,
          937,
          417.2,
          1393,
          1393,
          596,
          596,
          1770,
          1770,
          3215.9666666666667,
          3215.9666666666667,
          1016,
          1016,
          1253,
          1253,
          1109,
          1109,
          490,
          540,
          540,
          2030.1833333333334,
          1571,
          1571,
          714,
          714,
          1127,
          1386,
          677,
          1176,
          1176,
          861,
          237,
          1810,
          2307,
          2307,
          1009,
          1009,
          860,
          1156,
          1156,
          797,
          606.2,
          849,
          819,
          767,
          1121,
          675,
          1077.5166666666667,
          2537,
          1257,
          671,
          893,
          865,
          734,
          1379,
          665,
          1015,
          1293,
          1172,
          1172,
          1499,
          2081,
          1304,
          3360,
          1429,
          1840,
          1840,
          1481.4666666666667,
          1145,
          500,
          1685,
          2735,
          2047,
          642,
          2362,
          1507,
          723,
          1446,
          1022,
          911,
          535,
          1312,
          720,
          2568.45,
          2358,
          2576.483333333333,
          1975.2,
          3035.2833333333333,
          1862.7166666666667,
          1275,
          1144.4666666666667,
          986.9833333333333,
          1258.2833333333333,
          1775.3833333333334,
          366.3833333333333,
          893.3833333333333,
          658.3833333333333,
          766.3833333333333,
          449,
          455,
          1239,
          532.45,
          1064,
          1388,
          1235,
          960.5833333333334,
          1740,
          635,
          1023,
          736,
          736,
          1402,
          590,
          695,
          1279,
          750.15,
          1470,
          771,
          840,
          2510,
          1695.8166666666666,
          730,
          1794,
          1335,
          969,
          1068.8333333333333,
          1195,
          1765,
          1597.4333333333334,
          1880,
          1264,
          1226.7,
          1359.0833333333333,
          2647,
          2647,
          2647,
          2647,
          413,
          413,
          632,
          414,
          806,
          808,
          1255.9166666666667,
          490.26666666666665,
          490.26666666666665,
          656.2666666666667,
          1210,
          400.3833333333333,
          620,
          675.2666666666667,
          602,
          4146,
          1444,
          1444,
          1444,
          2629,
          1794,
          3690,
          3212,
          1362,
          1189,
          498,
          498,
          1355,
          1423,
          1170,
          931,
          768,
          435,
          632,
          470,
          640,
          315,
          462,
          694,
          1625.4833333333333,
          1597,
          130,
          1207,
          625.5333333333333,
          1244.3666666666666,
          496.48333333333335,
          79.48333333333333,
          1702.9833333333333,
          582.3666666666667,
          604.8,
          1316.3666666666666,
          699.3666666666667,
          598.3666666666667,
          1130.3666666666666,
          1673.3666666666666,
          548,
          591,
          760,
          692,
          1910,
          495,
          1620,
          2000,
          659,
          704,
          925,
          626.6333333333333,
          1654,
          2620.1833333333334,
          3116.25,
          2174.7166666666667,
          1034,
          834,
          3185.85,
          714.2833333333333,
          560,
          930,
          596,
          661,
          643,
          555,
          1077.1666666666667,
          2607,
          2619,
          1155,
          568,
          444,
          1363,
          225,
          1162,
          535,
          2096.2833333333333,
          1385,
          1965,
          2201,
          1707,
          2377,
          630.2833333333333,
          464.28333333333336,
          1822.2833333333333,
          1910,
          1472,
          1472,
          749,
          1113,
          2103,
          913.1833333333333,
          770.3333333333334,
          637.3333333333334,
          1434.3333333333333,
          1393,
          2315,
          561.7,
          1367.3333333333333,
          1073,
          1773,
          1488.6333333333334,
          892.3333333333334,
          2353,
          1481.7,
          315,
          1475,
          1051,
          958.7666666666667,
          616,
          767,
          1245,
          2433.8,
          2032.8,
          1156,
          1262,
          1344,
          637.7333333333333,
          690,
          1890,
          1576,
          1485,
          1449.3666666666666,
          2297,
          1586,
          2043,
          530.5333333333333,
          3331,
          611.8333333333334,
          2163,
          1445,
          341.53333333333336,
          1265,
          335.25,
          703,
          1307,
          735,
          1073,
          185,
          363,
          448.2,
          3018,
          746,
          1533,
          1730,
          444.1666666666667,
          488.46666666666664,
          2730,
          804.4333333333333,
          2247,
          1385.6166666666666,
          2014,
          1829,
          1781,
          1655.05,
          1475,
          2730,
          1370,
          1690,
          1352,
          714.7166666666667,
          960,
          1499,
          381.2,
          1395,
          1348,
          863,
          1163.05,
          665,
          1253.0833333333333,
          1313,
          1328,
          756,
          1291,
          483.15,
          1838.7,
          607,
          1614,
          1477.5,
          1122,
          1477.6166666666666,
          1460.2166666666667,
          1404,
          790.6333333333333,
          1391.3666666666666,
          824,
          1227,
          1275,
          1305,
          2107.766666666667,
          1477,
          2435,
          2145,
          1354,
          1464,
          1203,
          2337.633333333333,
          1168.6333333333334,
          1315.4,
          1263,
          1537,
          1292,
          1886.7166666666667,
          1161.7,
          1378,
          1236,
          1460,
          1086,
          1723,
          1981,
          3899,
          317.9,
          1986,
          551,
          231.95,
          1630,
          881,
          881,
          2854,
          750,
          1381.5833333333333,
          1335,
          1335,
          1475,
          2029,
          582,
          1835,
          1385,
          1492,
          1551,
          1917,
          638,
          1247,
          915,
          692,
          2013,
          823,
          2946.8166666666666,
          2315.8166666666666,
          1361.1,
          1184.8166666666666,
          809.8166666666667,
          1104.8166666666666,
          1104.8166666666666,
          2224.8166666666666,
          2630.8166666666666,
          1393.8166666666666,
          2171.8166666666666,
          1934.8166666666666,
          2390.8166666666666,
          1758.2,
          1782.8166666666666,
          1307.8166666666666,
          1280.8166666666666,
          2367.8166666666666,
          1378.8166666666666,
          1312.8166666666666,
          1406.5166666666667,
          1297.8166666666666,
          2300,
          167,
          2114,
          141,
          585,
          973,
          2126,
          288,
          2212.75,
          2695.75,
          4590,
          1924,
          975,
          600,
          1777,
          467,
          1951.8833333333334,
          933.8833333333333,
          913.8833333333333,
          1212.9833333333333,
          1646,
          862.8833333333333,
          1168.8833333333334,
          787.8833333333333,
          2181.883333333333,
          1907.7166666666667,
          1117.35,
          1159,
          1883,
          1556,
          1167.6333333333334,
          654,
          1608,
          1268.75,
          1332.1333333333334,
          801.7833333333333,
          766,
          3011,
          1408,
          1408,
          1408,
          2701,
          1692,
          1204,
          949,
          949,
          474,
          1407,
          231,
          2059.633333333333,
          2342.1,
          1049,
          720,
          873,
          873,
          1018.5166666666667,
          1433,
          454,
          779,
          1167,
          1167,
          2339,
          1308,
          510,
          524.3666666666667,
          1114.3333333333333,
          733,
          497,
          270,
          2083,
          1820.9666666666667,
          1366,
          712.05,
          794,
          731,
          835,
          703,
          657,
          1965,
          318.8333333333333,
          992,
          804.4666666666667,
          1478,
          269,
          1093,
          426,
          1776,
          3491.2833333333333,
          525,
          1356.4,
          1043,
          113,
          2634,
          1796.9,
          910,
          1113,
          2125,
          1420,
          1420,
          788,
          1366.1833333333334,
          1283.2666666666667,
          323.51666666666665,
          79.51666666666667,
          919,
          2300.85,
          1686.1666666666667,
          1686.1666666666667,
          1228.9666666666667,
          1019,
          791,
          1081,
          1474,
          485,
          1136,
          1146,
          288.6166666666667,
          239.48333333333332,
          1196,
          1060,
          1230,
          740,
          670,
          883,
          448.71666666666664,
          1295.7,
          384,
          1029,
          2265,
          1318,
          1089,
          1965.0833333333333,
          1150.0833333333333,
          1345.4333333333334,
          1799.0833333333333,
          1019,
          742,
          488,
          480,
          305,
          305,
          717,
          784.9,
          1421,
          1343,
          1001,
          415,
          611,
          550,
          1006,
          1220,
          190,
          712,
          2244,
          1236,
          486,
          1677,
          1916.4833333333333,
          2605,
          334
         ],
         "yaxis": "y"
        }
       ],
       "layout": {
        "legend": {
         "tracegroupgap": 0
        },
        "margin": {
         "t": 60
        },
        "template": {
         "data": {
          "bar": [
           {
            "error_x": {
             "color": "#2a3f5f"
            },
            "error_y": {
             "color": "#2a3f5f"
            },
            "marker": {
             "line": {
              "color": "#E5ECF6",
              "width": 0.5
             },
             "pattern": {
              "fillmode": "overlay",
              "size": 10,
              "solidity": 0.2
             }
            },
            "type": "bar"
           }
          ],
          "barpolar": [
           {
            "marker": {
             "line": {
              "color": "#E5ECF6",
              "width": 0.5
             },
             "pattern": {
              "fillmode": "overlay",
              "size": 10,
              "solidity": 0.2
             }
            },
            "type": "barpolar"
           }
          ],
          "carpet": [
           {
            "aaxis": {
             "endlinecolor": "#2a3f5f",
             "gridcolor": "white",
             "linecolor": "white",
             "minorgridcolor": "white",
             "startlinecolor": "#2a3f5f"
            },
            "baxis": {
             "endlinecolor": "#2a3f5f",
             "gridcolor": "white",
             "linecolor": "white",
             "minorgridcolor": "white",
             "startlinecolor": "#2a3f5f"
            },
            "type": "carpet"
           }
          ],
          "choropleth": [
           {
            "colorbar": {
             "outlinewidth": 0,
             "ticks": ""
            },
            "type": "choropleth"
           }
          ],
          "contour": [
           {
            "colorbar": {
             "outlinewidth": 0,
             "ticks": ""
            },
            "colorscale": [
             [
              0,
              "#0d0887"
             ],
             [
              0.1111111111111111,
              "#46039f"
             ],
             [
              0.2222222222222222,
              "#7201a8"
             ],
             [
              0.3333333333333333,
              "#9c179e"
             ],
             [
              0.4444444444444444,
              "#bd3786"
             ],
             [
              0.5555555555555556,
              "#d8576b"
             ],
             [
              0.6666666666666666,
              "#ed7953"
             ],
             [
              0.7777777777777778,
              "#fb9f3a"
             ],
             [
              0.8888888888888888,
              "#fdca26"
             ],
             [
              1,
              "#f0f921"
             ]
            ],
            "type": "contour"
           }
          ],
          "contourcarpet": [
           {
            "colorbar": {
             "outlinewidth": 0,
             "ticks": ""
            },
            "type": "contourcarpet"
           }
          ],
          "heatmap": [
           {
            "colorbar": {
             "outlinewidth": 0,
             "ticks": ""
            },
            "colorscale": [
             [
              0,
              "#0d0887"
             ],
             [
              0.1111111111111111,
              "#46039f"
             ],
             [
              0.2222222222222222,
              "#7201a8"
             ],
             [
              0.3333333333333333,
              "#9c179e"
             ],
             [
              0.4444444444444444,
              "#bd3786"
             ],
             [
              0.5555555555555556,
              "#d8576b"
             ],
             [
              0.6666666666666666,
              "#ed7953"
             ],
             [
              0.7777777777777778,
              "#fb9f3a"
             ],
             [
              0.8888888888888888,
              "#fdca26"
             ],
             [
              1,
              "#f0f921"
             ]
            ],
            "type": "heatmap"
           }
          ],
          "heatmapgl": [
           {
            "colorbar": {
             "outlinewidth": 0,
             "ticks": ""
            },
            "colorscale": [
             [
              0,
              "#0d0887"
             ],
             [
              0.1111111111111111,
              "#46039f"
             ],
             [
              0.2222222222222222,
              "#7201a8"
             ],
             [
              0.3333333333333333,
              "#9c179e"
             ],
             [
              0.4444444444444444,
              "#bd3786"
             ],
             [
              0.5555555555555556,
              "#d8576b"
             ],
             [
              0.6666666666666666,
              "#ed7953"
             ],
             [
              0.7777777777777778,
              "#fb9f3a"
             ],
             [
              0.8888888888888888,
              "#fdca26"
             ],
             [
              1,
              "#f0f921"
             ]
            ],
            "type": "heatmapgl"
           }
          ],
          "histogram": [
           {
            "marker": {
             "pattern": {
              "fillmode": "overlay",
              "size": 10,
              "solidity": 0.2
             }
            },
            "type": "histogram"
           }
          ],
          "histogram2d": [
           {
            "colorbar": {
             "outlinewidth": 0,
             "ticks": ""
            },
            "colorscale": [
             [
              0,
              "#0d0887"
             ],
             [
              0.1111111111111111,
              "#46039f"
             ],
             [
              0.2222222222222222,
              "#7201a8"
             ],
             [
              0.3333333333333333,
              "#9c179e"
             ],
             [
              0.4444444444444444,
              "#bd3786"
             ],
             [
              0.5555555555555556,
              "#d8576b"
             ],
             [
              0.6666666666666666,
              "#ed7953"
             ],
             [
              0.7777777777777778,
              "#fb9f3a"
             ],
             [
              0.8888888888888888,
              "#fdca26"
             ],
             [
              1,
              "#f0f921"
             ]
            ],
            "type": "histogram2d"
           }
          ],
          "histogram2dcontour": [
           {
            "colorbar": {
             "outlinewidth": 0,
             "ticks": ""
            },
            "colorscale": [
             [
              0,
              "#0d0887"
             ],
             [
              0.1111111111111111,
              "#46039f"
             ],
             [
              0.2222222222222222,
              "#7201a8"
             ],
             [
              0.3333333333333333,
              "#9c179e"
             ],
             [
              0.4444444444444444,
              "#bd3786"
             ],
             [
              0.5555555555555556,
              "#d8576b"
             ],
             [
              0.6666666666666666,
              "#ed7953"
             ],
             [
              0.7777777777777778,
              "#fb9f3a"
             ],
             [
              0.8888888888888888,
              "#fdca26"
             ],
             [
              1,
              "#f0f921"
             ]
            ],
            "type": "histogram2dcontour"
           }
          ],
          "mesh3d": [
           {
            "colorbar": {
             "outlinewidth": 0,
             "ticks": ""
            },
            "type": "mesh3d"
           }
          ],
          "parcoords": [
           {
            "line": {
             "colorbar": {
              "outlinewidth": 0,
              "ticks": ""
             }
            },
            "type": "parcoords"
           }
          ],
          "pie": [
           {
            "automargin": true,
            "type": "pie"
           }
          ],
          "scatter": [
           {
            "fillpattern": {
             "fillmode": "overlay",
             "size": 10,
             "solidity": 0.2
            },
            "type": "scatter"
           }
          ],
          "scatter3d": [
           {
            "line": {
             "colorbar": {
              "outlinewidth": 0,
              "ticks": ""
             }
            },
            "marker": {
             "colorbar": {
              "outlinewidth": 0,
              "ticks": ""
             }
            },
            "type": "scatter3d"
           }
          ],
          "scattercarpet": [
           {
            "marker": {
             "colorbar": {
              "outlinewidth": 0,
              "ticks": ""
             }
            },
            "type": "scattercarpet"
           }
          ],
          "scattergeo": [
           {
            "marker": {
             "colorbar": {
              "outlinewidth": 0,
              "ticks": ""
             }
            },
            "type": "scattergeo"
           }
          ],
          "scattergl": [
           {
            "marker": {
             "colorbar": {
              "outlinewidth": 0,
              "ticks": ""
             }
            },
            "type": "scattergl"
           }
          ],
          "scattermapbox": [
           {
            "marker": {
             "colorbar": {
              "outlinewidth": 0,
              "ticks": ""
             }
            },
            "type": "scattermapbox"
           }
          ],
          "scatterpolar": [
           {
            "marker": {
             "colorbar": {
              "outlinewidth": 0,
              "ticks": ""
             }
            },
            "type": "scatterpolar"
           }
          ],
          "scatterpolargl": [
           {
            "marker": {
             "colorbar": {
              "outlinewidth": 0,
              "ticks": ""
             }
            },
            "type": "scatterpolargl"
           }
          ],
          "scatterternary": [
           {
            "marker": {
             "colorbar": {
              "outlinewidth": 0,
              "ticks": ""
             }
            },
            "type": "scatterternary"
           }
          ],
          "surface": [
           {
            "colorbar": {
             "outlinewidth": 0,
             "ticks": ""
            },
            "colorscale": [
             [
              0,
              "#0d0887"
             ],
             [
              0.1111111111111111,
              "#46039f"
             ],
             [
              0.2222222222222222,
              "#7201a8"
             ],
             [
              0.3333333333333333,
              "#9c179e"
             ],
             [
              0.4444444444444444,
              "#bd3786"
             ],
             [
              0.5555555555555556,
              "#d8576b"
             ],
             [
              0.6666666666666666,
              "#ed7953"
             ],
             [
              0.7777777777777778,
              "#fb9f3a"
             ],
             [
              0.8888888888888888,
              "#fdca26"
             ],
             [
              1,
              "#f0f921"
             ]
            ],
            "type": "surface"
           }
          ],
          "table": [
           {
            "cells": {
             "fill": {
              "color": "#EBF0F8"
             },
             "line": {
              "color": "white"
             }
            },
            "header": {
             "fill": {
              "color": "#C8D4E3"
             },
             "line": {
              "color": "white"
             }
            },
            "type": "table"
           }
          ]
         },
         "layout": {
          "annotationdefaults": {
           "arrowcolor": "#2a3f5f",
           "arrowhead": 0,
           "arrowwidth": 1
          },
          "autotypenumbers": "strict",
          "coloraxis": {
           "colorbar": {
            "outlinewidth": 0,
            "ticks": ""
           }
          },
          "colorscale": {
           "diverging": [
            [
             0,
             "#8e0152"
            ],
            [
             0.1,
             "#c51b7d"
            ],
            [
             0.2,
             "#de77ae"
            ],
            [
             0.3,
             "#f1b6da"
            ],
            [
             0.4,
             "#fde0ef"
            ],
            [
             0.5,
             "#f7f7f7"
            ],
            [
             0.6,
             "#e6f5d0"
            ],
            [
             0.7,
             "#b8e186"
            ],
            [
             0.8,
             "#7fbc41"
            ],
            [
             0.9,
             "#4d9221"
            ],
            [
             1,
             "#276419"
            ]
           ],
           "sequential": [
            [
             0,
             "#0d0887"
            ],
            [
             0.1111111111111111,
             "#46039f"
            ],
            [
             0.2222222222222222,
             "#7201a8"
            ],
            [
             0.3333333333333333,
             "#9c179e"
            ],
            [
             0.4444444444444444,
             "#bd3786"
            ],
            [
             0.5555555555555556,
             "#d8576b"
            ],
            [
             0.6666666666666666,
             "#ed7953"
            ],
            [
             0.7777777777777778,
             "#fb9f3a"
            ],
            [
             0.8888888888888888,
             "#fdca26"
            ],
            [
             1,
             "#f0f921"
            ]
           ],
           "sequentialminus": [
            [
             0,
             "#0d0887"
            ],
            [
             0.1111111111111111,
             "#46039f"
            ],
            [
             0.2222222222222222,
             "#7201a8"
            ],
            [
             0.3333333333333333,
             "#9c179e"
            ],
            [
             0.4444444444444444,
             "#bd3786"
            ],
            [
             0.5555555555555556,
             "#d8576b"
            ],
            [
             0.6666666666666666,
             "#ed7953"
            ],
            [
             0.7777777777777778,
             "#fb9f3a"
            ],
            [
             0.8888888888888888,
             "#fdca26"
            ],
            [
             1,
             "#f0f921"
            ]
           ]
          },
          "colorway": [
           "#636efa",
           "#EF553B",
           "#00cc96",
           "#ab63fa",
           "#FFA15A",
           "#19d3f3",
           "#FF6692",
           "#B6E880",
           "#FF97FF",
           "#FECB52"
          ],
          "font": {
           "color": "#2a3f5f"
          },
          "geo": {
           "bgcolor": "white",
           "lakecolor": "white",
           "landcolor": "#E5ECF6",
           "showlakes": true,
           "showland": true,
           "subunitcolor": "white"
          },
          "hoverlabel": {
           "align": "left"
          },
          "hovermode": "closest",
          "mapbox": {
           "style": "light"
          },
          "paper_bgcolor": "white",
          "plot_bgcolor": "#E5ECF6",
          "polar": {
           "angularaxis": {
            "gridcolor": "white",
            "linecolor": "white",
            "ticks": ""
           },
           "bgcolor": "#E5ECF6",
           "radialaxis": {
            "gridcolor": "white",
            "linecolor": "white",
            "ticks": ""
           }
          },
          "scene": {
           "xaxis": {
            "backgroundcolor": "#E5ECF6",
            "gridcolor": "white",
            "gridwidth": 2,
            "linecolor": "white",
            "showbackground": true,
            "ticks": "",
            "zerolinecolor": "white"
           },
           "yaxis": {
            "backgroundcolor": "#E5ECF6",
            "gridcolor": "white",
            "gridwidth": 2,
            "linecolor": "white",
            "showbackground": true,
            "ticks": "",
            "zerolinecolor": "white"
           },
           "zaxis": {
            "backgroundcolor": "#E5ECF6",
            "gridcolor": "white",
            "gridwidth": 2,
            "linecolor": "white",
            "showbackground": true,
            "ticks": "",
            "zerolinecolor": "white"
           }
          },
          "shapedefaults": {
           "line": {
            "color": "#2a3f5f"
           }
          },
          "ternary": {
           "aaxis": {
            "gridcolor": "white",
            "linecolor": "white",
            "ticks": ""
           },
           "baxis": {
            "gridcolor": "white",
            "linecolor": "white",
            "ticks": ""
           },
           "bgcolor": "#E5ECF6",
           "caxis": {
            "gridcolor": "white",
            "linecolor": "white",
            "ticks": ""
           }
          },
          "title": {
           "x": 0.05
          },
          "xaxis": {
           "automargin": true,
           "gridcolor": "white",
           "linecolor": "white",
           "ticks": "",
           "title": {
            "standoff": 15
           },
           "zerolinecolor": "white",
           "zerolinewidth": 2
          },
          "yaxis": {
           "automargin": true,
           "gridcolor": "white",
           "linecolor": "white",
           "ticks": "",
           "title": {
            "standoff": 15
           },
           "zerolinecolor": "white",
           "zerolinewidth": 2
          }
         }
        },
        "title": {
         "text": "Comparison of Flight Time vs Train Time in minutes"
        },
        "xaxis": {
         "anchor": "y",
         "domain": [
          0,
          1
         ],
         "title": {
          "text": "Flight Time (minutes)"
         }
        },
        "yaxis": {
         "anchor": "x",
         "domain": [
          0,
          1
         ],
         "title": {
          "text": "Train Time (minutes)"
         }
        }
       }
      }
     },
     "metadata": {},
     "output_type": "display_data"
    }
   ],
   "source": [
    "scatter_fig = px.scatter(merged_data, x='flight_time', y='train_time', hover_data=['city1', 'city2'])\n",
    "scatter_fig.update_layout(title='Comparison of Flight Time vs Train Time in minutes', xaxis_title='Flight Time (minutes)', yaxis_title='Train Time (minutes)')\n",
    "scatter_fig.show()"
   ]
  },
  {
   "cell_type": "code",
   "execution_count": 31,
   "metadata": {},
   "outputs": [
    {
     "data": {
      "application/vnd.plotly.v1+json": {
       "config": {
        "plotlyServerURL": "https://plot.ly"
       },
       "data": [
        {
         "name": "Flight Time",
         "type": "box",
         "y": [
          85,
          85,
          95,
          215,
          225.8333333333333,
          165,
          225,
          325,
          205,
          240,
          203.75,
          245,
          50,
          97.5,
          110,
          230,
          205,
          165,
          80,
          77.5,
          65,
          70,
          50,
          50,
          100,
          70,
          130,
          160,
          145,
          150,
          217.5,
          175,
          155,
          70,
          155,
          205,
          95,
          187.5,
          172.5,
          130,
          220,
          142.5,
          107.5,
          80,
          75,
          200,
          85,
          80,
          80,
          130,
          110,
          97.5,
          70,
          160,
          80,
          70,
          100,
          55,
          185,
          80,
          185,
          75,
          160,
          25,
          30,
          90,
          265,
          165,
          65,
          77.5,
          135,
          100,
          162.5,
          61.66666666666666,
          175,
          135,
          180,
          210,
          165,
          75,
          230,
          245,
          95,
          53.333333333333336,
          165,
          92.5,
          100,
          120,
          115,
          95,
          190,
          125,
          120,
          100,
          85,
          165,
          65,
          152.5,
          155,
          55,
          172.5,
          240,
          170,
          190,
          53.75,
          90,
          100,
          100,
          177.5,
          65,
          75,
          135,
          20,
          240,
          155,
          130,
          165,
          100,
          120,
          90,
          90,
          92.5,
          145,
          137.5,
          75,
          102.5,
          122.5,
          92.5,
          85,
          80,
          65,
          175,
          130,
          210,
          215,
          135,
          150,
          135,
          72.5,
          102.5,
          108.33333333333331,
          67.5,
          135,
          90,
          180,
          40,
          45,
          145,
          80,
          157.5,
          25,
          35,
          75,
          90,
          91.66666666666669,
          145,
          70,
          85,
          60,
          97.5,
          80,
          82.5,
          130,
          165,
          160,
          125,
          125,
          135,
          190,
          130,
          105,
          150,
          213.75,
          145,
          120,
          94.5,
          90,
          100,
          122.5,
          130,
          142.5,
          170,
          72.5,
          77.5,
          105,
          100,
          135,
          135,
          100,
          165,
          150,
          165,
          105,
          100,
          85,
          105,
          85,
          70,
          140,
          200,
          100,
          190,
          240,
          152.5,
          55,
          180,
          155,
          60,
          180,
          65,
          180,
          120,
          125,
          121.66666666666669,
          130,
          175,
          55,
          40,
          115,
          48.333333333333336,
          40,
          220,
          200,
          87.5,
          72.5,
          115,
          130,
          120,
          85,
          235,
          90,
          65,
          52.5,
          123.75,
          60,
          100,
          105,
          90,
          125,
          115,
          195,
          120,
          100,
          75,
          85,
          96.66666666666669,
          102.5,
          105,
          110,
          150,
          135,
          130,
          175,
          105,
          100,
          95,
          85,
          112.5,
          105,
          160,
          95,
          107.5,
          167.5,
          217.5,
          185,
          175,
          195,
          100,
          105,
          96.25,
          96.25,
          92.5,
          92.5,
          90,
          90,
          165,
          158,
          155,
          85,
          80,
          110,
          125,
          105,
          130,
          125,
          95,
          95,
          107.5,
          125,
          55,
          75,
          75,
          50,
          140,
          210,
          160,
          190,
          85,
          185,
          160,
          70,
          162.5,
          145,
          210,
          95,
          70,
          65,
          200,
          160,
          65,
          75,
          105,
          137.5,
          85,
          175,
          177.5,
          155,
          175,
          145,
          97.5,
          120,
          140,
          130,
          115,
          85,
          137.5,
          180,
          165,
          65,
          112.5,
          105,
          165,
          190,
          188.75,
          47.5,
          172.5,
          187.5,
          157.5,
          155,
          65,
          125,
          75,
          60,
          125,
          105,
          65,
          127.5,
          115,
          120,
          80,
          130,
          55,
          90,
          65,
          160,
          150,
          160,
          70,
          185,
          95,
          152.5,
          90,
          70,
          62.5,
          140,
          120,
          67.5,
          140,
          110,
          142.5,
          65,
          70,
          80,
          75,
          65,
          102.5,
          125,
          60,
          145,
          95,
          142.5,
          110,
          130,
          145,
          75,
          115,
          135,
          185,
          175,
          165,
          75,
          132.5,
          130,
          90,
          60,
          97.5,
          60,
          100,
          75,
          65,
          50,
          92.5,
          105,
          85,
          65,
          67.5,
          160,
          220,
          190,
          97.5,
          60,
          90,
          105,
          77.5,
          105,
          65,
          45,
          140,
          90,
          70,
          50,
          65,
          155,
          80,
          86.66666666666667,
          120,
          85,
          95,
          60,
          35,
          85,
          20,
          71.66666666666667,
          45,
          245,
          95,
          125,
          80,
          102.5,
          235,
          75,
          135,
          87.5,
          70,
          160,
          90,
          110,
          100,
          105,
          80,
          135,
          97.5,
          125,
          75,
          137.5,
          100,
          55,
          70,
          200,
          30,
          65,
          245,
          157.5,
          170,
          122.5,
          117.5,
          90,
          265,
          62.5,
          77.5,
          135,
          140,
          70,
          55,
          75,
          50,
          130,
          112.5,
          127.5,
          155,
          123.33333333333331,
          140,
          57.5,
          97.5,
          72.5,
          105,
          60,
          50,
          102.5,
          105,
          115,
          168.33333333333334,
          30,
          195,
          270,
          72.5,
          297.5,
          15,
          222.5,
          120,
          120,
          167.5,
          107.5,
          152.5,
          105,
          135,
          147.5,
          120,
          120,
          165,
          120,
          107.5,
          155,
          127.5,
          147.5,
          110,
          137.5,
          115,
          100,
          62.5,
          185,
          55,
          140,
          132.5,
          50,
          75,
          86.66666666666667,
          220,
          195,
          155,
          153.33333333333334,
          147.5,
          143.75,
          145,
          60,
          70,
          120,
          107.5,
          102.5,
          135,
          105,
          105,
          80,
          120,
          182.5,
          152.5,
          130,
          76.66666666666667,
          55,
          110,
          75,
          170,
          135,
          55,
          185,
          175,
          85,
          70,
          160,
          147.5,
          245,
          215,
          145,
          137.5,
          110,
          95,
          145,
          125,
          71.66666666666667,
          85,
          80,
          185,
          127.5,
          112.5,
          102.5,
          107.5,
          120,
          170,
          112.5,
          147.5,
          155,
          130,
          77.5,
          147.5,
          200,
          195,
          130,
          120,
          115,
          140,
          135,
          107.5,
          80,
          115,
          95,
          85,
          82.5,
          95,
          115,
          185,
          145,
          70,
          100,
          97.5,
          105,
          190,
          117.5,
          115,
          170,
          155,
          151.25,
          185,
          190,
          155,
          275,
          155,
          165,
          165,
          160,
          145,
          80,
          190,
          250,
          215,
          92.5,
          250,
          170,
          80,
          172.5,
          125,
          75,
          75,
          140,
          105,
          205,
          207.5,
          202.5,
          195,
          225,
          167.5,
          127.5,
          162.5,
          75,
          160,
          185,
          72.5,
          140,
          115,
          80,
          75,
          85,
          155,
          85,
          147.5,
          175,
          145,
          52.5,
          177.5,
          77.5,
          135,
          61.25,
          70,
          162.5,
          87.5,
          97.5,
          167.5,
          125,
          115,
          100,
          116.66666666666669,
          172.5,
          150,
          62.5,
          167.5,
          155,
          125,
          130,
          135,
          170,
          170,
          170,
          145,
          145,
          137.5,
          185,
          195,
          167.5,
          200,
          70,
          80,
          125,
          87.5,
          120,
          95,
          120,
          95,
          82.5,
          105,
          140,
          65,
          107.5,
          90,
          62.5,
          192.5,
          195,
          197.5,
          142.5,
          160,
          180,
          160,
          197.5,
          130,
          85,
          90,
          85,
          180,
          155,
          135,
          125,
          115,
          67.5,
          77.5,
          55,
          65,
          50,
          77.5,
          110,
          120,
          130,
          50,
          145,
          85,
          137.5,
          65,
          55,
          120,
          77.5,
          60,
          175,
          75,
          80,
          105,
          125,
          80,
          96.66666666666669,
          120,
          72.5,
          190,
          80,
          182.5,
          170,
          92.5,
          82.5,
          100,
          90,
          145,
          175,
          175,
          125,
          60,
          82.5,
          265,
          85,
          72.5,
          125,
          85,
          87.5,
          90,
          75,
          116.66666666666669,
          250,
          230,
          115,
          72.5,
          56.25,
          150,
          55,
          125,
          60,
          117.5,
          150,
          160,
          160,
          125,
          190,
          85,
          75,
          132.5,
          146.25,
          135,
          127.5,
          95,
          80,
          115,
          100,
          90,
          75,
          117.5,
          95,
          160,
          60,
          127.5,
          80,
          190,
          100,
          95,
          127.5,
          92.5,
          65,
          200,
          147.5,
          80,
          105,
          90,
          185,
          158.75,
          125,
          105,
          145,
          110,
          75,
          85,
          172.5,
          141.66666666666666,
          145,
          70,
          180,
          90,
          165,
          65,
          270,
          39,
          175,
          132.5,
          50,
          127.5,
          48,
          80,
          172.5,
          90,
          102.5,
          72.5,
          92.5,
          70,
          115,
          95,
          115,
          135,
          35,
          40,
          202.5,
          80,
          175,
          120,
          185,
          165,
          155,
          135,
          122.5,
          220,
          120,
          130,
          110,
          50,
          95,
          120,
          50,
          145,
          160,
          80,
          120,
          102.5,
          135,
          150,
          130,
          77.5,
          152.5,
          110,
          202.5,
          65,
          170,
          135,
          130,
          145,
          140,
          140,
          120,
          155,
          100,
          125,
          115,
          132.5,
          155,
          130,
          190,
          180,
          165,
          142.5,
          115,
          185,
          117.5,
          130,
          120,
          130,
          155,
          175,
          122.5,
          135,
          125,
          135,
          132.5,
          145,
          150,
          212.5,
          40,
          107.5,
          50,
          25,
          135,
          113.75,
          112.5,
          152.5,
          100,
          160,
          160,
          150,
          160,
          180,
          67.5,
          180,
          185,
          150,
          170,
          235,
          105,
          127.5,
          125,
          77.5,
          150,
          125,
          195,
          170,
          115,
          100,
          60,
          87.5,
          90,
          162.5,
          220,
          107.5,
          157.5,
          147.5,
          197.5,
          130,
          120,
          85,
          102.5,
          185,
          102.5,
          105,
          110,
          60,
          175,
          35,
          170,
          50,
          85,
          107.5,
          150,
          45,
          120,
          172.5,
          260,
          145,
          65,
          75,
          140,
          57.5,
          165,
          85,
          102.5,
          85,
          135,
          115,
          140,
          72.5,
          155,
          162.5,
          102.5,
          97.5,
          120,
          100,
          90,
          75,
          130,
          105,
          145,
          60,
          85,
          205,
          140,
          141.25,
          130,
          205,
          167.5,
          127.5,
          105,
          95,
          65,
          110,
          60,
          165,
          160,
          112.5,
          80,
          110,
          110,
          108.33333333333331,
          165,
          75,
          90,
          140,
          135,
          190,
          145,
          65,
          75,
          95,
          100,
          105,
          75,
          200,
          125,
          142.5,
          85,
          105,
          122.5,
          80,
          95,
          95,
          147.5,
          45,
          142.5,
          110,
          190,
          62.5,
          100,
          75,
          145,
          220,
          81.66666666666667,
          115,
          142.5,
          62.5,
          265,
          160,
          105,
          125,
          155,
          125,
          107.5,
          115,
          125,
          107.5,
          50,
          10,
          130,
          150,
          190,
          184.5,
          127.5,
          127.5,
          80,
          150,
          90,
          57.5,
          140,
          105,
          57.5,
          50,
          170,
          95,
          155,
          105,
          80,
          97.5,
          67.5,
          120,
          56.66666666666666,
          125,
          237.5,
          137.5,
          125,
          220,
          125,
          115,
          187.5,
          130,
          95,
          70,
          50,
          50,
          50,
          90,
          105,
          155,
          145,
          105,
          70,
          72.5,
          75,
          135,
          120,
          55,
          82.5,
          170,
          145,
          55,
          150,
          127.5,
          205,
          45
         ]
        },
        {
         "name": "Train Time",
         "type": "box",
         "y": [
          970,
          1084,
          662,
          1724,
          1724,
          1724,
          1724,
          6003,
          3032,
          2074,
          3492,
          2689.3,
          653.7,
          657,
          801.3333333333334,
          2420,
          1895,
          1412,
          488,
          1057.1666666666667,
          1320,
          996,
          751.9166666666666,
          881.65,
          951.65,
          480,
          1381.4833333333333,
          1317,
          1540,
          1188,
          2208,
          1648,
          1264,
          410,
          1271,
          2137,
          872,
          1309,
          1274,
          1116,
          2686.3,
          922,
          1886,
          754,
          751,
          2365,
          762,
          487,
          763,
          1087,
          1032.8166666666666,
          1414,
          394,
          2089,
          675,
          626,
          593,
          749,
          1989,
          754.8166666666667,
          2320,
          717,
          1179,
          475.56666666666666,
          675.2833333333333,
          1403,
          2592,
          1834.9833333333333,
          456,
          816.4833333333333,
          1237,
          1166,
          2240,
          825.8,
          3164.3,
          2290.3,
          2584.3,
          2515.3,
          3087.8,
          756.55,
          2871.3,
          3332.3,
          1278.8,
          383.81666666666666,
          2909.8,
          615,
          1045,
          884,
          975,
          1430,
          2006,
          1041,
          1026.0833333333333,
          761.5666666666667,
          647,
          1956,
          360,
          1674.9,
          1303,
          204.61666666666667,
          2709,
          2790,
          2445,
          2665,
          1744.4,
          660,
          1262,
          1130,
          2068,
          757,
          757,
          1269,
          100,
          3312,
          1376.4833333333333,
          1545.5,
          1794.65,
          952.4833333333333,
          1237.05,
          986.6,
          1161.4833333333333,
          824.9833333333333,
          2149.483333333333,
          1841.9833333333333,
          550.5,
          627.4833333333333,
          1228.4833333333333,
          1075,
          858,
          829,
          744,
          1559,
          1135,
          2198.116666666667,
          2471,
          986,
          1018,
          877,
          510,
          615,
          859,
          270,
          1018,
          1027,
          2282,
          797.6333333333333,
          447.6666666666667,
          2060,
          685,
          1675,
          454.53333333333336,
          232,
          466,
          656.0666666666667,
          1230.0666666666666,
          1261,
          465,
          611,
          754.6333333333333,
          708.6333333333333,
          610,
          701.7,
          1758.0666666666666,
          1560,
          1353,
          1136,
          1010.9833333333333,
          1001,
          1263,
          830,
          1054.4166666666667,
          1182,
          1999,
          1820,
          1794.9666666666667,
          814.6833333333333,
          649,
          769,
          1034,
          1353.0833333333333,
          2009,
          1172,
          380,
          593,
          974.4333333333333,
          828.3166666666667,
          1110,
          1075.8166666666666,
          788.6333333333333,
          1152,
          1152,
          1348,
          795.1666666666666,
          795.1666666666666,
          647,
          749,
          435,
          342,
          1314,
          2347,
          482,
          1987,
          3021.75,
          1214.2833333333333,
          633.5666666666667,
          2305,
          2515,
          792.5333333333333,
          1424,
          355,
          2396.1,
          1121,
          2080,
          1518.65,
          1904,
          2055,
          718,
          1660.2666666666667,
          646.8666666666667,
          456,
          296,
          1962,
          1895,
          790,
          456,
          1262,
          1107,
          1058,
          656,
          2130.4666666666667,
          716,
          1022,
          258,
          1187,
          430,
          1416,
          1216.8166666666666,
          1620.35,
          1101,
          1101,
          1686,
          1244,
          820,
          478,
          1785,
          942,
          1060,
          1080,
          1734.1166666666666,
          2174.116666666667,
          843,
          1145,
          2069,
          740.0666666666667,
          603,
          745,
          745,
          868.2666666666667,
          716.8666666666667,
          1583.8666666666666,
          694.8666666666667,
          900.5666666666667,
          1261,
          1376,
          2110,
          2110,
          2110,
          1021,
          1059,
          480,
          519,
          480,
          519,
          480,
          519,
          2104,
          2104,
          2104,
          410,
          781,
          1278,
          1343,
          925,
          1535,
          910,
          972,
          892.2166666666667,
          933,
          1161,
          269,
          550,
          627,
          109,
          2018,
          2972.85,
          1942.5666666666666,
          2818,
          562,
          1854,
          1224,
          449,
          1957.4833333333333,
          2069.633333333333,
          3055.2833333333333,
          725,
          485,
          455.9,
          1925,
          1368,
          550,
          604,
          749,
          889,
          574,
          1480,
          1388,
          1359,
          2663.85,
          1413,
          1003.05,
          1023,
          1761,
          1194,
          1125.6666666666667,
          929,
          1728.7166666666667,
          1546,
          1551,
          770,
          820,
          623,
          1649.4333333333334,
          1568,
          2374.6,
          225,
          1705,
          1618,
          2080,
          1197,
          265,
          2197.85,
          460,
          200,
          1103,
          1040,
          873,
          943,
          943,
          969,
          585.1166666666667,
          1126,
          85,
          841,
          515,
          2281.5666666666666,
          1239,
          1203,
          509,
          1790,
          859.3833333333333,
          1535,
          710,
          704,
          748,
          1997,
          1997,
          665.3333333333334,
          1241,
          1055,
          2273.2,
          1080,
          390,
          1144.6333333333334,
          668.6833333333333,
          555.4,
          955,
          1561,
          666.7,
          1407,
          610,
          1387.0333333333333,
          707,
          999,
          1280,
          637,
          1381,
          1816,
          1405,
          1405,
          1370,
          490,
          1168,
          1018,
          708,
          401,
          795,
          378,
          760,
          515,
          450,
          109,
          749,
          1091,
          555,
          525,
          411,
          1907,
          2964.85,
          2433.3166666666666,
          856.8166666666667,
          268,
          678,
          661,
          664,
          813,
          284,
          160,
          1395,
          544.8333333333334,
          375,
          79,
          521,
          2013,
          754,
          553,
          925,
          642,
          730,
          349,
          214.78333333333333,
          479.48333333333335,
          212.13333333333333,
          377.48333333333335,
          328.48333333333335,
          2447,
          933,
          815,
          227,
          2085,
          2465,
          695,
          824.9166666666666,
          640,
          445,
          1548,
          571,
          792,
          845,
          823,
          603,
          1470,
          739,
          1100,
          580,
          2176.483333333333,
          814,
          285,
          361,
          1820,
          579.5333333333333,
          845,
          2952.2166666666667,
          2242,
          2429,
          1027,
          1786,
          956.85,
          3092,
          462,
          500,
          1374.2,
          2174.75,
          653,
          622.2333333333333,
          627.2333333333333,
          457.45,
          1484.6166666666666,
          973.2,
          1070,
          1207,
          978,
          1083,
          314,
          700,
          1688.8666666666666,
          584,
          432.65,
          356.65,
          546.35,
          1400.4,
          1511.4,
          1511.4,
          305.53333333333336,
          2386.4333333333334,
          3216.5666666666666,
          451.81666666666666,
          3771,
          607.6666666666666,
          2208.3,
          982.3,
          1430.3,
          1725.6166666666666,
          1146.9333333333334,
          1239.3,
          1038.75,
          1293.1,
          2079.75,
          1173.75,
          1001.3,
          1412.3,
          1006.3,
          1352.3,
          1196.3,
          1062.9,
          1173.3,
          1457.75,
          1474.75,
          1147.75,
          2866.733333333333,
          450.3,
          2042.3,
          322.75,
          1145,
          1145,
          817.4,
          508,
          785,
          3070,
          2116.25,
          2186.1,
          1829.9666666666667,
          1177.2666666666667,
          1210,
          1696.1666666666667,
          248,
          537.8166666666667,
          1369,
          735,
          735,
          1495,
          797,
          797,
          645,
          748.15,
          1994,
          1632.6166666666666,
          1206,
          597.3833333333333,
          615.5666666666667,
          1437,
          401.71666666666664,
          1399,
          937,
          417.2,
          1393,
          1393,
          596,
          596,
          1770,
          1770,
          3215.9666666666667,
          3215.9666666666667,
          1016,
          1016,
          1253,
          1253,
          1109,
          1109,
          490,
          540,
          540,
          2030.1833333333334,
          1571,
          1571,
          714,
          714,
          1127,
          1386,
          677,
          1176,
          1176,
          861,
          237,
          1810,
          2307,
          2307,
          1009,
          1009,
          860,
          1156,
          1156,
          797,
          606.2,
          849,
          819,
          767,
          1121,
          675,
          1077.5166666666667,
          2537,
          1257,
          671,
          893,
          865,
          734,
          1379,
          665,
          1015,
          1293,
          1172,
          1172,
          1499,
          2081,
          1304,
          3360,
          1429,
          1840,
          1840,
          1481.4666666666667,
          1145,
          500,
          1685,
          2735,
          2047,
          642,
          2362,
          1507,
          723,
          1446,
          1022,
          911,
          535,
          1312,
          720,
          2568.45,
          2358,
          2576.483333333333,
          1975.2,
          3035.2833333333333,
          1862.7166666666667,
          1275,
          1144.4666666666667,
          986.9833333333333,
          1258.2833333333333,
          1775.3833333333334,
          366.3833333333333,
          893.3833333333333,
          658.3833333333333,
          766.3833333333333,
          449,
          455,
          1239,
          532.45,
          1064,
          1388,
          1235,
          960.5833333333334,
          1740,
          635,
          1023,
          736,
          736,
          1402,
          590,
          695,
          1279,
          750.15,
          1470,
          771,
          840,
          2510,
          1695.8166666666666,
          730,
          1794,
          1335,
          969,
          1068.8333333333333,
          1195,
          1765,
          1597.4333333333334,
          1880,
          1264,
          1226.7,
          1359.0833333333333,
          2647,
          2647,
          2647,
          2647,
          413,
          413,
          632,
          414,
          806,
          808,
          1255.9166666666667,
          490.26666666666665,
          490.26666666666665,
          656.2666666666667,
          1210,
          400.3833333333333,
          620,
          675.2666666666667,
          602,
          4146,
          1444,
          1444,
          1444,
          2629,
          1794,
          3690,
          3212,
          1362,
          1189,
          498,
          498,
          1355,
          1423,
          1170,
          931,
          768,
          435,
          632,
          470,
          640,
          315,
          462,
          694,
          1625.4833333333333,
          1597,
          130,
          1207,
          625.5333333333333,
          1244.3666666666666,
          496.48333333333335,
          79.48333333333333,
          1702.9833333333333,
          582.3666666666667,
          604.8,
          1316.3666666666666,
          699.3666666666667,
          598.3666666666667,
          1130.3666666666666,
          1673.3666666666666,
          548,
          591,
          760,
          692,
          1910,
          495,
          1620,
          2000,
          659,
          704,
          925,
          626.6333333333333,
          1654,
          2620.1833333333334,
          3116.25,
          2174.7166666666667,
          1034,
          834,
          3185.85,
          714.2833333333333,
          560,
          930,
          596,
          661,
          643,
          555,
          1077.1666666666667,
          2607,
          2619,
          1155,
          568,
          444,
          1363,
          225,
          1162,
          535,
          2096.2833333333333,
          1385,
          1965,
          2201,
          1707,
          2377,
          630.2833333333333,
          464.28333333333336,
          1822.2833333333333,
          1910,
          1472,
          1472,
          749,
          1113,
          2103,
          913.1833333333333,
          770.3333333333334,
          637.3333333333334,
          1434.3333333333333,
          1393,
          2315,
          561.7,
          1367.3333333333333,
          1073,
          1773,
          1488.6333333333334,
          892.3333333333334,
          2353,
          1481.7,
          315,
          1475,
          1051,
          958.7666666666667,
          616,
          767,
          1245,
          2433.8,
          2032.8,
          1156,
          1262,
          1344,
          637.7333333333333,
          690,
          1890,
          1576,
          1485,
          1449.3666666666666,
          2297,
          1586,
          2043,
          530.5333333333333,
          3331,
          611.8333333333334,
          2163,
          1445,
          341.53333333333336,
          1265,
          335.25,
          703,
          1307,
          735,
          1073,
          185,
          363,
          448.2,
          3018,
          746,
          1533,
          1730,
          444.1666666666667,
          488.46666666666664,
          2730,
          804.4333333333333,
          2247,
          1385.6166666666666,
          2014,
          1829,
          1781,
          1655.05,
          1475,
          2730,
          1370,
          1690,
          1352,
          714.7166666666667,
          960,
          1499,
          381.2,
          1395,
          1348,
          863,
          1163.05,
          665,
          1253.0833333333333,
          1313,
          1328,
          756,
          1291,
          483.15,
          1838.7,
          607,
          1614,
          1477.5,
          1122,
          1477.6166666666666,
          1460.2166666666667,
          1404,
          790.6333333333333,
          1391.3666666666666,
          824,
          1227,
          1275,
          1305,
          2107.766666666667,
          1477,
          2435,
          2145,
          1354,
          1464,
          1203,
          2337.633333333333,
          1168.6333333333334,
          1315.4,
          1263,
          1537,
          1292,
          1886.7166666666667,
          1161.7,
          1378,
          1236,
          1460,
          1086,
          1723,
          1981,
          3899,
          317.9,
          1986,
          551,
          231.95,
          1630,
          881,
          881,
          2854,
          750,
          1381.5833333333333,
          1335,
          1335,
          1475,
          2029,
          582,
          1835,
          1385,
          1492,
          1551,
          1917,
          638,
          1247,
          915,
          692,
          2013,
          823,
          2946.8166666666666,
          2315.8166666666666,
          1361.1,
          1184.8166666666666,
          809.8166666666667,
          1104.8166666666666,
          1104.8166666666666,
          2224.8166666666666,
          2630.8166666666666,
          1393.8166666666666,
          2171.8166666666666,
          1934.8166666666666,
          2390.8166666666666,
          1758.2,
          1782.8166666666666,
          1307.8166666666666,
          1280.8166666666666,
          2367.8166666666666,
          1378.8166666666666,
          1312.8166666666666,
          1406.5166666666667,
          1297.8166666666666,
          2300,
          167,
          2114,
          141,
          585,
          973,
          2126,
          288,
          2212.75,
          2695.75,
          4590,
          1924,
          975,
          600,
          1777,
          467,
          1951.8833333333334,
          933.8833333333333,
          913.8833333333333,
          1212.9833333333333,
          1646,
          862.8833333333333,
          1168.8833333333334,
          787.8833333333333,
          2181.883333333333,
          1907.7166666666667,
          1117.35,
          1159,
          1883,
          1556,
          1167.6333333333334,
          654,
          1608,
          1268.75,
          1332.1333333333334,
          801.7833333333333,
          766,
          3011,
          1408,
          1408,
          1408,
          2701,
          1692,
          1204,
          949,
          949,
          474,
          1407,
          231,
          2059.633333333333,
          2342.1,
          1049,
          720,
          873,
          873,
          1018.5166666666667,
          1433,
          454,
          779,
          1167,
          1167,
          2339,
          1308,
          510,
          524.3666666666667,
          1114.3333333333333,
          733,
          497,
          270,
          2083,
          1820.9666666666667,
          1366,
          712.05,
          794,
          731,
          835,
          703,
          657,
          1965,
          318.8333333333333,
          992,
          804.4666666666667,
          1478,
          269,
          1093,
          426,
          1776,
          3491.2833333333333,
          525,
          1356.4,
          1043,
          113,
          2634,
          1796.9,
          910,
          1113,
          2125,
          1420,
          1420,
          788,
          1366.1833333333334,
          1283.2666666666667,
          323.51666666666665,
          79.51666666666667,
          919,
          2300.85,
          1686.1666666666667,
          1686.1666666666667,
          1228.9666666666667,
          1019,
          791,
          1081,
          1474,
          485,
          1136,
          1146,
          288.6166666666667,
          239.48333333333332,
          1196,
          1060,
          1230,
          740,
          670,
          883,
          448.71666666666664,
          1295.7,
          384,
          1029,
          2265,
          1318,
          1089,
          1965.0833333333333,
          1150.0833333333333,
          1345.4333333333334,
          1799.0833333333333,
          1019,
          742,
          488,
          480,
          305,
          305,
          717,
          784.9,
          1421,
          1343,
          1001,
          415,
          611,
          550,
          1006,
          1220,
          190,
          712,
          2244,
          1236,
          486,
          1677,
          1916.4833333333333,
          2605,
          334
         ]
        }
       ],
       "layout": {
        "template": {
         "data": {
          "bar": [
           {
            "error_x": {
             "color": "#2a3f5f"
            },
            "error_y": {
             "color": "#2a3f5f"
            },
            "marker": {
             "line": {
              "color": "#E5ECF6",
              "width": 0.5
             },
             "pattern": {
              "fillmode": "overlay",
              "size": 10,
              "solidity": 0.2
             }
            },
            "type": "bar"
           }
          ],
          "barpolar": [
           {
            "marker": {
             "line": {
              "color": "#E5ECF6",
              "width": 0.5
             },
             "pattern": {
              "fillmode": "overlay",
              "size": 10,
              "solidity": 0.2
             }
            },
            "type": "barpolar"
           }
          ],
          "carpet": [
           {
            "aaxis": {
             "endlinecolor": "#2a3f5f",
             "gridcolor": "white",
             "linecolor": "white",
             "minorgridcolor": "white",
             "startlinecolor": "#2a3f5f"
            },
            "baxis": {
             "endlinecolor": "#2a3f5f",
             "gridcolor": "white",
             "linecolor": "white",
             "minorgridcolor": "white",
             "startlinecolor": "#2a3f5f"
            },
            "type": "carpet"
           }
          ],
          "choropleth": [
           {
            "colorbar": {
             "outlinewidth": 0,
             "ticks": ""
            },
            "type": "choropleth"
           }
          ],
          "contour": [
           {
            "colorbar": {
             "outlinewidth": 0,
             "ticks": ""
            },
            "colorscale": [
             [
              0,
              "#0d0887"
             ],
             [
              0.1111111111111111,
              "#46039f"
             ],
             [
              0.2222222222222222,
              "#7201a8"
             ],
             [
              0.3333333333333333,
              "#9c179e"
             ],
             [
              0.4444444444444444,
              "#bd3786"
             ],
             [
              0.5555555555555556,
              "#d8576b"
             ],
             [
              0.6666666666666666,
              "#ed7953"
             ],
             [
              0.7777777777777778,
              "#fb9f3a"
             ],
             [
              0.8888888888888888,
              "#fdca26"
             ],
             [
              1,
              "#f0f921"
             ]
            ],
            "type": "contour"
           }
          ],
          "contourcarpet": [
           {
            "colorbar": {
             "outlinewidth": 0,
             "ticks": ""
            },
            "type": "contourcarpet"
           }
          ],
          "heatmap": [
           {
            "colorbar": {
             "outlinewidth": 0,
             "ticks": ""
            },
            "colorscale": [
             [
              0,
              "#0d0887"
             ],
             [
              0.1111111111111111,
              "#46039f"
             ],
             [
              0.2222222222222222,
              "#7201a8"
             ],
             [
              0.3333333333333333,
              "#9c179e"
             ],
             [
              0.4444444444444444,
              "#bd3786"
             ],
             [
              0.5555555555555556,
              "#d8576b"
             ],
             [
              0.6666666666666666,
              "#ed7953"
             ],
             [
              0.7777777777777778,
              "#fb9f3a"
             ],
             [
              0.8888888888888888,
              "#fdca26"
             ],
             [
              1,
              "#f0f921"
             ]
            ],
            "type": "heatmap"
           }
          ],
          "heatmapgl": [
           {
            "colorbar": {
             "outlinewidth": 0,
             "ticks": ""
            },
            "colorscale": [
             [
              0,
              "#0d0887"
             ],
             [
              0.1111111111111111,
              "#46039f"
             ],
             [
              0.2222222222222222,
              "#7201a8"
             ],
             [
              0.3333333333333333,
              "#9c179e"
             ],
             [
              0.4444444444444444,
              "#bd3786"
             ],
             [
              0.5555555555555556,
              "#d8576b"
             ],
             [
              0.6666666666666666,
              "#ed7953"
             ],
             [
              0.7777777777777778,
              "#fb9f3a"
             ],
             [
              0.8888888888888888,
              "#fdca26"
             ],
             [
              1,
              "#f0f921"
             ]
            ],
            "type": "heatmapgl"
           }
          ],
          "histogram": [
           {
            "marker": {
             "pattern": {
              "fillmode": "overlay",
              "size": 10,
              "solidity": 0.2
             }
            },
            "type": "histogram"
           }
          ],
          "histogram2d": [
           {
            "colorbar": {
             "outlinewidth": 0,
             "ticks": ""
            },
            "colorscale": [
             [
              0,
              "#0d0887"
             ],
             [
              0.1111111111111111,
              "#46039f"
             ],
             [
              0.2222222222222222,
              "#7201a8"
             ],
             [
              0.3333333333333333,
              "#9c179e"
             ],
             [
              0.4444444444444444,
              "#bd3786"
             ],
             [
              0.5555555555555556,
              "#d8576b"
             ],
             [
              0.6666666666666666,
              "#ed7953"
             ],
             [
              0.7777777777777778,
              "#fb9f3a"
             ],
             [
              0.8888888888888888,
              "#fdca26"
             ],
             [
              1,
              "#f0f921"
             ]
            ],
            "type": "histogram2d"
           }
          ],
          "histogram2dcontour": [
           {
            "colorbar": {
             "outlinewidth": 0,
             "ticks": ""
            },
            "colorscale": [
             [
              0,
              "#0d0887"
             ],
             [
              0.1111111111111111,
              "#46039f"
             ],
             [
              0.2222222222222222,
              "#7201a8"
             ],
             [
              0.3333333333333333,
              "#9c179e"
             ],
             [
              0.4444444444444444,
              "#bd3786"
             ],
             [
              0.5555555555555556,
              "#d8576b"
             ],
             [
              0.6666666666666666,
              "#ed7953"
             ],
             [
              0.7777777777777778,
              "#fb9f3a"
             ],
             [
              0.8888888888888888,
              "#fdca26"
             ],
             [
              1,
              "#f0f921"
             ]
            ],
            "type": "histogram2dcontour"
           }
          ],
          "mesh3d": [
           {
            "colorbar": {
             "outlinewidth": 0,
             "ticks": ""
            },
            "type": "mesh3d"
           }
          ],
          "parcoords": [
           {
            "line": {
             "colorbar": {
              "outlinewidth": 0,
              "ticks": ""
             }
            },
            "type": "parcoords"
           }
          ],
          "pie": [
           {
            "automargin": true,
            "type": "pie"
           }
          ],
          "scatter": [
           {
            "fillpattern": {
             "fillmode": "overlay",
             "size": 10,
             "solidity": 0.2
            },
            "type": "scatter"
           }
          ],
          "scatter3d": [
           {
            "line": {
             "colorbar": {
              "outlinewidth": 0,
              "ticks": ""
             }
            },
            "marker": {
             "colorbar": {
              "outlinewidth": 0,
              "ticks": ""
             }
            },
            "type": "scatter3d"
           }
          ],
          "scattercarpet": [
           {
            "marker": {
             "colorbar": {
              "outlinewidth": 0,
              "ticks": ""
             }
            },
            "type": "scattercarpet"
           }
          ],
          "scattergeo": [
           {
            "marker": {
             "colorbar": {
              "outlinewidth": 0,
              "ticks": ""
             }
            },
            "type": "scattergeo"
           }
          ],
          "scattergl": [
           {
            "marker": {
             "colorbar": {
              "outlinewidth": 0,
              "ticks": ""
             }
            },
            "type": "scattergl"
           }
          ],
          "scattermapbox": [
           {
            "marker": {
             "colorbar": {
              "outlinewidth": 0,
              "ticks": ""
             }
            },
            "type": "scattermapbox"
           }
          ],
          "scatterpolar": [
           {
            "marker": {
             "colorbar": {
              "outlinewidth": 0,
              "ticks": ""
             }
            },
            "type": "scatterpolar"
           }
          ],
          "scatterpolargl": [
           {
            "marker": {
             "colorbar": {
              "outlinewidth": 0,
              "ticks": ""
             }
            },
            "type": "scatterpolargl"
           }
          ],
          "scatterternary": [
           {
            "marker": {
             "colorbar": {
              "outlinewidth": 0,
              "ticks": ""
             }
            },
            "type": "scatterternary"
           }
          ],
          "surface": [
           {
            "colorbar": {
             "outlinewidth": 0,
             "ticks": ""
            },
            "colorscale": [
             [
              0,
              "#0d0887"
             ],
             [
              0.1111111111111111,
              "#46039f"
             ],
             [
              0.2222222222222222,
              "#7201a8"
             ],
             [
              0.3333333333333333,
              "#9c179e"
             ],
             [
              0.4444444444444444,
              "#bd3786"
             ],
             [
              0.5555555555555556,
              "#d8576b"
             ],
             [
              0.6666666666666666,
              "#ed7953"
             ],
             [
              0.7777777777777778,
              "#fb9f3a"
             ],
             [
              0.8888888888888888,
              "#fdca26"
             ],
             [
              1,
              "#f0f921"
             ]
            ],
            "type": "surface"
           }
          ],
          "table": [
           {
            "cells": {
             "fill": {
              "color": "#EBF0F8"
             },
             "line": {
              "color": "white"
             }
            },
            "header": {
             "fill": {
              "color": "#C8D4E3"
             },
             "line": {
              "color": "white"
             }
            },
            "type": "table"
           }
          ]
         },
         "layout": {
          "annotationdefaults": {
           "arrowcolor": "#2a3f5f",
           "arrowhead": 0,
           "arrowwidth": 1
          },
          "autotypenumbers": "strict",
          "coloraxis": {
           "colorbar": {
            "outlinewidth": 0,
            "ticks": ""
           }
          },
          "colorscale": {
           "diverging": [
            [
             0,
             "#8e0152"
            ],
            [
             0.1,
             "#c51b7d"
            ],
            [
             0.2,
             "#de77ae"
            ],
            [
             0.3,
             "#f1b6da"
            ],
            [
             0.4,
             "#fde0ef"
            ],
            [
             0.5,
             "#f7f7f7"
            ],
            [
             0.6,
             "#e6f5d0"
            ],
            [
             0.7,
             "#b8e186"
            ],
            [
             0.8,
             "#7fbc41"
            ],
            [
             0.9,
             "#4d9221"
            ],
            [
             1,
             "#276419"
            ]
           ],
           "sequential": [
            [
             0,
             "#0d0887"
            ],
            [
             0.1111111111111111,
             "#46039f"
            ],
            [
             0.2222222222222222,
             "#7201a8"
            ],
            [
             0.3333333333333333,
             "#9c179e"
            ],
            [
             0.4444444444444444,
             "#bd3786"
            ],
            [
             0.5555555555555556,
             "#d8576b"
            ],
            [
             0.6666666666666666,
             "#ed7953"
            ],
            [
             0.7777777777777778,
             "#fb9f3a"
            ],
            [
             0.8888888888888888,
             "#fdca26"
            ],
            [
             1,
             "#f0f921"
            ]
           ],
           "sequentialminus": [
            [
             0,
             "#0d0887"
            ],
            [
             0.1111111111111111,
             "#46039f"
            ],
            [
             0.2222222222222222,
             "#7201a8"
            ],
            [
             0.3333333333333333,
             "#9c179e"
            ],
            [
             0.4444444444444444,
             "#bd3786"
            ],
            [
             0.5555555555555556,
             "#d8576b"
            ],
            [
             0.6666666666666666,
             "#ed7953"
            ],
            [
             0.7777777777777778,
             "#fb9f3a"
            ],
            [
             0.8888888888888888,
             "#fdca26"
            ],
            [
             1,
             "#f0f921"
            ]
           ]
          },
          "colorway": [
           "#636efa",
           "#EF553B",
           "#00cc96",
           "#ab63fa",
           "#FFA15A",
           "#19d3f3",
           "#FF6692",
           "#B6E880",
           "#FF97FF",
           "#FECB52"
          ],
          "font": {
           "color": "#2a3f5f"
          },
          "geo": {
           "bgcolor": "white",
           "lakecolor": "white",
           "landcolor": "#E5ECF6",
           "showlakes": true,
           "showland": true,
           "subunitcolor": "white"
          },
          "hoverlabel": {
           "align": "left"
          },
          "hovermode": "closest",
          "mapbox": {
           "style": "light"
          },
          "paper_bgcolor": "white",
          "plot_bgcolor": "#E5ECF6",
          "polar": {
           "angularaxis": {
            "gridcolor": "white",
            "linecolor": "white",
            "ticks": ""
           },
           "bgcolor": "#E5ECF6",
           "radialaxis": {
            "gridcolor": "white",
            "linecolor": "white",
            "ticks": ""
           }
          },
          "scene": {
           "xaxis": {
            "backgroundcolor": "#E5ECF6",
            "gridcolor": "white",
            "gridwidth": 2,
            "linecolor": "white",
            "showbackground": true,
            "ticks": "",
            "zerolinecolor": "white"
           },
           "yaxis": {
            "backgroundcolor": "#E5ECF6",
            "gridcolor": "white",
            "gridwidth": 2,
            "linecolor": "white",
            "showbackground": true,
            "ticks": "",
            "zerolinecolor": "white"
           },
           "zaxis": {
            "backgroundcolor": "#E5ECF6",
            "gridcolor": "white",
            "gridwidth": 2,
            "linecolor": "white",
            "showbackground": true,
            "ticks": "",
            "zerolinecolor": "white"
           }
          },
          "shapedefaults": {
           "line": {
            "color": "#2a3f5f"
           }
          },
          "ternary": {
           "aaxis": {
            "gridcolor": "white",
            "linecolor": "white",
            "ticks": ""
           },
           "baxis": {
            "gridcolor": "white",
            "linecolor": "white",
            "ticks": ""
           },
           "bgcolor": "#E5ECF6",
           "caxis": {
            "gridcolor": "white",
            "linecolor": "white",
            "ticks": ""
           }
          },
          "title": {
           "x": 0.05
          },
          "xaxis": {
           "automargin": true,
           "gridcolor": "white",
           "linecolor": "white",
           "ticks": "",
           "title": {
            "standoff": 15
           },
           "zerolinecolor": "white",
           "zerolinewidth": 2
          },
          "yaxis": {
           "automargin": true,
           "gridcolor": "white",
           "linecolor": "white",
           "ticks": "",
           "title": {
            "standoff": 15
           },
           "zerolinecolor": "white",
           "zerolinewidth": 2
          }
         }
        },
        "title": {
         "text": "Distribution of Travel Times in minutes"
        },
        "yaxis": {
         "title": {
          "text": "Time (minutes)"
         }
        }
       }
      }
     },
     "metadata": {},
     "output_type": "display_data"
    }
   ],
   "source": [
    "box_fig = go.Figure()\n",
    "box_fig.add_trace(go.Box(y=merged_data['flight_time'], name='Flight Time'))\n",
    "box_fig.add_trace(go.Box(y=merged_data['train_time'], name='Train Time'))\n",
    "box_fig.update_layout(title='Distribution of Travel Times in minutes', yaxis_title='Time (minutes)')\n",
    "box_fig.show()"
   ]
  },
  {
   "cell_type": "code",
   "execution_count": 19,
   "metadata": {},
   "outputs": [
    {
     "name": "stdout",
     "output_type": "stream",
     "text": [
      "There are no routes where train time is shorter than flight time.\n"
     ]
    }
   ],
   "source": [
    "shorter_train_routes = merged_data[merged_data['train_time'] < merged_data['flight_time']]\n",
    "\n",
    "# Check if there are any such routes\n",
    "if not shorter_train_routes.empty:\n",
    "    print(\"Routes where train time is shorter than flight time:\")\n",
    "    print(shorter_train_routes[['city1', 'city2', 'flight_time', 'train_time']])\n",
    "else:\n",
    "    print(\"There are no routes where train time is shorter than flight time.\")"
   ]
  },
  {
   "cell_type": "code",
   "execution_count": 26,
   "metadata": {},
   "outputs": [
    {
     "name": "stdout",
     "output_type": "stream",
     "text": [
      "   flight_time  train_time  train_time_hours  flight_time_plus_60  \\\n",
      "0    85.000000       970.0         16.166667           145.000000   \n",
      "1    85.000000      1084.0         18.066667           145.000000   \n",
      "2    95.000000       662.0         11.033333           155.000000   \n",
      "3   215.000000      1724.0         28.733333           275.000000   \n",
      "4   225.833333      1724.0         28.733333           285.833333   \n",
      "\n",
      "   flight_time_hours_with_extra  \n",
      "0                      2.416667  \n",
      "1                      2.416667  \n",
      "2                      2.583333  \n",
      "3                      4.583333  \n",
      "4                      4.763889  \n"
     ]
    }
   ],
   "source": [
    "merged_data['train_time_hours'] = merged_data['train_time'] / 60\n",
    "\n",
    "# Add 60 minutes to flight time to account for pre-flight and post-flight activities\n",
    "merged_data['flight_time_plus_60'] = merged_data['flight_time'] + 60\n",
    "\n",
    "# Convert flight time (with the added 60 minutes) to hours\n",
    "merged_data['flight_time_hours_with_extra'] = merged_data['flight_time_plus_60'] / 60\n",
    "\n",
    "print(merged_data[['flight_time', 'train_time', 'train_time_hours', 'flight_time_plus_60', 'flight_time_hours_with_extra']].head())"
   ]
  },
  {
   "cell_type": "code",
   "execution_count": 37,
   "metadata": {},
   "outputs": [
    {
     "data": {
      "application/vnd.plotly.v1+json": {
       "config": {
        "plotlyServerURL": "https://plot.ly"
       },
       "data": [
        {
         "customdata": [
          [
           "Aalborg",
           "Amsterdam"
          ],
          [
           "Amsterdam",
           "Aberdeen"
          ],
          [
           "Aberdeen",
           "Gatwick"
          ],
          [
           "Sochi",
           "Moscow"
          ],
          [
           "Sochi",
           "Moscow"
          ],
          [
           "Sochi",
           "Moscow"
          ],
          [
           "Sochi",
           "Moscow"
          ],
          [
           "Sochi",
           "Krasnoyarsk"
          ],
          [
           "Sochi",
           "Kazan"
          ],
          [
           "Sochi",
           "St. Petersburg"
          ],
          [
           "Sochi",
           "Perm"
          ],
          [
           "Sochi",
           "Pskov"
          ],
          [
           "Alesund",
           "Bergen"
          ],
          [
           "Barcelona",
           "Malaga"
          ],
          [
           "Bordeaux",
           "Malaga"
          ],
          [
           "Gothenburg",
           "Malaga"
          ],
          [
           "Hamburg",
           "Malaga"
          ],
          [
           "Gatwick",
           "Malaga"
          ],
          [
           "Madrid",
           "Malaga"
          ],
          [
           "Alghero",
           "Orio al Serio"
          ],
          [
           "Alghero",
           "Rome"
          ],
          [
           "Alghero",
           "Segrate"
          ],
          [
           "Ajaccio",
           "Marseille"
          ],
          [
           "Ajaccio",
           "Nice"
          ],
          [
           "Ajaccio",
           "Paris"
          ],
          [
           "Alicante",
           "Barcelona"
          ],
          [
           "Orio al Serio",
           "Alicante"
          ],
          [
           "Alicante",
           "Birmingham"
          ],
          [
           "Bristol",
           "Alicante"
          ],
          [
           "Alicante",
           "Zaventem"
          ],
          [
           "Alicante",
           "Gdansk"
          ],
          [
           "Alicante",
           "Hamburg"
          ],
          [
           "Alicante",
           "Gatwick"
          ],
          [
           "Alicante",
           "Madrid"
          ],
          [
           "Alicante",
           "Maastricht"
          ],
          [
           "Alicante",
           "Warsaw"
          ],
          [
           "Aberdeen",
           "Amsterdam"
          ],
          [
           "Amsterdam",
           "Malaga"
          ],
          [
           "Amsterdam",
           "Alicante"
          ],
          [
           "Amsterdam",
           "Stockholm"
          ],
          [
           "Spata",
           "Amsterdam"
          ],
          [
           "Amsterdam",
           "Barcelona"
          ],
          [
           "Amsterdam",
           "Bergen"
          ],
          [
           "Amsterdam",
           "Birmingham"
          ],
          [
           "Amsterdam",
           "Billund"
          ],
          [
           "Amsterdam",
           "Burgas"
          ],
          [
           "Amsterdam",
           "Bristol"
          ],
          [
           "Amsterdam",
           "Paris"
          ],
          [
           "Amsterdam",
           "Cardiff"
          ],
          [
           "Amsterdam",
           "Firenze"
          ],
          [
           "Amsterdam",
           "Gdansk"
          ],
          [
           "Amsterdam",
           "Geneva"
          ],
          [
           "Amsterdam",
           "Hamburg"
          ],
          [
           "Amsterdam",
           "Helsinki"
          ],
          [
           "Amsterdam",
           "Gatwick"
          ],
          [
           "Luton",
           "Amsterdam"
          ],
          [
           "Amsterdam",
           "Munich"
          ],
          [
           "Amsterdam",
           "Norwich"
          ],
          [
           "Amsterdam",
           "Otopeni"
          ],
          [
           "Amsterdam",
           "Prague"
          ],
          [
           "Amsterdam",
           "Rovaniemi"
          ],
          [
           "Amsterdam",
           "Southampton"
          ],
          [
           "Amsterdam",
           "Valencia"
          ],
          [
           "Andenes",
           "Evenes"
          ],
          [
           "Andenes",
           "Tromso"
          ],
          [
           "Arkhangelsk",
           "St. Petersburg"
          ],
          [
           "Stockholm",
           "Malaga"
          ],
          [
           "Orio al Serio",
           "Stockholm"
          ],
          [
           "Stockholm",
           "Gothenburg"
          ],
          [
           "Helsinki",
           "Stockholm"
          ],
          [
           "Munich",
           "Stockholm"
          ],
          [
           "Stockholm",
           "Poznan"
          ],
          [
           "Astrakhan",
           "Moscow"
          ],
          [
           "Spata",
           "Alexandroupolis"
          ],
          [
           "Spata",
           "Barcelona"
          ],
          [
           "Spata",
           "Bologna"
          ],
          [
           "Spata",
           "Zaventem"
          ],
          [
           "Spata",
           "Paris"
          ],
          [
           "Spata",
           "Geneva"
          ],
          [
           "Kavala",
           "Spata"
          ],
          [
           "Spata",
           "Gatwick"
          ],
          [
           "Spata",
           "Madrid"
          ],
          [
           "Spata",
           "Otopeni"
          ],
          [
           "Spata",
           "Thessaloniki"
          ],
          [
           "Spata",
           "Zurich"
          ],
          [
           "Malaga",
           "Barcelona"
          ],
          [
           "Bologna",
           "Barcelona"
          ],
          [
           "Zaventem",
           "Barcelona"
          ],
          [
           "Charleroi",
           "Barcelona"
          ],
          [
           "Genova",
           "Barcelona"
          ],
          [
           "Gothenburg",
           "Barcelona"
          ],
          [
           "Gatwick",
           "Barcelona"
          ],
          [
           "Maastricht",
           "Barcelona"
          ],
          [
           "Brindisi",
           "Orio al Serio"
          ],
          [
           "Brindisi",
           "Bologna"
          ],
          [
           "Belgrade",
           "Barcelona"
          ],
          [
           "Belgrade",
           "Budapest"
          ],
          [
           "Belgrade",
           "Tille"
          ],
          [
           "Belgrade",
           "Paris"
          ],
          [
           "Belgrade",
           "Nis"
          ],
          [
           "Belgrade",
           "St. Petersburg"
          ],
          [
           "Belgrade",
           "Lisbon"
          ],
          [
           "Belgrade",
           "Oslo"
          ],
          [
           "Belgrade",
           "Moscow"
          ],
          [
           "Belgrade",
           "Podgorica"
          ],
          [
           "Belgrade",
           "Vienna"
          ],
          [
           "Belgrade",
           "Warsaw"
          ],
          [
           "Belgrade",
           "Zurich"
          ],
          [
           "Belfast",
           "Alicante"
          ],
          [
           "Belfast",
           "Birmingham"
          ],
          [
           "Belfast",
           "Birmingham"
          ],
          [
           "Belfast",
           "Geneva"
          ],
          [
           "Braganca",
           "Vila Real"
          ],
          [
           "Malaga",
           "Bergen"
          ],
          [
           "Orio al Serio",
           "Malaga"
          ],
          [
           "Alicante",
           "Orio al Serio"
          ],
          [
           "Stockholm",
           "Orio al Serio"
          ],
          [
           "Orio al Serio",
           "Barcelona"
          ],
          [
           "Bristol",
           "Orio al Serio"
          ],
          [
           "Tille",
           "Orio al Serio"
          ],
          [
           "Orio al Serio",
           "Cagliari"
          ],
          [
           "Orio al Serio",
           "Charleroi"
          ],
          [
           "Orio al Serio",
           "Iasi"
          ],
          [
           "Orio al Serio",
           "Otopeni"
          ],
          [
           "Pescara",
           "Orio al Serio"
          ],
          [
           "Orio al Serio",
           "Lamezia Terme"
          ],
          [
           "Orio al Serio",
           "Valencia"
          ],
          [
           "Belfast",
           "Amsterdam"
          ],
          [
           "Belfast",
           "Gatwick"
          ],
          [
           "Belfast",
           "London"
          ],
          [
           "Belfast",
           "Manchester"
          ],
          [
           "Birmingham",
           "Malaga"
          ],
          [
           "Birmingham",
           "Barcelona"
          ],
          [
           "Birmingham",
           "Craiova"
          ],
          [
           "Birmingham",
           "Otopeni"
          ],
          [
           "Birmingham",
           "Poznan"
          ],
          [
           "Birmingham",
           "Valencia"
          ],
          [
           "Bilbao",
           "Amsterdam"
          ],
          [
           "Bilbao",
           "Barcelona"
          ],
          [
           "Bilbao",
           "Paris"
          ],
          [
           "Bilbao",
           "Gatwick"
          ],
          [
           "Bilbao",
           "Madrid"
          ],
          [
           "Bilbao",
           "Munich"
          ],
          [
           "Gdansk",
           "Billund"
          ],
          [
           "Otopeni",
           "Billund"
          ],
          [
           "Bronnoy",
           "Bodo"
          ],
          [
           "Bronnoy",
           "Trondheim"
          ],
          [
           "Banja Luka",
           "Gothenburg"
          ],
          [
           "Barcelona",
           "Bordeaux"
          ],
          [
           "Bournemouth",
           "Malaga"
          ],
          [
           "Bodo",
           "Leknes"
          ],
          [
           "Bodo",
           "Mosjoen"
          ],
          [
           "Bremen",
           "Munich"
          ],
          [
           "Bari",
           "Orio al Serio"
          ],
          [
           "Bari",
           "Budapest"
          ],
          [
           "Bari",
           "Charleroi"
          ],
          [
           "Bari",
           "Rome"
          ],
          [
           "Bari",
           "Segrate"
          ],
          [
           "Bari",
           "Rinas"
          ],
          [
           "Bari",
           "Caselle Torinese"
          ],
          [
           "Bari",
           "Venezia"
          ],
          [
           "Bari",
           "Caselle"
          ],
          [
           "Bari",
           "Warsaw"
          ],
          [
           "Bristol",
           "Malaga"
          ],
          [
           "Alicante",
           "Bristol"
          ],
          [
           "Bristol",
           "Barcelona"
          ],
          [
           "Orio al Serio",
           "Bristol"
          ],
          [
           "Bristol",
           "Poznan"
          ],
          [
           "Malaga",
           "Zaventem"
          ],
          [
           "Barcelona",
           "Zaventem"
          ],
          [
           "Bratislava",
           "Kaunas"
          ],
          [
           "Bratislava",
           "Luton"
          ],
          [
           "Budapest",
           "Malaga"
          ],
          [
           "Budapest",
           "Stockholm"
          ],
          [
           "Budapest",
           "Spata"
          ],
          [
           "Budapest",
           "Orio al Serio"
          ],
          [
           "Budapest",
           "Bologna"
          ],
          [
           "Budapest",
           "Rome"
          ],
          [
           "Budapest",
           "Charleroi"
          ],
          [
           "Budapest",
           "Catania"
          ],
          [
           "Budapest",
           "Helsinki"
          ],
          [
           "Budapest",
           "London"
          ],
          [
           "Budapest",
           "Prague"
          ],
          [
           "Budapest",
           "Warsaw"
          ],
          [
           "Tille",
           "Barcelona"
          ],
          [
           "Orio al Serio",
           "Tille"
          ],
          [
           "Bydgoszcz",
           "Luton"
          ],
          [
           "Bolzano",
           "Billund"
          ],
          [
           "Beziers",
           "Charleroi"
          ],
          [
           "Paris",
           "Malaga"
          ],
          [
           "Paris",
           "Malaga"
          ],
          [
           "Stockholm",
           "Paris"
          ],
          [
           "Paris",
           "Barcelona"
          ],
          [
           "Paris",
           "Barcelona"
          ],
          [
           "Paris",
           "Birmingham"
          ],
          [
           "Paris",
           "Bologna"
          ],
          [
           "Paris",
           "Bordeaux"
          ],
          [
           "Paris",
           "Zaventem"
          ],
          [
           "Paris",
           "Gothenburg"
          ],
          [
           "Helsinki",
           "Paris"
          ],
          [
           "Munich",
           "Paris"
          ],
          [
           "Paris",
           "Otopeni"
          ],
          [
           "Tromso",
           "Paris"
          ],
          [
           "Castellon de la Plana",
           "Weeze"
          ],
          [
           "St. Petersburg",
           "Cherepovets"
          ],
          [
           "Chelyabinsk",
           "St. Petersburg"
          ],
          [
           "Moscow",
           "Chelyabinsk"
          ],
          [
           "Kerkyra",
           "Spata"
          ],
          [
           "Cologne",
           "Malaga"
          ],
          [
           "Cologne",
           "Munich"
          ],
          [
           "Varna",
           "Cologne"
          ],
          [
           "Charleroi",
           "Rome"
          ],
          [
           "Otopeni",
           "Rome"
          ],
          [
           "Cluj",
           "Orio al Serio"
          ],
          [
           "Cluj",
           "Rome"
          ],
          [
           "Luton",
           "Cluj"
          ],
          [
           "Cluj",
           "Otopeni"
          ],
          [
           "Calvi",
           "Nice"
          ],
          [
           "Viviers",
           "Birmingham"
          ],
          [
           "Copenhagen",
           "Aalborg"
          ],
          [
           "Copenhagen",
           "Aarhus"
          ],
          [
           "Copenhagen",
           "Malaga"
          ],
          [
           "Copenhagen",
           "Alicante"
          ],
          [
           "Copenhagen",
           "Amsterdam"
          ],
          [
           "Copenhagen",
           "Stockholm"
          ],
          [
           "Copenhagen",
           "Budapest"
          ],
          [
           "Copenhagen",
           "Bolzano"
          ],
          [
           "Copenhagen",
           "Paris"
          ],
          [
           "Copenhagen",
           "Cologne"
          ],
          [
           "Copenhagen",
           "Faro"
          ],
          [
           "Copenhagen",
           "Frankfurt am Main"
          ],
          [
           "Copenhagen",
           "Gdansk"
          ],
          [
           "Copenhagen",
           "Gothenburg"
          ],
          [
           "Copenhagen",
           "Geneva"
          ],
          [
           "Copenhagen",
           "Hamburg"
          ],
          [
           "Copenhagen",
           "Helsinki"
          ],
          [
           "Copenhagen",
           "Balice"
          ],
          [
           "Copenhagen",
           "Kaunas"
          ],
          [
           "Copenhagen",
           "London"
          ],
          [
           "Copenhagen",
           "London"
          ],
          [
           "Copenhagen",
           "Madrid"
          ],
          [
           "Copenhagen",
           "Manchester"
          ],
          [
           "Copenhagen",
           "Munich"
          ],
          [
           "Copenhagen",
           "Oslo"
          ],
          [
           "Copenhagen",
           "Riga"
          ],
          [
           "Copenhagen",
           "Salzburg"
          ],
          [
           "Copenhagen",
           "Vienna"
          ],
          [
           "Copenhagen",
           "Zurich"
          ],
          [
           "Bologna",
           "Craiova"
          ],
          [
           "Charleroi",
           "Craiova"
          ],
          [
           "Barcelona",
           "Charleroi"
          ],
          [
           "Rome",
           "Charleroi"
          ],
          [
           "Otopeni",
           "Charleroi"
          ],
          [
           "Crotone",
           "Orio al Serio"
          ],
          [
           "Crotone",
           "Bologna"
          ],
          [
           "Cheboksary",
           "Moscow"
          ],
          [
           "Cheboksary",
           "Moscow"
          ],
          [
           "Catania",
           "Orio al Serio"
          ],
          [
           "Catania",
           "Bologna"
          ],
          [
           "Catania",
           "Charleroi"
          ],
          [
           "Catania",
           "Firenze"
          ],
          [
           "Catania",
           "Caselle"
          ],
          [
           "Debrecen",
           "Luton"
          ],
          [
           "Moscow",
           "Sochi"
          ],
          [
           "Moscow",
           "Grozny"
          ],
          [
           "Moscow",
           "Grozny"
          ],
          [
           "Moscow",
           "Grozny"
          ],
          [
           "Moscow",
           "Izhevsk"
          ],
          [
           "Moscow",
           "Kazan"
          ],
          [
           "Moscow",
           "St. Petersburg"
          ],
          [
           "Moscow",
           "St. Petersburg"
          ],
          [
           "Moscow",
           "St. Petersburg"
          ],
          [
           "Moscow",
           "St. Petersburg"
          ],
          [
           "Moscow",
           "St. Petersburg"
          ],
          [
           "Moscow",
           "St. Petersburg"
          ],
          [
           "Moscow",
           "Murmansk"
          ],
          [
           "Moscow",
           "Murmansk"
          ],
          [
           "Moscow",
           "Murmansk"
          ],
          [
           "Moscow",
           "Minsk"
          ],
          [
           "Moscow",
           "Penza"
          ],
          [
           "Moscow",
           "Volgograd"
          ],
          [
           "Dortmund",
           "Belgrade"
          ],
          [
           "Dortmund",
           "Budapest"
          ],
          [
           "Dortmund",
           "Cluj"
          ],
          [
           "Dortmund",
           "Rome"
          ],
          [
           "Dortmund",
           "Gdansk"
          ],
          [
           "Dortmund",
           "Ozarowice"
          ],
          [
           "Dortmund",
           "Olsztyn"
          ],
          [
           "Dortmund",
           "Vilnius"
          ],
          [
           "Dusseldorf",
           "Amsterdam"
          ],
          [
           "Dusseldorf",
           "Paris"
          ],
          [
           "Dusseldorf",
           "Copenhagen"
          ],
          [
           "Dusseldorf",
           "Frankfurt am Main"
          ],
          [
           "Dusseldorf",
           "Helsinki"
          ],
          [
           "Dusseldorf",
           "Ivalo"
          ],
          [
           "Dusseldorf",
           "Chisinau"
          ],
          [
           "Dusseldorf",
           "Kittila"
          ],
          [
           "Dusseldorf",
           "London"
          ],
          [
           "Dusseldorf",
           "Lisbon"
          ],
          [
           "Dusseldorf",
           "Madrid"
          ],
          [
           "Dusseldorf",
           "Munich"
          ],
          [
           "Dusseldorf",
           "Prishtina"
          ],
          [
           "Dusseldorf",
           "Rinas"
          ],
          [
           "Dusseldorf",
           "Tromso"
          ],
          [
           "Dusseldorf",
           "Vienna"
          ],
          [
           "Dusseldorf",
           "Zurich"
          ],
          [
           "Hondarribia",
           "Madrid"
          ],
          [
           "Edinburgh",
           "Malaga"
          ],
          [
           "Edinburgh",
           "Barcelona"
          ],
          [
           "Edinburgh",
           "Birmingham"
          ],
          [
           "Edinburgh",
           "Bristol"
          ],
          [
           "Edinburgh",
           "Charleroi"
          ],
          [
           "Edinburgh",
           "Geneva"
          ],
          [
           "Edinburgh",
           "Gatwick"
          ],
          [
           "Edinburgh",
           "Madrid"
          ],
          [
           "Eindhoven",
           "Malaga"
          ],
          [
           "Eindhoven",
           "Alicante"
          ],
          [
           "Eindhoven",
           "Spata"
          ],
          [
           "Eindhoven",
           "Brindisi"
          ],
          [
           "Eindhoven",
           "Orio al Serio"
          ],
          [
           "Eindhoven",
           "Budapest"
          ],
          [
           "Eindhoven",
           "Cluj"
          ],
          [
           "Eindhoven",
           "Debrecen"
          ],
          [
           "Eindhoven",
           "Balice"
          ],
          [
           "Eindhoven",
           "Salzburg"
          ],
          [
           "Eindhoven",
           "Vilnius"
          ],
          [
           "Nottingham",
           "Malaga"
          ],
          [
           "Nottingham",
           "Alicante"
          ],
          [
           "Nottingham",
           "Belfast"
          ],
          [
           "Nottingham",
           "Geneva"
          ],
          [
           "Nottingham",
           "Paris"
          ],
          [
           "Nottingham",
           "Jasionka"
          ],
          [
           "Faro",
           "Amsterdam"
          ],
          [
           "Faro",
           "Belfast"
          ],
          [
           "Faro",
           "Lisbon"
          ],
          [
           "Faro",
           "Luton"
          ],
          [
           "Faro",
           "Weeze"
          ],
          [
           "Rome",
           "Malaga"
          ],
          [
           "Rome",
           "Amsterdam"
          ],
          [
           "Rome",
           "Ancona"
          ],
          [
           "Rome",
           "Spata"
          ],
          [
           "Rome",
           "Brindisi"
          ],
          [
           "Rome",
           "Bologna"
          ],
          [
           "Rome",
           "Zaventem"
          ],
          [
           "Rome",
           "Budapest"
          ],
          [
           "Rome",
           "Cagliari"
          ],
          [
           "Rome",
           "Paris"
          ],
          [
           "Rome",
           "Paris"
          ],
          [
           "Rome",
           "Cologne"
          ],
          [
           "Rome",
           "Catania"
          ],
          [
           "Rome",
           "Eindhoven"
          ],
          [
           "Rome",
           "Firenze"
          ],
          [
           "Rome",
           "Memmingen"
          ],
          [
           "Rome",
           "Genova"
          ],
          [
           "Rome",
           "Chisinau"
          ],
          [
           "Rome",
           "Gatwick"
          ],
          [
           "Rome",
           "London"
          ],
          [
           "Rome",
           "Segrate"
          ],
          [
           "Rome",
           "Lisbon"
          ],
          [
           "Rome",
           "Lyon"
          ],
          [
           "Rome",
           "Madrid"
          ],
          [
           "Rome",
           "Munich"
          ],
          [
           "Rome",
           "Nice"
          ],
          [
           "Rome",
           "Olbia"
          ],
          [
           "Rome",
           "Otopeni"
          ],
          [
           "Rome",
           "Otopeni"
          ],
          [
           "Rome",
           "Palermo"
          ],
          [
           "Rome",
           "Poznan"
          ],
          [
           "Rome",
           "Prague"
          ],
          [
           "Rome",
           "Suceava"
          ],
          [
           "Rome",
           "Split"
          ],
          [
           "Rome",
           "Lamezia Terme"
          ],
          [
           "Rome",
           "Rinas"
          ],
          [
           "Rome",
           "Caselle Torinese"
          ],
          [
           "Rome",
           "Ronchi dei Legionari"
          ],
          [
           "Rome",
           "Vienna"
          ],
          [
           "Rome",
           "Valencia"
          ],
          [
           "Rome",
           "Caselle"
          ],
          [
           "Rome",
           "Warsaw"
          ],
          [
           "Rome",
           "Zurich"
          ],
          [
           "Rheinmunster",
           "Alicante"
          ],
          [
           "Firenze",
           "Paris"
          ],
          [
           "Firenze",
           "Gatwick"
          ],
          [
           "Firenze",
           "Madrid"
          ],
          [
           "Firenze",
           "Munich"
          ],
          [
           "Memmingen",
           "Cluj"
          ],
          [
           "Memmingen",
           "Otopeni"
          ],
          [
           "Frankfurt am Main",
           "Malaga"
          ],
          [
           "Frankfurt am Main",
           "Malaga"
          ],
          [
           "Frankfurt am Main",
           "Alicante"
          ],
          [
           "Frankfurt am Main",
           "Amsterdam"
          ],
          [
           "Frankfurt am Main",
           "Stockholm"
          ],
          [
           "Frankfurt am Main",
           "Barcelona"
          ],
          [
           "Frankfurt am Main",
           "Bologna"
          ],
          [
           "Frankfurt am Main",
           "Bremen"
          ],
          [
           "Frankfurt am Main",
           "Bristol"
          ],
          [
           "Frankfurt am Main",
           "Zaventem"
          ],
          [
           "Frankfurt am Main",
           "Budapest"
          ],
          [
           "Frankfurt am Main",
           "Paris"
          ],
          [
           "Frankfurt am Main",
           "Dresden"
          ],
          [
           "Frankfurt am Main",
           "Dusseldorf"
          ],
          [
           "Frankfurt am Main",
           "Firenze"
          ],
          [
           "Frankfurt am Main",
           "Gothenburg"
          ],
          [
           "Frankfurt am Main",
           "Graz"
          ],
          [
           "Frankfurt am Main",
           "Geneva"
          ],
          [
           "Frankfurt am Main",
           "Hamburg"
          ],
          [
           "Frankfurt am Main",
           "Helsinki"
          ],
          [
           "Frankfurt am Main",
           "Ivalo"
          ],
          [
           "Frankfurt am Main",
           "Kuusamo"
          ],
          [
           "Frankfurt am Main",
           "Balice"
          ],
          [
           "Frankfurt am Main",
           "Schkeuditz"
          ],
          [
           "Frankfurt am Main",
           "Gatwick"
          ],
          [
           "Frankfurt am Main",
           "London"
          ],
          [
           "Frankfurt am Main",
           "Segrate"
          ],
          [
           "Frankfurt am Main",
           "Manchester"
          ],
          [
           "Frankfurt am Main",
           "Munich"
          ],
          [
           "Frankfurt am Main",
           "Nuremberg"
          ],
          [
           "Frankfurt am Main",
           "Oslo"
          ],
          [
           "Frankfurt am Main",
           "Poznan"
          ],
          [
           "Frankfurt am Main",
           "Prague"
          ],
          [
           "Frankfurt am Main",
           "Stuttgart"
          ],
          [
           "Frankfurt am Main",
           "Salzburg"
          ],
          [
           "Frankfurt am Main",
           "Tallinn"
          ],
          [
           "Frankfurt am Main",
           "Caselle Torinese"
          ],
          [
           "Frankfurt am Main",
           "Vienna"
          ],
          [
           "Frankfurt am Main",
           "Warsaw"
          ],
          [
           "Frankfurt am Main",
           "Wroclaw"
          ],
          [
           "Frankfurt am Main",
           "Zagreb"
          ],
          [
           "Frankfurt am Main",
           "Zurich"
          ],
          [
           "Floro",
           "Bergen"
          ],
          [
           "Saint Peter Port",
           "Birmingham"
          ],
          [
           "Saint Peter Port",
           "Saint Helier"
          ],
          [
           "Saint Peter Port",
           "Gatwick"
          ],
          [
           "Saint Peter Port",
           "Southampton"
          ],
          [
           "Malaga",
           "Gdansk"
          ],
          [
           "Barcelona",
           "Genova"
          ],
          [
           "Nizhny Novgorod",
           "St. Petersburg"
          ],
          [
           "Nizhny Novgorod",
           "Moscow"
          ],
          [
           "Nizhny Novgorod",
           "Volgograd"
          ],
          [
           "Malaga",
           "Gothenburg"
          ],
          [
           "Bergen",
           "Gothenburg"
          ],
          [
           "Girona",
           "Birmingham"
          ],
          [
           "Granada",
           "Barcelona"
          ],
          [
           "Granada",
           "Madrid"
          ],
          [
           "Geneva",
           "Stockholm"
          ],
          [
           "Geneva",
           "Barcelona"
          ],
          [
           "Geneva",
           "Birmingham"
          ],
          [
           "Geneva",
           "Bournemouth"
          ],
          [
           "Geneva",
           "Bristol"
          ],
          [
           "Geneva",
           "Zaventem"
          ],
          [
           "Geneva",
           "Gothenburg"
          ],
          [
           "Geneva",
           "Gatwick"
          ],
          [
           "Geneva",
           "Madrid"
          ],
          [
           "Geneva",
           "Munich"
          ],
          [
           "Geneva",
           "Prishtina"
          ],
          [
           "Geneva",
           "Southampton"
          ],
          [
           "Hanover",
           "Frankfurt am Main"
          ],
          [
           "Hanover",
           "Munich"
          ],
          [
           "Malaga",
           "Hamburg"
          ],
          [
           "Karmoy",
           "Bergen"
          ],
          [
           "Stockholm",
           "Helsinki"
          ],
          [
           "Helsinki",
           "Barcelona"
          ],
          [
           "Helsinki",
           "Zaventem"
          ],
          [
           "Paris",
           "Helsinki"
          ],
          [
           "Helsinki",
           "Gothenburg"
          ],
          [
           "Helsinki",
           "Hamburg"
          ],
          [
           "Helsinki",
           "Ivalo"
          ],
          [
           "Helsinki",
           "Madrid"
          ],
          [
           "Oulu",
           "Helsinki"
          ],
          [
           "Rovaniemi",
           "Helsinki"
          ],
          [
           "Nis",
           "Frankfurt am Main"
          ],
          [
           "Iasi",
           "Rome"
          ],
          [
           "Iasi",
           "Otopeni"
          ],
          [
           "Ibiza",
           "Barcelona"
          ],
          [
           "Ibiza",
           "Madrid"
          ],
          [
           "Ibiza",
           "Valencia"
          ],
          [
           "Frankfurt am Main",
           "Nis"
          ],
          [
           "Nis",
           "Zgornji Brnik"
          ],
          [
           "Innsbruck",
           "Bristol"
          ],
          [
           "Innsbruck",
           "Edinburgh"
          ],
          [
           "Innsbruck",
           "Gatwick"
          ],
          [
           "Innsbruck",
           "Manchester"
          ],
          [
           "Innsbruck",
           "Vienna"
          ],
          [
           "Inverness",
           "Gatwick"
          ],
          [
           "Ioannina",
           "Spata"
          ],
          [
           "Ivanovo",
           "St. Petersburg"
          ],
          [
           "Gatwick",
           "Saint Helier"
          ],
          [
           "Southampton",
           "Saint Helier"
          ],
          [
           "Kuusamo",
           "Helsinki"
          ],
          [
           "Kaliningrad",
           "St. Petersburg"
          ],
          [
           "Moscow",
           "Kaliningrad"
          ],
          [
           "Moscow",
           "Kaliningrad"
          ],
          [
           "Kos Island",
           "Rhodes"
          ],
          [
           "Chisinau",
           "Paris"
          ],
          [
           "Chisinau",
           "Lisbon"
          ],
          [
           "Chisinau",
           "Otopeni"
          ],
          [
           "Krasnoyarsk",
           "St. Petersburg"
          ],
          [
           "Kirkenes",
           "Vadso"
          ],
          [
           "Balice",
           "Malaga"
          ],
          [
           "Balice",
           "Amsterdam"
          ],
          [
           "Balice",
           "Stockholm"
          ],
          [
           "Balice",
           "Barcelona"
          ],
          [
           "Balice",
           "Orio al Serio"
          ],
          [
           "Balice",
           "Birmingham"
          ],
          [
           "Balice",
           "Bologna"
          ],
          [
           "Balice",
           "Tille"
          ],
          [
           "Balice",
           "Cagliari"
          ],
          [
           "Balice",
           "Rome"
          ],
          [
           "Balice",
           "Charleroi"
          ],
          [
           "Balice",
           "Edinburgh"
          ],
          [
           "Balice",
           "Eindhoven"
          ],
          [
           "Balice",
           "Gothenburg"
          ],
          [
           "Balice",
           "Gatwick"
          ],
          [
           "Balice",
           "Lesquin"
          ],
          [
           "Balice",
           "Luton"
          ],
          [
           "Balice",
           "Nykoping"
          ],
          [
           "Balice",
           "Oslo"
          ],
          [
           "Balice",
           "Pisa"
          ],
          [
           "Balice",
           "Podgorica"
          ],
          [
           "Balice",
           "Vienna"
          ],
          [
           "Balice",
           "Valencia"
          ],
          [
           "Balice",
           "Warsaw"
          ],
          [
           "Krasnodar",
           "Moscow"
          ],
          [
           "Krasnodar",
           "Moscow"
          ],
          [
           "Kjevik",
           "Bergen"
          ],
          [
           "Kosice",
           "Prague"
          ],
          [
           "Kittila",
           "Helsinki"
          ],
          [
           "Kittila",
           "Zurich"
          ],
          [
           "Ozarowice",
           "Alicante"
          ],
          [
           "Ozarowice",
           "Spata"
          ],
          [
           "Ozarowice",
           "Catania"
          ],
          [
           "Ozarowice",
           "Luton"
          ],
          [
           "Samara",
           "St. Petersburg"
          ],
          [
           "Kaunas",
           "Orio al Serio"
          ],
          [
           "Kuopio",
           "Helsinki"
          ],
          [
           "Spata",
           "Kavala"
          ],
          [
           "Kirov",
           "St. Petersburg"
          ],
          [
           "Kirov",
           "Moscow"
          ],
          [
           "Kirov",
           "Moscow"
          ],
          [
           "Kazan",
           "St. Petersburg"
          ],
          [
           "Kazan",
           "Moscow"
          ],
          [
           "Kazan",
           "Moscow"
          ],
          [
           "Leeds",
           "Amsterdam"
          ],
          [
           "Leeds",
           "Viviers"
          ],
          [
           "Leeds",
           "Faro"
          ],
          [
           "Leeds",
           "Balice"
          ],
          [
           "Leeds",
           "Poznan"
          ],
          [
           "Culleredo",
           "Madrid"
          ],
          [
           "Cherepovets",
           "St. Petersburg"
          ],
          [
           "Murmansk",
           "St. Petersburg"
          ],
          [
           "Almeria",
           "Madrid"
          ],
          [
           "Malaga",
           "Gatwick"
          ],
          [
           "Barcelona",
           "Gatwick"
          ],
          [
           "Saint Helier",
           "Gatwick"
          ],
          [
           "London",
           "Malaga"
          ],
          [
           "London",
           "Malaga"
          ],
          [
           "London",
           "Amsterdam"
          ],
          [
           "London",
           "Amsterdam"
          ],
          [
           "London",
           "Stockholm"
          ],
          [
           "London",
           "Stockholm"
          ],
          [
           "London",
           "Spata"
          ],
          [
           "London",
           "Spata"
          ],
          [
           "London",
           "Barcelona"
          ],
          [
           "London",
           "Barcelona"
          ],
          [
           "London",
           "Billund"
          ],
          [
           "London",
           "Billund"
          ],
          [
           "London",
           "Bologna"
          ],
          [
           "London",
           "Bologna"
          ],
          [
           "London",
           "Zaventem"
          ],
          [
           "London",
           "Edinburgh"
          ],
          [
           "London",
           "Edinburgh"
          ],
          [
           "London",
           "Gibraltar"
          ],
          [
           "London",
           "Gothenburg"
          ],
          [
           "London",
           "Gothenburg"
          ],
          [
           "London",
           "Geneva"
          ],
          [
           "London",
           "Geneva"
          ],
          [
           "London",
           "Segrate"
          ],
          [
           "Lisbon",
           "London"
          ],
          [
           "London",
           "Lyon"
          ],
          [
           "London",
           "Madrid"
          ],
          [
           "London",
           "Madrid"
          ],
          [
           "London",
           "Nice"
          ],
          [
           "London",
           "Newcastle"
          ],
          [
           "London",
           "Oslo"
          ],
          [
           "London",
           "Otopeni"
          ],
          [
           "London",
           "Otopeni"
          ],
          [
           "London",
           "Salzburg"
          ],
          [
           "London",
           "Salzburg"
          ],
          [
           "London",
           "Toulouse"
          ],
          [
           "London",
           "Vienna"
          ],
          [
           "London",
           "Vienna"
          ],
          [
           "London",
           "Zurich"
          ],
          [
           "Lesquin",
           "Geneva"
          ],
          [
           "Segrate",
           "Amsterdam"
          ],
          [
           "Segrate",
           "Brindisi"
          ],
          [
           "Segrate",
           "Zaventem"
          ],
          [
           "Segrate",
           "Cagliari"
          ],
          [
           "Segrate",
           "Paris"
          ],
          [
           "Segrate",
           "Catania"
          ],
          [
           "Segrate",
           "Helsinki"
          ],
          [
           "Segrate",
           "Madrid"
          ],
          [
           "Segrate",
           "Munich"
          ],
          [
           "Segrate",
           "Reggio Calabria"
          ],
          [
           "Segrate",
           "Lamezia Terme"
          ],
          [
           "Lisbon",
           "Alicante"
          ],
          [
           "Lisbon",
           "Amsterdam"
          ],
          [
           "Lisbon",
           "Barcelona"
          ],
          [
           "Lisbon",
           "Bordeaux"
          ],
          [
           "Lisbon",
           "Zaventem"
          ],
          [
           "Lisbon",
           "Paris"
          ],
          [
           "Lisbon",
           "Paris"
          ],
          [
           "Lisbon",
           "Cologne"
          ],
          [
           "Lisbon",
           "Rome"
          ],
          [
           "Lisbon",
           "Geneva"
          ],
          [
           "Lisbon",
           "Helsinki"
          ],
          [
           "Lisbon",
           "Gatwick"
          ],
          [
           "London",
           "Lisbon"
          ],
          [
           "London",
           "Lisbon"
          ],
          [
           "Lisbon",
           "Luxembourg"
          ],
          [
           "Lisbon",
           "Lyon"
          ],
          [
           "Lisbon",
           "Madrid"
          ],
          [
           "Lisbon",
           "Munich"
          ],
          [
           "Lisbon",
           "Oslo"
          ],
          [
           "Lisbon",
           "Vienna"
          ],
          [
           "Lisbon",
           "Valencia"
          ],
          [
           "Lisbon",
           "Warsaw"
          ],
          [
           "Lisbon",
           "Zurich"
          ],
          [
           "Lulea",
           "Stockholm"
          ],
          [
           "Luton",
           "Malaga"
          ],
          [
           "Luton",
           "Barcelona"
          ],
          [
           "Luton",
           "Belfast"
          ],
          [
           "Luton",
           "Edinburgh"
          ],
          [
           "Luton",
           "Gdansk"
          ],
          [
           "Luton",
           "Geneva"
          ],
          [
           "Luton",
           "Iasi"
          ],
          [
           "Luton",
           "Otopeni"
          ],
          [
           "Luton",
           "Prishtina"
          ],
          [
           "Luton",
           "Suceava"
          ],
          [
           "Luton",
           "Tromso"
          ],
          [
           "Luton",
           "Vilnius"
          ],
          [
           "Luton",
           "Wroclaw"
          ],
          [
           "Luxembourg",
           "Malaga"
          ],
          [
           "Luxembourg",
           "Orio al Serio"
          ],
          [
           "Lublin",
           "Luton"
          ],
          [
           "Lyon",
           "Stockholm"
          ],
          [
           "Lyon",
           "Paris"
          ],
          [
           "Lyon",
           "Edinburgh"
          ],
          [
           "Lyon",
           "Madrid"
          ],
          [
           "Lyon",
           "Munich"
          ],
          [
           "Malaga",
           "Madrid"
          ],
          [
           "Barcelona",
           "Madrid"
          ],
          [
           "Bologna",
           "Madrid"
          ],
          [
           "Bordeaux",
           "Madrid"
          ],
          [
           "Zaventem",
           "Madrid"
          ],
          [
           "Hamburg",
           "Madrid"
          ],
          [
           "Gatwick",
           "Madrid"
          ],
          [
           "Mahon",
           "Barcelona"
          ],
          [
           "Manchester",
           "Malaga"
          ],
          [
           "Manchester",
           "Amsterdam"
          ],
          [
           "Manchester",
           "Barcelona"
          ],
          [
           "Manchester",
           "Belfast"
          ],
          [
           "Manchester",
           "Belfast"
          ],
          [
           "Manchester",
           "Budapest"
          ],
          [
           "Manchester",
           "Paris"
          ],
          [
           "Manchester",
           "Cologne"
          ],
          [
           "Manchester",
           "Rome"
          ],
          [
           "Manchester",
           "Viviers"
          ],
          [
           "Manchester",
           "Copenhagen"
          ],
          [
           "Manchester",
           "Frankfurt am Main"
          ],
          [
           "Manchester",
           "Geneva"
          ],
          [
           "Manchester",
           "Helsinki"
          ],
          [
           "Manchester",
           "Balice"
          ],
          [
           "Manchester",
           "London"
          ],
          [
           "Manchester",
           "Lisbon"
          ],
          [
           "Manchester",
           "Madrid"
          ],
          [
           "Manchester",
           "Munich"
          ],
          [
           "Manchester",
           "Poznan"
          ],
          [
           "Manchester",
           "Prague"
          ],
          [
           "Manchester",
           "Corvera"
          ],
          [
           "Manchester",
           "Jasionka"
          ],
          [
           "Manchester",
           "Seville"
          ],
          [
           "Manchester",
           "Venezia"
          ],
          [
           "Manchester",
           "Caselle"
          ],
          [
           "Manchester",
           "Wroclaw"
          ],
          [
           "Makhachkala",
           "Moscow"
          ],
          [
           "Makhachkala",
           "Moscow"
          ],
          [
           "Makhachkala",
           "Moscow"
          ],
          [
           "Makhachkala",
           "St. Petersburg"
          ],
          [
           "Malmo",
           "Stockholm"
          ],
          [
           "Malmo",
           "Stockholm"
          ],
          [
           "Montpellier",
           "Amsterdam"
          ],
          [
           "Montpellier",
           "Paris"
          ],
          [
           "Marseille",
           "Malaga"
          ],
          [
           "Marseille",
           "Alicante"
          ],
          [
           "Marseille",
           "Budapest"
          ],
          [
           "Marseille",
           "Paris"
          ],
          [
           "Marseille",
           "Paris"
          ],
          [
           "Marseille",
           "Charleroi"
          ],
          [
           "Marseille",
           "Lisbon"
          ],
          [
           "Marseille",
           "Lyon"
          ],
          [
           "Marseille",
           "Madrid"
          ],
          [
           "Marseille",
           "Nantes"
          ],
          [
           "Mineralnyye Vody",
           "Sochi"
          ],
          [
           "Mineralnyye Vody",
           "Chelyabinsk"
          ],
          [
           "Mineralnyye Vody",
           "Moscow"
          ],
          [
           "Mineralnyye Vody",
           "Moscow"
          ],
          [
           "Mineralnyye Vody",
           "Moscow"
          ],
          [
           "Mineralnyye Vody",
           "Samara"
          ],
          [
           "Mineralnyye Vody",
           "St. Petersburg"
          ],
          [
           "Mineralnyye Vody",
           "Magnitogorsk"
          ],
          [
           "Mineralnyye Vody",
           "Perm"
          ],
          [
           "Mineralnyye Vody",
           "Volgograd"
          ],
          [
           "Minsk",
           "St. Petersburg"
          ],
          [
           "Minsk",
           "Moscow"
          ],
          [
           "Minsk",
           "Moscow"
          ],
          [
           "Munich",
           "Malaga"
          ],
          [
           "Alicante",
           "Munich"
          ],
          [
           "Stockholm",
           "Munich"
          ],
          [
           "Munich",
           "Barcelona"
          ],
          [
           "Munich",
           "Birmingham"
          ],
          [
           "Munich",
           "Bologna"
          ],
          [
           "Munich",
           "Zaventem"
          ],
          [
           "Dresden",
           "Munich"
          ],
          [
           "Munich",
           "Greven"
          ],
          [
           "Munich",
           "Graz"
          ],
          [
           "Munich",
           "Hamburg"
          ],
          [
           "Munich",
           "Gatwick"
          ],
          [
           "Munich",
           "Prishtina"
          ],
          [
           "Munich",
           "Thessaloniki"
          ],
          [
           "Munich",
           "Stuttgart"
          ],
          [
           "Munich",
           "Valencia"
          ],
          [
           "Napoli",
           "Orio al Serio"
          ],
          [
           "Napoli",
           "Charleroi"
          ],
          [
           "Napoli",
           "Catania"
          ],
          [
           "Napoli",
           "Rome"
          ],
          [
           "Napoli",
           "Balice"
          ],
          [
           "Napoli",
           "Segrate"
          ],
          [
           "Napoli",
           "Palermo"
          ],
          [
           "Napoli",
           "London"
          ],
          [
           "Napoli",
           "Ronchi dei Legionari"
          ],
          [
           "Napoli",
           "Venezia"
          ],
          [
           "Napoli",
           "Vienna"
          ],
          [
           "Napoli",
           "Valencia"
          ],
          [
           "Nice",
           "Barcelona"
          ],
          [
           "Nice",
           "Paris"
          ],
          [
           "Nice",
           "Madrid"
          ],
          [
           "Nice",
           "Zurich"
          ],
          [
           "Newcastle",
           "Malaga"
          ],
          [
           "Newquay",
           "Gatwick"
          ],
          [
           "Weeze",
           "Malaga"
          ],
          [
           "Weeze",
           "Thessaloniki"
          ],
          [
           "Nantes",
           "Amsterdam"
          ],
          [
           "Nantes",
           "Geneva"
          ],
          [
           "Nantes",
           "Madrid"
          ],
          [
           "Nantes",
           "Marseille"
          ],
          [
           "Nuremberg",
           "Thessaloniki"
          ],
          [
           "Nykoping",
           "Otopeni"
          ],
          [
           "Beslan",
           "Moscow"
          ],
          [
           "Ohrid",
           "Zurich"
          ],
          [
           "Olbia",
           "Rome"
          ],
          [
           "Oradea",
           "Otopeni"
          ],
          [
           "Paris",
           "Ivalo"
          ],
          [
           "Paris",
           "Tarbes"
          ],
          [
           "Paris",
           "Gatwick"
          ],
          [
           "Paris",
           "Madrid"
          ],
          [
           "Paris",
           "Montpellier"
          ],
          [
           "Paris",
           "Nice"
          ],
          [
           "Paris",
           "Southampton"
          ],
          [
           "Paris",
           "Toulouse"
          ],
          [
           "Paris",
           "Valencia"
          ],
          [
           "Oslo",
           "Malaga"
          ],
          [
           "Oslo",
           "Alicante"
          ],
          [
           "Oslo",
           "Amsterdam"
          ],
          [
           "Oslo",
           "Stockholm"
          ],
          [
           "Oslo",
           "Bergen"
          ],
          [
           "Oslo",
           "Paris"
          ],
          [
           "Oslo",
           "Gothenburg"
          ],
          [
           "Oslo",
           "Helsinki"
          ],
          [
           "Oslo",
           "Stavanger"
          ],
          [
           "Oslo",
           "Tromso"
          ],
          [
           "Oslo",
           "Zurich"
          ],
          [
           "Orsk",
           "Moscow"
          ],
          [
           "Billund",
           "Otopeni"
          ],
          [
           "Bologna",
           "Otopeni"
          ],
          [
           "Gatwick",
           "Otopeni"
          ],
          [
           "Ranon",
           "Barcelona"
          ],
          [
           "Ranon",
           "Madrid"
          ],
          [
           "Ranon",
           "Weeze"
          ],
          [
           "Perm",
           "St. Petersburg"
          ],
          [
           "Perm",
           "Moscow"
          ],
          [
           "Perm",
           "Moscow"
          ],
          [
           "Petrozavodsk",
           "Moscow"
          ],
          [
           "Parma",
           "Cagliari"
          ],
          [
           "Palermo",
           "Barcelona"
          ],
          [
           "Palermo",
           "Orio al Serio"
          ],
          [
           "Palermo",
           "Bologna"
          ],
          [
           "Palermo",
           "Rome"
          ],
          [
           "Palermo",
           "Memmingen"
          ],
          [
           "Palermo",
           "Segrate"
          ],
          [
           "Palermo",
           "Madrid"
          ],
          [
           "Palermo",
           "Napoli"
          ],
          [
           "Palermo",
           "Nuremberg"
          ],
          [
           "Palermo",
           "Pisa"
          ],
          [
           "Palermo",
           "London"
          ],
          [
           "Palermo",
           "Caselle Torinese"
          ],
          [
           "Palermo",
           "Venezia"
          ],
          [
           "Palermo",
           "Valencia"
          ],
          [
           "Palermo",
           "Caselle"
          ],
          [
           "Pamplona",
           "Madrid"
          ],
          [
           "Prague",
           "Malaga"
          ],
          [
           "Prague",
           "Barcelona"
          ],
          [
           "Prague",
           "Orio al Serio"
          ],
          [
           "Prague",
           "Paris"
          ],
          [
           "Prague",
           "Geneva"
          ],
          [
           "Prague",
           "Madrid"
          ],
          [
           "Prishtina",
           "Hamburg"
          ],
          [
           "Prishtina",
           "Stuttgart"
          ],
          [
           "Pisa",
           "Charleroi"
          ],
          [
           "Pisa",
           "Madrid"
          ],
          [
           "Pisa",
           "Valencia"
          ],
          [
           "Orio al Serio",
           "Pescara"
          ],
          [
           "Pula",
           "Zurich"
          ],
          [
           "Orenburg",
           "St. Petersburg"
          ],
          [
           "Orenburg",
           "Moscow"
          ],
          [
           "Riga",
           "Amsterdam"
          ],
          [
           "Riga",
           "Stockholm"
          ],
          [
           "Riga",
           "Bristol"
          ],
          [
           "Riga",
           "Copenhagen"
          ],
          [
           "Riga",
           "Geneva"
          ],
          [
           "Riga",
           "Helsinki"
          ],
          [
           "Riga",
           "Lisbon"
          ],
          [
           "Riga",
           "Palanga"
          ],
          [
           "Riga",
           "London"
          ],
          [
           "Riga",
           "Salzburg"
          ],
          [
           "Riga",
           "Tallinn"
          ],
          [
           "Riga",
           "Vienna"
          ],
          [
           "Riga",
           "Vilnius"
          ],
          [
           "Riga",
           "Warsaw"
          ],
          [
           "Rotterdam",
           "Malaga"
          ],
          [
           "Rotterdam",
           "Salzburg"
          ],
          [
           "Sibiu",
           "Munich"
          ],
          [
           "Santiago de Compostela",
           "Madrid"
          ],
          [
           "Santiago de Compostela",
           "Valencia"
          ],
          [
           "Otopeni",
           "Suceava"
          ],
          [
           "Syktyvkar",
           "St. Petersburg"
          ],
          [
           "Southend",
           "Geneva"
          ],
          [
           "Sarajevo",
           "Cologne"
          ],
          [
           "Stuttgart",
           "Thessaloniki"
          ],
          [
           "Bodo",
           "Hadsel"
          ],
          [
           "Hadsel",
           "Tromso"
          ],
          [
           "Sofia",
           "Alicante"
          ],
          [
           "Sofia",
           "Spata"
          ],
          [
           "Sofia",
           "Barcelona"
          ],
          [
           "Sofia",
           "Orio al Serio"
          ],
          [
           "Sofia",
           "Copenhagen"
          ],
          [
           "Sofia",
           "Charleroi"
          ],
          [
           "Sofia",
           "Eindhoven"
          ],
          [
           "Sofia",
           "Rheinmunster"
          ],
          [
           "Sofia",
           "Memmingen"
          ],
          [
           "Sofia",
           "Madrid"
          ],
          [
           "Sofia",
           "Munich"
          ],
          [
           "Sofia",
           "Nice"
          ],
          [
           "Sofia",
           "Treviso"
          ],
          [
           "Sofia",
           "Varna"
          ],
          [
           "Sofia",
           "Vienna"
          ],
          [
           "Sofia",
           "Warsaw"
          ],
          [
           "Saint Helier",
           "Southampton"
          ],
          [
           "Split",
           "Amsterdam"
          ],
          [
           "London",
           "Alicante"
          ],
          [
           "London",
           "Belfast"
          ],
          [
           "London",
           "Orio al Serio"
          ],
          [
           "London",
           "Bordeaux"
          ],
          [
           "London",
           "Bratislava"
          ],
          [
           "London",
           "Budapest"
          ],
          [
           "London",
           "Bydgoszcz"
          ],
          [
           "London",
           "Cologne"
          ],
          [
           "London",
           "Rome"
          ],
          [
           "London",
           "Viviers"
          ],
          [
           "London",
           "Catania"
          ],
          [
           "London",
           "Eindhoven"
          ],
          [
           "London",
           "Faro"
          ],
          [
           "London",
           "Gdansk"
          ],
          [
           "London",
           "Genova"
          ],
          [
           "London",
           "Balice"
          ],
          [
           "London",
           "Ozarowice"
          ],
          [
           "London",
           "Lodz"
          ],
          [
           "London",
           "Marseille"
          ],
          [
           "London",
           "Napoli"
          ],
          [
           "London",
           "Nuremberg"
          ],
          [
           "London",
           "Poznan"
          ],
          [
           "London",
           "Prague"
          ],
          [
           "London",
           "Pisa"
          ],
          [
           "London",
           "Riga"
          ],
          [
           "London",
           "Santiago de Compostela"
          ],
          [
           "London",
           "Thessaloniki"
          ],
          [
           "London",
           "Sofia"
          ],
          [
           "London",
           "Seville"
          ],
          [
           "London",
           "Olsztyn"
          ],
          [
           "London",
           "Goleniow"
          ],
          [
           "London",
           "Rinas"
          ],
          [
           "London",
           "Caselle Torinese"
          ],
          [
           "London",
           "Ronchi dei Legionari"
          ],
          [
           "London",
           "Venezia"
          ],
          [
           "London",
           "Vigo"
          ],
          [
           "London",
           "Valencia"
          ],
          [
           "London",
           "Vilnius"
          ],
          [
           "London",
           "Caselle"
          ],
          [
           "London",
           "Warsaw"
          ],
          [
           "London",
           "Wroclaw"
          ],
          [
           "London",
           "Zagreb"
          ],
          [
           "London",
           "Zaragoza"
          ],
          [
           "Otopeni",
           "Stuttgart"
          ],
          [
           "Thessaloniki",
           "Stuttgart"
          ],
          [
           "Stavanger",
           "Alicante"
          ],
          [
           "Stavanger",
           "Bergen"
          ],
          [
           "Stavanger",
           "Gdansk"
          ],
          [
           "Stavanger",
           "Oslo"
          ],
          [
           "Svolvaer",
           "Bodo"
          ],
          [
           "Izhevsk",
           "Moscow"
          ],
          [
           "Moscow",
           "Samara"
          ],
          [
           "Moscow",
           "Samara"
          ],
          [
           "Moscow",
           "Magnitogorsk"
          ],
          [
           "Seville",
           "Barcelona"
          ],
          [
           "Seville",
           "Orio al Serio"
          ],
          [
           "Seville",
           "Paris"
          ],
          [
           "Seville",
           "Paris"
          ],
          [
           "Seville",
           "Rome"
          ],
          [
           "Seville",
           "Catania"
          ],
          [
           "Seville",
           "Madrid"
          ],
          [
           "Seville",
           "Manchester"
          ],
          [
           "Seville",
           "Nuremberg"
          ],
          [
           "Seville",
           "Pisa"
          ],
          [
           "Seville",
           "London"
          ],
          [
           "Seville",
           "Warsaw"
          ],
          [
           "Salzburg",
           "Amsterdam"
          ],
          [
           "Salzburg",
           "Stockholm"
          ],
          [
           "Salzburg",
           "Bristol"
          ],
          [
           "Salzburg",
           "Hamburg"
          ],
          [
           "Salzburg",
           "Helsinki"
          ],
          [
           "Salzburg",
           "Gatwick"
          ],
          [
           "Rinas",
           "Stockholm"
          ],
          [
           "Rinas",
           "Barcelona"
          ],
          [
           "Rinas",
           "Orio al Serio"
          ],
          [
           "Rinas",
           "Bologna"
          ],
          [
           "Rinas",
           "Bari"
          ],
          [
           "Rinas",
           "Rome"
          ],
          [
           "Rinas",
           "Rome"
          ],
          [
           "Rinas",
           "Charleroi"
          ],
          [
           "Rinas",
           "Edinburgh"
          ],
          [
           "Rinas",
           "Genova"
          ],
          [
           "Rinas",
           "Hamburg"
          ],
          [
           "Rinas",
           "Frankfurt am Main"
          ],
          [
           "Rinas",
           "Luton"
          ],
          [
           "Rinas",
           "Lyon"
          ],
          [
           "Rinas",
           "Nuremberg"
          ],
          [
           "Rinas",
           "Perugia"
          ],
          [
           "Rinas",
           "Pisa"
          ],
          [
           "Rinas",
           "London"
          ],
          [
           "Rinas",
           "Ronchi dei Legionari"
          ],
          [
           "Rinas",
           "Treviso"
          ],
          [
           "Rinas",
           "Caselle"
          ],
          [
           "Tallinn",
           "Stockholm"
          ],
          [
           "Tallinn",
           "Geneva"
          ],
          [
           "Tallinn",
           "Helsinki"
          ],
          [
           "Tallinn",
           "Gatwick"
          ],
          [
           "Toulouse",
           "Bordeaux"
          ],
          [
           "Toulouse",
           "Madrid"
          ],
          [
           "Toulouse",
           "Munich"
          ],
          [
           "Tampere",
           "Amsterdam"
          ],
          [
           "Tampere",
           "Tallinn"
          ],
          [
           "Tromso",
           "Bergen"
          ],
          [
           "Tromso",
           "Gdansk"
          ],
          [
           "Trondheim",
           "Alicante"
          ],
          [
           "Trondheim",
           "Amsterdam"
          ],
          [
           "Trondheim",
           "Bergen"
          ],
          [
           "Trondheim",
           "Bodo"
          ],
          [
           "Trondheim",
           "Helsinki"
          ],
          [
           "Trondheim",
           "Oslo"
          ],
          [
           "Caselle Torinese",
           "Stockholm"
          ],
          [
           "Caselle Torinese",
           "Barcelona"
          ],
          [
           "Caselle Torinese",
           "Brindisi"
          ],
          [
           "Caselle Torinese",
           "Cagliari"
          ],
          [
           "Caselle Torinese",
           "Gothenburg"
          ],
          [
           "Caselle Torinese",
           "Gatwick"
          ],
          [
           "Caselle Torinese",
           "Madrid"
          ],
          [
           "Caselle Torinese",
           "Munich"
          ],
          [
           "Caselle Torinese",
           "Otopeni"
          ],
          [
           "Caselle Torinese",
           "Vilnius"
          ],
          [
           "Treviso",
           "Tille"
          ],
          [
           "Treviso",
           "Charleroi"
          ],
          [
           "Treviso",
           "Otopeni"
          ],
          [
           "Treviso",
           "Sofia"
          ],
          [
           "Treviso",
           "Rinas"
          ],
          [
           "Treviso",
           "Vienna"
          ],
          [
           "Treviso",
           "Valencia"
          ],
          [
           "Timisoara",
           "Orio al Serio"
          ],
          [
           "Timisoara",
           "Tille"
          ],
          [
           "Timisoara",
           "Otopeni"
          ],
          [
           "Tours",
           "London"
          ],
          [
           "Ufa",
           "Sochi"
          ],
          [
           "Ufa",
           "Moscow"
          ],
          [
           "Ufa",
           "Moscow"
          ],
          [
           "Ufa",
           "Moscow"
          ],
          [
           "Ufa",
           "Krasnoyarsk"
          ],
          [
           "Ufa",
           "St. Petersburg"
          ],
          [
           "Ulyanovsk",
           "St. Petersburg"
          ],
          [
           "Ulyanovsk",
           "Moscow"
          ],
          [
           "Ulyanovsk",
           "Moscow"
          ],
          [
           "Umea",
           "Stockholm"
          ],
          [
           "Bugulma",
           "Moscow"
          ],
          [
           "Vaasa",
           "Helsinki"
          ],
          [
           "Cologne",
           "Varna"
          ],
          [
           "Varna",
           "Hamburg"
          ],
          [
           "Venezia",
           "Amsterdam"
          ],
          [
           "Venezia",
           "Bari"
          ],
          [
           "Venezia",
           "Paris"
          ],
          [
           "Venezia",
           "Paris"
          ],
          [
           "Venezia",
           "Catania"
          ],
          [
           "Venezia",
           "Edinburgh"
          ],
          [
           "Venezia",
           "Rome"
          ],
          [
           "Venezia",
           "Frankfurt am Main"
          ],
          [
           "Venezia",
           "London"
          ],
          [
           "Venezia",
           "London"
          ],
          [
           "Venezia",
           "Lisbon"
          ],
          [
           "Venezia",
           "Manchester"
          ],
          [
           "Venezia",
           "Munich"
          ],
          [
           "Venezia",
           "Napoli"
          ],
          [
           "Venezia",
           "Palermo"
          ],
          [
           "Venezia",
           "Lamezia Terme"
          ],
          [
           "Vigo",
           "Barcelona"
          ],
          [
           "Vigo",
           "Madrid"
          ],
          [
           "Vienna",
           "Malaga"
          ],
          [
           "Vienna",
           "Spata"
          ],
          [
           "Vienna",
           "Barcelona"
          ],
          [
           "Vienna",
           "Orio al Serio"
          ],
          [
           "Vienna",
           "Zaventem"
          ],
          [
           "Vienna",
           "Paris"
          ],
          [
           "Vienna",
           "Cluj"
          ],
          [
           "Vienna",
           "Geneva"
          ],
          [
           "Vienna",
           "Hamburg"
          ],
          [
           "Vienna",
           "Helsinki"
          ],
          [
           "Vienna",
           "Klagenfurt on Lake Worthersee"
          ],
          [
           "Vienna",
           "Gatwick"
          ],
          [
           "Vienna",
           "Luxembourg"
          ],
          [
           "Vienna",
           "Madrid"
          ],
          [
           "Vienna",
           "Munich"
          ],
          [
           "Vienna",
           "Otopeni"
          ],
          [
           "Vienna",
           "Stuttgart"
          ],
          [
           "Vienna",
           "Tallinn"
          ],
          [
           "Vienna",
           "Tromso"
          ],
          [
           "Vienna",
           "Zurich"
          ],
          [
           "Kaliningrad",
           "Moscow"
          ],
          [
           "Valencia",
           "Zaventem"
          ],
          [
           "Valencia",
           "Madrid"
          ],
          [
           "Vilnius",
           "Malaga"
          ],
          [
           "Vilnius",
           "Tille"
          ],
          [
           "Vilnius",
           "Helsinki"
          ],
          [
           "Vilnius",
           "Munich"
          ],
          [
           "Volgograd",
           "St. Petersburg"
          ],
          [
           "Volgograd",
           "Moscow"
          ],
          [
           "Volgograd",
           "Moscow"
          ],
          [
           "Voronezh",
           "St. Petersburg"
          ],
          [
           "Caselle",
           "Gdansk"
          ],
          [
           "Caselle",
           "Poznan"
          ],
          [
           "Viseu",
           "Cascais"
          ],
          [
           "Viseu",
           "Vila Real"
          ],
          [
           "Warsaw",
           "Amsterdam"
          ],
          [
           "Warsaw",
           "Spata"
          ],
          [
           "Warsaw",
           "Barcelona"
          ],
          [
           "Warsaw",
           "Barcelona"
          ],
          [
           "Warsaw",
           "Orio al Serio"
          ],
          [
           "Warsaw",
           "Zaventem"
          ],
          [
           "Warsaw",
           "Budapest"
          ],
          [
           "Warsaw",
           "Paris"
          ],
          [
           "Warsaw",
           "Cluj"
          ],
          [
           "Warsaw",
           "Gdansk"
          ],
          [
           "Warsaw",
           "Geneva"
          ],
          [
           "Warsaw",
           "Helsinki"
          ],
          [
           "Warsaw",
           "Balice"
          ],
          [
           "Warsaw",
           "Ozarowice"
          ],
          [
           "Warsaw",
           "London"
          ],
          [
           "Warsaw",
           "Zgornji Brnik"
          ],
          [
           "Warsaw",
           "Luton"
          ],
          [
           "Warsaw",
           "Munich"
          ],
          [
           "Warsaw",
           "Prague"
          ],
          [
           "Warsaw",
           "Tallinn"
          ],
          [
           "Warsaw",
           "Vilnius"
          ],
          [
           "Warsaw",
           "Caselle"
          ],
          [
           "Warsaw",
           "Wroclaw"
          ],
          [
           "Warsaw",
           "Zurich"
          ],
          [
           "Warsaw",
           "Malaga"
          ],
          [
           "Warsaw",
           "Rome"
          ],
          [
           "Warsaw",
           "Charleroi"
          ],
          [
           "Wroclaw",
           "Malaga"
          ],
          [
           "Wroclaw",
           "Birmingham"
          ],
          [
           "Tille",
           "Wroclaw"
          ],
          [
           "Wroclaw",
           "Valencia"
          ],
          [
           "Zagreb",
           "Amsterdam"
          ],
          [
           "Zagreb",
           "Frankfurt am Main"
          ],
          [
           "Zagreb",
           "Munich"
          ],
          [
           "Zagreb",
           "Sarajevo"
          ],
          [
           "Zagreb",
           "Split"
          ],
          [
           "Zagreb",
           "Vienna"
          ],
          [
           "Zagreb",
           "Zurich"
          ],
          [
           "Zaragoza",
           "Tille"
          ],
          [
           "Zurich",
           "Malaga"
          ],
          [
           "Zurich",
           "Stockholm"
          ],
          [
           "Zurich",
           "Barcelona"
          ],
          [
           "Zurich",
           "Bologna"
          ],
          [
           "Zurich",
           "Zaventem"
          ],
          [
           "Zurich",
           "Paris"
          ],
          [
           "Zurich",
           "Edinburgh"
          ],
          [
           "Zurich",
           "Gothenburg"
          ],
          [
           "Zurich",
           "Geneva"
          ],
          [
           "Zurich",
           "Hamburg"
          ],
          [
           "Zurich",
           "Helsinki"
          ],
          [
           "Zurich",
           "Madrid"
          ],
          [
           "Zurich",
           "Munich"
          ],
          [
           "Zurich",
           "Otopeni"
          ],
          [
           "Zurich",
           "Prishtina"
          ],
          [
           "Zurich",
           "Rovaniemi"
          ],
          [
           "Zurich",
           "Stuttgart"
          ]
         ],
         "hovertemplate": "flight_time_hours_with_extra=%{x}<br>train_time_hours=%{y}<br>city1=%{customdata[0]}<br>city2=%{customdata[1]}<extra></extra>",
         "legendgroup": "",
         "marker": {
          "color": "#636efa",
          "symbol": "circle"
         },
         "mode": "markers",
         "name": "",
         "showlegend": false,
         "type": "scattergl",
         "x": [
          2.4166666666666665,
          2.4166666666666665,
          2.5833333333333335,
          4.583333333333333,
          4.7638888888888875,
          3.75,
          4.75,
          6.416666666666667,
          4.416666666666667,
          5,
          4.395833333333333,
          5.083333333333333,
          1.8333333333333333,
          2.625,
          2.8333333333333335,
          4.833333333333333,
          4.416666666666667,
          3.75,
          2.3333333333333335,
          2.2916666666666665,
          2.0833333333333335,
          2.1666666666666665,
          1.8333333333333333,
          1.8333333333333333,
          2.6666666666666665,
          2.1666666666666665,
          3.1666666666666665,
          3.6666666666666665,
          3.4166666666666665,
          3.5,
          4.625,
          3.9166666666666665,
          3.5833333333333335,
          2.1666666666666665,
          3.5833333333333335,
          4.416666666666667,
          2.5833333333333335,
          4.125,
          3.875,
          3.1666666666666665,
          4.666666666666667,
          3.375,
          2.7916666666666665,
          2.3333333333333335,
          2.25,
          4.333333333333333,
          2.4166666666666665,
          2.3333333333333335,
          2.3333333333333335,
          3.1666666666666665,
          2.8333333333333335,
          2.625,
          2.1666666666666665,
          3.6666666666666665,
          2.3333333333333335,
          2.1666666666666665,
          2.6666666666666665,
          1.9166666666666667,
          4.083333333333333,
          2.3333333333333335,
          4.083333333333333,
          2.25,
          3.6666666666666665,
          1.4166666666666667,
          1.5,
          2.5,
          5.416666666666667,
          3.75,
          2.0833333333333335,
          2.2916666666666665,
          3.25,
          2.6666666666666665,
          3.7083333333333335,
          2.0277777777777777,
          3.9166666666666665,
          3.25,
          4,
          4.5,
          3.75,
          2.25,
          4.833333333333333,
          5.083333333333333,
          2.5833333333333335,
          1.888888888888889,
          3.75,
          2.5416666666666665,
          2.6666666666666665,
          3,
          2.9166666666666665,
          2.5833333333333335,
          4.166666666666667,
          3.0833333333333335,
          3,
          2.6666666666666665,
          2.4166666666666665,
          3.75,
          2.0833333333333335,
          3.5416666666666665,
          3.5833333333333335,
          1.9166666666666667,
          3.875,
          5,
          3.8333333333333335,
          4.166666666666667,
          1.8958333333333333,
          2.5,
          2.6666666666666665,
          2.6666666666666665,
          3.9583333333333335,
          2.0833333333333335,
          2.25,
          3.25,
          1.3333333333333333,
          5,
          3.5833333333333335,
          3.1666666666666665,
          3.75,
          2.6666666666666665,
          3,
          2.5,
          2.5,
          2.5416666666666665,
          3.4166666666666665,
          3.2916666666666665,
          2.25,
          2.7083333333333335,
          3.0416666666666665,
          2.5416666666666665,
          2.4166666666666665,
          2.3333333333333335,
          2.0833333333333335,
          3.9166666666666665,
          3.1666666666666665,
          4.5,
          4.583333333333333,
          3.25,
          3.5,
          3.25,
          2.2083333333333335,
          2.7083333333333335,
          2.8055555555555554,
          2.125,
          3.25,
          2.5,
          4,
          1.6666666666666667,
          1.75,
          3.4166666666666665,
          2.3333333333333335,
          3.625,
          1.4166666666666667,
          1.5833333333333333,
          2.25,
          2.5,
          2.527777777777778,
          3.4166666666666665,
          2.1666666666666665,
          2.4166666666666665,
          2,
          2.625,
          2.3333333333333335,
          2.375,
          3.1666666666666665,
          3.75,
          3.6666666666666665,
          3.0833333333333335,
          3.0833333333333335,
          3.25,
          4.166666666666667,
          3.1666666666666665,
          2.75,
          3.5,
          4.5625,
          3.4166666666666665,
          3,
          2.575,
          2.5,
          2.6666666666666665,
          3.0416666666666665,
          3.1666666666666665,
          3.375,
          3.8333333333333335,
          2.2083333333333335,
          2.2916666666666665,
          2.75,
          2.6666666666666665,
          3.25,
          3.25,
          2.6666666666666665,
          3.75,
          3.5,
          3.75,
          2.75,
          2.6666666666666665,
          2.4166666666666665,
          2.75,
          2.4166666666666665,
          2.1666666666666665,
          3.3333333333333335,
          4.333333333333333,
          2.6666666666666665,
          4.166666666666667,
          5,
          3.5416666666666665,
          1.9166666666666667,
          4,
          3.5833333333333335,
          2,
          4,
          2.0833333333333335,
          4,
          3,
          3.0833333333333335,
          3.027777777777778,
          3.1666666666666665,
          3.9166666666666665,
          1.9166666666666667,
          1.6666666666666667,
          2.9166666666666665,
          1.8055555555555558,
          1.6666666666666667,
          4.666666666666667,
          4.333333333333333,
          2.4583333333333335,
          2.2083333333333335,
          2.9166666666666665,
          3.1666666666666665,
          3,
          2.4166666666666665,
          4.916666666666667,
          2.5,
          2.0833333333333335,
          1.875,
          3.0625,
          2,
          2.6666666666666665,
          2.75,
          2.5,
          3.0833333333333335,
          2.9166666666666665,
          4.25,
          3,
          2.6666666666666665,
          2.25,
          2.4166666666666665,
          2.6111111111111116,
          2.7083333333333335,
          2.75,
          2.8333333333333335,
          3.5,
          3.25,
          3.1666666666666665,
          3.9166666666666665,
          2.75,
          2.6666666666666665,
          2.5833333333333335,
          2.4166666666666665,
          2.875,
          2.75,
          3.6666666666666665,
          2.5833333333333335,
          2.7916666666666665,
          3.7916666666666665,
          4.625,
          4.083333333333333,
          3.9166666666666665,
          4.25,
          2.6666666666666665,
          2.75,
          2.6041666666666665,
          2.6041666666666665,
          2.5416666666666665,
          2.5416666666666665,
          2.5,
          2.5,
          3.75,
          3.6333333333333333,
          3.5833333333333335,
          2.4166666666666665,
          2.3333333333333335,
          2.8333333333333335,
          3.0833333333333335,
          2.75,
          3.1666666666666665,
          3.0833333333333335,
          2.5833333333333335,
          2.5833333333333335,
          2.7916666666666665,
          3.0833333333333335,
          1.9166666666666667,
          2.25,
          2.25,
          1.8333333333333333,
          3.3333333333333335,
          4.5,
          3.6666666666666665,
          4.166666666666667,
          2.4166666666666665,
          4.083333333333333,
          3.6666666666666665,
          2.1666666666666665,
          3.7083333333333335,
          3.4166666666666665,
          4.5,
          2.5833333333333335,
          2.1666666666666665,
          2.0833333333333335,
          4.333333333333333,
          3.6666666666666665,
          2.0833333333333335,
          2.25,
          2.75,
          3.2916666666666665,
          2.4166666666666665,
          3.9166666666666665,
          3.9583333333333335,
          3.5833333333333335,
          3.9166666666666665,
          3.4166666666666665,
          2.625,
          3,
          3.3333333333333335,
          3.1666666666666665,
          2.9166666666666665,
          2.4166666666666665,
          3.2916666666666665,
          4,
          3.75,
          2.0833333333333335,
          2.875,
          2.75,
          3.75,
          4.166666666666667,
          4.145833333333333,
          1.7916666666666667,
          3.875,
          4.125,
          3.625,
          3.5833333333333335,
          2.0833333333333335,
          3.0833333333333335,
          2.25,
          2,
          3.0833333333333335,
          2.75,
          2.0833333333333335,
          3.125,
          2.9166666666666665,
          3,
          2.3333333333333335,
          3.1666666666666665,
          1.9166666666666667,
          2.5,
          2.0833333333333335,
          3.6666666666666665,
          3.5,
          3.6666666666666665,
          2.1666666666666665,
          4.083333333333333,
          2.5833333333333335,
          3.5416666666666665,
          2.5,
          2.1666666666666665,
          2.0416666666666665,
          3.3333333333333335,
          3,
          2.125,
          3.3333333333333335,
          2.8333333333333335,
          3.375,
          2.0833333333333335,
          2.1666666666666665,
          2.3333333333333335,
          2.25,
          2.0833333333333335,
          2.7083333333333335,
          3.0833333333333335,
          2,
          3.4166666666666665,
          2.5833333333333335,
          3.375,
          2.8333333333333335,
          3.1666666666666665,
          3.4166666666666665,
          2.25,
          2.9166666666666665,
          3.25,
          4.083333333333333,
          3.9166666666666665,
          3.75,
          2.25,
          3.2083333333333335,
          3.1666666666666665,
          2.5,
          2,
          2.625,
          2,
          2.6666666666666665,
          2.25,
          2.0833333333333335,
          1.8333333333333333,
          2.5416666666666665,
          2.75,
          2.4166666666666665,
          2.0833333333333335,
          2.125,
          3.6666666666666665,
          4.666666666666667,
          4.166666666666667,
          2.625,
          2,
          2.5,
          2.75,
          2.2916666666666665,
          2.75,
          2.0833333333333335,
          1.75,
          3.3333333333333335,
          2.5,
          2.1666666666666665,
          1.8333333333333333,
          2.0833333333333335,
          3.5833333333333335,
          2.3333333333333335,
          2.4444444444444446,
          3,
          2.4166666666666665,
          2.5833333333333335,
          2,
          1.5833333333333333,
          2.4166666666666665,
          1.3333333333333333,
          2.1944444444444446,
          1.75,
          5.083333333333333,
          2.5833333333333335,
          3.0833333333333335,
          2.3333333333333335,
          2.7083333333333335,
          4.916666666666667,
          2.25,
          3.25,
          2.4583333333333335,
          2.1666666666666665,
          3.6666666666666665,
          2.5,
          2.8333333333333335,
          2.6666666666666665,
          2.75,
          2.3333333333333335,
          3.25,
          2.625,
          3.0833333333333335,
          2.25,
          3.2916666666666665,
          2.6666666666666665,
          1.9166666666666667,
          2.1666666666666665,
          4.333333333333333,
          1.5,
          2.0833333333333335,
          5.083333333333333,
          3.625,
          3.8333333333333335,
          3.0416666666666665,
          2.9583333333333335,
          2.5,
          5.416666666666667,
          2.0416666666666665,
          2.2916666666666665,
          3.25,
          3.3333333333333335,
          2.1666666666666665,
          1.9166666666666667,
          2.25,
          1.8333333333333333,
          3.1666666666666665,
          2.875,
          3.125,
          3.5833333333333335,
          3.0555555555555554,
          3.3333333333333335,
          1.9583333333333333,
          2.625,
          2.2083333333333335,
          2.75,
          2,
          1.8333333333333333,
          2.7083333333333335,
          2.75,
          2.9166666666666665,
          3.805555555555556,
          1.5,
          4.25,
          5.5,
          2.2083333333333335,
          5.958333333333333,
          1.25,
          4.708333333333333,
          3,
          3,
          3.7916666666666665,
          2.7916666666666665,
          3.5416666666666665,
          2.75,
          3.25,
          3.4583333333333335,
          3,
          3,
          3.75,
          3,
          2.7916666666666665,
          3.5833333333333335,
          3.125,
          3.4583333333333335,
          2.8333333333333335,
          3.2916666666666665,
          2.9166666666666665,
          2.6666666666666665,
          2.0416666666666665,
          4.083333333333333,
          1.9166666666666667,
          3.3333333333333335,
          3.2083333333333335,
          1.8333333333333333,
          2.25,
          2.4444444444444446,
          4.666666666666667,
          4.25,
          3.5833333333333335,
          3.555555555555556,
          3.4583333333333335,
          3.3958333333333335,
          3.4166666666666665,
          2,
          2.1666666666666665,
          3,
          2.7916666666666665,
          2.7083333333333335,
          3.25,
          2.75,
          2.75,
          2.3333333333333335,
          3,
          4.041666666666667,
          3.5416666666666665,
          3.1666666666666665,
          2.277777777777778,
          1.9166666666666667,
          2.8333333333333335,
          2.25,
          3.8333333333333335,
          3.25,
          1.9166666666666667,
          4.083333333333333,
          3.9166666666666665,
          2.4166666666666665,
          2.1666666666666665,
          3.6666666666666665,
          3.4583333333333335,
          5.083333333333333,
          4.583333333333333,
          3.4166666666666665,
          3.2916666666666665,
          2.8333333333333335,
          2.5833333333333335,
          3.4166666666666665,
          3.0833333333333335,
          2.1944444444444446,
          2.4166666666666665,
          2.3333333333333335,
          4.083333333333333,
          3.125,
          2.875,
          2.7083333333333335,
          2.7916666666666665,
          3,
          3.8333333333333335,
          2.875,
          3.4583333333333335,
          3.5833333333333335,
          3.1666666666666665,
          2.2916666666666665,
          3.4583333333333335,
          4.333333333333333,
          4.25,
          3.1666666666666665,
          3,
          2.9166666666666665,
          3.3333333333333335,
          3.25,
          2.7916666666666665,
          2.3333333333333335,
          2.9166666666666665,
          2.5833333333333335,
          2.4166666666666665,
          2.375,
          2.5833333333333335,
          2.9166666666666665,
          4.083333333333333,
          3.4166666666666665,
          2.1666666666666665,
          2.6666666666666665,
          2.625,
          2.75,
          4.166666666666667,
          2.9583333333333335,
          2.9166666666666665,
          3.8333333333333335,
          3.5833333333333335,
          3.5208333333333335,
          4.083333333333333,
          4.166666666666667,
          3.5833333333333335,
          5.583333333333333,
          3.5833333333333335,
          3.75,
          3.75,
          3.6666666666666665,
          3.4166666666666665,
          2.3333333333333335,
          4.166666666666667,
          5.166666666666667,
          4.583333333333333,
          2.5416666666666665,
          5.166666666666667,
          3.8333333333333335,
          2.3333333333333335,
          3.875,
          3.0833333333333335,
          2.25,
          2.25,
          3.3333333333333335,
          2.75,
          4.416666666666667,
          4.458333333333333,
          4.375,
          4.25,
          4.75,
          3.7916666666666665,
          3.125,
          3.7083333333333335,
          2.25,
          3.6666666666666665,
          4.083333333333333,
          2.2083333333333335,
          3.3333333333333335,
          2.9166666666666665,
          2.3333333333333335,
          2.25,
          2.4166666666666665,
          3.5833333333333335,
          2.4166666666666665,
          3.4583333333333335,
          3.9166666666666665,
          3.4166666666666665,
          1.875,
          3.9583333333333335,
          2.2916666666666665,
          3.25,
          2.0208333333333335,
          2.1666666666666665,
          3.7083333333333335,
          2.4583333333333335,
          2.625,
          3.7916666666666665,
          3.0833333333333335,
          2.9166666666666665,
          2.6666666666666665,
          2.9444444444444446,
          3.875,
          3.5,
          2.0416666666666665,
          3.7916666666666665,
          3.5833333333333335,
          3.0833333333333335,
          3.1666666666666665,
          3.25,
          3.8333333333333335,
          3.8333333333333335,
          3.8333333333333335,
          3.4166666666666665,
          3.4166666666666665,
          3.2916666666666665,
          4.083333333333333,
          4.25,
          3.7916666666666665,
          4.333333333333333,
          2.1666666666666665,
          2.3333333333333335,
          3.0833333333333335,
          2.4583333333333335,
          3,
          2.5833333333333335,
          3,
          2.5833333333333335,
          2.375,
          2.75,
          3.3333333333333335,
          2.0833333333333335,
          2.7916666666666665,
          2.5,
          2.0416666666666665,
          4.208333333333333,
          4.25,
          4.291666666666667,
          3.375,
          3.6666666666666665,
          4,
          3.6666666666666665,
          4.291666666666667,
          3.1666666666666665,
          2.4166666666666665,
          2.5,
          2.4166666666666665,
          4,
          3.5833333333333335,
          3.25,
          3.0833333333333335,
          2.9166666666666665,
          2.125,
          2.2916666666666665,
          1.9166666666666667,
          2.0833333333333335,
          1.8333333333333333,
          2.2916666666666665,
          2.8333333333333335,
          3,
          3.1666666666666665,
          1.8333333333333333,
          3.4166666666666665,
          2.4166666666666665,
          3.2916666666666665,
          2.0833333333333335,
          1.9166666666666667,
          3,
          2.2916666666666665,
          2,
          3.9166666666666665,
          2.25,
          2.3333333333333335,
          2.75,
          3.0833333333333335,
          2.3333333333333335,
          2.6111111111111116,
          3,
          2.2083333333333335,
          4.166666666666667,
          2.3333333333333335,
          4.041666666666667,
          3.8333333333333335,
          2.5416666666666665,
          2.375,
          2.6666666666666665,
          2.5,
          3.4166666666666665,
          3.9166666666666665,
          3.9166666666666665,
          3.0833333333333335,
          2,
          2.375,
          5.416666666666667,
          2.4166666666666665,
          2.2083333333333335,
          3.0833333333333335,
          2.4166666666666665,
          2.4583333333333335,
          2.5,
          2.25,
          2.9444444444444446,
          5.166666666666667,
          4.833333333333333,
          2.9166666666666665,
          2.2083333333333335,
          1.9375,
          3.5,
          1.9166666666666667,
          3.0833333333333335,
          2,
          2.9583333333333335,
          3.5,
          3.6666666666666665,
          3.6666666666666665,
          3.0833333333333335,
          4.166666666666667,
          2.4166666666666665,
          2.25,
          3.2083333333333335,
          3.4375,
          3.25,
          3.125,
          2.5833333333333335,
          2.3333333333333335,
          2.9166666666666665,
          2.6666666666666665,
          2.5,
          2.25,
          2.9583333333333335,
          2.5833333333333335,
          3.6666666666666665,
          2,
          3.125,
          2.3333333333333335,
          4.166666666666667,
          2.6666666666666665,
          2.5833333333333335,
          3.125,
          2.5416666666666665,
          2.0833333333333335,
          4.333333333333333,
          3.4583333333333335,
          2.3333333333333335,
          2.75,
          2.5,
          4.083333333333333,
          3.6458333333333335,
          3.0833333333333335,
          2.75,
          3.4166666666666665,
          2.8333333333333335,
          2.25,
          2.4166666666666665,
          3.875,
          3.361111111111111,
          3.4166666666666665,
          2.1666666666666665,
          4,
          2.5,
          3.75,
          2.0833333333333335,
          5.5,
          1.65,
          3.9166666666666665,
          3.2083333333333335,
          1.8333333333333333,
          3.125,
          1.8,
          2.3333333333333335,
          3.875,
          2.5,
          2.7083333333333335,
          2.2083333333333335,
          2.5416666666666665,
          2.1666666666666665,
          2.9166666666666665,
          2.5833333333333335,
          2.9166666666666665,
          3.25,
          1.5833333333333333,
          1.6666666666666667,
          4.375,
          2.3333333333333335,
          3.9166666666666665,
          3,
          4.083333333333333,
          3.75,
          3.5833333333333335,
          3.25,
          3.0416666666666665,
          4.666666666666667,
          3,
          3.1666666666666665,
          2.8333333333333335,
          1.8333333333333333,
          2.5833333333333335,
          3,
          1.8333333333333333,
          3.4166666666666665,
          3.6666666666666665,
          2.3333333333333335,
          3,
          2.7083333333333335,
          3.25,
          3.5,
          3.1666666666666665,
          2.2916666666666665,
          3.5416666666666665,
          2.8333333333333335,
          4.375,
          2.0833333333333335,
          3.8333333333333335,
          3.25,
          3.1666666666666665,
          3.4166666666666665,
          3.3333333333333335,
          3.3333333333333335,
          3,
          3.5833333333333335,
          2.6666666666666665,
          3.0833333333333335,
          2.9166666666666665,
          3.2083333333333335,
          3.5833333333333335,
          3.1666666666666665,
          4.166666666666667,
          4,
          3.75,
          3.375,
          2.9166666666666665,
          4.083333333333333,
          2.9583333333333335,
          3.1666666666666665,
          3,
          3.1666666666666665,
          3.5833333333333335,
          3.9166666666666665,
          3.0416666666666665,
          3.25,
          3.0833333333333335,
          3.25,
          3.2083333333333335,
          3.4166666666666665,
          3.5,
          4.541666666666667,
          1.6666666666666667,
          2.7916666666666665,
          1.8333333333333333,
          1.4166666666666667,
          3.25,
          2.8958333333333335,
          2.875,
          3.5416666666666665,
          2.6666666666666665,
          3.6666666666666665,
          3.6666666666666665,
          3.5,
          3.6666666666666665,
          4,
          2.125,
          4,
          4.083333333333333,
          3.5,
          3.8333333333333335,
          4.916666666666667,
          2.75,
          3.125,
          3.0833333333333335,
          2.2916666666666665,
          3.5,
          3.0833333333333335,
          4.25,
          3.8333333333333335,
          2.9166666666666665,
          2.6666666666666665,
          2,
          2.4583333333333335,
          2.5,
          3.7083333333333335,
          4.666666666666667,
          2.7916666666666665,
          3.625,
          3.4583333333333335,
          4.291666666666667,
          3.1666666666666665,
          3,
          2.4166666666666665,
          2.7083333333333335,
          4.083333333333333,
          2.7083333333333335,
          2.75,
          2.8333333333333335,
          2,
          3.9166666666666665,
          1.5833333333333333,
          3.8333333333333335,
          1.8333333333333333,
          2.4166666666666665,
          2.7916666666666665,
          3.5,
          1.75,
          3,
          3.875,
          5.333333333333333,
          3.4166666666666665,
          2.0833333333333335,
          2.25,
          3.3333333333333335,
          1.9583333333333333,
          3.75,
          2.4166666666666665,
          2.7083333333333335,
          2.4166666666666665,
          3.25,
          2.9166666666666665,
          3.3333333333333335,
          2.2083333333333335,
          3.5833333333333335,
          3.7083333333333335,
          2.7083333333333335,
          2.625,
          3,
          2.6666666666666665,
          2.5,
          2.25,
          3.1666666666666665,
          2.75,
          3.4166666666666665,
          2,
          2.4166666666666665,
          4.416666666666667,
          3.3333333333333335,
          3.3541666666666665,
          3.1666666666666665,
          4.416666666666667,
          3.7916666666666665,
          3.125,
          2.75,
          2.5833333333333335,
          2.0833333333333335,
          2.8333333333333335,
          2,
          3.75,
          3.6666666666666665,
          2.875,
          2.3333333333333335,
          2.8333333333333335,
          2.8333333333333335,
          2.8055555555555554,
          3.75,
          2.25,
          2.5,
          3.3333333333333335,
          3.25,
          4.166666666666667,
          3.4166666666666665,
          2.0833333333333335,
          2.25,
          2.5833333333333335,
          2.6666666666666665,
          2.75,
          2.25,
          4.333333333333333,
          3.0833333333333335,
          3.375,
          2.4166666666666665,
          2.75,
          3.0416666666666665,
          2.3333333333333335,
          2.5833333333333335,
          2.5833333333333335,
          3.4583333333333335,
          1.75,
          3.375,
          2.8333333333333335,
          4.166666666666667,
          2.0416666666666665,
          2.6666666666666665,
          2.25,
          3.4166666666666665,
          4.666666666666667,
          2.3611111111111116,
          2.9166666666666665,
          3.375,
          2.0416666666666665,
          5.416666666666667,
          3.6666666666666665,
          2.75,
          3.0833333333333335,
          3.5833333333333335,
          3.0833333333333335,
          2.7916666666666665,
          2.9166666666666665,
          3.0833333333333335,
          2.7916666666666665,
          1.8333333333333333,
          1.1666666666666667,
          3.1666666666666665,
          3.5,
          4.166666666666667,
          4.075,
          3.125,
          3.125,
          2.3333333333333335,
          3.5,
          2.5,
          1.9583333333333333,
          3.3333333333333335,
          2.75,
          1.9583333333333333,
          1.8333333333333333,
          3.8333333333333335,
          2.5833333333333335,
          3.5833333333333335,
          2.75,
          2.3333333333333335,
          2.625,
          2.125,
          3,
          1.9444444444444442,
          3.0833333333333335,
          4.958333333333333,
          3.2916666666666665,
          3.0833333333333335,
          4.666666666666667,
          3.0833333333333335,
          2.9166666666666665,
          4.125,
          3.1666666666666665,
          2.5833333333333335,
          2.1666666666666665,
          1.8333333333333333,
          1.8333333333333333,
          1.8333333333333333,
          2.5,
          2.75,
          3.5833333333333335,
          3.4166666666666665,
          2.75,
          2.1666666666666665,
          2.2083333333333335,
          2.25,
          3.25,
          3,
          1.9166666666666667,
          2.375,
          3.8333333333333335,
          3.4166666666666665,
          1.9166666666666667,
          3.5,
          3.125,
          4.416666666666667,
          1.75
         ],
         "xaxis": "x",
         "y": [
          16.166666666666668,
          18.066666666666666,
          11.033333333333333,
          28.733333333333334,
          28.733333333333334,
          28.733333333333334,
          28.733333333333334,
          100.05,
          50.53333333333333,
          34.56666666666667,
          58.2,
          44.82166666666667,
          10.895000000000001,
          10.95,
          13.355555555555556,
          40.333333333333336,
          31.583333333333332,
          23.533333333333335,
          8.133333333333333,
          17.619444444444447,
          22,
          16.6,
          12.531944444444443,
          14.694166666666666,
          15.860833333333334,
          8,
          23.024722222222223,
          21.95,
          25.666666666666668,
          19.8,
          36.8,
          27.466666666666665,
          21.066666666666666,
          6.833333333333333,
          21.183333333333334,
          35.61666666666667,
          14.533333333333333,
          21.816666666666666,
          21.233333333333334,
          18.6,
          44.77166666666667,
          15.366666666666667,
          31.433333333333334,
          12.566666666666666,
          12.516666666666667,
          39.416666666666664,
          12.7,
          8.116666666666667,
          12.716666666666667,
          18.116666666666667,
          17.21361111111111,
          23.566666666666666,
          6.566666666666666,
          34.81666666666667,
          11.25,
          10.433333333333334,
          9.883333333333333,
          12.483333333333333,
          33.15,
          12.580277777777779,
          38.666666666666664,
          11.95,
          19.65,
          7.926111111111111,
          11.254722222222222,
          23.383333333333333,
          43.2,
          30.583055555555557,
          7.6,
          13.608055555555556,
          20.616666666666667,
          19.433333333333334,
          37.333333333333336,
          13.763333333333332,
          52.73833333333334,
          38.17166666666667,
          43.07166666666667,
          41.92166666666667,
          51.46333333333334,
          12.609166666666665,
          47.855000000000004,
          55.538333333333334,
          21.313333333333333,
          6.396944444444444,
          48.49666666666667,
          10.25,
          17.416666666666668,
          14.733333333333333,
          16.25,
          23.833333333333332,
          33.43333333333333,
          17.35,
          17.101388888888888,
          12.69277777777778,
          10.783333333333333,
          32.6,
          6,
          27.915000000000003,
          21.716666666666665,
          3.410277777777778,
          45.15,
          46.5,
          40.75,
          44.416666666666664,
          29.073333333333334,
          11,
          21.033333333333335,
          18.833333333333332,
          34.46666666666667,
          12.616666666666667,
          12.616666666666667,
          21.15,
          1.6666666666666667,
          55.2,
          22.941388888888888,
          25.758333333333333,
          29.910833333333336,
          15.874722222222223,
          20.6175,
          16.443333333333335,
          19.358055555555556,
          13.749722222222223,
          35.82472222222222,
          30.699722222222224,
          9.175,
          10.458055555555555,
          20.474722222222223,
          17.916666666666668,
          14.3,
          13.816666666666666,
          12.4,
          25.983333333333334,
          18.916666666666668,
          36.63527777777778,
          41.18333333333333,
          16.433333333333334,
          16.966666666666665,
          14.616666666666667,
          8.5,
          10.25,
          14.316666666666666,
          4.5,
          16.966666666666665,
          17.116666666666667,
          38.03333333333333,
          13.293888888888889,
          7.461111111111111,
          34.333333333333336,
          11.416666666666666,
          27.916666666666668,
          7.575555555555556,
          3.8666666666666667,
          7.766666666666667,
          10.934444444444445,
          20.50111111111111,
          21.016666666666666,
          7.75,
          10.183333333333334,
          12.577222222222222,
          11.810555555555556,
          10.166666666666666,
          11.695,
          29.30111111111111,
          26,
          22.55,
          18.933333333333334,
          16.849722222222223,
          16.683333333333334,
          21.05,
          13.833333333333334,
          17.573611111111113,
          19.7,
          33.31666666666667,
          30.333333333333332,
          29.91611111111111,
          13.578055555555554,
          10.816666666666666,
          12.816666666666666,
          17.233333333333334,
          22.551388888888887,
          33.483333333333334,
          19.533333333333335,
          6.333333333333333,
          9.883333333333333,
          16.240555555555556,
          13.805277777777778,
          18.5,
          17.93027777777778,
          13.143888888888888,
          19.2,
          19.2,
          22.466666666666665,
          13.252777777777776,
          13.252777777777776,
          10.783333333333333,
          12.483333333333333,
          7.25,
          5.7,
          21.9,
          39.11666666666667,
          8.033333333333333,
          33.11666666666667,
          50.3625,
          20.238055555555555,
          10.559444444444445,
          38.416666666666664,
          41.916666666666664,
          13.208888888888888,
          23.733333333333334,
          5.916666666666667,
          39.934999999999995,
          18.683333333333334,
          34.666666666666664,
          25.310833333333335,
          31.733333333333334,
          34.25,
          11.966666666666667,
          27.67111111111111,
          10.78111111111111,
          7.6,
          4.933333333333334,
          32.7,
          31.583333333333332,
          13.166666666666666,
          7.6,
          21.033333333333335,
          18.45,
          17.633333333333333,
          10.933333333333334,
          35.507777777777775,
          11.933333333333334,
          17.033333333333335,
          4.3,
          19.783333333333335,
          7.166666666666667,
          23.6,
          20.280277777777776,
          27.00583333333333,
          18.35,
          18.35,
          28.1,
          20.733333333333334,
          13.666666666666666,
          7.966666666666667,
          29.75,
          15.7,
          17.666666666666668,
          18,
          28.901944444444442,
          36.23527777777778,
          14.05,
          19.083333333333332,
          34.483333333333334,
          12.334444444444445,
          10.05,
          12.416666666666666,
          12.416666666666666,
          14.47111111111111,
          11.947777777777778,
          26.397777777777776,
          11.581111111111111,
          15.009444444444446,
          21.016666666666666,
          22.933333333333334,
          35.166666666666664,
          35.166666666666664,
          35.166666666666664,
          17.016666666666666,
          17.65,
          8,
          8.65,
          8,
          8.65,
          8,
          8.65,
          35.06666666666667,
          35.06666666666667,
          35.06666666666667,
          6.833333333333333,
          13.016666666666667,
          21.3,
          22.383333333333333,
          15.416666666666666,
          25.583333333333332,
          15.166666666666666,
          16.2,
          14.870277777777778,
          15.55,
          19.35,
          4.483333333333333,
          9.166666666666666,
          10.45,
          1.8166666666666667,
          33.63333333333333,
          49.5475,
          32.37611111111111,
          46.96666666666667,
          9.366666666666667,
          30.9,
          20.4,
          7.483333333333333,
          32.624722222222225,
          34.49388888888889,
          50.92138888888889,
          12.083333333333334,
          8.083333333333334,
          7.598333333333333,
          32.083333333333336,
          22.8,
          9.166666666666666,
          10.066666666666666,
          12.483333333333333,
          14.816666666666666,
          9.566666666666666,
          24.666666666666668,
          23.133333333333333,
          22.65,
          44.3975,
          23.55,
          16.717499999999998,
          17.05,
          29.35,
          19.9,
          18.761111111111113,
          15.483333333333333,
          28.811944444444446,
          25.766666666666666,
          25.85,
          12.833333333333334,
          13.666666666666666,
          10.383333333333333,
          27.490555555555556,
          26.133333333333333,
          39.57666666666667,
          3.75,
          28.416666666666668,
          26.966666666666665,
          34.666666666666664,
          19.95,
          4.416666666666667,
          36.630833333333335,
          7.666666666666667,
          3.3333333333333335,
          18.383333333333333,
          17.333333333333332,
          14.55,
          15.716666666666667,
          15.716666666666667,
          16.15,
          9.751944444444444,
          18.766666666666666,
          1.4166666666666667,
          14.016666666666667,
          8.583333333333334,
          38.02611111111111,
          20.65,
          20.05,
          8.483333333333333,
          29.833333333333332,
          14.323055555555555,
          25.583333333333332,
          11.833333333333334,
          11.733333333333333,
          12.466666666666667,
          33.28333333333333,
          33.28333333333333,
          11.08888888888889,
          20.683333333333334,
          17.583333333333332,
          37.88666666666666,
          18,
          6.5,
          19.077222222222225,
          11.14472222222222,
          9.256666666666666,
          15.916666666666666,
          26.016666666666666,
          11.111666666666668,
          23.45,
          10.166666666666666,
          23.11722222222222,
          11.783333333333333,
          16.65,
          21.333333333333332,
          10.616666666666667,
          23.016666666666666,
          30.266666666666666,
          23.416666666666668,
          23.416666666666668,
          22.833333333333332,
          8.166666666666666,
          19.466666666666665,
          16.966666666666665,
          11.8,
          6.683333333333334,
          13.25,
          6.3,
          12.666666666666666,
          8.583333333333334,
          7.5,
          1.8166666666666667,
          12.483333333333333,
          18.183333333333334,
          9.25,
          8.75,
          6.85,
          31.783333333333335,
          49.41416666666667,
          40.555277777777775,
          14.280277777777778,
          4.466666666666667,
          11.3,
          11.016666666666667,
          11.066666666666666,
          13.55,
          4.733333333333333,
          2.6666666666666665,
          23.25,
          9.080555555555556,
          6.25,
          1.3166666666666667,
          8.683333333333334,
          33.55,
          12.566666666666666,
          9.216666666666667,
          15.416666666666666,
          10.7,
          12.166666666666666,
          5.816666666666666,
          3.5797222222222222,
          7.991388888888889,
          3.5355555555555553,
          6.291388888888889,
          5.474722222222223,
          40.78333333333333,
          15.55,
          13.583333333333334,
          3.783333333333333,
          34.75,
          41.083333333333336,
          11.583333333333334,
          13.74861111111111,
          10.666666666666666,
          7.416666666666667,
          25.8,
          9.516666666666667,
          13.2,
          14.083333333333334,
          13.716666666666667,
          10.05,
          24.5,
          12.316666666666666,
          18.333333333333332,
          9.666666666666666,
          36.274722222222216,
          13.566666666666666,
          4.75,
          6.016666666666667,
          30.333333333333332,
          9.658888888888889,
          14.083333333333334,
          49.20361111111111,
          37.36666666666667,
          40.483333333333334,
          17.116666666666667,
          29.766666666666666,
          15.9475,
          51.53333333333333,
          7.7,
          8.333333333333334,
          22.903333333333332,
          36.24583333333333,
          10.883333333333333,
          10.370555555555557,
          10.453888888888889,
          7.6241666666666665,
          24.74361111111111,
          16.220000000000002,
          17.833333333333332,
          20.116666666666667,
          16.3,
          18.05,
          5.233333333333333,
          11.666666666666666,
          28.147777777777776,
          9.733333333333333,
          7.2108333333333325,
          5.944166666666666,
          9.105833333333333,
          23.34,
          25.19,
          25.19,
          5.092222222222222,
          39.77388888888889,
          53.60944444444444,
          7.530277777777778,
          62.85,
          10.127777777777776,
          36.805,
          16.371666666666666,
          23.83833333333333,
          28.760277777777777,
          19.115555555555556,
          20.654999999999998,
          17.3125,
          21.551666666666666,
          34.6625,
          19.5625,
          16.688333333333333,
          23.538333333333334,
          16.771666666666665,
          22.538333333333334,
          19.938333333333333,
          17.715,
          19.555,
          24.295833333333334,
          24.579166666666666,
          19.129166666666666,
          47.778888888888886,
          7.505,
          34.038333333333334,
          5.379166666666666,
          19.083333333333332,
          19.083333333333332,
          13.623333333333333,
          8.466666666666667,
          13.083333333333334,
          51.166666666666664,
          35.270833333333336,
          36.434999999999995,
          30.499444444444446,
          19.621111111111112,
          20.166666666666668,
          28.269444444444446,
          4.133333333333334,
          8.963611111111112,
          22.816666666666666,
          12.25,
          12.25,
          24.916666666666668,
          13.283333333333333,
          13.283333333333333,
          10.75,
          12.469166666666666,
          33.233333333333334,
          27.210277777777776,
          20.1,
          9.956388888888888,
          10.259444444444446,
          23.95,
          6.695277777777777,
          23.316666666666666,
          15.616666666666667,
          6.953333333333333,
          23.216666666666665,
          23.216666666666665,
          9.933333333333334,
          9.933333333333334,
          29.5,
          29.5,
          53.599444444444444,
          53.599444444444444,
          16.933333333333334,
          16.933333333333334,
          20.883333333333333,
          20.883333333333333,
          18.483333333333334,
          18.483333333333334,
          8.166666666666666,
          9,
          9,
          33.83638888888889,
          26.183333333333334,
          26.183333333333334,
          11.9,
          11.9,
          18.783333333333335,
          23.1,
          11.283333333333333,
          19.6,
          19.6,
          14.35,
          3.95,
          30.166666666666668,
          38.45,
          38.45,
          16.816666666666666,
          16.816666666666666,
          14.333333333333334,
          19.266666666666666,
          19.266666666666666,
          13.283333333333333,
          10.103333333333333,
          14.15,
          13.65,
          12.783333333333333,
          18.683333333333334,
          11.25,
          17.95861111111111,
          42.28333333333333,
          20.95,
          11.183333333333334,
          14.883333333333333,
          14.416666666666666,
          12.233333333333333,
          22.983333333333334,
          11.083333333333334,
          16.916666666666668,
          21.55,
          19.533333333333335,
          19.533333333333335,
          24.983333333333334,
          34.68333333333333,
          21.733333333333334,
          56,
          23.816666666666666,
          30.666666666666668,
          30.666666666666668,
          24.691111111111113,
          19.083333333333332,
          8.333333333333334,
          28.083333333333332,
          45.583333333333336,
          34.11666666666667,
          10.7,
          39.36666666666667,
          25.116666666666667,
          12.05,
          24.1,
          17.033333333333335,
          15.183333333333334,
          8.916666666666666,
          21.866666666666667,
          12,
          42.8075,
          39.3,
          42.94138888888889,
          32.92,
          50.588055555555556,
          31.045277777777777,
          21.25,
          19.074444444444445,
          16.449722222222224,
          20.97138888888889,
          29.589722222222225,
          6.106388888888889,
          14.889722222222222,
          10.973055555555556,
          12.773055555555555,
          7.483333333333333,
          7.583333333333333,
          20.65,
          8.874166666666667,
          17.733333333333334,
          23.133333333333333,
          20.583333333333332,
          16.009722222222223,
          29,
          10.583333333333334,
          17.05,
          12.266666666666667,
          12.266666666666667,
          23.366666666666667,
          9.833333333333334,
          11.583333333333334,
          21.316666666666666,
          12.5025,
          24.5,
          12.85,
          14,
          41.833333333333336,
          28.26361111111111,
          12.166666666666666,
          29.9,
          22.25,
          16.15,
          17.813888888888886,
          19.916666666666668,
          29.416666666666668,
          26.62388888888889,
          31.333333333333332,
          21.066666666666666,
          20.445,
          22.65138888888889,
          44.11666666666667,
          44.11666666666667,
          44.11666666666667,
          44.11666666666667,
          6.883333333333334,
          6.883333333333334,
          10.533333333333333,
          6.9,
          13.433333333333334,
          13.466666666666667,
          20.931944444444447,
          8.171111111111111,
          8.171111111111111,
          10.937777777777777,
          20.166666666666668,
          6.673055555555555,
          10.333333333333334,
          11.254444444444443,
          10.033333333333333,
          69.1,
          24.066666666666666,
          24.066666666666666,
          24.066666666666666,
          43.81666666666667,
          29.9,
          61.5,
          53.53333333333333,
          22.7,
          19.816666666666666,
          8.3,
          8.3,
          22.583333333333332,
          23.716666666666665,
          19.5,
          15.516666666666667,
          12.8,
          7.25,
          10.533333333333333,
          7.833333333333333,
          10.666666666666666,
          5.25,
          7.7,
          11.566666666666666,
          27.09138888888889,
          26.616666666666667,
          2.1666666666666665,
          20.116666666666667,
          10.425555555555555,
          20.73944444444444,
          8.274722222222222,
          1.3247222222222221,
          28.383055555555554,
          9.706111111111111,
          10.08,
          21.939444444444444,
          11.65611111111111,
          9.972777777777777,
          18.839444444444442,
          27.889444444444443,
          9.133333333333333,
          9.85,
          12.666666666666666,
          11.533333333333333,
          31.833333333333332,
          8.25,
          27,
          33.333333333333336,
          10.983333333333333,
          11.733333333333333,
          15.416666666666666,
          10.443888888888889,
          27.566666666666666,
          43.66972222222223,
          51.9375,
          36.24527777777778,
          17.233333333333334,
          13.9,
          53.0975,
          11.904722222222222,
          9.333333333333334,
          15.5,
          9.933333333333334,
          11.016666666666667,
          10.716666666666667,
          9.25,
          17.95277777777778,
          43.45,
          43.65,
          19.25,
          9.466666666666667,
          7.4,
          22.716666666666665,
          3.75,
          19.366666666666667,
          8.916666666666666,
          34.93805555555556,
          23.083333333333332,
          32.75,
          36.68333333333333,
          28.45,
          39.61666666666667,
          10.504722222222222,
          7.738055555555556,
          30.371388888888887,
          31.833333333333332,
          24.533333333333335,
          24.533333333333335,
          12.483333333333333,
          18.55,
          35.05,
          15.219722222222222,
          12.83888888888889,
          10.622222222222224,
          23.905555555555555,
          23.216666666666665,
          38.583333333333336,
          9.361666666666668,
          22.788888888888888,
          17.883333333333333,
          29.55,
          24.810555555555556,
          14.872222222222224,
          39.21666666666667,
          24.695,
          5.25,
          24.583333333333332,
          17.516666666666666,
          15.979444444444445,
          10.266666666666667,
          12.783333333333333,
          20.75,
          40.56333333333334,
          33.88,
          19.266666666666666,
          21.033333333333335,
          22.4,
          10.62888888888889,
          11.5,
          31.5,
          26.266666666666666,
          24.75,
          24.15611111111111,
          38.28333333333333,
          26.433333333333334,
          34.05,
          8.842222222222222,
          55.516666666666666,
          10.197222222222223,
          36.05,
          24.083333333333332,
          5.692222222222223,
          21.083333333333332,
          5.5875,
          11.716666666666667,
          21.783333333333335,
          12.25,
          17.883333333333333,
          3.0833333333333335,
          6.05,
          7.47,
          50.3,
          12.433333333333334,
          25.55,
          28.833333333333332,
          7.402777777777778,
          8.14111111111111,
          45.5,
          13.407222222222222,
          37.45,
          23.09361111111111,
          33.56666666666667,
          30.483333333333334,
          29.683333333333334,
          27.584166666666665,
          24.583333333333332,
          45.5,
          22.833333333333332,
          28.166666666666668,
          22.533333333333335,
          11.911944444444446,
          16,
          24.983333333333334,
          6.3533333333333335,
          23.25,
          22.466666666666665,
          14.383333333333333,
          19.384166666666665,
          11.083333333333334,
          20.88472222222222,
          21.883333333333333,
          22.133333333333333,
          12.6,
          21.516666666666666,
          8.0525,
          30.645,
          10.116666666666667,
          26.9,
          24.625,
          18.7,
          24.626944444444444,
          24.336944444444445,
          23.4,
          13.177222222222222,
          23.189444444444444,
          13.733333333333333,
          20.45,
          21.25,
          21.75,
          35.129444444444445,
          24.616666666666667,
          40.583333333333336,
          35.75,
          22.566666666666666,
          24.4,
          20.05,
          38.96055555555555,
          19.477222222222224,
          21.923333333333336,
          21.05,
          25.616666666666667,
          21.533333333333335,
          31.44527777777778,
          19.361666666666668,
          22.966666666666665,
          20.6,
          24.333333333333332,
          18.1,
          28.716666666666665,
          33.016666666666666,
          64.98333333333333,
          5.298333333333333,
          33.1,
          9.183333333333334,
          3.8658333333333332,
          27.166666666666668,
          14.683333333333334,
          14.683333333333334,
          47.56666666666667,
          12.5,
          23.02638888888889,
          22.25,
          22.25,
          24.583333333333332,
          33.81666666666667,
          9.7,
          30.583333333333332,
          23.083333333333332,
          24.866666666666667,
          25.85,
          31.95,
          10.633333333333333,
          20.783333333333335,
          15.25,
          11.533333333333333,
          33.55,
          13.716666666666667,
          49.11361111111111,
          38.596944444444446,
          22.685,
          19.746944444444445,
          13.496944444444445,
          18.41361111111111,
          18.41361111111111,
          37.08027777777777,
          43.846944444444446,
          23.230277777777776,
          36.19694444444444,
          32.246944444444445,
          39.846944444444446,
          29.303333333333335,
          29.71361111111111,
          21.796944444444442,
          21.346944444444443,
          39.46361111111111,
          22.980277777777776,
          21.880277777777778,
          23.441944444444445,
          21.630277777777778,
          38.333333333333336,
          2.783333333333333,
          35.233333333333334,
          2.35,
          9.75,
          16.216666666666665,
          35.43333333333333,
          4.8,
          36.87916666666667,
          44.92916666666667,
          76.5,
          32.06666666666667,
          16.25,
          10,
          29.616666666666667,
          7.783333333333333,
          32.53138888888889,
          15.564722222222223,
          15.231388888888889,
          20.21638888888889,
          27.433333333333334,
          14.381388888888889,
          19.48138888888889,
          13.131388888888889,
          36.36472222222222,
          31.795277777777777,
          18.6225,
          19.316666666666666,
          31.383333333333333,
          25.933333333333334,
          19.46055555555556,
          10.9,
          26.8,
          21.145833333333332,
          22.202222222222225,
          13.363055555555555,
          12.766666666666667,
          50.18333333333333,
          23.466666666666665,
          23.466666666666665,
          23.466666666666665,
          45.016666666666666,
          28.2,
          20.066666666666666,
          15.816666666666666,
          15.816666666666666,
          7.9,
          23.45,
          3.85,
          34.32722222222222,
          39.035,
          17.483333333333334,
          12,
          14.55,
          14.55,
          16.975277777777777,
          23.883333333333333,
          7.566666666666666,
          12.983333333333333,
          19.45,
          19.45,
          38.983333333333334,
          21.8,
          8.5,
          8.739444444444445,
          18.57222222222222,
          12.216666666666667,
          8.283333333333333,
          4.5,
          34.71666666666667,
          30.349444444444444,
          22.766666666666666,
          11.8675,
          13.233333333333333,
          12.183333333333334,
          13.916666666666666,
          11.716666666666667,
          10.95,
          32.75,
          5.313888888888888,
          16.533333333333335,
          13.407777777777778,
          24.633333333333333,
          4.483333333333333,
          18.216666666666665,
          7.1,
          29.6,
          58.18805555555556,
          8.75,
          22.60666666666667,
          17.383333333333333,
          1.8833333333333333,
          43.9,
          29.948333333333334,
          15.166666666666666,
          18.55,
          35.416666666666664,
          23.666666666666668,
          23.666666666666668,
          13.133333333333333,
          22.769722222222224,
          21.387777777777778,
          5.391944444444444,
          1.3252777777777778,
          15.316666666666666,
          38.3475,
          28.102777777777778,
          28.102777777777778,
          20.482777777777777,
          16.983333333333334,
          13.183333333333334,
          18.016666666666666,
          24.566666666666666,
          8.083333333333334,
          18.933333333333334,
          19.1,
          4.810277777777778,
          3.991388888888889,
          19.933333333333334,
          17.666666666666668,
          20.5,
          12.333333333333334,
          11.166666666666666,
          14.716666666666667,
          7.47861111111111,
          21.595000000000002,
          6.4,
          17.15,
          37.75,
          21.966666666666665,
          18.15,
          32.75138888888889,
          19.168055555555554,
          22.42388888888889,
          29.98472222222222,
          16.983333333333334,
          12.366666666666667,
          8.133333333333333,
          8,
          5.083333333333333,
          5.083333333333333,
          11.95,
          13.081666666666667,
          23.683333333333334,
          22.383333333333333,
          16.683333333333334,
          6.916666666666667,
          10.183333333333334,
          9.166666666666666,
          16.766666666666666,
          20.333333333333332,
          3.1666666666666665,
          11.866666666666667,
          37.4,
          20.6,
          8.1,
          27.95,
          31.941388888888888,
          43.416666666666664,
          5.566666666666666
         ],
         "yaxis": "y"
        }
       ],
       "layout": {
        "legend": {
         "tracegroupgap": 0
        },
        "margin": {
         "t": 60
        },
        "shapes": [
         {
          "line": {
           "color": "red",
           "dash": "dash"
          },
          "type": "line",
          "x0": 0,
          "x1": 100.05,
          "y0": 0,
          "y1": 100.05
         }
        ],
        "template": {
         "data": {
          "bar": [
           {
            "error_x": {
             "color": "#2a3f5f"
            },
            "error_y": {
             "color": "#2a3f5f"
            },
            "marker": {
             "line": {
              "color": "#E5ECF6",
              "width": 0.5
             },
             "pattern": {
              "fillmode": "overlay",
              "size": 10,
              "solidity": 0.2
             }
            },
            "type": "bar"
           }
          ],
          "barpolar": [
           {
            "marker": {
             "line": {
              "color": "#E5ECF6",
              "width": 0.5
             },
             "pattern": {
              "fillmode": "overlay",
              "size": 10,
              "solidity": 0.2
             }
            },
            "type": "barpolar"
           }
          ],
          "carpet": [
           {
            "aaxis": {
             "endlinecolor": "#2a3f5f",
             "gridcolor": "white",
             "linecolor": "white",
             "minorgridcolor": "white",
             "startlinecolor": "#2a3f5f"
            },
            "baxis": {
             "endlinecolor": "#2a3f5f",
             "gridcolor": "white",
             "linecolor": "white",
             "minorgridcolor": "white",
             "startlinecolor": "#2a3f5f"
            },
            "type": "carpet"
           }
          ],
          "choropleth": [
           {
            "colorbar": {
             "outlinewidth": 0,
             "ticks": ""
            },
            "type": "choropleth"
           }
          ],
          "contour": [
           {
            "colorbar": {
             "outlinewidth": 0,
             "ticks": ""
            },
            "colorscale": [
             [
              0,
              "#0d0887"
             ],
             [
              0.1111111111111111,
              "#46039f"
             ],
             [
              0.2222222222222222,
              "#7201a8"
             ],
             [
              0.3333333333333333,
              "#9c179e"
             ],
             [
              0.4444444444444444,
              "#bd3786"
             ],
             [
              0.5555555555555556,
              "#d8576b"
             ],
             [
              0.6666666666666666,
              "#ed7953"
             ],
             [
              0.7777777777777778,
              "#fb9f3a"
             ],
             [
              0.8888888888888888,
              "#fdca26"
             ],
             [
              1,
              "#f0f921"
             ]
            ],
            "type": "contour"
           }
          ],
          "contourcarpet": [
           {
            "colorbar": {
             "outlinewidth": 0,
             "ticks": ""
            },
            "type": "contourcarpet"
           }
          ],
          "heatmap": [
           {
            "colorbar": {
             "outlinewidth": 0,
             "ticks": ""
            },
            "colorscale": [
             [
              0,
              "#0d0887"
             ],
             [
              0.1111111111111111,
              "#46039f"
             ],
             [
              0.2222222222222222,
              "#7201a8"
             ],
             [
              0.3333333333333333,
              "#9c179e"
             ],
             [
              0.4444444444444444,
              "#bd3786"
             ],
             [
              0.5555555555555556,
              "#d8576b"
             ],
             [
              0.6666666666666666,
              "#ed7953"
             ],
             [
              0.7777777777777778,
              "#fb9f3a"
             ],
             [
              0.8888888888888888,
              "#fdca26"
             ],
             [
              1,
              "#f0f921"
             ]
            ],
            "type": "heatmap"
           }
          ],
          "heatmapgl": [
           {
            "colorbar": {
             "outlinewidth": 0,
             "ticks": ""
            },
            "colorscale": [
             [
              0,
              "#0d0887"
             ],
             [
              0.1111111111111111,
              "#46039f"
             ],
             [
              0.2222222222222222,
              "#7201a8"
             ],
             [
              0.3333333333333333,
              "#9c179e"
             ],
             [
              0.4444444444444444,
              "#bd3786"
             ],
             [
              0.5555555555555556,
              "#d8576b"
             ],
             [
              0.6666666666666666,
              "#ed7953"
             ],
             [
              0.7777777777777778,
              "#fb9f3a"
             ],
             [
              0.8888888888888888,
              "#fdca26"
             ],
             [
              1,
              "#f0f921"
             ]
            ],
            "type": "heatmapgl"
           }
          ],
          "histogram": [
           {
            "marker": {
             "pattern": {
              "fillmode": "overlay",
              "size": 10,
              "solidity": 0.2
             }
            },
            "type": "histogram"
           }
          ],
          "histogram2d": [
           {
            "colorbar": {
             "outlinewidth": 0,
             "ticks": ""
            },
            "colorscale": [
             [
              0,
              "#0d0887"
             ],
             [
              0.1111111111111111,
              "#46039f"
             ],
             [
              0.2222222222222222,
              "#7201a8"
             ],
             [
              0.3333333333333333,
              "#9c179e"
             ],
             [
              0.4444444444444444,
              "#bd3786"
             ],
             [
              0.5555555555555556,
              "#d8576b"
             ],
             [
              0.6666666666666666,
              "#ed7953"
             ],
             [
              0.7777777777777778,
              "#fb9f3a"
             ],
             [
              0.8888888888888888,
              "#fdca26"
             ],
             [
              1,
              "#f0f921"
             ]
            ],
            "type": "histogram2d"
           }
          ],
          "histogram2dcontour": [
           {
            "colorbar": {
             "outlinewidth": 0,
             "ticks": ""
            },
            "colorscale": [
             [
              0,
              "#0d0887"
             ],
             [
              0.1111111111111111,
              "#46039f"
             ],
             [
              0.2222222222222222,
              "#7201a8"
             ],
             [
              0.3333333333333333,
              "#9c179e"
             ],
             [
              0.4444444444444444,
              "#bd3786"
             ],
             [
              0.5555555555555556,
              "#d8576b"
             ],
             [
              0.6666666666666666,
              "#ed7953"
             ],
             [
              0.7777777777777778,
              "#fb9f3a"
             ],
             [
              0.8888888888888888,
              "#fdca26"
             ],
             [
              1,
              "#f0f921"
             ]
            ],
            "type": "histogram2dcontour"
           }
          ],
          "mesh3d": [
           {
            "colorbar": {
             "outlinewidth": 0,
             "ticks": ""
            },
            "type": "mesh3d"
           }
          ],
          "parcoords": [
           {
            "line": {
             "colorbar": {
              "outlinewidth": 0,
              "ticks": ""
             }
            },
            "type": "parcoords"
           }
          ],
          "pie": [
           {
            "automargin": true,
            "type": "pie"
           }
          ],
          "scatter": [
           {
            "fillpattern": {
             "fillmode": "overlay",
             "size": 10,
             "solidity": 0.2
            },
            "type": "scatter"
           }
          ],
          "scatter3d": [
           {
            "line": {
             "colorbar": {
              "outlinewidth": 0,
              "ticks": ""
             }
            },
            "marker": {
             "colorbar": {
              "outlinewidth": 0,
              "ticks": ""
             }
            },
            "type": "scatter3d"
           }
          ],
          "scattercarpet": [
           {
            "marker": {
             "colorbar": {
              "outlinewidth": 0,
              "ticks": ""
             }
            },
            "type": "scattercarpet"
           }
          ],
          "scattergeo": [
           {
            "marker": {
             "colorbar": {
              "outlinewidth": 0,
              "ticks": ""
             }
            },
            "type": "scattergeo"
           }
          ],
          "scattergl": [
           {
            "marker": {
             "colorbar": {
              "outlinewidth": 0,
              "ticks": ""
             }
            },
            "type": "scattergl"
           }
          ],
          "scattermapbox": [
           {
            "marker": {
             "colorbar": {
              "outlinewidth": 0,
              "ticks": ""
             }
            },
            "type": "scattermapbox"
           }
          ],
          "scatterpolar": [
           {
            "marker": {
             "colorbar": {
              "outlinewidth": 0,
              "ticks": ""
             }
            },
            "type": "scatterpolar"
           }
          ],
          "scatterpolargl": [
           {
            "marker": {
             "colorbar": {
              "outlinewidth": 0,
              "ticks": ""
             }
            },
            "type": "scatterpolargl"
           }
          ],
          "scatterternary": [
           {
            "marker": {
             "colorbar": {
              "outlinewidth": 0,
              "ticks": ""
             }
            },
            "type": "scatterternary"
           }
          ],
          "surface": [
           {
            "colorbar": {
             "outlinewidth": 0,
             "ticks": ""
            },
            "colorscale": [
             [
              0,
              "#0d0887"
             ],
             [
              0.1111111111111111,
              "#46039f"
             ],
             [
              0.2222222222222222,
              "#7201a8"
             ],
             [
              0.3333333333333333,
              "#9c179e"
             ],
             [
              0.4444444444444444,
              "#bd3786"
             ],
             [
              0.5555555555555556,
              "#d8576b"
             ],
             [
              0.6666666666666666,
              "#ed7953"
             ],
             [
              0.7777777777777778,
              "#fb9f3a"
             ],
             [
              0.8888888888888888,
              "#fdca26"
             ],
             [
              1,
              "#f0f921"
             ]
            ],
            "type": "surface"
           }
          ],
          "table": [
           {
            "cells": {
             "fill": {
              "color": "#EBF0F8"
             },
             "line": {
              "color": "white"
             }
            },
            "header": {
             "fill": {
              "color": "#C8D4E3"
             },
             "line": {
              "color": "white"
             }
            },
            "type": "table"
           }
          ]
         },
         "layout": {
          "annotationdefaults": {
           "arrowcolor": "#2a3f5f",
           "arrowhead": 0,
           "arrowwidth": 1
          },
          "autotypenumbers": "strict",
          "coloraxis": {
           "colorbar": {
            "outlinewidth": 0,
            "ticks": ""
           }
          },
          "colorscale": {
           "diverging": [
            [
             0,
             "#8e0152"
            ],
            [
             0.1,
             "#c51b7d"
            ],
            [
             0.2,
             "#de77ae"
            ],
            [
             0.3,
             "#f1b6da"
            ],
            [
             0.4,
             "#fde0ef"
            ],
            [
             0.5,
             "#f7f7f7"
            ],
            [
             0.6,
             "#e6f5d0"
            ],
            [
             0.7,
             "#b8e186"
            ],
            [
             0.8,
             "#7fbc41"
            ],
            [
             0.9,
             "#4d9221"
            ],
            [
             1,
             "#276419"
            ]
           ],
           "sequential": [
            [
             0,
             "#0d0887"
            ],
            [
             0.1111111111111111,
             "#46039f"
            ],
            [
             0.2222222222222222,
             "#7201a8"
            ],
            [
             0.3333333333333333,
             "#9c179e"
            ],
            [
             0.4444444444444444,
             "#bd3786"
            ],
            [
             0.5555555555555556,
             "#d8576b"
            ],
            [
             0.6666666666666666,
             "#ed7953"
            ],
            [
             0.7777777777777778,
             "#fb9f3a"
            ],
            [
             0.8888888888888888,
             "#fdca26"
            ],
            [
             1,
             "#f0f921"
            ]
           ],
           "sequentialminus": [
            [
             0,
             "#0d0887"
            ],
            [
             0.1111111111111111,
             "#46039f"
            ],
            [
             0.2222222222222222,
             "#7201a8"
            ],
            [
             0.3333333333333333,
             "#9c179e"
            ],
            [
             0.4444444444444444,
             "#bd3786"
            ],
            [
             0.5555555555555556,
             "#d8576b"
            ],
            [
             0.6666666666666666,
             "#ed7953"
            ],
            [
             0.7777777777777778,
             "#fb9f3a"
            ],
            [
             0.8888888888888888,
             "#fdca26"
            ],
            [
             1,
             "#f0f921"
            ]
           ]
          },
          "colorway": [
           "#636efa",
           "#EF553B",
           "#00cc96",
           "#ab63fa",
           "#FFA15A",
           "#19d3f3",
           "#FF6692",
           "#B6E880",
           "#FF97FF",
           "#FECB52"
          ],
          "font": {
           "color": "#2a3f5f"
          },
          "geo": {
           "bgcolor": "white",
           "lakecolor": "white",
           "landcolor": "#E5ECF6",
           "showlakes": true,
           "showland": true,
           "subunitcolor": "white"
          },
          "hoverlabel": {
           "align": "left"
          },
          "hovermode": "closest",
          "mapbox": {
           "style": "light"
          },
          "paper_bgcolor": "white",
          "plot_bgcolor": "#E5ECF6",
          "polar": {
           "angularaxis": {
            "gridcolor": "white",
            "linecolor": "white",
            "ticks": ""
           },
           "bgcolor": "#E5ECF6",
           "radialaxis": {
            "gridcolor": "white",
            "linecolor": "white",
            "ticks": ""
           }
          },
          "scene": {
           "xaxis": {
            "backgroundcolor": "#E5ECF6",
            "gridcolor": "white",
            "gridwidth": 2,
            "linecolor": "white",
            "showbackground": true,
            "ticks": "",
            "zerolinecolor": "white"
           },
           "yaxis": {
            "backgroundcolor": "#E5ECF6",
            "gridcolor": "white",
            "gridwidth": 2,
            "linecolor": "white",
            "showbackground": true,
            "ticks": "",
            "zerolinecolor": "white"
           },
           "zaxis": {
            "backgroundcolor": "#E5ECF6",
            "gridcolor": "white",
            "gridwidth": 2,
            "linecolor": "white",
            "showbackground": true,
            "ticks": "",
            "zerolinecolor": "white"
           }
          },
          "shapedefaults": {
           "line": {
            "color": "#2a3f5f"
           }
          },
          "ternary": {
           "aaxis": {
            "gridcolor": "white",
            "linecolor": "white",
            "ticks": ""
           },
           "baxis": {
            "gridcolor": "white",
            "linecolor": "white",
            "ticks": ""
           },
           "bgcolor": "#E5ECF6",
           "caxis": {
            "gridcolor": "white",
            "linecolor": "white",
            "ticks": ""
           }
          },
          "title": {
           "x": 0.05
          },
          "xaxis": {
           "automargin": true,
           "gridcolor": "white",
           "linecolor": "white",
           "ticks": "",
           "title": {
            "standoff": 15
           },
           "zerolinecolor": "white",
           "zerolinewidth": 2
          },
          "yaxis": {
           "automargin": true,
           "gridcolor": "white",
           "linecolor": "white",
           "ticks": "",
           "title": {
            "standoff": 15
           },
           "zerolinecolor": "white",
           "zerolinewidth": 2
          }
         }
        },
        "title": {
         "text": "Comparison of Flight Time vs Train Time in Hours"
        },
        "xaxis": {
         "anchor": "y",
         "domain": [
          0,
          1
         ],
         "title": {
          "text": "Flight Time (hours, including 60min extra)"
         }
        },
        "yaxis": {
         "anchor": "x",
         "domain": [
          0,
          1
         ],
         "title": {
          "text": "Train Time (hours)"
         }
        }
       }
      }
     },
     "metadata": {},
     "output_type": "display_data"
    }
   ],
   "source": [
    "scatter_fig = px.scatter(merged_data, x='flight_time_hours_with_extra', y='train_time_hours', hover_data=['city1', 'city2'])\n",
    "scatter_fig.update_layout(title='Comparison of Flight Time vs Train Time in Hours',\n",
    "                          xaxis_title='Flight Time (hours, including 60min extra)',\n",
    "                          yaxis_title='Train Time (hours)')\n",
    "\n",
    "# Define the maximum time value for plotting lines\n",
    "max_time_hours = max(merged_data['flight_time_hours_with_extra'].max(), merged_data['train_time_hours'].max())\n",
    "\n",
    "# Add line where flight time equals train time (y = x)\n",
    "scatter_fig.add_shape(type='line',\n",
    "                      line=dict(dash='dash', color='red'),\n",
    "                      x0=0, y0=0, \n",
    "                      x1=max_time_hours, y1=max_time_hours)\n",
    "\n",
    "\n",
    "# Show the plot\n",
    "scatter_fig.show()"
   ]
  },
  {
   "cell_type": "code",
   "execution_count": 41,
   "metadata": {},
   "outputs": [
    {
     "data": {
      "application/vnd.plotly.v1+json": {
       "config": {
        "plotlyServerURL": "https://plot.ly"
       },
       "data": [
        {
         "name": "Flight Time",
         "type": "box",
         "y": [
          2.4166666666666665,
          2.4166666666666665,
          2.5833333333333335,
          4.583333333333333,
          4.7638888888888875,
          3.75,
          4.75,
          6.416666666666667,
          4.416666666666667,
          5,
          4.395833333333333,
          5.083333333333333,
          1.8333333333333333,
          2.625,
          2.8333333333333335,
          4.833333333333333,
          4.416666666666667,
          3.75,
          2.3333333333333335,
          2.2916666666666665,
          2.0833333333333335,
          2.1666666666666665,
          1.8333333333333333,
          1.8333333333333333,
          2.6666666666666665,
          2.1666666666666665,
          3.1666666666666665,
          3.6666666666666665,
          3.4166666666666665,
          3.5,
          4.625,
          3.9166666666666665,
          3.5833333333333335,
          2.1666666666666665,
          3.5833333333333335,
          4.416666666666667,
          2.5833333333333335,
          4.125,
          3.875,
          3.1666666666666665,
          4.666666666666667,
          3.375,
          2.7916666666666665,
          2.3333333333333335,
          2.25,
          4.333333333333333,
          2.4166666666666665,
          2.3333333333333335,
          2.3333333333333335,
          3.1666666666666665,
          2.8333333333333335,
          2.625,
          2.1666666666666665,
          3.6666666666666665,
          2.3333333333333335,
          2.1666666666666665,
          2.6666666666666665,
          1.9166666666666667,
          4.083333333333333,
          2.3333333333333335,
          4.083333333333333,
          2.25,
          3.6666666666666665,
          1.4166666666666667,
          1.5,
          2.5,
          5.416666666666667,
          3.75,
          2.0833333333333335,
          2.2916666666666665,
          3.25,
          2.6666666666666665,
          3.7083333333333335,
          2.0277777777777777,
          3.9166666666666665,
          3.25,
          4,
          4.5,
          3.75,
          2.25,
          4.833333333333333,
          5.083333333333333,
          2.5833333333333335,
          1.888888888888889,
          3.75,
          2.5416666666666665,
          2.6666666666666665,
          3,
          2.9166666666666665,
          2.5833333333333335,
          4.166666666666667,
          3.0833333333333335,
          3,
          2.6666666666666665,
          2.4166666666666665,
          3.75,
          2.0833333333333335,
          3.5416666666666665,
          3.5833333333333335,
          1.9166666666666667,
          3.875,
          5,
          3.8333333333333335,
          4.166666666666667,
          1.8958333333333333,
          2.5,
          2.6666666666666665,
          2.6666666666666665,
          3.9583333333333335,
          2.0833333333333335,
          2.25,
          3.25,
          1.3333333333333333,
          5,
          3.5833333333333335,
          3.1666666666666665,
          3.75,
          2.6666666666666665,
          3,
          2.5,
          2.5,
          2.5416666666666665,
          3.4166666666666665,
          3.2916666666666665,
          2.25,
          2.7083333333333335,
          3.0416666666666665,
          2.5416666666666665,
          2.4166666666666665,
          2.3333333333333335,
          2.0833333333333335,
          3.9166666666666665,
          3.1666666666666665,
          4.5,
          4.583333333333333,
          3.25,
          3.5,
          3.25,
          2.2083333333333335,
          2.7083333333333335,
          2.8055555555555554,
          2.125,
          3.25,
          2.5,
          4,
          1.6666666666666667,
          1.75,
          3.4166666666666665,
          2.3333333333333335,
          3.625,
          1.4166666666666667,
          1.5833333333333333,
          2.25,
          2.5,
          2.527777777777778,
          3.4166666666666665,
          2.1666666666666665,
          2.4166666666666665,
          2,
          2.625,
          2.3333333333333335,
          2.375,
          3.1666666666666665,
          3.75,
          3.6666666666666665,
          3.0833333333333335,
          3.0833333333333335,
          3.25,
          4.166666666666667,
          3.1666666666666665,
          2.75,
          3.5,
          4.5625,
          3.4166666666666665,
          3,
          2.575,
          2.5,
          2.6666666666666665,
          3.0416666666666665,
          3.1666666666666665,
          3.375,
          3.8333333333333335,
          2.2083333333333335,
          2.2916666666666665,
          2.75,
          2.6666666666666665,
          3.25,
          3.25,
          2.6666666666666665,
          3.75,
          3.5,
          3.75,
          2.75,
          2.6666666666666665,
          2.4166666666666665,
          2.75,
          2.4166666666666665,
          2.1666666666666665,
          3.3333333333333335,
          4.333333333333333,
          2.6666666666666665,
          4.166666666666667,
          5,
          3.5416666666666665,
          1.9166666666666667,
          4,
          3.5833333333333335,
          2,
          4,
          2.0833333333333335,
          4,
          3,
          3.0833333333333335,
          3.027777777777778,
          3.1666666666666665,
          3.9166666666666665,
          1.9166666666666667,
          1.6666666666666667,
          2.9166666666666665,
          1.8055555555555558,
          1.6666666666666667,
          4.666666666666667,
          4.333333333333333,
          2.4583333333333335,
          2.2083333333333335,
          2.9166666666666665,
          3.1666666666666665,
          3,
          2.4166666666666665,
          4.916666666666667,
          2.5,
          2.0833333333333335,
          1.875,
          3.0625,
          2,
          2.6666666666666665,
          2.75,
          2.5,
          3.0833333333333335,
          2.9166666666666665,
          4.25,
          3,
          2.6666666666666665,
          2.25,
          2.4166666666666665,
          2.6111111111111116,
          2.7083333333333335,
          2.75,
          2.8333333333333335,
          3.5,
          3.25,
          3.1666666666666665,
          3.9166666666666665,
          2.75,
          2.6666666666666665,
          2.5833333333333335,
          2.4166666666666665,
          2.875,
          2.75,
          3.6666666666666665,
          2.5833333333333335,
          2.7916666666666665,
          3.7916666666666665,
          4.625,
          4.083333333333333,
          3.9166666666666665,
          4.25,
          2.6666666666666665,
          2.75,
          2.6041666666666665,
          2.6041666666666665,
          2.5416666666666665,
          2.5416666666666665,
          2.5,
          2.5,
          3.75,
          3.6333333333333333,
          3.5833333333333335,
          2.4166666666666665,
          2.3333333333333335,
          2.8333333333333335,
          3.0833333333333335,
          2.75,
          3.1666666666666665,
          3.0833333333333335,
          2.5833333333333335,
          2.5833333333333335,
          2.7916666666666665,
          3.0833333333333335,
          1.9166666666666667,
          2.25,
          2.25,
          1.8333333333333333,
          3.3333333333333335,
          4.5,
          3.6666666666666665,
          4.166666666666667,
          2.4166666666666665,
          4.083333333333333,
          3.6666666666666665,
          2.1666666666666665,
          3.7083333333333335,
          3.4166666666666665,
          4.5,
          2.5833333333333335,
          2.1666666666666665,
          2.0833333333333335,
          4.333333333333333,
          3.6666666666666665,
          2.0833333333333335,
          2.25,
          2.75,
          3.2916666666666665,
          2.4166666666666665,
          3.9166666666666665,
          3.9583333333333335,
          3.5833333333333335,
          3.9166666666666665,
          3.4166666666666665,
          2.625,
          3,
          3.3333333333333335,
          3.1666666666666665,
          2.9166666666666665,
          2.4166666666666665,
          3.2916666666666665,
          4,
          3.75,
          2.0833333333333335,
          2.875,
          2.75,
          3.75,
          4.166666666666667,
          4.145833333333333,
          1.7916666666666667,
          3.875,
          4.125,
          3.625,
          3.5833333333333335,
          2.0833333333333335,
          3.0833333333333335,
          2.25,
          2,
          3.0833333333333335,
          2.75,
          2.0833333333333335,
          3.125,
          2.9166666666666665,
          3,
          2.3333333333333335,
          3.1666666666666665,
          1.9166666666666667,
          2.5,
          2.0833333333333335,
          3.6666666666666665,
          3.5,
          3.6666666666666665,
          2.1666666666666665,
          4.083333333333333,
          2.5833333333333335,
          3.5416666666666665,
          2.5,
          2.1666666666666665,
          2.0416666666666665,
          3.3333333333333335,
          3,
          2.125,
          3.3333333333333335,
          2.8333333333333335,
          3.375,
          2.0833333333333335,
          2.1666666666666665,
          2.3333333333333335,
          2.25,
          2.0833333333333335,
          2.7083333333333335,
          3.0833333333333335,
          2,
          3.4166666666666665,
          2.5833333333333335,
          3.375,
          2.8333333333333335,
          3.1666666666666665,
          3.4166666666666665,
          2.25,
          2.9166666666666665,
          3.25,
          4.083333333333333,
          3.9166666666666665,
          3.75,
          2.25,
          3.2083333333333335,
          3.1666666666666665,
          2.5,
          2,
          2.625,
          2,
          2.6666666666666665,
          2.25,
          2.0833333333333335,
          1.8333333333333333,
          2.5416666666666665,
          2.75,
          2.4166666666666665,
          2.0833333333333335,
          2.125,
          3.6666666666666665,
          4.666666666666667,
          4.166666666666667,
          2.625,
          2,
          2.5,
          2.75,
          2.2916666666666665,
          2.75,
          2.0833333333333335,
          1.75,
          3.3333333333333335,
          2.5,
          2.1666666666666665,
          1.8333333333333333,
          2.0833333333333335,
          3.5833333333333335,
          2.3333333333333335,
          2.4444444444444446,
          3,
          2.4166666666666665,
          2.5833333333333335,
          2,
          1.5833333333333333,
          2.4166666666666665,
          1.3333333333333333,
          2.1944444444444446,
          1.75,
          5.083333333333333,
          2.5833333333333335,
          3.0833333333333335,
          2.3333333333333335,
          2.7083333333333335,
          4.916666666666667,
          2.25,
          3.25,
          2.4583333333333335,
          2.1666666666666665,
          3.6666666666666665,
          2.5,
          2.8333333333333335,
          2.6666666666666665,
          2.75,
          2.3333333333333335,
          3.25,
          2.625,
          3.0833333333333335,
          2.25,
          3.2916666666666665,
          2.6666666666666665,
          1.9166666666666667,
          2.1666666666666665,
          4.333333333333333,
          1.5,
          2.0833333333333335,
          5.083333333333333,
          3.625,
          3.8333333333333335,
          3.0416666666666665,
          2.9583333333333335,
          2.5,
          5.416666666666667,
          2.0416666666666665,
          2.2916666666666665,
          3.25,
          3.3333333333333335,
          2.1666666666666665,
          1.9166666666666667,
          2.25,
          1.8333333333333333,
          3.1666666666666665,
          2.875,
          3.125,
          3.5833333333333335,
          3.0555555555555554,
          3.3333333333333335,
          1.9583333333333333,
          2.625,
          2.2083333333333335,
          2.75,
          2,
          1.8333333333333333,
          2.7083333333333335,
          2.75,
          2.9166666666666665,
          3.805555555555556,
          1.5,
          4.25,
          5.5,
          2.2083333333333335,
          5.958333333333333,
          1.25,
          4.708333333333333,
          3,
          3,
          3.7916666666666665,
          2.7916666666666665,
          3.5416666666666665,
          2.75,
          3.25,
          3.4583333333333335,
          3,
          3,
          3.75,
          3,
          2.7916666666666665,
          3.5833333333333335,
          3.125,
          3.4583333333333335,
          2.8333333333333335,
          3.2916666666666665,
          2.9166666666666665,
          2.6666666666666665,
          2.0416666666666665,
          4.083333333333333,
          1.9166666666666667,
          3.3333333333333335,
          3.2083333333333335,
          1.8333333333333333,
          2.25,
          2.4444444444444446,
          4.666666666666667,
          4.25,
          3.5833333333333335,
          3.555555555555556,
          3.4583333333333335,
          3.3958333333333335,
          3.4166666666666665,
          2,
          2.1666666666666665,
          3,
          2.7916666666666665,
          2.7083333333333335,
          3.25,
          2.75,
          2.75,
          2.3333333333333335,
          3,
          4.041666666666667,
          3.5416666666666665,
          3.1666666666666665,
          2.277777777777778,
          1.9166666666666667,
          2.8333333333333335,
          2.25,
          3.8333333333333335,
          3.25,
          1.9166666666666667,
          4.083333333333333,
          3.9166666666666665,
          2.4166666666666665,
          2.1666666666666665,
          3.6666666666666665,
          3.4583333333333335,
          5.083333333333333,
          4.583333333333333,
          3.4166666666666665,
          3.2916666666666665,
          2.8333333333333335,
          2.5833333333333335,
          3.4166666666666665,
          3.0833333333333335,
          2.1944444444444446,
          2.4166666666666665,
          2.3333333333333335,
          4.083333333333333,
          3.125,
          2.875,
          2.7083333333333335,
          2.7916666666666665,
          3,
          3.8333333333333335,
          2.875,
          3.4583333333333335,
          3.5833333333333335,
          3.1666666666666665,
          2.2916666666666665,
          3.4583333333333335,
          4.333333333333333,
          4.25,
          3.1666666666666665,
          3,
          2.9166666666666665,
          3.3333333333333335,
          3.25,
          2.7916666666666665,
          2.3333333333333335,
          2.9166666666666665,
          2.5833333333333335,
          2.4166666666666665,
          2.375,
          2.5833333333333335,
          2.9166666666666665,
          4.083333333333333,
          3.4166666666666665,
          2.1666666666666665,
          2.6666666666666665,
          2.625,
          2.75,
          4.166666666666667,
          2.9583333333333335,
          2.9166666666666665,
          3.8333333333333335,
          3.5833333333333335,
          3.5208333333333335,
          4.083333333333333,
          4.166666666666667,
          3.5833333333333335,
          5.583333333333333,
          3.5833333333333335,
          3.75,
          3.75,
          3.6666666666666665,
          3.4166666666666665,
          2.3333333333333335,
          4.166666666666667,
          5.166666666666667,
          4.583333333333333,
          2.5416666666666665,
          5.166666666666667,
          3.8333333333333335,
          2.3333333333333335,
          3.875,
          3.0833333333333335,
          2.25,
          2.25,
          3.3333333333333335,
          2.75,
          4.416666666666667,
          4.458333333333333,
          4.375,
          4.25,
          4.75,
          3.7916666666666665,
          3.125,
          3.7083333333333335,
          2.25,
          3.6666666666666665,
          4.083333333333333,
          2.2083333333333335,
          3.3333333333333335,
          2.9166666666666665,
          2.3333333333333335,
          2.25,
          2.4166666666666665,
          3.5833333333333335,
          2.4166666666666665,
          3.4583333333333335,
          3.9166666666666665,
          3.4166666666666665,
          1.875,
          3.9583333333333335,
          2.2916666666666665,
          3.25,
          2.0208333333333335,
          2.1666666666666665,
          3.7083333333333335,
          2.4583333333333335,
          2.625,
          3.7916666666666665,
          3.0833333333333335,
          2.9166666666666665,
          2.6666666666666665,
          2.9444444444444446,
          3.875,
          3.5,
          2.0416666666666665,
          3.7916666666666665,
          3.5833333333333335,
          3.0833333333333335,
          3.1666666666666665,
          3.25,
          3.8333333333333335,
          3.8333333333333335,
          3.8333333333333335,
          3.4166666666666665,
          3.4166666666666665,
          3.2916666666666665,
          4.083333333333333,
          4.25,
          3.7916666666666665,
          4.333333333333333,
          2.1666666666666665,
          2.3333333333333335,
          3.0833333333333335,
          2.4583333333333335,
          3,
          2.5833333333333335,
          3,
          2.5833333333333335,
          2.375,
          2.75,
          3.3333333333333335,
          2.0833333333333335,
          2.7916666666666665,
          2.5,
          2.0416666666666665,
          4.208333333333333,
          4.25,
          4.291666666666667,
          3.375,
          3.6666666666666665,
          4,
          3.6666666666666665,
          4.291666666666667,
          3.1666666666666665,
          2.4166666666666665,
          2.5,
          2.4166666666666665,
          4,
          3.5833333333333335,
          3.25,
          3.0833333333333335,
          2.9166666666666665,
          2.125,
          2.2916666666666665,
          1.9166666666666667,
          2.0833333333333335,
          1.8333333333333333,
          2.2916666666666665,
          2.8333333333333335,
          3,
          3.1666666666666665,
          1.8333333333333333,
          3.4166666666666665,
          2.4166666666666665,
          3.2916666666666665,
          2.0833333333333335,
          1.9166666666666667,
          3,
          2.2916666666666665,
          2,
          3.9166666666666665,
          2.25,
          2.3333333333333335,
          2.75,
          3.0833333333333335,
          2.3333333333333335,
          2.6111111111111116,
          3,
          2.2083333333333335,
          4.166666666666667,
          2.3333333333333335,
          4.041666666666667,
          3.8333333333333335,
          2.5416666666666665,
          2.375,
          2.6666666666666665,
          2.5,
          3.4166666666666665,
          3.9166666666666665,
          3.9166666666666665,
          3.0833333333333335,
          2,
          2.375,
          5.416666666666667,
          2.4166666666666665,
          2.2083333333333335,
          3.0833333333333335,
          2.4166666666666665,
          2.4583333333333335,
          2.5,
          2.25,
          2.9444444444444446,
          5.166666666666667,
          4.833333333333333,
          2.9166666666666665,
          2.2083333333333335,
          1.9375,
          3.5,
          1.9166666666666667,
          3.0833333333333335,
          2,
          2.9583333333333335,
          3.5,
          3.6666666666666665,
          3.6666666666666665,
          3.0833333333333335,
          4.166666666666667,
          2.4166666666666665,
          2.25,
          3.2083333333333335,
          3.4375,
          3.25,
          3.125,
          2.5833333333333335,
          2.3333333333333335,
          2.9166666666666665,
          2.6666666666666665,
          2.5,
          2.25,
          2.9583333333333335,
          2.5833333333333335,
          3.6666666666666665,
          2,
          3.125,
          2.3333333333333335,
          4.166666666666667,
          2.6666666666666665,
          2.5833333333333335,
          3.125,
          2.5416666666666665,
          2.0833333333333335,
          4.333333333333333,
          3.4583333333333335,
          2.3333333333333335,
          2.75,
          2.5,
          4.083333333333333,
          3.6458333333333335,
          3.0833333333333335,
          2.75,
          3.4166666666666665,
          2.8333333333333335,
          2.25,
          2.4166666666666665,
          3.875,
          3.361111111111111,
          3.4166666666666665,
          2.1666666666666665,
          4,
          2.5,
          3.75,
          2.0833333333333335,
          5.5,
          1.65,
          3.9166666666666665,
          3.2083333333333335,
          1.8333333333333333,
          3.125,
          1.8,
          2.3333333333333335,
          3.875,
          2.5,
          2.7083333333333335,
          2.2083333333333335,
          2.5416666666666665,
          2.1666666666666665,
          2.9166666666666665,
          2.5833333333333335,
          2.9166666666666665,
          3.25,
          1.5833333333333333,
          1.6666666666666667,
          4.375,
          2.3333333333333335,
          3.9166666666666665,
          3,
          4.083333333333333,
          3.75,
          3.5833333333333335,
          3.25,
          3.0416666666666665,
          4.666666666666667,
          3,
          3.1666666666666665,
          2.8333333333333335,
          1.8333333333333333,
          2.5833333333333335,
          3,
          1.8333333333333333,
          3.4166666666666665,
          3.6666666666666665,
          2.3333333333333335,
          3,
          2.7083333333333335,
          3.25,
          3.5,
          3.1666666666666665,
          2.2916666666666665,
          3.5416666666666665,
          2.8333333333333335,
          4.375,
          2.0833333333333335,
          3.8333333333333335,
          3.25,
          3.1666666666666665,
          3.4166666666666665,
          3.3333333333333335,
          3.3333333333333335,
          3,
          3.5833333333333335,
          2.6666666666666665,
          3.0833333333333335,
          2.9166666666666665,
          3.2083333333333335,
          3.5833333333333335,
          3.1666666666666665,
          4.166666666666667,
          4,
          3.75,
          3.375,
          2.9166666666666665,
          4.083333333333333,
          2.9583333333333335,
          3.1666666666666665,
          3,
          3.1666666666666665,
          3.5833333333333335,
          3.9166666666666665,
          3.0416666666666665,
          3.25,
          3.0833333333333335,
          3.25,
          3.2083333333333335,
          3.4166666666666665,
          3.5,
          4.541666666666667,
          1.6666666666666667,
          2.7916666666666665,
          1.8333333333333333,
          1.4166666666666667,
          3.25,
          2.8958333333333335,
          2.875,
          3.5416666666666665,
          2.6666666666666665,
          3.6666666666666665,
          3.6666666666666665,
          3.5,
          3.6666666666666665,
          4,
          2.125,
          4,
          4.083333333333333,
          3.5,
          3.8333333333333335,
          4.916666666666667,
          2.75,
          3.125,
          3.0833333333333335,
          2.2916666666666665,
          3.5,
          3.0833333333333335,
          4.25,
          3.8333333333333335,
          2.9166666666666665,
          2.6666666666666665,
          2,
          2.4583333333333335,
          2.5,
          3.7083333333333335,
          4.666666666666667,
          2.7916666666666665,
          3.625,
          3.4583333333333335,
          4.291666666666667,
          3.1666666666666665,
          3,
          2.4166666666666665,
          2.7083333333333335,
          4.083333333333333,
          2.7083333333333335,
          2.75,
          2.8333333333333335,
          2,
          3.9166666666666665,
          1.5833333333333333,
          3.8333333333333335,
          1.8333333333333333,
          2.4166666666666665,
          2.7916666666666665,
          3.5,
          1.75,
          3,
          3.875,
          5.333333333333333,
          3.4166666666666665,
          2.0833333333333335,
          2.25,
          3.3333333333333335,
          1.9583333333333333,
          3.75,
          2.4166666666666665,
          2.7083333333333335,
          2.4166666666666665,
          3.25,
          2.9166666666666665,
          3.3333333333333335,
          2.2083333333333335,
          3.5833333333333335,
          3.7083333333333335,
          2.7083333333333335,
          2.625,
          3,
          2.6666666666666665,
          2.5,
          2.25,
          3.1666666666666665,
          2.75,
          3.4166666666666665,
          2,
          2.4166666666666665,
          4.416666666666667,
          3.3333333333333335,
          3.3541666666666665,
          3.1666666666666665,
          4.416666666666667,
          3.7916666666666665,
          3.125,
          2.75,
          2.5833333333333335,
          2.0833333333333335,
          2.8333333333333335,
          2,
          3.75,
          3.6666666666666665,
          2.875,
          2.3333333333333335,
          2.8333333333333335,
          2.8333333333333335,
          2.8055555555555554,
          3.75,
          2.25,
          2.5,
          3.3333333333333335,
          3.25,
          4.166666666666667,
          3.4166666666666665,
          2.0833333333333335,
          2.25,
          2.5833333333333335,
          2.6666666666666665,
          2.75,
          2.25,
          4.333333333333333,
          3.0833333333333335,
          3.375,
          2.4166666666666665,
          2.75,
          3.0416666666666665,
          2.3333333333333335,
          2.5833333333333335,
          2.5833333333333335,
          3.4583333333333335,
          1.75,
          3.375,
          2.8333333333333335,
          4.166666666666667,
          2.0416666666666665,
          2.6666666666666665,
          2.25,
          3.4166666666666665,
          4.666666666666667,
          2.3611111111111116,
          2.9166666666666665,
          3.375,
          2.0416666666666665,
          5.416666666666667,
          3.6666666666666665,
          2.75,
          3.0833333333333335,
          3.5833333333333335,
          3.0833333333333335,
          2.7916666666666665,
          2.9166666666666665,
          3.0833333333333335,
          2.7916666666666665,
          1.8333333333333333,
          1.1666666666666667,
          3.1666666666666665,
          3.5,
          4.166666666666667,
          4.075,
          3.125,
          3.125,
          2.3333333333333335,
          3.5,
          2.5,
          1.9583333333333333,
          3.3333333333333335,
          2.75,
          1.9583333333333333,
          1.8333333333333333,
          3.8333333333333335,
          2.5833333333333335,
          3.5833333333333335,
          2.75,
          2.3333333333333335,
          2.625,
          2.125,
          3,
          1.9444444444444442,
          3.0833333333333335,
          4.958333333333333,
          3.2916666666666665,
          3.0833333333333335,
          4.666666666666667,
          3.0833333333333335,
          2.9166666666666665,
          4.125,
          3.1666666666666665,
          2.5833333333333335,
          2.1666666666666665,
          1.8333333333333333,
          1.8333333333333333,
          1.8333333333333333,
          2.5,
          2.75,
          3.5833333333333335,
          3.4166666666666665,
          2.75,
          2.1666666666666665,
          2.2083333333333335,
          2.25,
          3.25,
          3,
          1.9166666666666667,
          2.375,
          3.8333333333333335,
          3.4166666666666665,
          1.9166666666666667,
          3.5,
          3.125,
          4.416666666666667,
          1.75
         ]
        },
        {
         "name": "Train Time",
         "type": "box",
         "y": [
          16.166666666666668,
          18.066666666666666,
          11.033333333333333,
          28.733333333333334,
          28.733333333333334,
          28.733333333333334,
          28.733333333333334,
          100.05,
          50.53333333333333,
          34.56666666666667,
          58.2,
          44.82166666666667,
          10.895000000000001,
          10.95,
          13.355555555555556,
          40.333333333333336,
          31.583333333333332,
          23.533333333333335,
          8.133333333333333,
          17.619444444444447,
          22,
          16.6,
          12.531944444444443,
          14.694166666666666,
          15.860833333333334,
          8,
          23.024722222222223,
          21.95,
          25.666666666666668,
          19.8,
          36.8,
          27.466666666666665,
          21.066666666666666,
          6.833333333333333,
          21.183333333333334,
          35.61666666666667,
          14.533333333333333,
          21.816666666666666,
          21.233333333333334,
          18.6,
          44.77166666666667,
          15.366666666666667,
          31.433333333333334,
          12.566666666666666,
          12.516666666666667,
          39.416666666666664,
          12.7,
          8.116666666666667,
          12.716666666666667,
          18.116666666666667,
          17.21361111111111,
          23.566666666666666,
          6.566666666666666,
          34.81666666666667,
          11.25,
          10.433333333333334,
          9.883333333333333,
          12.483333333333333,
          33.15,
          12.580277777777779,
          38.666666666666664,
          11.95,
          19.65,
          7.926111111111111,
          11.254722222222222,
          23.383333333333333,
          43.2,
          30.583055555555557,
          7.6,
          13.608055555555556,
          20.616666666666667,
          19.433333333333334,
          37.333333333333336,
          13.763333333333332,
          52.73833333333334,
          38.17166666666667,
          43.07166666666667,
          41.92166666666667,
          51.46333333333334,
          12.609166666666665,
          47.855000000000004,
          55.538333333333334,
          21.313333333333333,
          6.396944444444444,
          48.49666666666667,
          10.25,
          17.416666666666668,
          14.733333333333333,
          16.25,
          23.833333333333332,
          33.43333333333333,
          17.35,
          17.101388888888888,
          12.69277777777778,
          10.783333333333333,
          32.6,
          6,
          27.915000000000003,
          21.716666666666665,
          3.410277777777778,
          45.15,
          46.5,
          40.75,
          44.416666666666664,
          29.073333333333334,
          11,
          21.033333333333335,
          18.833333333333332,
          34.46666666666667,
          12.616666666666667,
          12.616666666666667,
          21.15,
          1.6666666666666667,
          55.2,
          22.941388888888888,
          25.758333333333333,
          29.910833333333336,
          15.874722222222223,
          20.6175,
          16.443333333333335,
          19.358055555555556,
          13.749722222222223,
          35.82472222222222,
          30.699722222222224,
          9.175,
          10.458055555555555,
          20.474722222222223,
          17.916666666666668,
          14.3,
          13.816666666666666,
          12.4,
          25.983333333333334,
          18.916666666666668,
          36.63527777777778,
          41.18333333333333,
          16.433333333333334,
          16.966666666666665,
          14.616666666666667,
          8.5,
          10.25,
          14.316666666666666,
          4.5,
          16.966666666666665,
          17.116666666666667,
          38.03333333333333,
          13.293888888888889,
          7.461111111111111,
          34.333333333333336,
          11.416666666666666,
          27.916666666666668,
          7.575555555555556,
          3.8666666666666667,
          7.766666666666667,
          10.934444444444445,
          20.50111111111111,
          21.016666666666666,
          7.75,
          10.183333333333334,
          12.577222222222222,
          11.810555555555556,
          10.166666666666666,
          11.695,
          29.30111111111111,
          26,
          22.55,
          18.933333333333334,
          16.849722222222223,
          16.683333333333334,
          21.05,
          13.833333333333334,
          17.573611111111113,
          19.7,
          33.31666666666667,
          30.333333333333332,
          29.91611111111111,
          13.578055555555554,
          10.816666666666666,
          12.816666666666666,
          17.233333333333334,
          22.551388888888887,
          33.483333333333334,
          19.533333333333335,
          6.333333333333333,
          9.883333333333333,
          16.240555555555556,
          13.805277777777778,
          18.5,
          17.93027777777778,
          13.143888888888888,
          19.2,
          19.2,
          22.466666666666665,
          13.252777777777776,
          13.252777777777776,
          10.783333333333333,
          12.483333333333333,
          7.25,
          5.7,
          21.9,
          39.11666666666667,
          8.033333333333333,
          33.11666666666667,
          50.3625,
          20.238055555555555,
          10.559444444444445,
          38.416666666666664,
          41.916666666666664,
          13.208888888888888,
          23.733333333333334,
          5.916666666666667,
          39.934999999999995,
          18.683333333333334,
          34.666666666666664,
          25.310833333333335,
          31.733333333333334,
          34.25,
          11.966666666666667,
          27.67111111111111,
          10.78111111111111,
          7.6,
          4.933333333333334,
          32.7,
          31.583333333333332,
          13.166666666666666,
          7.6,
          21.033333333333335,
          18.45,
          17.633333333333333,
          10.933333333333334,
          35.507777777777775,
          11.933333333333334,
          17.033333333333335,
          4.3,
          19.783333333333335,
          7.166666666666667,
          23.6,
          20.280277777777776,
          27.00583333333333,
          18.35,
          18.35,
          28.1,
          20.733333333333334,
          13.666666666666666,
          7.966666666666667,
          29.75,
          15.7,
          17.666666666666668,
          18,
          28.901944444444442,
          36.23527777777778,
          14.05,
          19.083333333333332,
          34.483333333333334,
          12.334444444444445,
          10.05,
          12.416666666666666,
          12.416666666666666,
          14.47111111111111,
          11.947777777777778,
          26.397777777777776,
          11.581111111111111,
          15.009444444444446,
          21.016666666666666,
          22.933333333333334,
          35.166666666666664,
          35.166666666666664,
          35.166666666666664,
          17.016666666666666,
          17.65,
          8,
          8.65,
          8,
          8.65,
          8,
          8.65,
          35.06666666666667,
          35.06666666666667,
          35.06666666666667,
          6.833333333333333,
          13.016666666666667,
          21.3,
          22.383333333333333,
          15.416666666666666,
          25.583333333333332,
          15.166666666666666,
          16.2,
          14.870277777777778,
          15.55,
          19.35,
          4.483333333333333,
          9.166666666666666,
          10.45,
          1.8166666666666667,
          33.63333333333333,
          49.5475,
          32.37611111111111,
          46.96666666666667,
          9.366666666666667,
          30.9,
          20.4,
          7.483333333333333,
          32.624722222222225,
          34.49388888888889,
          50.92138888888889,
          12.083333333333334,
          8.083333333333334,
          7.598333333333333,
          32.083333333333336,
          22.8,
          9.166666666666666,
          10.066666666666666,
          12.483333333333333,
          14.816666666666666,
          9.566666666666666,
          24.666666666666668,
          23.133333333333333,
          22.65,
          44.3975,
          23.55,
          16.717499999999998,
          17.05,
          29.35,
          19.9,
          18.761111111111113,
          15.483333333333333,
          28.811944444444446,
          25.766666666666666,
          25.85,
          12.833333333333334,
          13.666666666666666,
          10.383333333333333,
          27.490555555555556,
          26.133333333333333,
          39.57666666666667,
          3.75,
          28.416666666666668,
          26.966666666666665,
          34.666666666666664,
          19.95,
          4.416666666666667,
          36.630833333333335,
          7.666666666666667,
          3.3333333333333335,
          18.383333333333333,
          17.333333333333332,
          14.55,
          15.716666666666667,
          15.716666666666667,
          16.15,
          9.751944444444444,
          18.766666666666666,
          1.4166666666666667,
          14.016666666666667,
          8.583333333333334,
          38.02611111111111,
          20.65,
          20.05,
          8.483333333333333,
          29.833333333333332,
          14.323055555555555,
          25.583333333333332,
          11.833333333333334,
          11.733333333333333,
          12.466666666666667,
          33.28333333333333,
          33.28333333333333,
          11.08888888888889,
          20.683333333333334,
          17.583333333333332,
          37.88666666666666,
          18,
          6.5,
          19.077222222222225,
          11.14472222222222,
          9.256666666666666,
          15.916666666666666,
          26.016666666666666,
          11.111666666666668,
          23.45,
          10.166666666666666,
          23.11722222222222,
          11.783333333333333,
          16.65,
          21.333333333333332,
          10.616666666666667,
          23.016666666666666,
          30.266666666666666,
          23.416666666666668,
          23.416666666666668,
          22.833333333333332,
          8.166666666666666,
          19.466666666666665,
          16.966666666666665,
          11.8,
          6.683333333333334,
          13.25,
          6.3,
          12.666666666666666,
          8.583333333333334,
          7.5,
          1.8166666666666667,
          12.483333333333333,
          18.183333333333334,
          9.25,
          8.75,
          6.85,
          31.783333333333335,
          49.41416666666667,
          40.555277777777775,
          14.280277777777778,
          4.466666666666667,
          11.3,
          11.016666666666667,
          11.066666666666666,
          13.55,
          4.733333333333333,
          2.6666666666666665,
          23.25,
          9.080555555555556,
          6.25,
          1.3166666666666667,
          8.683333333333334,
          33.55,
          12.566666666666666,
          9.216666666666667,
          15.416666666666666,
          10.7,
          12.166666666666666,
          5.816666666666666,
          3.5797222222222222,
          7.991388888888889,
          3.5355555555555553,
          6.291388888888889,
          5.474722222222223,
          40.78333333333333,
          15.55,
          13.583333333333334,
          3.783333333333333,
          34.75,
          41.083333333333336,
          11.583333333333334,
          13.74861111111111,
          10.666666666666666,
          7.416666666666667,
          25.8,
          9.516666666666667,
          13.2,
          14.083333333333334,
          13.716666666666667,
          10.05,
          24.5,
          12.316666666666666,
          18.333333333333332,
          9.666666666666666,
          36.274722222222216,
          13.566666666666666,
          4.75,
          6.016666666666667,
          30.333333333333332,
          9.658888888888889,
          14.083333333333334,
          49.20361111111111,
          37.36666666666667,
          40.483333333333334,
          17.116666666666667,
          29.766666666666666,
          15.9475,
          51.53333333333333,
          7.7,
          8.333333333333334,
          22.903333333333332,
          36.24583333333333,
          10.883333333333333,
          10.370555555555557,
          10.453888888888889,
          7.6241666666666665,
          24.74361111111111,
          16.220000000000002,
          17.833333333333332,
          20.116666666666667,
          16.3,
          18.05,
          5.233333333333333,
          11.666666666666666,
          28.147777777777776,
          9.733333333333333,
          7.2108333333333325,
          5.944166666666666,
          9.105833333333333,
          23.34,
          25.19,
          25.19,
          5.092222222222222,
          39.77388888888889,
          53.60944444444444,
          7.530277777777778,
          62.85,
          10.127777777777776,
          36.805,
          16.371666666666666,
          23.83833333333333,
          28.760277777777777,
          19.115555555555556,
          20.654999999999998,
          17.3125,
          21.551666666666666,
          34.6625,
          19.5625,
          16.688333333333333,
          23.538333333333334,
          16.771666666666665,
          22.538333333333334,
          19.938333333333333,
          17.715,
          19.555,
          24.295833333333334,
          24.579166666666666,
          19.129166666666666,
          47.778888888888886,
          7.505,
          34.038333333333334,
          5.379166666666666,
          19.083333333333332,
          19.083333333333332,
          13.623333333333333,
          8.466666666666667,
          13.083333333333334,
          51.166666666666664,
          35.270833333333336,
          36.434999999999995,
          30.499444444444446,
          19.621111111111112,
          20.166666666666668,
          28.269444444444446,
          4.133333333333334,
          8.963611111111112,
          22.816666666666666,
          12.25,
          12.25,
          24.916666666666668,
          13.283333333333333,
          13.283333333333333,
          10.75,
          12.469166666666666,
          33.233333333333334,
          27.210277777777776,
          20.1,
          9.956388888888888,
          10.259444444444446,
          23.95,
          6.695277777777777,
          23.316666666666666,
          15.616666666666667,
          6.953333333333333,
          23.216666666666665,
          23.216666666666665,
          9.933333333333334,
          9.933333333333334,
          29.5,
          29.5,
          53.599444444444444,
          53.599444444444444,
          16.933333333333334,
          16.933333333333334,
          20.883333333333333,
          20.883333333333333,
          18.483333333333334,
          18.483333333333334,
          8.166666666666666,
          9,
          9,
          33.83638888888889,
          26.183333333333334,
          26.183333333333334,
          11.9,
          11.9,
          18.783333333333335,
          23.1,
          11.283333333333333,
          19.6,
          19.6,
          14.35,
          3.95,
          30.166666666666668,
          38.45,
          38.45,
          16.816666666666666,
          16.816666666666666,
          14.333333333333334,
          19.266666666666666,
          19.266666666666666,
          13.283333333333333,
          10.103333333333333,
          14.15,
          13.65,
          12.783333333333333,
          18.683333333333334,
          11.25,
          17.95861111111111,
          42.28333333333333,
          20.95,
          11.183333333333334,
          14.883333333333333,
          14.416666666666666,
          12.233333333333333,
          22.983333333333334,
          11.083333333333334,
          16.916666666666668,
          21.55,
          19.533333333333335,
          19.533333333333335,
          24.983333333333334,
          34.68333333333333,
          21.733333333333334,
          56,
          23.816666666666666,
          30.666666666666668,
          30.666666666666668,
          24.691111111111113,
          19.083333333333332,
          8.333333333333334,
          28.083333333333332,
          45.583333333333336,
          34.11666666666667,
          10.7,
          39.36666666666667,
          25.116666666666667,
          12.05,
          24.1,
          17.033333333333335,
          15.183333333333334,
          8.916666666666666,
          21.866666666666667,
          12,
          42.8075,
          39.3,
          42.94138888888889,
          32.92,
          50.588055555555556,
          31.045277777777777,
          21.25,
          19.074444444444445,
          16.449722222222224,
          20.97138888888889,
          29.589722222222225,
          6.106388888888889,
          14.889722222222222,
          10.973055555555556,
          12.773055555555555,
          7.483333333333333,
          7.583333333333333,
          20.65,
          8.874166666666667,
          17.733333333333334,
          23.133333333333333,
          20.583333333333332,
          16.009722222222223,
          29,
          10.583333333333334,
          17.05,
          12.266666666666667,
          12.266666666666667,
          23.366666666666667,
          9.833333333333334,
          11.583333333333334,
          21.316666666666666,
          12.5025,
          24.5,
          12.85,
          14,
          41.833333333333336,
          28.26361111111111,
          12.166666666666666,
          29.9,
          22.25,
          16.15,
          17.813888888888886,
          19.916666666666668,
          29.416666666666668,
          26.62388888888889,
          31.333333333333332,
          21.066666666666666,
          20.445,
          22.65138888888889,
          44.11666666666667,
          44.11666666666667,
          44.11666666666667,
          44.11666666666667,
          6.883333333333334,
          6.883333333333334,
          10.533333333333333,
          6.9,
          13.433333333333334,
          13.466666666666667,
          20.931944444444447,
          8.171111111111111,
          8.171111111111111,
          10.937777777777777,
          20.166666666666668,
          6.673055555555555,
          10.333333333333334,
          11.254444444444443,
          10.033333333333333,
          69.1,
          24.066666666666666,
          24.066666666666666,
          24.066666666666666,
          43.81666666666667,
          29.9,
          61.5,
          53.53333333333333,
          22.7,
          19.816666666666666,
          8.3,
          8.3,
          22.583333333333332,
          23.716666666666665,
          19.5,
          15.516666666666667,
          12.8,
          7.25,
          10.533333333333333,
          7.833333333333333,
          10.666666666666666,
          5.25,
          7.7,
          11.566666666666666,
          27.09138888888889,
          26.616666666666667,
          2.1666666666666665,
          20.116666666666667,
          10.425555555555555,
          20.73944444444444,
          8.274722222222222,
          1.3247222222222221,
          28.383055555555554,
          9.706111111111111,
          10.08,
          21.939444444444444,
          11.65611111111111,
          9.972777777777777,
          18.839444444444442,
          27.889444444444443,
          9.133333333333333,
          9.85,
          12.666666666666666,
          11.533333333333333,
          31.833333333333332,
          8.25,
          27,
          33.333333333333336,
          10.983333333333333,
          11.733333333333333,
          15.416666666666666,
          10.443888888888889,
          27.566666666666666,
          43.66972222222223,
          51.9375,
          36.24527777777778,
          17.233333333333334,
          13.9,
          53.0975,
          11.904722222222222,
          9.333333333333334,
          15.5,
          9.933333333333334,
          11.016666666666667,
          10.716666666666667,
          9.25,
          17.95277777777778,
          43.45,
          43.65,
          19.25,
          9.466666666666667,
          7.4,
          22.716666666666665,
          3.75,
          19.366666666666667,
          8.916666666666666,
          34.93805555555556,
          23.083333333333332,
          32.75,
          36.68333333333333,
          28.45,
          39.61666666666667,
          10.504722222222222,
          7.738055555555556,
          30.371388888888887,
          31.833333333333332,
          24.533333333333335,
          24.533333333333335,
          12.483333333333333,
          18.55,
          35.05,
          15.219722222222222,
          12.83888888888889,
          10.622222222222224,
          23.905555555555555,
          23.216666666666665,
          38.583333333333336,
          9.361666666666668,
          22.788888888888888,
          17.883333333333333,
          29.55,
          24.810555555555556,
          14.872222222222224,
          39.21666666666667,
          24.695,
          5.25,
          24.583333333333332,
          17.516666666666666,
          15.979444444444445,
          10.266666666666667,
          12.783333333333333,
          20.75,
          40.56333333333334,
          33.88,
          19.266666666666666,
          21.033333333333335,
          22.4,
          10.62888888888889,
          11.5,
          31.5,
          26.266666666666666,
          24.75,
          24.15611111111111,
          38.28333333333333,
          26.433333333333334,
          34.05,
          8.842222222222222,
          55.516666666666666,
          10.197222222222223,
          36.05,
          24.083333333333332,
          5.692222222222223,
          21.083333333333332,
          5.5875,
          11.716666666666667,
          21.783333333333335,
          12.25,
          17.883333333333333,
          3.0833333333333335,
          6.05,
          7.47,
          50.3,
          12.433333333333334,
          25.55,
          28.833333333333332,
          7.402777777777778,
          8.14111111111111,
          45.5,
          13.407222222222222,
          37.45,
          23.09361111111111,
          33.56666666666667,
          30.483333333333334,
          29.683333333333334,
          27.584166666666665,
          24.583333333333332,
          45.5,
          22.833333333333332,
          28.166666666666668,
          22.533333333333335,
          11.911944444444446,
          16,
          24.983333333333334,
          6.3533333333333335,
          23.25,
          22.466666666666665,
          14.383333333333333,
          19.384166666666665,
          11.083333333333334,
          20.88472222222222,
          21.883333333333333,
          22.133333333333333,
          12.6,
          21.516666666666666,
          8.0525,
          30.645,
          10.116666666666667,
          26.9,
          24.625,
          18.7,
          24.626944444444444,
          24.336944444444445,
          23.4,
          13.177222222222222,
          23.189444444444444,
          13.733333333333333,
          20.45,
          21.25,
          21.75,
          35.129444444444445,
          24.616666666666667,
          40.583333333333336,
          35.75,
          22.566666666666666,
          24.4,
          20.05,
          38.96055555555555,
          19.477222222222224,
          21.923333333333336,
          21.05,
          25.616666666666667,
          21.533333333333335,
          31.44527777777778,
          19.361666666666668,
          22.966666666666665,
          20.6,
          24.333333333333332,
          18.1,
          28.716666666666665,
          33.016666666666666,
          64.98333333333333,
          5.298333333333333,
          33.1,
          9.183333333333334,
          3.8658333333333332,
          27.166666666666668,
          14.683333333333334,
          14.683333333333334,
          47.56666666666667,
          12.5,
          23.02638888888889,
          22.25,
          22.25,
          24.583333333333332,
          33.81666666666667,
          9.7,
          30.583333333333332,
          23.083333333333332,
          24.866666666666667,
          25.85,
          31.95,
          10.633333333333333,
          20.783333333333335,
          15.25,
          11.533333333333333,
          33.55,
          13.716666666666667,
          49.11361111111111,
          38.596944444444446,
          22.685,
          19.746944444444445,
          13.496944444444445,
          18.41361111111111,
          18.41361111111111,
          37.08027777777777,
          43.846944444444446,
          23.230277777777776,
          36.19694444444444,
          32.246944444444445,
          39.846944444444446,
          29.303333333333335,
          29.71361111111111,
          21.796944444444442,
          21.346944444444443,
          39.46361111111111,
          22.980277777777776,
          21.880277777777778,
          23.441944444444445,
          21.630277777777778,
          38.333333333333336,
          2.783333333333333,
          35.233333333333334,
          2.35,
          9.75,
          16.216666666666665,
          35.43333333333333,
          4.8,
          36.87916666666667,
          44.92916666666667,
          76.5,
          32.06666666666667,
          16.25,
          10,
          29.616666666666667,
          7.783333333333333,
          32.53138888888889,
          15.564722222222223,
          15.231388888888889,
          20.21638888888889,
          27.433333333333334,
          14.381388888888889,
          19.48138888888889,
          13.131388888888889,
          36.36472222222222,
          31.795277777777777,
          18.6225,
          19.316666666666666,
          31.383333333333333,
          25.933333333333334,
          19.46055555555556,
          10.9,
          26.8,
          21.145833333333332,
          22.202222222222225,
          13.363055555555555,
          12.766666666666667,
          50.18333333333333,
          23.466666666666665,
          23.466666666666665,
          23.466666666666665,
          45.016666666666666,
          28.2,
          20.066666666666666,
          15.816666666666666,
          15.816666666666666,
          7.9,
          23.45,
          3.85,
          34.32722222222222,
          39.035,
          17.483333333333334,
          12,
          14.55,
          14.55,
          16.975277777777777,
          23.883333333333333,
          7.566666666666666,
          12.983333333333333,
          19.45,
          19.45,
          38.983333333333334,
          21.8,
          8.5,
          8.739444444444445,
          18.57222222222222,
          12.216666666666667,
          8.283333333333333,
          4.5,
          34.71666666666667,
          30.349444444444444,
          22.766666666666666,
          11.8675,
          13.233333333333333,
          12.183333333333334,
          13.916666666666666,
          11.716666666666667,
          10.95,
          32.75,
          5.313888888888888,
          16.533333333333335,
          13.407777777777778,
          24.633333333333333,
          4.483333333333333,
          18.216666666666665,
          7.1,
          29.6,
          58.18805555555556,
          8.75,
          22.60666666666667,
          17.383333333333333,
          1.8833333333333333,
          43.9,
          29.948333333333334,
          15.166666666666666,
          18.55,
          35.416666666666664,
          23.666666666666668,
          23.666666666666668,
          13.133333333333333,
          22.769722222222224,
          21.387777777777778,
          5.391944444444444,
          1.3252777777777778,
          15.316666666666666,
          38.3475,
          28.102777777777778,
          28.102777777777778,
          20.482777777777777,
          16.983333333333334,
          13.183333333333334,
          18.016666666666666,
          24.566666666666666,
          8.083333333333334,
          18.933333333333334,
          19.1,
          4.810277777777778,
          3.991388888888889,
          19.933333333333334,
          17.666666666666668,
          20.5,
          12.333333333333334,
          11.166666666666666,
          14.716666666666667,
          7.47861111111111,
          21.595000000000002,
          6.4,
          17.15,
          37.75,
          21.966666666666665,
          18.15,
          32.75138888888889,
          19.168055555555554,
          22.42388888888889,
          29.98472222222222,
          16.983333333333334,
          12.366666666666667,
          8.133333333333333,
          8,
          5.083333333333333,
          5.083333333333333,
          11.95,
          13.081666666666667,
          23.683333333333334,
          22.383333333333333,
          16.683333333333334,
          6.916666666666667,
          10.183333333333334,
          9.166666666666666,
          16.766666666666666,
          20.333333333333332,
          3.1666666666666665,
          11.866666666666667,
          37.4,
          20.6,
          8.1,
          27.95,
          31.941388888888888,
          43.416666666666664,
          5.566666666666666
         ]
        }
       ],
       "layout": {
        "template": {
         "data": {
          "bar": [
           {
            "error_x": {
             "color": "#2a3f5f"
            },
            "error_y": {
             "color": "#2a3f5f"
            },
            "marker": {
             "line": {
              "color": "#E5ECF6",
              "width": 0.5
             },
             "pattern": {
              "fillmode": "overlay",
              "size": 10,
              "solidity": 0.2
             }
            },
            "type": "bar"
           }
          ],
          "barpolar": [
           {
            "marker": {
             "line": {
              "color": "#E5ECF6",
              "width": 0.5
             },
             "pattern": {
              "fillmode": "overlay",
              "size": 10,
              "solidity": 0.2
             }
            },
            "type": "barpolar"
           }
          ],
          "carpet": [
           {
            "aaxis": {
             "endlinecolor": "#2a3f5f",
             "gridcolor": "white",
             "linecolor": "white",
             "minorgridcolor": "white",
             "startlinecolor": "#2a3f5f"
            },
            "baxis": {
             "endlinecolor": "#2a3f5f",
             "gridcolor": "white",
             "linecolor": "white",
             "minorgridcolor": "white",
             "startlinecolor": "#2a3f5f"
            },
            "type": "carpet"
           }
          ],
          "choropleth": [
           {
            "colorbar": {
             "outlinewidth": 0,
             "ticks": ""
            },
            "type": "choropleth"
           }
          ],
          "contour": [
           {
            "colorbar": {
             "outlinewidth": 0,
             "ticks": ""
            },
            "colorscale": [
             [
              0,
              "#0d0887"
             ],
             [
              0.1111111111111111,
              "#46039f"
             ],
             [
              0.2222222222222222,
              "#7201a8"
             ],
             [
              0.3333333333333333,
              "#9c179e"
             ],
             [
              0.4444444444444444,
              "#bd3786"
             ],
             [
              0.5555555555555556,
              "#d8576b"
             ],
             [
              0.6666666666666666,
              "#ed7953"
             ],
             [
              0.7777777777777778,
              "#fb9f3a"
             ],
             [
              0.8888888888888888,
              "#fdca26"
             ],
             [
              1,
              "#f0f921"
             ]
            ],
            "type": "contour"
           }
          ],
          "contourcarpet": [
           {
            "colorbar": {
             "outlinewidth": 0,
             "ticks": ""
            },
            "type": "contourcarpet"
           }
          ],
          "heatmap": [
           {
            "colorbar": {
             "outlinewidth": 0,
             "ticks": ""
            },
            "colorscale": [
             [
              0,
              "#0d0887"
             ],
             [
              0.1111111111111111,
              "#46039f"
             ],
             [
              0.2222222222222222,
              "#7201a8"
             ],
             [
              0.3333333333333333,
              "#9c179e"
             ],
             [
              0.4444444444444444,
              "#bd3786"
             ],
             [
              0.5555555555555556,
              "#d8576b"
             ],
             [
              0.6666666666666666,
              "#ed7953"
             ],
             [
              0.7777777777777778,
              "#fb9f3a"
             ],
             [
              0.8888888888888888,
              "#fdca26"
             ],
             [
              1,
              "#f0f921"
             ]
            ],
            "type": "heatmap"
           }
          ],
          "heatmapgl": [
           {
            "colorbar": {
             "outlinewidth": 0,
             "ticks": ""
            },
            "colorscale": [
             [
              0,
              "#0d0887"
             ],
             [
              0.1111111111111111,
              "#46039f"
             ],
             [
              0.2222222222222222,
              "#7201a8"
             ],
             [
              0.3333333333333333,
              "#9c179e"
             ],
             [
              0.4444444444444444,
              "#bd3786"
             ],
             [
              0.5555555555555556,
              "#d8576b"
             ],
             [
              0.6666666666666666,
              "#ed7953"
             ],
             [
              0.7777777777777778,
              "#fb9f3a"
             ],
             [
              0.8888888888888888,
              "#fdca26"
             ],
             [
              1,
              "#f0f921"
             ]
            ],
            "type": "heatmapgl"
           }
          ],
          "histogram": [
           {
            "marker": {
             "pattern": {
              "fillmode": "overlay",
              "size": 10,
              "solidity": 0.2
             }
            },
            "type": "histogram"
           }
          ],
          "histogram2d": [
           {
            "colorbar": {
             "outlinewidth": 0,
             "ticks": ""
            },
            "colorscale": [
             [
              0,
              "#0d0887"
             ],
             [
              0.1111111111111111,
              "#46039f"
             ],
             [
              0.2222222222222222,
              "#7201a8"
             ],
             [
              0.3333333333333333,
              "#9c179e"
             ],
             [
              0.4444444444444444,
              "#bd3786"
             ],
             [
              0.5555555555555556,
              "#d8576b"
             ],
             [
              0.6666666666666666,
              "#ed7953"
             ],
             [
              0.7777777777777778,
              "#fb9f3a"
             ],
             [
              0.8888888888888888,
              "#fdca26"
             ],
             [
              1,
              "#f0f921"
             ]
            ],
            "type": "histogram2d"
           }
          ],
          "histogram2dcontour": [
           {
            "colorbar": {
             "outlinewidth": 0,
             "ticks": ""
            },
            "colorscale": [
             [
              0,
              "#0d0887"
             ],
             [
              0.1111111111111111,
              "#46039f"
             ],
             [
              0.2222222222222222,
              "#7201a8"
             ],
             [
              0.3333333333333333,
              "#9c179e"
             ],
             [
              0.4444444444444444,
              "#bd3786"
             ],
             [
              0.5555555555555556,
              "#d8576b"
             ],
             [
              0.6666666666666666,
              "#ed7953"
             ],
             [
              0.7777777777777778,
              "#fb9f3a"
             ],
             [
              0.8888888888888888,
              "#fdca26"
             ],
             [
              1,
              "#f0f921"
             ]
            ],
            "type": "histogram2dcontour"
           }
          ],
          "mesh3d": [
           {
            "colorbar": {
             "outlinewidth": 0,
             "ticks": ""
            },
            "type": "mesh3d"
           }
          ],
          "parcoords": [
           {
            "line": {
             "colorbar": {
              "outlinewidth": 0,
              "ticks": ""
             }
            },
            "type": "parcoords"
           }
          ],
          "pie": [
           {
            "automargin": true,
            "type": "pie"
           }
          ],
          "scatter": [
           {
            "fillpattern": {
             "fillmode": "overlay",
             "size": 10,
             "solidity": 0.2
            },
            "type": "scatter"
           }
          ],
          "scatter3d": [
           {
            "line": {
             "colorbar": {
              "outlinewidth": 0,
              "ticks": ""
             }
            },
            "marker": {
             "colorbar": {
              "outlinewidth": 0,
              "ticks": ""
             }
            },
            "type": "scatter3d"
           }
          ],
          "scattercarpet": [
           {
            "marker": {
             "colorbar": {
              "outlinewidth": 0,
              "ticks": ""
             }
            },
            "type": "scattercarpet"
           }
          ],
          "scattergeo": [
           {
            "marker": {
             "colorbar": {
              "outlinewidth": 0,
              "ticks": ""
             }
            },
            "type": "scattergeo"
           }
          ],
          "scattergl": [
           {
            "marker": {
             "colorbar": {
              "outlinewidth": 0,
              "ticks": ""
             }
            },
            "type": "scattergl"
           }
          ],
          "scattermapbox": [
           {
            "marker": {
             "colorbar": {
              "outlinewidth": 0,
              "ticks": ""
             }
            },
            "type": "scattermapbox"
           }
          ],
          "scatterpolar": [
           {
            "marker": {
             "colorbar": {
              "outlinewidth": 0,
              "ticks": ""
             }
            },
            "type": "scatterpolar"
           }
          ],
          "scatterpolargl": [
           {
            "marker": {
             "colorbar": {
              "outlinewidth": 0,
              "ticks": ""
             }
            },
            "type": "scatterpolargl"
           }
          ],
          "scatterternary": [
           {
            "marker": {
             "colorbar": {
              "outlinewidth": 0,
              "ticks": ""
             }
            },
            "type": "scatterternary"
           }
          ],
          "surface": [
           {
            "colorbar": {
             "outlinewidth": 0,
             "ticks": ""
            },
            "colorscale": [
             [
              0,
              "#0d0887"
             ],
             [
              0.1111111111111111,
              "#46039f"
             ],
             [
              0.2222222222222222,
              "#7201a8"
             ],
             [
              0.3333333333333333,
              "#9c179e"
             ],
             [
              0.4444444444444444,
              "#bd3786"
             ],
             [
              0.5555555555555556,
              "#d8576b"
             ],
             [
              0.6666666666666666,
              "#ed7953"
             ],
             [
              0.7777777777777778,
              "#fb9f3a"
             ],
             [
              0.8888888888888888,
              "#fdca26"
             ],
             [
              1,
              "#f0f921"
             ]
            ],
            "type": "surface"
           }
          ],
          "table": [
           {
            "cells": {
             "fill": {
              "color": "#EBF0F8"
             },
             "line": {
              "color": "white"
             }
            },
            "header": {
             "fill": {
              "color": "#C8D4E3"
             },
             "line": {
              "color": "white"
             }
            },
            "type": "table"
           }
          ]
         },
         "layout": {
          "annotationdefaults": {
           "arrowcolor": "#2a3f5f",
           "arrowhead": 0,
           "arrowwidth": 1
          },
          "autotypenumbers": "strict",
          "coloraxis": {
           "colorbar": {
            "outlinewidth": 0,
            "ticks": ""
           }
          },
          "colorscale": {
           "diverging": [
            [
             0,
             "#8e0152"
            ],
            [
             0.1,
             "#c51b7d"
            ],
            [
             0.2,
             "#de77ae"
            ],
            [
             0.3,
             "#f1b6da"
            ],
            [
             0.4,
             "#fde0ef"
            ],
            [
             0.5,
             "#f7f7f7"
            ],
            [
             0.6,
             "#e6f5d0"
            ],
            [
             0.7,
             "#b8e186"
            ],
            [
             0.8,
             "#7fbc41"
            ],
            [
             0.9,
             "#4d9221"
            ],
            [
             1,
             "#276419"
            ]
           ],
           "sequential": [
            [
             0,
             "#0d0887"
            ],
            [
             0.1111111111111111,
             "#46039f"
            ],
            [
             0.2222222222222222,
             "#7201a8"
            ],
            [
             0.3333333333333333,
             "#9c179e"
            ],
            [
             0.4444444444444444,
             "#bd3786"
            ],
            [
             0.5555555555555556,
             "#d8576b"
            ],
            [
             0.6666666666666666,
             "#ed7953"
            ],
            [
             0.7777777777777778,
             "#fb9f3a"
            ],
            [
             0.8888888888888888,
             "#fdca26"
            ],
            [
             1,
             "#f0f921"
            ]
           ],
           "sequentialminus": [
            [
             0,
             "#0d0887"
            ],
            [
             0.1111111111111111,
             "#46039f"
            ],
            [
             0.2222222222222222,
             "#7201a8"
            ],
            [
             0.3333333333333333,
             "#9c179e"
            ],
            [
             0.4444444444444444,
             "#bd3786"
            ],
            [
             0.5555555555555556,
             "#d8576b"
            ],
            [
             0.6666666666666666,
             "#ed7953"
            ],
            [
             0.7777777777777778,
             "#fb9f3a"
            ],
            [
             0.8888888888888888,
             "#fdca26"
            ],
            [
             1,
             "#f0f921"
            ]
           ]
          },
          "colorway": [
           "#636efa",
           "#EF553B",
           "#00cc96",
           "#ab63fa",
           "#FFA15A",
           "#19d3f3",
           "#FF6692",
           "#B6E880",
           "#FF97FF",
           "#FECB52"
          ],
          "font": {
           "color": "#2a3f5f"
          },
          "geo": {
           "bgcolor": "white",
           "lakecolor": "white",
           "landcolor": "#E5ECF6",
           "showlakes": true,
           "showland": true,
           "subunitcolor": "white"
          },
          "hoverlabel": {
           "align": "left"
          },
          "hovermode": "closest",
          "mapbox": {
           "style": "light"
          },
          "paper_bgcolor": "white",
          "plot_bgcolor": "#E5ECF6",
          "polar": {
           "angularaxis": {
            "gridcolor": "white",
            "linecolor": "white",
            "ticks": ""
           },
           "bgcolor": "#E5ECF6",
           "radialaxis": {
            "gridcolor": "white",
            "linecolor": "white",
            "ticks": ""
           }
          },
          "scene": {
           "xaxis": {
            "backgroundcolor": "#E5ECF6",
            "gridcolor": "white",
            "gridwidth": 2,
            "linecolor": "white",
            "showbackground": true,
            "ticks": "",
            "zerolinecolor": "white"
           },
           "yaxis": {
            "backgroundcolor": "#E5ECF6",
            "gridcolor": "white",
            "gridwidth": 2,
            "linecolor": "white",
            "showbackground": true,
            "ticks": "",
            "zerolinecolor": "white"
           },
           "zaxis": {
            "backgroundcolor": "#E5ECF6",
            "gridcolor": "white",
            "gridwidth": 2,
            "linecolor": "white",
            "showbackground": true,
            "ticks": "",
            "zerolinecolor": "white"
           }
          },
          "shapedefaults": {
           "line": {
            "color": "#2a3f5f"
           }
          },
          "ternary": {
           "aaxis": {
            "gridcolor": "white",
            "linecolor": "white",
            "ticks": ""
           },
           "baxis": {
            "gridcolor": "white",
            "linecolor": "white",
            "ticks": ""
           },
           "bgcolor": "#E5ECF6",
           "caxis": {
            "gridcolor": "white",
            "linecolor": "white",
            "ticks": ""
           }
          },
          "title": {
           "x": 0.05
          },
          "xaxis": {
           "automargin": true,
           "gridcolor": "white",
           "linecolor": "white",
           "ticks": "",
           "title": {
            "standoff": 15
           },
           "zerolinecolor": "white",
           "zerolinewidth": 2
          },
          "yaxis": {
           "automargin": true,
           "gridcolor": "white",
           "linecolor": "white",
           "ticks": "",
           "title": {
            "standoff": 15
           },
           "zerolinecolor": "white",
           "zerolinewidth": 2
          }
         }
        },
        "title": {
         "text": "Distribution of Travel Times in hours"
        },
        "yaxis": {
         "title": {
          "text": "Time (hours)"
         }
        }
       }
      }
     },
     "metadata": {},
     "output_type": "display_data"
    }
   ],
   "source": [
    "box_fig = go.Figure()\n",
    "box_fig.add_trace(go.Box(y=merged_data['flight_time_hours_with_extra'], name='Flight Time'))\n",
    "box_fig.add_trace(go.Box(y=merged_data['train_time_hours'], name='Train Time'))\n",
    "box_fig.update_layout(title='Distribution of Travel Times in hours', yaxis_title='Time (hours)')\n",
    "box_fig.show()"
   ]
  },
  {
   "cell_type": "code",
   "execution_count": 42,
   "metadata": {},
   "outputs": [
    {
     "data": {
      "application/vnd.plotly.v1+json": {
       "config": {
        "plotlyServerURL": "https://plot.ly"
       },
       "data": [
        {
         "alignmentgroup": "True",
         "bingroup": "x",
         "hovertemplate": "flight_time_hours_with_extra=%{x}<br>count=%{y}<extra></extra>",
         "legendgroup": "",
         "marker": {
          "color": "#636efa",
          "pattern": {
           "shape": ""
          }
         },
         "name": "",
         "nbinsx": 50,
         "offsetgroup": "",
         "orientation": "v",
         "showlegend": false,
         "type": "histogram",
         "x": [
          1.3333333333333333,
          1.8333333333333333,
          1.9166666666666667,
          1.8333333333333333,
          1.75,
          1.8333333333333333,
          1.8333333333333333,
          1.9166666666666667,
          2.2083333333333335,
          1.8333333333333333,
          2.0416666666666665,
          1.1666666666666667
         ],
         "xaxis": "x",
         "yaxis": "y"
        }
       ],
       "layout": {
        "barmode": "relative",
        "legend": {
         "tracegroupgap": 0
        },
        "margin": {
         "t": 60
        },
        "template": {
         "data": {
          "bar": [
           {
            "error_x": {
             "color": "#2a3f5f"
            },
            "error_y": {
             "color": "#2a3f5f"
            },
            "marker": {
             "line": {
              "color": "#E5ECF6",
              "width": 0.5
             },
             "pattern": {
              "fillmode": "overlay",
              "size": 10,
              "solidity": 0.2
             }
            },
            "type": "bar"
           }
          ],
          "barpolar": [
           {
            "marker": {
             "line": {
              "color": "#E5ECF6",
              "width": 0.5
             },
             "pattern": {
              "fillmode": "overlay",
              "size": 10,
              "solidity": 0.2
             }
            },
            "type": "barpolar"
           }
          ],
          "carpet": [
           {
            "aaxis": {
             "endlinecolor": "#2a3f5f",
             "gridcolor": "white",
             "linecolor": "white",
             "minorgridcolor": "white",
             "startlinecolor": "#2a3f5f"
            },
            "baxis": {
             "endlinecolor": "#2a3f5f",
             "gridcolor": "white",
             "linecolor": "white",
             "minorgridcolor": "white",
             "startlinecolor": "#2a3f5f"
            },
            "type": "carpet"
           }
          ],
          "choropleth": [
           {
            "colorbar": {
             "outlinewidth": 0,
             "ticks": ""
            },
            "type": "choropleth"
           }
          ],
          "contour": [
           {
            "colorbar": {
             "outlinewidth": 0,
             "ticks": ""
            },
            "colorscale": [
             [
              0,
              "#0d0887"
             ],
             [
              0.1111111111111111,
              "#46039f"
             ],
             [
              0.2222222222222222,
              "#7201a8"
             ],
             [
              0.3333333333333333,
              "#9c179e"
             ],
             [
              0.4444444444444444,
              "#bd3786"
             ],
             [
              0.5555555555555556,
              "#d8576b"
             ],
             [
              0.6666666666666666,
              "#ed7953"
             ],
             [
              0.7777777777777778,
              "#fb9f3a"
             ],
             [
              0.8888888888888888,
              "#fdca26"
             ],
             [
              1,
              "#f0f921"
             ]
            ],
            "type": "contour"
           }
          ],
          "contourcarpet": [
           {
            "colorbar": {
             "outlinewidth": 0,
             "ticks": ""
            },
            "type": "contourcarpet"
           }
          ],
          "heatmap": [
           {
            "colorbar": {
             "outlinewidth": 0,
             "ticks": ""
            },
            "colorscale": [
             [
              0,
              "#0d0887"
             ],
             [
              0.1111111111111111,
              "#46039f"
             ],
             [
              0.2222222222222222,
              "#7201a8"
             ],
             [
              0.3333333333333333,
              "#9c179e"
             ],
             [
              0.4444444444444444,
              "#bd3786"
             ],
             [
              0.5555555555555556,
              "#d8576b"
             ],
             [
              0.6666666666666666,
              "#ed7953"
             ],
             [
              0.7777777777777778,
              "#fb9f3a"
             ],
             [
              0.8888888888888888,
              "#fdca26"
             ],
             [
              1,
              "#f0f921"
             ]
            ],
            "type": "heatmap"
           }
          ],
          "heatmapgl": [
           {
            "colorbar": {
             "outlinewidth": 0,
             "ticks": ""
            },
            "colorscale": [
             [
              0,
              "#0d0887"
             ],
             [
              0.1111111111111111,
              "#46039f"
             ],
             [
              0.2222222222222222,
              "#7201a8"
             ],
             [
              0.3333333333333333,
              "#9c179e"
             ],
             [
              0.4444444444444444,
              "#bd3786"
             ],
             [
              0.5555555555555556,
              "#d8576b"
             ],
             [
              0.6666666666666666,
              "#ed7953"
             ],
             [
              0.7777777777777778,
              "#fb9f3a"
             ],
             [
              0.8888888888888888,
              "#fdca26"
             ],
             [
              1,
              "#f0f921"
             ]
            ],
            "type": "heatmapgl"
           }
          ],
          "histogram": [
           {
            "marker": {
             "pattern": {
              "fillmode": "overlay",
              "size": 10,
              "solidity": 0.2
             }
            },
            "type": "histogram"
           }
          ],
          "histogram2d": [
           {
            "colorbar": {
             "outlinewidth": 0,
             "ticks": ""
            },
            "colorscale": [
             [
              0,
              "#0d0887"
             ],
             [
              0.1111111111111111,
              "#46039f"
             ],
             [
              0.2222222222222222,
              "#7201a8"
             ],
             [
              0.3333333333333333,
              "#9c179e"
             ],
             [
              0.4444444444444444,
              "#bd3786"
             ],
             [
              0.5555555555555556,
              "#d8576b"
             ],
             [
              0.6666666666666666,
              "#ed7953"
             ],
             [
              0.7777777777777778,
              "#fb9f3a"
             ],
             [
              0.8888888888888888,
              "#fdca26"
             ],
             [
              1,
              "#f0f921"
             ]
            ],
            "type": "histogram2d"
           }
          ],
          "histogram2dcontour": [
           {
            "colorbar": {
             "outlinewidth": 0,
             "ticks": ""
            },
            "colorscale": [
             [
              0,
              "#0d0887"
             ],
             [
              0.1111111111111111,
              "#46039f"
             ],
             [
              0.2222222222222222,
              "#7201a8"
             ],
             [
              0.3333333333333333,
              "#9c179e"
             ],
             [
              0.4444444444444444,
              "#bd3786"
             ],
             [
              0.5555555555555556,
              "#d8576b"
             ],
             [
              0.6666666666666666,
              "#ed7953"
             ],
             [
              0.7777777777777778,
              "#fb9f3a"
             ],
             [
              0.8888888888888888,
              "#fdca26"
             ],
             [
              1,
              "#f0f921"
             ]
            ],
            "type": "histogram2dcontour"
           }
          ],
          "mesh3d": [
           {
            "colorbar": {
             "outlinewidth": 0,
             "ticks": ""
            },
            "type": "mesh3d"
           }
          ],
          "parcoords": [
           {
            "line": {
             "colorbar": {
              "outlinewidth": 0,
              "ticks": ""
             }
            },
            "type": "parcoords"
           }
          ],
          "pie": [
           {
            "automargin": true,
            "type": "pie"
           }
          ],
          "scatter": [
           {
            "fillpattern": {
             "fillmode": "overlay",
             "size": 10,
             "solidity": 0.2
            },
            "type": "scatter"
           }
          ],
          "scatter3d": [
           {
            "line": {
             "colorbar": {
              "outlinewidth": 0,
              "ticks": ""
             }
            },
            "marker": {
             "colorbar": {
              "outlinewidth": 0,
              "ticks": ""
             }
            },
            "type": "scatter3d"
           }
          ],
          "scattercarpet": [
           {
            "marker": {
             "colorbar": {
              "outlinewidth": 0,
              "ticks": ""
             }
            },
            "type": "scattercarpet"
           }
          ],
          "scattergeo": [
           {
            "marker": {
             "colorbar": {
              "outlinewidth": 0,
              "ticks": ""
             }
            },
            "type": "scattergeo"
           }
          ],
          "scattergl": [
           {
            "marker": {
             "colorbar": {
              "outlinewidth": 0,
              "ticks": ""
             }
            },
            "type": "scattergl"
           }
          ],
          "scattermapbox": [
           {
            "marker": {
             "colorbar": {
              "outlinewidth": 0,
              "ticks": ""
             }
            },
            "type": "scattermapbox"
           }
          ],
          "scatterpolar": [
           {
            "marker": {
             "colorbar": {
              "outlinewidth": 0,
              "ticks": ""
             }
            },
            "type": "scatterpolar"
           }
          ],
          "scatterpolargl": [
           {
            "marker": {
             "colorbar": {
              "outlinewidth": 0,
              "ticks": ""
             }
            },
            "type": "scatterpolargl"
           }
          ],
          "scatterternary": [
           {
            "marker": {
             "colorbar": {
              "outlinewidth": 0,
              "ticks": ""
             }
            },
            "type": "scatterternary"
           }
          ],
          "surface": [
           {
            "colorbar": {
             "outlinewidth": 0,
             "ticks": ""
            },
            "colorscale": [
             [
              0,
              "#0d0887"
             ],
             [
              0.1111111111111111,
              "#46039f"
             ],
             [
              0.2222222222222222,
              "#7201a8"
             ],
             [
              0.3333333333333333,
              "#9c179e"
             ],
             [
              0.4444444444444444,
              "#bd3786"
             ],
             [
              0.5555555555555556,
              "#d8576b"
             ],
             [
              0.6666666666666666,
              "#ed7953"
             ],
             [
              0.7777777777777778,
              "#fb9f3a"
             ],
             [
              0.8888888888888888,
              "#fdca26"
             ],
             [
              1,
              "#f0f921"
             ]
            ],
            "type": "surface"
           }
          ],
          "table": [
           {
            "cells": {
             "fill": {
              "color": "#EBF0F8"
             },
             "line": {
              "color": "white"
             }
            },
            "header": {
             "fill": {
              "color": "#C8D4E3"
             },
             "line": {
              "color": "white"
             }
            },
            "type": "table"
           }
          ]
         },
         "layout": {
          "annotationdefaults": {
           "arrowcolor": "#2a3f5f",
           "arrowhead": 0,
           "arrowwidth": 1
          },
          "autotypenumbers": "strict",
          "coloraxis": {
           "colorbar": {
            "outlinewidth": 0,
            "ticks": ""
           }
          },
          "colorscale": {
           "diverging": [
            [
             0,
             "#8e0152"
            ],
            [
             0.1,
             "#c51b7d"
            ],
            [
             0.2,
             "#de77ae"
            ],
            [
             0.3,
             "#f1b6da"
            ],
            [
             0.4,
             "#fde0ef"
            ],
            [
             0.5,
             "#f7f7f7"
            ],
            [
             0.6,
             "#e6f5d0"
            ],
            [
             0.7,
             "#b8e186"
            ],
            [
             0.8,
             "#7fbc41"
            ],
            [
             0.9,
             "#4d9221"
            ],
            [
             1,
             "#276419"
            ]
           ],
           "sequential": [
            [
             0,
             "#0d0887"
            ],
            [
             0.1111111111111111,
             "#46039f"
            ],
            [
             0.2222222222222222,
             "#7201a8"
            ],
            [
             0.3333333333333333,
             "#9c179e"
            ],
            [
             0.4444444444444444,
             "#bd3786"
            ],
            [
             0.5555555555555556,
             "#d8576b"
            ],
            [
             0.6666666666666666,
             "#ed7953"
            ],
            [
             0.7777777777777778,
             "#fb9f3a"
            ],
            [
             0.8888888888888888,
             "#fdca26"
            ],
            [
             1,
             "#f0f921"
            ]
           ],
           "sequentialminus": [
            [
             0,
             "#0d0887"
            ],
            [
             0.1111111111111111,
             "#46039f"
            ],
            [
             0.2222222222222222,
             "#7201a8"
            ],
            [
             0.3333333333333333,
             "#9c179e"
            ],
            [
             0.4444444444444444,
             "#bd3786"
            ],
            [
             0.5555555555555556,
             "#d8576b"
            ],
            [
             0.6666666666666666,
             "#ed7953"
            ],
            [
             0.7777777777777778,
             "#fb9f3a"
            ],
            [
             0.8888888888888888,
             "#fdca26"
            ],
            [
             1,
             "#f0f921"
            ]
           ]
          },
          "colorway": [
           "#636efa",
           "#EF553B",
           "#00cc96",
           "#ab63fa",
           "#FFA15A",
           "#19d3f3",
           "#FF6692",
           "#B6E880",
           "#FF97FF",
           "#FECB52"
          ],
          "font": {
           "color": "#2a3f5f"
          },
          "geo": {
           "bgcolor": "white",
           "lakecolor": "white",
           "landcolor": "#E5ECF6",
           "showlakes": true,
           "showland": true,
           "subunitcolor": "white"
          },
          "hoverlabel": {
           "align": "left"
          },
          "hovermode": "closest",
          "mapbox": {
           "style": "light"
          },
          "paper_bgcolor": "white",
          "plot_bgcolor": "#E5ECF6",
          "polar": {
           "angularaxis": {
            "gridcolor": "white",
            "linecolor": "white",
            "ticks": ""
           },
           "bgcolor": "#E5ECF6",
           "radialaxis": {
            "gridcolor": "white",
            "linecolor": "white",
            "ticks": ""
           }
          },
          "scene": {
           "xaxis": {
            "backgroundcolor": "#E5ECF6",
            "gridcolor": "white",
            "gridwidth": 2,
            "linecolor": "white",
            "showbackground": true,
            "ticks": "",
            "zerolinecolor": "white"
           },
           "yaxis": {
            "backgroundcolor": "#E5ECF6",
            "gridcolor": "white",
            "gridwidth": 2,
            "linecolor": "white",
            "showbackground": true,
            "ticks": "",
            "zerolinecolor": "white"
           },
           "zaxis": {
            "backgroundcolor": "#E5ECF6",
            "gridcolor": "white",
            "gridwidth": 2,
            "linecolor": "white",
            "showbackground": true,
            "ticks": "",
            "zerolinecolor": "white"
           }
          },
          "shapedefaults": {
           "line": {
            "color": "#2a3f5f"
           }
          },
          "ternary": {
           "aaxis": {
            "gridcolor": "white",
            "linecolor": "white",
            "ticks": ""
           },
           "baxis": {
            "gridcolor": "white",
            "linecolor": "white",
            "ticks": ""
           },
           "bgcolor": "#E5ECF6",
           "caxis": {
            "gridcolor": "white",
            "linecolor": "white",
            "ticks": ""
           }
          },
          "title": {
           "x": 0.05
          },
          "xaxis": {
           "automargin": true,
           "gridcolor": "white",
           "linecolor": "white",
           "ticks": "",
           "title": {
            "standoff": 15
           },
           "zerolinecolor": "white",
           "zerolinewidth": 2
          },
          "yaxis": {
           "automargin": true,
           "gridcolor": "white",
           "linecolor": "white",
           "ticks": "",
           "title": {
            "standoff": 15
           },
           "zerolinecolor": "white",
           "zerolinewidth": 2
          }
         }
        },
        "title": {
         "text": "Histogram of Flight Times (hours, including 60min extra)"
        },
        "xaxis": {
         "anchor": "y",
         "domain": [
          0,
          1
         ],
         "title": {
          "text": "Flight Time (hours)"
         }
        },
        "yaxis": {
         "anchor": "x",
         "domain": [
          0,
          1
         ],
         "title": {
          "text": "Count"
         }
        }
       }
      }
     },
     "metadata": {},
     "output_type": "display_data"
    },
    {
     "data": {
      "application/vnd.plotly.v1+json": {
       "config": {
        "plotlyServerURL": "https://plot.ly"
       },
       "data": [
        {
         "alignmentgroup": "True",
         "bingroup": "x",
         "hovertemplate": "train_time_hours=%{x}<br>count=%{y}<extra></extra>",
         "legendgroup": "",
         "marker": {
          "color": "#636efa",
          "pattern": {
           "shape": ""
          }
         },
         "name": "",
         "nbinsx": 50,
         "offsetgroup": "",
         "orientation": "v",
         "showlegend": false,
         "type": "histogram",
         "x": [
          1.6666666666666667,
          1.8166666666666667,
          1.4166666666666667,
          1.8166666666666667,
          2.6666666666666665,
          1.3166666666666667,
          2.1666666666666665,
          1.3247222222222221,
          3.0833333333333335,
          2.35,
          1.8833333333333333,
          1.3252777777777778
         ],
         "xaxis": "x",
         "yaxis": "y"
        }
       ],
       "layout": {
        "barmode": "relative",
        "legend": {
         "tracegroupgap": 0
        },
        "margin": {
         "t": 60
        },
        "template": {
         "data": {
          "bar": [
           {
            "error_x": {
             "color": "#2a3f5f"
            },
            "error_y": {
             "color": "#2a3f5f"
            },
            "marker": {
             "line": {
              "color": "#E5ECF6",
              "width": 0.5
             },
             "pattern": {
              "fillmode": "overlay",
              "size": 10,
              "solidity": 0.2
             }
            },
            "type": "bar"
           }
          ],
          "barpolar": [
           {
            "marker": {
             "line": {
              "color": "#E5ECF6",
              "width": 0.5
             },
             "pattern": {
              "fillmode": "overlay",
              "size": 10,
              "solidity": 0.2
             }
            },
            "type": "barpolar"
           }
          ],
          "carpet": [
           {
            "aaxis": {
             "endlinecolor": "#2a3f5f",
             "gridcolor": "white",
             "linecolor": "white",
             "minorgridcolor": "white",
             "startlinecolor": "#2a3f5f"
            },
            "baxis": {
             "endlinecolor": "#2a3f5f",
             "gridcolor": "white",
             "linecolor": "white",
             "minorgridcolor": "white",
             "startlinecolor": "#2a3f5f"
            },
            "type": "carpet"
           }
          ],
          "choropleth": [
           {
            "colorbar": {
             "outlinewidth": 0,
             "ticks": ""
            },
            "type": "choropleth"
           }
          ],
          "contour": [
           {
            "colorbar": {
             "outlinewidth": 0,
             "ticks": ""
            },
            "colorscale": [
             [
              0,
              "#0d0887"
             ],
             [
              0.1111111111111111,
              "#46039f"
             ],
             [
              0.2222222222222222,
              "#7201a8"
             ],
             [
              0.3333333333333333,
              "#9c179e"
             ],
             [
              0.4444444444444444,
              "#bd3786"
             ],
             [
              0.5555555555555556,
              "#d8576b"
             ],
             [
              0.6666666666666666,
              "#ed7953"
             ],
             [
              0.7777777777777778,
              "#fb9f3a"
             ],
             [
              0.8888888888888888,
              "#fdca26"
             ],
             [
              1,
              "#f0f921"
             ]
            ],
            "type": "contour"
           }
          ],
          "contourcarpet": [
           {
            "colorbar": {
             "outlinewidth": 0,
             "ticks": ""
            },
            "type": "contourcarpet"
           }
          ],
          "heatmap": [
           {
            "colorbar": {
             "outlinewidth": 0,
             "ticks": ""
            },
            "colorscale": [
             [
              0,
              "#0d0887"
             ],
             [
              0.1111111111111111,
              "#46039f"
             ],
             [
              0.2222222222222222,
              "#7201a8"
             ],
             [
              0.3333333333333333,
              "#9c179e"
             ],
             [
              0.4444444444444444,
              "#bd3786"
             ],
             [
              0.5555555555555556,
              "#d8576b"
             ],
             [
              0.6666666666666666,
              "#ed7953"
             ],
             [
              0.7777777777777778,
              "#fb9f3a"
             ],
             [
              0.8888888888888888,
              "#fdca26"
             ],
             [
              1,
              "#f0f921"
             ]
            ],
            "type": "heatmap"
           }
          ],
          "heatmapgl": [
           {
            "colorbar": {
             "outlinewidth": 0,
             "ticks": ""
            },
            "colorscale": [
             [
              0,
              "#0d0887"
             ],
             [
              0.1111111111111111,
              "#46039f"
             ],
             [
              0.2222222222222222,
              "#7201a8"
             ],
             [
              0.3333333333333333,
              "#9c179e"
             ],
             [
              0.4444444444444444,
              "#bd3786"
             ],
             [
              0.5555555555555556,
              "#d8576b"
             ],
             [
              0.6666666666666666,
              "#ed7953"
             ],
             [
              0.7777777777777778,
              "#fb9f3a"
             ],
             [
              0.8888888888888888,
              "#fdca26"
             ],
             [
              1,
              "#f0f921"
             ]
            ],
            "type": "heatmapgl"
           }
          ],
          "histogram": [
           {
            "marker": {
             "pattern": {
              "fillmode": "overlay",
              "size": 10,
              "solidity": 0.2
             }
            },
            "type": "histogram"
           }
          ],
          "histogram2d": [
           {
            "colorbar": {
             "outlinewidth": 0,
             "ticks": ""
            },
            "colorscale": [
             [
              0,
              "#0d0887"
             ],
             [
              0.1111111111111111,
              "#46039f"
             ],
             [
              0.2222222222222222,
              "#7201a8"
             ],
             [
              0.3333333333333333,
              "#9c179e"
             ],
             [
              0.4444444444444444,
              "#bd3786"
             ],
             [
              0.5555555555555556,
              "#d8576b"
             ],
             [
              0.6666666666666666,
              "#ed7953"
             ],
             [
              0.7777777777777778,
              "#fb9f3a"
             ],
             [
              0.8888888888888888,
              "#fdca26"
             ],
             [
              1,
              "#f0f921"
             ]
            ],
            "type": "histogram2d"
           }
          ],
          "histogram2dcontour": [
           {
            "colorbar": {
             "outlinewidth": 0,
             "ticks": ""
            },
            "colorscale": [
             [
              0,
              "#0d0887"
             ],
             [
              0.1111111111111111,
              "#46039f"
             ],
             [
              0.2222222222222222,
              "#7201a8"
             ],
             [
              0.3333333333333333,
              "#9c179e"
             ],
             [
              0.4444444444444444,
              "#bd3786"
             ],
             [
              0.5555555555555556,
              "#d8576b"
             ],
             [
              0.6666666666666666,
              "#ed7953"
             ],
             [
              0.7777777777777778,
              "#fb9f3a"
             ],
             [
              0.8888888888888888,
              "#fdca26"
             ],
             [
              1,
              "#f0f921"
             ]
            ],
            "type": "histogram2dcontour"
           }
          ],
          "mesh3d": [
           {
            "colorbar": {
             "outlinewidth": 0,
             "ticks": ""
            },
            "type": "mesh3d"
           }
          ],
          "parcoords": [
           {
            "line": {
             "colorbar": {
              "outlinewidth": 0,
              "ticks": ""
             }
            },
            "type": "parcoords"
           }
          ],
          "pie": [
           {
            "automargin": true,
            "type": "pie"
           }
          ],
          "scatter": [
           {
            "fillpattern": {
             "fillmode": "overlay",
             "size": 10,
             "solidity": 0.2
            },
            "type": "scatter"
           }
          ],
          "scatter3d": [
           {
            "line": {
             "colorbar": {
              "outlinewidth": 0,
              "ticks": ""
             }
            },
            "marker": {
             "colorbar": {
              "outlinewidth": 0,
              "ticks": ""
             }
            },
            "type": "scatter3d"
           }
          ],
          "scattercarpet": [
           {
            "marker": {
             "colorbar": {
              "outlinewidth": 0,
              "ticks": ""
             }
            },
            "type": "scattercarpet"
           }
          ],
          "scattergeo": [
           {
            "marker": {
             "colorbar": {
              "outlinewidth": 0,
              "ticks": ""
             }
            },
            "type": "scattergeo"
           }
          ],
          "scattergl": [
           {
            "marker": {
             "colorbar": {
              "outlinewidth": 0,
              "ticks": ""
             }
            },
            "type": "scattergl"
           }
          ],
          "scattermapbox": [
           {
            "marker": {
             "colorbar": {
              "outlinewidth": 0,
              "ticks": ""
             }
            },
            "type": "scattermapbox"
           }
          ],
          "scatterpolar": [
           {
            "marker": {
             "colorbar": {
              "outlinewidth": 0,
              "ticks": ""
             }
            },
            "type": "scatterpolar"
           }
          ],
          "scatterpolargl": [
           {
            "marker": {
             "colorbar": {
              "outlinewidth": 0,
              "ticks": ""
             }
            },
            "type": "scatterpolargl"
           }
          ],
          "scatterternary": [
           {
            "marker": {
             "colorbar": {
              "outlinewidth": 0,
              "ticks": ""
             }
            },
            "type": "scatterternary"
           }
          ],
          "surface": [
           {
            "colorbar": {
             "outlinewidth": 0,
             "ticks": ""
            },
            "colorscale": [
             [
              0,
              "#0d0887"
             ],
             [
              0.1111111111111111,
              "#46039f"
             ],
             [
              0.2222222222222222,
              "#7201a8"
             ],
             [
              0.3333333333333333,
              "#9c179e"
             ],
             [
              0.4444444444444444,
              "#bd3786"
             ],
             [
              0.5555555555555556,
              "#d8576b"
             ],
             [
              0.6666666666666666,
              "#ed7953"
             ],
             [
              0.7777777777777778,
              "#fb9f3a"
             ],
             [
              0.8888888888888888,
              "#fdca26"
             ],
             [
              1,
              "#f0f921"
             ]
            ],
            "type": "surface"
           }
          ],
          "table": [
           {
            "cells": {
             "fill": {
              "color": "#EBF0F8"
             },
             "line": {
              "color": "white"
             }
            },
            "header": {
             "fill": {
              "color": "#C8D4E3"
             },
             "line": {
              "color": "white"
             }
            },
            "type": "table"
           }
          ]
         },
         "layout": {
          "annotationdefaults": {
           "arrowcolor": "#2a3f5f",
           "arrowhead": 0,
           "arrowwidth": 1
          },
          "autotypenumbers": "strict",
          "coloraxis": {
           "colorbar": {
            "outlinewidth": 0,
            "ticks": ""
           }
          },
          "colorscale": {
           "diverging": [
            [
             0,
             "#8e0152"
            ],
            [
             0.1,
             "#c51b7d"
            ],
            [
             0.2,
             "#de77ae"
            ],
            [
             0.3,
             "#f1b6da"
            ],
            [
             0.4,
             "#fde0ef"
            ],
            [
             0.5,
             "#f7f7f7"
            ],
            [
             0.6,
             "#e6f5d0"
            ],
            [
             0.7,
             "#b8e186"
            ],
            [
             0.8,
             "#7fbc41"
            ],
            [
             0.9,
             "#4d9221"
            ],
            [
             1,
             "#276419"
            ]
           ],
           "sequential": [
            [
             0,
             "#0d0887"
            ],
            [
             0.1111111111111111,
             "#46039f"
            ],
            [
             0.2222222222222222,
             "#7201a8"
            ],
            [
             0.3333333333333333,
             "#9c179e"
            ],
            [
             0.4444444444444444,
             "#bd3786"
            ],
            [
             0.5555555555555556,
             "#d8576b"
            ],
            [
             0.6666666666666666,
             "#ed7953"
            ],
            [
             0.7777777777777778,
             "#fb9f3a"
            ],
            [
             0.8888888888888888,
             "#fdca26"
            ],
            [
             1,
             "#f0f921"
            ]
           ],
           "sequentialminus": [
            [
             0,
             "#0d0887"
            ],
            [
             0.1111111111111111,
             "#46039f"
            ],
            [
             0.2222222222222222,
             "#7201a8"
            ],
            [
             0.3333333333333333,
             "#9c179e"
            ],
            [
             0.4444444444444444,
             "#bd3786"
            ],
            [
             0.5555555555555556,
             "#d8576b"
            ],
            [
             0.6666666666666666,
             "#ed7953"
            ],
            [
             0.7777777777777778,
             "#fb9f3a"
            ],
            [
             0.8888888888888888,
             "#fdca26"
            ],
            [
             1,
             "#f0f921"
            ]
           ]
          },
          "colorway": [
           "#636efa",
           "#EF553B",
           "#00cc96",
           "#ab63fa",
           "#FFA15A",
           "#19d3f3",
           "#FF6692",
           "#B6E880",
           "#FF97FF",
           "#FECB52"
          ],
          "font": {
           "color": "#2a3f5f"
          },
          "geo": {
           "bgcolor": "white",
           "lakecolor": "white",
           "landcolor": "#E5ECF6",
           "showlakes": true,
           "showland": true,
           "subunitcolor": "white"
          },
          "hoverlabel": {
           "align": "left"
          },
          "hovermode": "closest",
          "mapbox": {
           "style": "light"
          },
          "paper_bgcolor": "white",
          "plot_bgcolor": "#E5ECF6",
          "polar": {
           "angularaxis": {
            "gridcolor": "white",
            "linecolor": "white",
            "ticks": ""
           },
           "bgcolor": "#E5ECF6",
           "radialaxis": {
            "gridcolor": "white",
            "linecolor": "white",
            "ticks": ""
           }
          },
          "scene": {
           "xaxis": {
            "backgroundcolor": "#E5ECF6",
            "gridcolor": "white",
            "gridwidth": 2,
            "linecolor": "white",
            "showbackground": true,
            "ticks": "",
            "zerolinecolor": "white"
           },
           "yaxis": {
            "backgroundcolor": "#E5ECF6",
            "gridcolor": "white",
            "gridwidth": 2,
            "linecolor": "white",
            "showbackground": true,
            "ticks": "",
            "zerolinecolor": "white"
           },
           "zaxis": {
            "backgroundcolor": "#E5ECF6",
            "gridcolor": "white",
            "gridwidth": 2,
            "linecolor": "white",
            "showbackground": true,
            "ticks": "",
            "zerolinecolor": "white"
           }
          },
          "shapedefaults": {
           "line": {
            "color": "#2a3f5f"
           }
          },
          "ternary": {
           "aaxis": {
            "gridcolor": "white",
            "linecolor": "white",
            "ticks": ""
           },
           "baxis": {
            "gridcolor": "white",
            "linecolor": "white",
            "ticks": ""
           },
           "bgcolor": "#E5ECF6",
           "caxis": {
            "gridcolor": "white",
            "linecolor": "white",
            "ticks": ""
           }
          },
          "title": {
           "x": 0.05
          },
          "xaxis": {
           "automargin": true,
           "gridcolor": "white",
           "linecolor": "white",
           "ticks": "",
           "title": {
            "standoff": 15
           },
           "zerolinecolor": "white",
           "zerolinewidth": 2
          },
          "yaxis": {
           "automargin": true,
           "gridcolor": "white",
           "linecolor": "white",
           "ticks": "",
           "title": {
            "standoff": 15
           },
           "zerolinecolor": "white",
           "zerolinewidth": 2
          }
         }
        },
        "title": {
         "text": "Histogram of Train Times (hours)"
        },
        "xaxis": {
         "anchor": "y",
         "domain": [
          0,
          1
         ],
         "title": {
          "text": "Train Time (hours)"
         }
        },
        "yaxis": {
         "anchor": "x",
         "domain": [
          0,
          1
         ],
         "title": {
          "text": "Count"
         }
        }
       }
      }
     },
     "metadata": {},
     "output_type": "display_data"
    }
   ],
   "source": [
    "close_times = merged_data[(merged_data['flight_time_hours_with_extra'] - merged_data['train_time_hours']).abs() <= 1]\n",
    "\n",
    "# Stack flight and train times into a single DataFrame with an identifier\n",
    "stacked_times = pd.concat([\n",
    "    close_times[['flight_time_hours_with_extra']].rename(columns={'flight_time_hours_with_extra': 'Time'}).assign(Type='Flight'),\n",
    "    close_times[['train_time_hours']].rename(columns={'train_time_hours': 'Time'}).assign(Type='Train')\n",
    "])\n",
    "\n",
    "# Create the histogram using the stacked DataFrame\n",
    "histogram_fig = px.histogram(stacked_times, x='Time', color='Type', barmode='overlay', nbins=50)\n",
    "\n",
    "# Update the layout\n",
    "histogram_fig.update_layout(\n",
    "    title='Combined Histogram of Flight and Train Times (Hours)',\n",
    "    xaxis_title='Time (hours)',\n",
    "    yaxis_title='Count',\n",
    "    legend_title_text='Type'\n",
    ")\n",
    "\n",
    "# Show the plot\n",
    "histogram_fig.show()"
   ]
  },
  {
   "cell_type": "code",
   "execution_count": 28,
   "metadata": {},
   "outputs": [
    {
     "name": "stdout",
     "output_type": "stream",
     "text": [
      "Routes where train time is shorter than flight time:\n",
      "                  city1              city2  flight_time_plus_60  train_time\n",
      "292          Dusseldorf  Frankfurt am Main                110.0  109.000000\n",
      "351                Rome            Firenze                115.0   85.000000\n",
      "400   Frankfurt am Main         Dusseldorf                110.0  109.000000\n",
      "420   Frankfurt am Main          Stuttgart                110.0   79.000000\n",
      "734              Napoli               Rome                115.0   79.483333\n",
      "1053           Valencia             Madrid                122.5  113.000000\n"
     ]
    }
   ],
   "source": [
    "shorter_train_routes = merged_data[merged_data['train_time'] < merged_data['flight_time_plus_60']]\n",
    "\n",
    "# Check if there are any such routes\n",
    "if not shorter_train_routes.empty:\n",
    "    print(\"Routes where train time is shorter than flight time:\")\n",
    "    print(shorter_train_routes[['city1', 'city2', 'flight_time_plus_60', 'train_time']])\n",
    "else:\n",
    "    print(\"There are no routes where train time is shorter than flight time.\")"
   ]
  },
  {
   "attachments": {},
   "cell_type": "markdown",
   "metadata": {},
   "source": [
    "notes for High Speed trains\n",
    "\n",
    "Rome – Naples\t-> max speed: 300 km/h(186 mph)\n",
    "\n",
    "Florence – Rome -> max speed:\t250 km/h (155 mph)\n",
    "\n",
    "Cologne – Frankfurt -> max speed: 300 km/h (186 mph)\n",
    "\n",
    "Valencia - Madrid -> max speed: 300 km/h (186 mph)"
   ]
  },
  {
   "cell_type": "code",
   "execution_count": 17,
   "metadata": {},
   "outputs": [],
   "source": [
    "merged_data.to_csv('datasets/merged_df.csv')"
   ]
  },
  {
   "cell_type": "markdown",
   "metadata": {},
   "source": []
  },
  {
   "cell_type": "markdown",
   "metadata": {},
   "source": []
  }
 ],
 "metadata": {
  "kernelspec": {
   "display_name": "Python 3",
   "language": "python",
   "name": "python3"
  },
  "language_info": {
   "codemirror_mode": {
    "name": "ipython",
    "version": 3
   },
   "file_extension": ".py",
   "mimetype": "text/x-python",
   "name": "python",
   "nbconvert_exporter": "python",
   "pygments_lexer": "ipython3",
   "version": "3.9.6"
  },
  "orig_nbformat": 4,
  "vscode": {
   "interpreter": {
    "hash": "31f2aee4e71d21fbe5cf8b01ff0e069b9275f58929596ceb00d14d90e3e16cd6"
   }
  }
 },
 "nbformat": 4,
 "nbformat_minor": 2
}
