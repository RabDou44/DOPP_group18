{
 "cells": [
  {
   "attachments": {},
   "cell_type": "markdown",
   "metadata": {},
   "source": [
    "# Importing Libraries"
   ]
  },
  {
   "cell_type": "code",
   "execution_count": 49,
   "metadata": {
    "ExecuteTime": {
     "end_time": "2024-01-23T00:50:29.865219Z",
     "start_time": "2024-01-23T00:50:29.409426Z"
    },
    "collapsed": false
   },
   "outputs": [],
   "source": [
    "import pandas as pd"
   ]
  },
  {
   "cell_type": "code",
   "execution_count": 50,
   "metadata": {},
   "outputs": [],
   "source": [
    "import plotly.express as px\n",
    "import plotly.graph_objects as go"
   ]
  },
  {
   "cell_type": "code",
   "execution_count": null,
   "metadata": {},
   "outputs": [],
   "source": []
  },
  {
   "attachments": {},
   "cell_type": "markdown",
   "metadata": {},
   "source": [
    "# Preprocessing Data"
   ]
  },
  {
   "attachments": {},
   "cell_type": "markdown",
   "metadata": {},
   "source": [
    "#### Dataset Choice:\n",
    "\n",
    "    Chosen Datasets: We worked with datasets containing information on flight times, train times, and IATA airport codes, which we cretaed using API's.\n",
    "    Why?:  There was no accessiable data which contained all the information we need, therefore we had try to fetch it ourselves. These datasets were fundamental for comparing travel times between different modes of transportation and analyzing geographical distribution based on airports.\n",
    "\n",
    "#### Data Cleaning/Transformation & Handling missing values:\n",
    "\n",
    "    Actions Taken: We merged datasets on city pairs, converted time units (from seconds to minutes), handled NaN values, and renamed columns for clarity. There were very few missing values and we decided to exclude them since they were not significant compared to the amount of data we had. We focused more on finding reliable sources for API's to avoid such issues in the beigning.  We also excluded very few duplicate values.\n",
    "    Why?: These steps were necessary to make the data consistent and suitable for comparison and analysis, ensuring accuracy in our findings.\n"
   ]
  },
  {
   "cell_type": "code",
   "execution_count": 54,
   "metadata": {
    "ExecuteTime": {
     "end_time": "2024-01-23T00:52:28.265561Z",
     "start_time": "2024-01-23T00:52:28.199468Z"
    },
    "collapsed": false
   },
   "outputs": [
    {
     "data": {
      "text/html": [
       "<div>\n",
       "<style scoped>\n",
       "    .dataframe tbody tr th:only-of-type {\n",
       "        vertical-align: middle;\n",
       "    }\n",
       "\n",
       "    .dataframe tbody tr th {\n",
       "        vertical-align: top;\n",
       "    }\n",
       "\n",
       "    .dataframe thead th {\n",
       "        text-align: right;\n",
       "    }\n",
       "</style>\n",
       "<table border=\"1\" class=\"dataframe\">\n",
       "  <thead>\n",
       "    <tr style=\"text-align: right;\">\n",
       "      <th></th>\n",
       "      <th>route</th>\n",
       "      <th>time</th>\n",
       "      <th>departure airport</th>\n",
       "      <th>arrival airport</th>\n",
       "      <th>departure city</th>\n",
       "      <th>arrival city</th>\n",
       "    </tr>\n",
       "  </thead>\n",
       "  <tbody>\n",
       "    <tr>\n",
       "      <th>0</th>\n",
       "      <td>{'AAL', 'AMS'}</td>\n",
       "      <td>85.0</td>\n",
       "      <td>AAL</td>\n",
       "      <td>AMS</td>\n",
       "      <td>Aalborg</td>\n",
       "      <td>Amsterdam</td>\n",
       "    </tr>\n",
       "    <tr>\n",
       "      <th>1</th>\n",
       "      <td>{'AAQ', 'LED'}</td>\n",
       "      <td>170.0</td>\n",
       "      <td>AAQ</td>\n",
       "      <td>LED</td>\n",
       "      <td>Novorossiysk</td>\n",
       "      <td>Saint Petersburg</td>\n",
       "    </tr>\n",
       "    <tr>\n",
       "      <th>2</th>\n",
       "      <td>{'AMS', 'ABZ'}</td>\n",
       "      <td>85.0</td>\n",
       "      <td>AMS</td>\n",
       "      <td>ABZ</td>\n",
       "      <td>Amsterdam</td>\n",
       "      <td>Aberdeen</td>\n",
       "    </tr>\n",
       "    <tr>\n",
       "      <th>3</th>\n",
       "      <td>{'ABZ', 'LGW'}</td>\n",
       "      <td>95.0</td>\n",
       "      <td>ABZ</td>\n",
       "      <td>LGW</td>\n",
       "      <td>Aberdeen</td>\n",
       "      <td>London</td>\n",
       "    </tr>\n",
       "    <tr>\n",
       "      <th>4</th>\n",
       "      <td>{'ACE', 'AGP'}</td>\n",
       "      <td>130.0</td>\n",
       "      <td>ACE</td>\n",
       "      <td>AGP</td>\n",
       "      <td>Arrecife</td>\n",
       "      <td>Málaga</td>\n",
       "    </tr>\n",
       "    <tr>\n",
       "      <th>...</th>\n",
       "      <td>...</td>\n",
       "      <td>...</td>\n",
       "      <td>...</td>\n",
       "      <td>...</td>\n",
       "      <td>...</td>\n",
       "      <td>...</td>\n",
       "    </tr>\n",
       "    <tr>\n",
       "      <th>1333</th>\n",
       "      <td>{'ZRH', 'OTP'}</td>\n",
       "      <td>150.0</td>\n",
       "      <td>ZRH</td>\n",
       "      <td>OTP</td>\n",
       "      <td>Zürich</td>\n",
       "      <td>Bucharest</td>\n",
       "    </tr>\n",
       "    <tr>\n",
       "      <th>1334</th>\n",
       "      <td>{'ZRH', 'PRN'}</td>\n",
       "      <td>127.5</td>\n",
       "      <td>ZRH</td>\n",
       "      <td>PRN</td>\n",
       "      <td>Zürich</td>\n",
       "      <td>Pristina</td>\n",
       "    </tr>\n",
       "    <tr>\n",
       "      <th>1335</th>\n",
       "      <td>{'ZRH', 'RVN'}</td>\n",
       "      <td>205.0</td>\n",
       "      <td>ZRH</td>\n",
       "      <td>RVN</td>\n",
       "      <td>Zürich</td>\n",
       "      <td>Rovaniemi</td>\n",
       "    </tr>\n",
       "    <tr>\n",
       "      <th>1336</th>\n",
       "      <td>{'ZRH', 'STR'}</td>\n",
       "      <td>45.0</td>\n",
       "      <td>ZRH</td>\n",
       "      <td>STR</td>\n",
       "      <td>Zürich</td>\n",
       "      <td>Stuttgart</td>\n",
       "    </tr>\n",
       "    <tr>\n",
       "      <th>1337</th>\n",
       "      <td>{'ZTH', 'ATH'}</td>\n",
       "      <td>62.5</td>\n",
       "      <td>ZTH</td>\n",
       "      <td>ATH</td>\n",
       "      <td>Alykés</td>\n",
       "      <td>Athens</td>\n",
       "    </tr>\n",
       "  </tbody>\n",
       "</table>\n",
       "<p>1338 rows × 6 columns</p>\n",
       "</div>"
      ],
      "text/plain": [
       "               route   time departure airport arrival airport departure city  \\\n",
       "0     {'AAL', 'AMS'}   85.0               AAL             AMS        Aalborg   \n",
       "1     {'AAQ', 'LED'}  170.0               AAQ             LED   Novorossiysk   \n",
       "2     {'AMS', 'ABZ'}   85.0               AMS             ABZ      Amsterdam   \n",
       "3     {'ABZ', 'LGW'}   95.0               ABZ             LGW       Aberdeen   \n",
       "4     {'ACE', 'AGP'}  130.0               ACE             AGP       Arrecife   \n",
       "...              ...    ...               ...             ...            ...   \n",
       "1333  {'ZRH', 'OTP'}  150.0               ZRH             OTP         Zürich   \n",
       "1334  {'ZRH', 'PRN'}  127.5               ZRH             PRN         Zürich   \n",
       "1335  {'ZRH', 'RVN'}  205.0               ZRH             RVN         Zürich   \n",
       "1336  {'ZRH', 'STR'}   45.0               ZRH             STR         Zürich   \n",
       "1337  {'ZTH', 'ATH'}   62.5               ZTH             ATH         Alykés   \n",
       "\n",
       "          arrival city  \n",
       "0            Amsterdam  \n",
       "1     Saint Petersburg  \n",
       "2             Aberdeen  \n",
       "3               London  \n",
       "4               Málaga  \n",
       "...                ...  \n",
       "1333         Bucharest  \n",
       "1334          Pristina  \n",
       "1335         Rovaniemi  \n",
       "1336         Stuttgart  \n",
       "1337            Athens  \n",
       "\n",
       "[1338 rows x 6 columns]"
      ]
     },
     "execution_count": 54,
     "metadata": {},
     "output_type": "execute_result"
    }
   ],
   "source": [
    "flights = pd.read_csv('./datasets/final_flight_routes.csv')\n",
    "flights"
   ]
  },
  {
   "cell_type": "code",
   "execution_count": 56,
   "metadata": {
    "ExecuteTime": {
     "end_time": "2024-01-23T00:52:51.436971Z",
     "start_time": "2024-01-23T00:52:51.384857Z"
    }
   },
   "outputs": [
    {
     "data": {
      "text/html": [
       "<div>\n",
       "<style scoped>\n",
       "    .dataframe tbody tr th:only-of-type {\n",
       "        vertical-align: middle;\n",
       "    }\n",
       "\n",
       "    .dataframe tbody tr th {\n",
       "        vertical-align: top;\n",
       "    }\n",
       "\n",
       "    .dataframe thead th {\n",
       "        text-align: right;\n",
       "    }\n",
       "</style>\n",
       "<table border=\"1\" class=\"dataframe\">\n",
       "  <thead>\n",
       "    <tr style=\"text-align: right;\">\n",
       "      <th></th>\n",
       "      <th>departure city</th>\n",
       "      <th>arrival city</th>\n",
       "      <th>transit_distance [m]</th>\n",
       "      <th>transit_time [s]</th>\n",
       "    </tr>\n",
       "  </thead>\n",
       "  <tbody>\n",
       "    <tr>\n",
       "      <th>0</th>\n",
       "      <td>Arrecife</td>\n",
       "      <td>Barcelona</td>\n",
       "      <td>-1</td>\n",
       "      <td>-1</td>\n",
       "    </tr>\n",
       "    <tr>\n",
       "      <th>1</th>\n",
       "      <td>Alicante</td>\n",
       "      <td>Barcelona</td>\n",
       "      <td>525005</td>\n",
       "      <td>19080</td>\n",
       "    </tr>\n",
       "    <tr>\n",
       "      <th>2</th>\n",
       "      <td>Amsterdam</td>\n",
       "      <td>Barcelona</td>\n",
       "      <td>1627336</td>\n",
       "      <td>44340</td>\n",
       "    </tr>\n",
       "    <tr>\n",
       "      <th>3</th>\n",
       "      <td>Athens</td>\n",
       "      <td>Barcelona</td>\n",
       "      <td>-1</td>\n",
       "      <td>-1</td>\n",
       "    </tr>\n",
       "    <tr>\n",
       "      <th>4</th>\n",
       "      <td>Málaga</td>\n",
       "      <td>Barcelona</td>\n",
       "      <td>1110453</td>\n",
       "      <td>22380</td>\n",
       "    </tr>\n",
       "    <tr>\n",
       "      <th>...</th>\n",
       "      <td>...</td>\n",
       "      <td>...</td>\n",
       "      <td>...</td>\n",
       "      <td>...</td>\n",
       "    </tr>\n",
       "    <tr>\n",
       "      <th>1333</th>\n",
       "      <td>Vienna</td>\n",
       "      <td>Santander</td>\n",
       "      <td>-1</td>\n",
       "      <td>-1</td>\n",
       "    </tr>\n",
       "    <tr>\n",
       "      <th>1334</th>\n",
       "      <td>Vienna</td>\n",
       "      <td>Tromsø</td>\n",
       "      <td>3970237</td>\n",
       "      <td>197151</td>\n",
       "    </tr>\n",
       "    <tr>\n",
       "      <th>1335</th>\n",
       "      <td>Moscow</td>\n",
       "      <td>Groznyy</td>\n",
       "      <td>3147441</td>\n",
       "      <td>126600</td>\n",
       "    </tr>\n",
       "    <tr>\n",
       "      <th>1336</th>\n",
       "      <td>Moscow</td>\n",
       "      <td>Samara</td>\n",
       "      <td>1569205</td>\n",
       "      <td>52860</td>\n",
       "    </tr>\n",
       "    <tr>\n",
       "      <th>1337</th>\n",
       "      <td>Zürich</td>\n",
       "      <td>Rovaniemi</td>\n",
       "      <td>-1</td>\n",
       "      <td>-1</td>\n",
       "    </tr>\n",
       "  </tbody>\n",
       "</table>\n",
       "<p>1338 rows × 4 columns</p>\n",
       "</div>"
      ],
      "text/plain": [
       "     departure city arrival city  transit_distance [m]  transit_time [s]\n",
       "0          Arrecife    Barcelona                    -1                -1\n",
       "1          Alicante    Barcelona                525005             19080\n",
       "2         Amsterdam    Barcelona               1627336             44340\n",
       "3            Athens    Barcelona                    -1                -1\n",
       "4            Málaga    Barcelona               1110453             22380\n",
       "...             ...          ...                   ...               ...\n",
       "1333         Vienna    Santander                    -1                -1\n",
       "1334         Vienna       Tromsø               3970237            197151\n",
       "1335         Moscow      Groznyy               3147441            126600\n",
       "1336         Moscow       Samara               1569205             52860\n",
       "1337         Zürich    Rovaniemi                    -1                -1\n",
       "\n",
       "[1338 rows x 4 columns]"
      ]
     },
     "execution_count": 56,
     "metadata": {},
     "output_type": "execute_result"
    }
   ],
   "source": [
    "trains =  pd.read_csv('./datasets/train_distances3/combined_train_distances3.csv')\n",
    "trains"
   ]
  },
  {
   "cell_type": "code",
   "execution_count": 57,
   "metadata": {
    "ExecuteTime": {
     "end_time": "2024-01-23T00:53:18.206649Z",
     "start_time": "2024-01-23T00:53:18.173504Z"
    }
   },
   "outputs": [
    {
     "name": "stdout",
     "output_type": "stream",
     "text": [
      "Number of rows in flights: 1338\n",
      "Number of rows in trains: 1338\n"
     ]
    }
   ],
   "source": [
    "print(\"Number of rows in flights:\", flights.shape[0])\n",
    "print(\"Number of rows in trains:\", trains.shape[0])"
   ]
  },
  {
   "cell_type": "code",
   "execution_count": 58,
   "metadata": {
    "ExecuteTime": {
     "end_time": "2024-01-23T00:54:12.078014Z",
     "start_time": "2024-01-23T00:54:12.046263Z"
    }
   },
   "outputs": [
    {
     "name": "stdout",
     "output_type": "stream",
     "text": [
      "Number of rows in merged data: 1572\n"
     ]
    }
   ],
   "source": [
    "merged_data = pd.merge(flights, trains, on=['departure city', 'arrival city'])\n",
    "print(\"Number of rows in merged data:\", merged_data.shape[0])"
   ]
  },
  {
   "cell_type": "code",
   "execution_count": 59,
   "metadata": {
    "ExecuteTime": {
     "end_time": "2024-01-23T00:54:25.840079Z",
     "start_time": "2024-01-23T00:54:25.803644Z"
    },
    "collapsed": false
   },
   "outputs": [
    {
     "data": {
      "text/html": [
       "<div>\n",
       "<style scoped>\n",
       "    .dataframe tbody tr th:only-of-type {\n",
       "        vertical-align: middle;\n",
       "    }\n",
       "\n",
       "    .dataframe tbody tr th {\n",
       "        vertical-align: top;\n",
       "    }\n",
       "\n",
       "    .dataframe thead th {\n",
       "        text-align: right;\n",
       "    }\n",
       "</style>\n",
       "<table border=\"1\" class=\"dataframe\">\n",
       "  <thead>\n",
       "    <tr style=\"text-align: right;\">\n",
       "      <th></th>\n",
       "      <th>route</th>\n",
       "      <th>time</th>\n",
       "      <th>departure airport</th>\n",
       "      <th>arrival airport</th>\n",
       "      <th>departure city</th>\n",
       "      <th>arrival city</th>\n",
       "      <th>transit_distance [m]</th>\n",
       "      <th>transit_time [s]</th>\n",
       "    </tr>\n",
       "  </thead>\n",
       "  <tbody>\n",
       "    <tr>\n",
       "      <th>0</th>\n",
       "      <td>{'AAL', 'AMS'}</td>\n",
       "      <td>85.0</td>\n",
       "      <td>AAL</td>\n",
       "      <td>AMS</td>\n",
       "      <td>Aalborg</td>\n",
       "      <td>Amsterdam</td>\n",
       "      <td>1014627</td>\n",
       "      <td>43500</td>\n",
       "    </tr>\n",
       "    <tr>\n",
       "      <th>1</th>\n",
       "      <td>{'AAQ', 'LED'}</td>\n",
       "      <td>170.0</td>\n",
       "      <td>AAQ</td>\n",
       "      <td>LED</td>\n",
       "      <td>Novorossiysk</td>\n",
       "      <td>Saint Petersburg</td>\n",
       "      <td>2538536</td>\n",
       "      <td>110220</td>\n",
       "    </tr>\n",
       "    <tr>\n",
       "      <th>2</th>\n",
       "      <td>{'AAQ', 'LED'}</td>\n",
       "      <td>170.0</td>\n",
       "      <td>AAQ</td>\n",
       "      <td>LED</td>\n",
       "      <td>Novorossiysk</td>\n",
       "      <td>Saint Petersburg</td>\n",
       "      <td>2538536</td>\n",
       "      <td>110220</td>\n",
       "    </tr>\n",
       "    <tr>\n",
       "      <th>3</th>\n",
       "      <td>{'GDZ', 'LED'}</td>\n",
       "      <td>180.0</td>\n",
       "      <td>GDZ</td>\n",
       "      <td>LED</td>\n",
       "      <td>Novorossiysk</td>\n",
       "      <td>Saint Petersburg</td>\n",
       "      <td>2538536</td>\n",
       "      <td>110220</td>\n",
       "    </tr>\n",
       "    <tr>\n",
       "      <th>4</th>\n",
       "      <td>{'GDZ', 'LED'}</td>\n",
       "      <td>180.0</td>\n",
       "      <td>GDZ</td>\n",
       "      <td>LED</td>\n",
       "      <td>Novorossiysk</td>\n",
       "      <td>Saint Petersburg</td>\n",
       "      <td>2538536</td>\n",
       "      <td>110220</td>\n",
       "    </tr>\n",
       "    <tr>\n",
       "      <th>...</th>\n",
       "      <td>...</td>\n",
       "      <td>...</td>\n",
       "      <td>...</td>\n",
       "      <td>...</td>\n",
       "      <td>...</td>\n",
       "      <td>...</td>\n",
       "      <td>...</td>\n",
       "      <td>...</td>\n",
       "    </tr>\n",
       "    <tr>\n",
       "      <th>1567</th>\n",
       "      <td>{'ZRH', 'OTP'}</td>\n",
       "      <td>150.0</td>\n",
       "      <td>ZRH</td>\n",
       "      <td>OTP</td>\n",
       "      <td>Zürich</td>\n",
       "      <td>Bucharest</td>\n",
       "      <td>1923309</td>\n",
       "      <td>95580</td>\n",
       "    </tr>\n",
       "    <tr>\n",
       "      <th>1568</th>\n",
       "      <td>{'ZRH', 'PRN'}</td>\n",
       "      <td>127.5</td>\n",
       "      <td>ZRH</td>\n",
       "      <td>PRN</td>\n",
       "      <td>Zürich</td>\n",
       "      <td>Pristina</td>\n",
       "      <td>1622886</td>\n",
       "      <td>254489</td>\n",
       "    </tr>\n",
       "    <tr>\n",
       "      <th>1569</th>\n",
       "      <td>{'ZRH', 'RVN'}</td>\n",
       "      <td>205.0</td>\n",
       "      <td>ZRH</td>\n",
       "      <td>RVN</td>\n",
       "      <td>Zürich</td>\n",
       "      <td>Rovaniemi</td>\n",
       "      <td>-1</td>\n",
       "      <td>-1</td>\n",
       "    </tr>\n",
       "    <tr>\n",
       "      <th>1570</th>\n",
       "      <td>{'ZRH', 'STR'}</td>\n",
       "      <td>45.0</td>\n",
       "      <td>ZRH</td>\n",
       "      <td>STR</td>\n",
       "      <td>Zürich</td>\n",
       "      <td>Stuttgart</td>\n",
       "      <td>418160</td>\n",
       "      <td>15960</td>\n",
       "    </tr>\n",
       "    <tr>\n",
       "      <th>1571</th>\n",
       "      <td>{'ZTH', 'ATH'}</td>\n",
       "      <td>62.5</td>\n",
       "      <td>ZTH</td>\n",
       "      <td>ATH</td>\n",
       "      <td>Alykés</td>\n",
       "      <td>Athens</td>\n",
       "      <td>-1</td>\n",
       "      <td>-1</td>\n",
       "    </tr>\n",
       "  </tbody>\n",
       "</table>\n",
       "<p>1572 rows × 8 columns</p>\n",
       "</div>"
      ],
      "text/plain": [
       "               route   time departure airport arrival airport departure city  \\\n",
       "0     {'AAL', 'AMS'}   85.0               AAL             AMS        Aalborg   \n",
       "1     {'AAQ', 'LED'}  170.0               AAQ             LED   Novorossiysk   \n",
       "2     {'AAQ', 'LED'}  170.0               AAQ             LED   Novorossiysk   \n",
       "3     {'GDZ', 'LED'}  180.0               GDZ             LED   Novorossiysk   \n",
       "4     {'GDZ', 'LED'}  180.0               GDZ             LED   Novorossiysk   \n",
       "...              ...    ...               ...             ...            ...   \n",
       "1567  {'ZRH', 'OTP'}  150.0               ZRH             OTP         Zürich   \n",
       "1568  {'ZRH', 'PRN'}  127.5               ZRH             PRN         Zürich   \n",
       "1569  {'ZRH', 'RVN'}  205.0               ZRH             RVN         Zürich   \n",
       "1570  {'ZRH', 'STR'}   45.0               ZRH             STR         Zürich   \n",
       "1571  {'ZTH', 'ATH'}   62.5               ZTH             ATH         Alykés   \n",
       "\n",
       "          arrival city  transit_distance [m]  transit_time [s]  \n",
       "0            Amsterdam               1014627             43500  \n",
       "1     Saint Petersburg               2538536            110220  \n",
       "2     Saint Petersburg               2538536            110220  \n",
       "3     Saint Petersburg               2538536            110220  \n",
       "4     Saint Petersburg               2538536            110220  \n",
       "...                ...                   ...               ...  \n",
       "1567         Bucharest               1923309             95580  \n",
       "1568          Pristina               1622886            254489  \n",
       "1569         Rovaniemi                    -1                -1  \n",
       "1570         Stuttgart                418160             15960  \n",
       "1571            Athens                    -1                -1  \n",
       "\n",
       "[1572 rows x 8 columns]"
      ]
     },
     "execution_count": 59,
     "metadata": {},
     "output_type": "execute_result"
    }
   ],
   "source": [
    "merged_data"
   ]
  },
  {
   "attachments": {},
   "cell_type": "markdown",
   "metadata": {},
   "source": [
    "## Removing duplicates"
   ]
  },
  {
   "cell_type": "code",
   "execution_count": 60,
   "metadata": {},
   "outputs": [
    {
     "name": "stdout",
     "output_type": "stream",
     "text": [
      "Number of rows after removing duplicates: 1338\n",
      "<class 'pandas.core.frame.DataFrame'>\n",
      "Int64Index: 1338 entries, 0 to 1571\n",
      "Data columns (total 8 columns):\n",
      " #   Column                Non-Null Count  Dtype  \n",
      "---  ------                --------------  -----  \n",
      " 0   route                 1338 non-null   object \n",
      " 1   time                  1338 non-null   float64\n",
      " 2   departure airport     1338 non-null   object \n",
      " 3   arrival airport       1338 non-null   object \n",
      " 4   departure city        1338 non-null   object \n",
      " 5   arrival city          1338 non-null   object \n",
      " 6   transit_distance [m]  1338 non-null   int64  \n",
      " 7   transit_time [s]      1338 non-null   int64  \n",
      "dtypes: float64(1), int64(2), object(5)\n",
      "memory usage: 94.1+ KB\n"
     ]
    }
   ],
   "source": [
    "cleaned_data = merged_data.drop_duplicates()\n",
    "print(\"Number of rows after removing duplicates:\", cleaned_data.shape[0])\n",
    "cleaned_data.info()"
   ]
  },
  {
   "cell_type": "code",
   "execution_count": 61,
   "metadata": {},
   "outputs": [
    {
     "data": {
      "text/html": [
       "<div>\n",
       "<style scoped>\n",
       "    .dataframe tbody tr th:only-of-type {\n",
       "        vertical-align: middle;\n",
       "    }\n",
       "\n",
       "    .dataframe tbody tr th {\n",
       "        vertical-align: top;\n",
       "    }\n",
       "\n",
       "    .dataframe thead th {\n",
       "        text-align: right;\n",
       "    }\n",
       "</style>\n",
       "<table border=\"1\" class=\"dataframe\">\n",
       "  <thead>\n",
       "    <tr style=\"text-align: right;\">\n",
       "      <th></th>\n",
       "      <th>time</th>\n",
       "      <th>transit_distance [m]</th>\n",
       "      <th>transit_time [s]</th>\n",
       "    </tr>\n",
       "  </thead>\n",
       "  <tbody>\n",
       "    <tr>\n",
       "      <th>count</th>\n",
       "      <td>1338.000000</td>\n",
       "      <td>1.338000e+03</td>\n",
       "      <td>1338.000000</td>\n",
       "    </tr>\n",
       "    <tr>\n",
       "      <th>mean</th>\n",
       "      <td>127.338254</td>\n",
       "      <td>1.356371e+06</td>\n",
       "      <td>60274.839312</td>\n",
       "    </tr>\n",
       "    <tr>\n",
       "      <th>std</th>\n",
       "      <td>51.661933</td>\n",
       "      <td>1.119806e+06</td>\n",
       "      <td>54533.294224</td>\n",
       "    </tr>\n",
       "    <tr>\n",
       "      <th>min</th>\n",
       "      <td>10.000000</td>\n",
       "      <td>-1.000000e+00</td>\n",
       "      <td>-1.000000</td>\n",
       "    </tr>\n",
       "    <tr>\n",
       "      <th>25%</th>\n",
       "      <td>90.000000</td>\n",
       "      <td>4.877642e+05</td>\n",
       "      <td>15711.000000</td>\n",
       "    </tr>\n",
       "    <tr>\n",
       "      <th>50%</th>\n",
       "      <td>120.000000</td>\n",
       "      <td>1.229288e+06</td>\n",
       "      <td>45990.000000</td>\n",
       "    </tr>\n",
       "    <tr>\n",
       "      <th>75%</th>\n",
       "      <td>160.000000</td>\n",
       "      <td>2.069596e+06</td>\n",
       "      <td>95055.000000</td>\n",
       "    </tr>\n",
       "    <tr>\n",
       "      <th>max</th>\n",
       "      <td>402.500000</td>\n",
       "      <td>8.877409e+06</td>\n",
       "      <td>301620.000000</td>\n",
       "    </tr>\n",
       "  </tbody>\n",
       "</table>\n",
       "</div>"
      ],
      "text/plain": [
       "              time  transit_distance [m]  transit_time [s]\n",
       "count  1338.000000          1.338000e+03       1338.000000\n",
       "mean    127.338254          1.356371e+06      60274.839312\n",
       "std      51.661933          1.119806e+06      54533.294224\n",
       "min      10.000000         -1.000000e+00         -1.000000\n",
       "25%      90.000000          4.877642e+05      15711.000000\n",
       "50%     120.000000          1.229288e+06      45990.000000\n",
       "75%     160.000000          2.069596e+06      95055.000000\n",
       "max     402.500000          8.877409e+06     301620.000000"
      ]
     },
     "execution_count": 61,
     "metadata": {},
     "output_type": "execute_result"
    }
   ],
   "source": [
    "cleaned_data.describe()"
   ]
  },
  {
   "attachments": {},
   "cell_type": "markdown",
   "metadata": {},
   "source": [
    "### Removing -1 (NaN) values for distance & time"
   ]
  },
  {
   "cell_type": "code",
   "execution_count": 117,
   "metadata": {},
   "outputs": [
    {
     "data": {
      "text/html": [
       "<div>\n",
       "<style scoped>\n",
       "    .dataframe tbody tr th:only-of-type {\n",
       "        vertical-align: middle;\n",
       "    }\n",
       "\n",
       "    .dataframe tbody tr th {\n",
       "        vertical-align: top;\n",
       "    }\n",
       "\n",
       "    .dataframe thead th {\n",
       "        text-align: right;\n",
       "    }\n",
       "</style>\n",
       "<table border=\"1\" class=\"dataframe\">\n",
       "  <thead>\n",
       "    <tr style=\"text-align: right;\">\n",
       "      <th></th>\n",
       "      <th>route</th>\n",
       "      <th>time</th>\n",
       "      <th>departure airport</th>\n",
       "      <th>arrival airport</th>\n",
       "      <th>departure city</th>\n",
       "      <th>arrival city</th>\n",
       "      <th>transit_distance [m]</th>\n",
       "      <th>transit_time [s]</th>\n",
       "    </tr>\n",
       "  </thead>\n",
       "  <tbody>\n",
       "    <tr>\n",
       "      <th>0</th>\n",
       "      <td>{'AAL', 'AMS'}</td>\n",
       "      <td>85.0</td>\n",
       "      <td>AAL</td>\n",
       "      <td>AMS</td>\n",
       "      <td>Aalborg</td>\n",
       "      <td>Amsterdam</td>\n",
       "      <td>1014627</td>\n",
       "      <td>43500</td>\n",
       "    </tr>\n",
       "    <tr>\n",
       "      <th>1</th>\n",
       "      <td>{'AAQ', 'LED'}</td>\n",
       "      <td>170.0</td>\n",
       "      <td>AAQ</td>\n",
       "      <td>LED</td>\n",
       "      <td>Novorossiysk</td>\n",
       "      <td>Saint Petersburg</td>\n",
       "      <td>2538536</td>\n",
       "      <td>110220</td>\n",
       "    </tr>\n",
       "    <tr>\n",
       "      <th>3</th>\n",
       "      <td>{'GDZ', 'LED'}</td>\n",
       "      <td>180.0</td>\n",
       "      <td>GDZ</td>\n",
       "      <td>LED</td>\n",
       "      <td>Novorossiysk</td>\n",
       "      <td>Saint Petersburg</td>\n",
       "      <td>2538536</td>\n",
       "      <td>110220</td>\n",
       "    </tr>\n",
       "    <tr>\n",
       "      <th>5</th>\n",
       "      <td>{'AMS', 'ABZ'}</td>\n",
       "      <td>85.0</td>\n",
       "      <td>AMS</td>\n",
       "      <td>ABZ</td>\n",
       "      <td>Amsterdam</td>\n",
       "      <td>Aberdeen</td>\n",
       "      <td>1435877</td>\n",
       "      <td>46020</td>\n",
       "    </tr>\n",
       "    <tr>\n",
       "      <th>6</th>\n",
       "      <td>{'ABZ', 'LGW'}</td>\n",
       "      <td>95.0</td>\n",
       "      <td>ABZ</td>\n",
       "      <td>LGW</td>\n",
       "      <td>Aberdeen</td>\n",
       "      <td>London</td>\n",
       "      <td>841037</td>\n",
       "      <td>27540</td>\n",
       "    </tr>\n",
       "    <tr>\n",
       "      <th>...</th>\n",
       "      <td>...</td>\n",
       "      <td>...</td>\n",
       "      <td>...</td>\n",
       "      <td>...</td>\n",
       "      <td>...</td>\n",
       "      <td>...</td>\n",
       "      <td>...</td>\n",
       "      <td>...</td>\n",
       "    </tr>\n",
       "    <tr>\n",
       "      <th>1565</th>\n",
       "      <td>{'ZRH', 'MUC'}</td>\n",
       "      <td>55.0</td>\n",
       "      <td>ZRH</td>\n",
       "      <td>MUC</td>\n",
       "      <td>Zürich</td>\n",
       "      <td>Munich</td>\n",
       "      <td>331898</td>\n",
       "      <td>12660</td>\n",
       "    </tr>\n",
       "    <tr>\n",
       "      <th>1566</th>\n",
       "      <td>{'ZRH', 'OPO'}</td>\n",
       "      <td>160.0</td>\n",
       "      <td>ZRH</td>\n",
       "      <td>OPO</td>\n",
       "      <td>Zürich</td>\n",
       "      <td>Porto</td>\n",
       "      <td>2960675</td>\n",
       "      <td>191400</td>\n",
       "    </tr>\n",
       "    <tr>\n",
       "      <th>1567</th>\n",
       "      <td>{'ZRH', 'OTP'}</td>\n",
       "      <td>150.0</td>\n",
       "      <td>ZRH</td>\n",
       "      <td>OTP</td>\n",
       "      <td>Zürich</td>\n",
       "      <td>Bucharest</td>\n",
       "      <td>1923309</td>\n",
       "      <td>95580</td>\n",
       "    </tr>\n",
       "    <tr>\n",
       "      <th>1568</th>\n",
       "      <td>{'ZRH', 'PRN'}</td>\n",
       "      <td>127.5</td>\n",
       "      <td>ZRH</td>\n",
       "      <td>PRN</td>\n",
       "      <td>Zürich</td>\n",
       "      <td>Pristina</td>\n",
       "      <td>1622886</td>\n",
       "      <td>254489</td>\n",
       "    </tr>\n",
       "    <tr>\n",
       "      <th>1570</th>\n",
       "      <td>{'ZRH', 'STR'}</td>\n",
       "      <td>45.0</td>\n",
       "      <td>ZRH</td>\n",
       "      <td>STR</td>\n",
       "      <td>Zürich</td>\n",
       "      <td>Stuttgart</td>\n",
       "      <td>418160</td>\n",
       "      <td>15960</td>\n",
       "    </tr>\n",
       "  </tbody>\n",
       "</table>\n",
       "<p>1083 rows × 8 columns</p>\n",
       "</div>"
      ],
      "text/plain": [
       "               route   time departure airport arrival airport departure city  \\\n",
       "0     {'AAL', 'AMS'}   85.0               AAL             AMS        Aalborg   \n",
       "1     {'AAQ', 'LED'}  170.0               AAQ             LED   Novorossiysk   \n",
       "3     {'GDZ', 'LED'}  180.0               GDZ             LED   Novorossiysk   \n",
       "5     {'AMS', 'ABZ'}   85.0               AMS             ABZ      Amsterdam   \n",
       "6     {'ABZ', 'LGW'}   95.0               ABZ             LGW       Aberdeen   \n",
       "...              ...    ...               ...             ...            ...   \n",
       "1565  {'ZRH', 'MUC'}   55.0               ZRH             MUC         Zürich   \n",
       "1566  {'ZRH', 'OPO'}  160.0               ZRH             OPO         Zürich   \n",
       "1567  {'ZRH', 'OTP'}  150.0               ZRH             OTP         Zürich   \n",
       "1568  {'ZRH', 'PRN'}  127.5               ZRH             PRN         Zürich   \n",
       "1570  {'ZRH', 'STR'}   45.0               ZRH             STR         Zürich   \n",
       "\n",
       "          arrival city  transit_distance [m]  transit_time [s]  \n",
       "0            Amsterdam               1014627             43500  \n",
       "1     Saint Petersburg               2538536            110220  \n",
       "3     Saint Petersburg               2538536            110220  \n",
       "5             Aberdeen               1435877             46020  \n",
       "6               London                841037             27540  \n",
       "...                ...                   ...               ...  \n",
       "1565            Munich                331898             12660  \n",
       "1566             Porto               2960675            191400  \n",
       "1567         Bucharest               1923309             95580  \n",
       "1568          Pristina               1622886            254489  \n",
       "1570         Stuttgart                418160             15960  \n",
       "\n",
       "[1083 rows x 8 columns]"
      ]
     },
     "execution_count": 117,
     "metadata": {},
     "output_type": "execute_result"
    }
   ],
   "source": [
    "filtered_data = cleaned_data[cleaned_data['transit_distance [m]'] != -1]\n",
    "cleaned_df = filtered_data[filtered_data['transit_time [s]'] != -1]\n",
    "cleaned_df\n",
    "cleaned_df.to_csv('datasets/merged_df.csv')\n",
    "cleaned_df"
   ]
  },
  {
   "cell_type": "code",
   "execution_count": 118,
   "metadata": {},
   "outputs": [
    {
     "name": "stdout",
     "output_type": "stream",
     "text": [
      "Total NaN values in merged_data: 0\n"
     ]
    }
   ],
   "source": [
    "total_nans = merged_data.isna().sum().sum()\n",
    "print(f\"Total NaN values in merged_data: {total_nans}\")"
   ]
  },
  {
   "attachments": {},
   "cell_type": "markdown",
   "metadata": {},
   "source": [
    "## Preprocessing Data"
   ]
  },
  {
   "cell_type": "code",
   "execution_count": 63,
   "metadata": {},
   "outputs": [],
   "source": [
    "filtered_data = filtered_data.rename(columns={\n",
    "    'time': 'flight_time', \n",
    "    'transit_time [s]': 'train_time', \n",
    "    'transit_distance [m]': 'train_distance'\n",
    "})\n"
   ]
  },
  {
   "cell_type": "code",
   "execution_count": 64,
   "metadata": {},
   "outputs": [
    {
     "name": "stdout",
     "output_type": "stream",
     "text": [
      "            route  flight_time departure airport arrival airport  \\\n",
      "0  {'AAL', 'AMS'}         85.0               AAL             AMS   \n",
      "1  {'AAQ', 'LED'}        170.0               AAQ             LED   \n",
      "3  {'GDZ', 'LED'}        180.0               GDZ             LED   \n",
      "5  {'AMS', 'ABZ'}         85.0               AMS             ABZ   \n",
      "6  {'ABZ', 'LGW'}         95.0               ABZ             LGW   \n",
      "\n",
      "  departure city      arrival city  train_distance  train_time  \n",
      "0        Aalborg         Amsterdam         1014627       725.0  \n",
      "1   Novorossiysk  Saint Petersburg         2538536      1837.0  \n",
      "3   Novorossiysk  Saint Petersburg         2538536      1837.0  \n",
      "5      Amsterdam          Aberdeen         1435877       767.0  \n",
      "6       Aberdeen            London          841037       459.0  \n"
     ]
    }
   ],
   "source": [
    "# Convert train time from seconds to minutes using .loc\n",
    "filtered_data.loc[:, 'train_time'] = filtered_data['train_time'] / 60\n",
    "\n",
    "print(filtered_data.head())"
   ]
  },
  {
   "attachments": {},
   "cell_type": "markdown",
   "metadata": {},
   "source": [
    "### Adding country code for each city (arrival & departure) and their geo-coordinates(longitude & latitude)"
   ]
  },
  {
   "cell_type": "code",
   "execution_count": 65,
   "metadata": {},
   "outputs": [],
   "source": [
    "iata_codes_country = pd.read_csv('/Users/slavicagjorgieva/Desktop/TU/WS23/DOPP/Ex2/DOPP_group18/datasets/fixed-airports-codes.csv')"
   ]
  },
  {
   "cell_type": "code",
   "execution_count": 81,
   "metadata": {},
   "outputs": [
    {
     "data": {
      "text/html": [
       "<div>\n",
       "<style scoped>\n",
       "    .dataframe tbody tr th:only-of-type {\n",
       "        vertical-align: middle;\n",
       "    }\n",
       "\n",
       "    .dataframe tbody tr th {\n",
       "        vertical-align: top;\n",
       "    }\n",
       "\n",
       "    .dataframe thead th {\n",
       "        text-align: right;\n",
       "    }\n",
       "</style>\n",
       "<table border=\"1\" class=\"dataframe\">\n",
       "  <thead>\n",
       "    <tr style=\"text-align: right;\">\n",
       "      <th></th>\n",
       "      <th>id</th>\n",
       "      <th>ident</th>\n",
       "      <th>type</th>\n",
       "      <th>name</th>\n",
       "      <th>latitude_deg</th>\n",
       "      <th>longitude_deg</th>\n",
       "      <th>elevation_ft</th>\n",
       "      <th>continent</th>\n",
       "      <th>iso_country</th>\n",
       "      <th>iso_region</th>\n",
       "      <th>municipality</th>\n",
       "      <th>scheduled_service</th>\n",
       "      <th>gps_code</th>\n",
       "      <th>iata_code</th>\n",
       "      <th>local_code</th>\n",
       "      <th>home_link</th>\n",
       "      <th>wikipedia_link</th>\n",
       "      <th>keywords</th>\n",
       "    </tr>\n",
       "  </thead>\n",
       "  <tbody>\n",
       "    <tr>\n",
       "      <th>0</th>\n",
       "      <td>6523</td>\n",
       "      <td>00A</td>\n",
       "      <td>heliport</td>\n",
       "      <td>Total RF Heliport</td>\n",
       "      <td>40.070985</td>\n",
       "      <td>-74.933689</td>\n",
       "      <td>11.0</td>\n",
       "      <td>NaN</td>\n",
       "      <td>US</td>\n",
       "      <td>US-PA</td>\n",
       "      <td>Bensalem</td>\n",
       "      <td>no</td>\n",
       "      <td>K00A</td>\n",
       "      <td>NaN</td>\n",
       "      <td>00A</td>\n",
       "      <td>https://www.penndot.pa.gov/TravelInPA/airports...</td>\n",
       "      <td>NaN</td>\n",
       "      <td>NaN</td>\n",
       "    </tr>\n",
       "    <tr>\n",
       "      <th>1</th>\n",
       "      <td>323361</td>\n",
       "      <td>00AA</td>\n",
       "      <td>small_airport</td>\n",
       "      <td>Aero B Ranch Airport</td>\n",
       "      <td>38.704022</td>\n",
       "      <td>-101.473911</td>\n",
       "      <td>3435.0</td>\n",
       "      <td>NaN</td>\n",
       "      <td>US</td>\n",
       "      <td>US-KS</td>\n",
       "      <td>Leoti</td>\n",
       "      <td>no</td>\n",
       "      <td>00AA</td>\n",
       "      <td>NaN</td>\n",
       "      <td>00AA</td>\n",
       "      <td>NaN</td>\n",
       "      <td>NaN</td>\n",
       "      <td>NaN</td>\n",
       "    </tr>\n",
       "    <tr>\n",
       "      <th>2</th>\n",
       "      <td>6524</td>\n",
       "      <td>00AK</td>\n",
       "      <td>small_airport</td>\n",
       "      <td>Lowell Field</td>\n",
       "      <td>59.947733</td>\n",
       "      <td>-151.692524</td>\n",
       "      <td>450.0</td>\n",
       "      <td>NaN</td>\n",
       "      <td>US</td>\n",
       "      <td>US-AK</td>\n",
       "      <td>Anchor Point</td>\n",
       "      <td>no</td>\n",
       "      <td>00AK</td>\n",
       "      <td>NaN</td>\n",
       "      <td>00AK</td>\n",
       "      <td>NaN</td>\n",
       "      <td>NaN</td>\n",
       "      <td>NaN</td>\n",
       "    </tr>\n",
       "    <tr>\n",
       "      <th>3</th>\n",
       "      <td>6525</td>\n",
       "      <td>00AL</td>\n",
       "      <td>small_airport</td>\n",
       "      <td>Epps Airpark</td>\n",
       "      <td>34.864799</td>\n",
       "      <td>-86.770302</td>\n",
       "      <td>820.0</td>\n",
       "      <td>NaN</td>\n",
       "      <td>US</td>\n",
       "      <td>US-AL</td>\n",
       "      <td>Harvest</td>\n",
       "      <td>no</td>\n",
       "      <td>00AL</td>\n",
       "      <td>NaN</td>\n",
       "      <td>00AL</td>\n",
       "      <td>NaN</td>\n",
       "      <td>NaN</td>\n",
       "      <td>NaN</td>\n",
       "    </tr>\n",
       "    <tr>\n",
       "      <th>4</th>\n",
       "      <td>506791</td>\n",
       "      <td>00AN</td>\n",
       "      <td>small_airport</td>\n",
       "      <td>Katmai Lodge Airport</td>\n",
       "      <td>59.093287</td>\n",
       "      <td>-156.456699</td>\n",
       "      <td>80.0</td>\n",
       "      <td>NaN</td>\n",
       "      <td>US</td>\n",
       "      <td>US-AK</td>\n",
       "      <td>King Salmon</td>\n",
       "      <td>no</td>\n",
       "      <td>00AN</td>\n",
       "      <td>NaN</td>\n",
       "      <td>00AN</td>\n",
       "      <td>NaN</td>\n",
       "      <td>NaN</td>\n",
       "      <td>NaN</td>\n",
       "    </tr>\n",
       "    <tr>\n",
       "      <th>...</th>\n",
       "      <td>...</td>\n",
       "      <td>...</td>\n",
       "      <td>...</td>\n",
       "      <td>...</td>\n",
       "      <td>...</td>\n",
       "      <td>...</td>\n",
       "      <td>...</td>\n",
       "      <td>...</td>\n",
       "      <td>...</td>\n",
       "      <td>...</td>\n",
       "      <td>...</td>\n",
       "      <td>...</td>\n",
       "      <td>...</td>\n",
       "      <td>...</td>\n",
       "      <td>...</td>\n",
       "      <td>...</td>\n",
       "      <td>...</td>\n",
       "      <td>...</td>\n",
       "    </tr>\n",
       "    <tr>\n",
       "      <th>78148</th>\n",
       "      <td>46378</td>\n",
       "      <td>ZZ-0001</td>\n",
       "      <td>heliport</td>\n",
       "      <td>Sealand Helipad</td>\n",
       "      <td>51.894444</td>\n",
       "      <td>1.482500</td>\n",
       "      <td>40.0</td>\n",
       "      <td>EU</td>\n",
       "      <td>GB</td>\n",
       "      <td>GB-ENG</td>\n",
       "      <td>Sealand</td>\n",
       "      <td>no</td>\n",
       "      <td>NaN</td>\n",
       "      <td>NaN</td>\n",
       "      <td>NaN</td>\n",
       "      <td>http://www.sealandgov.org/</td>\n",
       "      <td>https://en.wikipedia.org/wiki/Principality_of_...</td>\n",
       "      <td>Roughs Tower Helipad</td>\n",
       "    </tr>\n",
       "    <tr>\n",
       "      <th>78149</th>\n",
       "      <td>307326</td>\n",
       "      <td>ZZ-0002</td>\n",
       "      <td>small_airport</td>\n",
       "      <td>Glorioso Islands Airstrip</td>\n",
       "      <td>-11.584278</td>\n",
       "      <td>47.296389</td>\n",
       "      <td>11.0</td>\n",
       "      <td>AF</td>\n",
       "      <td>TF</td>\n",
       "      <td>TF-U-A</td>\n",
       "      <td>Grande Glorieuse</td>\n",
       "      <td>no</td>\n",
       "      <td>NaN</td>\n",
       "      <td>NaN</td>\n",
       "      <td>NaN</td>\n",
       "      <td>NaN</td>\n",
       "      <td>NaN</td>\n",
       "      <td>NaN</td>\n",
       "    </tr>\n",
       "    <tr>\n",
       "      <th>78150</th>\n",
       "      <td>346788</td>\n",
       "      <td>ZZ-0003</td>\n",
       "      <td>small_airport</td>\n",
       "      <td>Fainting Goat Airport</td>\n",
       "      <td>32.110587</td>\n",
       "      <td>-97.356312</td>\n",
       "      <td>690.0</td>\n",
       "      <td>NaN</td>\n",
       "      <td>US</td>\n",
       "      <td>US-TX</td>\n",
       "      <td>Blum</td>\n",
       "      <td>no</td>\n",
       "      <td>87TX</td>\n",
       "      <td>NaN</td>\n",
       "      <td>87TX</td>\n",
       "      <td>NaN</td>\n",
       "      <td>NaN</td>\n",
       "      <td>NaN</td>\n",
       "    </tr>\n",
       "    <tr>\n",
       "      <th>78151</th>\n",
       "      <td>342102</td>\n",
       "      <td>ZZZW</td>\n",
       "      <td>closed</td>\n",
       "      <td>Scandium City Heliport</td>\n",
       "      <td>69.355287</td>\n",
       "      <td>-138.939310</td>\n",
       "      <td>4.0</td>\n",
       "      <td>NaN</td>\n",
       "      <td>CA</td>\n",
       "      <td>CA-YT</td>\n",
       "      <td>(Old) Scandium City</td>\n",
       "      <td>no</td>\n",
       "      <td>NaN</td>\n",
       "      <td>NaN</td>\n",
       "      <td>NaN</td>\n",
       "      <td>NaN</td>\n",
       "      <td>NaN</td>\n",
       "      <td>ZZZW, ZZZW, ZYW, YK96</td>\n",
       "    </tr>\n",
       "    <tr>\n",
       "      <th>78152</th>\n",
       "      <td>313629</td>\n",
       "      <td>ZZZZ</td>\n",
       "      <td>small_airport</td>\n",
       "      <td>Satsuma Iōjima Airport</td>\n",
       "      <td>30.784722</td>\n",
       "      <td>130.270556</td>\n",
       "      <td>338.0</td>\n",
       "      <td>AS</td>\n",
       "      <td>JP</td>\n",
       "      <td>JP-46</td>\n",
       "      <td>Mishima</td>\n",
       "      <td>no</td>\n",
       "      <td>RJX7</td>\n",
       "      <td>NaN</td>\n",
       "      <td>RJX7</td>\n",
       "      <td>NaN</td>\n",
       "      <td>http://wikimapia.org/6705190/Satsuma-Iwo-jima-...</td>\n",
       "      <td>SATSUMA,IWOJIMA,RJX7</td>\n",
       "    </tr>\n",
       "  </tbody>\n",
       "</table>\n",
       "<p>78153 rows × 18 columns</p>\n",
       "</div>"
      ],
      "text/plain": [
       "           id    ident           type                       name  \\\n",
       "0        6523      00A       heliport          Total RF Heliport   \n",
       "1      323361     00AA  small_airport       Aero B Ranch Airport   \n",
       "2        6524     00AK  small_airport               Lowell Field   \n",
       "3        6525     00AL  small_airport               Epps Airpark   \n",
       "4      506791     00AN  small_airport       Katmai Lodge Airport   \n",
       "...       ...      ...            ...                        ...   \n",
       "78148   46378  ZZ-0001       heliport            Sealand Helipad   \n",
       "78149  307326  ZZ-0002  small_airport  Glorioso Islands Airstrip   \n",
       "78150  346788  ZZ-0003  small_airport      Fainting Goat Airport   \n",
       "78151  342102     ZZZW         closed     Scandium City Heliport   \n",
       "78152  313629     ZZZZ  small_airport     Satsuma Iōjima Airport   \n",
       "\n",
       "       latitude_deg  longitude_deg  elevation_ft continent iso_country  \\\n",
       "0         40.070985     -74.933689          11.0       NaN          US   \n",
       "1         38.704022    -101.473911        3435.0       NaN          US   \n",
       "2         59.947733    -151.692524         450.0       NaN          US   \n",
       "3         34.864799     -86.770302         820.0       NaN          US   \n",
       "4         59.093287    -156.456699          80.0       NaN          US   \n",
       "...             ...            ...           ...       ...         ...   \n",
       "78148     51.894444       1.482500          40.0        EU          GB   \n",
       "78149    -11.584278      47.296389          11.0        AF          TF   \n",
       "78150     32.110587     -97.356312         690.0       NaN          US   \n",
       "78151     69.355287    -138.939310           4.0       NaN          CA   \n",
       "78152     30.784722     130.270556         338.0        AS          JP   \n",
       "\n",
       "      iso_region         municipality scheduled_service gps_code iata_code  \\\n",
       "0          US-PA             Bensalem                no     K00A       NaN   \n",
       "1          US-KS                Leoti                no     00AA       NaN   \n",
       "2          US-AK         Anchor Point                no     00AK       NaN   \n",
       "3          US-AL              Harvest                no     00AL       NaN   \n",
       "4          US-AK          King Salmon                no     00AN       NaN   \n",
       "...          ...                  ...               ...      ...       ...   \n",
       "78148     GB-ENG              Sealand                no      NaN       NaN   \n",
       "78149     TF-U-A     Grande Glorieuse                no      NaN       NaN   \n",
       "78150      US-TX                 Blum                no     87TX       NaN   \n",
       "78151      CA-YT  (Old) Scandium City                no      NaN       NaN   \n",
       "78152      JP-46              Mishima                no     RJX7       NaN   \n",
       "\n",
       "      local_code                                          home_link  \\\n",
       "0            00A  https://www.penndot.pa.gov/TravelInPA/airports...   \n",
       "1           00AA                                                NaN   \n",
       "2           00AK                                                NaN   \n",
       "3           00AL                                                NaN   \n",
       "4           00AN                                                NaN   \n",
       "...          ...                                                ...   \n",
       "78148        NaN                         http://www.sealandgov.org/   \n",
       "78149        NaN                                                NaN   \n",
       "78150       87TX                                                NaN   \n",
       "78151        NaN                                                NaN   \n",
       "78152       RJX7                                                NaN   \n",
       "\n",
       "                                          wikipedia_link  \\\n",
       "0                                                    NaN   \n",
       "1                                                    NaN   \n",
       "2                                                    NaN   \n",
       "3                                                    NaN   \n",
       "4                                                    NaN   \n",
       "...                                                  ...   \n",
       "78148  https://en.wikipedia.org/wiki/Principality_of_...   \n",
       "78149                                                NaN   \n",
       "78150                                                NaN   \n",
       "78151                                                NaN   \n",
       "78152  http://wikimapia.org/6705190/Satsuma-Iwo-jima-...   \n",
       "\n",
       "                    keywords  \n",
       "0                        NaN  \n",
       "1                        NaN  \n",
       "2                        NaN  \n",
       "3                        NaN  \n",
       "4                        NaN  \n",
       "...                      ...  \n",
       "78148   Roughs Tower Helipad  \n",
       "78149                    NaN  \n",
       "78150                    NaN  \n",
       "78151  ZZZW, ZZZW, ZYW, YK96  \n",
       "78152   SATSUMA,IWOJIMA,RJX7  \n",
       "\n",
       "[78153 rows x 18 columns]"
      ]
     },
     "execution_count": 81,
     "metadata": {},
     "output_type": "execute_result"
    }
   ],
   "source": [
    "iata_codes_country"
   ]
  },
  {
   "cell_type": "code",
   "execution_count": 82,
   "metadata": {},
   "outputs": [
    {
     "name": "stdout",
     "output_type": "stream",
     "text": [
      "            route  flight_time departure airport arrival airport  \\\n",
      "0  {'AAL', 'AMS'}         85.0               AAL             AMS   \n",
      "1  {'AAQ', 'LED'}        170.0               AAQ             LED   \n",
      "2  {'GDZ', 'LED'}        180.0               GDZ             LED   \n",
      "3  {'AMS', 'ABZ'}         85.0               AMS             ABZ   \n",
      "4  {'ABZ', 'LGW'}         95.0               ABZ             LGW   \n",
      "\n",
      "  departure city      arrival city  train_distance  train_time  \\\n",
      "0        Aalborg         Amsterdam         1014627       725.0   \n",
      "1   Novorossiysk  Saint Petersburg         2538536      1837.0   \n",
      "2   Novorossiysk  Saint Petersburg         2538536      1837.0   \n",
      "3      Amsterdam          Aberdeen         1435877       767.0   \n",
      "4       Aberdeen            London          841037       459.0   \n",
      "\n",
      "   dep_latitude_deg  dep_longitude_deg dep_iso_country  arr_latitude_deg  \\\n",
      "0         57.094763           9.849930              DK         52.308601   \n",
      "1         45.002102          37.347301              RU         59.800301   \n",
      "2         44.582093          38.012481              RU         59.800301   \n",
      "3         52.308601           4.763890              NL         57.201900   \n",
      "4         57.201900          -2.197780              GB         51.148771   \n",
      "\n",
      "   arr_longitude_deg arr_iso_country  \n",
      "0           4.763890              NL  \n",
      "1          30.262501              RU  \n",
      "2          30.262501              RU  \n",
      "3          -2.197780              GB  \n",
      "4          -0.192089              GB  \n"
     ]
    }
   ],
   "source": [
    "merged_departure = pd.merge(filtered_data, iata_codes_country, left_on='departure airport', right_on='iata_code', how='left')\n",
    "\n",
    "# Rename columns from the first merge\n",
    "merged_departure.rename(columns={'latitude_deg': 'dep_latitude_deg', 'longitude_deg': 'dep_longitude_deg', 'iso_country': 'dep_iso_country'}, inplace=True)\n",
    "\n",
    "# Drop extra columns after the first merge\n",
    "columns_to_drop_first_merge = ['id', 'ident', 'type', 'name', 'elevation_ft', 'continent', 'iso_region', 'municipality', 'scheduled_service', 'gps_code', 'iata_code', 'local_code', 'home_link', 'wikipedia_link', 'keywords']\n",
    "merged_departure.drop(columns_to_drop_first_merge, axis=1, inplace=True)\n",
    "\n",
    "# Second, merge for arrival airport\n",
    "merged_data = pd.merge(merged_departure, iata_codes_country, left_on='arrival airport', right_on='iata_code', how='left')\n",
    "\n",
    "# Rename columns from the second merge\n",
    "merged_data.rename(columns={'latitude_deg': 'arr_latitude_deg', 'longitude_deg': 'arr_longitude_deg', 'iso_country': 'arr_iso_country'}, inplace=True)\n",
    "\n",
    "# Drop extra columns after the second merge\n",
    "columns_to_drop_second_merge = ['id', 'ident', 'type', 'name', 'elevation_ft', 'continent', 'iso_region', 'municipality', 'scheduled_service', 'gps_code', 'iata_code', 'local_code', 'home_link', 'wikipedia_link', 'keywords']\n",
    "merged_data.drop(columns_to_drop_second_merge, axis=1, inplace=True)\n",
    "\n",
    "\n",
    "print(merged_data.head())"
   ]
  },
  {
   "cell_type": "code",
   "execution_count": 83,
   "metadata": {},
   "outputs": [
    {
     "data": {
      "text/html": [
       "<div>\n",
       "<style scoped>\n",
       "    .dataframe tbody tr th:only-of-type {\n",
       "        vertical-align: middle;\n",
       "    }\n",
       "\n",
       "    .dataframe tbody tr th {\n",
       "        vertical-align: top;\n",
       "    }\n",
       "\n",
       "    .dataframe thead th {\n",
       "        text-align: right;\n",
       "    }\n",
       "</style>\n",
       "<table border=\"1\" class=\"dataframe\">\n",
       "  <thead>\n",
       "    <tr style=\"text-align: right;\">\n",
       "      <th></th>\n",
       "      <th>flight_time</th>\n",
       "      <th>train_distance</th>\n",
       "      <th>train_time</th>\n",
       "      <th>dep_latitude_deg</th>\n",
       "      <th>dep_longitude_deg</th>\n",
       "      <th>arr_latitude_deg</th>\n",
       "      <th>arr_longitude_deg</th>\n",
       "    </tr>\n",
       "  </thead>\n",
       "  <tbody>\n",
       "    <tr>\n",
       "      <th>count</th>\n",
       "      <td>1083.000000</td>\n",
       "      <td>1.083000e+03</td>\n",
       "      <td>1083.000000</td>\n",
       "      <td>1083.000000</td>\n",
       "      <td>1083.000000</td>\n",
       "      <td>1083.000000</td>\n",
       "      <td>1083.000000</td>\n",
       "    </tr>\n",
       "    <tr>\n",
       "      <th>mean</th>\n",
       "      <td>122.512850</td>\n",
       "      <td>1.675739e+06</td>\n",
       "      <td>1241.120191</td>\n",
       "      <td>48.532025</td>\n",
       "      <td>12.304472</td>\n",
       "      <td>48.166043</td>\n",
       "      <td>10.753863</td>\n",
       "    </tr>\n",
       "    <tr>\n",
       "      <th>std</th>\n",
       "      <td>46.300586</td>\n",
       "      <td>1.006887e+06</td>\n",
       "      <td>852.592627</td>\n",
       "      <td>5.828496</td>\n",
       "      <td>13.789245</td>\n",
       "      <td>6.690596</td>\n",
       "      <td>12.933604</td>\n",
       "    </tr>\n",
       "    <tr>\n",
       "      <th>min</th>\n",
       "      <td>10.000000</td>\n",
       "      <td>8.333800e+04</td>\n",
       "      <td>63.000000</td>\n",
       "      <td>36.674900</td>\n",
       "      <td>-9.135920</td>\n",
       "      <td>36.151199</td>\n",
       "      <td>-9.355230</td>\n",
       "    </tr>\n",
       "    <tr>\n",
       "      <th>25%</th>\n",
       "      <td>85.000000</td>\n",
       "      <td>9.061895e+05</td>\n",
       "      <td>544.000000</td>\n",
       "      <td>43.810001</td>\n",
       "      <td>2.112780</td>\n",
       "      <td>42.572800</td>\n",
       "      <td>2.078460</td>\n",
       "    </tr>\n",
       "    <tr>\n",
       "      <th>50%</th>\n",
       "      <td>117.500000</td>\n",
       "      <td>1.536602e+06</td>\n",
       "      <td>1166.166667</td>\n",
       "      <td>49.012798</td>\n",
       "      <td>10.887303</td>\n",
       "      <td>48.353802</td>\n",
       "      <td>9.160452</td>\n",
       "    </tr>\n",
       "    <tr>\n",
       "      <th>75%</th>\n",
       "      <td>152.500000</td>\n",
       "      <td>2.269107e+06</td>\n",
       "      <td>1731.000000</td>\n",
       "      <td>52.165699</td>\n",
       "      <td>19.720600</td>\n",
       "      <td>52.308601</td>\n",
       "      <td>17.918600</td>\n",
       "    </tr>\n",
       "    <tr>\n",
       "      <th>max</th>\n",
       "      <td>325.000000</td>\n",
       "      <td>8.877409e+06</td>\n",
       "      <td>5027.000000</td>\n",
       "      <td>68.781700</td>\n",
       "      <td>92.492437</td>\n",
       "      <td>69.683296</td>\n",
       "      <td>92.492437</td>\n",
       "    </tr>\n",
       "  </tbody>\n",
       "</table>\n",
       "</div>"
      ],
      "text/plain": [
       "       flight_time  train_distance   train_time  dep_latitude_deg  \\\n",
       "count  1083.000000    1.083000e+03  1083.000000       1083.000000   \n",
       "mean    122.512850    1.675739e+06  1241.120191         48.532025   \n",
       "std      46.300586    1.006887e+06   852.592627          5.828496   \n",
       "min      10.000000    8.333800e+04    63.000000         36.674900   \n",
       "25%      85.000000    9.061895e+05   544.000000         43.810001   \n",
       "50%     117.500000    1.536602e+06  1166.166667         49.012798   \n",
       "75%     152.500000    2.269107e+06  1731.000000         52.165699   \n",
       "max     325.000000    8.877409e+06  5027.000000         68.781700   \n",
       "\n",
       "       dep_longitude_deg  arr_latitude_deg  arr_longitude_deg  \n",
       "count        1083.000000       1083.000000        1083.000000  \n",
       "mean           12.304472         48.166043          10.753863  \n",
       "std            13.789245          6.690596          12.933604  \n",
       "min            -9.135920         36.151199          -9.355230  \n",
       "25%             2.112780         42.572800           2.078460  \n",
       "50%            10.887303         48.353802           9.160452  \n",
       "75%            19.720600         52.308601          17.918600  \n",
       "max            92.492437         69.683296          92.492437  "
      ]
     },
     "execution_count": 83,
     "metadata": {},
     "output_type": "execute_result"
    }
   ],
   "source": [
    "merged_data.describe()"
   ]
  },
  {
   "attachments": {},
   "cell_type": "markdown",
   "metadata": {},
   "source": [
    "# Statistical Analysis"
   ]
  },
  {
   "cell_type": "code",
   "execution_count": 84,
   "metadata": {},
   "outputs": [
    {
     "name": "stdout",
     "output_type": "stream",
     "text": [
      "<class 'pandas.core.frame.DataFrame'>\n",
      "Int64Index: 1083 entries, 0 to 1082\n",
      "Data columns (total 14 columns):\n",
      " #   Column             Non-Null Count  Dtype  \n",
      "---  ------             --------------  -----  \n",
      " 0   route              1083 non-null   object \n",
      " 1   flight_time        1083 non-null   float64\n",
      " 2   departure airport  1083 non-null   object \n",
      " 3   arrival airport    1083 non-null   object \n",
      " 4   departure city     1083 non-null   object \n",
      " 5   arrival city       1083 non-null   object \n",
      " 6   train_distance     1083 non-null   int64  \n",
      " 7   train_time         1083 non-null   float64\n",
      " 8   dep_latitude_deg   1083 non-null   float64\n",
      " 9   dep_longitude_deg  1083 non-null   float64\n",
      " 10  dep_iso_country    1083 non-null   object \n",
      " 11  arr_latitude_deg   1083 non-null   float64\n",
      " 12  arr_longitude_deg  1083 non-null   float64\n",
      " 13  arr_iso_country    1083 non-null   object \n",
      "dtypes: float64(6), int64(1), object(7)\n",
      "memory usage: 126.9+ KB\n"
     ]
    }
   ],
   "source": [
    "merged_data.info()"
   ]
  },
  {
   "cell_type": "code",
   "execution_count": 85,
   "metadata": {},
   "outputs": [
    {
     "name": "stdout",
     "output_type": "stream",
     "text": [
      "            Statistic  Flight Time (hours)  Flight Time (min)  \\\n",
      "0                Mean             2.041881         122.512850   \n",
      "1              Median             1.958333         117.500000   \n",
      "2  Standard Deviation             0.771676          46.300586   \n",
      "\n",
      "   Train Time (hours)  Train Time (min)  \n",
      "0           20.685337       1241.120191  \n",
      "1           19.436111       1166.166667  \n",
      "2           14.209877        852.592627  \n"
     ]
    }
   ],
   "source": [
    "mean_flight_time = merged_data['flight_time'].mean()\n",
    "mean_train_time = merged_data['train_time'].mean()\n",
    "\n",
    "median_flight_time = merged_data['flight_time'].median()\n",
    "median_train_time = merged_data['train_time'].median()\n",
    "\n",
    "std_flight_time = merged_data['flight_time'].std()\n",
    "std_train_time = merged_data['train_time'].std()\n",
    "\n",
    "\n",
    "summary_data = {\n",
    "    \"Statistic\": [\"Mean\", \"Median\", \"Standard Deviation\"],\n",
    "    \"Flight Time (hours)\": [mean_flight_time / 60, median_flight_time / 60, std_flight_time / 60],\n",
    "    \"Flight Time (min)\": [mean_flight_time, median_flight_time, std_flight_time],\n",
    "    \"Train Time (hours)\": [mean_train_time / 60, median_train_time / 60, std_train_time / 60],\n",
    "    \"Train Time (min)\": [mean_train_time, median_train_time, std_train_time]\n",
    "}\n",
    "\n",
    "summary_df = pd.DataFrame(summary_data)\n",
    "\n",
    "print(summary_df)"
   ]
  },
  {
   "cell_type": "code",
   "execution_count": 138,
   "metadata": {},
   "outputs": [
    {
     "name": "stdout",
     "output_type": "stream",
     "text": [
      "                                     Mean       Median  Standard Deviation  \\\n",
      "flight_time                    122.512850   117.500000           46.300586   \n",
      "train_time                    1241.120191  1166.166667          852.592627   \n",
      "train_time_hours                20.685337    19.436111           14.209877   \n",
      "flight_time_plus_90            212.512850   207.500000           46.300586   \n",
      "flight_time_hours_with_extra     3.541881     3.458333            0.771676   \n",
      "\n",
      "                                 Minimum      Maximum  \n",
      "flight_time                    10.000000   325.000000  \n",
      "train_time                     63.000000  5027.000000  \n",
      "train_time_hours                1.050000    83.783333  \n",
      "flight_time_plus_90           100.000000   415.000000  \n",
      "flight_time_hours_with_extra    1.666667     6.916667  \n"
     ]
    }
   ],
   "source": [
    "summary_stats = {\n",
    "    \"Mean\": merged_data[['flight_time', 'train_time', 'train_time_hours', 'flight_time_plus_90', 'flight_time_hours_with_extra']].mean(),\n",
    "    \"Median\": merged_data[['flight_time', 'train_time', 'train_time_hours', 'flight_time_plus_90', 'flight_time_hours_with_extra']].median(),\n",
    "    \"Standard Deviation\": merged_data[['flight_time', 'train_time', 'train_time_hours', 'flight_time_plus_90', 'flight_time_hours_with_extra']].std(),\n",
    "    \"Minimum\": merged_data[['flight_time', 'train_time', 'train_time_hours', 'flight_time_plus_90', 'flight_time_hours_with_extra']].min(),\n",
    "    \"Maximum\": merged_data[['flight_time', 'train_time', 'train_time_hours', 'flight_time_plus_90', 'flight_time_hours_with_extra']].max()\n",
    "}\n",
    "\n",
    "# Create a DataFrame from the summary statistics\n",
    "summary_df = pd.DataFrame(summary_stats)\n",
    "\n",
    "# Display the summary statistics DataFrame\n",
    "print(summary_df)\n",
    "\n"
   ]
  },
  {
   "attachments": {},
   "cell_type": "markdown",
   "metadata": {},
   "source": [
    "### Country Representation in Dataset"
   ]
  },
  {
   "cell_type": "code",
   "execution_count": 119,
   "metadata": {},
   "outputs": [
    {
     "data": {
      "application/vnd.plotly.v1+json": {
       "config": {
        "plotlyServerURL": "https://plot.ly"
       },
       "data": [
        {
         "alignmentgroup": "True",
         "bingroup": "x",
         "hovertemplate": "x=%{x}<br>count=%{y}<extra></extra>",
         "legendgroup": "",
         "marker": {
          "color": "#636efa",
          "pattern": {
           "shape": ""
          }
         },
         "name": "",
         "offsetgroup": "",
         "orientation": "v",
         "showlegend": false,
         "type": "histogram",
         "x": [
          "DK",
          "RU",
          "RU",
          "NL",
          "GB",
          "RU",
          "RU",
          "RU",
          "RU",
          "RU",
          "RU",
          "RU",
          "RU",
          "NO",
          "NO",
          "ES",
          "FR",
          "SE",
          "DE",
          "GB",
          "GB",
          "GB",
          "GB",
          "ES",
          "IT",
          "IT",
          "IT",
          "FR",
          "FR",
          "ES",
          "GB",
          "ES",
          "ES",
          "ES",
          "GB",
          "NL",
          "NL",
          "GR",
          "NL",
          "NL",
          "NL",
          "NL",
          "NL",
          "NL",
          "NL",
          "NL",
          "NL",
          "NL",
          "NL",
          "NL",
          "NL",
          "NL",
          "GB",
          "GB",
          "GB",
          "NL",
          "NL",
          "NL",
          "NL",
          "NL",
          "NL",
          "NL",
          "NL",
          "NL",
          "RU",
          "SE",
          "IT",
          "SE",
          "FI",
          "DE",
          "SE",
          "RU",
          "GR",
          "GR",
          "GR",
          "GR",
          "GR",
          "GR",
          "GR",
          "GR",
          "GR",
          "ES",
          "FR",
          "BE",
          "BE",
          "IT",
          "SE",
          "GB",
          "GB",
          "GB",
          "GB",
          "NL",
          "PT",
          "RO",
          "RS",
          "RS",
          "RS",
          "RS",
          "RS",
          "RS",
          "RS",
          "RS",
          "RS",
          "RS",
          "RS",
          "GB",
          "GB",
          "GB",
          "GB",
          "PT",
          "SE",
          "GB",
          "FR",
          "IT",
          "IT",
          "IT",
          "IT",
          "IT",
          "IT",
          "GB",
          "GB",
          "GB",
          "GB",
          "GB",
          "GB",
          "GB",
          "GB",
          "GB",
          "GB",
          "GB",
          "ES",
          "ES",
          "ES",
          "ES",
          "ES",
          "PL",
          "RO",
          "RO",
          "GB",
          "DE",
          "IT",
          "IT",
          "IT",
          "IT",
          "IT",
          "IT",
          "IT",
          "IT",
          "IT",
          "IT",
          "GB",
          "IT",
          "FR",
          "GB",
          "GB",
          "ES",
          "ES",
          "FR",
          "FR",
          "FR",
          "FR",
          "FR",
          "FR",
          "FR",
          "SK",
          "SK",
          "HU",
          "HU",
          "HU",
          "HU",
          "HU",
          "HU",
          "HU",
          "HU",
          "HU",
          "HU",
          "HU",
          "HU",
          "HU",
          "HU",
          "HU",
          "HU",
          "HU",
          "HU",
          "HU",
          "FR",
          "IT",
          "FR",
          "PL",
          "FR",
          "FR",
          "FR",
          "SE",
          "FR",
          "FR",
          "FR",
          "FR",
          "FR",
          "FR",
          "FR",
          "FI",
          "DE",
          "FR",
          "ES",
          "RU",
          "RU",
          "RU",
          "RU",
          "RU",
          "DE",
          "DE",
          "DE",
          "BG",
          "BE",
          "RO",
          "RO",
          "RO",
          "GB",
          "RO",
          "FR",
          "DK",
          "DK",
          "DK",
          "DK",
          "DK",
          "DK",
          "DK",
          "DK",
          "DK",
          "DK",
          "DK",
          "DK",
          "DK",
          "DK",
          "DK",
          "DK",
          "DK",
          "DK",
          "DK",
          "DK",
          "DK",
          "DK",
          "DK",
          "DK",
          "DK",
          "DK",
          "DK",
          "DK",
          "IT",
          "BE",
          "IT",
          "IT",
          "RO",
          "RU",
          "RU",
          "IT",
          "IT",
          "IT",
          "IT",
          "IT",
          "IT",
          "HU",
          "RU",
          "RU",
          "RU",
          "RU",
          "RU",
          "RU",
          "RU",
          "RU",
          "RU",
          "RU",
          "RU",
          "RU",
          "RU",
          "RU",
          "DE",
          "DE",
          "DE",
          "DE",
          "DE",
          "DE",
          "DE",
          "DE",
          "DE",
          "DE",
          "DE",
          "DE",
          "DE",
          "DE",
          "DE",
          "DE",
          "DE",
          "DE",
          "DE",
          "DE",
          "DE",
          "DE",
          "ES",
          "GB",
          "GB",
          "GB",
          "GB",
          "GB",
          "GB",
          "GB",
          "NL",
          "NL",
          "NL",
          "NL",
          "NL",
          "NL",
          "NL",
          "NL",
          "NL",
          "NL",
          "NL",
          "GB",
          "GB",
          "GB",
          "GB",
          "GB",
          "GB",
          "PT",
          "PT",
          "IT",
          "IT",
          "IT",
          "IT",
          "IT",
          "IT",
          "IT",
          "IT",
          "IT",
          "IT",
          "IT",
          "IT",
          "IT",
          "IT",
          "IT",
          "IT",
          "IT",
          "IT",
          "IT",
          "IT",
          "IT",
          "IT",
          "IT",
          "IT",
          "IT",
          "IT",
          "IT",
          "IT",
          "IT",
          "IT",
          "IT",
          "IT",
          "IT",
          "IT",
          "IT",
          "IT",
          "IT",
          "IT",
          "IT",
          "IT",
          "IT",
          "IT",
          "DE",
          "DE",
          "DE",
          "DE",
          "DE",
          "DE",
          "DE",
          "DE",
          "DE",
          "DE",
          "DE",
          "DE",
          "DE",
          "DE",
          "DE",
          "DE",
          "DE",
          "DE",
          "DE",
          "DE",
          "DE",
          "DE",
          "DE",
          "DE",
          "DE",
          "DE",
          "DE",
          "DE",
          "DE",
          "DE",
          "DE",
          "DE",
          "DE",
          "DE",
          "DE",
          "DE",
          "DE",
          "DE",
          "DE",
          "DE",
          "DE",
          "DE",
          "DE",
          "GB",
          "RU",
          "RU",
          "ES",
          "NO",
          "ES",
          "ES",
          "ES",
          "CH",
          "CH",
          "CH",
          "CH",
          "CH",
          "CH",
          "CH",
          "CH",
          "CH",
          "CH",
          "CH",
          "CH",
          "CH",
          "DE",
          "DE",
          "ES",
          "NO",
          "SE",
          "FI",
          "FI",
          "FR",
          "FI",
          "FI",
          "FI",
          "FI",
          "DE",
          "RS",
          "RO",
          "RO",
          "ES",
          "ES",
          "ES",
          "AT",
          "AT",
          "AT",
          "AT",
          "AT",
          "AT",
          "GB",
          "RU",
          "RU",
          "RU",
          "RU",
          "GR",
          "MD",
          "MD",
          "MD",
          "RU",
          "RU",
          "RU",
          "RU",
          "PL",
          "PL",
          "PL",
          "PL",
          "PL",
          "PL",
          "PL",
          "PL",
          "PL",
          "PL",
          "PL",
          "PL",
          "PL",
          "PL",
          "PL",
          "PL",
          "PL",
          "PL",
          "PL",
          "PL",
          "PL",
          "PL",
          "PL",
          "PL",
          "RU",
          "RU",
          "NO",
          "SK",
          "PL",
          "PL",
          "PL",
          "PL",
          "RU",
          "LT",
          "FI",
          "GR",
          "RU",
          "RU",
          "RU",
          "RU",
          "RU",
          "RU",
          "GB",
          "GB",
          "GB",
          "GB",
          "GB",
          "GB",
          "ES",
          "RU",
          "RU",
          "ES",
          "BE",
          "ES",
          "ES",
          "RO",
          "GB",
          "GB",
          "GB",
          "GB",
          "GB",
          "GB",
          "GB",
          "GB",
          "GB",
          "GB",
          "FR",
          "GB",
          "GB",
          "GB",
          "GB",
          "GB",
          "GB",
          "GB",
          "GB",
          "GB",
          "GB",
          "GB",
          "GB",
          "GB",
          "GB",
          "GB",
          "GB",
          "GB",
          "GB",
          "GB",
          "GB",
          "GB",
          "GB",
          "GB",
          "GB",
          "GB",
          "GB",
          "GB",
          "GB",
          "GB",
          "GB",
          "GB",
          "GB",
          "FR",
          "IT",
          "IT",
          "IT",
          "IT",
          "IT",
          "IT",
          "IT",
          "IT",
          "IT",
          "IT",
          "PT",
          "PT",
          "PT",
          "PT",
          "PT",
          "PT",
          "PT",
          "PT",
          "PT",
          "PT",
          "GB",
          "GB",
          "PT",
          "PT",
          "PT",
          "PT",
          "PT",
          "PT",
          "PT",
          "SE",
          "GB",
          "GB",
          "RO",
          "GB",
          "GB",
          "GB",
          "GB",
          "GB",
          "GB",
          "GB",
          "GB",
          "GB",
          "LU",
          "LU",
          "PL",
          "FR",
          "FR",
          "FR",
          "FR",
          "FR",
          "ES",
          "ES",
          "FR",
          "BE",
          "DE",
          "PT",
          "GB",
          "GB",
          "GB",
          "GB",
          "GB",
          "GB",
          "GB",
          "GB",
          "GB",
          "GB",
          "GB",
          "GB",
          "GB",
          "GB",
          "GB",
          "GB",
          "GB",
          "GB",
          "GB",
          "GB",
          "GB",
          "GB",
          "GB",
          "GB",
          "GB",
          "GB",
          "GB",
          "GB",
          "RU",
          "RU",
          "RU",
          "RU",
          "SE",
          "SE",
          "FR",
          "FR",
          "FR",
          "FR",
          "FR",
          "FR",
          "FR",
          "FR",
          "FR",
          "FR",
          "FR",
          "FR",
          "RU",
          "RU",
          "RU",
          "RU",
          "RU",
          "RU",
          "RU",
          "RU",
          "DE",
          "SE",
          "DE",
          "DE",
          "DE",
          "DE",
          "DE",
          "DE",
          "DE",
          "DE",
          "DE",
          "DE",
          "DE",
          "IT",
          "IT",
          "IT",
          "IT",
          "IT",
          "IT",
          "IT",
          "IT",
          "IT",
          "IT",
          "IT",
          "IT",
          "IT",
          "IT",
          "IT",
          "IT",
          "IT",
          "IT",
          "IT",
          "IT",
          "IT",
          "IT",
          "IT",
          "IT",
          "IT",
          "IT",
          "IT",
          "IT",
          "IT",
          "RU",
          "FR",
          "FR",
          "FR",
          "GB",
          "GB",
          "GB",
          "DE",
          "DE",
          "FR",
          "FR",
          "FR",
          "DE",
          "SE",
          "RU",
          "MK",
          "RO",
          "ES",
          "FR",
          "FR",
          "FR",
          "FR",
          "FR",
          "FR",
          "FR",
          "FR",
          "FR",
          "FR",
          "NO",
          "NO",
          "NO",
          "NO",
          "NO",
          "NO",
          "NO",
          "NO",
          "NO",
          "NO",
          "RU",
          "DK",
          "IT",
          "ES",
          "ES",
          "ES",
          "RU",
          "RU",
          "IT",
          "IT",
          "IT",
          "IT",
          "IT",
          "IT",
          "IT",
          "IT",
          "IT",
          "IT",
          "IT",
          "IT",
          "IT",
          "IT",
          "IT",
          "IT",
          "ES",
          "CZ",
          "CZ",
          "CZ",
          "CZ",
          "CZ",
          "CZ",
          "CZ",
          "XK",
          "XK",
          "IT",
          "IT",
          "RU",
          "RU",
          "LV",
          "LV",
          "LV",
          "LV",
          "LV",
          "LV",
          "LV",
          "LV",
          "LV",
          "NL",
          "NL",
          "RO",
          "RO",
          "ES",
          "ES",
          "RU",
          "GB",
          "DE",
          "MK",
          "MK",
          "MK",
          "MK",
          "MK",
          "MK",
          "MK",
          "MK",
          "MK",
          "MK",
          "MK",
          "BG",
          "BG",
          "BG",
          "BG",
          "BG",
          "BG",
          "BG",
          "BG",
          "BG",
          "BG",
          "BG",
          "BG",
          "BG",
          "BG",
          "BG",
          "BG",
          "BG",
          "BG",
          "GB",
          "GB",
          "GB",
          "GB",
          "GB",
          "GB",
          "GB",
          "GB",
          "GB",
          "GB",
          "GB",
          "GB",
          "GB",
          "GB",
          "GB",
          "GB",
          "GB",
          "GB",
          "GB",
          "GB",
          "GB",
          "GB",
          "GB",
          "GB",
          "GB",
          "GB",
          "GB",
          "GB",
          "GB",
          "GB",
          "GB",
          "GB",
          "GB",
          "GB",
          "GB",
          "GB",
          "GB",
          "GB",
          "GB",
          "RO",
          "GR",
          "NO",
          "NO",
          "NO",
          "RU",
          "RU",
          "RU",
          "RU",
          "RU",
          "ES",
          "ES",
          "ES",
          "ES",
          "ES",
          "ES",
          "ES",
          "ES",
          "ES",
          "AT",
          "AT",
          "AT",
          "AT",
          "AT",
          "AT",
          "PL",
          "AL",
          "AL",
          "AL",
          "AL",
          "AL",
          "AL",
          "AL",
          "AL",
          "AL",
          "AL",
          "AL",
          "AL",
          "AL",
          "AL",
          "AL",
          "AL",
          "AL",
          "AL",
          "AL",
          "AL",
          "EE",
          "EE",
          "EE",
          "EE",
          "FR",
          "FR",
          "FR",
          "FI",
          "FI",
          "NO",
          "IT",
          "IT",
          "IT",
          "IT",
          "IT",
          "IT",
          "IT",
          "IT",
          "IT",
          "IT",
          "IT",
          "IT",
          "IT",
          "IT",
          "IT",
          "IT",
          "RO",
          "RO",
          "RO",
          "FR",
          "RU",
          "RU",
          "RU",
          "RU",
          "RU",
          "RU",
          "RU",
          "RU",
          "RU",
          "SE",
          "FI",
          "DE",
          "BG",
          "IT",
          "IT",
          "IT",
          "IT",
          "IT",
          "IT",
          "IT",
          "IT",
          "IT",
          "IT",
          "IT",
          "IT",
          "IT",
          "IT",
          "IT",
          "IT",
          "IT",
          "IT",
          "ES",
          "ES",
          "AT",
          "AT",
          "AT",
          "AT",
          "AT",
          "AT",
          "AT",
          "AT",
          "AT",
          "AT",
          "AT",
          "AT",
          "AT",
          "AT",
          "AT",
          "AT",
          "AT",
          "AT",
          "AT",
          "AT",
          "RU",
          "RU",
          "ES",
          "ES",
          "ES",
          "LT",
          "LT",
          "LT",
          "RU",
          "RU",
          "RU",
          "RU",
          "IT",
          "IT",
          "IT",
          "PT",
          "PT",
          "PL",
          "PL",
          "PL",
          "PL",
          "PL",
          "PL",
          "PL",
          "PL",
          "PL",
          "PL",
          "PL",
          "PL",
          "PL",
          "PL",
          "PL",
          "PL",
          "PL",
          "PL",
          "PL",
          "PL",
          "PL",
          "PL",
          "PL",
          "PL",
          "PL",
          "PL",
          "PL",
          "PL",
          "PL",
          "FR",
          "PL",
          "ES",
          "ES",
          "HR",
          "HR",
          "HR",
          "HR",
          "HR",
          "HR",
          "HR",
          "ES",
          "CH",
          "CH",
          "CH",
          "CH",
          "CH",
          "CH",
          "CH",
          "CH",
          "CH",
          "CH",
          "CH",
          "CH",
          "CH",
          "NL",
          "RU",
          "RU",
          "GB",
          "GB",
          "RU",
          "RU",
          "RU",
          "RU",
          "RU",
          "RU",
          "RU",
          "RU",
          "ES",
          "NO",
          "ES",
          "ES",
          "ES",
          "ES",
          "ES",
          "ES",
          "ES",
          "ES",
          "ES",
          "IT",
          "IT",
          "IT",
          "FR",
          "FR",
          "ES",
          "ES",
          "ES",
          "PT",
          "PL",
          "NL",
          "ES",
          "SE",
          "NL",
          "ES",
          "NO",
          "GB",
          "DK",
          "BG",
          "GB",
          "FR",
          "GB",
          "IT",
          "PL",
          "CH",
          "DE",
          "FI",
          "GB",
          "NL",
          "NL",
          "NL",
          "DE",
          "GB",
          "PT",
          "RO",
          "CZ",
          "FI",
          "GB",
          "ES",
          "CH",
          "RU",
          "ES",
          "SE",
          "SE",
          "SE",
          "SE",
          "PL",
          "RU",
          "IT",
          "BE",
          "FR",
          "CH",
          "GR",
          "GB",
          "RO",
          "GR",
          "CH",
          "ES",
          "ES",
          "ES",
          "ES",
          "ES",
          "ES",
          "ES",
          "ES",
          "ES",
          "ES",
          "ES",
          "ES",
          "ES",
          "ES",
          "HU",
          "FR",
          "FR",
          "RS",
          "PT",
          "NO",
          "RU",
          "AT",
          "PL",
          "CH",
          "GB",
          "GB",
          "GB",
          "CH",
          "PT",
          "IT",
          "IT",
          "IT",
          "IT",
          "BE",
          "RO",
          "RO",
          "IT",
          "IT",
          "NL",
          "GB",
          "GB",
          "GB",
          "ES",
          "ES",
          "RO",
          "PT",
          "RO",
          "PL",
          "ES",
          "NL",
          "ES",
          "GB",
          "ES",
          "PT",
          "DK",
          "DK",
          "IT",
          "ES",
          "DE",
          "IT",
          "HU",
          "BE",
          "IT",
          "IT",
          "IT",
          "IT",
          "IT",
          "IT",
          "PL",
          "ES",
          "GB",
          "GB",
          "PT",
          "PL",
          "BE",
          "BE",
          "NL",
          "FR",
          "IT",
          "DE",
          "RO",
          "XK",
          "IT",
          "LT",
          "GB",
          "ES",
          "SE",
          "GR",
          "ES",
          "IT",
          "GB",
          "IT",
          "GB",
          "IT",
          "BE",
          "IT",
          "FI",
          "GB",
          "GB",
          "ES",
          "FR",
          "IT",
          "CZ",
          "PL",
          "ES",
          "FR",
          "PT",
          "GB",
          "BE",
          "ES",
          "ES",
          "FR",
          "ES",
          "ES",
          "GB",
          "IT",
          "FR",
          "BE",
          "SE",
          "FR",
          "FR",
          "RO",
          "DE",
          "RU",
          "RU",
          "RU",
          "RU",
          "RU",
          "ES",
          "DE",
          "DE",
          "DE",
          "IT",
          "IT",
          "IT",
          "IT",
          "RO",
          "RO",
          "GB",
          "DK",
          "DK",
          "ES",
          "ES",
          "NL",
          "SE",
          "HU",
          "IT",
          "FR",
          "DE",
          "PT",
          "DE",
          "SE",
          "CH",
          "DE",
          "FI",
          "PL",
          "LT",
          "GB",
          "GB",
          "ES",
          "GB",
          "DE",
          "PT",
          "NO",
          "AT",
          "AT",
          "CH",
          "RO",
          "RO",
          "BE",
          "BE",
          "BE",
          "RU",
          "RU",
          "IT",
          "IT",
          "BE",
          "IT",
          "CZ",
          "IT",
          "GB",
          "RU",
          "RU",
          "RU",
          "RU",
          "RU",
          "RU",
          "RU",
          "RU",
          "RU",
          "RU",
          "RU",
          "RU",
          "RU",
          "RU",
          "RS",
          "HU",
          "RO",
          "IT",
          "PL",
          "PL",
          "PL",
          "LT",
          "NL",
          "FR",
          "DK",
          "DE",
          "FI",
          "MD",
          "GB",
          "PT",
          "ES",
          "XK",
          "AL",
          "NO",
          "AT",
          "CH",
          "ES",
          "ES",
          "GB",
          "GB",
          "BE",
          "CH",
          "GB",
          "ES",
          "ES",
          "ES",
          "GR",
          "IT",
          "HU",
          "RO",
          "HU",
          "PL",
          "PT",
          "AT",
          "LT",
          "ES",
          "ES",
          "GB",
          "CH",
          "FR",
          "PL",
          "GB",
          "PT",
          "ES",
          "NL",
          "IT",
          "ES",
          "IT",
          "HU",
          "IT",
          "FR",
          "FR",
          "DE",
          "IT",
          "NL",
          "IT",
          "DE",
          "IT",
          "GB",
          "GB",
          "IT",
          "PT",
          "FR",
          "ES",
          "DE",
          "FR",
          "RO",
          "RO",
          "IT",
          "PL",
          "CZ",
          "PL",
          "IT",
          "AL",
          "IT",
          "IT",
          "AT",
          "ES",
          "IT",
          "PL",
          "CH",
          "FR",
          "GB",
          "ES",
          "DE",
          "RO",
          "PT",
          "RO",
          "ES",
          "ES",
          "NL",
          "SE",
          "IT",
          "DE",
          "GB",
          "BE",
          "FR",
          "HU",
          "FR",
          "DE",
          "DE",
          "IT",
          "SE",
          "AT",
          "CH",
          "DE",
          "FI",
          "DE",
          "PL",
          "DE",
          "GB",
          "GB",
          "IT",
          "GB",
          "DE",
          "IT",
          "DE",
          "NO",
          "PL",
          "CZ",
          "DE",
          "AT",
          "IT",
          "AT",
          "PL",
          "PL",
          "HR",
          "CH",
          "FR",
          "RU",
          "RU",
          "SE",
          "SE",
          "GB",
          "ES",
          "ES",
          "SE",
          "ES",
          "GB",
          "GB",
          "GB",
          "BE",
          "SE",
          "GB",
          "ES",
          "DE",
          "PT",
          "XK",
          "GB",
          "DE",
          "DE",
          "DE",
          "NO",
          "FI",
          "ES",
          "BE",
          "FI",
          "SE",
          "DE",
          "FI",
          "FI",
          "ES",
          "DE",
          "IT",
          "RO",
          "ES",
          "ES",
          "ES",
          "GB",
          "GB",
          "DE",
          "GB",
          "GB",
          "AT",
          "GB",
          "RU",
          "RU",
          "RU",
          "RU",
          "GR",
          "FR",
          "PT",
          "RO",
          "RU",
          "RU",
          "RU",
          "RU",
          "ES",
          "NL",
          "SE",
          "ES",
          "IT",
          "GB",
          "IT",
          "FR",
          "IT",
          "IT",
          "BE",
          "GB",
          "NL",
          "SE",
          "GB",
          "GB",
          "FR",
          "SE",
          "NO",
          "IT",
          "FR",
          "AT",
          "ES",
          "PL",
          "RU",
          "RU",
          "NO",
          "CZ",
          "ES",
          "GR",
          "IT",
          "GB",
          "RU",
          "IT",
          "FI",
          "GR",
          "RU",
          "RU",
          "RU",
          "RU",
          "RU",
          "RU",
          "ES",
          "NL",
          "FR",
          "PT",
          "PL",
          "PL",
          "ES",
          "RU",
          "RU",
          "ES",
          "ES",
          "GB",
          "GB",
          "GB",
          "GB",
          "SE",
          "SE",
          "GR",
          "GR",
          "DK",
          "DK",
          "IT",
          "IT",
          "BE",
          "GB",
          "GB",
          "GB",
          "GB",
          "GI",
          "FR",
          "FR",
          "FR",
          "SE",
          "SE",
          "CH",
          "CH",
          "CH",
          "IT",
          "FR",
          "ES",
          "ES",
          "ES",
          "IT",
          "IT",
          "FR",
          "GB",
          "NO",
          "RO",
          "RO",
          "RO",
          "RO",
          "AT",
          "AT",
          "FR",
          "AT",
          "AT",
          "CH",
          "CH",
          "NL",
          "BE",
          "IT",
          "FR",
          "IT",
          "FI",
          "ES",
          "DE",
          "IT",
          "IT",
          "ES",
          "NL",
          "ES",
          "FR",
          "BE",
          "FR",
          "FR",
          "DE",
          "CH",
          "FI",
          "PT",
          "PT",
          "LU",
          "FR",
          "ES",
          "DE",
          "PT",
          "ES",
          "PL",
          "SE",
          "GB",
          "GB",
          "GB",
          "PL",
          "PL",
          "RO",
          "XK",
          "NO",
          "LT",
          "LT",
          "PL",
          "PL",
          "ES",
          "IT",
          "GB",
          "SE",
          "FR",
          "GB",
          "ES",
          "DE",
          "ES",
          "ES",
          "ES",
          "ES",
          "ES",
          "ES",
          "ES",
          "ES",
          "NL",
          "GB",
          "GB",
          "HU",
          "FR",
          "DE",
          "IT",
          "FR",
          "DK",
          "DE",
          "FR",
          "CH",
          "FI",
          "PL",
          "GB",
          "ES",
          "DE",
          "PL",
          "CZ",
          "ES",
          "PL",
          "ES",
          "AT",
          "IT",
          "IT",
          "PL",
          "RU",
          "RU",
          "RU",
          "RU",
          "SE",
          "SE",
          "NL",
          "FR",
          "ES",
          "ES",
          "HU",
          "FR",
          "FR",
          "BE",
          "PT",
          "FR",
          "ES",
          "FR",
          "RU",
          "RU",
          "RU",
          "RU",
          "RU",
          "RU",
          "RU",
          "RU",
          "ES",
          "DE",
          "GB",
          "IT",
          "BE",
          "DE",
          "DE",
          "AT",
          "DE",
          "GB",
          "XK",
          "DE",
          "ES",
          "NL",
          "GR",
          "IT",
          "FR",
          "FR",
          "IT",
          "FI",
          "GB",
          "DE",
          "XK",
          "PL",
          "IT",
          "AT",
          "LT",
          "CH",
          "ES",
          "IT",
          "BE",
          "IT",
          "IT",
          "PL",
          "IT",
          "IT",
          "IT",
          "GB",
          "IT",
          "IT",
          "AT",
          "ES",
          "RU",
          "FR",
          "ES",
          "CH",
          "ES",
          "ES",
          "GB",
          "ES",
          "GR",
          "NL",
          "CH",
          "FR",
          "GR",
          "RO",
          "RU",
          "CH",
          "RO",
          "PT",
          "FR",
          "GB",
          "ES",
          "FR",
          "IT",
          "FR",
          "PT",
          "GB",
          "FR",
          "ES",
          "ES",
          "NL",
          "SE",
          "NO",
          "FR",
          "SE",
          "FI",
          "NO",
          "NO",
          "CH",
          "RU",
          "RO",
          "RO",
          "ES",
          "ES",
          "DE",
          "RU",
          "RU",
          "IT",
          "ES",
          "IT",
          "IT",
          "IT",
          "DE",
          "IT",
          "ES",
          "IT",
          "IT",
          "DE",
          "IT",
          "GB",
          "IT",
          "IT",
          "IT",
          "ES",
          "ES",
          "ES",
          "IT",
          "FR",
          "CH",
          "FI",
          "ES",
          "DE",
          "DE",
          "BE",
          "IT",
          "RU",
          "RU",
          "NL",
          "GB",
          "CH",
          "PT",
          "LT",
          "GB",
          "AT",
          "EE",
          "AT",
          "ES",
          "AT",
          "GB",
          "DE",
          "ES",
          "ES",
          "RU",
          "CH",
          "GR",
          "RS",
          "SK",
          "DE",
          "DK",
          "NL",
          "IT",
          "DE",
          "DE",
          "SE",
          "HR",
          "CH",
          "ES",
          "GR",
          "ES",
          "IT",
          "GB",
          "DK",
          "BE",
          "NL",
          "DE",
          "DE",
          "GB",
          "GB",
          "GB",
          "ES",
          "DE",
          "IT",
          "BG",
          "AT",
          "IT",
          "FR",
          "SK",
          "HU",
          "PL",
          "DE",
          "IT",
          "FR",
          "IT",
          "NL",
          "PT",
          "IT",
          "PL",
          "PL",
          "PL",
          "FR",
          "IT",
          "DE",
          "PT",
          "PL",
          "CZ",
          "IT",
          "LV",
          "ES",
          "GR",
          "BG",
          "ES",
          "PL",
          "PL",
          "AL",
          "IT",
          "IT",
          "IT",
          "ES",
          "ES",
          "IT",
          "PL",
          "HR",
          "ES",
          "DE",
          "DE",
          "NL",
          "PL",
          "NO",
          "RU",
          "RU",
          "RU",
          "RU",
          "RU",
          "ES",
          "IT",
          "IT",
          "ES",
          "GB",
          "IT",
          "IT",
          "GB",
          "PL",
          "NL",
          "SE",
          "GB",
          "DE",
          "FI",
          "GB",
          "NO",
          "SE",
          "ES",
          "IT",
          "IT",
          "IT",
          "FR",
          "IT",
          "IT",
          "BE",
          "IT",
          "DE",
          "DE",
          "FR",
          "IT",
          "DE",
          "IT",
          "IT",
          "IT",
          "IT",
          "IT",
          "SE",
          "CH",
          "FI",
          "GB",
          "FR",
          "ES",
          "DE",
          "NL",
          "EE",
          "NO",
          "SE",
          "IT",
          "IT",
          "SE",
          "GB",
          "DE",
          "RO",
          "IT",
          "LT",
          "FR",
          "BE",
          "RO",
          "BG",
          "AL",
          "AT",
          "ES",
          "IT",
          "FR",
          "RO",
          "GB",
          "RU",
          "RU",
          "RU",
          "RU",
          "RU",
          "RU",
          "RU",
          "RU",
          "RU",
          "SE",
          "FI",
          "BG",
          "DE",
          "NL",
          "ES",
          "IT",
          "FR",
          "FR",
          "IT",
          "GB",
          "IT",
          "DE",
          "GB",
          "GB",
          "PT",
          "ES",
          "GB",
          "DE",
          "IT",
          "IT",
          "IT",
          "ES",
          "ES",
          "ES",
          "GR",
          "ES",
          "IT",
          "BE",
          "FR",
          "RO",
          "CH",
          "DE",
          "FI",
          "AT",
          "GB",
          "LU",
          "ES",
          "DE",
          "IT",
          "RO",
          "DE",
          "NO",
          "CH",
          "RU",
          "RU",
          "BE",
          "ES",
          "PT",
          "ES",
          "FR",
          "DE",
          "RU",
          "RU",
          "RU",
          "RU",
          "PL",
          "PL",
          "IT",
          "PT",
          "PT",
          "NL",
          "GR",
          "ES",
          "ES",
          "IT",
          "BE",
          "BE",
          "HU",
          "FR",
          "RO",
          "PL",
          "FR",
          "CH",
          "PL",
          "PL",
          "GB",
          "GB",
          "SI",
          "DE",
          "RO",
          "CZ",
          "LT",
          "IT",
          "PL",
          "CH",
          "ES",
          "IT",
          "ES",
          "GB",
          "PL",
          "ES",
          "ES",
          "ES",
          "NL",
          "BE",
          "DE",
          "GB",
          "DE",
          "AT",
          "CH",
          "FR",
          "ES",
          "IT",
          "BE",
          "FR",
          "GB",
          "SE",
          "CH",
          "ES",
          "DE",
          "PT",
          "RO",
          "XK",
          "DE"
         ],
         "xaxis": "x",
         "yaxis": "y"
        }
       ],
       "layout": {
        "barmode": "relative",
        "legend": {
         "tracegroupgap": 0
        },
        "margin": {
         "t": 60
        },
        "template": {
         "data": {
          "bar": [
           {
            "error_x": {
             "color": "#2a3f5f"
            },
            "error_y": {
             "color": "#2a3f5f"
            },
            "marker": {
             "line": {
              "color": "#E5ECF6",
              "width": 0.5
             },
             "pattern": {
              "fillmode": "overlay",
              "size": 10,
              "solidity": 0.2
             }
            },
            "type": "bar"
           }
          ],
          "barpolar": [
           {
            "marker": {
             "line": {
              "color": "#E5ECF6",
              "width": 0.5
             },
             "pattern": {
              "fillmode": "overlay",
              "size": 10,
              "solidity": 0.2
             }
            },
            "type": "barpolar"
           }
          ],
          "carpet": [
           {
            "aaxis": {
             "endlinecolor": "#2a3f5f",
             "gridcolor": "white",
             "linecolor": "white",
             "minorgridcolor": "white",
             "startlinecolor": "#2a3f5f"
            },
            "baxis": {
             "endlinecolor": "#2a3f5f",
             "gridcolor": "white",
             "linecolor": "white",
             "minorgridcolor": "white",
             "startlinecolor": "#2a3f5f"
            },
            "type": "carpet"
           }
          ],
          "choropleth": [
           {
            "colorbar": {
             "outlinewidth": 0,
             "ticks": ""
            },
            "type": "choropleth"
           }
          ],
          "contour": [
           {
            "colorbar": {
             "outlinewidth": 0,
             "ticks": ""
            },
            "colorscale": [
             [
              0,
              "#0d0887"
             ],
             [
              0.1111111111111111,
              "#46039f"
             ],
             [
              0.2222222222222222,
              "#7201a8"
             ],
             [
              0.3333333333333333,
              "#9c179e"
             ],
             [
              0.4444444444444444,
              "#bd3786"
             ],
             [
              0.5555555555555556,
              "#d8576b"
             ],
             [
              0.6666666666666666,
              "#ed7953"
             ],
             [
              0.7777777777777778,
              "#fb9f3a"
             ],
             [
              0.8888888888888888,
              "#fdca26"
             ],
             [
              1,
              "#f0f921"
             ]
            ],
            "type": "contour"
           }
          ],
          "contourcarpet": [
           {
            "colorbar": {
             "outlinewidth": 0,
             "ticks": ""
            },
            "type": "contourcarpet"
           }
          ],
          "heatmap": [
           {
            "colorbar": {
             "outlinewidth": 0,
             "ticks": ""
            },
            "colorscale": [
             [
              0,
              "#0d0887"
             ],
             [
              0.1111111111111111,
              "#46039f"
             ],
             [
              0.2222222222222222,
              "#7201a8"
             ],
             [
              0.3333333333333333,
              "#9c179e"
             ],
             [
              0.4444444444444444,
              "#bd3786"
             ],
             [
              0.5555555555555556,
              "#d8576b"
             ],
             [
              0.6666666666666666,
              "#ed7953"
             ],
             [
              0.7777777777777778,
              "#fb9f3a"
             ],
             [
              0.8888888888888888,
              "#fdca26"
             ],
             [
              1,
              "#f0f921"
             ]
            ],
            "type": "heatmap"
           }
          ],
          "heatmapgl": [
           {
            "colorbar": {
             "outlinewidth": 0,
             "ticks": ""
            },
            "colorscale": [
             [
              0,
              "#0d0887"
             ],
             [
              0.1111111111111111,
              "#46039f"
             ],
             [
              0.2222222222222222,
              "#7201a8"
             ],
             [
              0.3333333333333333,
              "#9c179e"
             ],
             [
              0.4444444444444444,
              "#bd3786"
             ],
             [
              0.5555555555555556,
              "#d8576b"
             ],
             [
              0.6666666666666666,
              "#ed7953"
             ],
             [
              0.7777777777777778,
              "#fb9f3a"
             ],
             [
              0.8888888888888888,
              "#fdca26"
             ],
             [
              1,
              "#f0f921"
             ]
            ],
            "type": "heatmapgl"
           }
          ],
          "histogram": [
           {
            "marker": {
             "pattern": {
              "fillmode": "overlay",
              "size": 10,
              "solidity": 0.2
             }
            },
            "type": "histogram"
           }
          ],
          "histogram2d": [
           {
            "colorbar": {
             "outlinewidth": 0,
             "ticks": ""
            },
            "colorscale": [
             [
              0,
              "#0d0887"
             ],
             [
              0.1111111111111111,
              "#46039f"
             ],
             [
              0.2222222222222222,
              "#7201a8"
             ],
             [
              0.3333333333333333,
              "#9c179e"
             ],
             [
              0.4444444444444444,
              "#bd3786"
             ],
             [
              0.5555555555555556,
              "#d8576b"
             ],
             [
              0.6666666666666666,
              "#ed7953"
             ],
             [
              0.7777777777777778,
              "#fb9f3a"
             ],
             [
              0.8888888888888888,
              "#fdca26"
             ],
             [
              1,
              "#f0f921"
             ]
            ],
            "type": "histogram2d"
           }
          ],
          "histogram2dcontour": [
           {
            "colorbar": {
             "outlinewidth": 0,
             "ticks": ""
            },
            "colorscale": [
             [
              0,
              "#0d0887"
             ],
             [
              0.1111111111111111,
              "#46039f"
             ],
             [
              0.2222222222222222,
              "#7201a8"
             ],
             [
              0.3333333333333333,
              "#9c179e"
             ],
             [
              0.4444444444444444,
              "#bd3786"
             ],
             [
              0.5555555555555556,
              "#d8576b"
             ],
             [
              0.6666666666666666,
              "#ed7953"
             ],
             [
              0.7777777777777778,
              "#fb9f3a"
             ],
             [
              0.8888888888888888,
              "#fdca26"
             ],
             [
              1,
              "#f0f921"
             ]
            ],
            "type": "histogram2dcontour"
           }
          ],
          "mesh3d": [
           {
            "colorbar": {
             "outlinewidth": 0,
             "ticks": ""
            },
            "type": "mesh3d"
           }
          ],
          "parcoords": [
           {
            "line": {
             "colorbar": {
              "outlinewidth": 0,
              "ticks": ""
             }
            },
            "type": "parcoords"
           }
          ],
          "pie": [
           {
            "automargin": true,
            "type": "pie"
           }
          ],
          "scatter": [
           {
            "fillpattern": {
             "fillmode": "overlay",
             "size": 10,
             "solidity": 0.2
            },
            "type": "scatter"
           }
          ],
          "scatter3d": [
           {
            "line": {
             "colorbar": {
              "outlinewidth": 0,
              "ticks": ""
             }
            },
            "marker": {
             "colorbar": {
              "outlinewidth": 0,
              "ticks": ""
             }
            },
            "type": "scatter3d"
           }
          ],
          "scattercarpet": [
           {
            "marker": {
             "colorbar": {
              "outlinewidth": 0,
              "ticks": ""
             }
            },
            "type": "scattercarpet"
           }
          ],
          "scattergeo": [
           {
            "marker": {
             "colorbar": {
              "outlinewidth": 0,
              "ticks": ""
             }
            },
            "type": "scattergeo"
           }
          ],
          "scattergl": [
           {
            "marker": {
             "colorbar": {
              "outlinewidth": 0,
              "ticks": ""
             }
            },
            "type": "scattergl"
           }
          ],
          "scattermapbox": [
           {
            "marker": {
             "colorbar": {
              "outlinewidth": 0,
              "ticks": ""
             }
            },
            "type": "scattermapbox"
           }
          ],
          "scatterpolar": [
           {
            "marker": {
             "colorbar": {
              "outlinewidth": 0,
              "ticks": ""
             }
            },
            "type": "scatterpolar"
           }
          ],
          "scatterpolargl": [
           {
            "marker": {
             "colorbar": {
              "outlinewidth": 0,
              "ticks": ""
             }
            },
            "type": "scatterpolargl"
           }
          ],
          "scatterternary": [
           {
            "marker": {
             "colorbar": {
              "outlinewidth": 0,
              "ticks": ""
             }
            },
            "type": "scatterternary"
           }
          ],
          "surface": [
           {
            "colorbar": {
             "outlinewidth": 0,
             "ticks": ""
            },
            "colorscale": [
             [
              0,
              "#0d0887"
             ],
             [
              0.1111111111111111,
              "#46039f"
             ],
             [
              0.2222222222222222,
              "#7201a8"
             ],
             [
              0.3333333333333333,
              "#9c179e"
             ],
             [
              0.4444444444444444,
              "#bd3786"
             ],
             [
              0.5555555555555556,
              "#d8576b"
             ],
             [
              0.6666666666666666,
              "#ed7953"
             ],
             [
              0.7777777777777778,
              "#fb9f3a"
             ],
             [
              0.8888888888888888,
              "#fdca26"
             ],
             [
              1,
              "#f0f921"
             ]
            ],
            "type": "surface"
           }
          ],
          "table": [
           {
            "cells": {
             "fill": {
              "color": "#EBF0F8"
             },
             "line": {
              "color": "white"
             }
            },
            "header": {
             "fill": {
              "color": "#C8D4E3"
             },
             "line": {
              "color": "white"
             }
            },
            "type": "table"
           }
          ]
         },
         "layout": {
          "annotationdefaults": {
           "arrowcolor": "#2a3f5f",
           "arrowhead": 0,
           "arrowwidth": 1
          },
          "autotypenumbers": "strict",
          "coloraxis": {
           "colorbar": {
            "outlinewidth": 0,
            "ticks": ""
           }
          },
          "colorscale": {
           "diverging": [
            [
             0,
             "#8e0152"
            ],
            [
             0.1,
             "#c51b7d"
            ],
            [
             0.2,
             "#de77ae"
            ],
            [
             0.3,
             "#f1b6da"
            ],
            [
             0.4,
             "#fde0ef"
            ],
            [
             0.5,
             "#f7f7f7"
            ],
            [
             0.6,
             "#e6f5d0"
            ],
            [
             0.7,
             "#b8e186"
            ],
            [
             0.8,
             "#7fbc41"
            ],
            [
             0.9,
             "#4d9221"
            ],
            [
             1,
             "#276419"
            ]
           ],
           "sequential": [
            [
             0,
             "#0d0887"
            ],
            [
             0.1111111111111111,
             "#46039f"
            ],
            [
             0.2222222222222222,
             "#7201a8"
            ],
            [
             0.3333333333333333,
             "#9c179e"
            ],
            [
             0.4444444444444444,
             "#bd3786"
            ],
            [
             0.5555555555555556,
             "#d8576b"
            ],
            [
             0.6666666666666666,
             "#ed7953"
            ],
            [
             0.7777777777777778,
             "#fb9f3a"
            ],
            [
             0.8888888888888888,
             "#fdca26"
            ],
            [
             1,
             "#f0f921"
            ]
           ],
           "sequentialminus": [
            [
             0,
             "#0d0887"
            ],
            [
             0.1111111111111111,
             "#46039f"
            ],
            [
             0.2222222222222222,
             "#7201a8"
            ],
            [
             0.3333333333333333,
             "#9c179e"
            ],
            [
             0.4444444444444444,
             "#bd3786"
            ],
            [
             0.5555555555555556,
             "#d8576b"
            ],
            [
             0.6666666666666666,
             "#ed7953"
            ],
            [
             0.7777777777777778,
             "#fb9f3a"
            ],
            [
             0.8888888888888888,
             "#fdca26"
            ],
            [
             1,
             "#f0f921"
            ]
           ]
          },
          "colorway": [
           "#636efa",
           "#EF553B",
           "#00cc96",
           "#ab63fa",
           "#FFA15A",
           "#19d3f3",
           "#FF6692",
           "#B6E880",
           "#FF97FF",
           "#FECB52"
          ],
          "font": {
           "color": "#2a3f5f"
          },
          "geo": {
           "bgcolor": "white",
           "lakecolor": "white",
           "landcolor": "#E5ECF6",
           "showlakes": true,
           "showland": true,
           "subunitcolor": "white"
          },
          "hoverlabel": {
           "align": "left"
          },
          "hovermode": "closest",
          "mapbox": {
           "style": "light"
          },
          "paper_bgcolor": "white",
          "plot_bgcolor": "#E5ECF6",
          "polar": {
           "angularaxis": {
            "gridcolor": "white",
            "linecolor": "white",
            "ticks": ""
           },
           "bgcolor": "#E5ECF6",
           "radialaxis": {
            "gridcolor": "white",
            "linecolor": "white",
            "ticks": ""
           }
          },
          "scene": {
           "xaxis": {
            "backgroundcolor": "#E5ECF6",
            "gridcolor": "white",
            "gridwidth": 2,
            "linecolor": "white",
            "showbackground": true,
            "ticks": "",
            "zerolinecolor": "white"
           },
           "yaxis": {
            "backgroundcolor": "#E5ECF6",
            "gridcolor": "white",
            "gridwidth": 2,
            "linecolor": "white",
            "showbackground": true,
            "ticks": "",
            "zerolinecolor": "white"
           },
           "zaxis": {
            "backgroundcolor": "#E5ECF6",
            "gridcolor": "white",
            "gridwidth": 2,
            "linecolor": "white",
            "showbackground": true,
            "ticks": "",
            "zerolinecolor": "white"
           }
          },
          "shapedefaults": {
           "line": {
            "color": "#2a3f5f"
           }
          },
          "ternary": {
           "aaxis": {
            "gridcolor": "white",
            "linecolor": "white",
            "ticks": ""
           },
           "baxis": {
            "gridcolor": "white",
            "linecolor": "white",
            "ticks": ""
           },
           "bgcolor": "#E5ECF6",
           "caxis": {
            "gridcolor": "white",
            "linecolor": "white",
            "ticks": ""
           }
          },
          "title": {
           "x": 0.05
          },
          "xaxis": {
           "automargin": true,
           "gridcolor": "white",
           "linecolor": "white",
           "ticks": "",
           "title": {
            "standoff": 15
           },
           "zerolinecolor": "white",
           "zerolinewidth": 2
          },
          "yaxis": {
           "automargin": true,
           "gridcolor": "white",
           "linecolor": "white",
           "ticks": "",
           "title": {
            "standoff": 15
           },
           "zerolinecolor": "white",
           "zerolinewidth": 2
          }
         }
        },
        "title": {
         "text": "Country Representation in Dataset"
        },
        "xaxis": {
         "anchor": "y",
         "domain": [
          0,
          1
         ],
         "title": {
          "text": "Country"
         }
        },
        "yaxis": {
         "anchor": "x",
         "domain": [
          0,
          1
         ],
         "title": {
          "text": "Count"
         }
        }
       }
      }
     },
     "metadata": {},
     "output_type": "display_data"
    }
   ],
   "source": [
    "all_countries = pd.concat([merged_data['dep_iso_country'], merged_data['arr_iso_country']])\n",
    "\n",
    "# Create a histogram of the countries\n",
    "country_histogram = px.histogram(all_countries, x=all_countries)\n",
    "country_histogram.update_layout(\n",
    "    title='Country Representation in Dataset',\n",
    "    xaxis_title='Country',\n",
    "    yaxis_title='Count'\n",
    ")\n",
    "\n",
    "\n",
    "country_histogram.show()"
   ]
  },
  {
   "attachments": {},
   "cell_type": "markdown",
   "metadata": {},
   "source": [
    "### Plotting in Minutes"
   ]
  },
  {
   "cell_type": "code",
   "execution_count": 131,
   "metadata": {},
   "outputs": [
    {
     "data": {
      "application/vnd.plotly.v1+json": {
       "config": {
        "plotlyServerURL": "https://plot.ly"
       },
       "data": [
        {
         "customdata": [
          [
           "Aalborg",
           "Amsterdam"
          ],
          [
           "Novorossiysk",
           "Saint Petersburg"
          ],
          [
           "Novorossiysk",
           "Saint Petersburg"
          ],
          [
           "Amsterdam",
           "Aberdeen"
          ],
          [
           "Aberdeen",
           "London"
          ],
          [
           "Sochi",
           "Cherepovets"
          ],
          [
           "Sochi",
           "Moscow"
          ],
          [
           "Sochi",
           "Moscow"
          ],
          [
           "Sochi",
           "Moscow"
          ],
          [
           "Sochi",
           "Krasnoyarsk"
          ],
          [
           "Sochi",
           "Kazan"
          ],
          [
           "Sochi",
           "Saint Petersburg"
          ],
          [
           "Sochi",
           "Pskov"
          ],
          [
           "Ålesund",
           "Alicante"
          ],
          [
           "Ålesund",
           "Bergen"
          ],
          [
           "Barcelona",
           "Málaga"
          ],
          [
           "Bordeaux",
           "Málaga"
          ],
          [
           "Gothenburg",
           "Málaga"
          ],
          [
           "Hamburg",
           "Málaga"
          ],
          [
           "London",
           "Málaga"
          ],
          [
           "London",
           "Málaga"
          ],
          [
           "London",
           "Málaga"
          ],
          [
           "London",
           "Málaga"
          ],
          [
           "Madrid",
           "Málaga"
          ],
          [
           "Sassari",
           "Monza"
          ],
          [
           "Sassari",
           "Rome"
          ],
          [
           "Sassari",
           "Milan"
          ],
          [
           "Ajaccio",
           "Nice"
          ],
          [
           "Ajaccio",
           "Paris"
          ],
          [
           "Alicante",
           "Barcelona"
          ],
          [
           "Bristol",
           "Alicante"
          ],
          [
           "Alicante",
           "Madrid"
          ],
          [
           "Alicante",
           "Porto"
          ],
          [
           "Alicante",
           "Warsaw"
          ],
          [
           "Aberdeen",
           "Amsterdam"
          ],
          [
           "Amsterdam",
           "Málaga"
          ],
          [
           "Amsterdam",
           "Stockholm"
          ],
          [
           "Athens",
           "Amsterdam"
          ],
          [
           "Amsterdam",
           "Barcelona"
          ],
          [
           "Amsterdam",
           "Bergen"
          ],
          [
           "Amsterdam",
           "Birmingham"
          ],
          [
           "Amsterdam",
           "Kolding"
          ],
          [
           "Amsterdam",
           "Burgas"
          ],
          [
           "Amsterdam",
           "Bristol"
          ],
          [
           "Amsterdam",
           "Paris"
          ],
          [
           "Amsterdam",
           "Weston-super-Mare"
          ],
          [
           "Amsterdam",
           "Florence"
          ],
          [
           "Amsterdam",
           "Gdańsk"
          ],
          [
           "Amsterdam",
           "Geneva"
          ],
          [
           "Amsterdam",
           "Hamburg"
          ],
          [
           "Amsterdam",
           "Helsinki"
          ],
          [
           "Amsterdam",
           "London"
          ],
          [
           "London",
           "Amsterdam"
          ],
          [
           "London",
           "Amsterdam"
          ],
          [
           "London",
           "Amsterdam"
          ],
          [
           "Amsterdam",
           "Munich"
          ],
          [
           "Amsterdam",
           "Norwich"
          ],
          [
           "Amsterdam",
           "Porto"
          ],
          [
           "Amsterdam",
           "Bucharest"
          ],
          [
           "Amsterdam",
           "Prague"
          ],
          [
           "Amsterdam",
           "Rovaniemi"
          ],
          [
           "Amsterdam",
           "Portsmouth"
          ],
          [
           "Amsterdam",
           "Valencia"
          ],
          [
           "Amsterdam",
           "Zürich"
          ],
          [
           "Arkhangelsk",
           "Saint Petersburg"
          ],
          [
           "Stockholm",
           "Málaga"
          ],
          [
           "Monza",
           "Stockholm"
          ],
          [
           "Stockholm",
           "Gothenburg"
          ],
          [
           "Helsinki",
           "Stockholm"
          ],
          [
           "Munich",
           "Stockholm"
          ],
          [
           "Stockholm",
           "Poznań"
          ],
          [
           "Astrakhan",
           "Moscow"
          ],
          [
           "Athens",
           "Bologna"
          ],
          [
           "Athens",
           "Brussels"
          ],
          [
           "Athens",
           "Paris"
          ],
          [
           "Athens",
           "Geneva"
          ],
          [
           "Kavála",
           "Athens"
          ],
          [
           "Athens",
           "London"
          ],
          [
           "Athens",
           "Bucharest"
          ],
          [
           "Athens",
           "Thessaloníki"
          ],
          [
           "Athens",
           "Zürich"
          ],
          [
           "Málaga",
           "Barcelona"
          ],
          [
           "Bordeaux",
           "Barcelona"
          ],
          [
           "Brussels",
           "Barcelona"
          ],
          [
           "Brussels",
           "Barcelona"
          ],
          [
           "Genoa",
           "Barcelona"
          ],
          [
           "Gothenburg",
           "Barcelona"
          ],
          [
           "London",
           "Barcelona"
          ],
          [
           "London",
           "Barcelona"
          ],
          [
           "London",
           "Barcelona"
          ],
          [
           "London",
           "Barcelona"
          ],
          [
           "Maastricht",
           "Barcelona"
          ],
          [
           "Porto",
           "Barcelona"
          ],
          [
           "Bucharest",
           "Barcelona"
          ],
          [
           "Belgrade",
           "Barcelona"
          ],
          [
           "Belgrade",
           "Budapest"
          ],
          [
           "Belgrade",
           "Amiens"
          ],
          [
           "Belgrade",
           "Paris"
          ],
          [
           "Belgrade",
           "Niš"
          ],
          [
           "Belgrade",
           "Lisbon"
          ],
          [
           "Belgrade",
           "Oslo"
          ],
          [
           "Belgrade",
           "Moscow"
          ],
          [
           "Belgrade",
           "Vienna"
          ],
          [
           "Belgrade",
           "Warsaw"
          ],
          [
           "Belgrade",
           "Zürich"
          ],
          [
           "Belfast",
           "Birmingham"
          ],
          [
           "Belfast",
           "Birmingham"
          ],
          [
           "Belfast",
           "Dunfermline"
          ],
          [
           "Belfast",
           "Geneva"
          ],
          [
           "Bragança",
           "Vila Real"
          ],
          [
           "Stockholm",
           "Monza"
          ],
          [
           "Bristol",
           "Monza"
          ],
          [
           "Amiens",
           "Monza"
          ],
          [
           "Monza",
           "Cagliari"
          ],
          [
           "Monza",
           "Brussels"
          ],
          [
           "Monza",
           "Iaşi"
          ],
          [
           "Monza",
           "Bucharest"
          ],
          [
           "Pescara",
           "Monza"
          ],
          [
           "Monza",
           "Cosenza"
          ],
          [
           "Belfast",
           "Amsterdam"
          ],
          [
           "Belfast",
           "London"
          ],
          [
           "Belfast",
           "London"
          ],
          [
           "Belfast",
           "Manchester"
          ],
          [
           "Birmingham",
           "Málaga"
          ],
          [
           "Birmingham",
           "Barcelona"
          ],
          [
           "Birmingham",
           "Craiova"
          ],
          [
           "Birmingham",
           "Porto"
          ],
          [
           "Birmingham",
           "Bucharest"
          ],
          [
           "Birmingham",
           "Poznań"
          ],
          [
           "Birmingham",
           "Valencia"
          ],
          [
           "Bilbao",
           "Amsterdam"
          ],
          [
           "Bilbao",
           "Barcelona"
          ],
          [
           "Bilbao",
           "London"
          ],
          [
           "Bilbao",
           "Madrid"
          ],
          [
           "Bilbao",
           "Porto"
          ],
          [
           "Gdańsk",
           "Kolding"
          ],
          [
           "Bucharest",
           "Kolding"
          ],
          [
           "Craiova",
           "Bologna"
          ],
          [
           "Southampton",
           "Málaga"
          ],
          [
           "Bremen",
           "Munich"
          ],
          [
           "Bari",
           "Monza"
          ],
          [
           "Bari",
           "Budapest"
          ],
          [
           "Bari",
           "Brussels"
          ],
          [
           "Bari",
           "Rome"
          ],
          [
           "Bari",
           "Milan"
          ],
          [
           "Bari",
           "Novara"
          ],
          [
           "Bari",
           "Turin"
          ],
          [
           "Bari",
           "Venice"
          ],
          [
           "Bari",
           "Verona"
          ],
          [
           "Bari",
           "Warsaw"
          ],
          [
           "Bristol",
           "Málaga"
          ],
          [
           "Monza",
           "Bristol"
          ],
          [
           "Grenoble",
           "Bristol"
          ],
          [
           "Bristol",
           "Porto"
          ],
          [
           "Bristol",
           "Poznań"
          ],
          [
           "Barcelona",
           "Brussels"
          ],
          [
           "Barcelona",
           "Brussels"
          ],
          [
           "Freiburg im Breisgau",
           "Amsterdam"
          ],
          [
           "Freiburg im Breisgau",
           "Paris"
          ],
          [
           "Freiburg im Breisgau",
           "Catania"
          ],
          [
           "Freiburg im Breisgau",
           "Munich"
          ],
          [
           "Freiburg im Breisgau",
           "Bucharest"
          ],
          [
           "Freiburg im Breisgau",
           "Pristina"
          ],
          [
           "Freiburg im Breisgau",
           "Cosenza"
          ],
          [
           "Bratislava",
           "Kaunas"
          ],
          [
           "Bratislava",
           "London"
          ],
          [
           "Budapest",
           "Málaga"
          ],
          [
           "Budapest",
           "Stockholm"
          ],
          [
           "Budapest",
           "Athens"
          ],
          [
           "Budapest",
           "Barcelona"
          ],
          [
           "Budapest",
           "Monza"
          ],
          [
           "Budapest",
           "Birmingham"
          ],
          [
           "Budapest",
           "Bologna"
          ],
          [
           "Budapest",
           "Bristol"
          ],
          [
           "Budapest",
           "Rome"
          ],
          [
           "Budapest",
           "Brussels"
          ],
          [
           "Budapest",
           "Catania"
          ],
          [
           "Budapest",
           "Helsinki"
          ],
          [
           "Budapest",
           "London"
          ],
          [
           "Budapest",
           "London"
          ],
          [
           "Budapest",
           "Madrid"
          ],
          [
           "Budapest",
           "Marseille"
          ],
          [
           "Budapest",
           "Novara"
          ],
          [
           "Budapest",
           "Prague"
          ],
          [
           "Budapest",
           "Warsaw"
          ],
          [
           "Amiens",
           "Barcelona"
          ],
          [
           "Monza",
           "Amiens"
          ],
          [
           "Amiens",
           "Porto"
          ],
          [
           "Bydgoszcz",
           "London"
          ],
          [
           "Sète",
           "Brussels"
          ],
          [
           "Paris",
           "Málaga"
          ],
          [
           "Paris",
           "Málaga"
          ],
          [
           "Stockholm",
           "Paris"
          ],
          [
           "Paris",
           "Barcelona"
          ],
          [
           "Paris",
           "Barcelona"
          ],
          [
           "Paris",
           "Birmingham"
          ],
          [
           "Paris",
           "Bologna"
          ],
          [
           "Paris",
           "Bordeaux"
          ],
          [
           "Paris",
           "Brussels"
          ],
          [
           "Paris",
           "Gothenburg"
          ],
          [
           "Helsinki",
           "Paris"
          ],
          [
           "Munich",
           "Paris"
          ],
          [
           "Paris",
           "Bucharest"
          ],
          [
           "Castellón de la Plana",
           "Mönchengladbach"
          ],
          [
           "Saint Petersburg",
           "Cherepovets"
          ],
          [
           "Chelyabinsk",
           "Saint Petersburg"
          ],
          [
           "Moscow",
           "Chelyabinsk"
          ],
          [
           "Chelyabinsk",
           "Moscow"
          ],
          [
           "Chelyabinsk",
           "Moscow"
          ],
          [
           "Cologne",
           "Málaga"
          ],
          [
           "Cologne",
           "Munich"
          ],
          [
           "Cologne",
           "Munich"
          ],
          [
           "Varna",
           "Cologne"
          ],
          [
           "Brussels",
           "Rome"
          ],
          [
           "Bucharest",
           "Rome"
          ],
          [
           "Cluj-Napoca",
           "Monza"
          ],
          [
           "Cluj-Napoca",
           "Rome"
          ],
          [
           "London",
           "Cluj-Napoca"
          ],
          [
           "Cluj-Napoca",
           "Bucharest"
          ],
          [
           "Annecy",
           "Birmingham"
          ],
          [
           "Copenhagen",
           "Aalborg"
          ],
          [
           "Copenhagen",
           "Aarhus"
          ],
          [
           "Copenhagen",
           "Málaga"
          ],
          [
           "Copenhagen",
           "Alicante"
          ],
          [
           "Copenhagen",
           "Amsterdam"
          ],
          [
           "Copenhagen",
           "Stockholm"
          ],
          [
           "Copenhagen",
           "Budapest"
          ],
          [
           "Copenhagen",
           "Trento"
          ],
          [
           "Copenhagen",
           "Paris"
          ],
          [
           "Copenhagen",
           "Cologne"
          ],
          [
           "Copenhagen",
           "Faro"
          ],
          [
           "Copenhagen",
           "Frankfurt"
          ],
          [
           "Copenhagen",
           "Gothenburg"
          ],
          [
           "Copenhagen",
           "Geneva"
          ],
          [
           "Copenhagen",
           "Hamburg"
          ],
          [
           "Copenhagen",
           "Helsinki"
          ],
          [
           "Copenhagen",
           "Kraków"
          ],
          [
           "Copenhagen",
           "Kaunas"
          ],
          [
           "Copenhagen",
           "London"
          ],
          [
           "Copenhagen",
           "London"
          ],
          [
           "Copenhagen",
           "Madrid"
          ],
          [
           "Copenhagen",
           "Manchester"
          ],
          [
           "Copenhagen",
           "Munich"
          ],
          [
           "Copenhagen",
           "Porto"
          ],
          [
           "Copenhagen",
           "Oslo"
          ],
          [
           "Copenhagen",
           "Salzburg"
          ],
          [
           "Copenhagen",
           "Vienna"
          ],
          [
           "Copenhagen",
           "Zürich"
          ],
          [
           "Bologna",
           "Craiova"
          ],
          [
           "Brussels",
           "Craiova"
          ],
          [
           "Rome",
           "Brussels"
          ],
          [
           "Rome",
           "Brussels"
          ],
          [
           "Bucharest",
           "Brussels"
          ],
          [
           "Cheboksary",
           "Moscow"
          ],
          [
           "Cheboksary",
           "Moscow"
          ],
          [
           "Catania",
           "Monza"
          ],
          [
           "Catania",
           "Bologna"
          ],
          [
           "Catania",
           "Brussels"
          ],
          [
           "Catania",
           "Florence"
          ],
          [
           "Catania",
           "Prague"
          ],
          [
           "Catania",
           "Verona"
          ],
          [
           "Debrecen",
           "London"
          ],
          [
           "Moscow",
           "Sochi"
          ],
          [
           "Moscow",
           "Groznyy"
          ],
          [
           "Moscow",
           "Groznyy"
          ],
          [
           "Moscow",
           "Groznyy"
          ],
          [
           "Moscow",
           "Izhevsk"
          ],
          [
           "Moscow",
           "Kazan"
          ],
          [
           "Moscow",
           "Saint Petersburg"
          ],
          [
           "Moscow",
           "Saint Petersburg"
          ],
          [
           "Moscow",
           "Saint Petersburg"
          ],
          [
           "Moscow",
           "Murmansk"
          ],
          [
           "Moscow",
           "Murmansk"
          ],
          [
           "Moscow",
           "Murmansk"
          ],
          [
           "Moscow",
           "Penza"
          ],
          [
           "Moscow",
           "Volgograd"
          ],
          [
           "Dortmund",
           "Belgrade"
          ],
          [
           "Dortmund",
           "Budapest"
          ],
          [
           "Dortmund",
           "Cluj-Napoca"
          ],
          [
           "Dortmund",
           "Rome"
          ],
          [
           "Dortmund",
           "Gdańsk"
          ],
          [
           "Dortmund",
           "Katowice"
          ],
          [
           "Dortmund",
           "Szczytno"
          ],
          [
           "Dortmund",
           "Vilnius"
          ],
          [
           "Cologne",
           "Amsterdam"
          ],
          [
           "Cologne",
           "Paris"
          ],
          [
           "Cologne",
           "Copenhagen"
          ],
          [
           "Cologne",
           "Frankfurt"
          ],
          [
           "Cologne",
           "Helsinki"
          ],
          [
           "Cologne",
           "Chisinau"
          ],
          [
           "Cologne",
           "London"
          ],
          [
           "Cologne",
           "Lisbon"
          ],
          [
           "Cologne",
           "Madrid"
          ],
          [
           "Cologne",
           "Pristina"
          ],
          [
           "Cologne",
           "Tirana"
          ],
          [
           "Cologne",
           "Tromsø"
          ],
          [
           "Cologne",
           "Vienna"
          ],
          [
           "Cologne",
           "Zürich"
          ],
          [
           "Donostia",
           "Madrid"
          ],
          [
           "Dunfermline",
           "Málaga"
          ],
          [
           "Dunfermline",
           "Birmingham"
          ],
          [
           "Dunfermline",
           "Bristol"
          ],
          [
           "Dunfermline",
           "Brussels"
          ],
          [
           "Dunfermline",
           "Geneva"
          ],
          [
           "Dunfermline",
           "London"
          ],
          [
           "Dunfermline",
           "Madrid"
          ],
          [
           "Eindhoven",
           "Málaga"
          ],
          [
           "Eindhoven",
           "Alicante"
          ],
          [
           "Eindhoven",
           "Athens"
          ],
          [
           "Eindhoven",
           "Monza"
          ],
          [
           "Eindhoven",
           "Budapest"
          ],
          [
           "Eindhoven",
           "Cluj-Napoca"
          ],
          [
           "Eindhoven",
           "Debrecen"
          ],
          [
           "Eindhoven",
           "Kraków"
          ],
          [
           "Eindhoven",
           "Lisbon"
          ],
          [
           "Eindhoven",
           "Salzburg"
          ],
          [
           "Eindhoven",
           "Vilnius"
          ],
          [
           "Nottingham",
           "Málaga"
          ],
          [
           "Nottingham",
           "Alicante"
          ],
          [
           "Nottingham",
           "Belfast"
          ],
          [
           "Nottingham",
           "Geneva"
          ],
          [
           "Nottingham",
           "Paris"
          ],
          [
           "Nottingham",
           "Rzeszów"
          ],
          [
           "Faro",
           "Belfast"
          ],
          [
           "Faro",
           "Lisbon"
          ],
          [
           "Rome",
           "Málaga"
          ],
          [
           "Rome",
           "Amsterdam"
          ],
          [
           "Rome",
           "Ancona"
          ],
          [
           "Rome",
           "Barcelona"
          ],
          [
           "Rome",
           "Bologna"
          ],
          [
           "Rome",
           "Budapest"
          ],
          [
           "Rome",
           "Cagliari"
          ],
          [
           "Rome",
           "Paris"
          ],
          [
           "Rome",
           "Paris"
          ],
          [
           "Rome",
           "Cologne"
          ],
          [
           "Rome",
           "Catania"
          ],
          [
           "Rome",
           "Eindhoven"
          ],
          [
           "Rome",
           "Florence"
          ],
          [
           "Rome",
           "Ulm"
          ],
          [
           "Rome",
           "Genoa"
          ],
          [
           "Rome",
           "London"
          ],
          [
           "Rome",
           "London"
          ],
          [
           "Rome",
           "Milan"
          ],
          [
           "Rome",
           "Lisbon"
          ],
          [
           "Rome",
           "Lyon"
          ],
          [
           "Rome",
           "Madrid"
          ],
          [
           "Rome",
           "Munich"
          ],
          [
           "Rome",
           "Nice"
          ],
          [
           "Rome",
           "Bucharest"
          ],
          [
           "Rome",
           "Bucharest"
          ],
          [
           "Rome",
           "Palermo"
          ],
          [
           "Rome",
           "Poznań"
          ],
          [
           "Rome",
           "Prague"
          ],
          [
           "Rome",
           "Radom"
          ],
          [
           "Rome",
           "Cosenza"
          ],
          [
           "Rome",
           "Tirana"
          ],
          [
           "Rome",
           "Turin"
          ],
          [
           "Rome",
           "Trieste"
          ],
          [
           "Rome",
           "Vienna"
          ],
          [
           "Rome",
           "Valencia"
          ],
          [
           "Rome",
           "Verona"
          ],
          [
           "Rome",
           "Warsaw"
          ],
          [
           "Rome",
           "Zürich"
          ],
          [
           "Florence",
           "Paris"
          ],
          [
           "Florence",
           "London"
          ],
          [
           "Florence",
           "Madrid"
          ],
          [
           "Florence",
           "Munich"
          ],
          [
           "Ulm",
           "Cluj-Napoca"
          ],
          [
           "Ulm",
           "Porto"
          ],
          [
           "Ulm",
           "Bucharest"
          ],
          [
           "Frankfurt",
           "Málaga"
          ],
          [
           "Frankfurt",
           "Alicante"
          ],
          [
           "Frankfurt",
           "Amsterdam"
          ],
          [
           "Frankfurt",
           "Stockholm"
          ],
          [
           "Frankfurt",
           "Bologna"
          ],
          [
           "Frankfurt",
           "Bremen"
          ],
          [
           "Frankfurt",
           "Bristol"
          ],
          [
           "Frankfurt",
           "Brussels"
          ],
          [
           "Frankfurt",
           "Freiburg im Breisgau"
          ],
          [
           "Frankfurt",
           "Budapest"
          ],
          [
           "Frankfurt",
           "Paris"
          ],
          [
           "Frankfurt",
           "Dresden"
          ],
          [
           "Frankfurt",
           "Cologne"
          ],
          [
           "Frankfurt",
           "Florence"
          ],
          [
           "Frankfurt",
           "Gothenburg"
          ],
          [
           "Frankfurt",
           "Graz"
          ],
          [
           "Frankfurt",
           "Geneva"
          ],
          [
           "Frankfurt",
           "Hamburg"
          ],
          [
           "Frankfurt",
           "Helsinki"
          ],
          [
           "Frankfurt",
           "Koblenz"
          ],
          [
           "Frankfurt",
           "Kraków"
          ],
          [
           "Frankfurt",
           "Leipzig"
          ],
          [
           "Frankfurt",
           "London"
          ],
          [
           "Frankfurt",
           "London"
          ],
          [
           "Frankfurt",
           "Milan"
          ],
          [
           "Frankfurt",
           "Manchester"
          ],
          [
           "Frankfurt",
           "Munich"
          ],
          [
           "Frankfurt",
           "Novara"
          ],
          [
           "Frankfurt",
           "Nuremberg"
          ],
          [
           "Frankfurt",
           "Oslo"
          ],
          [
           "Frankfurt",
           "Poznań"
          ],
          [
           "Frankfurt",
           "Prague"
          ],
          [
           "Frankfurt",
           "Stuttgart"
          ],
          [
           "Frankfurt",
           "Salzburg"
          ],
          [
           "Frankfurt",
           "Turin"
          ],
          [
           "Frankfurt",
           "Vienna"
          ],
          [
           "Frankfurt",
           "Warsaw"
          ],
          [
           "Frankfurt",
           "Wrocław"
          ],
          [
           "Frankfurt",
           "Bistrica ob Sotli"
          ],
          [
           "Frankfurt",
           "Zürich"
          ],
          [
           "Bristol",
           "Grenoble"
          ],
          [
           "Nizhniy Novgorod",
           "Saint Petersburg"
          ],
          [
           "Nizhniy Novgorod",
           "Moscow"
          ],
          [
           "Málaga",
           "Gothenburg"
          ],
          [
           "Bergen",
           "Gothenburg"
          ],
          [
           "Mataró",
           "Birmingham"
          ],
          [
           "Granada",
           "Barcelona"
          ],
          [
           "Granada",
           "Madrid"
          ],
          [
           "Geneva",
           "Stockholm"
          ],
          [
           "Geneva",
           "Barcelona"
          ],
          [
           "Geneva",
           "Birmingham"
          ],
          [
           "Geneva",
           "Southampton"
          ],
          [
           "Geneva",
           "Bristol"
          ],
          [
           "Geneva",
           "Brussels"
          ],
          [
           "Geneva",
           "Gothenburg"
          ],
          [
           "Geneva",
           "London"
          ],
          [
           "Geneva",
           "Madrid"
          ],
          [
           "Geneva",
           "Munich"
          ],
          [
           "Geneva",
           "Porto"
          ],
          [
           "Geneva",
           "Pristina"
          ],
          [
           "Geneva",
           "Portsmouth"
          ],
          [
           "Hannover",
           "Frankfurt"
          ],
          [
           "Hannover",
           "Munich"
          ],
          [
           "Málaga",
           "Hamburg"
          ],
          [
           "Haugesund",
           "Bergen"
          ],
          [
           "Stockholm",
           "Helsinki"
          ],
          [
           "Helsinki",
           "Barcelona"
          ],
          [
           "Helsinki",
           "Brussels"
          ],
          [
           "Paris",
           "Helsinki"
          ],
          [
           "Helsinki",
           "Gothenburg"
          ],
          [
           "Helsinki",
           "Hamburg"
          ],
          [
           "Oulu",
           "Helsinki"
          ],
          [
           "Rovaniemi",
           "Helsinki"
          ],
          [
           "Koblenz",
           "Málaga"
          ],
          [
           "Niš",
           "Koblenz"
          ],
          [
           "Iaşi",
           "Rome"
          ],
          [
           "Iaşi",
           "Bucharest"
          ],
          [
           "Ibiza",
           "Barcelona"
          ],
          [
           "Ibiza",
           "Madrid"
          ],
          [
           "Ibiza",
           "Valencia"
          ],
          [
           "Innsbruck",
           "Bristol"
          ],
          [
           "Innsbruck",
           "Dunfermline"
          ],
          [
           "Innsbruck",
           "Frankfurt"
          ],
          [
           "Innsbruck",
           "London"
          ],
          [
           "Innsbruck",
           "Manchester"
          ],
          [
           "Innsbruck",
           "Vienna"
          ],
          [
           "Forres",
           "London"
          ],
          [
           "Ivanovo",
           "Saint Petersburg"
          ],
          [
           "Kaliningrad",
           "Saint Petersburg"
          ],
          [
           "Moscow",
           "Kaliningrad"
          ],
          [
           "Moscow",
           "Kaliningrad"
          ],
          [
           "Bodrum",
           "Ródos"
          ],
          [
           "Chisinau",
           "Paris"
          ],
          [
           "Chisinau",
           "Lisbon"
          ],
          [
           "Chisinau",
           "Bucharest"
          ],
          [
           "Krasnoyarsk",
           "Saint Petersburg"
          ],
          [
           "Moscow",
           "Krasnoyarsk"
          ],
          [
           "Krasnoyarsk",
           "Moscow"
          ],
          [
           "Krasnoyarsk",
           "Moscow"
          ],
          [
           "Kraków",
           "Málaga"
          ],
          [
           "Kraków",
           "Amsterdam"
          ],
          [
           "Kraków",
           "Stockholm"
          ],
          [
           "Kraków",
           "Barcelona"
          ],
          [
           "Kraków",
           "Monza"
          ],
          [
           "Kraków",
           "Birmingham"
          ],
          [
           "Kraków",
           "Bologna"
          ],
          [
           "Kraków",
           "Amiens"
          ],
          [
           "Kraków",
           "Cagliari"
          ],
          [
           "Kraków",
           "Rome"
          ],
          [
           "Kraków",
           "Brussels"
          ],
          [
           "Kraków",
           "Dunfermline"
          ],
          [
           "Kraków",
           "Eindhoven"
          ],
          [
           "Kraków",
           "Gothenburg"
          ],
          [
           "Kraków",
           "London"
          ],
          [
           "Kraków",
           "London"
          ],
          [
           "Kraków",
           "Lille"
          ],
          [
           "Kraków",
           "Nyköping"
          ],
          [
           "Kraków",
           "Oslo"
          ],
          [
           "Kraków",
           "Livorno"
          ],
          [
           "Kraków",
           "Toulouse"
          ],
          [
           "Kraków",
           "Vienna"
          ],
          [
           "Kraków",
           "Valencia"
          ],
          [
           "Kraków",
           "Warsaw"
          ],
          [
           "Krasnodar",
           "Moscow"
          ],
          [
           "Krasnodar",
           "Moscow"
          ],
          [
           "Kristiansand",
           "Bergen"
          ],
          [
           "Košice",
           "Prague"
          ],
          [
           "Katowice",
           "Alicante"
          ],
          [
           "Katowice",
           "Athens"
          ],
          [
           "Katowice",
           "Catania"
          ],
          [
           "Katowice",
           "London"
          ],
          [
           "Samara",
           "Saint Petersburg"
          ],
          [
           "Kaunas",
           "Monza"
          ],
          [
           "Kuopio",
           "Helsinki"
          ],
          [
           "Athens",
           "Kavála"
          ],
          [
           "Kirov",
           "Saint Petersburg"
          ],
          [
           "Kirov",
           "Moscow"
          ],
          [
           "Kirov",
           "Moscow"
          ],
          [
           "Kazan",
           "Saint Petersburg"
          ],
          [
           "Kazan",
           "Moscow"
          ],
          [
           "Kazan",
           "Moscow"
          ],
          [
           "Bradford",
           "Alicante"
          ],
          [
           "Bradford",
           "Amsterdam"
          ],
          [
           "Bradford",
           "Annecy"
          ],
          [
           "Bradford",
           "Faro"
          ],
          [
           "Bradford",
           "Kraków"
          ],
          [
           "Bradford",
           "Poznań"
          ],
          [
           "A Coruña",
           "Madrid"
          ],
          [
           "Cherepovets",
           "Saint Petersburg"
          ],
          [
           "Murmansk",
           "Saint Petersburg"
          ],
          [
           "Almería",
           "Madrid"
          ],
          [
           "Maastricht",
           "Málaga"
          ],
          [
           "Málaga",
           "London"
          ],
          [
           "Barcelona",
           "London"
          ],
          [
           "Bucharest",
           "London"
          ],
          [
           "London",
           "Aberdeen"
          ],
          [
           "London",
           "Stockholm"
          ],
          [
           "London",
           "Stockholm"
          ],
          [
           "London",
           "Athens"
          ],
          [
           "London",
           "Athens"
          ],
          [
           "London",
           "Kolding"
          ],
          [
           "London",
           "Kolding"
          ],
          [
           "London",
           "Bologna"
          ],
          [
           "London",
           "Bologna"
          ],
          [
           "London",
           "Brussels"
          ],
          [
           "Freiburg im Breisgau",
           "London"
          ],
          [
           "London",
           "Dunfermline"
          ],
          [
           "London",
           "Dunfermline"
          ],
          [
           "London",
           "Dunfermline"
          ],
          [
           "London",
           "Algeciras"
          ],
          [
           "London",
           "Grenoble"
          ],
          [
           "London",
           "Grenoble"
          ],
          [
           "London",
           "Grenoble"
          ],
          [
           "London",
           "Gothenburg"
          ],
          [
           "London",
           "Gothenburg"
          ],
          [
           "London",
           "Geneva"
          ],
          [
           "London",
           "Geneva"
          ],
          [
           "London",
           "Geneva"
          ],
          [
           "London",
           "Milan"
          ],
          [
           "London",
           "Lyon"
          ],
          [
           "London",
           "Madrid"
          ],
          [
           "London",
           "Madrid"
          ],
          [
           "London",
           "Madrid"
          ],
          [
           "London",
           "Novara"
          ],
          [
           "London",
           "Novara"
          ],
          [
           "London",
           "Nice"
          ],
          [
           "London",
           "Gateshead"
          ],
          [
           "London",
           "Oslo"
          ],
          [
           "London",
           "Bucharest"
          ],
          [
           "London",
           "Bucharest"
          ],
          [
           "London",
           "Bucharest"
          ],
          [
           "London",
           "Bucharest"
          ],
          [
           "London",
           "Salzburg"
          ],
          [
           "London",
           "Salzburg"
          ],
          [
           "London",
           "Toulouse"
          ],
          [
           "London",
           "Vienna"
          ],
          [
           "London",
           "Vienna"
          ],
          [
           "London",
           "Zürich"
          ],
          [
           "Lille",
           "Geneva"
          ],
          [
           "Milan",
           "Amsterdam"
          ],
          [
           "Milan",
           "Brussels"
          ],
          [
           "Milan",
           "Cagliari"
          ],
          [
           "Milan",
           "Paris"
          ],
          [
           "Milan",
           "Catania"
          ],
          [
           "Milan",
           "Helsinki"
          ],
          [
           "Milan",
           "Madrid"
          ],
          [
           "Milan",
           "Munich"
          ],
          [
           "Milan",
           "Messina"
          ],
          [
           "Milan",
           "Cosenza"
          ],
          [
           "Lisbon",
           "Alicante"
          ],
          [
           "Lisbon",
           "Amsterdam"
          ],
          [
           "Lisbon",
           "Barcelona"
          ],
          [
           "Lisbon",
           "Bordeaux"
          ],
          [
           "Lisbon",
           "Brussels"
          ],
          [
           "Lisbon",
           "Paris"
          ],
          [
           "Lisbon",
           "Paris"
          ],
          [
           "Lisbon",
           "Cologne"
          ],
          [
           "Lisbon",
           "Geneva"
          ],
          [
           "Lisbon",
           "Helsinki"
          ],
          [
           "London",
           "Lisbon"
          ],
          [
           "London",
           "Lisbon"
          ],
          [
           "Lisbon",
           "Trier"
          ],
          [
           "Lisbon",
           "Lyon"
          ],
          [
           "Lisbon",
           "Madrid"
          ],
          [
           "Lisbon",
           "Munich"
          ],
          [
           "Lisbon",
           "Porto"
          ],
          [
           "Lisbon",
           "Valencia"
          ],
          [
           "Lisbon",
           "Warsaw"
          ],
          [
           "Luleå",
           "Stockholm"
          ],
          [
           "London",
           "Belfast"
          ],
          [
           "London",
           "Belfast"
          ],
          [
           "Cluj-Napoca",
           "London"
          ],
          [
           "London",
           "Gdańsk"
          ],
          [
           "London",
           "Gdańsk"
          ],
          [
           "London",
           "Iaşi"
          ],
          [
           "London",
           "Pristina"
          ],
          [
           "London",
           "Tromsø"
          ],
          [
           "London",
           "Vilnius"
          ],
          [
           "London",
           "Vilnius"
          ],
          [
           "London",
           "Wrocław"
          ],
          [
           "London",
           "Wrocław"
          ],
          [
           "Trier",
           "Málaga"
          ],
          [
           "Trier",
           "Monza"
          ],
          [
           "Lublin",
           "London"
          ],
          [
           "Lyon",
           "Stockholm"
          ],
          [
           "Lyon",
           "Paris"
          ],
          [
           "Lyon",
           "Dunfermline"
          ],
          [
           "Lyon",
           "Madrid"
          ],
          [
           "Lyon",
           "Munich"
          ],
          [
           "Málaga",
           "Madrid"
          ],
          [
           "Barcelona",
           "Madrid"
          ],
          [
           "Bordeaux",
           "Madrid"
          ],
          [
           "Brussels",
           "Madrid"
          ],
          [
           "Hamburg",
           "Madrid"
          ],
          [
           "Porto",
           "Madrid"
          ],
          [
           "Manchester",
           "Málaga"
          ],
          [
           "Manchester",
           "Alicante"
          ],
          [
           "Manchester",
           "Amsterdam"
          ],
          [
           "Manchester",
           "Belfast"
          ],
          [
           "Manchester",
           "Belfast"
          ],
          [
           "Manchester",
           "Budapest"
          ],
          [
           "Manchester",
           "Paris"
          ],
          [
           "Manchester",
           "Cologne"
          ],
          [
           "Manchester",
           "Rome"
          ],
          [
           "Manchester",
           "Annecy"
          ],
          [
           "Manchester",
           "Copenhagen"
          ],
          [
           "Manchester",
           "Frankfurt"
          ],
          [
           "Manchester",
           "Grenoble"
          ],
          [
           "Manchester",
           "Geneva"
          ],
          [
           "Manchester",
           "Helsinki"
          ],
          [
           "Manchester",
           "Kraków"
          ],
          [
           "Manchester",
           "London"
          ],
          [
           "Manchester",
           "Madrid"
          ],
          [
           "Manchester",
           "Munich"
          ],
          [
           "Manchester",
           "Poznań"
          ],
          [
           "Manchester",
           "Prague"
          ],
          [
           "Manchester",
           "Murcia"
          ],
          [
           "Manchester",
           "Rzeszów"
          ],
          [
           "Manchester",
           "Sevilla"
          ],
          [
           "Manchester",
           "Salzburg"
          ],
          [
           "Manchester",
           "Venice"
          ],
          [
           "Manchester",
           "Verona"
          ],
          [
           "Manchester",
           "Wrocław"
          ],
          [
           "Makhachkala",
           "Moscow"
          ],
          [
           "Makhachkala",
           "Moscow"
          ],
          [
           "Makhachkala",
           "Moscow"
          ],
          [
           "Makhachkala",
           "Saint Petersburg"
          ],
          [
           "Malmö",
           "Stockholm"
          ],
          [
           "Malmö",
           "Stockholm"
          ],
          [
           "Montpellier",
           "Amsterdam"
          ],
          [
           "Montpellier",
           "Paris"
          ],
          [
           "Marseille",
           "Málaga"
          ],
          [
           "Marseille",
           "Alicante"
          ],
          [
           "Marseille",
           "Budapest"
          ],
          [
           "Marseille",
           "Paris"
          ],
          [
           "Marseille",
           "Paris"
          ],
          [
           "Marseille",
           "Brussels"
          ],
          [
           "Marseille",
           "Lisbon"
          ],
          [
           "Marseille",
           "Lyon"
          ],
          [
           "Marseille",
           "Madrid"
          ],
          [
           "Marseille",
           "Nantes"
          ],
          [
           "Pyatigorsk",
           "Cherepovets"
          ],
          [
           "Pyatigorsk",
           "Moscow"
          ],
          [
           "Pyatigorsk",
           "Moscow"
          ],
          [
           "Pyatigorsk",
           "Moscow"
          ],
          [
           "Pyatigorsk",
           "Saint Petersburg"
          ],
          [
           "Pyatigorsk",
           "Magnitogorsk"
          ],
          [
           "Pyatigorsk",
           "Naberezhnyye Chelny"
          ],
          [
           "Pyatigorsk",
           "Volgograd"
          ],
          [
           "Munich",
           "Málaga"
          ],
          [
           "Stockholm",
           "Munich"
          ],
          [
           "Munich",
           "Birmingham"
          ],
          [
           "Munich",
           "Bologna"
          ],
          [
           "Munich",
           "Brussels"
          ],
          [
           "Dresden",
           "Munich"
          ],
          [
           "Munich",
           "Münster"
          ],
          [
           "Munich",
           "Graz"
          ],
          [
           "Munich",
           "Hamburg"
          ],
          [
           "Munich",
           "London"
          ],
          [
           "Munich",
           "Pristina"
          ],
          [
           "Munich",
           "Stuttgart"
          ],
          [
           "Munich",
           "Valencia"
          ],
          [
           "Novara",
           "Amsterdam"
          ],
          [
           "Novara",
           "Athens"
          ],
          [
           "Novara",
           "Cagliari"
          ],
          [
           "Novara",
           "Paris"
          ],
          [
           "Novara",
           "Paris"
          ],
          [
           "Novara",
           "Catania"
          ],
          [
           "Novara",
           "Helsinki"
          ],
          [
           "Novara",
           "London"
          ],
          [
           "Novara",
           "Munich"
          ],
          [
           "Novara",
           "Pristina"
          ],
          [
           "Novara",
           "Rzeszów"
          ],
          [
           "Novara",
           "Cosenza"
          ],
          [
           "Novara",
           "Vienna"
          ],
          [
           "Novara",
           "Vilnius"
          ],
          [
           "Novara",
           "Zürich"
          ],
          [
           "Naples",
           "Barcelona"
          ],
          [
           "Naples",
           "Monza"
          ],
          [
           "Naples",
           "Brussels"
          ],
          [
           "Naples",
           "Catania"
          ],
          [
           "Naples",
           "Rome"
          ],
          [
           "Naples",
           "Kraków"
          ],
          [
           "Naples",
           "Milan"
          ],
          [
           "Naples",
           "Novara"
          ],
          [
           "Naples",
           "Palermo"
          ],
          [
           "Naples",
           "London"
          ],
          [
           "Naples",
           "Trieste"
          ],
          [
           "Naples",
           "Venice"
          ],
          [
           "Naples",
           "Vienna"
          ],
          [
           "Naples",
           "Valencia"
          ],
          [
           "Naberezhnyye Chelny",
           "Saint Petersburg"
          ],
          [
           "Nice",
           "Paris"
          ],
          [
           "Nice",
           "Madrid"
          ],
          [
           "Nice",
           "Zürich"
          ],
          [
           "Gateshead",
           "Málaga"
          ],
          [
           "Gateshead",
           "Alicante"
          ],
          [
           "Camborne",
           "London"
          ],
          [
           "Mönchengladbach",
           "Málaga"
          ],
          [
           "Mönchengladbach",
           "Thessaloníki"
          ],
          [
           "Nantes",
           "Amsterdam"
          ],
          [
           "Nantes",
           "Geneva"
          ],
          [
           "Nantes",
           "Marseille"
          ],
          [
           "Nuremberg",
           "Thessaloníki"
          ],
          [
           "Nyköping",
           "Bucharest"
          ],
          [
           "Vladikavkaz",
           "Moscow"
          ],
          [
           "Ohrid",
           "Zürich"
          ],
          [
           "Oradea",
           "Bucharest"
          ],
          [
           "Madrid",
           "Porto"
          ],
          [
           "Paris",
           "Pau"
          ],
          [
           "Paris",
           "London"
          ],
          [
           "Paris",
           "Madrid"
          ],
          [
           "Paris",
           "Montpellier"
          ],
          [
           "Paris",
           "Novara"
          ],
          [
           "Paris",
           "Nice"
          ],
          [
           "Paris",
           "Porto"
          ],
          [
           "Paris",
           "Portsmouth"
          ],
          [
           "Paris",
           "Toulouse"
          ],
          [
           "Paris",
           "Valencia"
          ],
          [
           "Oslo",
           "Málaga"
          ],
          [
           "Oslo",
           "Amsterdam"
          ],
          [
           "Oslo",
           "Stockholm"
          ],
          [
           "Oslo",
           "Bergen"
          ],
          [
           "Oslo",
           "Paris"
          ],
          [
           "Oslo",
           "Gothenburg"
          ],
          [
           "Oslo",
           "Helsinki"
          ],
          [
           "Oslo",
           "Sandnes"
          ],
          [
           "Oslo",
           "Tromsø"
          ],
          [
           "Oslo",
           "Zürich"
          ],
          [
           "Orsk",
           "Moscow"
          ],
          [
           "Kolding",
           "Bucharest"
          ],
          [
           "Bologna",
           "Bucharest"
          ],
          [
           "Gijón",
           "Barcelona"
          ],
          [
           "Gijón",
           "Madrid"
          ],
          [
           "Gijón",
           "Mönchengladbach"
          ],
          [
           "Perm",
           "Saint Petersburg"
          ],
          [
           "Petrozavodsk",
           "Moscow"
          ],
          [
           "Parma",
           "Cagliari"
          ],
          [
           "Palermo",
           "Barcelona"
          ],
          [
           "Palermo",
           "Monza"
          ],
          [
           "Palermo",
           "Bologna"
          ],
          [
           "Palermo",
           "Rome"
          ],
          [
           "Palermo",
           "Ulm"
          ],
          [
           "Palermo",
           "Milan"
          ],
          [
           "Palermo",
           "Madrid"
          ],
          [
           "Palermo",
           "Novara"
          ],
          [
           "Palermo",
           "Naples"
          ],
          [
           "Palermo",
           "Nuremberg"
          ],
          [
           "Palermo",
           "Livorno"
          ],
          [
           "Palermo",
           "London"
          ],
          [
           "Palermo",
           "Turin"
          ],
          [
           "Palermo",
           "Venice"
          ],
          [
           "Palermo",
           "Verona"
          ],
          [
           "Pamplona",
           "Madrid"
          ],
          [
           "Prague",
           "Málaga"
          ],
          [
           "Prague",
           "Barcelona"
          ],
          [
           "Prague",
           "Monza"
          ],
          [
           "Prague",
           "Paris"
          ],
          [
           "Prague",
           "Geneva"
          ],
          [
           "Prague",
           "Helsinki"
          ],
          [
           "Prague",
           "Madrid"
          ],
          [
           "Pristina",
           "Hamburg"
          ],
          [
           "Pristina",
           "Stuttgart"
          ],
          [
           "Livorno",
           "Brussels"
          ],
          [
           "Monza",
           "Pescara"
          ],
          [
           "Orenburg",
           "Saint Petersburg"
          ],
          [
           "Orenburg",
           "Moscow"
          ],
          [
           "Riga",
           "Amsterdam"
          ],
          [
           "Riga",
           "Bristol"
          ],
          [
           "Riga",
           "Geneva"
          ],
          [
           "Riga",
           "Lisbon"
          ],
          [
           "Riga",
           "Klaipėda"
          ],
          [
           "Riga",
           "London"
          ],
          [
           "Riga",
           "Salzburg"
          ],
          [
           "Riga",
           "Tallinn"
          ],
          [
           "Riga",
           "Vienna"
          ],
          [
           "Rotterdam",
           "Málaga"
          ],
          [
           "Rotterdam",
           "Salzburg"
          ],
          [
           "Sibiu",
           "London"
          ],
          [
           "Sibiu",
           "Munich"
          ],
          [
           "Santiago de Compostela",
           "Madrid"
          ],
          [
           "Santiago de Compostela",
           "Valencia"
          ],
          [
           "Syktyvkar",
           "Saint Petersburg"
          ],
          [
           "Basildon",
           "Geneva"
          ],
          [
           "Stuttgart",
           "Thessaloníki"
          ],
          [
           "Skopje",
           "Belgrade"
          ],
          [
           "Skopje",
           "Bratislava"
          ],
          [
           "Skopje",
           "Cologne"
          ],
          [
           "Skopje",
           "Copenhagen"
          ],
          [
           "Skopje",
           "Eindhoven"
          ],
          [
           "Skopje",
           "Rome"
          ],
          [
           "Skopje",
           "Karlsruhe"
          ],
          [
           "Skopje",
           "Frankfurt"
          ],
          [
           "Skopje",
           "Nyköping"
          ],
          [
           "Skopje",
           "Bistrica ob Sotli"
          ],
          [
           "Skopje",
           "Zürich"
          ],
          [
           "Sofia",
           "Alicante"
          ],
          [
           "Sofia",
           "Athens"
          ],
          [
           "Sofia",
           "Barcelona"
          ],
          [
           "Sofia",
           "Monza"
          ],
          [
           "Sofia",
           "Bristol"
          ],
          [
           "Sofia",
           "Copenhagen"
          ],
          [
           "Sofia",
           "Brussels"
          ],
          [
           "Sofia",
           "Eindhoven"
          ],
          [
           "Sofia",
           "Karlsruhe"
          ],
          [
           "Sofia",
           "Ulm"
          ],
          [
           "Sofia",
           "London"
          ],
          [
           "Sofia",
           "London"
          ],
          [
           "Sofia",
           "London"
          ],
          [
           "Sofia",
           "Madrid"
          ],
          [
           "Sofia",
           "Munich"
          ],
          [
           "Sofia",
           "Venice"
          ],
          [
           "Sofia",
           "Varna"
          ],
          [
           "Sofia",
           "Vienna"
          ],
          [
           "London",
           "Monza"
          ],
          [
           "London",
           "Bordeaux"
          ],
          [
           "London",
           "Bratislava"
          ],
          [
           "London",
           "Budapest"
          ],
          [
           "London",
           "Bydgoszcz"
          ],
          [
           "London",
           "Cologne"
          ],
          [
           "London",
           "Rome"
          ],
          [
           "London",
           "Annecy"
          ],
          [
           "London",
           "Catania"
          ],
          [
           "London",
           "Eindhoven"
          ],
          [
           "London",
           "Faro"
          ],
          [
           "London",
           "Genoa"
          ],
          [
           "London",
           "Kraków"
          ],
          [
           "London",
           "Katowice"
          ],
          [
           "London",
           "Łódź"
          ],
          [
           "London",
           "Marseille"
          ],
          [
           "London",
           "Naples"
          ],
          [
           "London",
           "Nuremberg"
          ],
          [
           "London",
           "Porto"
          ],
          [
           "London",
           "Poznań"
          ],
          [
           "London",
           "Prague"
          ],
          [
           "London",
           "Livorno"
          ],
          [
           "London",
           "Riga"
          ],
          [
           "London",
           "Santiago de Compostela"
          ],
          [
           "London",
           "Thessaloníki"
          ],
          [
           "London",
           "Sofia"
          ],
          [
           "London",
           "Sevilla"
          ],
          [
           "London",
           "Szczytno"
          ],
          [
           "London",
           "Szczecin"
          ],
          [
           "London",
           "Tirana"
          ],
          [
           "London",
           "Turin"
          ],
          [
           "London",
           "Trieste"
          ],
          [
           "London",
           "Venice"
          ],
          [
           "London",
           "Vigo"
          ],
          [
           "London",
           "Valencia"
          ],
          [
           "London",
           "Verona"
          ],
          [
           "London",
           "Warsaw"
          ],
          [
           "London",
           "Bistrica ob Sotli"
          ],
          [
           "London",
           "Zaragoza"
          ],
          [
           "Bucharest",
           "Stuttgart"
          ],
          [
           "Thessaloníki",
           "Stuttgart"
          ],
          [
           "Sandnes",
           "Amsterdam"
          ],
          [
           "Sandnes",
           "Gdańsk"
          ],
          [
           "Sandnes",
           "Oslo"
          ],
          [
           "Izhevsk",
           "Moscow"
          ],
          [
           "Moscow",
           "Samara"
          ],
          [
           "Moscow",
           "Samara"
          ],
          [
           "Moscow",
           "Magnitogorsk"
          ],
          [
           "Moscow",
           "Naberezhnyye Chelny"
          ],
          [
           "Sevilla",
           "Barcelona"
          ],
          [
           "Sevilla",
           "Monza"
          ],
          [
           "Sevilla",
           "Rome"
          ],
          [
           "Sevilla",
           "Madrid"
          ],
          [
           "Sevilla",
           "Manchester"
          ],
          [
           "Sevilla",
           "Novara"
          ],
          [
           "Sevilla",
           "Livorno"
          ],
          [
           "Sevilla",
           "London"
          ],
          [
           "Sevilla",
           "Warsaw"
          ],
          [
           "Salzburg",
           "Amsterdam"
          ],
          [
           "Salzburg",
           "Stockholm"
          ],
          [
           "Salzburg",
           "Bristol"
          ],
          [
           "Salzburg",
           "Hamburg"
          ],
          [
           "Salzburg",
           "Helsinki"
          ],
          [
           "Salzburg",
           "London"
          ],
          [
           "Szczecin",
           "Oslo"
          ],
          [
           "Tirana",
           "Stockholm"
          ],
          [
           "Tirana",
           "Barcelona"
          ],
          [
           "Tirana",
           "Monza"
          ],
          [
           "Tirana",
           "Bologna"
          ],
          [
           "Tirana",
           "Bari"
          ],
          [
           "Tirana",
           "Amiens"
          ],
          [
           "Tirana",
           "Rome"
          ],
          [
           "Tirana",
           "Rome"
          ],
          [
           "Tirana",
           "Brussels"
          ],
          [
           "Tirana",
           "Genoa"
          ],
          [
           "Tirana",
           "Hamburg"
          ],
          [
           "Tirana",
           "Koblenz"
          ],
          [
           "Tirana",
           "Lyon"
          ],
          [
           "Tirana",
           "Novara"
          ],
          [
           "Tirana",
           "Nuremberg"
          ],
          [
           "Tirana",
           "Perugia"
          ],
          [
           "Tirana",
           "Livorno"
          ],
          [
           "Tirana",
           "Trieste"
          ],
          [
           "Tirana",
           "Venice"
          ],
          [
           "Tirana",
           "Verona"
          ],
          [
           "Tallinn",
           "Stockholm"
          ],
          [
           "Tallinn",
           "Geneva"
          ],
          [
           "Tallinn",
           "Helsinki"
          ],
          [
           "Tallinn",
           "London"
          ],
          [
           "Toulouse",
           "Bordeaux"
          ],
          [
           "Toulouse",
           "Madrid"
          ],
          [
           "Toulouse",
           "Munich"
          ],
          [
           "Tampere",
           "Amsterdam"
          ],
          [
           "Tampere",
           "Tallinn"
          ],
          [
           "Tønsberg",
           "Bergen"
          ],
          [
           "Turin",
           "Stockholm"
          ],
          [
           "Turin",
           "Cagliari"
          ],
          [
           "Turin",
           "Catania"
          ],
          [
           "Turin",
           "Gothenburg"
          ],
          [
           "Turin",
           "London"
          ],
          [
           "Turin",
           "Munich"
          ],
          [
           "Turin",
           "Bucharest"
          ],
          [
           "Turin",
           "Cosenza"
          ],
          [
           "Turin",
           "Vilnius"
          ],
          [
           "Venice",
           "Amiens"
          ],
          [
           "Venice",
           "Brussels"
          ],
          [
           "Venice",
           "Bucharest"
          ],
          [
           "Venice",
           "Sofia"
          ],
          [
           "Venice",
           "Tirana"
          ],
          [
           "Venice",
           "Vienna"
          ],
          [
           "Venice",
           "Valencia"
          ],
          [
           "Timişoara",
           "Monza"
          ],
          [
           "Timişoara",
           "Amiens"
          ],
          [
           "Timişoara",
           "Bucharest"
          ],
          [
           "Tours",
           "London"
          ],
          [
           "Ufa",
           "Sochi"
          ],
          [
           "Ufa",
           "Moscow"
          ],
          [
           "Ufa",
           "Moscow"
          ],
          [
           "Ufa",
           "Moscow"
          ],
          [
           "Ufa",
           "Krasnoyarsk"
          ],
          [
           "Ufa",
           "Saint Petersburg"
          ],
          [
           "Ulyanovsk",
           "Saint Petersburg"
          ],
          [
           "Ulyanovsk",
           "Moscow"
          ],
          [
           "Ulyanovsk",
           "Moscow"
          ],
          [
           "Umeå",
           "Stockholm"
          ],
          [
           "Vaasa",
           "Helsinki"
          ],
          [
           "Cologne",
           "Varna"
          ],
          [
           "Varna",
           "Hamburg"
          ],
          [
           "Venice",
           "Amsterdam"
          ],
          [
           "Venice",
           "Barcelona"
          ],
          [
           "Venice",
           "Bari"
          ],
          [
           "Venice",
           "Paris"
          ],
          [
           "Venice",
           "Paris"
          ],
          [
           "Venice",
           "Catania"
          ],
          [
           "Venice",
           "Dunfermline"
          ],
          [
           "Venice",
           "Rome"
          ],
          [
           "Venice",
           "Frankfurt"
          ],
          [
           "Venice",
           "London"
          ],
          [
           "Venice",
           "London"
          ],
          [
           "Venice",
           "Lisbon"
          ],
          [
           "Venice",
           "Madrid"
          ],
          [
           "Venice",
           "Manchester"
          ],
          [
           "Venice",
           "Munich"
          ],
          [
           "Venice",
           "Naples"
          ],
          [
           "Venice",
           "Palermo"
          ],
          [
           "Venice",
           "Cosenza"
          ],
          [
           "Vigo",
           "Barcelona"
          ],
          [
           "Vigo",
           "Madrid"
          ],
          [
           "Vienna",
           "Málaga"
          ],
          [
           "Vienna",
           "Athens"
          ],
          [
           "Vienna",
           "Barcelona"
          ],
          [
           "Vienna",
           "Monza"
          ],
          [
           "Vienna",
           "Brussels"
          ],
          [
           "Vienna",
           "Paris"
          ],
          [
           "Vienna",
           "Cluj-Napoca"
          ],
          [
           "Vienna",
           "Geneva"
          ],
          [
           "Vienna",
           "Hamburg"
          ],
          [
           "Vienna",
           "Helsinki"
          ],
          [
           "Vienna",
           "Klagenfurt"
          ],
          [
           "Vienna",
           "London"
          ],
          [
           "Vienna",
           "Trier"
          ],
          [
           "Vienna",
           "Madrid"
          ],
          [
           "Vienna",
           "Munich"
          ],
          [
           "Vienna",
           "Novara"
          ],
          [
           "Vienna",
           "Bucharest"
          ],
          [
           "Vienna",
           "Stuttgart"
          ],
          [
           "Vienna",
           "Tromsø"
          ],
          [
           "Vienna",
           "Zürich"
          ],
          [
           "Kaliningrad",
           "Moscow"
          ],
          [
           "Naberezhnyye Chelny",
           "Moscow"
          ],
          [
           "Valencia",
           "Brussels"
          ],
          [
           "Valencia",
           "Madrid"
          ],
          [
           "Valencia",
           "Porto"
          ],
          [
           "Vilnius",
           "Málaga"
          ],
          [
           "Vilnius",
           "Amiens"
          ],
          [
           "Vilnius",
           "Munich"
          ],
          [
           "Volgograd",
           "Saint Petersburg"
          ],
          [
           "Volgograd",
           "Moscow"
          ],
          [
           "Volgograd",
           "Moscow"
          ],
          [
           "Voronezh",
           "Saint Petersburg"
          ],
          [
           "Verona",
           "Gdańsk"
          ],
          [
           "Verona",
           "Poznań"
          ],
          [
           "Verona",
           "Cosenza"
          ],
          [
           "Viseu",
           "Lisbon"
          ],
          [
           "Viseu",
           "Vila Real"
          ],
          [
           "Warsaw",
           "Amsterdam"
          ],
          [
           "Warsaw",
           "Athens"
          ],
          [
           "Warsaw",
           "Barcelona"
          ],
          [
           "Warsaw",
           "Barcelona"
          ],
          [
           "Warsaw",
           "Monza"
          ],
          [
           "Warsaw",
           "Brussels"
          ],
          [
           "Warsaw",
           "Brussels"
          ],
          [
           "Warsaw",
           "Budapest"
          ],
          [
           "Warsaw",
           "Paris"
          ],
          [
           "Warsaw",
           "Cluj-Napoca"
          ],
          [
           "Warsaw",
           "Gdańsk"
          ],
          [
           "Warsaw",
           "Grenoble"
          ],
          [
           "Warsaw",
           "Geneva"
          ],
          [
           "Warsaw",
           "Kraków"
          ],
          [
           "Warsaw",
           "Katowice"
          ],
          [
           "Warsaw",
           "London"
          ],
          [
           "Warsaw",
           "London"
          ],
          [
           "Warsaw",
           "Ljubljana"
          ],
          [
           "Warsaw",
           "Munich"
          ],
          [
           "Warsaw",
           "Bucharest"
          ],
          [
           "Warsaw",
           "Prague"
          ],
          [
           "Warsaw",
           "Vilnius"
          ],
          [
           "Warsaw",
           "Verona"
          ],
          [
           "Warsaw",
           "Wrocław"
          ],
          [
           "Warsaw",
           "Zürich"
          ],
          [
           "Warsaw",
           "Málaga"
          ],
          [
           "Warsaw",
           "Rome"
          ],
          [
           "Wrocław",
           "Málaga"
          ],
          [
           "Wrocław",
           "Birmingham"
          ],
          [
           "Amiens",
           "Wrocław"
          ],
          [
           "Wrocław",
           "Valencia"
          ],
          [
           "Jerez de la Frontera",
           "Barcelona"
          ],
          [
           "Jerez de la Frontera",
           "Madrid"
          ],
          [
           "Bistrica ob Sotli",
           "Amsterdam"
          ],
          [
           "Bistrica ob Sotli",
           "Brussels"
          ],
          [
           "Bistrica ob Sotli",
           "Koblenz"
          ],
          [
           "Bistrica ob Sotli",
           "London"
          ],
          [
           "Bistrica ob Sotli",
           "Munich"
          ],
          [
           "Bistrica ob Sotli",
           "Vienna"
          ],
          [
           "Bistrica ob Sotli",
           "Zürich"
          ],
          [
           "Zaragoza",
           "Amiens"
          ],
          [
           "Zürich",
           "Barcelona"
          ],
          [
           "Zürich",
           "Bologna"
          ],
          [
           "Zürich",
           "Brussels"
          ],
          [
           "Zürich",
           "Paris"
          ],
          [
           "Zürich",
           "Dunfermline"
          ],
          [
           "Zürich",
           "Gothenburg"
          ],
          [
           "Zürich",
           "Geneva"
          ],
          [
           "Zürich",
           "Madrid"
          ],
          [
           "Zürich",
           "Munich"
          ],
          [
           "Zürich",
           "Porto"
          ],
          [
           "Zürich",
           "Bucharest"
          ],
          [
           "Zürich",
           "Pristina"
          ],
          [
           "Zürich",
           "Stuttgart"
          ]
         ],
         "hovertemplate": "train_time=%{x}<br>flight_time=%{y}<br>departure city=%{customdata[0]}<br>arrival city=%{customdata[1]}<extra></extra>",
         "legendgroup": "",
         "marker": {
          "color": "#636efa",
          "symbol": "circle"
         },
         "mode": "markers",
         "name": "",
         "showlegend": false,
         "type": "scattergl",
         "x": [
          725,
          1837,
          1837,
          767,
          459,
          2062,
          1376,
          1376,
          1376,
          5027,
          2174,
          1678,
          2194,
          4509.166666666667,
          588.5333333333333,
          332,
          796,
          4129,
          1966,
          1554,
          1554,
          1554,
          1554,
          181,
          946,
          1265,
          915,
          881.65,
          951.65,
          318,
          1597,
          148,
          642,
          2515,
          1091,
          1648,
          1156,
          3077,
          739,
          1952,
          408,
          546,
          2948.3333333333335,
          447,
          207,
          511,
          1290,
          1240.5,
          501,
          329,
          1912,
          313,
          236,
          236,
          236,
          453,
          432,
          3010,
          2151,
          699,
          2626,
          440,
          1502,
          558,
          1403,
          4251,
          1661,
          186,
          964,
          1169,
          1383,
          3826.733333333333,
          3386,
          2896,
          3418,
          2940,
          497.3833333333333,
          3219,
          1379,
          323,
          3242,
          373,
          380,
          627,
          627,
          767,
          1864,
          645,
          645,
          645,
          645,
          1318,
          677,
          2812,
          2037,
          465,
          1630,
          1533,
          204.61666666666667,
          3660,
          2207,
          3145,
          680,
          1289,
          1280,
          753.7,
          753.7,
          462,
          1569.7,
          80,
          1738,
          1201,
          653,
          1113,
          662,
          2233.5,
          1739,
          280,
          548.2333333333333,
          1434.7,
          969.7,
          969.7,
          744.7,
          1639,
          730,
          2230.116666666667,
          2191,
          2438,
          1129,
          1493,
          716,
          507,
          723,
          340,
          1490,
          872,
          2060,
          1825.1166666666666,
          1681,
          389,
          481,
          1172,
          1406,
          249,
          444,
          504,
          526.05,
          484,
          435,
          1465,
          1681,
          915,
          579,
          2178,
          1176,
          567,
          567,
          407,
          260,
          1194.0333333333333,
          362,
          1631,
          2116.483333333333,
          1087.15,
          1018.35,
          1362,
          2127,
          1779,
          2533,
          1476,
          793,
          1532,
          766,
          1563,
          1240,
          1189,
          1739.55,
          2855,
          1443,
          1443,
          1920,
          1419.1666666666667,
          827,
          403,
          602,
          544,
          642,
          2521,
          1438,
          509.95,
          833,
          833,
          1351,
          409,
          409,
          276,
          511,
          150,
          91,
          1198,
          2512,
          366,
          1741,
          1307,
          573,
          2745,
          1906,
          2490,
          2490,
          1650,
          265,
          265,
          2799.8166666666666,
          858,
          1819,
          1736,
          1577,
          2066,
          573,
          627,
          287,
          188,
          2049,
          2054,
          634,
          320,
          1263,
          1335,
          1224,
          563,
          2223,
          570,
          230,
          1281,
          280,
          1088,
          868,
          1670,
          1281,
          1281,
          1819,
          1433,
          679,
          2754,
          494,
          813,
          1154,
          875,
          1568.1166666666666,
          2022.1166666666666,
          1291,
          1291,
          1794,
          745,
          745,
          1099.8666666666666,
          699.8666666666667,
          1840.5,
          653.8666666666667,
          1556.5,
          1166.8666666666666,
          1313,
          1358,
          2110,
          2110,
          2110,
          1021,
          700,
          244,
          244,
          244,
          1901,
          1901,
          1901,
          781,
          1278,
          1667,
          743,
          1445,
          826,
          659.5,
          658,
          1030.8166666666666,
          1204,
          211,
          301,
          563,
          63,
          1815,
          2248.4333333333334,
          339,
          2328,
          1451,
          1920.4833333333333,
          2131.65,
          2814.85,
          465,
          351,
          294,
          1865,
          304,
          390,
          531,
          813,
          356,
          1458,
          1588,
          1433,
          3604,
          707,
          823,
          1889,
          1174,
          867,
          2266,
          520,
          1289,
          1661,
          1585,
          838.3333333333334,
          519,
          325,
          1602,
          2702.766666666667,
          231,
          2080,
          1080,
          230,
          1685,
          123,
          867,
          873,
          768,
          768,
          761,
          573.0833333333334,
          937,
          87,
          624,
          313,
          1418,
          1418,
          190,
          2458,
          665,
          1895,
          533,
          554,
          2276,
          2276,
          652.3333333333334,
          1381,
          1066,
          1460,
          356.26666666666665,
          1191.65,
          266.6166666666667,
          339,
          685,
          1917,
          188,
          1374,
          450,
          664,
          1339,
          1815,
          442,
          1408,
          3257,
          1470,
          1626,
          1421,
          243,
          1072,
          540,
          277,
          542,
          188,
          132,
          609,
          249,
          261,
          67,
          586,
          862,
          521,
          358,
          261.8,
          1828,
          130,
          727,
          186,
          381,
          381,
          471,
          558,
          192,
          523,
          123,
          1427,
          459,
          431,
          93,
          305,
          577.05,
          378,
          610,
          498,
          1011,
          251,
          1081,
          657,
          302,
          2688,
          677,
          1361,
          390,
          235,
          1482,
          715,
          538,
          553,
          571,
          324,
          1385,
          449,
          1203,
          409,
          2033,
          2466.483333333333,
          582,
          179,
          300,
          1826.8,
          212.8,
          682,
          3207,
          2460,
          2294,
          1114,
          1681,
          340,
          513,
          1667,
          1736.2,
          2559.75,
          529.75,
          622.2333333333333,
          797.2333333333333,
          458.8333333333333,
          889,
          1245,
          324,
          724,
          901,
          251,
          550,
          657,
          1642,
          1193,
          1193,
          2131.1,
          2211.133333333333,
          4658.133333333333,
          633.1333333333333,
          4328,
          3954,
          3890,
          3890,
          2070,
          945,
          1437,
          1646,
          1240,
          1616,
          1107,
          1483,
          2559,
          1288,
          1338,
          1829,
          821,
          1340,
          1487,
          1487,
          1370,
          1394,
          1665,
          1296,
          1661,
          337,
          1922,
          132,
          1128,
          1128,
          683,
          509,
          2009,
          2015,
          1756.4,
          1434,
          1210,
          1913,
          265,
          485.68333333333334,
          1264,
          826,
          826,
          1040,
          739,
          739,
          1650,
          428,
          608,
          1821,
          1690,
          1228,
          250,
          584,
          1574,
          400,
          1573.4,
          1601,
          630,
          1997,
          435,
          1313,
          1313,
          3881,
          3881,
          881,
          881,
          1181,
          1181,
          122,
          643,
          343,
          343,
          343,
          1791,
          391,
          391,
          391,
          1216,
          1216,
          407,
          407,
          407,
          718,
          340,
          1306,
          1306,
          1306,
          810,
          810,
          553,
          203,
          1541,
          2421,
          2421,
          2421,
          2421,
          762,
          762,
          518,
          819,
          819,
          464,
          346,
          754,
          645,
          1080,
          508,
          718.0833333333334,
          2560,
          1645,
          412,
          643.4833333333333,
          520.2333333333333,
          825,
          2047,
          1416,
          1856,
          1930,
          1767,
          1767,
          2264,
          1913,
          4118,
          1993,
          1993,
          2056,
          1745,
          626,
          2188,
          185,
          745,
          3142,
          933,
          852.3333333333334,
          852.3333333333334,
          2003,
          1280.5,
          1280.5,
          2616.5,
          2559.483333333333,
          3173.85,
          1865.7166666666667,
          1865.7166666666667,
          1124,
          1124,
          1655,
          629,
          1655,
          1433,
          116,
          682,
          519,
          540,
          199,
          165,
          563,
          832,
          1742.1,
          503,
          1676,
          1622,
          400,
          728.3333333333334,
          728.3333333333334,
          1327,
          362,
          400,
          1395,
          580,
          1105,
          485,
          544,
          534,
          2548,
          1638,
          154,
          1560,
          645,
          1181,
          1229,
          1630,
          1617,
          1662,
          787,
          1319,
          1343,
          1379,
          2647,
          2647,
          2647,
          2647,
          267,
          267,
          532,
          308,
          743,
          748,
          1352.6333333333334,
          240.63333333333333,
          240.63333333333333,
          365.6333333333333,
          1668,
          116.63333333333334,
          513,
          465.6333333333333,
          2064,
          1666,
          1666,
          1666,
          1968,
          3252,
          3857,
          951,
          1586,
          1328,
          740,
          405,
          447,
          294,
          364,
          358,
          377,
          640,
          1625.4833333333333,
          119,
          1547,
          851,
          2576,
          1135,
          573,
          573,
          896.1166666666667,
          2645,
          826,
          490,
          2373.483333333333,
          1394,
          607.5833333333334,
          680,
          1952.7166666666667,
          337,
          1797.4833333333333,
          303.48333333333335,
          1358.4833333333333,
          474.8833333333333,
          77.48333333333333,
          1230.4833333333333,
          270.48333333333335,
          326.48333333333335,
          561.8166666666667,
          1485.4833333333333,
          436.48333333333335,
          321.48333333333335,
          786.4833333333333,
          2029.4833333333333,
          1681,
          346,
          1263,
          587,
          1724,
          1896,
          318,
          1670,
          3014.6666666666665,
          407,
          384,
          431.46666666666664,
          2579.6666666666665,
          2700,
          2205,
          2379.7166666666667,
          1129,
          468,
          294.8,
          166,
          603,
          209,
          494,
          345,
          1538,
          290,
          294,
          685,
          4378,
          1436,
          321,
          423,
          1579,
          211,
          2473,
          487,
          1884.85,
          1546,
          1965,
          2347,
          1700,
          425,
          238,
          1541,
          1515,
          970,
          1113,
          2067,
          1170.3333333333333,
          770.3333333333334,
          612.3333333333334,
          1488.3333333333333,
          857.3333333333334,
          2728,
          1241.3333333333333,
          552.7,
          1450.3333333333333,
          896.3333333333334,
          1978,
          1318.3833333333334,
          1212.3333333333333,
          1237.3333333333333,
          210,
          2147,
          1323,
          1208,
          758,
          875,
          2462,
          1940,
          2428.9666666666667,
          2027.9666666666667,
          1299,
          293,
          1890,
          1576,
          1774.3833333333334,
          3179.383333333333,
          1999.3833333333334,
          3696,
          446.3833333333333,
          3075.383333333333,
          2204.5333333333333,
          606,
          1667.9666666666667,
          1598,
          584,
          1732,
          1107,
          202,
          371,
          3018,
          461,
          2716.6666666666665,
          495.01666666666665,
          1270.0166666666667,
          2058.016666666667,
          2449.016666666667,
          2216.016666666667,
          2155.016666666667,
          1735.4833333333333,
          1795.0166666666667,
          2789.016666666667,
          1977.0166666666667,
          2195.016666666667,
          3700,
          624,
          3271,
          1951,
          2232,
          2535,
          1894,
          1901,
          1745,
          2204,
          2087,
          2087,
          2087,
          3465,
          2119,
          1945,
          522.0833333333334,
          1582,
          746,
          376,
          960.0833333333334,
          1303,
          1125,
          296,
          1318,
          495,
          1846.5166666666667,
          267,
          1722.4666666666667,
          818,
          1254,
          1231,
          1237,
          406.1666666666667,
          1408.3666666666666,
          517,
          2054,
          879,
          893,
          1326,
          1918.9666666666667,
          1504,
          3373.6666666666665,
          2012,
          1490,
          1433.8166666666666,
          872.4166666666666,
          2650.65,
          679.05,
          1234,
          1198,
          1615,
          1408,
          1193,
          1096,
          1433,
          1226,
          1503,
          2280.483333333333,
          1785,
          2041.5,
          444,
          1003,
          881,
          881,
          2854,
          1931,
          334,
          1797,
          1969,
          157,
          1723,
          1761,
          1812,
          1582,
          2551,
          605,
          1358,
          852,
          491,
          2485,
          707,
          1484,
          2979.8333333333335,
          2832.8333333333335,
          1353.8333333333333,
          1217.8333333333333,
          842.8333333333334,
          2445.8333333333335,
          1137.8333333333333,
          1137.8333333333333,
          2397.8333333333335,
          1426.8333333333333,
          2204.8333333333335,
          2083.8333333333335,
          2244.8333333333335,
          1376.8333333333333,
          1815.8333333333333,
          1340.8333333333333,
          1333.8333333333333,
          1426.8333333333333,
          1317.8333333333333,
          1300.8333333333333,
          1120.8666666666666,
          3347.35,
          162.35,
          2726.8166666666666,
          129,
          431,
          665,
          2275,
          289,
          487.35,
          1790.1666666666667,
          1166.1666666666667,
          917.2833333333333,
          1726.1666666666667,
          882.1666666666666,
          524.1666666666666,
          2267.1666666666665,
          646.75,
          2050.1666666666665,
          865,
          1234,
          1690,
          1504,
          1157.65,
          453,
          1874,
          1435.7833333333333,
          1647.7833333333333,
          605.7833333333333,
          313,
          3011,
          1782,
          1782,
          1782,
          2701,
          2037,
          1204,
          949,
          949,
          422,
          240,
          2780.133333333333,
          2937.8166666666666,
          1027,
          1642,
          446,
          767,
          767,
          855.1166666666667,
          1721,
          233,
          654,
          1390,
          1390,
          3072,
          1852,
          1531,
          437,
          314.3666666666667,
          865,
          569.5833333333334,
          480,
          262,
          1815,
          2743,
          1557,
          633,
          614,
          608,
          823,
          643,
          571,
          2523,
          280,
          817,
          599,
          1730,
          246,
          679,
          1265,
          407,
          3285.85,
          465,
          1131,
          1190,
          828,
          123,
          616,
          3625,
          2052,
          1548,
          2624,
          2310,
          2310,
          749,
          1445.5,
          942,
          595.5833333333334,
          244.51666666666668,
          75.06666666666666,
          759,
          2476,
          1661,
          1661,
          1262,
          1276,
          1276,
          705,
          1260,
          1379,
          222.5,
          1392,
          1257,
          132,
          189,
          1437,
          1437,
          1098,
          552,
          1641,
          562,
          595,
          1141,
          256,
          1139,
          2085,
          1310,
          1852,
          1440,
          1085,
          1704,
          441,
          250,
          1354,
          1329,
          1036,
          1593,
          616,
          450,
          1168,
          654,
          713,
          337,
          379,
          244,
          859,
          1281,
          163,
          1374,
          211,
          3190,
          1593,
          4241.483333333334,
          266
         ],
         "xaxis": "x",
         "y": [
          85,
          170,
          180,
          85,
          95,
          210,
          215,
          225.8333333333333,
          165,
          325,
          205,
          240,
          245,
          230,
          50,
          97.5,
          110,
          230,
          205,
          165,
          185,
          172.5,
          175,
          80,
          77.5,
          65,
          70,
          50,
          100,
          70,
          145,
          70,
          95,
          205,
          95,
          187.5,
          130,
          220,
          142.5,
          107.5,
          80,
          75,
          200,
          85,
          80,
          80,
          130,
          110,
          97.5,
          70,
          160,
          80,
          70,
          85,
          70,
          100,
          55,
          162.5,
          185,
          80,
          185,
          75,
          160,
          102.5,
          90,
          265,
          165,
          65,
          77.5,
          135,
          100,
          162.5,
          135,
          180,
          210,
          165,
          75,
          230,
          95,
          53.333333333333336,
          165,
          92.5,
          75,
          120,
          115,
          95,
          190,
          125,
          145,
          125,
          137.5,
          120,
          105,
          205,
          165,
          65,
          152.5,
          155,
          55,
          240,
          170,
          190,
          90,
          100,
          100,
          65,
          75,
          52.5,
          135,
          20,
          165,
          120,
          90,
          90,
          92.5,
          145,
          137.5,
          75,
          102.5,
          92.5,
          85,
          80,
          65,
          175,
          130,
          210,
          140,
          215,
          135,
          150,
          135,
          72.5,
          108.33333333333331,
          67.5,
          77.5,
          90,
          180,
          120,
          157.5,
          75,
          90,
          91.66666666666669,
          145,
          70,
          85,
          97.5,
          97.5,
          80,
          82.5,
          130,
          165,
          125,
          112.5,
          125,
          135,
          130,
          135,
          85,
          75,
          135,
          60,
          152.5,
          130,
          130,
          105,
          150,
          213.75,
          145,
          120,
          157.5,
          94.5,
          165,
          90,
          160,
          100,
          122.5,
          130,
          142.5,
          170,
          157.5,
          205,
          130,
          105,
          72.5,
          77.5,
          105,
          100,
          132.5,
          135,
          100,
          165,
          150,
          165,
          105,
          100,
          85,
          105,
          85,
          70,
          140,
          200,
          100,
          190,
          152.5,
          55,
          180,
          155,
          152.5,
          167.5,
          180,
          65,
          70,
          180,
          120,
          125,
          121.66666666666669,
          130,
          175,
          55,
          115,
          48.333333333333336,
          40,
          220,
          200,
          87.5,
          72.5,
          115,
          130,
          120,
          85,
          235,
          90,
          52.5,
          123.75,
          60,
          100,
          105,
          90,
          125,
          115,
          195,
          120,
          100,
          205,
          75,
          96.66666666666669,
          102.5,
          105,
          110,
          150,
          130,
          125,
          175,
          95,
          85,
          112.5,
          105,
          160,
          95,
          140,
          107.5,
          167.5,
          217.5,
          185,
          175,
          195,
          100,
          105,
          96.25,
          92.5,
          90,
          165,
          158,
          155,
          80,
          110,
          125,
          105,
          130,
          125,
          95,
          95,
          107.5,
          125,
          55,
          75,
          75,
          50,
          140,
          160,
          85,
          185,
          160,
          162.5,
          145,
          210,
          95,
          70,
          65,
          200,
          65,
          75,
          105,
          137.5,
          85,
          175,
          177.5,
          155,
          175,
          97.5,
          120,
          140,
          130,
          115,
          175,
          85,
          137.5,
          180,
          165,
          65,
          112.5,
          105,
          165,
          188.75,
          47.5,
          157.5,
          155,
          65,
          105,
          60,
          105,
          65,
          127.5,
          115,
          120,
          80,
          130,
          55,
          90,
          65,
          150,
          160,
          70,
          185,
          95,
          152.5,
          90,
          70,
          140,
          120,
          67.5,
          140,
          110,
          135,
          70,
          80,
          75,
          65,
          102.5,
          125,
          60,
          145,
          95,
          110,
          130,
          145,
          75,
          115,
          170,
          135,
          185,
          165,
          75,
          132.5,
          90,
          60,
          97.5,
          60,
          55,
          100,
          75,
          65,
          50,
          92.5,
          105,
          85,
          65,
          67.5,
          160,
          45,
          97.5,
          60,
          90,
          105,
          77.5,
          105,
          65,
          80,
          45,
          140,
          90,
          70,
          50,
          65,
          80,
          86.66666666666667,
          120,
          85,
          95,
          60,
          100,
          125,
          80,
          235,
          75,
          135,
          87.5,
          70,
          160,
          90,
          110,
          100,
          105,
          80,
          135,
          97.5,
          125,
          75,
          135,
          137.5,
          100,
          55,
          70,
          200,
          30,
          65,
          245,
          157.5,
          170,
          122.5,
          117.5,
          62.5,
          77.5,
          175,
          135,
          140,
          70,
          55,
          75,
          50,
          127.5,
          155,
          65,
          123.33333333333331,
          140,
          57.5,
          97.5,
          105,
          105,
          115,
          168.33333333333334,
          30,
          195,
          270,
          72.5,
          297.5,
          292.5,
          286.6666666666667,
          317.5,
          222.5,
          120,
          120,
          167.5,
          107.5,
          152.5,
          105,
          135,
          147.5,
          120,
          120,
          165,
          120,
          107.5,
          155,
          147.5,
          127.5,
          110,
          137.5,
          115,
          160,
          62.5,
          185,
          55,
          140,
          132.5,
          50,
          75,
          195,
          155,
          153.33333333333334,
          147.5,
          143.75,
          145,
          60,
          70,
          120,
          107.5,
          102.5,
          135,
          105,
          105,
          167.5,
          80,
          120,
          182.5,
          152.5,
          130,
          76.66666666666667,
          55,
          110,
          75,
          190,
          170,
          135,
          225,
          95,
          160,
          147.5,
          245,
          215,
          110,
          95,
          145,
          125,
          71.66666666666667,
          100,
          85,
          75,
          80,
          185,
          110,
          107.5,
          110,
          127.5,
          112.5,
          102.5,
          105,
          107.5,
          120,
          112.5,
          147.5,
          145,
          155,
          130,
          117.5,
          130,
          77.5,
          147.5,
          200,
          207.5,
          190,
          195,
          130,
          120,
          115,
          140,
          135,
          107.5,
          80,
          115,
          85,
          82.5,
          95,
          115,
          185,
          145,
          70,
          100,
          97.5,
          105,
          190,
          117.5,
          115,
          170,
          155,
          151.25,
          185,
          155,
          275,
          165,
          165,
          160,
          145,
          80,
          190,
          60,
          92.5,
          250,
          80,
          75,
          80,
          185,
          140,
          135,
          205,
          202.5,
          225,
          167.5,
          175,
          127.5,
          125,
          162.5,
          75,
          160,
          185,
          72.5,
          140,
          115,
          80,
          75,
          85,
          85,
          147.5,
          175,
          75,
          177.5,
          167.5,
          77.5,
          61.25,
          70,
          162.5,
          87.5,
          97.5,
          167.5,
          125,
          115,
          100,
          115,
          116.66666666666669,
          172.5,
          150,
          62.5,
          155,
          125,
          130,
          135,
          170,
          170,
          170,
          135,
          145,
          145,
          137.5,
          185,
          195,
          167.5,
          200,
          70,
          80,
          125,
          87.5,
          120,
          95,
          120,
          95,
          82.5,
          105,
          140,
          65,
          107.5,
          90,
          210,
          195,
          197.5,
          142.5,
          180,
          160,
          170,
          130,
          180,
          135,
          115,
          67.5,
          77.5,
          55,
          65,
          50,
          77.5,
          110,
          120,
          50,
          145,
          117.5,
          147.5,
          90,
          90,
          95,
          117.5,
          185,
          116.25,
          70,
          130,
          127.5,
          110,
          90,
          165,
          57.5,
          117.5,
          85,
          137.5,
          65,
          55,
          120,
          77.5,
          92.5,
          60,
          175,
          75,
          80,
          105,
          125,
          145,
          96.66666666666669,
          120,
          72.5,
          190,
          177.5,
          80,
          182.5,
          170,
          92.5,
          82.5,
          90,
          145,
          175,
          175,
          125,
          82.5,
          80,
          85,
          72.5,
          125,
          85,
          85,
          87.5,
          135,
          90,
          75,
          116.66666666666669,
          250,
          115,
          72.5,
          56.25,
          150,
          55,
          125,
          60,
          117.5,
          150,
          160,
          160,
          125,
          85,
          75,
          132.5,
          146.25,
          95,
          80,
          115,
          100,
          90,
          75,
          117.5,
          95,
          160,
          105,
          60,
          127.5,
          80,
          190,
          100,
          95,
          92.5,
          65,
          200,
          147.5,
          80,
          105,
          90,
          135,
          185,
          158.75,
          125,
          105,
          75,
          172.5,
          141.66666666666666,
          145,
          180,
          165,
          270,
          39,
          175,
          132.5,
          50,
          127.5,
          172.5,
          90,
          182.5,
          102.5,
          72.5,
          92.5,
          115,
          95,
          135,
          70,
          92.5,
          157.5,
          175,
          155,
          105,
          135,
          145,
          185,
          85,
          130,
          202.5,
          80,
          175,
          120,
          200,
          185,
          165,
          155,
          135,
          122.5,
          195,
          200,
          200,
          220,
          120,
          110,
          50,
          95,
          120,
          102.5,
          135,
          150,
          130,
          77.5,
          152.5,
          110,
          202.5,
          65,
          170,
          130,
          145,
          140,
          140,
          120,
          155,
          100,
          147.5,
          125,
          115,
          132.5,
          155,
          130,
          190,
          180,
          165,
          142.5,
          115,
          185,
          117.5,
          130,
          120,
          130,
          155,
          122.5,
          135,
          135,
          132.5,
          145,
          150,
          95,
          107.5,
          50,
          135,
          113.75,
          112.5,
          152.5,
          118.33333333333331,
          100,
          160,
          160,
          67.5,
          180,
          155,
          150,
          170,
          235,
          105,
          127.5,
          125,
          77.5,
          150,
          125,
          90,
          195,
          170,
          115,
          100,
          60,
          162.5,
          87.5,
          90,
          162.5,
          107.5,
          157.5,
          147.5,
          130,
          122.5,
          120,
          85,
          102.5,
          102.5,
          105,
          110,
          60,
          175,
          35,
          170,
          50,
          85,
          107.5,
          150,
          45,
          52.5,
          165,
          85,
          115,
          135,
          115,
          72.5,
          155,
          107.5,
          162.5,
          102.5,
          97.5,
          120,
          100,
          90,
          75,
          130,
          105,
          145,
          60,
          85,
          205,
          140,
          141.25,
          130,
          205,
          167.5,
          127.5,
          105,
          95,
          65,
          60,
          165,
          160,
          112.5,
          117.5,
          80,
          110,
          110,
          108.33333333333331,
          165,
          75,
          90,
          140,
          135,
          190,
          165,
          145,
          65,
          75,
          95,
          100,
          105,
          75,
          200,
          125,
          142.5,
          85,
          105,
          122.5,
          80,
          95,
          95,
          147.5,
          45,
          142.5,
          110,
          190,
          62.5,
          85,
          100,
          75,
          220,
          81.66666666666667,
          115,
          110,
          142.5,
          62.5,
          95,
          265,
          160,
          125,
          155,
          125,
          107.5,
          115,
          125,
          107.5,
          95,
          50,
          10,
          130,
          150,
          190,
          184.5,
          127.5,
          127.5,
          125,
          80,
          150,
          90,
          57.5,
          140,
          140,
          57.5,
          50,
          170,
          155,
          95,
          105,
          110,
          80,
          67.5,
          120,
          56.66666666666666,
          125,
          237.5,
          137.5,
          220,
          125,
          115,
          187.5,
          105,
          77.5,
          130,
          115,
          95,
          155,
          70,
          50,
          90,
          105,
          105,
          70,
          72.5,
          75,
          135,
          120,
          55,
          145,
          55,
          160,
          150,
          127.5,
          45
         ],
         "yaxis": "y"
        }
       ],
       "layout": {
        "legend": {
         "tracegroupgap": 0
        },
        "margin": {
         "t": 60
        },
        "template": {
         "data": {
          "bar": [
           {
            "error_x": {
             "color": "#2a3f5f"
            },
            "error_y": {
             "color": "#2a3f5f"
            },
            "marker": {
             "line": {
              "color": "#E5ECF6",
              "width": 0.5
             },
             "pattern": {
              "fillmode": "overlay",
              "size": 10,
              "solidity": 0.2
             }
            },
            "type": "bar"
           }
          ],
          "barpolar": [
           {
            "marker": {
             "line": {
              "color": "#E5ECF6",
              "width": 0.5
             },
             "pattern": {
              "fillmode": "overlay",
              "size": 10,
              "solidity": 0.2
             }
            },
            "type": "barpolar"
           }
          ],
          "carpet": [
           {
            "aaxis": {
             "endlinecolor": "#2a3f5f",
             "gridcolor": "white",
             "linecolor": "white",
             "minorgridcolor": "white",
             "startlinecolor": "#2a3f5f"
            },
            "baxis": {
             "endlinecolor": "#2a3f5f",
             "gridcolor": "white",
             "linecolor": "white",
             "minorgridcolor": "white",
             "startlinecolor": "#2a3f5f"
            },
            "type": "carpet"
           }
          ],
          "choropleth": [
           {
            "colorbar": {
             "outlinewidth": 0,
             "ticks": ""
            },
            "type": "choropleth"
           }
          ],
          "contour": [
           {
            "colorbar": {
             "outlinewidth": 0,
             "ticks": ""
            },
            "colorscale": [
             [
              0,
              "#0d0887"
             ],
             [
              0.1111111111111111,
              "#46039f"
             ],
             [
              0.2222222222222222,
              "#7201a8"
             ],
             [
              0.3333333333333333,
              "#9c179e"
             ],
             [
              0.4444444444444444,
              "#bd3786"
             ],
             [
              0.5555555555555556,
              "#d8576b"
             ],
             [
              0.6666666666666666,
              "#ed7953"
             ],
             [
              0.7777777777777778,
              "#fb9f3a"
             ],
             [
              0.8888888888888888,
              "#fdca26"
             ],
             [
              1,
              "#f0f921"
             ]
            ],
            "type": "contour"
           }
          ],
          "contourcarpet": [
           {
            "colorbar": {
             "outlinewidth": 0,
             "ticks": ""
            },
            "type": "contourcarpet"
           }
          ],
          "heatmap": [
           {
            "colorbar": {
             "outlinewidth": 0,
             "ticks": ""
            },
            "colorscale": [
             [
              0,
              "#0d0887"
             ],
             [
              0.1111111111111111,
              "#46039f"
             ],
             [
              0.2222222222222222,
              "#7201a8"
             ],
             [
              0.3333333333333333,
              "#9c179e"
             ],
             [
              0.4444444444444444,
              "#bd3786"
             ],
             [
              0.5555555555555556,
              "#d8576b"
             ],
             [
              0.6666666666666666,
              "#ed7953"
             ],
             [
              0.7777777777777778,
              "#fb9f3a"
             ],
             [
              0.8888888888888888,
              "#fdca26"
             ],
             [
              1,
              "#f0f921"
             ]
            ],
            "type": "heatmap"
           }
          ],
          "heatmapgl": [
           {
            "colorbar": {
             "outlinewidth": 0,
             "ticks": ""
            },
            "colorscale": [
             [
              0,
              "#0d0887"
             ],
             [
              0.1111111111111111,
              "#46039f"
             ],
             [
              0.2222222222222222,
              "#7201a8"
             ],
             [
              0.3333333333333333,
              "#9c179e"
             ],
             [
              0.4444444444444444,
              "#bd3786"
             ],
             [
              0.5555555555555556,
              "#d8576b"
             ],
             [
              0.6666666666666666,
              "#ed7953"
             ],
             [
              0.7777777777777778,
              "#fb9f3a"
             ],
             [
              0.8888888888888888,
              "#fdca26"
             ],
             [
              1,
              "#f0f921"
             ]
            ],
            "type": "heatmapgl"
           }
          ],
          "histogram": [
           {
            "marker": {
             "pattern": {
              "fillmode": "overlay",
              "size": 10,
              "solidity": 0.2
             }
            },
            "type": "histogram"
           }
          ],
          "histogram2d": [
           {
            "colorbar": {
             "outlinewidth": 0,
             "ticks": ""
            },
            "colorscale": [
             [
              0,
              "#0d0887"
             ],
             [
              0.1111111111111111,
              "#46039f"
             ],
             [
              0.2222222222222222,
              "#7201a8"
             ],
             [
              0.3333333333333333,
              "#9c179e"
             ],
             [
              0.4444444444444444,
              "#bd3786"
             ],
             [
              0.5555555555555556,
              "#d8576b"
             ],
             [
              0.6666666666666666,
              "#ed7953"
             ],
             [
              0.7777777777777778,
              "#fb9f3a"
             ],
             [
              0.8888888888888888,
              "#fdca26"
             ],
             [
              1,
              "#f0f921"
             ]
            ],
            "type": "histogram2d"
           }
          ],
          "histogram2dcontour": [
           {
            "colorbar": {
             "outlinewidth": 0,
             "ticks": ""
            },
            "colorscale": [
             [
              0,
              "#0d0887"
             ],
             [
              0.1111111111111111,
              "#46039f"
             ],
             [
              0.2222222222222222,
              "#7201a8"
             ],
             [
              0.3333333333333333,
              "#9c179e"
             ],
             [
              0.4444444444444444,
              "#bd3786"
             ],
             [
              0.5555555555555556,
              "#d8576b"
             ],
             [
              0.6666666666666666,
              "#ed7953"
             ],
             [
              0.7777777777777778,
              "#fb9f3a"
             ],
             [
              0.8888888888888888,
              "#fdca26"
             ],
             [
              1,
              "#f0f921"
             ]
            ],
            "type": "histogram2dcontour"
           }
          ],
          "mesh3d": [
           {
            "colorbar": {
             "outlinewidth": 0,
             "ticks": ""
            },
            "type": "mesh3d"
           }
          ],
          "parcoords": [
           {
            "line": {
             "colorbar": {
              "outlinewidth": 0,
              "ticks": ""
             }
            },
            "type": "parcoords"
           }
          ],
          "pie": [
           {
            "automargin": true,
            "type": "pie"
           }
          ],
          "scatter": [
           {
            "fillpattern": {
             "fillmode": "overlay",
             "size": 10,
             "solidity": 0.2
            },
            "type": "scatter"
           }
          ],
          "scatter3d": [
           {
            "line": {
             "colorbar": {
              "outlinewidth": 0,
              "ticks": ""
             }
            },
            "marker": {
             "colorbar": {
              "outlinewidth": 0,
              "ticks": ""
             }
            },
            "type": "scatter3d"
           }
          ],
          "scattercarpet": [
           {
            "marker": {
             "colorbar": {
              "outlinewidth": 0,
              "ticks": ""
             }
            },
            "type": "scattercarpet"
           }
          ],
          "scattergeo": [
           {
            "marker": {
             "colorbar": {
              "outlinewidth": 0,
              "ticks": ""
             }
            },
            "type": "scattergeo"
           }
          ],
          "scattergl": [
           {
            "marker": {
             "colorbar": {
              "outlinewidth": 0,
              "ticks": ""
             }
            },
            "type": "scattergl"
           }
          ],
          "scattermapbox": [
           {
            "marker": {
             "colorbar": {
              "outlinewidth": 0,
              "ticks": ""
             }
            },
            "type": "scattermapbox"
           }
          ],
          "scatterpolar": [
           {
            "marker": {
             "colorbar": {
              "outlinewidth": 0,
              "ticks": ""
             }
            },
            "type": "scatterpolar"
           }
          ],
          "scatterpolargl": [
           {
            "marker": {
             "colorbar": {
              "outlinewidth": 0,
              "ticks": ""
             }
            },
            "type": "scatterpolargl"
           }
          ],
          "scatterternary": [
           {
            "marker": {
             "colorbar": {
              "outlinewidth": 0,
              "ticks": ""
             }
            },
            "type": "scatterternary"
           }
          ],
          "surface": [
           {
            "colorbar": {
             "outlinewidth": 0,
             "ticks": ""
            },
            "colorscale": [
             [
              0,
              "#0d0887"
             ],
             [
              0.1111111111111111,
              "#46039f"
             ],
             [
              0.2222222222222222,
              "#7201a8"
             ],
             [
              0.3333333333333333,
              "#9c179e"
             ],
             [
              0.4444444444444444,
              "#bd3786"
             ],
             [
              0.5555555555555556,
              "#d8576b"
             ],
             [
              0.6666666666666666,
              "#ed7953"
             ],
             [
              0.7777777777777778,
              "#fb9f3a"
             ],
             [
              0.8888888888888888,
              "#fdca26"
             ],
             [
              1,
              "#f0f921"
             ]
            ],
            "type": "surface"
           }
          ],
          "table": [
           {
            "cells": {
             "fill": {
              "color": "#EBF0F8"
             },
             "line": {
              "color": "white"
             }
            },
            "header": {
             "fill": {
              "color": "#C8D4E3"
             },
             "line": {
              "color": "white"
             }
            },
            "type": "table"
           }
          ]
         },
         "layout": {
          "annotationdefaults": {
           "arrowcolor": "#2a3f5f",
           "arrowhead": 0,
           "arrowwidth": 1
          },
          "autotypenumbers": "strict",
          "coloraxis": {
           "colorbar": {
            "outlinewidth": 0,
            "ticks": ""
           }
          },
          "colorscale": {
           "diverging": [
            [
             0,
             "#8e0152"
            ],
            [
             0.1,
             "#c51b7d"
            ],
            [
             0.2,
             "#de77ae"
            ],
            [
             0.3,
             "#f1b6da"
            ],
            [
             0.4,
             "#fde0ef"
            ],
            [
             0.5,
             "#f7f7f7"
            ],
            [
             0.6,
             "#e6f5d0"
            ],
            [
             0.7,
             "#b8e186"
            ],
            [
             0.8,
             "#7fbc41"
            ],
            [
             0.9,
             "#4d9221"
            ],
            [
             1,
             "#276419"
            ]
           ],
           "sequential": [
            [
             0,
             "#0d0887"
            ],
            [
             0.1111111111111111,
             "#46039f"
            ],
            [
             0.2222222222222222,
             "#7201a8"
            ],
            [
             0.3333333333333333,
             "#9c179e"
            ],
            [
             0.4444444444444444,
             "#bd3786"
            ],
            [
             0.5555555555555556,
             "#d8576b"
            ],
            [
             0.6666666666666666,
             "#ed7953"
            ],
            [
             0.7777777777777778,
             "#fb9f3a"
            ],
            [
             0.8888888888888888,
             "#fdca26"
            ],
            [
             1,
             "#f0f921"
            ]
           ],
           "sequentialminus": [
            [
             0,
             "#0d0887"
            ],
            [
             0.1111111111111111,
             "#46039f"
            ],
            [
             0.2222222222222222,
             "#7201a8"
            ],
            [
             0.3333333333333333,
             "#9c179e"
            ],
            [
             0.4444444444444444,
             "#bd3786"
            ],
            [
             0.5555555555555556,
             "#d8576b"
            ],
            [
             0.6666666666666666,
             "#ed7953"
            ],
            [
             0.7777777777777778,
             "#fb9f3a"
            ],
            [
             0.8888888888888888,
             "#fdca26"
            ],
            [
             1,
             "#f0f921"
            ]
           ]
          },
          "colorway": [
           "#636efa",
           "#EF553B",
           "#00cc96",
           "#ab63fa",
           "#FFA15A",
           "#19d3f3",
           "#FF6692",
           "#B6E880",
           "#FF97FF",
           "#FECB52"
          ],
          "font": {
           "color": "#2a3f5f"
          },
          "geo": {
           "bgcolor": "white",
           "lakecolor": "white",
           "landcolor": "#E5ECF6",
           "showlakes": true,
           "showland": true,
           "subunitcolor": "white"
          },
          "hoverlabel": {
           "align": "left"
          },
          "hovermode": "closest",
          "mapbox": {
           "style": "light"
          },
          "paper_bgcolor": "white",
          "plot_bgcolor": "#E5ECF6",
          "polar": {
           "angularaxis": {
            "gridcolor": "white",
            "linecolor": "white",
            "ticks": ""
           },
           "bgcolor": "#E5ECF6",
           "radialaxis": {
            "gridcolor": "white",
            "linecolor": "white",
            "ticks": ""
           }
          },
          "scene": {
           "xaxis": {
            "backgroundcolor": "#E5ECF6",
            "gridcolor": "white",
            "gridwidth": 2,
            "linecolor": "white",
            "showbackground": true,
            "ticks": "",
            "zerolinecolor": "white"
           },
           "yaxis": {
            "backgroundcolor": "#E5ECF6",
            "gridcolor": "white",
            "gridwidth": 2,
            "linecolor": "white",
            "showbackground": true,
            "ticks": "",
            "zerolinecolor": "white"
           },
           "zaxis": {
            "backgroundcolor": "#E5ECF6",
            "gridcolor": "white",
            "gridwidth": 2,
            "linecolor": "white",
            "showbackground": true,
            "ticks": "",
            "zerolinecolor": "white"
           }
          },
          "shapedefaults": {
           "line": {
            "color": "#2a3f5f"
           }
          },
          "ternary": {
           "aaxis": {
            "gridcolor": "white",
            "linecolor": "white",
            "ticks": ""
           },
           "baxis": {
            "gridcolor": "white",
            "linecolor": "white",
            "ticks": ""
           },
           "bgcolor": "#E5ECF6",
           "caxis": {
            "gridcolor": "white",
            "linecolor": "white",
            "ticks": ""
           }
          },
          "title": {
           "x": 0.05
          },
          "xaxis": {
           "automargin": true,
           "gridcolor": "white",
           "linecolor": "white",
           "ticks": "",
           "title": {
            "standoff": 15
           },
           "zerolinecolor": "white",
           "zerolinewidth": 2
          },
          "yaxis": {
           "automargin": true,
           "gridcolor": "white",
           "linecolor": "white",
           "ticks": "",
           "title": {
            "standoff": 15
           },
           "zerolinecolor": "white",
           "zerolinewidth": 2
          }
         }
        },
        "title": {
         "text": "Comparison of Train Time vs Flight Time in minutes"
        },
        "xaxis": {
         "anchor": "y",
         "domain": [
          0,
          1
         ],
         "title": {
          "text": "Train Time (minutes)"
         }
        },
        "yaxis": {
         "anchor": "x",
         "domain": [
          0,
          1
         ],
         "title": {
          "text": "Flight Time (minutes)"
         }
        }
       }
      }
     },
     "metadata": {},
     "output_type": "display_data"
    }
   ],
   "source": [
    "scatter_fig = px.scatter(merged_data, x='train_time', y='flight_time', hover_data=['departure city', 'arrival city'])\n",
    "scatter_fig.update_layout(title='Comparison of Train Time vs Flight Time in minutes', xaxis_title='Train Time (minutes)', yaxis_title='Flight Time (minutes)')\n",
    "scatter_fig.show()"
   ]
  },
  {
   "cell_type": "code",
   "execution_count": 90,
   "metadata": {},
   "outputs": [
    {
     "data": {
      "application/vnd.plotly.v1+json": {
       "config": {
        "plotlyServerURL": "https://plot.ly"
       },
       "data": [
        {
         "name": "Flight Time",
         "type": "box",
         "y": [
          85,
          170,
          180,
          85,
          95,
          210,
          215,
          225.8333333333333,
          165,
          325,
          205,
          240,
          245,
          230,
          50,
          97.5,
          110,
          230,
          205,
          165,
          185,
          172.5,
          175,
          80,
          77.5,
          65,
          70,
          50,
          100,
          70,
          145,
          70,
          95,
          205,
          95,
          187.5,
          130,
          220,
          142.5,
          107.5,
          80,
          75,
          200,
          85,
          80,
          80,
          130,
          110,
          97.5,
          70,
          160,
          80,
          70,
          85,
          70,
          100,
          55,
          162.5,
          185,
          80,
          185,
          75,
          160,
          102.5,
          90,
          265,
          165,
          65,
          77.5,
          135,
          100,
          162.5,
          135,
          180,
          210,
          165,
          75,
          230,
          95,
          53.333333333333336,
          165,
          92.5,
          75,
          120,
          115,
          95,
          190,
          125,
          145,
          125,
          137.5,
          120,
          105,
          205,
          165,
          65,
          152.5,
          155,
          55,
          240,
          170,
          190,
          90,
          100,
          100,
          65,
          75,
          52.5,
          135,
          20,
          165,
          120,
          90,
          90,
          92.5,
          145,
          137.5,
          75,
          102.5,
          92.5,
          85,
          80,
          65,
          175,
          130,
          210,
          140,
          215,
          135,
          150,
          135,
          72.5,
          108.33333333333331,
          67.5,
          77.5,
          90,
          180,
          120,
          157.5,
          75,
          90,
          91.66666666666669,
          145,
          70,
          85,
          97.5,
          97.5,
          80,
          82.5,
          130,
          165,
          125,
          112.5,
          125,
          135,
          130,
          135,
          85,
          75,
          135,
          60,
          152.5,
          130,
          130,
          105,
          150,
          213.75,
          145,
          120,
          157.5,
          94.5,
          165,
          90,
          160,
          100,
          122.5,
          130,
          142.5,
          170,
          157.5,
          205,
          130,
          105,
          72.5,
          77.5,
          105,
          100,
          132.5,
          135,
          100,
          165,
          150,
          165,
          105,
          100,
          85,
          105,
          85,
          70,
          140,
          200,
          100,
          190,
          152.5,
          55,
          180,
          155,
          152.5,
          167.5,
          180,
          65,
          70,
          180,
          120,
          125,
          121.66666666666669,
          130,
          175,
          55,
          115,
          48.333333333333336,
          40,
          220,
          200,
          87.5,
          72.5,
          115,
          130,
          120,
          85,
          235,
          90,
          52.5,
          123.75,
          60,
          100,
          105,
          90,
          125,
          115,
          195,
          120,
          100,
          205,
          75,
          96.66666666666669,
          102.5,
          105,
          110,
          150,
          130,
          125,
          175,
          95,
          85,
          112.5,
          105,
          160,
          95,
          140,
          107.5,
          167.5,
          217.5,
          185,
          175,
          195,
          100,
          105,
          96.25,
          92.5,
          90,
          165,
          158,
          155,
          80,
          110,
          125,
          105,
          130,
          125,
          95,
          95,
          107.5,
          125,
          55,
          75,
          75,
          50,
          140,
          160,
          85,
          185,
          160,
          162.5,
          145,
          210,
          95,
          70,
          65,
          200,
          65,
          75,
          105,
          137.5,
          85,
          175,
          177.5,
          155,
          175,
          97.5,
          120,
          140,
          130,
          115,
          175,
          85,
          137.5,
          180,
          165,
          65,
          112.5,
          105,
          165,
          188.75,
          47.5,
          157.5,
          155,
          65,
          105,
          60,
          105,
          65,
          127.5,
          115,
          120,
          80,
          130,
          55,
          90,
          65,
          150,
          160,
          70,
          185,
          95,
          152.5,
          90,
          70,
          140,
          120,
          67.5,
          140,
          110,
          135,
          70,
          80,
          75,
          65,
          102.5,
          125,
          60,
          145,
          95,
          110,
          130,
          145,
          75,
          115,
          170,
          135,
          185,
          165,
          75,
          132.5,
          90,
          60,
          97.5,
          60,
          55,
          100,
          75,
          65,
          50,
          92.5,
          105,
          85,
          65,
          67.5,
          160,
          45,
          97.5,
          60,
          90,
          105,
          77.5,
          105,
          65,
          80,
          45,
          140,
          90,
          70,
          50,
          65,
          80,
          86.66666666666667,
          120,
          85,
          95,
          60,
          100,
          125,
          80,
          235,
          75,
          135,
          87.5,
          70,
          160,
          90,
          110,
          100,
          105,
          80,
          135,
          97.5,
          125,
          75,
          135,
          137.5,
          100,
          55,
          70,
          200,
          30,
          65,
          245,
          157.5,
          170,
          122.5,
          117.5,
          62.5,
          77.5,
          175,
          135,
          140,
          70,
          55,
          75,
          50,
          127.5,
          155,
          65,
          123.33333333333331,
          140,
          57.5,
          97.5,
          105,
          105,
          115,
          168.33333333333334,
          30,
          195,
          270,
          72.5,
          297.5,
          292.5,
          286.6666666666667,
          317.5,
          222.5,
          120,
          120,
          167.5,
          107.5,
          152.5,
          105,
          135,
          147.5,
          120,
          120,
          165,
          120,
          107.5,
          155,
          147.5,
          127.5,
          110,
          137.5,
          115,
          160,
          62.5,
          185,
          55,
          140,
          132.5,
          50,
          75,
          195,
          155,
          153.33333333333334,
          147.5,
          143.75,
          145,
          60,
          70,
          120,
          107.5,
          102.5,
          135,
          105,
          105,
          167.5,
          80,
          120,
          182.5,
          152.5,
          130,
          76.66666666666667,
          55,
          110,
          75,
          190,
          170,
          135,
          225,
          95,
          160,
          147.5,
          245,
          215,
          110,
          95,
          145,
          125,
          71.66666666666667,
          100,
          85,
          75,
          80,
          185,
          110,
          107.5,
          110,
          127.5,
          112.5,
          102.5,
          105,
          107.5,
          120,
          112.5,
          147.5,
          145,
          155,
          130,
          117.5,
          130,
          77.5,
          147.5,
          200,
          207.5,
          190,
          195,
          130,
          120,
          115,
          140,
          135,
          107.5,
          80,
          115,
          85,
          82.5,
          95,
          115,
          185,
          145,
          70,
          100,
          97.5,
          105,
          190,
          117.5,
          115,
          170,
          155,
          151.25,
          185,
          155,
          275,
          165,
          165,
          160,
          145,
          80,
          190,
          60,
          92.5,
          250,
          80,
          75,
          80,
          185,
          140,
          135,
          205,
          202.5,
          225,
          167.5,
          175,
          127.5,
          125,
          162.5,
          75,
          160,
          185,
          72.5,
          140,
          115,
          80,
          75,
          85,
          85,
          147.5,
          175,
          75,
          177.5,
          167.5,
          77.5,
          61.25,
          70,
          162.5,
          87.5,
          97.5,
          167.5,
          125,
          115,
          100,
          115,
          116.66666666666669,
          172.5,
          150,
          62.5,
          155,
          125,
          130,
          135,
          170,
          170,
          170,
          135,
          145,
          145,
          137.5,
          185,
          195,
          167.5,
          200,
          70,
          80,
          125,
          87.5,
          120,
          95,
          120,
          95,
          82.5,
          105,
          140,
          65,
          107.5,
          90,
          210,
          195,
          197.5,
          142.5,
          180,
          160,
          170,
          130,
          180,
          135,
          115,
          67.5,
          77.5,
          55,
          65,
          50,
          77.5,
          110,
          120,
          50,
          145,
          117.5,
          147.5,
          90,
          90,
          95,
          117.5,
          185,
          116.25,
          70,
          130,
          127.5,
          110,
          90,
          165,
          57.5,
          117.5,
          85,
          137.5,
          65,
          55,
          120,
          77.5,
          92.5,
          60,
          175,
          75,
          80,
          105,
          125,
          145,
          96.66666666666669,
          120,
          72.5,
          190,
          177.5,
          80,
          182.5,
          170,
          92.5,
          82.5,
          90,
          145,
          175,
          175,
          125,
          82.5,
          80,
          85,
          72.5,
          125,
          85,
          85,
          87.5,
          135,
          90,
          75,
          116.66666666666669,
          250,
          115,
          72.5,
          56.25,
          150,
          55,
          125,
          60,
          117.5,
          150,
          160,
          160,
          125,
          85,
          75,
          132.5,
          146.25,
          95,
          80,
          115,
          100,
          90,
          75,
          117.5,
          95,
          160,
          105,
          60,
          127.5,
          80,
          190,
          100,
          95,
          92.5,
          65,
          200,
          147.5,
          80,
          105,
          90,
          135,
          185,
          158.75,
          125,
          105,
          75,
          172.5,
          141.66666666666666,
          145,
          180,
          165,
          270,
          39,
          175,
          132.5,
          50,
          127.5,
          172.5,
          90,
          182.5,
          102.5,
          72.5,
          92.5,
          115,
          95,
          135,
          70,
          92.5,
          157.5,
          175,
          155,
          105,
          135,
          145,
          185,
          85,
          130,
          202.5,
          80,
          175,
          120,
          200,
          185,
          165,
          155,
          135,
          122.5,
          195,
          200,
          200,
          220,
          120,
          110,
          50,
          95,
          120,
          102.5,
          135,
          150,
          130,
          77.5,
          152.5,
          110,
          202.5,
          65,
          170,
          130,
          145,
          140,
          140,
          120,
          155,
          100,
          147.5,
          125,
          115,
          132.5,
          155,
          130,
          190,
          180,
          165,
          142.5,
          115,
          185,
          117.5,
          130,
          120,
          130,
          155,
          122.5,
          135,
          135,
          132.5,
          145,
          150,
          95,
          107.5,
          50,
          135,
          113.75,
          112.5,
          152.5,
          118.33333333333331,
          100,
          160,
          160,
          67.5,
          180,
          155,
          150,
          170,
          235,
          105,
          127.5,
          125,
          77.5,
          150,
          125,
          90,
          195,
          170,
          115,
          100,
          60,
          162.5,
          87.5,
          90,
          162.5,
          107.5,
          157.5,
          147.5,
          130,
          122.5,
          120,
          85,
          102.5,
          102.5,
          105,
          110,
          60,
          175,
          35,
          170,
          50,
          85,
          107.5,
          150,
          45,
          52.5,
          165,
          85,
          115,
          135,
          115,
          72.5,
          155,
          107.5,
          162.5,
          102.5,
          97.5,
          120,
          100,
          90,
          75,
          130,
          105,
          145,
          60,
          85,
          205,
          140,
          141.25,
          130,
          205,
          167.5,
          127.5,
          105,
          95,
          65,
          60,
          165,
          160,
          112.5,
          117.5,
          80,
          110,
          110,
          108.33333333333331,
          165,
          75,
          90,
          140,
          135,
          190,
          165,
          145,
          65,
          75,
          95,
          100,
          105,
          75,
          200,
          125,
          142.5,
          85,
          105,
          122.5,
          80,
          95,
          95,
          147.5,
          45,
          142.5,
          110,
          190,
          62.5,
          85,
          100,
          75,
          220,
          81.66666666666667,
          115,
          110,
          142.5,
          62.5,
          95,
          265,
          160,
          125,
          155,
          125,
          107.5,
          115,
          125,
          107.5,
          95,
          50,
          10,
          130,
          150,
          190,
          184.5,
          127.5,
          127.5,
          125,
          80,
          150,
          90,
          57.5,
          140,
          140,
          57.5,
          50,
          170,
          155,
          95,
          105,
          110,
          80,
          67.5,
          120,
          56.66666666666666,
          125,
          237.5,
          137.5,
          220,
          125,
          115,
          187.5,
          105,
          77.5,
          130,
          115,
          95,
          155,
          70,
          50,
          90,
          105,
          105,
          70,
          72.5,
          75,
          135,
          120,
          55,
          145,
          55,
          160,
          150,
          127.5,
          45
         ]
        },
        {
         "name": "Train Time",
         "type": "box",
         "y": [
          725,
          1837,
          1837,
          767,
          459,
          2062,
          1376,
          1376,
          1376,
          5027,
          2174,
          1678,
          2194,
          4509.166666666667,
          588.5333333333333,
          332,
          796,
          4129,
          1966,
          1554,
          1554,
          1554,
          1554,
          181,
          946,
          1265,
          915,
          881.65,
          951.65,
          318,
          1597,
          148,
          642,
          2515,
          1091,
          1648,
          1156,
          3077,
          739,
          1952,
          408,
          546,
          2948.3333333333335,
          447,
          207,
          511,
          1290,
          1240.5,
          501,
          329,
          1912,
          313,
          236,
          236,
          236,
          453,
          432,
          3010,
          2151,
          699,
          2626,
          440,
          1502,
          558,
          1403,
          4251,
          1661,
          186,
          964,
          1169,
          1383,
          3826.733333333333,
          3386,
          2896,
          3418,
          2940,
          497.3833333333333,
          3219,
          1379,
          323,
          3242,
          373,
          380,
          627,
          627,
          767,
          1864,
          645,
          645,
          645,
          645,
          1318,
          677,
          2812,
          2037,
          465,
          1630,
          1533,
          204.61666666666667,
          3660,
          2207,
          3145,
          680,
          1289,
          1280,
          753.7,
          753.7,
          462,
          1569.7,
          80,
          1738,
          1201,
          653,
          1113,
          662,
          2233.5,
          1739,
          280,
          548.2333333333333,
          1434.7,
          969.7,
          969.7,
          744.7,
          1639,
          730,
          2230.116666666667,
          2191,
          2438,
          1129,
          1493,
          716,
          507,
          723,
          340,
          1490,
          872,
          2060,
          1825.1166666666666,
          1681,
          389,
          481,
          1172,
          1406,
          249,
          444,
          504,
          526.05,
          484,
          435,
          1465,
          1681,
          915,
          579,
          2178,
          1176,
          567,
          567,
          407,
          260,
          1194.0333333333333,
          362,
          1631,
          2116.483333333333,
          1087.15,
          1018.35,
          1362,
          2127,
          1779,
          2533,
          1476,
          793,
          1532,
          766,
          1563,
          1240,
          1189,
          1739.55,
          2855,
          1443,
          1443,
          1920,
          1419.1666666666667,
          827,
          403,
          602,
          544,
          642,
          2521,
          1438,
          509.95,
          833,
          833,
          1351,
          409,
          409,
          276,
          511,
          150,
          91,
          1198,
          2512,
          366,
          1741,
          1307,
          573,
          2745,
          1906,
          2490,
          2490,
          1650,
          265,
          265,
          2799.8166666666666,
          858,
          1819,
          1736,
          1577,
          2066,
          573,
          627,
          287,
          188,
          2049,
          2054,
          634,
          320,
          1263,
          1335,
          1224,
          563,
          2223,
          570,
          230,
          1281,
          280,
          1088,
          868,
          1670,
          1281,
          1281,
          1819,
          1433,
          679,
          2754,
          494,
          813,
          1154,
          875,
          1568.1166666666666,
          2022.1166666666666,
          1291,
          1291,
          1794,
          745,
          745,
          1099.8666666666666,
          699.8666666666667,
          1840.5,
          653.8666666666667,
          1556.5,
          1166.8666666666666,
          1313,
          1358,
          2110,
          2110,
          2110,
          1021,
          700,
          244,
          244,
          244,
          1901,
          1901,
          1901,
          781,
          1278,
          1667,
          743,
          1445,
          826,
          659.5,
          658,
          1030.8166666666666,
          1204,
          211,
          301,
          563,
          63,
          1815,
          2248.4333333333334,
          339,
          2328,
          1451,
          1920.4833333333333,
          2131.65,
          2814.85,
          465,
          351,
          294,
          1865,
          304,
          390,
          531,
          813,
          356,
          1458,
          1588,
          1433,
          3604,
          707,
          823,
          1889,
          1174,
          867,
          2266,
          520,
          1289,
          1661,
          1585,
          838.3333333333334,
          519,
          325,
          1602,
          2702.766666666667,
          231,
          2080,
          1080,
          230,
          1685,
          123,
          867,
          873,
          768,
          768,
          761,
          573.0833333333334,
          937,
          87,
          624,
          313,
          1418,
          1418,
          190,
          2458,
          665,
          1895,
          533,
          554,
          2276,
          2276,
          652.3333333333334,
          1381,
          1066,
          1460,
          356.26666666666665,
          1191.65,
          266.6166666666667,
          339,
          685,
          1917,
          188,
          1374,
          450,
          664,
          1339,
          1815,
          442,
          1408,
          3257,
          1470,
          1626,
          1421,
          243,
          1072,
          540,
          277,
          542,
          188,
          132,
          609,
          249,
          261,
          67,
          586,
          862,
          521,
          358,
          261.8,
          1828,
          130,
          727,
          186,
          381,
          381,
          471,
          558,
          192,
          523,
          123,
          1427,
          459,
          431,
          93,
          305,
          577.05,
          378,
          610,
          498,
          1011,
          251,
          1081,
          657,
          302,
          2688,
          677,
          1361,
          390,
          235,
          1482,
          715,
          538,
          553,
          571,
          324,
          1385,
          449,
          1203,
          409,
          2033,
          2466.483333333333,
          582,
          179,
          300,
          1826.8,
          212.8,
          682,
          3207,
          2460,
          2294,
          1114,
          1681,
          340,
          513,
          1667,
          1736.2,
          2559.75,
          529.75,
          622.2333333333333,
          797.2333333333333,
          458.8333333333333,
          889,
          1245,
          324,
          724,
          901,
          251,
          550,
          657,
          1642,
          1193,
          1193,
          2131.1,
          2211.133333333333,
          4658.133333333333,
          633.1333333333333,
          4328,
          3954,
          3890,
          3890,
          2070,
          945,
          1437,
          1646,
          1240,
          1616,
          1107,
          1483,
          2559,
          1288,
          1338,
          1829,
          821,
          1340,
          1487,
          1487,
          1370,
          1394,
          1665,
          1296,
          1661,
          337,
          1922,
          132,
          1128,
          1128,
          683,
          509,
          2009,
          2015,
          1756.4,
          1434,
          1210,
          1913,
          265,
          485.68333333333334,
          1264,
          826,
          826,
          1040,
          739,
          739,
          1650,
          428,
          608,
          1821,
          1690,
          1228,
          250,
          584,
          1574,
          400,
          1573.4,
          1601,
          630,
          1997,
          435,
          1313,
          1313,
          3881,
          3881,
          881,
          881,
          1181,
          1181,
          122,
          643,
          343,
          343,
          343,
          1791,
          391,
          391,
          391,
          1216,
          1216,
          407,
          407,
          407,
          718,
          340,
          1306,
          1306,
          1306,
          810,
          810,
          553,
          203,
          1541,
          2421,
          2421,
          2421,
          2421,
          762,
          762,
          518,
          819,
          819,
          464,
          346,
          754,
          645,
          1080,
          508,
          718.0833333333334,
          2560,
          1645,
          412,
          643.4833333333333,
          520.2333333333333,
          825,
          2047,
          1416,
          1856,
          1930,
          1767,
          1767,
          2264,
          1913,
          4118,
          1993,
          1993,
          2056,
          1745,
          626,
          2188,
          185,
          745,
          3142,
          933,
          852.3333333333334,
          852.3333333333334,
          2003,
          1280.5,
          1280.5,
          2616.5,
          2559.483333333333,
          3173.85,
          1865.7166666666667,
          1865.7166666666667,
          1124,
          1124,
          1655,
          629,
          1655,
          1433,
          116,
          682,
          519,
          540,
          199,
          165,
          563,
          832,
          1742.1,
          503,
          1676,
          1622,
          400,
          728.3333333333334,
          728.3333333333334,
          1327,
          362,
          400,
          1395,
          580,
          1105,
          485,
          544,
          534,
          2548,
          1638,
          154,
          1560,
          645,
          1181,
          1229,
          1630,
          1617,
          1662,
          787,
          1319,
          1343,
          1379,
          2647,
          2647,
          2647,
          2647,
          267,
          267,
          532,
          308,
          743,
          748,
          1352.6333333333334,
          240.63333333333333,
          240.63333333333333,
          365.6333333333333,
          1668,
          116.63333333333334,
          513,
          465.6333333333333,
          2064,
          1666,
          1666,
          1666,
          1968,
          3252,
          3857,
          951,
          1586,
          1328,
          740,
          405,
          447,
          294,
          364,
          358,
          377,
          640,
          1625.4833333333333,
          119,
          1547,
          851,
          2576,
          1135,
          573,
          573,
          896.1166666666667,
          2645,
          826,
          490,
          2373.483333333333,
          1394,
          607.5833333333334,
          680,
          1952.7166666666667,
          337,
          1797.4833333333333,
          303.48333333333335,
          1358.4833333333333,
          474.8833333333333,
          77.48333333333333,
          1230.4833333333333,
          270.48333333333335,
          326.48333333333335,
          561.8166666666667,
          1485.4833333333333,
          436.48333333333335,
          321.48333333333335,
          786.4833333333333,
          2029.4833333333333,
          1681,
          346,
          1263,
          587,
          1724,
          1896,
          318,
          1670,
          3014.6666666666665,
          407,
          384,
          431.46666666666664,
          2579.6666666666665,
          2700,
          2205,
          2379.7166666666667,
          1129,
          468,
          294.8,
          166,
          603,
          209,
          494,
          345,
          1538,
          290,
          294,
          685,
          4378,
          1436,
          321,
          423,
          1579,
          211,
          2473,
          487,
          1884.85,
          1546,
          1965,
          2347,
          1700,
          425,
          238,
          1541,
          1515,
          970,
          1113,
          2067,
          1170.3333333333333,
          770.3333333333334,
          612.3333333333334,
          1488.3333333333333,
          857.3333333333334,
          2728,
          1241.3333333333333,
          552.7,
          1450.3333333333333,
          896.3333333333334,
          1978,
          1318.3833333333334,
          1212.3333333333333,
          1237.3333333333333,
          210,
          2147,
          1323,
          1208,
          758,
          875,
          2462,
          1940,
          2428.9666666666667,
          2027.9666666666667,
          1299,
          293,
          1890,
          1576,
          1774.3833333333334,
          3179.383333333333,
          1999.3833333333334,
          3696,
          446.3833333333333,
          3075.383333333333,
          2204.5333333333333,
          606,
          1667.9666666666667,
          1598,
          584,
          1732,
          1107,
          202,
          371,
          3018,
          461,
          2716.6666666666665,
          495.01666666666665,
          1270.0166666666667,
          2058.016666666667,
          2449.016666666667,
          2216.016666666667,
          2155.016666666667,
          1735.4833333333333,
          1795.0166666666667,
          2789.016666666667,
          1977.0166666666667,
          2195.016666666667,
          3700,
          624,
          3271,
          1951,
          2232,
          2535,
          1894,
          1901,
          1745,
          2204,
          2087,
          2087,
          2087,
          3465,
          2119,
          1945,
          522.0833333333334,
          1582,
          746,
          376,
          960.0833333333334,
          1303,
          1125,
          296,
          1318,
          495,
          1846.5166666666667,
          267,
          1722.4666666666667,
          818,
          1254,
          1231,
          1237,
          406.1666666666667,
          1408.3666666666666,
          517,
          2054,
          879,
          893,
          1326,
          1918.9666666666667,
          1504,
          3373.6666666666665,
          2012,
          1490,
          1433.8166666666666,
          872.4166666666666,
          2650.65,
          679.05,
          1234,
          1198,
          1615,
          1408,
          1193,
          1096,
          1433,
          1226,
          1503,
          2280.483333333333,
          1785,
          2041.5,
          444,
          1003,
          881,
          881,
          2854,
          1931,
          334,
          1797,
          1969,
          157,
          1723,
          1761,
          1812,
          1582,
          2551,
          605,
          1358,
          852,
          491,
          2485,
          707,
          1484,
          2979.8333333333335,
          2832.8333333333335,
          1353.8333333333333,
          1217.8333333333333,
          842.8333333333334,
          2445.8333333333335,
          1137.8333333333333,
          1137.8333333333333,
          2397.8333333333335,
          1426.8333333333333,
          2204.8333333333335,
          2083.8333333333335,
          2244.8333333333335,
          1376.8333333333333,
          1815.8333333333333,
          1340.8333333333333,
          1333.8333333333333,
          1426.8333333333333,
          1317.8333333333333,
          1300.8333333333333,
          1120.8666666666666,
          3347.35,
          162.35,
          2726.8166666666666,
          129,
          431,
          665,
          2275,
          289,
          487.35,
          1790.1666666666667,
          1166.1666666666667,
          917.2833333333333,
          1726.1666666666667,
          882.1666666666666,
          524.1666666666666,
          2267.1666666666665,
          646.75,
          2050.1666666666665,
          865,
          1234,
          1690,
          1504,
          1157.65,
          453,
          1874,
          1435.7833333333333,
          1647.7833333333333,
          605.7833333333333,
          313,
          3011,
          1782,
          1782,
          1782,
          2701,
          2037,
          1204,
          949,
          949,
          422,
          240,
          2780.133333333333,
          2937.8166666666666,
          1027,
          1642,
          446,
          767,
          767,
          855.1166666666667,
          1721,
          233,
          654,
          1390,
          1390,
          3072,
          1852,
          1531,
          437,
          314.3666666666667,
          865,
          569.5833333333334,
          480,
          262,
          1815,
          2743,
          1557,
          633,
          614,
          608,
          823,
          643,
          571,
          2523,
          280,
          817,
          599,
          1730,
          246,
          679,
          1265,
          407,
          3285.85,
          465,
          1131,
          1190,
          828,
          123,
          616,
          3625,
          2052,
          1548,
          2624,
          2310,
          2310,
          749,
          1445.5,
          942,
          595.5833333333334,
          244.51666666666668,
          75.06666666666666,
          759,
          2476,
          1661,
          1661,
          1262,
          1276,
          1276,
          705,
          1260,
          1379,
          222.5,
          1392,
          1257,
          132,
          189,
          1437,
          1437,
          1098,
          552,
          1641,
          562,
          595,
          1141,
          256,
          1139,
          2085,
          1310,
          1852,
          1440,
          1085,
          1704,
          441,
          250,
          1354,
          1329,
          1036,
          1593,
          616,
          450,
          1168,
          654,
          713,
          337,
          379,
          244,
          859,
          1281,
          163,
          1374,
          211,
          3190,
          1593,
          4241.483333333334,
          266
         ]
        }
       ],
       "layout": {
        "template": {
         "data": {
          "bar": [
           {
            "error_x": {
             "color": "#2a3f5f"
            },
            "error_y": {
             "color": "#2a3f5f"
            },
            "marker": {
             "line": {
              "color": "#E5ECF6",
              "width": 0.5
             },
             "pattern": {
              "fillmode": "overlay",
              "size": 10,
              "solidity": 0.2
             }
            },
            "type": "bar"
           }
          ],
          "barpolar": [
           {
            "marker": {
             "line": {
              "color": "#E5ECF6",
              "width": 0.5
             },
             "pattern": {
              "fillmode": "overlay",
              "size": 10,
              "solidity": 0.2
             }
            },
            "type": "barpolar"
           }
          ],
          "carpet": [
           {
            "aaxis": {
             "endlinecolor": "#2a3f5f",
             "gridcolor": "white",
             "linecolor": "white",
             "minorgridcolor": "white",
             "startlinecolor": "#2a3f5f"
            },
            "baxis": {
             "endlinecolor": "#2a3f5f",
             "gridcolor": "white",
             "linecolor": "white",
             "minorgridcolor": "white",
             "startlinecolor": "#2a3f5f"
            },
            "type": "carpet"
           }
          ],
          "choropleth": [
           {
            "colorbar": {
             "outlinewidth": 0,
             "ticks": ""
            },
            "type": "choropleth"
           }
          ],
          "contour": [
           {
            "colorbar": {
             "outlinewidth": 0,
             "ticks": ""
            },
            "colorscale": [
             [
              0,
              "#0d0887"
             ],
             [
              0.1111111111111111,
              "#46039f"
             ],
             [
              0.2222222222222222,
              "#7201a8"
             ],
             [
              0.3333333333333333,
              "#9c179e"
             ],
             [
              0.4444444444444444,
              "#bd3786"
             ],
             [
              0.5555555555555556,
              "#d8576b"
             ],
             [
              0.6666666666666666,
              "#ed7953"
             ],
             [
              0.7777777777777778,
              "#fb9f3a"
             ],
             [
              0.8888888888888888,
              "#fdca26"
             ],
             [
              1,
              "#f0f921"
             ]
            ],
            "type": "contour"
           }
          ],
          "contourcarpet": [
           {
            "colorbar": {
             "outlinewidth": 0,
             "ticks": ""
            },
            "type": "contourcarpet"
           }
          ],
          "heatmap": [
           {
            "colorbar": {
             "outlinewidth": 0,
             "ticks": ""
            },
            "colorscale": [
             [
              0,
              "#0d0887"
             ],
             [
              0.1111111111111111,
              "#46039f"
             ],
             [
              0.2222222222222222,
              "#7201a8"
             ],
             [
              0.3333333333333333,
              "#9c179e"
             ],
             [
              0.4444444444444444,
              "#bd3786"
             ],
             [
              0.5555555555555556,
              "#d8576b"
             ],
             [
              0.6666666666666666,
              "#ed7953"
             ],
             [
              0.7777777777777778,
              "#fb9f3a"
             ],
             [
              0.8888888888888888,
              "#fdca26"
             ],
             [
              1,
              "#f0f921"
             ]
            ],
            "type": "heatmap"
           }
          ],
          "heatmapgl": [
           {
            "colorbar": {
             "outlinewidth": 0,
             "ticks": ""
            },
            "colorscale": [
             [
              0,
              "#0d0887"
             ],
             [
              0.1111111111111111,
              "#46039f"
             ],
             [
              0.2222222222222222,
              "#7201a8"
             ],
             [
              0.3333333333333333,
              "#9c179e"
             ],
             [
              0.4444444444444444,
              "#bd3786"
             ],
             [
              0.5555555555555556,
              "#d8576b"
             ],
             [
              0.6666666666666666,
              "#ed7953"
             ],
             [
              0.7777777777777778,
              "#fb9f3a"
             ],
             [
              0.8888888888888888,
              "#fdca26"
             ],
             [
              1,
              "#f0f921"
             ]
            ],
            "type": "heatmapgl"
           }
          ],
          "histogram": [
           {
            "marker": {
             "pattern": {
              "fillmode": "overlay",
              "size": 10,
              "solidity": 0.2
             }
            },
            "type": "histogram"
           }
          ],
          "histogram2d": [
           {
            "colorbar": {
             "outlinewidth": 0,
             "ticks": ""
            },
            "colorscale": [
             [
              0,
              "#0d0887"
             ],
             [
              0.1111111111111111,
              "#46039f"
             ],
             [
              0.2222222222222222,
              "#7201a8"
             ],
             [
              0.3333333333333333,
              "#9c179e"
             ],
             [
              0.4444444444444444,
              "#bd3786"
             ],
             [
              0.5555555555555556,
              "#d8576b"
             ],
             [
              0.6666666666666666,
              "#ed7953"
             ],
             [
              0.7777777777777778,
              "#fb9f3a"
             ],
             [
              0.8888888888888888,
              "#fdca26"
             ],
             [
              1,
              "#f0f921"
             ]
            ],
            "type": "histogram2d"
           }
          ],
          "histogram2dcontour": [
           {
            "colorbar": {
             "outlinewidth": 0,
             "ticks": ""
            },
            "colorscale": [
             [
              0,
              "#0d0887"
             ],
             [
              0.1111111111111111,
              "#46039f"
             ],
             [
              0.2222222222222222,
              "#7201a8"
             ],
             [
              0.3333333333333333,
              "#9c179e"
             ],
             [
              0.4444444444444444,
              "#bd3786"
             ],
             [
              0.5555555555555556,
              "#d8576b"
             ],
             [
              0.6666666666666666,
              "#ed7953"
             ],
             [
              0.7777777777777778,
              "#fb9f3a"
             ],
             [
              0.8888888888888888,
              "#fdca26"
             ],
             [
              1,
              "#f0f921"
             ]
            ],
            "type": "histogram2dcontour"
           }
          ],
          "mesh3d": [
           {
            "colorbar": {
             "outlinewidth": 0,
             "ticks": ""
            },
            "type": "mesh3d"
           }
          ],
          "parcoords": [
           {
            "line": {
             "colorbar": {
              "outlinewidth": 0,
              "ticks": ""
             }
            },
            "type": "parcoords"
           }
          ],
          "pie": [
           {
            "automargin": true,
            "type": "pie"
           }
          ],
          "scatter": [
           {
            "fillpattern": {
             "fillmode": "overlay",
             "size": 10,
             "solidity": 0.2
            },
            "type": "scatter"
           }
          ],
          "scatter3d": [
           {
            "line": {
             "colorbar": {
              "outlinewidth": 0,
              "ticks": ""
             }
            },
            "marker": {
             "colorbar": {
              "outlinewidth": 0,
              "ticks": ""
             }
            },
            "type": "scatter3d"
           }
          ],
          "scattercarpet": [
           {
            "marker": {
             "colorbar": {
              "outlinewidth": 0,
              "ticks": ""
             }
            },
            "type": "scattercarpet"
           }
          ],
          "scattergeo": [
           {
            "marker": {
             "colorbar": {
              "outlinewidth": 0,
              "ticks": ""
             }
            },
            "type": "scattergeo"
           }
          ],
          "scattergl": [
           {
            "marker": {
             "colorbar": {
              "outlinewidth": 0,
              "ticks": ""
             }
            },
            "type": "scattergl"
           }
          ],
          "scattermapbox": [
           {
            "marker": {
             "colorbar": {
              "outlinewidth": 0,
              "ticks": ""
             }
            },
            "type": "scattermapbox"
           }
          ],
          "scatterpolar": [
           {
            "marker": {
             "colorbar": {
              "outlinewidth": 0,
              "ticks": ""
             }
            },
            "type": "scatterpolar"
           }
          ],
          "scatterpolargl": [
           {
            "marker": {
             "colorbar": {
              "outlinewidth": 0,
              "ticks": ""
             }
            },
            "type": "scatterpolargl"
           }
          ],
          "scatterternary": [
           {
            "marker": {
             "colorbar": {
              "outlinewidth": 0,
              "ticks": ""
             }
            },
            "type": "scatterternary"
           }
          ],
          "surface": [
           {
            "colorbar": {
             "outlinewidth": 0,
             "ticks": ""
            },
            "colorscale": [
             [
              0,
              "#0d0887"
             ],
             [
              0.1111111111111111,
              "#46039f"
             ],
             [
              0.2222222222222222,
              "#7201a8"
             ],
             [
              0.3333333333333333,
              "#9c179e"
             ],
             [
              0.4444444444444444,
              "#bd3786"
             ],
             [
              0.5555555555555556,
              "#d8576b"
             ],
             [
              0.6666666666666666,
              "#ed7953"
             ],
             [
              0.7777777777777778,
              "#fb9f3a"
             ],
             [
              0.8888888888888888,
              "#fdca26"
             ],
             [
              1,
              "#f0f921"
             ]
            ],
            "type": "surface"
           }
          ],
          "table": [
           {
            "cells": {
             "fill": {
              "color": "#EBF0F8"
             },
             "line": {
              "color": "white"
             }
            },
            "header": {
             "fill": {
              "color": "#C8D4E3"
             },
             "line": {
              "color": "white"
             }
            },
            "type": "table"
           }
          ]
         },
         "layout": {
          "annotationdefaults": {
           "arrowcolor": "#2a3f5f",
           "arrowhead": 0,
           "arrowwidth": 1
          },
          "autotypenumbers": "strict",
          "coloraxis": {
           "colorbar": {
            "outlinewidth": 0,
            "ticks": ""
           }
          },
          "colorscale": {
           "diverging": [
            [
             0,
             "#8e0152"
            ],
            [
             0.1,
             "#c51b7d"
            ],
            [
             0.2,
             "#de77ae"
            ],
            [
             0.3,
             "#f1b6da"
            ],
            [
             0.4,
             "#fde0ef"
            ],
            [
             0.5,
             "#f7f7f7"
            ],
            [
             0.6,
             "#e6f5d0"
            ],
            [
             0.7,
             "#b8e186"
            ],
            [
             0.8,
             "#7fbc41"
            ],
            [
             0.9,
             "#4d9221"
            ],
            [
             1,
             "#276419"
            ]
           ],
           "sequential": [
            [
             0,
             "#0d0887"
            ],
            [
             0.1111111111111111,
             "#46039f"
            ],
            [
             0.2222222222222222,
             "#7201a8"
            ],
            [
             0.3333333333333333,
             "#9c179e"
            ],
            [
             0.4444444444444444,
             "#bd3786"
            ],
            [
             0.5555555555555556,
             "#d8576b"
            ],
            [
             0.6666666666666666,
             "#ed7953"
            ],
            [
             0.7777777777777778,
             "#fb9f3a"
            ],
            [
             0.8888888888888888,
             "#fdca26"
            ],
            [
             1,
             "#f0f921"
            ]
           ],
           "sequentialminus": [
            [
             0,
             "#0d0887"
            ],
            [
             0.1111111111111111,
             "#46039f"
            ],
            [
             0.2222222222222222,
             "#7201a8"
            ],
            [
             0.3333333333333333,
             "#9c179e"
            ],
            [
             0.4444444444444444,
             "#bd3786"
            ],
            [
             0.5555555555555556,
             "#d8576b"
            ],
            [
             0.6666666666666666,
             "#ed7953"
            ],
            [
             0.7777777777777778,
             "#fb9f3a"
            ],
            [
             0.8888888888888888,
             "#fdca26"
            ],
            [
             1,
             "#f0f921"
            ]
           ]
          },
          "colorway": [
           "#636efa",
           "#EF553B",
           "#00cc96",
           "#ab63fa",
           "#FFA15A",
           "#19d3f3",
           "#FF6692",
           "#B6E880",
           "#FF97FF",
           "#FECB52"
          ],
          "font": {
           "color": "#2a3f5f"
          },
          "geo": {
           "bgcolor": "white",
           "lakecolor": "white",
           "landcolor": "#E5ECF6",
           "showlakes": true,
           "showland": true,
           "subunitcolor": "white"
          },
          "hoverlabel": {
           "align": "left"
          },
          "hovermode": "closest",
          "mapbox": {
           "style": "light"
          },
          "paper_bgcolor": "white",
          "plot_bgcolor": "#E5ECF6",
          "polar": {
           "angularaxis": {
            "gridcolor": "white",
            "linecolor": "white",
            "ticks": ""
           },
           "bgcolor": "#E5ECF6",
           "radialaxis": {
            "gridcolor": "white",
            "linecolor": "white",
            "ticks": ""
           }
          },
          "scene": {
           "xaxis": {
            "backgroundcolor": "#E5ECF6",
            "gridcolor": "white",
            "gridwidth": 2,
            "linecolor": "white",
            "showbackground": true,
            "ticks": "",
            "zerolinecolor": "white"
           },
           "yaxis": {
            "backgroundcolor": "#E5ECF6",
            "gridcolor": "white",
            "gridwidth": 2,
            "linecolor": "white",
            "showbackground": true,
            "ticks": "",
            "zerolinecolor": "white"
           },
           "zaxis": {
            "backgroundcolor": "#E5ECF6",
            "gridcolor": "white",
            "gridwidth": 2,
            "linecolor": "white",
            "showbackground": true,
            "ticks": "",
            "zerolinecolor": "white"
           }
          },
          "shapedefaults": {
           "line": {
            "color": "#2a3f5f"
           }
          },
          "ternary": {
           "aaxis": {
            "gridcolor": "white",
            "linecolor": "white",
            "ticks": ""
           },
           "baxis": {
            "gridcolor": "white",
            "linecolor": "white",
            "ticks": ""
           },
           "bgcolor": "#E5ECF6",
           "caxis": {
            "gridcolor": "white",
            "linecolor": "white",
            "ticks": ""
           }
          },
          "title": {
           "x": 0.05
          },
          "xaxis": {
           "automargin": true,
           "gridcolor": "white",
           "linecolor": "white",
           "ticks": "",
           "title": {
            "standoff": 15
           },
           "zerolinecolor": "white",
           "zerolinewidth": 2
          },
          "yaxis": {
           "automargin": true,
           "gridcolor": "white",
           "linecolor": "white",
           "ticks": "",
           "title": {
            "standoff": 15
           },
           "zerolinecolor": "white",
           "zerolinewidth": 2
          }
         }
        },
        "title": {
         "text": "Distribution of Travel Times in minutes"
        },
        "yaxis": {
         "title": {
          "text": "Time (minutes)"
         }
        }
       }
      }
     },
     "metadata": {},
     "output_type": "display_data"
    }
   ],
   "source": [
    "box_fig = go.Figure()\n",
    "box_fig.add_trace(go.Box(y=merged_data['flight_time'], name='Flight Time'))\n",
    "box_fig.add_trace(go.Box(y=merged_data['train_time'], name='Train Time'))\n",
    "box_fig.update_layout(title='Distribution of Travel Times in minutes', yaxis_title='Time (minutes)')\n",
    "box_fig.show()"
   ]
  },
  {
   "cell_type": "code",
   "execution_count": 104,
   "metadata": {},
   "outputs": [
    {
     "data": {
      "application/vnd.plotly.v1+json": {
       "config": {
        "plotlyServerURL": "https://plot.ly"
       },
       "data": [
        {
         "name": "Flight Time",
         "type": "box",
         "y": [
          85,
          170,
          180,
          85,
          95,
          210,
          215,
          225.8333333333333,
          165,
          205,
          240,
          245,
          230,
          50,
          97.5,
          110,
          230,
          205,
          165,
          185,
          172.5,
          175,
          80,
          77.5,
          65,
          70,
          50,
          100,
          70,
          145,
          70,
          95,
          205,
          95,
          187.5,
          130,
          220,
          142.5,
          107.5,
          80,
          75,
          200,
          85,
          80,
          80,
          130,
          110,
          97.5,
          70,
          160,
          80,
          70,
          85,
          70,
          100,
          55,
          162.5,
          185,
          80,
          185,
          75,
          160,
          102.5,
          90,
          165,
          65,
          77.5,
          135,
          100,
          162.5,
          135,
          180,
          210,
          165,
          75,
          230,
          95,
          53.333333333333336,
          165,
          92.5,
          75,
          120,
          115,
          95,
          190,
          125,
          145,
          125,
          137.5,
          120,
          105,
          205,
          165,
          65,
          152.5,
          155,
          55,
          240,
          170,
          190,
          90,
          100,
          100,
          65,
          75,
          52.5,
          135,
          20,
          165,
          120,
          90,
          90,
          92.5,
          145,
          137.5,
          75,
          102.5,
          92.5,
          85,
          80,
          65,
          175,
          130,
          210,
          140,
          215,
          135,
          150,
          135,
          72.5,
          108.33333333333331,
          67.5,
          77.5,
          90,
          180,
          120,
          157.5,
          75,
          90,
          91.66666666666669,
          145,
          70,
          85,
          97.5,
          97.5,
          80,
          82.5,
          130,
          165,
          125,
          112.5,
          125,
          135,
          130,
          135,
          85,
          75,
          135,
          60,
          152.5,
          130,
          130,
          105,
          150,
          213.75,
          145,
          120,
          157.5,
          94.5,
          165,
          90,
          160,
          100,
          122.5,
          130,
          142.5,
          170,
          157.5,
          205,
          130,
          105,
          72.5,
          77.5,
          105,
          100,
          132.5,
          135,
          100,
          165,
          150,
          165,
          105,
          100,
          85,
          105,
          85,
          70,
          140,
          200,
          100,
          190,
          152.5,
          55,
          180,
          155,
          152.5,
          167.5,
          180,
          65,
          70,
          180,
          120,
          125,
          121.66666666666669,
          130,
          175,
          55,
          115,
          48.333333333333336,
          40,
          220,
          200,
          87.5,
          72.5,
          115,
          130,
          120,
          85,
          235,
          90,
          52.5,
          123.75,
          60,
          100,
          105,
          90,
          125,
          115,
          195,
          120,
          100,
          205,
          75,
          96.66666666666669,
          102.5,
          105,
          110,
          150,
          130,
          125,
          175,
          95,
          85,
          112.5,
          105,
          160,
          95,
          140,
          107.5,
          167.5,
          217.5,
          185,
          175,
          195,
          100,
          105,
          96.25,
          92.5,
          90,
          165,
          158,
          155,
          80,
          110,
          125,
          105,
          130,
          125,
          95,
          95,
          107.5,
          125,
          55,
          75,
          75,
          50,
          140,
          160,
          85,
          185,
          160,
          162.5,
          145,
          210,
          95,
          70,
          65,
          200,
          65,
          75,
          105,
          137.5,
          85,
          175,
          177.5,
          155,
          175,
          97.5,
          120,
          140,
          130,
          115,
          175,
          85,
          137.5,
          180,
          165,
          65,
          112.5,
          105,
          165,
          188.75,
          47.5,
          157.5,
          155,
          65,
          105,
          60,
          105,
          65,
          127.5,
          115,
          120,
          80,
          130,
          55,
          90,
          65,
          150,
          160,
          70,
          185,
          95,
          152.5,
          90,
          70,
          140,
          120,
          67.5,
          140,
          110,
          135,
          70,
          80,
          75,
          65,
          102.5,
          125,
          60,
          145,
          95,
          110,
          130,
          145,
          75,
          115,
          170,
          135,
          185,
          165,
          75,
          132.5,
          90,
          60,
          97.5,
          60,
          55,
          100,
          75,
          65,
          50,
          92.5,
          105,
          85,
          65,
          67.5,
          160,
          45,
          97.5,
          60,
          90,
          105,
          77.5,
          105,
          65,
          80,
          45,
          140,
          90,
          70,
          50,
          65,
          80,
          86.66666666666667,
          120,
          85,
          95,
          60,
          100,
          125,
          80,
          235,
          75,
          135,
          87.5,
          70,
          160,
          90,
          110,
          100,
          105,
          80,
          135,
          97.5,
          125,
          75,
          135,
          137.5,
          100,
          55,
          70,
          200,
          30,
          65,
          245,
          157.5,
          170,
          122.5,
          117.5,
          62.5,
          77.5,
          175,
          135,
          140,
          70,
          55,
          75,
          50,
          127.5,
          155,
          65,
          123.33333333333331,
          140,
          57.5,
          97.5,
          105,
          105,
          115,
          168.33333333333334,
          30,
          195,
          72.5,
          222.5,
          120,
          120,
          167.5,
          107.5,
          152.5,
          105,
          135,
          147.5,
          120,
          120,
          165,
          120,
          107.5,
          155,
          147.5,
          127.5,
          110,
          137.5,
          115,
          160,
          62.5,
          185,
          55,
          140,
          132.5,
          50,
          75,
          195,
          155,
          153.33333333333334,
          147.5,
          143.75,
          145,
          60,
          70,
          120,
          107.5,
          102.5,
          135,
          105,
          105,
          167.5,
          80,
          120,
          182.5,
          152.5,
          130,
          76.66666666666667,
          55,
          110,
          75,
          190,
          170,
          135,
          225,
          95,
          160,
          147.5,
          245,
          215,
          110,
          95,
          145,
          125,
          71.66666666666667,
          100,
          85,
          75,
          80,
          185,
          110,
          107.5,
          110,
          127.5,
          112.5,
          102.5,
          105,
          107.5,
          120,
          112.5,
          147.5,
          145,
          155,
          130,
          117.5,
          130,
          77.5,
          147.5,
          200,
          207.5,
          190,
          195,
          130,
          120,
          115,
          140,
          135,
          107.5,
          80,
          115,
          85,
          82.5,
          95,
          115,
          185,
          145,
          70,
          100,
          97.5,
          105,
          190,
          117.5,
          115,
          170,
          155,
          151.25,
          185,
          155,
          165,
          165,
          160,
          145,
          80,
          190,
          60,
          92.5,
          250,
          80,
          75,
          80,
          185,
          140,
          135,
          205,
          202.5,
          225,
          167.5,
          175,
          127.5,
          125,
          162.5,
          75,
          160,
          185,
          72.5,
          140,
          115,
          80,
          75,
          85,
          85,
          147.5,
          175,
          75,
          177.5,
          167.5,
          77.5,
          61.25,
          70,
          162.5,
          87.5,
          97.5,
          167.5,
          125,
          115,
          100,
          115,
          116.66666666666669,
          172.5,
          150,
          62.5,
          155,
          125,
          130,
          135,
          170,
          170,
          170,
          135,
          145,
          145,
          137.5,
          185,
          195,
          167.5,
          200,
          70,
          80,
          125,
          87.5,
          120,
          95,
          120,
          95,
          82.5,
          105,
          140,
          65,
          107.5,
          90,
          210,
          195,
          197.5,
          142.5,
          180,
          160,
          170,
          130,
          180,
          135,
          115,
          67.5,
          77.5,
          55,
          65,
          50,
          77.5,
          110,
          120,
          50,
          145,
          117.5,
          147.5,
          90,
          90,
          95,
          117.5,
          185,
          116.25,
          70,
          130,
          127.5,
          110,
          90,
          165,
          57.5,
          117.5,
          85,
          137.5,
          65,
          55,
          120,
          77.5,
          92.5,
          60,
          175,
          75,
          80,
          105,
          125,
          145,
          96.66666666666669,
          120,
          72.5,
          190,
          177.5,
          80,
          182.5,
          170,
          92.5,
          82.5,
          90,
          145,
          175,
          175,
          125,
          82.5,
          80,
          85,
          72.5,
          125,
          85,
          85,
          87.5,
          135,
          90,
          75,
          116.66666666666669,
          250,
          115,
          72.5,
          56.25,
          150,
          55,
          125,
          60,
          117.5,
          150,
          160,
          160,
          125,
          85,
          75,
          132.5,
          146.25,
          95,
          80,
          115,
          100,
          90,
          75,
          117.5,
          95,
          160,
          105,
          60,
          127.5,
          80,
          190,
          100,
          95,
          92.5,
          65,
          200,
          147.5,
          80,
          105,
          90,
          135,
          185,
          158.75,
          125,
          105,
          75,
          172.5,
          141.66666666666666,
          145,
          180,
          165,
          39,
          175,
          132.5,
          50,
          127.5,
          172.5,
          90,
          182.5,
          102.5,
          72.5,
          92.5,
          115,
          95,
          135,
          70,
          92.5,
          157.5,
          175,
          155,
          105,
          135,
          145,
          185,
          85,
          130,
          202.5,
          80,
          175,
          120,
          200,
          185,
          165,
          155,
          135,
          122.5,
          195,
          200,
          200,
          220,
          120,
          110,
          50,
          95,
          120,
          102.5,
          135,
          150,
          130,
          77.5,
          152.5,
          110,
          202.5,
          65,
          170,
          130,
          145,
          140,
          140,
          120,
          155,
          100,
          147.5,
          125,
          115,
          132.5,
          155,
          130,
          190,
          180,
          165,
          142.5,
          115,
          185,
          117.5,
          130,
          120,
          130,
          155,
          122.5,
          135,
          135,
          132.5,
          145,
          150,
          95,
          107.5,
          50,
          135,
          113.75,
          112.5,
          152.5,
          118.33333333333331,
          100,
          160,
          160,
          67.5,
          180,
          155,
          150,
          170,
          235,
          105,
          127.5,
          125,
          77.5,
          150,
          125,
          90,
          195,
          170,
          115,
          100,
          60,
          162.5,
          87.5,
          90,
          162.5,
          107.5,
          157.5,
          147.5,
          130,
          122.5,
          120,
          85,
          102.5,
          102.5,
          105,
          110,
          60,
          175,
          35,
          170,
          50,
          85,
          107.5,
          150,
          45,
          52.5,
          165,
          85,
          115,
          135,
          115,
          72.5,
          155,
          107.5,
          162.5,
          102.5,
          97.5,
          120,
          100,
          90,
          75,
          130,
          105,
          145,
          60,
          85,
          205,
          140,
          141.25,
          130,
          205,
          167.5,
          127.5,
          105,
          95,
          65,
          60,
          165,
          160,
          112.5,
          117.5,
          80,
          110,
          110,
          108.33333333333331,
          165,
          75,
          90,
          140,
          135,
          190,
          165,
          145,
          65,
          75,
          95,
          100,
          105,
          75,
          200,
          125,
          142.5,
          85,
          105,
          122.5,
          80,
          95,
          95,
          147.5,
          45,
          142.5,
          110,
          190,
          62.5,
          85,
          100,
          75,
          220,
          81.66666666666667,
          115,
          110,
          142.5,
          62.5,
          95,
          160,
          125,
          155,
          125,
          107.5,
          115,
          125,
          107.5,
          95,
          50,
          10,
          130,
          150,
          190,
          184.5,
          127.5,
          127.5,
          125,
          80,
          150,
          90,
          57.5,
          140,
          140,
          57.5,
          50,
          170,
          155,
          95,
          105,
          110,
          80,
          67.5,
          120,
          56.66666666666666,
          125,
          237.5,
          137.5,
          220,
          125,
          115,
          187.5,
          105,
          77.5,
          130,
          115,
          95,
          155,
          70,
          50,
          90,
          105,
          105,
          70,
          72.5,
          75,
          135,
          120,
          55,
          145,
          55,
          160,
          150,
          127.5,
          45
         ]
        },
        {
         "name": "Train Time",
         "type": "box",
         "y": [
          725,
          1837,
          1837,
          767,
          459,
          2062,
          1376,
          1376,
          1376,
          2174,
          1678,
          2194,
          588.5333333333333,
          332,
          796,
          1966,
          1554,
          1554,
          1554,
          1554,
          181,
          946,
          1265,
          915,
          881.65,
          951.65,
          318,
          1597,
          148,
          642,
          2515,
          1091,
          1648,
          1156,
          3077,
          739,
          1952,
          408,
          546,
          2948.3333333333335,
          447,
          207,
          511,
          1290,
          1240.5,
          501,
          329,
          1912,
          313,
          236,
          236,
          236,
          453,
          432,
          3010,
          2151,
          699,
          2626,
          440,
          1502,
          558,
          1403,
          1661,
          186,
          964,
          1169,
          1383,
          3386,
          2896,
          3418,
          2940,
          497.3833333333333,
          3219,
          1379,
          323,
          3242,
          373,
          380,
          627,
          627,
          767,
          1864,
          645,
          645,
          645,
          645,
          1318,
          677,
          2812,
          2037,
          465,
          1630,
          1533,
          204.61666666666667,
          2207,
          3145,
          680,
          1289,
          1280,
          753.7,
          753.7,
          462,
          1569.7,
          80,
          1738,
          1201,
          653,
          1113,
          662,
          2233.5,
          1739,
          280,
          548.2333333333333,
          1434.7,
          969.7,
          969.7,
          744.7,
          1639,
          730,
          2230.116666666667,
          2191,
          2438,
          1129,
          1493,
          716,
          507,
          723,
          340,
          1490,
          872,
          2060,
          1825.1166666666666,
          1681,
          389,
          481,
          1172,
          1406,
          249,
          444,
          504,
          526.05,
          484,
          435,
          1465,
          1681,
          915,
          579,
          2178,
          1176,
          567,
          567,
          407,
          260,
          1194.0333333333333,
          362,
          1631,
          2116.483333333333,
          1087.15,
          1018.35,
          1362,
          2127,
          1779,
          2533,
          1476,
          793,
          1532,
          766,
          1563,
          1240,
          1189,
          1739.55,
          2855,
          1443,
          1443,
          1920,
          1419.1666666666667,
          827,
          403,
          602,
          544,
          642,
          2521,
          1438,
          509.95,
          833,
          833,
          1351,
          409,
          409,
          276,
          511,
          150,
          91,
          1198,
          2512,
          366,
          1741,
          1307,
          573,
          2745,
          1906,
          2490,
          2490,
          1650,
          265,
          265,
          2799.8166666666666,
          858,
          1819,
          1736,
          1577,
          2066,
          573,
          627,
          287,
          188,
          2049,
          2054,
          634,
          320,
          1263,
          1335,
          1224,
          563,
          2223,
          570,
          230,
          1281,
          280,
          1088,
          868,
          1670,
          1281,
          1281,
          1819,
          1433,
          679,
          2754,
          494,
          813,
          1154,
          875,
          1568.1166666666666,
          2022.1166666666666,
          1291,
          1291,
          1794,
          745,
          745,
          1099.8666666666666,
          699.8666666666667,
          1840.5,
          653.8666666666667,
          1556.5,
          1166.8666666666666,
          1313,
          1358,
          2110,
          2110,
          2110,
          1021,
          700,
          244,
          244,
          244,
          1901,
          1901,
          1901,
          781,
          1278,
          1667,
          743,
          1445,
          826,
          659.5,
          658,
          1030.8166666666666,
          1204,
          211,
          301,
          563,
          63,
          1815,
          2248.4333333333334,
          339,
          2328,
          1451,
          1920.4833333333333,
          2131.65,
          2814.85,
          465,
          351,
          294,
          1865,
          304,
          390,
          531,
          813,
          356,
          1458,
          1588,
          1433,
          707,
          823,
          1889,
          1174,
          867,
          2266,
          520,
          1289,
          1661,
          1585,
          838.3333333333334,
          519,
          325,
          1602,
          2702.766666666667,
          231,
          2080,
          1080,
          230,
          1685,
          123,
          867,
          873,
          768,
          768,
          761,
          573.0833333333334,
          937,
          87,
          624,
          313,
          1418,
          1418,
          190,
          2458,
          665,
          1895,
          533,
          554,
          2276,
          2276,
          652.3333333333334,
          1381,
          1066,
          1460,
          356.26666666666665,
          1191.65,
          266.6166666666667,
          339,
          685,
          1917,
          188,
          1374,
          450,
          664,
          1339,
          1815,
          442,
          1408,
          3257,
          1470,
          1626,
          1421,
          243,
          1072,
          540,
          277,
          542,
          188,
          132,
          609,
          249,
          261,
          67,
          586,
          862,
          521,
          358,
          261.8,
          1828,
          130,
          727,
          186,
          381,
          381,
          471,
          558,
          192,
          523,
          123,
          1427,
          459,
          431,
          93,
          305,
          577.05,
          378,
          610,
          498,
          1011,
          251,
          1081,
          657,
          302,
          2688,
          677,
          1361,
          390,
          235,
          1482,
          715,
          538,
          553,
          571,
          324,
          1385,
          449,
          1203,
          409,
          2033,
          2466.483333333333,
          582,
          179,
          300,
          1826.8,
          212.8,
          682,
          3207,
          2460,
          2294,
          1114,
          1681,
          340,
          513,
          1667,
          1736.2,
          2559.75,
          529.75,
          622.2333333333333,
          797.2333333333333,
          458.8333333333333,
          889,
          1245,
          324,
          724,
          901,
          251,
          550,
          657,
          1642,
          1193,
          1193,
          2131.1,
          2211.133333333333,
          633.1333333333333,
          2070,
          945,
          1437,
          1646,
          1240,
          1616,
          1107,
          1483,
          2559,
          1288,
          1338,
          1829,
          821,
          1340,
          1487,
          1487,
          1370,
          1394,
          1665,
          1296,
          1661,
          337,
          1922,
          132,
          1128,
          1128,
          683,
          509,
          2009,
          2015,
          1756.4,
          1434,
          1210,
          1913,
          265,
          485.68333333333334,
          1264,
          826,
          826,
          1040,
          739,
          739,
          1650,
          428,
          608,
          1821,
          1690,
          1228,
          250,
          584,
          1574,
          400,
          1573.4,
          1601,
          630,
          1997,
          435,
          1313,
          1313,
          881,
          881,
          1181,
          1181,
          122,
          643,
          343,
          343,
          343,
          1791,
          391,
          391,
          391,
          1216,
          1216,
          407,
          407,
          407,
          718,
          340,
          1306,
          1306,
          1306,
          810,
          810,
          553,
          203,
          1541,
          2421,
          2421,
          2421,
          2421,
          762,
          762,
          518,
          819,
          819,
          464,
          346,
          754,
          645,
          1080,
          508,
          718.0833333333334,
          2560,
          1645,
          412,
          643.4833333333333,
          520.2333333333333,
          825,
          2047,
          1416,
          1856,
          1930,
          1767,
          1767,
          2264,
          1913,
          1993,
          1993,
          2056,
          1745,
          626,
          2188,
          185,
          745,
          3142,
          933,
          852.3333333333334,
          852.3333333333334,
          2003,
          1280.5,
          1280.5,
          2616.5,
          2559.483333333333,
          3173.85,
          1865.7166666666667,
          1865.7166666666667,
          1124,
          1124,
          1655,
          629,
          1655,
          1433,
          116,
          682,
          519,
          540,
          199,
          165,
          563,
          832,
          1742.1,
          503,
          1676,
          1622,
          400,
          728.3333333333334,
          728.3333333333334,
          1327,
          362,
          400,
          1395,
          580,
          1105,
          485,
          544,
          534,
          2548,
          1638,
          154,
          1560,
          645,
          1181,
          1229,
          1630,
          1617,
          1662,
          787,
          1319,
          1343,
          1379,
          2647,
          2647,
          2647,
          2647,
          267,
          267,
          532,
          308,
          743,
          748,
          1352.6333333333334,
          240.63333333333333,
          240.63333333333333,
          365.6333333333333,
          1668,
          116.63333333333334,
          513,
          465.6333333333333,
          2064,
          1666,
          1666,
          1666,
          1968,
          3252,
          951,
          1586,
          1328,
          740,
          405,
          447,
          294,
          364,
          358,
          377,
          640,
          1625.4833333333333,
          119,
          1547,
          851,
          2576,
          1135,
          573,
          573,
          896.1166666666667,
          2645,
          826,
          490,
          2373.483333333333,
          1394,
          607.5833333333334,
          680,
          1952.7166666666667,
          337,
          1797.4833333333333,
          303.48333333333335,
          1358.4833333333333,
          474.8833333333333,
          77.48333333333333,
          1230.4833333333333,
          270.48333333333335,
          326.48333333333335,
          561.8166666666667,
          1485.4833333333333,
          436.48333333333335,
          321.48333333333335,
          786.4833333333333,
          2029.4833333333333,
          1681,
          346,
          1263,
          587,
          1724,
          1896,
          318,
          1670,
          3014.6666666666665,
          407,
          384,
          431.46666666666664,
          2579.6666666666665,
          2700,
          2205,
          2379.7166666666667,
          1129,
          468,
          294.8,
          166,
          603,
          209,
          494,
          345,
          1538,
          290,
          294,
          685,
          1436,
          321,
          423,
          1579,
          211,
          2473,
          487,
          1884.85,
          1546,
          1965,
          2347,
          1700,
          425,
          238,
          1541,
          1515,
          970,
          1113,
          2067,
          1170.3333333333333,
          770.3333333333334,
          612.3333333333334,
          1488.3333333333333,
          857.3333333333334,
          2728,
          1241.3333333333333,
          552.7,
          1450.3333333333333,
          896.3333333333334,
          1978,
          1318.3833333333334,
          1212.3333333333333,
          1237.3333333333333,
          210,
          2147,
          1323,
          1208,
          758,
          875,
          2462,
          1940,
          2428.9666666666667,
          2027.9666666666667,
          1299,
          293,
          1890,
          1576,
          1774.3833333333334,
          3179.383333333333,
          1999.3833333333334,
          446.3833333333333,
          3075.383333333333,
          2204.5333333333333,
          606,
          1667.9666666666667,
          1598,
          584,
          1732,
          1107,
          202,
          371,
          3018,
          461,
          2716.6666666666665,
          495.01666666666665,
          1270.0166666666667,
          2058.016666666667,
          2449.016666666667,
          2216.016666666667,
          2155.016666666667,
          1735.4833333333333,
          1795.0166666666667,
          2789.016666666667,
          1977.0166666666667,
          2195.016666666667,
          624,
          3271,
          1951,
          2232,
          2535,
          1894,
          1901,
          1745,
          2204,
          2087,
          2087,
          2087,
          3465,
          2119,
          1945,
          522.0833333333334,
          1582,
          746,
          376,
          960.0833333333334,
          1303,
          1125,
          296,
          1318,
          495,
          1846.5166666666667,
          267,
          1722.4666666666667,
          818,
          1254,
          1231,
          1237,
          406.1666666666667,
          1408.3666666666666,
          517,
          2054,
          879,
          893,
          1326,
          1918.9666666666667,
          1504,
          3373.6666666666665,
          2012,
          1490,
          1433.8166666666666,
          872.4166666666666,
          2650.65,
          679.05,
          1234,
          1198,
          1615,
          1408,
          1193,
          1096,
          1433,
          1226,
          1503,
          2280.483333333333,
          1785,
          2041.5,
          444,
          1003,
          881,
          881,
          2854,
          1931,
          334,
          1797,
          1969,
          157,
          1723,
          1761,
          1812,
          1582,
          2551,
          605,
          1358,
          852,
          491,
          2485,
          707,
          1484,
          2979.8333333333335,
          2832.8333333333335,
          1353.8333333333333,
          1217.8333333333333,
          842.8333333333334,
          2445.8333333333335,
          1137.8333333333333,
          1137.8333333333333,
          2397.8333333333335,
          1426.8333333333333,
          2204.8333333333335,
          2083.8333333333335,
          2244.8333333333335,
          1376.8333333333333,
          1815.8333333333333,
          1340.8333333333333,
          1333.8333333333333,
          1426.8333333333333,
          1317.8333333333333,
          1300.8333333333333,
          1120.8666666666666,
          3347.35,
          162.35,
          2726.8166666666666,
          129,
          431,
          665,
          2275,
          289,
          487.35,
          1790.1666666666667,
          1166.1666666666667,
          917.2833333333333,
          1726.1666666666667,
          882.1666666666666,
          524.1666666666666,
          2267.1666666666665,
          646.75,
          2050.1666666666665,
          865,
          1234,
          1690,
          1504,
          1157.65,
          453,
          1874,
          1435.7833333333333,
          1647.7833333333333,
          605.7833333333333,
          313,
          3011,
          1782,
          1782,
          1782,
          2701,
          2037,
          1204,
          949,
          949,
          422,
          240,
          2780.133333333333,
          2937.8166666666666,
          1027,
          1642,
          446,
          767,
          767,
          855.1166666666667,
          1721,
          233,
          654,
          1390,
          1390,
          3072,
          1852,
          1531,
          437,
          314.3666666666667,
          865,
          569.5833333333334,
          480,
          262,
          1815,
          2743,
          1557,
          633,
          614,
          608,
          823,
          643,
          571,
          2523,
          280,
          817,
          599,
          1730,
          246,
          679,
          1265,
          407,
          3285.85,
          465,
          1131,
          1190,
          828,
          123,
          616,
          2052,
          1548,
          2624,
          2310,
          2310,
          749,
          1445.5,
          942,
          595.5833333333334,
          244.51666666666668,
          75.06666666666666,
          759,
          2476,
          1661,
          1661,
          1262,
          1276,
          1276,
          705,
          1260,
          1379,
          222.5,
          1392,
          1257,
          132,
          189,
          1437,
          1437,
          1098,
          552,
          1641,
          562,
          595,
          1141,
          256,
          1139,
          2085,
          1310,
          1852,
          1440,
          1085,
          1704,
          441,
          250,
          1354,
          1329,
          1036,
          1593,
          616,
          450,
          1168,
          654,
          713,
          337,
          379,
          244,
          859,
          1281,
          163,
          1374,
          211,
          3190,
          1593,
          266
         ]
        }
       ],
       "layout": {
        "template": {
         "data": {
          "bar": [
           {
            "error_x": {
             "color": "#2a3f5f"
            },
            "error_y": {
             "color": "#2a3f5f"
            },
            "marker": {
             "line": {
              "color": "#E5ECF6",
              "width": 0.5
             },
             "pattern": {
              "fillmode": "overlay",
              "size": 10,
              "solidity": 0.2
             }
            },
            "type": "bar"
           }
          ],
          "barpolar": [
           {
            "marker": {
             "line": {
              "color": "#E5ECF6",
              "width": 0.5
             },
             "pattern": {
              "fillmode": "overlay",
              "size": 10,
              "solidity": 0.2
             }
            },
            "type": "barpolar"
           }
          ],
          "carpet": [
           {
            "aaxis": {
             "endlinecolor": "#2a3f5f",
             "gridcolor": "white",
             "linecolor": "white",
             "minorgridcolor": "white",
             "startlinecolor": "#2a3f5f"
            },
            "baxis": {
             "endlinecolor": "#2a3f5f",
             "gridcolor": "white",
             "linecolor": "white",
             "minorgridcolor": "white",
             "startlinecolor": "#2a3f5f"
            },
            "type": "carpet"
           }
          ],
          "choropleth": [
           {
            "colorbar": {
             "outlinewidth": 0,
             "ticks": ""
            },
            "type": "choropleth"
           }
          ],
          "contour": [
           {
            "colorbar": {
             "outlinewidth": 0,
             "ticks": ""
            },
            "colorscale": [
             [
              0,
              "#0d0887"
             ],
             [
              0.1111111111111111,
              "#46039f"
             ],
             [
              0.2222222222222222,
              "#7201a8"
             ],
             [
              0.3333333333333333,
              "#9c179e"
             ],
             [
              0.4444444444444444,
              "#bd3786"
             ],
             [
              0.5555555555555556,
              "#d8576b"
             ],
             [
              0.6666666666666666,
              "#ed7953"
             ],
             [
              0.7777777777777778,
              "#fb9f3a"
             ],
             [
              0.8888888888888888,
              "#fdca26"
             ],
             [
              1,
              "#f0f921"
             ]
            ],
            "type": "contour"
           }
          ],
          "contourcarpet": [
           {
            "colorbar": {
             "outlinewidth": 0,
             "ticks": ""
            },
            "type": "contourcarpet"
           }
          ],
          "heatmap": [
           {
            "colorbar": {
             "outlinewidth": 0,
             "ticks": ""
            },
            "colorscale": [
             [
              0,
              "#0d0887"
             ],
             [
              0.1111111111111111,
              "#46039f"
             ],
             [
              0.2222222222222222,
              "#7201a8"
             ],
             [
              0.3333333333333333,
              "#9c179e"
             ],
             [
              0.4444444444444444,
              "#bd3786"
             ],
             [
              0.5555555555555556,
              "#d8576b"
             ],
             [
              0.6666666666666666,
              "#ed7953"
             ],
             [
              0.7777777777777778,
              "#fb9f3a"
             ],
             [
              0.8888888888888888,
              "#fdca26"
             ],
             [
              1,
              "#f0f921"
             ]
            ],
            "type": "heatmap"
           }
          ],
          "heatmapgl": [
           {
            "colorbar": {
             "outlinewidth": 0,
             "ticks": ""
            },
            "colorscale": [
             [
              0,
              "#0d0887"
             ],
             [
              0.1111111111111111,
              "#46039f"
             ],
             [
              0.2222222222222222,
              "#7201a8"
             ],
             [
              0.3333333333333333,
              "#9c179e"
             ],
             [
              0.4444444444444444,
              "#bd3786"
             ],
             [
              0.5555555555555556,
              "#d8576b"
             ],
             [
              0.6666666666666666,
              "#ed7953"
             ],
             [
              0.7777777777777778,
              "#fb9f3a"
             ],
             [
              0.8888888888888888,
              "#fdca26"
             ],
             [
              1,
              "#f0f921"
             ]
            ],
            "type": "heatmapgl"
           }
          ],
          "histogram": [
           {
            "marker": {
             "pattern": {
              "fillmode": "overlay",
              "size": 10,
              "solidity": 0.2
             }
            },
            "type": "histogram"
           }
          ],
          "histogram2d": [
           {
            "colorbar": {
             "outlinewidth": 0,
             "ticks": ""
            },
            "colorscale": [
             [
              0,
              "#0d0887"
             ],
             [
              0.1111111111111111,
              "#46039f"
             ],
             [
              0.2222222222222222,
              "#7201a8"
             ],
             [
              0.3333333333333333,
              "#9c179e"
             ],
             [
              0.4444444444444444,
              "#bd3786"
             ],
             [
              0.5555555555555556,
              "#d8576b"
             ],
             [
              0.6666666666666666,
              "#ed7953"
             ],
             [
              0.7777777777777778,
              "#fb9f3a"
             ],
             [
              0.8888888888888888,
              "#fdca26"
             ],
             [
              1,
              "#f0f921"
             ]
            ],
            "type": "histogram2d"
           }
          ],
          "histogram2dcontour": [
           {
            "colorbar": {
             "outlinewidth": 0,
             "ticks": ""
            },
            "colorscale": [
             [
              0,
              "#0d0887"
             ],
             [
              0.1111111111111111,
              "#46039f"
             ],
             [
              0.2222222222222222,
              "#7201a8"
             ],
             [
              0.3333333333333333,
              "#9c179e"
             ],
             [
              0.4444444444444444,
              "#bd3786"
             ],
             [
              0.5555555555555556,
              "#d8576b"
             ],
             [
              0.6666666666666666,
              "#ed7953"
             ],
             [
              0.7777777777777778,
              "#fb9f3a"
             ],
             [
              0.8888888888888888,
              "#fdca26"
             ],
             [
              1,
              "#f0f921"
             ]
            ],
            "type": "histogram2dcontour"
           }
          ],
          "mesh3d": [
           {
            "colorbar": {
             "outlinewidth": 0,
             "ticks": ""
            },
            "type": "mesh3d"
           }
          ],
          "parcoords": [
           {
            "line": {
             "colorbar": {
              "outlinewidth": 0,
              "ticks": ""
             }
            },
            "type": "parcoords"
           }
          ],
          "pie": [
           {
            "automargin": true,
            "type": "pie"
           }
          ],
          "scatter": [
           {
            "fillpattern": {
             "fillmode": "overlay",
             "size": 10,
             "solidity": 0.2
            },
            "type": "scatter"
           }
          ],
          "scatter3d": [
           {
            "line": {
             "colorbar": {
              "outlinewidth": 0,
              "ticks": ""
             }
            },
            "marker": {
             "colorbar": {
              "outlinewidth": 0,
              "ticks": ""
             }
            },
            "type": "scatter3d"
           }
          ],
          "scattercarpet": [
           {
            "marker": {
             "colorbar": {
              "outlinewidth": 0,
              "ticks": ""
             }
            },
            "type": "scattercarpet"
           }
          ],
          "scattergeo": [
           {
            "marker": {
             "colorbar": {
              "outlinewidth": 0,
              "ticks": ""
             }
            },
            "type": "scattergeo"
           }
          ],
          "scattergl": [
           {
            "marker": {
             "colorbar": {
              "outlinewidth": 0,
              "ticks": ""
             }
            },
            "type": "scattergl"
           }
          ],
          "scattermapbox": [
           {
            "marker": {
             "colorbar": {
              "outlinewidth": 0,
              "ticks": ""
             }
            },
            "type": "scattermapbox"
           }
          ],
          "scatterpolar": [
           {
            "marker": {
             "colorbar": {
              "outlinewidth": 0,
              "ticks": ""
             }
            },
            "type": "scatterpolar"
           }
          ],
          "scatterpolargl": [
           {
            "marker": {
             "colorbar": {
              "outlinewidth": 0,
              "ticks": ""
             }
            },
            "type": "scatterpolargl"
           }
          ],
          "scatterternary": [
           {
            "marker": {
             "colorbar": {
              "outlinewidth": 0,
              "ticks": ""
             }
            },
            "type": "scatterternary"
           }
          ],
          "surface": [
           {
            "colorbar": {
             "outlinewidth": 0,
             "ticks": ""
            },
            "colorscale": [
             [
              0,
              "#0d0887"
             ],
             [
              0.1111111111111111,
              "#46039f"
             ],
             [
              0.2222222222222222,
              "#7201a8"
             ],
             [
              0.3333333333333333,
              "#9c179e"
             ],
             [
              0.4444444444444444,
              "#bd3786"
             ],
             [
              0.5555555555555556,
              "#d8576b"
             ],
             [
              0.6666666666666666,
              "#ed7953"
             ],
             [
              0.7777777777777778,
              "#fb9f3a"
             ],
             [
              0.8888888888888888,
              "#fdca26"
             ],
             [
              1,
              "#f0f921"
             ]
            ],
            "type": "surface"
           }
          ],
          "table": [
           {
            "cells": {
             "fill": {
              "color": "#EBF0F8"
             },
             "line": {
              "color": "white"
             }
            },
            "header": {
             "fill": {
              "color": "#C8D4E3"
             },
             "line": {
              "color": "white"
             }
            },
            "type": "table"
           }
          ]
         },
         "layout": {
          "annotationdefaults": {
           "arrowcolor": "#2a3f5f",
           "arrowhead": 0,
           "arrowwidth": 1
          },
          "autotypenumbers": "strict",
          "coloraxis": {
           "colorbar": {
            "outlinewidth": 0,
            "ticks": ""
           }
          },
          "colorscale": {
           "diverging": [
            [
             0,
             "#8e0152"
            ],
            [
             0.1,
             "#c51b7d"
            ],
            [
             0.2,
             "#de77ae"
            ],
            [
             0.3,
             "#f1b6da"
            ],
            [
             0.4,
             "#fde0ef"
            ],
            [
             0.5,
             "#f7f7f7"
            ],
            [
             0.6,
             "#e6f5d0"
            ],
            [
             0.7,
             "#b8e186"
            ],
            [
             0.8,
             "#7fbc41"
            ],
            [
             0.9,
             "#4d9221"
            ],
            [
             1,
             "#276419"
            ]
           ],
           "sequential": [
            [
             0,
             "#0d0887"
            ],
            [
             0.1111111111111111,
             "#46039f"
            ],
            [
             0.2222222222222222,
             "#7201a8"
            ],
            [
             0.3333333333333333,
             "#9c179e"
            ],
            [
             0.4444444444444444,
             "#bd3786"
            ],
            [
             0.5555555555555556,
             "#d8576b"
            ],
            [
             0.6666666666666666,
             "#ed7953"
            ],
            [
             0.7777777777777778,
             "#fb9f3a"
            ],
            [
             0.8888888888888888,
             "#fdca26"
            ],
            [
             1,
             "#f0f921"
            ]
           ],
           "sequentialminus": [
            [
             0,
             "#0d0887"
            ],
            [
             0.1111111111111111,
             "#46039f"
            ],
            [
             0.2222222222222222,
             "#7201a8"
            ],
            [
             0.3333333333333333,
             "#9c179e"
            ],
            [
             0.4444444444444444,
             "#bd3786"
            ],
            [
             0.5555555555555556,
             "#d8576b"
            ],
            [
             0.6666666666666666,
             "#ed7953"
            ],
            [
             0.7777777777777778,
             "#fb9f3a"
            ],
            [
             0.8888888888888888,
             "#fdca26"
            ],
            [
             1,
             "#f0f921"
            ]
           ]
          },
          "colorway": [
           "#636efa",
           "#EF553B",
           "#00cc96",
           "#ab63fa",
           "#FFA15A",
           "#19d3f3",
           "#FF6692",
           "#B6E880",
           "#FF97FF",
           "#FECB52"
          ],
          "font": {
           "color": "#2a3f5f"
          },
          "geo": {
           "bgcolor": "white",
           "lakecolor": "white",
           "landcolor": "#E5ECF6",
           "showlakes": true,
           "showland": true,
           "subunitcolor": "white"
          },
          "hoverlabel": {
           "align": "left"
          },
          "hovermode": "closest",
          "mapbox": {
           "style": "light"
          },
          "paper_bgcolor": "white",
          "plot_bgcolor": "#E5ECF6",
          "polar": {
           "angularaxis": {
            "gridcolor": "white",
            "linecolor": "white",
            "ticks": ""
           },
           "bgcolor": "#E5ECF6",
           "radialaxis": {
            "gridcolor": "white",
            "linecolor": "white",
            "ticks": ""
           }
          },
          "scene": {
           "xaxis": {
            "backgroundcolor": "#E5ECF6",
            "gridcolor": "white",
            "gridwidth": 2,
            "linecolor": "white",
            "showbackground": true,
            "ticks": "",
            "zerolinecolor": "white"
           },
           "yaxis": {
            "backgroundcolor": "#E5ECF6",
            "gridcolor": "white",
            "gridwidth": 2,
            "linecolor": "white",
            "showbackground": true,
            "ticks": "",
            "zerolinecolor": "white"
           },
           "zaxis": {
            "backgroundcolor": "#E5ECF6",
            "gridcolor": "white",
            "gridwidth": 2,
            "linecolor": "white",
            "showbackground": true,
            "ticks": "",
            "zerolinecolor": "white"
           }
          },
          "shapedefaults": {
           "line": {
            "color": "#2a3f5f"
           }
          },
          "ternary": {
           "aaxis": {
            "gridcolor": "white",
            "linecolor": "white",
            "ticks": ""
           },
           "baxis": {
            "gridcolor": "white",
            "linecolor": "white",
            "ticks": ""
           },
           "bgcolor": "#E5ECF6",
           "caxis": {
            "gridcolor": "white",
            "linecolor": "white",
            "ticks": ""
           }
          },
          "title": {
           "x": 0.05
          },
          "xaxis": {
           "automargin": true,
           "gridcolor": "white",
           "linecolor": "white",
           "ticks": "",
           "title": {
            "standoff": 15
           },
           "zerolinecolor": "white",
           "zerolinewidth": 2
          },
          "yaxis": {
           "automargin": true,
           "gridcolor": "white",
           "linecolor": "white",
           "ticks": "",
           "title": {
            "standoff": 15
           },
           "zerolinecolor": "white",
           "zerolinewidth": 2
          }
         }
        },
        "title": {
         "text": "Distribution of Travel Times in Minutes (Without Outliers)"
        },
        "yaxis": {
         "title": {
          "text": "Time (minutes)"
         }
        }
       }
      }
     },
     "metadata": {},
     "output_type": "display_data"
    }
   ],
   "source": [
    "def remove_outliers(data):\n",
    "    q1 = data.quantile(0.25)\n",
    "    q3 = data.quantile(0.75)\n",
    "    iqr = q3 - q1\n",
    "    lower_bound = q1 - 1.5 * iqr\n",
    "    upper_bound = q3 + 1.5 * iqr\n",
    "    return data[(data >= lower_bound) & (data <= upper_bound)]\n",
    "\n",
    "# Filter out outliers from flight and train times\n",
    "flight_time_no_outliers = remove_outliers(merged_data['flight_time'])\n",
    "train_time_no_outliers = remove_outliers(merged_data['train_time'])\n",
    "\n",
    "# Create a figure for the box plots\n",
    "box_fig = go.Figure()\n",
    "\n",
    "# Add box plot for filtered flight times\n",
    "box_fig.add_trace(go.Box(y=flight_time_no_outliers, name='Flight Time'))\n",
    "\n",
    "# Add box plot for filtered train times\n",
    "box_fig.add_trace(go.Box(y=train_time_no_outliers, name='Train Time'))\n",
    "\n",
    "# Update layout\n",
    "box_fig.update_layout(\n",
    "    title='Distribution of Travel Times in Minutes (Without Outliers)',\n",
    "    yaxis_title='Time (minutes)'\n",
    ")\n",
    "\n",
    "# Show the figure\n",
    "box_fig.show()"
   ]
  },
  {
   "attachments": {},
   "cell_type": "markdown",
   "metadata": {},
   "source": [
    "## How can estimates of travel time to and from airports be included? \n",
    "Why we added 90 minutes to our flight time:\n",
    "\n",
    "- boarding is closing 30 minutes before flight,\n",
    "- there is need for passport control sometimes,\n",
    "- baggage control always, \n",
    "- "
   ]
  },
  {
   "attachments": {},
   "cell_type": "markdown",
   "metadata": {},
   "source": [
    "+ 90 minutes added to airport times, as there is an anarage of 90 minutes spent extra on airports, before and after flight"
   ]
  },
  {
   "cell_type": "code",
   "execution_count": 171,
   "metadata": {},
   "outputs": [
    {
     "name": "stdout",
     "output_type": "stream",
     "text": [
      "   flight_time  train_time  train_time_hours  flight_time_plus_60  \\\n",
      "0         85.0       725.0         12.083333                175.0   \n",
      "1        170.0      1837.0         30.616667                260.0   \n",
      "2        180.0      1837.0         30.616667                270.0   \n",
      "3         85.0       767.0         12.783333                175.0   \n",
      "4         95.0       459.0          7.650000                185.0   \n",
      "\n",
      "   flight_time_hours_with_extra  \n",
      "0                      2.916667  \n",
      "1                      4.333333  \n",
      "2                      4.500000  \n",
      "3                      2.916667  \n",
      "4                      3.083333  \n"
     ]
    }
   ],
   "source": [
    "merged_data['train_time_hours'] = merged_data['train_time'] / 60\n",
    "\n",
    "# Add 90 minutes to flight time to account for pre-flight and post-flight activities\n",
    "merged_data['flight_time_plus_90'] = merged_data['flight_time'] + 90\n",
    "\n",
    "# Convert flight time (with the added 90 minutes) to hours\n",
    "merged_data['flight_time_hours_with_extra'] = merged_data['flight_time_plus_60'] / 60\n",
    "\n",
    "print(merged_data[['flight_time', 'train_time', 'train_time_hours', 'flight_time_plus_60', 'flight_time_hours_with_extra']].head())"
   ]
  },
  {
   "cell_type": "code",
   "execution_count": 172,
   "metadata": {},
   "outputs": [
    {
     "data": {
      "application/vnd.plotly.v1+json": {
       "config": {
        "plotlyServerURL": "https://plot.ly"
       },
       "data": [
        {
         "customdata": [
          [
           "Amsterdam",
           "Aalborg"
          ],
          [
           "Saint Petersburg",
           "Novorossiysk"
          ],
          [
           "Saint Petersburg",
           "Novorossiysk"
          ],
          [
           "Aberdeen",
           "Amsterdam"
          ],
          [
           "London",
           "Aberdeen"
          ],
          [
           "Cherepovets",
           "Sochi"
          ],
          [
           "Moscow",
           "Sochi"
          ],
          [
           "Moscow",
           "Sochi"
          ],
          [
           "Moscow",
           "Sochi"
          ],
          [
           "Krasnoyarsk",
           "Sochi"
          ],
          [
           "Kazan",
           "Sochi"
          ],
          [
           "Saint Petersburg",
           "Sochi"
          ],
          [
           "Pskov",
           "Sochi"
          ],
          [
           "Alicante",
           "Ålesund"
          ],
          [
           "Bergen",
           "Ålesund"
          ],
          [
           "Málaga",
           "Barcelona"
          ],
          [
           "Málaga",
           "Bordeaux"
          ],
          [
           "Málaga",
           "Gothenburg"
          ],
          [
           "Málaga",
           "Hamburg"
          ],
          [
           "Málaga",
           "London"
          ],
          [
           "Málaga",
           "London"
          ],
          [
           "Málaga",
           "London"
          ],
          [
           "Málaga",
           "London"
          ],
          [
           "Málaga",
           "Madrid"
          ],
          [
           "Monza",
           "Sassari"
          ],
          [
           "Rome",
           "Sassari"
          ],
          [
           "Milan",
           "Sassari"
          ],
          [
           "Nice",
           "Ajaccio"
          ],
          [
           "Paris",
           "Ajaccio"
          ],
          [
           "Barcelona",
           "Alicante"
          ],
          [
           "Alicante",
           "Bristol"
          ],
          [
           "Madrid",
           "Alicante"
          ],
          [
           "Porto",
           "Alicante"
          ],
          [
           "Warsaw",
           "Alicante"
          ],
          [
           "Amsterdam",
           "Aberdeen"
          ],
          [
           "Málaga",
           "Amsterdam"
          ],
          [
           "Stockholm",
           "Amsterdam"
          ],
          [
           "Amsterdam",
           "Athens"
          ],
          [
           "Barcelona",
           "Amsterdam"
          ],
          [
           "Bergen",
           "Amsterdam"
          ],
          [
           "Birmingham",
           "Amsterdam"
          ],
          [
           "Kolding",
           "Amsterdam"
          ],
          [
           "Burgas",
           "Amsterdam"
          ],
          [
           "Bristol",
           "Amsterdam"
          ],
          [
           "Paris",
           "Amsterdam"
          ],
          [
           "Weston-super-Mare",
           "Amsterdam"
          ],
          [
           "Florence",
           "Amsterdam"
          ],
          [
           "Gdańsk",
           "Amsterdam"
          ],
          [
           "Geneva",
           "Amsterdam"
          ],
          [
           "Hamburg",
           "Amsterdam"
          ],
          [
           "Helsinki",
           "Amsterdam"
          ],
          [
           "London",
           "Amsterdam"
          ],
          [
           "Amsterdam",
           "London"
          ],
          [
           "Amsterdam",
           "London"
          ],
          [
           "Amsterdam",
           "London"
          ],
          [
           "Munich",
           "Amsterdam"
          ],
          [
           "Norwich",
           "Amsterdam"
          ],
          [
           "Porto",
           "Amsterdam"
          ],
          [
           "Bucharest",
           "Amsterdam"
          ],
          [
           "Prague",
           "Amsterdam"
          ],
          [
           "Rovaniemi",
           "Amsterdam"
          ],
          [
           "Portsmouth",
           "Amsterdam"
          ],
          [
           "Valencia",
           "Amsterdam"
          ],
          [
           "Zürich",
           "Amsterdam"
          ],
          [
           "Saint Petersburg",
           "Arkhangelsk"
          ],
          [
           "Málaga",
           "Stockholm"
          ],
          [
           "Stockholm",
           "Monza"
          ],
          [
           "Gothenburg",
           "Stockholm"
          ],
          [
           "Stockholm",
           "Helsinki"
          ],
          [
           "Stockholm",
           "Munich"
          ],
          [
           "Poznań",
           "Stockholm"
          ],
          [
           "Moscow",
           "Astrakhan"
          ],
          [
           "Bologna",
           "Athens"
          ],
          [
           "Brussels",
           "Athens"
          ],
          [
           "Paris",
           "Athens"
          ],
          [
           "Geneva",
           "Athens"
          ],
          [
           "Athens",
           "Kavála"
          ],
          [
           "London",
           "Athens"
          ],
          [
           "Bucharest",
           "Athens"
          ],
          [
           "Thessaloníki",
           "Athens"
          ],
          [
           "Zürich",
           "Athens"
          ],
          [
           "Barcelona",
           "Málaga"
          ],
          [
           "Barcelona",
           "Bordeaux"
          ],
          [
           "Barcelona",
           "Brussels"
          ],
          [
           "Barcelona",
           "Brussels"
          ],
          [
           "Barcelona",
           "Genoa"
          ],
          [
           "Barcelona",
           "Gothenburg"
          ],
          [
           "Barcelona",
           "London"
          ],
          [
           "Barcelona",
           "London"
          ],
          [
           "Barcelona",
           "London"
          ],
          [
           "Barcelona",
           "London"
          ],
          [
           "Barcelona",
           "Maastricht"
          ],
          [
           "Barcelona",
           "Porto"
          ],
          [
           "Barcelona",
           "Bucharest"
          ],
          [
           "Barcelona",
           "Belgrade"
          ],
          [
           "Budapest",
           "Belgrade"
          ],
          [
           "Amiens",
           "Belgrade"
          ],
          [
           "Paris",
           "Belgrade"
          ],
          [
           "Niš",
           "Belgrade"
          ],
          [
           "Lisbon",
           "Belgrade"
          ],
          [
           "Oslo",
           "Belgrade"
          ],
          [
           "Moscow",
           "Belgrade"
          ],
          [
           "Vienna",
           "Belgrade"
          ],
          [
           "Warsaw",
           "Belgrade"
          ],
          [
           "Zürich",
           "Belgrade"
          ],
          [
           "Birmingham",
           "Belfast"
          ],
          [
           "Birmingham",
           "Belfast"
          ],
          [
           "Dunfermline",
           "Belfast"
          ],
          [
           "Geneva",
           "Belfast"
          ],
          [
           "Vila Real",
           "Bragança"
          ],
          [
           "Monza",
           "Stockholm"
          ],
          [
           "Monza",
           "Bristol"
          ],
          [
           "Monza",
           "Amiens"
          ],
          [
           "Cagliari",
           "Monza"
          ],
          [
           "Brussels",
           "Monza"
          ],
          [
           "Iaşi",
           "Monza"
          ],
          [
           "Bucharest",
           "Monza"
          ],
          [
           "Monza",
           "Pescara"
          ],
          [
           "Cosenza",
           "Monza"
          ],
          [
           "Amsterdam",
           "Belfast"
          ],
          [
           "London",
           "Belfast"
          ],
          [
           "London",
           "Belfast"
          ],
          [
           "Manchester",
           "Belfast"
          ],
          [
           "Málaga",
           "Birmingham"
          ],
          [
           "Barcelona",
           "Birmingham"
          ],
          [
           "Craiova",
           "Birmingham"
          ],
          [
           "Porto",
           "Birmingham"
          ],
          [
           "Bucharest",
           "Birmingham"
          ],
          [
           "Poznań",
           "Birmingham"
          ],
          [
           "Valencia",
           "Birmingham"
          ],
          [
           "Amsterdam",
           "Bilbao"
          ],
          [
           "Barcelona",
           "Bilbao"
          ],
          [
           "London",
           "Bilbao"
          ],
          [
           "Madrid",
           "Bilbao"
          ],
          [
           "Porto",
           "Bilbao"
          ],
          [
           "Kolding",
           "Gdańsk"
          ],
          [
           "Kolding",
           "Bucharest"
          ],
          [
           "Bologna",
           "Craiova"
          ],
          [
           "Málaga",
           "Southampton"
          ],
          [
           "Munich",
           "Bremen"
          ],
          [
           "Monza",
           "Bari"
          ],
          [
           "Budapest",
           "Bari"
          ],
          [
           "Brussels",
           "Bari"
          ],
          [
           "Rome",
           "Bari"
          ],
          [
           "Milan",
           "Bari"
          ],
          [
           "Novara",
           "Bari"
          ],
          [
           "Turin",
           "Bari"
          ],
          [
           "Venice",
           "Bari"
          ],
          [
           "Verona",
           "Bari"
          ],
          [
           "Warsaw",
           "Bari"
          ],
          [
           "Málaga",
           "Bristol"
          ],
          [
           "Bristol",
           "Monza"
          ],
          [
           "Bristol",
           "Grenoble"
          ],
          [
           "Porto",
           "Bristol"
          ],
          [
           "Poznań",
           "Bristol"
          ],
          [
           "Brussels",
           "Barcelona"
          ],
          [
           "Brussels",
           "Barcelona"
          ],
          [
           "Amsterdam",
           "Freiburg im Breisgau"
          ],
          [
           "Paris",
           "Freiburg im Breisgau"
          ],
          [
           "Catania",
           "Freiburg im Breisgau"
          ],
          [
           "Munich",
           "Freiburg im Breisgau"
          ],
          [
           "Bucharest",
           "Freiburg im Breisgau"
          ],
          [
           "Pristina",
           "Freiburg im Breisgau"
          ],
          [
           "Cosenza",
           "Freiburg im Breisgau"
          ],
          [
           "Kaunas",
           "Bratislava"
          ],
          [
           "London",
           "Bratislava"
          ],
          [
           "Málaga",
           "Budapest"
          ],
          [
           "Stockholm",
           "Budapest"
          ],
          [
           "Athens",
           "Budapest"
          ],
          [
           "Barcelona",
           "Budapest"
          ],
          [
           "Monza",
           "Budapest"
          ],
          [
           "Birmingham",
           "Budapest"
          ],
          [
           "Bologna",
           "Budapest"
          ],
          [
           "Bristol",
           "Budapest"
          ],
          [
           "Rome",
           "Budapest"
          ],
          [
           "Brussels",
           "Budapest"
          ],
          [
           "Catania",
           "Budapest"
          ],
          [
           "Helsinki",
           "Budapest"
          ],
          [
           "London",
           "Budapest"
          ],
          [
           "London",
           "Budapest"
          ],
          [
           "Madrid",
           "Budapest"
          ],
          [
           "Marseille",
           "Budapest"
          ],
          [
           "Novara",
           "Budapest"
          ],
          [
           "Prague",
           "Budapest"
          ],
          [
           "Warsaw",
           "Budapest"
          ],
          [
           "Barcelona",
           "Amiens"
          ],
          [
           "Amiens",
           "Monza"
          ],
          [
           "Porto",
           "Amiens"
          ],
          [
           "London",
           "Bydgoszcz"
          ],
          [
           "Brussels",
           "Sète"
          ],
          [
           "Málaga",
           "Paris"
          ],
          [
           "Málaga",
           "Paris"
          ],
          [
           "Paris",
           "Stockholm"
          ],
          [
           "Barcelona",
           "Paris"
          ],
          [
           "Barcelona",
           "Paris"
          ],
          [
           "Birmingham",
           "Paris"
          ],
          [
           "Bologna",
           "Paris"
          ],
          [
           "Bordeaux",
           "Paris"
          ],
          [
           "Brussels",
           "Paris"
          ],
          [
           "Gothenburg",
           "Paris"
          ],
          [
           "Paris",
           "Helsinki"
          ],
          [
           "Paris",
           "Munich"
          ],
          [
           "Bucharest",
           "Paris"
          ],
          [
           "Mönchengladbach",
           "Castellón de la Plana"
          ],
          [
           "Cherepovets",
           "Saint Petersburg"
          ],
          [
           "Saint Petersburg",
           "Chelyabinsk"
          ],
          [
           "Chelyabinsk",
           "Moscow"
          ],
          [
           "Moscow",
           "Chelyabinsk"
          ],
          [
           "Moscow",
           "Chelyabinsk"
          ],
          [
           "Málaga",
           "Cologne"
          ],
          [
           "Munich",
           "Cologne"
          ],
          [
           "Munich",
           "Cologne"
          ],
          [
           "Cologne",
           "Varna"
          ],
          [
           "Rome",
           "Brussels"
          ],
          [
           "Rome",
           "Bucharest"
          ],
          [
           "Monza",
           "Cluj-Napoca"
          ],
          [
           "Rome",
           "Cluj-Napoca"
          ],
          [
           "Cluj-Napoca",
           "London"
          ],
          [
           "Bucharest",
           "Cluj-Napoca"
          ],
          [
           "Birmingham",
           "Annecy"
          ],
          [
           "Aalborg",
           "Copenhagen"
          ],
          [
           "Aarhus",
           "Copenhagen"
          ],
          [
           "Málaga",
           "Copenhagen"
          ],
          [
           "Alicante",
           "Copenhagen"
          ],
          [
           "Amsterdam",
           "Copenhagen"
          ],
          [
           "Stockholm",
           "Copenhagen"
          ],
          [
           "Budapest",
           "Copenhagen"
          ],
          [
           "Trento",
           "Copenhagen"
          ],
          [
           "Paris",
           "Copenhagen"
          ],
          [
           "Cologne",
           "Copenhagen"
          ],
          [
           "Faro",
           "Copenhagen"
          ],
          [
           "Frankfurt",
           "Copenhagen"
          ],
          [
           "Gothenburg",
           "Copenhagen"
          ],
          [
           "Geneva",
           "Copenhagen"
          ],
          [
           "Hamburg",
           "Copenhagen"
          ],
          [
           "Helsinki",
           "Copenhagen"
          ],
          [
           "Kraków",
           "Copenhagen"
          ],
          [
           "Kaunas",
           "Copenhagen"
          ],
          [
           "London",
           "Copenhagen"
          ],
          [
           "London",
           "Copenhagen"
          ],
          [
           "Madrid",
           "Copenhagen"
          ],
          [
           "Manchester",
           "Copenhagen"
          ],
          [
           "Munich",
           "Copenhagen"
          ],
          [
           "Porto",
           "Copenhagen"
          ],
          [
           "Oslo",
           "Copenhagen"
          ],
          [
           "Salzburg",
           "Copenhagen"
          ],
          [
           "Vienna",
           "Copenhagen"
          ],
          [
           "Zürich",
           "Copenhagen"
          ],
          [
           "Craiova",
           "Bologna"
          ],
          [
           "Craiova",
           "Brussels"
          ],
          [
           "Brussels",
           "Rome"
          ],
          [
           "Brussels",
           "Rome"
          ],
          [
           "Brussels",
           "Bucharest"
          ],
          [
           "Moscow",
           "Cheboksary"
          ],
          [
           "Moscow",
           "Cheboksary"
          ],
          [
           "Monza",
           "Catania"
          ],
          [
           "Bologna",
           "Catania"
          ],
          [
           "Brussels",
           "Catania"
          ],
          [
           "Florence",
           "Catania"
          ],
          [
           "Prague",
           "Catania"
          ],
          [
           "Verona",
           "Catania"
          ],
          [
           "London",
           "Debrecen"
          ],
          [
           "Sochi",
           "Moscow"
          ],
          [
           "Groznyy",
           "Moscow"
          ],
          [
           "Groznyy",
           "Moscow"
          ],
          [
           "Groznyy",
           "Moscow"
          ],
          [
           "Izhevsk",
           "Moscow"
          ],
          [
           "Kazan",
           "Moscow"
          ],
          [
           "Saint Petersburg",
           "Moscow"
          ],
          [
           "Saint Petersburg",
           "Moscow"
          ],
          [
           "Saint Petersburg",
           "Moscow"
          ],
          [
           "Murmansk",
           "Moscow"
          ],
          [
           "Murmansk",
           "Moscow"
          ],
          [
           "Murmansk",
           "Moscow"
          ],
          [
           "Penza",
           "Moscow"
          ],
          [
           "Volgograd",
           "Moscow"
          ],
          [
           "Belgrade",
           "Dortmund"
          ],
          [
           "Budapest",
           "Dortmund"
          ],
          [
           "Cluj-Napoca",
           "Dortmund"
          ],
          [
           "Rome",
           "Dortmund"
          ],
          [
           "Gdańsk",
           "Dortmund"
          ],
          [
           "Katowice",
           "Dortmund"
          ],
          [
           "Szczytno",
           "Dortmund"
          ],
          [
           "Vilnius",
           "Dortmund"
          ],
          [
           "Amsterdam",
           "Cologne"
          ],
          [
           "Paris",
           "Cologne"
          ],
          [
           "Copenhagen",
           "Cologne"
          ],
          [
           "Frankfurt",
           "Cologne"
          ],
          [
           "Helsinki",
           "Cologne"
          ],
          [
           "Chisinau",
           "Cologne"
          ],
          [
           "London",
           "Cologne"
          ],
          [
           "Lisbon",
           "Cologne"
          ],
          [
           "Madrid",
           "Cologne"
          ],
          [
           "Pristina",
           "Cologne"
          ],
          [
           "Tirana",
           "Cologne"
          ],
          [
           "Tromsø",
           "Cologne"
          ],
          [
           "Vienna",
           "Cologne"
          ],
          [
           "Zürich",
           "Cologne"
          ],
          [
           "Madrid",
           "Donostia"
          ],
          [
           "Málaga",
           "Dunfermline"
          ],
          [
           "Birmingham",
           "Dunfermline"
          ],
          [
           "Bristol",
           "Dunfermline"
          ],
          [
           "Brussels",
           "Dunfermline"
          ],
          [
           "Geneva",
           "Dunfermline"
          ],
          [
           "London",
           "Dunfermline"
          ],
          [
           "Madrid",
           "Dunfermline"
          ],
          [
           "Málaga",
           "Eindhoven"
          ],
          [
           "Alicante",
           "Eindhoven"
          ],
          [
           "Athens",
           "Eindhoven"
          ],
          [
           "Monza",
           "Eindhoven"
          ],
          [
           "Budapest",
           "Eindhoven"
          ],
          [
           "Cluj-Napoca",
           "Eindhoven"
          ],
          [
           "Debrecen",
           "Eindhoven"
          ],
          [
           "Kraków",
           "Eindhoven"
          ],
          [
           "Lisbon",
           "Eindhoven"
          ],
          [
           "Salzburg",
           "Eindhoven"
          ],
          [
           "Vilnius",
           "Eindhoven"
          ],
          [
           "Málaga",
           "Nottingham"
          ],
          [
           "Alicante",
           "Nottingham"
          ],
          [
           "Belfast",
           "Nottingham"
          ],
          [
           "Geneva",
           "Nottingham"
          ],
          [
           "Paris",
           "Nottingham"
          ],
          [
           "Rzeszów",
           "Nottingham"
          ],
          [
           "Belfast",
           "Faro"
          ],
          [
           "Lisbon",
           "Faro"
          ],
          [
           "Málaga",
           "Rome"
          ],
          [
           "Amsterdam",
           "Rome"
          ],
          [
           "Ancona",
           "Rome"
          ],
          [
           "Barcelona",
           "Rome"
          ],
          [
           "Bologna",
           "Rome"
          ],
          [
           "Budapest",
           "Rome"
          ],
          [
           "Cagliari",
           "Rome"
          ],
          [
           "Paris",
           "Rome"
          ],
          [
           "Paris",
           "Rome"
          ],
          [
           "Cologne",
           "Rome"
          ],
          [
           "Catania",
           "Rome"
          ],
          [
           "Eindhoven",
           "Rome"
          ],
          [
           "Florence",
           "Rome"
          ],
          [
           "Ulm",
           "Rome"
          ],
          [
           "Genoa",
           "Rome"
          ],
          [
           "London",
           "Rome"
          ],
          [
           "London",
           "Rome"
          ],
          [
           "Milan",
           "Rome"
          ],
          [
           "Lisbon",
           "Rome"
          ],
          [
           "Lyon",
           "Rome"
          ],
          [
           "Madrid",
           "Rome"
          ],
          [
           "Munich",
           "Rome"
          ],
          [
           "Nice",
           "Rome"
          ],
          [
           "Bucharest",
           "Rome"
          ],
          [
           "Bucharest",
           "Rome"
          ],
          [
           "Palermo",
           "Rome"
          ],
          [
           "Poznań",
           "Rome"
          ],
          [
           "Prague",
           "Rome"
          ],
          [
           "Radom",
           "Rome"
          ],
          [
           "Cosenza",
           "Rome"
          ],
          [
           "Tirana",
           "Rome"
          ],
          [
           "Turin",
           "Rome"
          ],
          [
           "Trieste",
           "Rome"
          ],
          [
           "Vienna",
           "Rome"
          ],
          [
           "Valencia",
           "Rome"
          ],
          [
           "Verona",
           "Rome"
          ],
          [
           "Warsaw",
           "Rome"
          ],
          [
           "Zürich",
           "Rome"
          ],
          [
           "Paris",
           "Florence"
          ],
          [
           "London",
           "Florence"
          ],
          [
           "Madrid",
           "Florence"
          ],
          [
           "Munich",
           "Florence"
          ],
          [
           "Cluj-Napoca",
           "Ulm"
          ],
          [
           "Porto",
           "Ulm"
          ],
          [
           "Bucharest",
           "Ulm"
          ],
          [
           "Málaga",
           "Frankfurt"
          ],
          [
           "Alicante",
           "Frankfurt"
          ],
          [
           "Amsterdam",
           "Frankfurt"
          ],
          [
           "Stockholm",
           "Frankfurt"
          ],
          [
           "Bologna",
           "Frankfurt"
          ],
          [
           "Bremen",
           "Frankfurt"
          ],
          [
           "Bristol",
           "Frankfurt"
          ],
          [
           "Brussels",
           "Frankfurt"
          ],
          [
           "Freiburg im Breisgau",
           "Frankfurt"
          ],
          [
           "Budapest",
           "Frankfurt"
          ],
          [
           "Paris",
           "Frankfurt"
          ],
          [
           "Dresden",
           "Frankfurt"
          ],
          [
           "Cologne",
           "Frankfurt"
          ],
          [
           "Florence",
           "Frankfurt"
          ],
          [
           "Gothenburg",
           "Frankfurt"
          ],
          [
           "Graz",
           "Frankfurt"
          ],
          [
           "Geneva",
           "Frankfurt"
          ],
          [
           "Hamburg",
           "Frankfurt"
          ],
          [
           "Helsinki",
           "Frankfurt"
          ],
          [
           "Koblenz",
           "Frankfurt"
          ],
          [
           "Kraków",
           "Frankfurt"
          ],
          [
           "Leipzig",
           "Frankfurt"
          ],
          [
           "London",
           "Frankfurt"
          ],
          [
           "London",
           "Frankfurt"
          ],
          [
           "Milan",
           "Frankfurt"
          ],
          [
           "Manchester",
           "Frankfurt"
          ],
          [
           "Munich",
           "Frankfurt"
          ],
          [
           "Novara",
           "Frankfurt"
          ],
          [
           "Nuremberg",
           "Frankfurt"
          ],
          [
           "Oslo",
           "Frankfurt"
          ],
          [
           "Poznań",
           "Frankfurt"
          ],
          [
           "Prague",
           "Frankfurt"
          ],
          [
           "Stuttgart",
           "Frankfurt"
          ],
          [
           "Salzburg",
           "Frankfurt"
          ],
          [
           "Turin",
           "Frankfurt"
          ],
          [
           "Vienna",
           "Frankfurt"
          ],
          [
           "Warsaw",
           "Frankfurt"
          ],
          [
           "Wrocław",
           "Frankfurt"
          ],
          [
           "Bistrica ob Sotli",
           "Frankfurt"
          ],
          [
           "Zürich",
           "Frankfurt"
          ],
          [
           "Grenoble",
           "Bristol"
          ],
          [
           "Saint Petersburg",
           "Nizhniy Novgorod"
          ],
          [
           "Moscow",
           "Nizhniy Novgorod"
          ],
          [
           "Gothenburg",
           "Málaga"
          ],
          [
           "Gothenburg",
           "Bergen"
          ],
          [
           "Birmingham",
           "Mataró"
          ],
          [
           "Barcelona",
           "Granada"
          ],
          [
           "Madrid",
           "Granada"
          ],
          [
           "Stockholm",
           "Geneva"
          ],
          [
           "Barcelona",
           "Geneva"
          ],
          [
           "Birmingham",
           "Geneva"
          ],
          [
           "Southampton",
           "Geneva"
          ],
          [
           "Bristol",
           "Geneva"
          ],
          [
           "Brussels",
           "Geneva"
          ],
          [
           "Gothenburg",
           "Geneva"
          ],
          [
           "London",
           "Geneva"
          ],
          [
           "Madrid",
           "Geneva"
          ],
          [
           "Munich",
           "Geneva"
          ],
          [
           "Porto",
           "Geneva"
          ],
          [
           "Pristina",
           "Geneva"
          ],
          [
           "Portsmouth",
           "Geneva"
          ],
          [
           "Frankfurt",
           "Hannover"
          ],
          [
           "Munich",
           "Hannover"
          ],
          [
           "Hamburg",
           "Málaga"
          ],
          [
           "Bergen",
           "Haugesund"
          ],
          [
           "Helsinki",
           "Stockholm"
          ],
          [
           "Barcelona",
           "Helsinki"
          ],
          [
           "Brussels",
           "Helsinki"
          ],
          [
           "Helsinki",
           "Paris"
          ],
          [
           "Gothenburg",
           "Helsinki"
          ],
          [
           "Hamburg",
           "Helsinki"
          ],
          [
           "Helsinki",
           "Oulu"
          ],
          [
           "Helsinki",
           "Rovaniemi"
          ],
          [
           "Málaga",
           "Koblenz"
          ],
          [
           "Koblenz",
           "Niš"
          ],
          [
           "Rome",
           "Iaşi"
          ],
          [
           "Bucharest",
           "Iaşi"
          ],
          [
           "Barcelona",
           "Ibiza"
          ],
          [
           "Madrid",
           "Ibiza"
          ],
          [
           "Valencia",
           "Ibiza"
          ],
          [
           "Bristol",
           "Innsbruck"
          ],
          [
           "Dunfermline",
           "Innsbruck"
          ],
          [
           "Frankfurt",
           "Innsbruck"
          ],
          [
           "London",
           "Innsbruck"
          ],
          [
           "Manchester",
           "Innsbruck"
          ],
          [
           "Vienna",
           "Innsbruck"
          ],
          [
           "London",
           "Forres"
          ],
          [
           "Saint Petersburg",
           "Ivanovo"
          ],
          [
           "Saint Petersburg",
           "Kaliningrad"
          ],
          [
           "Kaliningrad",
           "Moscow"
          ],
          [
           "Kaliningrad",
           "Moscow"
          ],
          [
           "Ródos",
           "Bodrum"
          ],
          [
           "Paris",
           "Chisinau"
          ],
          [
           "Lisbon",
           "Chisinau"
          ],
          [
           "Bucharest",
           "Chisinau"
          ],
          [
           "Saint Petersburg",
           "Krasnoyarsk"
          ],
          [
           "Krasnoyarsk",
           "Moscow"
          ],
          [
           "Moscow",
           "Krasnoyarsk"
          ],
          [
           "Moscow",
           "Krasnoyarsk"
          ],
          [
           "Málaga",
           "Kraków"
          ],
          [
           "Amsterdam",
           "Kraków"
          ],
          [
           "Stockholm",
           "Kraków"
          ],
          [
           "Barcelona",
           "Kraków"
          ],
          [
           "Monza",
           "Kraków"
          ],
          [
           "Birmingham",
           "Kraków"
          ],
          [
           "Bologna",
           "Kraków"
          ],
          [
           "Amiens",
           "Kraków"
          ],
          [
           "Cagliari",
           "Kraków"
          ],
          [
           "Rome",
           "Kraków"
          ],
          [
           "Brussels",
           "Kraków"
          ],
          [
           "Dunfermline",
           "Kraków"
          ],
          [
           "Eindhoven",
           "Kraków"
          ],
          [
           "Gothenburg",
           "Kraków"
          ],
          [
           "London",
           "Kraków"
          ],
          [
           "London",
           "Kraków"
          ],
          [
           "Lille",
           "Kraków"
          ],
          [
           "Nyköping",
           "Kraków"
          ],
          [
           "Oslo",
           "Kraków"
          ],
          [
           "Livorno",
           "Kraków"
          ],
          [
           "Toulouse",
           "Kraków"
          ],
          [
           "Vienna",
           "Kraków"
          ],
          [
           "Valencia",
           "Kraków"
          ],
          [
           "Warsaw",
           "Kraków"
          ],
          [
           "Moscow",
           "Krasnodar"
          ],
          [
           "Moscow",
           "Krasnodar"
          ],
          [
           "Bergen",
           "Kristiansand"
          ],
          [
           "Prague",
           "Košice"
          ],
          [
           "Alicante",
           "Katowice"
          ],
          [
           "Athens",
           "Katowice"
          ],
          [
           "Catania",
           "Katowice"
          ],
          [
           "London",
           "Katowice"
          ],
          [
           "Saint Petersburg",
           "Samara"
          ],
          [
           "Monza",
           "Kaunas"
          ],
          [
           "Helsinki",
           "Kuopio"
          ],
          [
           "Kavála",
           "Athens"
          ],
          [
           "Saint Petersburg",
           "Kirov"
          ],
          [
           "Moscow",
           "Kirov"
          ],
          [
           "Moscow",
           "Kirov"
          ],
          [
           "Saint Petersburg",
           "Kazan"
          ],
          [
           "Moscow",
           "Kazan"
          ],
          [
           "Moscow",
           "Kazan"
          ],
          [
           "Alicante",
           "Bradford"
          ],
          [
           "Amsterdam",
           "Bradford"
          ],
          [
           "Annecy",
           "Bradford"
          ],
          [
           "Faro",
           "Bradford"
          ],
          [
           "Kraków",
           "Bradford"
          ],
          [
           "Poznań",
           "Bradford"
          ],
          [
           "Madrid",
           "A Coruña"
          ],
          [
           "Saint Petersburg",
           "Cherepovets"
          ],
          [
           "Saint Petersburg",
           "Murmansk"
          ],
          [
           "Madrid",
           "Almería"
          ],
          [
           "Málaga",
           "Maastricht"
          ],
          [
           "London",
           "Málaga"
          ],
          [
           "London",
           "Barcelona"
          ],
          [
           "London",
           "Bucharest"
          ],
          [
           "Aberdeen",
           "London"
          ],
          [
           "Stockholm",
           "London"
          ],
          [
           "Stockholm",
           "London"
          ],
          [
           "Athens",
           "London"
          ],
          [
           "Athens",
           "London"
          ],
          [
           "Kolding",
           "London"
          ],
          [
           "Kolding",
           "London"
          ],
          [
           "Bologna",
           "London"
          ],
          [
           "Bologna",
           "London"
          ],
          [
           "Brussels",
           "London"
          ],
          [
           "London",
           "Freiburg im Breisgau"
          ],
          [
           "Dunfermline",
           "London"
          ],
          [
           "Dunfermline",
           "London"
          ],
          [
           "Dunfermline",
           "London"
          ],
          [
           "Algeciras",
           "London"
          ],
          [
           "Grenoble",
           "London"
          ],
          [
           "Grenoble",
           "London"
          ],
          [
           "Grenoble",
           "London"
          ],
          [
           "Gothenburg",
           "London"
          ],
          [
           "Gothenburg",
           "London"
          ],
          [
           "Geneva",
           "London"
          ],
          [
           "Geneva",
           "London"
          ],
          [
           "Geneva",
           "London"
          ],
          [
           "Milan",
           "London"
          ],
          [
           "Lyon",
           "London"
          ],
          [
           "Madrid",
           "London"
          ],
          [
           "Madrid",
           "London"
          ],
          [
           "Madrid",
           "London"
          ],
          [
           "Novara",
           "London"
          ],
          [
           "Novara",
           "London"
          ],
          [
           "Nice",
           "London"
          ],
          [
           "Gateshead",
           "London"
          ],
          [
           "Oslo",
           "London"
          ],
          [
           "Bucharest",
           "London"
          ],
          [
           "Bucharest",
           "London"
          ],
          [
           "Bucharest",
           "London"
          ],
          [
           "Bucharest",
           "London"
          ],
          [
           "Salzburg",
           "London"
          ],
          [
           "Salzburg",
           "London"
          ],
          [
           "Toulouse",
           "London"
          ],
          [
           "Vienna",
           "London"
          ],
          [
           "Vienna",
           "London"
          ],
          [
           "Zürich",
           "London"
          ],
          [
           "Geneva",
           "Lille"
          ],
          [
           "Amsterdam",
           "Milan"
          ],
          [
           "Brussels",
           "Milan"
          ],
          [
           "Cagliari",
           "Milan"
          ],
          [
           "Paris",
           "Milan"
          ],
          [
           "Catania",
           "Milan"
          ],
          [
           "Helsinki",
           "Milan"
          ],
          [
           "Madrid",
           "Milan"
          ],
          [
           "Munich",
           "Milan"
          ],
          [
           "Messina",
           "Milan"
          ],
          [
           "Cosenza",
           "Milan"
          ],
          [
           "Alicante",
           "Lisbon"
          ],
          [
           "Amsterdam",
           "Lisbon"
          ],
          [
           "Barcelona",
           "Lisbon"
          ],
          [
           "Bordeaux",
           "Lisbon"
          ],
          [
           "Brussels",
           "Lisbon"
          ],
          [
           "Paris",
           "Lisbon"
          ],
          [
           "Paris",
           "Lisbon"
          ],
          [
           "Cologne",
           "Lisbon"
          ],
          [
           "Geneva",
           "Lisbon"
          ],
          [
           "Helsinki",
           "Lisbon"
          ],
          [
           "Lisbon",
           "London"
          ],
          [
           "Lisbon",
           "London"
          ],
          [
           "Trier",
           "Lisbon"
          ],
          [
           "Lyon",
           "Lisbon"
          ],
          [
           "Madrid",
           "Lisbon"
          ],
          [
           "Munich",
           "Lisbon"
          ],
          [
           "Porto",
           "Lisbon"
          ],
          [
           "Valencia",
           "Lisbon"
          ],
          [
           "Warsaw",
           "Lisbon"
          ],
          [
           "Stockholm",
           "Luleå"
          ],
          [
           "Belfast",
           "London"
          ],
          [
           "Belfast",
           "London"
          ],
          [
           "London",
           "Cluj-Napoca"
          ],
          [
           "Gdańsk",
           "London"
          ],
          [
           "Gdańsk",
           "London"
          ],
          [
           "Iaşi",
           "London"
          ],
          [
           "Pristina",
           "London"
          ],
          [
           "Tromsø",
           "London"
          ],
          [
           "Vilnius",
           "London"
          ],
          [
           "Vilnius",
           "London"
          ],
          [
           "Wrocław",
           "London"
          ],
          [
           "Wrocław",
           "London"
          ],
          [
           "Málaga",
           "Trier"
          ],
          [
           "Monza",
           "Trier"
          ],
          [
           "London",
           "Lublin"
          ],
          [
           "Stockholm",
           "Lyon"
          ],
          [
           "Paris",
           "Lyon"
          ],
          [
           "Dunfermline",
           "Lyon"
          ],
          [
           "Madrid",
           "Lyon"
          ],
          [
           "Munich",
           "Lyon"
          ],
          [
           "Madrid",
           "Málaga"
          ],
          [
           "Madrid",
           "Barcelona"
          ],
          [
           "Madrid",
           "Bordeaux"
          ],
          [
           "Madrid",
           "Brussels"
          ],
          [
           "Madrid",
           "Hamburg"
          ],
          [
           "Madrid",
           "Porto"
          ],
          [
           "Málaga",
           "Manchester"
          ],
          [
           "Alicante",
           "Manchester"
          ],
          [
           "Amsterdam",
           "Manchester"
          ],
          [
           "Belfast",
           "Manchester"
          ],
          [
           "Belfast",
           "Manchester"
          ],
          [
           "Budapest",
           "Manchester"
          ],
          [
           "Paris",
           "Manchester"
          ],
          [
           "Cologne",
           "Manchester"
          ],
          [
           "Rome",
           "Manchester"
          ],
          [
           "Annecy",
           "Manchester"
          ],
          [
           "Copenhagen",
           "Manchester"
          ],
          [
           "Frankfurt",
           "Manchester"
          ],
          [
           "Grenoble",
           "Manchester"
          ],
          [
           "Geneva",
           "Manchester"
          ],
          [
           "Helsinki",
           "Manchester"
          ],
          [
           "Kraków",
           "Manchester"
          ],
          [
           "London",
           "Manchester"
          ],
          [
           "Madrid",
           "Manchester"
          ],
          [
           "Munich",
           "Manchester"
          ],
          [
           "Poznań",
           "Manchester"
          ],
          [
           "Prague",
           "Manchester"
          ],
          [
           "Murcia",
           "Manchester"
          ],
          [
           "Rzeszów",
           "Manchester"
          ],
          [
           "Sevilla",
           "Manchester"
          ],
          [
           "Salzburg",
           "Manchester"
          ],
          [
           "Venice",
           "Manchester"
          ],
          [
           "Verona",
           "Manchester"
          ],
          [
           "Wrocław",
           "Manchester"
          ],
          [
           "Moscow",
           "Makhachkala"
          ],
          [
           "Moscow",
           "Makhachkala"
          ],
          [
           "Moscow",
           "Makhachkala"
          ],
          [
           "Saint Petersburg",
           "Makhachkala"
          ],
          [
           "Stockholm",
           "Malmö"
          ],
          [
           "Stockholm",
           "Malmö"
          ],
          [
           "Amsterdam",
           "Montpellier"
          ],
          [
           "Paris",
           "Montpellier"
          ],
          [
           "Málaga",
           "Marseille"
          ],
          [
           "Alicante",
           "Marseille"
          ],
          [
           "Budapest",
           "Marseille"
          ],
          [
           "Paris",
           "Marseille"
          ],
          [
           "Paris",
           "Marseille"
          ],
          [
           "Brussels",
           "Marseille"
          ],
          [
           "Lisbon",
           "Marseille"
          ],
          [
           "Lyon",
           "Marseille"
          ],
          [
           "Madrid",
           "Marseille"
          ],
          [
           "Nantes",
           "Marseille"
          ],
          [
           "Cherepovets",
           "Pyatigorsk"
          ],
          [
           "Moscow",
           "Pyatigorsk"
          ],
          [
           "Moscow",
           "Pyatigorsk"
          ],
          [
           "Moscow",
           "Pyatigorsk"
          ],
          [
           "Saint Petersburg",
           "Pyatigorsk"
          ],
          [
           "Magnitogorsk",
           "Pyatigorsk"
          ],
          [
           "Naberezhnyye Chelny",
           "Pyatigorsk"
          ],
          [
           "Volgograd",
           "Pyatigorsk"
          ],
          [
           "Málaga",
           "Munich"
          ],
          [
           "Munich",
           "Stockholm"
          ],
          [
           "Birmingham",
           "Munich"
          ],
          [
           "Bologna",
           "Munich"
          ],
          [
           "Brussels",
           "Munich"
          ],
          [
           "Munich",
           "Dresden"
          ],
          [
           "Münster",
           "Munich"
          ],
          [
           "Graz",
           "Munich"
          ],
          [
           "Hamburg",
           "Munich"
          ],
          [
           "London",
           "Munich"
          ],
          [
           "Pristina",
           "Munich"
          ],
          [
           "Stuttgart",
           "Munich"
          ],
          [
           "Valencia",
           "Munich"
          ],
          [
           "Amsterdam",
           "Novara"
          ],
          [
           "Athens",
           "Novara"
          ],
          [
           "Cagliari",
           "Novara"
          ],
          [
           "Paris",
           "Novara"
          ],
          [
           "Paris",
           "Novara"
          ],
          [
           "Catania",
           "Novara"
          ],
          [
           "Helsinki",
           "Novara"
          ],
          [
           "London",
           "Novara"
          ],
          [
           "Munich",
           "Novara"
          ],
          [
           "Pristina",
           "Novara"
          ],
          [
           "Rzeszów",
           "Novara"
          ],
          [
           "Cosenza",
           "Novara"
          ],
          [
           "Vienna",
           "Novara"
          ],
          [
           "Vilnius",
           "Novara"
          ],
          [
           "Zürich",
           "Novara"
          ],
          [
           "Barcelona",
           "Naples"
          ],
          [
           "Monza",
           "Naples"
          ],
          [
           "Brussels",
           "Naples"
          ],
          [
           "Catania",
           "Naples"
          ],
          [
           "Rome",
           "Naples"
          ],
          [
           "Kraków",
           "Naples"
          ],
          [
           "Milan",
           "Naples"
          ],
          [
           "Novara",
           "Naples"
          ],
          [
           "Palermo",
           "Naples"
          ],
          [
           "London",
           "Naples"
          ],
          [
           "Trieste",
           "Naples"
          ],
          [
           "Venice",
           "Naples"
          ],
          [
           "Vienna",
           "Naples"
          ],
          [
           "Valencia",
           "Naples"
          ],
          [
           "Saint Petersburg",
           "Naberezhnyye Chelny"
          ],
          [
           "Paris",
           "Nice"
          ],
          [
           "Madrid",
           "Nice"
          ],
          [
           "Zürich",
           "Nice"
          ],
          [
           "Málaga",
           "Gateshead"
          ],
          [
           "Alicante",
           "Gateshead"
          ],
          [
           "London",
           "Camborne"
          ],
          [
           "Málaga",
           "Mönchengladbach"
          ],
          [
           "Thessaloníki",
           "Mönchengladbach"
          ],
          [
           "Amsterdam",
           "Nantes"
          ],
          [
           "Geneva",
           "Nantes"
          ],
          [
           "Marseille",
           "Nantes"
          ],
          [
           "Thessaloníki",
           "Nuremberg"
          ],
          [
           "Bucharest",
           "Nyköping"
          ],
          [
           "Moscow",
           "Vladikavkaz"
          ],
          [
           "Zürich",
           "Ohrid"
          ],
          [
           "Bucharest",
           "Oradea"
          ],
          [
           "Porto",
           "Madrid"
          ],
          [
           "Pau",
           "Paris"
          ],
          [
           "London",
           "Paris"
          ],
          [
           "Madrid",
           "Paris"
          ],
          [
           "Montpellier",
           "Paris"
          ],
          [
           "Novara",
           "Paris"
          ],
          [
           "Nice",
           "Paris"
          ],
          [
           "Porto",
           "Paris"
          ],
          [
           "Portsmouth",
           "Paris"
          ],
          [
           "Toulouse",
           "Paris"
          ],
          [
           "Valencia",
           "Paris"
          ],
          [
           "Málaga",
           "Oslo"
          ],
          [
           "Amsterdam",
           "Oslo"
          ],
          [
           "Stockholm",
           "Oslo"
          ],
          [
           "Bergen",
           "Oslo"
          ],
          [
           "Paris",
           "Oslo"
          ],
          [
           "Gothenburg",
           "Oslo"
          ],
          [
           "Helsinki",
           "Oslo"
          ],
          [
           "Sandnes",
           "Oslo"
          ],
          [
           "Tromsø",
           "Oslo"
          ],
          [
           "Zürich",
           "Oslo"
          ],
          [
           "Moscow",
           "Orsk"
          ],
          [
           "Bucharest",
           "Kolding"
          ],
          [
           "Bucharest",
           "Bologna"
          ],
          [
           "Barcelona",
           "Gijón"
          ],
          [
           "Madrid",
           "Gijón"
          ],
          [
           "Mönchengladbach",
           "Gijón"
          ],
          [
           "Saint Petersburg",
           "Perm"
          ],
          [
           "Moscow",
           "Petrozavodsk"
          ],
          [
           "Cagliari",
           "Parma"
          ],
          [
           "Barcelona",
           "Palermo"
          ],
          [
           "Monza",
           "Palermo"
          ],
          [
           "Bologna",
           "Palermo"
          ],
          [
           "Rome",
           "Palermo"
          ],
          [
           "Ulm",
           "Palermo"
          ],
          [
           "Milan",
           "Palermo"
          ],
          [
           "Madrid",
           "Palermo"
          ],
          [
           "Novara",
           "Palermo"
          ],
          [
           "Naples",
           "Palermo"
          ],
          [
           "Nuremberg",
           "Palermo"
          ],
          [
           "Livorno",
           "Palermo"
          ],
          [
           "London",
           "Palermo"
          ],
          [
           "Turin",
           "Palermo"
          ],
          [
           "Venice",
           "Palermo"
          ],
          [
           "Verona",
           "Palermo"
          ],
          [
           "Madrid",
           "Pamplona"
          ],
          [
           "Málaga",
           "Prague"
          ],
          [
           "Barcelona",
           "Prague"
          ],
          [
           "Monza",
           "Prague"
          ],
          [
           "Paris",
           "Prague"
          ],
          [
           "Geneva",
           "Prague"
          ],
          [
           "Helsinki",
           "Prague"
          ],
          [
           "Madrid",
           "Prague"
          ],
          [
           "Hamburg",
           "Pristina"
          ],
          [
           "Stuttgart",
           "Pristina"
          ],
          [
           "Brussels",
           "Livorno"
          ],
          [
           "Pescara",
           "Monza"
          ],
          [
           "Saint Petersburg",
           "Orenburg"
          ],
          [
           "Moscow",
           "Orenburg"
          ],
          [
           "Amsterdam",
           "Riga"
          ],
          [
           "Bristol",
           "Riga"
          ],
          [
           "Geneva",
           "Riga"
          ],
          [
           "Lisbon",
           "Riga"
          ],
          [
           "Klaipėda",
           "Riga"
          ],
          [
           "London",
           "Riga"
          ],
          [
           "Salzburg",
           "Riga"
          ],
          [
           "Tallinn",
           "Riga"
          ],
          [
           "Vienna",
           "Riga"
          ],
          [
           "Málaga",
           "Rotterdam"
          ],
          [
           "Salzburg",
           "Rotterdam"
          ],
          [
           "London",
           "Sibiu"
          ],
          [
           "Munich",
           "Sibiu"
          ],
          [
           "Madrid",
           "Santiago de Compostela"
          ],
          [
           "Valencia",
           "Santiago de Compostela"
          ],
          [
           "Saint Petersburg",
           "Syktyvkar"
          ],
          [
           "Geneva",
           "Basildon"
          ],
          [
           "Thessaloníki",
           "Stuttgart"
          ],
          [
           "Belgrade",
           "Skopje"
          ],
          [
           "Bratislava",
           "Skopje"
          ],
          [
           "Cologne",
           "Skopje"
          ],
          [
           "Copenhagen",
           "Skopje"
          ],
          [
           "Eindhoven",
           "Skopje"
          ],
          [
           "Rome",
           "Skopje"
          ],
          [
           "Karlsruhe",
           "Skopje"
          ],
          [
           "Frankfurt",
           "Skopje"
          ],
          [
           "Nyköping",
           "Skopje"
          ],
          [
           "Bistrica ob Sotli",
           "Skopje"
          ],
          [
           "Zürich",
           "Skopje"
          ],
          [
           "Alicante",
           "Sofia"
          ],
          [
           "Athens",
           "Sofia"
          ],
          [
           "Barcelona",
           "Sofia"
          ],
          [
           "Monza",
           "Sofia"
          ],
          [
           "Bristol",
           "Sofia"
          ],
          [
           "Copenhagen",
           "Sofia"
          ],
          [
           "Brussels",
           "Sofia"
          ],
          [
           "Eindhoven",
           "Sofia"
          ],
          [
           "Karlsruhe",
           "Sofia"
          ],
          [
           "Ulm",
           "Sofia"
          ],
          [
           "London",
           "Sofia"
          ],
          [
           "London",
           "Sofia"
          ],
          [
           "London",
           "Sofia"
          ],
          [
           "Madrid",
           "Sofia"
          ],
          [
           "Munich",
           "Sofia"
          ],
          [
           "Venice",
           "Sofia"
          ],
          [
           "Varna",
           "Sofia"
          ],
          [
           "Vienna",
           "Sofia"
          ],
          [
           "Monza",
           "London"
          ],
          [
           "Bordeaux",
           "London"
          ],
          [
           "Bratislava",
           "London"
          ],
          [
           "Budapest",
           "London"
          ],
          [
           "Bydgoszcz",
           "London"
          ],
          [
           "Cologne",
           "London"
          ],
          [
           "Rome",
           "London"
          ],
          [
           "Annecy",
           "London"
          ],
          [
           "Catania",
           "London"
          ],
          [
           "Eindhoven",
           "London"
          ],
          [
           "Faro",
           "London"
          ],
          [
           "Genoa",
           "London"
          ],
          [
           "Kraków",
           "London"
          ],
          [
           "Katowice",
           "London"
          ],
          [
           "Łódź",
           "London"
          ],
          [
           "Marseille",
           "London"
          ],
          [
           "Naples",
           "London"
          ],
          [
           "Nuremberg",
           "London"
          ],
          [
           "Porto",
           "London"
          ],
          [
           "Poznań",
           "London"
          ],
          [
           "Prague",
           "London"
          ],
          [
           "Livorno",
           "London"
          ],
          [
           "Riga",
           "London"
          ],
          [
           "Santiago de Compostela",
           "London"
          ],
          [
           "Thessaloníki",
           "London"
          ],
          [
           "Sofia",
           "London"
          ],
          [
           "Sevilla",
           "London"
          ],
          [
           "Szczytno",
           "London"
          ],
          [
           "Szczecin",
           "London"
          ],
          [
           "Tirana",
           "London"
          ],
          [
           "Turin",
           "London"
          ],
          [
           "Trieste",
           "London"
          ],
          [
           "Venice",
           "London"
          ],
          [
           "Vigo",
           "London"
          ],
          [
           "Valencia",
           "London"
          ],
          [
           "Verona",
           "London"
          ],
          [
           "Warsaw",
           "London"
          ],
          [
           "Bistrica ob Sotli",
           "London"
          ],
          [
           "Zaragoza",
           "London"
          ],
          [
           "Stuttgart",
           "Bucharest"
          ],
          [
           "Stuttgart",
           "Thessaloníki"
          ],
          [
           "Amsterdam",
           "Sandnes"
          ],
          [
           "Gdańsk",
           "Sandnes"
          ],
          [
           "Oslo",
           "Sandnes"
          ],
          [
           "Moscow",
           "Izhevsk"
          ],
          [
           "Samara",
           "Moscow"
          ],
          [
           "Samara",
           "Moscow"
          ],
          [
           "Magnitogorsk",
           "Moscow"
          ],
          [
           "Naberezhnyye Chelny",
           "Moscow"
          ],
          [
           "Barcelona",
           "Sevilla"
          ],
          [
           "Monza",
           "Sevilla"
          ],
          [
           "Rome",
           "Sevilla"
          ],
          [
           "Madrid",
           "Sevilla"
          ],
          [
           "Manchester",
           "Sevilla"
          ],
          [
           "Novara",
           "Sevilla"
          ],
          [
           "Livorno",
           "Sevilla"
          ],
          [
           "London",
           "Sevilla"
          ],
          [
           "Warsaw",
           "Sevilla"
          ],
          [
           "Amsterdam",
           "Salzburg"
          ],
          [
           "Stockholm",
           "Salzburg"
          ],
          [
           "Bristol",
           "Salzburg"
          ],
          [
           "Hamburg",
           "Salzburg"
          ],
          [
           "Helsinki",
           "Salzburg"
          ],
          [
           "London",
           "Salzburg"
          ],
          [
           "Oslo",
           "Szczecin"
          ],
          [
           "Stockholm",
           "Tirana"
          ],
          [
           "Barcelona",
           "Tirana"
          ],
          [
           "Monza",
           "Tirana"
          ],
          [
           "Bologna",
           "Tirana"
          ],
          [
           "Bari",
           "Tirana"
          ],
          [
           "Amiens",
           "Tirana"
          ],
          [
           "Rome",
           "Tirana"
          ],
          [
           "Rome",
           "Tirana"
          ],
          [
           "Brussels",
           "Tirana"
          ],
          [
           "Genoa",
           "Tirana"
          ],
          [
           "Hamburg",
           "Tirana"
          ],
          [
           "Koblenz",
           "Tirana"
          ],
          [
           "Lyon",
           "Tirana"
          ],
          [
           "Novara",
           "Tirana"
          ],
          [
           "Nuremberg",
           "Tirana"
          ],
          [
           "Perugia",
           "Tirana"
          ],
          [
           "Livorno",
           "Tirana"
          ],
          [
           "Trieste",
           "Tirana"
          ],
          [
           "Venice",
           "Tirana"
          ],
          [
           "Verona",
           "Tirana"
          ],
          [
           "Stockholm",
           "Tallinn"
          ],
          [
           "Geneva",
           "Tallinn"
          ],
          [
           "Helsinki",
           "Tallinn"
          ],
          [
           "London",
           "Tallinn"
          ],
          [
           "Bordeaux",
           "Toulouse"
          ],
          [
           "Madrid",
           "Toulouse"
          ],
          [
           "Munich",
           "Toulouse"
          ],
          [
           "Amsterdam",
           "Tampere"
          ],
          [
           "Tallinn",
           "Tampere"
          ],
          [
           "Bergen",
           "Tønsberg"
          ],
          [
           "Stockholm",
           "Turin"
          ],
          [
           "Cagliari",
           "Turin"
          ],
          [
           "Catania",
           "Turin"
          ],
          [
           "Gothenburg",
           "Turin"
          ],
          [
           "London",
           "Turin"
          ],
          [
           "Munich",
           "Turin"
          ],
          [
           "Bucharest",
           "Turin"
          ],
          [
           "Cosenza",
           "Turin"
          ],
          [
           "Vilnius",
           "Turin"
          ],
          [
           "Amiens",
           "Venice"
          ],
          [
           "Brussels",
           "Venice"
          ],
          [
           "Bucharest",
           "Venice"
          ],
          [
           "Sofia",
           "Venice"
          ],
          [
           "Tirana",
           "Venice"
          ],
          [
           "Vienna",
           "Venice"
          ],
          [
           "Valencia",
           "Venice"
          ],
          [
           "Monza",
           "Timişoara"
          ],
          [
           "Amiens",
           "Timişoara"
          ],
          [
           "Bucharest",
           "Timişoara"
          ],
          [
           "London",
           "Tours"
          ],
          [
           "Sochi",
           "Ufa"
          ],
          [
           "Moscow",
           "Ufa"
          ],
          [
           "Moscow",
           "Ufa"
          ],
          [
           "Moscow",
           "Ufa"
          ],
          [
           "Krasnoyarsk",
           "Ufa"
          ],
          [
           "Saint Petersburg",
           "Ufa"
          ],
          [
           "Saint Petersburg",
           "Ulyanovsk"
          ],
          [
           "Moscow",
           "Ulyanovsk"
          ],
          [
           "Moscow",
           "Ulyanovsk"
          ],
          [
           "Stockholm",
           "Umeå"
          ],
          [
           "Helsinki",
           "Vaasa"
          ],
          [
           "Varna",
           "Cologne"
          ],
          [
           "Hamburg",
           "Varna"
          ],
          [
           "Amsterdam",
           "Venice"
          ],
          [
           "Barcelona",
           "Venice"
          ],
          [
           "Bari",
           "Venice"
          ],
          [
           "Paris",
           "Venice"
          ],
          [
           "Paris",
           "Venice"
          ],
          [
           "Catania",
           "Venice"
          ],
          [
           "Dunfermline",
           "Venice"
          ],
          [
           "Rome",
           "Venice"
          ],
          [
           "Frankfurt",
           "Venice"
          ],
          [
           "London",
           "Venice"
          ],
          [
           "London",
           "Venice"
          ],
          [
           "Lisbon",
           "Venice"
          ],
          [
           "Madrid",
           "Venice"
          ],
          [
           "Manchester",
           "Venice"
          ],
          [
           "Munich",
           "Venice"
          ],
          [
           "Naples",
           "Venice"
          ],
          [
           "Palermo",
           "Venice"
          ],
          [
           "Cosenza",
           "Venice"
          ],
          [
           "Barcelona",
           "Vigo"
          ],
          [
           "Madrid",
           "Vigo"
          ],
          [
           "Málaga",
           "Vienna"
          ],
          [
           "Athens",
           "Vienna"
          ],
          [
           "Barcelona",
           "Vienna"
          ],
          [
           "Monza",
           "Vienna"
          ],
          [
           "Brussels",
           "Vienna"
          ],
          [
           "Paris",
           "Vienna"
          ],
          [
           "Cluj-Napoca",
           "Vienna"
          ],
          [
           "Geneva",
           "Vienna"
          ],
          [
           "Hamburg",
           "Vienna"
          ],
          [
           "Helsinki",
           "Vienna"
          ],
          [
           "Klagenfurt",
           "Vienna"
          ],
          [
           "London",
           "Vienna"
          ],
          [
           "Trier",
           "Vienna"
          ],
          [
           "Madrid",
           "Vienna"
          ],
          [
           "Munich",
           "Vienna"
          ],
          [
           "Novara",
           "Vienna"
          ],
          [
           "Bucharest",
           "Vienna"
          ],
          [
           "Stuttgart",
           "Vienna"
          ],
          [
           "Tromsø",
           "Vienna"
          ],
          [
           "Zürich",
           "Vienna"
          ],
          [
           "Moscow",
           "Kaliningrad"
          ],
          [
           "Moscow",
           "Naberezhnyye Chelny"
          ],
          [
           "Brussels",
           "Valencia"
          ],
          [
           "Madrid",
           "Valencia"
          ],
          [
           "Porto",
           "Valencia"
          ],
          [
           "Málaga",
           "Vilnius"
          ],
          [
           "Amiens",
           "Vilnius"
          ],
          [
           "Munich",
           "Vilnius"
          ],
          [
           "Saint Petersburg",
           "Volgograd"
          ],
          [
           "Moscow",
           "Volgograd"
          ],
          [
           "Moscow",
           "Volgograd"
          ],
          [
           "Saint Petersburg",
           "Voronezh"
          ],
          [
           "Gdańsk",
           "Verona"
          ],
          [
           "Poznań",
           "Verona"
          ],
          [
           "Cosenza",
           "Verona"
          ],
          [
           "Lisbon",
           "Viseu"
          ],
          [
           "Vila Real",
           "Viseu"
          ],
          [
           "Amsterdam",
           "Warsaw"
          ],
          [
           "Athens",
           "Warsaw"
          ],
          [
           "Barcelona",
           "Warsaw"
          ],
          [
           "Barcelona",
           "Warsaw"
          ],
          [
           "Monza",
           "Warsaw"
          ],
          [
           "Brussels",
           "Warsaw"
          ],
          [
           "Brussels",
           "Warsaw"
          ],
          [
           "Budapest",
           "Warsaw"
          ],
          [
           "Paris",
           "Warsaw"
          ],
          [
           "Cluj-Napoca",
           "Warsaw"
          ],
          [
           "Gdańsk",
           "Warsaw"
          ],
          [
           "Grenoble",
           "Warsaw"
          ],
          [
           "Geneva",
           "Warsaw"
          ],
          [
           "Kraków",
           "Warsaw"
          ],
          [
           "Katowice",
           "Warsaw"
          ],
          [
           "London",
           "Warsaw"
          ],
          [
           "London",
           "Warsaw"
          ],
          [
           "Ljubljana",
           "Warsaw"
          ],
          [
           "Munich",
           "Warsaw"
          ],
          [
           "Bucharest",
           "Warsaw"
          ],
          [
           "Prague",
           "Warsaw"
          ],
          [
           "Vilnius",
           "Warsaw"
          ],
          [
           "Verona",
           "Warsaw"
          ],
          [
           "Wrocław",
           "Warsaw"
          ],
          [
           "Zürich",
           "Warsaw"
          ],
          [
           "Málaga",
           "Warsaw"
          ],
          [
           "Rome",
           "Warsaw"
          ],
          [
           "Málaga",
           "Wrocław"
          ],
          [
           "Birmingham",
           "Wrocław"
          ],
          [
           "Wrocław",
           "Amiens"
          ],
          [
           "Valencia",
           "Wrocław"
          ],
          [
           "Barcelona",
           "Jerez de la Frontera"
          ],
          [
           "Madrid",
           "Jerez de la Frontera"
          ],
          [
           "Amsterdam",
           "Bistrica ob Sotli"
          ],
          [
           "Brussels",
           "Bistrica ob Sotli"
          ],
          [
           "Koblenz",
           "Bistrica ob Sotli"
          ],
          [
           "London",
           "Bistrica ob Sotli"
          ],
          [
           "Munich",
           "Bistrica ob Sotli"
          ],
          [
           "Vienna",
           "Bistrica ob Sotli"
          ],
          [
           "Zürich",
           "Bistrica ob Sotli"
          ],
          [
           "Amiens",
           "Zaragoza"
          ],
          [
           "Barcelona",
           "Zürich"
          ],
          [
           "Bologna",
           "Zürich"
          ],
          [
           "Brussels",
           "Zürich"
          ],
          [
           "Paris",
           "Zürich"
          ],
          [
           "Dunfermline",
           "Zürich"
          ],
          [
           "Gothenburg",
           "Zürich"
          ],
          [
           "Geneva",
           "Zürich"
          ],
          [
           "Madrid",
           "Zürich"
          ],
          [
           "Munich",
           "Zürich"
          ],
          [
           "Porto",
           "Zürich"
          ],
          [
           "Bucharest",
           "Zürich"
          ],
          [
           "Pristina",
           "Zürich"
          ],
          [
           "Stuttgart",
           "Zürich"
          ]
         ],
         "hovertemplate": "flight_time_hours_with_extra=%{x}<br>train_time_hours=%{y}<br>arrival city=%{customdata[0]}<br>departure city=%{customdata[1]}<extra></extra>",
         "legendgroup": "",
         "marker": {
          "color": "#636efa",
          "symbol": "circle"
         },
         "mode": "markers",
         "name": "",
         "showlegend": false,
         "type": "scattergl",
         "x": [
          2.9166666666666665,
          4.333333333333333,
          4.5,
          2.9166666666666665,
          3.0833333333333335,
          5,
          5.083333333333333,
          5.2638888888888875,
          4.25,
          6.916666666666667,
          4.916666666666667,
          5.5,
          5.583333333333333,
          5.333333333333333,
          2.3333333333333335,
          3.125,
          3.3333333333333335,
          5.333333333333333,
          4.916666666666667,
          4.25,
          4.583333333333333,
          4.375,
          4.416666666666667,
          2.8333333333333335,
          2.7916666666666665,
          2.5833333333333335,
          2.6666666666666665,
          2.3333333333333335,
          3.1666666666666665,
          2.6666666666666665,
          3.9166666666666665,
          2.6666666666666665,
          3.0833333333333335,
          4.916666666666667,
          3.0833333333333335,
          4.625,
          3.6666666666666665,
          5.166666666666667,
          3.875,
          3.2916666666666665,
          2.8333333333333335,
          2.75,
          4.833333333333333,
          2.9166666666666665,
          2.8333333333333335,
          2.8333333333333335,
          3.6666666666666665,
          3.3333333333333335,
          3.125,
          2.6666666666666665,
          4.166666666666667,
          2.8333333333333335,
          2.6666666666666665,
          2.9166666666666665,
          2.6666666666666665,
          3.1666666666666665,
          2.4166666666666665,
          4.208333333333333,
          4.583333333333333,
          2.8333333333333335,
          4.583333333333333,
          2.75,
          4.166666666666667,
          3.2083333333333335,
          3,
          5.916666666666667,
          4.25,
          2.5833333333333335,
          2.7916666666666665,
          3.75,
          3.1666666666666665,
          4.208333333333333,
          3.75,
          4.5,
          5,
          4.25,
          2.75,
          5.333333333333333,
          3.0833333333333335,
          2.388888888888889,
          4.25,
          3.0416666666666665,
          2.75,
          3.5,
          3.4166666666666665,
          3.0833333333333335,
          4.666666666666667,
          3.5833333333333335,
          3.9166666666666665,
          3.5833333333333335,
          3.7916666666666665,
          3.5,
          3.25,
          4.916666666666667,
          4.25,
          2.5833333333333335,
          4.041666666666667,
          4.083333333333333,
          2.4166666666666665,
          5.5,
          4.333333333333333,
          4.666666666666667,
          3,
          3.1666666666666665,
          3.1666666666666665,
          2.5833333333333335,
          2.75,
          2.375,
          3.75,
          1.8333333333333333,
          4.25,
          3.5,
          3,
          3,
          3.0416666666666665,
          3.9166666666666665,
          3.7916666666666665,
          2.75,
          3.2083333333333335,
          3.0416666666666665,
          2.9166666666666665,
          2.8333333333333335,
          2.5833333333333335,
          4.416666666666667,
          3.6666666666666665,
          5,
          3.8333333333333335,
          5.083333333333333,
          3.75,
          4,
          3.75,
          2.7083333333333335,
          3.3055555555555554,
          2.625,
          2.7916666666666665,
          3,
          4.5,
          3.5,
          4.125,
          2.75,
          3,
          3.027777777777778,
          3.9166666666666665,
          2.6666666666666665,
          2.9166666666666665,
          3.125,
          3.125,
          2.8333333333333335,
          2.875,
          3.6666666666666665,
          4.25,
          3.5833333333333335,
          3.375,
          3.5833333333333335,
          3.75,
          3.6666666666666665,
          3.75,
          2.9166666666666665,
          2.75,
          3.75,
          2.5,
          4.041666666666667,
          3.6666666666666665,
          3.6666666666666665,
          3.25,
          4,
          5.0625,
          3.9166666666666665,
          3.5,
          4.125,
          3.075,
          4.25,
          3,
          4.166666666666667,
          3.1666666666666665,
          3.5416666666666665,
          3.6666666666666665,
          3.875,
          4.333333333333333,
          4.125,
          4.916666666666667,
          3.6666666666666665,
          3.25,
          2.7083333333333335,
          2.7916666666666665,
          3.25,
          3.1666666666666665,
          3.7083333333333335,
          3.75,
          3.1666666666666665,
          4.25,
          4,
          4.25,
          3.25,
          3.1666666666666665,
          2.9166666666666665,
          3.25,
          2.9166666666666665,
          2.6666666666666665,
          3.8333333333333335,
          4.833333333333333,
          3.1666666666666665,
          4.666666666666667,
          4.041666666666667,
          2.4166666666666665,
          4.5,
          4.083333333333333,
          4.041666666666667,
          4.291666666666667,
          4.5,
          2.5833333333333335,
          2.6666666666666665,
          4.5,
          3.5,
          3.5833333333333335,
          3.527777777777778,
          3.6666666666666665,
          4.416666666666667,
          2.4166666666666665,
          3.4166666666666665,
          2.305555555555556,
          2.1666666666666665,
          5.166666666666667,
          4.833333333333333,
          2.9583333333333335,
          2.7083333333333335,
          3.4166666666666665,
          3.6666666666666665,
          3.5,
          2.9166666666666665,
          5.416666666666667,
          3,
          2.375,
          3.5625,
          2.5,
          3.1666666666666665,
          3.25,
          3,
          3.5833333333333335,
          3.4166666666666665,
          4.75,
          3.5,
          3.1666666666666665,
          4.916666666666667,
          2.75,
          3.1111111111111116,
          3.2083333333333335,
          3.25,
          3.3333333333333335,
          4,
          3.6666666666666665,
          3.5833333333333335,
          4.416666666666667,
          3.0833333333333335,
          2.9166666666666665,
          3.375,
          3.25,
          4.166666666666667,
          3.0833333333333335,
          3.8333333333333335,
          3.2916666666666665,
          4.291666666666667,
          5.125,
          4.583333333333333,
          4.416666666666667,
          4.75,
          3.1666666666666665,
          3.25,
          3.1041666666666665,
          3.0416666666666665,
          3,
          4.25,
          4.133333333333334,
          4.083333333333333,
          2.8333333333333335,
          3.3333333333333335,
          3.5833333333333335,
          3.25,
          3.6666666666666665,
          3.5833333333333335,
          3.0833333333333335,
          3.0833333333333335,
          3.2916666666666665,
          3.5833333333333335,
          2.4166666666666665,
          2.75,
          2.75,
          2.3333333333333335,
          3.8333333333333335,
          4.166666666666667,
          2.9166666666666665,
          4.583333333333333,
          4.166666666666667,
          4.208333333333333,
          3.9166666666666665,
          5,
          3.0833333333333335,
          2.6666666666666665,
          2.5833333333333335,
          4.833333333333333,
          2.5833333333333335,
          2.75,
          3.25,
          3.7916666666666665,
          2.9166666666666665,
          4.416666666666667,
          4.458333333333333,
          4.083333333333333,
          4.416666666666667,
          3.125,
          3.5,
          3.8333333333333335,
          3.6666666666666665,
          3.4166666666666665,
          4.416666666666667,
          2.9166666666666665,
          3.7916666666666665,
          4.5,
          4.25,
          2.5833333333333335,
          3.375,
          3.25,
          4.25,
          4.645833333333333,
          2.2916666666666665,
          4.125,
          4.083333333333333,
          2.5833333333333335,
          3.25,
          2.5,
          3.25,
          2.5833333333333335,
          3.625,
          3.4166666666666665,
          3.5,
          2.8333333333333335,
          3.6666666666666665,
          2.4166666666666665,
          3,
          2.5833333333333335,
          4,
          4.166666666666667,
          2.6666666666666665,
          4.583333333333333,
          3.0833333333333335,
          4.041666666666667,
          3,
          2.6666666666666665,
          3.8333333333333335,
          3.5,
          2.625,
          3.8333333333333335,
          3.3333333333333335,
          3.75,
          2.6666666666666665,
          2.8333333333333335,
          2.75,
          2.5833333333333335,
          3.2083333333333335,
          3.5833333333333335,
          2.5,
          3.9166666666666665,
          3.0833333333333335,
          3.3333333333333335,
          3.6666666666666665,
          3.9166666666666665,
          2.75,
          3.4166666666666665,
          4.333333333333333,
          3.75,
          4.583333333333333,
          4.25,
          2.75,
          3.7083333333333335,
          3,
          2.5,
          3.125,
          2.5,
          2.4166666666666665,
          3.1666666666666665,
          2.75,
          2.5833333333333335,
          2.3333333333333335,
          3.0416666666666665,
          3.25,
          2.9166666666666665,
          2.5833333333333335,
          2.625,
          4.166666666666667,
          2.25,
          3.125,
          2.5,
          3,
          3.25,
          2.7916666666666665,
          3.25,
          2.5833333333333335,
          2.8333333333333335,
          2.25,
          3.8333333333333335,
          3,
          2.6666666666666665,
          2.3333333333333335,
          2.5833333333333335,
          2.8333333333333335,
          2.9444444444444446,
          3.5,
          2.9166666666666665,
          3.0833333333333335,
          2.5,
          3.1666666666666665,
          3.5833333333333335,
          2.8333333333333335,
          5.416666666666667,
          2.75,
          3.75,
          2.9583333333333335,
          2.6666666666666665,
          4.166666666666667,
          3,
          3.3333333333333335,
          3.1666666666666665,
          3.25,
          2.8333333333333335,
          3.75,
          3.125,
          3.5833333333333335,
          2.75,
          3.75,
          3.7916666666666665,
          3.1666666666666665,
          2.4166666666666665,
          2.6666666666666665,
          4.833333333333333,
          2,
          2.5833333333333335,
          5.583333333333333,
          4.125,
          4.333333333333333,
          3.5416666666666665,
          3.4583333333333335,
          2.5416666666666665,
          2.7916666666666665,
          4.416666666666667,
          3.75,
          3.8333333333333335,
          2.6666666666666665,
          2.4166666666666665,
          2.75,
          2.3333333333333335,
          3.625,
          4.083333333333333,
          2.5833333333333335,
          3.5555555555555554,
          3.8333333333333335,
          2.4583333333333335,
          3.125,
          3.25,
          3.25,
          3.4166666666666665,
          4.305555555555556,
          2,
          4.75,
          6,
          2.7083333333333335,
          6.458333333333333,
          6.375,
          6.277777777777778,
          6.791666666666667,
          5.208333333333333,
          3.5,
          3.5,
          4.291666666666667,
          3.2916666666666665,
          4.041666666666667,
          3.25,
          3.75,
          3.9583333333333335,
          3.5,
          3.5,
          4.25,
          3.5,
          3.2916666666666665,
          4.083333333333333,
          3.9583333333333335,
          3.625,
          3.3333333333333335,
          3.7916666666666665,
          3.4166666666666665,
          4.166666666666667,
          2.5416666666666665,
          4.583333333333333,
          2.4166666666666665,
          3.8333333333333335,
          3.7083333333333335,
          2.3333333333333335,
          2.75,
          4.75,
          4.083333333333333,
          4.055555555555555,
          3.9583333333333335,
          3.8958333333333335,
          3.9166666666666665,
          2.5,
          2.6666666666666665,
          3.5,
          3.2916666666666665,
          3.2083333333333335,
          3.75,
          3.25,
          3.25,
          4.291666666666667,
          2.8333333333333335,
          3.5,
          4.541666666666667,
          4.041666666666667,
          3.6666666666666665,
          2.777777777777778,
          2.4166666666666665,
          3.3333333333333335,
          2.75,
          4.666666666666667,
          4.333333333333333,
          3.75,
          5.25,
          3.0833333333333335,
          4.166666666666667,
          3.9583333333333335,
          5.583333333333333,
          5.083333333333333,
          3.3333333333333335,
          3.0833333333333335,
          3.9166666666666665,
          3.5833333333333335,
          2.6944444444444446,
          3.1666666666666665,
          2.9166666666666665,
          2.75,
          2.8333333333333335,
          4.583333333333333,
          3.3333333333333335,
          3.2916666666666665,
          3.3333333333333335,
          3.625,
          3.375,
          3.2083333333333335,
          3.25,
          3.2916666666666665,
          3.5,
          3.375,
          3.9583333333333335,
          3.9166666666666665,
          4.083333333333333,
          3.6666666666666665,
          3.4583333333333335,
          3.6666666666666665,
          2.7916666666666665,
          3.9583333333333335,
          4.833333333333333,
          4.958333333333333,
          4.666666666666667,
          4.75,
          3.6666666666666665,
          3.5,
          3.4166666666666665,
          3.8333333333333335,
          3.75,
          3.2916666666666665,
          2.8333333333333335,
          3.4166666666666665,
          2.9166666666666665,
          2.875,
          3.0833333333333335,
          3.4166666666666665,
          4.583333333333333,
          3.9166666666666665,
          2.6666666666666665,
          3.1666666666666665,
          3.125,
          3.25,
          4.666666666666667,
          3.4583333333333335,
          3.4166666666666665,
          4.333333333333333,
          4.083333333333333,
          4.020833333333333,
          4.583333333333333,
          4.083333333333333,
          6.083333333333333,
          4.25,
          4.25,
          4.166666666666667,
          3.9166666666666665,
          2.8333333333333335,
          4.666666666666667,
          2.5,
          3.0416666666666665,
          5.666666666666667,
          2.8333333333333335,
          2.75,
          2.8333333333333335,
          4.583333333333333,
          3.8333333333333335,
          3.75,
          4.916666666666667,
          4.875,
          5.25,
          4.291666666666667,
          4.416666666666667,
          3.625,
          3.5833333333333335,
          4.208333333333333,
          2.75,
          4.166666666666667,
          4.583333333333333,
          2.7083333333333335,
          3.8333333333333335,
          3.4166666666666665,
          2.8333333333333335,
          2.75,
          2.9166666666666665,
          2.9166666666666665,
          3.9583333333333335,
          4.416666666666667,
          2.75,
          4.458333333333333,
          4.291666666666667,
          2.7916666666666665,
          2.5208333333333335,
          2.6666666666666665,
          4.208333333333333,
          2.9583333333333335,
          3.125,
          4.291666666666667,
          3.5833333333333335,
          3.4166666666666665,
          3.1666666666666665,
          3.4166666666666665,
          3.4444444444444446,
          4.375,
          4,
          2.5416666666666665,
          4.083333333333333,
          3.5833333333333335,
          3.6666666666666665,
          3.75,
          4.333333333333333,
          4.333333333333333,
          4.333333333333333,
          3.75,
          3.9166666666666665,
          3.9166666666666665,
          3.7916666666666665,
          4.583333333333333,
          4.75,
          4.291666666666667,
          4.833333333333333,
          2.6666666666666665,
          2.8333333333333335,
          3.5833333333333335,
          2.9583333333333335,
          3.5,
          3.0833333333333335,
          3.5,
          3.0833333333333335,
          2.875,
          3.25,
          3.8333333333333335,
          2.5833333333333335,
          3.2916666666666665,
          3,
          5,
          4.75,
          4.791666666666667,
          3.875,
          4.5,
          4.166666666666667,
          4.333333333333333,
          3.6666666666666665,
          4.5,
          3.75,
          3.4166666666666665,
          2.625,
          2.7916666666666665,
          2.4166666666666665,
          2.5833333333333335,
          2.3333333333333335,
          2.7916666666666665,
          3.3333333333333335,
          3.5,
          2.3333333333333335,
          3.9166666666666665,
          3.4583333333333335,
          3.9583333333333335,
          3,
          3,
          3.0833333333333335,
          3.4583333333333335,
          4.583333333333333,
          3.4375,
          2.6666666666666665,
          3.6666666666666665,
          3.625,
          3.3333333333333335,
          3,
          4.25,
          2.4583333333333335,
          3.4583333333333335,
          2.9166666666666665,
          3.7916666666666665,
          2.5833333333333335,
          2.4166666666666665,
          3.5,
          2.7916666666666665,
          3.0416666666666665,
          2.5,
          4.416666666666667,
          2.75,
          2.8333333333333335,
          3.25,
          3.5833333333333335,
          3.9166666666666665,
          3.1111111111111116,
          3.5,
          2.7083333333333335,
          4.666666666666667,
          4.458333333333333,
          2.8333333333333335,
          4.541666666666667,
          4.333333333333333,
          3.0416666666666665,
          2.875,
          3,
          3.9166666666666665,
          4.416666666666667,
          4.416666666666667,
          3.5833333333333335,
          2.875,
          2.8333333333333335,
          2.9166666666666665,
          2.7083333333333335,
          3.5833333333333335,
          2.9166666666666665,
          2.9166666666666665,
          2.9583333333333335,
          3.75,
          3,
          2.75,
          3.4444444444444446,
          5.666666666666667,
          3.4166666666666665,
          2.7083333333333335,
          2.4375,
          4,
          2.4166666666666665,
          3.5833333333333335,
          2.5,
          3.4583333333333335,
          4,
          4.166666666666667,
          4.166666666666667,
          3.5833333333333335,
          2.9166666666666665,
          2.75,
          3.7083333333333335,
          3.9375,
          3.0833333333333335,
          2.8333333333333335,
          3.4166666666666665,
          3.1666666666666665,
          3,
          2.75,
          3.4583333333333335,
          3.0833333333333335,
          4.166666666666667,
          3.25,
          2.5,
          3.625,
          2.8333333333333335,
          4.666666666666667,
          3.1666666666666665,
          3.0833333333333335,
          3.0416666666666665,
          2.5833333333333335,
          4.833333333333333,
          3.9583333333333335,
          2.8333333333333335,
          3.25,
          3,
          3.75,
          4.583333333333333,
          4.145833333333333,
          3.5833333333333335,
          3.25,
          2.75,
          4.375,
          3.861111111111111,
          3.9166666666666665,
          4.5,
          4.25,
          6,
          2.15,
          4.416666666666667,
          3.7083333333333335,
          2.3333333333333335,
          3.625,
          4.375,
          3,
          4.541666666666667,
          3.2083333333333335,
          2.7083333333333335,
          3.0416666666666665,
          3.4166666666666665,
          3.0833333333333335,
          3.75,
          2.6666666666666665,
          3.0416666666666665,
          4.125,
          4.416666666666667,
          4.083333333333333,
          3.25,
          3.75,
          3.9166666666666665,
          4.583333333333333,
          2.9166666666666665,
          3.6666666666666665,
          4.875,
          2.8333333333333335,
          4.416666666666667,
          3.5,
          4.833333333333333,
          4.583333333333333,
          4.25,
          4.083333333333333,
          3.75,
          3.5416666666666665,
          4.75,
          4.833333333333333,
          4.833333333333333,
          5.166666666666667,
          3.5,
          3.3333333333333335,
          2.3333333333333335,
          3.0833333333333335,
          3.5,
          3.2083333333333335,
          3.75,
          4,
          3.6666666666666665,
          2.7916666666666665,
          4.041666666666667,
          3.3333333333333335,
          4.875,
          2.5833333333333335,
          4.333333333333333,
          3.6666666666666665,
          3.9166666666666665,
          3.8333333333333335,
          3.8333333333333335,
          3.5,
          4.083333333333333,
          3.1666666666666665,
          3.9583333333333335,
          3.5833333333333335,
          3.4166666666666665,
          3.7083333333333335,
          4.083333333333333,
          3.6666666666666665,
          4.666666666666667,
          4.5,
          4.25,
          3.875,
          3.4166666666666665,
          4.583333333333333,
          3.4583333333333335,
          3.6666666666666665,
          3.5,
          3.6666666666666665,
          4.083333333333333,
          3.5416666666666665,
          3.75,
          3.75,
          3.7083333333333335,
          3.9166666666666665,
          4,
          3.0833333333333335,
          3.2916666666666665,
          2.3333333333333335,
          3.75,
          3.3958333333333335,
          3.375,
          4.041666666666667,
          3.472222222222222,
          3.1666666666666665,
          4.166666666666667,
          4.166666666666667,
          2.625,
          4.5,
          4.083333333333333,
          4,
          4.333333333333333,
          5.416666666666667,
          3.25,
          3.625,
          3.5833333333333335,
          2.7916666666666665,
          4,
          3.5833333333333335,
          3,
          4.75,
          4.333333333333333,
          3.4166666666666665,
          3.1666666666666665,
          2.5,
          4.208333333333333,
          2.9583333333333335,
          3,
          4.208333333333333,
          3.2916666666666665,
          4.125,
          3.9583333333333335,
          3.6666666666666665,
          3.5416666666666665,
          3.5,
          2.9166666666666665,
          3.2083333333333335,
          3.2083333333333335,
          3.25,
          3.3333333333333335,
          2.5,
          4.416666666666667,
          2.0833333333333335,
          4.333333333333333,
          2.3333333333333335,
          2.9166666666666665,
          3.2916666666666665,
          4,
          2.25,
          2.375,
          4.25,
          2.9166666666666665,
          3.4166666666666665,
          3.75,
          3.4166666666666665,
          2.7083333333333335,
          4.083333333333333,
          3.2916666666666665,
          4.208333333333333,
          3.2083333333333335,
          3.125,
          3.5,
          3.1666666666666665,
          3,
          2.75,
          3.6666666666666665,
          3.25,
          3.9166666666666665,
          2.5,
          2.9166666666666665,
          4.916666666666667,
          3.8333333333333335,
          3.8541666666666665,
          3.6666666666666665,
          4.916666666666667,
          4.291666666666667,
          3.625,
          3.25,
          3.0833333333333335,
          2.5833333333333335,
          2.5,
          4.25,
          4.166666666666667,
          3.375,
          3.4583333333333335,
          2.8333333333333335,
          3.3333333333333335,
          3.3333333333333335,
          3.3055555555555554,
          4.25,
          2.75,
          3,
          3.8333333333333335,
          3.75,
          4.666666666666667,
          4.25,
          3.9166666666666665,
          2.5833333333333335,
          2.75,
          3.0833333333333335,
          3.1666666666666665,
          3.25,
          2.75,
          4.833333333333333,
          3.5833333333333335,
          3.875,
          2.9166666666666665,
          3.25,
          3.5416666666666665,
          2.8333333333333335,
          3.0833333333333335,
          3.0833333333333335,
          3.9583333333333335,
          2.25,
          3.875,
          3.3333333333333335,
          4.666666666666667,
          2.5416666666666665,
          2.9166666666666665,
          3.1666666666666665,
          2.75,
          5.166666666666667,
          2.8611111111111116,
          3.4166666666666665,
          3.3333333333333335,
          3.875,
          2.5416666666666665,
          3.0833333333333335,
          5.916666666666667,
          4.166666666666667,
          3.5833333333333335,
          4.083333333333333,
          3.5833333333333335,
          3.2916666666666665,
          3.4166666666666665,
          3.5833333333333335,
          3.2916666666666665,
          3.0833333333333335,
          2.3333333333333335,
          1.6666666666666667,
          3.6666666666666665,
          4,
          4.666666666666667,
          4.575,
          3.625,
          3.625,
          3.5833333333333335,
          2.8333333333333335,
          4,
          3,
          2.4583333333333335,
          3.8333333333333335,
          3.8333333333333335,
          2.4583333333333335,
          2.3333333333333335,
          4.333333333333333,
          4.083333333333333,
          3.0833333333333335,
          3.25,
          3.3333333333333335,
          2.8333333333333335,
          2.625,
          3.5,
          2.444444444444444,
          3.5833333333333335,
          5.458333333333333,
          3.7916666666666665,
          5.166666666666667,
          3.5833333333333335,
          3.4166666666666665,
          4.625,
          3.25,
          2.7916666666666665,
          3.6666666666666665,
          3.4166666666666665,
          3.0833333333333335,
          4.083333333333333,
          2.6666666666666665,
          2.3333333333333335,
          3,
          3.25,
          3.25,
          2.6666666666666665,
          2.7083333333333335,
          2.75,
          3.75,
          3.5,
          2.4166666666666665,
          3.9166666666666665,
          2.4166666666666665,
          4.166666666666667,
          4,
          3.625,
          2.25
         ],
         "xaxis": "x",
         "y": [
          12.083333333333334,
          30.616666666666667,
          30.616666666666667,
          12.783333333333333,
          7.65,
          34.36666666666667,
          22.933333333333334,
          22.933333333333334,
          22.933333333333334,
          83.78333333333333,
          36.233333333333334,
          27.966666666666665,
          36.56666666666667,
          75.15277777777779,
          9.80888888888889,
          5.533333333333333,
          13.266666666666667,
          68.81666666666666,
          32.766666666666666,
          25.9,
          25.9,
          25.9,
          25.9,
          3.0166666666666666,
          15.766666666666667,
          21.083333333333332,
          15.25,
          14.694166666666666,
          15.860833333333334,
          5.3,
          26.616666666666667,
          2.466666666666667,
          10.7,
          41.916666666666664,
          18.183333333333334,
          27.466666666666665,
          19.266666666666666,
          51.28333333333333,
          12.316666666666666,
          32.53333333333333,
          6.8,
          9.1,
          49.13888888888889,
          7.45,
          3.45,
          8.516666666666667,
          21.5,
          20.675,
          8.35,
          5.483333333333333,
          31.866666666666667,
          5.216666666666667,
          3.933333333333333,
          3.933333333333333,
          3.933333333333333,
          7.55,
          7.2,
          50.166666666666664,
          35.85,
          11.65,
          43.766666666666666,
          7.333333333333333,
          25.033333333333335,
          9.3,
          23.383333333333333,
          70.85,
          27.683333333333334,
          3.1,
          16.066666666666666,
          19.483333333333334,
          23.05,
          63.778888888888886,
          56.43333333333333,
          48.266666666666666,
          56.96666666666667,
          49,
          8.289722222222222,
          53.65,
          22.983333333333334,
          5.383333333333334,
          54.03333333333333,
          6.216666666666667,
          6.333333333333333,
          10.45,
          10.45,
          12.783333333333333,
          31.066666666666666,
          10.75,
          10.75,
          10.75,
          10.75,
          21.966666666666665,
          11.283333333333333,
          46.86666666666667,
          33.95,
          7.75,
          27.166666666666668,
          25.55,
          3.410277777777778,
          61,
          36.78333333333333,
          52.416666666666664,
          11.333333333333334,
          21.483333333333334,
          21.333333333333332,
          12.561666666666667,
          12.561666666666667,
          7.7,
          26.16166666666667,
          1.3333333333333333,
          28.966666666666665,
          20.016666666666666,
          10.883333333333333,
          18.55,
          11.033333333333333,
          37.225,
          28.983333333333334,
          4.666666666666667,
          9.137222222222222,
          23.91166666666667,
          16.16166666666667,
          16.16166666666667,
          12.411666666666667,
          27.316666666666666,
          12.166666666666666,
          37.16861111111111,
          36.516666666666666,
          40.63333333333333,
          18.816666666666666,
          24.883333333333333,
          11.933333333333334,
          8.45,
          12.05,
          5.666666666666667,
          24.833333333333332,
          14.533333333333333,
          34.333333333333336,
          30.418611111111108,
          28.016666666666666,
          6.483333333333333,
          8.016666666666667,
          19.533333333333335,
          23.433333333333334,
          4.15,
          7.4,
          8.4,
          8.7675,
          8.066666666666666,
          7.25,
          24.416666666666668,
          28.016666666666666,
          15.25,
          9.65,
          36.3,
          19.6,
          9.45,
          9.45,
          6.783333333333333,
          4.333333333333333,
          19.900555555555556,
          6.033333333333333,
          27.183333333333334,
          35.274722222222216,
          18.11916666666667,
          16.9725,
          22.7,
          35.45,
          29.65,
          42.21666666666667,
          24.6,
          13.216666666666667,
          25.533333333333335,
          12.766666666666667,
          26.05,
          20.666666666666668,
          19.816666666666666,
          28.9925,
          47.583333333333336,
          24.05,
          24.05,
          32,
          23.65277777777778,
          13.783333333333333,
          6.716666666666667,
          10.033333333333333,
          9.066666666666666,
          10.7,
          42.016666666666666,
          23.966666666666665,
          8.499166666666666,
          13.883333333333333,
          13.883333333333333,
          22.516666666666666,
          6.816666666666666,
          6.816666666666666,
          4.6,
          8.516666666666667,
          2.5,
          1.5166666666666666,
          19.966666666666665,
          41.86666666666667,
          6.1,
          29.016666666666666,
          21.783333333333335,
          9.55,
          45.75,
          31.766666666666666,
          41.5,
          41.5,
          27.5,
          4.416666666666667,
          4.416666666666667,
          46.66361111111111,
          14.3,
          30.316666666666666,
          28.933333333333334,
          26.283333333333335,
          34.43333333333333,
          9.55,
          10.45,
          4.783333333333333,
          3.1333333333333333,
          34.15,
          34.233333333333334,
          10.566666666666666,
          5.333333333333333,
          21.05,
          22.25,
          20.4,
          9.383333333333333,
          37.05,
          9.5,
          3.8333333333333335,
          21.35,
          4.666666666666667,
          18.133333333333333,
          14.466666666666667,
          27.833333333333332,
          21.35,
          21.35,
          30.316666666666666,
          23.883333333333333,
          11.316666666666666,
          45.9,
          8.233333333333333,
          13.55,
          19.233333333333334,
          14.583333333333334,
          26.135277777777777,
          33.70194444444444,
          21.516666666666666,
          21.516666666666666,
          29.9,
          12.416666666666666,
          12.416666666666666,
          18.33111111111111,
          11.664444444444445,
          30.675,
          10.897777777777778,
          25.941666666666666,
          19.447777777777777,
          21.883333333333333,
          22.633333333333333,
          35.166666666666664,
          35.166666666666664,
          35.166666666666664,
          17.016666666666666,
          11.666666666666666,
          4.066666666666666,
          4.066666666666666,
          4.066666666666666,
          31.683333333333334,
          31.683333333333334,
          31.683333333333334,
          13.016666666666667,
          21.3,
          27.783333333333335,
          12.383333333333333,
          24.083333333333332,
          13.766666666666667,
          10.991666666666667,
          10.966666666666667,
          17.18027777777778,
          20.066666666666666,
          3.5166666666666666,
          5.016666666666667,
          9.383333333333333,
          1.05,
          30.25,
          37.47388888888889,
          5.65,
          38.8,
          24.183333333333334,
          32.00805555555556,
          35.5275,
          46.91416666666667,
          7.75,
          5.85,
          4.9,
          31.083333333333332,
          5.066666666666666,
          6.5,
          8.85,
          13.55,
          5.933333333333334,
          24.3,
          26.466666666666665,
          23.883333333333333,
          60.06666666666667,
          11.783333333333333,
          13.716666666666667,
          31.483333333333334,
          19.566666666666666,
          14.45,
          37.766666666666666,
          8.666666666666666,
          21.483333333333334,
          27.683333333333334,
          26.416666666666668,
          13.972222222222223,
          8.65,
          5.416666666666667,
          26.7,
          45.04611111111112,
          3.85,
          34.666666666666664,
          18,
          3.8333333333333335,
          28.083333333333332,
          2.05,
          14.45,
          14.55,
          12.8,
          12.8,
          12.683333333333334,
          9.551388888888889,
          15.616666666666667,
          1.45,
          10.4,
          5.216666666666667,
          23.633333333333333,
          23.633333333333333,
          3.1666666666666665,
          40.96666666666667,
          11.083333333333334,
          31.583333333333332,
          8.883333333333333,
          9.233333333333333,
          37.93333333333333,
          37.93333333333333,
          10.872222222222224,
          23.016666666666666,
          17.766666666666666,
          24.333333333333332,
          5.937777777777778,
          19.860833333333336,
          4.443611111111111,
          5.65,
          11.416666666666666,
          31.95,
          3.1333333333333333,
          22.9,
          7.5,
          11.066666666666666,
          22.316666666666666,
          30.25,
          7.366666666666666,
          23.466666666666665,
          54.28333333333333,
          24.5,
          27.1,
          23.683333333333334,
          4.05,
          17.866666666666667,
          9,
          4.616666666666666,
          9.033333333333333,
          3.1333333333333333,
          2.2,
          10.15,
          4.15,
          4.35,
          1.1166666666666667,
          9.766666666666667,
          14.366666666666667,
          8.683333333333334,
          5.966666666666667,
          4.363333333333333,
          30.466666666666665,
          2.1666666666666665,
          12.116666666666667,
          3.1,
          6.35,
          6.35,
          7.85,
          9.3,
          3.2,
          8.716666666666667,
          2.05,
          23.783333333333335,
          7.65,
          7.183333333333334,
          1.55,
          5.083333333333333,
          9.6175,
          6.3,
          10.166666666666666,
          8.3,
          16.85,
          4.183333333333334,
          18.016666666666666,
          10.95,
          5.033333333333333,
          44.8,
          11.283333333333333,
          22.683333333333334,
          6.5,
          3.9166666666666665,
          24.7,
          11.916666666666666,
          8.966666666666667,
          9.216666666666667,
          9.516666666666667,
          5.4,
          23.083333333333332,
          7.483333333333333,
          20.05,
          6.816666666666666,
          33.88333333333333,
          41.10805555555555,
          9.7,
          2.9833333333333334,
          5,
          30.446666666666665,
          3.546666666666667,
          11.366666666666667,
          53.45,
          41,
          38.233333333333334,
          18.566666666666666,
          28.016666666666666,
          5.666666666666667,
          8.55,
          27.783333333333335,
          28.936666666666667,
          42.6625,
          8.829166666666667,
          10.370555555555557,
          13.287222222222223,
          7.647222222222222,
          14.816666666666666,
          20.75,
          5.4,
          12.066666666666666,
          15.016666666666667,
          4.183333333333334,
          9.166666666666666,
          10.95,
          27.366666666666667,
          19.883333333333333,
          19.883333333333333,
          35.51833333333333,
          36.85222222222222,
          77.63555555555556,
          10.552222222222222,
          72.13333333333334,
          65.9,
          64.83333333333333,
          64.83333333333333,
          34.5,
          15.75,
          23.95,
          27.433333333333334,
          20.666666666666668,
          26.933333333333334,
          18.45,
          24.716666666666665,
          42.65,
          21.466666666666665,
          22.3,
          30.483333333333334,
          13.683333333333334,
          22.333333333333332,
          24.783333333333335,
          24.783333333333335,
          22.833333333333332,
          23.233333333333334,
          27.75,
          21.6,
          27.683333333333334,
          5.616666666666666,
          32.03333333333333,
          2.2,
          18.8,
          18.8,
          11.383333333333333,
          8.483333333333333,
          33.483333333333334,
          33.583333333333336,
          29.273333333333333,
          23.9,
          20.166666666666668,
          31.883333333333333,
          4.416666666666667,
          8.094722222222222,
          21.066666666666666,
          13.766666666666667,
          13.766666666666667,
          17.333333333333332,
          12.316666666666666,
          12.316666666666666,
          27.5,
          7.133333333333334,
          10.133333333333333,
          30.35,
          28.166666666666668,
          20.466666666666665,
          4.166666666666667,
          9.733333333333333,
          26.233333333333334,
          6.666666666666667,
          26.223333333333336,
          26.683333333333334,
          10.5,
          33.28333333333333,
          7.25,
          21.883333333333333,
          21.883333333333333,
          64.68333333333334,
          64.68333333333334,
          14.683333333333334,
          14.683333333333334,
          19.683333333333334,
          19.683333333333334,
          2.033333333333333,
          10.716666666666667,
          5.716666666666667,
          5.716666666666667,
          5.716666666666667,
          29.85,
          6.516666666666667,
          6.516666666666667,
          6.516666666666667,
          20.266666666666666,
          20.266666666666666,
          6.783333333333333,
          6.783333333333333,
          6.783333333333333,
          11.966666666666667,
          5.666666666666667,
          21.766666666666666,
          21.766666666666666,
          21.766666666666666,
          13.5,
          13.5,
          9.216666666666667,
          3.3833333333333333,
          25.683333333333334,
          40.35,
          40.35,
          40.35,
          40.35,
          12.7,
          12.7,
          8.633333333333333,
          13.65,
          13.65,
          7.733333333333333,
          5.766666666666667,
          12.566666666666666,
          10.75,
          18,
          8.466666666666667,
          11.968055555555557,
          42.666666666666664,
          27.416666666666668,
          6.866666666666666,
          10.724722222222223,
          8.670555555555556,
          13.75,
          34.11666666666667,
          23.6,
          30.933333333333334,
          32.166666666666664,
          29.45,
          29.45,
          37.733333333333334,
          31.883333333333333,
          68.63333333333334,
          33.21666666666667,
          33.21666666666667,
          34.266666666666666,
          29.083333333333332,
          10.433333333333334,
          36.46666666666667,
          3.0833333333333335,
          12.416666666666666,
          52.36666666666667,
          15.55,
          14.205555555555556,
          14.205555555555556,
          33.38333333333333,
          21.341666666666665,
          21.341666666666665,
          43.608333333333334,
          42.65805555555555,
          52.8975,
          31.095277777777778,
          31.095277777777778,
          18.733333333333334,
          18.733333333333334,
          27.583333333333332,
          10.483333333333333,
          27.583333333333332,
          23.883333333333333,
          1.9333333333333333,
          11.366666666666667,
          8.65,
          9,
          3.316666666666667,
          2.75,
          9.383333333333333,
          13.866666666666667,
          29.035,
          8.383333333333333,
          27.933333333333334,
          27.033333333333335,
          6.666666666666667,
          12.13888888888889,
          12.13888888888889,
          22.116666666666667,
          6.033333333333333,
          6.666666666666667,
          23.25,
          9.666666666666666,
          18.416666666666668,
          8.083333333333334,
          9.066666666666666,
          8.9,
          42.46666666666667,
          27.3,
          2.566666666666667,
          26,
          10.75,
          19.683333333333334,
          20.483333333333334,
          27.166666666666668,
          26.95,
          27.7,
          13.116666666666667,
          21.983333333333334,
          22.383333333333333,
          22.983333333333334,
          44.11666666666667,
          44.11666666666667,
          44.11666666666667,
          44.11666666666667,
          4.45,
          4.45,
          8.866666666666667,
          5.133333333333334,
          12.383333333333333,
          12.466666666666667,
          22.54388888888889,
          4.010555555555555,
          4.010555555555555,
          6.0938888888888885,
          27.8,
          1.943888888888889,
          8.55,
          7.760555555555555,
          34.4,
          27.766666666666666,
          27.766666666666666,
          27.766666666666666,
          32.8,
          54.2,
          64.28333333333333,
          15.85,
          26.433333333333334,
          22.133333333333333,
          12.333333333333334,
          6.75,
          7.45,
          4.9,
          6.066666666666666,
          5.966666666666667,
          6.283333333333333,
          10.666666666666666,
          27.09138888888889,
          1.9833333333333334,
          25.783333333333335,
          14.183333333333334,
          42.93333333333333,
          18.916666666666668,
          9.55,
          9.55,
          14.935277777777777,
          44.083333333333336,
          13.766666666666667,
          8.166666666666666,
          39.558055555555555,
          23.233333333333334,
          10.12638888888889,
          11.333333333333334,
          32.54527777777778,
          5.616666666666666,
          29.958055555555557,
          5.058055555555556,
          22.64138888888889,
          7.914722222222222,
          1.291388888888889,
          20.508055555555554,
          4.508055555555556,
          5.4413888888888895,
          9.363611111111112,
          24.758055555555554,
          7.2747222222222225,
          5.358055555555556,
          13.108055555555556,
          33.82472222222222,
          28.016666666666666,
          5.766666666666667,
          21.05,
          9.783333333333333,
          28.733333333333334,
          31.6,
          5.3,
          27.833333333333332,
          50.24444444444444,
          6.783333333333333,
          6.4,
          7.191111111111111,
          42.99444444444444,
          45,
          36.75,
          39.661944444444444,
          18.816666666666666,
          7.8,
          4.913333333333333,
          2.7666666666666666,
          10.05,
          3.4833333333333334,
          8.233333333333333,
          5.75,
          25.633333333333333,
          4.833333333333333,
          4.9,
          11.416666666666666,
          72.96666666666667,
          23.933333333333334,
          5.35,
          7.05,
          26.316666666666666,
          3.5166666666666666,
          41.21666666666667,
          8.116666666666667,
          31.414166666666667,
          25.766666666666666,
          32.75,
          39.11666666666667,
          28.333333333333332,
          7.083333333333333,
          3.966666666666667,
          25.683333333333334,
          25.25,
          16.166666666666668,
          18.55,
          34.45,
          19.505555555555553,
          12.83888888888889,
          10.205555555555556,
          24.805555555555554,
          14.28888888888889,
          45.46666666666667,
          20.688888888888886,
          9.211666666666668,
          24.17222222222222,
          14.93888888888889,
          32.96666666666667,
          21.973055555555558,
          20.205555555555556,
          20.62222222222222,
          3.5,
          35.78333333333333,
          22.05,
          20.133333333333333,
          12.633333333333333,
          14.583333333333334,
          41.03333333333333,
          32.333333333333336,
          40.48277777777778,
          33.79944444444445,
          21.65,
          4.883333333333334,
          31.5,
          26.266666666666666,
          29.57305555555556,
          52.98972222222222,
          33.323055555555555,
          61.6,
          7.439722222222222,
          51.256388888888885,
          36.742222222222225,
          10.1,
          27.799444444444443,
          26.633333333333333,
          9.733333333333333,
          28.866666666666667,
          18.45,
          3.3666666666666667,
          6.183333333333334,
          50.3,
          7.683333333333334,
          45.27777777777778,
          8.250277777777777,
          21.166944444444443,
          34.30027777777778,
          40.816944444444445,
          36.93361111111111,
          35.91694444444445,
          28.924722222222222,
          29.916944444444443,
          46.48361111111112,
          32.95027777777778,
          36.58361111111112,
          61.666666666666664,
          10.4,
          54.516666666666666,
          32.516666666666666,
          37.2,
          42.25,
          31.566666666666666,
          31.683333333333334,
          29.083333333333332,
          36.733333333333334,
          34.78333333333333,
          34.78333333333333,
          34.78333333333333,
          57.75,
          35.31666666666667,
          32.416666666666664,
          8.70138888888889,
          26.366666666666667,
          12.433333333333334,
          6.266666666666667,
          16.00138888888889,
          21.716666666666665,
          18.75,
          4.933333333333334,
          21.966666666666665,
          8.25,
          30.775277777777777,
          4.45,
          28.70777777777778,
          13.633333333333333,
          20.9,
          20.516666666666666,
          20.616666666666667,
          6.769444444444445,
          23.472777777777775,
          8.616666666666667,
          34.233333333333334,
          14.65,
          14.883333333333333,
          22.1,
          31.982777777777777,
          25.066666666666666,
          56.227777777777774,
          33.53333333333333,
          24.833333333333332,
          23.896944444444443,
          14.540277777777778,
          44.1775,
          11.317499999999999,
          20.566666666666666,
          19.966666666666665,
          26.916666666666668,
          23.466666666666665,
          19.883333333333333,
          18.266666666666666,
          23.883333333333333,
          20.433333333333334,
          25.05,
          38.00805555555555,
          29.75,
          34.025,
          7.4,
          16.716666666666665,
          14.683333333333334,
          14.683333333333334,
          47.56666666666667,
          32.18333333333333,
          5.566666666666666,
          29.95,
          32.81666666666667,
          2.6166666666666667,
          28.716666666666665,
          29.35,
          30.2,
          26.366666666666667,
          42.516666666666666,
          10.083333333333334,
          22.633333333333333,
          14.2,
          8.183333333333334,
          41.416666666666664,
          11.783333333333333,
          24.733333333333334,
          49.66388888888889,
          47.21388888888889,
          22.563888888888886,
          20.29722222222222,
          14.047222222222222,
          40.76388888888889,
          18.96388888888889,
          18.96388888888889,
          39.96388888888889,
          23.780555555555555,
          36.74722222222223,
          34.73055555555556,
          37.41388888888889,
          22.94722222222222,
          30.26388888888889,
          22.34722222222222,
          22.230555555555554,
          23.780555555555555,
          21.96388888888889,
          21.680555555555554,
          18.68111111111111,
          55.78916666666667,
          2.705833333333333,
          45.44694444444444,
          2.15,
          7.183333333333334,
          11.083333333333334,
          37.916666666666664,
          4.816666666666666,
          8.1225,
          29.836111111111112,
          19.436111111111114,
          15.288055555555555,
          28.769444444444446,
          14.702777777777778,
          8.73611111111111,
          37.78611111111111,
          10.779166666666667,
          34.169444444444444,
          14.416666666666666,
          20.566666666666666,
          28.166666666666668,
          25.066666666666666,
          19.29416666666667,
          7.55,
          31.233333333333334,
          23.92972222222222,
          27.463055555555556,
          10.096388888888889,
          5.216666666666667,
          50.18333333333333,
          29.7,
          29.7,
          29.7,
          45.016666666666666,
          33.95,
          20.066666666666666,
          15.816666666666666,
          15.816666666666666,
          7.033333333333333,
          4,
          46.33555555555555,
          48.96361111111111,
          17.116666666666667,
          27.366666666666667,
          7.433333333333334,
          12.783333333333333,
          12.783333333333333,
          14.251944444444444,
          28.683333333333334,
          3.8833333333333333,
          10.9,
          23.166666666666668,
          23.166666666666668,
          51.2,
          30.866666666666667,
          25.516666666666666,
          7.283333333333333,
          5.239444444444445,
          14.416666666666666,
          9.493055555555555,
          8,
          4.366666666666666,
          30.25,
          45.71666666666667,
          25.95,
          10.55,
          10.233333333333333,
          10.133333333333333,
          13.716666666666667,
          10.716666666666667,
          9.516666666666667,
          42.05,
          4.666666666666667,
          13.616666666666667,
          9.983333333333333,
          28.833333333333332,
          4.1,
          11.316666666666666,
          21.083333333333332,
          6.783333333333333,
          54.76416666666667,
          7.75,
          18.85,
          19.833333333333332,
          13.8,
          2.05,
          10.266666666666667,
          60.416666666666664,
          34.2,
          25.8,
          43.733333333333334,
          38.5,
          38.5,
          12.483333333333333,
          24.091666666666665,
          15.7,
          9.926388888888889,
          4.075277777777778,
          1.251111111111111,
          12.65,
          41.266666666666666,
          27.683333333333334,
          27.683333333333334,
          21.033333333333335,
          21.266666666666666,
          21.266666666666666,
          11.75,
          21,
          22.983333333333334,
          3.7083333333333335,
          23.2,
          20.95,
          2.2,
          3.15,
          23.95,
          23.95,
          18.3,
          9.2,
          27.35,
          9.366666666666667,
          9.916666666666666,
          19.016666666666666,
          4.266666666666667,
          18.983333333333334,
          34.75,
          21.833333333333332,
          30.866666666666667,
          24,
          18.083333333333332,
          28.4,
          7.35,
          4.166666666666667,
          22.566666666666666,
          22.15,
          17.266666666666666,
          26.55,
          10.266666666666667,
          7.5,
          19.466666666666665,
          10.9,
          11.883333333333333,
          5.616666666666666,
          6.316666666666666,
          4.066666666666666,
          14.316666666666666,
          21.35,
          2.716666666666667,
          22.9,
          3.5166666666666666,
          53.166666666666664,
          26.55,
          70.6913888888889,
          4.433333333333334
         ],
         "yaxis": "y"
        }
       ],
       "layout": {
        "legend": {
         "tracegroupgap": 0
        },
        "margin": {
         "t": 60
        },
        "shapes": [
         {
          "line": {
           "color": "red",
           "dash": "dash"
          },
          "type": "line",
          "x0": 0,
          "x1": 83.78333333333333,
          "xref": "x",
          "y0": 0,
          "y1": 83.78333333333333,
          "yref": "y"
         }
        ],
        "template": {
         "data": {
          "bar": [
           {
            "error_x": {
             "color": "#2a3f5f"
            },
            "error_y": {
             "color": "#2a3f5f"
            },
            "marker": {
             "line": {
              "color": "#E5ECF6",
              "width": 0.5
             },
             "pattern": {
              "fillmode": "overlay",
              "size": 10,
              "solidity": 0.2
             }
            },
            "type": "bar"
           }
          ],
          "barpolar": [
           {
            "marker": {
             "line": {
              "color": "#E5ECF6",
              "width": 0.5
             },
             "pattern": {
              "fillmode": "overlay",
              "size": 10,
              "solidity": 0.2
             }
            },
            "type": "barpolar"
           }
          ],
          "carpet": [
           {
            "aaxis": {
             "endlinecolor": "#2a3f5f",
             "gridcolor": "white",
             "linecolor": "white",
             "minorgridcolor": "white",
             "startlinecolor": "#2a3f5f"
            },
            "baxis": {
             "endlinecolor": "#2a3f5f",
             "gridcolor": "white",
             "linecolor": "white",
             "minorgridcolor": "white",
             "startlinecolor": "#2a3f5f"
            },
            "type": "carpet"
           }
          ],
          "choropleth": [
           {
            "colorbar": {
             "outlinewidth": 0,
             "ticks": ""
            },
            "type": "choropleth"
           }
          ],
          "contour": [
           {
            "colorbar": {
             "outlinewidth": 0,
             "ticks": ""
            },
            "colorscale": [
             [
              0,
              "#0d0887"
             ],
             [
              0.1111111111111111,
              "#46039f"
             ],
             [
              0.2222222222222222,
              "#7201a8"
             ],
             [
              0.3333333333333333,
              "#9c179e"
             ],
             [
              0.4444444444444444,
              "#bd3786"
             ],
             [
              0.5555555555555556,
              "#d8576b"
             ],
             [
              0.6666666666666666,
              "#ed7953"
             ],
             [
              0.7777777777777778,
              "#fb9f3a"
             ],
             [
              0.8888888888888888,
              "#fdca26"
             ],
             [
              1,
              "#f0f921"
             ]
            ],
            "type": "contour"
           }
          ],
          "contourcarpet": [
           {
            "colorbar": {
             "outlinewidth": 0,
             "ticks": ""
            },
            "type": "contourcarpet"
           }
          ],
          "heatmap": [
           {
            "colorbar": {
             "outlinewidth": 0,
             "ticks": ""
            },
            "colorscale": [
             [
              0,
              "#0d0887"
             ],
             [
              0.1111111111111111,
              "#46039f"
             ],
             [
              0.2222222222222222,
              "#7201a8"
             ],
             [
              0.3333333333333333,
              "#9c179e"
             ],
             [
              0.4444444444444444,
              "#bd3786"
             ],
             [
              0.5555555555555556,
              "#d8576b"
             ],
             [
              0.6666666666666666,
              "#ed7953"
             ],
             [
              0.7777777777777778,
              "#fb9f3a"
             ],
             [
              0.8888888888888888,
              "#fdca26"
             ],
             [
              1,
              "#f0f921"
             ]
            ],
            "type": "heatmap"
           }
          ],
          "heatmapgl": [
           {
            "colorbar": {
             "outlinewidth": 0,
             "ticks": ""
            },
            "colorscale": [
             [
              0,
              "#0d0887"
             ],
             [
              0.1111111111111111,
              "#46039f"
             ],
             [
              0.2222222222222222,
              "#7201a8"
             ],
             [
              0.3333333333333333,
              "#9c179e"
             ],
             [
              0.4444444444444444,
              "#bd3786"
             ],
             [
              0.5555555555555556,
              "#d8576b"
             ],
             [
              0.6666666666666666,
              "#ed7953"
             ],
             [
              0.7777777777777778,
              "#fb9f3a"
             ],
             [
              0.8888888888888888,
              "#fdca26"
             ],
             [
              1,
              "#f0f921"
             ]
            ],
            "type": "heatmapgl"
           }
          ],
          "histogram": [
           {
            "marker": {
             "pattern": {
              "fillmode": "overlay",
              "size": 10,
              "solidity": 0.2
             }
            },
            "type": "histogram"
           }
          ],
          "histogram2d": [
           {
            "colorbar": {
             "outlinewidth": 0,
             "ticks": ""
            },
            "colorscale": [
             [
              0,
              "#0d0887"
             ],
             [
              0.1111111111111111,
              "#46039f"
             ],
             [
              0.2222222222222222,
              "#7201a8"
             ],
             [
              0.3333333333333333,
              "#9c179e"
             ],
             [
              0.4444444444444444,
              "#bd3786"
             ],
             [
              0.5555555555555556,
              "#d8576b"
             ],
             [
              0.6666666666666666,
              "#ed7953"
             ],
             [
              0.7777777777777778,
              "#fb9f3a"
             ],
             [
              0.8888888888888888,
              "#fdca26"
             ],
             [
              1,
              "#f0f921"
             ]
            ],
            "type": "histogram2d"
           }
          ],
          "histogram2dcontour": [
           {
            "colorbar": {
             "outlinewidth": 0,
             "ticks": ""
            },
            "colorscale": [
             [
              0,
              "#0d0887"
             ],
             [
              0.1111111111111111,
              "#46039f"
             ],
             [
              0.2222222222222222,
              "#7201a8"
             ],
             [
              0.3333333333333333,
              "#9c179e"
             ],
             [
              0.4444444444444444,
              "#bd3786"
             ],
             [
              0.5555555555555556,
              "#d8576b"
             ],
             [
              0.6666666666666666,
              "#ed7953"
             ],
             [
              0.7777777777777778,
              "#fb9f3a"
             ],
             [
              0.8888888888888888,
              "#fdca26"
             ],
             [
              1,
              "#f0f921"
             ]
            ],
            "type": "histogram2dcontour"
           }
          ],
          "mesh3d": [
           {
            "colorbar": {
             "outlinewidth": 0,
             "ticks": ""
            },
            "type": "mesh3d"
           }
          ],
          "parcoords": [
           {
            "line": {
             "colorbar": {
              "outlinewidth": 0,
              "ticks": ""
             }
            },
            "type": "parcoords"
           }
          ],
          "pie": [
           {
            "automargin": true,
            "type": "pie"
           }
          ],
          "scatter": [
           {
            "fillpattern": {
             "fillmode": "overlay",
             "size": 10,
             "solidity": 0.2
            },
            "type": "scatter"
           }
          ],
          "scatter3d": [
           {
            "line": {
             "colorbar": {
              "outlinewidth": 0,
              "ticks": ""
             }
            },
            "marker": {
             "colorbar": {
              "outlinewidth": 0,
              "ticks": ""
             }
            },
            "type": "scatter3d"
           }
          ],
          "scattercarpet": [
           {
            "marker": {
             "colorbar": {
              "outlinewidth": 0,
              "ticks": ""
             }
            },
            "type": "scattercarpet"
           }
          ],
          "scattergeo": [
           {
            "marker": {
             "colorbar": {
              "outlinewidth": 0,
              "ticks": ""
             }
            },
            "type": "scattergeo"
           }
          ],
          "scattergl": [
           {
            "marker": {
             "colorbar": {
              "outlinewidth": 0,
              "ticks": ""
             }
            },
            "type": "scattergl"
           }
          ],
          "scattermapbox": [
           {
            "marker": {
             "colorbar": {
              "outlinewidth": 0,
              "ticks": ""
             }
            },
            "type": "scattermapbox"
           }
          ],
          "scatterpolar": [
           {
            "marker": {
             "colorbar": {
              "outlinewidth": 0,
              "ticks": ""
             }
            },
            "type": "scatterpolar"
           }
          ],
          "scatterpolargl": [
           {
            "marker": {
             "colorbar": {
              "outlinewidth": 0,
              "ticks": ""
             }
            },
            "type": "scatterpolargl"
           }
          ],
          "scatterternary": [
           {
            "marker": {
             "colorbar": {
              "outlinewidth": 0,
              "ticks": ""
             }
            },
            "type": "scatterternary"
           }
          ],
          "surface": [
           {
            "colorbar": {
             "outlinewidth": 0,
             "ticks": ""
            },
            "colorscale": [
             [
              0,
              "#0d0887"
             ],
             [
              0.1111111111111111,
              "#46039f"
             ],
             [
              0.2222222222222222,
              "#7201a8"
             ],
             [
              0.3333333333333333,
              "#9c179e"
             ],
             [
              0.4444444444444444,
              "#bd3786"
             ],
             [
              0.5555555555555556,
              "#d8576b"
             ],
             [
              0.6666666666666666,
              "#ed7953"
             ],
             [
              0.7777777777777778,
              "#fb9f3a"
             ],
             [
              0.8888888888888888,
              "#fdca26"
             ],
             [
              1,
              "#f0f921"
             ]
            ],
            "type": "surface"
           }
          ],
          "table": [
           {
            "cells": {
             "fill": {
              "color": "#EBF0F8"
             },
             "line": {
              "color": "white"
             }
            },
            "header": {
             "fill": {
              "color": "#C8D4E3"
             },
             "line": {
              "color": "white"
             }
            },
            "type": "table"
           }
          ]
         },
         "layout": {
          "annotationdefaults": {
           "arrowcolor": "#2a3f5f",
           "arrowhead": 0,
           "arrowwidth": 1
          },
          "autotypenumbers": "strict",
          "coloraxis": {
           "colorbar": {
            "outlinewidth": 0,
            "ticks": ""
           }
          },
          "colorscale": {
           "diverging": [
            [
             0,
             "#8e0152"
            ],
            [
             0.1,
             "#c51b7d"
            ],
            [
             0.2,
             "#de77ae"
            ],
            [
             0.3,
             "#f1b6da"
            ],
            [
             0.4,
             "#fde0ef"
            ],
            [
             0.5,
             "#f7f7f7"
            ],
            [
             0.6,
             "#e6f5d0"
            ],
            [
             0.7,
             "#b8e186"
            ],
            [
             0.8,
             "#7fbc41"
            ],
            [
             0.9,
             "#4d9221"
            ],
            [
             1,
             "#276419"
            ]
           ],
           "sequential": [
            [
             0,
             "#0d0887"
            ],
            [
             0.1111111111111111,
             "#46039f"
            ],
            [
             0.2222222222222222,
             "#7201a8"
            ],
            [
             0.3333333333333333,
             "#9c179e"
            ],
            [
             0.4444444444444444,
             "#bd3786"
            ],
            [
             0.5555555555555556,
             "#d8576b"
            ],
            [
             0.6666666666666666,
             "#ed7953"
            ],
            [
             0.7777777777777778,
             "#fb9f3a"
            ],
            [
             0.8888888888888888,
             "#fdca26"
            ],
            [
             1,
             "#f0f921"
            ]
           ],
           "sequentialminus": [
            [
             0,
             "#0d0887"
            ],
            [
             0.1111111111111111,
             "#46039f"
            ],
            [
             0.2222222222222222,
             "#7201a8"
            ],
            [
             0.3333333333333333,
             "#9c179e"
            ],
            [
             0.4444444444444444,
             "#bd3786"
            ],
            [
             0.5555555555555556,
             "#d8576b"
            ],
            [
             0.6666666666666666,
             "#ed7953"
            ],
            [
             0.7777777777777778,
             "#fb9f3a"
            ],
            [
             0.8888888888888888,
             "#fdca26"
            ],
            [
             1,
             "#f0f921"
            ]
           ]
          },
          "colorway": [
           "#636efa",
           "#EF553B",
           "#00cc96",
           "#ab63fa",
           "#FFA15A",
           "#19d3f3",
           "#FF6692",
           "#B6E880",
           "#FF97FF",
           "#FECB52"
          ],
          "font": {
           "color": "#2a3f5f"
          },
          "geo": {
           "bgcolor": "white",
           "lakecolor": "white",
           "landcolor": "#E5ECF6",
           "showlakes": true,
           "showland": true,
           "subunitcolor": "white"
          },
          "hoverlabel": {
           "align": "left"
          },
          "hovermode": "closest",
          "mapbox": {
           "style": "light"
          },
          "paper_bgcolor": "white",
          "plot_bgcolor": "#E5ECF6",
          "polar": {
           "angularaxis": {
            "gridcolor": "white",
            "linecolor": "white",
            "ticks": ""
           },
           "bgcolor": "#E5ECF6",
           "radialaxis": {
            "gridcolor": "white",
            "linecolor": "white",
            "ticks": ""
           }
          },
          "scene": {
           "xaxis": {
            "backgroundcolor": "#E5ECF6",
            "gridcolor": "white",
            "gridwidth": 2,
            "linecolor": "white",
            "showbackground": true,
            "ticks": "",
            "zerolinecolor": "white"
           },
           "yaxis": {
            "backgroundcolor": "#E5ECF6",
            "gridcolor": "white",
            "gridwidth": 2,
            "linecolor": "white",
            "showbackground": true,
            "ticks": "",
            "zerolinecolor": "white"
           },
           "zaxis": {
            "backgroundcolor": "#E5ECF6",
            "gridcolor": "white",
            "gridwidth": 2,
            "linecolor": "white",
            "showbackground": true,
            "ticks": "",
            "zerolinecolor": "white"
           }
          },
          "shapedefaults": {
           "line": {
            "color": "#2a3f5f"
           }
          },
          "ternary": {
           "aaxis": {
            "gridcolor": "white",
            "linecolor": "white",
            "ticks": ""
           },
           "baxis": {
            "gridcolor": "white",
            "linecolor": "white",
            "ticks": ""
           },
           "bgcolor": "#E5ECF6",
           "caxis": {
            "gridcolor": "white",
            "linecolor": "white",
            "ticks": ""
           }
          },
          "title": {
           "x": 0.05
          },
          "xaxis": {
           "automargin": true,
           "gridcolor": "white",
           "linecolor": "white",
           "ticks": "",
           "title": {
            "standoff": 15
           },
           "zerolinecolor": "white",
           "zerolinewidth": 2
          },
          "yaxis": {
           "automargin": true,
           "gridcolor": "white",
           "linecolor": "white",
           "ticks": "",
           "title": {
            "standoff": 15
           },
           "zerolinecolor": "white",
           "zerolinewidth": 2
          }
         }
        },
        "title": {
         "text": "Comparison of Flight Time vs Train Time in Hours"
        },
        "xaxis": {
         "anchor": "y",
         "domain": [
          0,
          1
         ],
         "title": {
          "text": "Flight Time (hours, including 90min extra)"
         }
        },
        "yaxis": {
         "anchor": "x",
         "domain": [
          0,
          1
         ],
         "title": {
          "text": "Train Time (hours)"
         }
        }
       }
      }
     },
     "metadata": {},
     "output_type": "display_data"
    }
   ],
   "source": [
    "scatter_fig = px.scatter(merged_data, x='flight_time_hours_with_extra', y='train_time_hours', hover_data=['arrival city', 'departure city'])\n",
    "scatter_fig.update_layout(title='Comparison of Flight Time vs Train Time in Hours',\n",
    "                          xaxis_title='Flight Time (hours, including 90min extra)',\n",
    "                          yaxis_title='Train Time (hours)')\n",
    "\n",
    "# Add line where flight time equals train time (y = x)\n",
    "scatter_fig.add_shape(\n",
    "    # Line representing y = x\n",
    "    type=\"line\",\n",
    "    line=dict(dash='dash', color='red'),\n",
    "    xref=\"x\", yref=\"y\",\n",
    "    x0=0, y0=0,  # Starting point of the line (bottom left)\n",
    "    x1=max(merged_data['flight_time_hours_with_extra'].max(), merged_data['train_time_hours'].max()),  # Use the max value from your data\n",
    "    y1=max(merged_data['flight_time_hours_with_extra'].max(), merged_data['train_time_hours'].max())   # Use the max value from your data\n",
    ")\n",
    "\n",
    "# Show the plot\n",
    "scatter_fig.show()"
   ]
  },
  {
   "attachments": {},
   "cell_type": "markdown",
   "metadata": {},
   "source": [
    "If we zoom in on the "
   ]
  },
  {
   "cell_type": "code",
   "execution_count": 173,
   "metadata": {},
   "outputs": [
    {
     "data": {
      "application/vnd.plotly.v1+json": {
       "config": {
        "plotlyServerURL": "https://plot.ly"
       },
       "data": [
        {
         "name": "Flight Time",
         "type": "box",
         "y": [
          2.9166666666666665,
          4.333333333333333,
          4.5,
          2.9166666666666665,
          3.0833333333333335,
          5,
          5.083333333333333,
          5.2638888888888875,
          4.25,
          6.916666666666667,
          4.916666666666667,
          5.5,
          5.583333333333333,
          5.333333333333333,
          2.3333333333333335,
          3.125,
          3.3333333333333335,
          5.333333333333333,
          4.916666666666667,
          4.25,
          4.583333333333333,
          4.375,
          4.416666666666667,
          2.8333333333333335,
          2.7916666666666665,
          2.5833333333333335,
          2.6666666666666665,
          2.3333333333333335,
          3.1666666666666665,
          2.6666666666666665,
          3.9166666666666665,
          2.6666666666666665,
          3.0833333333333335,
          4.916666666666667,
          3.0833333333333335,
          4.625,
          3.6666666666666665,
          5.166666666666667,
          3.875,
          3.2916666666666665,
          2.8333333333333335,
          2.75,
          4.833333333333333,
          2.9166666666666665,
          2.8333333333333335,
          2.8333333333333335,
          3.6666666666666665,
          3.3333333333333335,
          3.125,
          2.6666666666666665,
          4.166666666666667,
          2.8333333333333335,
          2.6666666666666665,
          2.9166666666666665,
          2.6666666666666665,
          3.1666666666666665,
          2.4166666666666665,
          4.208333333333333,
          4.583333333333333,
          2.8333333333333335,
          4.583333333333333,
          2.75,
          4.166666666666667,
          3.2083333333333335,
          3,
          5.916666666666667,
          4.25,
          2.5833333333333335,
          2.7916666666666665,
          3.75,
          3.1666666666666665,
          4.208333333333333,
          3.75,
          4.5,
          5,
          4.25,
          2.75,
          5.333333333333333,
          3.0833333333333335,
          2.388888888888889,
          4.25,
          3.0416666666666665,
          2.75,
          3.5,
          3.4166666666666665,
          3.0833333333333335,
          4.666666666666667,
          3.5833333333333335,
          3.9166666666666665,
          3.5833333333333335,
          3.7916666666666665,
          3.5,
          3.25,
          4.916666666666667,
          4.25,
          2.5833333333333335,
          4.041666666666667,
          4.083333333333333,
          2.4166666666666665,
          5.5,
          4.333333333333333,
          4.666666666666667,
          3,
          3.1666666666666665,
          3.1666666666666665,
          2.5833333333333335,
          2.75,
          2.375,
          3.75,
          1.8333333333333333,
          4.25,
          3.5,
          3,
          3,
          3.0416666666666665,
          3.9166666666666665,
          3.7916666666666665,
          2.75,
          3.2083333333333335,
          3.0416666666666665,
          2.9166666666666665,
          2.8333333333333335,
          2.5833333333333335,
          4.416666666666667,
          3.6666666666666665,
          5,
          3.8333333333333335,
          5.083333333333333,
          3.75,
          4,
          3.75,
          2.7083333333333335,
          3.3055555555555554,
          2.625,
          2.7916666666666665,
          3,
          4.5,
          3.5,
          4.125,
          2.75,
          3,
          3.027777777777778,
          3.9166666666666665,
          2.6666666666666665,
          2.9166666666666665,
          3.125,
          3.125,
          2.8333333333333335,
          2.875,
          3.6666666666666665,
          4.25,
          3.5833333333333335,
          3.375,
          3.5833333333333335,
          3.75,
          3.6666666666666665,
          3.75,
          2.9166666666666665,
          2.75,
          3.75,
          2.5,
          4.041666666666667,
          3.6666666666666665,
          3.6666666666666665,
          3.25,
          4,
          5.0625,
          3.9166666666666665,
          3.5,
          4.125,
          3.075,
          4.25,
          3,
          4.166666666666667,
          3.1666666666666665,
          3.5416666666666665,
          3.6666666666666665,
          3.875,
          4.333333333333333,
          4.125,
          4.916666666666667,
          3.6666666666666665,
          3.25,
          2.7083333333333335,
          2.7916666666666665,
          3.25,
          3.1666666666666665,
          3.7083333333333335,
          3.75,
          3.1666666666666665,
          4.25,
          4,
          4.25,
          3.25,
          3.1666666666666665,
          2.9166666666666665,
          3.25,
          2.9166666666666665,
          2.6666666666666665,
          3.8333333333333335,
          4.833333333333333,
          3.1666666666666665,
          4.666666666666667,
          4.041666666666667,
          2.4166666666666665,
          4.5,
          4.083333333333333,
          4.041666666666667,
          4.291666666666667,
          4.5,
          2.5833333333333335,
          2.6666666666666665,
          4.5,
          3.5,
          3.5833333333333335,
          3.527777777777778,
          3.6666666666666665,
          4.416666666666667,
          2.4166666666666665,
          3.4166666666666665,
          2.305555555555556,
          2.1666666666666665,
          5.166666666666667,
          4.833333333333333,
          2.9583333333333335,
          2.7083333333333335,
          3.4166666666666665,
          3.6666666666666665,
          3.5,
          2.9166666666666665,
          5.416666666666667,
          3,
          2.375,
          3.5625,
          2.5,
          3.1666666666666665,
          3.25,
          3,
          3.5833333333333335,
          3.4166666666666665,
          4.75,
          3.5,
          3.1666666666666665,
          4.916666666666667,
          2.75,
          3.1111111111111116,
          3.2083333333333335,
          3.25,
          3.3333333333333335,
          4,
          3.6666666666666665,
          3.5833333333333335,
          4.416666666666667,
          3.0833333333333335,
          2.9166666666666665,
          3.375,
          3.25,
          4.166666666666667,
          3.0833333333333335,
          3.8333333333333335,
          3.2916666666666665,
          4.291666666666667,
          5.125,
          4.583333333333333,
          4.416666666666667,
          4.75,
          3.1666666666666665,
          3.25,
          3.1041666666666665,
          3.0416666666666665,
          3,
          4.25,
          4.133333333333334,
          4.083333333333333,
          2.8333333333333335,
          3.3333333333333335,
          3.5833333333333335,
          3.25,
          3.6666666666666665,
          3.5833333333333335,
          3.0833333333333335,
          3.0833333333333335,
          3.2916666666666665,
          3.5833333333333335,
          2.4166666666666665,
          2.75,
          2.75,
          2.3333333333333335,
          3.8333333333333335,
          4.166666666666667,
          2.9166666666666665,
          4.583333333333333,
          4.166666666666667,
          4.208333333333333,
          3.9166666666666665,
          5,
          3.0833333333333335,
          2.6666666666666665,
          2.5833333333333335,
          4.833333333333333,
          2.5833333333333335,
          2.75,
          3.25,
          3.7916666666666665,
          2.9166666666666665,
          4.416666666666667,
          4.458333333333333,
          4.083333333333333,
          4.416666666666667,
          3.125,
          3.5,
          3.8333333333333335,
          3.6666666666666665,
          3.4166666666666665,
          4.416666666666667,
          2.9166666666666665,
          3.7916666666666665,
          4.5,
          4.25,
          2.5833333333333335,
          3.375,
          3.25,
          4.25,
          4.645833333333333,
          2.2916666666666665,
          4.125,
          4.083333333333333,
          2.5833333333333335,
          3.25,
          2.5,
          3.25,
          2.5833333333333335,
          3.625,
          3.4166666666666665,
          3.5,
          2.8333333333333335,
          3.6666666666666665,
          2.4166666666666665,
          3,
          2.5833333333333335,
          4,
          4.166666666666667,
          2.6666666666666665,
          4.583333333333333,
          3.0833333333333335,
          4.041666666666667,
          3,
          2.6666666666666665,
          3.8333333333333335,
          3.5,
          2.625,
          3.8333333333333335,
          3.3333333333333335,
          3.75,
          2.6666666666666665,
          2.8333333333333335,
          2.75,
          2.5833333333333335,
          3.2083333333333335,
          3.5833333333333335,
          2.5,
          3.9166666666666665,
          3.0833333333333335,
          3.3333333333333335,
          3.6666666666666665,
          3.9166666666666665,
          2.75,
          3.4166666666666665,
          4.333333333333333,
          3.75,
          4.583333333333333,
          4.25,
          2.75,
          3.7083333333333335,
          3,
          2.5,
          3.125,
          2.5,
          2.4166666666666665,
          3.1666666666666665,
          2.75,
          2.5833333333333335,
          2.3333333333333335,
          3.0416666666666665,
          3.25,
          2.9166666666666665,
          2.5833333333333335,
          2.625,
          4.166666666666667,
          2.25,
          3.125,
          2.5,
          3,
          3.25,
          2.7916666666666665,
          3.25,
          2.5833333333333335,
          2.8333333333333335,
          2.25,
          3.8333333333333335,
          3,
          2.6666666666666665,
          2.3333333333333335,
          2.5833333333333335,
          2.8333333333333335,
          2.9444444444444446,
          3.5,
          2.9166666666666665,
          3.0833333333333335,
          2.5,
          3.1666666666666665,
          3.5833333333333335,
          2.8333333333333335,
          5.416666666666667,
          2.75,
          3.75,
          2.9583333333333335,
          2.6666666666666665,
          4.166666666666667,
          3,
          3.3333333333333335,
          3.1666666666666665,
          3.25,
          2.8333333333333335,
          3.75,
          3.125,
          3.5833333333333335,
          2.75,
          3.75,
          3.7916666666666665,
          3.1666666666666665,
          2.4166666666666665,
          2.6666666666666665,
          4.833333333333333,
          2,
          2.5833333333333335,
          5.583333333333333,
          4.125,
          4.333333333333333,
          3.5416666666666665,
          3.4583333333333335,
          2.5416666666666665,
          2.7916666666666665,
          4.416666666666667,
          3.75,
          3.8333333333333335,
          2.6666666666666665,
          2.4166666666666665,
          2.75,
          2.3333333333333335,
          3.625,
          4.083333333333333,
          2.5833333333333335,
          3.5555555555555554,
          3.8333333333333335,
          2.4583333333333335,
          3.125,
          3.25,
          3.25,
          3.4166666666666665,
          4.305555555555556,
          2,
          4.75,
          6,
          2.7083333333333335,
          6.458333333333333,
          6.375,
          6.277777777777778,
          6.791666666666667,
          5.208333333333333,
          3.5,
          3.5,
          4.291666666666667,
          3.2916666666666665,
          4.041666666666667,
          3.25,
          3.75,
          3.9583333333333335,
          3.5,
          3.5,
          4.25,
          3.5,
          3.2916666666666665,
          4.083333333333333,
          3.9583333333333335,
          3.625,
          3.3333333333333335,
          3.7916666666666665,
          3.4166666666666665,
          4.166666666666667,
          2.5416666666666665,
          4.583333333333333,
          2.4166666666666665,
          3.8333333333333335,
          3.7083333333333335,
          2.3333333333333335,
          2.75,
          4.75,
          4.083333333333333,
          4.055555555555555,
          3.9583333333333335,
          3.8958333333333335,
          3.9166666666666665,
          2.5,
          2.6666666666666665,
          3.5,
          3.2916666666666665,
          3.2083333333333335,
          3.75,
          3.25,
          3.25,
          4.291666666666667,
          2.8333333333333335,
          3.5,
          4.541666666666667,
          4.041666666666667,
          3.6666666666666665,
          2.777777777777778,
          2.4166666666666665,
          3.3333333333333335,
          2.75,
          4.666666666666667,
          4.333333333333333,
          3.75,
          5.25,
          3.0833333333333335,
          4.166666666666667,
          3.9583333333333335,
          5.583333333333333,
          5.083333333333333,
          3.3333333333333335,
          3.0833333333333335,
          3.9166666666666665,
          3.5833333333333335,
          2.6944444444444446,
          3.1666666666666665,
          2.9166666666666665,
          2.75,
          2.8333333333333335,
          4.583333333333333,
          3.3333333333333335,
          3.2916666666666665,
          3.3333333333333335,
          3.625,
          3.375,
          3.2083333333333335,
          3.25,
          3.2916666666666665,
          3.5,
          3.375,
          3.9583333333333335,
          3.9166666666666665,
          4.083333333333333,
          3.6666666666666665,
          3.4583333333333335,
          3.6666666666666665,
          2.7916666666666665,
          3.9583333333333335,
          4.833333333333333,
          4.958333333333333,
          4.666666666666667,
          4.75,
          3.6666666666666665,
          3.5,
          3.4166666666666665,
          3.8333333333333335,
          3.75,
          3.2916666666666665,
          2.8333333333333335,
          3.4166666666666665,
          2.9166666666666665,
          2.875,
          3.0833333333333335,
          3.4166666666666665,
          4.583333333333333,
          3.9166666666666665,
          2.6666666666666665,
          3.1666666666666665,
          3.125,
          3.25,
          4.666666666666667,
          3.4583333333333335,
          3.4166666666666665,
          4.333333333333333,
          4.083333333333333,
          4.020833333333333,
          4.583333333333333,
          4.083333333333333,
          6.083333333333333,
          4.25,
          4.25,
          4.166666666666667,
          3.9166666666666665,
          2.8333333333333335,
          4.666666666666667,
          2.5,
          3.0416666666666665,
          5.666666666666667,
          2.8333333333333335,
          2.75,
          2.8333333333333335,
          4.583333333333333,
          3.8333333333333335,
          3.75,
          4.916666666666667,
          4.875,
          5.25,
          4.291666666666667,
          4.416666666666667,
          3.625,
          3.5833333333333335,
          4.208333333333333,
          2.75,
          4.166666666666667,
          4.583333333333333,
          2.7083333333333335,
          3.8333333333333335,
          3.4166666666666665,
          2.8333333333333335,
          2.75,
          2.9166666666666665,
          2.9166666666666665,
          3.9583333333333335,
          4.416666666666667,
          2.75,
          4.458333333333333,
          4.291666666666667,
          2.7916666666666665,
          2.5208333333333335,
          2.6666666666666665,
          4.208333333333333,
          2.9583333333333335,
          3.125,
          4.291666666666667,
          3.5833333333333335,
          3.4166666666666665,
          3.1666666666666665,
          3.4166666666666665,
          3.4444444444444446,
          4.375,
          4,
          2.5416666666666665,
          4.083333333333333,
          3.5833333333333335,
          3.6666666666666665,
          3.75,
          4.333333333333333,
          4.333333333333333,
          4.333333333333333,
          3.75,
          3.9166666666666665,
          3.9166666666666665,
          3.7916666666666665,
          4.583333333333333,
          4.75,
          4.291666666666667,
          4.833333333333333,
          2.6666666666666665,
          2.8333333333333335,
          3.5833333333333335,
          2.9583333333333335,
          3.5,
          3.0833333333333335,
          3.5,
          3.0833333333333335,
          2.875,
          3.25,
          3.8333333333333335,
          2.5833333333333335,
          3.2916666666666665,
          3,
          5,
          4.75,
          4.791666666666667,
          3.875,
          4.5,
          4.166666666666667,
          4.333333333333333,
          3.6666666666666665,
          4.5,
          3.75,
          3.4166666666666665,
          2.625,
          2.7916666666666665,
          2.4166666666666665,
          2.5833333333333335,
          2.3333333333333335,
          2.7916666666666665,
          3.3333333333333335,
          3.5,
          2.3333333333333335,
          3.9166666666666665,
          3.4583333333333335,
          3.9583333333333335,
          3,
          3,
          3.0833333333333335,
          3.4583333333333335,
          4.583333333333333,
          3.4375,
          2.6666666666666665,
          3.6666666666666665,
          3.625,
          3.3333333333333335,
          3,
          4.25,
          2.4583333333333335,
          3.4583333333333335,
          2.9166666666666665,
          3.7916666666666665,
          2.5833333333333335,
          2.4166666666666665,
          3.5,
          2.7916666666666665,
          3.0416666666666665,
          2.5,
          4.416666666666667,
          2.75,
          2.8333333333333335,
          3.25,
          3.5833333333333335,
          3.9166666666666665,
          3.1111111111111116,
          3.5,
          2.7083333333333335,
          4.666666666666667,
          4.458333333333333,
          2.8333333333333335,
          4.541666666666667,
          4.333333333333333,
          3.0416666666666665,
          2.875,
          3,
          3.9166666666666665,
          4.416666666666667,
          4.416666666666667,
          3.5833333333333335,
          2.875,
          2.8333333333333335,
          2.9166666666666665,
          2.7083333333333335,
          3.5833333333333335,
          2.9166666666666665,
          2.9166666666666665,
          2.9583333333333335,
          3.75,
          3,
          2.75,
          3.4444444444444446,
          5.666666666666667,
          3.4166666666666665,
          2.7083333333333335,
          2.4375,
          4,
          2.4166666666666665,
          3.5833333333333335,
          2.5,
          3.4583333333333335,
          4,
          4.166666666666667,
          4.166666666666667,
          3.5833333333333335,
          2.9166666666666665,
          2.75,
          3.7083333333333335,
          3.9375,
          3.0833333333333335,
          2.8333333333333335,
          3.4166666666666665,
          3.1666666666666665,
          3,
          2.75,
          3.4583333333333335,
          3.0833333333333335,
          4.166666666666667,
          3.25,
          2.5,
          3.625,
          2.8333333333333335,
          4.666666666666667,
          3.1666666666666665,
          3.0833333333333335,
          3.0416666666666665,
          2.5833333333333335,
          4.833333333333333,
          3.9583333333333335,
          2.8333333333333335,
          3.25,
          3,
          3.75,
          4.583333333333333,
          4.145833333333333,
          3.5833333333333335,
          3.25,
          2.75,
          4.375,
          3.861111111111111,
          3.9166666666666665,
          4.5,
          4.25,
          6,
          2.15,
          4.416666666666667,
          3.7083333333333335,
          2.3333333333333335,
          3.625,
          4.375,
          3,
          4.541666666666667,
          3.2083333333333335,
          2.7083333333333335,
          3.0416666666666665,
          3.4166666666666665,
          3.0833333333333335,
          3.75,
          2.6666666666666665,
          3.0416666666666665,
          4.125,
          4.416666666666667,
          4.083333333333333,
          3.25,
          3.75,
          3.9166666666666665,
          4.583333333333333,
          2.9166666666666665,
          3.6666666666666665,
          4.875,
          2.8333333333333335,
          4.416666666666667,
          3.5,
          4.833333333333333,
          4.583333333333333,
          4.25,
          4.083333333333333,
          3.75,
          3.5416666666666665,
          4.75,
          4.833333333333333,
          4.833333333333333,
          5.166666666666667,
          3.5,
          3.3333333333333335,
          2.3333333333333335,
          3.0833333333333335,
          3.5,
          3.2083333333333335,
          3.75,
          4,
          3.6666666666666665,
          2.7916666666666665,
          4.041666666666667,
          3.3333333333333335,
          4.875,
          2.5833333333333335,
          4.333333333333333,
          3.6666666666666665,
          3.9166666666666665,
          3.8333333333333335,
          3.8333333333333335,
          3.5,
          4.083333333333333,
          3.1666666666666665,
          3.9583333333333335,
          3.5833333333333335,
          3.4166666666666665,
          3.7083333333333335,
          4.083333333333333,
          3.6666666666666665,
          4.666666666666667,
          4.5,
          4.25,
          3.875,
          3.4166666666666665,
          4.583333333333333,
          3.4583333333333335,
          3.6666666666666665,
          3.5,
          3.6666666666666665,
          4.083333333333333,
          3.5416666666666665,
          3.75,
          3.75,
          3.7083333333333335,
          3.9166666666666665,
          4,
          3.0833333333333335,
          3.2916666666666665,
          2.3333333333333335,
          3.75,
          3.3958333333333335,
          3.375,
          4.041666666666667,
          3.472222222222222,
          3.1666666666666665,
          4.166666666666667,
          4.166666666666667,
          2.625,
          4.5,
          4.083333333333333,
          4,
          4.333333333333333,
          5.416666666666667,
          3.25,
          3.625,
          3.5833333333333335,
          2.7916666666666665,
          4,
          3.5833333333333335,
          3,
          4.75,
          4.333333333333333,
          3.4166666666666665,
          3.1666666666666665,
          2.5,
          4.208333333333333,
          2.9583333333333335,
          3,
          4.208333333333333,
          3.2916666666666665,
          4.125,
          3.9583333333333335,
          3.6666666666666665,
          3.5416666666666665,
          3.5,
          2.9166666666666665,
          3.2083333333333335,
          3.2083333333333335,
          3.25,
          3.3333333333333335,
          2.5,
          4.416666666666667,
          2.0833333333333335,
          4.333333333333333,
          2.3333333333333335,
          2.9166666666666665,
          3.2916666666666665,
          4,
          2.25,
          2.375,
          4.25,
          2.9166666666666665,
          3.4166666666666665,
          3.75,
          3.4166666666666665,
          2.7083333333333335,
          4.083333333333333,
          3.2916666666666665,
          4.208333333333333,
          3.2083333333333335,
          3.125,
          3.5,
          3.1666666666666665,
          3,
          2.75,
          3.6666666666666665,
          3.25,
          3.9166666666666665,
          2.5,
          2.9166666666666665,
          4.916666666666667,
          3.8333333333333335,
          3.8541666666666665,
          3.6666666666666665,
          4.916666666666667,
          4.291666666666667,
          3.625,
          3.25,
          3.0833333333333335,
          2.5833333333333335,
          2.5,
          4.25,
          4.166666666666667,
          3.375,
          3.4583333333333335,
          2.8333333333333335,
          3.3333333333333335,
          3.3333333333333335,
          3.3055555555555554,
          4.25,
          2.75,
          3,
          3.8333333333333335,
          3.75,
          4.666666666666667,
          4.25,
          3.9166666666666665,
          2.5833333333333335,
          2.75,
          3.0833333333333335,
          3.1666666666666665,
          3.25,
          2.75,
          4.833333333333333,
          3.5833333333333335,
          3.875,
          2.9166666666666665,
          3.25,
          3.5416666666666665,
          2.8333333333333335,
          3.0833333333333335,
          3.0833333333333335,
          3.9583333333333335,
          2.25,
          3.875,
          3.3333333333333335,
          4.666666666666667,
          2.5416666666666665,
          2.9166666666666665,
          3.1666666666666665,
          2.75,
          5.166666666666667,
          2.8611111111111116,
          3.4166666666666665,
          3.3333333333333335,
          3.875,
          2.5416666666666665,
          3.0833333333333335,
          5.916666666666667,
          4.166666666666667,
          3.5833333333333335,
          4.083333333333333,
          3.5833333333333335,
          3.2916666666666665,
          3.4166666666666665,
          3.5833333333333335,
          3.2916666666666665,
          3.0833333333333335,
          2.3333333333333335,
          1.6666666666666667,
          3.6666666666666665,
          4,
          4.666666666666667,
          4.575,
          3.625,
          3.625,
          3.5833333333333335,
          2.8333333333333335,
          4,
          3,
          2.4583333333333335,
          3.8333333333333335,
          3.8333333333333335,
          2.4583333333333335,
          2.3333333333333335,
          4.333333333333333,
          4.083333333333333,
          3.0833333333333335,
          3.25,
          3.3333333333333335,
          2.8333333333333335,
          2.625,
          3.5,
          2.444444444444444,
          3.5833333333333335,
          5.458333333333333,
          3.7916666666666665,
          5.166666666666667,
          3.5833333333333335,
          3.4166666666666665,
          4.625,
          3.25,
          2.7916666666666665,
          3.6666666666666665,
          3.4166666666666665,
          3.0833333333333335,
          4.083333333333333,
          2.6666666666666665,
          2.3333333333333335,
          3,
          3.25,
          3.25,
          2.6666666666666665,
          2.7083333333333335,
          2.75,
          3.75,
          3.5,
          2.4166666666666665,
          3.9166666666666665,
          2.4166666666666665,
          4.166666666666667,
          4,
          3.625,
          2.25
         ]
        },
        {
         "name": "Train Time",
         "type": "box",
         "y": [
          12.083333333333334,
          30.616666666666667,
          30.616666666666667,
          12.783333333333333,
          7.65,
          34.36666666666667,
          22.933333333333334,
          22.933333333333334,
          22.933333333333334,
          83.78333333333333,
          36.233333333333334,
          27.966666666666665,
          36.56666666666667,
          75.15277777777779,
          9.80888888888889,
          5.533333333333333,
          13.266666666666667,
          68.81666666666666,
          32.766666666666666,
          25.9,
          25.9,
          25.9,
          25.9,
          3.0166666666666666,
          15.766666666666667,
          21.083333333333332,
          15.25,
          14.694166666666666,
          15.860833333333334,
          5.3,
          26.616666666666667,
          2.466666666666667,
          10.7,
          41.916666666666664,
          18.183333333333334,
          27.466666666666665,
          19.266666666666666,
          51.28333333333333,
          12.316666666666666,
          32.53333333333333,
          6.8,
          9.1,
          49.13888888888889,
          7.45,
          3.45,
          8.516666666666667,
          21.5,
          20.675,
          8.35,
          5.483333333333333,
          31.866666666666667,
          5.216666666666667,
          3.933333333333333,
          3.933333333333333,
          3.933333333333333,
          7.55,
          7.2,
          50.166666666666664,
          35.85,
          11.65,
          43.766666666666666,
          7.333333333333333,
          25.033333333333335,
          9.3,
          23.383333333333333,
          70.85,
          27.683333333333334,
          3.1,
          16.066666666666666,
          19.483333333333334,
          23.05,
          63.778888888888886,
          56.43333333333333,
          48.266666666666666,
          56.96666666666667,
          49,
          8.289722222222222,
          53.65,
          22.983333333333334,
          5.383333333333334,
          54.03333333333333,
          6.216666666666667,
          6.333333333333333,
          10.45,
          10.45,
          12.783333333333333,
          31.066666666666666,
          10.75,
          10.75,
          10.75,
          10.75,
          21.966666666666665,
          11.283333333333333,
          46.86666666666667,
          33.95,
          7.75,
          27.166666666666668,
          25.55,
          3.410277777777778,
          61,
          36.78333333333333,
          52.416666666666664,
          11.333333333333334,
          21.483333333333334,
          21.333333333333332,
          12.561666666666667,
          12.561666666666667,
          7.7,
          26.16166666666667,
          1.3333333333333333,
          28.966666666666665,
          20.016666666666666,
          10.883333333333333,
          18.55,
          11.033333333333333,
          37.225,
          28.983333333333334,
          4.666666666666667,
          9.137222222222222,
          23.91166666666667,
          16.16166666666667,
          16.16166666666667,
          12.411666666666667,
          27.316666666666666,
          12.166666666666666,
          37.16861111111111,
          36.516666666666666,
          40.63333333333333,
          18.816666666666666,
          24.883333333333333,
          11.933333333333334,
          8.45,
          12.05,
          5.666666666666667,
          24.833333333333332,
          14.533333333333333,
          34.333333333333336,
          30.418611111111108,
          28.016666666666666,
          6.483333333333333,
          8.016666666666667,
          19.533333333333335,
          23.433333333333334,
          4.15,
          7.4,
          8.4,
          8.7675,
          8.066666666666666,
          7.25,
          24.416666666666668,
          28.016666666666666,
          15.25,
          9.65,
          36.3,
          19.6,
          9.45,
          9.45,
          6.783333333333333,
          4.333333333333333,
          19.900555555555556,
          6.033333333333333,
          27.183333333333334,
          35.274722222222216,
          18.11916666666667,
          16.9725,
          22.7,
          35.45,
          29.65,
          42.21666666666667,
          24.6,
          13.216666666666667,
          25.533333333333335,
          12.766666666666667,
          26.05,
          20.666666666666668,
          19.816666666666666,
          28.9925,
          47.583333333333336,
          24.05,
          24.05,
          32,
          23.65277777777778,
          13.783333333333333,
          6.716666666666667,
          10.033333333333333,
          9.066666666666666,
          10.7,
          42.016666666666666,
          23.966666666666665,
          8.499166666666666,
          13.883333333333333,
          13.883333333333333,
          22.516666666666666,
          6.816666666666666,
          6.816666666666666,
          4.6,
          8.516666666666667,
          2.5,
          1.5166666666666666,
          19.966666666666665,
          41.86666666666667,
          6.1,
          29.016666666666666,
          21.783333333333335,
          9.55,
          45.75,
          31.766666666666666,
          41.5,
          41.5,
          27.5,
          4.416666666666667,
          4.416666666666667,
          46.66361111111111,
          14.3,
          30.316666666666666,
          28.933333333333334,
          26.283333333333335,
          34.43333333333333,
          9.55,
          10.45,
          4.783333333333333,
          3.1333333333333333,
          34.15,
          34.233333333333334,
          10.566666666666666,
          5.333333333333333,
          21.05,
          22.25,
          20.4,
          9.383333333333333,
          37.05,
          9.5,
          3.8333333333333335,
          21.35,
          4.666666666666667,
          18.133333333333333,
          14.466666666666667,
          27.833333333333332,
          21.35,
          21.35,
          30.316666666666666,
          23.883333333333333,
          11.316666666666666,
          45.9,
          8.233333333333333,
          13.55,
          19.233333333333334,
          14.583333333333334,
          26.135277777777777,
          33.70194444444444,
          21.516666666666666,
          21.516666666666666,
          29.9,
          12.416666666666666,
          12.416666666666666,
          18.33111111111111,
          11.664444444444445,
          30.675,
          10.897777777777778,
          25.941666666666666,
          19.447777777777777,
          21.883333333333333,
          22.633333333333333,
          35.166666666666664,
          35.166666666666664,
          35.166666666666664,
          17.016666666666666,
          11.666666666666666,
          4.066666666666666,
          4.066666666666666,
          4.066666666666666,
          31.683333333333334,
          31.683333333333334,
          31.683333333333334,
          13.016666666666667,
          21.3,
          27.783333333333335,
          12.383333333333333,
          24.083333333333332,
          13.766666666666667,
          10.991666666666667,
          10.966666666666667,
          17.18027777777778,
          20.066666666666666,
          3.5166666666666666,
          5.016666666666667,
          9.383333333333333,
          1.05,
          30.25,
          37.47388888888889,
          5.65,
          38.8,
          24.183333333333334,
          32.00805555555556,
          35.5275,
          46.91416666666667,
          7.75,
          5.85,
          4.9,
          31.083333333333332,
          5.066666666666666,
          6.5,
          8.85,
          13.55,
          5.933333333333334,
          24.3,
          26.466666666666665,
          23.883333333333333,
          60.06666666666667,
          11.783333333333333,
          13.716666666666667,
          31.483333333333334,
          19.566666666666666,
          14.45,
          37.766666666666666,
          8.666666666666666,
          21.483333333333334,
          27.683333333333334,
          26.416666666666668,
          13.972222222222223,
          8.65,
          5.416666666666667,
          26.7,
          45.04611111111112,
          3.85,
          34.666666666666664,
          18,
          3.8333333333333335,
          28.083333333333332,
          2.05,
          14.45,
          14.55,
          12.8,
          12.8,
          12.683333333333334,
          9.551388888888889,
          15.616666666666667,
          1.45,
          10.4,
          5.216666666666667,
          23.633333333333333,
          23.633333333333333,
          3.1666666666666665,
          40.96666666666667,
          11.083333333333334,
          31.583333333333332,
          8.883333333333333,
          9.233333333333333,
          37.93333333333333,
          37.93333333333333,
          10.872222222222224,
          23.016666666666666,
          17.766666666666666,
          24.333333333333332,
          5.937777777777778,
          19.860833333333336,
          4.443611111111111,
          5.65,
          11.416666666666666,
          31.95,
          3.1333333333333333,
          22.9,
          7.5,
          11.066666666666666,
          22.316666666666666,
          30.25,
          7.366666666666666,
          23.466666666666665,
          54.28333333333333,
          24.5,
          27.1,
          23.683333333333334,
          4.05,
          17.866666666666667,
          9,
          4.616666666666666,
          9.033333333333333,
          3.1333333333333333,
          2.2,
          10.15,
          4.15,
          4.35,
          1.1166666666666667,
          9.766666666666667,
          14.366666666666667,
          8.683333333333334,
          5.966666666666667,
          4.363333333333333,
          30.466666666666665,
          2.1666666666666665,
          12.116666666666667,
          3.1,
          6.35,
          6.35,
          7.85,
          9.3,
          3.2,
          8.716666666666667,
          2.05,
          23.783333333333335,
          7.65,
          7.183333333333334,
          1.55,
          5.083333333333333,
          9.6175,
          6.3,
          10.166666666666666,
          8.3,
          16.85,
          4.183333333333334,
          18.016666666666666,
          10.95,
          5.033333333333333,
          44.8,
          11.283333333333333,
          22.683333333333334,
          6.5,
          3.9166666666666665,
          24.7,
          11.916666666666666,
          8.966666666666667,
          9.216666666666667,
          9.516666666666667,
          5.4,
          23.083333333333332,
          7.483333333333333,
          20.05,
          6.816666666666666,
          33.88333333333333,
          41.10805555555555,
          9.7,
          2.9833333333333334,
          5,
          30.446666666666665,
          3.546666666666667,
          11.366666666666667,
          53.45,
          41,
          38.233333333333334,
          18.566666666666666,
          28.016666666666666,
          5.666666666666667,
          8.55,
          27.783333333333335,
          28.936666666666667,
          42.6625,
          8.829166666666667,
          10.370555555555557,
          13.287222222222223,
          7.647222222222222,
          14.816666666666666,
          20.75,
          5.4,
          12.066666666666666,
          15.016666666666667,
          4.183333333333334,
          9.166666666666666,
          10.95,
          27.366666666666667,
          19.883333333333333,
          19.883333333333333,
          35.51833333333333,
          36.85222222222222,
          77.63555555555556,
          10.552222222222222,
          72.13333333333334,
          65.9,
          64.83333333333333,
          64.83333333333333,
          34.5,
          15.75,
          23.95,
          27.433333333333334,
          20.666666666666668,
          26.933333333333334,
          18.45,
          24.716666666666665,
          42.65,
          21.466666666666665,
          22.3,
          30.483333333333334,
          13.683333333333334,
          22.333333333333332,
          24.783333333333335,
          24.783333333333335,
          22.833333333333332,
          23.233333333333334,
          27.75,
          21.6,
          27.683333333333334,
          5.616666666666666,
          32.03333333333333,
          2.2,
          18.8,
          18.8,
          11.383333333333333,
          8.483333333333333,
          33.483333333333334,
          33.583333333333336,
          29.273333333333333,
          23.9,
          20.166666666666668,
          31.883333333333333,
          4.416666666666667,
          8.094722222222222,
          21.066666666666666,
          13.766666666666667,
          13.766666666666667,
          17.333333333333332,
          12.316666666666666,
          12.316666666666666,
          27.5,
          7.133333333333334,
          10.133333333333333,
          30.35,
          28.166666666666668,
          20.466666666666665,
          4.166666666666667,
          9.733333333333333,
          26.233333333333334,
          6.666666666666667,
          26.223333333333336,
          26.683333333333334,
          10.5,
          33.28333333333333,
          7.25,
          21.883333333333333,
          21.883333333333333,
          64.68333333333334,
          64.68333333333334,
          14.683333333333334,
          14.683333333333334,
          19.683333333333334,
          19.683333333333334,
          2.033333333333333,
          10.716666666666667,
          5.716666666666667,
          5.716666666666667,
          5.716666666666667,
          29.85,
          6.516666666666667,
          6.516666666666667,
          6.516666666666667,
          20.266666666666666,
          20.266666666666666,
          6.783333333333333,
          6.783333333333333,
          6.783333333333333,
          11.966666666666667,
          5.666666666666667,
          21.766666666666666,
          21.766666666666666,
          21.766666666666666,
          13.5,
          13.5,
          9.216666666666667,
          3.3833333333333333,
          25.683333333333334,
          40.35,
          40.35,
          40.35,
          40.35,
          12.7,
          12.7,
          8.633333333333333,
          13.65,
          13.65,
          7.733333333333333,
          5.766666666666667,
          12.566666666666666,
          10.75,
          18,
          8.466666666666667,
          11.968055555555557,
          42.666666666666664,
          27.416666666666668,
          6.866666666666666,
          10.724722222222223,
          8.670555555555556,
          13.75,
          34.11666666666667,
          23.6,
          30.933333333333334,
          32.166666666666664,
          29.45,
          29.45,
          37.733333333333334,
          31.883333333333333,
          68.63333333333334,
          33.21666666666667,
          33.21666666666667,
          34.266666666666666,
          29.083333333333332,
          10.433333333333334,
          36.46666666666667,
          3.0833333333333335,
          12.416666666666666,
          52.36666666666667,
          15.55,
          14.205555555555556,
          14.205555555555556,
          33.38333333333333,
          21.341666666666665,
          21.341666666666665,
          43.608333333333334,
          42.65805555555555,
          52.8975,
          31.095277777777778,
          31.095277777777778,
          18.733333333333334,
          18.733333333333334,
          27.583333333333332,
          10.483333333333333,
          27.583333333333332,
          23.883333333333333,
          1.9333333333333333,
          11.366666666666667,
          8.65,
          9,
          3.316666666666667,
          2.75,
          9.383333333333333,
          13.866666666666667,
          29.035,
          8.383333333333333,
          27.933333333333334,
          27.033333333333335,
          6.666666666666667,
          12.13888888888889,
          12.13888888888889,
          22.116666666666667,
          6.033333333333333,
          6.666666666666667,
          23.25,
          9.666666666666666,
          18.416666666666668,
          8.083333333333334,
          9.066666666666666,
          8.9,
          42.46666666666667,
          27.3,
          2.566666666666667,
          26,
          10.75,
          19.683333333333334,
          20.483333333333334,
          27.166666666666668,
          26.95,
          27.7,
          13.116666666666667,
          21.983333333333334,
          22.383333333333333,
          22.983333333333334,
          44.11666666666667,
          44.11666666666667,
          44.11666666666667,
          44.11666666666667,
          4.45,
          4.45,
          8.866666666666667,
          5.133333333333334,
          12.383333333333333,
          12.466666666666667,
          22.54388888888889,
          4.010555555555555,
          4.010555555555555,
          6.0938888888888885,
          27.8,
          1.943888888888889,
          8.55,
          7.760555555555555,
          34.4,
          27.766666666666666,
          27.766666666666666,
          27.766666666666666,
          32.8,
          54.2,
          64.28333333333333,
          15.85,
          26.433333333333334,
          22.133333333333333,
          12.333333333333334,
          6.75,
          7.45,
          4.9,
          6.066666666666666,
          5.966666666666667,
          6.283333333333333,
          10.666666666666666,
          27.09138888888889,
          1.9833333333333334,
          25.783333333333335,
          14.183333333333334,
          42.93333333333333,
          18.916666666666668,
          9.55,
          9.55,
          14.935277777777777,
          44.083333333333336,
          13.766666666666667,
          8.166666666666666,
          39.558055555555555,
          23.233333333333334,
          10.12638888888889,
          11.333333333333334,
          32.54527777777778,
          5.616666666666666,
          29.958055555555557,
          5.058055555555556,
          22.64138888888889,
          7.914722222222222,
          1.291388888888889,
          20.508055555555554,
          4.508055555555556,
          5.4413888888888895,
          9.363611111111112,
          24.758055555555554,
          7.2747222222222225,
          5.358055555555556,
          13.108055555555556,
          33.82472222222222,
          28.016666666666666,
          5.766666666666667,
          21.05,
          9.783333333333333,
          28.733333333333334,
          31.6,
          5.3,
          27.833333333333332,
          50.24444444444444,
          6.783333333333333,
          6.4,
          7.191111111111111,
          42.99444444444444,
          45,
          36.75,
          39.661944444444444,
          18.816666666666666,
          7.8,
          4.913333333333333,
          2.7666666666666666,
          10.05,
          3.4833333333333334,
          8.233333333333333,
          5.75,
          25.633333333333333,
          4.833333333333333,
          4.9,
          11.416666666666666,
          72.96666666666667,
          23.933333333333334,
          5.35,
          7.05,
          26.316666666666666,
          3.5166666666666666,
          41.21666666666667,
          8.116666666666667,
          31.414166666666667,
          25.766666666666666,
          32.75,
          39.11666666666667,
          28.333333333333332,
          7.083333333333333,
          3.966666666666667,
          25.683333333333334,
          25.25,
          16.166666666666668,
          18.55,
          34.45,
          19.505555555555553,
          12.83888888888889,
          10.205555555555556,
          24.805555555555554,
          14.28888888888889,
          45.46666666666667,
          20.688888888888886,
          9.211666666666668,
          24.17222222222222,
          14.93888888888889,
          32.96666666666667,
          21.973055555555558,
          20.205555555555556,
          20.62222222222222,
          3.5,
          35.78333333333333,
          22.05,
          20.133333333333333,
          12.633333333333333,
          14.583333333333334,
          41.03333333333333,
          32.333333333333336,
          40.48277777777778,
          33.79944444444445,
          21.65,
          4.883333333333334,
          31.5,
          26.266666666666666,
          29.57305555555556,
          52.98972222222222,
          33.323055555555555,
          61.6,
          7.439722222222222,
          51.256388888888885,
          36.742222222222225,
          10.1,
          27.799444444444443,
          26.633333333333333,
          9.733333333333333,
          28.866666666666667,
          18.45,
          3.3666666666666667,
          6.183333333333334,
          50.3,
          7.683333333333334,
          45.27777777777778,
          8.250277777777777,
          21.166944444444443,
          34.30027777777778,
          40.816944444444445,
          36.93361111111111,
          35.91694444444445,
          28.924722222222222,
          29.916944444444443,
          46.48361111111112,
          32.95027777777778,
          36.58361111111112,
          61.666666666666664,
          10.4,
          54.516666666666666,
          32.516666666666666,
          37.2,
          42.25,
          31.566666666666666,
          31.683333333333334,
          29.083333333333332,
          36.733333333333334,
          34.78333333333333,
          34.78333333333333,
          34.78333333333333,
          57.75,
          35.31666666666667,
          32.416666666666664,
          8.70138888888889,
          26.366666666666667,
          12.433333333333334,
          6.266666666666667,
          16.00138888888889,
          21.716666666666665,
          18.75,
          4.933333333333334,
          21.966666666666665,
          8.25,
          30.775277777777777,
          4.45,
          28.70777777777778,
          13.633333333333333,
          20.9,
          20.516666666666666,
          20.616666666666667,
          6.769444444444445,
          23.472777777777775,
          8.616666666666667,
          34.233333333333334,
          14.65,
          14.883333333333333,
          22.1,
          31.982777777777777,
          25.066666666666666,
          56.227777777777774,
          33.53333333333333,
          24.833333333333332,
          23.896944444444443,
          14.540277777777778,
          44.1775,
          11.317499999999999,
          20.566666666666666,
          19.966666666666665,
          26.916666666666668,
          23.466666666666665,
          19.883333333333333,
          18.266666666666666,
          23.883333333333333,
          20.433333333333334,
          25.05,
          38.00805555555555,
          29.75,
          34.025,
          7.4,
          16.716666666666665,
          14.683333333333334,
          14.683333333333334,
          47.56666666666667,
          32.18333333333333,
          5.566666666666666,
          29.95,
          32.81666666666667,
          2.6166666666666667,
          28.716666666666665,
          29.35,
          30.2,
          26.366666666666667,
          42.516666666666666,
          10.083333333333334,
          22.633333333333333,
          14.2,
          8.183333333333334,
          41.416666666666664,
          11.783333333333333,
          24.733333333333334,
          49.66388888888889,
          47.21388888888889,
          22.563888888888886,
          20.29722222222222,
          14.047222222222222,
          40.76388888888889,
          18.96388888888889,
          18.96388888888889,
          39.96388888888889,
          23.780555555555555,
          36.74722222222223,
          34.73055555555556,
          37.41388888888889,
          22.94722222222222,
          30.26388888888889,
          22.34722222222222,
          22.230555555555554,
          23.780555555555555,
          21.96388888888889,
          21.680555555555554,
          18.68111111111111,
          55.78916666666667,
          2.705833333333333,
          45.44694444444444,
          2.15,
          7.183333333333334,
          11.083333333333334,
          37.916666666666664,
          4.816666666666666,
          8.1225,
          29.836111111111112,
          19.436111111111114,
          15.288055555555555,
          28.769444444444446,
          14.702777777777778,
          8.73611111111111,
          37.78611111111111,
          10.779166666666667,
          34.169444444444444,
          14.416666666666666,
          20.566666666666666,
          28.166666666666668,
          25.066666666666666,
          19.29416666666667,
          7.55,
          31.233333333333334,
          23.92972222222222,
          27.463055555555556,
          10.096388888888889,
          5.216666666666667,
          50.18333333333333,
          29.7,
          29.7,
          29.7,
          45.016666666666666,
          33.95,
          20.066666666666666,
          15.816666666666666,
          15.816666666666666,
          7.033333333333333,
          4,
          46.33555555555555,
          48.96361111111111,
          17.116666666666667,
          27.366666666666667,
          7.433333333333334,
          12.783333333333333,
          12.783333333333333,
          14.251944444444444,
          28.683333333333334,
          3.8833333333333333,
          10.9,
          23.166666666666668,
          23.166666666666668,
          51.2,
          30.866666666666667,
          25.516666666666666,
          7.283333333333333,
          5.239444444444445,
          14.416666666666666,
          9.493055555555555,
          8,
          4.366666666666666,
          30.25,
          45.71666666666667,
          25.95,
          10.55,
          10.233333333333333,
          10.133333333333333,
          13.716666666666667,
          10.716666666666667,
          9.516666666666667,
          42.05,
          4.666666666666667,
          13.616666666666667,
          9.983333333333333,
          28.833333333333332,
          4.1,
          11.316666666666666,
          21.083333333333332,
          6.783333333333333,
          54.76416666666667,
          7.75,
          18.85,
          19.833333333333332,
          13.8,
          2.05,
          10.266666666666667,
          60.416666666666664,
          34.2,
          25.8,
          43.733333333333334,
          38.5,
          38.5,
          12.483333333333333,
          24.091666666666665,
          15.7,
          9.926388888888889,
          4.075277777777778,
          1.251111111111111,
          12.65,
          41.266666666666666,
          27.683333333333334,
          27.683333333333334,
          21.033333333333335,
          21.266666666666666,
          21.266666666666666,
          11.75,
          21,
          22.983333333333334,
          3.7083333333333335,
          23.2,
          20.95,
          2.2,
          3.15,
          23.95,
          23.95,
          18.3,
          9.2,
          27.35,
          9.366666666666667,
          9.916666666666666,
          19.016666666666666,
          4.266666666666667,
          18.983333333333334,
          34.75,
          21.833333333333332,
          30.866666666666667,
          24,
          18.083333333333332,
          28.4,
          7.35,
          4.166666666666667,
          22.566666666666666,
          22.15,
          17.266666666666666,
          26.55,
          10.266666666666667,
          7.5,
          19.466666666666665,
          10.9,
          11.883333333333333,
          5.616666666666666,
          6.316666666666666,
          4.066666666666666,
          14.316666666666666,
          21.35,
          2.716666666666667,
          22.9,
          3.5166666666666666,
          53.166666666666664,
          26.55,
          70.6913888888889,
          4.433333333333334
         ]
        }
       ],
       "layout": {
        "template": {
         "data": {
          "bar": [
           {
            "error_x": {
             "color": "#2a3f5f"
            },
            "error_y": {
             "color": "#2a3f5f"
            },
            "marker": {
             "line": {
              "color": "#E5ECF6",
              "width": 0.5
             },
             "pattern": {
              "fillmode": "overlay",
              "size": 10,
              "solidity": 0.2
             }
            },
            "type": "bar"
           }
          ],
          "barpolar": [
           {
            "marker": {
             "line": {
              "color": "#E5ECF6",
              "width": 0.5
             },
             "pattern": {
              "fillmode": "overlay",
              "size": 10,
              "solidity": 0.2
             }
            },
            "type": "barpolar"
           }
          ],
          "carpet": [
           {
            "aaxis": {
             "endlinecolor": "#2a3f5f",
             "gridcolor": "white",
             "linecolor": "white",
             "minorgridcolor": "white",
             "startlinecolor": "#2a3f5f"
            },
            "baxis": {
             "endlinecolor": "#2a3f5f",
             "gridcolor": "white",
             "linecolor": "white",
             "minorgridcolor": "white",
             "startlinecolor": "#2a3f5f"
            },
            "type": "carpet"
           }
          ],
          "choropleth": [
           {
            "colorbar": {
             "outlinewidth": 0,
             "ticks": ""
            },
            "type": "choropleth"
           }
          ],
          "contour": [
           {
            "colorbar": {
             "outlinewidth": 0,
             "ticks": ""
            },
            "colorscale": [
             [
              0,
              "#0d0887"
             ],
             [
              0.1111111111111111,
              "#46039f"
             ],
             [
              0.2222222222222222,
              "#7201a8"
             ],
             [
              0.3333333333333333,
              "#9c179e"
             ],
             [
              0.4444444444444444,
              "#bd3786"
             ],
             [
              0.5555555555555556,
              "#d8576b"
             ],
             [
              0.6666666666666666,
              "#ed7953"
             ],
             [
              0.7777777777777778,
              "#fb9f3a"
             ],
             [
              0.8888888888888888,
              "#fdca26"
             ],
             [
              1,
              "#f0f921"
             ]
            ],
            "type": "contour"
           }
          ],
          "contourcarpet": [
           {
            "colorbar": {
             "outlinewidth": 0,
             "ticks": ""
            },
            "type": "contourcarpet"
           }
          ],
          "heatmap": [
           {
            "colorbar": {
             "outlinewidth": 0,
             "ticks": ""
            },
            "colorscale": [
             [
              0,
              "#0d0887"
             ],
             [
              0.1111111111111111,
              "#46039f"
             ],
             [
              0.2222222222222222,
              "#7201a8"
             ],
             [
              0.3333333333333333,
              "#9c179e"
             ],
             [
              0.4444444444444444,
              "#bd3786"
             ],
             [
              0.5555555555555556,
              "#d8576b"
             ],
             [
              0.6666666666666666,
              "#ed7953"
             ],
             [
              0.7777777777777778,
              "#fb9f3a"
             ],
             [
              0.8888888888888888,
              "#fdca26"
             ],
             [
              1,
              "#f0f921"
             ]
            ],
            "type": "heatmap"
           }
          ],
          "heatmapgl": [
           {
            "colorbar": {
             "outlinewidth": 0,
             "ticks": ""
            },
            "colorscale": [
             [
              0,
              "#0d0887"
             ],
             [
              0.1111111111111111,
              "#46039f"
             ],
             [
              0.2222222222222222,
              "#7201a8"
             ],
             [
              0.3333333333333333,
              "#9c179e"
             ],
             [
              0.4444444444444444,
              "#bd3786"
             ],
             [
              0.5555555555555556,
              "#d8576b"
             ],
             [
              0.6666666666666666,
              "#ed7953"
             ],
             [
              0.7777777777777778,
              "#fb9f3a"
             ],
             [
              0.8888888888888888,
              "#fdca26"
             ],
             [
              1,
              "#f0f921"
             ]
            ],
            "type": "heatmapgl"
           }
          ],
          "histogram": [
           {
            "marker": {
             "pattern": {
              "fillmode": "overlay",
              "size": 10,
              "solidity": 0.2
             }
            },
            "type": "histogram"
           }
          ],
          "histogram2d": [
           {
            "colorbar": {
             "outlinewidth": 0,
             "ticks": ""
            },
            "colorscale": [
             [
              0,
              "#0d0887"
             ],
             [
              0.1111111111111111,
              "#46039f"
             ],
             [
              0.2222222222222222,
              "#7201a8"
             ],
             [
              0.3333333333333333,
              "#9c179e"
             ],
             [
              0.4444444444444444,
              "#bd3786"
             ],
             [
              0.5555555555555556,
              "#d8576b"
             ],
             [
              0.6666666666666666,
              "#ed7953"
             ],
             [
              0.7777777777777778,
              "#fb9f3a"
             ],
             [
              0.8888888888888888,
              "#fdca26"
             ],
             [
              1,
              "#f0f921"
             ]
            ],
            "type": "histogram2d"
           }
          ],
          "histogram2dcontour": [
           {
            "colorbar": {
             "outlinewidth": 0,
             "ticks": ""
            },
            "colorscale": [
             [
              0,
              "#0d0887"
             ],
             [
              0.1111111111111111,
              "#46039f"
             ],
             [
              0.2222222222222222,
              "#7201a8"
             ],
             [
              0.3333333333333333,
              "#9c179e"
             ],
             [
              0.4444444444444444,
              "#bd3786"
             ],
             [
              0.5555555555555556,
              "#d8576b"
             ],
             [
              0.6666666666666666,
              "#ed7953"
             ],
             [
              0.7777777777777778,
              "#fb9f3a"
             ],
             [
              0.8888888888888888,
              "#fdca26"
             ],
             [
              1,
              "#f0f921"
             ]
            ],
            "type": "histogram2dcontour"
           }
          ],
          "mesh3d": [
           {
            "colorbar": {
             "outlinewidth": 0,
             "ticks": ""
            },
            "type": "mesh3d"
           }
          ],
          "parcoords": [
           {
            "line": {
             "colorbar": {
              "outlinewidth": 0,
              "ticks": ""
             }
            },
            "type": "parcoords"
           }
          ],
          "pie": [
           {
            "automargin": true,
            "type": "pie"
           }
          ],
          "scatter": [
           {
            "fillpattern": {
             "fillmode": "overlay",
             "size": 10,
             "solidity": 0.2
            },
            "type": "scatter"
           }
          ],
          "scatter3d": [
           {
            "line": {
             "colorbar": {
              "outlinewidth": 0,
              "ticks": ""
             }
            },
            "marker": {
             "colorbar": {
              "outlinewidth": 0,
              "ticks": ""
             }
            },
            "type": "scatter3d"
           }
          ],
          "scattercarpet": [
           {
            "marker": {
             "colorbar": {
              "outlinewidth": 0,
              "ticks": ""
             }
            },
            "type": "scattercarpet"
           }
          ],
          "scattergeo": [
           {
            "marker": {
             "colorbar": {
              "outlinewidth": 0,
              "ticks": ""
             }
            },
            "type": "scattergeo"
           }
          ],
          "scattergl": [
           {
            "marker": {
             "colorbar": {
              "outlinewidth": 0,
              "ticks": ""
             }
            },
            "type": "scattergl"
           }
          ],
          "scattermapbox": [
           {
            "marker": {
             "colorbar": {
              "outlinewidth": 0,
              "ticks": ""
             }
            },
            "type": "scattermapbox"
           }
          ],
          "scatterpolar": [
           {
            "marker": {
             "colorbar": {
              "outlinewidth": 0,
              "ticks": ""
             }
            },
            "type": "scatterpolar"
           }
          ],
          "scatterpolargl": [
           {
            "marker": {
             "colorbar": {
              "outlinewidth": 0,
              "ticks": ""
             }
            },
            "type": "scatterpolargl"
           }
          ],
          "scatterternary": [
           {
            "marker": {
             "colorbar": {
              "outlinewidth": 0,
              "ticks": ""
             }
            },
            "type": "scatterternary"
           }
          ],
          "surface": [
           {
            "colorbar": {
             "outlinewidth": 0,
             "ticks": ""
            },
            "colorscale": [
             [
              0,
              "#0d0887"
             ],
             [
              0.1111111111111111,
              "#46039f"
             ],
             [
              0.2222222222222222,
              "#7201a8"
             ],
             [
              0.3333333333333333,
              "#9c179e"
             ],
             [
              0.4444444444444444,
              "#bd3786"
             ],
             [
              0.5555555555555556,
              "#d8576b"
             ],
             [
              0.6666666666666666,
              "#ed7953"
             ],
             [
              0.7777777777777778,
              "#fb9f3a"
             ],
             [
              0.8888888888888888,
              "#fdca26"
             ],
             [
              1,
              "#f0f921"
             ]
            ],
            "type": "surface"
           }
          ],
          "table": [
           {
            "cells": {
             "fill": {
              "color": "#EBF0F8"
             },
             "line": {
              "color": "white"
             }
            },
            "header": {
             "fill": {
              "color": "#C8D4E3"
             },
             "line": {
              "color": "white"
             }
            },
            "type": "table"
           }
          ]
         },
         "layout": {
          "annotationdefaults": {
           "arrowcolor": "#2a3f5f",
           "arrowhead": 0,
           "arrowwidth": 1
          },
          "autotypenumbers": "strict",
          "coloraxis": {
           "colorbar": {
            "outlinewidth": 0,
            "ticks": ""
           }
          },
          "colorscale": {
           "diverging": [
            [
             0,
             "#8e0152"
            ],
            [
             0.1,
             "#c51b7d"
            ],
            [
             0.2,
             "#de77ae"
            ],
            [
             0.3,
             "#f1b6da"
            ],
            [
             0.4,
             "#fde0ef"
            ],
            [
             0.5,
             "#f7f7f7"
            ],
            [
             0.6,
             "#e6f5d0"
            ],
            [
             0.7,
             "#b8e186"
            ],
            [
             0.8,
             "#7fbc41"
            ],
            [
             0.9,
             "#4d9221"
            ],
            [
             1,
             "#276419"
            ]
           ],
           "sequential": [
            [
             0,
             "#0d0887"
            ],
            [
             0.1111111111111111,
             "#46039f"
            ],
            [
             0.2222222222222222,
             "#7201a8"
            ],
            [
             0.3333333333333333,
             "#9c179e"
            ],
            [
             0.4444444444444444,
             "#bd3786"
            ],
            [
             0.5555555555555556,
             "#d8576b"
            ],
            [
             0.6666666666666666,
             "#ed7953"
            ],
            [
             0.7777777777777778,
             "#fb9f3a"
            ],
            [
             0.8888888888888888,
             "#fdca26"
            ],
            [
             1,
             "#f0f921"
            ]
           ],
           "sequentialminus": [
            [
             0,
             "#0d0887"
            ],
            [
             0.1111111111111111,
             "#46039f"
            ],
            [
             0.2222222222222222,
             "#7201a8"
            ],
            [
             0.3333333333333333,
             "#9c179e"
            ],
            [
             0.4444444444444444,
             "#bd3786"
            ],
            [
             0.5555555555555556,
             "#d8576b"
            ],
            [
             0.6666666666666666,
             "#ed7953"
            ],
            [
             0.7777777777777778,
             "#fb9f3a"
            ],
            [
             0.8888888888888888,
             "#fdca26"
            ],
            [
             1,
             "#f0f921"
            ]
           ]
          },
          "colorway": [
           "#636efa",
           "#EF553B",
           "#00cc96",
           "#ab63fa",
           "#FFA15A",
           "#19d3f3",
           "#FF6692",
           "#B6E880",
           "#FF97FF",
           "#FECB52"
          ],
          "font": {
           "color": "#2a3f5f"
          },
          "geo": {
           "bgcolor": "white",
           "lakecolor": "white",
           "landcolor": "#E5ECF6",
           "showlakes": true,
           "showland": true,
           "subunitcolor": "white"
          },
          "hoverlabel": {
           "align": "left"
          },
          "hovermode": "closest",
          "mapbox": {
           "style": "light"
          },
          "paper_bgcolor": "white",
          "plot_bgcolor": "#E5ECF6",
          "polar": {
           "angularaxis": {
            "gridcolor": "white",
            "linecolor": "white",
            "ticks": ""
           },
           "bgcolor": "#E5ECF6",
           "radialaxis": {
            "gridcolor": "white",
            "linecolor": "white",
            "ticks": ""
           }
          },
          "scene": {
           "xaxis": {
            "backgroundcolor": "#E5ECF6",
            "gridcolor": "white",
            "gridwidth": 2,
            "linecolor": "white",
            "showbackground": true,
            "ticks": "",
            "zerolinecolor": "white"
           },
           "yaxis": {
            "backgroundcolor": "#E5ECF6",
            "gridcolor": "white",
            "gridwidth": 2,
            "linecolor": "white",
            "showbackground": true,
            "ticks": "",
            "zerolinecolor": "white"
           },
           "zaxis": {
            "backgroundcolor": "#E5ECF6",
            "gridcolor": "white",
            "gridwidth": 2,
            "linecolor": "white",
            "showbackground": true,
            "ticks": "",
            "zerolinecolor": "white"
           }
          },
          "shapedefaults": {
           "line": {
            "color": "#2a3f5f"
           }
          },
          "ternary": {
           "aaxis": {
            "gridcolor": "white",
            "linecolor": "white",
            "ticks": ""
           },
           "baxis": {
            "gridcolor": "white",
            "linecolor": "white",
            "ticks": ""
           },
           "bgcolor": "#E5ECF6",
           "caxis": {
            "gridcolor": "white",
            "linecolor": "white",
            "ticks": ""
           }
          },
          "title": {
           "x": 0.05
          },
          "xaxis": {
           "automargin": true,
           "gridcolor": "white",
           "linecolor": "white",
           "ticks": "",
           "title": {
            "standoff": 15
           },
           "zerolinecolor": "white",
           "zerolinewidth": 2
          },
          "yaxis": {
           "automargin": true,
           "gridcolor": "white",
           "linecolor": "white",
           "ticks": "",
           "title": {
            "standoff": 15
           },
           "zerolinecolor": "white",
           "zerolinewidth": 2
          }
         }
        },
        "title": {
         "text": "Distribution of Travel Times in hours"
        },
        "yaxis": {
         "title": {
          "text": "Time (hours)"
         }
        }
       }
      }
     },
     "metadata": {},
     "output_type": "display_data"
    }
   ],
   "source": [
    "box_fig = go.Figure()\n",
    "box_fig.add_trace(go.Box(y=merged_data['flight_time_hours_with_extra'], name='Flight Time'))\n",
    "box_fig.add_trace(go.Box(y=merged_data['train_time_hours'], name='Train Time'))\n",
    "box_fig.update_layout(title='Distribution of Travel Times in hours', yaxis_title='Time (hours)')\n",
    "box_fig.show()"
   ]
  },
  {
   "cell_type": "code",
   "execution_count": 174,
   "metadata": {},
   "outputs": [
    {
     "data": {
      "application/vnd.plotly.v1+json": {
       "config": {
        "plotlyServerURL": "https://plot.ly"
       },
       "data": [
        {
         "alignmentgroup": "True",
         "bingroup": "x",
         "hovertemplate": "flight_time_hours_with_extra=%{x}<br>count=%{y}<extra></extra>",
         "legendgroup": "",
         "marker": {
          "color": "#636efa",
          "pattern": {
           "shape": ""
          }
         },
         "name": "",
         "nbinsx": 50,
         "offsetgroup": "",
         "orientation": "v",
         "showlegend": false,
         "type": "histogram",
         "x": [
          2.9166666666666665,
          4.333333333333333,
          4.5,
          2.9166666666666665,
          3.0833333333333335,
          5,
          5.083333333333333,
          5.2638888888888875,
          4.25,
          6.916666666666667,
          4.916666666666667,
          5.5,
          5.583333333333333,
          5.333333333333333,
          2.3333333333333335,
          3.125,
          3.3333333333333335,
          5.333333333333333,
          4.916666666666667,
          4.25,
          4.583333333333333,
          4.375,
          4.416666666666667,
          2.8333333333333335,
          2.7916666666666665,
          2.5833333333333335,
          2.6666666666666665,
          2.3333333333333335,
          3.1666666666666665,
          2.6666666666666665,
          3.9166666666666665,
          2.6666666666666665,
          3.0833333333333335,
          4.916666666666667,
          3.0833333333333335,
          4.625,
          3.6666666666666665,
          5.166666666666667,
          3.875,
          3.2916666666666665,
          2.8333333333333335,
          2.75,
          4.833333333333333,
          2.9166666666666665,
          2.8333333333333335,
          2.8333333333333335,
          3.6666666666666665,
          3.3333333333333335,
          3.125,
          2.6666666666666665,
          4.166666666666667,
          2.8333333333333335,
          2.6666666666666665,
          2.9166666666666665,
          2.6666666666666665,
          3.1666666666666665,
          2.4166666666666665,
          4.208333333333333,
          4.583333333333333,
          2.8333333333333335,
          4.583333333333333,
          2.75,
          4.166666666666667,
          3.2083333333333335,
          3,
          5.916666666666667,
          4.25,
          2.5833333333333335,
          2.7916666666666665,
          3.75,
          3.1666666666666665,
          4.208333333333333,
          3.75,
          4.5,
          5,
          4.25,
          2.75,
          5.333333333333333,
          3.0833333333333335,
          2.388888888888889,
          4.25,
          3.0416666666666665,
          2.75,
          3.5,
          3.4166666666666665,
          3.0833333333333335,
          4.666666666666667,
          3.5833333333333335,
          3.9166666666666665,
          3.5833333333333335,
          3.7916666666666665,
          3.5,
          3.25,
          4.916666666666667,
          4.25,
          2.5833333333333335,
          4.041666666666667,
          4.083333333333333,
          2.4166666666666665,
          5.5,
          4.333333333333333,
          4.666666666666667,
          3,
          3.1666666666666665,
          3.1666666666666665,
          2.5833333333333335,
          2.75,
          2.375,
          3.75,
          1.8333333333333333,
          4.25,
          3.5,
          3,
          3,
          3.0416666666666665,
          3.9166666666666665,
          3.7916666666666665,
          2.75,
          3.2083333333333335,
          3.0416666666666665,
          2.9166666666666665,
          2.8333333333333335,
          2.5833333333333335,
          4.416666666666667,
          3.6666666666666665,
          5,
          3.8333333333333335,
          5.083333333333333,
          3.75,
          4,
          3.75,
          2.7083333333333335,
          3.3055555555555554,
          2.625,
          2.7916666666666665,
          3,
          4.5,
          3.5,
          4.125,
          2.75,
          3,
          3.027777777777778,
          3.9166666666666665,
          2.6666666666666665,
          2.9166666666666665,
          3.125,
          3.125,
          2.8333333333333335,
          2.875,
          3.6666666666666665,
          4.25,
          3.5833333333333335,
          3.375,
          3.5833333333333335,
          3.75,
          3.6666666666666665,
          3.75,
          2.9166666666666665,
          2.75,
          3.75,
          2.5,
          4.041666666666667,
          3.6666666666666665,
          3.6666666666666665,
          3.25,
          4,
          5.0625,
          3.9166666666666665,
          3.5,
          4.125,
          3.075,
          4.25,
          3,
          4.166666666666667,
          3.1666666666666665,
          3.5416666666666665,
          3.6666666666666665,
          3.875,
          4.333333333333333,
          4.125,
          4.916666666666667,
          3.6666666666666665,
          3.25,
          2.7083333333333335,
          2.7916666666666665,
          3.25,
          3.1666666666666665,
          3.7083333333333335,
          3.75,
          3.1666666666666665,
          4.25,
          4,
          4.25,
          3.25,
          3.1666666666666665,
          2.9166666666666665,
          3.25,
          2.9166666666666665,
          2.6666666666666665,
          3.8333333333333335,
          4.833333333333333,
          3.1666666666666665,
          4.666666666666667,
          4.041666666666667,
          2.4166666666666665,
          4.5,
          4.083333333333333,
          4.041666666666667,
          4.291666666666667,
          4.5,
          2.5833333333333335,
          2.6666666666666665,
          4.5,
          3.5,
          3.5833333333333335,
          3.527777777777778,
          3.6666666666666665,
          4.416666666666667,
          2.4166666666666665,
          3.4166666666666665,
          2.305555555555556,
          2.1666666666666665,
          5.166666666666667,
          4.833333333333333,
          2.9583333333333335,
          2.7083333333333335,
          3.4166666666666665,
          3.6666666666666665,
          3.5,
          2.9166666666666665,
          5.416666666666667,
          3,
          2.375,
          3.5625,
          2.5,
          3.1666666666666665,
          3.25,
          3,
          3.5833333333333335,
          3.4166666666666665,
          4.75,
          3.5,
          3.1666666666666665,
          4.916666666666667,
          2.75,
          3.1111111111111116,
          3.2083333333333335,
          3.25,
          3.3333333333333335,
          4,
          3.6666666666666665,
          3.5833333333333335,
          4.416666666666667,
          3.0833333333333335,
          2.9166666666666665,
          3.375,
          3.25,
          4.166666666666667,
          3.0833333333333335,
          3.8333333333333335,
          3.2916666666666665,
          4.291666666666667,
          5.125,
          4.583333333333333,
          4.416666666666667,
          4.75,
          3.1666666666666665,
          3.25,
          3.1041666666666665,
          3.0416666666666665,
          3,
          4.25,
          4.133333333333334,
          4.083333333333333,
          2.8333333333333335,
          3.3333333333333335,
          3.5833333333333335,
          3.25,
          3.6666666666666665,
          3.5833333333333335,
          3.0833333333333335,
          3.0833333333333335,
          3.2916666666666665,
          3.5833333333333335,
          2.4166666666666665,
          2.75,
          2.75,
          2.3333333333333335,
          3.8333333333333335,
          4.166666666666667,
          2.9166666666666665,
          4.583333333333333,
          4.166666666666667,
          4.208333333333333,
          3.9166666666666665,
          5,
          3.0833333333333335,
          2.6666666666666665,
          2.5833333333333335,
          4.833333333333333,
          2.5833333333333335,
          2.75,
          3.25,
          3.7916666666666665,
          2.9166666666666665,
          4.416666666666667,
          4.458333333333333,
          4.083333333333333,
          4.416666666666667,
          3.125,
          3.5,
          3.8333333333333335,
          3.6666666666666665,
          3.4166666666666665,
          4.416666666666667,
          2.9166666666666665,
          3.7916666666666665,
          4.5,
          4.25,
          2.5833333333333335,
          3.375,
          3.25,
          4.25,
          4.645833333333333,
          2.2916666666666665,
          4.125,
          4.083333333333333,
          2.5833333333333335,
          3.25,
          2.5,
          3.25,
          2.5833333333333335,
          3.625,
          3.4166666666666665,
          3.5,
          2.8333333333333335,
          3.6666666666666665,
          2.4166666666666665,
          3,
          2.5833333333333335,
          4,
          4.166666666666667,
          2.6666666666666665,
          4.583333333333333,
          3.0833333333333335,
          4.041666666666667,
          3,
          2.6666666666666665,
          3.8333333333333335,
          3.5,
          2.625,
          3.8333333333333335,
          3.3333333333333335,
          3.75,
          2.6666666666666665,
          2.8333333333333335,
          2.75,
          2.5833333333333335,
          3.2083333333333335,
          3.5833333333333335,
          2.5,
          3.9166666666666665,
          3.0833333333333335,
          3.3333333333333335,
          3.6666666666666665,
          3.9166666666666665,
          2.75,
          3.4166666666666665,
          4.333333333333333,
          3.75,
          4.583333333333333,
          4.25,
          2.75,
          3.7083333333333335,
          3,
          2.5,
          3.125,
          2.5,
          2.4166666666666665,
          3.1666666666666665,
          2.75,
          2.5833333333333335,
          2.3333333333333335,
          3.0416666666666665,
          3.25,
          2.9166666666666665,
          2.5833333333333335,
          2.625,
          4.166666666666667,
          2.25,
          3.125,
          2.5,
          3,
          3.25,
          2.7916666666666665,
          3.25,
          2.5833333333333335,
          2.8333333333333335,
          2.25,
          3.8333333333333335,
          3,
          2.6666666666666665,
          2.3333333333333335,
          2.5833333333333335,
          2.8333333333333335,
          2.9444444444444446,
          3.5,
          2.9166666666666665,
          3.0833333333333335,
          2.5,
          3.1666666666666665,
          3.5833333333333335,
          2.8333333333333335,
          5.416666666666667,
          2.75,
          3.75,
          2.9583333333333335,
          2.6666666666666665,
          4.166666666666667,
          3,
          3.3333333333333335,
          3.1666666666666665,
          3.25,
          2.8333333333333335,
          3.75,
          3.125,
          3.5833333333333335,
          2.75,
          3.75,
          3.7916666666666665,
          3.1666666666666665,
          2.4166666666666665,
          2.6666666666666665,
          4.833333333333333,
          2,
          2.5833333333333335,
          5.583333333333333,
          4.125,
          4.333333333333333,
          3.5416666666666665,
          3.4583333333333335,
          2.5416666666666665,
          2.7916666666666665,
          4.416666666666667,
          3.75,
          3.8333333333333335,
          2.6666666666666665,
          2.4166666666666665,
          2.75,
          2.3333333333333335,
          3.625,
          4.083333333333333,
          2.5833333333333335,
          3.5555555555555554,
          3.8333333333333335,
          2.4583333333333335,
          3.125,
          3.25,
          3.25,
          3.4166666666666665,
          4.305555555555556,
          2,
          4.75,
          6,
          2.7083333333333335,
          6.458333333333333,
          6.375,
          6.277777777777778,
          6.791666666666667,
          5.208333333333333,
          3.5,
          3.5,
          4.291666666666667,
          3.2916666666666665,
          4.041666666666667,
          3.25,
          3.75,
          3.9583333333333335,
          3.5,
          3.5,
          4.25,
          3.5,
          3.2916666666666665,
          4.083333333333333,
          3.9583333333333335,
          3.625,
          3.3333333333333335,
          3.7916666666666665,
          3.4166666666666665,
          4.166666666666667,
          2.5416666666666665,
          4.583333333333333,
          2.4166666666666665,
          3.8333333333333335,
          3.7083333333333335,
          2.3333333333333335,
          2.75,
          4.75,
          4.083333333333333,
          4.055555555555555,
          3.9583333333333335,
          3.8958333333333335,
          3.9166666666666665,
          2.5,
          2.6666666666666665,
          3.5,
          3.2916666666666665,
          3.2083333333333335,
          3.75,
          3.25,
          3.25,
          4.291666666666667,
          2.8333333333333335,
          3.5,
          4.541666666666667,
          4.041666666666667,
          3.6666666666666665,
          2.777777777777778,
          2.4166666666666665,
          3.3333333333333335,
          2.75,
          4.666666666666667,
          4.333333333333333,
          3.75,
          5.25,
          3.0833333333333335,
          4.166666666666667,
          3.9583333333333335,
          5.583333333333333,
          5.083333333333333,
          3.3333333333333335,
          3.0833333333333335,
          3.9166666666666665,
          3.5833333333333335,
          2.6944444444444446,
          3.1666666666666665,
          2.9166666666666665,
          2.75,
          2.8333333333333335,
          4.583333333333333,
          3.3333333333333335,
          3.2916666666666665,
          3.3333333333333335,
          3.625,
          3.375,
          3.2083333333333335,
          3.25,
          3.2916666666666665,
          3.5,
          3.375,
          3.9583333333333335,
          3.9166666666666665,
          4.083333333333333,
          3.6666666666666665,
          3.4583333333333335,
          3.6666666666666665,
          2.7916666666666665,
          3.9583333333333335,
          4.833333333333333,
          4.958333333333333,
          4.666666666666667,
          4.75,
          3.6666666666666665,
          3.5,
          3.4166666666666665,
          3.8333333333333335,
          3.75,
          3.2916666666666665,
          2.8333333333333335,
          3.4166666666666665,
          2.9166666666666665,
          2.875,
          3.0833333333333335,
          3.4166666666666665,
          4.583333333333333,
          3.9166666666666665,
          2.6666666666666665,
          3.1666666666666665,
          3.125,
          3.25,
          4.666666666666667,
          3.4583333333333335,
          3.4166666666666665,
          4.333333333333333,
          4.083333333333333,
          4.020833333333333,
          4.583333333333333,
          4.083333333333333,
          6.083333333333333,
          4.25,
          4.25,
          4.166666666666667,
          3.9166666666666665,
          2.8333333333333335,
          4.666666666666667,
          2.5,
          3.0416666666666665,
          5.666666666666667,
          2.8333333333333335,
          2.75,
          2.8333333333333335,
          4.583333333333333,
          3.8333333333333335,
          3.75,
          4.916666666666667,
          4.875,
          5.25,
          4.291666666666667,
          4.416666666666667,
          3.625,
          3.5833333333333335,
          4.208333333333333,
          2.75,
          4.166666666666667,
          4.583333333333333,
          2.7083333333333335,
          3.8333333333333335,
          3.4166666666666665,
          2.8333333333333335,
          2.75,
          2.9166666666666665,
          2.9166666666666665,
          3.9583333333333335,
          4.416666666666667,
          2.75,
          4.458333333333333,
          4.291666666666667,
          2.7916666666666665,
          2.5208333333333335,
          2.6666666666666665,
          4.208333333333333,
          2.9583333333333335,
          3.125,
          4.291666666666667,
          3.5833333333333335,
          3.4166666666666665,
          3.1666666666666665,
          3.4166666666666665,
          3.4444444444444446,
          4.375,
          4,
          2.5416666666666665,
          4.083333333333333,
          3.5833333333333335,
          3.6666666666666665,
          3.75,
          4.333333333333333,
          4.333333333333333,
          4.333333333333333,
          3.75,
          3.9166666666666665,
          3.9166666666666665,
          3.7916666666666665,
          4.583333333333333,
          4.75,
          4.291666666666667,
          4.833333333333333,
          2.6666666666666665,
          2.8333333333333335,
          3.5833333333333335,
          2.9583333333333335,
          3.5,
          3.0833333333333335,
          3.5,
          3.0833333333333335,
          2.875,
          3.25,
          3.8333333333333335,
          2.5833333333333335,
          3.2916666666666665,
          3,
          5,
          4.75,
          4.791666666666667,
          3.875,
          4.5,
          4.166666666666667,
          4.333333333333333,
          3.6666666666666665,
          4.5,
          3.75,
          3.4166666666666665,
          2.625,
          2.7916666666666665,
          2.4166666666666665,
          2.5833333333333335,
          2.3333333333333335,
          2.7916666666666665,
          3.3333333333333335,
          3.5,
          2.3333333333333335,
          3.9166666666666665,
          3.4583333333333335,
          3.9583333333333335,
          3,
          3,
          3.0833333333333335,
          3.4583333333333335,
          4.583333333333333,
          3.4375,
          2.6666666666666665,
          3.6666666666666665,
          3.625,
          3.3333333333333335,
          3,
          4.25,
          2.4583333333333335,
          3.4583333333333335,
          2.9166666666666665,
          3.7916666666666665,
          2.5833333333333335,
          2.4166666666666665,
          3.5,
          2.7916666666666665,
          3.0416666666666665,
          2.5,
          4.416666666666667,
          2.75,
          2.8333333333333335,
          3.25,
          3.5833333333333335,
          3.9166666666666665,
          3.1111111111111116,
          3.5,
          2.7083333333333335,
          4.666666666666667,
          4.458333333333333,
          2.8333333333333335,
          4.541666666666667,
          4.333333333333333,
          3.0416666666666665,
          2.875,
          3,
          3.9166666666666665,
          4.416666666666667,
          4.416666666666667,
          3.5833333333333335,
          2.875,
          2.8333333333333335,
          2.9166666666666665,
          2.7083333333333335,
          3.5833333333333335,
          2.9166666666666665,
          2.9166666666666665,
          2.9583333333333335,
          3.75,
          3,
          2.75,
          3.4444444444444446,
          5.666666666666667,
          3.4166666666666665,
          2.7083333333333335,
          2.4375,
          4,
          2.4166666666666665,
          3.5833333333333335,
          2.5,
          3.4583333333333335,
          4,
          4.166666666666667,
          4.166666666666667,
          3.5833333333333335,
          2.9166666666666665,
          2.75,
          3.7083333333333335,
          3.9375,
          3.0833333333333335,
          2.8333333333333335,
          3.4166666666666665,
          3.1666666666666665,
          3,
          2.75,
          3.4583333333333335,
          3.0833333333333335,
          4.166666666666667,
          3.25,
          2.5,
          3.625,
          2.8333333333333335,
          4.666666666666667,
          3.1666666666666665,
          3.0833333333333335,
          3.0416666666666665,
          2.5833333333333335,
          4.833333333333333,
          3.9583333333333335,
          2.8333333333333335,
          3.25,
          3,
          3.75,
          4.583333333333333,
          4.145833333333333,
          3.5833333333333335,
          3.25,
          2.75,
          4.375,
          3.861111111111111,
          3.9166666666666665,
          4.5,
          4.25,
          6,
          2.15,
          4.416666666666667,
          3.7083333333333335,
          2.3333333333333335,
          3.625,
          4.375,
          3,
          4.541666666666667,
          3.2083333333333335,
          2.7083333333333335,
          3.0416666666666665,
          3.4166666666666665,
          3.0833333333333335,
          3.75,
          2.6666666666666665,
          3.0416666666666665,
          4.125,
          4.416666666666667,
          4.083333333333333,
          3.25,
          3.75,
          3.9166666666666665,
          4.583333333333333,
          2.9166666666666665,
          3.6666666666666665,
          4.875,
          2.8333333333333335,
          4.416666666666667,
          3.5,
          4.833333333333333,
          4.583333333333333,
          4.25,
          4.083333333333333,
          3.75,
          3.5416666666666665,
          4.75,
          4.833333333333333,
          4.833333333333333,
          5.166666666666667,
          3.5,
          3.3333333333333335,
          2.3333333333333335,
          3.0833333333333335,
          3.5,
          3.2083333333333335,
          3.75,
          4,
          3.6666666666666665,
          2.7916666666666665,
          4.041666666666667,
          3.3333333333333335,
          4.875,
          2.5833333333333335,
          4.333333333333333,
          3.6666666666666665,
          3.9166666666666665,
          3.8333333333333335,
          3.8333333333333335,
          3.5,
          4.083333333333333,
          3.1666666666666665,
          3.9583333333333335,
          3.5833333333333335,
          3.4166666666666665,
          3.7083333333333335,
          4.083333333333333,
          3.6666666666666665,
          4.666666666666667,
          4.5,
          4.25,
          3.875,
          3.4166666666666665,
          4.583333333333333,
          3.4583333333333335,
          3.6666666666666665,
          3.5,
          3.6666666666666665,
          4.083333333333333,
          3.5416666666666665,
          3.75,
          3.75,
          3.7083333333333335,
          3.9166666666666665,
          4,
          3.0833333333333335,
          3.2916666666666665,
          2.3333333333333335,
          3.75,
          3.3958333333333335,
          3.375,
          4.041666666666667,
          3.472222222222222,
          3.1666666666666665,
          4.166666666666667,
          4.166666666666667,
          2.625,
          4.5,
          4.083333333333333,
          4,
          4.333333333333333,
          5.416666666666667,
          3.25,
          3.625,
          3.5833333333333335,
          2.7916666666666665,
          4,
          3.5833333333333335,
          3,
          4.75,
          4.333333333333333,
          3.4166666666666665,
          3.1666666666666665,
          2.5,
          4.208333333333333,
          2.9583333333333335,
          3,
          4.208333333333333,
          3.2916666666666665,
          4.125,
          3.9583333333333335,
          3.6666666666666665,
          3.5416666666666665,
          3.5,
          2.9166666666666665,
          3.2083333333333335,
          3.2083333333333335,
          3.25,
          3.3333333333333335,
          2.5,
          4.416666666666667,
          2.0833333333333335,
          4.333333333333333,
          2.3333333333333335,
          2.9166666666666665,
          3.2916666666666665,
          4,
          2.25,
          2.375,
          4.25,
          2.9166666666666665,
          3.4166666666666665,
          3.75,
          3.4166666666666665,
          2.7083333333333335,
          4.083333333333333,
          3.2916666666666665,
          4.208333333333333,
          3.2083333333333335,
          3.125,
          3.5,
          3.1666666666666665,
          3,
          2.75,
          3.6666666666666665,
          3.25,
          3.9166666666666665,
          2.5,
          2.9166666666666665,
          4.916666666666667,
          3.8333333333333335,
          3.8541666666666665,
          3.6666666666666665,
          4.916666666666667,
          4.291666666666667,
          3.625,
          3.25,
          3.0833333333333335,
          2.5833333333333335,
          2.5,
          4.25,
          4.166666666666667,
          3.375,
          3.4583333333333335,
          2.8333333333333335,
          3.3333333333333335,
          3.3333333333333335,
          3.3055555555555554,
          4.25,
          2.75,
          3,
          3.8333333333333335,
          3.75,
          4.666666666666667,
          4.25,
          3.9166666666666665,
          2.5833333333333335,
          2.75,
          3.0833333333333335,
          3.1666666666666665,
          3.25,
          2.75,
          4.833333333333333,
          3.5833333333333335,
          3.875,
          2.9166666666666665,
          3.25,
          3.5416666666666665,
          2.8333333333333335,
          3.0833333333333335,
          3.0833333333333335,
          3.9583333333333335,
          2.25,
          3.875,
          3.3333333333333335,
          4.666666666666667,
          2.5416666666666665,
          2.9166666666666665,
          3.1666666666666665,
          2.75,
          5.166666666666667,
          2.8611111111111116,
          3.4166666666666665,
          3.3333333333333335,
          3.875,
          2.5416666666666665,
          3.0833333333333335,
          5.916666666666667,
          4.166666666666667,
          3.5833333333333335,
          4.083333333333333,
          3.5833333333333335,
          3.2916666666666665,
          3.4166666666666665,
          3.5833333333333335,
          3.2916666666666665,
          3.0833333333333335,
          2.3333333333333335,
          1.6666666666666667,
          3.6666666666666665,
          4,
          4.666666666666667,
          4.575,
          3.625,
          3.625,
          3.5833333333333335,
          2.8333333333333335,
          4,
          3,
          2.4583333333333335,
          3.8333333333333335,
          3.8333333333333335,
          2.4583333333333335,
          2.3333333333333335,
          4.333333333333333,
          4.083333333333333,
          3.0833333333333335,
          3.25,
          3.3333333333333335,
          2.8333333333333335,
          2.625,
          3.5,
          2.444444444444444,
          3.5833333333333335,
          5.458333333333333,
          3.7916666666666665,
          5.166666666666667,
          3.5833333333333335,
          3.4166666666666665,
          4.625,
          3.25,
          2.7916666666666665,
          3.6666666666666665,
          3.4166666666666665,
          3.0833333333333335,
          4.083333333333333,
          2.6666666666666665,
          2.3333333333333335,
          3,
          3.25,
          3.25,
          2.6666666666666665,
          2.7083333333333335,
          2.75,
          3.75,
          3.5,
          2.4166666666666665,
          3.9166666666666665,
          2.4166666666666665,
          4.166666666666667,
          4,
          3.625,
          2.25
         ],
         "xaxis": "x",
         "yaxis": "y"
        }
       ],
       "layout": {
        "barmode": "relative",
        "legend": {
         "tracegroupgap": 0
        },
        "margin": {
         "t": 60
        },
        "template": {
         "data": {
          "bar": [
           {
            "error_x": {
             "color": "#2a3f5f"
            },
            "error_y": {
             "color": "#2a3f5f"
            },
            "marker": {
             "line": {
              "color": "#E5ECF6",
              "width": 0.5
             },
             "pattern": {
              "fillmode": "overlay",
              "size": 10,
              "solidity": 0.2
             }
            },
            "type": "bar"
           }
          ],
          "barpolar": [
           {
            "marker": {
             "line": {
              "color": "#E5ECF6",
              "width": 0.5
             },
             "pattern": {
              "fillmode": "overlay",
              "size": 10,
              "solidity": 0.2
             }
            },
            "type": "barpolar"
           }
          ],
          "carpet": [
           {
            "aaxis": {
             "endlinecolor": "#2a3f5f",
             "gridcolor": "white",
             "linecolor": "white",
             "minorgridcolor": "white",
             "startlinecolor": "#2a3f5f"
            },
            "baxis": {
             "endlinecolor": "#2a3f5f",
             "gridcolor": "white",
             "linecolor": "white",
             "minorgridcolor": "white",
             "startlinecolor": "#2a3f5f"
            },
            "type": "carpet"
           }
          ],
          "choropleth": [
           {
            "colorbar": {
             "outlinewidth": 0,
             "ticks": ""
            },
            "type": "choropleth"
           }
          ],
          "contour": [
           {
            "colorbar": {
             "outlinewidth": 0,
             "ticks": ""
            },
            "colorscale": [
             [
              0,
              "#0d0887"
             ],
             [
              0.1111111111111111,
              "#46039f"
             ],
             [
              0.2222222222222222,
              "#7201a8"
             ],
             [
              0.3333333333333333,
              "#9c179e"
             ],
             [
              0.4444444444444444,
              "#bd3786"
             ],
             [
              0.5555555555555556,
              "#d8576b"
             ],
             [
              0.6666666666666666,
              "#ed7953"
             ],
             [
              0.7777777777777778,
              "#fb9f3a"
             ],
             [
              0.8888888888888888,
              "#fdca26"
             ],
             [
              1,
              "#f0f921"
             ]
            ],
            "type": "contour"
           }
          ],
          "contourcarpet": [
           {
            "colorbar": {
             "outlinewidth": 0,
             "ticks": ""
            },
            "type": "contourcarpet"
           }
          ],
          "heatmap": [
           {
            "colorbar": {
             "outlinewidth": 0,
             "ticks": ""
            },
            "colorscale": [
             [
              0,
              "#0d0887"
             ],
             [
              0.1111111111111111,
              "#46039f"
             ],
             [
              0.2222222222222222,
              "#7201a8"
             ],
             [
              0.3333333333333333,
              "#9c179e"
             ],
             [
              0.4444444444444444,
              "#bd3786"
             ],
             [
              0.5555555555555556,
              "#d8576b"
             ],
             [
              0.6666666666666666,
              "#ed7953"
             ],
             [
              0.7777777777777778,
              "#fb9f3a"
             ],
             [
              0.8888888888888888,
              "#fdca26"
             ],
             [
              1,
              "#f0f921"
             ]
            ],
            "type": "heatmap"
           }
          ],
          "heatmapgl": [
           {
            "colorbar": {
             "outlinewidth": 0,
             "ticks": ""
            },
            "colorscale": [
             [
              0,
              "#0d0887"
             ],
             [
              0.1111111111111111,
              "#46039f"
             ],
             [
              0.2222222222222222,
              "#7201a8"
             ],
             [
              0.3333333333333333,
              "#9c179e"
             ],
             [
              0.4444444444444444,
              "#bd3786"
             ],
             [
              0.5555555555555556,
              "#d8576b"
             ],
             [
              0.6666666666666666,
              "#ed7953"
             ],
             [
              0.7777777777777778,
              "#fb9f3a"
             ],
             [
              0.8888888888888888,
              "#fdca26"
             ],
             [
              1,
              "#f0f921"
             ]
            ],
            "type": "heatmapgl"
           }
          ],
          "histogram": [
           {
            "marker": {
             "pattern": {
              "fillmode": "overlay",
              "size": 10,
              "solidity": 0.2
             }
            },
            "type": "histogram"
           }
          ],
          "histogram2d": [
           {
            "colorbar": {
             "outlinewidth": 0,
             "ticks": ""
            },
            "colorscale": [
             [
              0,
              "#0d0887"
             ],
             [
              0.1111111111111111,
              "#46039f"
             ],
             [
              0.2222222222222222,
              "#7201a8"
             ],
             [
              0.3333333333333333,
              "#9c179e"
             ],
             [
              0.4444444444444444,
              "#bd3786"
             ],
             [
              0.5555555555555556,
              "#d8576b"
             ],
             [
              0.6666666666666666,
              "#ed7953"
             ],
             [
              0.7777777777777778,
              "#fb9f3a"
             ],
             [
              0.8888888888888888,
              "#fdca26"
             ],
             [
              1,
              "#f0f921"
             ]
            ],
            "type": "histogram2d"
           }
          ],
          "histogram2dcontour": [
           {
            "colorbar": {
             "outlinewidth": 0,
             "ticks": ""
            },
            "colorscale": [
             [
              0,
              "#0d0887"
             ],
             [
              0.1111111111111111,
              "#46039f"
             ],
             [
              0.2222222222222222,
              "#7201a8"
             ],
             [
              0.3333333333333333,
              "#9c179e"
             ],
             [
              0.4444444444444444,
              "#bd3786"
             ],
             [
              0.5555555555555556,
              "#d8576b"
             ],
             [
              0.6666666666666666,
              "#ed7953"
             ],
             [
              0.7777777777777778,
              "#fb9f3a"
             ],
             [
              0.8888888888888888,
              "#fdca26"
             ],
             [
              1,
              "#f0f921"
             ]
            ],
            "type": "histogram2dcontour"
           }
          ],
          "mesh3d": [
           {
            "colorbar": {
             "outlinewidth": 0,
             "ticks": ""
            },
            "type": "mesh3d"
           }
          ],
          "parcoords": [
           {
            "line": {
             "colorbar": {
              "outlinewidth": 0,
              "ticks": ""
             }
            },
            "type": "parcoords"
           }
          ],
          "pie": [
           {
            "automargin": true,
            "type": "pie"
           }
          ],
          "scatter": [
           {
            "fillpattern": {
             "fillmode": "overlay",
             "size": 10,
             "solidity": 0.2
            },
            "type": "scatter"
           }
          ],
          "scatter3d": [
           {
            "line": {
             "colorbar": {
              "outlinewidth": 0,
              "ticks": ""
             }
            },
            "marker": {
             "colorbar": {
              "outlinewidth": 0,
              "ticks": ""
             }
            },
            "type": "scatter3d"
           }
          ],
          "scattercarpet": [
           {
            "marker": {
             "colorbar": {
              "outlinewidth": 0,
              "ticks": ""
             }
            },
            "type": "scattercarpet"
           }
          ],
          "scattergeo": [
           {
            "marker": {
             "colorbar": {
              "outlinewidth": 0,
              "ticks": ""
             }
            },
            "type": "scattergeo"
           }
          ],
          "scattergl": [
           {
            "marker": {
             "colorbar": {
              "outlinewidth": 0,
              "ticks": ""
             }
            },
            "type": "scattergl"
           }
          ],
          "scattermapbox": [
           {
            "marker": {
             "colorbar": {
              "outlinewidth": 0,
              "ticks": ""
             }
            },
            "type": "scattermapbox"
           }
          ],
          "scatterpolar": [
           {
            "marker": {
             "colorbar": {
              "outlinewidth": 0,
              "ticks": ""
             }
            },
            "type": "scatterpolar"
           }
          ],
          "scatterpolargl": [
           {
            "marker": {
             "colorbar": {
              "outlinewidth": 0,
              "ticks": ""
             }
            },
            "type": "scatterpolargl"
           }
          ],
          "scatterternary": [
           {
            "marker": {
             "colorbar": {
              "outlinewidth": 0,
              "ticks": ""
             }
            },
            "type": "scatterternary"
           }
          ],
          "surface": [
           {
            "colorbar": {
             "outlinewidth": 0,
             "ticks": ""
            },
            "colorscale": [
             [
              0,
              "#0d0887"
             ],
             [
              0.1111111111111111,
              "#46039f"
             ],
             [
              0.2222222222222222,
              "#7201a8"
             ],
             [
              0.3333333333333333,
              "#9c179e"
             ],
             [
              0.4444444444444444,
              "#bd3786"
             ],
             [
              0.5555555555555556,
              "#d8576b"
             ],
             [
              0.6666666666666666,
              "#ed7953"
             ],
             [
              0.7777777777777778,
              "#fb9f3a"
             ],
             [
              0.8888888888888888,
              "#fdca26"
             ],
             [
              1,
              "#f0f921"
             ]
            ],
            "type": "surface"
           }
          ],
          "table": [
           {
            "cells": {
             "fill": {
              "color": "#EBF0F8"
             },
             "line": {
              "color": "white"
             }
            },
            "header": {
             "fill": {
              "color": "#C8D4E3"
             },
             "line": {
              "color": "white"
             }
            },
            "type": "table"
           }
          ]
         },
         "layout": {
          "annotationdefaults": {
           "arrowcolor": "#2a3f5f",
           "arrowhead": 0,
           "arrowwidth": 1
          },
          "autotypenumbers": "strict",
          "coloraxis": {
           "colorbar": {
            "outlinewidth": 0,
            "ticks": ""
           }
          },
          "colorscale": {
           "diverging": [
            [
             0,
             "#8e0152"
            ],
            [
             0.1,
             "#c51b7d"
            ],
            [
             0.2,
             "#de77ae"
            ],
            [
             0.3,
             "#f1b6da"
            ],
            [
             0.4,
             "#fde0ef"
            ],
            [
             0.5,
             "#f7f7f7"
            ],
            [
             0.6,
             "#e6f5d0"
            ],
            [
             0.7,
             "#b8e186"
            ],
            [
             0.8,
             "#7fbc41"
            ],
            [
             0.9,
             "#4d9221"
            ],
            [
             1,
             "#276419"
            ]
           ],
           "sequential": [
            [
             0,
             "#0d0887"
            ],
            [
             0.1111111111111111,
             "#46039f"
            ],
            [
             0.2222222222222222,
             "#7201a8"
            ],
            [
             0.3333333333333333,
             "#9c179e"
            ],
            [
             0.4444444444444444,
             "#bd3786"
            ],
            [
             0.5555555555555556,
             "#d8576b"
            ],
            [
             0.6666666666666666,
             "#ed7953"
            ],
            [
             0.7777777777777778,
             "#fb9f3a"
            ],
            [
             0.8888888888888888,
             "#fdca26"
            ],
            [
             1,
             "#f0f921"
            ]
           ],
           "sequentialminus": [
            [
             0,
             "#0d0887"
            ],
            [
             0.1111111111111111,
             "#46039f"
            ],
            [
             0.2222222222222222,
             "#7201a8"
            ],
            [
             0.3333333333333333,
             "#9c179e"
            ],
            [
             0.4444444444444444,
             "#bd3786"
            ],
            [
             0.5555555555555556,
             "#d8576b"
            ],
            [
             0.6666666666666666,
             "#ed7953"
            ],
            [
             0.7777777777777778,
             "#fb9f3a"
            ],
            [
             0.8888888888888888,
             "#fdca26"
            ],
            [
             1,
             "#f0f921"
            ]
           ]
          },
          "colorway": [
           "#636efa",
           "#EF553B",
           "#00cc96",
           "#ab63fa",
           "#FFA15A",
           "#19d3f3",
           "#FF6692",
           "#B6E880",
           "#FF97FF",
           "#FECB52"
          ],
          "font": {
           "color": "#2a3f5f"
          },
          "geo": {
           "bgcolor": "white",
           "lakecolor": "white",
           "landcolor": "#E5ECF6",
           "showlakes": true,
           "showland": true,
           "subunitcolor": "white"
          },
          "hoverlabel": {
           "align": "left"
          },
          "hovermode": "closest",
          "mapbox": {
           "style": "light"
          },
          "paper_bgcolor": "white",
          "plot_bgcolor": "#E5ECF6",
          "polar": {
           "angularaxis": {
            "gridcolor": "white",
            "linecolor": "white",
            "ticks": ""
           },
           "bgcolor": "#E5ECF6",
           "radialaxis": {
            "gridcolor": "white",
            "linecolor": "white",
            "ticks": ""
           }
          },
          "scene": {
           "xaxis": {
            "backgroundcolor": "#E5ECF6",
            "gridcolor": "white",
            "gridwidth": 2,
            "linecolor": "white",
            "showbackground": true,
            "ticks": "",
            "zerolinecolor": "white"
           },
           "yaxis": {
            "backgroundcolor": "#E5ECF6",
            "gridcolor": "white",
            "gridwidth": 2,
            "linecolor": "white",
            "showbackground": true,
            "ticks": "",
            "zerolinecolor": "white"
           },
           "zaxis": {
            "backgroundcolor": "#E5ECF6",
            "gridcolor": "white",
            "gridwidth": 2,
            "linecolor": "white",
            "showbackground": true,
            "ticks": "",
            "zerolinecolor": "white"
           }
          },
          "shapedefaults": {
           "line": {
            "color": "#2a3f5f"
           }
          },
          "ternary": {
           "aaxis": {
            "gridcolor": "white",
            "linecolor": "white",
            "ticks": ""
           },
           "baxis": {
            "gridcolor": "white",
            "linecolor": "white",
            "ticks": ""
           },
           "bgcolor": "#E5ECF6",
           "caxis": {
            "gridcolor": "white",
            "linecolor": "white",
            "ticks": ""
           }
          },
          "title": {
           "x": 0.05
          },
          "xaxis": {
           "automargin": true,
           "gridcolor": "white",
           "linecolor": "white",
           "ticks": "",
           "title": {
            "standoff": 15
           },
           "zerolinecolor": "white",
           "zerolinewidth": 2
          },
          "yaxis": {
           "automargin": true,
           "gridcolor": "white",
           "linecolor": "white",
           "ticks": "",
           "title": {
            "standoff": 15
           },
           "zerolinecolor": "white",
           "zerolinewidth": 2
          }
         }
        },
        "title": {
         "text": "Histogram of All Flight Times (hours, including 90min extra)"
        },
        "xaxis": {
         "anchor": "y",
         "domain": [
          0,
          1
         ],
         "title": {
          "text": "Flight Time (hours)"
         }
        },
        "yaxis": {
         "anchor": "x",
         "domain": [
          0,
          1
         ],
         "title": {
          "text": "Count"
         }
        }
       }
      }
     },
     "metadata": {},
     "output_type": "display_data"
    },
    {
     "data": {
      "application/vnd.plotly.v1+json": {
       "config": {
        "plotlyServerURL": "https://plot.ly"
       },
       "data": [
        {
         "alignmentgroup": "True",
         "bingroup": "x",
         "hovertemplate": "train_time_hours=%{x}<br>count=%{y}<extra></extra>",
         "legendgroup": "",
         "marker": {
          "color": "#636efa",
          "pattern": {
           "shape": ""
          }
         },
         "name": "",
         "nbinsx": 50,
         "offsetgroup": "",
         "orientation": "v",
         "showlegend": false,
         "type": "histogram",
         "x": [
          12.083333333333334,
          30.616666666666667,
          30.616666666666667,
          12.783333333333333,
          7.65,
          34.36666666666667,
          22.933333333333334,
          22.933333333333334,
          22.933333333333334,
          83.78333333333333,
          36.233333333333334,
          27.966666666666665,
          36.56666666666667,
          75.15277777777779,
          9.80888888888889,
          5.533333333333333,
          13.266666666666667,
          68.81666666666666,
          32.766666666666666,
          25.9,
          25.9,
          25.9,
          25.9,
          3.0166666666666666,
          15.766666666666667,
          21.083333333333332,
          15.25,
          14.694166666666666,
          15.860833333333334,
          5.3,
          26.616666666666667,
          2.466666666666667,
          10.7,
          41.916666666666664,
          18.183333333333334,
          27.466666666666665,
          19.266666666666666,
          51.28333333333333,
          12.316666666666666,
          32.53333333333333,
          6.8,
          9.1,
          49.13888888888889,
          7.45,
          3.45,
          8.516666666666667,
          21.5,
          20.675,
          8.35,
          5.483333333333333,
          31.866666666666667,
          5.216666666666667,
          3.933333333333333,
          3.933333333333333,
          3.933333333333333,
          7.55,
          7.2,
          50.166666666666664,
          35.85,
          11.65,
          43.766666666666666,
          7.333333333333333,
          25.033333333333335,
          9.3,
          23.383333333333333,
          70.85,
          27.683333333333334,
          3.1,
          16.066666666666666,
          19.483333333333334,
          23.05,
          63.778888888888886,
          56.43333333333333,
          48.266666666666666,
          56.96666666666667,
          49,
          8.289722222222222,
          53.65,
          22.983333333333334,
          5.383333333333334,
          54.03333333333333,
          6.216666666666667,
          6.333333333333333,
          10.45,
          10.45,
          12.783333333333333,
          31.066666666666666,
          10.75,
          10.75,
          10.75,
          10.75,
          21.966666666666665,
          11.283333333333333,
          46.86666666666667,
          33.95,
          7.75,
          27.166666666666668,
          25.55,
          3.410277777777778,
          61,
          36.78333333333333,
          52.416666666666664,
          11.333333333333334,
          21.483333333333334,
          21.333333333333332,
          12.561666666666667,
          12.561666666666667,
          7.7,
          26.16166666666667,
          1.3333333333333333,
          28.966666666666665,
          20.016666666666666,
          10.883333333333333,
          18.55,
          11.033333333333333,
          37.225,
          28.983333333333334,
          4.666666666666667,
          9.137222222222222,
          23.91166666666667,
          16.16166666666667,
          16.16166666666667,
          12.411666666666667,
          27.316666666666666,
          12.166666666666666,
          37.16861111111111,
          36.516666666666666,
          40.63333333333333,
          18.816666666666666,
          24.883333333333333,
          11.933333333333334,
          8.45,
          12.05,
          5.666666666666667,
          24.833333333333332,
          14.533333333333333,
          34.333333333333336,
          30.418611111111108,
          28.016666666666666,
          6.483333333333333,
          8.016666666666667,
          19.533333333333335,
          23.433333333333334,
          4.15,
          7.4,
          8.4,
          8.7675,
          8.066666666666666,
          7.25,
          24.416666666666668,
          28.016666666666666,
          15.25,
          9.65,
          36.3,
          19.6,
          9.45,
          9.45,
          6.783333333333333,
          4.333333333333333,
          19.900555555555556,
          6.033333333333333,
          27.183333333333334,
          35.274722222222216,
          18.11916666666667,
          16.9725,
          22.7,
          35.45,
          29.65,
          42.21666666666667,
          24.6,
          13.216666666666667,
          25.533333333333335,
          12.766666666666667,
          26.05,
          20.666666666666668,
          19.816666666666666,
          28.9925,
          47.583333333333336,
          24.05,
          24.05,
          32,
          23.65277777777778,
          13.783333333333333,
          6.716666666666667,
          10.033333333333333,
          9.066666666666666,
          10.7,
          42.016666666666666,
          23.966666666666665,
          8.499166666666666,
          13.883333333333333,
          13.883333333333333,
          22.516666666666666,
          6.816666666666666,
          6.816666666666666,
          4.6,
          8.516666666666667,
          2.5,
          1.5166666666666666,
          19.966666666666665,
          41.86666666666667,
          6.1,
          29.016666666666666,
          21.783333333333335,
          9.55,
          45.75,
          31.766666666666666,
          41.5,
          41.5,
          27.5,
          4.416666666666667,
          4.416666666666667,
          46.66361111111111,
          14.3,
          30.316666666666666,
          28.933333333333334,
          26.283333333333335,
          34.43333333333333,
          9.55,
          10.45,
          4.783333333333333,
          3.1333333333333333,
          34.15,
          34.233333333333334,
          10.566666666666666,
          5.333333333333333,
          21.05,
          22.25,
          20.4,
          9.383333333333333,
          37.05,
          9.5,
          3.8333333333333335,
          21.35,
          4.666666666666667,
          18.133333333333333,
          14.466666666666667,
          27.833333333333332,
          21.35,
          21.35,
          30.316666666666666,
          23.883333333333333,
          11.316666666666666,
          45.9,
          8.233333333333333,
          13.55,
          19.233333333333334,
          14.583333333333334,
          26.135277777777777,
          33.70194444444444,
          21.516666666666666,
          21.516666666666666,
          29.9,
          12.416666666666666,
          12.416666666666666,
          18.33111111111111,
          11.664444444444445,
          30.675,
          10.897777777777778,
          25.941666666666666,
          19.447777777777777,
          21.883333333333333,
          22.633333333333333,
          35.166666666666664,
          35.166666666666664,
          35.166666666666664,
          17.016666666666666,
          11.666666666666666,
          4.066666666666666,
          4.066666666666666,
          4.066666666666666,
          31.683333333333334,
          31.683333333333334,
          31.683333333333334,
          13.016666666666667,
          21.3,
          27.783333333333335,
          12.383333333333333,
          24.083333333333332,
          13.766666666666667,
          10.991666666666667,
          10.966666666666667,
          17.18027777777778,
          20.066666666666666,
          3.5166666666666666,
          5.016666666666667,
          9.383333333333333,
          1.05,
          30.25,
          37.47388888888889,
          5.65,
          38.8,
          24.183333333333334,
          32.00805555555556,
          35.5275,
          46.91416666666667,
          7.75,
          5.85,
          4.9,
          31.083333333333332,
          5.066666666666666,
          6.5,
          8.85,
          13.55,
          5.933333333333334,
          24.3,
          26.466666666666665,
          23.883333333333333,
          60.06666666666667,
          11.783333333333333,
          13.716666666666667,
          31.483333333333334,
          19.566666666666666,
          14.45,
          37.766666666666666,
          8.666666666666666,
          21.483333333333334,
          27.683333333333334,
          26.416666666666668,
          13.972222222222223,
          8.65,
          5.416666666666667,
          26.7,
          45.04611111111112,
          3.85,
          34.666666666666664,
          18,
          3.8333333333333335,
          28.083333333333332,
          2.05,
          14.45,
          14.55,
          12.8,
          12.8,
          12.683333333333334,
          9.551388888888889,
          15.616666666666667,
          1.45,
          10.4,
          5.216666666666667,
          23.633333333333333,
          23.633333333333333,
          3.1666666666666665,
          40.96666666666667,
          11.083333333333334,
          31.583333333333332,
          8.883333333333333,
          9.233333333333333,
          37.93333333333333,
          37.93333333333333,
          10.872222222222224,
          23.016666666666666,
          17.766666666666666,
          24.333333333333332,
          5.937777777777778,
          19.860833333333336,
          4.443611111111111,
          5.65,
          11.416666666666666,
          31.95,
          3.1333333333333333,
          22.9,
          7.5,
          11.066666666666666,
          22.316666666666666,
          30.25,
          7.366666666666666,
          23.466666666666665,
          54.28333333333333,
          24.5,
          27.1,
          23.683333333333334,
          4.05,
          17.866666666666667,
          9,
          4.616666666666666,
          9.033333333333333,
          3.1333333333333333,
          2.2,
          10.15,
          4.15,
          4.35,
          1.1166666666666667,
          9.766666666666667,
          14.366666666666667,
          8.683333333333334,
          5.966666666666667,
          4.363333333333333,
          30.466666666666665,
          2.1666666666666665,
          12.116666666666667,
          3.1,
          6.35,
          6.35,
          7.85,
          9.3,
          3.2,
          8.716666666666667,
          2.05,
          23.783333333333335,
          7.65,
          7.183333333333334,
          1.55,
          5.083333333333333,
          9.6175,
          6.3,
          10.166666666666666,
          8.3,
          16.85,
          4.183333333333334,
          18.016666666666666,
          10.95,
          5.033333333333333,
          44.8,
          11.283333333333333,
          22.683333333333334,
          6.5,
          3.9166666666666665,
          24.7,
          11.916666666666666,
          8.966666666666667,
          9.216666666666667,
          9.516666666666667,
          5.4,
          23.083333333333332,
          7.483333333333333,
          20.05,
          6.816666666666666,
          33.88333333333333,
          41.10805555555555,
          9.7,
          2.9833333333333334,
          5,
          30.446666666666665,
          3.546666666666667,
          11.366666666666667,
          53.45,
          41,
          38.233333333333334,
          18.566666666666666,
          28.016666666666666,
          5.666666666666667,
          8.55,
          27.783333333333335,
          28.936666666666667,
          42.6625,
          8.829166666666667,
          10.370555555555557,
          13.287222222222223,
          7.647222222222222,
          14.816666666666666,
          20.75,
          5.4,
          12.066666666666666,
          15.016666666666667,
          4.183333333333334,
          9.166666666666666,
          10.95,
          27.366666666666667,
          19.883333333333333,
          19.883333333333333,
          35.51833333333333,
          36.85222222222222,
          77.63555555555556,
          10.552222222222222,
          72.13333333333334,
          65.9,
          64.83333333333333,
          64.83333333333333,
          34.5,
          15.75,
          23.95,
          27.433333333333334,
          20.666666666666668,
          26.933333333333334,
          18.45,
          24.716666666666665,
          42.65,
          21.466666666666665,
          22.3,
          30.483333333333334,
          13.683333333333334,
          22.333333333333332,
          24.783333333333335,
          24.783333333333335,
          22.833333333333332,
          23.233333333333334,
          27.75,
          21.6,
          27.683333333333334,
          5.616666666666666,
          32.03333333333333,
          2.2,
          18.8,
          18.8,
          11.383333333333333,
          8.483333333333333,
          33.483333333333334,
          33.583333333333336,
          29.273333333333333,
          23.9,
          20.166666666666668,
          31.883333333333333,
          4.416666666666667,
          8.094722222222222,
          21.066666666666666,
          13.766666666666667,
          13.766666666666667,
          17.333333333333332,
          12.316666666666666,
          12.316666666666666,
          27.5,
          7.133333333333334,
          10.133333333333333,
          30.35,
          28.166666666666668,
          20.466666666666665,
          4.166666666666667,
          9.733333333333333,
          26.233333333333334,
          6.666666666666667,
          26.223333333333336,
          26.683333333333334,
          10.5,
          33.28333333333333,
          7.25,
          21.883333333333333,
          21.883333333333333,
          64.68333333333334,
          64.68333333333334,
          14.683333333333334,
          14.683333333333334,
          19.683333333333334,
          19.683333333333334,
          2.033333333333333,
          10.716666666666667,
          5.716666666666667,
          5.716666666666667,
          5.716666666666667,
          29.85,
          6.516666666666667,
          6.516666666666667,
          6.516666666666667,
          20.266666666666666,
          20.266666666666666,
          6.783333333333333,
          6.783333333333333,
          6.783333333333333,
          11.966666666666667,
          5.666666666666667,
          21.766666666666666,
          21.766666666666666,
          21.766666666666666,
          13.5,
          13.5,
          9.216666666666667,
          3.3833333333333333,
          25.683333333333334,
          40.35,
          40.35,
          40.35,
          40.35,
          12.7,
          12.7,
          8.633333333333333,
          13.65,
          13.65,
          7.733333333333333,
          5.766666666666667,
          12.566666666666666,
          10.75,
          18,
          8.466666666666667,
          11.968055555555557,
          42.666666666666664,
          27.416666666666668,
          6.866666666666666,
          10.724722222222223,
          8.670555555555556,
          13.75,
          34.11666666666667,
          23.6,
          30.933333333333334,
          32.166666666666664,
          29.45,
          29.45,
          37.733333333333334,
          31.883333333333333,
          68.63333333333334,
          33.21666666666667,
          33.21666666666667,
          34.266666666666666,
          29.083333333333332,
          10.433333333333334,
          36.46666666666667,
          3.0833333333333335,
          12.416666666666666,
          52.36666666666667,
          15.55,
          14.205555555555556,
          14.205555555555556,
          33.38333333333333,
          21.341666666666665,
          21.341666666666665,
          43.608333333333334,
          42.65805555555555,
          52.8975,
          31.095277777777778,
          31.095277777777778,
          18.733333333333334,
          18.733333333333334,
          27.583333333333332,
          10.483333333333333,
          27.583333333333332,
          23.883333333333333,
          1.9333333333333333,
          11.366666666666667,
          8.65,
          9,
          3.316666666666667,
          2.75,
          9.383333333333333,
          13.866666666666667,
          29.035,
          8.383333333333333,
          27.933333333333334,
          27.033333333333335,
          6.666666666666667,
          12.13888888888889,
          12.13888888888889,
          22.116666666666667,
          6.033333333333333,
          6.666666666666667,
          23.25,
          9.666666666666666,
          18.416666666666668,
          8.083333333333334,
          9.066666666666666,
          8.9,
          42.46666666666667,
          27.3,
          2.566666666666667,
          26,
          10.75,
          19.683333333333334,
          20.483333333333334,
          27.166666666666668,
          26.95,
          27.7,
          13.116666666666667,
          21.983333333333334,
          22.383333333333333,
          22.983333333333334,
          44.11666666666667,
          44.11666666666667,
          44.11666666666667,
          44.11666666666667,
          4.45,
          4.45,
          8.866666666666667,
          5.133333333333334,
          12.383333333333333,
          12.466666666666667,
          22.54388888888889,
          4.010555555555555,
          4.010555555555555,
          6.0938888888888885,
          27.8,
          1.943888888888889,
          8.55,
          7.760555555555555,
          34.4,
          27.766666666666666,
          27.766666666666666,
          27.766666666666666,
          32.8,
          54.2,
          64.28333333333333,
          15.85,
          26.433333333333334,
          22.133333333333333,
          12.333333333333334,
          6.75,
          7.45,
          4.9,
          6.066666666666666,
          5.966666666666667,
          6.283333333333333,
          10.666666666666666,
          27.09138888888889,
          1.9833333333333334,
          25.783333333333335,
          14.183333333333334,
          42.93333333333333,
          18.916666666666668,
          9.55,
          9.55,
          14.935277777777777,
          44.083333333333336,
          13.766666666666667,
          8.166666666666666,
          39.558055555555555,
          23.233333333333334,
          10.12638888888889,
          11.333333333333334,
          32.54527777777778,
          5.616666666666666,
          29.958055555555557,
          5.058055555555556,
          22.64138888888889,
          7.914722222222222,
          1.291388888888889,
          20.508055555555554,
          4.508055555555556,
          5.4413888888888895,
          9.363611111111112,
          24.758055555555554,
          7.2747222222222225,
          5.358055555555556,
          13.108055555555556,
          33.82472222222222,
          28.016666666666666,
          5.766666666666667,
          21.05,
          9.783333333333333,
          28.733333333333334,
          31.6,
          5.3,
          27.833333333333332,
          50.24444444444444,
          6.783333333333333,
          6.4,
          7.191111111111111,
          42.99444444444444,
          45,
          36.75,
          39.661944444444444,
          18.816666666666666,
          7.8,
          4.913333333333333,
          2.7666666666666666,
          10.05,
          3.4833333333333334,
          8.233333333333333,
          5.75,
          25.633333333333333,
          4.833333333333333,
          4.9,
          11.416666666666666,
          72.96666666666667,
          23.933333333333334,
          5.35,
          7.05,
          26.316666666666666,
          3.5166666666666666,
          41.21666666666667,
          8.116666666666667,
          31.414166666666667,
          25.766666666666666,
          32.75,
          39.11666666666667,
          28.333333333333332,
          7.083333333333333,
          3.966666666666667,
          25.683333333333334,
          25.25,
          16.166666666666668,
          18.55,
          34.45,
          19.505555555555553,
          12.83888888888889,
          10.205555555555556,
          24.805555555555554,
          14.28888888888889,
          45.46666666666667,
          20.688888888888886,
          9.211666666666668,
          24.17222222222222,
          14.93888888888889,
          32.96666666666667,
          21.973055555555558,
          20.205555555555556,
          20.62222222222222,
          3.5,
          35.78333333333333,
          22.05,
          20.133333333333333,
          12.633333333333333,
          14.583333333333334,
          41.03333333333333,
          32.333333333333336,
          40.48277777777778,
          33.79944444444445,
          21.65,
          4.883333333333334,
          31.5,
          26.266666666666666,
          29.57305555555556,
          52.98972222222222,
          33.323055555555555,
          61.6,
          7.439722222222222,
          51.256388888888885,
          36.742222222222225,
          10.1,
          27.799444444444443,
          26.633333333333333,
          9.733333333333333,
          28.866666666666667,
          18.45,
          3.3666666666666667,
          6.183333333333334,
          50.3,
          7.683333333333334,
          45.27777777777778,
          8.250277777777777,
          21.166944444444443,
          34.30027777777778,
          40.816944444444445,
          36.93361111111111,
          35.91694444444445,
          28.924722222222222,
          29.916944444444443,
          46.48361111111112,
          32.95027777777778,
          36.58361111111112,
          61.666666666666664,
          10.4,
          54.516666666666666,
          32.516666666666666,
          37.2,
          42.25,
          31.566666666666666,
          31.683333333333334,
          29.083333333333332,
          36.733333333333334,
          34.78333333333333,
          34.78333333333333,
          34.78333333333333,
          57.75,
          35.31666666666667,
          32.416666666666664,
          8.70138888888889,
          26.366666666666667,
          12.433333333333334,
          6.266666666666667,
          16.00138888888889,
          21.716666666666665,
          18.75,
          4.933333333333334,
          21.966666666666665,
          8.25,
          30.775277777777777,
          4.45,
          28.70777777777778,
          13.633333333333333,
          20.9,
          20.516666666666666,
          20.616666666666667,
          6.769444444444445,
          23.472777777777775,
          8.616666666666667,
          34.233333333333334,
          14.65,
          14.883333333333333,
          22.1,
          31.982777777777777,
          25.066666666666666,
          56.227777777777774,
          33.53333333333333,
          24.833333333333332,
          23.896944444444443,
          14.540277777777778,
          44.1775,
          11.317499999999999,
          20.566666666666666,
          19.966666666666665,
          26.916666666666668,
          23.466666666666665,
          19.883333333333333,
          18.266666666666666,
          23.883333333333333,
          20.433333333333334,
          25.05,
          38.00805555555555,
          29.75,
          34.025,
          7.4,
          16.716666666666665,
          14.683333333333334,
          14.683333333333334,
          47.56666666666667,
          32.18333333333333,
          5.566666666666666,
          29.95,
          32.81666666666667,
          2.6166666666666667,
          28.716666666666665,
          29.35,
          30.2,
          26.366666666666667,
          42.516666666666666,
          10.083333333333334,
          22.633333333333333,
          14.2,
          8.183333333333334,
          41.416666666666664,
          11.783333333333333,
          24.733333333333334,
          49.66388888888889,
          47.21388888888889,
          22.563888888888886,
          20.29722222222222,
          14.047222222222222,
          40.76388888888889,
          18.96388888888889,
          18.96388888888889,
          39.96388888888889,
          23.780555555555555,
          36.74722222222223,
          34.73055555555556,
          37.41388888888889,
          22.94722222222222,
          30.26388888888889,
          22.34722222222222,
          22.230555555555554,
          23.780555555555555,
          21.96388888888889,
          21.680555555555554,
          18.68111111111111,
          55.78916666666667,
          2.705833333333333,
          45.44694444444444,
          2.15,
          7.183333333333334,
          11.083333333333334,
          37.916666666666664,
          4.816666666666666,
          8.1225,
          29.836111111111112,
          19.436111111111114,
          15.288055555555555,
          28.769444444444446,
          14.702777777777778,
          8.73611111111111,
          37.78611111111111,
          10.779166666666667,
          34.169444444444444,
          14.416666666666666,
          20.566666666666666,
          28.166666666666668,
          25.066666666666666,
          19.29416666666667,
          7.55,
          31.233333333333334,
          23.92972222222222,
          27.463055555555556,
          10.096388888888889,
          5.216666666666667,
          50.18333333333333,
          29.7,
          29.7,
          29.7,
          45.016666666666666,
          33.95,
          20.066666666666666,
          15.816666666666666,
          15.816666666666666,
          7.033333333333333,
          4,
          46.33555555555555,
          48.96361111111111,
          17.116666666666667,
          27.366666666666667,
          7.433333333333334,
          12.783333333333333,
          12.783333333333333,
          14.251944444444444,
          28.683333333333334,
          3.8833333333333333,
          10.9,
          23.166666666666668,
          23.166666666666668,
          51.2,
          30.866666666666667,
          25.516666666666666,
          7.283333333333333,
          5.239444444444445,
          14.416666666666666,
          9.493055555555555,
          8,
          4.366666666666666,
          30.25,
          45.71666666666667,
          25.95,
          10.55,
          10.233333333333333,
          10.133333333333333,
          13.716666666666667,
          10.716666666666667,
          9.516666666666667,
          42.05,
          4.666666666666667,
          13.616666666666667,
          9.983333333333333,
          28.833333333333332,
          4.1,
          11.316666666666666,
          21.083333333333332,
          6.783333333333333,
          54.76416666666667,
          7.75,
          18.85,
          19.833333333333332,
          13.8,
          2.05,
          10.266666666666667,
          60.416666666666664,
          34.2,
          25.8,
          43.733333333333334,
          38.5,
          38.5,
          12.483333333333333,
          24.091666666666665,
          15.7,
          9.926388888888889,
          4.075277777777778,
          1.251111111111111,
          12.65,
          41.266666666666666,
          27.683333333333334,
          27.683333333333334,
          21.033333333333335,
          21.266666666666666,
          21.266666666666666,
          11.75,
          21,
          22.983333333333334,
          3.7083333333333335,
          23.2,
          20.95,
          2.2,
          3.15,
          23.95,
          23.95,
          18.3,
          9.2,
          27.35,
          9.366666666666667,
          9.916666666666666,
          19.016666666666666,
          4.266666666666667,
          18.983333333333334,
          34.75,
          21.833333333333332,
          30.866666666666667,
          24,
          18.083333333333332,
          28.4,
          7.35,
          4.166666666666667,
          22.566666666666666,
          22.15,
          17.266666666666666,
          26.55,
          10.266666666666667,
          7.5,
          19.466666666666665,
          10.9,
          11.883333333333333,
          5.616666666666666,
          6.316666666666666,
          4.066666666666666,
          14.316666666666666,
          21.35,
          2.716666666666667,
          22.9,
          3.5166666666666666,
          53.166666666666664,
          26.55,
          70.6913888888889,
          4.433333333333334
         ],
         "xaxis": "x",
         "yaxis": "y"
        }
       ],
       "layout": {
        "barmode": "relative",
        "legend": {
         "tracegroupgap": 0
        },
        "margin": {
         "t": 60
        },
        "template": {
         "data": {
          "bar": [
           {
            "error_x": {
             "color": "#2a3f5f"
            },
            "error_y": {
             "color": "#2a3f5f"
            },
            "marker": {
             "line": {
              "color": "#E5ECF6",
              "width": 0.5
             },
             "pattern": {
              "fillmode": "overlay",
              "size": 10,
              "solidity": 0.2
             }
            },
            "type": "bar"
           }
          ],
          "barpolar": [
           {
            "marker": {
             "line": {
              "color": "#E5ECF6",
              "width": 0.5
             },
             "pattern": {
              "fillmode": "overlay",
              "size": 10,
              "solidity": 0.2
             }
            },
            "type": "barpolar"
           }
          ],
          "carpet": [
           {
            "aaxis": {
             "endlinecolor": "#2a3f5f",
             "gridcolor": "white",
             "linecolor": "white",
             "minorgridcolor": "white",
             "startlinecolor": "#2a3f5f"
            },
            "baxis": {
             "endlinecolor": "#2a3f5f",
             "gridcolor": "white",
             "linecolor": "white",
             "minorgridcolor": "white",
             "startlinecolor": "#2a3f5f"
            },
            "type": "carpet"
           }
          ],
          "choropleth": [
           {
            "colorbar": {
             "outlinewidth": 0,
             "ticks": ""
            },
            "type": "choropleth"
           }
          ],
          "contour": [
           {
            "colorbar": {
             "outlinewidth": 0,
             "ticks": ""
            },
            "colorscale": [
             [
              0,
              "#0d0887"
             ],
             [
              0.1111111111111111,
              "#46039f"
             ],
             [
              0.2222222222222222,
              "#7201a8"
             ],
             [
              0.3333333333333333,
              "#9c179e"
             ],
             [
              0.4444444444444444,
              "#bd3786"
             ],
             [
              0.5555555555555556,
              "#d8576b"
             ],
             [
              0.6666666666666666,
              "#ed7953"
             ],
             [
              0.7777777777777778,
              "#fb9f3a"
             ],
             [
              0.8888888888888888,
              "#fdca26"
             ],
             [
              1,
              "#f0f921"
             ]
            ],
            "type": "contour"
           }
          ],
          "contourcarpet": [
           {
            "colorbar": {
             "outlinewidth": 0,
             "ticks": ""
            },
            "type": "contourcarpet"
           }
          ],
          "heatmap": [
           {
            "colorbar": {
             "outlinewidth": 0,
             "ticks": ""
            },
            "colorscale": [
             [
              0,
              "#0d0887"
             ],
             [
              0.1111111111111111,
              "#46039f"
             ],
             [
              0.2222222222222222,
              "#7201a8"
             ],
             [
              0.3333333333333333,
              "#9c179e"
             ],
             [
              0.4444444444444444,
              "#bd3786"
             ],
             [
              0.5555555555555556,
              "#d8576b"
             ],
             [
              0.6666666666666666,
              "#ed7953"
             ],
             [
              0.7777777777777778,
              "#fb9f3a"
             ],
             [
              0.8888888888888888,
              "#fdca26"
             ],
             [
              1,
              "#f0f921"
             ]
            ],
            "type": "heatmap"
           }
          ],
          "heatmapgl": [
           {
            "colorbar": {
             "outlinewidth": 0,
             "ticks": ""
            },
            "colorscale": [
             [
              0,
              "#0d0887"
             ],
             [
              0.1111111111111111,
              "#46039f"
             ],
             [
              0.2222222222222222,
              "#7201a8"
             ],
             [
              0.3333333333333333,
              "#9c179e"
             ],
             [
              0.4444444444444444,
              "#bd3786"
             ],
             [
              0.5555555555555556,
              "#d8576b"
             ],
             [
              0.6666666666666666,
              "#ed7953"
             ],
             [
              0.7777777777777778,
              "#fb9f3a"
             ],
             [
              0.8888888888888888,
              "#fdca26"
             ],
             [
              1,
              "#f0f921"
             ]
            ],
            "type": "heatmapgl"
           }
          ],
          "histogram": [
           {
            "marker": {
             "pattern": {
              "fillmode": "overlay",
              "size": 10,
              "solidity": 0.2
             }
            },
            "type": "histogram"
           }
          ],
          "histogram2d": [
           {
            "colorbar": {
             "outlinewidth": 0,
             "ticks": ""
            },
            "colorscale": [
             [
              0,
              "#0d0887"
             ],
             [
              0.1111111111111111,
              "#46039f"
             ],
             [
              0.2222222222222222,
              "#7201a8"
             ],
             [
              0.3333333333333333,
              "#9c179e"
             ],
             [
              0.4444444444444444,
              "#bd3786"
             ],
             [
              0.5555555555555556,
              "#d8576b"
             ],
             [
              0.6666666666666666,
              "#ed7953"
             ],
             [
              0.7777777777777778,
              "#fb9f3a"
             ],
             [
              0.8888888888888888,
              "#fdca26"
             ],
             [
              1,
              "#f0f921"
             ]
            ],
            "type": "histogram2d"
           }
          ],
          "histogram2dcontour": [
           {
            "colorbar": {
             "outlinewidth": 0,
             "ticks": ""
            },
            "colorscale": [
             [
              0,
              "#0d0887"
             ],
             [
              0.1111111111111111,
              "#46039f"
             ],
             [
              0.2222222222222222,
              "#7201a8"
             ],
             [
              0.3333333333333333,
              "#9c179e"
             ],
             [
              0.4444444444444444,
              "#bd3786"
             ],
             [
              0.5555555555555556,
              "#d8576b"
             ],
             [
              0.6666666666666666,
              "#ed7953"
             ],
             [
              0.7777777777777778,
              "#fb9f3a"
             ],
             [
              0.8888888888888888,
              "#fdca26"
             ],
             [
              1,
              "#f0f921"
             ]
            ],
            "type": "histogram2dcontour"
           }
          ],
          "mesh3d": [
           {
            "colorbar": {
             "outlinewidth": 0,
             "ticks": ""
            },
            "type": "mesh3d"
           }
          ],
          "parcoords": [
           {
            "line": {
             "colorbar": {
              "outlinewidth": 0,
              "ticks": ""
             }
            },
            "type": "parcoords"
           }
          ],
          "pie": [
           {
            "automargin": true,
            "type": "pie"
           }
          ],
          "scatter": [
           {
            "fillpattern": {
             "fillmode": "overlay",
             "size": 10,
             "solidity": 0.2
            },
            "type": "scatter"
           }
          ],
          "scatter3d": [
           {
            "line": {
             "colorbar": {
              "outlinewidth": 0,
              "ticks": ""
             }
            },
            "marker": {
             "colorbar": {
              "outlinewidth": 0,
              "ticks": ""
             }
            },
            "type": "scatter3d"
           }
          ],
          "scattercarpet": [
           {
            "marker": {
             "colorbar": {
              "outlinewidth": 0,
              "ticks": ""
             }
            },
            "type": "scattercarpet"
           }
          ],
          "scattergeo": [
           {
            "marker": {
             "colorbar": {
              "outlinewidth": 0,
              "ticks": ""
             }
            },
            "type": "scattergeo"
           }
          ],
          "scattergl": [
           {
            "marker": {
             "colorbar": {
              "outlinewidth": 0,
              "ticks": ""
             }
            },
            "type": "scattergl"
           }
          ],
          "scattermapbox": [
           {
            "marker": {
             "colorbar": {
              "outlinewidth": 0,
              "ticks": ""
             }
            },
            "type": "scattermapbox"
           }
          ],
          "scatterpolar": [
           {
            "marker": {
             "colorbar": {
              "outlinewidth": 0,
              "ticks": ""
             }
            },
            "type": "scatterpolar"
           }
          ],
          "scatterpolargl": [
           {
            "marker": {
             "colorbar": {
              "outlinewidth": 0,
              "ticks": ""
             }
            },
            "type": "scatterpolargl"
           }
          ],
          "scatterternary": [
           {
            "marker": {
             "colorbar": {
              "outlinewidth": 0,
              "ticks": ""
             }
            },
            "type": "scatterternary"
           }
          ],
          "surface": [
           {
            "colorbar": {
             "outlinewidth": 0,
             "ticks": ""
            },
            "colorscale": [
             [
              0,
              "#0d0887"
             ],
             [
              0.1111111111111111,
              "#46039f"
             ],
             [
              0.2222222222222222,
              "#7201a8"
             ],
             [
              0.3333333333333333,
              "#9c179e"
             ],
             [
              0.4444444444444444,
              "#bd3786"
             ],
             [
              0.5555555555555556,
              "#d8576b"
             ],
             [
              0.6666666666666666,
              "#ed7953"
             ],
             [
              0.7777777777777778,
              "#fb9f3a"
             ],
             [
              0.8888888888888888,
              "#fdca26"
             ],
             [
              1,
              "#f0f921"
             ]
            ],
            "type": "surface"
           }
          ],
          "table": [
           {
            "cells": {
             "fill": {
              "color": "#EBF0F8"
             },
             "line": {
              "color": "white"
             }
            },
            "header": {
             "fill": {
              "color": "#C8D4E3"
             },
             "line": {
              "color": "white"
             }
            },
            "type": "table"
           }
          ]
         },
         "layout": {
          "annotationdefaults": {
           "arrowcolor": "#2a3f5f",
           "arrowhead": 0,
           "arrowwidth": 1
          },
          "autotypenumbers": "strict",
          "coloraxis": {
           "colorbar": {
            "outlinewidth": 0,
            "ticks": ""
           }
          },
          "colorscale": {
           "diverging": [
            [
             0,
             "#8e0152"
            ],
            [
             0.1,
             "#c51b7d"
            ],
            [
             0.2,
             "#de77ae"
            ],
            [
             0.3,
             "#f1b6da"
            ],
            [
             0.4,
             "#fde0ef"
            ],
            [
             0.5,
             "#f7f7f7"
            ],
            [
             0.6,
             "#e6f5d0"
            ],
            [
             0.7,
             "#b8e186"
            ],
            [
             0.8,
             "#7fbc41"
            ],
            [
             0.9,
             "#4d9221"
            ],
            [
             1,
             "#276419"
            ]
           ],
           "sequential": [
            [
             0,
             "#0d0887"
            ],
            [
             0.1111111111111111,
             "#46039f"
            ],
            [
             0.2222222222222222,
             "#7201a8"
            ],
            [
             0.3333333333333333,
             "#9c179e"
            ],
            [
             0.4444444444444444,
             "#bd3786"
            ],
            [
             0.5555555555555556,
             "#d8576b"
            ],
            [
             0.6666666666666666,
             "#ed7953"
            ],
            [
             0.7777777777777778,
             "#fb9f3a"
            ],
            [
             0.8888888888888888,
             "#fdca26"
            ],
            [
             1,
             "#f0f921"
            ]
           ],
           "sequentialminus": [
            [
             0,
             "#0d0887"
            ],
            [
             0.1111111111111111,
             "#46039f"
            ],
            [
             0.2222222222222222,
             "#7201a8"
            ],
            [
             0.3333333333333333,
             "#9c179e"
            ],
            [
             0.4444444444444444,
             "#bd3786"
            ],
            [
             0.5555555555555556,
             "#d8576b"
            ],
            [
             0.6666666666666666,
             "#ed7953"
            ],
            [
             0.7777777777777778,
             "#fb9f3a"
            ],
            [
             0.8888888888888888,
             "#fdca26"
            ],
            [
             1,
             "#f0f921"
            ]
           ]
          },
          "colorway": [
           "#636efa",
           "#EF553B",
           "#00cc96",
           "#ab63fa",
           "#FFA15A",
           "#19d3f3",
           "#FF6692",
           "#B6E880",
           "#FF97FF",
           "#FECB52"
          ],
          "font": {
           "color": "#2a3f5f"
          },
          "geo": {
           "bgcolor": "white",
           "lakecolor": "white",
           "landcolor": "#E5ECF6",
           "showlakes": true,
           "showland": true,
           "subunitcolor": "white"
          },
          "hoverlabel": {
           "align": "left"
          },
          "hovermode": "closest",
          "mapbox": {
           "style": "light"
          },
          "paper_bgcolor": "white",
          "plot_bgcolor": "#E5ECF6",
          "polar": {
           "angularaxis": {
            "gridcolor": "white",
            "linecolor": "white",
            "ticks": ""
           },
           "bgcolor": "#E5ECF6",
           "radialaxis": {
            "gridcolor": "white",
            "linecolor": "white",
            "ticks": ""
           }
          },
          "scene": {
           "xaxis": {
            "backgroundcolor": "#E5ECF6",
            "gridcolor": "white",
            "gridwidth": 2,
            "linecolor": "white",
            "showbackground": true,
            "ticks": "",
            "zerolinecolor": "white"
           },
           "yaxis": {
            "backgroundcolor": "#E5ECF6",
            "gridcolor": "white",
            "gridwidth": 2,
            "linecolor": "white",
            "showbackground": true,
            "ticks": "",
            "zerolinecolor": "white"
           },
           "zaxis": {
            "backgroundcolor": "#E5ECF6",
            "gridcolor": "white",
            "gridwidth": 2,
            "linecolor": "white",
            "showbackground": true,
            "ticks": "",
            "zerolinecolor": "white"
           }
          },
          "shapedefaults": {
           "line": {
            "color": "#2a3f5f"
           }
          },
          "ternary": {
           "aaxis": {
            "gridcolor": "white",
            "linecolor": "white",
            "ticks": ""
           },
           "baxis": {
            "gridcolor": "white",
            "linecolor": "white",
            "ticks": ""
           },
           "bgcolor": "#E5ECF6",
           "caxis": {
            "gridcolor": "white",
            "linecolor": "white",
            "ticks": ""
           }
          },
          "title": {
           "x": 0.05
          },
          "xaxis": {
           "automargin": true,
           "gridcolor": "white",
           "linecolor": "white",
           "ticks": "",
           "title": {
            "standoff": 15
           },
           "zerolinecolor": "white",
           "zerolinewidth": 2
          },
          "yaxis": {
           "automargin": true,
           "gridcolor": "white",
           "linecolor": "white",
           "ticks": "",
           "title": {
            "standoff": 15
           },
           "zerolinecolor": "white",
           "zerolinewidth": 2
          }
         }
        },
        "title": {
         "text": "Histogram of All Train Times (hours)"
        },
        "xaxis": {
         "anchor": "y",
         "domain": [
          0,
          1
         ],
         "title": {
          "text": "Train Time (hours)"
         }
        },
        "yaxis": {
         "anchor": "x",
         "domain": [
          0,
          1
         ],
         "title": {
          "text": "Count"
         }
        }
       }
      }
     },
     "metadata": {},
     "output_type": "display_data"
    },
    {
     "data": {
      "application/vnd.plotly.v1+json": {
       "config": {
        "plotlyServerURL": "https://plot.ly"
       },
       "data": [
        {
         "alignmentgroup": "True",
         "bingroup": "x",
         "hovertemplate": "Type=Flight<br>Time=%{x}<br>count=%{y}<extra></extra>",
         "legendgroup": "Flight",
         "marker": {
          "color": "#636efa",
          "opacity": 0.5,
          "pattern": {
           "shape": ""
          }
         },
         "name": "Flight",
         "nbinsx": 50,
         "offsetgroup": "Flight",
         "orientation": "v",
         "showlegend": true,
         "type": "histogram",
         "x": [
          2.3333333333333335,
          2.1666666666666665,
          1.3333333333333333,
          2.4166666666666665,
          2.1666666666666665,
          1.8333333333333333,
          2,
          1.9166666666666667,
          2.1666666666666665,
          1.9166666666666667,
          1.8333333333333333,
          1.75,
          1.75,
          1.8333333333333333,
          1.9166666666666667,
          2.1944444444444446,
          2.2083333333333335,
          2.4166666666666665,
          2.0416666666666665,
          2.0833333333333335,
          1.8333333333333333,
          1.9166666666666667,
          2.2083333333333335,
          2.125,
          1.8333333333333333,
          2.0416666666666665,
          1.1666666666666667,
          1.9583333333333333,
          1.9166666666666667
         ],
         "xaxis": "x",
         "yaxis": "y"
        },
        {
         "alignmentgroup": "True",
         "bingroup": "x",
         "hovertemplate": "Type=Train<br>Time=%{x}<br>count=%{y}<extra></extra>",
         "legendgroup": "Train",
         "marker": {
          "color": "#EF553B",
          "opacity": 0.5,
          "pattern": {
           "shape": ""
          }
         },
         "name": "Train",
         "nbinsx": 50,
         "offsetgroup": "Train",
         "orientation": "v",
         "showlegend": true,
         "type": "histogram",
         "x": [
          3.0166666666666666,
          2.466666666666667,
          1.3333333333333333,
          2.5,
          1.5166666666666666,
          1.05,
          2.05,
          1.45,
          3.1666666666666665,
          2.2,
          1.1166666666666667,
          2.1666666666666665,
          2.05,
          1.55,
          2.2,
          2.033333333333333,
          1.9333333333333333,
          2.75,
          2.566666666666667,
          1.943888888888889,
          1.9833333333333334,
          1.291388888888889,
          2.7666666666666666,
          2.6166666666666667,
          2.15,
          2.05,
          1.251111111111111,
          2.2,
          2.716666666666667
         ],
         "xaxis": "x",
         "yaxis": "y"
        }
       ],
       "layout": {
        "barmode": "overlay",
        "legend": {
         "title": {
          "text": "Type"
         },
         "tracegroupgap": 0
        },
        "margin": {
         "t": 60
        },
        "template": {
         "data": {
          "bar": [
           {
            "error_x": {
             "color": "#2a3f5f"
            },
            "error_y": {
             "color": "#2a3f5f"
            },
            "marker": {
             "line": {
              "color": "#E5ECF6",
              "width": 0.5
             },
             "pattern": {
              "fillmode": "overlay",
              "size": 10,
              "solidity": 0.2
             }
            },
            "type": "bar"
           }
          ],
          "barpolar": [
           {
            "marker": {
             "line": {
              "color": "#E5ECF6",
              "width": 0.5
             },
             "pattern": {
              "fillmode": "overlay",
              "size": 10,
              "solidity": 0.2
             }
            },
            "type": "barpolar"
           }
          ],
          "carpet": [
           {
            "aaxis": {
             "endlinecolor": "#2a3f5f",
             "gridcolor": "white",
             "linecolor": "white",
             "minorgridcolor": "white",
             "startlinecolor": "#2a3f5f"
            },
            "baxis": {
             "endlinecolor": "#2a3f5f",
             "gridcolor": "white",
             "linecolor": "white",
             "minorgridcolor": "white",
             "startlinecolor": "#2a3f5f"
            },
            "type": "carpet"
           }
          ],
          "choropleth": [
           {
            "colorbar": {
             "outlinewidth": 0,
             "ticks": ""
            },
            "type": "choropleth"
           }
          ],
          "contour": [
           {
            "colorbar": {
             "outlinewidth": 0,
             "ticks": ""
            },
            "colorscale": [
             [
              0,
              "#0d0887"
             ],
             [
              0.1111111111111111,
              "#46039f"
             ],
             [
              0.2222222222222222,
              "#7201a8"
             ],
             [
              0.3333333333333333,
              "#9c179e"
             ],
             [
              0.4444444444444444,
              "#bd3786"
             ],
             [
              0.5555555555555556,
              "#d8576b"
             ],
             [
              0.6666666666666666,
              "#ed7953"
             ],
             [
              0.7777777777777778,
              "#fb9f3a"
             ],
             [
              0.8888888888888888,
              "#fdca26"
             ],
             [
              1,
              "#f0f921"
             ]
            ],
            "type": "contour"
           }
          ],
          "contourcarpet": [
           {
            "colorbar": {
             "outlinewidth": 0,
             "ticks": ""
            },
            "type": "contourcarpet"
           }
          ],
          "heatmap": [
           {
            "colorbar": {
             "outlinewidth": 0,
             "ticks": ""
            },
            "colorscale": [
             [
              0,
              "#0d0887"
             ],
             [
              0.1111111111111111,
              "#46039f"
             ],
             [
              0.2222222222222222,
              "#7201a8"
             ],
             [
              0.3333333333333333,
              "#9c179e"
             ],
             [
              0.4444444444444444,
              "#bd3786"
             ],
             [
              0.5555555555555556,
              "#d8576b"
             ],
             [
              0.6666666666666666,
              "#ed7953"
             ],
             [
              0.7777777777777778,
              "#fb9f3a"
             ],
             [
              0.8888888888888888,
              "#fdca26"
             ],
             [
              1,
              "#f0f921"
             ]
            ],
            "type": "heatmap"
           }
          ],
          "heatmapgl": [
           {
            "colorbar": {
             "outlinewidth": 0,
             "ticks": ""
            },
            "colorscale": [
             [
              0,
              "#0d0887"
             ],
             [
              0.1111111111111111,
              "#46039f"
             ],
             [
              0.2222222222222222,
              "#7201a8"
             ],
             [
              0.3333333333333333,
              "#9c179e"
             ],
             [
              0.4444444444444444,
              "#bd3786"
             ],
             [
              0.5555555555555556,
              "#d8576b"
             ],
             [
              0.6666666666666666,
              "#ed7953"
             ],
             [
              0.7777777777777778,
              "#fb9f3a"
             ],
             [
              0.8888888888888888,
              "#fdca26"
             ],
             [
              1,
              "#f0f921"
             ]
            ],
            "type": "heatmapgl"
           }
          ],
          "histogram": [
           {
            "marker": {
             "pattern": {
              "fillmode": "overlay",
              "size": 10,
              "solidity": 0.2
             }
            },
            "type": "histogram"
           }
          ],
          "histogram2d": [
           {
            "colorbar": {
             "outlinewidth": 0,
             "ticks": ""
            },
            "colorscale": [
             [
              0,
              "#0d0887"
             ],
             [
              0.1111111111111111,
              "#46039f"
             ],
             [
              0.2222222222222222,
              "#7201a8"
             ],
             [
              0.3333333333333333,
              "#9c179e"
             ],
             [
              0.4444444444444444,
              "#bd3786"
             ],
             [
              0.5555555555555556,
              "#d8576b"
             ],
             [
              0.6666666666666666,
              "#ed7953"
             ],
             [
              0.7777777777777778,
              "#fb9f3a"
             ],
             [
              0.8888888888888888,
              "#fdca26"
             ],
             [
              1,
              "#f0f921"
             ]
            ],
            "type": "histogram2d"
           }
          ],
          "histogram2dcontour": [
           {
            "colorbar": {
             "outlinewidth": 0,
             "ticks": ""
            },
            "colorscale": [
             [
              0,
              "#0d0887"
             ],
             [
              0.1111111111111111,
              "#46039f"
             ],
             [
              0.2222222222222222,
              "#7201a8"
             ],
             [
              0.3333333333333333,
              "#9c179e"
             ],
             [
              0.4444444444444444,
              "#bd3786"
             ],
             [
              0.5555555555555556,
              "#d8576b"
             ],
             [
              0.6666666666666666,
              "#ed7953"
             ],
             [
              0.7777777777777778,
              "#fb9f3a"
             ],
             [
              0.8888888888888888,
              "#fdca26"
             ],
             [
              1,
              "#f0f921"
             ]
            ],
            "type": "histogram2dcontour"
           }
          ],
          "mesh3d": [
           {
            "colorbar": {
             "outlinewidth": 0,
             "ticks": ""
            },
            "type": "mesh3d"
           }
          ],
          "parcoords": [
           {
            "line": {
             "colorbar": {
              "outlinewidth": 0,
              "ticks": ""
             }
            },
            "type": "parcoords"
           }
          ],
          "pie": [
           {
            "automargin": true,
            "type": "pie"
           }
          ],
          "scatter": [
           {
            "fillpattern": {
             "fillmode": "overlay",
             "size": 10,
             "solidity": 0.2
            },
            "type": "scatter"
           }
          ],
          "scatter3d": [
           {
            "line": {
             "colorbar": {
              "outlinewidth": 0,
              "ticks": ""
             }
            },
            "marker": {
             "colorbar": {
              "outlinewidth": 0,
              "ticks": ""
             }
            },
            "type": "scatter3d"
           }
          ],
          "scattercarpet": [
           {
            "marker": {
             "colorbar": {
              "outlinewidth": 0,
              "ticks": ""
             }
            },
            "type": "scattercarpet"
           }
          ],
          "scattergeo": [
           {
            "marker": {
             "colorbar": {
              "outlinewidth": 0,
              "ticks": ""
             }
            },
            "type": "scattergeo"
           }
          ],
          "scattergl": [
           {
            "marker": {
             "colorbar": {
              "outlinewidth": 0,
              "ticks": ""
             }
            },
            "type": "scattergl"
           }
          ],
          "scattermapbox": [
           {
            "marker": {
             "colorbar": {
              "outlinewidth": 0,
              "ticks": ""
             }
            },
            "type": "scattermapbox"
           }
          ],
          "scatterpolar": [
           {
            "marker": {
             "colorbar": {
              "outlinewidth": 0,
              "ticks": ""
             }
            },
            "type": "scatterpolar"
           }
          ],
          "scatterpolargl": [
           {
            "marker": {
             "colorbar": {
              "outlinewidth": 0,
              "ticks": ""
             }
            },
            "type": "scatterpolargl"
           }
          ],
          "scatterternary": [
           {
            "marker": {
             "colorbar": {
              "outlinewidth": 0,
              "ticks": ""
             }
            },
            "type": "scatterternary"
           }
          ],
          "surface": [
           {
            "colorbar": {
             "outlinewidth": 0,
             "ticks": ""
            },
            "colorscale": [
             [
              0,
              "#0d0887"
             ],
             [
              0.1111111111111111,
              "#46039f"
             ],
             [
              0.2222222222222222,
              "#7201a8"
             ],
             [
              0.3333333333333333,
              "#9c179e"
             ],
             [
              0.4444444444444444,
              "#bd3786"
             ],
             [
              0.5555555555555556,
              "#d8576b"
             ],
             [
              0.6666666666666666,
              "#ed7953"
             ],
             [
              0.7777777777777778,
              "#fb9f3a"
             ],
             [
              0.8888888888888888,
              "#fdca26"
             ],
             [
              1,
              "#f0f921"
             ]
            ],
            "type": "surface"
           }
          ],
          "table": [
           {
            "cells": {
             "fill": {
              "color": "#EBF0F8"
             },
             "line": {
              "color": "white"
             }
            },
            "header": {
             "fill": {
              "color": "#C8D4E3"
             },
             "line": {
              "color": "white"
             }
            },
            "type": "table"
           }
          ]
         },
         "layout": {
          "annotationdefaults": {
           "arrowcolor": "#2a3f5f",
           "arrowhead": 0,
           "arrowwidth": 1
          },
          "autotypenumbers": "strict",
          "coloraxis": {
           "colorbar": {
            "outlinewidth": 0,
            "ticks": ""
           }
          },
          "colorscale": {
           "diverging": [
            [
             0,
             "#8e0152"
            ],
            [
             0.1,
             "#c51b7d"
            ],
            [
             0.2,
             "#de77ae"
            ],
            [
             0.3,
             "#f1b6da"
            ],
            [
             0.4,
             "#fde0ef"
            ],
            [
             0.5,
             "#f7f7f7"
            ],
            [
             0.6,
             "#e6f5d0"
            ],
            [
             0.7,
             "#b8e186"
            ],
            [
             0.8,
             "#7fbc41"
            ],
            [
             0.9,
             "#4d9221"
            ],
            [
             1,
             "#276419"
            ]
           ],
           "sequential": [
            [
             0,
             "#0d0887"
            ],
            [
             0.1111111111111111,
             "#46039f"
            ],
            [
             0.2222222222222222,
             "#7201a8"
            ],
            [
             0.3333333333333333,
             "#9c179e"
            ],
            [
             0.4444444444444444,
             "#bd3786"
            ],
            [
             0.5555555555555556,
             "#d8576b"
            ],
            [
             0.6666666666666666,
             "#ed7953"
            ],
            [
             0.7777777777777778,
             "#fb9f3a"
            ],
            [
             0.8888888888888888,
             "#fdca26"
            ],
            [
             1,
             "#f0f921"
            ]
           ],
           "sequentialminus": [
            [
             0,
             "#0d0887"
            ],
            [
             0.1111111111111111,
             "#46039f"
            ],
            [
             0.2222222222222222,
             "#7201a8"
            ],
            [
             0.3333333333333333,
             "#9c179e"
            ],
            [
             0.4444444444444444,
             "#bd3786"
            ],
            [
             0.5555555555555556,
             "#d8576b"
            ],
            [
             0.6666666666666666,
             "#ed7953"
            ],
            [
             0.7777777777777778,
             "#fb9f3a"
            ],
            [
             0.8888888888888888,
             "#fdca26"
            ],
            [
             1,
             "#f0f921"
            ]
           ]
          },
          "colorway": [
           "#636efa",
           "#EF553B",
           "#00cc96",
           "#ab63fa",
           "#FFA15A",
           "#19d3f3",
           "#FF6692",
           "#B6E880",
           "#FF97FF",
           "#FECB52"
          ],
          "font": {
           "color": "#2a3f5f"
          },
          "geo": {
           "bgcolor": "white",
           "lakecolor": "white",
           "landcolor": "#E5ECF6",
           "showlakes": true,
           "showland": true,
           "subunitcolor": "white"
          },
          "hoverlabel": {
           "align": "left"
          },
          "hovermode": "closest",
          "mapbox": {
           "style": "light"
          },
          "paper_bgcolor": "white",
          "plot_bgcolor": "#E5ECF6",
          "polar": {
           "angularaxis": {
            "gridcolor": "white",
            "linecolor": "white",
            "ticks": ""
           },
           "bgcolor": "#E5ECF6",
           "radialaxis": {
            "gridcolor": "white",
            "linecolor": "white",
            "ticks": ""
           }
          },
          "scene": {
           "xaxis": {
            "backgroundcolor": "#E5ECF6",
            "gridcolor": "white",
            "gridwidth": 2,
            "linecolor": "white",
            "showbackground": true,
            "ticks": "",
            "zerolinecolor": "white"
           },
           "yaxis": {
            "backgroundcolor": "#E5ECF6",
            "gridcolor": "white",
            "gridwidth": 2,
            "linecolor": "white",
            "showbackground": true,
            "ticks": "",
            "zerolinecolor": "white"
           },
           "zaxis": {
            "backgroundcolor": "#E5ECF6",
            "gridcolor": "white",
            "gridwidth": 2,
            "linecolor": "white",
            "showbackground": true,
            "ticks": "",
            "zerolinecolor": "white"
           }
          },
          "shapedefaults": {
           "line": {
            "color": "#2a3f5f"
           }
          },
          "ternary": {
           "aaxis": {
            "gridcolor": "white",
            "linecolor": "white",
            "ticks": ""
           },
           "baxis": {
            "gridcolor": "white",
            "linecolor": "white",
            "ticks": ""
           },
           "bgcolor": "#E5ECF6",
           "caxis": {
            "gridcolor": "white",
            "linecolor": "white",
            "ticks": ""
           }
          },
          "title": {
           "x": 0.05
          },
          "xaxis": {
           "automargin": true,
           "gridcolor": "white",
           "linecolor": "white",
           "ticks": "",
           "title": {
            "standoff": 15
           },
           "zerolinecolor": "white",
           "zerolinewidth": 2
          },
          "yaxis": {
           "automargin": true,
           "gridcolor": "white",
           "linecolor": "white",
           "ticks": "",
           "title": {
            "standoff": 15
           },
           "zerolinecolor": "white",
           "zerolinewidth": 2
          }
         }
        },
        "title": {
         "text": "Combined Histogram of All Flight and Train Times (Hours)"
        },
        "xaxis": {
         "anchor": "y",
         "domain": [
          0,
          1
         ],
         "title": {
          "text": "Time (hours)"
         }
        },
        "yaxis": {
         "anchor": "x",
         "domain": [
          0,
          1
         ],
         "title": {
          "text": "Count"
         }
        }
       }
      }
     },
     "metadata": {},
     "output_type": "display_data"
    }
   ],
   "source": [
    "# Histogram for All Flight Times\n",
    "hist_flight_all = px.histogram(merged_data, x='flight_time_hours_with_extra', nbins=50)\n",
    "hist_flight_all.update_layout(title='Histogram of All Flight Times (hours, including 90min extra)',\n",
    "                              xaxis_title='Flight Time (hours)',\n",
    "                              yaxis_title='Count')\n",
    "hist_flight_all.show()\n",
    "\n",
    "# Histogram for All Train Times\n",
    "hist_train_all = px.histogram(merged_data, x='train_time_hours', nbins=50)\n",
    "hist_train_all.update_layout(title='Histogram of All Train Times (hours)',\n",
    "                             xaxis_title='Train Time (hours)',\n",
    "                             yaxis_title='Count')\n",
    "hist_train_all.show()\n",
    "\n",
    "# Combined Histogram for Both Flight and Train Times\n",
    "histogram_fig_combined = px.histogram(stacked_times, x='Time', color='Type', barmode='overlay', nbins=50)\n",
    "histogram_fig_combined.update_layout(title='Combined Histogram of All Flight and Train Times (Hours)',\n",
    "                                     xaxis_title='Time (hours)',\n",
    "                                     yaxis_title='Count',\n",
    "                                     legend_title_text='Type')\n",
    "histogram_fig_combined.show()"
   ]
  },
  {
   "attachments": {},
   "cell_type": "markdown",
   "metadata": {},
   "source": [
    "## Are there routes on which high-speed rail leads to shorter journey times than air travel? \n",
    "Answer: Yes, a few of them when time is added for airport transport, if we exclude time than no."
   ]
  },
  {
   "cell_type": "code",
   "execution_count": 125,
   "metadata": {},
   "outputs": [
    {
     "name": "stdout",
     "output_type": "stream",
     "text": [
      "There are no routes where train time is shorter than flight time.\n"
     ]
    }
   ],
   "source": [
    "shorter_train_routes = merged_data[merged_data['train_time'] < merged_data['flight_time']]\n",
    "\n",
    "# Check if there are any such routes\n",
    "if not shorter_train_routes.empty:\n",
    "    print(\"Routes where train time is shorter than flight time:\")\n",
    "    print(shorter_train_routes[['arrival city', 'departure city', 'flight_time', 'train_time']])\n",
    "else:\n",
    "    print(\"There are no routes where train time is shorter than flight time.\")"
   ]
  },
  {
   "cell_type": "code",
   "execution_count": 145,
   "metadata": {},
   "outputs": [
    {
     "name": "stdout",
     "output_type": "stream",
     "text": [
      "Routes where train time is shorter than flight time:\n",
      "              arrival city departure city  flight_time_plus_90  train_time\n",
      "31                  Madrid       Alicante           160.000000  148.000000\n",
      "109              Vila Real       Bragança           110.000000   80.000000\n",
      "197               Bordeaux          Paris           175.000000  150.000000\n",
      "198               Brussels          Paris           160.000000   91.000000\n",
      "287              Frankfurt        Cologne           140.000000   63.000000\n",
      "329                Bologna           Rome           150.000000  123.000000\n",
      "337               Florence           Rome           145.000000   87.000000\n",
      "378   Freiburg im Breisgau      Frankfurt           145.000000  132.000000\n",
      "382                Cologne      Frankfurt           140.000000   67.000000\n",
      "389                Koblenz      Frankfurt           135.000000  130.000000\n",
      "398              Nuremberg      Frankfurt           135.000000  123.000000\n",
      "402              Stuttgart      Frankfurt           140.000000   93.000000\n",
      "492                 Warsaw         Kraków           145.000000  132.000000\n",
      "534               Brussels         London           161.666667  122.000000\n",
      "615                  Paris           Lyon           162.500000  116.000000\n",
      "620                 Madrid      Barcelona           175.000000  165.000000\n",
      "668                   Lyon      Marseille           155.000000  116.633333\n",
      "690              Stuttgart         Munich           140.000000  119.000000\n",
      "711                   Rome         Naples           145.000000   77.483333\n",
      "896                 Madrid        Sevilla           157.500000  157.000000\n",
      "933               Bordeaux       Toulouse           140.000000  129.000000\n",
      "1015                Madrid       Valencia           152.500000  123.000000\n",
      "1028             Vila Real          Viseu           100.000000   75.066667\n",
      "1042                Kraków         Warsaw           147.500000  132.000000\n"
     ]
    }
   ],
   "source": [
    "shorter_train_routes = merged_data[merged_data['train_time'] < merged_data['flight_time_plus_90']]\n",
    "\n",
    "# Check if there are any such routes\n",
    "if not shorter_train_routes.empty:\n",
    "    print(\"Routes where train time is shorter than flight time:\")\n",
    "    print(shorter_train_routes[['arrival city', 'departure city', 'flight_time_plus_90', 'train_time']])\n",
    "else:\n",
    "    print(\"There are no routes where train time is shorter than flight time.\")"
   ]
  },
  {
   "cell_type": "code",
   "execution_count": 151,
   "metadata": {},
   "outputs": [
    {
     "data": {
      "application/vnd.plotly.v1+json": {
       "config": {
        "plotlyServerURL": "https://plot.ly"
       },
       "data": [
        {
         "alignmentgroup": "True",
         "hovertemplate": "Type=Flight Time<br>Time=%{x}<br>Route=%{y}<extra></extra>",
         "legendgroup": "Flight Time",
         "marker": {
          "color": "blue",
          "pattern": {
           "shape": ""
          }
         },
         "name": "Flight Time",
         "offsetgroup": "Flight Time",
         "orientation": "h",
         "showlegend": true,
         "textposition": "auto",
         "type": "bar",
         "x": [
          160,
          110,
          175,
          160,
          140,
          150,
          145,
          145,
          140,
          135,
          135,
          140,
          145,
          161.66666666666669,
          162.5,
          175,
          155,
          140,
          145,
          157.5,
          140,
          152.5,
          100,
          147.5
         ],
         "xaxis": "x",
         "y": [
          "Alicante to Madrid",
          "Bragança to Vila Real",
          "Paris to Bordeaux",
          "Paris to Brussels",
          "Cologne to Frankfurt",
          "Rome to Bologna",
          "Rome to Florence",
          "Frankfurt to Freiburg im Breisgau",
          "Frankfurt to Cologne",
          "Frankfurt to Koblenz",
          "Frankfurt to Nuremberg",
          "Frankfurt to Stuttgart",
          "Kraków to Warsaw",
          "London to Brussels",
          "Lyon to Paris",
          "Barcelona to Madrid",
          "Marseille to Lyon",
          "Munich to Stuttgart",
          "Naples to Rome",
          "Sevilla to Madrid",
          "Toulouse to Bordeaux",
          "Valencia to Madrid",
          "Viseu to Vila Real",
          "Warsaw to Kraków"
         ],
         "yaxis": "y"
        },
        {
         "alignmentgroup": "True",
         "hovertemplate": "Type=Train Time<br>Time=%{x}<br>Route=%{y}<extra></extra>",
         "legendgroup": "Train Time",
         "marker": {
          "color": "orange",
          "pattern": {
           "shape": ""
          }
         },
         "name": "Train Time",
         "offsetgroup": "Train Time",
         "orientation": "h",
         "showlegend": true,
         "textposition": "auto",
         "type": "bar",
         "x": [
          148,
          80,
          150,
          91,
          63,
          123,
          87,
          132,
          67,
          130,
          123,
          93,
          132,
          122,
          116,
          165,
          116.63333333333334,
          119,
          77.48333333333333,
          157,
          129,
          123,
          75.06666666666666,
          132
         ],
         "xaxis": "x",
         "y": [
          "Alicante to Madrid",
          "Bragança to Vila Real",
          "Paris to Bordeaux",
          "Paris to Brussels",
          "Cologne to Frankfurt",
          "Rome to Bologna",
          "Rome to Florence",
          "Frankfurt to Freiburg im Breisgau",
          "Frankfurt to Cologne",
          "Frankfurt to Koblenz",
          "Frankfurt to Nuremberg",
          "Frankfurt to Stuttgart",
          "Kraków to Warsaw",
          "London to Brussels",
          "Lyon to Paris",
          "Barcelona to Madrid",
          "Marseille to Lyon",
          "Munich to Stuttgart",
          "Naples to Rome",
          "Sevilla to Madrid",
          "Toulouse to Bordeaux",
          "Valencia to Madrid",
          "Viseu to Vila Real",
          "Warsaw to Kraków"
         ],
         "yaxis": "y"
        }
       ],
       "layout": {
        "barmode": "group",
        "legend": {
         "title": {
          "text": "Type"
         },
         "tracegroupgap": 0
        },
        "template": {
         "data": {
          "bar": [
           {
            "error_x": {
             "color": "#2a3f5f"
            },
            "error_y": {
             "color": "#2a3f5f"
            },
            "marker": {
             "line": {
              "color": "#E5ECF6",
              "width": 0.5
             },
             "pattern": {
              "fillmode": "overlay",
              "size": 10,
              "solidity": 0.2
             }
            },
            "type": "bar"
           }
          ],
          "barpolar": [
           {
            "marker": {
             "line": {
              "color": "#E5ECF6",
              "width": 0.5
             },
             "pattern": {
              "fillmode": "overlay",
              "size": 10,
              "solidity": 0.2
             }
            },
            "type": "barpolar"
           }
          ],
          "carpet": [
           {
            "aaxis": {
             "endlinecolor": "#2a3f5f",
             "gridcolor": "white",
             "linecolor": "white",
             "minorgridcolor": "white",
             "startlinecolor": "#2a3f5f"
            },
            "baxis": {
             "endlinecolor": "#2a3f5f",
             "gridcolor": "white",
             "linecolor": "white",
             "minorgridcolor": "white",
             "startlinecolor": "#2a3f5f"
            },
            "type": "carpet"
           }
          ],
          "choropleth": [
           {
            "colorbar": {
             "outlinewidth": 0,
             "ticks": ""
            },
            "type": "choropleth"
           }
          ],
          "contour": [
           {
            "colorbar": {
             "outlinewidth": 0,
             "ticks": ""
            },
            "colorscale": [
             [
              0,
              "#0d0887"
             ],
             [
              0.1111111111111111,
              "#46039f"
             ],
             [
              0.2222222222222222,
              "#7201a8"
             ],
             [
              0.3333333333333333,
              "#9c179e"
             ],
             [
              0.4444444444444444,
              "#bd3786"
             ],
             [
              0.5555555555555556,
              "#d8576b"
             ],
             [
              0.6666666666666666,
              "#ed7953"
             ],
             [
              0.7777777777777778,
              "#fb9f3a"
             ],
             [
              0.8888888888888888,
              "#fdca26"
             ],
             [
              1,
              "#f0f921"
             ]
            ],
            "type": "contour"
           }
          ],
          "contourcarpet": [
           {
            "colorbar": {
             "outlinewidth": 0,
             "ticks": ""
            },
            "type": "contourcarpet"
           }
          ],
          "heatmap": [
           {
            "colorbar": {
             "outlinewidth": 0,
             "ticks": ""
            },
            "colorscale": [
             [
              0,
              "#0d0887"
             ],
             [
              0.1111111111111111,
              "#46039f"
             ],
             [
              0.2222222222222222,
              "#7201a8"
             ],
             [
              0.3333333333333333,
              "#9c179e"
             ],
             [
              0.4444444444444444,
              "#bd3786"
             ],
             [
              0.5555555555555556,
              "#d8576b"
             ],
             [
              0.6666666666666666,
              "#ed7953"
             ],
             [
              0.7777777777777778,
              "#fb9f3a"
             ],
             [
              0.8888888888888888,
              "#fdca26"
             ],
             [
              1,
              "#f0f921"
             ]
            ],
            "type": "heatmap"
           }
          ],
          "heatmapgl": [
           {
            "colorbar": {
             "outlinewidth": 0,
             "ticks": ""
            },
            "colorscale": [
             [
              0,
              "#0d0887"
             ],
             [
              0.1111111111111111,
              "#46039f"
             ],
             [
              0.2222222222222222,
              "#7201a8"
             ],
             [
              0.3333333333333333,
              "#9c179e"
             ],
             [
              0.4444444444444444,
              "#bd3786"
             ],
             [
              0.5555555555555556,
              "#d8576b"
             ],
             [
              0.6666666666666666,
              "#ed7953"
             ],
             [
              0.7777777777777778,
              "#fb9f3a"
             ],
             [
              0.8888888888888888,
              "#fdca26"
             ],
             [
              1,
              "#f0f921"
             ]
            ],
            "type": "heatmapgl"
           }
          ],
          "histogram": [
           {
            "marker": {
             "pattern": {
              "fillmode": "overlay",
              "size": 10,
              "solidity": 0.2
             }
            },
            "type": "histogram"
           }
          ],
          "histogram2d": [
           {
            "colorbar": {
             "outlinewidth": 0,
             "ticks": ""
            },
            "colorscale": [
             [
              0,
              "#0d0887"
             ],
             [
              0.1111111111111111,
              "#46039f"
             ],
             [
              0.2222222222222222,
              "#7201a8"
             ],
             [
              0.3333333333333333,
              "#9c179e"
             ],
             [
              0.4444444444444444,
              "#bd3786"
             ],
             [
              0.5555555555555556,
              "#d8576b"
             ],
             [
              0.6666666666666666,
              "#ed7953"
             ],
             [
              0.7777777777777778,
              "#fb9f3a"
             ],
             [
              0.8888888888888888,
              "#fdca26"
             ],
             [
              1,
              "#f0f921"
             ]
            ],
            "type": "histogram2d"
           }
          ],
          "histogram2dcontour": [
           {
            "colorbar": {
             "outlinewidth": 0,
             "ticks": ""
            },
            "colorscale": [
             [
              0,
              "#0d0887"
             ],
             [
              0.1111111111111111,
              "#46039f"
             ],
             [
              0.2222222222222222,
              "#7201a8"
             ],
             [
              0.3333333333333333,
              "#9c179e"
             ],
             [
              0.4444444444444444,
              "#bd3786"
             ],
             [
              0.5555555555555556,
              "#d8576b"
             ],
             [
              0.6666666666666666,
              "#ed7953"
             ],
             [
              0.7777777777777778,
              "#fb9f3a"
             ],
             [
              0.8888888888888888,
              "#fdca26"
             ],
             [
              1,
              "#f0f921"
             ]
            ],
            "type": "histogram2dcontour"
           }
          ],
          "mesh3d": [
           {
            "colorbar": {
             "outlinewidth": 0,
             "ticks": ""
            },
            "type": "mesh3d"
           }
          ],
          "parcoords": [
           {
            "line": {
             "colorbar": {
              "outlinewidth": 0,
              "ticks": ""
             }
            },
            "type": "parcoords"
           }
          ],
          "pie": [
           {
            "automargin": true,
            "type": "pie"
           }
          ],
          "scatter": [
           {
            "fillpattern": {
             "fillmode": "overlay",
             "size": 10,
             "solidity": 0.2
            },
            "type": "scatter"
           }
          ],
          "scatter3d": [
           {
            "line": {
             "colorbar": {
              "outlinewidth": 0,
              "ticks": ""
             }
            },
            "marker": {
             "colorbar": {
              "outlinewidth": 0,
              "ticks": ""
             }
            },
            "type": "scatter3d"
           }
          ],
          "scattercarpet": [
           {
            "marker": {
             "colorbar": {
              "outlinewidth": 0,
              "ticks": ""
             }
            },
            "type": "scattercarpet"
           }
          ],
          "scattergeo": [
           {
            "marker": {
             "colorbar": {
              "outlinewidth": 0,
              "ticks": ""
             }
            },
            "type": "scattergeo"
           }
          ],
          "scattergl": [
           {
            "marker": {
             "colorbar": {
              "outlinewidth": 0,
              "ticks": ""
             }
            },
            "type": "scattergl"
           }
          ],
          "scattermapbox": [
           {
            "marker": {
             "colorbar": {
              "outlinewidth": 0,
              "ticks": ""
             }
            },
            "type": "scattermapbox"
           }
          ],
          "scatterpolar": [
           {
            "marker": {
             "colorbar": {
              "outlinewidth": 0,
              "ticks": ""
             }
            },
            "type": "scatterpolar"
           }
          ],
          "scatterpolargl": [
           {
            "marker": {
             "colorbar": {
              "outlinewidth": 0,
              "ticks": ""
             }
            },
            "type": "scatterpolargl"
           }
          ],
          "scatterternary": [
           {
            "marker": {
             "colorbar": {
              "outlinewidth": 0,
              "ticks": ""
             }
            },
            "type": "scatterternary"
           }
          ],
          "surface": [
           {
            "colorbar": {
             "outlinewidth": 0,
             "ticks": ""
            },
            "colorscale": [
             [
              0,
              "#0d0887"
             ],
             [
              0.1111111111111111,
              "#46039f"
             ],
             [
              0.2222222222222222,
              "#7201a8"
             ],
             [
              0.3333333333333333,
              "#9c179e"
             ],
             [
              0.4444444444444444,
              "#bd3786"
             ],
             [
              0.5555555555555556,
              "#d8576b"
             ],
             [
              0.6666666666666666,
              "#ed7953"
             ],
             [
              0.7777777777777778,
              "#fb9f3a"
             ],
             [
              0.8888888888888888,
              "#fdca26"
             ],
             [
              1,
              "#f0f921"
             ]
            ],
            "type": "surface"
           }
          ],
          "table": [
           {
            "cells": {
             "fill": {
              "color": "#EBF0F8"
             },
             "line": {
              "color": "white"
             }
            },
            "header": {
             "fill": {
              "color": "#C8D4E3"
             },
             "line": {
              "color": "white"
             }
            },
            "type": "table"
           }
          ]
         },
         "layout": {
          "annotationdefaults": {
           "arrowcolor": "#2a3f5f",
           "arrowhead": 0,
           "arrowwidth": 1
          },
          "autotypenumbers": "strict",
          "coloraxis": {
           "colorbar": {
            "outlinewidth": 0,
            "ticks": ""
           }
          },
          "colorscale": {
           "diverging": [
            [
             0,
             "#8e0152"
            ],
            [
             0.1,
             "#c51b7d"
            ],
            [
             0.2,
             "#de77ae"
            ],
            [
             0.3,
             "#f1b6da"
            ],
            [
             0.4,
             "#fde0ef"
            ],
            [
             0.5,
             "#f7f7f7"
            ],
            [
             0.6,
             "#e6f5d0"
            ],
            [
             0.7,
             "#b8e186"
            ],
            [
             0.8,
             "#7fbc41"
            ],
            [
             0.9,
             "#4d9221"
            ],
            [
             1,
             "#276419"
            ]
           ],
           "sequential": [
            [
             0,
             "#0d0887"
            ],
            [
             0.1111111111111111,
             "#46039f"
            ],
            [
             0.2222222222222222,
             "#7201a8"
            ],
            [
             0.3333333333333333,
             "#9c179e"
            ],
            [
             0.4444444444444444,
             "#bd3786"
            ],
            [
             0.5555555555555556,
             "#d8576b"
            ],
            [
             0.6666666666666666,
             "#ed7953"
            ],
            [
             0.7777777777777778,
             "#fb9f3a"
            ],
            [
             0.8888888888888888,
             "#fdca26"
            ],
            [
             1,
             "#f0f921"
            ]
           ],
           "sequentialminus": [
            [
             0,
             "#0d0887"
            ],
            [
             0.1111111111111111,
             "#46039f"
            ],
            [
             0.2222222222222222,
             "#7201a8"
            ],
            [
             0.3333333333333333,
             "#9c179e"
            ],
            [
             0.4444444444444444,
             "#bd3786"
            ],
            [
             0.5555555555555556,
             "#d8576b"
            ],
            [
             0.6666666666666666,
             "#ed7953"
            ],
            [
             0.7777777777777778,
             "#fb9f3a"
            ],
            [
             0.8888888888888888,
             "#fdca26"
            ],
            [
             1,
             "#f0f921"
            ]
           ]
          },
          "colorway": [
           "#636efa",
           "#EF553B",
           "#00cc96",
           "#ab63fa",
           "#FFA15A",
           "#19d3f3",
           "#FF6692",
           "#B6E880",
           "#FF97FF",
           "#FECB52"
          ],
          "font": {
           "color": "#2a3f5f"
          },
          "geo": {
           "bgcolor": "white",
           "lakecolor": "white",
           "landcolor": "#E5ECF6",
           "showlakes": true,
           "showland": true,
           "subunitcolor": "white"
          },
          "hoverlabel": {
           "align": "left"
          },
          "hovermode": "closest",
          "mapbox": {
           "style": "light"
          },
          "paper_bgcolor": "white",
          "plot_bgcolor": "#E5ECF6",
          "polar": {
           "angularaxis": {
            "gridcolor": "white",
            "linecolor": "white",
            "ticks": ""
           },
           "bgcolor": "#E5ECF6",
           "radialaxis": {
            "gridcolor": "white",
            "linecolor": "white",
            "ticks": ""
           }
          },
          "scene": {
           "xaxis": {
            "backgroundcolor": "#E5ECF6",
            "gridcolor": "white",
            "gridwidth": 2,
            "linecolor": "white",
            "showbackground": true,
            "ticks": "",
            "zerolinecolor": "white"
           },
           "yaxis": {
            "backgroundcolor": "#E5ECF6",
            "gridcolor": "white",
            "gridwidth": 2,
            "linecolor": "white",
            "showbackground": true,
            "ticks": "",
            "zerolinecolor": "white"
           },
           "zaxis": {
            "backgroundcolor": "#E5ECF6",
            "gridcolor": "white",
            "gridwidth": 2,
            "linecolor": "white",
            "showbackground": true,
            "ticks": "",
            "zerolinecolor": "white"
           }
          },
          "shapedefaults": {
           "line": {
            "color": "#2a3f5f"
           }
          },
          "ternary": {
           "aaxis": {
            "gridcolor": "white",
            "linecolor": "white",
            "ticks": ""
           },
           "baxis": {
            "gridcolor": "white",
            "linecolor": "white",
            "ticks": ""
           },
           "bgcolor": "#E5ECF6",
           "caxis": {
            "gridcolor": "white",
            "linecolor": "white",
            "ticks": ""
           }
          },
          "title": {
           "x": 0.05
          },
          "xaxis": {
           "automargin": true,
           "gridcolor": "white",
           "linecolor": "white",
           "ticks": "",
           "title": {
            "standoff": 15
           },
           "zerolinecolor": "white",
           "zerolinewidth": 2
          },
          "yaxis": {
           "automargin": true,
           "gridcolor": "white",
           "linecolor": "white",
           "ticks": "",
           "title": {
            "standoff": 15
           },
           "zerolinecolor": "white",
           "zerolinewidth": 2
          }
         }
        },
        "title": {
         "text": "Comparison of Flight Time (with extra 90min) and Train Time for Each Route"
        },
        "xaxis": {
         "anchor": "y",
         "domain": [
          0,
          1
         ],
         "title": {
          "text": "Time"
         }
        },
        "yaxis": {
         "anchor": "x",
         "domain": [
          0,
          1
         ],
         "title": {
          "text": "Route"
         }
        }
       }
      }
     },
     "metadata": {},
     "output_type": "display_data"
    }
   ],
   "source": [
    "shorter_train_routes = shorter_train_routes.reset_index(drop=True)\n",
    "\n",
    "# Create the long-format DataFrame with flight and train times separately\n",
    "flight_times = shorter_train_routes[['departure city', 'arrival city', 'flight_time_plus_90']].copy()\n",
    "train_times = shorter_train_routes[['departure city', 'arrival city', 'train_time']].copy()\n",
    "\n",
    "# Rename the columns to have a common 'Time' column and a 'Type' column to differentiate between flight and train\n",
    "flight_times.rename(columns={'flight_time_plus_90': 'Time'}, inplace=True)\n",
    "train_times.rename(columns={'train_time': 'Time'}, inplace=True)\n",
    "flight_times['Type'] = 'Flight Time'\n",
    "train_times['Type'] = 'Train Time'\n",
    "\n",
    "# Concatenate the flight and train times DataFrames\n",
    "long_format = pd.concat([flight_times, train_times])\n",
    "\n",
    "# Now create the bar chart\n",
    "bar_fig = px.bar(long_format, \n",
    "                 x='Time', \n",
    "                 y=long_format['departure city'] + \" to \" + long_format['arrival city'], \n",
    "                 color='Type', \n",
    "                 barmode='group',\n",
    "                 orientation='h',\n",
    "                 title='Comparison of Flight Time (with extra 90min) and Train Time for Each Route',\n",
    "                 labels={'x': 'Time (minutes)', 'y': 'Route'},\n",
    "                 color_discrete_map={'Flight Time': 'blue', 'Train Time': 'orange'})\n",
    "\n",
    "# Show the bar chart\n",
    "bar_fig.show()"
   ]
  },
  {
   "attachments": {},
   "cell_type": "markdown",
   "metadata": {},
   "source": [
    "Notes for High Speed trains and their max speed\n",
    "\n",
    "Rome – Naples\t-> max speed: 300 km/h(186 mph)\n",
    "\n",
    "Florence – Rome -> max speed:\t250 km/h (155 mph)\n",
    "\n",
    "Cologne – Frankfurt -> max speed: 300 km/h (186 mph)\n",
    "\n",
    "Valencia - Madrid -> max speed: 300 km/h (186 mph)"
   ]
  },
  {
   "cell_type": "markdown",
   "metadata": {},
   "source": [
    "### Analysing longest routes"
   ]
  },
  {
   "cell_type": "code",
   "execution_count": 178,
   "metadata": {},
   "outputs": [
    {
     "data": {
      "application/vnd.plotly.v1+json": {
       "config": {
        "plotlyServerURL": "https://plot.ly"
       },
       "data": [
        {
         "alignmentgroup": "True",
         "hovertemplate": "Type=flight_time_hours_with_extra<br>Time (hours)=%{x}<br>Route=%{y}<extra></extra>",
         "legendgroup": "flight_time_hours_with_extra",
         "marker": {
          "color": "blue",
          "pattern": {
           "shape": ""
          }
         },
         "name": "flight_time_hours_with_extra",
         "offsetgroup": "flight_time_hours_with_extra",
         "orientation": "h",
         "showlegend": true,
         "textposition": "auto",
         "type": "bar",
         "x": [
          6.916666666666667,
          6.791666666666667,
          6.458333333333333,
          6.375,
          6.277777777777778,
          6.083333333333333,
          6,
          6,
          5.916666666666667,
          5.916666666666667,
          5.333333333333333,
          5.666666666666667,
          3.625,
          5.333333333333333
         ],
         "xaxis": "x",
         "y": [
          "Sochi to Krasnoyarsk",
          "Krasnoyarsk to Moscow",
          "Krasnoyarsk to Saint Petersburg",
          "Moscow to Krasnoyarsk",
          "Krasnoyarsk to Moscow",
          "Lisbon to Helsinki",
          "Chisinau to Lisbon",
          "Riga to Lisbon",
          "Stockholm to Málaga",
          "Vilnius to Málaga",
          "Ålesund to Alicante",
          "Oslo to Málaga",
          "Zürich to Pristina",
          "Gothenburg to Málaga"
         ],
         "yaxis": "y"
        },
        {
         "alignmentgroup": "True",
         "hovertemplate": "Type=train_time_hours<br>Time (hours)=%{x}<br>Route=%{y}<extra></extra>",
         "legendgroup": "train_time_hours",
         "marker": {
          "color": "orange",
          "pattern": {
           "shape": ""
          }
         },
         "name": "train_time_hours",
         "offsetgroup": "train_time_hours",
         "orientation": "h",
         "showlegend": true,
         "textposition": "auto",
         "type": "bar",
         "x": [
          83.78333333333333,
          64.83333333333333,
          72.13333333333334,
          65.9,
          64.83333333333333,
          68.63333333333334,
          77.63555555555556,
          61.6,
          70.85,
          60.416666666666664,
          75.15277777777779,
          72.96666666666667,
          70.6913888888889,
          68.81666666666666
         ],
         "xaxis": "x",
         "y": [
          "Sochi to Krasnoyarsk",
          "Krasnoyarsk to Moscow",
          "Krasnoyarsk to Saint Petersburg",
          "Moscow to Krasnoyarsk",
          "Krasnoyarsk to Moscow",
          "Lisbon to Helsinki",
          "Chisinau to Lisbon",
          "Riga to Lisbon",
          "Stockholm to Málaga",
          "Vilnius to Málaga",
          "Ålesund to Alicante",
          "Oslo to Málaga",
          "Zürich to Pristina",
          "Gothenburg to Málaga"
         ],
         "yaxis": "y"
        }
       ],
       "layout": {
        "barmode": "group",
        "legend": {
         "title": {
          "text": "Type"
         },
         "tracegroupgap": 0
        },
        "template": {
         "data": {
          "bar": [
           {
            "error_x": {
             "color": "#2a3f5f"
            },
            "error_y": {
             "color": "#2a3f5f"
            },
            "marker": {
             "line": {
              "color": "#E5ECF6",
              "width": 0.5
             },
             "pattern": {
              "fillmode": "overlay",
              "size": 10,
              "solidity": 0.2
             }
            },
            "type": "bar"
           }
          ],
          "barpolar": [
           {
            "marker": {
             "line": {
              "color": "#E5ECF6",
              "width": 0.5
             },
             "pattern": {
              "fillmode": "overlay",
              "size": 10,
              "solidity": 0.2
             }
            },
            "type": "barpolar"
           }
          ],
          "carpet": [
           {
            "aaxis": {
             "endlinecolor": "#2a3f5f",
             "gridcolor": "white",
             "linecolor": "white",
             "minorgridcolor": "white",
             "startlinecolor": "#2a3f5f"
            },
            "baxis": {
             "endlinecolor": "#2a3f5f",
             "gridcolor": "white",
             "linecolor": "white",
             "minorgridcolor": "white",
             "startlinecolor": "#2a3f5f"
            },
            "type": "carpet"
           }
          ],
          "choropleth": [
           {
            "colorbar": {
             "outlinewidth": 0,
             "ticks": ""
            },
            "type": "choropleth"
           }
          ],
          "contour": [
           {
            "colorbar": {
             "outlinewidth": 0,
             "ticks": ""
            },
            "colorscale": [
             [
              0,
              "#0d0887"
             ],
             [
              0.1111111111111111,
              "#46039f"
             ],
             [
              0.2222222222222222,
              "#7201a8"
             ],
             [
              0.3333333333333333,
              "#9c179e"
             ],
             [
              0.4444444444444444,
              "#bd3786"
             ],
             [
              0.5555555555555556,
              "#d8576b"
             ],
             [
              0.6666666666666666,
              "#ed7953"
             ],
             [
              0.7777777777777778,
              "#fb9f3a"
             ],
             [
              0.8888888888888888,
              "#fdca26"
             ],
             [
              1,
              "#f0f921"
             ]
            ],
            "type": "contour"
           }
          ],
          "contourcarpet": [
           {
            "colorbar": {
             "outlinewidth": 0,
             "ticks": ""
            },
            "type": "contourcarpet"
           }
          ],
          "heatmap": [
           {
            "colorbar": {
             "outlinewidth": 0,
             "ticks": ""
            },
            "colorscale": [
             [
              0,
              "#0d0887"
             ],
             [
              0.1111111111111111,
              "#46039f"
             ],
             [
              0.2222222222222222,
              "#7201a8"
             ],
             [
              0.3333333333333333,
              "#9c179e"
             ],
             [
              0.4444444444444444,
              "#bd3786"
             ],
             [
              0.5555555555555556,
              "#d8576b"
             ],
             [
              0.6666666666666666,
              "#ed7953"
             ],
             [
              0.7777777777777778,
              "#fb9f3a"
             ],
             [
              0.8888888888888888,
              "#fdca26"
             ],
             [
              1,
              "#f0f921"
             ]
            ],
            "type": "heatmap"
           }
          ],
          "heatmapgl": [
           {
            "colorbar": {
             "outlinewidth": 0,
             "ticks": ""
            },
            "colorscale": [
             [
              0,
              "#0d0887"
             ],
             [
              0.1111111111111111,
              "#46039f"
             ],
             [
              0.2222222222222222,
              "#7201a8"
             ],
             [
              0.3333333333333333,
              "#9c179e"
             ],
             [
              0.4444444444444444,
              "#bd3786"
             ],
             [
              0.5555555555555556,
              "#d8576b"
             ],
             [
              0.6666666666666666,
              "#ed7953"
             ],
             [
              0.7777777777777778,
              "#fb9f3a"
             ],
             [
              0.8888888888888888,
              "#fdca26"
             ],
             [
              1,
              "#f0f921"
             ]
            ],
            "type": "heatmapgl"
           }
          ],
          "histogram": [
           {
            "marker": {
             "pattern": {
              "fillmode": "overlay",
              "size": 10,
              "solidity": 0.2
             }
            },
            "type": "histogram"
           }
          ],
          "histogram2d": [
           {
            "colorbar": {
             "outlinewidth": 0,
             "ticks": ""
            },
            "colorscale": [
             [
              0,
              "#0d0887"
             ],
             [
              0.1111111111111111,
              "#46039f"
             ],
             [
              0.2222222222222222,
              "#7201a8"
             ],
             [
              0.3333333333333333,
              "#9c179e"
             ],
             [
              0.4444444444444444,
              "#bd3786"
             ],
             [
              0.5555555555555556,
              "#d8576b"
             ],
             [
              0.6666666666666666,
              "#ed7953"
             ],
             [
              0.7777777777777778,
              "#fb9f3a"
             ],
             [
              0.8888888888888888,
              "#fdca26"
             ],
             [
              1,
              "#f0f921"
             ]
            ],
            "type": "histogram2d"
           }
          ],
          "histogram2dcontour": [
           {
            "colorbar": {
             "outlinewidth": 0,
             "ticks": ""
            },
            "colorscale": [
             [
              0,
              "#0d0887"
             ],
             [
              0.1111111111111111,
              "#46039f"
             ],
             [
              0.2222222222222222,
              "#7201a8"
             ],
             [
              0.3333333333333333,
              "#9c179e"
             ],
             [
              0.4444444444444444,
              "#bd3786"
             ],
             [
              0.5555555555555556,
              "#d8576b"
             ],
             [
              0.6666666666666666,
              "#ed7953"
             ],
             [
              0.7777777777777778,
              "#fb9f3a"
             ],
             [
              0.8888888888888888,
              "#fdca26"
             ],
             [
              1,
              "#f0f921"
             ]
            ],
            "type": "histogram2dcontour"
           }
          ],
          "mesh3d": [
           {
            "colorbar": {
             "outlinewidth": 0,
             "ticks": ""
            },
            "type": "mesh3d"
           }
          ],
          "parcoords": [
           {
            "line": {
             "colorbar": {
              "outlinewidth": 0,
              "ticks": ""
             }
            },
            "type": "parcoords"
           }
          ],
          "pie": [
           {
            "automargin": true,
            "type": "pie"
           }
          ],
          "scatter": [
           {
            "fillpattern": {
             "fillmode": "overlay",
             "size": 10,
             "solidity": 0.2
            },
            "type": "scatter"
           }
          ],
          "scatter3d": [
           {
            "line": {
             "colorbar": {
              "outlinewidth": 0,
              "ticks": ""
             }
            },
            "marker": {
             "colorbar": {
              "outlinewidth": 0,
              "ticks": ""
             }
            },
            "type": "scatter3d"
           }
          ],
          "scattercarpet": [
           {
            "marker": {
             "colorbar": {
              "outlinewidth": 0,
              "ticks": ""
             }
            },
            "type": "scattercarpet"
           }
          ],
          "scattergeo": [
           {
            "marker": {
             "colorbar": {
              "outlinewidth": 0,
              "ticks": ""
             }
            },
            "type": "scattergeo"
           }
          ],
          "scattergl": [
           {
            "marker": {
             "colorbar": {
              "outlinewidth": 0,
              "ticks": ""
             }
            },
            "type": "scattergl"
           }
          ],
          "scattermapbox": [
           {
            "marker": {
             "colorbar": {
              "outlinewidth": 0,
              "ticks": ""
             }
            },
            "type": "scattermapbox"
           }
          ],
          "scatterpolar": [
           {
            "marker": {
             "colorbar": {
              "outlinewidth": 0,
              "ticks": ""
             }
            },
            "type": "scatterpolar"
           }
          ],
          "scatterpolargl": [
           {
            "marker": {
             "colorbar": {
              "outlinewidth": 0,
              "ticks": ""
             }
            },
            "type": "scatterpolargl"
           }
          ],
          "scatterternary": [
           {
            "marker": {
             "colorbar": {
              "outlinewidth": 0,
              "ticks": ""
             }
            },
            "type": "scatterternary"
           }
          ],
          "surface": [
           {
            "colorbar": {
             "outlinewidth": 0,
             "ticks": ""
            },
            "colorscale": [
             [
              0,
              "#0d0887"
             ],
             [
              0.1111111111111111,
              "#46039f"
             ],
             [
              0.2222222222222222,
              "#7201a8"
             ],
             [
              0.3333333333333333,
              "#9c179e"
             ],
             [
              0.4444444444444444,
              "#bd3786"
             ],
             [
              0.5555555555555556,
              "#d8576b"
             ],
             [
              0.6666666666666666,
              "#ed7953"
             ],
             [
              0.7777777777777778,
              "#fb9f3a"
             ],
             [
              0.8888888888888888,
              "#fdca26"
             ],
             [
              1,
              "#f0f921"
             ]
            ],
            "type": "surface"
           }
          ],
          "table": [
           {
            "cells": {
             "fill": {
              "color": "#EBF0F8"
             },
             "line": {
              "color": "white"
             }
            },
            "header": {
             "fill": {
              "color": "#C8D4E3"
             },
             "line": {
              "color": "white"
             }
            },
            "type": "table"
           }
          ]
         },
         "layout": {
          "annotationdefaults": {
           "arrowcolor": "#2a3f5f",
           "arrowhead": 0,
           "arrowwidth": 1
          },
          "autotypenumbers": "strict",
          "coloraxis": {
           "colorbar": {
            "outlinewidth": 0,
            "ticks": ""
           }
          },
          "colorscale": {
           "diverging": [
            [
             0,
             "#8e0152"
            ],
            [
             0.1,
             "#c51b7d"
            ],
            [
             0.2,
             "#de77ae"
            ],
            [
             0.3,
             "#f1b6da"
            ],
            [
             0.4,
             "#fde0ef"
            ],
            [
             0.5,
             "#f7f7f7"
            ],
            [
             0.6,
             "#e6f5d0"
            ],
            [
             0.7,
             "#b8e186"
            ],
            [
             0.8,
             "#7fbc41"
            ],
            [
             0.9,
             "#4d9221"
            ],
            [
             1,
             "#276419"
            ]
           ],
           "sequential": [
            [
             0,
             "#0d0887"
            ],
            [
             0.1111111111111111,
             "#46039f"
            ],
            [
             0.2222222222222222,
             "#7201a8"
            ],
            [
             0.3333333333333333,
             "#9c179e"
            ],
            [
             0.4444444444444444,
             "#bd3786"
            ],
            [
             0.5555555555555556,
             "#d8576b"
            ],
            [
             0.6666666666666666,
             "#ed7953"
            ],
            [
             0.7777777777777778,
             "#fb9f3a"
            ],
            [
             0.8888888888888888,
             "#fdca26"
            ],
            [
             1,
             "#f0f921"
            ]
           ],
           "sequentialminus": [
            [
             0,
             "#0d0887"
            ],
            [
             0.1111111111111111,
             "#46039f"
            ],
            [
             0.2222222222222222,
             "#7201a8"
            ],
            [
             0.3333333333333333,
             "#9c179e"
            ],
            [
             0.4444444444444444,
             "#bd3786"
            ],
            [
             0.5555555555555556,
             "#d8576b"
            ],
            [
             0.6666666666666666,
             "#ed7953"
            ],
            [
             0.7777777777777778,
             "#fb9f3a"
            ],
            [
             0.8888888888888888,
             "#fdca26"
            ],
            [
             1,
             "#f0f921"
            ]
           ]
          },
          "colorway": [
           "#636efa",
           "#EF553B",
           "#00cc96",
           "#ab63fa",
           "#FFA15A",
           "#19d3f3",
           "#FF6692",
           "#B6E880",
           "#FF97FF",
           "#FECB52"
          ],
          "font": {
           "color": "#2a3f5f"
          },
          "geo": {
           "bgcolor": "white",
           "lakecolor": "white",
           "landcolor": "#E5ECF6",
           "showlakes": true,
           "showland": true,
           "subunitcolor": "white"
          },
          "hoverlabel": {
           "align": "left"
          },
          "hovermode": "closest",
          "mapbox": {
           "style": "light"
          },
          "paper_bgcolor": "white",
          "plot_bgcolor": "#E5ECF6",
          "polar": {
           "angularaxis": {
            "gridcolor": "white",
            "linecolor": "white",
            "ticks": ""
           },
           "bgcolor": "#E5ECF6",
           "radialaxis": {
            "gridcolor": "white",
            "linecolor": "white",
            "ticks": ""
           }
          },
          "scene": {
           "xaxis": {
            "backgroundcolor": "#E5ECF6",
            "gridcolor": "white",
            "gridwidth": 2,
            "linecolor": "white",
            "showbackground": true,
            "ticks": "",
            "zerolinecolor": "white"
           },
           "yaxis": {
            "backgroundcolor": "#E5ECF6",
            "gridcolor": "white",
            "gridwidth": 2,
            "linecolor": "white",
            "showbackground": true,
            "ticks": "",
            "zerolinecolor": "white"
           },
           "zaxis": {
            "backgroundcolor": "#E5ECF6",
            "gridcolor": "white",
            "gridwidth": 2,
            "linecolor": "white",
            "showbackground": true,
            "ticks": "",
            "zerolinecolor": "white"
           }
          },
          "shapedefaults": {
           "line": {
            "color": "#2a3f5f"
           }
          },
          "ternary": {
           "aaxis": {
            "gridcolor": "white",
            "linecolor": "white",
            "ticks": ""
           },
           "baxis": {
            "gridcolor": "white",
            "linecolor": "white",
            "ticks": ""
           },
           "bgcolor": "#E5ECF6",
           "caxis": {
            "gridcolor": "white",
            "linecolor": "white",
            "ticks": ""
           }
          },
          "title": {
           "x": 0.05
          },
          "xaxis": {
           "automargin": true,
           "gridcolor": "white",
           "linecolor": "white",
           "ticks": "",
           "title": {
            "standoff": 15
           },
           "zerolinecolor": "white",
           "zerolinewidth": 2
          },
          "yaxis": {
           "automargin": true,
           "gridcolor": "white",
           "linecolor": "white",
           "ticks": "",
           "title": {
            "standoff": 15
           },
           "zerolinecolor": "white",
           "zerolinewidth": 2
          }
         }
        },
        "title": {
         "text": "Top 10 Longest Routes by Flight and Train Time"
        },
        "xaxis": {
         "anchor": "y",
         "domain": [
          0,
          1
         ],
         "title": {
          "text": "Time (hours)"
         }
        },
        "yaxis": {
         "anchor": "x",
         "categoryorder": "total ascending",
         "domain": [
          0,
          1
         ],
         "title": {
          "text": "Route"
         }
        }
       }
      }
     },
     "metadata": {},
     "output_type": "display_data"
    }
   ],
   "source": [
    "# top 10 longest flight routes\n",
    "top_flights = merged_data.nlargest(10, 'flight_time_hours_with_extra')\n",
    "\n",
    "#top 10 longest train routes\n",
    "top_trains = merged_data.nlargest(10, 'train_time_hours')\n",
    "\n",
    "top_routes = pd.concat([top_flights, top_trains]).drop_duplicates().reset_index(drop=True)\n",
    "\n",
    "# Melt the dataframe to have 'Type' and 'Time' columns for plotting\n",
    "top_routes_long = top_routes.melt(\n",
    "    id_vars=['departure city', 'arrival city'], \n",
    "    value_vars=['flight_time_hours_with_extra', 'train_time_hours'], \n",
    "    var_name='Type', \n",
    "    value_name='Time'\n",
    ")\n",
    "\n",
    "\n",
    "top_routes_long['Route'] = top_routes_long['departure city'] + \" to \" + top_routes_long['arrival city']\n",
    "\n",
    "\n",
    "bar_fig = px.bar(\n",
    "    top_routes_long,\n",
    "    x='Time',\n",
    "    y='Route',\n",
    "    color='Type',\n",
    "    barmode='group',\n",
    "    orientation='h',\n",
    "    title='Top 10 Longest Routes by Flight and Train Time',\n",
    "    labels={'Time': 'Time (hours)', 'Route': 'Route'},\n",
    "    color_discrete_map={\n",
    "        'flight_time_hours_with_extra': 'blue',\n",
    "        'train_time_hours': 'orange'\n",
    "    }\n",
    ")\n",
    "\n",
    "# Reverse the order to have the longest at the top\n",
    "bar_fig.update_layout(yaxis={'categoryorder':'total ascending'})\n",
    "\n",
    "\n",
    "bar_fig.show()"
   ]
  },
  {
   "attachments": {},
   "cell_type": "markdown",
   "metadata": {},
   "source": [
    "## Which is the most well-connected city in Europe in terms of minimising travel times to other cities? \n",
    "Answer: London & Frankfurt"
   ]
  },
  {
   "cell_type": "code",
   "execution_count": null,
   "metadata": {},
   "outputs": [],
   "source": [
    "merged_data.to_csv('datasets/merged_df.csv')"
   ]
  },
  {
   "cell_type": "markdown",
   "metadata": {},
   "source": []
  },
  {
   "cell_type": "markdown",
   "metadata": {},
   "source": []
  }
 ],
 "metadata": {
  "kernelspec": {
   "display_name": "Python 3",
   "language": "python",
   "name": "python3"
  },
  "language_info": {
   "codemirror_mode": {
    "name": "ipython",
    "version": 3
   },
   "file_extension": ".py",
   "mimetype": "text/x-python",
   "name": "python",
   "nbconvert_exporter": "python",
   "pygments_lexer": "ipython3",
   "version": "3.9.6"
  },
  "orig_nbformat": 4,
  "vscode": {
   "interpreter": {
    "hash": "31f2aee4e71d21fbe5cf8b01ff0e069b9275f58929596ceb00d14d90e3e16cd6"
   }
  }
 },
 "nbformat": 4,
 "nbformat_minor": 2
}
