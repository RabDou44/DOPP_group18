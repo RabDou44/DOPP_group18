{
 "cells": [
  {
   "cell_type": "markdown",
   "source": [
    "# Comparing train and plane travel times"
   ],
   "metadata": {
    "collapsed": false
   },
   "id": "3556dc49dec53ec5"
  },
  {
   "cell_type": "markdown",
   "source": [
    "## Import libraries"
   ],
   "metadata": {
    "collapsed": false
   },
   "id": "c1e9c843cddeb436"
  },
  {
   "cell_type": "code",
   "outputs": [],
   "source": [
    "import pandas as pd"
   ],
   "metadata": {
    "collapsed": false,
    "ExecuteTime": {
     "end_time": "2024-01-20T18:49:16.637966Z",
     "start_time": "2024-01-20T18:49:14.824737Z"
    }
   },
   "id": "ad211d6708cc439e",
   "execution_count": 2
  },
  {
   "cell_type": "markdown",
   "source": [
    "## Import train times"
   ],
   "metadata": {
    "collapsed": false
   },
   "id": "41eb4c01b09fb0d7"
  },
  {
   "cell_type": "code",
   "execution_count": 3,
   "id": "initial_id",
   "metadata": {
    "collapsed": true,
    "ExecuteTime": {
     "end_time": "2024-01-20T18:49:17.743755Z",
     "start_time": "2024-01-20T18:49:17.713250Z"
    }
   },
   "outputs": [
    {
     "data": {
      "text/plain": "     country_larger_city HDC_code_larger  larger_city  pop_larger_city  \\\n0                     FR   GEOSTAT11_450        Paris          8900172   \n1                     FR   GEOSTAT11_450        Paris          8900172   \n2                     FR   GEOSTAT11_450        Paris          8900172   \n3                     FR   GEOSTAT11_450        Paris          8900172   \n4                     FR   GEOSTAT11_450        Paris          8900172   \n...                  ...             ...          ...              ...   \n6594                  HU   GEOSTAT11_506      Szolnok            51457   \n6595                  HU   GEOSTAT11_500          Érd            51285   \n6596                  IT   GEOSTAT11_770      Bitonto            50961   \n6597                  IT   GEOSTAT11_770      Bitonto            50961   \n6598                  IT   GEOSTAT11_734  Manfredonia            50684   \n\n     country_smaller_city HDC_code_smaller         smaller_city  \\\n0                      BE    GEOSTAT11_349  Bruxelles / Brussel   \n1                      FR    GEOSTAT11_361                Lille   \n2                      FR    GEOSTAT11_418                Rouen   \n3                      FR    GEOSTAT11_434       Cergy-Pontoise   \n4                      FR    GEOSTAT11_499                Tours   \n...                   ...              ...                  ...   \n6594                   HU    GEOSTAT11_500                  Érd   \n6595                   HU    GEOSTAT11_516             Veszprém   \n6596                   IT    GEOSTAT11_734          Manfredonia   \n6597                   IT    GEOSTAT11_761            Cerignola   \n6598                   IT    GEOSTAT11_761            Cerignola   \n\n      pop_smaller_city  crossborder distance_centroids  av_dist_opti  \\\n0              1233487         True   more than 120 km         260.8   \n1               911478        False   more than 120 km         202.0   \n2               298297        False              114.6         110.0   \n3               273138        False               30.6           4.8   \n4               211915        False   more than 120 km         187.7   \n...                ...          ...                ...           ...   \n6594             51285        False               99.6           NaN   \n6595             50141        False               82.2           NaN   \n6596             50684        False               86.8           NaN   \n6597             50074        False               68.5           NaN   \n6598             50074        False               40.5           NaN   \n\n      time_opti  speed_opti  av_dist_avt  time_avt  speed_avt  \n0          1.44       182.1        261.6      1.71      153.5  \n1          1.00       202.1        201.9      1.29      157.3  \n2          1.24        88.7        110.0      1.67       65.9  \n3          0.07        67.9          4.8      0.17       27.9  \n4          0.86       218.2        200.4      1.54      130.6  \n...         ...         ...          ...       ...        ...  \n6594        NaN         NaN          NaN       NaN        NaN  \n6595        NaN         NaN          NaN       NaN        NaN  \n6596        NaN         NaN          NaN       NaN        NaN  \n6597        NaN         NaN          NaN       NaN        NaN  \n6598        NaN         NaN          NaN       NaN        NaN  \n\n[6599 rows x 16 columns]",
      "text/html": "<div>\n<style scoped>\n    .dataframe tbody tr th:only-of-type {\n        vertical-align: middle;\n    }\n\n    .dataframe tbody tr th {\n        vertical-align: top;\n    }\n\n    .dataframe thead th {\n        text-align: right;\n    }\n</style>\n<table border=\"1\" class=\"dataframe\">\n  <thead>\n    <tr style=\"text-align: right;\">\n      <th></th>\n      <th>country_larger_city</th>\n      <th>HDC_code_larger</th>\n      <th>larger_city</th>\n      <th>pop_larger_city</th>\n      <th>country_smaller_city</th>\n      <th>HDC_code_smaller</th>\n      <th>smaller_city</th>\n      <th>pop_smaller_city</th>\n      <th>crossborder</th>\n      <th>distance_centroids</th>\n      <th>av_dist_opti</th>\n      <th>time_opti</th>\n      <th>speed_opti</th>\n      <th>av_dist_avt</th>\n      <th>time_avt</th>\n      <th>speed_avt</th>\n    </tr>\n  </thead>\n  <tbody>\n    <tr>\n      <th>0</th>\n      <td>FR</td>\n      <td>GEOSTAT11_450</td>\n      <td>Paris</td>\n      <td>8900172</td>\n      <td>BE</td>\n      <td>GEOSTAT11_349</td>\n      <td>Bruxelles / Brussel</td>\n      <td>1233487</td>\n      <td>True</td>\n      <td>more than 120 km</td>\n      <td>260.8</td>\n      <td>1.44</td>\n      <td>182.1</td>\n      <td>261.6</td>\n      <td>1.71</td>\n      <td>153.5</td>\n    </tr>\n    <tr>\n      <th>1</th>\n      <td>FR</td>\n      <td>GEOSTAT11_450</td>\n      <td>Paris</td>\n      <td>8900172</td>\n      <td>FR</td>\n      <td>GEOSTAT11_361</td>\n      <td>Lille</td>\n      <td>911478</td>\n      <td>False</td>\n      <td>more than 120 km</td>\n      <td>202.0</td>\n      <td>1.00</td>\n      <td>202.1</td>\n      <td>201.9</td>\n      <td>1.29</td>\n      <td>157.3</td>\n    </tr>\n    <tr>\n      <th>2</th>\n      <td>FR</td>\n      <td>GEOSTAT11_450</td>\n      <td>Paris</td>\n      <td>8900172</td>\n      <td>FR</td>\n      <td>GEOSTAT11_418</td>\n      <td>Rouen</td>\n      <td>298297</td>\n      <td>False</td>\n      <td>114.6</td>\n      <td>110.0</td>\n      <td>1.24</td>\n      <td>88.7</td>\n      <td>110.0</td>\n      <td>1.67</td>\n      <td>65.9</td>\n    </tr>\n    <tr>\n      <th>3</th>\n      <td>FR</td>\n      <td>GEOSTAT11_450</td>\n      <td>Paris</td>\n      <td>8900172</td>\n      <td>FR</td>\n      <td>GEOSTAT11_434</td>\n      <td>Cergy-Pontoise</td>\n      <td>273138</td>\n      <td>False</td>\n      <td>30.6</td>\n      <td>4.8</td>\n      <td>0.07</td>\n      <td>67.9</td>\n      <td>4.8</td>\n      <td>0.17</td>\n      <td>27.9</td>\n    </tr>\n    <tr>\n      <th>4</th>\n      <td>FR</td>\n      <td>GEOSTAT11_450</td>\n      <td>Paris</td>\n      <td>8900172</td>\n      <td>FR</td>\n      <td>GEOSTAT11_499</td>\n      <td>Tours</td>\n      <td>211915</td>\n      <td>False</td>\n      <td>more than 120 km</td>\n      <td>187.7</td>\n      <td>0.86</td>\n      <td>218.2</td>\n      <td>200.4</td>\n      <td>1.54</td>\n      <td>130.6</td>\n    </tr>\n    <tr>\n      <th>...</th>\n      <td>...</td>\n      <td>...</td>\n      <td>...</td>\n      <td>...</td>\n      <td>...</td>\n      <td>...</td>\n      <td>...</td>\n      <td>...</td>\n      <td>...</td>\n      <td>...</td>\n      <td>...</td>\n      <td>...</td>\n      <td>...</td>\n      <td>...</td>\n      <td>...</td>\n      <td>...</td>\n    </tr>\n    <tr>\n      <th>6594</th>\n      <td>HU</td>\n      <td>GEOSTAT11_506</td>\n      <td>Szolnok</td>\n      <td>51457</td>\n      <td>HU</td>\n      <td>GEOSTAT11_500</td>\n      <td>Érd</td>\n      <td>51285</td>\n      <td>False</td>\n      <td>99.6</td>\n      <td>NaN</td>\n      <td>NaN</td>\n      <td>NaN</td>\n      <td>NaN</td>\n      <td>NaN</td>\n      <td>NaN</td>\n    </tr>\n    <tr>\n      <th>6595</th>\n      <td>HU</td>\n      <td>GEOSTAT11_500</td>\n      <td>Érd</td>\n      <td>51285</td>\n      <td>HU</td>\n      <td>GEOSTAT11_516</td>\n      <td>Veszprém</td>\n      <td>50141</td>\n      <td>False</td>\n      <td>82.2</td>\n      <td>NaN</td>\n      <td>NaN</td>\n      <td>NaN</td>\n      <td>NaN</td>\n      <td>NaN</td>\n      <td>NaN</td>\n    </tr>\n    <tr>\n      <th>6596</th>\n      <td>IT</td>\n      <td>GEOSTAT11_770</td>\n      <td>Bitonto</td>\n      <td>50961</td>\n      <td>IT</td>\n      <td>GEOSTAT11_734</td>\n      <td>Manfredonia</td>\n      <td>50684</td>\n      <td>False</td>\n      <td>86.8</td>\n      <td>NaN</td>\n      <td>NaN</td>\n      <td>NaN</td>\n      <td>NaN</td>\n      <td>NaN</td>\n      <td>NaN</td>\n    </tr>\n    <tr>\n      <th>6597</th>\n      <td>IT</td>\n      <td>GEOSTAT11_770</td>\n      <td>Bitonto</td>\n      <td>50961</td>\n      <td>IT</td>\n      <td>GEOSTAT11_761</td>\n      <td>Cerignola</td>\n      <td>50074</td>\n      <td>False</td>\n      <td>68.5</td>\n      <td>NaN</td>\n      <td>NaN</td>\n      <td>NaN</td>\n      <td>NaN</td>\n      <td>NaN</td>\n      <td>NaN</td>\n    </tr>\n    <tr>\n      <th>6598</th>\n      <td>IT</td>\n      <td>GEOSTAT11_734</td>\n      <td>Manfredonia</td>\n      <td>50684</td>\n      <td>IT</td>\n      <td>GEOSTAT11_761</td>\n      <td>Cerignola</td>\n      <td>50074</td>\n      <td>False</td>\n      <td>40.5</td>\n      <td>NaN</td>\n      <td>NaN</td>\n      <td>NaN</td>\n      <td>NaN</td>\n      <td>NaN</td>\n      <td>NaN</td>\n    </tr>\n  </tbody>\n</table>\n<p>6599 rows × 16 columns</p>\n</div>"
     },
     "execution_count": 3,
     "metadata": {},
     "output_type": "execute_result"
    }
   ],
   "source": [
    "trains = pd.read_csv('./datasets/Rail_transport_performance_in_Europe_2021.csv')\n",
    "trains"
   ]
  },
  {
   "cell_type": "markdown",
   "source": [
    "## Import plane times"
   ],
   "metadata": {
    "collapsed": false
   },
   "id": "471940b5ffffd523"
  },
  {
   "cell_type": "code",
   "outputs": [
    {
     "data": {
      "text/plain": "      Unnamed: 0           route   time\n0              0  {'AAL', 'AMS'}   85.0\n1              1  {'AAQ', 'LED'}  170.0\n2              2  {'AMS', 'ABZ'}   85.0\n3              3  {'ABZ', 'LGW'}   95.0\n4              4  {'ACE', 'AGP'}  130.0\n...          ...             ...    ...\n1464        1464  {'ZRH', 'OTP'}  150.0\n1465        1465  {'ZRH', 'PRN'}  127.5\n1466        1466  {'ZRH', 'RVN'}  205.0\n1467        1467  {'ZRH', 'STR'}   45.0\n1468        1468  {'ZTH', 'ATH'}   62.5\n\n[1469 rows x 3 columns]",
      "text/html": "<div>\n<style scoped>\n    .dataframe tbody tr th:only-of-type {\n        vertical-align: middle;\n    }\n\n    .dataframe tbody tr th {\n        vertical-align: top;\n    }\n\n    .dataframe thead th {\n        text-align: right;\n    }\n</style>\n<table border=\"1\" class=\"dataframe\">\n  <thead>\n    <tr style=\"text-align: right;\">\n      <th></th>\n      <th>Unnamed: 0</th>\n      <th>route</th>\n      <th>time</th>\n    </tr>\n  </thead>\n  <tbody>\n    <tr>\n      <th>0</th>\n      <td>0</td>\n      <td>{'AAL', 'AMS'}</td>\n      <td>85.0</td>\n    </tr>\n    <tr>\n      <th>1</th>\n      <td>1</td>\n      <td>{'AAQ', 'LED'}</td>\n      <td>170.0</td>\n    </tr>\n    <tr>\n      <th>2</th>\n      <td>2</td>\n      <td>{'AMS', 'ABZ'}</td>\n      <td>85.0</td>\n    </tr>\n    <tr>\n      <th>3</th>\n      <td>3</td>\n      <td>{'ABZ', 'LGW'}</td>\n      <td>95.0</td>\n    </tr>\n    <tr>\n      <th>4</th>\n      <td>4</td>\n      <td>{'ACE', 'AGP'}</td>\n      <td>130.0</td>\n    </tr>\n    <tr>\n      <th>...</th>\n      <td>...</td>\n      <td>...</td>\n      <td>...</td>\n    </tr>\n    <tr>\n      <th>1464</th>\n      <td>1464</td>\n      <td>{'ZRH', 'OTP'}</td>\n      <td>150.0</td>\n    </tr>\n    <tr>\n      <th>1465</th>\n      <td>1465</td>\n      <td>{'ZRH', 'PRN'}</td>\n      <td>127.5</td>\n    </tr>\n    <tr>\n      <th>1466</th>\n      <td>1466</td>\n      <td>{'ZRH', 'RVN'}</td>\n      <td>205.0</td>\n    </tr>\n    <tr>\n      <th>1467</th>\n      <td>1467</td>\n      <td>{'ZRH', 'STR'}</td>\n      <td>45.0</td>\n    </tr>\n    <tr>\n      <th>1468</th>\n      <td>1468</td>\n      <td>{'ZTH', 'ATH'}</td>\n      <td>62.5</td>\n    </tr>\n  </tbody>\n</table>\n<p>1469 rows × 3 columns</p>\n</div>"
     },
     "execution_count": 34,
     "metadata": {},
     "output_type": "execute_result"
    }
   ],
   "source": [
    "flights = pd.read_csv('./datasets/flight_times.csv')\n",
    "flights"
   ],
   "metadata": {
    "collapsed": false,
    "ExecuteTime": {
     "end_time": "2024-01-20T21:25:50.600236Z",
     "start_time": "2024-01-20T21:25:50.583103Z"
    }
   },
   "id": "aff19d047f496546",
   "execution_count": 34
  },
  {
   "cell_type": "code",
   "outputs": [
    {
     "data": {
      "text/plain": "               route   time\n0     {'AAL', 'AMS'}   85.0\n1     {'AAQ', 'LED'}  170.0\n2     {'AMS', 'ABZ'}   85.0\n3     {'ABZ', 'LGW'}   95.0\n4     {'ACE', 'AGP'}  130.0\n...              ...    ...\n1464  {'ZRH', 'OTP'}  150.0\n1465  {'ZRH', 'PRN'}  127.5\n1466  {'ZRH', 'RVN'}  205.0\n1467  {'ZRH', 'STR'}   45.0\n1468  {'ZTH', 'ATH'}   62.5\n\n[1469 rows x 2 columns]",
      "text/html": "<div>\n<style scoped>\n    .dataframe tbody tr th:only-of-type {\n        vertical-align: middle;\n    }\n\n    .dataframe tbody tr th {\n        vertical-align: top;\n    }\n\n    .dataframe thead th {\n        text-align: right;\n    }\n</style>\n<table border=\"1\" class=\"dataframe\">\n  <thead>\n    <tr style=\"text-align: right;\">\n      <th></th>\n      <th>route</th>\n      <th>time</th>\n    </tr>\n  </thead>\n  <tbody>\n    <tr>\n      <th>0</th>\n      <td>{'AAL', 'AMS'}</td>\n      <td>85.0</td>\n    </tr>\n    <tr>\n      <th>1</th>\n      <td>{'AAQ', 'LED'}</td>\n      <td>170.0</td>\n    </tr>\n    <tr>\n      <th>2</th>\n      <td>{'AMS', 'ABZ'}</td>\n      <td>85.0</td>\n    </tr>\n    <tr>\n      <th>3</th>\n      <td>{'ABZ', 'LGW'}</td>\n      <td>95.0</td>\n    </tr>\n    <tr>\n      <th>4</th>\n      <td>{'ACE', 'AGP'}</td>\n      <td>130.0</td>\n    </tr>\n    <tr>\n      <th>...</th>\n      <td>...</td>\n      <td>...</td>\n    </tr>\n    <tr>\n      <th>1464</th>\n      <td>{'ZRH', 'OTP'}</td>\n      <td>150.0</td>\n    </tr>\n    <tr>\n      <th>1465</th>\n      <td>{'ZRH', 'PRN'}</td>\n      <td>127.5</td>\n    </tr>\n    <tr>\n      <th>1466</th>\n      <td>{'ZRH', 'RVN'}</td>\n      <td>205.0</td>\n    </tr>\n    <tr>\n      <th>1467</th>\n      <td>{'ZRH', 'STR'}</td>\n      <td>45.0</td>\n    </tr>\n    <tr>\n      <th>1468</th>\n      <td>{'ZTH', 'ATH'}</td>\n      <td>62.5</td>\n    </tr>\n  </tbody>\n</table>\n<p>1469 rows × 2 columns</p>\n</div>"
     },
     "execution_count": 35,
     "metadata": {},
     "output_type": "execute_result"
    }
   ],
   "source": [
    "flights.drop(flights.columns[0], axis=1, inplace=True)\n",
    "flights"
   ],
   "metadata": {
    "collapsed": false,
    "ExecuteTime": {
     "end_time": "2024-01-20T21:25:50.672504Z",
     "start_time": "2024-01-20T21:25:50.607734Z"
    }
   },
   "id": "380ba37d213b8db8",
   "execution_count": 35
  },
  {
   "cell_type": "code",
   "outputs": [
    {
     "data": {
      "text/plain": "               route   time departure airport arrival airport\n0     {'AAL', 'AMS'}   85.0               AAL             AMS\n1     {'AAQ', 'LED'}  170.0               AAQ             LED\n2     {'AMS', 'ABZ'}   85.0               AMS             ABZ\n3     {'ABZ', 'LGW'}   95.0               ABZ             LGW\n4     {'ACE', 'AGP'}  130.0               ACE             AGP\n...              ...    ...               ...             ...\n1464  {'ZRH', 'OTP'}  150.0               ZRH             OTP\n1465  {'ZRH', 'PRN'}  127.5               ZRH             PRN\n1466  {'ZRH', 'RVN'}  205.0               ZRH             RVN\n1467  {'ZRH', 'STR'}   45.0               ZRH             STR\n1468  {'ZTH', 'ATH'}   62.5               ZTH             ATH\n\n[1469 rows x 4 columns]",
      "text/html": "<div>\n<style scoped>\n    .dataframe tbody tr th:only-of-type {\n        vertical-align: middle;\n    }\n\n    .dataframe tbody tr th {\n        vertical-align: top;\n    }\n\n    .dataframe thead th {\n        text-align: right;\n    }\n</style>\n<table border=\"1\" class=\"dataframe\">\n  <thead>\n    <tr style=\"text-align: right;\">\n      <th></th>\n      <th>route</th>\n      <th>time</th>\n      <th>departure airport</th>\n      <th>arrival airport</th>\n    </tr>\n  </thead>\n  <tbody>\n    <tr>\n      <th>0</th>\n      <td>{'AAL', 'AMS'}</td>\n      <td>85.0</td>\n      <td>AAL</td>\n      <td>AMS</td>\n    </tr>\n    <tr>\n      <th>1</th>\n      <td>{'AAQ', 'LED'}</td>\n      <td>170.0</td>\n      <td>AAQ</td>\n      <td>LED</td>\n    </tr>\n    <tr>\n      <th>2</th>\n      <td>{'AMS', 'ABZ'}</td>\n      <td>85.0</td>\n      <td>AMS</td>\n      <td>ABZ</td>\n    </tr>\n    <tr>\n      <th>3</th>\n      <td>{'ABZ', 'LGW'}</td>\n      <td>95.0</td>\n      <td>ABZ</td>\n      <td>LGW</td>\n    </tr>\n    <tr>\n      <th>4</th>\n      <td>{'ACE', 'AGP'}</td>\n      <td>130.0</td>\n      <td>ACE</td>\n      <td>AGP</td>\n    </tr>\n    <tr>\n      <th>...</th>\n      <td>...</td>\n      <td>...</td>\n      <td>...</td>\n      <td>...</td>\n    </tr>\n    <tr>\n      <th>1464</th>\n      <td>{'ZRH', 'OTP'}</td>\n      <td>150.0</td>\n      <td>ZRH</td>\n      <td>OTP</td>\n    </tr>\n    <tr>\n      <th>1465</th>\n      <td>{'ZRH', 'PRN'}</td>\n      <td>127.5</td>\n      <td>ZRH</td>\n      <td>PRN</td>\n    </tr>\n    <tr>\n      <th>1466</th>\n      <td>{'ZRH', 'RVN'}</td>\n      <td>205.0</td>\n      <td>ZRH</td>\n      <td>RVN</td>\n    </tr>\n    <tr>\n      <th>1467</th>\n      <td>{'ZRH', 'STR'}</td>\n      <td>45.0</td>\n      <td>ZRH</td>\n      <td>STR</td>\n    </tr>\n    <tr>\n      <th>1468</th>\n      <td>{'ZTH', 'ATH'}</td>\n      <td>62.5</td>\n      <td>ZTH</td>\n      <td>ATH</td>\n    </tr>\n  </tbody>\n</table>\n<p>1469 rows × 4 columns</p>\n</div>"
     },
     "execution_count": 36,
     "metadata": {},
     "output_type": "execute_result"
    }
   ],
   "source": [
    "flights['departure airport'] = flights['route'].apply(lambda x: x.split(',')[0].strip(\"{'\"))\n",
    "flights['arrival airport'] = flights['route'].apply(lambda x: x.split(',')[1].strip(\" }'\"))\n",
    "flights"
   ],
   "metadata": {
    "collapsed": false,
    "ExecuteTime": {
     "end_time": "2024-01-20T21:25:50.673200Z",
     "start_time": "2024-01-20T21:25:50.615837Z"
    }
   },
   "id": "b9fdb607bf3f06e5",
   "execution_count": 36
  },
  {
   "cell_type": "markdown",
   "source": [
    "## Import airport codes"
   ],
   "metadata": {
    "collapsed": false
   },
   "id": "16cd8bff1ea71928"
  },
  {
   "cell_type": "code",
   "outputs": [
    {
     "data": {
      "text/plain": "         ident            type                                name  \\\n0          00A        heliport                   Total Rf Heliport   \n1         00AA   small_airport                Aero B Ranch Airport   \n2         00AK   small_airport                        Lowell Field   \n3         00AL   small_airport                        Epps Airpark   \n4         00AR          closed  Newport Hospital & Clinic Heliport   \n...        ...             ...                                 ...   \n57416     ZYYK  medium_airport               Yingkou Lanqi Airport   \n57417     ZYYY  medium_airport             Shenyang Dongta Airport   \n57418  ZZ-0001        heliport                     Sealand Helipad   \n57419  ZZ-0002   small_airport           Glorioso Islands Airstrip   \n57420     ZZZZ   small_airport             Satsuma IÅjima Airport   \n\n       elevation_ft continent iso_country iso_region      municipality  \\\n0              11.0       NaN          US      US-PA          Bensalem   \n1            3435.0       NaN          US      US-KS             Leoti   \n2             450.0       NaN          US      US-AK      Anchor Point   \n3             820.0       NaN          US      US-AL           Harvest   \n4             237.0       NaN          US      US-AR           Newport   \n...             ...       ...         ...        ...               ...   \n57416           0.0        AS          CN      CN-21           Yingkou   \n57417           NaN        AS          CN      CN-21          Shenyang   \n57418          40.0        EU          GB     GB-ENG           Sealand   \n57419          11.0        AF          TF     TF-U-A  Grande Glorieuse   \n57420         338.0        AS          JP      JP-46      Mishima-Mura   \n\n      gps_code iata_code local_code                              coordinates  \n0          00A       NaN        00A       -74.93360137939453, 40.07080078125  \n1         00AA       NaN       00AA                   -101.473911, 38.704022  \n2         00AK       NaN       00AK              -151.695999146, 59.94919968  \n3         00AL       NaN       00AL    -86.77030181884766, 34.86479949951172  \n4          NaN       NaN        NaN                      -91.254898, 35.6087  \n...        ...       ...        ...                                      ...  \n57416     ZYYK       YKH        NaN                      122.3586, 40.542524  \n57417     ZYYY       NaN        NaN   123.49600219726562, 41.784400939941406  \n57418      NaN       NaN        NaN                        1.4825, 51.894444  \n57419      NaN       NaN        NaN  47.296388888900005, -11.584277777799999  \n57420     RJX7       NaN       RJX7                    130.270556, 30.784722  \n\n[57421 rows x 12 columns]",
      "text/html": "<div>\n<style scoped>\n    .dataframe tbody tr th:only-of-type {\n        vertical-align: middle;\n    }\n\n    .dataframe tbody tr th {\n        vertical-align: top;\n    }\n\n    .dataframe thead th {\n        text-align: right;\n    }\n</style>\n<table border=\"1\" class=\"dataframe\">\n  <thead>\n    <tr style=\"text-align: right;\">\n      <th></th>\n      <th>ident</th>\n      <th>type</th>\n      <th>name</th>\n      <th>elevation_ft</th>\n      <th>continent</th>\n      <th>iso_country</th>\n      <th>iso_region</th>\n      <th>municipality</th>\n      <th>gps_code</th>\n      <th>iata_code</th>\n      <th>local_code</th>\n      <th>coordinates</th>\n    </tr>\n  </thead>\n  <tbody>\n    <tr>\n      <th>0</th>\n      <td>00A</td>\n      <td>heliport</td>\n      <td>Total Rf Heliport</td>\n      <td>11.0</td>\n      <td>NaN</td>\n      <td>US</td>\n      <td>US-PA</td>\n      <td>Bensalem</td>\n      <td>00A</td>\n      <td>NaN</td>\n      <td>00A</td>\n      <td>-74.93360137939453, 40.07080078125</td>\n    </tr>\n    <tr>\n      <th>1</th>\n      <td>00AA</td>\n      <td>small_airport</td>\n      <td>Aero B Ranch Airport</td>\n      <td>3435.0</td>\n      <td>NaN</td>\n      <td>US</td>\n      <td>US-KS</td>\n      <td>Leoti</td>\n      <td>00AA</td>\n      <td>NaN</td>\n      <td>00AA</td>\n      <td>-101.473911, 38.704022</td>\n    </tr>\n    <tr>\n      <th>2</th>\n      <td>00AK</td>\n      <td>small_airport</td>\n      <td>Lowell Field</td>\n      <td>450.0</td>\n      <td>NaN</td>\n      <td>US</td>\n      <td>US-AK</td>\n      <td>Anchor Point</td>\n      <td>00AK</td>\n      <td>NaN</td>\n      <td>00AK</td>\n      <td>-151.695999146, 59.94919968</td>\n    </tr>\n    <tr>\n      <th>3</th>\n      <td>00AL</td>\n      <td>small_airport</td>\n      <td>Epps Airpark</td>\n      <td>820.0</td>\n      <td>NaN</td>\n      <td>US</td>\n      <td>US-AL</td>\n      <td>Harvest</td>\n      <td>00AL</td>\n      <td>NaN</td>\n      <td>00AL</td>\n      <td>-86.77030181884766, 34.86479949951172</td>\n    </tr>\n    <tr>\n      <th>4</th>\n      <td>00AR</td>\n      <td>closed</td>\n      <td>Newport Hospital &amp; Clinic Heliport</td>\n      <td>237.0</td>\n      <td>NaN</td>\n      <td>US</td>\n      <td>US-AR</td>\n      <td>Newport</td>\n      <td>NaN</td>\n      <td>NaN</td>\n      <td>NaN</td>\n      <td>-91.254898, 35.6087</td>\n    </tr>\n    <tr>\n      <th>...</th>\n      <td>...</td>\n      <td>...</td>\n      <td>...</td>\n      <td>...</td>\n      <td>...</td>\n      <td>...</td>\n      <td>...</td>\n      <td>...</td>\n      <td>...</td>\n      <td>...</td>\n      <td>...</td>\n      <td>...</td>\n    </tr>\n    <tr>\n      <th>57416</th>\n      <td>ZYYK</td>\n      <td>medium_airport</td>\n      <td>Yingkou Lanqi Airport</td>\n      <td>0.0</td>\n      <td>AS</td>\n      <td>CN</td>\n      <td>CN-21</td>\n      <td>Yingkou</td>\n      <td>ZYYK</td>\n      <td>YKH</td>\n      <td>NaN</td>\n      <td>122.3586, 40.542524</td>\n    </tr>\n    <tr>\n      <th>57417</th>\n      <td>ZYYY</td>\n      <td>medium_airport</td>\n      <td>Shenyang Dongta Airport</td>\n      <td>NaN</td>\n      <td>AS</td>\n      <td>CN</td>\n      <td>CN-21</td>\n      <td>Shenyang</td>\n      <td>ZYYY</td>\n      <td>NaN</td>\n      <td>NaN</td>\n      <td>123.49600219726562, 41.784400939941406</td>\n    </tr>\n    <tr>\n      <th>57418</th>\n      <td>ZZ-0001</td>\n      <td>heliport</td>\n      <td>Sealand Helipad</td>\n      <td>40.0</td>\n      <td>EU</td>\n      <td>GB</td>\n      <td>GB-ENG</td>\n      <td>Sealand</td>\n      <td>NaN</td>\n      <td>NaN</td>\n      <td>NaN</td>\n      <td>1.4825, 51.894444</td>\n    </tr>\n    <tr>\n      <th>57419</th>\n      <td>ZZ-0002</td>\n      <td>small_airport</td>\n      <td>Glorioso Islands Airstrip</td>\n      <td>11.0</td>\n      <td>AF</td>\n      <td>TF</td>\n      <td>TF-U-A</td>\n      <td>Grande Glorieuse</td>\n      <td>NaN</td>\n      <td>NaN</td>\n      <td>NaN</td>\n      <td>47.296388888900005, -11.584277777799999</td>\n    </tr>\n    <tr>\n      <th>57420</th>\n      <td>ZZZZ</td>\n      <td>small_airport</td>\n      <td>Satsuma IÅjima Airport</td>\n      <td>338.0</td>\n      <td>AS</td>\n      <td>JP</td>\n      <td>JP-46</td>\n      <td>Mishima-Mura</td>\n      <td>RJX7</td>\n      <td>NaN</td>\n      <td>RJX7</td>\n      <td>130.270556, 30.784722</td>\n    </tr>\n  </tbody>\n</table>\n<p>57421 rows × 12 columns</p>\n</div>"
     },
     "execution_count": 37,
     "metadata": {},
     "output_type": "execute_result"
    }
   ],
   "source": [
    "airports = pd.read_csv('./datasets/airport-codes.csv')\n",
    "airports"
   ],
   "metadata": {
    "collapsed": false,
    "ExecuteTime": {
     "end_time": "2024-01-20T21:25:50.831806Z",
     "start_time": "2024-01-20T21:25:50.618586Z"
    }
   },
   "id": "a60bd43312a1859a",
   "execution_count": 37
  },
  {
   "cell_type": "code",
   "outputs": [
    {
     "data": {
      "text/plain": "      iata_code      municipality\n0           NaN          Bensalem\n1           NaN             Leoti\n2           NaN      Anchor Point\n3           NaN           Harvest\n4           NaN           Newport\n...         ...               ...\n57416       YKH           Yingkou\n57417       NaN          Shenyang\n57418       NaN           Sealand\n57419       NaN  Grande Glorieuse\n57420       NaN      Mishima-Mura\n\n[57421 rows x 2 columns]",
      "text/html": "<div>\n<style scoped>\n    .dataframe tbody tr th:only-of-type {\n        vertical-align: middle;\n    }\n\n    .dataframe tbody tr th {\n        vertical-align: top;\n    }\n\n    .dataframe thead th {\n        text-align: right;\n    }\n</style>\n<table border=\"1\" class=\"dataframe\">\n  <thead>\n    <tr style=\"text-align: right;\">\n      <th></th>\n      <th>iata_code</th>\n      <th>municipality</th>\n    </tr>\n  </thead>\n  <tbody>\n    <tr>\n      <th>0</th>\n      <td>NaN</td>\n      <td>Bensalem</td>\n    </tr>\n    <tr>\n      <th>1</th>\n      <td>NaN</td>\n      <td>Leoti</td>\n    </tr>\n    <tr>\n      <th>2</th>\n      <td>NaN</td>\n      <td>Anchor Point</td>\n    </tr>\n    <tr>\n      <th>3</th>\n      <td>NaN</td>\n      <td>Harvest</td>\n    </tr>\n    <tr>\n      <th>4</th>\n      <td>NaN</td>\n      <td>Newport</td>\n    </tr>\n    <tr>\n      <th>...</th>\n      <td>...</td>\n      <td>...</td>\n    </tr>\n    <tr>\n      <th>57416</th>\n      <td>YKH</td>\n      <td>Yingkou</td>\n    </tr>\n    <tr>\n      <th>57417</th>\n      <td>NaN</td>\n      <td>Shenyang</td>\n    </tr>\n    <tr>\n      <th>57418</th>\n      <td>NaN</td>\n      <td>Sealand</td>\n    </tr>\n    <tr>\n      <th>57419</th>\n      <td>NaN</td>\n      <td>Grande Glorieuse</td>\n    </tr>\n    <tr>\n      <th>57420</th>\n      <td>NaN</td>\n      <td>Mishima-Mura</td>\n    </tr>\n  </tbody>\n</table>\n<p>57421 rows × 2 columns</p>\n</div>"
     },
     "execution_count": 38,
     "metadata": {},
     "output_type": "execute_result"
    }
   ],
   "source": [
    "cities = airports[['iata_code', 'municipality']]\n",
    "cities"
   ],
   "metadata": {
    "collapsed": false,
    "ExecuteTime": {
     "end_time": "2024-01-20T21:25:50.832276Z",
     "start_time": "2024-01-20T21:25:50.782442Z"
    }
   },
   "id": "49860ddb61aa7de2",
   "execution_count": 38
  },
  {
   "cell_type": "code",
   "outputs": [
    {
     "data": {
      "text/plain": "               route   time departure airport arrival airport  \\\n0     {'AAL', 'AMS'}   85.0               AAL             AMS   \n1     {'AAQ', 'LED'}  170.0               AAQ             LED   \n2     {'AMS', 'ABZ'}   85.0               AMS             ABZ   \n3     {'ABZ', 'LGW'}   95.0               ABZ             LGW   \n4     {'ACE', 'AGP'}  130.0               ACE             AGP   \n...              ...    ...               ...             ...   \n1511  {'ZRH', 'OTP'}  150.0               ZRH             OTP   \n1512  {'ZRH', 'PRN'}  127.5               ZRH             PRN   \n1513  {'ZRH', 'RVN'}  205.0               ZRH             RVN   \n1514  {'ZRH', 'STR'}   45.0               ZRH             STR   \n1515  {'ZTH', 'ATH'}   62.5               ZTH             ATH   \n\n        departure city    arrival city  \n0              Aalborg       Amsterdam  \n1                Anapa  St. Petersburg  \n2            Amsterdam        Aberdeen  \n3             Aberdeen          London  \n4     Lanzarote Island         MÃ¡laga  \n...                ...             ...  \n1511            Zurich       Bucharest  \n1512            Zurich       Prishtina  \n1513            Zurich       Rovaniemi  \n1514            Zurich       Stuttgart  \n1515  Zakynthos Island          Athens  \n\n[1516 rows x 6 columns]",
      "text/html": "<div>\n<style scoped>\n    .dataframe tbody tr th:only-of-type {\n        vertical-align: middle;\n    }\n\n    .dataframe tbody tr th {\n        vertical-align: top;\n    }\n\n    .dataframe thead th {\n        text-align: right;\n    }\n</style>\n<table border=\"1\" class=\"dataframe\">\n  <thead>\n    <tr style=\"text-align: right;\">\n      <th></th>\n      <th>route</th>\n      <th>time</th>\n      <th>departure airport</th>\n      <th>arrival airport</th>\n      <th>departure city</th>\n      <th>arrival city</th>\n    </tr>\n  </thead>\n  <tbody>\n    <tr>\n      <th>0</th>\n      <td>{'AAL', 'AMS'}</td>\n      <td>85.0</td>\n      <td>AAL</td>\n      <td>AMS</td>\n      <td>Aalborg</td>\n      <td>Amsterdam</td>\n    </tr>\n    <tr>\n      <th>1</th>\n      <td>{'AAQ', 'LED'}</td>\n      <td>170.0</td>\n      <td>AAQ</td>\n      <td>LED</td>\n      <td>Anapa</td>\n      <td>St. Petersburg</td>\n    </tr>\n    <tr>\n      <th>2</th>\n      <td>{'AMS', 'ABZ'}</td>\n      <td>85.0</td>\n      <td>AMS</td>\n      <td>ABZ</td>\n      <td>Amsterdam</td>\n      <td>Aberdeen</td>\n    </tr>\n    <tr>\n      <th>3</th>\n      <td>{'ABZ', 'LGW'}</td>\n      <td>95.0</td>\n      <td>ABZ</td>\n      <td>LGW</td>\n      <td>Aberdeen</td>\n      <td>London</td>\n    </tr>\n    <tr>\n      <th>4</th>\n      <td>{'ACE', 'AGP'}</td>\n      <td>130.0</td>\n      <td>ACE</td>\n      <td>AGP</td>\n      <td>Lanzarote Island</td>\n      <td>MÃ¡laga</td>\n    </tr>\n    <tr>\n      <th>...</th>\n      <td>...</td>\n      <td>...</td>\n      <td>...</td>\n      <td>...</td>\n      <td>...</td>\n      <td>...</td>\n    </tr>\n    <tr>\n      <th>1511</th>\n      <td>{'ZRH', 'OTP'}</td>\n      <td>150.0</td>\n      <td>ZRH</td>\n      <td>OTP</td>\n      <td>Zurich</td>\n      <td>Bucharest</td>\n    </tr>\n    <tr>\n      <th>1512</th>\n      <td>{'ZRH', 'PRN'}</td>\n      <td>127.5</td>\n      <td>ZRH</td>\n      <td>PRN</td>\n      <td>Zurich</td>\n      <td>Prishtina</td>\n    </tr>\n    <tr>\n      <th>1513</th>\n      <td>{'ZRH', 'RVN'}</td>\n      <td>205.0</td>\n      <td>ZRH</td>\n      <td>RVN</td>\n      <td>Zurich</td>\n      <td>Rovaniemi</td>\n    </tr>\n    <tr>\n      <th>1514</th>\n      <td>{'ZRH', 'STR'}</td>\n      <td>45.0</td>\n      <td>ZRH</td>\n      <td>STR</td>\n      <td>Zurich</td>\n      <td>Stuttgart</td>\n    </tr>\n    <tr>\n      <th>1515</th>\n      <td>{'ZTH', 'ATH'}</td>\n      <td>62.5</td>\n      <td>ZTH</td>\n      <td>ATH</td>\n      <td>Zakynthos Island</td>\n      <td>Athens</td>\n    </tr>\n  </tbody>\n</table>\n<p>1516 rows × 6 columns</p>\n</div>"
     },
     "execution_count": 39,
     "metadata": {},
     "output_type": "execute_result"
    }
   ],
   "source": [
    "# add departure city names\n",
    "flights = pd.merge(flights, cities, left_on='departure airport', right_on='iata_code', how='left')\n",
    "# remove the redundant column\n",
    "flights.drop('iata_code', axis=1, inplace=True)\n",
    "# rename the column\n",
    "flights.rename(columns={'municipality': 'departure city'}, inplace=True)\n",
    "# add arrival city names\n",
    "flights = pd.merge(flights, cities, left_on='arrival airport', right_on='iata_code', how='left')\n",
    "# remove the redundant column\n",
    "flights.drop('iata_code', axis=1, inplace=True)\n",
    "# rename the column\n",
    "flights.rename(columns={'municipality': 'arrival city'}, inplace=True)\n",
    "flights"
   ],
   "metadata": {
    "collapsed": false,
    "ExecuteTime": {
     "end_time": "2024-01-20T21:25:50.855681Z",
     "start_time": "2024-01-20T21:25:50.789360Z"
    }
   },
   "id": "5868dab6458a6101",
   "execution_count": 39
  },
  {
   "cell_type": "markdown",
   "source": [
    "Does the 'municipality' variable refer to the actual administrative division that the airport is located in, or the big city it's next to? Let's check."
   ],
   "metadata": {
    "collapsed": false
   },
   "id": "4c7417e8a924ed3d"
  },
  {
   "cell_type": "code",
   "outputs": [
    {
     "data": {
      "text/plain": "               route   time departure airport arrival airport departure city  \\\n38    {'LGW', 'AGP'}  165.0               LGW             AGP         London   \n82    {'LTN', 'AMS'}   70.0               LTN             AMS         London   \n133   {'LGW', 'BCN'}  125.0               LGW             BCN         London   \n301   {'LTN', 'CLJ'}  175.0               LTN             CLJ         London   \n630   {'LGW', 'JER'}   60.0               LGW             JER         London   \n...              ...    ...               ...             ...            ...   \n1240  {'STN', 'VRN'}  122.5               STN             VRN         London   \n1241  {'STN', 'WMI'}  135.0               STN             WMI         London   \n1242  {'STN', 'WRO'}  125.0               STN             WRO         London   \n1243  {'STN', 'ZAG'}  135.0               STN             ZAG         London   \n1244  {'STN', 'ZAZ'}  132.5               STN             ZAZ         London   \n\n      arrival city  \n38         MÃ¡laga  \n82       Amsterdam  \n133      Barcelona  \n301    Cluj-Napoca  \n630   Saint Helier  \n...            ...  \n1240        Verona  \n1241        Warsaw  \n1242      WrocÅaw  \n1243        Zagreb  \n1244      Zaragoza  \n\n[114 rows x 6 columns]",
      "text/html": "<div>\n<style scoped>\n    .dataframe tbody tr th:only-of-type {\n        vertical-align: middle;\n    }\n\n    .dataframe tbody tr th {\n        vertical-align: top;\n    }\n\n    .dataframe thead th {\n        text-align: right;\n    }\n</style>\n<table border=\"1\" class=\"dataframe\">\n  <thead>\n    <tr style=\"text-align: right;\">\n      <th></th>\n      <th>route</th>\n      <th>time</th>\n      <th>departure airport</th>\n      <th>arrival airport</th>\n      <th>departure city</th>\n      <th>arrival city</th>\n    </tr>\n  </thead>\n  <tbody>\n    <tr>\n      <th>38</th>\n      <td>{'LGW', 'AGP'}</td>\n      <td>165.0</td>\n      <td>LGW</td>\n      <td>AGP</td>\n      <td>London</td>\n      <td>MÃ¡laga</td>\n    </tr>\n    <tr>\n      <th>82</th>\n      <td>{'LTN', 'AMS'}</td>\n      <td>70.0</td>\n      <td>LTN</td>\n      <td>AMS</td>\n      <td>London</td>\n      <td>Amsterdam</td>\n    </tr>\n    <tr>\n      <th>133</th>\n      <td>{'LGW', 'BCN'}</td>\n      <td>125.0</td>\n      <td>LGW</td>\n      <td>BCN</td>\n      <td>London</td>\n      <td>Barcelona</td>\n    </tr>\n    <tr>\n      <th>301</th>\n      <td>{'LTN', 'CLJ'}</td>\n      <td>175.0</td>\n      <td>LTN</td>\n      <td>CLJ</td>\n      <td>London</td>\n      <td>Cluj-Napoca</td>\n    </tr>\n    <tr>\n      <th>630</th>\n      <td>{'LGW', 'JER'}</td>\n      <td>60.0</td>\n      <td>LGW</td>\n      <td>JER</td>\n      <td>London</td>\n      <td>Saint Helier</td>\n    </tr>\n    <tr>\n      <th>...</th>\n      <td>...</td>\n      <td>...</td>\n      <td>...</td>\n      <td>...</td>\n      <td>...</td>\n      <td>...</td>\n    </tr>\n    <tr>\n      <th>1240</th>\n      <td>{'STN', 'VRN'}</td>\n      <td>122.5</td>\n      <td>STN</td>\n      <td>VRN</td>\n      <td>London</td>\n      <td>Verona</td>\n    </tr>\n    <tr>\n      <th>1241</th>\n      <td>{'STN', 'WMI'}</td>\n      <td>135.0</td>\n      <td>STN</td>\n      <td>WMI</td>\n      <td>London</td>\n      <td>Warsaw</td>\n    </tr>\n    <tr>\n      <th>1242</th>\n      <td>{'STN', 'WRO'}</td>\n      <td>125.0</td>\n      <td>STN</td>\n      <td>WRO</td>\n      <td>London</td>\n      <td>WrocÅaw</td>\n    </tr>\n    <tr>\n      <th>1243</th>\n      <td>{'STN', 'ZAG'}</td>\n      <td>135.0</td>\n      <td>STN</td>\n      <td>ZAG</td>\n      <td>London</td>\n      <td>Zagreb</td>\n    </tr>\n    <tr>\n      <th>1244</th>\n      <td>{'STN', 'ZAZ'}</td>\n      <td>132.5</td>\n      <td>STN</td>\n      <td>ZAZ</td>\n      <td>London</td>\n      <td>Zaragoza</td>\n    </tr>\n  </tbody>\n</table>\n<p>114 rows × 6 columns</p>\n</div>"
     },
     "execution_count": 40,
     "metadata": {},
     "output_type": "execute_result"
    }
   ],
   "source": [
    "flights[flights['departure city'].str.contains('London')]"
   ],
   "metadata": {
    "collapsed": false,
    "ExecuteTime": {
     "end_time": "2024-01-20T21:29:37.806332Z",
     "start_time": "2024-01-20T21:29:37.790429Z"
    }
   },
   "id": "5c478e773e03a42e",
   "execution_count": 40
  },
  {
   "cell_type": "markdown",
   "source": [],
   "metadata": {
    "collapsed": false
   },
   "id": "a9eea938157307c"
  },
  {
   "cell_type": "markdown",
   "source": [
    "Now we need to check that the train and plane datasets are using the same city names. We'll do this by checking that the city names in the plane dataset are a subset of the city names in the train dataset."
   ],
   "metadata": {
    "collapsed": false
   },
   "id": "d46d875dbf588f83"
  },
  {
   "cell_type": "code",
   "outputs": [
    {
     "name": "stdout",
     "output_type": "stream",
     "text": [
      "Number of cities in the trains dataset: 799\n"
     ]
    },
    {
     "data": {
      "text/plain": "{\"'s-Hertogenbosch\",\n 'A Coruña',\n 'Aachen',\n 'Aalborg',\n 'Aberdeen',\n 'Acerra',\n 'Acireale',\n 'Aix-en-Provence',\n 'Albacete',\n 'Alcalá de Guadaíra',\n 'Alcalá de Henares',\n 'Alcoi/Alcoy',\n 'Aldwick / Felpham',\n 'Alessandria',\n 'Algeciras',\n 'Alicante/Alacant',\n 'Alkmaar',\n 'Almada',\n 'Almelo',\n 'Almere',\n 'Almería',\n 'Alphen aan den Rijn',\n 'Altamura',\n 'Amersfoort',\n 'Amiens',\n 'Amora',\n 'Amsterdam',\n 'Ancona',\n 'Andria',\n 'Angers',\n 'Annecy',\n 'Antibes',\n 'Antwerpen',\n 'Anzio / Nettuno',\n 'Apeldoorn',\n 'Arad',\n 'Arcozelo / Espinho',\n 'Arezzo',\n 'Arnhem',\n 'Arras',\n 'Ashford',\n 'Assen',\n 'Asti',\n 'Augsburg',\n 'Avellino',\n 'Avignon',\n 'Avilés',\n 'Aylesbury',\n 'Ayr / Prestwick',\n 'Bacău',\n 'Bad Soden am Taunus / Kelkheim',\n 'Badajoz',\n 'Bagheria',\n 'Baia Mare',\n 'Bamberg',\n 'Bangor',\n 'Banská Bystrica',\n 'Barcelona',\n 'Bari',\n 'Barletta',\n 'Barnsley',\n 'Barreiro',\n 'Basel',\n 'Basildon',\n 'Basingstoke and Deane',\n 'Bath',\n 'Battipaglia',\n 'Bayonne',\n 'Bayreuth',\n 'Bedford',\n 'Belchatow',\n 'Belfast',\n 'Belfort',\n 'Benidorm',\n 'Benrath',\n 'Bergamo',\n 'Bergen op Zoom',\n 'Berlin',\n 'Bern',\n 'Besançon',\n 'Beverwijk/Heemskerk',\n 'Białystok',\n 'Biel/Bienne',\n 'Bielefeld',\n 'Bielsko-Biała',\n 'Bilbao',\n 'Birmingham',\n 'Bisceglie',\n 'Bistrita',\n 'Bitonto',\n 'Blackburn with Darwen',\n 'Blackpool',\n 'Blagoevgrad',\n 'Blanchardstown',\n 'Blantyre / Hamilton',\n 'Bocholt',\n 'Bologna',\n 'Bolzano',\n 'Bonn',\n 'Borås',\n 'Botoşani',\n 'Boulogne-sur-mer',\n 'Bourges',\n 'Bournemouth',\n 'Bracknell',\n 'Braga',\n 'Bratislava',\n 'Braunschweig',\n 'Braşov',\n 'Breda',\n 'Bregenz',\n 'Bremen',\n 'Bremerhaven',\n 'Brescia',\n 'Brest',\n 'Brighton',\n 'Brindisi',\n 'Bristol',\n 'Brno',\n 'Brugge',\n 'Bruxelles / Brussel',\n 'Brăila',\n 'Bucureşti',\n 'Budapest',\n 'Burgas',\n 'Burgos',\n 'Burnley',\n 'Burton-on-Trent',\n 'Busto Arsizio',\n 'Buzău',\n 'Bydgoszcz',\n 'Bârlad',\n 'Béziers',\n 'Caen',\n 'Calais',\n 'Cambridge',\n 'Cannes',\n 'Cannock / Hednesford',\n 'Cardiff',\n 'Carlisle',\n 'Carpi',\n 'Cartagena',\n 'Caserta',\n 'Castelldefels',\n 'Castellón de la Plana/Castelló de la Plana',\n 'Catania',\n 'Cergy-Pontoise',\n 'Cerignola',\n 'Chambery',\n 'Charleroi',\n 'Chartres',\n 'Chelmsford',\n 'Cheltenham',\n 'Chemnitz',\n 'Cherbourg',\n 'Chester',\n 'Chesterfield',\n 'Chełm',\n 'Chiclana de la Frontera',\n 'Chomutov / Jirkov',\n 'Ciudad Real',\n 'Clermont-Ferrand',\n 'Cluj-Napoca',\n 'Coatbridge',\n 'Coimbra',\n 'Colchester',\n 'Collado Villalba',\n 'Colmar',\n 'Como',\n 'Constanţa',\n 'Corby',\n 'Cork',\n 'Coslada',\n 'Cottbus',\n 'Coventry',\n 'Craiova',\n 'Crawley',\n 'Creil',\n 'Cremona',\n 'Crewe',\n 'Cuenca',\n 'Częstochowa',\n 'Cáceres',\n 'Cádiz',\n 'Córdoba',\n 'Călărași',\n 'Dacorum',\n 'Darlington',\n 'Darmstadt',\n 'Debrecen',\n 'Delmenhorst',\n 'Den Haag',\n 'Derby',\n 'Derry',\n 'Deva',\n 'Deventer',\n 'Dijon',\n 'Dobrich',\n 'Doncaster',\n 'Dordrecht',\n 'Dos Hermanas',\n 'Douai',\n 'Dresden',\n 'Drobeta-Turnu Severin',\n 'Dublin',\n 'Duisburg',\n 'Dundee City',\n 'Dunkerque',\n 'Düren',\n 'Düsseldorf',\n 'East Kilbride',\n 'Eastbourne',\n 'Eastleigh',\n 'Ede',\n 'Edinburgh',\n 'Eindhoven',\n \"El Port de Sagunt / Canet d'En Berenguer\",\n 'El Prat de Llobregat',\n 'Elbląg',\n 'Elche/Elx',\n 'Elda',\n 'Ellesmere Port',\n 'Enschede',\n 'Erfurt',\n 'Erlangen',\n 'Esslingen am Neckar',\n 'Exeter',\n 'Ełk',\n 'Falkirk',\n 'Ferrara',\n 'Ferrol',\n 'Firenze',\n 'Flensburg',\n 'Focşani',\n 'Foggia',\n 'Forlì',\n 'Frankfurt (Oder)',\n 'Frankfurt am Main',\n 'Freiburg im Breisgau',\n 'Fribourg',\n 'Frimley / Farnborough',\n 'Fréjus',\n 'Fuengirola',\n 'Fuenlabrada',\n 'Fürth',\n 'Galaţi',\n 'Gallarate',\n 'Gandia',\n 'Gdańsk',\n 'Gdynia',\n 'Gela',\n 'Genova',\n 'Gent',\n 'Genève',\n 'Gera',\n 'Gevelsberg / Schwelm',\n 'Gießen',\n 'Gijón',\n 'Girona',\n 'Giurgiu',\n 'Glasgow',\n 'Gliwice',\n 'Gloucester',\n 'Gniezno',\n 'Gorzów Wielkopolski',\n 'Gouda',\n 'Granada',\n 'Granollers',\n 'Gravesham',\n 'Graz',\n 'Great Yarmouth',\n 'Greater Manchester',\n 'Greater Nottingham',\n 'Grenoble',\n 'Greve / Ishøj',\n 'Grimsby / Cleethorpes',\n 'Groningen',\n 'Grosseto',\n 'Grudziądz',\n 'Gröpelingen / Vegesack',\n 'Guadalajara',\n 'Guildford',\n 'Gyõr',\n 'Górnośląski Związek Metropolitalny',\n 'Göppingen',\n 'Görlitz',\n 'Göteborg',\n 'Göttingen',\n 'Gütersloh',\n 'Głogów',\n 'Haarlem',\n 'Haarlemmermeer',\n 'Hagen',\n 'Halifax',\n 'Halle an der Saale',\n 'Halton',\n 'Hamburg',\n 'Hamm',\n 'Hanau',\n 'Haninge',\n 'Hannover',\n 'Harburg',\n 'Harlow',\n 'Harrogate',\n 'Hartlepool',\n 'Haskovo',\n 'Hastings',\n 'Haunstetten',\n 'Havířov',\n 'Heerlen',\n 'Heidelberg',\n 'Heilbronn',\n 'Helmond',\n 'Helsingborg',\n 'Helsinki',\n 'Hengelo',\n 'Hereford',\n 'Herzogenrath',\n 'Hildesheim',\n 'Hilversum',\n 'Hoorn',\n 'Hrabuvka',\n 'Hradec Králové',\n 'Huddersfield',\n 'Huelva',\n 'Hunedoara',\n 'Hyndburn',\n 'Iaşi',\n 'Igualada',\n 'Ingolstadt',\n 'Innsbruck',\n 'Inowrocław',\n 'Ipswich',\n 'Irun',\n 'Iserlohn',\n 'Jastrzębie-Zdrój',\n 'Jaén',\n 'Jelenia Góra',\n 'Jena',\n 'Jerez de la Frontera',\n 'Jyväskylä',\n 'Kaiserslautern',\n 'Kalisz',\n 'Kapellen / Ekeren',\n 'Karlsruhe',\n 'Karviná',\n 'Kassel',\n 'Kasztelanka',\n 'Kaunas',\n 'Kavala',\n 'Kecskemét',\n 'Keighley',\n 'Kempten (Allgäu)',\n 'Kettering',\n 'Kidderminster',\n 'Kiel',\n 'Kielce',\n 'Kingston-upon-Hull',\n 'Kladno',\n 'Klagenfurt',\n 'Klaipėda',\n 'Koblenz',\n 'Konstanz',\n 'Koszalin',\n 'Košice',\n 'Kraków',\n 'Krefeld',\n 'Köln',\n 'København',\n 'La Louvière',\n 'La Seyne-sur-Mer / Sanary-sur-Mer',\n 'La Spezia',\n 'Landshut',\n 'Larisa',\n 'Latina',\n 'Lausanne',\n 'Le Havre',\n 'Le Mans',\n 'Lecce',\n 'Lecco',\n 'Leeds / Bradford',\n 'Leeuwarden',\n 'Legionowo',\n 'Legnica',\n 'Leicester',\n 'Leiden',\n 'Leipzig',\n 'Lelystad',\n 'Lens',\n 'Les Clayes-sous-Bois',\n 'Leuven',\n 'Leverkusen',\n 'León',\n 'Liberec',\n 'Liepāja',\n 'Lille',\n 'Limerick',\n 'Limoges',\n 'Linares',\n 'Lincoln',\n 'Linköping',\n 'Linz',\n 'Lisboa',\n 'Liverpool',\n 'Livingston',\n 'Livorno',\n 'Liège',\n 'Ljubljana',\n 'Lleida',\n 'Logroño',\n 'London',\n 'Lorca',\n 'Lorient',\n 'Loughborough',\n 'Lubin',\n 'Lublin',\n 'Ludwigsburg',\n 'Lugano',\n 'Lugo',\n 'Lund',\n 'Luton',\n 'Luxembourg',\n 'Luzern',\n 'Lyon',\n 'Línea de la Concepción, La',\n 'Lørenskog / Lillestrøm',\n 'Lübeck',\n 'Lüdenscheid',\n 'Lüneburg',\n 'Lünen',\n 'Lütten Klein',\n 'Maastricht',\n 'Madrid',\n 'Magdeburg',\n 'Maidenhead',\n 'Maidstone',\n 'Mainz',\n 'Majadahonda',\n 'Malmö',\n 'Manfredonia',\n 'Mannheim/Ludwigshafen',\n 'Manresa',\n 'Mansfield',\n 'Mantes en Yvelines',\n 'Marbella',\n 'Maribor',\n 'Marl',\n 'Marseille',\n 'Martigues / Port-de-Bouc',\n 'Martin',\n 'Mataró',\n 'Matera',\n 'Maurepas / Montigny-le-Bretonneux',\n 'Meaux',\n 'Mechelen',\n 'Medway',\n 'Melun',\n 'Messina',\n 'Mestre',\n 'Metz',\n 'Mielec',\n 'Milano',\n 'Milton Keynes',\n 'Miskolc',\n 'Modena',\n 'Moers / Rheinhausen',\n 'Molfetta',\n 'Mollet del Vallès',\n 'Monaco',\n 'Montpellier',\n 'Most',\n 'Motherwell / Wishaw',\n 'Mulhouse',\n 'Murcia',\n 'Mysłowice',\n 'Málaga',\n 'Mérida',\n 'Mönchengladbach',\n 'München',\n 'Münster',\n 'Namur',\n 'Nancy',\n 'Nantes',\n 'Napoli',\n 'Neumünster',\n 'Neuss',\n 'Newcastle-under-Lyme',\n 'Newport',\n 'Nice',\n 'Nieuwegein / IJsselstein',\n 'Nijmegen',\n 'Nimes',\n 'Nitra',\n 'Norrköping',\n 'Northampton',\n 'Norwich',\n 'Novara',\n 'Nowy Sącz',\n 'Nuneaton',\n 'Nyíregyháza',\n 'Odense',\n 'Oldenburg (Oldenburg)',\n 'Olomouc',\n 'Olsztyn',\n 'Oostende',\n 'Opole',\n 'Oradea',\n 'Orléans',\n 'Osijek',\n 'Oslo',\n 'Osnabrück',\n 'Oss',\n 'Ostia',\n 'Ostrava',\n 'Ostrowiec Świętokrzyski',\n 'Ostrów Wielkopolski',\n 'Ourense',\n 'Oviedo',\n 'Oxford',\n 'Pabianice',\n 'Paderborn',\n 'Padova',\n 'Palencia',\n 'Palermo',\n 'Pamplona/Iruña',\n 'Panevėžys',\n 'Pardubice',\n 'Paris',\n 'Parla',\n 'Parma',\n 'Pau',\n 'Pavia',\n 'Pazardzhik',\n 'Perpignan',\n 'Perugia',\n 'Pesaro',\n 'Pescara',\n 'Peterborough',\n 'Pforzheim',\n 'Piacenza',\n 'Piatra Neamţ',\n 'Pijnacker / Berkel en Rodenrijs',\n 'Piotrków Trybunalski',\n 'Pisa',\n 'Piteşti',\n 'Piła',\n 'Plauen',\n 'Pleven',\n 'Ploieşti',\n 'Plovdiv',\n 'Plymouth',\n 'Plzeň',\n 'Poissy',\n 'Poitiers',\n 'Ponferrada',\n 'Pontevedra',\n 'Pordenone',\n 'Porto',\n 'Portsmouth',\n 'Poruba',\n 'Porz',\n 'Potsdam',\n 'Poznań',\n 'Pozuelo de Alarcón',\n 'Pozzuoli / Bacoli',\n 'Praha',\n 'Prato',\n 'Preston',\n 'Przemyśl',\n 'Puerto de Santa María, El',\n 'Purmerend',\n 'Pécs',\n 'Póvoa de Varzim',\n 'Płock',\n 'Quaregnon / Frameries',\n 'Radom',\n 'Ragusa',\n 'Ravenna',\n 'Reading',\n 'Redditch',\n 'Redhill / Reigate',\n 'Regensburg',\n \"Reggio nell'Emilia\",\n 'Reims',\n 'Remscheid',\n 'Rennes',\n 'Reus',\n 'Reutlingen',\n 'Rijeka',\n 'Rimini',\n 'Roma',\n 'Roosendaal',\n 'Rosenheim',\n 'Rostock',\n 'Rotherham',\n 'Rotterdam',\n 'Rouen',\n 'Rugby',\n 'Ruhrgebiet',\n 'Ruse',\n 'Rustington',\n 'Rybnik',\n 'Rzeszów',\n 'Rákosliget',\n 'Râmnicu Vâlcea',\n 'Rüsselsheim am Main',\n 'Saarbrücken',\n 'Sabadell',\n 'Saint-Brieuc',\n 'Saint-Etienne',\n 'Saint-Quentin',\n 'Salamanca',\n 'Salerno',\n 'Salzburg',\n 'San Fernando',\n 'San Giuseppe Vesuviano',\n 'San Sebastián/Donostia',\n 'San Severo',\n 'Sanlúcar de Barrameda',\n 'Sant Boi de Llobregat',\n 'Sant Cugat del Vallès/Rubí',\n 'Santa Monica',\n 'Santander',\n 'Santiago de Compostela',\n 'Saronno',\n 'Sassuolo',\n 'Satu Mare',\n 'Savona',\n 'Schweinfurt',\n 'Scunthorpe',\n 'Sefton',\n 'Serres',\n 'Setúbal',\n 'Sevilla',\n 'Sfântu Gheorghe',\n 'Shrewsbury',\n 'Shumen',\n 'Sibiu',\n 'Siedlce',\n 'Sindelfingen',\n 'Siracusa',\n 'Sittard-Geleen',\n 'Slatina',\n 'Sliven',\n 'Slough',\n 'Soest / Baarn',\n 'Sofia',\n 'Solingen / Wuppertal',\n 'Southampton',\n 'Southend-on-Sea',\n 'Spijkenisse',\n 'Split',\n 'St Albans',\n 'St. Gallen',\n 'Stafford',\n 'Stalowa Wola',\n 'Stara Zagora',\n 'Stargard Szczeciński',\n 'Stevenage',\n 'Stockholm',\n 'Stockton-on-Tees',\n 'Strasbourg',\n 'Stuttgart',\n 'Suceava',\n 'Sutton in Ashfield',\n 'Suwałki',\n 'Swansea',\n 'Swindon',\n 'Swords / Malahide',\n 'Szczecin',\n 'Szeged',\n 'Szolnok',\n 'Szombathely',\n 'Székesfehérvár',\n 'Södertälje',\n 'Słupsk',\n 'Talavera de la Reina',\n 'Tampere / Tammerfors',\n 'Tamworth',\n 'Tapiola / Niittykumpu',\n 'Taranto',\n 'Tarnów',\n 'Tarragona',\n 'Tatabánya',\n 'Taunton',\n 'Tczew',\n 'Telford',\n 'Terni',\n 'Terrassa',\n 'Thanet',\n 'Thatcham',\n 'Thessaloniki',\n 'Thun',\n 'Thurrock',\n 'Tilburg',\n 'Timişoara',\n 'Toledo',\n 'Tomares',\n 'Tomaszów Mazowiecki',\n 'Torbay',\n 'Torino',\n 'Torrejón de Ardoz',\n 'Torrelavega',\n 'Torremolinos',\n 'Torrevieja',\n 'Toruń',\n 'Toulon',\n 'Toulouse',\n 'Tours',\n 'Trani',\n 'Trapani',\n 'Trento',\n 'Treviso',\n 'Trier',\n 'Trieste',\n 'Trnava',\n 'Troyes',\n 'Tulcea',\n 'Tunbridge Wells',\n 'Tychy',\n 'Tyneside conurbation',\n 'Târgovişte',\n 'Târgu Jiu',\n 'Târgu Mureş',\n 'Täby',\n 'Tübingen',\n 'Udine',\n 'Ulm/Neu-Ulm',\n 'Uppsala',\n 'Utrecht',\n 'Vaihingen / Möhringen',\n 'Valdemoro',\n 'Valence',\n 'Valencia',\n 'Valenciennes',\n 'Valladolid',\n 'Varese',\n 'Varna',\n 'Veenendaal',\n 'Veliko Tarnovo',\n 'Venezia',\n 'Venlo',\n 'Verona',\n 'Verviers / Dison',\n 'Veszprém',\n 'Vicenza',\n 'Vigo',\n 'Viladecans',\n 'Vilanova i la Geltrú',\n 'Vilnius',\n 'Vitoria/Gasteiz',\n 'Vleuten / De Meern',\n 'Volos',\n 'Vratsa',\n 'Västerås',\n 'Wakefield',\n 'Warrington',\n 'Warszawa',\n 'Warwick',\n 'Washington',\n 'Waveney',\n 'Wałbrzych',\n 'Weston-super-Mare',\n 'Wien',\n 'Wiesbaden',\n 'Wigan / Skelmersdale',\n 'Winterthur',\n 'Woking',\n 'Wolfsburg',\n 'Worcester',\n 'Worthing',\n 'Wrocław',\n 'Wycombe',\n 'Würzburg',\n 'Włocławek',\n 'Yambol',\n 'York',\n 'Zadar',\n 'Zagreb',\n 'Zamora',\n 'Zamość',\n 'Zaragoza',\n 'Zgierz',\n 'Zielona Góra',\n 'Zoetermeer',\n 'Zwolle',\n 'Zürich',\n 'el Masnou',\n 'Ávila',\n 'Århus',\n 'Érd',\n 'Örebro',\n 'Ústí nad Labem',\n 'České Budějovice',\n 'Łomża',\n 'Łódź',\n 'Świdnica',\n 'Šiauliai',\n 'Žilina'}"
     },
     "execution_count": 48,
     "metadata": {},
     "output_type": "execute_result"
    }
   ],
   "source": [
    "train_cities = set(trains['larger_city'].unique()) | set(trains['smaller_city'].unique())\n",
    "print(f'Number of cities in the trains dataset: {len(train_cities)}')\n",
    "train_cities"
   ],
   "metadata": {
    "collapsed": false,
    "ExecuteTime": {
     "end_time": "2024-01-21T12:10:48.132372Z",
     "start_time": "2024-01-21T12:10:48.097417Z"
    }
   },
   "id": "dd39b4a7045b8ef4",
   "execution_count": 48
  },
  {
   "cell_type": "code",
   "outputs": [
    {
     "name": "stdout",
     "output_type": "stream",
     "text": [
      "Number of cities in the flights dataset: 299\n"
     ]
    },
    {
     "data": {
      "text/plain": "{'Aalborg',\n 'Aarhus',\n 'Aberdeen',\n 'Ajaccio/NapolÃ©on Bonaparte',\n 'Alexandroupolis',\n 'Alghero',\n 'Alicante',\n 'AlmerÃ\\xada',\n 'Amsterdam',\n 'Anapa',\n 'Ancona',\n 'Andenes',\n 'Archangelsk',\n 'Astrakhan',\n 'Athens',\n 'BacÄ\\x83u',\n 'Baden-Baden',\n 'Banja Luka',\n 'Barcelona',\n 'Bari',\n 'Bastia/Poretta',\n 'Beauvais/TillÃ©',\n 'Belfast',\n 'Belgrade',\n 'Bergamo',\n 'Bergen',\n 'Beslan',\n 'Bilbao',\n 'Billund',\n 'Birmingham',\n 'BodÃ¸',\n 'Bologna',\n 'Bolzano',\n 'Bordeaux/MÃ©rignac',\n 'Bournemouth',\n 'BraganÃ§a',\n 'Bratislava',\n 'Bremen',\n 'Brindisi',\n 'Bristol',\n 'Brussels',\n 'BrÃ¸nnÃ¸y',\n 'Bucharest',\n 'Budapest',\n 'Bugulma',\n 'Burgas',\n 'Bydgoszcz',\n 'BÃ¢le/Mulhouse',\n 'BÃ©ziers/Vias',\n 'Cagliari',\n 'Calvi/Sainte-Catherine',\n 'Cardiff',\n 'Cascais',\n 'CastellÃ³n de la Plana',\n 'Castletown',\n 'Catania',\n 'ChambÃ©ry/Aix-les-Bains',\n 'Cheboksary',\n 'Chelyabinsk',\n 'Cherepovets',\n 'Chios Island',\n 'Chita',\n 'ChiÅ\\x9finÄ\\x83u',\n 'Cluj-Napoca',\n 'Cologne',\n 'Copenhagen',\n 'Corvera',\n 'Craiova',\n 'Crete Island',\n 'Crotone',\n 'Culleredo',\n 'Debrecen',\n 'Dortmund',\n 'Dresden',\n 'Dubrovnik',\n 'DÃ¼sseldorf',\n 'Edinburgh',\n 'Eindhoven',\n 'Evenes',\n 'Faro',\n 'Figari Sud-Corse',\n 'Firenze',\n 'FlorÃ¸',\n 'Frankfurt am Main',\n 'Fuerteventura Island',\n 'Funchal',\n 'GdaÅ\\x84sk',\n 'Gelendzhik',\n 'Geneva',\n 'Genova',\n 'Gibraltar',\n 'Girona',\n 'Glasgow',\n 'Goleniow',\n 'Gothenburg',\n 'Granada',\n 'Graz',\n 'Grozny',\n 'Hadsel',\n 'Hamburg',\n 'Hannover',\n 'Helsinki',\n 'Hondarribia',\n 'Horta',\n 'IaÅ\\x9fi',\n 'Ibiza',\n 'Innsbruck',\n 'Inverness',\n 'Ioannina',\n 'Ivalo',\n 'Ivanovo',\n 'Izhevsk',\n 'Jerez de la Forntera',\n 'Kaliningrad',\n 'Kaluga',\n 'KarmÃ¸y',\n 'Katowice',\n 'Kaunas',\n 'Kavala',\n 'Kazan',\n 'Kerkyra Island',\n 'Kirkenes',\n 'Kirov',\n 'KittilÃ¤',\n 'Kjevik',\n 'Klagenfurt am WÃ¶rthersee',\n 'Kos Island',\n 'KoÅ¡ice',\n 'KrakÃ³w',\n 'Krasnodar',\n 'Krasnoyarsk',\n 'Kuopio / SiilinjÃ¤rvi',\n 'Kuusamo',\n 'Lamezia Terme (CZ)',\n 'Lanzarote Island',\n 'Leeds',\n 'Leipzig',\n 'Leknes',\n 'Lille/Lesquin',\n 'Lisbon',\n 'Liverpool',\n 'LiÃ¨ge',\n 'Ljubljana',\n 'London',\n 'Lublin',\n 'LuleÃ¥',\n 'Luxembourg',\n 'Lyon',\n 'Maastricht',\n 'Madrid',\n 'Magnitogorsk',\n 'Makhachkala',\n 'MalmÃ¶',\n 'Manchester',\n 'Marseille',\n 'Melilla',\n 'Memmingen',\n 'Menorca Island',\n 'Milan',\n 'Mineralnyye Vody',\n 'Minsk',\n 'Montpellier/MÃ©diterranÃ©e',\n 'Moscow',\n 'Munich',\n 'Murmansk',\n 'Mykonos Island',\n 'Mytilene',\n 'MÃ¡laga',\n 'MÃ¼nster',\n 'Nantes',\n 'Naryan Mar',\n 'Newcastle',\n 'Newquay',\n 'Nice',\n 'Nis',\n 'Nizhnekamsk',\n 'Nizhny Novgorod',\n 'Norwich',\n 'Nottingham',\n 'Novokuznetsk',\n 'Nuremberg',\n 'NÃ¡poli',\n 'Ohrid',\n 'Olbia (SS)',\n 'Olsztyn',\n 'Oradea',\n 'Orenburg',\n 'Orsk',\n 'Oslo',\n 'Oulu / Oulunsalo',\n 'Palanga',\n 'Palermo',\n 'Pamplona',\n 'Paris',\n 'Parma',\n 'Penza',\n 'Perm',\n 'Perugia',\n 'Pescara',\n 'Petrozavodsk',\n 'Pico Island',\n 'Pisa',\n 'Podgorica',\n 'Ponta Delgada',\n 'Porto',\n 'PoznaÅ\\x84',\n 'Prague',\n 'Praia da VitÃ³ria',\n 'Prishtina',\n 'Pskov',\n 'Pula',\n 'Radom',\n 'RanÃ³n',\n 'Reggio Calabria',\n 'Riga',\n 'Rodes Island',\n 'Rome',\n 'Rotterdam',\n 'Rovaniemi',\n 'RzeszÃ³w',\n 'Sabetta',\n 'Saint Anne',\n 'Saint Helier',\n 'Saint Peter Port',\n 'Saint-Ã\\x89tienne-de-Saint-Geoirs',\n 'Salzburg',\n 'Samara',\n 'Samos Island',\n 'Santander',\n 'Santiago de Compostela',\n 'Santorini Island',\n 'Sarajevo',\n 'Sevilla',\n 'Sibiu',\n 'Simferopol',\n 'Skopje',\n 'Sochi',\n 'Sofia',\n 'Souda',\n 'Southampton',\n 'Southend',\n 'Split',\n 'St. Petersburg',\n 'Sta Cruz de la Palma, La Palma Island',\n 'Stavanger',\n 'Stavropol',\n 'Stockholm',\n 'Stockholm / NykÃ¶ping',\n 'Stornoway',\n 'Stuttgart',\n 'Suceava',\n 'SvolvÃ¦r',\n 'Syktyvkar',\n 'Tallinn',\n 'Tampere / Pirkkala',\n 'Tarbes/Lourdes/PyrÃ©nÃ©es',\n 'Thessaloniki',\n 'TimiÅ\\x9foara',\n 'Tirana',\n 'Tivat',\n 'Torino',\n 'Torp',\n 'Toulouse/Blagnac',\n 'Tours/Val de Loire (Loire Valley)',\n 'Treviso',\n 'Trieste',\n 'TromsÃ¸',\n 'Trondheim',\n 'Tuzla',\n 'Ufa',\n 'Ulyanovsk',\n 'UmeÃ¥',\n 'Vaasa',\n 'VadsÃ¸',\n 'Vagar',\n 'Valencia',\n 'Valletta',\n 'Varna',\n 'Venice',\n 'Verona',\n 'Vienna',\n 'Vigo',\n 'Vila Baleira',\n 'Vila Real',\n 'Vila do Porto',\n 'Vilnius',\n 'Viseu',\n 'Volgograd',\n 'Voronezh',\n 'Warsaw',\n 'Weeze',\n 'WrocÅ\\x82aw',\n 'Zagreb',\n 'Zakynthos Island',\n 'Zaragoza',\n 'Zurich',\n nan,\n 'Ã\\x85lesund',\n 'Å\\x81Ã³dÅº'}"
     },
     "execution_count": 47,
     "metadata": {},
     "output_type": "execute_result"
    }
   ],
   "source": [
    "airport_cities = set(flights['departure city'].unique()) | set(flights['arrival city'].unique())\n",
    "print(f'Number of cities in the flights dataset: {len(airport_cities)}')\n",
    "airport_cities"
   ],
   "metadata": {
    "collapsed": false,
    "ExecuteTime": {
     "end_time": "2024-01-21T12:10:34.960232Z",
     "start_time": "2024-01-21T12:10:34.953813Z"
    }
   },
   "id": "b23b447b57948905",
   "execution_count": 47
  },
  {
   "cell_type": "markdown",
   "source": [
    "Which cities are in the airport dataset but not the train dataset?"
   ],
   "metadata": {
    "collapsed": false
   },
   "id": "44d4c2d9c9b6103f"
  },
  {
   "cell_type": "code",
   "outputs": [
    {
     "data": {
      "text/plain": "211"
     },
     "execution_count": 50,
     "metadata": {},
     "output_type": "execute_result"
    }
   ],
   "source": [
    "len(airport_cities - train_cities)"
   ],
   "metadata": {
    "collapsed": false,
    "ExecuteTime": {
     "end_time": "2024-01-21T12:11:21.318474Z",
     "start_time": "2024-01-21T12:11:21.308140Z"
    }
   },
   "id": "2c8c648fa7b7be32",
   "execution_count": 50
  },
  {
   "cell_type": "markdown",
   "source": [
    "211 out of 299 is a lot..."
   ],
   "metadata": {
    "collapsed": false
   },
   "id": "77e32ba1719860e6"
  },
  {
   "cell_type": "code",
   "outputs": [
    {
     "data": {
      "text/plain": "{'Aarhus',\n 'Ajaccio/NapolÃ©on Bonaparte',\n 'Alexandroupolis',\n 'Alghero',\n 'Alicante',\n 'AlmerÃ\\xada',\n 'Anapa',\n 'Andenes',\n 'Archangelsk',\n 'Astrakhan',\n 'Athens',\n 'BacÄ\\x83u',\n 'Baden-Baden',\n 'Banja Luka',\n 'Bastia/Poretta',\n 'Beauvais/TillÃ©',\n 'Belgrade',\n 'Bergen',\n 'Beslan',\n 'Billund',\n 'BodÃ¸',\n 'Bordeaux/MÃ©rignac',\n 'BraganÃ§a',\n 'Brussels',\n 'BrÃ¸nnÃ¸y',\n 'Bucharest',\n 'Bugulma',\n 'BÃ¢le/Mulhouse',\n 'BÃ©ziers/Vias',\n 'Cagliari',\n 'Calvi/Sainte-Catherine',\n 'Cascais',\n 'CastellÃ³n de la Plana',\n 'Castletown',\n 'ChambÃ©ry/Aix-les-Bains',\n 'Cheboksary',\n 'Chelyabinsk',\n 'Cherepovets',\n 'Chios Island',\n 'Chita',\n 'ChiÅ\\x9finÄ\\x83u',\n 'Cologne',\n 'Copenhagen',\n 'Corvera',\n 'Crete Island',\n 'Crotone',\n 'Culleredo',\n 'Dortmund',\n 'Dubrovnik',\n 'DÃ¼sseldorf',\n 'Evenes',\n 'Faro',\n 'Figari Sud-Corse',\n 'FlorÃ¸',\n 'Fuerteventura Island',\n 'Funchal',\n 'GdaÅ\\x84sk',\n 'Gelendzhik',\n 'Geneva',\n 'Gibraltar',\n 'Goleniow',\n 'Gothenburg',\n 'Grozny',\n 'Hadsel',\n 'Hondarribia',\n 'Horta',\n 'IaÅ\\x9fi',\n 'Ibiza',\n 'Inverness',\n 'Ioannina',\n 'Ivalo',\n 'Ivanovo',\n 'Izhevsk',\n 'Jerez de la Forntera',\n 'Kaliningrad',\n 'Kaluga',\n 'KarmÃ¸y',\n 'Katowice',\n 'Kazan',\n 'Kerkyra Island',\n 'Kirkenes',\n 'Kirov',\n 'KittilÃ¤',\n 'Kjevik',\n 'Klagenfurt am WÃ¶rthersee',\n 'Kos Island',\n 'KoÅ¡ice',\n 'KrakÃ³w',\n 'Krasnodar',\n 'Krasnoyarsk',\n 'Kuopio / SiilinjÃ¤rvi',\n 'Kuusamo',\n 'Lamezia Terme (CZ)',\n 'Lanzarote Island',\n 'Leeds',\n 'Leknes',\n 'Lille/Lesquin',\n 'Lisbon',\n 'LiÃ¨ge',\n 'LuleÃ¥',\n 'Magnitogorsk',\n 'Makhachkala',\n 'MalmÃ¶',\n 'Manchester',\n 'Melilla',\n 'Memmingen',\n 'Menorca Island',\n 'Milan',\n 'Mineralnyye Vody',\n 'Minsk',\n 'Montpellier/MÃ©diterranÃ©e',\n 'Moscow',\n 'Munich',\n 'Murmansk',\n 'Mykonos Island',\n 'Mytilene',\n 'MÃ¡laga',\n 'MÃ¼nster',\n 'Naryan Mar',\n 'Newcastle',\n 'Newquay',\n 'Nis',\n 'Nizhnekamsk',\n 'Nizhny Novgorod',\n 'Nottingham',\n 'Novokuznetsk',\n 'Nuremberg',\n 'NÃ¡poli',\n 'Ohrid',\n 'Olbia (SS)',\n 'Orenburg',\n 'Orsk',\n 'Oulu / Oulunsalo',\n 'Palanga',\n 'Pamplona',\n 'Penza',\n 'Perm',\n 'Petrozavodsk',\n 'Pico Island',\n 'Podgorica',\n 'Ponta Delgada',\n 'PoznaÅ\\x84',\n 'Prague',\n 'Praia da VitÃ³ria',\n 'Prishtina',\n 'Pskov',\n 'Pula',\n 'RanÃ³n',\n 'Reggio Calabria',\n 'Riga',\n 'Rodes Island',\n 'Rome',\n 'Rovaniemi',\n 'RzeszÃ³w',\n 'Sabetta',\n 'Saint Anne',\n 'Saint Helier',\n 'Saint Peter Port',\n 'Saint-Ã\\x89tienne-de-Saint-Geoirs',\n 'Samara',\n 'Samos Island',\n 'Santorini Island',\n 'Sarajevo',\n 'Simferopol',\n 'Skopje',\n 'Sochi',\n 'Souda',\n 'Southend',\n 'St. Petersburg',\n 'Sta Cruz de la Palma, La Palma Island',\n 'Stavanger',\n 'Stavropol',\n 'Stockholm / NykÃ¶ping',\n 'Stornoway',\n 'SvolvÃ¦r',\n 'Syktyvkar',\n 'Tallinn',\n 'Tampere / Pirkkala',\n 'Tarbes/Lourdes/PyrÃ©nÃ©es',\n 'TimiÅ\\x9foara',\n 'Tirana',\n 'Tivat',\n 'Torp',\n 'Toulouse/Blagnac',\n 'Tours/Val de Loire (Loire Valley)',\n 'TromsÃ¸',\n 'Trondheim',\n 'Tuzla',\n 'Ufa',\n 'Ulyanovsk',\n 'UmeÃ¥',\n 'Vaasa',\n 'VadsÃ¸',\n 'Vagar',\n 'Valletta',\n 'Venice',\n 'Vienna',\n 'Vila Baleira',\n 'Vila Real',\n 'Vila do Porto',\n 'Viseu',\n 'Volgograd',\n 'Voronezh',\n 'Warsaw',\n 'Weeze',\n 'WrocÅ\\x82aw',\n 'Zakynthos Island',\n 'Zurich',\n nan,\n 'Ã\\x85lesund',\n 'Å\\x81Ã³dÅº'}"
     },
     "execution_count": 51,
     "metadata": {},
     "output_type": "execute_result"
    }
   ],
   "source": [
    "airport_cities - train_cities"
   ],
   "metadata": {
    "collapsed": false,
    "ExecuteTime": {
     "end_time": "2024-01-21T12:11:21.761731Z",
     "start_time": "2024-01-21T12:11:21.758807Z"
    }
   },
   "id": "f2869cf19880f0ed",
   "execution_count": 51
  },
  {
   "cell_type": "code",
   "outputs": [
    {
     "data": {
      "text/plain": "True"
     },
     "execution_count": 46,
     "metadata": {},
     "output_type": "execute_result"
    }
   ],
   "source": [
    "'Genève' in train_cities"
   ],
   "metadata": {
    "collapsed": false,
    "ExecuteTime": {
     "end_time": "2024-01-21T12:08:53.777577Z",
     "start_time": "2024-01-21T12:08:53.771955Z"
    }
   },
   "id": "b5937a9e6bc2ed53",
   "execution_count": 46
  },
  {
   "cell_type": "code",
   "outputs": [],
   "source": [],
   "metadata": {
    "collapsed": false
   },
   "id": "847a17412bc188d0"
  }
 ],
 "metadata": {
  "kernelspec": {
   "display_name": "Python 3",
   "language": "python",
   "name": "python3"
  },
  "language_info": {
   "codemirror_mode": {
    "name": "ipython",
    "version": 2
   },
   "file_extension": ".py",
   "mimetype": "text/x-python",
   "name": "python",
   "nbconvert_exporter": "python",
   "pygments_lexer": "ipython2",
   "version": "2.7.6"
  }
 },
 "nbformat": 4,
 "nbformat_minor": 5
}
