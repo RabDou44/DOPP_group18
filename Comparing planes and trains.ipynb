{
 "cells": [
  {
   "cell_type": "markdown",
   "source": [
    "# Comparing train and plane travel times"
   ],
   "metadata": {
    "collapsed": false
   },
   "id": "3556dc49dec53ec5"
  },
  {
   "cell_type": "markdown",
   "source": [
    "## Import libraries"
   ],
   "metadata": {
    "collapsed": false
   },
   "id": "c1e9c843cddeb436"
  },
  {
   "cell_type": "code",
   "outputs": [],
   "source": [
    "import pandas as pd"
   ],
   "metadata": {
    "collapsed": false,
    "ExecuteTime": {
     "end_time": "2024-01-21T15:29:17.354668Z",
     "start_time": "2024-01-21T15:29:17.327798Z"
    }
   },
   "id": "ad211d6708cc439e",
   "execution_count": 12
  },
  {
   "cell_type": "markdown",
   "source": [
    "## Import train times"
   ],
   "metadata": {
    "collapsed": false
   },
   "id": "41eb4c01b09fb0d7"
  },
  {
   "cell_type": "code",
   "execution_count": 13,
   "id": "initial_id",
   "metadata": {
    "collapsed": true,
    "ExecuteTime": {
     "end_time": "2024-01-21T15:29:17.393389Z",
     "start_time": "2024-01-21T15:29:17.357027Z"
    }
   },
   "outputs": [
    {
     "data": {
      "text/plain": "     country_larger_city HDC_code_larger  larger_city  pop_larger_city  \\\n0                     FR   GEOSTAT11_450        Paris          8900172   \n1                     FR   GEOSTAT11_450        Paris          8900172   \n2                     FR   GEOSTAT11_450        Paris          8900172   \n3                     FR   GEOSTAT11_450        Paris          8900172   \n4                     FR   GEOSTAT11_450        Paris          8900172   \n...                  ...             ...          ...              ...   \n6594                  HU   GEOSTAT11_506      Szolnok            51457   \n6595                  HU   GEOSTAT11_500          Érd            51285   \n6596                  IT   GEOSTAT11_770      Bitonto            50961   \n6597                  IT   GEOSTAT11_770      Bitonto            50961   \n6598                  IT   GEOSTAT11_734  Manfredonia            50684   \n\n     country_smaller_city HDC_code_smaller         smaller_city  \\\n0                      BE    GEOSTAT11_349  Bruxelles / Brussel   \n1                      FR    GEOSTAT11_361                Lille   \n2                      FR    GEOSTAT11_418                Rouen   \n3                      FR    GEOSTAT11_434       Cergy-Pontoise   \n4                      FR    GEOSTAT11_499                Tours   \n...                   ...              ...                  ...   \n6594                   HU    GEOSTAT11_500                  Érd   \n6595                   HU    GEOSTAT11_516             Veszprém   \n6596                   IT    GEOSTAT11_734          Manfredonia   \n6597                   IT    GEOSTAT11_761            Cerignola   \n6598                   IT    GEOSTAT11_761            Cerignola   \n\n      pop_smaller_city  crossborder distance_centroids  av_dist_opti  \\\n0              1233487         True   more than 120 km         260.8   \n1               911478        False   more than 120 km         202.0   \n2               298297        False              114.6         110.0   \n3               273138        False               30.6           4.8   \n4               211915        False   more than 120 km         187.7   \n...                ...          ...                ...           ...   \n6594             51285        False               99.6           NaN   \n6595             50141        False               82.2           NaN   \n6596             50684        False               86.8           NaN   \n6597             50074        False               68.5           NaN   \n6598             50074        False               40.5           NaN   \n\n      time_opti  speed_opti  av_dist_avt  time_avt  speed_avt  \n0          1.44       182.1        261.6      1.71      153.5  \n1          1.00       202.1        201.9      1.29      157.3  \n2          1.24        88.7        110.0      1.67       65.9  \n3          0.07        67.9          4.8      0.17       27.9  \n4          0.86       218.2        200.4      1.54      130.6  \n...         ...         ...          ...       ...        ...  \n6594        NaN         NaN          NaN       NaN        NaN  \n6595        NaN         NaN          NaN       NaN        NaN  \n6596        NaN         NaN          NaN       NaN        NaN  \n6597        NaN         NaN          NaN       NaN        NaN  \n6598        NaN         NaN          NaN       NaN        NaN  \n\n[6599 rows x 16 columns]",
      "text/html": "<div>\n<style scoped>\n    .dataframe tbody tr th:only-of-type {\n        vertical-align: middle;\n    }\n\n    .dataframe tbody tr th {\n        vertical-align: top;\n    }\n\n    .dataframe thead th {\n        text-align: right;\n    }\n</style>\n<table border=\"1\" class=\"dataframe\">\n  <thead>\n    <tr style=\"text-align: right;\">\n      <th></th>\n      <th>country_larger_city</th>\n      <th>HDC_code_larger</th>\n      <th>larger_city</th>\n      <th>pop_larger_city</th>\n      <th>country_smaller_city</th>\n      <th>HDC_code_smaller</th>\n      <th>smaller_city</th>\n      <th>pop_smaller_city</th>\n      <th>crossborder</th>\n      <th>distance_centroids</th>\n      <th>av_dist_opti</th>\n      <th>time_opti</th>\n      <th>speed_opti</th>\n      <th>av_dist_avt</th>\n      <th>time_avt</th>\n      <th>speed_avt</th>\n    </tr>\n  </thead>\n  <tbody>\n    <tr>\n      <th>0</th>\n      <td>FR</td>\n      <td>GEOSTAT11_450</td>\n      <td>Paris</td>\n      <td>8900172</td>\n      <td>BE</td>\n      <td>GEOSTAT11_349</td>\n      <td>Bruxelles / Brussel</td>\n      <td>1233487</td>\n      <td>True</td>\n      <td>more than 120 km</td>\n      <td>260.8</td>\n      <td>1.44</td>\n      <td>182.1</td>\n      <td>261.6</td>\n      <td>1.71</td>\n      <td>153.5</td>\n    </tr>\n    <tr>\n      <th>1</th>\n      <td>FR</td>\n      <td>GEOSTAT11_450</td>\n      <td>Paris</td>\n      <td>8900172</td>\n      <td>FR</td>\n      <td>GEOSTAT11_361</td>\n      <td>Lille</td>\n      <td>911478</td>\n      <td>False</td>\n      <td>more than 120 km</td>\n      <td>202.0</td>\n      <td>1.00</td>\n      <td>202.1</td>\n      <td>201.9</td>\n      <td>1.29</td>\n      <td>157.3</td>\n    </tr>\n    <tr>\n      <th>2</th>\n      <td>FR</td>\n      <td>GEOSTAT11_450</td>\n      <td>Paris</td>\n      <td>8900172</td>\n      <td>FR</td>\n      <td>GEOSTAT11_418</td>\n      <td>Rouen</td>\n      <td>298297</td>\n      <td>False</td>\n      <td>114.6</td>\n      <td>110.0</td>\n      <td>1.24</td>\n      <td>88.7</td>\n      <td>110.0</td>\n      <td>1.67</td>\n      <td>65.9</td>\n    </tr>\n    <tr>\n      <th>3</th>\n      <td>FR</td>\n      <td>GEOSTAT11_450</td>\n      <td>Paris</td>\n      <td>8900172</td>\n      <td>FR</td>\n      <td>GEOSTAT11_434</td>\n      <td>Cergy-Pontoise</td>\n      <td>273138</td>\n      <td>False</td>\n      <td>30.6</td>\n      <td>4.8</td>\n      <td>0.07</td>\n      <td>67.9</td>\n      <td>4.8</td>\n      <td>0.17</td>\n      <td>27.9</td>\n    </tr>\n    <tr>\n      <th>4</th>\n      <td>FR</td>\n      <td>GEOSTAT11_450</td>\n      <td>Paris</td>\n      <td>8900172</td>\n      <td>FR</td>\n      <td>GEOSTAT11_499</td>\n      <td>Tours</td>\n      <td>211915</td>\n      <td>False</td>\n      <td>more than 120 km</td>\n      <td>187.7</td>\n      <td>0.86</td>\n      <td>218.2</td>\n      <td>200.4</td>\n      <td>1.54</td>\n      <td>130.6</td>\n    </tr>\n    <tr>\n      <th>...</th>\n      <td>...</td>\n      <td>...</td>\n      <td>...</td>\n      <td>...</td>\n      <td>...</td>\n      <td>...</td>\n      <td>...</td>\n      <td>...</td>\n      <td>...</td>\n      <td>...</td>\n      <td>...</td>\n      <td>...</td>\n      <td>...</td>\n      <td>...</td>\n      <td>...</td>\n      <td>...</td>\n    </tr>\n    <tr>\n      <th>6594</th>\n      <td>HU</td>\n      <td>GEOSTAT11_506</td>\n      <td>Szolnok</td>\n      <td>51457</td>\n      <td>HU</td>\n      <td>GEOSTAT11_500</td>\n      <td>Érd</td>\n      <td>51285</td>\n      <td>False</td>\n      <td>99.6</td>\n      <td>NaN</td>\n      <td>NaN</td>\n      <td>NaN</td>\n      <td>NaN</td>\n      <td>NaN</td>\n      <td>NaN</td>\n    </tr>\n    <tr>\n      <th>6595</th>\n      <td>HU</td>\n      <td>GEOSTAT11_500</td>\n      <td>Érd</td>\n      <td>51285</td>\n      <td>HU</td>\n      <td>GEOSTAT11_516</td>\n      <td>Veszprém</td>\n      <td>50141</td>\n      <td>False</td>\n      <td>82.2</td>\n      <td>NaN</td>\n      <td>NaN</td>\n      <td>NaN</td>\n      <td>NaN</td>\n      <td>NaN</td>\n      <td>NaN</td>\n    </tr>\n    <tr>\n      <th>6596</th>\n      <td>IT</td>\n      <td>GEOSTAT11_770</td>\n      <td>Bitonto</td>\n      <td>50961</td>\n      <td>IT</td>\n      <td>GEOSTAT11_734</td>\n      <td>Manfredonia</td>\n      <td>50684</td>\n      <td>False</td>\n      <td>86.8</td>\n      <td>NaN</td>\n      <td>NaN</td>\n      <td>NaN</td>\n      <td>NaN</td>\n      <td>NaN</td>\n      <td>NaN</td>\n    </tr>\n    <tr>\n      <th>6597</th>\n      <td>IT</td>\n      <td>GEOSTAT11_770</td>\n      <td>Bitonto</td>\n      <td>50961</td>\n      <td>IT</td>\n      <td>GEOSTAT11_761</td>\n      <td>Cerignola</td>\n      <td>50074</td>\n      <td>False</td>\n      <td>68.5</td>\n      <td>NaN</td>\n      <td>NaN</td>\n      <td>NaN</td>\n      <td>NaN</td>\n      <td>NaN</td>\n      <td>NaN</td>\n    </tr>\n    <tr>\n      <th>6598</th>\n      <td>IT</td>\n      <td>GEOSTAT11_734</td>\n      <td>Manfredonia</td>\n      <td>50684</td>\n      <td>IT</td>\n      <td>GEOSTAT11_761</td>\n      <td>Cerignola</td>\n      <td>50074</td>\n      <td>False</td>\n      <td>40.5</td>\n      <td>NaN</td>\n      <td>NaN</td>\n      <td>NaN</td>\n      <td>NaN</td>\n      <td>NaN</td>\n      <td>NaN</td>\n    </tr>\n  </tbody>\n</table>\n<p>6599 rows × 16 columns</p>\n</div>"
     },
     "execution_count": 13,
     "metadata": {},
     "output_type": "execute_result"
    }
   ],
   "source": [
    "trains = pd.read_csv('./datasets/Rail_transport_performance_in_Europe_2021.csv')\n",
    "trains"
   ]
  },
  {
   "cell_type": "markdown",
   "source": [
    "## Import plane times"
   ],
   "metadata": {
    "collapsed": false
   },
   "id": "471940b5ffffd523"
  },
  {
   "cell_type": "code",
   "outputs": [
    {
     "data": {
      "text/plain": "      Unnamed: 0           route   time\n0              0  {'AAL', 'AMS'}   85.0\n1              1  {'AAQ', 'LED'}  170.0\n2              2  {'AMS', 'ABZ'}   85.0\n3              3  {'ABZ', 'LGW'}   95.0\n4              4  {'ACE', 'AGP'}  130.0\n...          ...             ...    ...\n1464        1464  {'ZRH', 'OTP'}  150.0\n1465        1465  {'ZRH', 'PRN'}  127.5\n1466        1466  {'ZRH', 'RVN'}  205.0\n1467        1467  {'ZRH', 'STR'}   45.0\n1468        1468  {'ZTH', 'ATH'}   62.5\n\n[1469 rows x 3 columns]",
      "text/html": "<div>\n<style scoped>\n    .dataframe tbody tr th:only-of-type {\n        vertical-align: middle;\n    }\n\n    .dataframe tbody tr th {\n        vertical-align: top;\n    }\n\n    .dataframe thead th {\n        text-align: right;\n    }\n</style>\n<table border=\"1\" class=\"dataframe\">\n  <thead>\n    <tr style=\"text-align: right;\">\n      <th></th>\n      <th>Unnamed: 0</th>\n      <th>route</th>\n      <th>time</th>\n    </tr>\n  </thead>\n  <tbody>\n    <tr>\n      <th>0</th>\n      <td>0</td>\n      <td>{'AAL', 'AMS'}</td>\n      <td>85.0</td>\n    </tr>\n    <tr>\n      <th>1</th>\n      <td>1</td>\n      <td>{'AAQ', 'LED'}</td>\n      <td>170.0</td>\n    </tr>\n    <tr>\n      <th>2</th>\n      <td>2</td>\n      <td>{'AMS', 'ABZ'}</td>\n      <td>85.0</td>\n    </tr>\n    <tr>\n      <th>3</th>\n      <td>3</td>\n      <td>{'ABZ', 'LGW'}</td>\n      <td>95.0</td>\n    </tr>\n    <tr>\n      <th>4</th>\n      <td>4</td>\n      <td>{'ACE', 'AGP'}</td>\n      <td>130.0</td>\n    </tr>\n    <tr>\n      <th>...</th>\n      <td>...</td>\n      <td>...</td>\n      <td>...</td>\n    </tr>\n    <tr>\n      <th>1464</th>\n      <td>1464</td>\n      <td>{'ZRH', 'OTP'}</td>\n      <td>150.0</td>\n    </tr>\n    <tr>\n      <th>1465</th>\n      <td>1465</td>\n      <td>{'ZRH', 'PRN'}</td>\n      <td>127.5</td>\n    </tr>\n    <tr>\n      <th>1466</th>\n      <td>1466</td>\n      <td>{'ZRH', 'RVN'}</td>\n      <td>205.0</td>\n    </tr>\n    <tr>\n      <th>1467</th>\n      <td>1467</td>\n      <td>{'ZRH', 'STR'}</td>\n      <td>45.0</td>\n    </tr>\n    <tr>\n      <th>1468</th>\n      <td>1468</td>\n      <td>{'ZTH', 'ATH'}</td>\n      <td>62.5</td>\n    </tr>\n  </tbody>\n</table>\n<p>1469 rows × 3 columns</p>\n</div>"
     },
     "execution_count": 14,
     "metadata": {},
     "output_type": "execute_result"
    }
   ],
   "source": [
    "flights = pd.read_csv('./datasets/flight_times.csv')\n",
    "flights"
   ],
   "metadata": {
    "collapsed": false,
    "ExecuteTime": {
     "end_time": "2024-01-21T15:29:17.394470Z",
     "start_time": "2024-01-21T15:29:17.386619Z"
    }
   },
   "id": "aff19d047f496546",
   "execution_count": 14
  },
  {
   "cell_type": "code",
   "outputs": [
    {
     "data": {
      "text/plain": "               route   time\n0     {'AAL', 'AMS'}   85.0\n1     {'AAQ', 'LED'}  170.0\n2     {'AMS', 'ABZ'}   85.0\n3     {'ABZ', 'LGW'}   95.0\n4     {'ACE', 'AGP'}  130.0\n...              ...    ...\n1464  {'ZRH', 'OTP'}  150.0\n1465  {'ZRH', 'PRN'}  127.5\n1466  {'ZRH', 'RVN'}  205.0\n1467  {'ZRH', 'STR'}   45.0\n1468  {'ZTH', 'ATH'}   62.5\n\n[1469 rows x 2 columns]",
      "text/html": "<div>\n<style scoped>\n    .dataframe tbody tr th:only-of-type {\n        vertical-align: middle;\n    }\n\n    .dataframe tbody tr th {\n        vertical-align: top;\n    }\n\n    .dataframe thead th {\n        text-align: right;\n    }\n</style>\n<table border=\"1\" class=\"dataframe\">\n  <thead>\n    <tr style=\"text-align: right;\">\n      <th></th>\n      <th>route</th>\n      <th>time</th>\n    </tr>\n  </thead>\n  <tbody>\n    <tr>\n      <th>0</th>\n      <td>{'AAL', 'AMS'}</td>\n      <td>85.0</td>\n    </tr>\n    <tr>\n      <th>1</th>\n      <td>{'AAQ', 'LED'}</td>\n      <td>170.0</td>\n    </tr>\n    <tr>\n      <th>2</th>\n      <td>{'AMS', 'ABZ'}</td>\n      <td>85.0</td>\n    </tr>\n    <tr>\n      <th>3</th>\n      <td>{'ABZ', 'LGW'}</td>\n      <td>95.0</td>\n    </tr>\n    <tr>\n      <th>4</th>\n      <td>{'ACE', 'AGP'}</td>\n      <td>130.0</td>\n    </tr>\n    <tr>\n      <th>...</th>\n      <td>...</td>\n      <td>...</td>\n    </tr>\n    <tr>\n      <th>1464</th>\n      <td>{'ZRH', 'OTP'}</td>\n      <td>150.0</td>\n    </tr>\n    <tr>\n      <th>1465</th>\n      <td>{'ZRH', 'PRN'}</td>\n      <td>127.5</td>\n    </tr>\n    <tr>\n      <th>1466</th>\n      <td>{'ZRH', 'RVN'}</td>\n      <td>205.0</td>\n    </tr>\n    <tr>\n      <th>1467</th>\n      <td>{'ZRH', 'STR'}</td>\n      <td>45.0</td>\n    </tr>\n    <tr>\n      <th>1468</th>\n      <td>{'ZTH', 'ATH'}</td>\n      <td>62.5</td>\n    </tr>\n  </tbody>\n</table>\n<p>1469 rows × 2 columns</p>\n</div>"
     },
     "execution_count": 15,
     "metadata": {},
     "output_type": "execute_result"
    }
   ],
   "source": [
    "flights.drop(flights.columns[0], axis=1, inplace=True)\n",
    "flights"
   ],
   "metadata": {
    "collapsed": false,
    "ExecuteTime": {
     "end_time": "2024-01-21T15:29:17.402160Z",
     "start_time": "2024-01-21T15:29:17.393989Z"
    }
   },
   "id": "380ba37d213b8db8",
   "execution_count": 15
  },
  {
   "cell_type": "code",
   "outputs": [
    {
     "data": {
      "text/plain": "               route   time departure airport arrival airport\n0     {'AAL', 'AMS'}   85.0               AAL             AMS\n1     {'AAQ', 'LED'}  170.0               AAQ             LED\n2     {'AMS', 'ABZ'}   85.0               AMS             ABZ\n3     {'ABZ', 'LGW'}   95.0               ABZ             LGW\n4     {'ACE', 'AGP'}  130.0               ACE             AGP\n...              ...    ...               ...             ...\n1464  {'ZRH', 'OTP'}  150.0               ZRH             OTP\n1465  {'ZRH', 'PRN'}  127.5               ZRH             PRN\n1466  {'ZRH', 'RVN'}  205.0               ZRH             RVN\n1467  {'ZRH', 'STR'}   45.0               ZRH             STR\n1468  {'ZTH', 'ATH'}   62.5               ZTH             ATH\n\n[1469 rows x 4 columns]",
      "text/html": "<div>\n<style scoped>\n    .dataframe tbody tr th:only-of-type {\n        vertical-align: middle;\n    }\n\n    .dataframe tbody tr th {\n        vertical-align: top;\n    }\n\n    .dataframe thead th {\n        text-align: right;\n    }\n</style>\n<table border=\"1\" class=\"dataframe\">\n  <thead>\n    <tr style=\"text-align: right;\">\n      <th></th>\n      <th>route</th>\n      <th>time</th>\n      <th>departure airport</th>\n      <th>arrival airport</th>\n    </tr>\n  </thead>\n  <tbody>\n    <tr>\n      <th>0</th>\n      <td>{'AAL', 'AMS'}</td>\n      <td>85.0</td>\n      <td>AAL</td>\n      <td>AMS</td>\n    </tr>\n    <tr>\n      <th>1</th>\n      <td>{'AAQ', 'LED'}</td>\n      <td>170.0</td>\n      <td>AAQ</td>\n      <td>LED</td>\n    </tr>\n    <tr>\n      <th>2</th>\n      <td>{'AMS', 'ABZ'}</td>\n      <td>85.0</td>\n      <td>AMS</td>\n      <td>ABZ</td>\n    </tr>\n    <tr>\n      <th>3</th>\n      <td>{'ABZ', 'LGW'}</td>\n      <td>95.0</td>\n      <td>ABZ</td>\n      <td>LGW</td>\n    </tr>\n    <tr>\n      <th>4</th>\n      <td>{'ACE', 'AGP'}</td>\n      <td>130.0</td>\n      <td>ACE</td>\n      <td>AGP</td>\n    </tr>\n    <tr>\n      <th>...</th>\n      <td>...</td>\n      <td>...</td>\n      <td>...</td>\n      <td>...</td>\n    </tr>\n    <tr>\n      <th>1464</th>\n      <td>{'ZRH', 'OTP'}</td>\n      <td>150.0</td>\n      <td>ZRH</td>\n      <td>OTP</td>\n    </tr>\n    <tr>\n      <th>1465</th>\n      <td>{'ZRH', 'PRN'}</td>\n      <td>127.5</td>\n      <td>ZRH</td>\n      <td>PRN</td>\n    </tr>\n    <tr>\n      <th>1466</th>\n      <td>{'ZRH', 'RVN'}</td>\n      <td>205.0</td>\n      <td>ZRH</td>\n      <td>RVN</td>\n    </tr>\n    <tr>\n      <th>1467</th>\n      <td>{'ZRH', 'STR'}</td>\n      <td>45.0</td>\n      <td>ZRH</td>\n      <td>STR</td>\n    </tr>\n    <tr>\n      <th>1468</th>\n      <td>{'ZTH', 'ATH'}</td>\n      <td>62.5</td>\n      <td>ZTH</td>\n      <td>ATH</td>\n    </tr>\n  </tbody>\n</table>\n<p>1469 rows × 4 columns</p>\n</div>"
     },
     "execution_count": 16,
     "metadata": {},
     "output_type": "execute_result"
    }
   ],
   "source": [
    "flights['departure airport'] = flights['route'].apply(lambda x: x.split(',')[0].strip(\"{'\"))\n",
    "flights['arrival airport'] = flights['route'].apply(lambda x: x.split(',')[1].strip(\" }'\"))\n",
    "flights"
   ],
   "metadata": {
    "collapsed": false,
    "ExecuteTime": {
     "end_time": "2024-01-21T15:29:17.410677Z",
     "start_time": "2024-01-21T15:29:17.402039Z"
    }
   },
   "id": "b9fdb607bf3f06e5",
   "execution_count": 16
  },
  {
   "cell_type": "markdown",
   "source": [
    "## Import airport codes"
   ],
   "metadata": {
    "collapsed": false
   },
   "id": "16cd8bff1ea71928"
  },
  {
   "cell_type": "code",
   "outputs": [
    {
     "data": {
      "text/plain": "           id    ident           type                       name  \\\n0        6523      00A       heliport          Total RF Heliport   \n1      323361     00AA  small_airport       Aero B Ranch Airport   \n2        6524     00AK  small_airport               Lowell Field   \n3        6525     00AL  small_airport               Epps Airpark   \n4      506791     00AN  small_airport       Katmai Lodge Airport   \n...       ...      ...            ...                        ...   \n78148   46378  ZZ-0001       heliport            Sealand Helipad   \n78149  307326  ZZ-0002  small_airport  Glorioso Islands Airstrip   \n78150  346788  ZZ-0003  small_airport      Fainting Goat Airport   \n78151  342102     ZZZW         closed     Scandium City Heliport   \n78152  313629     ZZZZ  small_airport     Satsuma Iōjima Airport   \n\n       latitude_deg  longitude_deg  elevation_ft continent iso_country  \\\n0         40.070985     -74.933689          11.0       NaN          US   \n1         38.704022    -101.473911        3435.0       NaN          US   \n2         59.947733    -151.692524         450.0       NaN          US   \n3         34.864799     -86.770302         820.0       NaN          US   \n4         59.093287    -156.456699          80.0       NaN          US   \n...             ...            ...           ...       ...         ...   \n78148     51.894444       1.482500          40.0        EU          GB   \n78149    -11.584278      47.296389          11.0        AF          TF   \n78150     32.110587     -97.356312         690.0       NaN          US   \n78151     69.355287    -138.939310           4.0       NaN          CA   \n78152     30.784722     130.270556         338.0        AS          JP   \n\n      iso_region         municipality scheduled_service gps_code iata_code  \\\n0          US-PA             Bensalem                no     K00A       NaN   \n1          US-KS                Leoti                no     00AA       NaN   \n2          US-AK         Anchor Point                no     00AK       NaN   \n3          US-AL              Harvest                no     00AL       NaN   \n4          US-AK          King Salmon                no     00AN       NaN   \n...          ...                  ...               ...      ...       ...   \n78148     GB-ENG              Sealand                no      NaN       NaN   \n78149     TF-U-A     Grande Glorieuse                no      NaN       NaN   \n78150      US-TX                 Blum                no     87TX       NaN   \n78151      CA-YT  (Old) Scandium City                no      NaN       NaN   \n78152      JP-46              Mishima                no     RJX7       NaN   \n\n      local_code                                          home_link  \\\n0            00A  https://www.penndot.pa.gov/TravelInPA/airports...   \n1           00AA                                                NaN   \n2           00AK                                                NaN   \n3           00AL                                                NaN   \n4           00AN                                                NaN   \n...          ...                                                ...   \n78148        NaN                         http://www.sealandgov.org/   \n78149        NaN                                                NaN   \n78150       87TX                                                NaN   \n78151        NaN                                                NaN   \n78152       RJX7                                                NaN   \n\n                                          wikipedia_link  \\\n0                                                    NaN   \n1                                                    NaN   \n2                                                    NaN   \n3                                                    NaN   \n4                                                    NaN   \n...                                                  ...   \n78148  https://en.wikipedia.org/wiki/Principality_of_...   \n78149                                                NaN   \n78150                                                NaN   \n78151                                                NaN   \n78152  http://wikimapia.org/6705190/Satsuma-Iwo-jima-...   \n\n                    keywords  \n0                        NaN  \n1                        NaN  \n2                        NaN  \n3                        NaN  \n4                        NaN  \n...                      ...  \n78148   Roughs Tower Helipad  \n78149                    NaN  \n78150                    NaN  \n78151  ZZZW, ZZZW, ZYW, YK96  \n78152   SATSUMA,IWOJIMA,RJX7  \n\n[78153 rows x 18 columns]",
      "text/html": "<div>\n<style scoped>\n    .dataframe tbody tr th:only-of-type {\n        vertical-align: middle;\n    }\n\n    .dataframe tbody tr th {\n        vertical-align: top;\n    }\n\n    .dataframe thead th {\n        text-align: right;\n    }\n</style>\n<table border=\"1\" class=\"dataframe\">\n  <thead>\n    <tr style=\"text-align: right;\">\n      <th></th>\n      <th>id</th>\n      <th>ident</th>\n      <th>type</th>\n      <th>name</th>\n      <th>latitude_deg</th>\n      <th>longitude_deg</th>\n      <th>elevation_ft</th>\n      <th>continent</th>\n      <th>iso_country</th>\n      <th>iso_region</th>\n      <th>municipality</th>\n      <th>scheduled_service</th>\n      <th>gps_code</th>\n      <th>iata_code</th>\n      <th>local_code</th>\n      <th>home_link</th>\n      <th>wikipedia_link</th>\n      <th>keywords</th>\n    </tr>\n  </thead>\n  <tbody>\n    <tr>\n      <th>0</th>\n      <td>6523</td>\n      <td>00A</td>\n      <td>heliport</td>\n      <td>Total RF Heliport</td>\n      <td>40.070985</td>\n      <td>-74.933689</td>\n      <td>11.0</td>\n      <td>NaN</td>\n      <td>US</td>\n      <td>US-PA</td>\n      <td>Bensalem</td>\n      <td>no</td>\n      <td>K00A</td>\n      <td>NaN</td>\n      <td>00A</td>\n      <td>https://www.penndot.pa.gov/TravelInPA/airports...</td>\n      <td>NaN</td>\n      <td>NaN</td>\n    </tr>\n    <tr>\n      <th>1</th>\n      <td>323361</td>\n      <td>00AA</td>\n      <td>small_airport</td>\n      <td>Aero B Ranch Airport</td>\n      <td>38.704022</td>\n      <td>-101.473911</td>\n      <td>3435.0</td>\n      <td>NaN</td>\n      <td>US</td>\n      <td>US-KS</td>\n      <td>Leoti</td>\n      <td>no</td>\n      <td>00AA</td>\n      <td>NaN</td>\n      <td>00AA</td>\n      <td>NaN</td>\n      <td>NaN</td>\n      <td>NaN</td>\n    </tr>\n    <tr>\n      <th>2</th>\n      <td>6524</td>\n      <td>00AK</td>\n      <td>small_airport</td>\n      <td>Lowell Field</td>\n      <td>59.947733</td>\n      <td>-151.692524</td>\n      <td>450.0</td>\n      <td>NaN</td>\n      <td>US</td>\n      <td>US-AK</td>\n      <td>Anchor Point</td>\n      <td>no</td>\n      <td>00AK</td>\n      <td>NaN</td>\n      <td>00AK</td>\n      <td>NaN</td>\n      <td>NaN</td>\n      <td>NaN</td>\n    </tr>\n    <tr>\n      <th>3</th>\n      <td>6525</td>\n      <td>00AL</td>\n      <td>small_airport</td>\n      <td>Epps Airpark</td>\n      <td>34.864799</td>\n      <td>-86.770302</td>\n      <td>820.0</td>\n      <td>NaN</td>\n      <td>US</td>\n      <td>US-AL</td>\n      <td>Harvest</td>\n      <td>no</td>\n      <td>00AL</td>\n      <td>NaN</td>\n      <td>00AL</td>\n      <td>NaN</td>\n      <td>NaN</td>\n      <td>NaN</td>\n    </tr>\n    <tr>\n      <th>4</th>\n      <td>506791</td>\n      <td>00AN</td>\n      <td>small_airport</td>\n      <td>Katmai Lodge Airport</td>\n      <td>59.093287</td>\n      <td>-156.456699</td>\n      <td>80.0</td>\n      <td>NaN</td>\n      <td>US</td>\n      <td>US-AK</td>\n      <td>King Salmon</td>\n      <td>no</td>\n      <td>00AN</td>\n      <td>NaN</td>\n      <td>00AN</td>\n      <td>NaN</td>\n      <td>NaN</td>\n      <td>NaN</td>\n    </tr>\n    <tr>\n      <th>...</th>\n      <td>...</td>\n      <td>...</td>\n      <td>...</td>\n      <td>...</td>\n      <td>...</td>\n      <td>...</td>\n      <td>...</td>\n      <td>...</td>\n      <td>...</td>\n      <td>...</td>\n      <td>...</td>\n      <td>...</td>\n      <td>...</td>\n      <td>...</td>\n      <td>...</td>\n      <td>...</td>\n      <td>...</td>\n      <td>...</td>\n    </tr>\n    <tr>\n      <th>78148</th>\n      <td>46378</td>\n      <td>ZZ-0001</td>\n      <td>heliport</td>\n      <td>Sealand Helipad</td>\n      <td>51.894444</td>\n      <td>1.482500</td>\n      <td>40.0</td>\n      <td>EU</td>\n      <td>GB</td>\n      <td>GB-ENG</td>\n      <td>Sealand</td>\n      <td>no</td>\n      <td>NaN</td>\n      <td>NaN</td>\n      <td>NaN</td>\n      <td>http://www.sealandgov.org/</td>\n      <td>https://en.wikipedia.org/wiki/Principality_of_...</td>\n      <td>Roughs Tower Helipad</td>\n    </tr>\n    <tr>\n      <th>78149</th>\n      <td>307326</td>\n      <td>ZZ-0002</td>\n      <td>small_airport</td>\n      <td>Glorioso Islands Airstrip</td>\n      <td>-11.584278</td>\n      <td>47.296389</td>\n      <td>11.0</td>\n      <td>AF</td>\n      <td>TF</td>\n      <td>TF-U-A</td>\n      <td>Grande Glorieuse</td>\n      <td>no</td>\n      <td>NaN</td>\n      <td>NaN</td>\n      <td>NaN</td>\n      <td>NaN</td>\n      <td>NaN</td>\n      <td>NaN</td>\n    </tr>\n    <tr>\n      <th>78150</th>\n      <td>346788</td>\n      <td>ZZ-0003</td>\n      <td>small_airport</td>\n      <td>Fainting Goat Airport</td>\n      <td>32.110587</td>\n      <td>-97.356312</td>\n      <td>690.0</td>\n      <td>NaN</td>\n      <td>US</td>\n      <td>US-TX</td>\n      <td>Blum</td>\n      <td>no</td>\n      <td>87TX</td>\n      <td>NaN</td>\n      <td>87TX</td>\n      <td>NaN</td>\n      <td>NaN</td>\n      <td>NaN</td>\n    </tr>\n    <tr>\n      <th>78151</th>\n      <td>342102</td>\n      <td>ZZZW</td>\n      <td>closed</td>\n      <td>Scandium City Heliport</td>\n      <td>69.355287</td>\n      <td>-138.939310</td>\n      <td>4.0</td>\n      <td>NaN</td>\n      <td>CA</td>\n      <td>CA-YT</td>\n      <td>(Old) Scandium City</td>\n      <td>no</td>\n      <td>NaN</td>\n      <td>NaN</td>\n      <td>NaN</td>\n      <td>NaN</td>\n      <td>NaN</td>\n      <td>ZZZW, ZZZW, ZYW, YK96</td>\n    </tr>\n    <tr>\n      <th>78152</th>\n      <td>313629</td>\n      <td>ZZZZ</td>\n      <td>small_airport</td>\n      <td>Satsuma Iōjima Airport</td>\n      <td>30.784722</td>\n      <td>130.270556</td>\n      <td>338.0</td>\n      <td>AS</td>\n      <td>JP</td>\n      <td>JP-46</td>\n      <td>Mishima</td>\n      <td>no</td>\n      <td>RJX7</td>\n      <td>NaN</td>\n      <td>RJX7</td>\n      <td>NaN</td>\n      <td>http://wikimapia.org/6705190/Satsuma-Iwo-jima-...</td>\n      <td>SATSUMA,IWOJIMA,RJX7</td>\n    </tr>\n  </tbody>\n</table>\n<p>78153 rows × 18 columns</p>\n</div>"
     },
     "execution_count": 17,
     "metadata": {},
     "output_type": "execute_result"
    }
   ],
   "source": [
    "# new dataset, which is the same but without the encoding error:\n",
    "airports = pd.read_csv('./datasets/fixed-airports-codes.csv')\n",
    "airports"
   ],
   "metadata": {
    "collapsed": false,
    "ExecuteTime": {
     "end_time": "2024-01-21T15:29:17.691538Z",
     "start_time": "2024-01-21T15:29:17.405927Z"
    }
   },
   "id": "3edcc758d018dbe1",
   "execution_count": 17
  },
  {
   "cell_type": "code",
   "outputs": [],
   "source": [
    "# airports = pd.read_csv('./datasets/airport-codes.csv')\n",
    "# airports"
   ],
   "metadata": {
    "collapsed": false,
    "ExecuteTime": {
     "end_time": "2024-01-21T15:29:17.692002Z",
     "start_time": "2024-01-21T15:29:17.600694Z"
    }
   },
   "id": "a60bd43312a1859a",
   "execution_count": 18
  },
  {
   "cell_type": "code",
   "outputs": [
    {
     "data": {
      "text/plain": "      iata_code         municipality\n0           NaN             Bensalem\n1           NaN                Leoti\n2           NaN         Anchor Point\n3           NaN              Harvest\n4           NaN          King Salmon\n...         ...                  ...\n78148       NaN              Sealand\n78149       NaN     Grande Glorieuse\n78150       NaN                 Blum\n78151       NaN  (Old) Scandium City\n78152       NaN              Mishima\n\n[78153 rows x 2 columns]",
      "text/html": "<div>\n<style scoped>\n    .dataframe tbody tr th:only-of-type {\n        vertical-align: middle;\n    }\n\n    .dataframe tbody tr th {\n        vertical-align: top;\n    }\n\n    .dataframe thead th {\n        text-align: right;\n    }\n</style>\n<table border=\"1\" class=\"dataframe\">\n  <thead>\n    <tr style=\"text-align: right;\">\n      <th></th>\n      <th>iata_code</th>\n      <th>municipality</th>\n    </tr>\n  </thead>\n  <tbody>\n    <tr>\n      <th>0</th>\n      <td>NaN</td>\n      <td>Bensalem</td>\n    </tr>\n    <tr>\n      <th>1</th>\n      <td>NaN</td>\n      <td>Leoti</td>\n    </tr>\n    <tr>\n      <th>2</th>\n      <td>NaN</td>\n      <td>Anchor Point</td>\n    </tr>\n    <tr>\n      <th>3</th>\n      <td>NaN</td>\n      <td>Harvest</td>\n    </tr>\n    <tr>\n      <th>4</th>\n      <td>NaN</td>\n      <td>King Salmon</td>\n    </tr>\n    <tr>\n      <th>...</th>\n      <td>...</td>\n      <td>...</td>\n    </tr>\n    <tr>\n      <th>78148</th>\n      <td>NaN</td>\n      <td>Sealand</td>\n    </tr>\n    <tr>\n      <th>78149</th>\n      <td>NaN</td>\n      <td>Grande Glorieuse</td>\n    </tr>\n    <tr>\n      <th>78150</th>\n      <td>NaN</td>\n      <td>Blum</td>\n    </tr>\n    <tr>\n      <th>78151</th>\n      <td>NaN</td>\n      <td>(Old) Scandium City</td>\n    </tr>\n    <tr>\n      <th>78152</th>\n      <td>NaN</td>\n      <td>Mishima</td>\n    </tr>\n  </tbody>\n</table>\n<p>78153 rows × 2 columns</p>\n</div>"
     },
     "execution_count": 19,
     "metadata": {},
     "output_type": "execute_result"
    }
   ],
   "source": [
    "cities = airports[['iata_code', 'municipality']]\n",
    "cities"
   ],
   "metadata": {
    "collapsed": false,
    "ExecuteTime": {
     "end_time": "2024-01-21T15:29:17.692874Z",
     "start_time": "2024-01-21T15:29:17.603383Z"
    }
   },
   "id": "49860ddb61aa7de2",
   "execution_count": 19
  },
  {
   "cell_type": "code",
   "outputs": [
    {
     "data": {
      "text/plain": "               route   time departure airport arrival airport  departure city  \\\n0     {'AAL', 'AMS'}   85.0               AAL             AMS         Aalborg   \n1     {'AAQ', 'LED'}  170.0               AAQ             LED  Krasnyi Kurgan   \n2     {'AMS', 'ABZ'}   85.0               AMS             ABZ       Amsterdam   \n3     {'ABZ', 'LGW'}   95.0               ABZ             LGW        Aberdeen   \n4     {'ACE', 'AGP'}  130.0               ACE             AGP   San Bartolomé   \n...              ...    ...               ...             ...             ...   \n1464  {'ZRH', 'OTP'}  150.0               ZRH             OTP          Zurich   \n1465  {'ZRH', 'PRN'}  127.5               ZRH             PRN          Zurich   \n1466  {'ZRH', 'RVN'}  205.0               ZRH             RVN          Zurich   \n1467  {'ZRH', 'STR'}   45.0               ZRH             STR          Zurich   \n1468  {'ZTH', 'ATH'}   62.5               ZTH             ATH       Zakynthos   \n\n         arrival city  \n0           Amsterdam  \n1      St. Petersburg  \n2            Aberdeen  \n3     Gatwick, Surrey  \n4              Málaga  \n...               ...  \n1464          Otopeni  \n1465        Prishtina  \n1466        Rovaniemi  \n1467        Stuttgart  \n1468   Spata-Artemida  \n\n[1469 rows x 6 columns]",
      "text/html": "<div>\n<style scoped>\n    .dataframe tbody tr th:only-of-type {\n        vertical-align: middle;\n    }\n\n    .dataframe tbody tr th {\n        vertical-align: top;\n    }\n\n    .dataframe thead th {\n        text-align: right;\n    }\n</style>\n<table border=\"1\" class=\"dataframe\">\n  <thead>\n    <tr style=\"text-align: right;\">\n      <th></th>\n      <th>route</th>\n      <th>time</th>\n      <th>departure airport</th>\n      <th>arrival airport</th>\n      <th>departure city</th>\n      <th>arrival city</th>\n    </tr>\n  </thead>\n  <tbody>\n    <tr>\n      <th>0</th>\n      <td>{'AAL', 'AMS'}</td>\n      <td>85.0</td>\n      <td>AAL</td>\n      <td>AMS</td>\n      <td>Aalborg</td>\n      <td>Amsterdam</td>\n    </tr>\n    <tr>\n      <th>1</th>\n      <td>{'AAQ', 'LED'}</td>\n      <td>170.0</td>\n      <td>AAQ</td>\n      <td>LED</td>\n      <td>Krasnyi Kurgan</td>\n      <td>St. Petersburg</td>\n    </tr>\n    <tr>\n      <th>2</th>\n      <td>{'AMS', 'ABZ'}</td>\n      <td>85.0</td>\n      <td>AMS</td>\n      <td>ABZ</td>\n      <td>Amsterdam</td>\n      <td>Aberdeen</td>\n    </tr>\n    <tr>\n      <th>3</th>\n      <td>{'ABZ', 'LGW'}</td>\n      <td>95.0</td>\n      <td>ABZ</td>\n      <td>LGW</td>\n      <td>Aberdeen</td>\n      <td>Gatwick, Surrey</td>\n    </tr>\n    <tr>\n      <th>4</th>\n      <td>{'ACE', 'AGP'}</td>\n      <td>130.0</td>\n      <td>ACE</td>\n      <td>AGP</td>\n      <td>San Bartolomé</td>\n      <td>Málaga</td>\n    </tr>\n    <tr>\n      <th>...</th>\n      <td>...</td>\n      <td>...</td>\n      <td>...</td>\n      <td>...</td>\n      <td>...</td>\n      <td>...</td>\n    </tr>\n    <tr>\n      <th>1464</th>\n      <td>{'ZRH', 'OTP'}</td>\n      <td>150.0</td>\n      <td>ZRH</td>\n      <td>OTP</td>\n      <td>Zurich</td>\n      <td>Otopeni</td>\n    </tr>\n    <tr>\n      <th>1465</th>\n      <td>{'ZRH', 'PRN'}</td>\n      <td>127.5</td>\n      <td>ZRH</td>\n      <td>PRN</td>\n      <td>Zurich</td>\n      <td>Prishtina</td>\n    </tr>\n    <tr>\n      <th>1466</th>\n      <td>{'ZRH', 'RVN'}</td>\n      <td>205.0</td>\n      <td>ZRH</td>\n      <td>RVN</td>\n      <td>Zurich</td>\n      <td>Rovaniemi</td>\n    </tr>\n    <tr>\n      <th>1467</th>\n      <td>{'ZRH', 'STR'}</td>\n      <td>45.0</td>\n      <td>ZRH</td>\n      <td>STR</td>\n      <td>Zurich</td>\n      <td>Stuttgart</td>\n    </tr>\n    <tr>\n      <th>1468</th>\n      <td>{'ZTH', 'ATH'}</td>\n      <td>62.5</td>\n      <td>ZTH</td>\n      <td>ATH</td>\n      <td>Zakynthos</td>\n      <td>Spata-Artemida</td>\n    </tr>\n  </tbody>\n</table>\n<p>1469 rows × 6 columns</p>\n</div>"
     },
     "execution_count": 20,
     "metadata": {},
     "output_type": "execute_result"
    }
   ],
   "source": [
    "# add departure city names\n",
    "flights = pd.merge(flights, cities, left_on='departure airport', right_on='iata_code', how='left')\n",
    "# remove the redundant column\n",
    "flights.drop('iata_code', axis=1, inplace=True)\n",
    "# rename the column\n",
    "flights.rename(columns={'municipality': 'departure city'}, inplace=True)\n",
    "# add arrival city names\n",
    "flights = pd.merge(flights, cities, left_on='arrival airport', right_on='iata_code', how='left')\n",
    "# remove the redundant column\n",
    "flights.drop('iata_code', axis=1, inplace=True)\n",
    "# rename the column\n",
    "flights.rename(columns={'municipality': 'arrival city'}, inplace=True)\n",
    "flights"
   ],
   "metadata": {
    "collapsed": false,
    "ExecuteTime": {
     "end_time": "2024-01-21T15:29:17.693909Z",
     "start_time": "2024-01-21T15:29:17.615302Z"
    }
   },
   "id": "5868dab6458a6101",
   "execution_count": 20
  },
  {
   "cell_type": "markdown",
   "source": [
    "Does the 'municipality' variable refer to the actual administrative division that the airport is located in, or the big city it's next to? Let's check."
   ],
   "metadata": {
    "collapsed": false
   },
   "id": "4c7417e8a924ed3d"
  },
  {
   "cell_type": "code",
   "outputs": [
    {
     "data": {
      "text/plain": "               route   time departure airport arrival airport departure city  \\\n698   {'LHR', 'ABZ'}   95.0               LHR             ABZ         London   \n699   {'LHR', 'AGP'}  185.0               LHR             AGP         London   \n700   {'LHR', 'AMS'}   85.0               LHR             AMS         London   \n701   {'LHR', 'ARN'}  160.0               LHR             ARN         London   \n702   {'LHR', 'ATH'}  245.0               LHR             ATH         London   \n...              ...    ...               ...             ...            ...   \n1201  {'STN', 'VRN'}  122.5               STN             VRN         London   \n1202  {'STN', 'WMI'}  135.0               STN             WMI         London   \n1203  {'STN', 'WRO'}  125.0               STN             WRO         London   \n1204  {'STN', 'ZAG'}  135.0               STN             ZAG         London   \n1205  {'STN', 'ZAZ'}  132.5               STN             ZAZ         London   \n\n        arrival city  \n698         Aberdeen  \n699           Málaga  \n700        Amsterdam  \n701        Stockholm  \n702   Spata-Artemida  \n...              ...  \n1201    Caselle (VR)  \n1202          Warsaw  \n1203         Wrocław  \n1204          Zagreb  \n1205        Zaragoza  \n\n[93 rows x 6 columns]",
      "text/html": "<div>\n<style scoped>\n    .dataframe tbody tr th:only-of-type {\n        vertical-align: middle;\n    }\n\n    .dataframe tbody tr th {\n        vertical-align: top;\n    }\n\n    .dataframe thead th {\n        text-align: right;\n    }\n</style>\n<table border=\"1\" class=\"dataframe\">\n  <thead>\n    <tr style=\"text-align: right;\">\n      <th></th>\n      <th>route</th>\n      <th>time</th>\n      <th>departure airport</th>\n      <th>arrival airport</th>\n      <th>departure city</th>\n      <th>arrival city</th>\n    </tr>\n  </thead>\n  <tbody>\n    <tr>\n      <th>698</th>\n      <td>{'LHR', 'ABZ'}</td>\n      <td>95.0</td>\n      <td>LHR</td>\n      <td>ABZ</td>\n      <td>London</td>\n      <td>Aberdeen</td>\n    </tr>\n    <tr>\n      <th>699</th>\n      <td>{'LHR', 'AGP'}</td>\n      <td>185.0</td>\n      <td>LHR</td>\n      <td>AGP</td>\n      <td>London</td>\n      <td>Málaga</td>\n    </tr>\n    <tr>\n      <th>700</th>\n      <td>{'LHR', 'AMS'}</td>\n      <td>85.0</td>\n      <td>LHR</td>\n      <td>AMS</td>\n      <td>London</td>\n      <td>Amsterdam</td>\n    </tr>\n    <tr>\n      <th>701</th>\n      <td>{'LHR', 'ARN'}</td>\n      <td>160.0</td>\n      <td>LHR</td>\n      <td>ARN</td>\n      <td>London</td>\n      <td>Stockholm</td>\n    </tr>\n    <tr>\n      <th>702</th>\n      <td>{'LHR', 'ATH'}</td>\n      <td>245.0</td>\n      <td>LHR</td>\n      <td>ATH</td>\n      <td>London</td>\n      <td>Spata-Artemida</td>\n    </tr>\n    <tr>\n      <th>...</th>\n      <td>...</td>\n      <td>...</td>\n      <td>...</td>\n      <td>...</td>\n      <td>...</td>\n      <td>...</td>\n    </tr>\n    <tr>\n      <th>1201</th>\n      <td>{'STN', 'VRN'}</td>\n      <td>122.5</td>\n      <td>STN</td>\n      <td>VRN</td>\n      <td>London</td>\n      <td>Caselle (VR)</td>\n    </tr>\n    <tr>\n      <th>1202</th>\n      <td>{'STN', 'WMI'}</td>\n      <td>135.0</td>\n      <td>STN</td>\n      <td>WMI</td>\n      <td>London</td>\n      <td>Warsaw</td>\n    </tr>\n    <tr>\n      <th>1203</th>\n      <td>{'STN', 'WRO'}</td>\n      <td>125.0</td>\n      <td>STN</td>\n      <td>WRO</td>\n      <td>London</td>\n      <td>Wrocław</td>\n    </tr>\n    <tr>\n      <th>1204</th>\n      <td>{'STN', 'ZAG'}</td>\n      <td>135.0</td>\n      <td>STN</td>\n      <td>ZAG</td>\n      <td>London</td>\n      <td>Zagreb</td>\n    </tr>\n    <tr>\n      <th>1205</th>\n      <td>{'STN', 'ZAZ'}</td>\n      <td>132.5</td>\n      <td>STN</td>\n      <td>ZAZ</td>\n      <td>London</td>\n      <td>Zaragoza</td>\n    </tr>\n  </tbody>\n</table>\n<p>93 rows × 6 columns</p>\n</div>"
     },
     "execution_count": 21,
     "metadata": {},
     "output_type": "execute_result"
    }
   ],
   "source": [
    "flights[flights['departure city'].str.contains('London')]"
   ],
   "metadata": {
    "collapsed": false,
    "ExecuteTime": {
     "end_time": "2024-01-21T15:29:17.702479Z",
     "start_time": "2024-01-21T15:29:17.633622Z"
    }
   },
   "id": "5c478e773e03a42e",
   "execution_count": 21
  },
  {
   "cell_type": "markdown",
   "source": [],
   "metadata": {
    "collapsed": false
   },
   "id": "a9eea938157307c"
  },
  {
   "cell_type": "markdown",
   "source": [
    "Now we need to check that the train and plane datasets are using the same city names. We'll do this by checking that the city names in the plane dataset are a subset of the city names in the train dataset."
   ],
   "metadata": {
    "collapsed": false
   },
   "id": "d46d875dbf588f83"
  },
  {
   "cell_type": "code",
   "outputs": [
    {
     "name": "stdout",
     "output_type": "stream",
     "text": [
      "Number of cities in the trains dataset: 799\n"
     ]
    },
    {
     "data": {
      "text/plain": "{\"'s-Hertogenbosch\",\n 'A Coruña',\n 'Aachen',\n 'Aalborg',\n 'Aberdeen',\n 'Acerra',\n 'Acireale',\n 'Aix-en-Provence',\n 'Albacete',\n 'Alcalá de Guadaíra',\n 'Alcalá de Henares',\n 'Alcoi/Alcoy',\n 'Aldwick / Felpham',\n 'Alessandria',\n 'Algeciras',\n 'Alicante/Alacant',\n 'Alkmaar',\n 'Almada',\n 'Almelo',\n 'Almere',\n 'Almería',\n 'Alphen aan den Rijn',\n 'Altamura',\n 'Amersfoort',\n 'Amiens',\n 'Amora',\n 'Amsterdam',\n 'Ancona',\n 'Andria',\n 'Angers',\n 'Annecy',\n 'Antibes',\n 'Antwerpen',\n 'Anzio / Nettuno',\n 'Apeldoorn',\n 'Arad',\n 'Arcozelo / Espinho',\n 'Arezzo',\n 'Arnhem',\n 'Arras',\n 'Ashford',\n 'Assen',\n 'Asti',\n 'Augsburg',\n 'Avellino',\n 'Avignon',\n 'Avilés',\n 'Aylesbury',\n 'Ayr / Prestwick',\n 'Bacău',\n 'Bad Soden am Taunus / Kelkheim',\n 'Badajoz',\n 'Bagheria',\n 'Baia Mare',\n 'Bamberg',\n 'Bangor',\n 'Banská Bystrica',\n 'Barcelona',\n 'Bari',\n 'Barletta',\n 'Barnsley',\n 'Barreiro',\n 'Basel',\n 'Basildon',\n 'Basingstoke and Deane',\n 'Bath',\n 'Battipaglia',\n 'Bayonne',\n 'Bayreuth',\n 'Bedford',\n 'Belchatow',\n 'Belfast',\n 'Belfort',\n 'Benidorm',\n 'Benrath',\n 'Bergamo',\n 'Bergen op Zoom',\n 'Berlin',\n 'Bern',\n 'Besançon',\n 'Beverwijk/Heemskerk',\n 'Białystok',\n 'Biel/Bienne',\n 'Bielefeld',\n 'Bielsko-Biała',\n 'Bilbao',\n 'Birmingham',\n 'Bisceglie',\n 'Bistrita',\n 'Bitonto',\n 'Blackburn with Darwen',\n 'Blackpool',\n 'Blagoevgrad',\n 'Blanchardstown',\n 'Blantyre / Hamilton',\n 'Bocholt',\n 'Bologna',\n 'Bolzano',\n 'Bonn',\n 'Borås',\n 'Botoşani',\n 'Boulogne-sur-mer',\n 'Bourges',\n 'Bournemouth',\n 'Bracknell',\n 'Braga',\n 'Bratislava',\n 'Braunschweig',\n 'Braşov',\n 'Breda',\n 'Bregenz',\n 'Bremen',\n 'Bremerhaven',\n 'Brescia',\n 'Brest',\n 'Brighton',\n 'Brindisi',\n 'Bristol',\n 'Brno',\n 'Brugge',\n 'Bruxelles / Brussel',\n 'Brăila',\n 'Bucureşti',\n 'Budapest',\n 'Burgas',\n 'Burgos',\n 'Burnley',\n 'Burton-on-Trent',\n 'Busto Arsizio',\n 'Buzău',\n 'Bydgoszcz',\n 'Bârlad',\n 'Béziers',\n 'Caen',\n 'Calais',\n 'Cambridge',\n 'Cannes',\n 'Cannock / Hednesford',\n 'Cardiff',\n 'Carlisle',\n 'Carpi',\n 'Cartagena',\n 'Caserta',\n 'Castelldefels',\n 'Castellón de la Plana/Castelló de la Plana',\n 'Catania',\n 'Cergy-Pontoise',\n 'Cerignola',\n 'Chambery',\n 'Charleroi',\n 'Chartres',\n 'Chelmsford',\n 'Cheltenham',\n 'Chemnitz',\n 'Cherbourg',\n 'Chester',\n 'Chesterfield',\n 'Chełm',\n 'Chiclana de la Frontera',\n 'Chomutov / Jirkov',\n 'Ciudad Real',\n 'Clermont-Ferrand',\n 'Cluj-Napoca',\n 'Coatbridge',\n 'Coimbra',\n 'Colchester',\n 'Collado Villalba',\n 'Colmar',\n 'Como',\n 'Constanţa',\n 'Corby',\n 'Cork',\n 'Coslada',\n 'Cottbus',\n 'Coventry',\n 'Craiova',\n 'Crawley',\n 'Creil',\n 'Cremona',\n 'Crewe',\n 'Cuenca',\n 'Częstochowa',\n 'Cáceres',\n 'Cádiz',\n 'Córdoba',\n 'Călărași',\n 'Dacorum',\n 'Darlington',\n 'Darmstadt',\n 'Debrecen',\n 'Delmenhorst',\n 'Den Haag',\n 'Derby',\n 'Derry',\n 'Deva',\n 'Deventer',\n 'Dijon',\n 'Dobrich',\n 'Doncaster',\n 'Dordrecht',\n 'Dos Hermanas',\n 'Douai',\n 'Dresden',\n 'Drobeta-Turnu Severin',\n 'Dublin',\n 'Duisburg',\n 'Dundee City',\n 'Dunkerque',\n 'Düren',\n 'Düsseldorf',\n 'East Kilbride',\n 'Eastbourne',\n 'Eastleigh',\n 'Ede',\n 'Edinburgh',\n 'Eindhoven',\n \"El Port de Sagunt / Canet d'En Berenguer\",\n 'El Prat de Llobregat',\n 'Elbląg',\n 'Elche/Elx',\n 'Elda',\n 'Ellesmere Port',\n 'Enschede',\n 'Erfurt',\n 'Erlangen',\n 'Esslingen am Neckar',\n 'Exeter',\n 'Ełk',\n 'Falkirk',\n 'Ferrara',\n 'Ferrol',\n 'Firenze',\n 'Flensburg',\n 'Focşani',\n 'Foggia',\n 'Forlì',\n 'Frankfurt (Oder)',\n 'Frankfurt am Main',\n 'Freiburg im Breisgau',\n 'Fribourg',\n 'Frimley / Farnborough',\n 'Fréjus',\n 'Fuengirola',\n 'Fuenlabrada',\n 'Fürth',\n 'Galaţi',\n 'Gallarate',\n 'Gandia',\n 'Gdańsk',\n 'Gdynia',\n 'Gela',\n 'Genova',\n 'Gent',\n 'Genève',\n 'Gera',\n 'Gevelsberg / Schwelm',\n 'Gießen',\n 'Gijón',\n 'Girona',\n 'Giurgiu',\n 'Glasgow',\n 'Gliwice',\n 'Gloucester',\n 'Gniezno',\n 'Gorzów Wielkopolski',\n 'Gouda',\n 'Granada',\n 'Granollers',\n 'Gravesham',\n 'Graz',\n 'Great Yarmouth',\n 'Greater Manchester',\n 'Greater Nottingham',\n 'Grenoble',\n 'Greve / Ishøj',\n 'Grimsby / Cleethorpes',\n 'Groningen',\n 'Grosseto',\n 'Grudziądz',\n 'Gröpelingen / Vegesack',\n 'Guadalajara',\n 'Guildford',\n 'Gyõr',\n 'Górnośląski Związek Metropolitalny',\n 'Göppingen',\n 'Görlitz',\n 'Göteborg',\n 'Göttingen',\n 'Gütersloh',\n 'Głogów',\n 'Haarlem',\n 'Haarlemmermeer',\n 'Hagen',\n 'Halifax',\n 'Halle an der Saale',\n 'Halton',\n 'Hamburg',\n 'Hamm',\n 'Hanau',\n 'Haninge',\n 'Hannover',\n 'Harburg',\n 'Harlow',\n 'Harrogate',\n 'Hartlepool',\n 'Haskovo',\n 'Hastings',\n 'Haunstetten',\n 'Havířov',\n 'Heerlen',\n 'Heidelberg',\n 'Heilbronn',\n 'Helmond',\n 'Helsingborg',\n 'Helsinki',\n 'Hengelo',\n 'Hereford',\n 'Herzogenrath',\n 'Hildesheim',\n 'Hilversum',\n 'Hoorn',\n 'Hrabuvka',\n 'Hradec Králové',\n 'Huddersfield',\n 'Huelva',\n 'Hunedoara',\n 'Hyndburn',\n 'Iaşi',\n 'Igualada',\n 'Ingolstadt',\n 'Innsbruck',\n 'Inowrocław',\n 'Ipswich',\n 'Irun',\n 'Iserlohn',\n 'Jastrzębie-Zdrój',\n 'Jaén',\n 'Jelenia Góra',\n 'Jena',\n 'Jerez de la Frontera',\n 'Jyväskylä',\n 'Kaiserslautern',\n 'Kalisz',\n 'Kapellen / Ekeren',\n 'Karlsruhe',\n 'Karviná',\n 'Kassel',\n 'Kasztelanka',\n 'Kaunas',\n 'Kavala',\n 'Kecskemét',\n 'Keighley',\n 'Kempten (Allgäu)',\n 'Kettering',\n 'Kidderminster',\n 'Kiel',\n 'Kielce',\n 'Kingston-upon-Hull',\n 'Kladno',\n 'Klagenfurt',\n 'Klaipėda',\n 'Koblenz',\n 'Konstanz',\n 'Koszalin',\n 'Košice',\n 'Kraków',\n 'Krefeld',\n 'Köln',\n 'København',\n 'La Louvière',\n 'La Seyne-sur-Mer / Sanary-sur-Mer',\n 'La Spezia',\n 'Landshut',\n 'Larisa',\n 'Latina',\n 'Lausanne',\n 'Le Havre',\n 'Le Mans',\n 'Lecce',\n 'Lecco',\n 'Leeds / Bradford',\n 'Leeuwarden',\n 'Legionowo',\n 'Legnica',\n 'Leicester',\n 'Leiden',\n 'Leipzig',\n 'Lelystad',\n 'Lens',\n 'Les Clayes-sous-Bois',\n 'Leuven',\n 'Leverkusen',\n 'León',\n 'Liberec',\n 'Liepāja',\n 'Lille',\n 'Limerick',\n 'Limoges',\n 'Linares',\n 'Lincoln',\n 'Linköping',\n 'Linz',\n 'Lisboa',\n 'Liverpool',\n 'Livingston',\n 'Livorno',\n 'Liège',\n 'Ljubljana',\n 'Lleida',\n 'Logroño',\n 'London',\n 'Lorca',\n 'Lorient',\n 'Loughborough',\n 'Lubin',\n 'Lublin',\n 'Ludwigsburg',\n 'Lugano',\n 'Lugo',\n 'Lund',\n 'Luton',\n 'Luxembourg',\n 'Luzern',\n 'Lyon',\n 'Línea de la Concepción, La',\n 'Lørenskog / Lillestrøm',\n 'Lübeck',\n 'Lüdenscheid',\n 'Lüneburg',\n 'Lünen',\n 'Lütten Klein',\n 'Maastricht',\n 'Madrid',\n 'Magdeburg',\n 'Maidenhead',\n 'Maidstone',\n 'Mainz',\n 'Majadahonda',\n 'Malmö',\n 'Manfredonia',\n 'Mannheim/Ludwigshafen',\n 'Manresa',\n 'Mansfield',\n 'Mantes en Yvelines',\n 'Marbella',\n 'Maribor',\n 'Marl',\n 'Marseille',\n 'Martigues / Port-de-Bouc',\n 'Martin',\n 'Mataró',\n 'Matera',\n 'Maurepas / Montigny-le-Bretonneux',\n 'Meaux',\n 'Mechelen',\n 'Medway',\n 'Melun',\n 'Messina',\n 'Mestre',\n 'Metz',\n 'Mielec',\n 'Milano',\n 'Milton Keynes',\n 'Miskolc',\n 'Modena',\n 'Moers / Rheinhausen',\n 'Molfetta',\n 'Mollet del Vallès',\n 'Monaco',\n 'Montpellier',\n 'Most',\n 'Motherwell / Wishaw',\n 'Mulhouse',\n 'Murcia',\n 'Mysłowice',\n 'Málaga',\n 'Mérida',\n 'Mönchengladbach',\n 'München',\n 'Münster',\n 'Namur',\n 'Nancy',\n 'Nantes',\n 'Napoli',\n 'Neumünster',\n 'Neuss',\n 'Newcastle-under-Lyme',\n 'Newport',\n 'Nice',\n 'Nieuwegein / IJsselstein',\n 'Nijmegen',\n 'Nimes',\n 'Nitra',\n 'Norrköping',\n 'Northampton',\n 'Norwich',\n 'Novara',\n 'Nowy Sącz',\n 'Nuneaton',\n 'Nyíregyháza',\n 'Odense',\n 'Oldenburg (Oldenburg)',\n 'Olomouc',\n 'Olsztyn',\n 'Oostende',\n 'Opole',\n 'Oradea',\n 'Orléans',\n 'Osijek',\n 'Oslo',\n 'Osnabrück',\n 'Oss',\n 'Ostia',\n 'Ostrava',\n 'Ostrowiec Świętokrzyski',\n 'Ostrów Wielkopolski',\n 'Ourense',\n 'Oviedo',\n 'Oxford',\n 'Pabianice',\n 'Paderborn',\n 'Padova',\n 'Palencia',\n 'Palermo',\n 'Pamplona/Iruña',\n 'Panevėžys',\n 'Pardubice',\n 'Paris',\n 'Parla',\n 'Parma',\n 'Pau',\n 'Pavia',\n 'Pazardzhik',\n 'Perpignan',\n 'Perugia',\n 'Pesaro',\n 'Pescara',\n 'Peterborough',\n 'Pforzheim',\n 'Piacenza',\n 'Piatra Neamţ',\n 'Pijnacker / Berkel en Rodenrijs',\n 'Piotrków Trybunalski',\n 'Pisa',\n 'Piteşti',\n 'Piła',\n 'Plauen',\n 'Pleven',\n 'Ploieşti',\n 'Plovdiv',\n 'Plymouth',\n 'Plzeň',\n 'Poissy',\n 'Poitiers',\n 'Ponferrada',\n 'Pontevedra',\n 'Pordenone',\n 'Porto',\n 'Portsmouth',\n 'Poruba',\n 'Porz',\n 'Potsdam',\n 'Poznań',\n 'Pozuelo de Alarcón',\n 'Pozzuoli / Bacoli',\n 'Praha',\n 'Prato',\n 'Preston',\n 'Przemyśl',\n 'Puerto de Santa María, El',\n 'Purmerend',\n 'Pécs',\n 'Póvoa de Varzim',\n 'Płock',\n 'Quaregnon / Frameries',\n 'Radom',\n 'Ragusa',\n 'Ravenna',\n 'Reading',\n 'Redditch',\n 'Redhill / Reigate',\n 'Regensburg',\n \"Reggio nell'Emilia\",\n 'Reims',\n 'Remscheid',\n 'Rennes',\n 'Reus',\n 'Reutlingen',\n 'Rijeka',\n 'Rimini',\n 'Roma',\n 'Roosendaal',\n 'Rosenheim',\n 'Rostock',\n 'Rotherham',\n 'Rotterdam',\n 'Rouen',\n 'Rugby',\n 'Ruhrgebiet',\n 'Ruse',\n 'Rustington',\n 'Rybnik',\n 'Rzeszów',\n 'Rákosliget',\n 'Râmnicu Vâlcea',\n 'Rüsselsheim am Main',\n 'Saarbrücken',\n 'Sabadell',\n 'Saint-Brieuc',\n 'Saint-Etienne',\n 'Saint-Quentin',\n 'Salamanca',\n 'Salerno',\n 'Salzburg',\n 'San Fernando',\n 'San Giuseppe Vesuviano',\n 'San Sebastián/Donostia',\n 'San Severo',\n 'Sanlúcar de Barrameda',\n 'Sant Boi de Llobregat',\n 'Sant Cugat del Vallès/Rubí',\n 'Santa Monica',\n 'Santander',\n 'Santiago de Compostela',\n 'Saronno',\n 'Sassuolo',\n 'Satu Mare',\n 'Savona',\n 'Schweinfurt',\n 'Scunthorpe',\n 'Sefton',\n 'Serres',\n 'Setúbal',\n 'Sevilla',\n 'Sfântu Gheorghe',\n 'Shrewsbury',\n 'Shumen',\n 'Sibiu',\n 'Siedlce',\n 'Sindelfingen',\n 'Siracusa',\n 'Sittard-Geleen',\n 'Slatina',\n 'Sliven',\n 'Slough',\n 'Soest / Baarn',\n 'Sofia',\n 'Solingen / Wuppertal',\n 'Southampton',\n 'Southend-on-Sea',\n 'Spijkenisse',\n 'Split',\n 'St Albans',\n 'St. Gallen',\n 'Stafford',\n 'Stalowa Wola',\n 'Stara Zagora',\n 'Stargard Szczeciński',\n 'Stevenage',\n 'Stockholm',\n 'Stockton-on-Tees',\n 'Strasbourg',\n 'Stuttgart',\n 'Suceava',\n 'Sutton in Ashfield',\n 'Suwałki',\n 'Swansea',\n 'Swindon',\n 'Swords / Malahide',\n 'Szczecin',\n 'Szeged',\n 'Szolnok',\n 'Szombathely',\n 'Székesfehérvár',\n 'Södertälje',\n 'Słupsk',\n 'Talavera de la Reina',\n 'Tampere / Tammerfors',\n 'Tamworth',\n 'Tapiola / Niittykumpu',\n 'Taranto',\n 'Tarnów',\n 'Tarragona',\n 'Tatabánya',\n 'Taunton',\n 'Tczew',\n 'Telford',\n 'Terni',\n 'Terrassa',\n 'Thanet',\n 'Thatcham',\n 'Thessaloniki',\n 'Thun',\n 'Thurrock',\n 'Tilburg',\n 'Timişoara',\n 'Toledo',\n 'Tomares',\n 'Tomaszów Mazowiecki',\n 'Torbay',\n 'Torino',\n 'Torrejón de Ardoz',\n 'Torrelavega',\n 'Torremolinos',\n 'Torrevieja',\n 'Toruń',\n 'Toulon',\n 'Toulouse',\n 'Tours',\n 'Trani',\n 'Trapani',\n 'Trento',\n 'Treviso',\n 'Trier',\n 'Trieste',\n 'Trnava',\n 'Troyes',\n 'Tulcea',\n 'Tunbridge Wells',\n 'Tychy',\n 'Tyneside conurbation',\n 'Târgovişte',\n 'Târgu Jiu',\n 'Târgu Mureş',\n 'Täby',\n 'Tübingen',\n 'Udine',\n 'Ulm/Neu-Ulm',\n 'Uppsala',\n 'Utrecht',\n 'Vaihingen / Möhringen',\n 'Valdemoro',\n 'Valence',\n 'Valencia',\n 'Valenciennes',\n 'Valladolid',\n 'Varese',\n 'Varna',\n 'Veenendaal',\n 'Veliko Tarnovo',\n 'Venezia',\n 'Venlo',\n 'Verona',\n 'Verviers / Dison',\n 'Veszprém',\n 'Vicenza',\n 'Vigo',\n 'Viladecans',\n 'Vilanova i la Geltrú',\n 'Vilnius',\n 'Vitoria/Gasteiz',\n 'Vleuten / De Meern',\n 'Volos',\n 'Vratsa',\n 'Västerås',\n 'Wakefield',\n 'Warrington',\n 'Warszawa',\n 'Warwick',\n 'Washington',\n 'Waveney',\n 'Wałbrzych',\n 'Weston-super-Mare',\n 'Wien',\n 'Wiesbaden',\n 'Wigan / Skelmersdale',\n 'Winterthur',\n 'Woking',\n 'Wolfsburg',\n 'Worcester',\n 'Worthing',\n 'Wrocław',\n 'Wycombe',\n 'Würzburg',\n 'Włocławek',\n 'Yambol',\n 'York',\n 'Zadar',\n 'Zagreb',\n 'Zamora',\n 'Zamość',\n 'Zaragoza',\n 'Zgierz',\n 'Zielona Góra',\n 'Zoetermeer',\n 'Zwolle',\n 'Zürich',\n 'el Masnou',\n 'Ávila',\n 'Århus',\n 'Érd',\n 'Örebro',\n 'Ústí nad Labem',\n 'České Budějovice',\n 'Łomża',\n 'Łódź',\n 'Świdnica',\n 'Šiauliai',\n 'Žilina'}"
     },
     "execution_count": 22,
     "metadata": {},
     "output_type": "execute_result"
    }
   ],
   "source": [
    "train_cities = set(trains['larger_city'].unique()) | set(trains['smaller_city'].unique())\n",
    "print(f'Number of cities in the trains dataset: {len(train_cities)}')\n",
    "train_cities"
   ],
   "metadata": {
    "collapsed": false,
    "ExecuteTime": {
     "end_time": "2024-01-21T15:29:17.704261Z",
     "start_time": "2024-01-21T15:29:17.638277Z"
    }
   },
   "id": "dd39b4a7045b8ef4",
   "execution_count": 22
  },
  {
   "cell_type": "code",
   "outputs": [
    {
     "name": "stdout",
     "output_type": "stream",
     "text": [
      "Number of cities in the flights dataset: 304\n"
     ]
    },
    {
     "data": {
      "text/plain": "{'Aalborg',\n 'Aarhus',\n 'Aberdeen',\n 'Ajaccio/Napoléon Bonaparte',\n 'Alexandroupolis',\n 'Alghero',\n 'Alicante',\n 'Almería',\n 'Amsterdam',\n 'Ancona',\n 'Andenes',\n 'Archangelsk',\n 'Astrakhan',\n 'Bacău',\n 'Balice',\n 'Banja Luka',\n 'Barcelona',\n 'Bari',\n 'Bastia/Poretta',\n 'Belfast',\n 'Belgrade',\n 'Bergen',\n 'Beslan',\n 'Bilbao',\n 'Billund',\n 'Birmingham',\n 'Bodø',\n 'Bologna',\n 'Bolzano (BZ)',\n 'Bordeaux/Mérignac',\n 'Bournemouth',\n 'Bragança',\n 'Bratislava',\n 'Bremen',\n 'Brindisi',\n 'Bristol',\n 'Brønnøy',\n 'Budapest',\n 'Bugulma',\n 'Burgas',\n 'Bydgoszcz',\n 'Béziers/Vias',\n 'Cagliari',\n 'Calvi/Sainte-Catherine',\n 'Cardiff',\n 'Cascais',\n 'Caselle (VR)',\n 'Caselle Torinese (TO)',\n 'Castellón de la Plana',\n 'Castletown',\n 'Catania',\n 'Charleroi',\n 'Cheboksary',\n 'Chelyabinsk',\n 'Cherepovets',\n 'Chios Island',\n 'Chita',\n 'Chişinău',\n 'Cluj-Napoca',\n 'Copenhagen',\n 'Corvera',\n 'Craiova',\n 'Crete Island',\n 'Crotone',\n 'Culleredo',\n 'Debrecen',\n 'Dortmund',\n 'Dresden',\n 'Dubrave Gornje',\n 'Düsseldorf',\n 'Edinburgh',\n 'Eindhoven',\n 'El Matorral',\n 'Evenes',\n 'Faro',\n 'Feldkirchen bei Graz',\n 'Ferno (VA)',\n 'Figari Sud-Corse',\n 'Firenze',\n 'Florø',\n 'Frankfurt am Main',\n 'Frankfurt am Main (Lautzenhausen)',\n 'Funchal',\n 'Gatwick, Surrey',\n 'Gdańsk',\n 'Gelendzhik',\n 'Geneva',\n 'Genova (GE)',\n 'Gibraltar',\n 'Girona',\n 'Goleniow',\n 'Gothenburg',\n 'Granada',\n 'Greven',\n 'Grozny',\n 'Grâce-Hollogne',\n 'Hadsel',\n 'Hamburg',\n 'Hannover',\n 'Helsinki',\n 'Hondarribia',\n 'Horta',\n 'Iaşi',\n 'Ibiza (Eivissa)',\n 'Ilinden',\n 'Innsbruck',\n 'Inverness',\n 'Ioannina',\n 'Ivalo',\n 'Ivanovo',\n 'Izhevsk',\n 'Jasionka',\n 'Jerez de la Frontera',\n 'Kaliningrad',\n 'Kaluga',\n 'Karmøy',\n 'Kaunas',\n 'Kavala',\n 'Kazan',\n 'Kerkyra (Corfu)',\n 'Kirkenes',\n 'Kirov',\n 'Kittilä',\n 'Kjevik',\n 'Klagenfurt am Wörthersee',\n 'Kos Island',\n 'Košice',\n 'Krasnodar',\n 'Krasnoyarsk',\n 'Krasnyi Kurgan',\n 'Kuopio / Siilinjärvi',\n 'Kuusamo',\n 'Köln (Cologne)',\n 'Lamezia Terme (CZ)',\n 'Leeds',\n 'Leknes',\n 'Lesquin',\n 'Lisbon',\n 'Liverpool',\n 'London',\n 'Lublin',\n 'Luleå',\n 'Luton, Bedfordshire',\n 'Luxembourg',\n 'Lyon',\n 'Maastricht',\n 'Madrid',\n 'Magnitogorsk',\n 'Mahón (Maó)',\n 'Makhachkala',\n 'Malmö',\n 'Manchester',\n 'Marseille',\n 'Melilla',\n 'Memmingen',\n 'Mineralnyye Vody',\n 'Minsk',\n 'Montpellier/Méditerranée',\n 'Moscow',\n 'Mosjøen',\n 'Munich',\n 'Murmansk',\n 'Mykonos',\n 'Mytilene',\n 'Málaga',\n 'Nantes',\n 'Napoli',\n 'Naryan Mar',\n 'Newcastle',\n 'Newquay',\n 'Nice',\n 'Nizhnekamsk',\n 'Nizhny Novgorod',\n 'Niš',\n 'Norwich, Norfolk',\n 'Nottingham',\n 'Novokuznetsk',\n 'Nuremberg',\n 'Nyköping',\n 'Ohrid',\n 'Olbia (SS)',\n 'Olsztyn',\n 'Oradea',\n 'Orenburg',\n 'Orio al Serio (BG)',\n 'Orsk',\n 'Oslo',\n 'Otopeni',\n 'Oulu / Oulunsalo',\n 'Ożarowice',\n 'Paisley, Renfrewshire',\n 'Palanga',\n 'Palermo',\n 'Pamplona',\n 'Paris',\n 'Parma (PR)',\n 'Penza',\n 'Perm',\n 'Perugia',\n 'Pescara',\n 'Petrozavodsk',\n 'Pico Island',\n 'Pisa',\n 'Podgorica',\n 'Ponta Delgada',\n 'Porto',\n 'Poznań',\n 'Prague',\n 'Praia da Vitória',\n 'Prishtina',\n 'Pskov',\n 'Pula',\n 'Radom',\n 'Ranón',\n 'Reggio Calabria',\n 'Rheinmünster',\n 'Rhodes',\n 'Riga',\n 'Rinas',\n 'Rome',\n 'Ronchi dei Legionari (GO)',\n 'Rotterdam',\n 'Rovaniemi',\n 'Sabetta',\n 'Saint Anne',\n 'Saint Helier',\n 'Saint Peter Port',\n 'Saint-Louis',\n 'Saint-Étienne-de-Saint-Geoirs',\n 'Salzburg',\n 'Samara',\n 'Samos Island',\n 'San Bartolomé',\n 'Santander',\n 'Santiago de Compostela',\n 'Santorini Island',\n 'Sarajevo',\n 'Schkeuditz',\n 'Segrate (MI)',\n 'Sevilla',\n 'Sibiu',\n 'Simferopol',\n 'Sochi',\n 'Sofia',\n 'Souda',\n 'Southampton',\n 'Southend-on-Sea, Essex',\n 'Spata-Artemida',\n 'Split',\n 'St. Petersburg',\n 'Sta Cruz de la Palma, La Palma Island',\n 'Stavanger',\n 'Stavropol',\n 'Stockholm',\n 'Stornoway, Western Isles',\n 'Stuttgart',\n 'Suceava',\n 'Svolvær',\n 'Syktyvkar',\n 'Tallinn',\n 'Tampere / Pirkkala',\n 'Tarbes/Lourdes/Pyrénées',\n 'Thessaloniki',\n 'Tillé',\n 'Timişoara',\n 'Tivat',\n 'Torp',\n 'Toulouse/Blagnac',\n 'Tours/Val de Loire (Loire Valley)',\n 'Treviso (TV)',\n 'Tromsø',\n 'Trondheim',\n 'Ufa',\n 'Ulyanovsk',\n 'Umeå',\n 'Vaasa',\n 'Vadsø',\n 'Valencia',\n 'Valletta',\n 'Varna',\n 'Venezia (VE)',\n 'Vienna',\n 'Vigo',\n 'Vila Baleira',\n 'Vila Real',\n 'Vila do Porto',\n 'Vilnius',\n 'Viseu',\n 'Viviers-du-Lac',\n 'Volgograd',\n 'Voronezh',\n 'Vágar',\n 'Warsaw',\n 'Weeze',\n 'Wrocław',\n 'Zagreb',\n 'Zakynthos',\n 'Zaragoza',\n 'Zaventem',\n 'Zgornji Brnik',\n 'Zurich',\n 'Ålesund',\n 'Čilipi',\n 'Łódź'}"
     },
     "execution_count": 23,
     "metadata": {},
     "output_type": "execute_result"
    }
   ],
   "source": [
    "airport_cities = set(flights['departure city'].unique()) | set(flights['arrival city'].unique())\n",
    "print(f'Number of cities in the flights dataset: {len(airport_cities)}')\n",
    "airport_cities"
   ],
   "metadata": {
    "collapsed": false,
    "ExecuteTime": {
     "end_time": "2024-01-21T15:29:17.704937Z",
     "start_time": "2024-01-21T15:29:17.645463Z"
    }
   },
   "id": "b23b447b57948905",
   "execution_count": 23
  },
  {
   "cell_type": "markdown",
   "source": [
    "Which cities are in the airport dataset but not the train dataset?"
   ],
   "metadata": {
    "collapsed": false
   },
   "id": "44d4c2d9c9b6103f"
  },
  {
   "cell_type": "code",
   "outputs": [
    {
     "data": {
      "text/plain": "214"
     },
     "execution_count": 24,
     "metadata": {},
     "output_type": "execute_result"
    }
   ],
   "source": [
    "len(airport_cities - train_cities)"
   ],
   "metadata": {
    "collapsed": false,
    "ExecuteTime": {
     "end_time": "2024-01-21T15:29:17.768186Z",
     "start_time": "2024-01-21T15:29:17.693463Z"
    }
   },
   "id": "2c8c648fa7b7be32",
   "execution_count": 24
  },
  {
   "cell_type": "markdown",
   "source": [
    "214 out of 304 is a lot..."
   ],
   "metadata": {
    "collapsed": false
   },
   "id": "77e32ba1719860e6"
  },
  {
   "cell_type": "code",
   "outputs": [
    {
     "data": {
      "text/plain": "{'Aarhus',\n 'Ajaccio/Napoléon Bonaparte',\n 'Alexandroupolis',\n 'Alghero',\n 'Alicante',\n 'Andenes',\n 'Archangelsk',\n 'Astrakhan',\n 'Balice',\n 'Banja Luka',\n 'Bastia/Poretta',\n 'Belgrade',\n 'Bergen',\n 'Beslan',\n 'Billund',\n 'Bodø',\n 'Bolzano (BZ)',\n 'Bordeaux/Mérignac',\n 'Bragança',\n 'Brønnøy',\n 'Bugulma',\n 'Béziers/Vias',\n 'Cagliari',\n 'Calvi/Sainte-Catherine',\n 'Cascais',\n 'Caselle (VR)',\n 'Caselle Torinese (TO)',\n 'Castellón de la Plana',\n 'Castletown',\n 'Cheboksary',\n 'Chelyabinsk',\n 'Cherepovets',\n 'Chios Island',\n 'Chita',\n 'Chişinău',\n 'Copenhagen',\n 'Corvera',\n 'Crete Island',\n 'Crotone',\n 'Culleredo',\n 'Dortmund',\n 'Dubrave Gornje',\n 'El Matorral',\n 'Evenes',\n 'Faro',\n 'Feldkirchen bei Graz',\n 'Ferno (VA)',\n 'Figari Sud-Corse',\n 'Florø',\n 'Frankfurt am Main (Lautzenhausen)',\n 'Funchal',\n 'Gatwick, Surrey',\n 'Gelendzhik',\n 'Geneva',\n 'Genova (GE)',\n 'Gibraltar',\n 'Goleniow',\n 'Gothenburg',\n 'Greven',\n 'Grozny',\n 'Grâce-Hollogne',\n 'Hadsel',\n 'Hondarribia',\n 'Horta',\n 'Ibiza (Eivissa)',\n 'Ilinden',\n 'Inverness',\n 'Ioannina',\n 'Ivalo',\n 'Ivanovo',\n 'Izhevsk',\n 'Jasionka',\n 'Kaliningrad',\n 'Kaluga',\n 'Karmøy',\n 'Kazan',\n 'Kerkyra (Corfu)',\n 'Kirkenes',\n 'Kirov',\n 'Kittilä',\n 'Kjevik',\n 'Klagenfurt am Wörthersee',\n 'Kos Island',\n 'Krasnodar',\n 'Krasnoyarsk',\n 'Krasnyi Kurgan',\n 'Kuopio / Siilinjärvi',\n 'Kuusamo',\n 'Köln (Cologne)',\n 'Lamezia Terme (CZ)',\n 'Leeds',\n 'Leknes',\n 'Lesquin',\n 'Lisbon',\n 'Luleå',\n 'Luton, Bedfordshire',\n 'Magnitogorsk',\n 'Mahón (Maó)',\n 'Makhachkala',\n 'Manchester',\n 'Melilla',\n 'Memmingen',\n 'Mineralnyye Vody',\n 'Minsk',\n 'Montpellier/Méditerranée',\n 'Moscow',\n 'Mosjøen',\n 'Munich',\n 'Murmansk',\n 'Mykonos',\n 'Mytilene',\n 'Naryan Mar',\n 'Newcastle',\n 'Newquay',\n 'Nizhnekamsk',\n 'Nizhny Novgorod',\n 'Niš',\n 'Norwich, Norfolk',\n 'Nottingham',\n 'Novokuznetsk',\n 'Nuremberg',\n 'Nyköping',\n 'Ohrid',\n 'Olbia (SS)',\n 'Orenburg',\n 'Orio al Serio (BG)',\n 'Orsk',\n 'Otopeni',\n 'Oulu / Oulunsalo',\n 'Ożarowice',\n 'Paisley, Renfrewshire',\n 'Palanga',\n 'Pamplona',\n 'Parma (PR)',\n 'Penza',\n 'Perm',\n 'Petrozavodsk',\n 'Pico Island',\n 'Podgorica',\n 'Ponta Delgada',\n 'Prague',\n 'Praia da Vitória',\n 'Prishtina',\n 'Pskov',\n 'Pula',\n 'Ranón',\n 'Reggio Calabria',\n 'Rheinmünster',\n 'Rhodes',\n 'Riga',\n 'Rinas',\n 'Rome',\n 'Ronchi dei Legionari (GO)',\n 'Rovaniemi',\n 'Sabetta',\n 'Saint Anne',\n 'Saint Helier',\n 'Saint Peter Port',\n 'Saint-Louis',\n 'Saint-Étienne-de-Saint-Geoirs',\n 'Samara',\n 'Samos Island',\n 'San Bartolomé',\n 'Santorini Island',\n 'Sarajevo',\n 'Schkeuditz',\n 'Segrate (MI)',\n 'Simferopol',\n 'Sochi',\n 'Souda',\n 'Southend-on-Sea, Essex',\n 'Spata-Artemida',\n 'St. Petersburg',\n 'Sta Cruz de la Palma, La Palma Island',\n 'Stavanger',\n 'Stavropol',\n 'Stornoway, Western Isles',\n 'Svolvær',\n 'Syktyvkar',\n 'Tallinn',\n 'Tampere / Pirkkala',\n 'Tarbes/Lourdes/Pyrénées',\n 'Tillé',\n 'Tivat',\n 'Torp',\n 'Toulouse/Blagnac',\n 'Tours/Val de Loire (Loire Valley)',\n 'Treviso (TV)',\n 'Tromsø',\n 'Trondheim',\n 'Ufa',\n 'Ulyanovsk',\n 'Umeå',\n 'Vaasa',\n 'Vadsø',\n 'Valletta',\n 'Venezia (VE)',\n 'Vienna',\n 'Vila Baleira',\n 'Vila Real',\n 'Vila do Porto',\n 'Viseu',\n 'Viviers-du-Lac',\n 'Volgograd',\n 'Voronezh',\n 'Vágar',\n 'Warsaw',\n 'Weeze',\n 'Zakynthos',\n 'Zaventem',\n 'Zgornji Brnik',\n 'Zurich',\n 'Ålesund',\n 'Čilipi'}"
     },
     "execution_count": 32,
     "metadata": {},
     "output_type": "execute_result"
    }
   ],
   "source": [
    "airport_cities - train_cities"
   ],
   "metadata": {
    "collapsed": false,
    "ExecuteTime": {
     "end_time": "2024-01-21T15:30:06.664513Z",
     "start_time": "2024-01-21T15:30:06.656696Z"
    }
   },
   "id": "f2869cf19880f0ed",
   "execution_count": 32
  },
  {
   "cell_type": "code",
   "outputs": [
    {
     "data": {
      "text/plain": "True"
     },
     "execution_count": 26,
     "metadata": {},
     "output_type": "execute_result"
    }
   ],
   "source": [
    "'Genève' in train_cities"
   ],
   "metadata": {
    "collapsed": false,
    "ExecuteTime": {
     "end_time": "2024-01-21T15:29:17.974481Z",
     "start_time": "2024-01-21T15:29:17.855936Z"
    }
   },
   "id": "b5937a9e6bc2ed53",
   "execution_count": 26
  },
  {
   "cell_type": "markdown",
   "source": [
    "## Trying translation"
   ],
   "metadata": {
    "collapsed": false
   },
   "id": "cbbc83cdc316d532"
  },
  {
   "cell_type": "markdown",
   "source": [
    "### googletrans library"
   ],
   "metadata": {
    "collapsed": false
   },
   "id": "48f17e8508377db7"
  },
  {
   "cell_type": "code",
   "outputs": [
    {
     "name": "stdout",
     "output_type": "stream",
     "text": [
      "/Users/emilejohnston/opt/anaconda3/bin/python\r\n"
     ]
    }
   ],
   "source": [
    "# !which python"
   ],
   "metadata": {
    "collapsed": false,
    "ExecuteTime": {
     "end_time": "2024-01-21T15:29:18.141368Z",
     "start_time": "2024-01-21T15:29:17.977173Z"
    }
   },
   "id": "c5aa2aaad931d4d4",
   "execution_count": 27
  },
  {
   "cell_type": "code",
   "outputs": [
    {
     "name": "stdout",
     "output_type": "stream",
     "text": [
      "Package                       Version\r\n",
      "----------------------------- -----------\r\n",
      "alabaster                     0.7.12\r\n",
      "anaconda-anon-usage           0.4.3\r\n",
      "anaconda-client               1.12.1\r\n",
      "anaconda-navigator            2.4.0\r\n",
      "anaconda-project              0.11.1\r\n",
      "anyio                         3.5.0\r\n",
      "appdirs                       1.4.4\r\n",
      "appnope                       0.1.2\r\n",
      "appscript                     1.1.2\r\n",
      "argon2-cffi                   21.3.0\r\n",
      "argon2-cffi-bindings          21.2.0\r\n",
      "astroid                       2.11.7\r\n",
      "astropy                       5.1\r\n",
      "asttokens                     2.0.5\r\n",
      "attrs                         22.1.0\r\n",
      "Automat                       20.2.0\r\n",
      "Babel                         2.11.0\r\n",
      "backcall                      0.2.0\r\n",
      "backports.functools-lru-cache 1.6.4\r\n",
      "backports.tempfile            1.0\r\n",
      "backports.weakref             1.0.post1\r\n",
      "bcrypt                        3.2.0\r\n",
      "beautifulsoup4                4.11.1\r\n",
      "bitarray                      2.5.1\r\n",
      "bkcharts                      0.2\r\n",
      "bleach                        4.1.0\r\n",
      "bokeh                         2.4.3\r\n",
      "boltons                       23.0.0\r\n",
      "boto3                         1.24.28\r\n",
      "botocore                      1.27.59\r\n",
      "Bottleneck                    1.3.5\r\n",
      "brotlipy                      0.7.0\r\n",
      "certifi                       2023.11.17\r\n",
      "cffi                          1.15.1\r\n",
      "chardet                       3.0.4\r\n",
      "charset-normalizer            2.0.4\r\n",
      "click                         8.0.4\r\n",
      "cloudpickle                   2.0.0\r\n",
      "clyent                        1.2.2\r\n",
      "colorama                      0.4.6\r\n",
      "colorcet                      3.0.1\r\n",
      "comm                          0.1.2\r\n",
      "conda                         23.3.1\r\n",
      "conda-build                   3.27.0\r\n",
      "conda-content-trust           0.1.3\r\n",
      "conda_index                   0.3.0\r\n",
      "conda-pack                    0.6.0\r\n",
      "conda-package-handling        2.2.0\r\n",
      "conda_package_streaming       0.9.0\r\n",
      "conda-repo-cli                1.0.41\r\n",
      "conda-token                   0.4.0\r\n",
      "conda-verify                  3.4.2\r\n",
      "constantly                    15.1.0\r\n",
      "contourpy                     1.0.5\r\n",
      "cryptography                  38.0.4\r\n",
      "cssselect                     1.1.0\r\n",
      "cycler                        0.11.0\r\n",
      "Cython                        0.29.32\r\n",
      "cytoolz                       0.12.0\r\n",
      "dask                          2022.5.0\r\n",
      "datashader                    0.14.3\r\n",
      "datashape                     0.5.4\r\n",
      "debugpy                       1.5.1\r\n",
      "decorator                     5.1.1\r\n",
      "defusedxml                    0.7.1\r\n",
      "dill                          0.3.6\r\n",
      "distributed                   2022.5.0\r\n",
      "docutils                      0.18.1\r\n",
      "entrypoints                   0.4\r\n",
      "et-xmlfile                    1.1.0\r\n",
      "executing                     0.8.3\r\n",
      "fastjsonschema                2.16.2\r\n",
      "filelock                      3.9.0\r\n",
      "Flask                         2.2.2\r\n",
      "flit_core                     3.6.0\r\n",
      "fonttools                     4.25.0\r\n",
      "fsspec                        2022.11.0\r\n",
      "future                        0.18.3\r\n",
      "gensim                        4.1.2\r\n",
      "glob2                         0.7\r\n",
      "gmpy2                         2.1.2\r\n",
      "greenlet                      2.0.1\r\n",
      "h11                           0.9.0\r\n",
      "h2                            3.2.0\r\n",
      "h5py                          3.7.0\r\n",
      "HeapDict                      1.0.1\r\n",
      "holoviews                     1.15.3\r\n",
      "hpack                         3.0.0\r\n",
      "hstspreload                   2024.1.5\r\n",
      "httpcore                      0.9.1\r\n",
      "httpx                         0.13.3\r\n",
      "hvplot                        0.8.2\r\n",
      "hyperframe                    5.2.0\r\n",
      "hyperlink                     21.0.0\r\n",
      "idna                          2.10\r\n",
      "imagecodecs                   2021.8.26\r\n",
      "imageio                       2.19.3\r\n",
      "imagesize                     1.4.1\r\n",
      "importlib-metadata            7.0.0\r\n",
      "incremental                   21.3.0\r\n",
      "iniconfig                     1.1.1\r\n",
      "intake                        0.6.6\r\n",
      "ipykernel                     6.19.2\r\n",
      "ipython                       8.7.0\r\n",
      "ipython-genutils              0.2.0\r\n",
      "ipywidgets                    7.6.5\r\n",
      "isort                         5.9.3\r\n",
      "itemadapter                   0.3.0\r\n",
      "itemloaders                   1.0.4\r\n",
      "itsdangerous                  2.0.1\r\n",
      "jdcal                         1.4.1\r\n",
      "jedi                          0.18.1\r\n",
      "Jinja2                        3.1.2\r\n",
      "jmespath                      0.10.0\r\n",
      "joblib                        1.1.1\r\n",
      "json5                         0.9.6\r\n",
      "jsonpatch                     1.32\r\n",
      "jsonpointer                   2.1\r\n",
      "jsonschema                    4.16.0\r\n",
      "jupyter_client                7.4.8\r\n",
      "jupyter-console               6.4.4\r\n",
      "jupyter_core                  5.1.1\r\n",
      "jupyter-server                1.23.4\r\n",
      "jupyterlab                    3.5.2\r\n",
      "jupyterlab-pygments           0.1.2\r\n",
      "jupyterlab_server             2.16.5\r\n",
      "jupyterlab-widgets            1.0.0\r\n",
      "keras                         2.12.0\r\n",
      "Keras-Preprocessing           1.1.2\r\n",
      "kiwisolver                    1.4.4\r\n",
      "lazy-object-proxy             1.6.0\r\n",
      "libarchive-c                  2.9\r\n",
      "llvmlite                      0.39.1\r\n",
      "locket                        1.0.0\r\n",
      "lxml                          4.9.1\r\n",
      "lz4                           3.1.3\r\n",
      "Markdown                      3.4.1\r\n",
      "MarkupSafe                    2.1.1\r\n",
      "matplotlib                    3.6.2\r\n",
      "matplotlib-inline             0.1.6\r\n",
      "mccabe                        0.7.0\r\n",
      "mistune                       0.8.4\r\n",
      "mock                          4.0.3\r\n",
      "more-itertools                10.1.0\r\n",
      "mpmath                        1.2.1\r\n",
      "msgpack                       1.0.3\r\n",
      "multipledispatch              0.6.0\r\n",
      "munkres                       1.1.4\r\n",
      "navigator-updater             0.4.0\r\n",
      "nbclassic                     0.4.8\r\n",
      "nbclient                      0.5.13\r\n",
      "nbconvert                     6.5.4\r\n",
      "nbformat                      5.7.0\r\n",
      "nest-asyncio                  1.5.6\r\n",
      "networkx                      2.8.4\r\n",
      "nltk                          3.7\r\n",
      "nose                          1.3.7\r\n",
      "notebook                      6.5.2\r\n",
      "notebook_shim                 0.2.2\r\n",
      "numba                         0.56.4\r\n",
      "numexpr                       2.8.4\r\n",
      "numpy                         1.21.5\r\n",
      "numpydoc                      1.5.0\r\n",
      "olefile                       0.46\r\n",
      "openpyxl                      3.0.10\r\n",
      "packaging                     22.0\r\n",
      "pandas                        1.5.2\r\n",
      "pandocfilters                 1.5.0\r\n",
      "panel                         0.14.1\r\n",
      "param                         1.12.3\r\n",
      "parsel                        1.6.0\r\n",
      "parso                         0.8.3\r\n",
      "partd                         1.2.0\r\n",
      "pathlib                       1.0.1\r\n",
      "patsy                         0.5.2\r\n",
      "pep8                          1.7.1\r\n",
      "pexpect                       4.8.0\r\n",
      "pickleshare                   0.7.5\r\n",
      "Pillow                        9.3.0\r\n",
      "pip                           22.3.1\r\n",
      "pkginfo                       1.8.2\r\n",
      "platformdirs                  2.5.2\r\n",
      "plotly                        5.9.0\r\n",
      "pluggy                        1.0.0\r\n",
      "ply                           3.11\r\n",
      "prometheus-client             0.14.1\r\n",
      "prompt-toolkit                3.0.36\r\n",
      "Protego                       0.1.16\r\n",
      "psutil                        5.9.0\r\n",
      "ptyprocess                    0.7.0\r\n",
      "pure-eval                     0.2.2\r\n",
      "py                            1.11.0\r\n",
      "pyasn1                        0.4.8\r\n",
      "pyasn1-modules                0.2.8\r\n",
      "pycodestyle                   2.8.0\r\n",
      "pycosat                       0.6.4\r\n",
      "pycparser                     2.21\r\n",
      "pyct                          0.4.8\r\n",
      "pycurl                        7.45.1\r\n",
      "PyDispatcher                  2.0.5\r\n",
      "pyerfa                        2.0.0\r\n",
      "pyflakes                      2.4.0\r\n",
      "Pygments                      2.11.2\r\n",
      "PyHamcrest                    2.0.2\r\n",
      "PyJWT                         2.4.0\r\n",
      "pylint                        2.14.5\r\n",
      "pyodbc                        4.0.34\r\n",
      "pyOpenSSL                     22.0.0\r\n",
      "pyparsing                     3.0.9\r\n",
      "PyQt5-sip                     12.11.0\r\n",
      "pyrsistent                    0.18.0\r\n",
      "PySocks                       1.7.1\r\n",
      "pytest                        7.1.2\r\n",
      "python-dateutil               2.8.2\r\n",
      "python-snappy                 0.6.1\r\n",
      "pytz                          2022.7\r\n",
      "pyviz-comms                   2.0.2\r\n",
      "PyWavelets                    1.4.1\r\n",
      "PyYAML                        6.0\r\n",
      "pyzmq                         23.2.0\r\n",
      "QtPy                          2.4.1\r\n",
      "queuelib                      1.5.0\r\n",
      "regex                         2022.7.9\r\n",
      "requests                      2.28.1\r\n",
      "requests-file                 1.5.1\r\n",
      "requests-toolbelt             1.0.0\r\n",
      "rfc3986                       1.5.0\r\n",
      "rope                          0.22.0\r\n",
      "ruamel.yaml                   0.17.21\r\n",
      "ruamel.yaml.clib              0.2.6\r\n",
      "ruamel-yaml-conda             0.17.21\r\n",
      "s3transfer                    0.6.0\r\n",
      "scikit-image                  0.19.3\r\n",
      "scikit-learn                  1.2.0\r\n",
      "scipy                         1.9.3\r\n",
      "Scrapy                        2.6.2\r\n",
      "seaborn                       0.12.2\r\n",
      "Send2Trash                    1.8.0\r\n",
      "service-identity              18.1.0\r\n",
      "setuptools                    65.6.3\r\n",
      "sip                           6.6.2\r\n",
      "six                           1.16.0\r\n",
      "smart-open                    5.2.1\r\n",
      "sniffio                       1.3.0\r\n",
      "snowballstemmer               2.2.0\r\n",
      "sortedcollections             2.1.0\r\n",
      "sortedcontainers              2.4.0\r\n",
      "soupsieve                     2.3.2.post1\r\n",
      "Sphinx                        5.0.2\r\n",
      "sphinxcontrib-applehelp       1.0.2\r\n",
      "sphinxcontrib-devhelp         1.0.2\r\n",
      "sphinxcontrib-htmlhelp        2.0.0\r\n",
      "sphinxcontrib-jsmath          1.0.1\r\n",
      "sphinxcontrib-qthelp          1.0.3\r\n",
      "sphinxcontrib-serializinghtml 1.1.5\r\n",
      "SQLAlchemy                    1.4.39\r\n",
      "stack-data                    0.2.0\r\n",
      "statsmodels                   0.13.2\r\n",
      "sympy                         1.11.1\r\n",
      "tables                        3.7.0\r\n",
      "tabulate                      0.8.10\r\n",
      "TBB                           0.2\r\n",
      "tblib                         1.7.0\r\n",
      "tenacity                      8.0.1\r\n",
      "terminado                     0.17.1\r\n",
      "testpath                      0.6.0\r\n",
      "threadpoolctl                 2.2.0\r\n",
      "tifffile                      2021.7.2\r\n",
      "tinycss2                      1.2.1\r\n",
      "tldextract                    3.2.0\r\n",
      "toml                          0.10.2\r\n",
      "tomli                         2.0.1\r\n",
      "tomlkit                       0.11.1\r\n",
      "toolz                         0.12.0\r\n",
      "tornado                       6.2\r\n",
      "tqdm                          4.64.1\r\n",
      "traitlets                     5.7.1\r\n",
      "Twisted                       22.2.0\r\n",
      "typing_extensions             4.4.0\r\n",
      "ujson                         5.4.0\r\n",
      "urllib3                       1.26.14\r\n",
      "w3lib                         1.21.0\r\n",
      "wcwidth                       0.2.5\r\n",
      "webencodings                  0.5.1\r\n",
      "websocket-client              0.58.0\r\n",
      "Werkzeug                      2.2.2\r\n",
      "wheel                         0.37.1\r\n",
      "widgetsnbextension            3.5.2\r\n",
      "wrapt                         1.14.1\r\n",
      "xarray                        2022.11.0\r\n",
      "xlrd                          2.0.1\r\n",
      "XlsxWriter                    3.0.3\r\n",
      "xlwings                       0.27.15\r\n",
      "zict                          2.1.0\r\n",
      "zipp                          3.17.0\r\n",
      "zope.interface                5.4.0\r\n",
      "zstandard                     0.19.0\r\n"
     ]
    }
   ],
   "source": [
    "# !pip list"
   ],
   "metadata": {
    "collapsed": false,
    "ExecuteTime": {
     "end_time": "2024-01-21T15:39:50.661216Z",
     "start_time": "2024-01-21T15:39:49.703566Z"
    }
   },
   "id": "43953bc3716f982c",
   "execution_count": 4
  },
  {
   "cell_type": "code",
   "outputs": [
    {
     "name": "stdout",
     "output_type": "stream",
     "text": [
      "# packages in environment at /Users/emilejohnston/opt/anaconda3:\r\n",
      "#\r\n",
      "# Name                    Version                   Build  Channel\r\n",
      "_ipyw_jlab_nb_ext_conf    0.1.0           py310hca03da5_1  \r\n",
      "alabaster                 0.7.12             pyhd3eb1b0_0  \r\n",
      "anaconda                  2022.10                 py310_2  \r\n",
      "anaconda-anon-usage       0.4.3           py310hc3da52a_0  \r\n",
      "anaconda-client           1.12.1          py310hca03da5_0  \r\n",
      "anaconda-navigator        2.4.0           py310hca03da5_0  \r\n",
      "anaconda-project          0.11.1          py310hca03da5_0  \r\n",
      "anyio                     3.5.0           py310hca03da5_0  \r\n",
      "appdirs                   1.4.4              pyhd3eb1b0_0  \r\n",
      "appnope                   0.1.2           py310hca03da5_1001  \r\n",
      "appscript                 1.1.2           py310h1a28f6b_0  \r\n",
      "argon2-cffi               21.3.0             pyhd3eb1b0_0  \r\n",
      "argon2-cffi-bindings      21.2.0          py310h1a28f6b_0  \r\n",
      "astroid                   2.11.7          py310hca03da5_0  \r\n",
      "astropy                   5.1             py310h96f19d2_0  \r\n",
      "asttokens                 2.0.5              pyhd3eb1b0_0  \r\n",
      "attrs                     22.1.0          py310hca03da5_0  \r\n",
      "automat                   20.2.0                     py_0  \r\n",
      "babel                     2.11.0          py310hca03da5_0  \r\n",
      "backcall                  0.2.0              pyhd3eb1b0_0  \r\n",
      "backports                 1.1                pyhd3eb1b0_0  \r\n",
      "backports.functools_lru_cache 1.6.4              pyhd3eb1b0_0  \r\n",
      "backports.tempfile        1.0                pyhd3eb1b0_1  \r\n",
      "backports.weakref         1.0.post1                  py_1  \r\n",
      "bcrypt                    3.2.0           py310h1a28f6b_1  \r\n",
      "beautifulsoup4            4.11.1          py310hca03da5_0  \r\n",
      "bitarray                  2.5.1           py310h1a28f6b_0  \r\n",
      "bkcharts                  0.2             py310hca03da5_1  \r\n",
      "blas                      1.0                    openblas  \r\n",
      "bleach                    4.1.0              pyhd3eb1b0_0  \r\n",
      "blosc                     1.21.0               h98b2900_1  \r\n",
      "bokeh                     2.4.3           py310hca03da5_0  \r\n",
      "boltons                   23.0.0          py310hca03da5_0  \r\n",
      "boto3                     1.24.28         py310hca03da5_0  \r\n",
      "botocore                  1.27.59         py310hca03da5_0  \r\n",
      "bottleneck                1.3.5           py310h96f19d2_0  \r\n",
      "brotli                    1.0.9                h1a28f6b_7  \r\n",
      "brotli-bin                1.0.9                h1a28f6b_7  \r\n",
      "brotlipy                  0.7.0           py310h1a28f6b_1002  \r\n",
      "brunsli                   0.1                  hc377ac9_1  \r\n",
      "bzip2                     1.0.8                h620ffc9_4  \r\n",
      "c-ares                    1.18.1               h1a28f6b_0  \r\n",
      "ca-certificates           2022.10.11           hca03da5_0  \r\n",
      "cctools                   949.0.1             hc179dcd_25  \r\n",
      "cctools_osx-arm64         949.0.1             h332cad3_25  \r\n",
      "certifi                   2023.11.17               pypi_0    pypi\r\n",
      "cffi                      1.15.1          py310h80987f9_3  \r\n",
      "cfitsio                   3.470                h7f6438f_7  \r\n",
      "chardet                   3.0.4                    pypi_0    pypi\r\n",
      "charls                    2.2.0                hc377ac9_0  \r\n",
      "charset-normalizer        2.0.4              pyhd3eb1b0_0  \r\n",
      "click                     8.0.4           py310hca03da5_0  \r\n",
      "cloudpickle               2.0.0              pyhd3eb1b0_0  \r\n",
      "clyent                    1.2.2           py310hca03da5_1  \r\n",
      "colorama                  0.4.6           py310hca03da5_0  \r\n",
      "colorcet                  3.0.1           py310hca03da5_0  \r\n",
      "comm                      0.1.2           py310hca03da5_0  \r\n",
      "conda                     23.3.1          py310hca03da5_0  \r\n",
      "conda-build               3.27.0          py310hca03da5_0  \r\n",
      "conda-content-trust       0.1.3           py310hca03da5_0  \r\n",
      "conda-env                 2.6.0                hca03da5_1  \r\n",
      "conda-index               0.3.0           py310hca03da5_0  \r\n",
      "conda-pack                0.6.0              pyhd3eb1b0_0  \r\n",
      "conda-package-handling    2.2.0           py310hca03da5_0  \r\n",
      "conda-package-streaming   0.9.0           py310hca03da5_0  \r\n",
      "conda-repo-cli            1.0.41          py310hca03da5_0  \r\n",
      "conda-token               0.4.0              pyhd3eb1b0_0  \r\n",
      "conda-verify              3.4.2                      py_1  \r\n",
      "constantly                15.1.0          py310hca03da5_0  \r\n",
      "contourpy                 1.0.5           py310h525c30c_0  \r\n",
      "cryptography              38.0.4          py310h834c97f_0  \r\n",
      "cssselect                 1.1.0              pyhd3eb1b0_0  \r\n",
      "curl                      7.86.0               h80987f9_0  \r\n",
      "cycler                    0.11.0             pyhd3eb1b0_0  \r\n",
      "cython                    0.29.32         py310hc377ac9_0  \r\n",
      "cytoolz                   0.12.0          py310h1a28f6b_0  \r\n",
      "dask                      2022.5.0        py310hca03da5_0  \r\n",
      "dask-core                 2022.5.0        py310hca03da5_0  \r\n",
      "dataclasses               0.8                pyh6d0b6a4_7  \r\n",
      "datashader                0.14.3          py310hca03da5_0  \r\n",
      "datashape                 0.5.4           py310hca03da5_1  \r\n",
      "debugpy                   1.5.1           py310hc377ac9_0  \r\n",
      "decorator                 5.1.1              pyhd3eb1b0_0  \r\n",
      "defusedxml                0.7.1              pyhd3eb1b0_0  \r\n",
      "dill                      0.3.6           py310hca03da5_0  \r\n",
      "distributed               2022.5.0        py310hca03da5_0  \r\n",
      "docutils                  0.18.1          py310hca03da5_3  \r\n",
      "entrypoints               0.4             py310hca03da5_0  \r\n",
      "et_xmlfile                1.1.0           py310hca03da5_0  \r\n",
      "executing                 0.8.3              pyhd3eb1b0_0  \r\n",
      "fftw                      3.3.9                h1a28f6b_1  \r\n",
      "filelock                  3.9.0           py310hca03da5_0  \r\n",
      "flask                     2.2.2           py310hca03da5_0  \r\n",
      "flit-core                 3.6.0              pyhd3eb1b0_0  \r\n",
      "fonttools                 4.25.0             pyhd3eb1b0_0  \r\n",
      "freetype                  2.12.1               h1192e45_0  \r\n",
      "fsspec                    2022.11.0       py310hca03da5_0  \r\n",
      "future                    0.18.3          py310hca03da5_0  \r\n",
      "gensim                    4.1.2           py310hc377ac9_0  \r\n",
      "gettext                   0.21.0               h826f4ad_0  \r\n",
      "giflib                    5.2.1                h1a28f6b_0  \r\n",
      "glib                      2.69.1               h98b2900_1  \r\n",
      "glob2                     0.7                pyhd3eb1b0_0  \r\n",
      "gmp                       6.2.1                hc377ac9_3  \r\n",
      "gmpy2                     2.1.2           py310h8c48613_0  \r\n",
      "greenlet                  2.0.1           py310h313beb8_0  \r\n",
      "gst-plugins-base          1.14.1               h313beb8_1  \r\n",
      "gstreamer                 1.14.1               h80987f9_1  \r\n",
      "h11                       0.9.0                    pypi_0    pypi\r\n",
      "h2                        3.2.0                    pypi_0    pypi\r\n",
      "h5py                      3.7.0           py310h181c318_0  \r\n",
      "hdf5                      1.12.1               h160e8cb_2  \r\n",
      "heapdict                  1.0.1              pyhd3eb1b0_0  \r\n",
      "holoviews                 1.15.3          py310hca03da5_0  \r\n",
      "hpack                     3.0.0                    pypi_0    pypi\r\n",
      "hstspreload               2024.1.5                 pypi_0    pypi\r\n",
      "httpcore                  0.9.1                    pypi_0    pypi\r\n",
      "httpx                     0.13.3                   pypi_0    pypi\r\n",
      "hvplot                    0.8.2           py310hca03da5_0  \r\n",
      "hyperframe                5.2.0                    pypi_0    pypi\r\n",
      "hyperlink                 21.0.0             pyhd3eb1b0_0  \r\n",
      "icu                       68.1                 hc377ac9_0  \r\n",
      "idna                      2.10                     pypi_0    pypi\r\n",
      "imagecodecs               2021.8.26       py310h13cd46b_1  \r\n",
      "imageio                   2.19.3          py310hca03da5_0  \r\n",
      "imagesize                 1.4.1           py310hca03da5_0  \r\n",
      "importlib-metadata        7.0.0           py310hca03da5_1  \r\n",
      "incremental               21.3.0             pyhd3eb1b0_0  \r\n",
      "iniconfig                 1.1.1              pyhd3eb1b0_0  \r\n",
      "intake                    0.6.6           py310hca03da5_0  \r\n",
      "ipykernel                 6.19.2          py310h33ce5c2_0  \r\n",
      "ipython                   8.7.0           py310hca03da5_0  \r\n",
      "ipython_genutils          0.2.0              pyhd3eb1b0_1  \r\n",
      "ipywidgets                7.6.5              pyhd3eb1b0_1  \r\n",
      "isort                     5.9.3              pyhd3eb1b0_0  \r\n",
      "itemadapter               0.3.0              pyhd3eb1b0_0  \r\n",
      "itemloaders               1.0.4              pyhd3eb1b0_1  \r\n",
      "itsdangerous              2.0.1              pyhd3eb1b0_0  \r\n",
      "jdcal                     1.4.1              pyhd3eb1b0_0  \r\n",
      "jedi                      0.18.1          py310hca03da5_1  \r\n",
      "jinja2                    3.1.2           py310hca03da5_0  \r\n",
      "jmespath                  0.10.0             pyhd3eb1b0_0  \r\n",
      "joblib                    1.1.1           py310hca03da5_0  \r\n",
      "jpeg                      9e                   h1a28f6b_0  \r\n",
      "jq                        1.6                  h1a28f6b_1  \r\n",
      "json5                     0.9.6              pyhd3eb1b0_0  \r\n",
      "jsonpatch                 1.32               pyhd3eb1b0_0  \r\n",
      "jsonpointer               2.1                pyhd3eb1b0_0  \r\n",
      "jsonschema                4.16.0          py310hca03da5_0  \r\n",
      "jupyter_client            7.4.8           py310hca03da5_0  \r\n",
      "jupyter_console           6.4.4           py310hca03da5_0  \r\n",
      "jupyter_core              5.1.1           py310hca03da5_0  \r\n",
      "jupyter_server            1.23.4          py310hca03da5_0  \r\n",
      "jupyterlab                3.5.2           py310hca03da5_0  \r\n",
      "jupyterlab_pygments       0.1.2                      py_0  \r\n",
      "jupyterlab_server         2.16.5          py310hca03da5_0  \r\n",
      "jupyterlab_widgets        1.0.0              pyhd3eb1b0_1  \r\n",
      "jxrlib                    1.1                  h1a28f6b_2  \r\n",
      "keras                     2.12.0          py310hca03da5_0  \r\n",
      "keras-preprocessing       1.1.2              pyhd3eb1b0_0  \r\n",
      "kiwisolver                1.4.4           py310h313beb8_0  \r\n",
      "krb5                      1.19.2               h3b8d789_0  \r\n",
      "lazy-object-proxy         1.6.0           py310h1a28f6b_0  \r\n",
      "lcms2                     2.12                 hba8e193_0  \r\n",
      "ld64                      530                 hb29bf3f_25  \r\n",
      "ld64_osx-arm64            530                 h001ce53_25  \r\n",
      "ldid                      2.1.2                h64d1936_2  \r\n",
      "lerc                      3.0                  hc377ac9_0  \r\n",
      "libaec                    1.0.4                hc377ac9_1  \r\n",
      "libarchive                3.6.1                he3a3bf9_0  \r\n",
      "libbrotlicommon           1.0.9                h1a28f6b_7  \r\n",
      "libbrotlidec              1.0.9                h1a28f6b_7  \r\n",
      "libbrotlienc              1.0.9                h1a28f6b_7  \r\n",
      "libclang                  12.0.0          default_hc321e17_4  \r\n",
      "libcurl                   7.86.0               h0f1d93c_0  \r\n",
      "libcxx                    14.0.6               h848a8c0_0  \r\n",
      "libdeflate                1.8                  h1a28f6b_5  \r\n",
      "libedit                   3.1.20221030         h80987f9_0  \r\n",
      "libev                     4.33                 h1a28f6b_1  \r\n",
      "libffi                    3.4.2                hca03da5_6  \r\n",
      "libgfortran               5.0.0           11_3_0_hca03da5_28  \r\n",
      "libgfortran5              11.3.0              h009349e_28  \r\n",
      "libiconv                  1.16                 h1a28f6b_2  \r\n",
      "libidn2                   2.3.1                h1a28f6b_0  \r\n",
      "liblief                   0.11.5               hc377ac9_1  \r\n",
      "libllvm11                 11.1.0               h12f7ac0_6  \r\n",
      "libllvm12                 12.0.0               h12f7ac0_4  \r\n",
      "libllvm14                 14.0.6               h4b41812_0  \r\n",
      "libnghttp2                1.46.0               h95c9599_0  \r\n",
      "libopenblas               0.3.21               h269037a_0  \r\n",
      "libpng                    1.6.37               hb8d0fd4_0  \r\n",
      "libpq                     12.9                 h65cfe13_3  \r\n",
      "libsodium                 1.0.18               h1a28f6b_0  \r\n",
      "libssh2                   1.10.0               hf27765b_0  \r\n",
      "libtiff                   4.5.0                h2fd578a_0  \r\n",
      "libunistring              0.9.10               h1a28f6b_0  \r\n",
      "libwebp                   1.2.4                h68602c7_0  \r\n",
      "libwebp-base              1.2.4                h1a28f6b_0  \r\n",
      "libxml2                   2.9.14               h8c5e841_0  \r\n",
      "libxslt                   1.1.35               h9833966_0  \r\n",
      "libzopfli                 1.0.3                hc377ac9_0  \r\n",
      "llvm-openmp               14.0.6               hc6e5704_0  \r\n",
      "llvmlite                  0.39.1          py310h98b2900_0  \r\n",
      "locket                    1.0.0           py310hca03da5_0  \r\n",
      "lxml                      4.9.1           py310h2fae87d_0  \r\n",
      "lz4                       3.1.3           py310h1a28f6b_0  \r\n",
      "lz4-c                     1.9.4                h313beb8_0  \r\n",
      "lzo                       2.10                 h1a28f6b_2  \r\n",
      "markdown                  3.4.1           py310hca03da5_0  \r\n",
      "markupsafe                2.1.1           py310h1a28f6b_0  \r\n",
      "matplotlib                3.6.2           py310hca03da5_0  \r\n",
      "matplotlib-base           3.6.2           py310h8bbb115_0  \r\n",
      "matplotlib-inline         0.1.6           py310hca03da5_0  \r\n",
      "mccabe                    0.7.0              pyhd3eb1b0_0  \r\n",
      "mistune                   0.8.4           py310h1a28f6b_1000  \r\n",
      "mock                      4.0.3              pyhd3eb1b0_0  \r\n",
      "more-itertools            10.1.0          py310hca03da5_0  \r\n",
      "mpc                       1.1.0                h8c48613_1  \r\n",
      "mpfr                      4.0.2                h695f6f0_1  \r\n",
      "mpmath                    1.2.1                    pypi_0    pypi\r\n",
      "msgpack-python            1.0.3           py310h525c30c_0  \r\n",
      "multipledispatch          0.6.0           py310hca03da5_0  \r\n",
      "munkres                   1.1.4                      py_0  \r\n",
      "navigator-updater         0.4.0           py310hca03da5_1  \r\n",
      "nbclassic                 0.4.8           py310hca03da5_0  \r\n",
      "nbclient                  0.5.13          py310hca03da5_0  \r\n",
      "nbconvert                 6.5.4           py310hca03da5_0  \r\n",
      "nbformat                  5.7.0           py310hca03da5_0  \r\n",
      "ncurses                   6.3                  h1a28f6b_3  \r\n",
      "nest-asyncio              1.5.6           py310hca03da5_0  \r\n",
      "networkx                  2.8.4           py310hca03da5_0  \r\n",
      "nltk                      3.7                pyhd3eb1b0_0  \r\n",
      "nomkl                     3.0                           0  \r\n",
      "nose                      1.3.7           pyhd3eb1b0_1008  \r\n",
      "notebook                  6.5.2           py310hca03da5_0  \r\n",
      "notebook-shim             0.2.2           py310hca03da5_0  \r\n",
      "nspr                      4.35                 h313beb8_0  \r\n",
      "nss                       3.74                 h142855e_0  \r\n",
      "numba                     0.56.4          py310h46d7db6_0  \r\n",
      "numexpr                   2.8.4           py310hecc3335_0  \r\n",
      "numpy                     1.21.5          py310h220015d_3  \r\n",
      "numpy-base                1.21.5          py310h742c864_3  \r\n",
      "numpydoc                  1.5.0           py310hca03da5_0  \r\n",
      "olefile                   0.46               pyhd3eb1b0_0  \r\n",
      "oniguruma                 6.9.7.1              h1a28f6b_0  \r\n",
      "openblas                  0.3.21               hca03da5_0  \r\n",
      "openblas-devel            0.3.21               hca03da5_0  \r\n",
      "openjpeg                  2.3.0                h7a6adac_2  \r\n",
      "openpyxl                  3.0.10          py310h1a28f6b_0  \r\n",
      "openssl                   1.1.1s               h1a28f6b_0  \r\n",
      "packaging                 22.0            py310hca03da5_0  \r\n",
      "pandas                    1.5.2           py310h46d7db6_0  \r\n",
      "pandocfilters             1.5.0              pyhd3eb1b0_0  \r\n",
      "panel                     0.14.1          py310hca03da5_0  \r\n",
      "param                     1.12.3          py310hca03da5_0  \r\n",
      "parsel                    1.6.0           py310hca03da5_0  \r\n",
      "parso                     0.8.3              pyhd3eb1b0_0  \r\n",
      "partd                     1.2.0              pyhd3eb1b0_1  \r\n",
      "patch                     2.7.6             h1a28f6b_1001  \r\n",
      "pathlib                   1.0.1              pyhd3eb1b0_1  \r\n",
      "patsy                     0.5.2           py310hca03da5_1  \r\n",
      "pcre                      8.45                 hc377ac9_0  \r\n",
      "pep8                      1.7.1           py310hca03da5_1  \r\n",
      "pexpect                   4.8.0              pyhd3eb1b0_3  \r\n",
      "pickleshare               0.7.5           pyhd3eb1b0_1003  \r\n",
      "pillow                    9.3.0           py310hf4a492f_1  \r\n",
      "pip                       22.3.1          py310hca03da5_0  \r\n",
      "pkginfo                   1.8.2              pyhd3eb1b0_0  \r\n",
      "platformdirs              2.5.2           py310hca03da5_0  \r\n",
      "plotly                    5.9.0           py310hca03da5_0  \r\n",
      "pluggy                    1.0.0           py310hca03da5_1  \r\n",
      "ply                       3.11            py310hca03da5_0  \r\n",
      "prometheus_client         0.14.1          py310hca03da5_0  \r\n",
      "prompt-toolkit            3.0.36          py310hca03da5_0  \r\n",
      "prompt_toolkit            3.0.36               hd3eb1b0_0  \r\n",
      "protego                   0.1.16                     py_0  \r\n",
      "psutil                    5.9.0           py310h1a28f6b_0  \r\n",
      "ptyprocess                0.7.0              pyhd3eb1b0_2  \r\n",
      "pure_eval                 0.2.2              pyhd3eb1b0_0  \r\n",
      "py                        1.11.0             pyhd3eb1b0_0  \r\n",
      "py-lief                   0.11.5          py310hc377ac9_1  \r\n",
      "pyasn1                    0.4.8              pyhd3eb1b0_0  \r\n",
      "pyasn1-modules            0.2.8                      py_0  \r\n",
      "pycodestyle               2.8.0              pyhd3eb1b0_0  \r\n",
      "pycosat                   0.6.4           py310h1a28f6b_0  \r\n",
      "pycparser                 2.21               pyhd3eb1b0_0  \r\n",
      "pyct                      0.4.8           py310hca03da5_1  \r\n",
      "pycurl                    7.45.1                   pypi_0    pypi\r\n",
      "pydispatcher              2.0.5           py310hca03da5_2  \r\n",
      "pyerfa                    2.0.0           py310h1a28f6b_0  \r\n",
      "pyflakes                  2.4.0              pyhd3eb1b0_0  \r\n",
      "pygments                  2.11.2             pyhd3eb1b0_0  \r\n",
      "pyhamcrest                2.0.2              pyhd3eb1b0_2  \r\n",
      "pyjwt                     2.4.0           py310hca03da5_0  \r\n",
      "pylint                    2.14.5          py310hca03da5_0  \r\n",
      "pyodbc                    4.0.34          py310hc377ac9_0  \r\n",
      "pyopenssl                 22.0.0             pyhd3eb1b0_0  \r\n",
      "pyparsing                 3.0.9           py310hca03da5_0  \r\n",
      "pyqt                      5.15.7          py310hc377ac9_0  \r\n",
      "pyqt5-sip                 12.11.0                  pypi_0    pypi\r\n",
      "pyrsistent                0.18.0          py310h1a28f6b_0  \r\n",
      "pysocks                   1.7.1           py310hca03da5_0  \r\n",
      "pytables                  3.7.0           py310ha5d4e50_1  \r\n",
      "pytest                    7.1.2           py310hca03da5_0  \r\n",
      "python                    3.10.9               hc0d8a6c_0  \r\n",
      "python-dateutil           2.8.2              pyhd3eb1b0_0  \r\n",
      "python-fastjsonschema     2.16.2          py310hca03da5_0  \r\n",
      "python-libarchive-c       2.9                pyhd3eb1b0_1  \r\n",
      "python-snappy             0.6.1           py310h313beb8_0  \r\n",
      "python.app                3               py310h1a28f6b_0  \r\n",
      "pytz                      2022.7          py310hca03da5_0  \r\n",
      "pyviz_comms               2.0.2              pyhd3eb1b0_0  \r\n",
      "pywavelets                1.4.1           py310h80987f9_0  \r\n",
      "pyyaml                    6.0             py310h80987f9_1  \r\n",
      "pyzmq                     23.2.0          py310hc377ac9_0  \r\n",
      "qt-main                   5.15.2               ha2d02b5_7  \r\n",
      "qt-webengine              5.15.9               h2903aaf_7  \r\n",
      "qtpy                      2.4.1           py310hca03da5_0  \r\n",
      "qtwebkit                  5.212                h0f11f3c_4  \r\n",
      "queuelib                  1.5.0           py310hca03da5_0  \r\n",
      "readline                  8.2                  h1a28f6b_0  \r\n",
      "regex                     2022.7.9        py310h1a28f6b_0  \r\n",
      "requests                  2.28.1          py310hca03da5_0  \r\n",
      "requests-file             1.5.1              pyhd3eb1b0_0  \r\n",
      "requests-toolbelt         1.0.0           py310hca03da5_0  \r\n",
      "rfc3986                   1.5.0                    pypi_0    pypi\r\n",
      "rope                      0.22.0             pyhd3eb1b0_0  \r\n",
      "ruamel.yaml               0.17.21         py310h1a28f6b_0  \r\n",
      "ruamel.yaml.clib          0.2.6           py310h1a28f6b_1  \r\n",
      "ruamel_yaml               0.17.21         py310h1a28f6b_0  \r\n",
      "s3transfer                0.6.0           py310hca03da5_0  \r\n",
      "scikit-image              0.19.3          py310h313beb8_1  \r\n",
      "scikit-learn              1.2.0           py310h313beb8_0  \r\n",
      "scipy                     1.9.3           py310h20cbe94_0  \r\n",
      "scrapy                    2.6.2           py310hca03da5_0  \r\n",
      "seaborn                   0.12.2          py310hca03da5_0  \r\n",
      "send2trash                1.8.0              pyhd3eb1b0_1  \r\n",
      "service_identity          18.1.0             pyhd3eb1b0_1  \r\n",
      "setuptools                65.6.3          py310hca03da5_0  \r\n",
      "sip                       6.6.2           py310hc377ac9_0  \r\n",
      "six                       1.16.0             pyhd3eb1b0_1  \r\n",
      "smart_open                5.2.1           py310hca03da5_0  \r\n",
      "snappy                    1.1.9                hc377ac9_0  \r\n",
      "sniffio                   1.3.0                    pypi_0    pypi\r\n",
      "snowballstemmer           2.2.0              pyhd3eb1b0_0  \r\n",
      "sortedcollections         2.1.0              pyhd3eb1b0_0  \r\n",
      "sortedcontainers          2.4.0              pyhd3eb1b0_0  \r\n",
      "soupsieve                 2.3.2.post1     py310hca03da5_0  \r\n",
      "sphinx                    5.0.2           py310hca03da5_0  \r\n",
      "sphinxcontrib-applehelp   1.0.2              pyhd3eb1b0_0  \r\n",
      "sphinxcontrib-devhelp     1.0.2              pyhd3eb1b0_0  \r\n",
      "sphinxcontrib-htmlhelp    2.0.0              pyhd3eb1b0_0  \r\n",
      "sphinxcontrib-jsmath      1.0.1              pyhd3eb1b0_0  \r\n",
      "sphinxcontrib-qthelp      1.0.3              pyhd3eb1b0_0  \r\n",
      "sphinxcontrib-serializinghtml 1.1.5              pyhd3eb1b0_0  \r\n",
      "sqlalchemy                1.4.39          py310h1a28f6b_0  \r\n",
      "sqlite                    3.40.1               h7a7dc30_0  \r\n",
      "stack_data                0.2.0              pyhd3eb1b0_0  \r\n",
      "statsmodels               0.13.2          py310h1a28f6b_0  \r\n",
      "sympy                     1.11.1          py310hca03da5_0  \r\n",
      "tabulate                  0.8.10          py310hca03da5_0  \r\n",
      "tapi                      1100.0.11            h8754e6a_1  \r\n",
      "tbb                       2021.6.0             h48ca7d4_1  \r\n",
      "tbb4py                    2021.6.0        py310h48ca7d4_1  \r\n",
      "tblib                     1.7.0              pyhd3eb1b0_0  \r\n",
      "tenacity                  8.0.1           py310hca03da5_1  \r\n",
      "terminado                 0.17.1          py310hca03da5_0  \r\n",
      "testpath                  0.6.0           py310hca03da5_0  \r\n",
      "threadpoolctl             2.2.0              pyh0d69192_0  \r\n",
      "tifffile                  2021.7.2           pyhd3eb1b0_2  \r\n",
      "tinycss2                  1.2.1           py310hca03da5_0  \r\n",
      "tk                        8.6.12               hb8d0fd4_0  \r\n",
      "tldextract                3.2.0              pyhd3eb1b0_0  \r\n",
      "toml                      0.10.2             pyhd3eb1b0_0  \r\n",
      "tomli                     2.0.1           py310hca03da5_0  \r\n",
      "tomlkit                   0.11.1          py310hca03da5_0  \r\n",
      "toolz                     0.12.0          py310hca03da5_0  \r\n",
      "tornado                   6.2             py310h1a28f6b_0  \r\n",
      "tqdm                      4.64.1          py310hca03da5_0  \r\n",
      "traitlets                 5.7.1           py310hca03da5_0  \r\n",
      "twisted                   22.2.0          py310h1a28f6b_1  \r\n",
      "typing-extensions         4.4.0           py310hca03da5_0  \r\n",
      "typing_extensions         4.4.0           py310hca03da5_0  \r\n",
      "tzdata                    2022g                h04d1e81_0  \r\n",
      "ujson                     5.4.0           py310hc377ac9_0  \r\n",
      "unixodbc                  2.3.11               h1a28f6b_0  \r\n",
      "urllib3                   1.26.14         py310hca03da5_0  \r\n",
      "w3lib                     1.21.0             pyhd3eb1b0_0  \r\n",
      "wcwidth                   0.2.5              pyhd3eb1b0_0  \r\n",
      "webencodings              0.5.1           py310hca03da5_1  \r\n",
      "websocket-client          0.58.0          py310hca03da5_4  \r\n",
      "werkzeug                  2.2.2           py310hca03da5_0  \r\n",
      "wget                      1.21.3               hc6d1d07_0  \r\n",
      "wheel                     0.37.1             pyhd3eb1b0_0  \r\n",
      "widgetsnbextension        3.5.2           py310hca03da5_0  \r\n",
      "wrapt                     1.14.1          py310h1a28f6b_0  \r\n",
      "xarray                    2022.11.0       py310hca03da5_0  \r\n",
      "xlrd                      2.0.1              pyhd3eb1b0_0  \r\n",
      "xlsxwriter                3.0.3              pyhd3eb1b0_0  \r\n",
      "xlwings                   0.27.15         py310hca03da5_0  \r\n",
      "xz                        5.2.10               h80987f9_1  \r\n",
      "yaml                      0.2.5                h1a28f6b_0  \r\n",
      "zeromq                    4.3.4                hc377ac9_0  \r\n",
      "zfp                       0.5.5                hc377ac9_6  \r\n",
      "zict                      2.1.0           py310hca03da5_0  \r\n",
      "zipp                      3.17.0          py310hca03da5_0  \r\n",
      "zlib                      1.2.13               h5a0b063_0  \r\n",
      "zope                      1.0             py310hca03da5_1  \r\n",
      "zope.interface            5.4.0           py310h1a28f6b_0  \r\n",
      "zstandard                 0.19.0          py310h80987f9_0  \r\n",
      "zstd                      1.5.2                h8574219_0  \r\n"
     ]
    }
   ],
   "source": [
    "# !conda list "
   ],
   "metadata": {
    "collapsed": false,
    "ExecuteTime": {
     "end_time": "2024-01-21T15:37:25.352521Z",
     "start_time": "2024-01-21T15:37:23.007860Z"
    }
   },
   "id": "1c70ea62d9378e78",
   "execution_count": 2
  },
  {
   "cell_type": "code",
   "outputs": [
    {
     "name": "stdout",
     "output_type": "stream",
     "text": [
      "\u001B[33mWARNING: Skipping googletrans as it is not installed.\u001B[0m\u001B[33m\r\n",
      "\u001B[0m"
     ]
    }
   ],
   "source": [
    "# !pip uninstall googletrans -y"
   ],
   "metadata": {
    "collapsed": false,
    "ExecuteTime": {
     "end_time": "2024-01-21T15:42:04.492147Z",
     "start_time": "2024-01-21T15:42:03.773494Z"
    }
   },
   "id": "b6a1407e27fe9ce2",
   "execution_count": 5
  },
  {
   "cell_type": "code",
   "outputs": [
    {
     "name": "stdout",
     "output_type": "stream",
     "text": [
      "Collecting googletrans==4.0.0-rc1\r\n",
      "  Downloading googletrans-4.0.0rc1.tar.gz (20 kB)\r\n",
      "  Preparing metadata (setup.py) ... \u001B[?25ldone\r\n",
      "\u001B[?25hRequirement already satisfied: httpx==0.13.3 in /Users/emilejohnston/opt/anaconda3/lib/python3.10/site-packages (from googletrans==4.0.0-rc1) (0.13.3)\r\n",
      "Requirement already satisfied: idna==2.* in /Users/emilejohnston/opt/anaconda3/lib/python3.10/site-packages (from httpx==0.13.3->googletrans==4.0.0-rc1) (2.10)\r\n",
      "Requirement already satisfied: sniffio in /Users/emilejohnston/opt/anaconda3/lib/python3.10/site-packages (from httpx==0.13.3->googletrans==4.0.0-rc1) (1.3.0)\r\n",
      "Requirement already satisfied: rfc3986<2,>=1.3 in /Users/emilejohnston/opt/anaconda3/lib/python3.10/site-packages (from httpx==0.13.3->googletrans==4.0.0-rc1) (1.5.0)\r\n",
      "Requirement already satisfied: chardet==3.* in /Users/emilejohnston/opt/anaconda3/lib/python3.10/site-packages (from httpx==0.13.3->googletrans==4.0.0-rc1) (3.0.4)\r\n",
      "Requirement already satisfied: hstspreload in /Users/emilejohnston/opt/anaconda3/lib/python3.10/site-packages (from httpx==0.13.3->googletrans==4.0.0-rc1) (2024.1.5)\r\n",
      "Requirement already satisfied: certifi in /Users/emilejohnston/opt/anaconda3/lib/python3.10/site-packages (from httpx==0.13.3->googletrans==4.0.0-rc1) (2023.11.17)\r\n",
      "Requirement already satisfied: httpcore==0.9.* in /Users/emilejohnston/opt/anaconda3/lib/python3.10/site-packages (from httpx==0.13.3->googletrans==4.0.0-rc1) (0.9.1)\r\n",
      "Requirement already satisfied: h2==3.* in /Users/emilejohnston/opt/anaconda3/lib/python3.10/site-packages (from httpcore==0.9.*->httpx==0.13.3->googletrans==4.0.0-rc1) (3.2.0)\r\n",
      "Requirement already satisfied: h11<0.10,>=0.8 in /Users/emilejohnston/opt/anaconda3/lib/python3.10/site-packages (from httpcore==0.9.*->httpx==0.13.3->googletrans==4.0.0-rc1) (0.9.0)\r\n",
      "Requirement already satisfied: hpack<4,>=3.0 in /Users/emilejohnston/opt/anaconda3/lib/python3.10/site-packages (from h2==3.*->httpcore==0.9.*->httpx==0.13.3->googletrans==4.0.0-rc1) (3.0.0)\r\n",
      "Requirement already satisfied: hyperframe<6,>=5.2.0 in /Users/emilejohnston/opt/anaconda3/lib/python3.10/site-packages (from h2==3.*->httpcore==0.9.*->httpx==0.13.3->googletrans==4.0.0-rc1) (5.2.0)\r\n",
      "Building wheels for collected packages: googletrans\r\n",
      "  Building wheel for googletrans (setup.py) ... \u001B[?25ldone\r\n",
      "\u001B[?25h  Created wheel for googletrans: filename=googletrans-4.0.0rc1-py3-none-any.whl size=17397 sha256=3a8d413a02af40aca5e5153f38de6416ac13fc05794b2c33feabee5d9630a75b\r\n",
      "  Stored in directory: /Users/emilejohnston/Library/Caches/pip/wheels/54/ca/27/562b6eac3a495887e4b44bac3a1efe925fa603d085ba89a21d\r\n",
      "Successfully built googletrans\r\n",
      "Installing collected packages: googletrans\r\n",
      "Successfully installed googletrans-4.0.0rc1\r\n"
     ]
    }
   ],
   "source": [
    "# !pip install googletrans==4.0.0-rc1"
   ],
   "metadata": {
    "collapsed": false,
    "ExecuteTime": {
     "end_time": "2024-01-21T15:43:21.920711Z",
     "start_time": "2024-01-21T15:43:19.448420Z"
    }
   },
   "id": "6cf4f0ecb5bc1277",
   "execution_count": 8
  },
  {
   "cell_type": "code",
   "outputs": [
    {
     "name": "stdout",
     "output_type": "stream",
     "text": [
      "Files removed: 851\r\n"
     ]
    }
   ],
   "source": [
    "# !pip cache purge"
   ],
   "metadata": {
    "collapsed": false,
    "ExecuteTime": {
     "end_time": "2024-01-21T15:42:30.729764Z",
     "start_time": "2024-01-21T15:42:29.672197Z"
    }
   },
   "id": "ad4c64b4808ef103",
   "execution_count": 6
  },
  {
   "cell_type": "code",
   "outputs": [
    {
     "name": "stdout",
     "output_type": "stream",
     "text": [
      "Name: googletrans\r\n",
      "Version: 3.0.0\r\n",
      "Summary: Free Google Translate API for Python. Translates totally free of charge.\r\n",
      "Home-page: https://github.com/ssut/py-googletrans\r\n",
      "Author: SuHun Han\r\n",
      "Author-email: ssut@ssut.me\r\n",
      "License: MIT\r\n",
      "Location: /opt/homebrew/lib/python3.11/site-packages\r\n",
      "Requires: httpx\r\n",
      "Required-by: \r\n",
      "Note: you may need to restart the kernel to use updated packages.\n"
     ]
    }
   ],
   "source": [
    "# pip show googletrans"
   ],
   "metadata": {
    "collapsed": false,
    "ExecuteTime": {
     "end_time": "2024-01-21T15:42:34.041589Z",
     "start_time": "2024-01-21T15:42:32.886522Z"
    }
   },
   "id": "d44f45f1104d65af",
   "execution_count": 7
  },
  {
   "cell_type": "markdown",
   "source": [
    "### Using the translator"
   ],
   "metadata": {
    "collapsed": false
   },
   "id": "9a7b7e074ffe15d7"
  },
  {
   "cell_type": "code",
   "outputs": [],
   "source": [
    "from googletrans import Translator"
   ],
   "metadata": {
    "collapsed": false,
    "ExecuteTime": {
     "end_time": "2024-01-21T15:43:27.850066Z",
     "start_time": "2024-01-21T15:43:27.760465Z"
    }
   },
   "id": "847a17412bc188d0",
   "execution_count": 9
  },
  {
   "cell_type": "markdown",
   "source": [
    "testing if the translator works (target language is English by default)"
   ],
   "metadata": {
    "collapsed": false
   },
   "id": "cc8d984572998e4e"
  },
  {
   "cell_type": "code",
   "outputs": [
    {
     "ename": "AttributeError",
     "evalue": "'NoneType' object has no attribute 'group'",
     "output_type": "error",
     "traceback": [
      "\u001B[0;31m---------------------------------------------------------------------------\u001B[0m",
      "\u001B[0;31mAttributeError\u001B[0m                            Traceback (most recent call last)",
      "Cell \u001B[0;32mIn[10], line 2\u001B[0m\n\u001B[1;32m      1\u001B[0m translator \u001B[38;5;241m=\u001B[39m Translator()\n\u001B[0;32m----> 2\u001B[0m \u001B[43mtranslator\u001B[49m\u001B[38;5;241;43m.\u001B[39;49m\u001B[43mtranslate\u001B[49m\u001B[43m(\u001B[49m\u001B[38;5;124;43m'\u001B[39;49m\u001B[38;5;124;43mGenève\u001B[39;49m\u001B[38;5;124;43m'\u001B[39;49m\u001B[43m)\u001B[49m\n",
      "File \u001B[0;32m/opt/homebrew/lib/python3.11/site-packages/googletrans/client.py:182\u001B[0m, in \u001B[0;36mTranslator.translate\u001B[0;34m(self, text, dest, src, **kwargs)\u001B[0m\n\u001B[1;32m    179\u001B[0m     \u001B[38;5;28;01mreturn\u001B[39;00m result\n\u001B[1;32m    181\u001B[0m origin \u001B[38;5;241m=\u001B[39m text\n\u001B[0;32m--> 182\u001B[0m data \u001B[38;5;241m=\u001B[39m \u001B[38;5;28;43mself\u001B[39;49m\u001B[38;5;241;43m.\u001B[39;49m\u001B[43m_translate\u001B[49m\u001B[43m(\u001B[49m\u001B[43mtext\u001B[49m\u001B[43m,\u001B[49m\u001B[43m \u001B[49m\u001B[43mdest\u001B[49m\u001B[43m,\u001B[49m\u001B[43m \u001B[49m\u001B[43msrc\u001B[49m\u001B[43m,\u001B[49m\u001B[43m \u001B[49m\u001B[43mkwargs\u001B[49m\u001B[43m)\u001B[49m\n\u001B[1;32m    184\u001B[0m \u001B[38;5;66;03m# this code will be updated when the format is changed.\u001B[39;00m\n\u001B[1;32m    185\u001B[0m translated \u001B[38;5;241m=\u001B[39m \u001B[38;5;124m'\u001B[39m\u001B[38;5;124m'\u001B[39m\u001B[38;5;241m.\u001B[39mjoin([d[\u001B[38;5;241m0\u001B[39m] \u001B[38;5;28;01mif\u001B[39;00m d[\u001B[38;5;241m0\u001B[39m] \u001B[38;5;28;01melse\u001B[39;00m \u001B[38;5;124m'\u001B[39m\u001B[38;5;124m'\u001B[39m \u001B[38;5;28;01mfor\u001B[39;00m d \u001B[38;5;129;01min\u001B[39;00m data[\u001B[38;5;241m0\u001B[39m]])\n",
      "File \u001B[0;32m/opt/homebrew/lib/python3.11/site-packages/googletrans/client.py:78\u001B[0m, in \u001B[0;36mTranslator._translate\u001B[0;34m(self, text, dest, src, override)\u001B[0m\n\u001B[1;32m     77\u001B[0m \u001B[38;5;28;01mdef\u001B[39;00m \u001B[38;5;21m_translate\u001B[39m(\u001B[38;5;28mself\u001B[39m, text, dest, src, override):\n\u001B[0;32m---> 78\u001B[0m     token \u001B[38;5;241m=\u001B[39m \u001B[38;5;28;43mself\u001B[39;49m\u001B[38;5;241;43m.\u001B[39;49m\u001B[43mtoken_acquirer\u001B[49m\u001B[38;5;241;43m.\u001B[39;49m\u001B[43mdo\u001B[49m\u001B[43m(\u001B[49m\u001B[43mtext\u001B[49m\u001B[43m)\u001B[49m\n\u001B[1;32m     79\u001B[0m     params \u001B[38;5;241m=\u001B[39m utils\u001B[38;5;241m.\u001B[39mbuild_params(query\u001B[38;5;241m=\u001B[39mtext, src\u001B[38;5;241m=\u001B[39msrc, dest\u001B[38;5;241m=\u001B[39mdest,\n\u001B[1;32m     80\u001B[0m                                 token\u001B[38;5;241m=\u001B[39mtoken, override\u001B[38;5;241m=\u001B[39moverride)\n\u001B[1;32m     82\u001B[0m     url \u001B[38;5;241m=\u001B[39m urls\u001B[38;5;241m.\u001B[39mTRANSLATE\u001B[38;5;241m.\u001B[39mformat(host\u001B[38;5;241m=\u001B[39m\u001B[38;5;28mself\u001B[39m\u001B[38;5;241m.\u001B[39m_pick_service_url())\n",
      "File \u001B[0;32m/opt/homebrew/lib/python3.11/site-packages/googletrans/gtoken.py:194\u001B[0m, in \u001B[0;36mTokenAcquirer.do\u001B[0;34m(self, text)\u001B[0m\n\u001B[1;32m    193\u001B[0m \u001B[38;5;28;01mdef\u001B[39;00m \u001B[38;5;21mdo\u001B[39m(\u001B[38;5;28mself\u001B[39m, text):\n\u001B[0;32m--> 194\u001B[0m     \u001B[38;5;28;43mself\u001B[39;49m\u001B[38;5;241;43m.\u001B[39;49m\u001B[43m_update\u001B[49m\u001B[43m(\u001B[49m\u001B[43m)\u001B[49m\n\u001B[1;32m    195\u001B[0m     tk \u001B[38;5;241m=\u001B[39m \u001B[38;5;28mself\u001B[39m\u001B[38;5;241m.\u001B[39macquire(text)\n\u001B[1;32m    196\u001B[0m     \u001B[38;5;28;01mreturn\u001B[39;00m tk\n",
      "File \u001B[0;32m/opt/homebrew/lib/python3.11/site-packages/googletrans/gtoken.py:62\u001B[0m, in \u001B[0;36mTokenAcquirer._update\u001B[0;34m(self)\u001B[0m\n\u001B[1;32m     59\u001B[0m     \u001B[38;5;28;01mreturn\u001B[39;00m\n\u001B[1;32m     61\u001B[0m \u001B[38;5;66;03m# this will be the same as python code after stripping out a reserved word 'var'\u001B[39;00m\n\u001B[0;32m---> 62\u001B[0m code \u001B[38;5;241m=\u001B[39m \u001B[38;5;28;43mself\u001B[39;49m\u001B[38;5;241;43m.\u001B[39;49m\u001B[43mRE_TKK\u001B[49m\u001B[38;5;241;43m.\u001B[39;49m\u001B[43msearch\u001B[49m\u001B[43m(\u001B[49m\u001B[43mr\u001B[49m\u001B[38;5;241;43m.\u001B[39;49m\u001B[43mtext\u001B[49m\u001B[43m)\u001B[49m\u001B[38;5;241;43m.\u001B[39;49m\u001B[43mgroup\u001B[49m(\u001B[38;5;241m1\u001B[39m)\u001B[38;5;241m.\u001B[39mreplace(\u001B[38;5;124m'\u001B[39m\u001B[38;5;124mvar \u001B[39m\u001B[38;5;124m'\u001B[39m, \u001B[38;5;124m'\u001B[39m\u001B[38;5;124m'\u001B[39m)\n\u001B[1;32m     63\u001B[0m \u001B[38;5;66;03m# unescape special ascii characters such like a \\x3d(=)\u001B[39;00m\n\u001B[1;32m     64\u001B[0m code \u001B[38;5;241m=\u001B[39m code\u001B[38;5;241m.\u001B[39mencode()\u001B[38;5;241m.\u001B[39mdecode(\u001B[38;5;124m'\u001B[39m\u001B[38;5;124municode-escape\u001B[39m\u001B[38;5;124m'\u001B[39m)\n",
      "\u001B[0;31mAttributeError\u001B[0m: 'NoneType' object has no attribute 'group'"
     ]
    }
   ],
   "source": [
    "translator = Translator()\n",
    "translator.translate('Genève')"
   ],
   "metadata": {
    "collapsed": false,
    "ExecuteTime": {
     "end_time": "2024-01-21T15:43:29.638635Z",
     "start_time": "2024-01-21T15:43:28.744577Z"
    }
   },
   "id": "50d8365299e45ba5",
   "execution_count": 10
  },
  {
   "cell_type": "code",
   "outputs": [],
   "source": [
    "translated_train_cities = train_cities.apply(lambda city: translator.translate(city))\n",
    "print(f'Type of translated_train_cities: {type(translated_train_cities)}')\n",
    "translated_train_cities"
   ],
   "metadata": {
    "collapsed": false,
    "ExecuteTime": {
     "start_time": "2024-01-21T15:29:22.754749Z"
    }
   },
   "id": "f5f8aeb26ee43cf8"
  },
  {
   "cell_type": "code",
   "outputs": [],
   "source": [
    "print(f'There are {airport_cities - translated_train_cities} from the flight dataset which are not in the train dataset.')\n",
    "airport_cities - translated_train_cities"
   ],
   "metadata": {
    "collapsed": false
   },
   "id": "9300cd5cbaffc762"
  }
 ],
 "metadata": {
  "kernelspec": {
   "display_name": "Python 3",
   "language": "python",
   "name": "python3"
  },
  "language_info": {
   "codemirror_mode": {
    "name": "ipython",
    "version": 2
   },
   "file_extension": ".py",
   "mimetype": "text/x-python",
   "name": "python",
   "nbconvert_exporter": "python",
   "pygments_lexer": "ipython2",
   "version": "2.7.6"
  }
 },
 "nbformat": 4,
 "nbformat_minor": 5
}
