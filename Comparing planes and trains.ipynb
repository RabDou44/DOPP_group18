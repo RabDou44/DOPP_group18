{
 "cells": [
  {
   "cell_type": "markdown",
   "source": [
    "# Comparing train and plane travel times"
   ],
   "metadata": {
    "collapsed": false
   },
   "id": "3556dc49dec53ec5"
  },
  {
   "cell_type": "markdown",
   "source": [
    "## Import libraries"
   ],
   "metadata": {
    "collapsed": false
   },
   "id": "c1e9c843cddeb436"
  },
  {
   "cell_type": "code",
   "outputs": [],
   "source": [
    "import pandas as pd"
   ],
   "metadata": {
    "collapsed": false,
    "ExecuteTime": {
     "end_time": "2024-01-20T18:49:16.637966Z",
     "start_time": "2024-01-20T18:49:14.824737Z"
    }
   },
   "id": "ad211d6708cc439e",
   "execution_count": 2
  },
  {
   "cell_type": "markdown",
   "source": [
    "## Import train times"
   ],
   "metadata": {
    "collapsed": false
   },
   "id": "41eb4c01b09fb0d7"
  },
  {
   "cell_type": "code",
   "execution_count": 3,
   "id": "initial_id",
   "metadata": {
    "collapsed": true,
    "ExecuteTime": {
     "end_time": "2024-01-20T18:49:17.743755Z",
     "start_time": "2024-01-20T18:49:17.713250Z"
    }
   },
   "outputs": [
    {
     "data": {
      "text/plain": "     country_larger_city HDC_code_larger  larger_city  pop_larger_city  \\\n0                     FR   GEOSTAT11_450        Paris          8900172   \n1                     FR   GEOSTAT11_450        Paris          8900172   \n2                     FR   GEOSTAT11_450        Paris          8900172   \n3                     FR   GEOSTAT11_450        Paris          8900172   \n4                     FR   GEOSTAT11_450        Paris          8900172   \n...                  ...             ...          ...              ...   \n6594                  HU   GEOSTAT11_506      Szolnok            51457   \n6595                  HU   GEOSTAT11_500          Érd            51285   \n6596                  IT   GEOSTAT11_770      Bitonto            50961   \n6597                  IT   GEOSTAT11_770      Bitonto            50961   \n6598                  IT   GEOSTAT11_734  Manfredonia            50684   \n\n     country_smaller_city HDC_code_smaller         smaller_city  \\\n0                      BE    GEOSTAT11_349  Bruxelles / Brussel   \n1                      FR    GEOSTAT11_361                Lille   \n2                      FR    GEOSTAT11_418                Rouen   \n3                      FR    GEOSTAT11_434       Cergy-Pontoise   \n4                      FR    GEOSTAT11_499                Tours   \n...                   ...              ...                  ...   \n6594                   HU    GEOSTAT11_500                  Érd   \n6595                   HU    GEOSTAT11_516             Veszprém   \n6596                   IT    GEOSTAT11_734          Manfredonia   \n6597                   IT    GEOSTAT11_761            Cerignola   \n6598                   IT    GEOSTAT11_761            Cerignola   \n\n      pop_smaller_city  crossborder distance_centroids  av_dist_opti  \\\n0              1233487         True   more than 120 km         260.8   \n1               911478        False   more than 120 km         202.0   \n2               298297        False              114.6         110.0   \n3               273138        False               30.6           4.8   \n4               211915        False   more than 120 km         187.7   \n...                ...          ...                ...           ...   \n6594             51285        False               99.6           NaN   \n6595             50141        False               82.2           NaN   \n6596             50684        False               86.8           NaN   \n6597             50074        False               68.5           NaN   \n6598             50074        False               40.5           NaN   \n\n      time_opti  speed_opti  av_dist_avt  time_avt  speed_avt  \n0          1.44       182.1        261.6      1.71      153.5  \n1          1.00       202.1        201.9      1.29      157.3  \n2          1.24        88.7        110.0      1.67       65.9  \n3          0.07        67.9          4.8      0.17       27.9  \n4          0.86       218.2        200.4      1.54      130.6  \n...         ...         ...          ...       ...        ...  \n6594        NaN         NaN          NaN       NaN        NaN  \n6595        NaN         NaN          NaN       NaN        NaN  \n6596        NaN         NaN          NaN       NaN        NaN  \n6597        NaN         NaN          NaN       NaN        NaN  \n6598        NaN         NaN          NaN       NaN        NaN  \n\n[6599 rows x 16 columns]",
      "text/html": "<div>\n<style scoped>\n    .dataframe tbody tr th:only-of-type {\n        vertical-align: middle;\n    }\n\n    .dataframe tbody tr th {\n        vertical-align: top;\n    }\n\n    .dataframe thead th {\n        text-align: right;\n    }\n</style>\n<table border=\"1\" class=\"dataframe\">\n  <thead>\n    <tr style=\"text-align: right;\">\n      <th></th>\n      <th>country_larger_city</th>\n      <th>HDC_code_larger</th>\n      <th>larger_city</th>\n      <th>pop_larger_city</th>\n      <th>country_smaller_city</th>\n      <th>HDC_code_smaller</th>\n      <th>smaller_city</th>\n      <th>pop_smaller_city</th>\n      <th>crossborder</th>\n      <th>distance_centroids</th>\n      <th>av_dist_opti</th>\n      <th>time_opti</th>\n      <th>speed_opti</th>\n      <th>av_dist_avt</th>\n      <th>time_avt</th>\n      <th>speed_avt</th>\n    </tr>\n  </thead>\n  <tbody>\n    <tr>\n      <th>0</th>\n      <td>FR</td>\n      <td>GEOSTAT11_450</td>\n      <td>Paris</td>\n      <td>8900172</td>\n      <td>BE</td>\n      <td>GEOSTAT11_349</td>\n      <td>Bruxelles / Brussel</td>\n      <td>1233487</td>\n      <td>True</td>\n      <td>more than 120 km</td>\n      <td>260.8</td>\n      <td>1.44</td>\n      <td>182.1</td>\n      <td>261.6</td>\n      <td>1.71</td>\n      <td>153.5</td>\n    </tr>\n    <tr>\n      <th>1</th>\n      <td>FR</td>\n      <td>GEOSTAT11_450</td>\n      <td>Paris</td>\n      <td>8900172</td>\n      <td>FR</td>\n      <td>GEOSTAT11_361</td>\n      <td>Lille</td>\n      <td>911478</td>\n      <td>False</td>\n      <td>more than 120 km</td>\n      <td>202.0</td>\n      <td>1.00</td>\n      <td>202.1</td>\n      <td>201.9</td>\n      <td>1.29</td>\n      <td>157.3</td>\n    </tr>\n    <tr>\n      <th>2</th>\n      <td>FR</td>\n      <td>GEOSTAT11_450</td>\n      <td>Paris</td>\n      <td>8900172</td>\n      <td>FR</td>\n      <td>GEOSTAT11_418</td>\n      <td>Rouen</td>\n      <td>298297</td>\n      <td>False</td>\n      <td>114.6</td>\n      <td>110.0</td>\n      <td>1.24</td>\n      <td>88.7</td>\n      <td>110.0</td>\n      <td>1.67</td>\n      <td>65.9</td>\n    </tr>\n    <tr>\n      <th>3</th>\n      <td>FR</td>\n      <td>GEOSTAT11_450</td>\n      <td>Paris</td>\n      <td>8900172</td>\n      <td>FR</td>\n      <td>GEOSTAT11_434</td>\n      <td>Cergy-Pontoise</td>\n      <td>273138</td>\n      <td>False</td>\n      <td>30.6</td>\n      <td>4.8</td>\n      <td>0.07</td>\n      <td>67.9</td>\n      <td>4.8</td>\n      <td>0.17</td>\n      <td>27.9</td>\n    </tr>\n    <tr>\n      <th>4</th>\n      <td>FR</td>\n      <td>GEOSTAT11_450</td>\n      <td>Paris</td>\n      <td>8900172</td>\n      <td>FR</td>\n      <td>GEOSTAT11_499</td>\n      <td>Tours</td>\n      <td>211915</td>\n      <td>False</td>\n      <td>more than 120 km</td>\n      <td>187.7</td>\n      <td>0.86</td>\n      <td>218.2</td>\n      <td>200.4</td>\n      <td>1.54</td>\n      <td>130.6</td>\n    </tr>\n    <tr>\n      <th>...</th>\n      <td>...</td>\n      <td>...</td>\n      <td>...</td>\n      <td>...</td>\n      <td>...</td>\n      <td>...</td>\n      <td>...</td>\n      <td>...</td>\n      <td>...</td>\n      <td>...</td>\n      <td>...</td>\n      <td>...</td>\n      <td>...</td>\n      <td>...</td>\n      <td>...</td>\n      <td>...</td>\n    </tr>\n    <tr>\n      <th>6594</th>\n      <td>HU</td>\n      <td>GEOSTAT11_506</td>\n      <td>Szolnok</td>\n      <td>51457</td>\n      <td>HU</td>\n      <td>GEOSTAT11_500</td>\n      <td>Érd</td>\n      <td>51285</td>\n      <td>False</td>\n      <td>99.6</td>\n      <td>NaN</td>\n      <td>NaN</td>\n      <td>NaN</td>\n      <td>NaN</td>\n      <td>NaN</td>\n      <td>NaN</td>\n    </tr>\n    <tr>\n      <th>6595</th>\n      <td>HU</td>\n      <td>GEOSTAT11_500</td>\n      <td>Érd</td>\n      <td>51285</td>\n      <td>HU</td>\n      <td>GEOSTAT11_516</td>\n      <td>Veszprém</td>\n      <td>50141</td>\n      <td>False</td>\n      <td>82.2</td>\n      <td>NaN</td>\n      <td>NaN</td>\n      <td>NaN</td>\n      <td>NaN</td>\n      <td>NaN</td>\n      <td>NaN</td>\n    </tr>\n    <tr>\n      <th>6596</th>\n      <td>IT</td>\n      <td>GEOSTAT11_770</td>\n      <td>Bitonto</td>\n      <td>50961</td>\n      <td>IT</td>\n      <td>GEOSTAT11_734</td>\n      <td>Manfredonia</td>\n      <td>50684</td>\n      <td>False</td>\n      <td>86.8</td>\n      <td>NaN</td>\n      <td>NaN</td>\n      <td>NaN</td>\n      <td>NaN</td>\n      <td>NaN</td>\n      <td>NaN</td>\n    </tr>\n    <tr>\n      <th>6597</th>\n      <td>IT</td>\n      <td>GEOSTAT11_770</td>\n      <td>Bitonto</td>\n      <td>50961</td>\n      <td>IT</td>\n      <td>GEOSTAT11_761</td>\n      <td>Cerignola</td>\n      <td>50074</td>\n      <td>False</td>\n      <td>68.5</td>\n      <td>NaN</td>\n      <td>NaN</td>\n      <td>NaN</td>\n      <td>NaN</td>\n      <td>NaN</td>\n      <td>NaN</td>\n    </tr>\n    <tr>\n      <th>6598</th>\n      <td>IT</td>\n      <td>GEOSTAT11_734</td>\n      <td>Manfredonia</td>\n      <td>50684</td>\n      <td>IT</td>\n      <td>GEOSTAT11_761</td>\n      <td>Cerignola</td>\n      <td>50074</td>\n      <td>False</td>\n      <td>40.5</td>\n      <td>NaN</td>\n      <td>NaN</td>\n      <td>NaN</td>\n      <td>NaN</td>\n      <td>NaN</td>\n      <td>NaN</td>\n    </tr>\n  </tbody>\n</table>\n<p>6599 rows × 16 columns</p>\n</div>"
     },
     "execution_count": 3,
     "metadata": {},
     "output_type": "execute_result"
    }
   ],
   "source": [
    "trains = pd.read_csv('./datasets/Rail_transport_performance_in_Europe_2021.csv')\n",
    "trains"
   ]
  },
  {
   "cell_type": "markdown",
   "source": [
    "## Import plane times"
   ],
   "metadata": {
    "collapsed": false
   },
   "id": "471940b5ffffd523"
  },
  {
   "cell_type": "code",
   "outputs": [
    {
     "data": {
      "text/plain": "      Unnamed: 0           route   time\n0              0  {'AAL', 'AMS'}   85.0\n1              1  {'AAQ', 'LED'}  170.0\n2              2  {'AMS', 'ABZ'}   85.0\n3              3  {'ABZ', 'LGW'}   95.0\n4              4  {'ACE', 'AGP'}  130.0\n...          ...             ...    ...\n1464        1464  {'ZRH', 'OTP'}  150.0\n1465        1465  {'ZRH', 'PRN'}  127.5\n1466        1466  {'ZRH', 'RVN'}  205.0\n1467        1467  {'ZRH', 'STR'}   45.0\n1468        1468  {'ZTH', 'ATH'}   62.5\n\n[1469 rows x 3 columns]",
      "text/html": "<div>\n<style scoped>\n    .dataframe tbody tr th:only-of-type {\n        vertical-align: middle;\n    }\n\n    .dataframe tbody tr th {\n        vertical-align: top;\n    }\n\n    .dataframe thead th {\n        text-align: right;\n    }\n</style>\n<table border=\"1\" class=\"dataframe\">\n  <thead>\n    <tr style=\"text-align: right;\">\n      <th></th>\n      <th>Unnamed: 0</th>\n      <th>route</th>\n      <th>time</th>\n    </tr>\n  </thead>\n  <tbody>\n    <tr>\n      <th>0</th>\n      <td>0</td>\n      <td>{'AAL', 'AMS'}</td>\n      <td>85.0</td>\n    </tr>\n    <tr>\n      <th>1</th>\n      <td>1</td>\n      <td>{'AAQ', 'LED'}</td>\n      <td>170.0</td>\n    </tr>\n    <tr>\n      <th>2</th>\n      <td>2</td>\n      <td>{'AMS', 'ABZ'}</td>\n      <td>85.0</td>\n    </tr>\n    <tr>\n      <th>3</th>\n      <td>3</td>\n      <td>{'ABZ', 'LGW'}</td>\n      <td>95.0</td>\n    </tr>\n    <tr>\n      <th>4</th>\n      <td>4</td>\n      <td>{'ACE', 'AGP'}</td>\n      <td>130.0</td>\n    </tr>\n    <tr>\n      <th>...</th>\n      <td>...</td>\n      <td>...</td>\n      <td>...</td>\n    </tr>\n    <tr>\n      <th>1464</th>\n      <td>1464</td>\n      <td>{'ZRH', 'OTP'}</td>\n      <td>150.0</td>\n    </tr>\n    <tr>\n      <th>1465</th>\n      <td>1465</td>\n      <td>{'ZRH', 'PRN'}</td>\n      <td>127.5</td>\n    </tr>\n    <tr>\n      <th>1466</th>\n      <td>1466</td>\n      <td>{'ZRH', 'RVN'}</td>\n      <td>205.0</td>\n    </tr>\n    <tr>\n      <th>1467</th>\n      <td>1467</td>\n      <td>{'ZRH', 'STR'}</td>\n      <td>45.0</td>\n    </tr>\n    <tr>\n      <th>1468</th>\n      <td>1468</td>\n      <td>{'ZTH', 'ATH'}</td>\n      <td>62.5</td>\n    </tr>\n  </tbody>\n</table>\n<p>1469 rows × 3 columns</p>\n</div>"
     },
     "execution_count": 34,
     "metadata": {},
     "output_type": "execute_result"
    }
   ],
   "source": [
    "flights = pd.read_csv('./datasets/flight_times.csv')\n",
    "flights"
   ],
   "metadata": {
    "collapsed": false,
    "ExecuteTime": {
     "end_time": "2024-01-20T21:25:50.600236Z",
     "start_time": "2024-01-20T21:25:50.583103Z"
    }
   },
   "id": "aff19d047f496546",
   "execution_count": 34
  },
  {
   "cell_type": "code",
   "outputs": [
    {
     "data": {
      "text/plain": "               route   time\n0     {'AAL', 'AMS'}   85.0\n1     {'AAQ', 'LED'}  170.0\n2     {'AMS', 'ABZ'}   85.0\n3     {'ABZ', 'LGW'}   95.0\n4     {'ACE', 'AGP'}  130.0\n...              ...    ...\n1464  {'ZRH', 'OTP'}  150.0\n1465  {'ZRH', 'PRN'}  127.5\n1466  {'ZRH', 'RVN'}  205.0\n1467  {'ZRH', 'STR'}   45.0\n1468  {'ZTH', 'ATH'}   62.5\n\n[1469 rows x 2 columns]",
      "text/html": "<div>\n<style scoped>\n    .dataframe tbody tr th:only-of-type {\n        vertical-align: middle;\n    }\n\n    .dataframe tbody tr th {\n        vertical-align: top;\n    }\n\n    .dataframe thead th {\n        text-align: right;\n    }\n</style>\n<table border=\"1\" class=\"dataframe\">\n  <thead>\n    <tr style=\"text-align: right;\">\n      <th></th>\n      <th>route</th>\n      <th>time</th>\n    </tr>\n  </thead>\n  <tbody>\n    <tr>\n      <th>0</th>\n      <td>{'AAL', 'AMS'}</td>\n      <td>85.0</td>\n    </tr>\n    <tr>\n      <th>1</th>\n      <td>{'AAQ', 'LED'}</td>\n      <td>170.0</td>\n    </tr>\n    <tr>\n      <th>2</th>\n      <td>{'AMS', 'ABZ'}</td>\n      <td>85.0</td>\n    </tr>\n    <tr>\n      <th>3</th>\n      <td>{'ABZ', 'LGW'}</td>\n      <td>95.0</td>\n    </tr>\n    <tr>\n      <th>4</th>\n      <td>{'ACE', 'AGP'}</td>\n      <td>130.0</td>\n    </tr>\n    <tr>\n      <th>...</th>\n      <td>...</td>\n      <td>...</td>\n    </tr>\n    <tr>\n      <th>1464</th>\n      <td>{'ZRH', 'OTP'}</td>\n      <td>150.0</td>\n    </tr>\n    <tr>\n      <th>1465</th>\n      <td>{'ZRH', 'PRN'}</td>\n      <td>127.5</td>\n    </tr>\n    <tr>\n      <th>1466</th>\n      <td>{'ZRH', 'RVN'}</td>\n      <td>205.0</td>\n    </tr>\n    <tr>\n      <th>1467</th>\n      <td>{'ZRH', 'STR'}</td>\n      <td>45.0</td>\n    </tr>\n    <tr>\n      <th>1468</th>\n      <td>{'ZTH', 'ATH'}</td>\n      <td>62.5</td>\n    </tr>\n  </tbody>\n</table>\n<p>1469 rows × 2 columns</p>\n</div>"
     },
     "execution_count": 35,
     "metadata": {},
     "output_type": "execute_result"
    }
   ],
   "source": [
    "flights.drop(flights.columns[0], axis=1, inplace=True)\n",
    "flights"
   ],
   "metadata": {
    "collapsed": false,
    "ExecuteTime": {
     "end_time": "2024-01-20T21:25:50.672504Z",
     "start_time": "2024-01-20T21:25:50.607734Z"
    }
   },
   "id": "380ba37d213b8db8",
   "execution_count": 35
  },
  {
   "cell_type": "code",
   "outputs": [
    {
     "data": {
      "text/plain": "               route   time departure airport arrival airport\n0     {'AAL', 'AMS'}   85.0               AAL             AMS\n1     {'AAQ', 'LED'}  170.0               AAQ             LED\n2     {'AMS', 'ABZ'}   85.0               AMS             ABZ\n3     {'ABZ', 'LGW'}   95.0               ABZ             LGW\n4     {'ACE', 'AGP'}  130.0               ACE             AGP\n...              ...    ...               ...             ...\n1464  {'ZRH', 'OTP'}  150.0               ZRH             OTP\n1465  {'ZRH', 'PRN'}  127.5               ZRH             PRN\n1466  {'ZRH', 'RVN'}  205.0               ZRH             RVN\n1467  {'ZRH', 'STR'}   45.0               ZRH             STR\n1468  {'ZTH', 'ATH'}   62.5               ZTH             ATH\n\n[1469 rows x 4 columns]",
      "text/html": "<div>\n<style scoped>\n    .dataframe tbody tr th:only-of-type {\n        vertical-align: middle;\n    }\n\n    .dataframe tbody tr th {\n        vertical-align: top;\n    }\n\n    .dataframe thead th {\n        text-align: right;\n    }\n</style>\n<table border=\"1\" class=\"dataframe\">\n  <thead>\n    <tr style=\"text-align: right;\">\n      <th></th>\n      <th>route</th>\n      <th>time</th>\n      <th>departure airport</th>\n      <th>arrival airport</th>\n    </tr>\n  </thead>\n  <tbody>\n    <tr>\n      <th>0</th>\n      <td>{'AAL', 'AMS'}</td>\n      <td>85.0</td>\n      <td>AAL</td>\n      <td>AMS</td>\n    </tr>\n    <tr>\n      <th>1</th>\n      <td>{'AAQ', 'LED'}</td>\n      <td>170.0</td>\n      <td>AAQ</td>\n      <td>LED</td>\n    </tr>\n    <tr>\n      <th>2</th>\n      <td>{'AMS', 'ABZ'}</td>\n      <td>85.0</td>\n      <td>AMS</td>\n      <td>ABZ</td>\n    </tr>\n    <tr>\n      <th>3</th>\n      <td>{'ABZ', 'LGW'}</td>\n      <td>95.0</td>\n      <td>ABZ</td>\n      <td>LGW</td>\n    </tr>\n    <tr>\n      <th>4</th>\n      <td>{'ACE', 'AGP'}</td>\n      <td>130.0</td>\n      <td>ACE</td>\n      <td>AGP</td>\n    </tr>\n    <tr>\n      <th>...</th>\n      <td>...</td>\n      <td>...</td>\n      <td>...</td>\n      <td>...</td>\n    </tr>\n    <tr>\n      <th>1464</th>\n      <td>{'ZRH', 'OTP'}</td>\n      <td>150.0</td>\n      <td>ZRH</td>\n      <td>OTP</td>\n    </tr>\n    <tr>\n      <th>1465</th>\n      <td>{'ZRH', 'PRN'}</td>\n      <td>127.5</td>\n      <td>ZRH</td>\n      <td>PRN</td>\n    </tr>\n    <tr>\n      <th>1466</th>\n      <td>{'ZRH', 'RVN'}</td>\n      <td>205.0</td>\n      <td>ZRH</td>\n      <td>RVN</td>\n    </tr>\n    <tr>\n      <th>1467</th>\n      <td>{'ZRH', 'STR'}</td>\n      <td>45.0</td>\n      <td>ZRH</td>\n      <td>STR</td>\n    </tr>\n    <tr>\n      <th>1468</th>\n      <td>{'ZTH', 'ATH'}</td>\n      <td>62.5</td>\n      <td>ZTH</td>\n      <td>ATH</td>\n    </tr>\n  </tbody>\n</table>\n<p>1469 rows × 4 columns</p>\n</div>"
     },
     "execution_count": 36,
     "metadata": {},
     "output_type": "execute_result"
    }
   ],
   "source": [
    "flights['departure airport'] = flights['route'].apply(lambda x: x.split(',')[0].strip(\"{'\"))\n",
    "flights['arrival airport'] = flights['route'].apply(lambda x: x.split(',')[1].strip(\" }'\"))\n",
    "flights"
   ],
   "metadata": {
    "collapsed": false,
    "ExecuteTime": {
     "end_time": "2024-01-20T21:25:50.673200Z",
     "start_time": "2024-01-20T21:25:50.615837Z"
    }
   },
   "id": "b9fdb607bf3f06e5",
   "execution_count": 36
  },
  {
   "cell_type": "markdown",
   "source": [
    "## Import airport codes"
   ],
   "metadata": {
    "collapsed": false
   },
   "id": "16cd8bff1ea71928"
  },
  {
   "cell_type": "code",
   "outputs": [
    {
     "data": {
      "text/plain": "         ident            type                                name  \\\n0          00A        heliport                   Total Rf Heliport   \n1         00AA   small_airport                Aero B Ranch Airport   \n2         00AK   small_airport                        Lowell Field   \n3         00AL   small_airport                        Epps Airpark   \n4         00AR          closed  Newport Hospital & Clinic Heliport   \n...        ...             ...                                 ...   \n57416     ZYYK  medium_airport               Yingkou Lanqi Airport   \n57417     ZYYY  medium_airport             Shenyang Dongta Airport   \n57418  ZZ-0001        heliport                     Sealand Helipad   \n57419  ZZ-0002   small_airport           Glorioso Islands Airstrip   \n57420     ZZZZ   small_airport             Satsuma IÅjima Airport   \n\n       elevation_ft continent iso_country iso_region      municipality  \\\n0              11.0       NaN          US      US-PA          Bensalem   \n1            3435.0       NaN          US      US-KS             Leoti   \n2             450.0       NaN          US      US-AK      Anchor Point   \n3             820.0       NaN          US      US-AL           Harvest   \n4             237.0       NaN          US      US-AR           Newport   \n...             ...       ...         ...        ...               ...   \n57416           0.0        AS          CN      CN-21           Yingkou   \n57417           NaN        AS          CN      CN-21          Shenyang   \n57418          40.0        EU          GB     GB-ENG           Sealand   \n57419          11.0        AF          TF     TF-U-A  Grande Glorieuse   \n57420         338.0        AS          JP      JP-46      Mishima-Mura   \n\n      gps_code iata_code local_code                              coordinates  \n0          00A       NaN        00A       -74.93360137939453, 40.07080078125  \n1         00AA       NaN       00AA                   -101.473911, 38.704022  \n2         00AK       NaN       00AK              -151.695999146, 59.94919968  \n3         00AL       NaN       00AL    -86.77030181884766, 34.86479949951172  \n4          NaN       NaN        NaN                      -91.254898, 35.6087  \n...        ...       ...        ...                                      ...  \n57416     ZYYK       YKH        NaN                      122.3586, 40.542524  \n57417     ZYYY       NaN        NaN   123.49600219726562, 41.784400939941406  \n57418      NaN       NaN        NaN                        1.4825, 51.894444  \n57419      NaN       NaN        NaN  47.296388888900005, -11.584277777799999  \n57420     RJX7       NaN       RJX7                    130.270556, 30.784722  \n\n[57421 rows x 12 columns]",
      "text/html": "<div>\n<style scoped>\n    .dataframe tbody tr th:only-of-type {\n        vertical-align: middle;\n    }\n\n    .dataframe tbody tr th {\n        vertical-align: top;\n    }\n\n    .dataframe thead th {\n        text-align: right;\n    }\n</style>\n<table border=\"1\" class=\"dataframe\">\n  <thead>\n    <tr style=\"text-align: right;\">\n      <th></th>\n      <th>ident</th>\n      <th>type</th>\n      <th>name</th>\n      <th>elevation_ft</th>\n      <th>continent</th>\n      <th>iso_country</th>\n      <th>iso_region</th>\n      <th>municipality</th>\n      <th>gps_code</th>\n      <th>iata_code</th>\n      <th>local_code</th>\n      <th>coordinates</th>\n    </tr>\n  </thead>\n  <tbody>\n    <tr>\n      <th>0</th>\n      <td>00A</td>\n      <td>heliport</td>\n      <td>Total Rf Heliport</td>\n      <td>11.0</td>\n      <td>NaN</td>\n      <td>US</td>\n      <td>US-PA</td>\n      <td>Bensalem</td>\n      <td>00A</td>\n      <td>NaN</td>\n      <td>00A</td>\n      <td>-74.93360137939453, 40.07080078125</td>\n    </tr>\n    <tr>\n      <th>1</th>\n      <td>00AA</td>\n      <td>small_airport</td>\n      <td>Aero B Ranch Airport</td>\n      <td>3435.0</td>\n      <td>NaN</td>\n      <td>US</td>\n      <td>US-KS</td>\n      <td>Leoti</td>\n      <td>00AA</td>\n      <td>NaN</td>\n      <td>00AA</td>\n      <td>-101.473911, 38.704022</td>\n    </tr>\n    <tr>\n      <th>2</th>\n      <td>00AK</td>\n      <td>small_airport</td>\n      <td>Lowell Field</td>\n      <td>450.0</td>\n      <td>NaN</td>\n      <td>US</td>\n      <td>US-AK</td>\n      <td>Anchor Point</td>\n      <td>00AK</td>\n      <td>NaN</td>\n      <td>00AK</td>\n      <td>-151.695999146, 59.94919968</td>\n    </tr>\n    <tr>\n      <th>3</th>\n      <td>00AL</td>\n      <td>small_airport</td>\n      <td>Epps Airpark</td>\n      <td>820.0</td>\n      <td>NaN</td>\n      <td>US</td>\n      <td>US-AL</td>\n      <td>Harvest</td>\n      <td>00AL</td>\n      <td>NaN</td>\n      <td>00AL</td>\n      <td>-86.77030181884766, 34.86479949951172</td>\n    </tr>\n    <tr>\n      <th>4</th>\n      <td>00AR</td>\n      <td>closed</td>\n      <td>Newport Hospital &amp; Clinic Heliport</td>\n      <td>237.0</td>\n      <td>NaN</td>\n      <td>US</td>\n      <td>US-AR</td>\n      <td>Newport</td>\n      <td>NaN</td>\n      <td>NaN</td>\n      <td>NaN</td>\n      <td>-91.254898, 35.6087</td>\n    </tr>\n    <tr>\n      <th>...</th>\n      <td>...</td>\n      <td>...</td>\n      <td>...</td>\n      <td>...</td>\n      <td>...</td>\n      <td>...</td>\n      <td>...</td>\n      <td>...</td>\n      <td>...</td>\n      <td>...</td>\n      <td>...</td>\n      <td>...</td>\n    </tr>\n    <tr>\n      <th>57416</th>\n      <td>ZYYK</td>\n      <td>medium_airport</td>\n      <td>Yingkou Lanqi Airport</td>\n      <td>0.0</td>\n      <td>AS</td>\n      <td>CN</td>\n      <td>CN-21</td>\n      <td>Yingkou</td>\n      <td>ZYYK</td>\n      <td>YKH</td>\n      <td>NaN</td>\n      <td>122.3586, 40.542524</td>\n    </tr>\n    <tr>\n      <th>57417</th>\n      <td>ZYYY</td>\n      <td>medium_airport</td>\n      <td>Shenyang Dongta Airport</td>\n      <td>NaN</td>\n      <td>AS</td>\n      <td>CN</td>\n      <td>CN-21</td>\n      <td>Shenyang</td>\n      <td>ZYYY</td>\n      <td>NaN</td>\n      <td>NaN</td>\n      <td>123.49600219726562, 41.784400939941406</td>\n    </tr>\n    <tr>\n      <th>57418</th>\n      <td>ZZ-0001</td>\n      <td>heliport</td>\n      <td>Sealand Helipad</td>\n      <td>40.0</td>\n      <td>EU</td>\n      <td>GB</td>\n      <td>GB-ENG</td>\n      <td>Sealand</td>\n      <td>NaN</td>\n      <td>NaN</td>\n      <td>NaN</td>\n      <td>1.4825, 51.894444</td>\n    </tr>\n    <tr>\n      <th>57419</th>\n      <td>ZZ-0002</td>\n      <td>small_airport</td>\n      <td>Glorioso Islands Airstrip</td>\n      <td>11.0</td>\n      <td>AF</td>\n      <td>TF</td>\n      <td>TF-U-A</td>\n      <td>Grande Glorieuse</td>\n      <td>NaN</td>\n      <td>NaN</td>\n      <td>NaN</td>\n      <td>47.296388888900005, -11.584277777799999</td>\n    </tr>\n    <tr>\n      <th>57420</th>\n      <td>ZZZZ</td>\n      <td>small_airport</td>\n      <td>Satsuma IÅjima Airport</td>\n      <td>338.0</td>\n      <td>AS</td>\n      <td>JP</td>\n      <td>JP-46</td>\n      <td>Mishima-Mura</td>\n      <td>RJX7</td>\n      <td>NaN</td>\n      <td>RJX7</td>\n      <td>130.270556, 30.784722</td>\n    </tr>\n  </tbody>\n</table>\n<p>57421 rows × 12 columns</p>\n</div>"
     },
     "execution_count": 37,
     "metadata": {},
     "output_type": "execute_result"
    }
   ],
   "source": [
    "airports = pd.read_csv('./datasets/airport-codes.csv')\n",
    "airports"
   ],
   "metadata": {
    "collapsed": false,
    "ExecuteTime": {
     "end_time": "2024-01-20T21:25:50.831806Z",
     "start_time": "2024-01-20T21:25:50.618586Z"
    }
   },
   "id": "a60bd43312a1859a",
   "execution_count": 37
  },
  {
   "cell_type": "code",
   "outputs": [
    {
     "data": {
      "text/plain": "      iata_code      municipality\n0           NaN          Bensalem\n1           NaN             Leoti\n2           NaN      Anchor Point\n3           NaN           Harvest\n4           NaN           Newport\n...         ...               ...\n57416       YKH           Yingkou\n57417       NaN          Shenyang\n57418       NaN           Sealand\n57419       NaN  Grande Glorieuse\n57420       NaN      Mishima-Mura\n\n[57421 rows x 2 columns]",
      "text/html": "<div>\n<style scoped>\n    .dataframe tbody tr th:only-of-type {\n        vertical-align: middle;\n    }\n\n    .dataframe tbody tr th {\n        vertical-align: top;\n    }\n\n    .dataframe thead th {\n        text-align: right;\n    }\n</style>\n<table border=\"1\" class=\"dataframe\">\n  <thead>\n    <tr style=\"text-align: right;\">\n      <th></th>\n      <th>iata_code</th>\n      <th>municipality</th>\n    </tr>\n  </thead>\n  <tbody>\n    <tr>\n      <th>0</th>\n      <td>NaN</td>\n      <td>Bensalem</td>\n    </tr>\n    <tr>\n      <th>1</th>\n      <td>NaN</td>\n      <td>Leoti</td>\n    </tr>\n    <tr>\n      <th>2</th>\n      <td>NaN</td>\n      <td>Anchor Point</td>\n    </tr>\n    <tr>\n      <th>3</th>\n      <td>NaN</td>\n      <td>Harvest</td>\n    </tr>\n    <tr>\n      <th>4</th>\n      <td>NaN</td>\n      <td>Newport</td>\n    </tr>\n    <tr>\n      <th>...</th>\n      <td>...</td>\n      <td>...</td>\n    </tr>\n    <tr>\n      <th>57416</th>\n      <td>YKH</td>\n      <td>Yingkou</td>\n    </tr>\n    <tr>\n      <th>57417</th>\n      <td>NaN</td>\n      <td>Shenyang</td>\n    </tr>\n    <tr>\n      <th>57418</th>\n      <td>NaN</td>\n      <td>Sealand</td>\n    </tr>\n    <tr>\n      <th>57419</th>\n      <td>NaN</td>\n      <td>Grande Glorieuse</td>\n    </tr>\n    <tr>\n      <th>57420</th>\n      <td>NaN</td>\n      <td>Mishima-Mura</td>\n    </tr>\n  </tbody>\n</table>\n<p>57421 rows × 2 columns</p>\n</div>"
     },
     "execution_count": 38,
     "metadata": {},
     "output_type": "execute_result"
    }
   ],
   "source": [
    "cities = airports[['iata_code', 'municipality']]\n",
    "cities"
   ],
   "metadata": {
    "collapsed": false,
    "ExecuteTime": {
     "end_time": "2024-01-20T21:25:50.832276Z",
     "start_time": "2024-01-20T21:25:50.782442Z"
    }
   },
   "id": "49860ddb61aa7de2",
   "execution_count": 38
  },
  {
   "cell_type": "code",
   "outputs": [
    {
     "data": {
      "text/plain": "               route   time departure airport arrival airport  \\\n0     {'AAL', 'AMS'}   85.0               AAL             AMS   \n1     {'AAQ', 'LED'}  170.0               AAQ             LED   \n2     {'AMS', 'ABZ'}   85.0               AMS             ABZ   \n3     {'ABZ', 'LGW'}   95.0               ABZ             LGW   \n4     {'ACE', 'AGP'}  130.0               ACE             AGP   \n...              ...    ...               ...             ...   \n1511  {'ZRH', 'OTP'}  150.0               ZRH             OTP   \n1512  {'ZRH', 'PRN'}  127.5               ZRH             PRN   \n1513  {'ZRH', 'RVN'}  205.0               ZRH             RVN   \n1514  {'ZRH', 'STR'}   45.0               ZRH             STR   \n1515  {'ZTH', 'ATH'}   62.5               ZTH             ATH   \n\n        departure city    arrival city  \n0              Aalborg       Amsterdam  \n1                Anapa  St. Petersburg  \n2            Amsterdam        Aberdeen  \n3             Aberdeen          London  \n4     Lanzarote Island         MÃ¡laga  \n...                ...             ...  \n1511            Zurich       Bucharest  \n1512            Zurich       Prishtina  \n1513            Zurich       Rovaniemi  \n1514            Zurich       Stuttgart  \n1515  Zakynthos Island          Athens  \n\n[1516 rows x 6 columns]",
      "text/html": "<div>\n<style scoped>\n    .dataframe tbody tr th:only-of-type {\n        vertical-align: middle;\n    }\n\n    .dataframe tbody tr th {\n        vertical-align: top;\n    }\n\n    .dataframe thead th {\n        text-align: right;\n    }\n</style>\n<table border=\"1\" class=\"dataframe\">\n  <thead>\n    <tr style=\"text-align: right;\">\n      <th></th>\n      <th>route</th>\n      <th>time</th>\n      <th>departure airport</th>\n      <th>arrival airport</th>\n      <th>departure city</th>\n      <th>arrival city</th>\n    </tr>\n  </thead>\n  <tbody>\n    <tr>\n      <th>0</th>\n      <td>{'AAL', 'AMS'}</td>\n      <td>85.0</td>\n      <td>AAL</td>\n      <td>AMS</td>\n      <td>Aalborg</td>\n      <td>Amsterdam</td>\n    </tr>\n    <tr>\n      <th>1</th>\n      <td>{'AAQ', 'LED'}</td>\n      <td>170.0</td>\n      <td>AAQ</td>\n      <td>LED</td>\n      <td>Anapa</td>\n      <td>St. Petersburg</td>\n    </tr>\n    <tr>\n      <th>2</th>\n      <td>{'AMS', 'ABZ'}</td>\n      <td>85.0</td>\n      <td>AMS</td>\n      <td>ABZ</td>\n      <td>Amsterdam</td>\n      <td>Aberdeen</td>\n    </tr>\n    <tr>\n      <th>3</th>\n      <td>{'ABZ', 'LGW'}</td>\n      <td>95.0</td>\n      <td>ABZ</td>\n      <td>LGW</td>\n      <td>Aberdeen</td>\n      <td>London</td>\n    </tr>\n    <tr>\n      <th>4</th>\n      <td>{'ACE', 'AGP'}</td>\n      <td>130.0</td>\n      <td>ACE</td>\n      <td>AGP</td>\n      <td>Lanzarote Island</td>\n      <td>MÃ¡laga</td>\n    </tr>\n    <tr>\n      <th>...</th>\n      <td>...</td>\n      <td>...</td>\n      <td>...</td>\n      <td>...</td>\n      <td>...</td>\n      <td>...</td>\n    </tr>\n    <tr>\n      <th>1511</th>\n      <td>{'ZRH', 'OTP'}</td>\n      <td>150.0</td>\n      <td>ZRH</td>\n      <td>OTP</td>\n      <td>Zurich</td>\n      <td>Bucharest</td>\n    </tr>\n    <tr>\n      <th>1512</th>\n      <td>{'ZRH', 'PRN'}</td>\n      <td>127.5</td>\n      <td>ZRH</td>\n      <td>PRN</td>\n      <td>Zurich</td>\n      <td>Prishtina</td>\n    </tr>\n    <tr>\n      <th>1513</th>\n      <td>{'ZRH', 'RVN'}</td>\n      <td>205.0</td>\n      <td>ZRH</td>\n      <td>RVN</td>\n      <td>Zurich</td>\n      <td>Rovaniemi</td>\n    </tr>\n    <tr>\n      <th>1514</th>\n      <td>{'ZRH', 'STR'}</td>\n      <td>45.0</td>\n      <td>ZRH</td>\n      <td>STR</td>\n      <td>Zurich</td>\n      <td>Stuttgart</td>\n    </tr>\n    <tr>\n      <th>1515</th>\n      <td>{'ZTH', 'ATH'}</td>\n      <td>62.5</td>\n      <td>ZTH</td>\n      <td>ATH</td>\n      <td>Zakynthos Island</td>\n      <td>Athens</td>\n    </tr>\n  </tbody>\n</table>\n<p>1516 rows × 6 columns</p>\n</div>"
     },
     "execution_count": 39,
     "metadata": {},
     "output_type": "execute_result"
    }
   ],
   "source": [
    "# add departure city names\n",
    "flights = pd.merge(flights, cities, left_on='departure airport', right_on='iata_code', how='left')\n",
    "# remove the redundant column\n",
    "flights.drop('iata_code', axis=1, inplace=True)\n",
    "# rename the column\n",
    "flights.rename(columns={'municipality': 'departure city'}, inplace=True)\n",
    "# add arrival city names\n",
    "flights = pd.merge(flights, cities, left_on='arrival airport', right_on='iata_code', how='left')\n",
    "# remove the redundant column\n",
    "flights.drop('iata_code', axis=1, inplace=True)\n",
    "# rename the column\n",
    "flights.rename(columns={'municipality': 'arrival city'}, inplace=True)\n",
    "flights"
   ],
   "metadata": {
    "collapsed": false,
    "ExecuteTime": {
     "end_time": "2024-01-20T21:25:50.855681Z",
     "start_time": "2024-01-20T21:25:50.789360Z"
    }
   },
   "id": "5868dab6458a6101",
   "execution_count": 39
  },
  {
   "cell_type": "code",
   "outputs": [
    {
     "data": {
      "text/plain": "               route   time departure airport arrival airport departure city  \\\n38    {'LGW', 'AGP'}  165.0               LGW             AGP         London   \n82    {'LTN', 'AMS'}   70.0               LTN             AMS         London   \n133   {'LGW', 'BCN'}  125.0               LGW             BCN         London   \n301   {'LTN', 'CLJ'}  175.0               LTN             CLJ         London   \n630   {'LGW', 'JER'}   60.0               LGW             JER         London   \n...              ...    ...               ...             ...            ...   \n1240  {'STN', 'VRN'}  122.5               STN             VRN         London   \n1241  {'STN', 'WMI'}  135.0               STN             WMI         London   \n1242  {'STN', 'WRO'}  125.0               STN             WRO         London   \n1243  {'STN', 'ZAG'}  135.0               STN             ZAG         London   \n1244  {'STN', 'ZAZ'}  132.5               STN             ZAZ         London   \n\n      arrival city  \n38         MÃ¡laga  \n82       Amsterdam  \n133      Barcelona  \n301    Cluj-Napoca  \n630   Saint Helier  \n...            ...  \n1240        Verona  \n1241        Warsaw  \n1242      WrocÅaw  \n1243        Zagreb  \n1244      Zaragoza  \n\n[114 rows x 6 columns]",
      "text/html": "<div>\n<style scoped>\n    .dataframe tbody tr th:only-of-type {\n        vertical-align: middle;\n    }\n\n    .dataframe tbody tr th {\n        vertical-align: top;\n    }\n\n    .dataframe thead th {\n        text-align: right;\n    }\n</style>\n<table border=\"1\" class=\"dataframe\">\n  <thead>\n    <tr style=\"text-align: right;\">\n      <th></th>\n      <th>route</th>\n      <th>time</th>\n      <th>departure airport</th>\n      <th>arrival airport</th>\n      <th>departure city</th>\n      <th>arrival city</th>\n    </tr>\n  </thead>\n  <tbody>\n    <tr>\n      <th>38</th>\n      <td>{'LGW', 'AGP'}</td>\n      <td>165.0</td>\n      <td>LGW</td>\n      <td>AGP</td>\n      <td>London</td>\n      <td>MÃ¡laga</td>\n    </tr>\n    <tr>\n      <th>82</th>\n      <td>{'LTN', 'AMS'}</td>\n      <td>70.0</td>\n      <td>LTN</td>\n      <td>AMS</td>\n      <td>London</td>\n      <td>Amsterdam</td>\n    </tr>\n    <tr>\n      <th>133</th>\n      <td>{'LGW', 'BCN'}</td>\n      <td>125.0</td>\n      <td>LGW</td>\n      <td>BCN</td>\n      <td>London</td>\n      <td>Barcelona</td>\n    </tr>\n    <tr>\n      <th>301</th>\n      <td>{'LTN', 'CLJ'}</td>\n      <td>175.0</td>\n      <td>LTN</td>\n      <td>CLJ</td>\n      <td>London</td>\n      <td>Cluj-Napoca</td>\n    </tr>\n    <tr>\n      <th>630</th>\n      <td>{'LGW', 'JER'}</td>\n      <td>60.0</td>\n      <td>LGW</td>\n      <td>JER</td>\n      <td>London</td>\n      <td>Saint Helier</td>\n    </tr>\n    <tr>\n      <th>...</th>\n      <td>...</td>\n      <td>...</td>\n      <td>...</td>\n      <td>...</td>\n      <td>...</td>\n      <td>...</td>\n    </tr>\n    <tr>\n      <th>1240</th>\n      <td>{'STN', 'VRN'}</td>\n      <td>122.5</td>\n      <td>STN</td>\n      <td>VRN</td>\n      <td>London</td>\n      <td>Verona</td>\n    </tr>\n    <tr>\n      <th>1241</th>\n      <td>{'STN', 'WMI'}</td>\n      <td>135.0</td>\n      <td>STN</td>\n      <td>WMI</td>\n      <td>London</td>\n      <td>Warsaw</td>\n    </tr>\n    <tr>\n      <th>1242</th>\n      <td>{'STN', 'WRO'}</td>\n      <td>125.0</td>\n      <td>STN</td>\n      <td>WRO</td>\n      <td>London</td>\n      <td>WrocÅaw</td>\n    </tr>\n    <tr>\n      <th>1243</th>\n      <td>{'STN', 'ZAG'}</td>\n      <td>135.0</td>\n      <td>STN</td>\n      <td>ZAG</td>\n      <td>London</td>\n      <td>Zagreb</td>\n    </tr>\n    <tr>\n      <th>1244</th>\n      <td>{'STN', 'ZAZ'}</td>\n      <td>132.5</td>\n      <td>STN</td>\n      <td>ZAZ</td>\n      <td>London</td>\n      <td>Zaragoza</td>\n    </tr>\n  </tbody>\n</table>\n<p>114 rows × 6 columns</p>\n</div>"
     },
     "execution_count": 40,
     "metadata": {},
     "output_type": "execute_result"
    }
   ],
   "source": [
    "flights[flights['departure city'].str.contains('London')]"
   ],
   "metadata": {
    "collapsed": false,
    "ExecuteTime": {
     "end_time": "2024-01-20T21:29:37.806332Z",
     "start_time": "2024-01-20T21:29:37.790429Z"
    }
   },
   "id": "5c478e773e03a42e",
   "execution_count": 40
  },
  {
   "cell_type": "code",
   "outputs": [],
   "source": [],
   "metadata": {
    "collapsed": false
   },
   "id": "171c114f620de78a"
  }
 ],
 "metadata": {
  "kernelspec": {
   "display_name": "Python 3",
   "language": "python",
   "name": "python3"
  },
  "language_info": {
   "codemirror_mode": {
    "name": "ipython",
    "version": 2
   },
   "file_extension": ".py",
   "mimetype": "text/x-python",
   "name": "python",
   "nbconvert_exporter": "python",
   "pygments_lexer": "ipython2",
   "version": "2.7.6"
  }
 },
 "nbformat": 4,
 "nbformat_minor": 5
}
