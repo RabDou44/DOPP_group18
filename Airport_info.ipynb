{
 "cells": [
  {
   "cell_type": "markdown",
   "source": [
    "# Airport info\n",
    "looking at the airport-codes dataset"
   ],
   "metadata": {
    "collapsed": false
   },
   "id": "861a14ee262c4aa8"
  },
  {
   "cell_type": "code",
   "execution_count": 1,
   "id": "initial_id",
   "metadata": {
    "collapsed": true,
    "ExecuteTime": {
     "end_time": "2024-01-20T21:04:20.934057Z",
     "start_time": "2024-01-20T21:04:20.545136Z"
    }
   },
   "outputs": [],
   "source": [
    "import pandas as pd"
   ]
  },
  {
   "cell_type": "code",
   "outputs": [
    {
     "data": {
      "text/plain": "         ident            type                                name  \\\n0          00A        heliport                   Total Rf Heliport   \n1         00AA   small_airport                Aero B Ranch Airport   \n2         00AK   small_airport                        Lowell Field   \n3         00AL   small_airport                        Epps Airpark   \n4         00AR          closed  Newport Hospital & Clinic Heliport   \n...        ...             ...                                 ...   \n57416     ZYYK  medium_airport               Yingkou Lanqi Airport   \n57417     ZYYY  medium_airport             Shenyang Dongta Airport   \n57418  ZZ-0001        heliport                     Sealand Helipad   \n57419  ZZ-0002   small_airport           Glorioso Islands Airstrip   \n57420     ZZZZ   small_airport             Satsuma IÅjima Airport   \n\n       elevation_ft continent iso_country iso_region      municipality  \\\n0              11.0       NaN          US      US-PA          Bensalem   \n1            3435.0       NaN          US      US-KS             Leoti   \n2             450.0       NaN          US      US-AK      Anchor Point   \n3             820.0       NaN          US      US-AL           Harvest   \n4             237.0       NaN          US      US-AR           Newport   \n...             ...       ...         ...        ...               ...   \n57416           0.0        AS          CN      CN-21           Yingkou   \n57417           NaN        AS          CN      CN-21          Shenyang   \n57418          40.0        EU          GB     GB-ENG           Sealand   \n57419          11.0        AF          TF     TF-U-A  Grande Glorieuse   \n57420         338.0        AS          JP      JP-46      Mishima-Mura   \n\n      gps_code iata_code local_code                              coordinates  \n0          00A       NaN        00A       -74.93360137939453, 40.07080078125  \n1         00AA       NaN       00AA                   -101.473911, 38.704022  \n2         00AK       NaN       00AK              -151.695999146, 59.94919968  \n3         00AL       NaN       00AL    -86.77030181884766, 34.86479949951172  \n4          NaN       NaN        NaN                      -91.254898, 35.6087  \n...        ...       ...        ...                                      ...  \n57416     ZYYK       YKH        NaN                      122.3586, 40.542524  \n57417     ZYYY       NaN        NaN   123.49600219726562, 41.784400939941406  \n57418      NaN       NaN        NaN                        1.4825, 51.894444  \n57419      NaN       NaN        NaN  47.296388888900005, -11.584277777799999  \n57420     RJX7       NaN       RJX7                    130.270556, 30.784722  \n\n[57421 rows x 12 columns]",
      "text/html": "<div>\n<style scoped>\n    .dataframe tbody tr th:only-of-type {\n        vertical-align: middle;\n    }\n\n    .dataframe tbody tr th {\n        vertical-align: top;\n    }\n\n    .dataframe thead th {\n        text-align: right;\n    }\n</style>\n<table border=\"1\" class=\"dataframe\">\n  <thead>\n    <tr style=\"text-align: right;\">\n      <th></th>\n      <th>ident</th>\n      <th>type</th>\n      <th>name</th>\n      <th>elevation_ft</th>\n      <th>continent</th>\n      <th>iso_country</th>\n      <th>iso_region</th>\n      <th>municipality</th>\n      <th>gps_code</th>\n      <th>iata_code</th>\n      <th>local_code</th>\n      <th>coordinates</th>\n    </tr>\n  </thead>\n  <tbody>\n    <tr>\n      <th>0</th>\n      <td>00A</td>\n      <td>heliport</td>\n      <td>Total Rf Heliport</td>\n      <td>11.0</td>\n      <td>NaN</td>\n      <td>US</td>\n      <td>US-PA</td>\n      <td>Bensalem</td>\n      <td>00A</td>\n      <td>NaN</td>\n      <td>00A</td>\n      <td>-74.93360137939453, 40.07080078125</td>\n    </tr>\n    <tr>\n      <th>1</th>\n      <td>00AA</td>\n      <td>small_airport</td>\n      <td>Aero B Ranch Airport</td>\n      <td>3435.0</td>\n      <td>NaN</td>\n      <td>US</td>\n      <td>US-KS</td>\n      <td>Leoti</td>\n      <td>00AA</td>\n      <td>NaN</td>\n      <td>00AA</td>\n      <td>-101.473911, 38.704022</td>\n    </tr>\n    <tr>\n      <th>2</th>\n      <td>00AK</td>\n      <td>small_airport</td>\n      <td>Lowell Field</td>\n      <td>450.0</td>\n      <td>NaN</td>\n      <td>US</td>\n      <td>US-AK</td>\n      <td>Anchor Point</td>\n      <td>00AK</td>\n      <td>NaN</td>\n      <td>00AK</td>\n      <td>-151.695999146, 59.94919968</td>\n    </tr>\n    <tr>\n      <th>3</th>\n      <td>00AL</td>\n      <td>small_airport</td>\n      <td>Epps Airpark</td>\n      <td>820.0</td>\n      <td>NaN</td>\n      <td>US</td>\n      <td>US-AL</td>\n      <td>Harvest</td>\n      <td>00AL</td>\n      <td>NaN</td>\n      <td>00AL</td>\n      <td>-86.77030181884766, 34.86479949951172</td>\n    </tr>\n    <tr>\n      <th>4</th>\n      <td>00AR</td>\n      <td>closed</td>\n      <td>Newport Hospital &amp; Clinic Heliport</td>\n      <td>237.0</td>\n      <td>NaN</td>\n      <td>US</td>\n      <td>US-AR</td>\n      <td>Newport</td>\n      <td>NaN</td>\n      <td>NaN</td>\n      <td>NaN</td>\n      <td>-91.254898, 35.6087</td>\n    </tr>\n    <tr>\n      <th>...</th>\n      <td>...</td>\n      <td>...</td>\n      <td>...</td>\n      <td>...</td>\n      <td>...</td>\n      <td>...</td>\n      <td>...</td>\n      <td>...</td>\n      <td>...</td>\n      <td>...</td>\n      <td>...</td>\n      <td>...</td>\n    </tr>\n    <tr>\n      <th>57416</th>\n      <td>ZYYK</td>\n      <td>medium_airport</td>\n      <td>Yingkou Lanqi Airport</td>\n      <td>0.0</td>\n      <td>AS</td>\n      <td>CN</td>\n      <td>CN-21</td>\n      <td>Yingkou</td>\n      <td>ZYYK</td>\n      <td>YKH</td>\n      <td>NaN</td>\n      <td>122.3586, 40.542524</td>\n    </tr>\n    <tr>\n      <th>57417</th>\n      <td>ZYYY</td>\n      <td>medium_airport</td>\n      <td>Shenyang Dongta Airport</td>\n      <td>NaN</td>\n      <td>AS</td>\n      <td>CN</td>\n      <td>CN-21</td>\n      <td>Shenyang</td>\n      <td>ZYYY</td>\n      <td>NaN</td>\n      <td>NaN</td>\n      <td>123.49600219726562, 41.784400939941406</td>\n    </tr>\n    <tr>\n      <th>57418</th>\n      <td>ZZ-0001</td>\n      <td>heliport</td>\n      <td>Sealand Helipad</td>\n      <td>40.0</td>\n      <td>EU</td>\n      <td>GB</td>\n      <td>GB-ENG</td>\n      <td>Sealand</td>\n      <td>NaN</td>\n      <td>NaN</td>\n      <td>NaN</td>\n      <td>1.4825, 51.894444</td>\n    </tr>\n    <tr>\n      <th>57419</th>\n      <td>ZZ-0002</td>\n      <td>small_airport</td>\n      <td>Glorioso Islands Airstrip</td>\n      <td>11.0</td>\n      <td>AF</td>\n      <td>TF</td>\n      <td>TF-U-A</td>\n      <td>Grande Glorieuse</td>\n      <td>NaN</td>\n      <td>NaN</td>\n      <td>NaN</td>\n      <td>47.296388888900005, -11.584277777799999</td>\n    </tr>\n    <tr>\n      <th>57420</th>\n      <td>ZZZZ</td>\n      <td>small_airport</td>\n      <td>Satsuma IÅjima Airport</td>\n      <td>338.0</td>\n      <td>AS</td>\n      <td>JP</td>\n      <td>JP-46</td>\n      <td>Mishima-Mura</td>\n      <td>RJX7</td>\n      <td>NaN</td>\n      <td>RJX7</td>\n      <td>130.270556, 30.784722</td>\n    </tr>\n  </tbody>\n</table>\n<p>57421 rows × 12 columns</p>\n</div>"
     },
     "execution_count": 3,
     "metadata": {},
     "output_type": "execute_result"
    }
   ],
   "source": [
    "airports = pd.read_csv('datasets/airport-codes.csv')\n",
    "airports"
   ],
   "metadata": {
    "collapsed": false,
    "ExecuteTime": {
     "end_time": "2024-01-20T21:04:34.204860Z",
     "start_time": "2024-01-20T21:04:34.085793Z"
    }
   },
   "id": "89a71411aa9fd918",
   "execution_count": 3
  },
  {
   "cell_type": "code",
   "outputs": [
    {
     "data": {
      "text/plain": "type\nsmall_airport     34808\nheliport          12028\nmedium_airport     4537\nclosed             4378\nseaplane_base      1030\nlarge_airport       616\nballoonport          24\nName: count, dtype: int64"
     },
     "execution_count": 4,
     "metadata": {},
     "output_type": "execute_result"
    }
   ],
   "source": [
    "airports['type'].value_counts()"
   ],
   "metadata": {
    "collapsed": false,
    "ExecuteTime": {
     "end_time": "2024-01-20T21:05:07.295392Z",
     "start_time": "2024-01-20T21:05:07.288046Z"
    }
   },
   "id": "b21469e5cb36de5b",
   "execution_count": 4
  },
  {
   "cell_type": "code",
   "outputs": [
    {
     "data": {
      "text/plain": "continent\nSA    8443\nEU    8404\nAS    5619\nAF    3361\nOC    3123\nAN      28\nName: count, dtype: int64"
     },
     "execution_count": 9,
     "metadata": {},
     "output_type": "execute_result"
    }
   ],
   "source": [
    "airports['continent'].value_counts()"
   ],
   "metadata": {
    "collapsed": false,
    "ExecuteTime": {
     "end_time": "2024-01-20T21:08:39.664584Z",
     "start_time": "2024-01-20T21:08:39.656895Z"
    }
   },
   "id": "99e89973ffe75af4",
   "execution_count": 9
  },
  {
   "cell_type": "code",
   "outputs": [
    {
     "data": {
      "text/plain": "        ident            type                          name  elevation_ft  \\\n12270  BG-JAM  medium_airport               Bezmer Air Base         509.0   \n12351    BIAR  medium_airport              Akureyri Airport           6.0   \n12362    BIEG  medium_airport          EgilsstaÃ°ir Airport          76.0   \n12378    BIHN  medium_airport        HornafjÃ¶rÃ°ur Airport          24.0   \n12382    BIHU  medium_airport             HÃºsavÃ­k Airport          48.0   \n...       ...             ...                           ...           ...   \n54935    XLMV  medium_airport  Severomorsk-3 Naval Air Base         564.0   \n54937    XLWF  medium_airport       Fedotovo Naval Air Base         574.0   \n54944    XRWL  medium_airport            Lebyazhye Air Base         381.0   \n55045    XUBS  medium_airport        Smolensk North Airport         820.0   \n55048    XWPR  medium_airport           Rtishchevo Air Base         673.0   \n\n      continent iso_country iso_region  municipality gps_code iata_code  \\\n12270        EU          BG      BG-28        Yambol     LBIA       JAM   \n12351        EU          IS       IS-6      Akureyri     BIAR       AEY   \n12362        EU          IS       IS-7  EgilsstaÃ°ir     BIEG       EGS   \n12378        EU          IS       IS-8         HÃ¶fn     BIHN       HFN   \n12382        EU          IS       IS-6     HÃºsavÃ­k     BIHU       HZK   \n...         ...         ...        ...           ...      ...       ...   \n54935        EU          RU     RU-MUR   Severomorsk      NaN       NaN   \n54937        EU          RU     RU-VLG      Kipelovo      NaN       NaN   \n54944        EU          RU     RU-VGG      Kamyshin     XRWL       NaN   \n55045        EU          RU     RU-SMO      Smolensk      NaN       LNX   \n55048        EU          RU     RU-SAR    Rtishchevo      NaN       NaN   \n\n      local_code                            coordinates  \n12270        NaN           26.3521995544, 42.4548988342  \n12351        NaN  -18.07270050048828, 65.66000366210938  \n12362        NaN  -14.401399612426758, 65.2833023071289  \n12378        NaN                    -15.2272, 64.295601  \n12382        NaN                  -17.426001, 65.952301  \n...          ...                                    ...  \n54935       XLMV                   33.716667, 68.866669  \n54937       XLWF                   39.129411, 59.193031  \n54944        NaN      45.2083015442, 50.201698303200004  \n55045       XUBS                         32.025, 54.824  \n55048       XWPR                     43.7241, 52.297317  \n\n[1086 rows x 12 columns]",
      "text/html": "<div>\n<style scoped>\n    .dataframe tbody tr th:only-of-type {\n        vertical-align: middle;\n    }\n\n    .dataframe tbody tr th {\n        vertical-align: top;\n    }\n\n    .dataframe thead th {\n        text-align: right;\n    }\n</style>\n<table border=\"1\" class=\"dataframe\">\n  <thead>\n    <tr style=\"text-align: right;\">\n      <th></th>\n      <th>ident</th>\n      <th>type</th>\n      <th>name</th>\n      <th>elevation_ft</th>\n      <th>continent</th>\n      <th>iso_country</th>\n      <th>iso_region</th>\n      <th>municipality</th>\n      <th>gps_code</th>\n      <th>iata_code</th>\n      <th>local_code</th>\n      <th>coordinates</th>\n    </tr>\n  </thead>\n  <tbody>\n    <tr>\n      <th>12270</th>\n      <td>BG-JAM</td>\n      <td>medium_airport</td>\n      <td>Bezmer Air Base</td>\n      <td>509.0</td>\n      <td>EU</td>\n      <td>BG</td>\n      <td>BG-28</td>\n      <td>Yambol</td>\n      <td>LBIA</td>\n      <td>JAM</td>\n      <td>NaN</td>\n      <td>26.3521995544, 42.4548988342</td>\n    </tr>\n    <tr>\n      <th>12351</th>\n      <td>BIAR</td>\n      <td>medium_airport</td>\n      <td>Akureyri Airport</td>\n      <td>6.0</td>\n      <td>EU</td>\n      <td>IS</td>\n      <td>IS-6</td>\n      <td>Akureyri</td>\n      <td>BIAR</td>\n      <td>AEY</td>\n      <td>NaN</td>\n      <td>-18.07270050048828, 65.66000366210938</td>\n    </tr>\n    <tr>\n      <th>12362</th>\n      <td>BIEG</td>\n      <td>medium_airport</td>\n      <td>EgilsstaÃ°ir Airport</td>\n      <td>76.0</td>\n      <td>EU</td>\n      <td>IS</td>\n      <td>IS-7</td>\n      <td>EgilsstaÃ°ir</td>\n      <td>BIEG</td>\n      <td>EGS</td>\n      <td>NaN</td>\n      <td>-14.401399612426758, 65.2833023071289</td>\n    </tr>\n    <tr>\n      <th>12378</th>\n      <td>BIHN</td>\n      <td>medium_airport</td>\n      <td>HornafjÃ¶rÃ°ur Airport</td>\n      <td>24.0</td>\n      <td>EU</td>\n      <td>IS</td>\n      <td>IS-8</td>\n      <td>HÃ¶fn</td>\n      <td>BIHN</td>\n      <td>HFN</td>\n      <td>NaN</td>\n      <td>-15.2272, 64.295601</td>\n    </tr>\n    <tr>\n      <th>12382</th>\n      <td>BIHU</td>\n      <td>medium_airport</td>\n      <td>HÃºsavÃ­k Airport</td>\n      <td>48.0</td>\n      <td>EU</td>\n      <td>IS</td>\n      <td>IS-6</td>\n      <td>HÃºsavÃ­k</td>\n      <td>BIHU</td>\n      <td>HZK</td>\n      <td>NaN</td>\n      <td>-17.426001, 65.952301</td>\n    </tr>\n    <tr>\n      <th>...</th>\n      <td>...</td>\n      <td>...</td>\n      <td>...</td>\n      <td>...</td>\n      <td>...</td>\n      <td>...</td>\n      <td>...</td>\n      <td>...</td>\n      <td>...</td>\n      <td>...</td>\n      <td>...</td>\n      <td>...</td>\n    </tr>\n    <tr>\n      <th>54935</th>\n      <td>XLMV</td>\n      <td>medium_airport</td>\n      <td>Severomorsk-3 Naval Air Base</td>\n      <td>564.0</td>\n      <td>EU</td>\n      <td>RU</td>\n      <td>RU-MUR</td>\n      <td>Severomorsk</td>\n      <td>NaN</td>\n      <td>NaN</td>\n      <td>XLMV</td>\n      <td>33.716667, 68.866669</td>\n    </tr>\n    <tr>\n      <th>54937</th>\n      <td>XLWF</td>\n      <td>medium_airport</td>\n      <td>Fedotovo Naval Air Base</td>\n      <td>574.0</td>\n      <td>EU</td>\n      <td>RU</td>\n      <td>RU-VLG</td>\n      <td>Kipelovo</td>\n      <td>NaN</td>\n      <td>NaN</td>\n      <td>XLWF</td>\n      <td>39.129411, 59.193031</td>\n    </tr>\n    <tr>\n      <th>54944</th>\n      <td>XRWL</td>\n      <td>medium_airport</td>\n      <td>Lebyazhye Air Base</td>\n      <td>381.0</td>\n      <td>EU</td>\n      <td>RU</td>\n      <td>RU-VGG</td>\n      <td>Kamyshin</td>\n      <td>XRWL</td>\n      <td>NaN</td>\n      <td>NaN</td>\n      <td>45.2083015442, 50.201698303200004</td>\n    </tr>\n    <tr>\n      <th>55045</th>\n      <td>XUBS</td>\n      <td>medium_airport</td>\n      <td>Smolensk North Airport</td>\n      <td>820.0</td>\n      <td>EU</td>\n      <td>RU</td>\n      <td>RU-SMO</td>\n      <td>Smolensk</td>\n      <td>NaN</td>\n      <td>LNX</td>\n      <td>XUBS</td>\n      <td>32.025, 54.824</td>\n    </tr>\n    <tr>\n      <th>55048</th>\n      <td>XWPR</td>\n      <td>medium_airport</td>\n      <td>Rtishchevo Air Base</td>\n      <td>673.0</td>\n      <td>EU</td>\n      <td>RU</td>\n      <td>RU-SAR</td>\n      <td>Rtishchevo</td>\n      <td>NaN</td>\n      <td>NaN</td>\n      <td>XWPR</td>\n      <td>43.7241, 52.297317</td>\n    </tr>\n  </tbody>\n</table>\n<p>1086 rows × 12 columns</p>\n</div>"
     },
     "execution_count": 10,
     "metadata": {},
     "output_type": "execute_result"
    }
   ],
   "source": [
    "airports[(airports['type'].isin(['large_airport', 'medium_airport'])) & (airports['continent'] == 'EU')]"
   ],
   "metadata": {
    "collapsed": false,
    "ExecuteTime": {
     "end_time": "2024-01-20T21:08:44.468103Z",
     "start_time": "2024-01-20T21:08:44.444545Z"
    }
   },
   "id": "22ad8babaf6b576d",
   "execution_count": 10
  },
  {
   "cell_type": "code",
   "outputs": [],
   "source": [],
   "metadata": {
    "collapsed": false
   },
   "id": "344423829b10cd28"
  }
 ],
 "metadata": {
  "kernelspec": {
   "display_name": "Python 3",
   "language": "python",
   "name": "python3"
  },
  "language_info": {
   "codemirror_mode": {
    "name": "ipython",
    "version": 2
   },
   "file_extension": ".py",
   "mimetype": "text/x-python",
   "name": "python",
   "nbconvert_exporter": "python",
   "pygments_lexer": "ipython2",
   "version": "2.7.6"
  }
 },
 "nbformat": 4,
 "nbformat_minor": 5
}
