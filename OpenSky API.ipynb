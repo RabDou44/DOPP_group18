{
 "cells": [
  {
   "cell_type": "markdown",
   "source": [
    "## A notebook to try the OpenSky API"
   ],
   "metadata": {
    "collapsed": false
   },
   "id": "c6ef82c675027adb"
  },
  {
   "cell_type": "markdown",
   "source": [
    "#### Get the airport codes"
   ],
   "metadata": {
    "collapsed": false
   },
   "id": "c60f236378dc333e"
  },
  {
   "cell_type": "code",
   "execution_count": 2,
   "outputs": [],
   "source": [
    "import pandas as pd"
   ],
   "metadata": {
    "collapsed": false,
    "ExecuteTime": {
     "end_time": "2023-12-12T12:10:20.701084Z",
     "start_time": "2023-12-12T12:10:20.230117Z"
    }
   },
   "id": "b77aa45ecc1166d5"
  },
  {
   "cell_type": "code",
   "execution_count": 3,
   "outputs": [],
   "source": [
    "airport_codes = pd.read_csv('datasets/airport-codes.csv')"
   ],
   "metadata": {
    "collapsed": false,
    "ExecuteTime": {
     "end_time": "2023-12-12T12:10:36.972099Z",
     "start_time": "2023-12-12T12:10:36.826008Z"
    }
   },
   "id": "817e97535711ee19"
  },
  {
   "cell_type": "code",
   "execution_count": 4,
   "outputs": [
    {
     "data": {
      "text/plain": "         ident            type                                name  \\\n0          00A        heliport                   Total Rf Heliport   \n1         00AA   small_airport                Aero B Ranch Airport   \n2         00AK   small_airport                        Lowell Field   \n3         00AL   small_airport                        Epps Airpark   \n4         00AR          closed  Newport Hospital & Clinic Heliport   \n...        ...             ...                                 ...   \n57416     ZYYK  medium_airport               Yingkou Lanqi Airport   \n57417     ZYYY  medium_airport             Shenyang Dongta Airport   \n57418  ZZ-0001        heliport                     Sealand Helipad   \n57419  ZZ-0002   small_airport           Glorioso Islands Airstrip   \n57420     ZZZZ   small_airport             Satsuma IÅjima Airport   \n\n       elevation_ft continent iso_country iso_region      municipality  \\\n0              11.0       NaN          US      US-PA          Bensalem   \n1            3435.0       NaN          US      US-KS             Leoti   \n2             450.0       NaN          US      US-AK      Anchor Point   \n3             820.0       NaN          US      US-AL           Harvest   \n4             237.0       NaN          US      US-AR           Newport   \n...             ...       ...         ...        ...               ...   \n57416           0.0        AS          CN      CN-21           Yingkou   \n57417           NaN        AS          CN      CN-21          Shenyang   \n57418          40.0        EU          GB     GB-ENG           Sealand   \n57419          11.0        AF          TF     TF-U-A  Grande Glorieuse   \n57420         338.0        AS          JP      JP-46      Mishima-Mura   \n\n      gps_code iata_code local_code                              coordinates  \n0          00A       NaN        00A       -74.93360137939453, 40.07080078125  \n1         00AA       NaN       00AA                   -101.473911, 38.704022  \n2         00AK       NaN       00AK              -151.695999146, 59.94919968  \n3         00AL       NaN       00AL    -86.77030181884766, 34.86479949951172  \n4          NaN       NaN        NaN                      -91.254898, 35.6087  \n...        ...       ...        ...                                      ...  \n57416     ZYYK       YKH        NaN                      122.3586, 40.542524  \n57417     ZYYY       NaN        NaN   123.49600219726562, 41.784400939941406  \n57418      NaN       NaN        NaN                        1.4825, 51.894444  \n57419      NaN       NaN        NaN  47.296388888900005, -11.584277777799999  \n57420     RJX7       NaN       RJX7                    130.270556, 30.784722  \n\n[57421 rows x 12 columns]",
      "text/html": "<div>\n<style scoped>\n    .dataframe tbody tr th:only-of-type {\n        vertical-align: middle;\n    }\n\n    .dataframe tbody tr th {\n        vertical-align: top;\n    }\n\n    .dataframe thead th {\n        text-align: right;\n    }\n</style>\n<table border=\"1\" class=\"dataframe\">\n  <thead>\n    <tr style=\"text-align: right;\">\n      <th></th>\n      <th>ident</th>\n      <th>type</th>\n      <th>name</th>\n      <th>elevation_ft</th>\n      <th>continent</th>\n      <th>iso_country</th>\n      <th>iso_region</th>\n      <th>municipality</th>\n      <th>gps_code</th>\n      <th>iata_code</th>\n      <th>local_code</th>\n      <th>coordinates</th>\n    </tr>\n  </thead>\n  <tbody>\n    <tr>\n      <th>0</th>\n      <td>00A</td>\n      <td>heliport</td>\n      <td>Total Rf Heliport</td>\n      <td>11.0</td>\n      <td>NaN</td>\n      <td>US</td>\n      <td>US-PA</td>\n      <td>Bensalem</td>\n      <td>00A</td>\n      <td>NaN</td>\n      <td>00A</td>\n      <td>-74.93360137939453, 40.07080078125</td>\n    </tr>\n    <tr>\n      <th>1</th>\n      <td>00AA</td>\n      <td>small_airport</td>\n      <td>Aero B Ranch Airport</td>\n      <td>3435.0</td>\n      <td>NaN</td>\n      <td>US</td>\n      <td>US-KS</td>\n      <td>Leoti</td>\n      <td>00AA</td>\n      <td>NaN</td>\n      <td>00AA</td>\n      <td>-101.473911, 38.704022</td>\n    </tr>\n    <tr>\n      <th>2</th>\n      <td>00AK</td>\n      <td>small_airport</td>\n      <td>Lowell Field</td>\n      <td>450.0</td>\n      <td>NaN</td>\n      <td>US</td>\n      <td>US-AK</td>\n      <td>Anchor Point</td>\n      <td>00AK</td>\n      <td>NaN</td>\n      <td>00AK</td>\n      <td>-151.695999146, 59.94919968</td>\n    </tr>\n    <tr>\n      <th>3</th>\n      <td>00AL</td>\n      <td>small_airport</td>\n      <td>Epps Airpark</td>\n      <td>820.0</td>\n      <td>NaN</td>\n      <td>US</td>\n      <td>US-AL</td>\n      <td>Harvest</td>\n      <td>00AL</td>\n      <td>NaN</td>\n      <td>00AL</td>\n      <td>-86.77030181884766, 34.86479949951172</td>\n    </tr>\n    <tr>\n      <th>4</th>\n      <td>00AR</td>\n      <td>closed</td>\n      <td>Newport Hospital &amp; Clinic Heliport</td>\n      <td>237.0</td>\n      <td>NaN</td>\n      <td>US</td>\n      <td>US-AR</td>\n      <td>Newport</td>\n      <td>NaN</td>\n      <td>NaN</td>\n      <td>NaN</td>\n      <td>-91.254898, 35.6087</td>\n    </tr>\n    <tr>\n      <th>...</th>\n      <td>...</td>\n      <td>...</td>\n      <td>...</td>\n      <td>...</td>\n      <td>...</td>\n      <td>...</td>\n      <td>...</td>\n      <td>...</td>\n      <td>...</td>\n      <td>...</td>\n      <td>...</td>\n      <td>...</td>\n    </tr>\n    <tr>\n      <th>57416</th>\n      <td>ZYYK</td>\n      <td>medium_airport</td>\n      <td>Yingkou Lanqi Airport</td>\n      <td>0.0</td>\n      <td>AS</td>\n      <td>CN</td>\n      <td>CN-21</td>\n      <td>Yingkou</td>\n      <td>ZYYK</td>\n      <td>YKH</td>\n      <td>NaN</td>\n      <td>122.3586, 40.542524</td>\n    </tr>\n    <tr>\n      <th>57417</th>\n      <td>ZYYY</td>\n      <td>medium_airport</td>\n      <td>Shenyang Dongta Airport</td>\n      <td>NaN</td>\n      <td>AS</td>\n      <td>CN</td>\n      <td>CN-21</td>\n      <td>Shenyang</td>\n      <td>ZYYY</td>\n      <td>NaN</td>\n      <td>NaN</td>\n      <td>123.49600219726562, 41.784400939941406</td>\n    </tr>\n    <tr>\n      <th>57418</th>\n      <td>ZZ-0001</td>\n      <td>heliport</td>\n      <td>Sealand Helipad</td>\n      <td>40.0</td>\n      <td>EU</td>\n      <td>GB</td>\n      <td>GB-ENG</td>\n      <td>Sealand</td>\n      <td>NaN</td>\n      <td>NaN</td>\n      <td>NaN</td>\n      <td>1.4825, 51.894444</td>\n    </tr>\n    <tr>\n      <th>57419</th>\n      <td>ZZ-0002</td>\n      <td>small_airport</td>\n      <td>Glorioso Islands Airstrip</td>\n      <td>11.0</td>\n      <td>AF</td>\n      <td>TF</td>\n      <td>TF-U-A</td>\n      <td>Grande Glorieuse</td>\n      <td>NaN</td>\n      <td>NaN</td>\n      <td>NaN</td>\n      <td>47.296388888900005, -11.584277777799999</td>\n    </tr>\n    <tr>\n      <th>57420</th>\n      <td>ZZZZ</td>\n      <td>small_airport</td>\n      <td>Satsuma IÅjima Airport</td>\n      <td>338.0</td>\n      <td>AS</td>\n      <td>JP</td>\n      <td>JP-46</td>\n      <td>Mishima-Mura</td>\n      <td>RJX7</td>\n      <td>NaN</td>\n      <td>RJX7</td>\n      <td>130.270556, 30.784722</td>\n    </tr>\n  </tbody>\n</table>\n<p>57421 rows × 12 columns</p>\n</div>"
     },
     "execution_count": 4,
     "metadata": {},
     "output_type": "execute_result"
    }
   ],
   "source": [
    "airport_codes"
   ],
   "metadata": {
    "collapsed": false,
    "ExecuteTime": {
     "end_time": "2023-12-12T12:10:44.674013Z",
     "start_time": "2023-12-12T12:10:44.664690Z"
    }
   },
   "id": "8be3b90ee9fc42b3"
  },
  {
   "cell_type": "code",
   "execution_count": 5,
   "outputs": [
    {
     "data": {
      "text/plain": "continent\nSA    8443\nEU    8404\nAS    5619\nAF    3361\nOC    3123\nAN      28\nName: count, dtype: int64"
     },
     "execution_count": 5,
     "metadata": {},
     "output_type": "execute_result"
    }
   ],
   "source": [
    "airport_codes['continent'].value_counts()"
   ],
   "metadata": {
    "collapsed": false,
    "ExecuteTime": {
     "end_time": "2023-12-12T12:12:09.473389Z",
     "start_time": "2023-12-12T12:12:09.465708Z"
    }
   },
   "id": "c5a8300c7ea938c7"
  },
  {
   "cell_type": "code",
   "execution_count": 6,
   "outputs": [
    {
     "data": {
      "text/plain": "         ident            type                                           name  \\\n10422      ABE          closed                                   RAF Calveley   \n10423      ABL          closed                               RNAS/RAF Calshot   \n10426  AD-0001        heliport                                 CamÃ­ Heliport   \n10427   AD-ALV        heliport                      Andorra la Vella Heliport   \n10429      ADJ          closed                                 RAF Castletown   \n...        ...             ...                                            ...   \n55047     XWPD   small_airport                              Sosnovka Airfield   \n55048     XWPR  medium_airport                            Rtishchevo Air Base   \n57018  ZA-0102          closed  Castle Bromwich Aerodrome/RAF Castle Bromwich   \n57096      ZBK          closed                               Å½abljak Airport   \n57418  ZZ-0001        heliport                                Sealand Helipad   \n\n       elevation_ft continent iso_country iso_region      municipality  \\\n10422           NaN        EU          GB     GB-ENG          Cheshire   \n10423           NaN        EU          GB     GB-ENG         Hampshire   \n10426           NaN        EU          AD      AD-04        La Massana   \n10427        3450.0        EU          AD      AD-07  Andorra La Vella   \n10429           NaN        EU          GB     GB-SCT         Caithness   \n...             ...       ...         ...        ...               ...   \n55047           NaN        EU          RU     RU-PNZ             Penza   \n55048         673.0        EU          RU     RU-SAR        Rtishchevo   \n57018           NaN        EU          GB     GB-ENG      Warwickshire   \n57096        4252.0        EU          ME      ME-21  Å½abljak Airport   \n57418          40.0        EU          GB     GB-ENG           Sealand   \n\n      gps_code iata_code local_code                         coordinates  \n10422      NaN       NaN        NaN                -2.603889, 53.113333  \n10423      NaN       NaN        NaN       -1.30677223206, 50.8199131549  \n10426      NaN       NaN        NaN                  1.51916, 42.546257  \n10427      NaN       ALV        NaN                 1.533551, 42.511174  \n10429      NaN       NaN        NaN  -3.3481693267800003, 58.5847198881  \n...        ...       ...        ...                                 ...  \n55047      NaN       NaN       XWPD                   45.277, 53.261002  \n55048      NaN       NaN       XWPR                  43.7241, 52.297317  \n57018      NaN       NaN        NaN                -1.786667, 52.517222  \n57096      NaN       ZBK        NaN                19.233334, 43.116669  \n57418      NaN       NaN        NaN                   1.4825, 51.894444  \n\n[8404 rows x 12 columns]",
      "text/html": "<div>\n<style scoped>\n    .dataframe tbody tr th:only-of-type {\n        vertical-align: middle;\n    }\n\n    .dataframe tbody tr th {\n        vertical-align: top;\n    }\n\n    .dataframe thead th {\n        text-align: right;\n    }\n</style>\n<table border=\"1\" class=\"dataframe\">\n  <thead>\n    <tr style=\"text-align: right;\">\n      <th></th>\n      <th>ident</th>\n      <th>type</th>\n      <th>name</th>\n      <th>elevation_ft</th>\n      <th>continent</th>\n      <th>iso_country</th>\n      <th>iso_region</th>\n      <th>municipality</th>\n      <th>gps_code</th>\n      <th>iata_code</th>\n      <th>local_code</th>\n      <th>coordinates</th>\n    </tr>\n  </thead>\n  <tbody>\n    <tr>\n      <th>10422</th>\n      <td>ABE</td>\n      <td>closed</td>\n      <td>RAF Calveley</td>\n      <td>NaN</td>\n      <td>EU</td>\n      <td>GB</td>\n      <td>GB-ENG</td>\n      <td>Cheshire</td>\n      <td>NaN</td>\n      <td>NaN</td>\n      <td>NaN</td>\n      <td>-2.603889, 53.113333</td>\n    </tr>\n    <tr>\n      <th>10423</th>\n      <td>ABL</td>\n      <td>closed</td>\n      <td>RNAS/RAF Calshot</td>\n      <td>NaN</td>\n      <td>EU</td>\n      <td>GB</td>\n      <td>GB-ENG</td>\n      <td>Hampshire</td>\n      <td>NaN</td>\n      <td>NaN</td>\n      <td>NaN</td>\n      <td>-1.30677223206, 50.8199131549</td>\n    </tr>\n    <tr>\n      <th>10426</th>\n      <td>AD-0001</td>\n      <td>heliport</td>\n      <td>CamÃ­ Heliport</td>\n      <td>NaN</td>\n      <td>EU</td>\n      <td>AD</td>\n      <td>AD-04</td>\n      <td>La Massana</td>\n      <td>NaN</td>\n      <td>NaN</td>\n      <td>NaN</td>\n      <td>1.51916, 42.546257</td>\n    </tr>\n    <tr>\n      <th>10427</th>\n      <td>AD-ALV</td>\n      <td>heliport</td>\n      <td>Andorra la Vella Heliport</td>\n      <td>3450.0</td>\n      <td>EU</td>\n      <td>AD</td>\n      <td>AD-07</td>\n      <td>Andorra La Vella</td>\n      <td>NaN</td>\n      <td>ALV</td>\n      <td>NaN</td>\n      <td>1.533551, 42.511174</td>\n    </tr>\n    <tr>\n      <th>10429</th>\n      <td>ADJ</td>\n      <td>closed</td>\n      <td>RAF Castletown</td>\n      <td>NaN</td>\n      <td>EU</td>\n      <td>GB</td>\n      <td>GB-SCT</td>\n      <td>Caithness</td>\n      <td>NaN</td>\n      <td>NaN</td>\n      <td>NaN</td>\n      <td>-3.3481693267800003, 58.5847198881</td>\n    </tr>\n    <tr>\n      <th>...</th>\n      <td>...</td>\n      <td>...</td>\n      <td>...</td>\n      <td>...</td>\n      <td>...</td>\n      <td>...</td>\n      <td>...</td>\n      <td>...</td>\n      <td>...</td>\n      <td>...</td>\n      <td>...</td>\n      <td>...</td>\n    </tr>\n    <tr>\n      <th>55047</th>\n      <td>XWPD</td>\n      <td>small_airport</td>\n      <td>Sosnovka Airfield</td>\n      <td>NaN</td>\n      <td>EU</td>\n      <td>RU</td>\n      <td>RU-PNZ</td>\n      <td>Penza</td>\n      <td>NaN</td>\n      <td>NaN</td>\n      <td>XWPD</td>\n      <td>45.277, 53.261002</td>\n    </tr>\n    <tr>\n      <th>55048</th>\n      <td>XWPR</td>\n      <td>medium_airport</td>\n      <td>Rtishchevo Air Base</td>\n      <td>673.0</td>\n      <td>EU</td>\n      <td>RU</td>\n      <td>RU-SAR</td>\n      <td>Rtishchevo</td>\n      <td>NaN</td>\n      <td>NaN</td>\n      <td>XWPR</td>\n      <td>43.7241, 52.297317</td>\n    </tr>\n    <tr>\n      <th>57018</th>\n      <td>ZA-0102</td>\n      <td>closed</td>\n      <td>Castle Bromwich Aerodrome/RAF Castle Bromwich</td>\n      <td>NaN</td>\n      <td>EU</td>\n      <td>GB</td>\n      <td>GB-ENG</td>\n      <td>Warwickshire</td>\n      <td>NaN</td>\n      <td>NaN</td>\n      <td>NaN</td>\n      <td>-1.786667, 52.517222</td>\n    </tr>\n    <tr>\n      <th>57096</th>\n      <td>ZBK</td>\n      <td>closed</td>\n      <td>Å½abljak Airport</td>\n      <td>4252.0</td>\n      <td>EU</td>\n      <td>ME</td>\n      <td>ME-21</td>\n      <td>Å½abljak Airport</td>\n      <td>NaN</td>\n      <td>ZBK</td>\n      <td>NaN</td>\n      <td>19.233334, 43.116669</td>\n    </tr>\n    <tr>\n      <th>57418</th>\n      <td>ZZ-0001</td>\n      <td>heliport</td>\n      <td>Sealand Helipad</td>\n      <td>40.0</td>\n      <td>EU</td>\n      <td>GB</td>\n      <td>GB-ENG</td>\n      <td>Sealand</td>\n      <td>NaN</td>\n      <td>NaN</td>\n      <td>NaN</td>\n      <td>1.4825, 51.894444</td>\n    </tr>\n  </tbody>\n</table>\n<p>8404 rows × 12 columns</p>\n</div>"
     },
     "execution_count": 6,
     "metadata": {},
     "output_type": "execute_result"
    }
   ],
   "source": [
    "airport_codes_eu = airport_codes[airport_codes['continent'] == 'EU']\n",
    "airport_codes_eu"
   ],
   "metadata": {
    "collapsed": false,
    "ExecuteTime": {
     "end_time": "2023-12-12T12:13:11.306596Z",
     "start_time": "2023-12-12T12:13:11.265150Z"
    }
   },
   "id": "aa486699c9812f7b"
  },
  {
   "cell_type": "code",
   "execution_count": 7,
   "outputs": [
    {
     "data": {
      "text/plain": "      ident           type                          name  elevation_ft  \\\n33448  LOWW  large_airport  Vienna International Airport         600.0   \n\n      continent iso_country iso_region municipality gps_code iata_code  \\\n33448        EU          AT       AT-9       Vienna     LOWW       VIE   \n\n      local_code                       coordinates  \n33448        NaN  16.569700241089, 48.110298156738  ",
      "text/html": "<div>\n<style scoped>\n    .dataframe tbody tr th:only-of-type {\n        vertical-align: middle;\n    }\n\n    .dataframe tbody tr th {\n        vertical-align: top;\n    }\n\n    .dataframe thead th {\n        text-align: right;\n    }\n</style>\n<table border=\"1\" class=\"dataframe\">\n  <thead>\n    <tr style=\"text-align: right;\">\n      <th></th>\n      <th>ident</th>\n      <th>type</th>\n      <th>name</th>\n      <th>elevation_ft</th>\n      <th>continent</th>\n      <th>iso_country</th>\n      <th>iso_region</th>\n      <th>municipality</th>\n      <th>gps_code</th>\n      <th>iata_code</th>\n      <th>local_code</th>\n      <th>coordinates</th>\n    </tr>\n  </thead>\n  <tbody>\n    <tr>\n      <th>33448</th>\n      <td>LOWW</td>\n      <td>large_airport</td>\n      <td>Vienna International Airport</td>\n      <td>600.0</td>\n      <td>EU</td>\n      <td>AT</td>\n      <td>AT-9</td>\n      <td>Vienna</td>\n      <td>LOWW</td>\n      <td>VIE</td>\n      <td>NaN</td>\n      <td>16.569700241089, 48.110298156738</td>\n    </tr>\n  </tbody>\n</table>\n</div>"
     },
     "execution_count": 7,
     "metadata": {},
     "output_type": "execute_result"
    }
   ],
   "source": [
    "airport_codes_eu[airport_codes_eu['iata_code'] == 'VIE']"
   ],
   "metadata": {
    "collapsed": false,
    "ExecuteTime": {
     "end_time": "2023-12-12T12:15:02.949044Z",
     "start_time": "2023-12-12T12:15:02.935454Z"
    }
   },
   "id": "8762f60b55927119"
  },
  {
   "cell_type": "code",
   "execution_count": 8,
   "outputs": [
    {
     "data": {
      "text/plain": "type\nsmall_airport     5194\nheliport          1090\nclosed            1000\nmedium_airport     924\nlarge_airport      162\nseaplane_base       28\nballoonport          6\nName: count, dtype: int64"
     },
     "execution_count": 8,
     "metadata": {},
     "output_type": "execute_result"
    }
   ],
   "source": [
    "airport_codes_eu['type'].value_counts()"
   ],
   "metadata": {
    "collapsed": false,
    "ExecuteTime": {
     "end_time": "2023-12-12T12:15:52.638500Z",
     "start_time": "2023-12-12T12:15:52.635053Z"
    }
   },
   "id": "215692e60c586a7"
  },
  {
   "cell_type": "code",
   "execution_count": null,
   "outputs": [],
   "source": [],
   "metadata": {
    "collapsed": false
   },
   "id": "f41c4c828fae5f8c"
  },
  {
   "cell_type": "code",
   "execution_count": 1,
   "outputs": [
    {
     "name": "stdout",
     "output_type": "stream",
     "text": [
      "Obtaining file:///Users/emilejohnston/DataspellProjects/DOPP_group18/opensky-api-master/python\r\n",
      "  Preparing metadata (setup.py) ... \u001B[?25ldone\r\n",
      "\u001B[?25hRequirement already satisfied: requests in /opt/homebrew/lib/python3.11/site-packages (from opensky-api==1.3.0) (2.31.0)\r\n",
      "Requirement already satisfied: charset-normalizer<4,>=2 in /opt/homebrew/lib/python3.11/site-packages (from requests->opensky-api==1.3.0) (3.2.0)\r\n",
      "Requirement already satisfied: idna<4,>=2.5 in /opt/homebrew/lib/python3.11/site-packages (from requests->opensky-api==1.3.0) (3.4)\r\n",
      "Requirement already satisfied: urllib3<3,>=1.21.1 in /opt/homebrew/lib/python3.11/site-packages (from requests->opensky-api==1.3.0) (2.0.4)\r\n",
      "Requirement already satisfied: certifi>=2017.4.17 in /opt/homebrew/lib/python3.11/site-packages (from requests->opensky-api==1.3.0) (2023.7.22)\r\n",
      "Installing collected packages: opensky-api\r\n",
      "  Running setup.py develop for opensky-api\r\n",
      "Successfully installed opensky-api-1.3.0\r\n",
      "\r\n",
      "\u001B[1m[\u001B[0m\u001B[34;49mnotice\u001B[0m\u001B[1;39;49m]\u001B[0m\u001B[39;49m A new release of pip is available: \u001B[0m\u001B[31;49m23.2.1\u001B[0m\u001B[39;49m -> \u001B[0m\u001B[32;49m23.3.1\u001B[0m\r\n",
      "\u001B[1m[\u001B[0m\u001B[34;49mnotice\u001B[0m\u001B[1;39;49m]\u001B[0m\u001B[39;49m To update, run: \u001B[0m\u001B[32;49mpython3.11 -m pip install --upgrade pip\u001B[0m\r\n",
      "Note: you may need to restart the kernel to use updated packages.\n"
     ]
    }
   ],
   "source": [
    "# install once\n",
    "# pip install -e opensky-api-master/python"
   ],
   "metadata": {
    "collapsed": false,
    "ExecuteTime": {
     "end_time": "2023-12-12T11:51:33.158876Z",
     "start_time": "2023-12-12T11:51:31.099249Z"
    }
   },
   "id": "6ee2974dd713054b"
  },
  {
   "cell_type": "markdown",
   "source": [
    "#### Import the API"
   ],
   "metadata": {
    "collapsed": false
   },
   "id": "6a8020d5ab92c813"
  },
  {
   "cell_type": "code",
   "execution_count": 1,
   "outputs": [],
   "source": [
    "from opensky_api import OpenSkyApi\n",
    "api = OpenSkyApi()"
   ],
   "metadata": {
    "collapsed": true,
    "ExecuteTime": {
     "end_time": "2023-12-12T11:52:39.231848Z",
     "start_time": "2023-12-12T11:52:39.186737Z"
    }
   },
   "id": "initial_id"
  },
  {
   "cell_type": "code",
   "execution_count": 10,
   "outputs": [],
   "source": [
    "from datetime import datetime"
   ],
   "metadata": {
    "collapsed": false,
    "ExecuteTime": {
     "end_time": "2023-12-12T12:19:21.265910Z",
     "start_time": "2023-12-12T12:19:21.257292Z"
    }
   },
   "id": "f5e317f1cede67e7"
  },
  {
   "cell_type": "code",
   "execution_count": 12,
   "outputs": [
    {
     "name": "stdout",
     "output_type": "stream",
     "text": [
      "From 10 to 11 December 2023\n",
      "Begin: 1702218600, End: 1702305000\n"
     ]
    }
   ],
   "source": [
    "year = 2023\n",
    "month = 12\n",
    "day = 10\n",
    "hour = 15  # 24-hour format\n",
    "minute = 30\n",
    "second = 0\n",
    "\n",
    "# Create a datetime object\n",
    "begin = datetime(year, month, day, hour, minute, second)\n",
    "end = datetime(year, month, day+1, hour, minute, second)\n",
    "\n",
    "begin_unix = int(begin.timestamp())\n",
    "end_unix = int(end.timestamp())\n",
    "print('From 10 to 11 December 2023')\n",
    "print(f'Begin: {begin_unix}, End: {end_unix}')"
   ],
   "metadata": {
    "collapsed": false,
    "ExecuteTime": {
     "end_time": "2023-12-12T12:22:38.153394Z",
     "start_time": "2023-12-12T12:22:38.145636Z"
    }
   },
   "id": "86db80bcfe1ed2f5"
  },
  {
   "cell_type": "code",
   "execution_count": 15,
   "outputs": [],
   "source": [
    "result = api.get_arrivals_by_airport('LOWW',begin_unix, end_unix) # LOWW is Vienna"
   ],
   "metadata": {
    "collapsed": false,
    "ExecuteTime": {
     "end_time": "2023-12-12T12:25:14.422269Z",
     "start_time": "2023-12-12T12:25:14.296625Z"
    }
   },
   "id": "309cabe1681bc74e"
  },
  {
   "cell_type": "code",
   "execution_count": 17,
   "outputs": [
    {
     "name": "stdout",
     "output_type": "stream",
     "text": [
      "None\n"
     ]
    }
   ],
   "source": [
    "print(result)"
   ],
   "metadata": {
    "collapsed": false,
    "ExecuteTime": {
     "end_time": "2023-12-12T12:25:22.886335Z",
     "start_time": "2023-12-12T12:25:22.865043Z"
    }
   },
   "id": "5bb6292daf730461"
  },
  {
   "cell_type": "code",
   "execution_count": null,
   "outputs": [],
   "source": [],
   "metadata": {
    "collapsed": false
   },
   "id": "f62b153c0dfd541"
  }
 ],
 "metadata": {
  "kernelspec": {
   "display_name": "Python 3",
   "language": "python",
   "name": "python3"
  },
  "language_info": {
   "codemirror_mode": {
    "name": "ipython",
    "version": 2
   },
   "file_extension": ".py",
   "mimetype": "text/x-python",
   "name": "python",
   "nbconvert_exporter": "python",
   "pygments_lexer": "ipython2",
   "version": "2.7.6"
  }
 },
 "nbformat": 4,
 "nbformat_minor": 5
}
