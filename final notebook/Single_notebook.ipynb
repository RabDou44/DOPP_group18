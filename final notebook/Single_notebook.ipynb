{
 "cells": [
  {
   "cell_type": "markdown",
   "id": "7ed1711d",
   "metadata": {},
   "source": [
    "Output: airport_cities.csv, flight_times_extended.csv\n",
    "To create: dataset with cities, that are not matched between airport_cities and train_cities"
   ]
  },
  {
   "cell_type": "markdown",
   "id": "3556dc49dec53ec5",
   "metadata": {
    "collapsed": false
   },
   "source": [
    "# Comparing train and plane travel times\n",
    "\n",
    "Import of libraries/flight data"
   ]
  },
  {
   "cell_type": "code",
   "execution_count": 15,
   "id": "35e62a514ab4468",
   "metadata": {
    "collapsed": false,
    "ExecuteTime": {
     "end_time": "2024-01-22T19:45:39.987875Z",
     "start_time": "2024-01-22T19:45:39.764070Z"
    }
   },
   "outputs": [],
   "source": [
    "# # TODO: delete this cell\n",
    "# import os\n",
    "# # set working directory\n",
    "# os.chdir('/Users/emilejohnston/DataspellProjects/DOPP_group18')\n",
    "# # show current working directory\n",
    "# os.getcwd()"
   ]
  },
  {
   "cell_type": "markdown",
   "id": "682189e8168352d5",
   "metadata": {
    "collapsed": false
   },
   "source": []
  },
  {
   "cell_type": "markdown",
   "source": [
    "## Flight data"
   ],
   "metadata": {
    "collapsed": false
   },
   "id": "176c0d72f7583860"
  },
  {
   "cell_type": "markdown",
   "source": [
    "### Airlabs API for flight data\n",
    "this API provides the duration of recent flights all over the world."
   ],
   "metadata": {
    "collapsed": false
   },
   "id": "e157c9b74d827ebe"
  },
  {
   "cell_type": "code",
   "outputs": [],
   "source": [
    "# set up\n",
    "import requests\n",
    "import pandas as pd\n",
    "import random\n",
    "\n",
    "airlab_api_params = {\n",
    "    \"api_key\" : \"8ffb5e97-7a50-4773-b2d9-8638ec08bc75\",\n",
    "}\n",
    "\n",
    "airlab_ex_param = {\n",
    "    \"api_key\" : \"8ffb5e97-7a50-4773-b2d9-8638ec08bc75\",\n",
    "    \"dep_iata\" : \"ANR\"\n",
    "}"
   ],
   "metadata": {
    "collapsed": false
   },
   "id": "b5818842b469b704",
   "execution_count": 2
  },
  {
   "cell_type": "markdown",
   "source": [
    "checking the types of airports in this database"
   ],
   "metadata": {
    "collapsed": false
   },
   "id": "1742ee02a18e71e7"
  },
  {
   "cell_type": "markdown",
   "source": [
    "### Airport info"
   ],
   "metadata": {
    "collapsed": false
   },
   "id": "85ac3f3d7a424f54"
  },
  {
   "cell_type": "code",
   "outputs": [
    {
     "data": {
      "text/plain": [
       "array(['heliport', 'small_airport', 'closed', 'seaplane_base',\n",
       "       'balloonport', 'medium_airport', 'large_airport'], dtype=object)"
      ]
     },
     "execution_count": 6,
     "metadata": {},
     "output_type": "execute_result"
    }
   ],
   "source": [
    "EURO_IATA_CODES = pd.read_csv('../datasets/fixed-airports-codes.csv')\n",
    "EURO_IATA_CODES['type'].unique()"
   ],
   "metadata": {
    "collapsed": false
   },
   "id": "a67a1b120ad49812",
   "execution_count": 6
  },
  {
   "cell_type": "code",
   "outputs": [
    {
     "data": {
      "text/html": [
       "<div>\n",
       "<style scoped>\n",
       "    .dataframe tbody tr th:only-of-type {\n",
       "        vertical-align: middle;\n",
       "    }\n",
       "\n",
       "    .dataframe tbody tr th {\n",
       "        vertical-align: top;\n",
       "    }\n",
       "\n",
       "    .dataframe thead th {\n",
       "        text-align: right;\n",
       "    }\n",
       "</style>\n",
       "<table border=\"1\" class=\"dataframe\">\n",
       "  <thead>\n",
       "    <tr style=\"text-align: right;\">\n",
       "      <th></th>\n",
       "      <th>name</th>\n",
       "      <th>iata_code</th>\n",
       "      <th>iso_region</th>\n",
       "      <th>iso_country</th>\n",
       "      <th>coordinates</th>\n",
       "    </tr>\n",
       "  </thead>\n",
       "  <tbody>\n",
       "    <tr>\n",
       "      <th>0</th>\n",
       "      <td>Bezmer Air Base</td>\n",
       "      <td>JAM</td>\n",
       "      <td>BG-28</td>\n",
       "      <td>BG</td>\n",
       "      <td>26.3521995544, 42.4548988342</td>\n",
       "    </tr>\n",
       "    <tr>\n",
       "      <th>1</th>\n",
       "      <td>PriÅ¡tina International Airport</td>\n",
       "      <td>PRN</td>\n",
       "      <td>XK-01</td>\n",
       "      <td>XK</td>\n",
       "      <td>21.035801, 42.5728</td>\n",
       "    </tr>\n",
       "    <tr>\n",
       "      <th>2</th>\n",
       "      <td>Antwerp International Airport (Deurne)</td>\n",
       "      <td>ANR</td>\n",
       "      <td>BE-VAN</td>\n",
       "      <td>BE</td>\n",
       "      <td>4.46027994156, 51.1893997192</td>\n",
       "    </tr>\n",
       "    <tr>\n",
       "      <th>3</th>\n",
       "      <td>Brussels Airport</td>\n",
       "      <td>BRU</td>\n",
       "      <td>BE-BRU</td>\n",
       "      <td>BE</td>\n",
       "      <td>4.48443984985, 50.901401519800004</td>\n",
       "    </tr>\n",
       "    <tr>\n",
       "      <th>4</th>\n",
       "      <td>Brussels South Charleroi Airport</td>\n",
       "      <td>CRL</td>\n",
       "      <td>BE-WHT</td>\n",
       "      <td>BE</td>\n",
       "      <td>4.45382, 50.459202</td>\n",
       "    </tr>\n",
       "    <tr>\n",
       "      <th>...</th>\n",
       "      <td>...</td>\n",
       "      <td>...</td>\n",
       "      <td>...</td>\n",
       "      <td>...</td>\n",
       "      <td>...</td>\n",
       "    </tr>\n",
       "    <tr>\n",
       "      <th>783</th>\n",
       "      <td>Balakovo Airport</td>\n",
       "      <td>BWO</td>\n",
       "      <td>RU-SAR</td>\n",
       "      <td>RU</td>\n",
       "      <td>47.7456016541, 51.8582992554</td>\n",
       "    </tr>\n",
       "    <tr>\n",
       "      <th>784</th>\n",
       "      <td>Saratov Central Airport</td>\n",
       "      <td>RTW</td>\n",
       "      <td>RU-SAR</td>\n",
       "      <td>RU</td>\n",
       "      <td>46.04669952392578, 51.564998626708984</td>\n",
       "    </tr>\n",
       "    <tr>\n",
       "      <th>785</th>\n",
       "      <td>Ufa International Airport</td>\n",
       "      <td>UFA</td>\n",
       "      <td>RU-BA</td>\n",
       "      <td>RU</td>\n",
       "      <td>55.874401092529, 54.557498931885</td>\n",
       "    </tr>\n",
       "    <tr>\n",
       "      <th>786</th>\n",
       "      <td>Kurumoch International Airport</td>\n",
       "      <td>KUF</td>\n",
       "      <td>RU-SAM</td>\n",
       "      <td>RU</td>\n",
       "      <td>50.16429901123, 53.504901885986</td>\n",
       "    </tr>\n",
       "    <tr>\n",
       "      <th>787</th>\n",
       "      <td>Smolensk North Airport</td>\n",
       "      <td>LNX</td>\n",
       "      <td>RU-SMO</td>\n",
       "      <td>RU</td>\n",
       "      <td>32.025, 54.824</td>\n",
       "    </tr>\n",
       "  </tbody>\n",
       "</table>\n",
       "<p>788 rows × 5 columns</p>\n",
       "</div>"
      ],
      "text/plain": [
       "                                       name iata_code iso_region iso_country  \\\n",
       "0                           Bezmer Air Base       JAM      BG-28          BG   \n",
       "1           PriÅ¡tina International Airport       PRN      XK-01          XK   \n",
       "2    Antwerp International Airport (Deurne)       ANR     BE-VAN          BE   \n",
       "3                          Brussels Airport       BRU     BE-BRU          BE   \n",
       "4          Brussels South Charleroi Airport       CRL     BE-WHT          BE   \n",
       "..                                      ...       ...        ...         ...   \n",
       "783                        Balakovo Airport       BWO     RU-SAR          RU   \n",
       "784                 Saratov Central Airport       RTW     RU-SAR          RU   \n",
       "785               Ufa International Airport       UFA      RU-BA          RU   \n",
       "786          Kurumoch International Airport       KUF     RU-SAM          RU   \n",
       "787                  Smolensk North Airport       LNX     RU-SMO          RU   \n",
       "\n",
       "                               coordinates  \n",
       "0             26.3521995544, 42.4548988342  \n",
       "1                       21.035801, 42.5728  \n",
       "2             4.46027994156, 51.1893997192  \n",
       "3        4.48443984985, 50.901401519800004  \n",
       "4                       4.45382, 50.459202  \n",
       "..                                     ...  \n",
       "783           47.7456016541, 51.8582992554  \n",
       "784  46.04669952392578, 51.564998626708984  \n",
       "785       55.874401092529, 54.557498931885  \n",
       "786        50.16429901123, 53.504901885986  \n",
       "787                         32.025, 54.824  \n",
       "\n",
       "[788 rows x 5 columns]"
      ]
     },
     "execution_count": 9,
     "metadata": {},
     "output_type": "execute_result"
    }
   ],
   "source": [
    "EU_LARGE = EURO_IATA_CODES.loc[(EURO_IATA_CODES[\"type\"].isin(['large_airport','medium_airport']))  &  (EURO_IATA_CODES['continent'].isin([\"EU\"]) )][[\"name\",\"iata_code\",\"iso_region\",\"iso_country\",\"coordinates\"]]\n",
    "\n",
    "# exclude islands and unaccessible airports\n",
    "\n",
    "airports_to_exclude= [\"HER\", \"NaN\",\"PMI\", \"LPA\", \"TFS\", \"TFN\"]\n",
    "# island countries: Iceland, Ireland\n",
    "countries_to_exclude = [\"IS\",\"IE\"]\n",
    "\n",
    "# data about airports we want to consider:\n",
    "FINAL_AIRPORTS = EU_LARGE.loc[(~EU_LARGE['iso_country'].isin(countries_to_exclude))  \n",
    "                              & (~EU_LARGE['iata_code'].isin(airports_to_exclude))\n",
    "                              & (~EU_LARGE['iata_code'].isna())].reset_index(drop=True)\n",
    "FINAL_AIRPORTS"
   ],
   "metadata": {
    "collapsed": false
   },
   "id": "29a2d811fb859393",
   "execution_count": 9
  },
  {
   "cell_type": "markdown",
   "source": [
    "Save selected large airports to CSV"
   ],
   "metadata": {
    "collapsed": false
   },
   "id": "b3d0980ca0a91e17"
  },
  {
   "cell_type": "code",
   "outputs": [],
   "source": [
    "FINAL_AIRPORTS.to_csv(\"./datasets/AIRPORT_SET.csv\")"
   ],
   "metadata": {
    "collapsed": false
   },
   "id": "a44e805a3ee9a4f1",
   "execution_count": 10
  },
  {
   "cell_type": "markdown",
   "source": [
    "### IATA codes of the airports we want to consider"
   ],
   "metadata": {
    "collapsed": false
   },
   "id": "63895e24424e9d7d"
  },
  {
   "cell_type": "code",
   "outputs": [
    {
     "data": {
      "text/plain": [
       "['ZIA',\n",
       " 'EDI',\n",
       " 'SIR',\n",
       " 'LBC',\n",
       " 'TIV',\n",
       " 'MRS',\n",
       " 'DGP',\n",
       " 'ZMG',\n",
       " 'SKG',\n",
       " 'SZW',\n",
       " 'CMF',\n",
       " 'QLT',\n",
       " 'CSF',\n",
       " 'MIK',\n",
       " 'GOA',\n",
       " 'MOL',\n",
       " 'LWR',\n",
       " 'RYG',\n",
       " 'BLK',\n",
       " 'MST',\n",
       " 'NTE',\n",
       " 'ZTH',\n",
       " 'GLZ',\n",
       " 'LHA',\n",
       " 'LLA',\n",
       " 'HVG',\n",
       " 'AOK',\n",
       " 'STN',\n",
       " 'HZB',\n",
       " 'RRS',\n",
       " 'BZY',\n",
       " 'PEV',\n",
       " 'AOI',\n",
       " 'EXT',\n",
       " 'BVG',\n",
       " 'CQF',\n",
       " 'SVO',\n",
       " 'JKG',\n",
       " 'BJF',\n",
       " 'EIB',\n",
       " 'VRK',\n",
       " 'BAY',\n",
       " 'EPU',\n",
       " 'SJJ',\n",
       " 'NHT',\n",
       " 'GEV',\n",
       " 'SEK',\n",
       " 'BWF',\n",
       " 'LME',\n",
       " 'FCO']"
      ]
     },
     "execution_count": 36,
     "metadata": {},
     "output_type": "execute_result"
    }
   ],
   "source": [
    "CODES = list(FINAL_AIRPORTS[\"iata_code\"])\n",
    "# We take a sample of 50 airports to test the API\n",
    "sample_CODES = random.sample(CODES, 50)\n",
    "sample_CODES"
   ],
   "metadata": {
    "collapsed": false
   },
   "id": "8619892de53f9d84",
   "execution_count": 36
  },
  {
   "cell_type": "markdown",
   "source": [
    "is Paris Charles-de-Gaulle in the sample?"
   ],
   "metadata": {
    "collapsed": false
   },
   "id": "6927bd9a1ec1a90b"
  },
  {
   "cell_type": "code",
   "outputs": [
    {
     "data": {
      "text/plain": [
       "False"
      ]
     },
     "execution_count": 28,
     "metadata": {},
     "output_type": "execute_result"
    }
   ],
   "source": [
    "\"CDG\" in sample_CODES"
   ],
   "metadata": {
    "collapsed": false
   },
   "id": "db0fb68eef82a959",
   "execution_count": 28
  },
  {
   "cell_type": "markdown",
   "source": [
    "### API request functions"
   ],
   "metadata": {
    "collapsed": false
   },
   "id": "f979a92912256d8a"
  },
  {
   "cell_type": "code",
   "outputs": [],
   "source": [
    "def get_flight_duration(codes):\n",
    "    \n",
    "    # download\n",
    "    data = []\n",
    "    for code in codes:\n",
    "        queryX = {\n",
    "            \"api_key\" : \"8ffb5e97-7a50-4773-b2d9-8638ec08bc75\",\n",
    "            \"dep_iata\" :  f\"{code}\"\n",
    "        }\n",
    "\n",
    "        req_get = requests.get(\"https://airlabs.co/api/v9/schedules?\",params= queryX)        \n",
    "        DF = parse_response(req_get)\n",
    "        if len(DF) > 0:\n",
    "            DF = filter_clean_codes(DF, codes)\n",
    "            data.append(DF)\n",
    "\n",
    "    DF[\"route\"] = DF.apply(lambda row: set([row[\"dep\"], row[\"arr\"]]), axis=1)\n",
    "    DF = DF.loc[[\"route\",\"time\"]]\n",
    "    DF.drop_duplicates(inplace=True, ignore_index=True)\n",
    "  \n",
    "    # concat all and return \n",
    "    return pd.concat(data, ignore_index=True)\n",
    "\n",
    "\n",
    "\n",
    "def parse_response(api_response):\n",
    "    \"\"\"\n",
    "    Keyword arguments:\n",
    "    api_response -- GET response\n",
    "    Return: pd.DataFrame of flight routes\n",
    "    \"\"\"\n",
    "\n",
    "    j_resp = api_response.json()\n",
    "    flight_list = j_resp['response']\n",
    "    \n",
    "    flights = []\n",
    "    for fl in flight_list:\n",
    "        one_flight = {\"dep\":fl['dep_iata'],\n",
    "                      \"arr\":fl['arr_iata'],\n",
    "                      \"time\":fl['duration']}\n",
    "        flights.append(one_flight)\n",
    "\n",
    "    print(flight_list)\n",
    "    return pd.DataFrame(flights)\n",
    "\n",
    "def filter_clean_codes(flight_set, codes):\n",
    "    df = flight_set[ (flight_set[\"dep\"].isin(codes)) & (flight_set[\"arr\"].isin(codes))]\n",
    "    # uDF = df.loc[[\"route\",\"time\"]]\n",
    "    return df.drop_duplicates(ignore_index=True)"
   ],
   "metadata": {
    "collapsed": false
   },
   "id": "d3e96c4e0101421e",
   "execution_count": 84
  },
  {
   "cell_type": "code",
   "outputs": [
    {
     "ename": "KeyError",
     "evalue": "'response'",
     "output_type": "error",
     "traceback": [
      "\u001B[1;31m---------------------------------------------------------------------------\u001B[0m",
      "\u001B[1;31mKeyError\u001B[0m                                  Traceback (most recent call last)",
      "Input \u001B[1;32mIn [85]\u001B[0m, in \u001B[0;36m<cell line: 1>\u001B[1;34m()\u001B[0m\n\u001B[1;32m----> 1\u001B[0m Flights\u001B[38;5;241m=\u001B[39m \u001B[43mget_flight_duration\u001B[49m\u001B[43m(\u001B[49m\u001B[43mCODES\u001B[49m\u001B[43m)\u001B[49m\n\u001B[0;32m      2\u001B[0m Flights\u001B[38;5;241m.\u001B[39mhead()\n",
      "Input \u001B[1;32mIn [84]\u001B[0m, in \u001B[0;36mget_flight_duration\u001B[1;34m(codes)\u001B[0m\n\u001B[0;32m      6\u001B[0m queryX \u001B[38;5;241m=\u001B[39m {\n\u001B[0;32m      7\u001B[0m     \u001B[38;5;124m\"\u001B[39m\u001B[38;5;124mapi_key\u001B[39m\u001B[38;5;124m\"\u001B[39m : \u001B[38;5;124m\"\u001B[39m\u001B[38;5;124m8ffb5e97-7a50-4773-b2d9-8638ec08bc75\u001B[39m\u001B[38;5;124m\"\u001B[39m,\n\u001B[0;32m      8\u001B[0m     \u001B[38;5;124m\"\u001B[39m\u001B[38;5;124mdep_iata\u001B[39m\u001B[38;5;124m\"\u001B[39m :  \u001B[38;5;124mf\u001B[39m\u001B[38;5;124m\"\u001B[39m\u001B[38;5;132;01m{\u001B[39;00mcode\u001B[38;5;132;01m}\u001B[39;00m\u001B[38;5;124m\"\u001B[39m\n\u001B[0;32m      9\u001B[0m }\n\u001B[0;32m     11\u001B[0m req_get \u001B[38;5;241m=\u001B[39m requests\u001B[38;5;241m.\u001B[39mget(\u001B[38;5;124m\"\u001B[39m\u001B[38;5;124mhttps://airlabs.co/api/v9/schedules?\u001B[39m\u001B[38;5;124m\"\u001B[39m,params\u001B[38;5;241m=\u001B[39m queryX)        \n\u001B[1;32m---> 12\u001B[0m DF \u001B[38;5;241m=\u001B[39m \u001B[43mparse_response\u001B[49m\u001B[43m(\u001B[49m\u001B[43mreq_get\u001B[49m\u001B[43m)\u001B[49m\n\u001B[0;32m     13\u001B[0m \u001B[38;5;28;01mif\u001B[39;00m \u001B[38;5;28mlen\u001B[39m(DF) \u001B[38;5;241m>\u001B[39m \u001B[38;5;241m0\u001B[39m:\n\u001B[0;32m     14\u001B[0m     DF \u001B[38;5;241m=\u001B[39m filter_clean_codes(DF, codes)\n",
      "Input \u001B[1;32mIn [84]\u001B[0m, in \u001B[0;36mparse_response\u001B[1;34m(api_response)\u001B[0m\n\u001B[0;32m     27\u001B[0m \u001B[38;5;250m\u001B[39m\u001B[38;5;124;03m\"\"\"\u001B[39;00m\n\u001B[0;32m     28\u001B[0m \u001B[38;5;124;03mKeyword arguments:\u001B[39;00m\n\u001B[0;32m     29\u001B[0m \u001B[38;5;124;03mapi_response -- GET response\u001B[39;00m\n\u001B[0;32m     30\u001B[0m \u001B[38;5;124;03mReturn: pd.DataFrame of flight routes\u001B[39;00m\n\u001B[0;32m     31\u001B[0m \u001B[38;5;124;03m\"\"\"\u001B[39;00m\n\u001B[0;32m     33\u001B[0m j_resp \u001B[38;5;241m=\u001B[39m api_response\u001B[38;5;241m.\u001B[39mjson()\n\u001B[1;32m---> 34\u001B[0m flight_list \u001B[38;5;241m=\u001B[39m \u001B[43mj_resp\u001B[49m\u001B[43m[\u001B[49m\u001B[38;5;124;43m'\u001B[39;49m\u001B[38;5;124;43mresponse\u001B[39;49m\u001B[38;5;124;43m'\u001B[39;49m\u001B[43m]\u001B[49m\n\u001B[0;32m     36\u001B[0m flights \u001B[38;5;241m=\u001B[39m []\n\u001B[0;32m     37\u001B[0m \u001B[38;5;28;01mfor\u001B[39;00m fl \u001B[38;5;129;01min\u001B[39;00m flight_list:\n",
      "\u001B[1;31mKeyError\u001B[0m: 'response'"
     ]
    }
   ],
   "source": [
    "Flights= get_flight_duration(CODES)\n",
    "Flights.head()"
   ],
   "metadata": {
    "collapsed": false
   },
   "id": "d05ceaf39169b072",
   "execution_count": 85
  },
  {
   "cell_type": "markdown",
   "source": [
    "### Obtaining flight times"
   ],
   "metadata": {
    "collapsed": false
   },
   "id": "b263b5681bd832ab"
  },
  {
   "cell_type": "code",
   "outputs": [],
   "source": [
    "Flights.to_csv(\"./datasets/Flights1.csv\") # saving it so that we don't have to re-run API cells"
   ],
   "metadata": {
    "collapsed": false
   },
   "id": "49b092e43a45a6b2",
   "execution_count": 88
  },
  {
   "cell_type": "markdown",
   "source": [
    "we add a route column to the dataframe so that each route has a unique and meaningful identifier"
   ],
   "metadata": {
    "collapsed": false
   },
   "id": "3d288607edbf55b3"
  },
  {
   "cell_type": "code",
   "outputs": [
    {
     "data": {
      "text/html": [
       "<div>\n",
       "<style scoped>\n",
       "    .dataframe tbody tr th:only-of-type {\n",
       "        vertical-align: middle;\n",
       "    }\n",
       "\n",
       "    .dataframe tbody tr th {\n",
       "        vertical-align: top;\n",
       "    }\n",
       "\n",
       "    .dataframe thead th {\n",
       "        text-align: right;\n",
       "    }\n",
       "</style>\n",
       "<table border=\"1\" class=\"dataframe\">\n",
       "  <thead>\n",
       "    <tr style=\"text-align: right;\">\n",
       "      <th></th>\n",
       "      <th>dep</th>\n",
       "      <th>arr</th>\n",
       "      <th>time</th>\n",
       "      <th>route</th>\n",
       "    </tr>\n",
       "  </thead>\n",
       "  <tbody>\n",
       "    <tr>\n",
       "      <th>0</th>\n",
       "      <td>PRN</td>\n",
       "      <td>STR</td>\n",
       "      <td>125</td>\n",
       "      <td>{'PRN', 'STR'}</td>\n",
       "    </tr>\n",
       "    <tr>\n",
       "      <th>1</th>\n",
       "      <td>PRN</td>\n",
       "      <td>DUS</td>\n",
       "      <td>160</td>\n",
       "      <td>{'DUS', 'PRN'}</td>\n",
       "    </tr>\n",
       "    <tr>\n",
       "      <th>2</th>\n",
       "      <td>PRN</td>\n",
       "      <td>DUS</td>\n",
       "      <td>165</td>\n",
       "      <td>{'DUS', 'PRN'}</td>\n",
       "    </tr>\n",
       "    <tr>\n",
       "      <th>3</th>\n",
       "      <td>PRN</td>\n",
       "      <td>MUC</td>\n",
       "      <td>120</td>\n",
       "      <td>{'MUC', 'PRN'}</td>\n",
       "    </tr>\n",
       "    <tr>\n",
       "      <th>4</th>\n",
       "      <td>PRN</td>\n",
       "      <td>HAM</td>\n",
       "      <td>165</td>\n",
       "      <td>{'PRN', 'HAM'}</td>\n",
       "    </tr>\n",
       "    <tr>\n",
       "      <th>...</th>\n",
       "      <td>...</td>\n",
       "      <td>...</td>\n",
       "      <td>...</td>\n",
       "      <td>...</td>\n",
       "    </tr>\n",
       "    <tr>\n",
       "      <th>2271</th>\n",
       "      <td>KUF</td>\n",
       "      <td>LED</td>\n",
       "      <td>145</td>\n",
       "      <td>{'KUF', 'LED'}</td>\n",
       "    </tr>\n",
       "    <tr>\n",
       "      <th>2272</th>\n",
       "      <td>KUF</td>\n",
       "      <td>VKO</td>\n",
       "      <td>120</td>\n",
       "      <td>{'VKO', 'KUF'}</td>\n",
       "    </tr>\n",
       "    <tr>\n",
       "      <th>2273</th>\n",
       "      <td>KUF</td>\n",
       "      <td>LED</td>\n",
       "      <td>150</td>\n",
       "      <td>{'KUF', 'LED'}</td>\n",
       "    </tr>\n",
       "    <tr>\n",
       "      <th>2274</th>\n",
       "      <td>KUF</td>\n",
       "      <td>SVO</td>\n",
       "      <td>115</td>\n",
       "      <td>{'SVO', 'KUF'}</td>\n",
       "    </tr>\n",
       "    <tr>\n",
       "      <th>2275</th>\n",
       "      <td>KUF</td>\n",
       "      <td>SVO</td>\n",
       "      <td>110</td>\n",
       "      <td>{'SVO', 'KUF'}</td>\n",
       "    </tr>\n",
       "  </tbody>\n",
       "</table>\n",
       "<p>2276 rows × 4 columns</p>\n",
       "</div>"
      ],
      "text/plain": [
       "      dep  arr  time           route\n",
       "0     PRN  STR   125  {'PRN', 'STR'}\n",
       "1     PRN  DUS   160  {'DUS', 'PRN'}\n",
       "2     PRN  DUS   165  {'DUS', 'PRN'}\n",
       "3     PRN  MUC   120  {'MUC', 'PRN'}\n",
       "4     PRN  HAM   165  {'PRN', 'HAM'}\n",
       "...   ...  ...   ...             ...\n",
       "2271  KUF  LED   145  {'KUF', 'LED'}\n",
       "2272  KUF  VKO   120  {'VKO', 'KUF'}\n",
       "2273  KUF  LED   150  {'KUF', 'LED'}\n",
       "2274  KUF  SVO   115  {'SVO', 'KUF'}\n",
       "2275  KUF  SVO   110  {'SVO', 'KUF'}\n",
       "\n",
       "[2276 rows x 4 columns]"
      ]
     },
     "execution_count": 96,
     "metadata": {},
     "output_type": "execute_result"
    }
   ],
   "source": [
    "Flights[\"route\"] = Flights.apply(lambda row: str( set([row[\"dep\"], row[\"arr\"]]) ), axis=1)\n",
    "Flights"
   ],
   "metadata": {
    "collapsed": false
   },
   "id": "de623ad708d6f4f6",
   "execution_count": 96
  },
  {
   "cell_type": "markdown",
   "source": [
    "### Average of return flights\n",
    "Most flights have a time specified for both directions, but we only interested in a unified time for the connection between the two cities, so we take the average of the times in both directions, which often differ by 5 or 10 minutes"
   ],
   "metadata": {
    "collapsed": false
   },
   "id": "e3e8f22f8d29d705"
  },
  {
   "cell_type": "code",
   "outputs": [
    {
     "data": {
      "text/html": [
       "<div>\n",
       "<style scoped>\n",
       "    .dataframe tbody tr th:only-of-type {\n",
       "        vertical-align: middle;\n",
       "    }\n",
       "\n",
       "    .dataframe tbody tr th {\n",
       "        vertical-align: top;\n",
       "    }\n",
       "\n",
       "    .dataframe thead th {\n",
       "        text-align: right;\n",
       "    }\n",
       "</style>\n",
       "<table border=\"1\" class=\"dataframe\">\n",
       "  <thead>\n",
       "    <tr style=\"text-align: right;\">\n",
       "      <th></th>\n",
       "      <th>route</th>\n",
       "      <th>time</th>\n",
       "    </tr>\n",
       "  </thead>\n",
       "  <tbody>\n",
       "    <tr>\n",
       "      <th>0</th>\n",
       "      <td>{AAL, AMS}</td>\n",
       "      <td>85.0</td>\n",
       "    </tr>\n",
       "    <tr>\n",
       "      <th>1</th>\n",
       "      <td>{AAQ, LED}</td>\n",
       "      <td>170.0</td>\n",
       "    </tr>\n",
       "    <tr>\n",
       "      <th>2</th>\n",
       "      <td>{AMS, ABZ}</td>\n",
       "      <td>85.0</td>\n",
       "    </tr>\n",
       "    <tr>\n",
       "      <th>3</th>\n",
       "      <td>{ABZ, LGW}</td>\n",
       "      <td>95.0</td>\n",
       "    </tr>\n",
       "    <tr>\n",
       "      <th>4</th>\n",
       "      <td>{ACE, AGP}</td>\n",
       "      <td>130.0</td>\n",
       "    </tr>\n",
       "    <tr>\n",
       "      <th>...</th>\n",
       "      <td>...</td>\n",
       "      <td>...</td>\n",
       "    </tr>\n",
       "    <tr>\n",
       "      <th>1464</th>\n",
       "      <td>{ZRH, OTP}</td>\n",
       "      <td>150.0</td>\n",
       "    </tr>\n",
       "    <tr>\n",
       "      <th>1465</th>\n",
       "      <td>{ZRH, PRN}</td>\n",
       "      <td>127.5</td>\n",
       "    </tr>\n",
       "    <tr>\n",
       "      <th>1466</th>\n",
       "      <td>{ZRH, RVN}</td>\n",
       "      <td>205.0</td>\n",
       "    </tr>\n",
       "    <tr>\n",
       "      <th>1467</th>\n",
       "      <td>{ZRH, STR}</td>\n",
       "      <td>45.0</td>\n",
       "    </tr>\n",
       "    <tr>\n",
       "      <th>1468</th>\n",
       "      <td>{ZTH, ATH}</td>\n",
       "      <td>62.5</td>\n",
       "    </tr>\n",
       "  </tbody>\n",
       "</table>\n",
       "<p>1469 rows × 2 columns</p>\n",
       "</div>"
      ],
      "text/plain": [
       "           route   time\n",
       "0     {AAL, AMS}   85.0\n",
       "1     {AAQ, LED}  170.0\n",
       "2     {AMS, ABZ}   85.0\n",
       "3     {ABZ, LGW}   95.0\n",
       "4     {ACE, AGP}  130.0\n",
       "...          ...    ...\n",
       "1464  {ZRH, OTP}  150.0\n",
       "1465  {ZRH, PRN}  127.5\n",
       "1466  {ZRH, RVN}  205.0\n",
       "1467  {ZRH, STR}   45.0\n",
       "1468  {ZTH, ATH}   62.5\n",
       "\n",
       "[1469 rows x 2 columns]"
      ]
     },
     "execution_count": 107,
     "metadata": {},
     "output_type": "execute_result"
    }
   ],
   "source": [
    "FlightsShort = Flights[[\"route\", \"time\"]].groupby([\"route\"]).mean()\n",
    "FlightsShort.reset_index(inplace=True)\n",
    "FlightsShort[\"route\"] = FlightsShort[\"route\"].apply(lambda x: eval(x))\n",
    "FlightsShort[\"dep\"] "
   ],
   "metadata": {
    "collapsed": false
   },
   "id": "a9e26a4e1a21e307",
   "execution_count": 107
  },
  {
   "cell_type": "code",
   "outputs": [],
   "source": [
    "FlightsShort.to_csv(\"./datasets/europe_flights.csv\") # saving it so that we don't have to re-run API cells"
   ],
   "metadata": {
    "collapsed": false
   },
   "id": "8c18be907c043cf6",
   "execution_count": 109
  },
  {
   "cell_type": "code",
   "outputs": [
    {
     "data": {
      "text/plain": [
       "[{'airline_iata': 'AH',\n",
       "  'airline_icao': 'DAH',\n",
       "  'flight_iata': 'AH1149',\n",
       "  'flight_icao': 'DAH1149',\n",
       "  'flight_number': '1149',\n",
       "  'dep_iata': 'CDG',\n",
       "  'dep_icao': 'LFPG',\n",
       "  'dep_terminal': '2D',\n",
       "  'dep_gate': 'B31',\n",
       "  'dep_time': '2024-01-20 14:00',\n",
       "  'dep_time_utc': '2024-01-20 13:00',\n",
       "  'dep_estimated': '2024-01-20 14:34',\n",
       "  'dep_estimated_utc': '2024-01-20 13:34',\n",
       "  'dep_actual': '2024-01-20 14:34',\n",
       "  'dep_actual_utc': '2024-01-20 13:34',\n",
       "  'arr_iata': 'CFK',\n",
       "  'arr_icao': 'DAOI',\n",
       "  'arr_terminal': None,\n",
       "  'arr_gate': None,\n",
       "  'arr_baggage': None,\n",
       "  'arr_time': '2024-01-20 16:35',\n",
       "  'arr_time_utc': '2024-01-20 15:35',\n",
       "  'arr_estimated': '2024-01-20 16:43',\n",
       "  'arr_estimated_utc': '2024-01-20 15:43',\n",
       "  'cs_airline_iata': None,\n",
       "  'cs_flight_number': None,\n",
       "  'cs_flight_iata': None,\n",
       "  'status': 'active',\n",
       "  'duration': 155,\n",
       "  'delayed': 8,\n",
       "  'dep_delayed': 34,\n",
       "  'arr_delayed': 8,\n",
       "  'aircraft_icao': 'B738',\n",
       "  'arr_time_ts': 1705764900,\n",
       "  'dep_time_ts': 1705755600,\n",
       "  'arr_estimated_ts': 1705765380,\n",
       "  'dep_estimated_ts': 1705757640,\n",
       "  'dep_actual_ts': 1705757640},\n",
       " {'airline_iata': 'AH',\n",
       "  'airline_icao': 'DAH',\n",
       "  'flight_iata': 'AH1001',\n",
       "  'flight_icao': 'DAH1001',\n",
       "  'flight_number': '1001',\n",
       "  'dep_iata': 'CDG',\n",
       "  'dep_icao': 'LFPG',\n",
       "  'dep_terminal': '2D',\n",
       "  'dep_gate': 'B29',\n",
       "  'dep_time': '2024-01-20 14:30',\n",
       "  'dep_time_utc': '2024-01-20 13:30',\n",
       "  'dep_estimated': '2024-01-20 14:35',\n",
       "  'dep_estimated_utc': '2024-01-20 13:35',\n",
       "  'dep_actual': '2024-01-20 14:37',\n",
       "  'dep_actual_utc': '2024-01-20 13:37',\n",
       "  'arr_iata': 'ALG',\n",
       "  'arr_icao': 'DAAG',\n",
       "  'arr_terminal': 'I',\n",
       "  'arr_gate': None,\n",
       "  'arr_baggage': None,\n",
       "  'arr_time': '2024-01-20 16:45',\n",
       "  'arr_time_utc': '2024-01-20 15:45',\n",
       "  'cs_airline_iata': None,\n",
       "  'cs_flight_number': None,\n",
       "  'cs_flight_iata': None,\n",
       "  'status': 'active',\n",
       "  'duration': 135,\n",
       "  'delayed': None,\n",
       "  'dep_delayed': 7,\n",
       "  'arr_delayed': None,\n",
       "  'aircraft_icao': 'B738',\n",
       "  'arr_time_ts': 1705765500,\n",
       "  'dep_time_ts': 1705757400,\n",
       "  'dep_estimated_ts': 1705757700,\n",
       "  'dep_actual_ts': 1705757820},\n",
       " {'airline_iata': 'A3',\n",
       "  'airline_icao': 'AEE',\n",
       "  'flight_iata': 'A31441',\n",
       "  'flight_icao': 'AEE1441',\n",
       "  'flight_number': '1441',\n",
       "  'dep_iata': 'CDG',\n",
       "  'dep_icao': 'LFPG',\n",
       "  'dep_terminal': '1',\n",
       "  'dep_gate': '64',\n",
       "  'dep_time': '2024-01-20 14:30',\n",
       "  'dep_time_utc': '2024-01-20 13:30',\n",
       "  'dep_estimated': '2024-01-20 14:37',\n",
       "  'dep_estimated_utc': '2024-01-20 13:37',\n",
       "  'dep_actual': '2024-01-20 14:37',\n",
       "  'dep_actual_utc': '2024-01-20 13:37',\n",
       "  'arr_iata': 'FRA',\n",
       "  'arr_icao': 'EDDF',\n",
       "  'arr_terminal': '1',\n",
       "  'arr_gate': 'A58',\n",
       "  'arr_baggage': '3',\n",
       "  'arr_time': '2024-01-20 15:50',\n",
       "  'arr_time_utc': '2024-01-20 14:50',\n",
       "  'arr_estimated': '2024-01-20 15:47',\n",
       "  'arr_estimated_utc': '2024-01-20 14:47',\n",
       "  'arr_actual': '2024-01-20 15:47',\n",
       "  'arr_actual_utc': '2024-01-20 14:47',\n",
       "  'cs_airline_iata': 'LH',\n",
       "  'cs_flight_number': '1035',\n",
       "  'cs_flight_iata': 'LH1035',\n",
       "  'status': 'landed',\n",
       "  'duration': 80,\n",
       "  'delayed': None,\n",
       "  'dep_delayed': 7,\n",
       "  'arr_delayed': None,\n",
       "  'aircraft_icao': None,\n",
       "  'arr_time_ts': 1705762200,\n",
       "  'dep_time_ts': 1705757400,\n",
       "  'arr_estimated_ts': 1705762020,\n",
       "  'dep_estimated_ts': 1705757820,\n",
       "  'arr_actual_ts': 1705762020,\n",
       "  'dep_actual_ts': 1705757820},\n",
       " {'airline_iata': 'AF',\n",
       "  'airline_icao': 'AFR',\n",
       "  'flight_iata': 'AF688',\n",
       "  'flight_icao': 'AFR688',\n",
       "  'flight_number': '688',\n",
       "  'dep_iata': 'CDG',\n",
       "  'dep_icao': 'LFPG',\n",
       "  'dep_terminal': '2E',\n",
       "  'dep_gate': 'M49',\n",
       "  'dep_time': '2024-01-20 14:15',\n",
       "  'dep_time_utc': '2024-01-20 13:15',\n",
       "  'dep_estimated': '2024-01-20 14:37',\n",
       "  'dep_estimated_utc': '2024-01-20 13:37',\n",
       "  'dep_actual': '2024-01-20 14:37',\n",
       "  'dep_actual_utc': '2024-01-20 13:37',\n",
       "  'arr_iata': 'ATL',\n",
       "  'arr_icao': 'KATL',\n",
       "  'arr_terminal': 'I',\n",
       "  'arr_gate': None,\n",
       "  'arr_baggage': None,\n",
       "  'arr_time': '2024-01-20 18:05',\n",
       "  'arr_time_utc': '2024-01-20 23:05',\n",
       "  'arr_estimated': '2024-01-20 18:11',\n",
       "  'arr_estimated_utc': '2024-01-20 23:11',\n",
       "  'cs_airline_iata': None,\n",
       "  'cs_flight_number': None,\n",
       "  'cs_flight_iata': None,\n",
       "  'status': 'active',\n",
       "  'duration': 590,\n",
       "  'delayed': 22,\n",
       "  'dep_delayed': 22,\n",
       "  'arr_delayed': 6,\n",
       "  'aircraft_icao': 'B772',\n",
       "  'arr_time_ts': 1705791900,\n",
       "  'dep_time_ts': 1705756500,\n",
       "  'arr_estimated_ts': 1705792260,\n",
       "  'dep_estimated_ts': 1705757820,\n",
       "  'dep_actual_ts': 1705757820},\n",
       " {'airline_iata': 'DL',\n",
       "  'airline_icao': 'DAL',\n",
       "  'flight_iata': 'DL8606',\n",
       "  'flight_icao': 'DAL8606',\n",
       "  'flight_number': '8606',\n",
       "  'dep_iata': 'CDG',\n",
       "  'dep_icao': 'LFPG',\n",
       "  'dep_terminal': '2E',\n",
       "  'dep_gate': 'M49',\n",
       "  'dep_time': '2024-01-20 14:15',\n",
       "  'dep_time_utc': '2024-01-20 13:15',\n",
       "  'dep_estimated': '2024-01-20 14:37',\n",
       "  'dep_estimated_utc': '2024-01-20 13:37',\n",
       "  'dep_actual': '2024-01-20 14:37',\n",
       "  'dep_actual_utc': '2024-01-20 13:37',\n",
       "  'arr_iata': 'ATL',\n",
       "  'arr_icao': 'KATL',\n",
       "  'arr_terminal': 'I',\n",
       "  'arr_gate': None,\n",
       "  'arr_baggage': None,\n",
       "  'arr_time': '2024-01-20 18:05',\n",
       "  'arr_time_utc': '2024-01-20 23:05',\n",
       "  'arr_estimated': '2024-01-20 18:11',\n",
       "  'arr_estimated_utc': '2024-01-20 23:11',\n",
       "  'cs_airline_iata': 'AF',\n",
       "  'cs_flight_number': '688',\n",
       "  'cs_flight_iata': 'AF688',\n",
       "  'status': 'active',\n",
       "  'duration': 590,\n",
       "  'delayed': 22,\n",
       "  'dep_delayed': 22,\n",
       "  'arr_delayed': 6,\n",
       "  'aircraft_icao': None,\n",
       "  'arr_time_ts': 1705791900,\n",
       "  'dep_time_ts': 1705756500,\n",
       "  'arr_estimated_ts': 1705792260,\n",
       "  'dep_estimated_ts': 1705757820,\n",
       "  'dep_actual_ts': 1705757820},\n",
       " {'airline_iata': 'KL',\n",
       "  'airline_icao': 'KLM',\n",
       "  'flight_iata': 'KL2299',\n",
       "  'flight_icao': 'KLM2299',\n",
       "  'flight_number': '2299',\n",
       "  'dep_iata': 'CDG',\n",
       "  'dep_icao': 'LFPG',\n",
       "  'dep_terminal': '2E',\n",
       "  'dep_gate': 'M49',\n",
       "  'dep_time': '2024-01-20 14:15',\n",
       "  'dep_time_utc': '2024-01-20 13:15',\n",
       "  'dep_estimated': '2024-01-20 14:37',\n",
       "  'dep_estimated_utc': '2024-01-20 13:37',\n",
       "  'dep_actual': '2024-01-20 14:37',\n",
       "  'dep_actual_utc': '2024-01-20 13:37',\n",
       "  'arr_iata': 'ATL',\n",
       "  'arr_icao': 'KATL',\n",
       "  'arr_terminal': 'I',\n",
       "  'arr_gate': None,\n",
       "  'arr_baggage': None,\n",
       "  'arr_time': '2024-01-20 18:05',\n",
       "  'arr_time_utc': '2024-01-20 23:05',\n",
       "  'arr_estimated': '2024-01-20 18:11',\n",
       "  'arr_estimated_utc': '2024-01-20 23:11',\n",
       "  'cs_airline_iata': 'AF',\n",
       "  'cs_flight_number': '688',\n",
       "  'cs_flight_iata': 'AF688',\n",
       "  'status': 'active',\n",
       "  'duration': 590,\n",
       "  'delayed': 22,\n",
       "  'dep_delayed': 22,\n",
       "  'arr_delayed': 6,\n",
       "  'aircraft_icao': None,\n",
       "  'arr_time_ts': 1705791900,\n",
       "  'dep_time_ts': 1705756500,\n",
       "  'arr_estimated_ts': 1705792260,\n",
       "  'dep_estimated_ts': 1705757820,\n",
       "  'dep_actual_ts': 1705757820},\n",
       " {'airline_iata': 'LH',\n",
       "  'airline_icao': 'DLH',\n",
       "  'flight_iata': 'LH1035',\n",
       "  'flight_icao': 'DLH1035',\n",
       "  'flight_number': '1035',\n",
       "  'dep_iata': 'CDG',\n",
       "  'dep_icao': 'LFPG',\n",
       "  'dep_terminal': '1',\n",
       "  'dep_gate': '64',\n",
       "  'dep_time': '2024-01-20 14:30',\n",
       "  'dep_time_utc': '2024-01-20 13:30',\n",
       "  'dep_estimated': '2024-01-20 14:37',\n",
       "  'dep_estimated_utc': '2024-01-20 13:37',\n",
       "  'dep_actual': '2024-01-20 14:37',\n",
       "  'dep_actual_utc': '2024-01-20 13:37',\n",
       "  'arr_iata': 'FRA',\n",
       "  'arr_icao': 'EDDF',\n",
       "  'arr_terminal': '1',\n",
       "  'arr_gate': 'A58',\n",
       "  'arr_baggage': '3',\n",
       "  'arr_time': '2024-01-20 15:50',\n",
       "  'arr_time_utc': '2024-01-20 14:50',\n",
       "  'arr_estimated': '2024-01-20 15:47',\n",
       "  'arr_estimated_utc': '2024-01-20 14:47',\n",
       "  'arr_actual': '2024-01-20 15:47',\n",
       "  'arr_actual_utc': '2024-01-20 14:47',\n",
       "  'cs_airline_iata': None,\n",
       "  'cs_flight_number': None,\n",
       "  'cs_flight_iata': None,\n",
       "  'status': 'landed',\n",
       "  'duration': 80,\n",
       "  'delayed': None,\n",
       "  'dep_delayed': 7,\n",
       "  'arr_delayed': None,\n",
       "  'aircraft_icao': None,\n",
       "  'arr_time_ts': 1705762200,\n",
       "  'dep_time_ts': 1705757400,\n",
       "  'arr_estimated_ts': 1705762020,\n",
       "  'dep_estimated_ts': 1705757820,\n",
       "  'arr_actual_ts': 1705762020,\n",
       "  'dep_actual_ts': 1705757820},\n",
       " {'airline_iata': 'UA',\n",
       "  'airline_icao': 'UAL',\n",
       "  'flight_iata': 'UA9323',\n",
       "  'flight_icao': 'UAL9323',\n",
       "  'flight_number': '9323',\n",
       "  'dep_iata': 'CDG',\n",
       "  'dep_icao': 'LFPG',\n",
       "  'dep_terminal': '1',\n",
       "  'dep_gate': '64',\n",
       "  'dep_time': '2024-01-20 14:30',\n",
       "  'dep_time_utc': '2024-01-20 13:30',\n",
       "  'dep_estimated': '2024-01-20 14:37',\n",
       "  'dep_estimated_utc': '2024-01-20 13:37',\n",
       "  'dep_actual': '2024-01-20 14:37',\n",
       "  'dep_actual_utc': '2024-01-20 13:37',\n",
       "  'arr_iata': 'FRA',\n",
       "  'arr_icao': 'EDDF',\n",
       "  'arr_terminal': '1',\n",
       "  'arr_gate': 'A58',\n",
       "  'arr_baggage': '3',\n",
       "  'arr_time': '2024-01-20 15:50',\n",
       "  'arr_time_utc': '2024-01-20 14:50',\n",
       "  'arr_estimated': '2024-01-20 15:47',\n",
       "  'arr_estimated_utc': '2024-01-20 14:47',\n",
       "  'arr_actual': '2024-01-20 15:47',\n",
       "  'arr_actual_utc': '2024-01-20 14:47',\n",
       "  'cs_airline_iata': 'LH',\n",
       "  'cs_flight_number': '1035',\n",
       "  'cs_flight_iata': 'LH1035',\n",
       "  'status': 'landed',\n",
       "  'duration': 80,\n",
       "  'delayed': None,\n",
       "  'dep_delayed': 7,\n",
       "  'arr_delayed': None,\n",
       "  'aircraft_icao': None,\n",
       "  'arr_time_ts': 1705762200,\n",
       "  'dep_time_ts': 1705757400,\n",
       "  'arr_estimated_ts': 1705762020,\n",
       "  'dep_estimated_ts': 1705757820,\n",
       "  'arr_actual_ts': 1705762020,\n",
       "  'dep_actual_ts': 1705757820},\n",
       " {'airline_iata': 'VS',\n",
       "  'airline_icao': 'VIR',\n",
       "  'flight_iata': 'VS6750',\n",
       "  'flight_icao': 'VIR6750',\n",
       "  'flight_number': '6750',\n",
       "  'dep_iata': 'CDG',\n",
       "  'dep_icao': 'LFPG',\n",
       "  'dep_terminal': '2E',\n",
       "  'dep_gate': 'M49',\n",
       "  'dep_time': '2024-01-20 14:15',\n",
       "  'dep_time_utc': '2024-01-20 13:15',\n",
       "  'dep_estimated': '2024-01-20 14:37',\n",
       "  'dep_estimated_utc': '2024-01-20 13:37',\n",
       "  'dep_actual': '2024-01-20 14:37',\n",
       "  'dep_actual_utc': '2024-01-20 13:37',\n",
       "  'arr_iata': 'ATL',\n",
       "  'arr_icao': 'KATL',\n",
       "  'arr_terminal': 'I',\n",
       "  'arr_gate': None,\n",
       "  'arr_baggage': None,\n",
       "  'arr_time': '2024-01-20 18:05',\n",
       "  'arr_time_utc': '2024-01-20 23:05',\n",
       "  'arr_estimated': '2024-01-20 18:11',\n",
       "  'arr_estimated_utc': '2024-01-20 23:11',\n",
       "  'cs_airline_iata': 'AF',\n",
       "  'cs_flight_number': '688',\n",
       "  'cs_flight_iata': 'AF688',\n",
       "  'status': 'active',\n",
       "  'duration': 590,\n",
       "  'delayed': 22,\n",
       "  'dep_delayed': 22,\n",
       "  'arr_delayed': 6,\n",
       "  'aircraft_icao': None,\n",
       "  'arr_time_ts': 1705791900,\n",
       "  'dep_time_ts': 1705756500,\n",
       "  'arr_estimated_ts': 1705792260,\n",
       "  'dep_estimated_ts': 1705757820,\n",
       "  'dep_actual_ts': 1705757820},\n",
       " {'airline_iata': 'AF',\n",
       "  'airline_icao': 'AFR',\n",
       "  'flight_iata': 'AF54',\n",
       "  'flight_icao': 'AFR54',\n",
       "  'flight_number': '54',\n",
       "  'dep_iata': 'CDG',\n",
       "  'dep_icao': 'LFPG',\n",
       "  'dep_terminal': '2E',\n",
       "  'dep_gate': 'L30',\n",
       "  'dep_time': '2024-01-20 14:00',\n",
       "  'dep_time_utc': '2024-01-20 13:00',\n",
       "  'dep_estimated': '2024-01-20 14:38',\n",
       "  'dep_estimated_utc': '2024-01-20 13:38',\n",
       "  'dep_actual': '2024-01-20 14:38',\n",
       "  'dep_actual_utc': '2024-01-20 13:38',\n",
       "  'arr_iata': 'IAD',\n",
       "  'arr_icao': 'KIAD',\n",
       "  'arr_terminal': None,\n",
       "  'arr_gate': None,\n",
       "  'arr_baggage': '20',\n",
       "  'arr_time': '2024-01-20 16:40',\n",
       "  'arr_time_utc': '2024-01-20 21:40',\n",
       "  'arr_estimated': '2024-01-20 17:16',\n",
       "  'arr_estimated_utc': '2024-01-20 22:16',\n",
       "  'cs_airline_iata': None,\n",
       "  'cs_flight_number': None,\n",
       "  'cs_flight_iata': None,\n",
       "  'status': 'active',\n",
       "  'duration': 520,\n",
       "  'delayed': 36,\n",
       "  'dep_delayed': 38,\n",
       "  'arr_delayed': 36,\n",
       "  'aircraft_icao': 'B77W',\n",
       "  'arr_time_ts': 1705786800,\n",
       "  'dep_time_ts': 1705755600,\n",
       "  'arr_estimated_ts': 1705788960,\n",
       "  'dep_estimated_ts': 1705757880,\n",
       "  'dep_actual_ts': 1705757880},\n",
       " {'airline_iata': 'AF',\n",
       "  'airline_icao': 'AFR',\n",
       "  'flight_iata': 'AF8234',\n",
       "  'flight_icao': 'AFR8234',\n",
       "  'flight_number': '8234',\n",
       "  'dep_iata': 'CDG',\n",
       "  'dep_icao': 'LFPG',\n",
       "  'dep_terminal': '2F',\n",
       "  'dep_gate': 'F49',\n",
       "  'dep_time': '2024-01-20 14:30',\n",
       "  'dep_time_utc': '2024-01-20 13:30',\n",
       "  'dep_estimated': '2024-01-20 14:38',\n",
       "  'dep_estimated_utc': '2024-01-20 13:38',\n",
       "  'dep_actual': '2024-01-20 14:38',\n",
       "  'dep_actual_utc': '2024-01-20 13:38',\n",
       "  'arr_iata': 'AMS',\n",
       "  'arr_icao': 'EHAM',\n",
       "  'arr_terminal': '2',\n",
       "  'arr_gate': 'C9',\n",
       "  'arr_baggage': '016',\n",
       "  'arr_time': '2024-01-20 15:50',\n",
       "  'arr_time_utc': '2024-01-20 14:50',\n",
       "  'cs_airline_iata': 'KL',\n",
       "  'cs_flight_number': '1234',\n",
       "  'cs_flight_iata': 'KL1234',\n",
       "  'status': 'landed',\n",
       "  'duration': 80,\n",
       "  'delayed': None,\n",
       "  'dep_delayed': 8,\n",
       "  'arr_delayed': None,\n",
       "  'aircraft_icao': None,\n",
       "  'arr_time_ts': 1705762200,\n",
       "  'dep_time_ts': 1705757400,\n",
       "  'dep_estimated_ts': 1705757880,\n",
       "  'dep_actual_ts': 1705757880},\n",
       " {'airline_iata': 'CI',\n",
       "  'airline_icao': 'CAL',\n",
       "  'flight_iata': 'CI9482',\n",
       "  'flight_icao': 'CAL9482',\n",
       "  'flight_number': '9482',\n",
       "  'dep_iata': 'CDG',\n",
       "  'dep_icao': 'LFPG',\n",
       "  'dep_terminal': '2F',\n",
       "  'dep_gate': 'F49',\n",
       "  'dep_time': '2024-01-20 14:30',\n",
       "  'dep_time_utc': '2024-01-20 13:30',\n",
       "  'dep_estimated': '2024-01-20 14:38',\n",
       "  'dep_estimated_utc': '2024-01-20 13:38',\n",
       "  'dep_actual': '2024-01-20 14:38',\n",
       "  'dep_actual_utc': '2024-01-20 13:38',\n",
       "  'arr_iata': 'AMS',\n",
       "  'arr_icao': 'EHAM',\n",
       "  'arr_terminal': '2',\n",
       "  'arr_gate': 'C9',\n",
       "  'arr_baggage': '016',\n",
       "  'arr_time': '2024-01-20 15:50',\n",
       "  'arr_time_utc': '2024-01-20 14:50',\n",
       "  'cs_airline_iata': 'KL',\n",
       "  'cs_flight_number': '1234',\n",
       "  'cs_flight_iata': 'KL1234',\n",
       "  'status': 'landed',\n",
       "  'duration': 80,\n",
       "  'delayed': None,\n",
       "  'dep_delayed': 8,\n",
       "  'arr_delayed': None,\n",
       "  'aircraft_icao': None,\n",
       "  'arr_time_ts': 1705762200,\n",
       "  'dep_time_ts': 1705757400,\n",
       "  'dep_estimated_ts': 1705757880,\n",
       "  'dep_actual_ts': 1705757880},\n",
       " {'airline_iata': 'DL',\n",
       "  'airline_icao': 'DAL',\n",
       "  'flight_iata': 'DL8496',\n",
       "  'flight_icao': 'DAL8496',\n",
       "  'flight_number': '8496',\n",
       "  'dep_iata': 'CDG',\n",
       "  'dep_icao': 'LFPG',\n",
       "  'dep_terminal': '2E',\n",
       "  'dep_gate': 'L30',\n",
       "  'dep_time': '2024-01-20 14:00',\n",
       "  'dep_time_utc': '2024-01-20 13:00',\n",
       "  'dep_estimated': '2024-01-20 14:38',\n",
       "  'dep_estimated_utc': '2024-01-20 13:38',\n",
       "  'dep_actual': '2024-01-20 14:38',\n",
       "  'dep_actual_utc': '2024-01-20 13:38',\n",
       "  'arr_iata': 'IAD',\n",
       "  'arr_icao': 'KIAD',\n",
       "  'arr_terminal': None,\n",
       "  'arr_gate': None,\n",
       "  'arr_baggage': '20',\n",
       "  'arr_time': '2024-01-20 16:40',\n",
       "  'arr_time_utc': '2024-01-20 21:40',\n",
       "  'arr_estimated': '2024-01-20 17:16',\n",
       "  'arr_estimated_utc': '2024-01-20 22:16',\n",
       "  'cs_airline_iata': 'AF',\n",
       "  'cs_flight_number': '54',\n",
       "  'cs_flight_iata': 'AF54',\n",
       "  'status': 'active',\n",
       "  'duration': 520,\n",
       "  'delayed': 36,\n",
       "  'dep_delayed': 38,\n",
       "  'arr_delayed': 36,\n",
       "  'aircraft_icao': None,\n",
       "  'arr_time_ts': 1705786800,\n",
       "  'dep_time_ts': 1705755600,\n",
       "  'arr_estimated_ts': 1705788960,\n",
       "  'dep_estimated_ts': 1705757880,\n",
       "  'dep_actual_ts': 1705757880},\n",
       " {'airline_iata': 'DL',\n",
       "  'airline_icao': 'DAL',\n",
       "  'flight_iata': 'DL9474',\n",
       "  'flight_icao': 'DAL9474',\n",
       "  'flight_number': '9474',\n",
       "  'dep_iata': 'CDG',\n",
       "  'dep_icao': 'LFPG',\n",
       "  'dep_terminal': '2F',\n",
       "  'dep_gate': 'F49',\n",
       "  'dep_time': '2024-01-20 14:30',\n",
       "  'dep_time_utc': '2024-01-20 13:30',\n",
       "  'dep_estimated': '2024-01-20 14:38',\n",
       "  'dep_estimated_utc': '2024-01-20 13:38',\n",
       "  'dep_actual': '2024-01-20 14:38',\n",
       "  'dep_actual_utc': '2024-01-20 13:38',\n",
       "  'arr_iata': 'AMS',\n",
       "  'arr_icao': 'EHAM',\n",
       "  'arr_terminal': '2',\n",
       "  'arr_gate': 'C9',\n",
       "  'arr_baggage': '016',\n",
       "  'arr_time': '2024-01-20 15:50',\n",
       "  'arr_time_utc': '2024-01-20 14:50',\n",
       "  'cs_airline_iata': 'KL',\n",
       "  'cs_flight_number': '1234',\n",
       "  'cs_flight_iata': 'KL1234',\n",
       "  'status': 'landed',\n",
       "  'duration': 80,\n",
       "  'delayed': None,\n",
       "  'dep_delayed': 8,\n",
       "  'arr_delayed': None,\n",
       "  'aircraft_icao': None,\n",
       "  'arr_time_ts': 1705762200,\n",
       "  'dep_time_ts': 1705757400,\n",
       "  'dep_estimated_ts': 1705757880,\n",
       "  'dep_actual_ts': 1705757880},\n",
       " {'airline_iata': 'GA',\n",
       "  'airline_icao': 'GIA',\n",
       "  'flight_iata': 'GA9539',\n",
       "  'flight_icao': 'GIA9539',\n",
       "  'flight_number': '9539',\n",
       "  'dep_iata': 'CDG',\n",
       "  'dep_icao': 'LFPG',\n",
       "  'dep_terminal': '2F',\n",
       "  'dep_gate': 'F49',\n",
       "  'dep_time': '2024-01-20 14:30',\n",
       "  'dep_time_utc': '2024-01-20 13:30',\n",
       "  'dep_estimated': '2024-01-20 14:38',\n",
       "  'dep_estimated_utc': '2024-01-20 13:38',\n",
       "  'dep_actual': '2024-01-20 14:38',\n",
       "  'dep_actual_utc': '2024-01-20 13:38',\n",
       "  'arr_iata': 'AMS',\n",
       "  'arr_icao': 'EHAM',\n",
       "  'arr_terminal': '2',\n",
       "  'arr_gate': 'C9',\n",
       "  'arr_baggage': '016',\n",
       "  'arr_time': '2024-01-20 15:50',\n",
       "  'arr_time_utc': '2024-01-20 14:50',\n",
       "  'cs_airline_iata': 'KL',\n",
       "  'cs_flight_number': '1234',\n",
       "  'cs_flight_iata': 'KL1234',\n",
       "  'status': 'landed',\n",
       "  'duration': 80,\n",
       "  'delayed': None,\n",
       "  'dep_delayed': 8,\n",
       "  'arr_delayed': None,\n",
       "  'aircraft_icao': None,\n",
       "  'arr_time_ts': 1705762200,\n",
       "  'dep_time_ts': 1705757400,\n",
       "  'dep_estimated_ts': 1705757880,\n",
       "  'dep_actual_ts': 1705757880},\n",
       " {'airline_iata': 'KL',\n",
       "  'airline_icao': 'KLM',\n",
       "  'flight_iata': 'KL1234',\n",
       "  'flight_icao': 'KLM1234',\n",
       "  'flight_number': '1234',\n",
       "  'dep_iata': 'CDG',\n",
       "  'dep_icao': 'LFPG',\n",
       "  'dep_terminal': '2F',\n",
       "  'dep_gate': 'F49',\n",
       "  'dep_time': '2024-01-20 14:30',\n",
       "  'dep_time_utc': '2024-01-20 13:30',\n",
       "  'dep_estimated': '2024-01-20 14:38',\n",
       "  'dep_estimated_utc': '2024-01-20 13:38',\n",
       "  'dep_actual': '2024-01-20 14:38',\n",
       "  'dep_actual_utc': '2024-01-20 13:38',\n",
       "  'arr_iata': 'AMS',\n",
       "  'arr_icao': 'EHAM',\n",
       "  'arr_terminal': '2',\n",
       "  'arr_gate': 'C9',\n",
       "  'arr_baggage': '016',\n",
       "  'arr_time': '2024-01-20 15:50',\n",
       "  'arr_time_utc': '2024-01-20 14:50',\n",
       "  'cs_airline_iata': None,\n",
       "  'cs_flight_number': None,\n",
       "  'cs_flight_iata': None,\n",
       "  'status': 'landed',\n",
       "  'duration': 80,\n",
       "  'delayed': None,\n",
       "  'dep_delayed': 8,\n",
       "  'arr_delayed': None,\n",
       "  'aircraft_icao': None,\n",
       "  'arr_time_ts': 1705762200,\n",
       "  'dep_time_ts': 1705757400,\n",
       "  'dep_estimated_ts': 1705757880,\n",
       "  'dep_actual_ts': 1705757880},\n",
       " {'airline_iata': 'KL',\n",
       "  'airline_icao': 'KLM',\n",
       "  'flight_iata': 'KL2243',\n",
       "  'flight_icao': 'KLM2243',\n",
       "  'flight_number': '2243',\n",
       "  'dep_iata': 'CDG',\n",
       "  'dep_icao': 'LFPG',\n",
       "  'dep_terminal': '2E',\n",
       "  'dep_gate': 'L30',\n",
       "  'dep_time': '2024-01-20 14:00',\n",
       "  'dep_time_utc': '2024-01-20 13:00',\n",
       "  'dep_estimated': '2024-01-20 14:38',\n",
       "  'dep_estimated_utc': '2024-01-20 13:38',\n",
       "  'dep_actual': '2024-01-20 14:38',\n",
       "  'dep_actual_utc': '2024-01-20 13:38',\n",
       "  'arr_iata': 'IAD',\n",
       "  'arr_icao': 'KIAD',\n",
       "  'arr_terminal': None,\n",
       "  'arr_gate': None,\n",
       "  'arr_baggage': '20',\n",
       "  'arr_time': '2024-01-20 16:40',\n",
       "  'arr_time_utc': '2024-01-20 21:40',\n",
       "  'arr_estimated': '2024-01-20 17:16',\n",
       "  'arr_estimated_utc': '2024-01-20 22:16',\n",
       "  'cs_airline_iata': 'AF',\n",
       "  'cs_flight_number': '54',\n",
       "  'cs_flight_iata': 'AF54',\n",
       "  'status': 'active',\n",
       "  'duration': 520,\n",
       "  'delayed': 36,\n",
       "  'dep_delayed': 38,\n",
       "  'arr_delayed': 36,\n",
       "  'aircraft_icao': None,\n",
       "  'arr_time_ts': 1705786800,\n",
       "  'dep_time_ts': 1705755600,\n",
       "  'arr_estimated_ts': 1705788960,\n",
       "  'dep_estimated_ts': 1705757880,\n",
       "  'dep_actual_ts': 1705757880},\n",
       " {'airline_iata': 'KQ',\n",
       "  'airline_icao': 'KQA',\n",
       "  'flight_iata': 'KQ1234',\n",
       "  'flight_icao': 'KQA1234',\n",
       "  'flight_number': '1234',\n",
       "  'dep_iata': 'CDG',\n",
       "  'dep_icao': 'LFPG',\n",
       "  'dep_terminal': '2F',\n",
       "  'dep_gate': 'F49',\n",
       "  'dep_time': '2024-01-20 14:30',\n",
       "  'dep_time_utc': '2024-01-20 13:30',\n",
       "  'dep_estimated': '2024-01-20 14:38',\n",
       "  'dep_estimated_utc': '2024-01-20 13:38',\n",
       "  'dep_actual': '2024-01-20 14:38',\n",
       "  'dep_actual_utc': '2024-01-20 13:38',\n",
       "  'arr_iata': 'AMS',\n",
       "  'arr_icao': 'EHAM',\n",
       "  'arr_terminal': '2',\n",
       "  'arr_gate': 'C9',\n",
       "  'arr_baggage': '016',\n",
       "  'arr_time': '2024-01-20 15:50',\n",
       "  'arr_time_utc': '2024-01-20 14:50',\n",
       "  'cs_airline_iata': 'KL',\n",
       "  'cs_flight_number': '1234',\n",
       "  'cs_flight_iata': 'KL1234',\n",
       "  'status': 'landed',\n",
       "  'duration': 80,\n",
       "  'delayed': None,\n",
       "  'dep_delayed': 8,\n",
       "  'arr_delayed': None,\n",
       "  'aircraft_icao': None,\n",
       "  'arr_time_ts': 1705762200,\n",
       "  'dep_time_ts': 1705757400,\n",
       "  'dep_estimated_ts': 1705757880,\n",
       "  'dep_actual_ts': 1705757880},\n",
       " {'airline_iata': 'MF',\n",
       "  'airline_icao': 'CXA',\n",
       "  'flight_iata': 'MF9784',\n",
       "  'flight_icao': 'CXA9784',\n",
       "  'flight_number': '9784',\n",
       "  'dep_iata': 'CDG',\n",
       "  'dep_icao': 'LFPG',\n",
       "  'dep_terminal': '2F',\n",
       "  'dep_gate': 'F49',\n",
       "  'dep_time': '2024-01-20 14:30',\n",
       "  'dep_time_utc': '2024-01-20 13:30',\n",
       "  'dep_estimated': '2024-01-20 14:38',\n",
       "  'dep_estimated_utc': '2024-01-20 13:38',\n",
       "  'dep_actual': '2024-01-20 14:38',\n",
       "  'dep_actual_utc': '2024-01-20 13:38',\n",
       "  'arr_iata': 'AMS',\n",
       "  'arr_icao': 'EHAM',\n",
       "  'arr_terminal': '2',\n",
       "  'arr_gate': 'C9',\n",
       "  'arr_baggage': '016',\n",
       "  'arr_time': '2024-01-20 15:50',\n",
       "  'arr_time_utc': '2024-01-20 14:50',\n",
       "  'cs_airline_iata': 'KL',\n",
       "  'cs_flight_number': '1234',\n",
       "  'cs_flight_iata': 'KL1234',\n",
       "  'status': 'landed',\n",
       "  'duration': 80,\n",
       "  'delayed': None,\n",
       "  'dep_delayed': 8,\n",
       "  'arr_delayed': None,\n",
       "  'aircraft_icao': None,\n",
       "  'arr_time_ts': 1705762200,\n",
       "  'dep_time_ts': 1705757400,\n",
       "  'dep_estimated_ts': 1705757880,\n",
       "  'dep_actual_ts': 1705757880},\n",
       " {'airline_iata': 'MK',\n",
       "  'airline_icao': 'MAU',\n",
       "  'flight_iata': 'MK7513',\n",
       "  'flight_icao': 'MAU7513',\n",
       "  'flight_number': '7513',\n",
       "  'dep_iata': 'CDG',\n",
       "  'dep_icao': 'LFPG',\n",
       "  'dep_terminal': '2F',\n",
       "  'dep_gate': 'F49',\n",
       "  'dep_time': '2024-01-20 14:30',\n",
       "  'dep_time_utc': '2024-01-20 13:30',\n",
       "  'dep_estimated': '2024-01-20 14:38',\n",
       "  'dep_estimated_utc': '2024-01-20 13:38',\n",
       "  'dep_actual': '2024-01-20 14:38',\n",
       "  'dep_actual_utc': '2024-01-20 13:38',\n",
       "  'arr_iata': 'AMS',\n",
       "  'arr_icao': 'EHAM',\n",
       "  'arr_terminal': '2',\n",
       "  'arr_gate': 'C9',\n",
       "  'arr_baggage': '016',\n",
       "  'arr_time': '2024-01-20 15:50',\n",
       "  'arr_time_utc': '2024-01-20 14:50',\n",
       "  'cs_airline_iata': 'KL',\n",
       "  'cs_flight_number': '1234',\n",
       "  'cs_flight_iata': 'KL1234',\n",
       "  'status': 'landed',\n",
       "  'duration': 80,\n",
       "  'delayed': None,\n",
       "  'dep_delayed': 8,\n",
       "  'arr_delayed': None,\n",
       "  'aircraft_icao': None,\n",
       "  'arr_time_ts': 1705762200,\n",
       "  'dep_time_ts': 1705757400,\n",
       "  'dep_estimated_ts': 1705757880,\n",
       "  'dep_actual_ts': 1705757880},\n",
       " {'airline_iata': 'VS',\n",
       "  'airline_icao': 'VIR',\n",
       "  'flight_iata': 'VS6756',\n",
       "  'flight_icao': 'VIR6756',\n",
       "  'flight_number': '6756',\n",
       "  'dep_iata': 'CDG',\n",
       "  'dep_icao': 'LFPG',\n",
       "  'dep_terminal': '2E',\n",
       "  'dep_gate': 'L30',\n",
       "  'dep_time': '2024-01-20 14:00',\n",
       "  'dep_time_utc': '2024-01-20 13:00',\n",
       "  'dep_estimated': '2024-01-20 14:38',\n",
       "  'dep_estimated_utc': '2024-01-20 13:38',\n",
       "  'dep_actual': '2024-01-20 14:38',\n",
       "  'dep_actual_utc': '2024-01-20 13:38',\n",
       "  'arr_iata': 'IAD',\n",
       "  'arr_icao': 'KIAD',\n",
       "  'arr_terminal': None,\n",
       "  'arr_gate': None,\n",
       "  'arr_baggage': '20',\n",
       "  'arr_time': '2024-01-20 16:40',\n",
       "  'arr_time_utc': '2024-01-20 21:40',\n",
       "  'arr_estimated': '2024-01-20 17:16',\n",
       "  'arr_estimated_utc': '2024-01-20 22:16',\n",
       "  'cs_airline_iata': 'AF',\n",
       "  'cs_flight_number': '54',\n",
       "  'cs_flight_iata': 'AF54',\n",
       "  'status': 'active',\n",
       "  'duration': 520,\n",
       "  'delayed': 36,\n",
       "  'dep_delayed': 38,\n",
       "  'arr_delayed': 36,\n",
       "  'aircraft_icao': None,\n",
       "  'arr_time_ts': 1705786800,\n",
       "  'dep_time_ts': 1705755600,\n",
       "  'arr_estimated_ts': 1705788960,\n",
       "  'dep_estimated_ts': 1705757880,\n",
       "  'dep_actual_ts': 1705757880},\n",
       " {'airline_iata': 'AF',\n",
       "  'airline_icao': 'AFR',\n",
       "  'flight_iata': 'AF206',\n",
       "  'flight_icao': 'AFR206',\n",
       "  'flight_number': '206',\n",
       "  'dep_iata': 'CDG',\n",
       "  'dep_icao': 'LFPG',\n",
       "  'dep_terminal': '2E',\n",
       "  'dep_gate': 'K41',\n",
       "  'dep_time': '2024-01-20 13:50',\n",
       "  'dep_time_utc': '2024-01-20 12:50',\n",
       "  'dep_estimated': '2024-01-20 14:41',\n",
       "  'dep_estimated_utc': '2024-01-20 13:41',\n",
       "  'dep_actual': '2024-01-20 14:41',\n",
       "  'dep_actual_utc': '2024-01-20 13:41',\n",
       "  'arr_iata': 'BOM',\n",
       "  'arr_icao': 'VABB',\n",
       "  'arr_terminal': '2',\n",
       "  'arr_gate': None,\n",
       "  'arr_baggage': None,\n",
       "  'arr_time': '2024-01-21 03:00',\n",
       "  'arr_time_utc': '2024-01-20 21:30',\n",
       "  'arr_estimated': '2024-01-21 03:29',\n",
       "  'arr_estimated_utc': '2024-01-20 21:59',\n",
       "  'cs_airline_iata': None,\n",
       "  'cs_flight_number': None,\n",
       "  'cs_flight_iata': None,\n",
       "  'status': 'active',\n",
       "  'duration': 520,\n",
       "  'delayed': 29,\n",
       "  'dep_delayed': 51,\n",
       "  'arr_delayed': 29,\n",
       "  'aircraft_icao': 'A359',\n",
       "  'arr_time_ts': 1705786200,\n",
       "  'dep_time_ts': 1705755000,\n",
       "  'arr_estimated_ts': 1705787940,\n",
       "  'dep_estimated_ts': 1705758060,\n",
       "  'dep_actual_ts': 1705758060},\n",
       " {'airline_iata': 'AF',\n",
       "  'airline_icao': 'AFR',\n",
       "  'flight_iata': 'AF702',\n",
       "  'flight_icao': 'AFR702',\n",
       "  'flight_number': '702',\n",
       "  'dep_iata': 'CDG',\n",
       "  'dep_icao': 'LFPG',\n",
       "  'dep_terminal': '2E',\n",
       "  'dep_gate': 'L44',\n",
       "  'dep_time': '2024-01-20 14:35',\n",
       "  'dep_time_utc': '2024-01-20 13:35',\n",
       "  'dep_estimated': '2024-01-20 14:41',\n",
       "  'dep_estimated_utc': '2024-01-20 13:41',\n",
       "  'dep_actual': '2024-01-20 14:41',\n",
       "  'dep_actual_utc': '2024-01-20 13:41',\n",
       "  'arr_iata': 'ABJ',\n",
       "  'arr_icao': 'DIAP',\n",
       "  'arr_terminal': None,\n",
       "  'arr_gate': None,\n",
       "  'arr_baggage': None,\n",
       "  'arr_time': '2024-01-20 20:05',\n",
       "  'arr_time_utc': '2024-01-20 20:05',\n",
       "  'arr_estimated': '2024-01-20 20:08',\n",
       "  'arr_estimated_utc': '2024-01-20 20:08',\n",
       "  'cs_airline_iata': None,\n",
       "  'cs_flight_number': None,\n",
       "  'cs_flight_iata': None,\n",
       "  'status': 'active',\n",
       "  'duration': 390,\n",
       "  'delayed': 6,\n",
       "  'dep_delayed': 6,\n",
       "  'arr_delayed': 3,\n",
       "  'aircraft_icao': 'B77W',\n",
       "  'arr_time_ts': 1705781100,\n",
       "  'dep_time_ts': 1705757700,\n",
       "  'arr_estimated_ts': 1705781280,\n",
       "  'dep_estimated_ts': 1705758060,\n",
       "  'dep_actual_ts': 1705758060},\n",
       " {'airline_iata': 'DL',\n",
       "  'airline_icao': 'DAL',\n",
       "  'flight_iata': 'DL8408',\n",
       "  'flight_icao': 'DAL8408',\n",
       "  'flight_number': '8408',\n",
       "  'dep_iata': 'CDG',\n",
       "  'dep_icao': 'LFPG',\n",
       "  'dep_terminal': '2E',\n",
       "  'dep_gate': 'K41',\n",
       "  'dep_time': '2024-01-20 13:50',\n",
       "  'dep_time_utc': '2024-01-20 12:50',\n",
       "  'dep_estimated': '2024-01-20 14:41',\n",
       "  'dep_estimated_utc': '2024-01-20 13:41',\n",
       "  'dep_actual': '2024-01-20 14:41',\n",
       "  'dep_actual_utc': '2024-01-20 13:41',\n",
       "  'arr_iata': 'BOM',\n",
       "  'arr_icao': 'VABB',\n",
       "  'arr_terminal': '2',\n",
       "  'arr_gate': None,\n",
       "  'arr_baggage': None,\n",
       "  'arr_time': '2024-01-21 03:00',\n",
       "  'arr_time_utc': '2024-01-20 21:30',\n",
       "  'arr_estimated': '2024-01-21 03:29',\n",
       "  'arr_estimated_utc': '2024-01-20 21:59',\n",
       "  'cs_airline_iata': 'AF',\n",
       "  'cs_flight_number': '206',\n",
       "  'cs_flight_iata': 'AF206',\n",
       "  'status': 'active',\n",
       "  'duration': 520,\n",
       "  'delayed': 29,\n",
       "  'dep_delayed': 51,\n",
       "  'arr_delayed': 29,\n",
       "  'aircraft_icao': None,\n",
       "  'arr_time_ts': 1705786200,\n",
       "  'dep_time_ts': 1705755000,\n",
       "  'arr_estimated_ts': 1705787940,\n",
       "  'dep_estimated_ts': 1705758060,\n",
       "  'dep_actual_ts': 1705758060},\n",
       " {'airline_iata': 'DL',\n",
       "  'airline_icao': 'DAL',\n",
       "  'flight_iata': 'DL8574',\n",
       "  'flight_icao': 'DAL8574',\n",
       "  'flight_number': '8574',\n",
       "  'dep_iata': 'CDG',\n",
       "  'dep_icao': 'LFPG',\n",
       "  'dep_terminal': '2E',\n",
       "  'dep_gate': 'L44',\n",
       "  'dep_time': '2024-01-20 14:35',\n",
       "  'dep_time_utc': '2024-01-20 13:35',\n",
       "  'dep_estimated': '2024-01-20 14:41',\n",
       "  'dep_estimated_utc': '2024-01-20 13:41',\n",
       "  'dep_actual': '2024-01-20 14:41',\n",
       "  'dep_actual_utc': '2024-01-20 13:41',\n",
       "  'arr_iata': 'ABJ',\n",
       "  'arr_icao': 'DIAP',\n",
       "  'arr_terminal': None,\n",
       "  'arr_gate': None,\n",
       "  'arr_baggage': None,\n",
       "  'arr_time': '2024-01-20 20:05',\n",
       "  'arr_time_utc': '2024-01-20 20:05',\n",
       "  'arr_estimated': '2024-01-20 20:08',\n",
       "  'arr_estimated_utc': '2024-01-20 20:08',\n",
       "  'cs_airline_iata': 'AF',\n",
       "  'cs_flight_number': '702',\n",
       "  'cs_flight_iata': 'AF702',\n",
       "  'status': 'active',\n",
       "  'duration': 390,\n",
       "  'delayed': 6,\n",
       "  'dep_delayed': 6,\n",
       "  'arr_delayed': 3,\n",
       "  'aircraft_icao': None,\n",
       "  'arr_time_ts': 1705781100,\n",
       "  'dep_time_ts': 1705757700,\n",
       "  'arr_estimated_ts': 1705781280,\n",
       "  'dep_estimated_ts': 1705758060,\n",
       "  'dep_actual_ts': 1705758060},\n",
       " {'airline_iata': 'KL',\n",
       "  'airline_icao': 'KLM',\n",
       "  'flight_iata': 'KL2270',\n",
       "  'flight_icao': 'KLM2270',\n",
       "  'flight_number': '2270',\n",
       "  'dep_iata': 'CDG',\n",
       "  'dep_icao': 'LFPG',\n",
       "  'dep_terminal': '2E',\n",
       "  'dep_gate': 'L44',\n",
       "  'dep_time': '2024-01-20 14:35',\n",
       "  'dep_time_utc': '2024-01-20 13:35',\n",
       "  'dep_estimated': '2024-01-20 14:41',\n",
       "  'dep_estimated_utc': '2024-01-20 13:41',\n",
       "  'dep_actual': '2024-01-20 14:41',\n",
       "  'dep_actual_utc': '2024-01-20 13:41',\n",
       "  'arr_iata': 'ABJ',\n",
       "  'arr_icao': 'DIAP',\n",
       "  'arr_terminal': None,\n",
       "  'arr_gate': None,\n",
       "  'arr_baggage': None,\n",
       "  'arr_time': '2024-01-20 20:05',\n",
       "  'arr_time_utc': '2024-01-20 20:05',\n",
       "  'arr_estimated': '2024-01-20 20:08',\n",
       "  'arr_estimated_utc': '2024-01-20 20:08',\n",
       "  'cs_airline_iata': 'AF',\n",
       "  'cs_flight_number': '702',\n",
       "  'cs_flight_iata': 'AF702',\n",
       "  'status': 'active',\n",
       "  'duration': 390,\n",
       "  'delayed': 6,\n",
       "  'dep_delayed': 6,\n",
       "  'arr_delayed': 3,\n",
       "  'aircraft_icao': None,\n",
       "  'arr_time_ts': 1705781100,\n",
       "  'dep_time_ts': 1705757700,\n",
       "  'arr_estimated_ts': 1705781280,\n",
       "  'dep_estimated_ts': 1705758060,\n",
       "  'dep_actual_ts': 1705758060},\n",
       " {'airline_iata': 'KL',\n",
       "  'airline_icao': 'KLM',\n",
       "  'flight_iata': 'KL2398',\n",
       "  'flight_icao': 'KLM2398',\n",
       "  'flight_number': '2398',\n",
       "  'dep_iata': 'CDG',\n",
       "  'dep_icao': 'LFPG',\n",
       "  'dep_terminal': '2E',\n",
       "  'dep_gate': 'K41',\n",
       "  'dep_time': '2024-01-20 13:50',\n",
       "  'dep_time_utc': '2024-01-20 12:50',\n",
       "  'dep_estimated': '2024-01-20 14:41',\n",
       "  'dep_estimated_utc': '2024-01-20 13:41',\n",
       "  'dep_actual': '2024-01-20 14:41',\n",
       "  'dep_actual_utc': '2024-01-20 13:41',\n",
       "  'arr_iata': 'BOM',\n",
       "  'arr_icao': 'VABB',\n",
       "  'arr_terminal': '2',\n",
       "  'arr_gate': None,\n",
       "  'arr_baggage': None,\n",
       "  'arr_time': '2024-01-21 03:00',\n",
       "  'arr_time_utc': '2024-01-20 21:30',\n",
       "  'arr_estimated': '2024-01-21 03:29',\n",
       "  'arr_estimated_utc': '2024-01-20 21:59',\n",
       "  'cs_airline_iata': 'AF',\n",
       "  'cs_flight_number': '206',\n",
       "  'cs_flight_iata': 'AF206',\n",
       "  'status': 'active',\n",
       "  'duration': 520,\n",
       "  'delayed': 29,\n",
       "  'dep_delayed': 51,\n",
       "  'arr_delayed': 29,\n",
       "  'aircraft_icao': None,\n",
       "  'arr_time_ts': 1705786200,\n",
       "  'dep_time_ts': 1705755000,\n",
       "  'arr_estimated_ts': 1705787940,\n",
       "  'dep_estimated_ts': 1705758060,\n",
       "  'dep_actual_ts': 1705758060},\n",
       " {'airline_iata': 'AF',\n",
       "  'airline_icao': 'AFR',\n",
       "  'flight_iata': 'AF1774',\n",
       "  'flight_icao': 'AFR1774',\n",
       "  'flight_number': '1774',\n",
       "  'dep_iata': 'CDG',\n",
       "  'dep_icao': 'LFPG',\n",
       "  'dep_terminal': '2F',\n",
       "  'dep_gate': 'F55',\n",
       "  'dep_time': '2024-01-20 14:05',\n",
       "  'dep_time_utc': '2024-01-20 13:05',\n",
       "  'dep_estimated': '2024-01-20 14:45',\n",
       "  'dep_estimated_utc': '2024-01-20 13:45',\n",
       "  'dep_actual': '2024-01-20 14:45',\n",
       "  'dep_actual_utc': '2024-01-20 13:45',\n",
       "  'arr_iata': 'OSL',\n",
       "  'arr_icao': 'ENGM',\n",
       "  'arr_terminal': None,\n",
       "  'arr_gate': None,\n",
       "  'arr_baggage': None,\n",
       "  'arr_time': '2024-01-20 16:25',\n",
       "  'arr_time_utc': '2024-01-20 15:25',\n",
       "  'arr_estimated': '2024-01-20 17:12',\n",
       "  'arr_estimated_utc': '2024-01-20 16:12',\n",
       "  'cs_airline_iata': None,\n",
       "  'cs_flight_number': None,\n",
       "  'cs_flight_iata': None,\n",
       "  'status': 'active',\n",
       "  'duration': 140,\n",
       "  'delayed': 40,\n",
       "  'dep_delayed': 40,\n",
       "  'arr_delayed': 47,\n",
       "  'aircraft_icao': 'A321',\n",
       "  'arr_time_ts': 1705764300,\n",
       "  'dep_time_ts': 1705755900,\n",
       "  'arr_estimated_ts': 1705767120,\n",
       "  'dep_estimated_ts': 1705758300,\n",
       "  'dep_actual_ts': 1705758300},\n",
       " {'airline_iata': 'AM',\n",
       "  'airline_icao': 'AMX',\n",
       "  'flight_iata': 'AM5765',\n",
       "  'flight_icao': 'AMX5765',\n",
       "  'flight_number': '5765',\n",
       "  'dep_iata': 'CDG',\n",
       "  'dep_icao': 'LFPG',\n",
       "  'dep_terminal': '2F',\n",
       "  'dep_gate': 'F55',\n",
       "  'dep_time': '2024-01-20 14:05',\n",
       "  'dep_time_utc': '2024-01-20 13:05',\n",
       "  'dep_estimated': '2024-01-20 14:45',\n",
       "  'dep_estimated_utc': '2024-01-20 13:45',\n",
       "  'dep_actual': '2024-01-20 14:45',\n",
       "  'dep_actual_utc': '2024-01-20 13:45',\n",
       "  'arr_iata': 'OSL',\n",
       "  'arr_icao': 'ENGM',\n",
       "  'arr_terminal': None,\n",
       "  'arr_gate': None,\n",
       "  'arr_baggage': None,\n",
       "  'arr_time': '2024-01-20 16:25',\n",
       "  'arr_time_utc': '2024-01-20 15:25',\n",
       "  'arr_estimated': '2024-01-20 17:12',\n",
       "  'arr_estimated_utc': '2024-01-20 16:12',\n",
       "  'cs_airline_iata': 'AF',\n",
       "  'cs_flight_number': '1774',\n",
       "  'cs_flight_iata': 'AF1774',\n",
       "  'status': 'active',\n",
       "  'duration': 140,\n",
       "  'delayed': 40,\n",
       "  'dep_delayed': 40,\n",
       "  'arr_delayed': 47,\n",
       "  'aircraft_icao': None,\n",
       "  'arr_time_ts': 1705764300,\n",
       "  'dep_time_ts': 1705755900,\n",
       "  'arr_estimated_ts': 1705767120,\n",
       "  'dep_estimated_ts': 1705758300,\n",
       "  'dep_actual_ts': 1705758300},\n",
       " {'airline_iata': 'AZ',\n",
       "  'airline_icao': 'ITY',\n",
       "  'flight_iata': 'AZ2966',\n",
       "  'flight_icao': 'ITY2966',\n",
       "  'flight_number': '2966',\n",
       "  'dep_iata': 'CDG',\n",
       "  'dep_icao': 'LFPG',\n",
       "  'dep_terminal': '2F',\n",
       "  'dep_gate': 'F55',\n",
       "  'dep_time': '2024-01-20 14:05',\n",
       "  'dep_time_utc': '2024-01-20 13:05',\n",
       "  'dep_estimated': '2024-01-20 14:45',\n",
       "  'dep_estimated_utc': '2024-01-20 13:45',\n",
       "  'dep_actual': '2024-01-20 14:45',\n",
       "  'dep_actual_utc': '2024-01-20 13:45',\n",
       "  'arr_iata': 'OSL',\n",
       "  'arr_icao': 'ENGM',\n",
       "  'arr_terminal': None,\n",
       "  'arr_gate': None,\n",
       "  'arr_baggage': None,\n",
       "  'arr_time': '2024-01-20 16:25',\n",
       "  'arr_time_utc': '2024-01-20 15:25',\n",
       "  'arr_estimated': '2024-01-20 17:12',\n",
       "  'arr_estimated_utc': '2024-01-20 16:12',\n",
       "  'cs_airline_iata': 'AF',\n",
       "  'cs_flight_number': '1774',\n",
       "  'cs_flight_iata': 'AF1774',\n",
       "  'status': 'active',\n",
       "  'duration': 140,\n",
       "  'delayed': 40,\n",
       "  'dep_delayed': 40,\n",
       "  'arr_delayed': 47,\n",
       "  'aircraft_icao': None,\n",
       "  'arr_time_ts': 1705764300,\n",
       "  'dep_time_ts': 1705755900,\n",
       "  'arr_estimated_ts': 1705767120,\n",
       "  'dep_estimated_ts': 1705758300,\n",
       "  'dep_actual_ts': 1705758300},\n",
       " {'airline_iata': 'DL',\n",
       "  'airline_icao': 'DAL',\n",
       "  'flight_iata': 'DL8545',\n",
       "  'flight_icao': 'DAL8545',\n",
       "  'flight_number': '8545',\n",
       "  'dep_iata': 'CDG',\n",
       "  'dep_icao': 'LFPG',\n",
       "  'dep_terminal': '2F',\n",
       "  'dep_gate': 'F55',\n",
       "  'dep_time': '2024-01-20 14:05',\n",
       "  'dep_time_utc': '2024-01-20 13:05',\n",
       "  'dep_estimated': '2024-01-20 14:45',\n",
       "  'dep_estimated_utc': '2024-01-20 13:45',\n",
       "  'dep_actual': '2024-01-20 14:45',\n",
       "  'dep_actual_utc': '2024-01-20 13:45',\n",
       "  'arr_iata': 'OSL',\n",
       "  'arr_icao': 'ENGM',\n",
       "  'arr_terminal': None,\n",
       "  'arr_gate': None,\n",
       "  'arr_baggage': None,\n",
       "  'arr_time': '2024-01-20 16:25',\n",
       "  'arr_time_utc': '2024-01-20 15:25',\n",
       "  'arr_estimated': '2024-01-20 17:12',\n",
       "  'arr_estimated_utc': '2024-01-20 16:12',\n",
       "  'cs_airline_iata': 'AF',\n",
       "  'cs_flight_number': '1774',\n",
       "  'cs_flight_iata': 'AF1774',\n",
       "  'status': 'active',\n",
       "  'duration': 140,\n",
       "  'delayed': 40,\n",
       "  'dep_delayed': 40,\n",
       "  'arr_delayed': 47,\n",
       "  'aircraft_icao': None,\n",
       "  'arr_time_ts': 1705764300,\n",
       "  'dep_time_ts': 1705755900,\n",
       "  'arr_estimated_ts': 1705767120,\n",
       "  'dep_estimated_ts': 1705758300,\n",
       "  'dep_actual_ts': 1705758300},\n",
       " {'airline_iata': 'EY',\n",
       "  'airline_icao': 'ETD',\n",
       "  'flight_iata': 'EY5943',\n",
       "  'flight_icao': 'ETD5943',\n",
       "  'flight_number': '5943',\n",
       "  'dep_iata': 'CDG',\n",
       "  'dep_icao': 'LFPG',\n",
       "  'dep_terminal': '2F',\n",
       "  'dep_gate': 'F55',\n",
       "  'dep_time': '2024-01-20 14:05',\n",
       "  'dep_time_utc': '2024-01-20 13:05',\n",
       "  'dep_estimated': '2024-01-20 14:45',\n",
       "  'dep_estimated_utc': '2024-01-20 13:45',\n",
       "  'dep_actual': '2024-01-20 14:45',\n",
       "  'dep_actual_utc': '2024-01-20 13:45',\n",
       "  'arr_iata': 'OSL',\n",
       "  'arr_icao': 'ENGM',\n",
       "  'arr_terminal': None,\n",
       "  'arr_gate': None,\n",
       "  'arr_baggage': None,\n",
       "  'arr_time': '2024-01-20 16:25',\n",
       "  'arr_time_utc': '2024-01-20 15:25',\n",
       "  'arr_estimated': '2024-01-20 17:12',\n",
       "  'arr_estimated_utc': '2024-01-20 16:12',\n",
       "  'cs_airline_iata': 'AF',\n",
       "  'cs_flight_number': '1774',\n",
       "  'cs_flight_iata': 'AF1774',\n",
       "  'status': 'active',\n",
       "  'duration': 140,\n",
       "  'delayed': 40,\n",
       "  'dep_delayed': 40,\n",
       "  'arr_delayed': 47,\n",
       "  'aircraft_icao': None,\n",
       "  'arr_time_ts': 1705764300,\n",
       "  'dep_time_ts': 1705755900,\n",
       "  'arr_estimated_ts': 1705767120,\n",
       "  'dep_estimated_ts': 1705758300,\n",
       "  'dep_actual_ts': 1705758300},\n",
       " {'airline_iata': 'G3',\n",
       "  'airline_icao': 'GLO',\n",
       "  'flight_iata': 'G35227',\n",
       "  'flight_icao': 'GLO5227',\n",
       "  'flight_number': '5227',\n",
       "  'dep_iata': 'CDG',\n",
       "  'dep_icao': 'LFPG',\n",
       "  'dep_terminal': '2F',\n",
       "  'dep_gate': 'F55',\n",
       "  'dep_time': '2024-01-20 14:05',\n",
       "  'dep_time_utc': '2024-01-20 13:05',\n",
       "  'dep_estimated': '2024-01-20 14:45',\n",
       "  'dep_estimated_utc': '2024-01-20 13:45',\n",
       "  'dep_actual': '2024-01-20 14:45',\n",
       "  'dep_actual_utc': '2024-01-20 13:45',\n",
       "  'arr_iata': 'OSL',\n",
       "  'arr_icao': 'ENGM',\n",
       "  'arr_terminal': None,\n",
       "  'arr_gate': None,\n",
       "  'arr_baggage': None,\n",
       "  'arr_time': '2024-01-20 16:25',\n",
       "  'arr_time_utc': '2024-01-20 15:25',\n",
       "  'arr_estimated': '2024-01-20 17:12',\n",
       "  'arr_estimated_utc': '2024-01-20 16:12',\n",
       "  'cs_airline_iata': 'AF',\n",
       "  'cs_flight_number': '1774',\n",
       "  'cs_flight_iata': 'AF1774',\n",
       "  'status': 'active',\n",
       "  'duration': 140,\n",
       "  'delayed': 40,\n",
       "  'dep_delayed': 40,\n",
       "  'arr_delayed': 47,\n",
       "  'aircraft_icao': None,\n",
       "  'arr_time_ts': 1705764300,\n",
       "  'dep_time_ts': 1705755900,\n",
       "  'arr_estimated_ts': 1705767120,\n",
       "  'dep_estimated_ts': 1705758300,\n",
       "  'dep_actual_ts': 1705758300},\n",
       " {'airline_iata': 'KQ',\n",
       "  'airline_icao': 'KQA',\n",
       "  'flight_iata': 'KQ3254',\n",
       "  'flight_icao': 'KQA3254',\n",
       "  'flight_number': '3254',\n",
       "  'dep_iata': 'CDG',\n",
       "  'dep_icao': 'LFPG',\n",
       "  'dep_terminal': '2F',\n",
       "  'dep_gate': 'F55',\n",
       "  'dep_time': '2024-01-20 14:05',\n",
       "  'dep_time_utc': '2024-01-20 13:05',\n",
       "  'dep_estimated': '2024-01-20 14:45',\n",
       "  'dep_estimated_utc': '2024-01-20 13:45',\n",
       "  'dep_actual': '2024-01-20 14:45',\n",
       "  'dep_actual_utc': '2024-01-20 13:45',\n",
       "  'arr_iata': 'OSL',\n",
       "  'arr_icao': 'ENGM',\n",
       "  'arr_terminal': None,\n",
       "  'arr_gate': None,\n",
       "  'arr_baggage': None,\n",
       "  'arr_time': '2024-01-20 16:25',\n",
       "  'arr_time_utc': '2024-01-20 15:25',\n",
       "  'arr_estimated': '2024-01-20 17:12',\n",
       "  'arr_estimated_utc': '2024-01-20 16:12',\n",
       "  'cs_airline_iata': 'AF',\n",
       "  'cs_flight_number': '1774',\n",
       "  'cs_flight_iata': 'AF1774',\n",
       "  'status': 'active',\n",
       "  'duration': 140,\n",
       "  'delayed': 40,\n",
       "  'dep_delayed': 40,\n",
       "  'arr_delayed': 47,\n",
       "  'aircraft_icao': None,\n",
       "  'arr_time_ts': 1705764300,\n",
       "  'dep_time_ts': 1705755900,\n",
       "  'arr_estimated_ts': 1705767120,\n",
       "  'dep_estimated_ts': 1705758300,\n",
       "  'dep_actual_ts': 1705758300},\n",
       " {'airline_iata': 'MK',\n",
       "  'airline_icao': 'MAU',\n",
       "  'flight_iata': 'MK9652',\n",
       "  'flight_icao': 'MAU9652',\n",
       "  'flight_number': '9652',\n",
       "  'dep_iata': 'CDG',\n",
       "  'dep_icao': 'LFPG',\n",
       "  'dep_terminal': '2F',\n",
       "  'dep_gate': 'F55',\n",
       "  'dep_time': '2024-01-20 14:05',\n",
       "  'dep_time_utc': '2024-01-20 13:05',\n",
       "  'dep_estimated': '2024-01-20 14:45',\n",
       "  'dep_estimated_utc': '2024-01-20 13:45',\n",
       "  'dep_actual': '2024-01-20 14:45',\n",
       "  'dep_actual_utc': '2024-01-20 13:45',\n",
       "  'arr_iata': 'OSL',\n",
       "  'arr_icao': 'ENGM',\n",
       "  'arr_terminal': None,\n",
       "  'arr_gate': None,\n",
       "  'arr_baggage': None,\n",
       "  'arr_time': '2024-01-20 16:25',\n",
       "  'arr_time_utc': '2024-01-20 15:25',\n",
       "  'arr_estimated': '2024-01-20 17:12',\n",
       "  'arr_estimated_utc': '2024-01-20 16:12',\n",
       "  'cs_airline_iata': 'AF',\n",
       "  'cs_flight_number': '1774',\n",
       "  'cs_flight_iata': 'AF1774',\n",
       "  'status': 'active',\n",
       "  'duration': 140,\n",
       "  'delayed': 40,\n",
       "  'dep_delayed': 40,\n",
       "  'arr_delayed': 47,\n",
       "  'aircraft_icao': None,\n",
       "  'arr_time_ts': 1705764300,\n",
       "  'dep_time_ts': 1705755900,\n",
       "  'arr_estimated_ts': 1705767120,\n",
       "  'dep_estimated_ts': 1705758300,\n",
       "  'dep_actual_ts': 1705758300},\n",
       " {'airline_iata': 'MU',\n",
       "  'airline_icao': 'CES',\n",
       "  'flight_iata': 'MU1689',\n",
       "  'flight_icao': 'CES1689',\n",
       "  'flight_number': '1689',\n",
       "  'dep_iata': 'CDG',\n",
       "  'dep_icao': 'LFPG',\n",
       "  'dep_terminal': '2F',\n",
       "  'dep_gate': 'F55',\n",
       "  'dep_time': '2024-01-20 14:05',\n",
       "  'dep_time_utc': '2024-01-20 13:05',\n",
       "  'dep_estimated': '2024-01-20 14:45',\n",
       "  'dep_estimated_utc': '2024-01-20 13:45',\n",
       "  'dep_actual': '2024-01-20 14:45',\n",
       "  'dep_actual_utc': '2024-01-20 13:45',\n",
       "  'arr_iata': 'OSL',\n",
       "  'arr_icao': 'ENGM',\n",
       "  'arr_terminal': None,\n",
       "  'arr_gate': None,\n",
       "  'arr_baggage': None,\n",
       "  'arr_time': '2024-01-20 16:25',\n",
       "  'arr_time_utc': '2024-01-20 15:25',\n",
       "  'arr_estimated': '2024-01-20 17:12',\n",
       "  'arr_estimated_utc': '2024-01-20 16:12',\n",
       "  'cs_airline_iata': 'AF',\n",
       "  'cs_flight_number': '1774',\n",
       "  'cs_flight_iata': 'AF1774',\n",
       "  'status': 'active',\n",
       "  'duration': 140,\n",
       "  'delayed': 40,\n",
       "  'dep_delayed': 40,\n",
       "  'arr_delayed': 47,\n",
       "  'aircraft_icao': None,\n",
       "  'arr_time_ts': 1705764300,\n",
       "  'dep_time_ts': 1705755900,\n",
       "  'arr_estimated_ts': 1705767120,\n",
       "  'dep_estimated_ts': 1705758300,\n",
       "  'dep_actual_ts': 1705758300},\n",
       " {'airline_iata': 'SV',\n",
       "  'airline_icao': 'SVA',\n",
       "  'flight_iata': 'SV6095',\n",
       "  'flight_icao': 'SVA6095',\n",
       "  'flight_number': '6095',\n",
       "  'dep_iata': 'CDG',\n",
       "  'dep_icao': 'LFPG',\n",
       "  'dep_terminal': '2F',\n",
       "  'dep_gate': 'F55',\n",
       "  'dep_time': '2024-01-20 14:05',\n",
       "  'dep_time_utc': '2024-01-20 13:05',\n",
       "  'dep_estimated': '2024-01-20 14:45',\n",
       "  'dep_estimated_utc': '2024-01-20 13:45',\n",
       "  'dep_actual': '2024-01-20 14:45',\n",
       "  'dep_actual_utc': '2024-01-20 13:45',\n",
       "  'arr_iata': 'OSL',\n",
       "  'arr_icao': 'ENGM',\n",
       "  'arr_terminal': None,\n",
       "  'arr_gate': None,\n",
       "  'arr_baggage': None,\n",
       "  'arr_time': '2024-01-20 16:25',\n",
       "  'arr_time_utc': '2024-01-20 15:25',\n",
       "  'arr_estimated': '2024-01-20 17:12',\n",
       "  'arr_estimated_utc': '2024-01-20 16:12',\n",
       "  'cs_airline_iata': 'AF',\n",
       "  'cs_flight_number': '1774',\n",
       "  'cs_flight_iata': 'AF1774',\n",
       "  'status': 'active',\n",
       "  'duration': 140,\n",
       "  'delayed': 40,\n",
       "  'dep_delayed': 40,\n",
       "  'arr_delayed': 47,\n",
       "  'aircraft_icao': None,\n",
       "  'arr_time_ts': 1705764300,\n",
       "  'dep_time_ts': 1705755900,\n",
       "  'arr_estimated_ts': 1705767120,\n",
       "  'dep_estimated_ts': 1705758300,\n",
       "  'dep_actual_ts': 1705758300},\n",
       " {'airline_iata': 'UU',\n",
       "  'airline_icao': 'REU',\n",
       "  'flight_iata': 'UU8774',\n",
       "  'flight_icao': 'REU8774',\n",
       "  'flight_number': '8774',\n",
       "  'dep_iata': 'CDG',\n",
       "  'dep_icao': 'LFPG',\n",
       "  'dep_terminal': '2F',\n",
       "  'dep_gate': 'F55',\n",
       "  'dep_time': '2024-01-20 14:05',\n",
       "  'dep_time_utc': '2024-01-20 13:05',\n",
       "  'dep_estimated': '2024-01-20 14:45',\n",
       "  'dep_estimated_utc': '2024-01-20 13:45',\n",
       "  'dep_actual': '2024-01-20 14:45',\n",
       "  'dep_actual_utc': '2024-01-20 13:45',\n",
       "  'arr_iata': 'OSL',\n",
       "  'arr_icao': 'ENGM',\n",
       "  'arr_terminal': None,\n",
       "  'arr_gate': None,\n",
       "  'arr_baggage': None,\n",
       "  'arr_time': '2024-01-20 16:25',\n",
       "  'arr_time_utc': '2024-01-20 15:25',\n",
       "  'arr_estimated': '2024-01-20 17:12',\n",
       "  'arr_estimated_utc': '2024-01-20 16:12',\n",
       "  'cs_airline_iata': 'AF',\n",
       "  'cs_flight_number': '1774',\n",
       "  'cs_flight_iata': 'AF1774',\n",
       "  'status': 'active',\n",
       "  'duration': 140,\n",
       "  'delayed': 40,\n",
       "  'dep_delayed': 40,\n",
       "  'arr_delayed': 47,\n",
       "  'aircraft_icao': None,\n",
       "  'arr_time_ts': 1705764300,\n",
       "  'dep_time_ts': 1705755900,\n",
       "  'arr_estimated_ts': 1705767120,\n",
       "  'dep_estimated_ts': 1705758300,\n",
       "  'dep_actual_ts': 1705758300},\n",
       " {'airline_iata': 'VN',\n",
       "  'airline_icao': 'HVN',\n",
       "  'flight_iata': 'VN3686',\n",
       "  'flight_icao': 'HVN3686',\n",
       "  'flight_number': '3686',\n",
       "  'dep_iata': 'CDG',\n",
       "  'dep_icao': 'LFPG',\n",
       "  'dep_terminal': '2F',\n",
       "  'dep_gate': 'F55',\n",
       "  'dep_time': '2024-01-20 14:05',\n",
       "  'dep_time_utc': '2024-01-20 13:05',\n",
       "  'dep_estimated': '2024-01-20 14:45',\n",
       "  'dep_estimated_utc': '2024-01-20 13:45',\n",
       "  'dep_actual': '2024-01-20 14:45',\n",
       "  'dep_actual_utc': '2024-01-20 13:45',\n",
       "  'arr_iata': 'OSL',\n",
       "  'arr_icao': 'ENGM',\n",
       "  'arr_terminal': None,\n",
       "  'arr_gate': None,\n",
       "  'arr_baggage': None,\n",
       "  'arr_time': '2024-01-20 16:25',\n",
       "  'arr_time_utc': '2024-01-20 15:25',\n",
       "  'arr_estimated': '2024-01-20 17:12',\n",
       "  'arr_estimated_utc': '2024-01-20 16:12',\n",
       "  'cs_airline_iata': 'AF',\n",
       "  'cs_flight_number': '1774',\n",
       "  'cs_flight_iata': 'AF1774',\n",
       "  'status': 'active',\n",
       "  'duration': 140,\n",
       "  'delayed': 40,\n",
       "  'dep_delayed': 40,\n",
       "  'arr_delayed': 47,\n",
       "  'aircraft_icao': None,\n",
       "  'arr_time_ts': 1705764300,\n",
       "  'dep_time_ts': 1705755900,\n",
       "  'arr_estimated_ts': 1705767120,\n",
       "  'dep_estimated_ts': 1705758300,\n",
       "  'dep_actual_ts': 1705758300},\n",
       " {'airline_iata': 'AC',\n",
       "  'airline_icao': 'ACA',\n",
       "  'flight_iata': 'AC3297',\n",
       "  'flight_icao': 'ACA3297',\n",
       "  'flight_number': '3297',\n",
       "  'dep_iata': 'CDG',\n",
       "  'dep_icao': 'LFPG',\n",
       "  'dep_terminal': '1',\n",
       "  'dep_gate': '12',\n",
       "  'dep_time': '2024-01-20 11:40',\n",
       "  'dep_time_utc': '2024-01-20 10:40',\n",
       "  'dep_estimated': '2024-01-20 14:46',\n",
       "  'dep_estimated_utc': '2024-01-20 13:46',\n",
       "  'dep_actual': '2024-01-20 14:46',\n",
       "  'dep_actual_utc': '2024-01-20 13:46',\n",
       "  'arr_iata': 'ORD',\n",
       "  'arr_icao': 'KORD',\n",
       "  'arr_terminal': '5',\n",
       "  'arr_gate': None,\n",
       "  'arr_baggage': None,\n",
       "  'arr_time': '2024-01-20 14:15',\n",
       "  'arr_time_utc': '2024-01-20 20:15',\n",
       "  'arr_estimated': '2024-01-20 16:38',\n",
       "  'arr_estimated_utc': '2024-01-20 22:38',\n",
       "  'cs_airline_iata': 'UA',\n",
       "  'cs_flight_number': '986',\n",
       "  'cs_flight_iata': 'UA986',\n",
       "  'status': 'active',\n",
       "  'duration': 575,\n",
       "  'delayed': 186,\n",
       "  'dep_delayed': 186,\n",
       "  'arr_delayed': 143,\n",
       "  'aircraft_icao': None,\n",
       "  'arr_time_ts': 1705781700,\n",
       "  'dep_time_ts': 1705747200,\n",
       "  'arr_estimated_ts': 1705790280,\n",
       "  'dep_estimated_ts': 1705758360,\n",
       "  'dep_actual_ts': 1705758360},\n",
       " {'airline_iata': 'LH',\n",
       "  'airline_icao': 'DLH',\n",
       "  'flight_iata': 'LH9334',\n",
       "  'flight_icao': 'DLH9334',\n",
       "  'flight_number': '9334',\n",
       "  'dep_iata': 'CDG',\n",
       "  'dep_icao': 'LFPG',\n",
       "  'dep_terminal': '1',\n",
       "  'dep_gate': '12',\n",
       "  'dep_time': '2024-01-20 11:40',\n",
       "  'dep_time_utc': '2024-01-20 10:40',\n",
       "  'dep_estimated': '2024-01-20 14:46',\n",
       "  'dep_estimated_utc': '2024-01-20 13:46',\n",
       "  'dep_actual': '2024-01-20 14:46',\n",
       "  'dep_actual_utc': '2024-01-20 13:46',\n",
       "  'arr_iata': 'ORD',\n",
       "  'arr_icao': 'KORD',\n",
       "  'arr_terminal': '5',\n",
       "  'arr_gate': None,\n",
       "  'arr_baggage': None,\n",
       "  'arr_time': '2024-01-20 14:15',\n",
       "  'arr_time_utc': '2024-01-20 20:15',\n",
       "  'arr_estimated': '2024-01-20 16:38',\n",
       "  'arr_estimated_utc': '2024-01-20 22:38',\n",
       "  'cs_airline_iata': 'UA',\n",
       "  'cs_flight_number': '986',\n",
       "  'cs_flight_iata': 'UA986',\n",
       "  'status': 'active',\n",
       "  'duration': 575,\n",
       "  'delayed': 186,\n",
       "  'dep_delayed': 186,\n",
       "  'arr_delayed': 143,\n",
       "  'aircraft_icao': None,\n",
       "  'arr_time_ts': 1705781700,\n",
       "  'dep_time_ts': 1705747200,\n",
       "  'arr_estimated_ts': 1705790280,\n",
       "  'dep_estimated_ts': 1705758360,\n",
       "  'dep_actual_ts': 1705758360},\n",
       " {'airline_iata': 'OS',\n",
       "  'airline_icao': 'AUA',\n",
       "  'flight_iata': 'OS7759',\n",
       "  'flight_icao': 'AUA7759',\n",
       "  'flight_number': '7759',\n",
       "  'dep_iata': 'CDG',\n",
       "  'dep_icao': 'LFPG',\n",
       "  'dep_terminal': '1',\n",
       "  'dep_gate': '12',\n",
       "  'dep_time': '2024-01-20 11:40',\n",
       "  'dep_time_utc': '2024-01-20 10:40',\n",
       "  'dep_estimated': '2024-01-20 14:46',\n",
       "  'dep_estimated_utc': '2024-01-20 13:46',\n",
       "  'dep_actual': '2024-01-20 14:46',\n",
       "  'dep_actual_utc': '2024-01-20 13:46',\n",
       "  'arr_iata': 'ORD',\n",
       "  'arr_icao': 'KORD',\n",
       "  'arr_terminal': '5',\n",
       "  'arr_gate': None,\n",
       "  'arr_baggage': None,\n",
       "  'arr_time': '2024-01-20 14:15',\n",
       "  'arr_time_utc': '2024-01-20 20:15',\n",
       "  'arr_estimated': '2024-01-20 16:38',\n",
       "  'arr_estimated_utc': '2024-01-20 22:38',\n",
       "  'cs_airline_iata': 'UA',\n",
       "  'cs_flight_number': '986',\n",
       "  'cs_flight_iata': 'UA986',\n",
       "  'status': 'active',\n",
       "  'duration': 575,\n",
       "  'delayed': 186,\n",
       "  'dep_delayed': 186,\n",
       "  'arr_delayed': 143,\n",
       "  'aircraft_icao': None,\n",
       "  'arr_time_ts': 1705781700,\n",
       "  'dep_time_ts': 1705747200,\n",
       "  'arr_estimated_ts': 1705790280,\n",
       "  'dep_estimated_ts': 1705758360,\n",
       "  'dep_actual_ts': 1705758360},\n",
       " {'airline_iata': 'SN',\n",
       "  'airline_icao': 'BEL',\n",
       "  'flight_iata': 'SN9108',\n",
       "  'flight_icao': 'BEL9108',\n",
       "  'flight_number': '9108',\n",
       "  'dep_iata': 'CDG',\n",
       "  'dep_icao': 'LFPG',\n",
       "  'dep_terminal': '1',\n",
       "  'dep_gate': '12',\n",
       "  'dep_time': '2024-01-20 11:40',\n",
       "  'dep_time_utc': '2024-01-20 10:40',\n",
       "  'dep_estimated': '2024-01-20 14:46',\n",
       "  'dep_estimated_utc': '2024-01-20 13:46',\n",
       "  'dep_actual': '2024-01-20 14:46',\n",
       "  'dep_actual_utc': '2024-01-20 13:46',\n",
       "  'arr_iata': 'ORD',\n",
       "  'arr_icao': 'KORD',\n",
       "  'arr_terminal': '5',\n",
       "  'arr_gate': None,\n",
       "  'arr_baggage': None,\n",
       "  'arr_time': '2024-01-20 14:15',\n",
       "  'arr_time_utc': '2024-01-20 20:15',\n",
       "  'arr_estimated': '2024-01-20 16:38',\n",
       "  'arr_estimated_utc': '2024-01-20 22:38',\n",
       "  'cs_airline_iata': 'UA',\n",
       "  'cs_flight_number': '986',\n",
       "  'cs_flight_iata': 'UA986',\n",
       "  'status': 'active',\n",
       "  'duration': 575,\n",
       "  'delayed': 186,\n",
       "  'dep_delayed': 186,\n",
       "  'arr_delayed': 143,\n",
       "  'aircraft_icao': None,\n",
       "  'arr_time_ts': 1705781700,\n",
       "  'dep_time_ts': 1705747200,\n",
       "  'arr_estimated_ts': 1705790280,\n",
       "  'dep_estimated_ts': 1705758360,\n",
       "  'dep_actual_ts': 1705758360},\n",
       " {'airline_iata': 'UA',\n",
       "  'airline_icao': 'UAL',\n",
       "  'flight_iata': 'UA986',\n",
       "  'flight_icao': 'UAL986',\n",
       "  'flight_number': '986',\n",
       "  'dep_iata': 'CDG',\n",
       "  'dep_icao': 'LFPG',\n",
       "  'dep_terminal': '1',\n",
       "  'dep_gate': '12',\n",
       "  'dep_time': '2024-01-20 11:40',\n",
       "  'dep_time_utc': '2024-01-20 10:40',\n",
       "  'dep_estimated': '2024-01-20 14:46',\n",
       "  'dep_estimated_utc': '2024-01-20 13:46',\n",
       "  'dep_actual': '2024-01-20 14:46',\n",
       "  'dep_actual_utc': '2024-01-20 13:46',\n",
       "  'arr_iata': 'ORD',\n",
       "  'arr_icao': 'KORD',\n",
       "  'arr_terminal': '5',\n",
       "  'arr_gate': None,\n",
       "  'arr_baggage': None,\n",
       "  'arr_time': '2024-01-20 14:15',\n",
       "  'arr_time_utc': '2024-01-20 20:15',\n",
       "  'arr_estimated': '2024-01-20 16:38',\n",
       "  'arr_estimated_utc': '2024-01-20 22:38',\n",
       "  'cs_airline_iata': None,\n",
       "  'cs_flight_number': None,\n",
       "  'cs_flight_iata': None,\n",
       "  'status': 'active',\n",
       "  'duration': 575,\n",
       "  'delayed': 186,\n",
       "  'dep_delayed': 186,\n",
       "  'arr_delayed': 143,\n",
       "  'aircraft_icao': 'B763',\n",
       "  'arr_time_ts': 1705781700,\n",
       "  'dep_time_ts': 1705747200,\n",
       "  'arr_estimated_ts': 1705790280,\n",
       "  'dep_estimated_ts': 1705758360,\n",
       "  'dep_actual_ts': 1705758360},\n",
       " {'airline_iata': 'AF',\n",
       "  'airline_icao': 'AFR',\n",
       "  'flight_iata': 'AF804',\n",
       "  'flight_icao': 'AFR804',\n",
       "  'flight_number': '804',\n",
       "  'dep_iata': 'CDG',\n",
       "  'dep_icao': 'LFPG',\n",
       "  'dep_terminal': '2E',\n",
       "  'dep_gate': 'L45',\n",
       "  'dep_time': '2024-01-20 14:50',\n",
       "  'dep_time_utc': '2024-01-20 13:50',\n",
       "  'dep_estimated': '2024-01-20 14:49',\n",
       "  'dep_estimated_utc': '2024-01-20 13:49',\n",
       "  'dep_actual': '2024-01-20 14:49',\n",
       "  'dep_actual_utc': '2024-01-20 13:49',\n",
       "  'arr_iata': 'COO',\n",
       "  'arr_icao': 'DBBB',\n",
       "  'arr_terminal': None,\n",
       "  'arr_gate': None,\n",
       "  'arr_baggage': None,\n",
       "  'arr_time': '2024-01-20 21:10',\n",
       "  'arr_time_utc': '2024-01-20 20:10',\n",
       "  'arr_estimated': '2024-01-20 21:17',\n",
       "  'arr_estimated_utc': '2024-01-20 20:17',\n",
       "  'cs_airline_iata': None,\n",
       "  'cs_flight_number': None,\n",
       "  'cs_flight_iata': None,\n",
       "  'status': 'active',\n",
       "  'duration': 380,\n",
       "  'delayed': 7,\n",
       "  'dep_delayed': None,\n",
       "  'arr_delayed': 7,\n",
       "  'aircraft_icao': 'A332',\n",
       "  'arr_time_ts': 1705781400,\n",
       "  'dep_time_ts': 1705758600,\n",
       "  'arr_estimated_ts': 1705781820,\n",
       "  'dep_estimated_ts': 1705758540,\n",
       "  'dep_actual_ts': 1705758540},\n",
       " {'airline_iata': 'DL',\n",
       "  'airline_icao': 'DAL',\n",
       "  'flight_iata': 'DL8620',\n",
       "  'flight_icao': 'DAL8620',\n",
       "  'flight_number': '8620',\n",
       "  'dep_iata': 'CDG',\n",
       "  'dep_icao': 'LFPG',\n",
       "  'dep_terminal': '2E',\n",
       "  'dep_gate': 'L45',\n",
       "  'dep_time': '2024-01-20 14:50',\n",
       "  'dep_time_utc': '2024-01-20 13:50',\n",
       "  'dep_estimated': '2024-01-20 14:49',\n",
       "  'dep_estimated_utc': '2024-01-20 13:49',\n",
       "  'dep_actual': '2024-01-20 14:49',\n",
       "  'dep_actual_utc': '2024-01-20 13:49',\n",
       "  'arr_iata': 'COO',\n",
       "  'arr_icao': 'DBBB',\n",
       "  'arr_terminal': None,\n",
       "  'arr_gate': None,\n",
       "  'arr_baggage': None,\n",
       "  'arr_time': '2024-01-20 21:10',\n",
       "  'arr_time_utc': '2024-01-20 20:10',\n",
       "  'arr_estimated': '2024-01-20 21:17',\n",
       "  'arr_estimated_utc': '2024-01-20 20:17',\n",
       "  'cs_airline_iata': 'AF',\n",
       "  'cs_flight_number': '804',\n",
       "  'cs_flight_iata': 'AF804',\n",
       "  'status': 'active',\n",
       "  'duration': 380,\n",
       "  'delayed': 7,\n",
       "  'dep_delayed': None,\n",
       "  'arr_delayed': 7,\n",
       "  'aircraft_icao': None,\n",
       "  'arr_time_ts': 1705781400,\n",
       "  'dep_time_ts': 1705758600,\n",
       "  'arr_estimated_ts': 1705781820,\n",
       "  'dep_estimated_ts': 1705758540,\n",
       "  'dep_actual_ts': 1705758540},\n",
       " {'airline_iata': 'KL',\n",
       "  'airline_icao': 'KLM',\n",
       "  'flight_iata': 'KL2274',\n",
       "  'flight_icao': 'KLM2274',\n",
       "  'flight_number': '2274',\n",
       "  'dep_iata': 'CDG',\n",
       "  'dep_icao': 'LFPG',\n",
       "  'dep_terminal': '2E',\n",
       "  'dep_gate': 'L45',\n",
       "  'dep_time': '2024-01-20 14:50',\n",
       "  'dep_time_utc': '2024-01-20 13:50',\n",
       "  'dep_estimated': '2024-01-20 14:49',\n",
       "  'dep_estimated_utc': '2024-01-20 13:49',\n",
       "  'dep_actual': '2024-01-20 14:49',\n",
       "  'dep_actual_utc': '2024-01-20 13:49',\n",
       "  'arr_iata': 'COO',\n",
       "  'arr_icao': 'DBBB',\n",
       "  'arr_terminal': None,\n",
       "  'arr_gate': None,\n",
       "  'arr_baggage': None,\n",
       "  'arr_time': '2024-01-20 21:10',\n",
       "  'arr_time_utc': '2024-01-20 20:10',\n",
       "  'arr_estimated': '2024-01-20 21:17',\n",
       "  'arr_estimated_utc': '2024-01-20 20:17',\n",
       "  'cs_airline_iata': 'AF',\n",
       "  'cs_flight_number': '804',\n",
       "  'cs_flight_iata': 'AF804',\n",
       "  'status': 'active',\n",
       "  'duration': 380,\n",
       "  'delayed': 7,\n",
       "  'dep_delayed': None,\n",
       "  'arr_delayed': 7,\n",
       "  'aircraft_icao': None,\n",
       "  'arr_time_ts': 1705781400,\n",
       "  'dep_time_ts': 1705758600,\n",
       "  'arr_estimated_ts': 1705781820,\n",
       "  'dep_estimated_ts': 1705758540,\n",
       "  'dep_actual_ts': 1705758540},\n",
       " {'airline_iata': 'SM',\n",
       "  'airline_icao': 'MSC',\n",
       "  'flight_iata': 'SM718',\n",
       "  'flight_icao': 'MSC718',\n",
       "  'flight_number': '718',\n",
       "  'dep_iata': 'CDG',\n",
       "  'dep_icao': 'LFPG',\n",
       "  'dep_terminal': '3',\n",
       "  'dep_gate': '3',\n",
       "  'dep_time': '2024-01-20 14:40',\n",
       "  'dep_time_utc': '2024-01-20 13:40',\n",
       "  'dep_estimated': '2024-01-20 14:52',\n",
       "  'dep_estimated_utc': '2024-01-20 13:52',\n",
       "  'dep_actual': '2024-01-20 14:52',\n",
       "  'dep_actual_utc': '2024-01-20 13:52',\n",
       "  'arr_iata': 'LXR',\n",
       "  'arr_icao': 'HELX',\n",
       "  'arr_terminal': None,\n",
       "  'arr_gate': None,\n",
       "  'arr_baggage': None,\n",
       "  'arr_time': '2024-01-20 20:30',\n",
       "  'arr_time_utc': '2024-01-20 18:30',\n",
       "  'arr_estimated': '2024-01-20 20:40',\n",
       "  'arr_estimated_utc': '2024-01-20 18:40',\n",
       "  'cs_airline_iata': None,\n",
       "  'cs_flight_number': None,\n",
       "  'cs_flight_iata': None,\n",
       "  'status': 'active',\n",
       "  'duration': 290,\n",
       "  'delayed': 12,\n",
       "  'dep_delayed': 12,\n",
       "  'arr_delayed': 10,\n",
       "  'aircraft_icao': 'A320',\n",
       "  'arr_time_ts': 1705775400,\n",
       "  'dep_time_ts': 1705758000,\n",
       "  'arr_estimated_ts': 1705776000,\n",
       "  'dep_estimated_ts': 1705758720,\n",
       "  'dep_actual_ts': 1705758720},\n",
       " {'airline_iata': 'A5',\n",
       "  'airline_icao': 'HOP',\n",
       "  'flight_iata': 'A51452',\n",
       "  'flight_icao': 'HOP1452',\n",
       "  'flight_number': '1452',\n",
       "  'dep_iata': 'CDG',\n",
       "  'dep_icao': 'LFPG',\n",
       "  'dep_terminal': '2G',\n",
       "  'dep_gate': 'G30',\n",
       "  'dep_time': '2024-01-20 14:40',\n",
       "  'dep_time_utc': '2024-01-20 13:40',\n",
       "  'dep_estimated': '2024-01-20 14:57',\n",
       "  'dep_estimated_utc': '2024-01-20 13:57',\n",
       "  'dep_actual': '2024-01-20 14:57',\n",
       "  'dep_actual_utc': '2024-01-20 13:57',\n",
       "  'arr_iata': 'GOT',\n",
       "  'arr_icao': 'ESGG',\n",
       "  'arr_terminal': 'T1',\n",
       "  'arr_gate': '14',\n",
       "  'arr_baggage': None,\n",
       "  'arr_time': '2024-01-20 16:45',\n",
       "  'arr_time_utc': '2024-01-20 15:45',\n",
       "  'arr_estimated': '2024-01-20 16:54',\n",
       "  'arr_estimated_utc': '2024-01-20 15:54',\n",
       "  'cs_airline_iata': None,\n",
       "  'cs_flight_number': None,\n",
       "  'cs_flight_iata': None,\n",
       "  'status': 'active',\n",
       "  'duration': 125,\n",
       "  'delayed': 17,\n",
       "  'dep_delayed': 17,\n",
       "  'arr_delayed': 9,\n",
       "  'aircraft_icao': None,\n",
       "  'arr_time_ts': 1705765500,\n",
       "  'dep_time_ts': 1705758000,\n",
       "  'arr_estimated_ts': 1705766040,\n",
       "  'dep_estimated_ts': 1705759020,\n",
       "  'dep_actual_ts': 1705759020},\n",
       " {'airline_iata': 'AF',\n",
       "  'airline_icao': 'AFR',\n",
       "  'flight_iata': 'AF1050',\n",
       "  'flight_icao': 'AFR1050',\n",
       "  'flight_number': '1050',\n",
       "  'dep_iata': 'CDG',\n",
       "  'dep_icao': 'LFPG',\n",
       "  'dep_terminal': '2F',\n",
       "  'dep_gate': 'F54',\n",
       "  'dep_time': '2024-01-20 15:05',\n",
       "  'dep_time_utc': '2024-01-20 14:05',\n",
       "  'dep_estimated': '2024-01-20 14:57',\n",
       "  'dep_estimated_utc': '2024-01-20 13:57',\n",
       "  'dep_actual': '2024-01-20 14:57',\n",
       "  'dep_actual_utc': '2024-01-20 13:57',\n",
       "  'arr_iata': 'CPH',\n",
       "  'arr_icao': 'EKCH',\n",
       "  'arr_terminal': '3',\n",
       "  'arr_gate': 'A14',\n",
       "  'arr_baggage': None,\n",
       "  'arr_time': '2024-01-20 17:00',\n",
       "  'arr_time_utc': '2024-01-20 16:00',\n",
       "  'arr_estimated': '2024-01-20 16:50',\n",
       "  'arr_estimated_utc': '2024-01-20 15:50',\n",
       "  'cs_airline_iata': None,\n",
       "  'cs_flight_number': None,\n",
       "  'cs_flight_iata': None,\n",
       "  'status': 'active',\n",
       "  'duration': 115,\n",
       "  'delayed': None,\n",
       "  'dep_delayed': None,\n",
       "  'arr_delayed': None,\n",
       "  'aircraft_icao': 'BCS3',\n",
       "  'arr_time_ts': 1705766400,\n",
       "  'dep_time_ts': 1705759500,\n",
       "  'arr_estimated_ts': 1705765800,\n",
       "  'dep_estimated_ts': 1705759020,\n",
       "  'dep_actual_ts': 1705759020},\n",
       " {'airline_iata': 'AF',\n",
       "  'airline_icao': 'AFR',\n",
       "  'flight_iata': 'AF1452',\n",
       "  'flight_icao': 'AFR1452',\n",
       "  'flight_number': '1452',\n",
       "  'dep_iata': 'CDG',\n",
       "  'dep_icao': 'LFPG',\n",
       "  'dep_terminal': '2G',\n",
       "  'dep_gate': 'G30',\n",
       "  'dep_time': '2024-01-20 14:40',\n",
       "  'dep_time_utc': '2024-01-20 13:40',\n",
       "  'dep_estimated': '2024-01-20 14:57',\n",
       "  'dep_estimated_utc': '2024-01-20 13:57',\n",
       "  'dep_actual': '2024-01-20 14:57',\n",
       "  'dep_actual_utc': '2024-01-20 13:57',\n",
       "  'arr_iata': 'GOT',\n",
       "  'arr_icao': 'ESGG',\n",
       "  'arr_terminal': 'T1',\n",
       "  'arr_gate': '14',\n",
       "  'arr_baggage': None,\n",
       "  'arr_time': '2024-01-20 16:45',\n",
       "  'arr_time_utc': '2024-01-20 15:45',\n",
       "  'arr_estimated': '2024-01-20 16:54',\n",
       "  'arr_estimated_utc': '2024-01-20 15:54',\n",
       "  'cs_airline_iata': 'A5',\n",
       "  'cs_flight_number': '1452',\n",
       "  'cs_flight_iata': 'A51452',\n",
       "  'status': 'active',\n",
       "  'duration': 125,\n",
       "  'delayed': 17,\n",
       "  'dep_delayed': 17,\n",
       "  'arr_delayed': 9,\n",
       "  'aircraft_icao': 'E190',\n",
       "  'arr_time_ts': 1705765500,\n",
       "  'dep_time_ts': 1705758000,\n",
       "  'arr_estimated_ts': 1705766040,\n",
       "  'dep_estimated_ts': 1705759020,\n",
       "  'dep_actual_ts': 1705759020},\n",
       " {'airline_iata': 'AZ',\n",
       "  'airline_icao': 'ITY',\n",
       "  'flight_iata': 'AZ3628',\n",
       "  'flight_icao': 'ITY3628',\n",
       "  'flight_number': '3628',\n",
       "  'dep_iata': 'CDG',\n",
       "  'dep_icao': 'LFPG',\n",
       "  'dep_terminal': '2F',\n",
       "  'dep_gate': 'F54',\n",
       "  'dep_time': '2024-01-20 15:05',\n",
       "  'dep_time_utc': '2024-01-20 14:05',\n",
       "  'dep_estimated': '2024-01-20 14:57',\n",
       "  'dep_estimated_utc': '2024-01-20 13:57',\n",
       "  'dep_actual': '2024-01-20 14:57',\n",
       "  'dep_actual_utc': '2024-01-20 13:57',\n",
       "  'arr_iata': 'CPH',\n",
       "  'arr_icao': 'EKCH',\n",
       "  'arr_terminal': '3',\n",
       "  'arr_gate': 'A14',\n",
       "  'arr_baggage': None,\n",
       "  'arr_time': '2024-01-20 17:00',\n",
       "  'arr_time_utc': '2024-01-20 16:00',\n",
       "  'arr_estimated': '2024-01-20 16:50',\n",
       "  'arr_estimated_utc': '2024-01-20 15:50',\n",
       "  'cs_airline_iata': 'AF',\n",
       "  'cs_flight_number': '1050',\n",
       "  'cs_flight_iata': 'AF1050',\n",
       "  'status': 'active',\n",
       "  'duration': 115,\n",
       "  'delayed': None,\n",
       "  'dep_delayed': None,\n",
       "  'arr_delayed': None,\n",
       "  'aircraft_icao': None,\n",
       "  'arr_time_ts': 1705766400,\n",
       "  'dep_time_ts': 1705759500,\n",
       "  'arr_estimated_ts': 1705765800,\n",
       "  'dep_estimated_ts': 1705759020,\n",
       "  'dep_actual_ts': 1705759020},\n",
       " {'airline_iata': 'AZ',\n",
       "  'airline_icao': 'ITY',\n",
       "  'flight_iata': 'AZ3708',\n",
       "  'flight_icao': 'ITY3708',\n",
       "  'flight_number': '3708',\n",
       "  'dep_iata': 'CDG',\n",
       "  'dep_icao': 'LFPG',\n",
       "  'dep_terminal': '2G',\n",
       "  'dep_gate': 'G30',\n",
       "  'dep_time': '2024-01-20 14:40',\n",
       "  'dep_time_utc': '2024-01-20 13:40',\n",
       "  'dep_estimated': '2024-01-20 14:57',\n",
       "  'dep_estimated_utc': '2024-01-20 13:57',\n",
       "  'dep_actual': '2024-01-20 14:57',\n",
       "  'dep_actual_utc': '2024-01-20 13:57',\n",
       "  'arr_iata': 'GOT',\n",
       "  'arr_icao': 'ESGG',\n",
       "  'arr_terminal': 'T1',\n",
       "  'arr_gate': '14',\n",
       "  'arr_baggage': None,\n",
       "  'arr_time': '2024-01-20 16:45',\n",
       "  'arr_time_utc': '2024-01-20 15:45',\n",
       "  'arr_estimated': '2024-01-20 16:54',\n",
       "  'arr_estimated_utc': '2024-01-20 15:54',\n",
       "  'cs_airline_iata': 'A5',\n",
       "  'cs_flight_number': '1452',\n",
       "  'cs_flight_iata': 'A51452',\n",
       "  'status': 'active',\n",
       "  'duration': 125,\n",
       "  'delayed': 17,\n",
       "  'dep_delayed': 17,\n",
       "  'arr_delayed': 9,\n",
       "  'aircraft_icao': None,\n",
       "  'arr_time_ts': 1705765500,\n",
       "  'dep_time_ts': 1705758000,\n",
       "  'arr_estimated_ts': 1705766040,\n",
       "  'dep_estimated_ts': 1705759020,\n",
       "  'dep_actual_ts': 1705759020},\n",
       " {'airline_iata': 'DL',\n",
       "  'airline_icao': 'DAL',\n",
       "  'flight_iata': 'DL8428',\n",
       "  'flight_icao': 'DAL8428',\n",
       "  'flight_number': '8428',\n",
       "  'dep_iata': 'CDG',\n",
       "  'dep_icao': 'LFPG',\n",
       "  'dep_terminal': '2F',\n",
       "  'dep_gate': 'F54',\n",
       "  'dep_time': '2024-01-20 15:05',\n",
       "  'dep_time_utc': '2024-01-20 14:05',\n",
       "  'dep_estimated': '2024-01-20 14:57',\n",
       "  'dep_estimated_utc': '2024-01-20 13:57',\n",
       "  'dep_actual': '2024-01-20 14:57',\n",
       "  'dep_actual_utc': '2024-01-20 13:57',\n",
       "  'arr_iata': 'CPH',\n",
       "  'arr_icao': 'EKCH',\n",
       "  'arr_terminal': '3',\n",
       "  'arr_gate': 'A14',\n",
       "  'arr_baggage': None,\n",
       "  'arr_time': '2024-01-20 17:00',\n",
       "  'arr_time_utc': '2024-01-20 16:00',\n",
       "  'arr_estimated': '2024-01-20 16:50',\n",
       "  'arr_estimated_utc': '2024-01-20 15:50',\n",
       "  'cs_airline_iata': 'AF',\n",
       "  'cs_flight_number': '1050',\n",
       "  'cs_flight_iata': 'AF1050',\n",
       "  'status': 'active',\n",
       "  'duration': 115,\n",
       "  'delayed': None,\n",
       "  'dep_delayed': None,\n",
       "  'arr_delayed': None,\n",
       "  'aircraft_icao': None,\n",
       "  'arr_time_ts': 1705766400,\n",
       "  'dep_time_ts': 1705759500,\n",
       "  'arr_estimated_ts': 1705765800,\n",
       "  'dep_estimated_ts': 1705759020,\n",
       "  'dep_actual_ts': 1705759020},\n",
       " {'airline_iata': 'DL',\n",
       "  'airline_icao': 'DAL',\n",
       "  'flight_iata': 'DL8576',\n",
       "  'flight_icao': 'DAL8576',\n",
       "  'flight_number': '8576',\n",
       "  'dep_iata': 'CDG',\n",
       "  'dep_icao': 'LFPG',\n",
       "  'dep_terminal': '2G',\n",
       "  'dep_gate': 'G30',\n",
       "  'dep_time': '2024-01-20 14:40',\n",
       "  'dep_time_utc': '2024-01-20 13:40',\n",
       "  'dep_estimated': '2024-01-20 14:57',\n",
       "  'dep_estimated_utc': '2024-01-20 13:57',\n",
       "  'dep_actual': '2024-01-20 14:57',\n",
       "  'dep_actual_utc': '2024-01-20 13:57',\n",
       "  'arr_iata': 'GOT',\n",
       "  'arr_icao': 'ESGG',\n",
       "  'arr_terminal': 'T1',\n",
       "  'arr_gate': '14',\n",
       "  'arr_baggage': None,\n",
       "  'arr_time': '2024-01-20 16:45',\n",
       "  'arr_time_utc': '2024-01-20 15:45',\n",
       "  'arr_estimated': '2024-01-20 16:54',\n",
       "  'arr_estimated_utc': '2024-01-20 15:54',\n",
       "  'cs_airline_iata': 'A5',\n",
       "  'cs_flight_number': '1452',\n",
       "  'cs_flight_iata': 'A51452',\n",
       "  'status': 'active',\n",
       "  'duration': 125,\n",
       "  'delayed': 17,\n",
       "  'dep_delayed': 17,\n",
       "  'arr_delayed': 9,\n",
       "  'aircraft_icao': None,\n",
       "  'arr_time_ts': 1705765500,\n",
       "  'dep_time_ts': 1705758000,\n",
       "  'arr_estimated_ts': 1705766040,\n",
       "  'dep_estimated_ts': 1705759020,\n",
       "  'dep_actual_ts': 1705759020},\n",
       " {'airline_iata': 'EY',\n",
       "  'airline_icao': 'ETD',\n",
       "  'flight_iata': 'EY5891',\n",
       "  'flight_icao': 'ETD5891',\n",
       "  'flight_number': '5891',\n",
       "  'dep_iata': 'CDG',\n",
       "  'dep_icao': 'LFPG',\n",
       "  'dep_terminal': '2G',\n",
       "  'dep_gate': 'G30',\n",
       "  'dep_time': '2024-01-20 14:40',\n",
       "  'dep_time_utc': '2024-01-20 13:40',\n",
       "  'dep_estimated': '2024-01-20 14:57',\n",
       "  'dep_estimated_utc': '2024-01-20 13:57',\n",
       "  'dep_actual': '2024-01-20 14:57',\n",
       "  'dep_actual_utc': '2024-01-20 13:57',\n",
       "  'arr_iata': 'GOT',\n",
       "  'arr_icao': 'ESGG',\n",
       "  'arr_terminal': 'T1',\n",
       "  'arr_gate': '14',\n",
       "  'arr_baggage': None,\n",
       "  'arr_time': '2024-01-20 16:45',\n",
       "  'arr_time_utc': '2024-01-20 15:45',\n",
       "  'arr_estimated': '2024-01-20 16:54',\n",
       "  'arr_estimated_utc': '2024-01-20 15:54',\n",
       "  'cs_airline_iata': 'A5',\n",
       "  'cs_flight_number': '1452',\n",
       "  'cs_flight_iata': 'A51452',\n",
       "  'status': 'active',\n",
       "  'duration': 125,\n",
       "  'delayed': 17,\n",
       "  'dep_delayed': 17,\n",
       "  'arr_delayed': 9,\n",
       "  'aircraft_icao': None,\n",
       "  'arr_time_ts': 1705765500,\n",
       "  'dep_time_ts': 1705758000,\n",
       "  'arr_estimated_ts': 1705766040,\n",
       "  'dep_estimated_ts': 1705759020,\n",
       "  'dep_actual_ts': 1705759020},\n",
       " {'airline_iata': 'G3',\n",
       "  'airline_icao': 'GLO',\n",
       "  'flight_iata': 'G35208',\n",
       "  'flight_icao': 'GLO5208',\n",
       "  'flight_number': '5208',\n",
       "  'dep_iata': 'CDG',\n",
       "  'dep_icao': 'LFPG',\n",
       "  'dep_terminal': '2G',\n",
       "  'dep_gate': 'G30',\n",
       "  'dep_time': '2024-01-20 14:40',\n",
       "  'dep_time_utc': '2024-01-20 13:40',\n",
       "  'dep_estimated': '2024-01-20 14:57',\n",
       "  'dep_estimated_utc': '2024-01-20 13:57',\n",
       "  'dep_actual': '2024-01-20 14:57',\n",
       "  'dep_actual_utc': '2024-01-20 13:57',\n",
       "  'arr_iata': 'GOT',\n",
       "  'arr_icao': 'ESGG',\n",
       "  'arr_terminal': 'T1',\n",
       "  'arr_gate': '14',\n",
       "  'arr_baggage': None,\n",
       "  'arr_time': '2024-01-20 16:45',\n",
       "  'arr_time_utc': '2024-01-20 15:45',\n",
       "  'arr_estimated': '2024-01-20 16:54',\n",
       "  'arr_estimated_utc': '2024-01-20 15:54',\n",
       "  'cs_airline_iata': 'A5',\n",
       "  'cs_flight_number': '1452',\n",
       "  'cs_flight_iata': 'A51452',\n",
       "  'status': 'active',\n",
       "  'duration': 125,\n",
       "  'delayed': 17,\n",
       "  'dep_delayed': 17,\n",
       "  'arr_delayed': 9,\n",
       "  'aircraft_icao': None,\n",
       "  'arr_time_ts': 1705765500,\n",
       "  'dep_time_ts': 1705758000,\n",
       "  'arr_estimated_ts': 1705766040,\n",
       "  'dep_estimated_ts': 1705759020,\n",
       "  'dep_actual_ts': 1705759020},\n",
       " {'airline_iata': 'G3',\n",
       "  'airline_icao': 'GLO',\n",
       "  'flight_iata': 'G35251',\n",
       "  'flight_icao': 'GLO5251',\n",
       "  'flight_number': '5251',\n",
       "  'dep_iata': 'CDG',\n",
       "  'dep_icao': 'LFPG',\n",
       "  'dep_terminal': '2F',\n",
       "  'dep_gate': 'F54',\n",
       "  'dep_time': '2024-01-20 15:05',\n",
       "  'dep_time_utc': '2024-01-20 14:05',\n",
       "  'dep_estimated': '2024-01-20 14:57',\n",
       "  'dep_estimated_utc': '2024-01-20 13:57',\n",
       "  'dep_actual': '2024-01-20 14:57',\n",
       "  'dep_actual_utc': '2024-01-20 13:57',\n",
       "  'arr_iata': 'CPH',\n",
       "  'arr_icao': 'EKCH',\n",
       "  'arr_terminal': '3',\n",
       "  'arr_gate': 'A14',\n",
       "  'arr_baggage': None,\n",
       "  'arr_time': '2024-01-20 17:00',\n",
       "  'arr_time_utc': '2024-01-20 16:00',\n",
       "  'arr_estimated': '2024-01-20 16:50',\n",
       "  'arr_estimated_utc': '2024-01-20 15:50',\n",
       "  'cs_airline_iata': 'AF',\n",
       "  'cs_flight_number': '1050',\n",
       "  'cs_flight_iata': 'AF1050',\n",
       "  'status': 'active',\n",
       "  'duration': 115,\n",
       "  'delayed': None,\n",
       "  'dep_delayed': None,\n",
       "  'arr_delayed': None,\n",
       "  'aircraft_icao': None,\n",
       "  'arr_time_ts': 1705766400,\n",
       "  'dep_time_ts': 1705759500,\n",
       "  'arr_estimated_ts': 1705765800,\n",
       "  'dep_estimated_ts': 1705759020,\n",
       "  'dep_actual_ts': 1705759020},\n",
       " {'airline_iata': 'KQ',\n",
       "  'airline_icao': 'KQA',\n",
       "  'flight_iata': 'KQ3158',\n",
       "  'flight_icao': 'KQA3158',\n",
       "  'flight_number': '3158',\n",
       "  'dep_iata': 'CDG',\n",
       "  'dep_icao': 'LFPG',\n",
       "  'dep_terminal': '2F',\n",
       "  'dep_gate': 'F54',\n",
       "  'dep_time': '2024-01-20 15:05',\n",
       "  'dep_time_utc': '2024-01-20 14:05',\n",
       "  'dep_estimated': '2024-01-20 14:57',\n",
       "  'dep_estimated_utc': '2024-01-20 13:57',\n",
       "  'dep_actual': '2024-01-20 14:57',\n",
       "  'dep_actual_utc': '2024-01-20 13:57',\n",
       "  'arr_iata': 'CPH',\n",
       "  'arr_icao': 'EKCH',\n",
       "  'arr_terminal': '3',\n",
       "  'arr_gate': 'A14',\n",
       "  'arr_baggage': None,\n",
       "  'arr_time': '2024-01-20 17:00',\n",
       "  'arr_time_utc': '2024-01-20 16:00',\n",
       "  'arr_estimated': '2024-01-20 16:50',\n",
       "  'arr_estimated_utc': '2024-01-20 15:50',\n",
       "  'cs_airline_iata': 'AF',\n",
       "  'cs_flight_number': '1050',\n",
       "  'cs_flight_iata': 'AF1050',\n",
       "  'status': 'active',\n",
       "  'duration': 115,\n",
       "  'delayed': None,\n",
       "  'dep_delayed': None,\n",
       "  'arr_delayed': None,\n",
       "  'aircraft_icao': None,\n",
       "  'arr_time_ts': 1705766400,\n",
       "  'dep_time_ts': 1705759500,\n",
       "  'arr_estimated_ts': 1705765800,\n",
       "  'dep_estimated_ts': 1705759020,\n",
       "  'dep_actual_ts': 1705759020},\n",
       " {'airline_iata': 'KQ',\n",
       "  'airline_icao': 'KQA',\n",
       "  'flight_iata': 'KQ3272',\n",
       "  'flight_icao': 'KQA3272',\n",
       "  'flight_number': '3272',\n",
       "  'dep_iata': 'CDG',\n",
       "  'dep_icao': 'LFPG',\n",
       "  'dep_terminal': '2G',\n",
       "  'dep_gate': 'G30',\n",
       "  'dep_time': '2024-01-20 14:40',\n",
       "  'dep_time_utc': '2024-01-20 13:40',\n",
       "  'dep_estimated': '2024-01-20 14:57',\n",
       "  'dep_estimated_utc': '2024-01-20 13:57',\n",
       "  'dep_actual': '2024-01-20 14:57',\n",
       "  'dep_actual_utc': '2024-01-20 13:57',\n",
       "  'arr_iata': 'GOT',\n",
       "  'arr_icao': 'ESGG',\n",
       "  'arr_terminal': 'T1',\n",
       "  'arr_gate': '14',\n",
       "  'arr_baggage': None,\n",
       "  'arr_time': '2024-01-20 16:45',\n",
       "  'arr_time_utc': '2024-01-20 15:45',\n",
       "  'arr_estimated': '2024-01-20 16:54',\n",
       "  'arr_estimated_utc': '2024-01-20 15:54',\n",
       "  'cs_airline_iata': 'A5',\n",
       "  'cs_flight_number': '1452',\n",
       "  'cs_flight_iata': 'A51452',\n",
       "  'status': 'active',\n",
       "  'duration': 125,\n",
       "  'delayed': 17,\n",
       "  'dep_delayed': 17,\n",
       "  'arr_delayed': 9,\n",
       "  'aircraft_icao': None,\n",
       "  'arr_time_ts': 1705765500,\n",
       "  'dep_time_ts': 1705758000,\n",
       "  'arr_estimated_ts': 1705766040,\n",
       "  'dep_estimated_ts': 1705759020,\n",
       "  'dep_actual_ts': 1705759020},\n",
       " {'airline_iata': 'MK',\n",
       "  'airline_icao': 'MAU',\n",
       "  'flight_iata': 'MK9618',\n",
       "  'flight_icao': 'MAU9618',\n",
       "  'flight_number': '9618',\n",
       "  'dep_iata': 'CDG',\n",
       "  'dep_icao': 'LFPG',\n",
       "  'dep_terminal': '2F',\n",
       "  'dep_gate': 'F54',\n",
       "  'dep_time': '2024-01-20 15:05',\n",
       "  'dep_time_utc': '2024-01-20 14:05',\n",
       "  'dep_estimated': '2024-01-20 14:57',\n",
       "  'dep_estimated_utc': '2024-01-20 13:57',\n",
       "  'dep_actual': '2024-01-20 14:57',\n",
       "  'dep_actual_utc': '2024-01-20 13:57',\n",
       "  'arr_iata': 'CPH',\n",
       "  'arr_icao': 'EKCH',\n",
       "  'arr_terminal': '3',\n",
       "  'arr_gate': 'A14',\n",
       "  'arr_baggage': None,\n",
       "  'arr_time': '2024-01-20 17:00',\n",
       "  'arr_time_utc': '2024-01-20 16:00',\n",
       "  'arr_estimated': '2024-01-20 16:50',\n",
       "  'arr_estimated_utc': '2024-01-20 15:50',\n",
       "  'cs_airline_iata': 'AF',\n",
       "  'cs_flight_number': '1050',\n",
       "  'cs_flight_iata': 'AF1050',\n",
       "  'status': 'active',\n",
       "  'duration': 115,\n",
       "  'delayed': None,\n",
       "  'dep_delayed': None,\n",
       "  'arr_delayed': None,\n",
       "  'aircraft_icao': None,\n",
       "  'arr_time_ts': 1705766400,\n",
       "  'dep_time_ts': 1705759500,\n",
       "  'arr_estimated_ts': 1705765800,\n",
       "  'dep_estimated_ts': 1705759020,\n",
       "  'dep_actual_ts': 1705759020},\n",
       " {'airline_iata': 'MK',\n",
       "  'airline_icao': 'MAU',\n",
       "  'flight_iata': 'MK9642',\n",
       "  'flight_icao': 'MAU9642',\n",
       "  'flight_number': '9642',\n",
       "  'dep_iata': 'CDG',\n",
       "  'dep_icao': 'LFPG',\n",
       "  'dep_terminal': '2G',\n",
       "  'dep_gate': 'G30',\n",
       "  'dep_time': '2024-01-20 14:40',\n",
       "  'dep_time_utc': '2024-01-20 13:40',\n",
       "  'dep_estimated': '2024-01-20 14:57',\n",
       "  'dep_estimated_utc': '2024-01-20 13:57',\n",
       "  'dep_actual': '2024-01-20 14:57',\n",
       "  'dep_actual_utc': '2024-01-20 13:57',\n",
       "  'arr_iata': 'GOT',\n",
       "  'arr_icao': 'ESGG',\n",
       "  'arr_terminal': 'T1',\n",
       "  'arr_gate': '14',\n",
       "  'arr_baggage': None,\n",
       "  'arr_time': '2024-01-20 16:45',\n",
       "  'arr_time_utc': '2024-01-20 15:45',\n",
       "  'arr_estimated': '2024-01-20 16:54',\n",
       "  'arr_estimated_utc': '2024-01-20 15:54',\n",
       "  'cs_airline_iata': 'A5',\n",
       "  'cs_flight_number': '1452',\n",
       "  'cs_flight_iata': 'A51452',\n",
       "  'status': 'active',\n",
       "  'duration': 125,\n",
       "  'delayed': 17,\n",
       "  'dep_delayed': 17,\n",
       "  'arr_delayed': 9,\n",
       "  'aircraft_icao': None,\n",
       "  'arr_time_ts': 1705765500,\n",
       "  'dep_time_ts': 1705758000,\n",
       "  'arr_estimated_ts': 1705766040,\n",
       "  'dep_estimated_ts': 1705759020,\n",
       "  'dep_actual_ts': 1705759020},\n",
       " {'airline_iata': 'MU',\n",
       "  'airline_icao': 'CES',\n",
       "  'flight_iata': 'MU1735',\n",
       "  'flight_icao': 'CES1735',\n",
       "  'flight_number': '1735',\n",
       "  'dep_iata': 'CDG',\n",
       "  'dep_icao': 'LFPG',\n",
       "  'dep_terminal': '2G',\n",
       "  'dep_gate': 'G30',\n",
       "  'dep_time': '2024-01-20 14:40',\n",
       "  'dep_time_utc': '2024-01-20 13:40',\n",
       "  'dep_estimated': '2024-01-20 14:57',\n",
       "  'dep_estimated_utc': '2024-01-20 13:57',\n",
       "  'dep_actual': '2024-01-20 14:57',\n",
       "  'dep_actual_utc': '2024-01-20 13:57',\n",
       "  'arr_iata': 'GOT',\n",
       "  'arr_icao': 'ESGG',\n",
       "  'arr_terminal': 'T1',\n",
       "  'arr_gate': '14',\n",
       "  'arr_baggage': None,\n",
       "  'arr_time': '2024-01-20 16:45',\n",
       "  'arr_time_utc': '2024-01-20 15:45',\n",
       "  'arr_estimated': '2024-01-20 16:54',\n",
       "  'arr_estimated_utc': '2024-01-20 15:54',\n",
       "  'cs_airline_iata': 'A5',\n",
       "  'cs_flight_number': '1452',\n",
       "  'cs_flight_iata': 'A51452',\n",
       "  'status': 'active',\n",
       "  'duration': 125,\n",
       "  'delayed': 17,\n",
       "  'dep_delayed': 17,\n",
       "  'arr_delayed': 9,\n",
       "  'aircraft_icao': None,\n",
       "  'arr_time_ts': 1705765500,\n",
       "  'dep_time_ts': 1705758000,\n",
       "  'arr_estimated_ts': 1705766040,\n",
       "  'dep_estimated_ts': 1705759020,\n",
       "  'dep_actual_ts': 1705759020},\n",
       " {'airline_iata': 'SV',\n",
       "  'airline_icao': 'SVA',\n",
       "  'flight_iata': 'SV6061',\n",
       "  'flight_icao': 'SVA6061',\n",
       "  'flight_number': '6061',\n",
       "  'dep_iata': 'CDG',\n",
       "  'dep_icao': 'LFPG',\n",
       "  'dep_terminal': '2F',\n",
       "  'dep_gate': 'F54',\n",
       "  'dep_time': '2024-01-20 15:05',\n",
       "  'dep_time_utc': '2024-01-20 14:05',\n",
       "  'dep_estimated': '2024-01-20 14:57',\n",
       "  'dep_estimated_utc': '2024-01-20 13:57',\n",
       "  'dep_actual': '2024-01-20 14:57',\n",
       "  'dep_actual_utc': '2024-01-20 13:57',\n",
       "  'arr_iata': 'CPH',\n",
       "  'arr_icao': 'EKCH',\n",
       "  'arr_terminal': '3',\n",
       "  'arr_gate': 'A14',\n",
       "  'arr_baggage': None,\n",
       "  'arr_time': '2024-01-20 17:00',\n",
       "  'arr_time_utc': '2024-01-20 16:00',\n",
       "  'arr_estimated': '2024-01-20 16:50',\n",
       "  'arr_estimated_utc': '2024-01-20 15:50',\n",
       "  'cs_airline_iata': 'AF',\n",
       "  'cs_flight_number': '1050',\n",
       "  'cs_flight_iata': 'AF1050',\n",
       "  'status': 'active',\n",
       "  'duration': 115,\n",
       "  'delayed': None,\n",
       "  'dep_delayed': None,\n",
       "  'arr_delayed': None,\n",
       "  'aircraft_icao': None,\n",
       "  'arr_time_ts': 1705766400,\n",
       "  'dep_time_ts': 1705759500,\n",
       "  'arr_estimated_ts': 1705765800,\n",
       "  'dep_estimated_ts': 1705759020,\n",
       "  'dep_actual_ts': 1705759020},\n",
       " {'airline_iata': 'SV',\n",
       "  'airline_icao': 'SVA',\n",
       "  'flight_iata': 'SV6099',\n",
       "  'flight_icao': 'SVA6099',\n",
       "  'flight_number': '6099',\n",
       "  'dep_iata': 'CDG',\n",
       "  'dep_icao': 'LFPG',\n",
       "  'dep_terminal': '2G',\n",
       "  'dep_gate': 'G30',\n",
       "  'dep_time': '2024-01-20 14:40',\n",
       "  'dep_time_utc': '2024-01-20 13:40',\n",
       "  'dep_estimated': '2024-01-20 14:57',\n",
       "  'dep_estimated_utc': '2024-01-20 13:57',\n",
       "  'dep_actual': '2024-01-20 14:57',\n",
       "  'dep_actual_utc': '2024-01-20 13:57',\n",
       "  'arr_iata': 'GOT',\n",
       "  'arr_icao': 'ESGG',\n",
       "  'arr_terminal': 'T1',\n",
       "  'arr_gate': '14',\n",
       "  'arr_baggage': None,\n",
       "  'arr_time': '2024-01-20 16:45',\n",
       "  'arr_time_utc': '2024-01-20 15:45',\n",
       "  'arr_estimated': '2024-01-20 16:54',\n",
       "  'arr_estimated_utc': '2024-01-20 15:54',\n",
       "  'cs_airline_iata': 'A5',\n",
       "  'cs_flight_number': '1452',\n",
       "  'cs_flight_iata': 'A51452',\n",
       "  'status': 'active',\n",
       "  'duration': 125,\n",
       "  'delayed': 17,\n",
       "  'dep_delayed': 17,\n",
       "  'arr_delayed': 9,\n",
       "  'aircraft_icao': None,\n",
       "  'arr_time_ts': 1705765500,\n",
       "  'dep_time_ts': 1705758000,\n",
       "  'arr_estimated_ts': 1705766040,\n",
       "  'dep_estimated_ts': 1705759020,\n",
       "  'dep_actual_ts': 1705759020},\n",
       " {'airline_iata': 'UU',\n",
       "  'airline_icao': 'REU',\n",
       "  'flight_iata': 'UU8452',\n",
       "  'flight_icao': 'REU8452',\n",
       "  'flight_number': '8452',\n",
       "  'dep_iata': 'CDG',\n",
       "  'dep_icao': 'LFPG',\n",
       "  'dep_terminal': '2G',\n",
       "  'dep_gate': 'G30',\n",
       "  'dep_time': '2024-01-20 14:40',\n",
       "  'dep_time_utc': '2024-01-20 13:40',\n",
       "  'dep_estimated': '2024-01-20 14:57',\n",
       "  'dep_estimated_utc': '2024-01-20 13:57',\n",
       "  'dep_actual': '2024-01-20 14:57',\n",
       "  'dep_actual_utc': '2024-01-20 13:57',\n",
       "  'arr_iata': 'GOT',\n",
       "  'arr_icao': 'ESGG',\n",
       "  'arr_terminal': 'T1',\n",
       "  'arr_gate': '14',\n",
       "  'arr_baggage': None,\n",
       "  'arr_time': '2024-01-20 16:45',\n",
       "  'arr_time_utc': '2024-01-20 15:45',\n",
       "  'arr_estimated': '2024-01-20 16:54',\n",
       "  'arr_estimated_utc': '2024-01-20 15:54',\n",
       "  'cs_airline_iata': 'A5',\n",
       "  'cs_flight_number': '1452',\n",
       "  'cs_flight_iata': 'A51452',\n",
       "  'status': 'active',\n",
       "  'duration': 125,\n",
       "  'delayed': 17,\n",
       "  'dep_delayed': 17,\n",
       "  'arr_delayed': 9,\n",
       "  'aircraft_icao': None,\n",
       "  'arr_time_ts': 1705765500,\n",
       "  'dep_time_ts': 1705758000,\n",
       "  'arr_estimated_ts': 1705766040,\n",
       "  'dep_estimated_ts': 1705759020,\n",
       "  'dep_actual_ts': 1705759020},\n",
       " {'airline_iata': 'UX',\n",
       "  'airline_icao': 'AEA',\n",
       "  'flight_iata': 'UX2263',\n",
       "  'flight_icao': 'AEA2263',\n",
       "  'flight_number': '2263',\n",
       "  'dep_iata': 'CDG',\n",
       "  'dep_icao': 'LFPG',\n",
       "  'dep_terminal': '2G',\n",
       "  'dep_gate': 'G30',\n",
       "  'dep_time': '2024-01-20 14:40',\n",
       "  'dep_time_utc': '2024-01-20 13:40',\n",
       "  'dep_estimated': '2024-01-20 14:57',\n",
       "  'dep_estimated_utc': '2024-01-20 13:57',\n",
       "  'dep_actual': '2024-01-20 14:57',\n",
       "  'dep_actual_utc': '2024-01-20 13:57',\n",
       "  'arr_iata': 'GOT',\n",
       "  'arr_icao': 'ESGG',\n",
       "  'arr_terminal': 'T1',\n",
       "  'arr_gate': '14',\n",
       "  'arr_baggage': None,\n",
       "  'arr_time': '2024-01-20 16:45',\n",
       "  'arr_time_utc': '2024-01-20 15:45',\n",
       "  'arr_estimated': '2024-01-20 16:54',\n",
       "  'arr_estimated_utc': '2024-01-20 15:54',\n",
       "  'cs_airline_iata': 'A5',\n",
       "  'cs_flight_number': '1452',\n",
       "  'cs_flight_iata': 'A51452',\n",
       "  'status': 'active',\n",
       "  'duration': 125,\n",
       "  'delayed': 17,\n",
       "  'dep_delayed': 17,\n",
       "  'arr_delayed': 9,\n",
       "  'aircraft_icao': None,\n",
       "  'arr_time_ts': 1705765500,\n",
       "  'dep_time_ts': 1705758000,\n",
       "  'arr_estimated_ts': 1705766040,\n",
       "  'dep_estimated_ts': 1705759020,\n",
       "  'dep_actual_ts': 1705759020},\n",
       " {'airline_iata': 'AF',\n",
       "  'airline_icao': 'AFR',\n",
       "  'flight_iata': 'AF90',\n",
       "  'flight_icao': 'AFR90',\n",
       "  'flight_number': '90',\n",
       "  'dep_iata': 'CDG',\n",
       "  'dep_icao': 'LFPG',\n",
       "  'dep_terminal': '2E',\n",
       "  'dep_gate': 'L34',\n",
       "  'dep_time': '2024-01-20 13:20',\n",
       "  'dep_time_utc': '2024-01-20 12:20',\n",
       "  'dep_estimated': '2024-01-20 15:01',\n",
       "  'dep_estimated_utc': '2024-01-20 14:01',\n",
       "  'dep_actual': '2024-01-20 15:01',\n",
       "  'dep_actual_utc': '2024-01-20 14:01',\n",
       "  'arr_iata': 'MIA',\n",
       "  'arr_icao': 'KMIA',\n",
       "  'arr_terminal': 'S',\n",
       "  'arr_gate': 'J17',\n",
       "  'arr_baggage': 'J INTL',\n",
       "  'arr_time': '2024-01-20 17:30',\n",
       "  'arr_time_utc': '2024-01-20 22:30',\n",
       "  'arr_estimated': '2024-01-20 19:12',\n",
       "  'arr_estimated_utc': '2024-01-21 00:12',\n",
       "  'cs_airline_iata': None,\n",
       "  'cs_flight_number': None,\n",
       "  'cs_flight_iata': None,\n",
       "  'status': 'active',\n",
       "  'duration': 610,\n",
       "  'delayed': 101,\n",
       "  'dep_delayed': 101,\n",
       "  'arr_delayed': 102,\n",
       "  'aircraft_icao': 'B77W',\n",
       "  'arr_time_ts': 1705789800,\n",
       "  'dep_time_ts': 1705753200,\n",
       "  'arr_estimated_ts': 1705795920,\n",
       "  'dep_estimated_ts': 1705759260,\n",
       "  'dep_actual_ts': 1705759260},\n",
       " {'airline_iata': 'DL',\n",
       "  'airline_icao': 'DAL',\n",
       "  'flight_iata': 'DL8348',\n",
       "  'flight_icao': 'DAL8348',\n",
       "  'flight_number': '8348',\n",
       "  'dep_iata': 'CDG',\n",
       "  'dep_icao': 'LFPG',\n",
       "  'dep_terminal': '2E',\n",
       "  'dep_gate': 'L34',\n",
       "  'dep_time': '2024-01-20 13:20',\n",
       "  'dep_time_utc': '2024-01-20 12:20',\n",
       "  'dep_estimated': '2024-01-20 15:01',\n",
       "  'dep_estimated_utc': '2024-01-20 14:01',\n",
       "  'dep_actual': '2024-01-20 15:01',\n",
       "  'dep_actual_utc': '2024-01-20 14:01',\n",
       "  'arr_iata': 'MIA',\n",
       "  'arr_icao': 'KMIA',\n",
       "  'arr_terminal': 'S',\n",
       "  'arr_gate': 'J17',\n",
       "  'arr_baggage': 'J INTL',\n",
       "  'arr_time': '2024-01-20 17:30',\n",
       "  'arr_time_utc': '2024-01-20 22:30',\n",
       "  'arr_estimated': '2024-01-20 19:12',\n",
       "  'arr_estimated_utc': '2024-01-21 00:12',\n",
       "  'cs_airline_iata': 'AF',\n",
       "  'cs_flight_number': '90',\n",
       "  'cs_flight_iata': 'AF90',\n",
       "  'status': 'active',\n",
       "  'duration': 610,\n",
       "  'delayed': 101,\n",
       "  'dep_delayed': 101,\n",
       "  'arr_delayed': 102,\n",
       "  'aircraft_icao': None,\n",
       "  'arr_time_ts': 1705789800,\n",
       "  'dep_time_ts': 1705753200,\n",
       "  'arr_estimated_ts': 1705795920,\n",
       "  'dep_estimated_ts': 1705759260,\n",
       "  'dep_actual_ts': 1705759260},\n",
       " {'airline_iata': 'KL',\n",
       "  'airline_icao': 'KLM',\n",
       "  'flight_iata': 'KL2144',\n",
       "  'flight_icao': 'KLM2144',\n",
       "  'flight_number': '2144',\n",
       "  'dep_iata': 'CDG',\n",
       "  'dep_icao': 'LFPG',\n",
       "  'dep_terminal': '2E',\n",
       "  'dep_gate': 'L34',\n",
       "  'dep_time': '2024-01-20 13:20',\n",
       "  'dep_time_utc': '2024-01-20 12:20',\n",
       "  'dep_estimated': '2024-01-20 15:01',\n",
       "  'dep_estimated_utc': '2024-01-20 14:01',\n",
       "  'dep_actual': '2024-01-20 15:01',\n",
       "  'dep_actual_utc': '2024-01-20 14:01',\n",
       "  'arr_iata': 'MIA',\n",
       "  'arr_icao': 'KMIA',\n",
       "  'arr_terminal': 'S',\n",
       "  'arr_gate': 'J17',\n",
       "  'arr_baggage': 'J INTL',\n",
       "  'arr_time': '2024-01-20 17:30',\n",
       "  'arr_time_utc': '2024-01-20 22:30',\n",
       "  'arr_estimated': '2024-01-20 19:12',\n",
       "  'arr_estimated_utc': '2024-01-21 00:12',\n",
       "  'cs_airline_iata': 'AF',\n",
       "  'cs_flight_number': '90',\n",
       "  'cs_flight_iata': 'AF90',\n",
       "  'status': 'active',\n",
       "  'duration': 610,\n",
       "  'delayed': 101,\n",
       "  'dep_delayed': 101,\n",
       "  'arr_delayed': 102,\n",
       "  'aircraft_icao': None,\n",
       "  'arr_time_ts': 1705789800,\n",
       "  'dep_time_ts': 1705753200,\n",
       "  'arr_estimated_ts': 1705795920,\n",
       "  'dep_estimated_ts': 1705759260,\n",
       "  'dep_actual_ts': 1705759260},\n",
       " {'airline_iata': 'VS',\n",
       "  'airline_icao': 'VIR',\n",
       "  'flight_iata': 'VS6764',\n",
       "  'flight_icao': 'VIR6764',\n",
       "  'flight_number': '6764',\n",
       "  'dep_iata': 'CDG',\n",
       "  'dep_icao': 'LFPG',\n",
       "  'dep_terminal': '2E',\n",
       "  'dep_gate': 'L34',\n",
       "  'dep_time': '2024-01-20 13:20',\n",
       "  'dep_time_utc': '2024-01-20 12:20',\n",
       "  'dep_estimated': '2024-01-20 15:01',\n",
       "  'dep_estimated_utc': '2024-01-20 14:01',\n",
       "  'dep_actual': '2024-01-20 15:01',\n",
       "  'dep_actual_utc': '2024-01-20 14:01',\n",
       "  'arr_iata': 'MIA',\n",
       "  'arr_icao': 'KMIA',\n",
       "  'arr_terminal': 'S',\n",
       "  'arr_gate': 'J17',\n",
       "  'arr_baggage': 'J INTL',\n",
       "  'arr_time': '2024-01-20 17:30',\n",
       "  'arr_time_utc': '2024-01-20 22:30',\n",
       "  'arr_estimated': '2024-01-20 19:12',\n",
       "  'arr_estimated_utc': '2024-01-21 00:12',\n",
       "  'cs_airline_iata': 'AF',\n",
       "  'cs_flight_number': '90',\n",
       "  'cs_flight_iata': 'AF90',\n",
       "  'status': 'active',\n",
       "  'duration': 610,\n",
       "  'delayed': 101,\n",
       "  'dep_delayed': 101,\n",
       "  'arr_delayed': 102,\n",
       "  'aircraft_icao': None,\n",
       "  'arr_time_ts': 1705789800,\n",
       "  'dep_time_ts': 1705753200,\n",
       "  'arr_estimated_ts': 1705795920,\n",
       "  'dep_estimated_ts': 1705759260,\n",
       "  'dep_actual_ts': 1705759260},\n",
       " {'airline_iata': 'A5',\n",
       "  'airline_icao': 'HOP',\n",
       "  'flight_iata': 'A59418',\n",
       "  'flight_icao': 'HOP9418',\n",
       "  'flight_number': '9418',\n",
       "  'dep_iata': 'CDG',\n",
       "  'dep_icao': 'LFPG',\n",
       "  'dep_terminal': '2F',\n",
       "  'dep_gate': 'F21',\n",
       "  'dep_time': '2024-01-20 14:00',\n",
       "  'dep_time_utc': '2024-01-20 13:00',\n",
       "  'dep_estimated': '2024-01-20 15:03',\n",
       "  'dep_estimated_utc': '2024-01-20 14:03',\n",
       "  'dep_actual': '2024-01-20 15:03',\n",
       "  'dep_actual_utc': '2024-01-20 14:03',\n",
       "  'arr_iata': 'TLS',\n",
       "  'arr_icao': 'LFBO',\n",
       "  'arr_terminal': None,\n",
       "  'arr_gate': '02',\n",
       "  'arr_baggage': '2',\n",
       "  'arr_time': '2024-01-20 15:20',\n",
       "  'arr_time_utc': '2024-01-20 14:20',\n",
       "  'arr_estimated': '2024-01-20 16:18',\n",
       "  'arr_estimated_utc': '2024-01-20 15:18',\n",
       "  'arr_actual': '2024-01-20 16:18',\n",
       "  'arr_actual_utc': '2024-01-20 15:18',\n",
       "  'cs_airline_iata': None,\n",
       "  'cs_flight_number': None,\n",
       "  'cs_flight_iata': None,\n",
       "  'status': 'landed',\n",
       "  'duration': 80,\n",
       "  'delayed': 58,\n",
       "  'dep_delayed': 63,\n",
       "  'arr_delayed': 58,\n",
       "  'aircraft_icao': None,\n",
       "  'arr_time_ts': 1705760400,\n",
       "  'dep_time_ts': 1705755600,\n",
       "  'arr_estimated_ts': 1705763880,\n",
       "  'dep_estimated_ts': 1705759380,\n",
       "  'arr_actual_ts': 1705763880,\n",
       "  'dep_actual_ts': 1705759380},\n",
       " {'airline_iata': 'AF',\n",
       "  'airline_icao': 'AFR',\n",
       "  'flight_iata': 'AF650',\n",
       "  'flight_icao': 'AFR650',\n",
       "  'flight_number': '650',\n",
       "  'dep_iata': 'CDG',\n",
       "  'dep_icao': 'LFPG',\n",
       "  'dep_terminal': '2E',\n",
       "  'dep_gate': 'M28',\n",
       "  'dep_time': '2024-01-20 14:35',\n",
       "  'dep_time_utc': '2024-01-20 13:35',\n",
       "  'dep_estimated': '2024-01-20 15:03',\n",
       "  'dep_estimated_utc': '2024-01-20 14:03',\n",
       "  'dep_actual': '2024-01-20 15:03',\n",
       "  'dep_actual_utc': '2024-01-20 14:03',\n",
       "  'arr_iata': 'CUN',\n",
       "  'arr_icao': 'MMUN',\n",
       "  'arr_terminal': '4',\n",
       "  'arr_gate': None,\n",
       "  'arr_baggage': None,\n",
       "  'arr_time': '2024-01-20 19:50',\n",
       "  'arr_time_utc': '2024-01-21 00:50',\n",
       "  'arr_estimated': '2024-01-20 20:18',\n",
       "  'arr_estimated_utc': '2024-01-21 01:18',\n",
       "  'cs_airline_iata': None,\n",
       "  'cs_flight_number': None,\n",
       "  'cs_flight_iata': None,\n",
       "  'status': 'active',\n",
       "  'duration': 675,\n",
       "  'delayed': 28,\n",
       "  'dep_delayed': 28,\n",
       "  'arr_delayed': 28,\n",
       "  'aircraft_icao': 'B77W',\n",
       "  'arr_time_ts': 1705798200,\n",
       "  'dep_time_ts': 1705757700,\n",
       "  'arr_estimated_ts': 1705799880,\n",
       "  'dep_estimated_ts': 1705759380,\n",
       "  'dep_actual_ts': 1705759380},\n",
       " {'airline_iata': 'AF',\n",
       "  'airline_icao': 'AFR',\n",
       "  'flight_iata': 'AF9418',\n",
       "  'flight_icao': 'AFR9418',\n",
       "  'flight_number': '9418',\n",
       "  'dep_iata': 'CDG',\n",
       "  'dep_icao': 'LFPG',\n",
       "  'dep_terminal': '2F',\n",
       "  'dep_gate': 'F21',\n",
       "  'dep_time': '2024-01-20 14:00',\n",
       "  'dep_time_utc': '2024-01-20 13:00',\n",
       "  'dep_estimated': '2024-01-20 15:03',\n",
       "  'dep_estimated_utc': '2024-01-20 14:03',\n",
       "  'dep_actual': '2024-01-20 15:03',\n",
       "  'dep_actual_utc': '2024-01-20 14:03',\n",
       "  'arr_iata': 'TLS',\n",
       "  'arr_icao': 'LFBO',\n",
       "  'arr_terminal': None,\n",
       "  'arr_gate': '02',\n",
       "  'arr_baggage': '2',\n",
       "  'arr_time': '2024-01-20 15:20',\n",
       "  'arr_time_utc': '2024-01-20 14:20',\n",
       "  'arr_estimated': '2024-01-20 16:18',\n",
       "  'arr_estimated_utc': '2024-01-20 15:18',\n",
       "  'arr_actual': '2024-01-20 16:18',\n",
       "  'arr_actual_utc': '2024-01-20 15:18',\n",
       "  'cs_airline_iata': 'A5',\n",
       "  'cs_flight_number': '9418',\n",
       "  'cs_flight_iata': 'A59418',\n",
       "  'status': 'landed',\n",
       "  'duration': 80,\n",
       "  'delayed': 58,\n",
       "  'dep_delayed': 63,\n",
       "  'arr_delayed': 58,\n",
       "  'aircraft_icao': 'E170',\n",
       "  'arr_time_ts': 1705760400,\n",
       "  'dep_time_ts': 1705755600,\n",
       "  'arr_estimated_ts': 1705763880,\n",
       "  'dep_estimated_ts': 1705759380,\n",
       "  'arr_actual_ts': 1705763880,\n",
       "  'dep_actual_ts': 1705759380},\n",
       " {'airline_iata': 'AM',\n",
       "  'airline_icao': 'AMX',\n",
       "  'flight_iata': 'AM5922',\n",
       "  'flight_icao': 'AMX5922',\n",
       "  'flight_number': '5922',\n",
       "  'dep_iata': 'CDG',\n",
       "  'dep_icao': 'LFPG',\n",
       "  'dep_terminal': '2F',\n",
       "  'dep_gate': 'F21',\n",
       "  'dep_time': '2024-01-20 14:00',\n",
       "  'dep_time_utc': '2024-01-20 13:00',\n",
       "  'dep_estimated': '2024-01-20 15:03',\n",
       "  'dep_estimated_utc': '2024-01-20 14:03',\n",
       "  'dep_actual': '2024-01-20 15:03',\n",
       "  'dep_actual_utc': '2024-01-20 14:03',\n",
       "  'arr_iata': 'TLS',\n",
       "  'arr_icao': 'LFBO',\n",
       "  'arr_terminal': None,\n",
       "  'arr_gate': '02',\n",
       "  'arr_baggage': '2',\n",
       "  'arr_time': '2024-01-20 15:20',\n",
       "  'arr_time_utc': '2024-01-20 14:20',\n",
       "  'arr_estimated': '2024-01-20 16:18',\n",
       "  'arr_estimated_utc': '2024-01-20 15:18',\n",
       "  'arr_actual': '2024-01-20 16:18',\n",
       "  'arr_actual_utc': '2024-01-20 15:18',\n",
       "  'cs_airline_iata': 'A5',\n",
       "  'cs_flight_number': '9418',\n",
       "  'cs_flight_iata': 'A59418',\n",
       "  'status': 'landed',\n",
       "  'duration': 80,\n",
       "  'delayed': 58,\n",
       "  'dep_delayed': 63,\n",
       "  'arr_delayed': 58,\n",
       "  'aircraft_icao': None,\n",
       "  'arr_time_ts': 1705760400,\n",
       "  'dep_time_ts': 1705755600,\n",
       "  'arr_estimated_ts': 1705763880,\n",
       "  'dep_estimated_ts': 1705759380,\n",
       "  'arr_actual_ts': 1705763880,\n",
       "  'dep_actual_ts': 1705759380},\n",
       " {'airline_iata': 'AZ',\n",
       "  'airline_icao': 'ITY',\n",
       "  'flight_iata': 'AZ2636',\n",
       "  'flight_icao': 'ITY2636',\n",
       "  'flight_number': '2636',\n",
       "  'dep_iata': 'CDG',\n",
       "  'dep_icao': 'LFPG',\n",
       "  'dep_terminal': '2F',\n",
       "  'dep_gate': 'F21',\n",
       "  'dep_time': '2024-01-20 14:00',\n",
       "  'dep_time_utc': '2024-01-20 13:00',\n",
       "  'dep_estimated': '2024-01-20 15:03',\n",
       "  'dep_estimated_utc': '2024-01-20 14:03',\n",
       "  'dep_actual': '2024-01-20 15:03',\n",
       "  'dep_actual_utc': '2024-01-20 14:03',\n",
       "  'arr_iata': 'TLS',\n",
       "  'arr_icao': 'LFBO',\n",
       "  'arr_terminal': None,\n",
       "  'arr_gate': '02',\n",
       "  'arr_baggage': '2',\n",
       "  'arr_time': '2024-01-20 15:20',\n",
       "  'arr_time_utc': '2024-01-20 14:20',\n",
       "  'arr_estimated': '2024-01-20 16:18',\n",
       "  'arr_estimated_utc': '2024-01-20 15:18',\n",
       "  'arr_actual': '2024-01-20 16:18',\n",
       "  'arr_actual_utc': '2024-01-20 15:18',\n",
       "  'cs_airline_iata': 'A5',\n",
       "  'cs_flight_number': '9418',\n",
       "  'cs_flight_iata': 'A59418',\n",
       "  'status': 'landed',\n",
       "  'duration': 80,\n",
       "  'delayed': 58,\n",
       "  'dep_delayed': 63,\n",
       "  'arr_delayed': 58,\n",
       "  'aircraft_icao': None,\n",
       "  'arr_time_ts': 1705760400,\n",
       "  'dep_time_ts': 1705755600,\n",
       "  'arr_estimated_ts': 1705763880,\n",
       "  'dep_estimated_ts': 1705759380,\n",
       "  'arr_actual_ts': 1705763880,\n",
       "  'dep_actual_ts': 1705759380},\n",
       " {'airline_iata': 'DL',\n",
       "  'airline_icao': 'DAL',\n",
       "  'flight_iata': 'DL8250',\n",
       "  'flight_icao': 'DAL8250',\n",
       "  'flight_number': '8250',\n",
       "  'dep_iata': 'CDG',\n",
       "  'dep_icao': 'LFPG',\n",
       "  'dep_terminal': '2F',\n",
       "  'dep_gate': 'F21',\n",
       "  'dep_time': '2024-01-20 14:00',\n",
       "  'dep_time_utc': '2024-01-20 13:00',\n",
       "  'dep_estimated': '2024-01-20 15:03',\n",
       "  'dep_estimated_utc': '2024-01-20 14:03',\n",
       "  'dep_actual': '2024-01-20 15:03',\n",
       "  'dep_actual_utc': '2024-01-20 14:03',\n",
       "  'arr_iata': 'TLS',\n",
       "  'arr_icao': 'LFBO',\n",
       "  'arr_terminal': None,\n",
       "  'arr_gate': '02',\n",
       "  'arr_baggage': '2',\n",
       "  'arr_time': '2024-01-20 15:20',\n",
       "  'arr_time_utc': '2024-01-20 14:20',\n",
       "  'arr_estimated': '2024-01-20 16:18',\n",
       "  'arr_estimated_utc': '2024-01-20 15:18',\n",
       "  'arr_actual': '2024-01-20 16:18',\n",
       "  'arr_actual_utc': '2024-01-20 15:18',\n",
       "  'cs_airline_iata': 'A5',\n",
       "  'cs_flight_number': '9418',\n",
       "  'cs_flight_iata': 'A59418',\n",
       "  'status': 'landed',\n",
       "  'duration': 80,\n",
       "  'delayed': 58,\n",
       "  'dep_delayed': 63,\n",
       "  'arr_delayed': 58,\n",
       "  'aircraft_icao': None,\n",
       "  'arr_time_ts': 1705760400,\n",
       "  'dep_time_ts': 1705755600,\n",
       "  'arr_estimated_ts': 1705763880,\n",
       "  'dep_estimated_ts': 1705759380,\n",
       "  'arr_actual_ts': 1705763880,\n",
       "  'dep_actual_ts': 1705759380},\n",
       " {'airline_iata': 'EY',\n",
       "  'airline_icao': 'ETD',\n",
       "  'flight_iata': 'EY5995',\n",
       "  'flight_icao': 'ETD5995',\n",
       "  'flight_number': '5995',\n",
       "  'dep_iata': 'CDG',\n",
       "  'dep_icao': 'LFPG',\n",
       "  'dep_terminal': '2F',\n",
       "  'dep_gate': 'F21',\n",
       "  'dep_time': '2024-01-20 14:00',\n",
       "  'dep_time_utc': '2024-01-20 13:00',\n",
       "  'dep_estimated': '2024-01-20 15:03',\n",
       "  'dep_estimated_utc': '2024-01-20 14:03',\n",
       "  'dep_actual': '2024-01-20 15:03',\n",
       "  'dep_actual_utc': '2024-01-20 14:03',\n",
       "  'arr_iata': 'TLS',\n",
       "  'arr_icao': 'LFBO',\n",
       "  'arr_terminal': None,\n",
       "  'arr_gate': '02',\n",
       "  'arr_baggage': '2',\n",
       "  'arr_time': '2024-01-20 15:20',\n",
       "  'arr_time_utc': '2024-01-20 14:20',\n",
       "  'arr_estimated': '2024-01-20 16:18',\n",
       "  'arr_estimated_utc': '2024-01-20 15:18',\n",
       "  'arr_actual': '2024-01-20 16:18',\n",
       "  'arr_actual_utc': '2024-01-20 15:18',\n",
       "  'cs_airline_iata': 'A5',\n",
       "  'cs_flight_number': '9418',\n",
       "  'cs_flight_iata': 'A59418',\n",
       "  'status': 'landed',\n",
       "  'duration': 80,\n",
       "  'delayed': 58,\n",
       "  'dep_delayed': 63,\n",
       "  'arr_delayed': 58,\n",
       "  'aircraft_icao': None,\n",
       "  'arr_time_ts': 1705760400,\n",
       "  'dep_time_ts': 1705755600,\n",
       "  'arr_estimated_ts': 1705763880,\n",
       "  'dep_estimated_ts': 1705759380,\n",
       "  'arr_actual_ts': 1705763880,\n",
       "  'dep_actual_ts': 1705759380},\n",
       " {'airline_iata': 'KL',\n",
       "  'airline_icao': 'KLM',\n",
       "  'flight_iata': 'KL2158',\n",
       "  'flight_icao': 'KLM2158',\n",
       "  'flight_number': '2158',\n",
       "  'dep_iata': 'CDG',\n",
       "  'dep_icao': 'LFPG',\n",
       "  'dep_terminal': '2E',\n",
       "  'dep_gate': 'M28',\n",
       "  'dep_time': '2024-01-20 14:35',\n",
       "  'dep_time_utc': '2024-01-20 13:35',\n",
       "  'dep_estimated': '2024-01-20 15:03',\n",
       "  'dep_estimated_utc': '2024-01-20 14:03',\n",
       "  'dep_actual': '2024-01-20 15:03',\n",
       "  'dep_actual_utc': '2024-01-20 14:03',\n",
       "  'arr_iata': 'CUN',\n",
       "  'arr_icao': 'MMUN',\n",
       "  'arr_terminal': '4',\n",
       "  'arr_gate': None,\n",
       "  'arr_baggage': None,\n",
       "  'arr_time': '2024-01-20 19:50',\n",
       "  'arr_time_utc': '2024-01-21 00:50',\n",
       "  'arr_estimated': '2024-01-20 20:18',\n",
       "  'arr_estimated_utc': '2024-01-21 01:18',\n",
       "  'cs_airline_iata': 'AF',\n",
       "  'cs_flight_number': '650',\n",
       "  'cs_flight_iata': 'AF650',\n",
       "  'status': 'active',\n",
       "  'duration': 675,\n",
       "  'delayed': 28,\n",
       "  'dep_delayed': 28,\n",
       "  'arr_delayed': 28,\n",
       "  'aircraft_icao': None,\n",
       "  'arr_time_ts': 1705798200,\n",
       "  'dep_time_ts': 1705757700,\n",
       "  'arr_estimated_ts': 1705799880,\n",
       "  'dep_estimated_ts': 1705759380,\n",
       "  'dep_actual_ts': 1705759380},\n",
       " {'airline_iata': 'MK',\n",
       "  'airline_icao': 'MAU',\n",
       "  'flight_iata': 'MK9136',\n",
       "  'flight_icao': 'MAU9136',\n",
       "  'flight_number': '9136',\n",
       "  'dep_iata': 'CDG',\n",
       "  'dep_icao': 'LFPG',\n",
       "  'dep_terminal': '2F',\n",
       "  'dep_gate': 'F21',\n",
       "  'dep_time': '2024-01-20 14:00',\n",
       "  'dep_time_utc': '2024-01-20 13:00',\n",
       "  'dep_estimated': '2024-01-20 15:03',\n",
       "  'dep_estimated_utc': '2024-01-20 14:03',\n",
       "  'dep_actual': '2024-01-20 15:03',\n",
       "  'dep_actual_utc': '2024-01-20 14:03',\n",
       "  'arr_iata': 'TLS',\n",
       "  'arr_icao': 'LFBO',\n",
       "  'arr_terminal': None,\n",
       "  'arr_gate': '02',\n",
       "  'arr_baggage': '2',\n",
       "  'arr_time': '2024-01-20 15:20',\n",
       "  'arr_time_utc': '2024-01-20 14:20',\n",
       "  'arr_estimated': '2024-01-20 16:18',\n",
       "  'arr_estimated_utc': '2024-01-20 15:18',\n",
       "  'arr_actual': '2024-01-20 16:18',\n",
       "  'arr_actual_utc': '2024-01-20 15:18',\n",
       "  'cs_airline_iata': 'A5',\n",
       "  'cs_flight_number': '9418',\n",
       "  'cs_flight_iata': 'A59418',\n",
       "  'status': 'landed',\n",
       "  'duration': 80,\n",
       "  'delayed': 58,\n",
       "  'dep_delayed': 63,\n",
       "  'arr_delayed': 58,\n",
       "  'aircraft_icao': None,\n",
       "  'arr_time_ts': 1705760400,\n",
       "  'dep_time_ts': 1705755600,\n",
       "  'arr_estimated_ts': 1705763880,\n",
       "  'dep_estimated_ts': 1705759380,\n",
       "  'arr_actual_ts': 1705763880,\n",
       "  'dep_actual_ts': 1705759380},\n",
       " {'airline_iata': 'VS',\n",
       "  'airline_icao': 'VIR',\n",
       "  'flight_iata': 'VS6809',\n",
       "  'flight_icao': 'VIR6809',\n",
       "  'flight_number': '6809',\n",
       "  'dep_iata': 'CDG',\n",
       "  'dep_icao': 'LFPG',\n",
       "  'dep_terminal': '2E',\n",
       "  'dep_gate': 'M28',\n",
       "  'dep_time': '2024-01-20 14:35',\n",
       "  'dep_time_utc': '2024-01-20 13:35',\n",
       "  'dep_estimated': '2024-01-20 15:03',\n",
       "  'dep_estimated_utc': '2024-01-20 14:03',\n",
       "  'dep_actual': '2024-01-20 15:03',\n",
       "  'dep_actual_utc': '2024-01-20 14:03',\n",
       "  'arr_iata': 'CUN',\n",
       "  'arr_icao': 'MMUN',\n",
       "  'arr_terminal': '4',\n",
       "  'arr_gate': None,\n",
       "  'arr_baggage': None,\n",
       "  'arr_time': '2024-01-20 19:50',\n",
       "  'arr_time_utc': '2024-01-21 00:50',\n",
       "  'arr_estimated': '2024-01-20 20:18',\n",
       "  'arr_estimated_utc': '2024-01-21 01:18',\n",
       "  'cs_airline_iata': 'AF',\n",
       "  'cs_flight_number': '650',\n",
       "  'cs_flight_iata': 'AF650',\n",
       "  'status': 'active',\n",
       "  'duration': 675,\n",
       "  'delayed': 28,\n",
       "  'dep_delayed': 28,\n",
       "  'arr_delayed': 28,\n",
       "  'aircraft_icao': None,\n",
       "  'arr_time_ts': 1705798200,\n",
       "  'dep_time_ts': 1705757700,\n",
       "  'arr_estimated_ts': 1705799880,\n",
       "  'dep_estimated_ts': 1705759380,\n",
       "  'dep_actual_ts': 1705759380},\n",
       " {'airline_iata': '2L',\n",
       "  'airline_icao': 'OAW',\n",
       "  'flight_iata': '2L639',\n",
       "  'flight_icao': 'OAW639',\n",
       "  'flight_number': '639',\n",
       "  'dep_iata': 'CDG',\n",
       "  'dep_icao': 'LFPG',\n",
       "  'dep_terminal': '1',\n",
       "  'dep_gate': '61',\n",
       "  'dep_time': '2024-01-20 15:00',\n",
       "  'dep_time_utc': '2024-01-20 14:00',\n",
       "  'dep_estimated': '2024-01-20 15:05',\n",
       "  'dep_estimated_utc': '2024-01-20 14:05',\n",
       "  'dep_actual': '2024-01-20 15:05',\n",
       "  'dep_actual_utc': '2024-01-20 14:05',\n",
       "  'arr_iata': 'ZRH',\n",
       "  'arr_icao': 'LSZH',\n",
       "  'arr_terminal': '1',\n",
       "  'arr_gate': None,\n",
       "  'arr_baggage': '14',\n",
       "  'arr_time': '2024-01-20 16:15',\n",
       "  'arr_time_utc': '2024-01-20 15:15',\n",
       "  'arr_estimated': '2024-01-20 16:02',\n",
       "  'arr_estimated_utc': '2024-01-20 15:02',\n",
       "  'arr_actual': '2024-01-20 16:02',\n",
       "  'arr_actual_utc': '2024-01-20 15:02',\n",
       "  'cs_airline_iata': None,\n",
       "  'cs_flight_number': None,\n",
       "  'cs_flight_iata': None,\n",
       "  'status': 'landed',\n",
       "  'duration': 75,\n",
       "  'delayed': 5,\n",
       "  'dep_delayed': 5,\n",
       "  'arr_delayed': None,\n",
       "  'aircraft_icao': None,\n",
       "  'arr_time_ts': 1705763700,\n",
       "  'dep_time_ts': 1705759200,\n",
       "  'arr_estimated_ts': 1705762920,\n",
       "  'dep_estimated_ts': 1705759500,\n",
       "  'arr_actual_ts': 1705762920,\n",
       "  'dep_actual_ts': 1705759500},\n",
       " {'airline_iata': 'LA',\n",
       "  'airline_icao': 'LAN',\n",
       "  'flight_iata': 'LA8790',\n",
       "  'flight_icao': 'LAN8790',\n",
       "  'flight_number': '8790',\n",
       "  'dep_iata': 'CDG',\n",
       "  'dep_icao': 'LFPG',\n",
       "  'dep_terminal': '1',\n",
       "  'dep_gate': '61',\n",
       "  'dep_time': '2024-01-20 15:00',\n",
       "  'dep_time_utc': '2024-01-20 14:00',\n",
       "  'dep_estimated': '2024-01-20 15:05',\n",
       "  'dep_estimated_utc': '2024-01-20 14:05',\n",
       "  'dep_actual': '2024-01-20 15:05',\n",
       "  'dep_actual_utc': '2024-01-20 14:05',\n",
       "  'arr_iata': 'ZRH',\n",
       "  'arr_icao': 'LSZH',\n",
       "  'arr_terminal': '1',\n",
       "  'arr_gate': None,\n",
       "  'arr_baggage': '14',\n",
       "  'arr_time': '2024-01-20 16:15',\n",
       "  'arr_time_utc': '2024-01-20 15:15',\n",
       "  'arr_estimated': '2024-01-20 16:02',\n",
       "  'arr_estimated_utc': '2024-01-20 15:02',\n",
       "  'arr_actual': '2024-01-20 16:02',\n",
       "  'arr_actual_utc': '2024-01-20 15:02',\n",
       "  'cs_airline_iata': '2L',\n",
       "  'cs_flight_number': '639',\n",
       "  'cs_flight_iata': '2L639',\n",
       "  'status': 'landed',\n",
       "  'duration': 75,\n",
       "  'delayed': 5,\n",
       "  'dep_delayed': 5,\n",
       "  'arr_delayed': None,\n",
       "  'aircraft_icao': None,\n",
       "  'arr_time_ts': 1705763700,\n",
       "  'dep_time_ts': 1705759200,\n",
       "  'arr_estimated_ts': 1705762920,\n",
       "  'dep_estimated_ts': 1705759500,\n",
       "  'arr_actual_ts': 1705762920,\n",
       "  'dep_actual_ts': 1705759500},\n",
       " {'airline_iata': 'LX',\n",
       "  'airline_icao': 'SWR',\n",
       "  'flight_iata': 'LX639',\n",
       "  'flight_icao': 'SWR639',\n",
       "  'flight_number': '639',\n",
       "  'dep_iata': 'CDG',\n",
       "  'dep_icao': 'LFPG',\n",
       "  'dep_terminal': '1',\n",
       "  'dep_gate': '61',\n",
       "  'dep_time': '2024-01-20 15:00',\n",
       "  'dep_time_utc': '2024-01-20 14:00',\n",
       "  'dep_estimated': '2024-01-20 15:05',\n",
       "  'dep_estimated_utc': '2024-01-20 14:05',\n",
       "  'dep_actual': '2024-01-20 15:05',\n",
       "  'dep_actual_utc': '2024-01-20 14:05',\n",
       "  'arr_iata': 'ZRH',\n",
       "  'arr_icao': 'LSZH',\n",
       "  'arr_terminal': '1',\n",
       "  'arr_gate': None,\n",
       "  'arr_baggage': '14',\n",
       "  'arr_time': '2024-01-20 16:15',\n",
       "  'arr_time_utc': '2024-01-20 15:15',\n",
       "  'arr_estimated': '2024-01-20 16:02',\n",
       "  'arr_estimated_utc': '2024-01-20 15:02',\n",
       "  'arr_actual': '2024-01-20 16:02',\n",
       "  'arr_actual_utc': '2024-01-20 15:02',\n",
       "  'cs_airline_iata': '2L',\n",
       "  'cs_flight_number': '639',\n",
       "  'cs_flight_iata': '2L639',\n",
       "  'status': 'landed',\n",
       "  'duration': 75,\n",
       "  'delayed': 5,\n",
       "  'dep_delayed': 5,\n",
       "  'arr_delayed': None,\n",
       "  'aircraft_icao': 'BCS3',\n",
       "  'arr_time_ts': 1705763700,\n",
       "  'dep_time_ts': 1705759200,\n",
       "  'arr_estimated_ts': 1705762920,\n",
       "  'dep_estimated_ts': 1705759500,\n",
       "  'arr_actual_ts': 1705762920,\n",
       "  'dep_actual_ts': 1705759500},\n",
       " {'airline_iata': 'AM',\n",
       "  'airline_icao': 'AMX',\n",
       "  'flight_iata': 'AM7004',\n",
       "  'flight_icao': 'AMX7004',\n",
       "  'flight_number': '7004',\n",
       "  'dep_iata': 'CDG',\n",
       "  'dep_icao': 'LFPG',\n",
       "  'dep_terminal': '2D',\n",
       "  'dep_gate': 'D56',\n",
       "  'dep_time': '2024-01-20 15:00',\n",
       "  'dep_time_utc': '2024-01-20 14:00',\n",
       "  'dep_estimated': '2024-01-20 15:09',\n",
       "  'dep_estimated_utc': '2024-01-20 14:09',\n",
       "  'dep_actual': '2024-01-20 15:09',\n",
       "  'dep_actual_utc': '2024-01-20 14:09',\n",
       "  'arr_iata': 'PRG',\n",
       "  'arr_icao': 'LKPR',\n",
       "  'arr_terminal': '2',\n",
       "  'arr_gate': None,\n",
       "  'arr_baggage': '24',\n",
       "  'arr_time': '2024-01-20 16:45',\n",
       "  'arr_time_utc': '2024-01-20 15:45',\n",
       "  'arr_estimated': '2024-01-20 16:59',\n",
       "  'arr_estimated_utc': '2024-01-20 15:59',\n",
       "  'cs_airline_iata': 'OK',\n",
       "  'cs_flight_number': '761',\n",
       "  'cs_flight_iata': 'OK761',\n",
       "  'status': 'active',\n",
       "  'duration': 105,\n",
       "  'delayed': 9,\n",
       "  'dep_delayed': 9,\n",
       "  'arr_delayed': 14,\n",
       "  'aircraft_icao': None,\n",
       "  'arr_time_ts': 1705765500,\n",
       "  'dep_time_ts': 1705759200,\n",
       "  'arr_estimated_ts': 1705766340,\n",
       "  'dep_estimated_ts': 1705759740,\n",
       "  'dep_actual_ts': 1705759740},\n",
       " {'airline_iata': 'CI',\n",
       "  'airline_icao': 'CAL',\n",
       "  'flight_iata': 'CI9081',\n",
       "  'flight_icao': 'CAL9081',\n",
       "  'flight_number': '9081',\n",
       "  'dep_iata': 'CDG',\n",
       "  'dep_icao': 'LFPG',\n",
       "  'dep_terminal': '2D',\n",
       "  'dep_gate': 'D56',\n",
       "  'dep_time': '2024-01-20 15:00',\n",
       "  'dep_time_utc': '2024-01-20 14:00',\n",
       "  'dep_estimated': '2024-01-20 15:09',\n",
       "  'dep_estimated_utc': '2024-01-20 14:09',\n",
       "  'dep_actual': '2024-01-20 15:09',\n",
       "  'dep_actual_utc': '2024-01-20 14:09',\n",
       "  'arr_iata': 'PRG',\n",
       "  'arr_icao': 'LKPR',\n",
       "  'arr_terminal': '2',\n",
       "  'arr_gate': None,\n",
       "  'arr_baggage': '24',\n",
       "  'arr_time': '2024-01-20 16:45',\n",
       "  'arr_time_utc': '2024-01-20 15:45',\n",
       "  'arr_estimated': '2024-01-20 16:59',\n",
       "  'arr_estimated_utc': '2024-01-20 15:59',\n",
       "  'cs_airline_iata': 'OK',\n",
       "  'cs_flight_number': '761',\n",
       "  'cs_flight_iata': 'OK761',\n",
       "  'status': 'active',\n",
       "  'duration': 105,\n",
       "  'delayed': 9,\n",
       "  'dep_delayed': 9,\n",
       "  'arr_delayed': 14,\n",
       "  'aircraft_icao': None,\n",
       "  'arr_time_ts': 1705765500,\n",
       "  'dep_time_ts': 1705759200,\n",
       "  'arr_estimated_ts': 1705766340,\n",
       "  'dep_estimated_ts': 1705759740,\n",
       "  'dep_actual_ts': 1705759740},\n",
       " {'airline_iata': 'CZ',\n",
       "  'airline_icao': 'CSN',\n",
       "  'flight_iata': 'CZ7304',\n",
       "  'flight_icao': 'CSN7304',\n",
       "  'flight_number': '7304',\n",
       "  'dep_iata': 'CDG',\n",
       "  'dep_icao': 'LFPG',\n",
       "  'dep_terminal': '2D',\n",
       "  'dep_gate': 'D56',\n",
       "  'dep_time': '2024-01-20 15:00',\n",
       "  'dep_time_utc': '2024-01-20 14:00',\n",
       "  'dep_estimated': '2024-01-20 15:09',\n",
       "  'dep_estimated_utc': '2024-01-20 14:09',\n",
       "  'dep_actual': '2024-01-20 15:09',\n",
       "  'dep_actual_utc': '2024-01-20 14:09',\n",
       "  'arr_iata': 'PRG',\n",
       "  'arr_icao': 'LKPR',\n",
       "  'arr_terminal': '2',\n",
       "  'arr_gate': None,\n",
       "  'arr_baggage': '24',\n",
       "  'arr_time': '2024-01-20 16:45',\n",
       "  'arr_time_utc': '2024-01-20 15:45',\n",
       "  'arr_estimated': '2024-01-20 16:59',\n",
       "  'arr_estimated_utc': '2024-01-20 15:59',\n",
       "  'cs_airline_iata': 'OK',\n",
       "  'cs_flight_number': '761',\n",
       "  'cs_flight_iata': 'OK761',\n",
       "  'status': 'active',\n",
       "  'duration': 105,\n",
       "  'delayed': 9,\n",
       "  'dep_delayed': 9,\n",
       "  'arr_delayed': 14,\n",
       "  'aircraft_icao': None,\n",
       "  'arr_time_ts': 1705765500,\n",
       "  'dep_time_ts': 1705759200,\n",
       "  'arr_estimated_ts': 1705766340,\n",
       "  'dep_estimated_ts': 1705759740,\n",
       "  'dep_actual_ts': 1705759740},\n",
       " {'airline_iata': 'DL',\n",
       "  'airline_icao': 'DAL',\n",
       "  'flight_iata': 'DL6565',\n",
       "  'flight_icao': 'DAL6565',\n",
       "  'flight_number': '6565',\n",
       "  'dep_iata': 'CDG',\n",
       "  'dep_icao': 'LFPG',\n",
       "  'dep_terminal': '2D',\n",
       "  'dep_gate': 'D56',\n",
       "  'dep_time': '2024-01-20 15:00',\n",
       "  'dep_time_utc': '2024-01-20 14:00',\n",
       "  'dep_estimated': '2024-01-20 15:09',\n",
       "  'dep_estimated_utc': '2024-01-20 14:09',\n",
       "  'dep_actual': '2024-01-20 15:09',\n",
       "  'dep_actual_utc': '2024-01-20 14:09',\n",
       "  'arr_iata': 'PRG',\n",
       "  'arr_icao': 'LKPR',\n",
       "  'arr_terminal': '2',\n",
       "  'arr_gate': None,\n",
       "  'arr_baggage': '24',\n",
       "  'arr_time': '2024-01-20 16:45',\n",
       "  'arr_time_utc': '2024-01-20 15:45',\n",
       "  'arr_estimated': '2024-01-20 16:59',\n",
       "  'arr_estimated_utc': '2024-01-20 15:59',\n",
       "  'cs_airline_iata': 'OK',\n",
       "  'cs_flight_number': '761',\n",
       "  'cs_flight_iata': 'OK761',\n",
       "  'status': 'active',\n",
       "  'duration': 105,\n",
       "  'delayed': 9,\n",
       "  'dep_delayed': 9,\n",
       "  'arr_delayed': 14,\n",
       "  'aircraft_icao': None,\n",
       "  'arr_time_ts': 1705765500,\n",
       "  'dep_time_ts': 1705759200,\n",
       "  'arr_estimated_ts': 1705766340,\n",
       "  'dep_estimated_ts': 1705759740,\n",
       "  'dep_actual_ts': 1705759740},\n",
       " {'airline_iata': 'ME',\n",
       "  'airline_icao': 'MEA',\n",
       "  'flight_iata': 'ME4761',\n",
       "  'flight_icao': 'MEA4761',\n",
       "  'flight_number': '4761',\n",
       "  'dep_iata': 'CDG',\n",
       "  'dep_icao': 'LFPG',\n",
       "  'dep_terminal': '2D',\n",
       "  'dep_gate': 'D56',\n",
       "  'dep_time': '2024-01-20 15:00',\n",
       "  'dep_time_utc': '2024-01-20 14:00',\n",
       "  'dep_estimated': '2024-01-20 15:09',\n",
       "  'dep_estimated_utc': '2024-01-20 14:09',\n",
       "  'dep_actual': '2024-01-20 15:09',\n",
       "  'dep_actual_utc': '2024-01-20 14:09',\n",
       "  'arr_iata': 'PRG',\n",
       "  'arr_icao': 'LKPR',\n",
       "  'arr_terminal': '2',\n",
       "  'arr_gate': None,\n",
       "  'arr_baggage': '24',\n",
       "  'arr_time': '2024-01-20 16:45',\n",
       "  'arr_time_utc': '2024-01-20 15:45',\n",
       "  'arr_estimated': '2024-01-20 16:59',\n",
       "  'arr_estimated_utc': '2024-01-20 15:59',\n",
       "  'cs_airline_iata': 'OK',\n",
       "  'cs_flight_number': '761',\n",
       "  'cs_flight_iata': 'OK761',\n",
       "  'status': 'active',\n",
       "  'duration': 105,\n",
       "  'delayed': 9,\n",
       "  'dep_delayed': 9,\n",
       "  'arr_delayed': 14,\n",
       "  'aircraft_icao': None,\n",
       "  'arr_time_ts': 1705765500,\n",
       "  'dep_time_ts': 1705759200,\n",
       "  'arr_estimated_ts': 1705766340,\n",
       "  'dep_estimated_ts': 1705759740,\n",
       "  'dep_actual_ts': 1705759740},\n",
       " {'airline_iata': 'MU',\n",
       "  'airline_icao': 'CES',\n",
       "  'flight_iata': 'MU4999',\n",
       "  'flight_icao': 'CES4999',\n",
       "  'flight_number': '4999',\n",
       "  'dep_iata': 'CDG',\n",
       "  'dep_icao': 'LFPG',\n",
       "  'dep_terminal': '2D',\n",
       "  'dep_gate': 'D56',\n",
       "  'dep_time': '2024-01-20 15:00',\n",
       "  'dep_time_utc': '2024-01-20 14:00',\n",
       "  'dep_estimated': '2024-01-20 15:09',\n",
       "  'dep_estimated_utc': '2024-01-20 14:09',\n",
       "  'dep_actual': '2024-01-20 15:09',\n",
       "  'dep_actual_utc': '2024-01-20 14:09',\n",
       "  'arr_iata': 'PRG',\n",
       "  'arr_icao': 'LKPR',\n",
       "  'arr_terminal': '2',\n",
       "  'arr_gate': None,\n",
       "  'arr_baggage': '24',\n",
       "  'arr_time': '2024-01-20 16:45',\n",
       "  'arr_time_utc': '2024-01-20 15:45',\n",
       "  'arr_estimated': '2024-01-20 16:59',\n",
       "  'arr_estimated_utc': '2024-01-20 15:59',\n",
       "  'cs_airline_iata': 'OK',\n",
       "  'cs_flight_number': '761',\n",
       "  'cs_flight_iata': 'OK761',\n",
       "  'status': 'active',\n",
       "  'duration': 105,\n",
       "  'delayed': 9,\n",
       "  'dep_delayed': 9,\n",
       "  'arr_delayed': 14,\n",
       "  'aircraft_icao': None,\n",
       "  'arr_time_ts': 1705765500,\n",
       "  'dep_time_ts': 1705759200,\n",
       "  'arr_estimated_ts': 1705766340,\n",
       "  'dep_estimated_ts': 1705759740,\n",
       "  'dep_actual_ts': 1705759740},\n",
       " {'airline_iata': 'OK',\n",
       "  'airline_icao': 'CSA',\n",
       "  'flight_iata': 'OK761',\n",
       "  'flight_icao': 'CSA761',\n",
       "  'flight_number': '761',\n",
       "  'dep_iata': 'CDG',\n",
       "  'dep_icao': 'LFPG',\n",
       "  'dep_terminal': '2D',\n",
       "  'dep_gate': 'D56',\n",
       "  'dep_time': '2024-01-20 15:00',\n",
       "  'dep_time_utc': '2024-01-20 14:00',\n",
       "  'dep_estimated': '2024-01-20 15:09',\n",
       "  'dep_estimated_utc': '2024-01-20 14:09',\n",
       "  'dep_actual': '2024-01-20 15:09',\n",
       "  'dep_actual_utc': '2024-01-20 14:09',\n",
       "  'arr_iata': 'PRG',\n",
       "  'arr_icao': 'LKPR',\n",
       "  'arr_terminal': '2',\n",
       "  'arr_gate': None,\n",
       "  'arr_baggage': '24',\n",
       "  'arr_time': '2024-01-20 16:45',\n",
       "  'arr_time_utc': '2024-01-20 15:45',\n",
       "  'arr_estimated': '2024-01-20 16:59',\n",
       "  'arr_estimated_utc': '2024-01-20 15:59',\n",
       "  'cs_airline_iata': None,\n",
       "  'cs_flight_number': None,\n",
       "  'cs_flight_iata': None,\n",
       "  'status': 'active',\n",
       "  'duration': 105,\n",
       "  'delayed': 9,\n",
       "  'dep_delayed': 9,\n",
       "  'arr_delayed': 14,\n",
       "  'aircraft_icao': 'A320',\n",
       "  'arr_time_ts': 1705765500,\n",
       "  'dep_time_ts': 1705759200,\n",
       "  'arr_estimated_ts': 1705766340,\n",
       "  'dep_estimated_ts': 1705759740,\n",
       "  'dep_actual_ts': 1705759740},\n",
       " {'airline_iata': 'QS',\n",
       "  'airline_icao': 'TVS',\n",
       "  'flight_iata': 'QS8761',\n",
       "  'flight_icao': 'TVS8761',\n",
       "  'flight_number': '8761',\n",
       "  'dep_iata': 'CDG',\n",
       "  'dep_icao': 'LFPG',\n",
       "  'dep_terminal': '2D',\n",
       "  'dep_gate': 'D56',\n",
       "  'dep_time': '2024-01-20 15:00',\n",
       "  'dep_time_utc': '2024-01-20 14:00',\n",
       "  'dep_estimated': '2024-01-20 15:09',\n",
       "  'dep_estimated_utc': '2024-01-20 14:09',\n",
       "  'dep_actual': '2024-01-20 15:09',\n",
       "  'dep_actual_utc': '2024-01-20 14:09',\n",
       "  'arr_iata': 'PRG',\n",
       "  'arr_icao': 'LKPR',\n",
       "  'arr_terminal': '2',\n",
       "  'arr_gate': None,\n",
       "  'arr_baggage': '24',\n",
       "  'arr_time': '2024-01-20 16:45',\n",
       "  'arr_time_utc': '2024-01-20 15:45',\n",
       "  'arr_estimated': '2024-01-20 16:59',\n",
       "  'arr_estimated_utc': '2024-01-20 15:59',\n",
       "  'cs_airline_iata': 'OK',\n",
       "  'cs_flight_number': '761',\n",
       "  'cs_flight_iata': 'OK761',\n",
       "  'status': 'active',\n",
       "  'duration': 105,\n",
       "  'delayed': 9,\n",
       "  'dep_delayed': 9,\n",
       "  'arr_delayed': 14,\n",
       "  'aircraft_icao': None,\n",
       "  'arr_time_ts': 1705765500,\n",
       "  'dep_time_ts': 1705759200,\n",
       "  'arr_estimated_ts': 1705766340,\n",
       "  'dep_estimated_ts': 1705759740,\n",
       "  'dep_actual_ts': 1705759740},\n",
       " {'airline_iata': 'SV',\n",
       "  'airline_icao': 'SVA',\n",
       "  'flight_iata': 'SV6041',\n",
       "  'flight_icao': 'SVA6041',\n",
       "  'flight_number': '6041',\n",
       "  'dep_iata': 'CDG',\n",
       "  'dep_icao': 'LFPG',\n",
       "  'dep_terminal': '2D',\n",
       "  'dep_gate': 'D56',\n",
       "  'dep_time': '2024-01-20 15:00',\n",
       "  'dep_time_utc': '2024-01-20 14:00',\n",
       "  'dep_estimated': '2024-01-20 15:09',\n",
       "  'dep_estimated_utc': '2024-01-20 14:09',\n",
       "  'dep_actual': '2024-01-20 15:09',\n",
       "  'dep_actual_utc': '2024-01-20 14:09',\n",
       "  'arr_iata': 'PRG',\n",
       "  'arr_icao': 'LKPR',\n",
       "  'arr_terminal': '2',\n",
       "  'arr_gate': None,\n",
       "  'arr_baggage': '24',\n",
       "  'arr_time': '2024-01-20 16:45',\n",
       "  'arr_time_utc': '2024-01-20 15:45',\n",
       "  'arr_estimated': '2024-01-20 16:59',\n",
       "  'arr_estimated_utc': '2024-01-20 15:59',\n",
       "  'cs_airline_iata': 'OK',\n",
       "  'cs_flight_number': '761',\n",
       "  'cs_flight_iata': 'OK761',\n",
       "  'status': 'active',\n",
       "  'duration': 105,\n",
       "  'delayed': 9,\n",
       "  'dep_delayed': 9,\n",
       "  'arr_delayed': 14,\n",
       "  'aircraft_icao': None,\n",
       "  'arr_time_ts': 1705765500,\n",
       "  'dep_time_ts': 1705759200,\n",
       "  'arr_estimated_ts': 1705766340,\n",
       "  'dep_estimated_ts': 1705759740,\n",
       "  'dep_actual_ts': 1705759740},\n",
       " {'airline_iata': 'AF',\n",
       "  'airline_icao': 'AFR',\n",
       "  'flight_iata': 'AF1196',\n",
       "  'flight_icao': 'AFR1196',\n",
       "  'flight_number': '1196',\n",
       "  'dep_iata': 'CDG',\n",
       "  'dep_icao': 'LFPG',\n",
       "  'dep_terminal': '2F',\n",
       "  'dep_gate': None,\n",
       "  'dep_time': '2024-01-20 15:10',\n",
       "  'dep_time_utc': '2024-01-20 14:10',\n",
       "  'dep_estimated': '2024-01-20 15:12',\n",
       "  'dep_estimated_utc': '2024-01-20 14:12',\n",
       "  'dep_actual': '2024-01-20 15:12',\n",
       "  'dep_actual_utc': '2024-01-20 14:12',\n",
       "  'arr_iata': 'CMN',\n",
       "  'arr_icao': 'GMMN',\n",
       "  'arr_terminal': '2',\n",
       "  'arr_gate': None,\n",
       "  'arr_baggage': None,\n",
       "  'arr_time': '2024-01-20 18:15',\n",
       "  'arr_time_utc': '2024-01-20 17:15',\n",
       "  'arr_estimated': '2024-01-20 18:22',\n",
       "  'arr_estimated_utc': '2024-01-20 17:22',\n",
       "  'cs_airline_iata': None,\n",
       "  'cs_flight_number': None,\n",
       "  'cs_flight_iata': None,\n",
       "  'status': 'active',\n",
       "  'duration': 185,\n",
       "  'delayed': 2,\n",
       "  'dep_delayed': 2,\n",
       "  'arr_delayed': 7,\n",
       "  'aircraft_icao': 'A319',\n",
       "  'arr_time_ts': 1705770900,\n",
       "  'dep_time_ts': 1705759800,\n",
       "  'arr_estimated_ts': 1705771320,\n",
       "  'dep_estimated_ts': 1705759920,\n",
       "  'dep_actual_ts': 1705759920},\n",
       " {'airline_iata': 'DL',\n",
       "  'airline_icao': 'DAL',\n",
       "  'flight_iata': 'DL8435',\n",
       "  'flight_icao': 'DAL8435',\n",
       "  'flight_number': '8435',\n",
       "  'dep_iata': 'CDG',\n",
       "  'dep_icao': 'LFPG',\n",
       "  'dep_terminal': '2F',\n",
       "  'dep_gate': None,\n",
       "  'dep_time': '2024-01-20 15:10',\n",
       "  'dep_time_utc': '2024-01-20 14:10',\n",
       "  'dep_estimated': '2024-01-20 15:12',\n",
       "  'dep_estimated_utc': '2024-01-20 14:12',\n",
       "  'dep_actual': '2024-01-20 15:12',\n",
       "  'dep_actual_utc': '2024-01-20 14:12',\n",
       "  'arr_iata': 'CMN',\n",
       "  'arr_icao': 'GMMN',\n",
       "  'arr_terminal': '2',\n",
       "  'arr_gate': None,\n",
       "  'arr_baggage': None,\n",
       "  'arr_time': '2024-01-20 18:15',\n",
       "  'arr_time_utc': '2024-01-20 17:15',\n",
       "  'arr_estimated': '2024-01-20 18:22',\n",
       "  'arr_estimated_utc': '2024-01-20 17:22',\n",
       "  'cs_airline_iata': 'AF',\n",
       "  'cs_flight_number': '1196',\n",
       "  'cs_flight_iata': 'AF1196',\n",
       "  'status': 'active',\n",
       "  'duration': 185,\n",
       "  'delayed': 2,\n",
       "  'dep_delayed': 2,\n",
       "  'arr_delayed': 7,\n",
       "  'aircraft_icao': None,\n",
       "  'arr_time_ts': 1705770900,\n",
       "  'dep_time_ts': 1705759800,\n",
       "  'arr_estimated_ts': 1705771320,\n",
       "  'dep_estimated_ts': 1705759920,\n",
       "  'dep_actual_ts': 1705759920},\n",
       " {'airline_iata': 'KL',\n",
       "  'airline_icao': 'KLM',\n",
       "  'flight_iata': 'KL2042',\n",
       "  'flight_icao': 'KLM2042',\n",
       "  'flight_number': '2042',\n",
       "  'dep_iata': 'CDG',\n",
       "  'dep_icao': 'LFPG',\n",
       "  'dep_terminal': '2F',\n",
       "  'dep_gate': None,\n",
       "  'dep_time': '2024-01-20 15:10',\n",
       "  'dep_time_utc': '2024-01-20 14:10',\n",
       "  'dep_estimated': '2024-01-20 15:12',\n",
       "  'dep_estimated_utc': '2024-01-20 14:12',\n",
       "  'dep_actual': '2024-01-20 15:12',\n",
       "  'dep_actual_utc': '2024-01-20 14:12',\n",
       "  'arr_iata': 'CMN',\n",
       "  'arr_icao': 'GMMN',\n",
       "  'arr_terminal': '2',\n",
       "  'arr_gate': None,\n",
       "  'arr_baggage': None,\n",
       "  'arr_time': '2024-01-20 18:15',\n",
       "  'arr_time_utc': '2024-01-20 17:15',\n",
       "  'arr_estimated': '2024-01-20 18:22',\n",
       "  'arr_estimated_utc': '2024-01-20 17:22',\n",
       "  'cs_airline_iata': 'AF',\n",
       "  'cs_flight_number': '1196',\n",
       "  'cs_flight_iata': 'AF1196',\n",
       "  'status': 'active',\n",
       "  'duration': 185,\n",
       "  'delayed': 2,\n",
       "  'dep_delayed': 2,\n",
       "  'arr_delayed': 7,\n",
       "  'aircraft_icao': None,\n",
       "  'arr_time_ts': 1705770900,\n",
       "  'dep_time_ts': 1705759800,\n",
       "  'arr_estimated_ts': 1705771320,\n",
       "  'dep_estimated_ts': 1705759920,\n",
       "  'dep_actual_ts': 1705759920},\n",
       " {'airline_iata': 'AC',\n",
       "  'airline_icao': 'ACA',\n",
       "  'flight_iata': 'AC2902',\n",
       "  'flight_icao': 'ACA2902',\n",
       "  'flight_number': '2902',\n",
       "  'dep_iata': 'CDG',\n",
       "  'dep_icao': 'LFPG',\n",
       "  'dep_terminal': '1',\n",
       "  'dep_gate': '28',\n",
       "  'dep_time': '2024-01-20 14:50',\n",
       "  'dep_time_utc': '2024-01-20 13:50',\n",
       "  'dep_estimated': '2024-01-20 15:15',\n",
       "  'dep_estimated_utc': '2024-01-20 14:15',\n",
       "  'dep_actual': '2024-01-20 15:15',\n",
       "  'dep_actual_utc': '2024-01-20 14:15',\n",
       "  'arr_iata': 'CAI',\n",
       "  'arr_icao': 'HECA',\n",
       "  'arr_terminal': '3',\n",
       "  'arr_gate': None,\n",
       "  'arr_baggage': None,\n",
       "  'arr_time': '2024-01-20 20:10',\n",
       "  'arr_time_utc': '2024-01-20 18:10',\n",
       "  'arr_estimated': '2024-01-20 20:57',\n",
       "  'arr_estimated_utc': '2024-01-20 18:57',\n",
       "  'cs_airline_iata': 'MS',\n",
       "  'cs_flight_number': '800',\n",
       "  'cs_flight_iata': 'MS800',\n",
       "  'status': 'active',\n",
       "  'duration': 260,\n",
       "  'delayed': 47,\n",
       "  'dep_delayed': 25,\n",
       "  'arr_delayed': 47,\n",
       "  'aircraft_icao': None,\n",
       "  'arr_time_ts': 1705774200,\n",
       "  'dep_time_ts': 1705758600,\n",
       "  'arr_estimated_ts': 1705777020,\n",
       "  'dep_estimated_ts': 1705760100,\n",
       "  'dep_actual_ts': 1705760100},\n",
       " {'airline_iata': 'MS',\n",
       "  'airline_icao': 'MSR',\n",
       "  'flight_iata': 'MS800',\n",
       "  'flight_icao': 'MSR800',\n",
       "  'flight_number': '800',\n",
       "  'dep_iata': 'CDG',\n",
       "  'dep_icao': 'LFPG',\n",
       "  'dep_terminal': '1',\n",
       "  'dep_gate': '28',\n",
       "  'dep_time': '2024-01-20 14:50',\n",
       "  'dep_time_utc': '2024-01-20 13:50',\n",
       "  'dep_estimated': '2024-01-20 15:15',\n",
       "  'dep_estimated_utc': '2024-01-20 14:15',\n",
       "  'dep_actual': '2024-01-20 15:15',\n",
       "  'dep_actual_utc': '2024-01-20 14:15',\n",
       "  'arr_iata': 'CAI',\n",
       "  'arr_icao': 'HECA',\n",
       "  'arr_terminal': '3',\n",
       "  'arr_gate': None,\n",
       "  'arr_baggage': None,\n",
       "  'arr_time': '2024-01-20 20:10',\n",
       "  'arr_time_utc': '2024-01-20 18:10',\n",
       "  'arr_estimated': '2024-01-20 20:57',\n",
       "  'arr_estimated_utc': '2024-01-20 18:57',\n",
       "  'cs_airline_iata': None,\n",
       "  'cs_flight_number': None,\n",
       "  'cs_flight_iata': None,\n",
       "  'status': 'active',\n",
       "  'duration': 260,\n",
       "  'delayed': 47,\n",
       "  'dep_delayed': 25,\n",
       "  'arr_delayed': 47,\n",
       "  'aircraft_icao': 'B789',\n",
       "  'arr_time_ts': 1705774200,\n",
       "  'dep_time_ts': 1705758600,\n",
       "  'arr_estimated_ts': 1705777020,\n",
       "  'dep_estimated_ts': 1705760100,\n",
       "  'dep_actual_ts': 1705760100},\n",
       " {'airline_iata': 'AF',\n",
       "  'airline_icao': 'AFR',\n",
       "  'flight_iata': 'AF1062',\n",
       "  'flight_icao': 'AFR1062',\n",
       "  'flight_number': '1062',\n",
       "  'dep_iata': 'CDG',\n",
       "  'dep_icao': 'LFPG',\n",
       "  'dep_terminal': '2F',\n",
       "  'dep_gate': 'F30',\n",
       "  'dep_time': '2024-01-20 15:15',\n",
       "  'dep_time_utc': '2024-01-20 14:15',\n",
       "  'dep_estimated': '2024-01-20 15:16',\n",
       "  'dep_estimated_utc': '2024-01-20 14:16',\n",
       "  'dep_actual': '2024-01-20 15:16',\n",
       "  'dep_actual_utc': '2024-01-20 14:16',\n",
       "  'arr_iata': 'ARN',\n",
       "  'arr_icao': 'ESSA',\n",
       "  'arr_terminal': '2',\n",
       "  'arr_gate': None,\n",
       "  'arr_baggage': None,\n",
       "  'arr_time': '2024-01-20 17:55',\n",
       "  'arr_time_utc': '2024-01-20 16:55',\n",
       "  'arr_estimated': '2024-01-20 17:52',\n",
       "  'arr_estimated_utc': '2024-01-20 16:52',\n",
       "  'cs_airline_iata': None,\n",
       "  'cs_flight_number': None,\n",
       "  'cs_flight_iata': None,\n",
       "  'status': 'active',\n",
       "  'duration': 160,\n",
       "  'delayed': 1,\n",
       "  'dep_delayed': 1,\n",
       "  'arr_delayed': None,\n",
       "  'aircraft_icao': 'BCS3',\n",
       "  'arr_time_ts': 1705769700,\n",
       "  'dep_time_ts': 1705760100,\n",
       "  'arr_estimated_ts': 1705769520,\n",
       "  'dep_estimated_ts': 1705760160,\n",
       "  'dep_actual_ts': 1705760160},\n",
       " {'airline_iata': 'AM',\n",
       "  'airline_icao': 'AMX',\n",
       "  'flight_iata': 'AM5705',\n",
       "  'flight_icao': 'AMX5705',\n",
       "  'flight_number': '5705',\n",
       "  'dep_iata': 'CDG',\n",
       "  'dep_icao': 'LFPG',\n",
       "  'dep_terminal': '2F',\n",
       "  'dep_gate': 'F30',\n",
       "  'dep_time': '2024-01-20 15:15',\n",
       "  'dep_time_utc': '2024-01-20 14:15',\n",
       "  'dep_estimated': '2024-01-20 15:16',\n",
       "  'dep_estimated_utc': '2024-01-20 14:16',\n",
       "  'dep_actual': '2024-01-20 15:16',\n",
       "  'dep_actual_utc': '2024-01-20 14:16',\n",
       "  'arr_iata': 'ARN',\n",
       "  'arr_icao': 'ESSA',\n",
       "  'arr_terminal': '2',\n",
       "  'arr_gate': None,\n",
       "  'arr_baggage': None,\n",
       "  'arr_time': '2024-01-20 17:55',\n",
       "  'arr_time_utc': '2024-01-20 16:55',\n",
       "  'arr_estimated': '2024-01-20 17:52',\n",
       "  'arr_estimated_utc': '2024-01-20 16:52',\n",
       "  'cs_airline_iata': 'AF',\n",
       "  'cs_flight_number': '1062',\n",
       "  'cs_flight_iata': 'AF1062',\n",
       "  'status': 'active',\n",
       "  'duration': 160,\n",
       "  'delayed': 1,\n",
       "  'dep_delayed': 1,\n",
       "  'arr_delayed': None,\n",
       "  'aircraft_icao': None,\n",
       "  'arr_time_ts': 1705769700,\n",
       "  'dep_time_ts': 1705760100,\n",
       "  'arr_estimated_ts': 1705769520,\n",
       "  'dep_estimated_ts': 1705760160,\n",
       "  'dep_actual_ts': 1705760160}]"
      ]
     },
     "execution_count": 17,
     "metadata": {},
     "output_type": "execute_result"
    }
   ],
   "source": [
    "queryCDG = {\n",
    "    \"api_key\" : \"8ffb5e97-7a50-4773-b2d9-8638ec08bc75\",\n",
    "    \"dep_iata\" :  \"CDG\"   \n",
    "}\n",
    "\n",
    "\n",
    "res_ex = requests.get(\"https://airlabs.co/api/v9/schedules?\",params= queryCDG)\n",
    "js_res = res_ex.json()\n",
    "js_res[\"response\"]"
   ],
   "metadata": {
    "collapsed": false
   },
   "id": "829d8182c394aac8",
   "execution_count": 17
  },
  {
   "cell_type": "markdown",
   "source": [
    "Get sample of api request for connections between given airports \n"
   ],
   "metadata": {
    "collapsed": false
   },
   "id": "8ce03db38a00b001"
  },
  {
   "cell_type": "code",
   "outputs": [
    {
     "data": {
      "text/html": [
       "<div>\n",
       "<style scoped>\n",
       "    .dataframe tbody tr th:only-of-type {\n",
       "        vertical-align: middle;\n",
       "    }\n",
       "\n",
       "    .dataframe tbody tr th {\n",
       "        vertical-align: top;\n",
       "    }\n",
       "\n",
       "    .dataframe thead th {\n",
       "        text-align: right;\n",
       "    }\n",
       "</style>\n",
       "<table border=\"1\" class=\"dataframe\">\n",
       "  <thead>\n",
       "    <tr style=\"text-align: right;\">\n",
       "      <th></th>\n",
       "      <th>dep</th>\n",
       "      <th>arr</th>\n",
       "      <th>time</th>\n",
       "    </tr>\n",
       "  </thead>\n",
       "  <tbody>\n",
       "    <tr>\n",
       "      <th>0</th>\n",
       "      <td>CDG</td>\n",
       "      <td>CFK</td>\n",
       "      <td>155</td>\n",
       "    </tr>\n",
       "    <tr>\n",
       "      <th>1</th>\n",
       "      <td>CDG</td>\n",
       "      <td>ALG</td>\n",
       "      <td>135</td>\n",
       "    </tr>\n",
       "    <tr>\n",
       "      <th>2</th>\n",
       "      <td>CDG</td>\n",
       "      <td>FRA</td>\n",
       "      <td>80</td>\n",
       "    </tr>\n",
       "    <tr>\n",
       "      <th>3</th>\n",
       "      <td>CDG</td>\n",
       "      <td>ATL</td>\n",
       "      <td>590</td>\n",
       "    </tr>\n",
       "    <tr>\n",
       "      <th>4</th>\n",
       "      <td>CDG</td>\n",
       "      <td>ATL</td>\n",
       "      <td>590</td>\n",
       "    </tr>\n",
       "  </tbody>\n",
       "</table>\n",
       "</div>"
      ],
      "text/plain": [
       "   dep  arr  time\n",
       "0  CDG  CFK   155\n",
       "1  CDG  ALG   135\n",
       "2  CDG  FRA    80\n",
       "3  CDG  ATL   590\n",
       "4  CDG  ATL   590"
      ]
     },
     "execution_count": 43,
     "metadata": {},
     "output_type": "execute_result"
    }
   ],
   "source": [
    "DF = parse_response(res_ex)\n",
    "DF.head()"
   ],
   "metadata": {
    "collapsed": false
   },
   "id": "26257d9de45a33d9",
   "execution_count": 43
  },
  {
   "cell_type": "code",
   "outputs": [
    {
     "data": {
      "text/html": [
       "<div>\n",
       "<style scoped>\n",
       "    .dataframe tbody tr th:only-of-type {\n",
       "        vertical-align: middle;\n",
       "    }\n",
       "\n",
       "    .dataframe tbody tr th {\n",
       "        vertical-align: top;\n",
       "    }\n",
       "\n",
       "    .dataframe thead th {\n",
       "        text-align: right;\n",
       "    }\n",
       "</style>\n",
       "<table border=\"1\" class=\"dataframe\">\n",
       "  <thead>\n",
       "    <tr style=\"text-align: right;\">\n",
       "      <th></th>\n",
       "      <th>dep</th>\n",
       "      <th>arr</th>\n",
       "      <th>time</th>\n",
       "    </tr>\n",
       "  </thead>\n",
       "  <tbody>\n",
       "    <tr>\n",
       "      <th>0</th>\n",
       "      <td>CDG</td>\n",
       "      <td>FRA</td>\n",
       "      <td>80</td>\n",
       "    </tr>\n",
       "    <tr>\n",
       "      <th>1</th>\n",
       "      <td>CDG</td>\n",
       "      <td>AMS</td>\n",
       "      <td>80</td>\n",
       "    </tr>\n",
       "    <tr>\n",
       "      <th>2</th>\n",
       "      <td>CDG</td>\n",
       "      <td>OSL</td>\n",
       "      <td>140</td>\n",
       "    </tr>\n",
       "    <tr>\n",
       "      <th>3</th>\n",
       "      <td>CDG</td>\n",
       "      <td>GOT</td>\n",
       "      <td>125</td>\n",
       "    </tr>\n",
       "    <tr>\n",
       "      <th>4</th>\n",
       "      <td>CDG</td>\n",
       "      <td>CPH</td>\n",
       "      <td>115</td>\n",
       "    </tr>\n",
       "    <tr>\n",
       "      <th>5</th>\n",
       "      <td>CDG</td>\n",
       "      <td>TLS</td>\n",
       "      <td>80</td>\n",
       "    </tr>\n",
       "    <tr>\n",
       "      <th>6</th>\n",
       "      <td>CDG</td>\n",
       "      <td>ZRH</td>\n",
       "      <td>75</td>\n",
       "    </tr>\n",
       "    <tr>\n",
       "      <th>7</th>\n",
       "      <td>CDG</td>\n",
       "      <td>PRG</td>\n",
       "      <td>105</td>\n",
       "    </tr>\n",
       "    <tr>\n",
       "      <th>8</th>\n",
       "      <td>CDG</td>\n",
       "      <td>ARN</td>\n",
       "      <td>160</td>\n",
       "    </tr>\n",
       "  </tbody>\n",
       "</table>\n",
       "</div>"
      ],
      "text/plain": [
       "   dep  arr  time\n",
       "0  CDG  FRA    80\n",
       "1  CDG  AMS    80\n",
       "2  CDG  OSL   140\n",
       "3  CDG  GOT   125\n",
       "4  CDG  CPH   115\n",
       "5  CDG  TLS    80\n",
       "6  CDG  ZRH    75\n",
       "7  CDG  PRG   105\n",
       "8  CDG  ARN   160"
      ]
     },
     "execution_count": 53,
     "metadata": {},
     "output_type": "execute_result"
    }
   ],
   "source": [
    "filter_clean_codes(DF, CODES)"
   ],
   "metadata": {
    "collapsed": false
   },
   "id": "cb4e0711d78ab344",
   "execution_count": 53
  },
  {
   "cell_type": "markdown",
   "id": "a3ed0f3478c6550b",
   "metadata": {
    "collapsed": false
   },
   "source": [
    "### Processing of flight data"
   ]
  },
  {
   "cell_type": "code",
   "execution_count": 16,
   "id": "632ddce05182a07d",
   "metadata": {
    "collapsed": false,
    "ExecuteTime": {
     "end_time": "2024-01-22T19:45:40.008252Z",
     "start_time": "2024-01-22T19:45:39.992036Z"
    }
   },
   "outputs": [],
   "source": [
    "import pandas as pd"
   ]
  },
  {
   "cell_type": "code",
   "execution_count": 17,
   "id": "ad211d6708cc439e",
   "metadata": {
    "collapsed": false,
    "ExecuteTime": {
     "end_time": "2024-01-22T19:45:40.057131Z",
     "start_time": "2024-01-22T19:45:40.009289Z"
    }
   },
   "outputs": [
    {
     "data": {
      "text/plain": "      Unnamed: 0           route   time\n0              0  {'AAL', 'AMS'}   85.0\n1              1  {'AAQ', 'LED'}  170.0\n2              2  {'AMS', 'ABZ'}   85.0\n3              3  {'ABZ', 'LGW'}   95.0\n4              4  {'ACE', 'AGP'}  130.0\n...          ...             ...    ...\n1464        1464  {'ZRH', 'OTP'}  150.0\n1465        1465  {'ZRH', 'PRN'}  127.5\n1466        1466  {'ZRH', 'RVN'}  205.0\n1467        1467  {'ZRH', 'STR'}   45.0\n1468        1468  {'ZTH', 'ATH'}   62.5\n\n[1469 rows x 3 columns]",
      "text/html": "<div>\n<style scoped>\n    .dataframe tbody tr th:only-of-type {\n        vertical-align: middle;\n    }\n\n    .dataframe tbody tr th {\n        vertical-align: top;\n    }\n\n    .dataframe thead th {\n        text-align: right;\n    }\n</style>\n<table border=\"1\" class=\"dataframe\">\n  <thead>\n    <tr style=\"text-align: right;\">\n      <th></th>\n      <th>Unnamed: 0</th>\n      <th>route</th>\n      <th>time</th>\n    </tr>\n  </thead>\n  <tbody>\n    <tr>\n      <th>0</th>\n      <td>0</td>\n      <td>{'AAL', 'AMS'}</td>\n      <td>85.0</td>\n    </tr>\n    <tr>\n      <th>1</th>\n      <td>1</td>\n      <td>{'AAQ', 'LED'}</td>\n      <td>170.0</td>\n    </tr>\n    <tr>\n      <th>2</th>\n      <td>2</td>\n      <td>{'AMS', 'ABZ'}</td>\n      <td>85.0</td>\n    </tr>\n    <tr>\n      <th>3</th>\n      <td>3</td>\n      <td>{'ABZ', 'LGW'}</td>\n      <td>95.0</td>\n    </tr>\n    <tr>\n      <th>4</th>\n      <td>4</td>\n      <td>{'ACE', 'AGP'}</td>\n      <td>130.0</td>\n    </tr>\n    <tr>\n      <th>...</th>\n      <td>...</td>\n      <td>...</td>\n      <td>...</td>\n    </tr>\n    <tr>\n      <th>1464</th>\n      <td>1464</td>\n      <td>{'ZRH', 'OTP'}</td>\n      <td>150.0</td>\n    </tr>\n    <tr>\n      <th>1465</th>\n      <td>1465</td>\n      <td>{'ZRH', 'PRN'}</td>\n      <td>127.5</td>\n    </tr>\n    <tr>\n      <th>1466</th>\n      <td>1466</td>\n      <td>{'ZRH', 'RVN'}</td>\n      <td>205.0</td>\n    </tr>\n    <tr>\n      <th>1467</th>\n      <td>1467</td>\n      <td>{'ZRH', 'STR'}</td>\n      <td>45.0</td>\n    </tr>\n    <tr>\n      <th>1468</th>\n      <td>1468</td>\n      <td>{'ZTH', 'ATH'}</td>\n      <td>62.5</td>\n    </tr>\n  </tbody>\n</table>\n<p>1469 rows × 3 columns</p>\n</div>"
     },
     "execution_count": 17,
     "metadata": {},
     "output_type": "execute_result"
    }
   ],
   "source": [
    "flights = pd.read_csv('../datasets/flight_times.csv')\n",
    "flights"
   ]
  },
  {
   "cell_type": "code",
   "execution_count": 18,
   "id": "380ba37d213b8db8",
   "metadata": {
    "collapsed": false,
    "ExecuteTime": {
     "end_time": "2024-01-22T19:45:40.070702Z",
     "start_time": "2024-01-22T19:45:40.027998Z"
    }
   },
   "outputs": [
    {
     "data": {
      "text/plain": "               route   time\n0     {'AAL', 'AMS'}   85.0\n1     {'AAQ', 'LED'}  170.0\n2     {'AMS', 'ABZ'}   85.0\n3     {'ABZ', 'LGW'}   95.0\n4     {'ACE', 'AGP'}  130.0\n...              ...    ...\n1464  {'ZRH', 'OTP'}  150.0\n1465  {'ZRH', 'PRN'}  127.5\n1466  {'ZRH', 'RVN'}  205.0\n1467  {'ZRH', 'STR'}   45.0\n1468  {'ZTH', 'ATH'}   62.5\n\n[1469 rows x 2 columns]",
      "text/html": "<div>\n<style scoped>\n    .dataframe tbody tr th:only-of-type {\n        vertical-align: middle;\n    }\n\n    .dataframe tbody tr th {\n        vertical-align: top;\n    }\n\n    .dataframe thead th {\n        text-align: right;\n    }\n</style>\n<table border=\"1\" class=\"dataframe\">\n  <thead>\n    <tr style=\"text-align: right;\">\n      <th></th>\n      <th>route</th>\n      <th>time</th>\n    </tr>\n  </thead>\n  <tbody>\n    <tr>\n      <th>0</th>\n      <td>{'AAL', 'AMS'}</td>\n      <td>85.0</td>\n    </tr>\n    <tr>\n      <th>1</th>\n      <td>{'AAQ', 'LED'}</td>\n      <td>170.0</td>\n    </tr>\n    <tr>\n      <th>2</th>\n      <td>{'AMS', 'ABZ'}</td>\n      <td>85.0</td>\n    </tr>\n    <tr>\n      <th>3</th>\n      <td>{'ABZ', 'LGW'}</td>\n      <td>95.0</td>\n    </tr>\n    <tr>\n      <th>4</th>\n      <td>{'ACE', 'AGP'}</td>\n      <td>130.0</td>\n    </tr>\n    <tr>\n      <th>...</th>\n      <td>...</td>\n      <td>...</td>\n    </tr>\n    <tr>\n      <th>1464</th>\n      <td>{'ZRH', 'OTP'}</td>\n      <td>150.0</td>\n    </tr>\n    <tr>\n      <th>1465</th>\n      <td>{'ZRH', 'PRN'}</td>\n      <td>127.5</td>\n    </tr>\n    <tr>\n      <th>1466</th>\n      <td>{'ZRH', 'RVN'}</td>\n      <td>205.0</td>\n    </tr>\n    <tr>\n      <th>1467</th>\n      <td>{'ZRH', 'STR'}</td>\n      <td>45.0</td>\n    </tr>\n    <tr>\n      <th>1468</th>\n      <td>{'ZTH', 'ATH'}</td>\n      <td>62.5</td>\n    </tr>\n  </tbody>\n</table>\n<p>1469 rows × 2 columns</p>\n</div>"
     },
     "execution_count": 18,
     "metadata": {},
     "output_type": "execute_result"
    }
   ],
   "source": [
    "flights.drop(flights.columns[0], axis=1, inplace=True)\n",
    "flights"
   ]
  },
  {
   "cell_type": "code",
   "execution_count": 19,
   "id": "b9fdb607bf3f06e5",
   "metadata": {
    "collapsed": false,
    "ExecuteTime": {
     "end_time": "2024-01-22T19:45:40.182293Z",
     "start_time": "2024-01-22T19:45:40.077026Z"
    }
   },
   "outputs": [
    {
     "data": {
      "text/plain": "               route   time departure airport arrival airport\n0     {'AAL', 'AMS'}   85.0               AAL             AMS\n1     {'AAQ', 'LED'}  170.0               AAQ             LED\n2     {'AMS', 'ABZ'}   85.0               AMS             ABZ\n3     {'ABZ', 'LGW'}   95.0               ABZ             LGW\n4     {'ACE', 'AGP'}  130.0               ACE             AGP\n...              ...    ...               ...             ...\n1464  {'ZRH', 'OTP'}  150.0               ZRH             OTP\n1465  {'ZRH', 'PRN'}  127.5               ZRH             PRN\n1466  {'ZRH', 'RVN'}  205.0               ZRH             RVN\n1467  {'ZRH', 'STR'}   45.0               ZRH             STR\n1468  {'ZTH', 'ATH'}   62.5               ZTH             ATH\n\n[1469 rows x 4 columns]",
      "text/html": "<div>\n<style scoped>\n    .dataframe tbody tr th:only-of-type {\n        vertical-align: middle;\n    }\n\n    .dataframe tbody tr th {\n        vertical-align: top;\n    }\n\n    .dataframe thead th {\n        text-align: right;\n    }\n</style>\n<table border=\"1\" class=\"dataframe\">\n  <thead>\n    <tr style=\"text-align: right;\">\n      <th></th>\n      <th>route</th>\n      <th>time</th>\n      <th>departure airport</th>\n      <th>arrival airport</th>\n    </tr>\n  </thead>\n  <tbody>\n    <tr>\n      <th>0</th>\n      <td>{'AAL', 'AMS'}</td>\n      <td>85.0</td>\n      <td>AAL</td>\n      <td>AMS</td>\n    </tr>\n    <tr>\n      <th>1</th>\n      <td>{'AAQ', 'LED'}</td>\n      <td>170.0</td>\n      <td>AAQ</td>\n      <td>LED</td>\n    </tr>\n    <tr>\n      <th>2</th>\n      <td>{'AMS', 'ABZ'}</td>\n      <td>85.0</td>\n      <td>AMS</td>\n      <td>ABZ</td>\n    </tr>\n    <tr>\n      <th>3</th>\n      <td>{'ABZ', 'LGW'}</td>\n      <td>95.0</td>\n      <td>ABZ</td>\n      <td>LGW</td>\n    </tr>\n    <tr>\n      <th>4</th>\n      <td>{'ACE', 'AGP'}</td>\n      <td>130.0</td>\n      <td>ACE</td>\n      <td>AGP</td>\n    </tr>\n    <tr>\n      <th>...</th>\n      <td>...</td>\n      <td>...</td>\n      <td>...</td>\n      <td>...</td>\n    </tr>\n    <tr>\n      <th>1464</th>\n      <td>{'ZRH', 'OTP'}</td>\n      <td>150.0</td>\n      <td>ZRH</td>\n      <td>OTP</td>\n    </tr>\n    <tr>\n      <th>1465</th>\n      <td>{'ZRH', 'PRN'}</td>\n      <td>127.5</td>\n      <td>ZRH</td>\n      <td>PRN</td>\n    </tr>\n    <tr>\n      <th>1466</th>\n      <td>{'ZRH', 'RVN'}</td>\n      <td>205.0</td>\n      <td>ZRH</td>\n      <td>RVN</td>\n    </tr>\n    <tr>\n      <th>1467</th>\n      <td>{'ZRH', 'STR'}</td>\n      <td>45.0</td>\n      <td>ZRH</td>\n      <td>STR</td>\n    </tr>\n    <tr>\n      <th>1468</th>\n      <td>{'ZTH', 'ATH'}</td>\n      <td>62.5</td>\n      <td>ZTH</td>\n      <td>ATH</td>\n    </tr>\n  </tbody>\n</table>\n<p>1469 rows × 4 columns</p>\n</div>"
     },
     "execution_count": 19,
     "metadata": {},
     "output_type": "execute_result"
    }
   ],
   "source": [
    "flights['departure airport'] = flights['route'].apply(lambda x: x.split(',')[0].strip(\"{'\"))\n",
    "flights['arrival airport'] = flights['route'].apply(lambda x: x.split(',')[1].strip(\" }'\"))\n",
    "flights"
   ]
  },
  {
   "cell_type": "markdown",
   "id": "16cd8bff1ea71928",
   "metadata": {
    "collapsed": false
   },
   "source": [
    "### Using municipality names from the airport codes dataset"
   ]
  },
  {
   "cell_type": "code",
   "execution_count": 20,
   "id": "3edcc758d018dbe1",
   "metadata": {
    "collapsed": false,
    "ExecuteTime": {
     "end_time": "2024-01-22T19:45:40.389331Z",
     "start_time": "2024-01-22T19:45:40.101864Z"
    }
   },
   "outputs": [
    {
     "data": {
      "text/plain": "           id    ident           type                       name  \\\n0        6523      00A       heliport          Total RF Heliport   \n1      323361     00AA  small_airport       Aero B Ranch Airport   \n2        6524     00AK  small_airport               Lowell Field   \n3        6525     00AL  small_airport               Epps Airpark   \n4      506791     00AN  small_airport       Katmai Lodge Airport   \n...       ...      ...            ...                        ...   \n78148   46378  ZZ-0001       heliport            Sealand Helipad   \n78149  307326  ZZ-0002  small_airport  Glorioso Islands Airstrip   \n78150  346788  ZZ-0003  small_airport      Fainting Goat Airport   \n78151  342102     ZZZW         closed     Scandium City Heliport   \n78152  313629     ZZZZ  small_airport     Satsuma Iōjima Airport   \n\n       latitude_deg  longitude_deg  elevation_ft continent iso_country  \\\n0         40.070985     -74.933689          11.0       NaN          US   \n1         38.704022    -101.473911        3435.0       NaN          US   \n2         59.947733    -151.692524         450.0       NaN          US   \n3         34.864799     -86.770302         820.0       NaN          US   \n4         59.093287    -156.456699          80.0       NaN          US   \n...             ...            ...           ...       ...         ...   \n78148     51.894444       1.482500          40.0        EU          GB   \n78149    -11.584278      47.296389          11.0        AF          TF   \n78150     32.110587     -97.356312         690.0       NaN          US   \n78151     69.355287    -138.939310           4.0       NaN          CA   \n78152     30.784722     130.270556         338.0        AS          JP   \n\n      iso_region         municipality scheduled_service gps_code iata_code  \\\n0          US-PA             Bensalem                no     K00A       NaN   \n1          US-KS                Leoti                no     00AA       NaN   \n2          US-AK         Anchor Point                no     00AK       NaN   \n3          US-AL              Harvest                no     00AL       NaN   \n4          US-AK          King Salmon                no     00AN       NaN   \n...          ...                  ...               ...      ...       ...   \n78148     GB-ENG              Sealand                no      NaN       NaN   \n78149     TF-U-A     Grande Glorieuse                no      NaN       NaN   \n78150      US-TX                 Blum                no     87TX       NaN   \n78151      CA-YT  (Old) Scandium City                no      NaN       NaN   \n78152      JP-46              Mishima                no     RJX7       NaN   \n\n      local_code                                          home_link  \\\n0            00A  https://www.penndot.pa.gov/TravelInPA/airports...   \n1           00AA                                                NaN   \n2           00AK                                                NaN   \n3           00AL                                                NaN   \n4           00AN                                                NaN   \n...          ...                                                ...   \n78148        NaN                         http://www.sealandgov.org/   \n78149        NaN                                                NaN   \n78150       87TX                                                NaN   \n78151        NaN                                                NaN   \n78152       RJX7                                                NaN   \n\n                                          wikipedia_link  \\\n0                                                    NaN   \n1                                                    NaN   \n2                                                    NaN   \n3                                                    NaN   \n4                                                    NaN   \n...                                                  ...   \n78148  https://en.wikipedia.org/wiki/Principality_of_...   \n78149                                                NaN   \n78150                                                NaN   \n78151                                                NaN   \n78152  http://wikimapia.org/6705190/Satsuma-Iwo-jima-...   \n\n                    keywords  \n0                        NaN  \n1                        NaN  \n2                        NaN  \n3                        NaN  \n4                        NaN  \n...                      ...  \n78148   Roughs Tower Helipad  \n78149                    NaN  \n78150                    NaN  \n78151  ZZZW, ZZZW, ZYW, YK96  \n78152   SATSUMA,IWOJIMA,RJX7  \n\n[78153 rows x 18 columns]",
      "text/html": "<div>\n<style scoped>\n    .dataframe tbody tr th:only-of-type {\n        vertical-align: middle;\n    }\n\n    .dataframe tbody tr th {\n        vertical-align: top;\n    }\n\n    .dataframe thead th {\n        text-align: right;\n    }\n</style>\n<table border=\"1\" class=\"dataframe\">\n  <thead>\n    <tr style=\"text-align: right;\">\n      <th></th>\n      <th>id</th>\n      <th>ident</th>\n      <th>type</th>\n      <th>name</th>\n      <th>latitude_deg</th>\n      <th>longitude_deg</th>\n      <th>elevation_ft</th>\n      <th>continent</th>\n      <th>iso_country</th>\n      <th>iso_region</th>\n      <th>municipality</th>\n      <th>scheduled_service</th>\n      <th>gps_code</th>\n      <th>iata_code</th>\n      <th>local_code</th>\n      <th>home_link</th>\n      <th>wikipedia_link</th>\n      <th>keywords</th>\n    </tr>\n  </thead>\n  <tbody>\n    <tr>\n      <th>0</th>\n      <td>6523</td>\n      <td>00A</td>\n      <td>heliport</td>\n      <td>Total RF Heliport</td>\n      <td>40.070985</td>\n      <td>-74.933689</td>\n      <td>11.0</td>\n      <td>NaN</td>\n      <td>US</td>\n      <td>US-PA</td>\n      <td>Bensalem</td>\n      <td>no</td>\n      <td>K00A</td>\n      <td>NaN</td>\n      <td>00A</td>\n      <td>https://www.penndot.pa.gov/TravelInPA/airports...</td>\n      <td>NaN</td>\n      <td>NaN</td>\n    </tr>\n    <tr>\n      <th>1</th>\n      <td>323361</td>\n      <td>00AA</td>\n      <td>small_airport</td>\n      <td>Aero B Ranch Airport</td>\n      <td>38.704022</td>\n      <td>-101.473911</td>\n      <td>3435.0</td>\n      <td>NaN</td>\n      <td>US</td>\n      <td>US-KS</td>\n      <td>Leoti</td>\n      <td>no</td>\n      <td>00AA</td>\n      <td>NaN</td>\n      <td>00AA</td>\n      <td>NaN</td>\n      <td>NaN</td>\n      <td>NaN</td>\n    </tr>\n    <tr>\n      <th>2</th>\n      <td>6524</td>\n      <td>00AK</td>\n      <td>small_airport</td>\n      <td>Lowell Field</td>\n      <td>59.947733</td>\n      <td>-151.692524</td>\n      <td>450.0</td>\n      <td>NaN</td>\n      <td>US</td>\n      <td>US-AK</td>\n      <td>Anchor Point</td>\n      <td>no</td>\n      <td>00AK</td>\n      <td>NaN</td>\n      <td>00AK</td>\n      <td>NaN</td>\n      <td>NaN</td>\n      <td>NaN</td>\n    </tr>\n    <tr>\n      <th>3</th>\n      <td>6525</td>\n      <td>00AL</td>\n      <td>small_airport</td>\n      <td>Epps Airpark</td>\n      <td>34.864799</td>\n      <td>-86.770302</td>\n      <td>820.0</td>\n      <td>NaN</td>\n      <td>US</td>\n      <td>US-AL</td>\n      <td>Harvest</td>\n      <td>no</td>\n      <td>00AL</td>\n      <td>NaN</td>\n      <td>00AL</td>\n      <td>NaN</td>\n      <td>NaN</td>\n      <td>NaN</td>\n    </tr>\n    <tr>\n      <th>4</th>\n      <td>506791</td>\n      <td>00AN</td>\n      <td>small_airport</td>\n      <td>Katmai Lodge Airport</td>\n      <td>59.093287</td>\n      <td>-156.456699</td>\n      <td>80.0</td>\n      <td>NaN</td>\n      <td>US</td>\n      <td>US-AK</td>\n      <td>King Salmon</td>\n      <td>no</td>\n      <td>00AN</td>\n      <td>NaN</td>\n      <td>00AN</td>\n      <td>NaN</td>\n      <td>NaN</td>\n      <td>NaN</td>\n    </tr>\n    <tr>\n      <th>...</th>\n      <td>...</td>\n      <td>...</td>\n      <td>...</td>\n      <td>...</td>\n      <td>...</td>\n      <td>...</td>\n      <td>...</td>\n      <td>...</td>\n      <td>...</td>\n      <td>...</td>\n      <td>...</td>\n      <td>...</td>\n      <td>...</td>\n      <td>...</td>\n      <td>...</td>\n      <td>...</td>\n      <td>...</td>\n      <td>...</td>\n    </tr>\n    <tr>\n      <th>78148</th>\n      <td>46378</td>\n      <td>ZZ-0001</td>\n      <td>heliport</td>\n      <td>Sealand Helipad</td>\n      <td>51.894444</td>\n      <td>1.482500</td>\n      <td>40.0</td>\n      <td>EU</td>\n      <td>GB</td>\n      <td>GB-ENG</td>\n      <td>Sealand</td>\n      <td>no</td>\n      <td>NaN</td>\n      <td>NaN</td>\n      <td>NaN</td>\n      <td>http://www.sealandgov.org/</td>\n      <td>https://en.wikipedia.org/wiki/Principality_of_...</td>\n      <td>Roughs Tower Helipad</td>\n    </tr>\n    <tr>\n      <th>78149</th>\n      <td>307326</td>\n      <td>ZZ-0002</td>\n      <td>small_airport</td>\n      <td>Glorioso Islands Airstrip</td>\n      <td>-11.584278</td>\n      <td>47.296389</td>\n      <td>11.0</td>\n      <td>AF</td>\n      <td>TF</td>\n      <td>TF-U-A</td>\n      <td>Grande Glorieuse</td>\n      <td>no</td>\n      <td>NaN</td>\n      <td>NaN</td>\n      <td>NaN</td>\n      <td>NaN</td>\n      <td>NaN</td>\n      <td>NaN</td>\n    </tr>\n    <tr>\n      <th>78150</th>\n      <td>346788</td>\n      <td>ZZ-0003</td>\n      <td>small_airport</td>\n      <td>Fainting Goat Airport</td>\n      <td>32.110587</td>\n      <td>-97.356312</td>\n      <td>690.0</td>\n      <td>NaN</td>\n      <td>US</td>\n      <td>US-TX</td>\n      <td>Blum</td>\n      <td>no</td>\n      <td>87TX</td>\n      <td>NaN</td>\n      <td>87TX</td>\n      <td>NaN</td>\n      <td>NaN</td>\n      <td>NaN</td>\n    </tr>\n    <tr>\n      <th>78151</th>\n      <td>342102</td>\n      <td>ZZZW</td>\n      <td>closed</td>\n      <td>Scandium City Heliport</td>\n      <td>69.355287</td>\n      <td>-138.939310</td>\n      <td>4.0</td>\n      <td>NaN</td>\n      <td>CA</td>\n      <td>CA-YT</td>\n      <td>(Old) Scandium City</td>\n      <td>no</td>\n      <td>NaN</td>\n      <td>NaN</td>\n      <td>NaN</td>\n      <td>NaN</td>\n      <td>NaN</td>\n      <td>ZZZW, ZZZW, ZYW, YK96</td>\n    </tr>\n    <tr>\n      <th>78152</th>\n      <td>313629</td>\n      <td>ZZZZ</td>\n      <td>small_airport</td>\n      <td>Satsuma Iōjima Airport</td>\n      <td>30.784722</td>\n      <td>130.270556</td>\n      <td>338.0</td>\n      <td>AS</td>\n      <td>JP</td>\n      <td>JP-46</td>\n      <td>Mishima</td>\n      <td>no</td>\n      <td>RJX7</td>\n      <td>NaN</td>\n      <td>RJX7</td>\n      <td>NaN</td>\n      <td>http://wikimapia.org/6705190/Satsuma-Iwo-jima-...</td>\n      <td>SATSUMA,IWOJIMA,RJX7</td>\n    </tr>\n  </tbody>\n</table>\n<p>78153 rows × 18 columns</p>\n</div>"
     },
     "execution_count": 20,
     "metadata": {},
     "output_type": "execute_result"
    }
   ],
   "source": [
    "# new dataset, which is the same but without the encoding error:\n",
    "airports = pd.read_csv('../datasets/fixed-airports-codes.csv')\n",
    "airports"
   ]
  },
  {
   "cell_type": "code",
   "execution_count": 22,
   "id": "49860ddb61aa7de2",
   "metadata": {
    "collapsed": false,
    "ExecuteTime": {
     "end_time": "2024-01-22T19:45:40.437591Z",
     "start_time": "2024-01-22T19:45:40.345349Z"
    }
   },
   "outputs": [
    {
     "data": {
      "text/plain": "      iata_code         municipality\n0           NaN             Bensalem\n1           NaN                Leoti\n2           NaN         Anchor Point\n3           NaN              Harvest\n4           NaN          King Salmon\n...         ...                  ...\n78148       NaN              Sealand\n78149       NaN     Grande Glorieuse\n78150       NaN                 Blum\n78151       NaN  (Old) Scandium City\n78152       NaN              Mishima\n\n[78153 rows x 2 columns]",
      "text/html": "<div>\n<style scoped>\n    .dataframe tbody tr th:only-of-type {\n        vertical-align: middle;\n    }\n\n    .dataframe tbody tr th {\n        vertical-align: top;\n    }\n\n    .dataframe thead th {\n        text-align: right;\n    }\n</style>\n<table border=\"1\" class=\"dataframe\">\n  <thead>\n    <tr style=\"text-align: right;\">\n      <th></th>\n      <th>iata_code</th>\n      <th>municipality</th>\n    </tr>\n  </thead>\n  <tbody>\n    <tr>\n      <th>0</th>\n      <td>NaN</td>\n      <td>Bensalem</td>\n    </tr>\n    <tr>\n      <th>1</th>\n      <td>NaN</td>\n      <td>Leoti</td>\n    </tr>\n    <tr>\n      <th>2</th>\n      <td>NaN</td>\n      <td>Anchor Point</td>\n    </tr>\n    <tr>\n      <th>3</th>\n      <td>NaN</td>\n      <td>Harvest</td>\n    </tr>\n    <tr>\n      <th>4</th>\n      <td>NaN</td>\n      <td>King Salmon</td>\n    </tr>\n    <tr>\n      <th>...</th>\n      <td>...</td>\n      <td>...</td>\n    </tr>\n    <tr>\n      <th>78148</th>\n      <td>NaN</td>\n      <td>Sealand</td>\n    </tr>\n    <tr>\n      <th>78149</th>\n      <td>NaN</td>\n      <td>Grande Glorieuse</td>\n    </tr>\n    <tr>\n      <th>78150</th>\n      <td>NaN</td>\n      <td>Blum</td>\n    </tr>\n    <tr>\n      <th>78151</th>\n      <td>NaN</td>\n      <td>(Old) Scandium City</td>\n    </tr>\n    <tr>\n      <th>78152</th>\n      <td>NaN</td>\n      <td>Mishima</td>\n    </tr>\n  </tbody>\n</table>\n<p>78153 rows × 2 columns</p>\n</div>"
     },
     "execution_count": 22,
     "metadata": {},
     "output_type": "execute_result"
    }
   ],
   "source": [
    "cities = airports[['iata_code', 'municipality']]\n",
    "cities"
   ]
  },
  {
   "cell_type": "markdown",
   "id": "a253d3e6181bc328",
   "metadata": {
    "collapsed": false
   },
   "source": [
    "### Merging flights with municipality names"
   ]
  },
  {
   "cell_type": "code",
   "execution_count": 23,
   "id": "5868dab6458a6101",
   "metadata": {
    "collapsed": false,
    "ExecuteTime": {
     "end_time": "2024-01-22T19:45:40.528637Z",
     "start_time": "2024-01-22T19:45:40.443502Z"
    }
   },
   "outputs": [
    {
     "data": {
      "text/plain": "               route   time departure airport arrival airport  departure city  \\\n0     {'AAL', 'AMS'}   85.0               AAL             AMS         Aalborg   \n1     {'AAQ', 'LED'}  170.0               AAQ             LED  Krasnyi Kurgan   \n2     {'AMS', 'ABZ'}   85.0               AMS             ABZ       Amsterdam   \n3     {'ABZ', 'LGW'}   95.0               ABZ             LGW        Aberdeen   \n4     {'ACE', 'AGP'}  130.0               ACE             AGP   San Bartolomé   \n...              ...    ...               ...             ...             ...   \n1464  {'ZRH', 'OTP'}  150.0               ZRH             OTP          Zurich   \n1465  {'ZRH', 'PRN'}  127.5               ZRH             PRN          Zurich   \n1466  {'ZRH', 'RVN'}  205.0               ZRH             RVN          Zurich   \n1467  {'ZRH', 'STR'}   45.0               ZRH             STR          Zurich   \n1468  {'ZTH', 'ATH'}   62.5               ZTH             ATH       Zakynthos   \n\n         arrival city  \n0           Amsterdam  \n1      St. Petersburg  \n2            Aberdeen  \n3     Gatwick, Surrey  \n4              Málaga  \n...               ...  \n1464          Otopeni  \n1465        Prishtina  \n1466        Rovaniemi  \n1467        Stuttgart  \n1468   Spata-Artemida  \n\n[1469 rows x 6 columns]",
      "text/html": "<div>\n<style scoped>\n    .dataframe tbody tr th:only-of-type {\n        vertical-align: middle;\n    }\n\n    .dataframe tbody tr th {\n        vertical-align: top;\n    }\n\n    .dataframe thead th {\n        text-align: right;\n    }\n</style>\n<table border=\"1\" class=\"dataframe\">\n  <thead>\n    <tr style=\"text-align: right;\">\n      <th></th>\n      <th>route</th>\n      <th>time</th>\n      <th>departure airport</th>\n      <th>arrival airport</th>\n      <th>departure city</th>\n      <th>arrival city</th>\n    </tr>\n  </thead>\n  <tbody>\n    <tr>\n      <th>0</th>\n      <td>{'AAL', 'AMS'}</td>\n      <td>85.0</td>\n      <td>AAL</td>\n      <td>AMS</td>\n      <td>Aalborg</td>\n      <td>Amsterdam</td>\n    </tr>\n    <tr>\n      <th>1</th>\n      <td>{'AAQ', 'LED'}</td>\n      <td>170.0</td>\n      <td>AAQ</td>\n      <td>LED</td>\n      <td>Krasnyi Kurgan</td>\n      <td>St. Petersburg</td>\n    </tr>\n    <tr>\n      <th>2</th>\n      <td>{'AMS', 'ABZ'}</td>\n      <td>85.0</td>\n      <td>AMS</td>\n      <td>ABZ</td>\n      <td>Amsterdam</td>\n      <td>Aberdeen</td>\n    </tr>\n    <tr>\n      <th>3</th>\n      <td>{'ABZ', 'LGW'}</td>\n      <td>95.0</td>\n      <td>ABZ</td>\n      <td>LGW</td>\n      <td>Aberdeen</td>\n      <td>Gatwick, Surrey</td>\n    </tr>\n    <tr>\n      <th>4</th>\n      <td>{'ACE', 'AGP'}</td>\n      <td>130.0</td>\n      <td>ACE</td>\n      <td>AGP</td>\n      <td>San Bartolomé</td>\n      <td>Málaga</td>\n    </tr>\n    <tr>\n      <th>...</th>\n      <td>...</td>\n      <td>...</td>\n      <td>...</td>\n      <td>...</td>\n      <td>...</td>\n      <td>...</td>\n    </tr>\n    <tr>\n      <th>1464</th>\n      <td>{'ZRH', 'OTP'}</td>\n      <td>150.0</td>\n      <td>ZRH</td>\n      <td>OTP</td>\n      <td>Zurich</td>\n      <td>Otopeni</td>\n    </tr>\n    <tr>\n      <th>1465</th>\n      <td>{'ZRH', 'PRN'}</td>\n      <td>127.5</td>\n      <td>ZRH</td>\n      <td>PRN</td>\n      <td>Zurich</td>\n      <td>Prishtina</td>\n    </tr>\n    <tr>\n      <th>1466</th>\n      <td>{'ZRH', 'RVN'}</td>\n      <td>205.0</td>\n      <td>ZRH</td>\n      <td>RVN</td>\n      <td>Zurich</td>\n      <td>Rovaniemi</td>\n    </tr>\n    <tr>\n      <th>1467</th>\n      <td>{'ZRH', 'STR'}</td>\n      <td>45.0</td>\n      <td>ZRH</td>\n      <td>STR</td>\n      <td>Zurich</td>\n      <td>Stuttgart</td>\n    </tr>\n    <tr>\n      <th>1468</th>\n      <td>{'ZTH', 'ATH'}</td>\n      <td>62.5</td>\n      <td>ZTH</td>\n      <td>ATH</td>\n      <td>Zakynthos</td>\n      <td>Spata-Artemida</td>\n    </tr>\n  </tbody>\n</table>\n<p>1469 rows × 6 columns</p>\n</div>"
     },
     "execution_count": 23,
     "metadata": {},
     "output_type": "execute_result"
    }
   ],
   "source": [
    "# add departure city names\n",
    "flights = pd.merge(flights, cities, left_on='departure airport', right_on='iata_code', how='left')\n",
    "# remove the redundant column\n",
    "flights.drop('iata_code', axis=1, inplace=True)\n",
    "# rename the column\n",
    "flights.rename(columns={'municipality': 'departure city'}, inplace=True)\n",
    "# add arrival city names\n",
    "flights = pd.merge(flights, cities, left_on='arrival airport', right_on='iata_code', how='left')\n",
    "# remove the redundant column\n",
    "flights.drop('iata_code', axis=1, inplace=True)\n",
    "# rename the column\n",
    "flights.rename(columns={'municipality': 'arrival city'}, inplace=True)\n",
    "flights"
   ]
  },
  {
   "cell_type": "markdown",
   "id": "4c7417e8a924ed3d",
   "metadata": {
    "collapsed": false
   },
   "source": [
    "Does the 'municipality' variable refer to the actual administrative division that the airport is located in, or the big city it's next to? Let's check."
   ]
  },
  {
   "cell_type": "code",
   "execution_count": 24,
   "id": "5c478e773e03a42e",
   "metadata": {
    "collapsed": false,
    "ExecuteTime": {
     "end_time": "2024-01-22T19:45:40.633708Z",
     "start_time": "2024-01-22T19:45:40.515894Z"
    }
   },
   "outputs": [
    {
     "data": {
      "text/plain": "               route   time departure airport arrival airport departure city  \\\n698   {'LHR', 'ABZ'}   95.0               LHR             ABZ         London   \n699   {'LHR', 'AGP'}  185.0               LHR             AGP         London   \n700   {'LHR', 'AMS'}   85.0               LHR             AMS         London   \n701   {'LHR', 'ARN'}  160.0               LHR             ARN         London   \n702   {'LHR', 'ATH'}  245.0               LHR             ATH         London   \n...              ...    ...               ...             ...            ...   \n1201  {'STN', 'VRN'}  122.5               STN             VRN         London   \n1202  {'STN', 'WMI'}  135.0               STN             WMI         London   \n1203  {'STN', 'WRO'}  125.0               STN             WRO         London   \n1204  {'STN', 'ZAG'}  135.0               STN             ZAG         London   \n1205  {'STN', 'ZAZ'}  132.5               STN             ZAZ         London   \n\n        arrival city  \n698         Aberdeen  \n699           Málaga  \n700        Amsterdam  \n701        Stockholm  \n702   Spata-Artemida  \n...              ...  \n1201    Caselle (VR)  \n1202          Warsaw  \n1203         Wrocław  \n1204          Zagreb  \n1205        Zaragoza  \n\n[93 rows x 6 columns]",
      "text/html": "<div>\n<style scoped>\n    .dataframe tbody tr th:only-of-type {\n        vertical-align: middle;\n    }\n\n    .dataframe tbody tr th {\n        vertical-align: top;\n    }\n\n    .dataframe thead th {\n        text-align: right;\n    }\n</style>\n<table border=\"1\" class=\"dataframe\">\n  <thead>\n    <tr style=\"text-align: right;\">\n      <th></th>\n      <th>route</th>\n      <th>time</th>\n      <th>departure airport</th>\n      <th>arrival airport</th>\n      <th>departure city</th>\n      <th>arrival city</th>\n    </tr>\n  </thead>\n  <tbody>\n    <tr>\n      <th>698</th>\n      <td>{'LHR', 'ABZ'}</td>\n      <td>95.0</td>\n      <td>LHR</td>\n      <td>ABZ</td>\n      <td>London</td>\n      <td>Aberdeen</td>\n    </tr>\n    <tr>\n      <th>699</th>\n      <td>{'LHR', 'AGP'}</td>\n      <td>185.0</td>\n      <td>LHR</td>\n      <td>AGP</td>\n      <td>London</td>\n      <td>Málaga</td>\n    </tr>\n    <tr>\n      <th>700</th>\n      <td>{'LHR', 'AMS'}</td>\n      <td>85.0</td>\n      <td>LHR</td>\n      <td>AMS</td>\n      <td>London</td>\n      <td>Amsterdam</td>\n    </tr>\n    <tr>\n      <th>701</th>\n      <td>{'LHR', 'ARN'}</td>\n      <td>160.0</td>\n      <td>LHR</td>\n      <td>ARN</td>\n      <td>London</td>\n      <td>Stockholm</td>\n    </tr>\n    <tr>\n      <th>702</th>\n      <td>{'LHR', 'ATH'}</td>\n      <td>245.0</td>\n      <td>LHR</td>\n      <td>ATH</td>\n      <td>London</td>\n      <td>Spata-Artemida</td>\n    </tr>\n    <tr>\n      <th>...</th>\n      <td>...</td>\n      <td>...</td>\n      <td>...</td>\n      <td>...</td>\n      <td>...</td>\n      <td>...</td>\n    </tr>\n    <tr>\n      <th>1201</th>\n      <td>{'STN', 'VRN'}</td>\n      <td>122.5</td>\n      <td>STN</td>\n      <td>VRN</td>\n      <td>London</td>\n      <td>Caselle (VR)</td>\n    </tr>\n    <tr>\n      <th>1202</th>\n      <td>{'STN', 'WMI'}</td>\n      <td>135.0</td>\n      <td>STN</td>\n      <td>WMI</td>\n      <td>London</td>\n      <td>Warsaw</td>\n    </tr>\n    <tr>\n      <th>1203</th>\n      <td>{'STN', 'WRO'}</td>\n      <td>125.0</td>\n      <td>STN</td>\n      <td>WRO</td>\n      <td>London</td>\n      <td>Wrocław</td>\n    </tr>\n    <tr>\n      <th>1204</th>\n      <td>{'STN', 'ZAG'}</td>\n      <td>135.0</td>\n      <td>STN</td>\n      <td>ZAG</td>\n      <td>London</td>\n      <td>Zagreb</td>\n    </tr>\n    <tr>\n      <th>1205</th>\n      <td>{'STN', 'ZAZ'}</td>\n      <td>132.5</td>\n      <td>STN</td>\n      <td>ZAZ</td>\n      <td>London</td>\n      <td>Zaragoza</td>\n    </tr>\n  </tbody>\n</table>\n<p>93 rows × 6 columns</p>\n</div>"
     },
     "execution_count": 24,
     "metadata": {},
     "output_type": "execute_result"
    }
   ],
   "source": [
    "flights[flights['departure city'].str.contains('London')]"
   ]
  },
  {
   "cell_type": "code",
   "execution_count": 25,
   "id": "49376b6f",
   "metadata": {
    "ExecuteTime": {
     "end_time": "2024-01-22T19:45:40.731881Z",
     "start_time": "2024-01-22T19:45:40.635374Z"
    }
   },
   "outputs": [],
   "source": [
    "flights.to_csv(\"../datasets/flight_times_extended.csv\") # saving it to avoid re-running cells"
   ]
  },
  {
   "cell_type": "markdown",
   "id": "8a7991026f7ceba5",
   "metadata": {
    "collapsed": false
   },
   "source": [
    "### Extracting a set of airport cities"
   ]
  },
  {
   "cell_type": "code",
   "execution_count": 26,
   "id": "b84c48ff",
   "metadata": {
    "ExecuteTime": {
     "end_time": "2024-01-22T19:45:40.876618Z",
     "start_time": "2024-01-22T19:45:40.709619Z"
    }
   },
   "outputs": [
    {
     "data": {
      "text/plain": "0              Almería\n1           Düsseldorf\n2               Greven\n3            Newcastle\n4             Salzburg\n            ...       \n299    Nizhny Novgorod\n300         Kos Island\n301              Paris\n302             Geneva\n303          Nuremberg\nName: 0, Length: 304, dtype: object"
     },
     "execution_count": 26,
     "metadata": {},
     "output_type": "execute_result"
    }
   ],
   "source": [
    "airport_cites = set(flights[\"departure city\"]) | set(flights[\"arrival city\"])\n",
    "airport_cites = pd.DataFrame(airport_cites)\n",
    "airport_cites.to_csv(\"../datasets/airport_cities.csv\",index=False, header=False)\n",
    "airport_cites[0]"
   ]
  },
  {
   "cell_type": "markdown",
   "source": [
    "## Train data: Rail transport performance in Europe in 2021"
   ],
   "metadata": {
    "collapsed": false
   },
   "id": "c6525adf64353ed8"
  },
  {
   "cell_type": "markdown",
   "source": [
    "### Importing and exploring the data"
   ],
   "metadata": {
    "collapsed": false
   },
   "id": "837ab9dcc313d70b"
  },
  {
   "cell_type": "markdown",
   "source": [
    "Output: train_routes.csv, train_cities.csv"
   ],
   "metadata": {
    "collapsed": false
   },
   "id": "8abbac1d40b056ae"
  },
  {
   "cell_type": "code",
   "outputs": [],
   "source": [
    "import pandas as pd"
   ],
   "metadata": {
    "collapsed": false
   },
   "id": "fe4f13cd354696ee",
   "execution_count": 128
  },
  {
   "cell_type": "code",
   "outputs": [],
   "source": [
    "df = pd.read_csv('datasets/Rail_transport_performance_in_Europe_2021.csv')"
   ],
   "metadata": {
    "collapsed": false
   },
   "id": "2245bc2f28cab4d",
   "execution_count": 129
  },
  {
   "cell_type": "code",
   "outputs": [
    {
     "data": {
      "text/html": [
       "<div>\n",
       "<style scoped>\n",
       "    .dataframe tbody tr th:only-of-type {\n",
       "        vertical-align: middle;\n",
       "    }\n",
       "\n",
       "    .dataframe tbody tr th {\n",
       "        vertical-align: top;\n",
       "    }\n",
       "\n",
       "    .dataframe thead th {\n",
       "        text-align: right;\n",
       "    }\n",
       "</style>\n",
       "<table border=\"1\" class=\"dataframe\">\n",
       "  <thead>\n",
       "    <tr style=\"text-align: right;\">\n",
       "      <th></th>\n",
       "      <th>country_larger_city</th>\n",
       "      <th>HDC_code_larger</th>\n",
       "      <th>larger_city</th>\n",
       "      <th>pop_larger_city</th>\n",
       "      <th>country_smaller_city</th>\n",
       "      <th>HDC_code_smaller</th>\n",
       "      <th>smaller_city</th>\n",
       "      <th>pop_smaller_city</th>\n",
       "      <th>crossborder</th>\n",
       "      <th>distance_centroids</th>\n",
       "      <th>av_dist_opti</th>\n",
       "      <th>time_opti</th>\n",
       "      <th>speed_opti</th>\n",
       "      <th>av_dist_avt</th>\n",
       "      <th>time_avt</th>\n",
       "      <th>speed_avt</th>\n",
       "    </tr>\n",
       "  </thead>\n",
       "  <tbody>\n",
       "    <tr>\n",
       "      <th>0</th>\n",
       "      <td>FR</td>\n",
       "      <td>GEOSTAT11_450</td>\n",
       "      <td>Paris</td>\n",
       "      <td>8900172</td>\n",
       "      <td>BE</td>\n",
       "      <td>GEOSTAT11_349</td>\n",
       "      <td>Bruxelles / Brussel</td>\n",
       "      <td>1233487</td>\n",
       "      <td>True</td>\n",
       "      <td>more than 120 km</td>\n",
       "      <td>260.8</td>\n",
       "      <td>1.44</td>\n",
       "      <td>182.1</td>\n",
       "      <td>261.6</td>\n",
       "      <td>1.71</td>\n",
       "      <td>153.5</td>\n",
       "    </tr>\n",
       "    <tr>\n",
       "      <th>1</th>\n",
       "      <td>FR</td>\n",
       "      <td>GEOSTAT11_450</td>\n",
       "      <td>Paris</td>\n",
       "      <td>8900172</td>\n",
       "      <td>FR</td>\n",
       "      <td>GEOSTAT11_361</td>\n",
       "      <td>Lille</td>\n",
       "      <td>911478</td>\n",
       "      <td>False</td>\n",
       "      <td>more than 120 km</td>\n",
       "      <td>202.0</td>\n",
       "      <td>1.00</td>\n",
       "      <td>202.1</td>\n",
       "      <td>201.9</td>\n",
       "      <td>1.29</td>\n",
       "      <td>157.3</td>\n",
       "    </tr>\n",
       "    <tr>\n",
       "      <th>2</th>\n",
       "      <td>FR</td>\n",
       "      <td>GEOSTAT11_450</td>\n",
       "      <td>Paris</td>\n",
       "      <td>8900172</td>\n",
       "      <td>FR</td>\n",
       "      <td>GEOSTAT11_418</td>\n",
       "      <td>Rouen</td>\n",
       "      <td>298297</td>\n",
       "      <td>False</td>\n",
       "      <td>114.6</td>\n",
       "      <td>110.0</td>\n",
       "      <td>1.24</td>\n",
       "      <td>88.7</td>\n",
       "      <td>110.0</td>\n",
       "      <td>1.67</td>\n",
       "      <td>65.9</td>\n",
       "    </tr>\n",
       "    <tr>\n",
       "      <th>3</th>\n",
       "      <td>FR</td>\n",
       "      <td>GEOSTAT11_450</td>\n",
       "      <td>Paris</td>\n",
       "      <td>8900172</td>\n",
       "      <td>FR</td>\n",
       "      <td>GEOSTAT11_434</td>\n",
       "      <td>Cergy-Pontoise</td>\n",
       "      <td>273138</td>\n",
       "      <td>False</td>\n",
       "      <td>30.6</td>\n",
       "      <td>4.8</td>\n",
       "      <td>0.07</td>\n",
       "      <td>67.9</td>\n",
       "      <td>4.8</td>\n",
       "      <td>0.17</td>\n",
       "      <td>27.9</td>\n",
       "    </tr>\n",
       "    <tr>\n",
       "      <th>4</th>\n",
       "      <td>FR</td>\n",
       "      <td>GEOSTAT11_450</td>\n",
       "      <td>Paris</td>\n",
       "      <td>8900172</td>\n",
       "      <td>FR</td>\n",
       "      <td>GEOSTAT11_499</td>\n",
       "      <td>Tours</td>\n",
       "      <td>211915</td>\n",
       "      <td>False</td>\n",
       "      <td>more than 120 km</td>\n",
       "      <td>187.7</td>\n",
       "      <td>0.86</td>\n",
       "      <td>218.2</td>\n",
       "      <td>200.4</td>\n",
       "      <td>1.54</td>\n",
       "      <td>130.6</td>\n",
       "    </tr>\n",
       "    <tr>\n",
       "      <th>...</th>\n",
       "      <td>...</td>\n",
       "      <td>...</td>\n",
       "      <td>...</td>\n",
       "      <td>...</td>\n",
       "      <td>...</td>\n",
       "      <td>...</td>\n",
       "      <td>...</td>\n",
       "      <td>...</td>\n",
       "      <td>...</td>\n",
       "      <td>...</td>\n",
       "      <td>...</td>\n",
       "      <td>...</td>\n",
       "      <td>...</td>\n",
       "      <td>...</td>\n",
       "      <td>...</td>\n",
       "      <td>...</td>\n",
       "    </tr>\n",
       "    <tr>\n",
       "      <th>6594</th>\n",
       "      <td>HU</td>\n",
       "      <td>GEOSTAT11_506</td>\n",
       "      <td>Szolnok</td>\n",
       "      <td>51457</td>\n",
       "      <td>HU</td>\n",
       "      <td>GEOSTAT11_500</td>\n",
       "      <td>Érd</td>\n",
       "      <td>51285</td>\n",
       "      <td>False</td>\n",
       "      <td>99.6</td>\n",
       "      <td>NaN</td>\n",
       "      <td>NaN</td>\n",
       "      <td>NaN</td>\n",
       "      <td>NaN</td>\n",
       "      <td>NaN</td>\n",
       "      <td>NaN</td>\n",
       "    </tr>\n",
       "    <tr>\n",
       "      <th>6595</th>\n",
       "      <td>HU</td>\n",
       "      <td>GEOSTAT11_500</td>\n",
       "      <td>Érd</td>\n",
       "      <td>51285</td>\n",
       "      <td>HU</td>\n",
       "      <td>GEOSTAT11_516</td>\n",
       "      <td>Veszprém</td>\n",
       "      <td>50141</td>\n",
       "      <td>False</td>\n",
       "      <td>82.2</td>\n",
       "      <td>NaN</td>\n",
       "      <td>NaN</td>\n",
       "      <td>NaN</td>\n",
       "      <td>NaN</td>\n",
       "      <td>NaN</td>\n",
       "      <td>NaN</td>\n",
       "    </tr>\n",
       "    <tr>\n",
       "      <th>6596</th>\n",
       "      <td>IT</td>\n",
       "      <td>GEOSTAT11_770</td>\n",
       "      <td>Bitonto</td>\n",
       "      <td>50961</td>\n",
       "      <td>IT</td>\n",
       "      <td>GEOSTAT11_734</td>\n",
       "      <td>Manfredonia</td>\n",
       "      <td>50684</td>\n",
       "      <td>False</td>\n",
       "      <td>86.8</td>\n",
       "      <td>NaN</td>\n",
       "      <td>NaN</td>\n",
       "      <td>NaN</td>\n",
       "      <td>NaN</td>\n",
       "      <td>NaN</td>\n",
       "      <td>NaN</td>\n",
       "    </tr>\n",
       "    <tr>\n",
       "      <th>6597</th>\n",
       "      <td>IT</td>\n",
       "      <td>GEOSTAT11_770</td>\n",
       "      <td>Bitonto</td>\n",
       "      <td>50961</td>\n",
       "      <td>IT</td>\n",
       "      <td>GEOSTAT11_761</td>\n",
       "      <td>Cerignola</td>\n",
       "      <td>50074</td>\n",
       "      <td>False</td>\n",
       "      <td>68.5</td>\n",
       "      <td>NaN</td>\n",
       "      <td>NaN</td>\n",
       "      <td>NaN</td>\n",
       "      <td>NaN</td>\n",
       "      <td>NaN</td>\n",
       "      <td>NaN</td>\n",
       "    </tr>\n",
       "    <tr>\n",
       "      <th>6598</th>\n",
       "      <td>IT</td>\n",
       "      <td>GEOSTAT11_734</td>\n",
       "      <td>Manfredonia</td>\n",
       "      <td>50684</td>\n",
       "      <td>IT</td>\n",
       "      <td>GEOSTAT11_761</td>\n",
       "      <td>Cerignola</td>\n",
       "      <td>50074</td>\n",
       "      <td>False</td>\n",
       "      <td>40.5</td>\n",
       "      <td>NaN</td>\n",
       "      <td>NaN</td>\n",
       "      <td>NaN</td>\n",
       "      <td>NaN</td>\n",
       "      <td>NaN</td>\n",
       "      <td>NaN</td>\n",
       "    </tr>\n",
       "  </tbody>\n",
       "</table>\n",
       "<p>6599 rows × 16 columns</p>\n",
       "</div>"
      ],
      "text/plain": [
       "     country_larger_city HDC_code_larger  larger_city  pop_larger_city  \\\n",
       "0                     FR   GEOSTAT11_450        Paris          8900172   \n",
       "1                     FR   GEOSTAT11_450        Paris          8900172   \n",
       "2                     FR   GEOSTAT11_450        Paris          8900172   \n",
       "3                     FR   GEOSTAT11_450        Paris          8900172   \n",
       "4                     FR   GEOSTAT11_450        Paris          8900172   \n",
       "...                  ...             ...          ...              ...   \n",
       "6594                  HU   GEOSTAT11_506      Szolnok            51457   \n",
       "6595                  HU   GEOSTAT11_500          Érd            51285   \n",
       "6596                  IT   GEOSTAT11_770      Bitonto            50961   \n",
       "6597                  IT   GEOSTAT11_770      Bitonto            50961   \n",
       "6598                  IT   GEOSTAT11_734  Manfredonia            50684   \n",
       "\n",
       "     country_smaller_city HDC_code_smaller         smaller_city  \\\n",
       "0                      BE    GEOSTAT11_349  Bruxelles / Brussel   \n",
       "1                      FR    GEOSTAT11_361                Lille   \n",
       "2                      FR    GEOSTAT11_418                Rouen   \n",
       "3                      FR    GEOSTAT11_434       Cergy-Pontoise   \n",
       "4                      FR    GEOSTAT11_499                Tours   \n",
       "...                   ...              ...                  ...   \n",
       "6594                   HU    GEOSTAT11_500                  Érd   \n",
       "6595                   HU    GEOSTAT11_516             Veszprém   \n",
       "6596                   IT    GEOSTAT11_734          Manfredonia   \n",
       "6597                   IT    GEOSTAT11_761            Cerignola   \n",
       "6598                   IT    GEOSTAT11_761            Cerignola   \n",
       "\n",
       "      pop_smaller_city  crossborder distance_centroids  av_dist_opti  \\\n",
       "0              1233487         True   more than 120 km         260.8   \n",
       "1               911478        False   more than 120 km         202.0   \n",
       "2               298297        False              114.6         110.0   \n",
       "3               273138        False               30.6           4.8   \n",
       "4               211915        False   more than 120 km         187.7   \n",
       "...                ...          ...                ...           ...   \n",
       "6594             51285        False               99.6           NaN   \n",
       "6595             50141        False               82.2           NaN   \n",
       "6596             50684        False               86.8           NaN   \n",
       "6597             50074        False               68.5           NaN   \n",
       "6598             50074        False               40.5           NaN   \n",
       "\n",
       "      time_opti  speed_opti  av_dist_avt  time_avt  speed_avt  \n",
       "0          1.44       182.1        261.6      1.71      153.5  \n",
       "1          1.00       202.1        201.9      1.29      157.3  \n",
       "2          1.24        88.7        110.0      1.67       65.9  \n",
       "3          0.07        67.9          4.8      0.17       27.9  \n",
       "4          0.86       218.2        200.4      1.54      130.6  \n",
       "...         ...         ...          ...       ...        ...  \n",
       "6594        NaN         NaN          NaN       NaN        NaN  \n",
       "6595        NaN         NaN          NaN       NaN        NaN  \n",
       "6596        NaN         NaN          NaN       NaN        NaN  \n",
       "6597        NaN         NaN          NaN       NaN        NaN  \n",
       "6598        NaN         NaN          NaN       NaN        NaN  \n",
       "\n",
       "[6599 rows x 16 columns]"
      ]
     },
     "execution_count": 130,
     "metadata": {},
     "output_type": "execute_result"
    }
   ],
   "source": [
    "df"
   ],
   "metadata": {
    "collapsed": false
   },
   "id": "5b4ccf3390ae223c",
   "execution_count": 130
  },
  {
   "cell_type": "code",
   "outputs": [
    {
     "data": {
      "text/plain": [
       "UK    2336\n",
       "NL    1037\n",
       "DE    1025\n",
       "ES     496\n",
       "IT     487\n",
       "PL     301\n",
       "FR     287\n",
       "BE     184\n",
       "RO      91\n",
       "CZ      75\n",
       "CH      68\n",
       "HU      43\n",
       "BG      42\n",
       "SE      30\n",
       "SK      24\n",
       "PT      20\n",
       "AT      16\n",
       "DK       7\n",
       "SI       7\n",
       "LT       5\n",
       "IE       4\n",
       "EL       4\n",
       "FI       3\n",
       "HR       3\n",
       "LU       3\n",
       "NO       1\n",
       "Name: country_larger_city, dtype: int64"
      ]
     },
     "execution_count": 131,
     "metadata": {},
     "output_type": "execute_result"
    }
   ],
   "source": [
    "df['country_larger_city'].value_counts()"
   ],
   "metadata": {
    "collapsed": false
   },
   "id": "8a9f35274c6baad7",
   "execution_count": 131
  },
  {
   "cell_type": "code",
   "outputs": [
    {
     "data": {
      "text/plain": [
       "<Axes: >"
      ]
     },
     "execution_count": 132,
     "metadata": {},
     "output_type": "execute_result"
    },
    {
     "data": {
      "image/png": "[encoded data removed]",
      "text/plain": [
       "<Figure size 640x480 with 1 Axes>"
      ]
     },
     "metadata": {},
     "output_type": "display_data"
    }
   ],
   "source": [
    "df['country_larger_city'].value_counts().plot(kind='barh')"
   ],
   "metadata": {
    "collapsed": false
   },
   "id": "f88deea97dfbacc5",
   "execution_count": 132
  },
  {
   "cell_type": "code",
   "outputs": [
    {
     "data": {
      "text/plain": [
       "UK    2335\n",
       "NL    1066\n",
       "DE     982\n",
       "ES     490\n",
       "IT     481\n",
       "FR     280\n",
       "PL     271\n",
       "BE     204\n",
       "CZ     104\n",
       "RO      92\n",
       "CH      63\n",
       "HU      55\n",
       "BG      36\n",
       "SK      31\n",
       "SE      30\n",
       "PT      22\n",
       "AT      17\n",
       "DK       7\n",
       "EL       5\n",
       "MC       5\n",
       "IE       4\n",
       "SI       4\n",
       "HR       4\n",
       "FI       3\n",
       "LT       3\n",
       "LU       3\n",
       "NO       1\n",
       "LV       1\n",
       "Name: country_smaller_city, dtype: int64"
      ]
     },
     "execution_count": 133,
     "metadata": {},
     "output_type": "execute_result"
    }
   ],
   "source": [
    "df['country_smaller_city'].value_counts()"
   ],
   "metadata": {
    "collapsed": false
   },
   "id": "cf2b97244355ca48",
   "execution_count": 133
  },
  {
   "cell_type": "code",
   "outputs": [
    {
     "data": {
      "text/plain": [
       "count    3434.000000\n",
       "mean        0.948771\n",
       "std         0.399241\n",
       "min         0.030000\n",
       "25%         0.660000\n",
       "50%         1.020000\n",
       "75%         1.290000\n",
       "max         1.500000\n",
       "Name: time_opti, dtype: float64"
      ]
     },
     "execution_count": 134,
     "metadata": {},
     "output_type": "execute_result"
    }
   ],
   "source": [
    "df['time_opti'].describe()"
   ],
   "metadata": {
    "collapsed": false
   },
   "id": "595c1c74c927484",
   "execution_count": 134
  },
  {
   "cell_type": "code",
   "outputs": [
    {
     "data": {
      "text/plain": [
       "count    3434.000000\n",
       "mean        1.563730\n",
       "std         1.265469\n",
       "min         0.100000\n",
       "25%         1.050000\n",
       "50%         1.500000\n",
       "75%         1.840000\n",
       "max        17.600000\n",
       "Name: time_avt, dtype: float64"
      ]
     },
     "execution_count": 135,
     "metadata": {},
     "output_type": "execute_result"
    }
   ],
   "source": [
    "df['time_avt'].describe()"
   ],
   "metadata": {
    "collapsed": false
   },
   "id": "7c9da7791462398b",
   "execution_count": 135
  },
  {
   "cell_type": "markdown",
   "source": [
    "### Data processing"
   ],
   "metadata": {
    "collapsed": false
   },
   "id": "793fa40deef9ec05"
  },
  {
   "cell_type": "code",
   "outputs": [
    {
     "data": {
      "text/html": [
       "<div>\n",
       "<style scoped>\n",
       "    .dataframe tbody tr th:only-of-type {\n",
       "        vertical-align: middle;\n",
       "    }\n",
       "\n",
       "    .dataframe tbody tr th {\n",
       "        vertical-align: top;\n",
       "    }\n",
       "\n",
       "    .dataframe thead th {\n",
       "        text-align: right;\n",
       "    }\n",
       "</style>\n",
       "<table border=\"1\" class=\"dataframe\">\n",
       "  <thead>\n",
       "    <tr style=\"text-align: right;\">\n",
       "      <th></th>\n",
       "      <th>larger_city</th>\n",
       "      <th>smaller_city</th>\n",
       "      <th>time_avt</th>\n",
       "      <th>time_opti</th>\n",
       "    </tr>\n",
       "  </thead>\n",
       "  <tbody>\n",
       "    <tr>\n",
       "      <th>0</th>\n",
       "      <td>Paris</td>\n",
       "      <td>Bruxelles / Brussel</td>\n",
       "      <td>1.71</td>\n",
       "      <td>1.44</td>\n",
       "    </tr>\n",
       "    <tr>\n",
       "      <th>1</th>\n",
       "      <td>Paris</td>\n",
       "      <td>Lille</td>\n",
       "      <td>1.29</td>\n",
       "      <td>1.00</td>\n",
       "    </tr>\n",
       "    <tr>\n",
       "      <th>2</th>\n",
       "      <td>Paris</td>\n",
       "      <td>Rouen</td>\n",
       "      <td>1.67</td>\n",
       "      <td>1.24</td>\n",
       "    </tr>\n",
       "    <tr>\n",
       "      <th>3</th>\n",
       "      <td>Paris</td>\n",
       "      <td>Cergy-Pontoise</td>\n",
       "      <td>0.17</td>\n",
       "      <td>0.07</td>\n",
       "    </tr>\n",
       "    <tr>\n",
       "      <th>4</th>\n",
       "      <td>Paris</td>\n",
       "      <td>Tours</td>\n",
       "      <td>1.54</td>\n",
       "      <td>0.86</td>\n",
       "    </tr>\n",
       "  </tbody>\n",
       "</table>\n",
       "</div>"
      ],
      "text/plain": [
       "  larger_city         smaller_city  time_avt  time_opti\n",
       "0       Paris  Bruxelles / Brussel      1.71       1.44\n",
       "1       Paris                Lille      1.29       1.00\n",
       "2       Paris                Rouen      1.67       1.24\n",
       "3       Paris       Cergy-Pontoise      0.17       0.07\n",
       "4       Paris                Tours      1.54       0.86"
      ]
     },
     "execution_count": 139,
     "metadata": {},
     "output_type": "execute_result"
    }
   ],
   "source": [
    "tmpDF = df[[\"larger_city\",\"smaller_city\",\"time_avt\",\"time_opti\"]].copy()\n",
    "tmpDF.head()"
   ],
   "metadata": {
    "collapsed": false
   },
   "id": "43de79489ec05699",
   "execution_count": 139
  },
  {
   "cell_type": "markdown",
   "source": [
    "Cleaning"
   ],
   "metadata": {
    "collapsed": false
   },
   "id": "fee27b470012d61e"
  },
  {
   "cell_type": "code",
   "outputs": [
    {
     "data": {
      "text/html": [
       "<div>\n",
       "<style scoped>\n",
       "    .dataframe tbody tr th:only-of-type {\n",
       "        vertical-align: middle;\n",
       "    }\n",
       "\n",
       "    .dataframe tbody tr th {\n",
       "        vertical-align: top;\n",
       "    }\n",
       "\n",
       "    .dataframe thead th {\n",
       "        text-align: right;\n",
       "    }\n",
       "</style>\n",
       "<table border=\"1\" class=\"dataframe\">\n",
       "  <thead>\n",
       "    <tr style=\"text-align: right;\">\n",
       "      <th></th>\n",
       "      <th>city_1</th>\n",
       "      <th>city_2</th>\n",
       "      <th>time_avg[h]</th>\n",
       "      <th>time_opti[h]</th>\n",
       "      <th>time_opti[min]</th>\n",
       "      <th>time_avg[min]</th>\n",
       "    </tr>\n",
       "  </thead>\n",
       "  <tbody>\n",
       "    <tr>\n",
       "      <th>0</th>\n",
       "      <td>Paris</td>\n",
       "      <td>Bruxelles / Brussel</td>\n",
       "      <td>1.71</td>\n",
       "      <td>1.44</td>\n",
       "      <td>86.4</td>\n",
       "      <td>102.6</td>\n",
       "    </tr>\n",
       "    <tr>\n",
       "      <th>1</th>\n",
       "      <td>Paris</td>\n",
       "      <td>Lille</td>\n",
       "      <td>1.29</td>\n",
       "      <td>1.00</td>\n",
       "      <td>60.0</td>\n",
       "      <td>77.4</td>\n",
       "    </tr>\n",
       "    <tr>\n",
       "      <th>2</th>\n",
       "      <td>Paris</td>\n",
       "      <td>Rouen</td>\n",
       "      <td>1.67</td>\n",
       "      <td>1.24</td>\n",
       "      <td>74.4</td>\n",
       "      <td>100.2</td>\n",
       "    </tr>\n",
       "    <tr>\n",
       "      <th>3</th>\n",
       "      <td>Paris</td>\n",
       "      <td>Cergy-Pontoise</td>\n",
       "      <td>0.17</td>\n",
       "      <td>0.07</td>\n",
       "      <td>4.2</td>\n",
       "      <td>10.2</td>\n",
       "    </tr>\n",
       "    <tr>\n",
       "      <th>4</th>\n",
       "      <td>Paris</td>\n",
       "      <td>Tours</td>\n",
       "      <td>1.54</td>\n",
       "      <td>0.86</td>\n",
       "      <td>51.6</td>\n",
       "      <td>92.4</td>\n",
       "    </tr>\n",
       "    <tr>\n",
       "      <th>...</th>\n",
       "      <td>...</td>\n",
       "      <td>...</td>\n",
       "      <td>...</td>\n",
       "      <td>...</td>\n",
       "      <td>...</td>\n",
       "      <td>...</td>\n",
       "    </tr>\n",
       "    <tr>\n",
       "      <th>6575</th>\n",
       "      <td>Trani</td>\n",
       "      <td>Manfredonia</td>\n",
       "      <td>3.88</td>\n",
       "      <td>1.13</td>\n",
       "      <td>67.8</td>\n",
       "      <td>232.8</td>\n",
       "    </tr>\n",
       "    <tr>\n",
       "      <th>6582</th>\n",
       "      <td>Kettering</td>\n",
       "      <td>Corby</td>\n",
       "      <td>0.83</td>\n",
       "      <td>0.14</td>\n",
       "      <td>8.4</td>\n",
       "      <td>49.8</td>\n",
       "    </tr>\n",
       "    <tr>\n",
       "      <th>6584</th>\n",
       "      <td>San Severo</td>\n",
       "      <td>Bisceglie</td>\n",
       "      <td>2.69</td>\n",
       "      <td>1.10</td>\n",
       "      <td>66.0</td>\n",
       "      <td>161.4</td>\n",
       "    </tr>\n",
       "    <tr>\n",
       "      <th>6585</th>\n",
       "      <td>San Severo</td>\n",
       "      <td>Manfredonia</td>\n",
       "      <td>4.26</td>\n",
       "      <td>0.85</td>\n",
       "      <td>51.0</td>\n",
       "      <td>255.6</td>\n",
       "    </tr>\n",
       "    <tr>\n",
       "      <th>6591</th>\n",
       "      <td>Bisceglie</td>\n",
       "      <td>Manfredonia</td>\n",
       "      <td>3.99</td>\n",
       "      <td>1.27</td>\n",
       "      <td>76.2</td>\n",
       "      <td>239.4</td>\n",
       "    </tr>\n",
       "  </tbody>\n",
       "</table>\n",
       "<p>3434 rows × 6 columns</p>\n",
       "</div>"
      ],
      "text/plain": [
       "          city_1               city_2  time_avg[h]  time_opti[h]  \\\n",
       "0          Paris  Bruxelles / Brussel         1.71          1.44   \n",
       "1          Paris                Lille         1.29          1.00   \n",
       "2          Paris                Rouen         1.67          1.24   \n",
       "3          Paris       Cergy-Pontoise         0.17          0.07   \n",
       "4          Paris                Tours         1.54          0.86   \n",
       "...          ...                  ...          ...           ...   \n",
       "6575       Trani          Manfredonia         3.88          1.13   \n",
       "6582   Kettering                Corby         0.83          0.14   \n",
       "6584  San Severo            Bisceglie         2.69          1.10   \n",
       "6585  San Severo          Manfredonia         4.26          0.85   \n",
       "6591   Bisceglie          Manfredonia         3.99          1.27   \n",
       "\n",
       "      time_opti[min]  time_avg[min]  \n",
       "0               86.4          102.6  \n",
       "1               60.0           77.4  \n",
       "2               74.4          100.2  \n",
       "3                4.2           10.2  \n",
       "4               51.6           92.4  \n",
       "...              ...            ...  \n",
       "6575            67.8          232.8  \n",
       "6582             8.4           49.8  \n",
       "6584            66.0          161.4  \n",
       "6585            51.0          255.6  \n",
       "6591            76.2          239.4  \n",
       "\n",
       "[3434 rows x 6 columns]"
      ]
     },
     "execution_count": 140,
     "metadata": {},
     "output_type": "execute_result"
    }
   ],
   "source": [
    "tmpDF.dropna(inplace=True)\n",
    "\n",
    "tmpDF[\"time_opti[min]\"] = tmpDF[\"time_opti\"] * 60\n",
    "tmpDF[\"time_avg[min]\"] = tmpDF[\"time_avt\"]* 60\n",
    "\n",
    "routes = tmpDF.rename(columns={\"larger_city\":\"city_1\",\n",
    "                       \"smaller_city\":\"city_2\",\n",
    "                       \"time_opti\":\"time_opti[h]\",\n",
    "                       \"time_avt\":\"time_avg[h]\"})\n",
    "\n",
    "routes"
   ],
   "metadata": {
    "collapsed": false
   },
   "id": "7e0370715ca98664",
   "execution_count": 140
  },
  {
   "cell_type": "markdown",
   "source": [
    "Issue: Double names"
   ],
   "metadata": {
    "collapsed": false
   },
   "id": "6f021a3d6521389"
  },
  {
   "cell_type": "code",
   "outputs": [
    {
     "data": {
      "text/plain": [
       "{'Aldwick / Felpham',\n",
       " 'Alicante/Alacant',\n",
       " 'Anzio / Nettuno',\n",
       " 'Arcozelo / Espinho',\n",
       " 'Ayr / Prestwick',\n",
       " 'Bad Soden am Taunus / Kelkheim',\n",
       " 'Beverwijk/Heemskerk',\n",
       " 'Biel/Bienne',\n",
       " 'Blantyre / Hamilton',\n",
       " 'Bruxelles / Brussel',\n",
       " 'Cannock / Hednesford',\n",
       " 'Castellón de la Plana/Castelló de la Plana',\n",
       " 'Chomutov / Jirkov',\n",
       " 'Elche/Elx',\n",
       " 'Frimley / Farnborough',\n",
       " 'Gevelsberg / Schwelm',\n",
       " 'Greve / Ishøj',\n",
       " 'Grimsby / Cleethorpes',\n",
       " 'Gröpelingen / Vegesack',\n",
       " 'Kapellen / Ekeren',\n",
       " 'Leeds / Bradford',\n",
       " 'Lørenskog / Lillestrøm',\n",
       " 'Mannheim/Ludwigshafen',\n",
       " 'Martigues / Port-de-Bouc',\n",
       " 'Maurepas / Montigny-le-Bretonneux',\n",
       " 'Moers / Rheinhausen',\n",
       " 'Motherwell / Wishaw',\n",
       " 'Pamplona/Iruña',\n",
       " 'Pozzuoli / Bacoli',\n",
       " 'Quaregnon / Frameries',\n",
       " 'Redhill / Reigate',\n",
       " 'San Sebastián/Donostia',\n",
       " 'Sant Cugat del Vallès/Rubí',\n",
       " 'Soest / Baarn',\n",
       " 'Solingen / Wuppertal',\n",
       " 'Swords / Malahide',\n",
       " 'Tampere / Tammerfors',\n",
       " 'Ulm/Neu-Ulm',\n",
       " 'Vaihingen / Möhringen',\n",
       " 'Verviers / Dison',\n",
       " 'Vitoria/Gasteiz',\n",
       " 'Vleuten / De Meern',\n",
       " 'Wigan / Skelmersdale'}"
      ]
     },
     "execution_count": 141,
     "metadata": {},
     "output_type": "execute_result"
    }
   ],
   "source": [
    "names1 = routes.loc[ routes[\"city_1\"].str.contains(\"/\")][\"city_1\"].unique()\n",
    "names2 = routes.loc[ routes[\"city_2\"].str.contains(\"/\")][\"city_2\"].unique()\n",
    "\n",
    "double_names = set(names2).union(set(names1))\n",
    "pd.DataFrame(double_names).to_csv(\"./datasets/double_names_list.csv\")\n",
    "double_names"
   ],
   "metadata": {
    "collapsed": false
   },
   "id": "c2593744879d3b19",
   "execution_count": 141
  },
  {
   "cell_type": "markdown",
   "source": [
    "So far \"double names\" issue is an issue for limmited amount of cities. Most of them are small cities which have no direct access to airport. Therefore only \"left\" name will be taken as it represent the bigger one of cities or its international name"
   ],
   "metadata": {
    "collapsed": false
   },
   "id": "197fdaf3219ef8ee"
  },
  {
   "cell_type": "code",
   "outputs": [
    {
     "data": {
      "text/html": [
       "<div>\n",
       "<style scoped>\n",
       "    .dataframe tbody tr th:only-of-type {\n",
       "        vertical-align: middle;\n",
       "    }\n",
       "\n",
       "    .dataframe tbody tr th {\n",
       "        vertical-align: top;\n",
       "    }\n",
       "\n",
       "    .dataframe thead th {\n",
       "        text-align: right;\n",
       "    }\n",
       "</style>\n",
       "<table border=\"1\" class=\"dataframe\">\n",
       "  <thead>\n",
       "    <tr style=\"text-align: right;\">\n",
       "      <th></th>\n",
       "      <th>city_1</th>\n",
       "      <th>city_2</th>\n",
       "      <th>time_avg[h]</th>\n",
       "      <th>time_opti[h]</th>\n",
       "      <th>time_opti[min]</th>\n",
       "      <th>time_avg[min]</th>\n",
       "    </tr>\n",
       "  </thead>\n",
       "  <tbody>\n",
       "    <tr>\n",
       "      <th>0</th>\n",
       "      <td>Paris</td>\n",
       "      <td>Bruxelles</td>\n",
       "      <td>1.71</td>\n",
       "      <td>1.44</td>\n",
       "      <td>86.4</td>\n",
       "      <td>102.6</td>\n",
       "    </tr>\n",
       "    <tr>\n",
       "      <th>1</th>\n",
       "      <td>Paris</td>\n",
       "      <td>Lille</td>\n",
       "      <td>1.29</td>\n",
       "      <td>1.00</td>\n",
       "      <td>60.0</td>\n",
       "      <td>77.4</td>\n",
       "    </tr>\n",
       "    <tr>\n",
       "      <th>2</th>\n",
       "      <td>Paris</td>\n",
       "      <td>Rouen</td>\n",
       "      <td>1.67</td>\n",
       "      <td>1.24</td>\n",
       "      <td>74.4</td>\n",
       "      <td>100.2</td>\n",
       "    </tr>\n",
       "    <tr>\n",
       "      <th>3</th>\n",
       "      <td>Paris</td>\n",
       "      <td>Cergy-Pontoise</td>\n",
       "      <td>0.17</td>\n",
       "      <td>0.07</td>\n",
       "      <td>4.2</td>\n",
       "      <td>10.2</td>\n",
       "    </tr>\n",
       "    <tr>\n",
       "      <th>4</th>\n",
       "      <td>Paris</td>\n",
       "      <td>Tours</td>\n",
       "      <td>1.54</td>\n",
       "      <td>0.86</td>\n",
       "      <td>51.6</td>\n",
       "      <td>92.4</td>\n",
       "    </tr>\n",
       "    <tr>\n",
       "      <th>...</th>\n",
       "      <td>...</td>\n",
       "      <td>...</td>\n",
       "      <td>...</td>\n",
       "      <td>...</td>\n",
       "      <td>...</td>\n",
       "      <td>...</td>\n",
       "    </tr>\n",
       "    <tr>\n",
       "      <th>6575</th>\n",
       "      <td>Trani</td>\n",
       "      <td>Manfredonia</td>\n",
       "      <td>3.88</td>\n",
       "      <td>1.13</td>\n",
       "      <td>67.8</td>\n",
       "      <td>232.8</td>\n",
       "    </tr>\n",
       "    <tr>\n",
       "      <th>6582</th>\n",
       "      <td>Kettering</td>\n",
       "      <td>Corby</td>\n",
       "      <td>0.83</td>\n",
       "      <td>0.14</td>\n",
       "      <td>8.4</td>\n",
       "      <td>49.8</td>\n",
       "    </tr>\n",
       "    <tr>\n",
       "      <th>6584</th>\n",
       "      <td>San Severo</td>\n",
       "      <td>Bisceglie</td>\n",
       "      <td>2.69</td>\n",
       "      <td>1.10</td>\n",
       "      <td>66.0</td>\n",
       "      <td>161.4</td>\n",
       "    </tr>\n",
       "    <tr>\n",
       "      <th>6585</th>\n",
       "      <td>San Severo</td>\n",
       "      <td>Manfredonia</td>\n",
       "      <td>4.26</td>\n",
       "      <td>0.85</td>\n",
       "      <td>51.0</td>\n",
       "      <td>255.6</td>\n",
       "    </tr>\n",
       "    <tr>\n",
       "      <th>6591</th>\n",
       "      <td>Bisceglie</td>\n",
       "      <td>Manfredonia</td>\n",
       "      <td>3.99</td>\n",
       "      <td>1.27</td>\n",
       "      <td>76.2</td>\n",
       "      <td>239.4</td>\n",
       "    </tr>\n",
       "  </tbody>\n",
       "</table>\n",
       "<p>3434 rows × 6 columns</p>\n",
       "</div>"
      ],
      "text/plain": [
       "          city_1          city_2  time_avg[h]  time_opti[h]  time_opti[min]  \\\n",
       "0          Paris       Bruxelles         1.71          1.44            86.4   \n",
       "1          Paris           Lille         1.29          1.00            60.0   \n",
       "2          Paris           Rouen         1.67          1.24            74.4   \n",
       "3          Paris  Cergy-Pontoise         0.17          0.07             4.2   \n",
       "4          Paris           Tours         1.54          0.86            51.6   \n",
       "...          ...             ...          ...           ...             ...   \n",
       "6575       Trani     Manfredonia         3.88          1.13            67.8   \n",
       "6582   Kettering           Corby         0.83          0.14             8.4   \n",
       "6584  San Severo       Bisceglie         2.69          1.10            66.0   \n",
       "6585  San Severo     Manfredonia         4.26          0.85            51.0   \n",
       "6591   Bisceglie     Manfredonia         3.99          1.27            76.2   \n",
       "\n",
       "      time_avg[min]  \n",
       "0             102.6  \n",
       "1              77.4  \n",
       "2             100.2  \n",
       "3              10.2  \n",
       "4              92.4  \n",
       "...             ...  \n",
       "6575          232.8  \n",
       "6582           49.8  \n",
       "6584          161.4  \n",
       "6585          255.6  \n",
       "6591          239.4  \n",
       "\n",
       "[3434 rows x 6 columns]"
      ]
     },
     "execution_count": 142,
     "metadata": {},
     "output_type": "execute_result"
    }
   ],
   "source": [
    "routes[\"city_1\"] = routes[\"city_1\"].apply(lambda x: x.split(\" /\")[0].strip())\n",
    "routes[\"city_2\"] = routes[\"city_2\"].apply(lambda x: x.split(\" /\")[0].strip())\n",
    "routes"
   ],
   "metadata": {
    "collapsed": false
   },
   "id": "82331a6eb7888b83",
   "execution_count": 142
  },
  {
   "cell_type": "markdown",
   "source": [
    "Save:\n",
    "- train_cities.csv\n",
    "- train_routes.csv"
   ],
   "metadata": {
    "collapsed": false
   },
   "id": "3ba489f3709c913d"
  },
  {
   "cell_type": "code",
   "outputs": [],
   "source": [
    "cities_set = set(routes[\"city_1\"].unique()).union(routes[\"city_2\"].unique())\n",
    "train_cities = pd.DataFrame(cities_set)\n",
    "train_cities.to_csv(\"./datasets/train_cities.csv\",index=False, header=False)"
   ],
   "metadata": {
    "collapsed": false
   },
   "id": "63222c830d05f9c1",
   "execution_count": 126
  },
  {
   "cell_type": "code",
   "outputs": [],
   "source": [
    "routes.reset_index(inplace=True)\n",
    "routes.to_csv(\"./datasets/train_routes.csv\", index=False)"
   ],
   "metadata": {
    "collapsed": false
   },
   "id": "15dbb180aebf8820",
   "execution_count": 144
  },
  {
   "cell_type": "markdown",
   "source": [
    "### SNCF API attempt"
   ],
   "metadata": {
    "collapsed": false
   },
   "id": "5bb7613abf5f7c95"
  },
  {
   "cell_type": "markdown",
   "source": [
    "Trying to download the SNCF source schedules for train connections"
   ],
   "metadata": {
    "collapsed": false
   },
   "id": "e255d6fa6e9f794"
  },
  {
   "cell_type": "code",
   "outputs": [],
   "source": [
    "import requests\n",
    "\n",
    "api_key1 = \"0dca33cf-7a3b-4c16-9baf-534bbdaf98b6\"\n",
    "api_key2 = \"e86651c5-6924-48f0-b872-95ea08560ffe\"\n",
    "\n",
    "sncf_params = {\n",
    "    \"token\": \"e86651c5-6924-48f0-b872-95ea08560ffe\"\n",
    "}"
   ],
   "metadata": {
    "collapsed": false
   },
   "id": "b52257e141418e90",
   "execution_count": 136
  },
  {
   "cell_type": "code",
   "outputs": [
    {
     "data": {
      "text/plain": [
       "{'links': [{'href': 'https://api.sncf.com/v1/coverage/',\n",
       "   'templated': False,\n",
       "   'rel': 'coverage',\n",
       "   'type': 'coverage',\n",
       "   'title': 'Coverage of navitia'},\n",
       "  {'href': 'https://api.sncf.com/v1/coord/0.0%3B0.0/',\n",
       "   'templated': True,\n",
       "   'rel': 'coord',\n",
       "   'type': 'coord',\n",
       "   'title': 'Inverted geocoding for a given coordinate'},\n",
       "  {'href': 'https://api.sncf.com/v1/journeys',\n",
       "   'templated': False,\n",
       "   'rel': 'journeys',\n",
       "   'type': 'journeys',\n",
       "   'title': 'Compute journeys'},\n",
       "  {'href': 'https://api.sncf.com/v1/places',\n",
       "   'templated': False,\n",
       "   'rel': 'places',\n",
       "   'type': 'places',\n",
       "   'title': 'Autocomplete api'}]}"
      ]
     },
     "execution_count": 137,
     "metadata": {},
     "output_type": "execute_result"
    }
   ],
   "source": [
    "sncf_req = requests.get(f\"https://{api_key2}@api.sncf.com/v1/\")\n",
    "sncf_req.json()"
   ],
   "metadata": {
    "collapsed": false
   },
   "id": "d1f9613464d8995",
   "execution_count": 137
  },
  {
   "cell_type": "markdown",
   "source": [
    "The API doesn't work, we have to try something else"
   ],
   "metadata": {
    "collapsed": false
   },
   "id": "8ac314979f5b6476"
  },
  {
   "cell_type": "code",
   "outputs": [
    {
     "data": {
      "text/plain": [
       "{'httpCode': '404',\n",
       " 'httpMessage': 'Not Found',\n",
       " 'moreInformation': 'No resources match requested URI'}"
      ]
     },
     "execution_count": 138,
     "metadata": {},
     "output_type": "execute_result"
    }
   ],
   "source": [
    "req_get = requests.get(\"https://apis.deutschebahn.com/db-api-marketplace/apis/timetables/v1/plan/\")\n",
    "req_get.json()"
   ],
   "metadata": {
    "collapsed": false
   },
   "id": "10960b60a3b4af7a",
   "execution_count": 138
  },
  {
   "cell_type": "markdown",
   "source": [
    "The Deutsche Bahn API doesn't work either, because we didn't get the API keys we requested"
   ],
   "metadata": {
    "collapsed": false
   },
   "id": "3d0b65069ef84fc8"
  },
  {
   "cell_type": "markdown",
   "id": "a9eea938157307c",
   "metadata": {
    "collapsed": false
   },
   "source": [
    "## Intersection of cities from flight and train data "
   ]
  },
  {
   "cell_type": "markdown",
   "id": "d46d875dbf588f83",
   "metadata": {
    "collapsed": false
   },
   "source": [
    "Now we need to check that the train and plane datasets are using the same city names. We'll do this by checking that the city names in the plane dataset are a subset of the city names in the train dataset.\n",
    "\n",
    "Import of train routes preprocessed in \"Rail transport performance.ipnyb\""
   ]
  },
  {
   "cell_type": "code",
   "execution_count": 27,
   "id": "ce8995f1",
   "metadata": {
    "ExecuteTime": {
     "end_time": "2024-01-22T19:45:40.946785Z",
     "start_time": "2024-01-22T19:45:40.881098Z"
    }
   },
   "outputs": [
    {
     "data": {
      "text/plain": "           city\n0    St. Gallen\n1       Cremona\n2     Gütersloh\n3         Basel\n4      Salzburg\n..          ...\n656   Bruxelles\n657       Parla\n658    Iserlohn\n659   Harrogate\n660    Zaragoza\n\n[661 rows x 1 columns]",
      "text/html": "<div>\n<style scoped>\n    .dataframe tbody tr th:only-of-type {\n        vertical-align: middle;\n    }\n\n    .dataframe tbody tr th {\n        vertical-align: top;\n    }\n\n    .dataframe thead th {\n        text-align: right;\n    }\n</style>\n<table border=\"1\" class=\"dataframe\">\n  <thead>\n    <tr style=\"text-align: right;\">\n      <th></th>\n      <th>city</th>\n    </tr>\n  </thead>\n  <tbody>\n    <tr>\n      <th>0</th>\n      <td>St. Gallen</td>\n    </tr>\n    <tr>\n      <th>1</th>\n      <td>Cremona</td>\n    </tr>\n    <tr>\n      <th>2</th>\n      <td>Gütersloh</td>\n    </tr>\n    <tr>\n      <th>3</th>\n      <td>Basel</td>\n    </tr>\n    <tr>\n      <th>4</th>\n      <td>Salzburg</td>\n    </tr>\n    <tr>\n      <th>...</th>\n      <td>...</td>\n    </tr>\n    <tr>\n      <th>656</th>\n      <td>Bruxelles</td>\n    </tr>\n    <tr>\n      <th>657</th>\n      <td>Parla</td>\n    </tr>\n    <tr>\n      <th>658</th>\n      <td>Iserlohn</td>\n    </tr>\n    <tr>\n      <th>659</th>\n      <td>Harrogate</td>\n    </tr>\n    <tr>\n      <th>660</th>\n      <td>Zaragoza</td>\n    </tr>\n  </tbody>\n</table>\n<p>661 rows × 1 columns</p>\n</div>"
     },
     "execution_count": 27,
     "metadata": {},
     "output_type": "execute_result"
    }
   ],
   "source": [
    "trains  = pd.read_csv('../datasets/train_routes.csv')\n",
    "train_cities = pd.read_csv(\"../datasets/train_cities.csv\")\n",
    "trains = trains.iloc[:,1:]\n",
    "train_cities"
   ]
  },
  {
   "cell_type": "code",
   "execution_count": 28,
   "id": "e927b42b4c119d57",
   "metadata": {
    "collapsed": false,
    "ExecuteTime": {
     "end_time": "2024-01-22T19:45:41.052683Z",
     "start_time": "2024-01-22T19:45:40.930039Z"
    }
   },
   "outputs": [
    {
     "data": {
      "text/plain": "{'Aalborg',\n 'Aarhus',\n 'Aberdeen',\n 'Ajaccio/Napoléon Bonaparte',\n 'Alexandroupolis',\n 'Alghero',\n 'Alicante',\n 'Almería',\n 'Amsterdam',\n 'Ancona',\n 'Andenes',\n 'Archangelsk',\n 'Astrakhan',\n 'Bacău',\n 'Balice',\n 'Banja Luka',\n 'Barcelona',\n 'Bari',\n 'Bastia/Poretta',\n 'Belfast',\n 'Belgrade',\n 'Bergen',\n 'Beslan',\n 'Bilbao',\n 'Billund',\n 'Birmingham',\n 'Bodø',\n 'Bologna',\n 'Bolzano (BZ)',\n 'Bordeaux/Mérignac',\n 'Bournemouth',\n 'Bragança',\n 'Bratislava',\n 'Bremen',\n 'Brindisi',\n 'Bristol',\n 'Brønnøy',\n 'Budapest',\n 'Bugulma',\n 'Burgas',\n 'Bydgoszcz',\n 'Béziers/Vias',\n 'Cagliari',\n 'Calvi/Sainte-Catherine',\n 'Cardiff',\n 'Cascais',\n 'Caselle (VR)',\n 'Caselle Torinese (TO)',\n 'Castellón de la Plana',\n 'Castletown',\n 'Catania',\n 'Charleroi',\n 'Cheboksary',\n 'Chelyabinsk',\n 'Cherepovets',\n 'Chios Island',\n 'Chita',\n 'Chişinău',\n 'Cluj-Napoca',\n 'Copenhagen',\n 'Corvera',\n 'Craiova',\n 'Crete Island',\n 'Crotone',\n 'Culleredo',\n 'Debrecen',\n 'Dortmund',\n 'Dresden',\n 'Dubrave Gornje',\n 'Düsseldorf',\n 'Edinburgh',\n 'Eindhoven',\n 'El Matorral',\n 'Evenes',\n 'Faro',\n 'Feldkirchen bei Graz',\n 'Ferno (VA)',\n 'Figari Sud-Corse',\n 'Firenze',\n 'Florø',\n 'Frankfurt am Main',\n 'Frankfurt am Main (Lautzenhausen)',\n 'Funchal',\n 'Gatwick, Surrey',\n 'Gdańsk',\n 'Gelendzhik',\n 'Geneva',\n 'Genova (GE)',\n 'Gibraltar',\n 'Girona',\n 'Goleniow',\n 'Gothenburg',\n 'Granada',\n 'Greven',\n 'Grozny',\n 'Grâce-Hollogne',\n 'Hadsel',\n 'Hamburg',\n 'Hannover',\n 'Helsinki',\n 'Hondarribia',\n 'Horta',\n 'Iaşi',\n 'Ibiza (Eivissa)',\n 'Ilinden',\n 'Innsbruck',\n 'Inverness',\n 'Ioannina',\n 'Ivalo',\n 'Ivanovo',\n 'Izhevsk',\n 'Jasionka',\n 'Jerez de la Frontera',\n 'Kaliningrad',\n 'Kaluga',\n 'Karmøy',\n 'Kaunas',\n 'Kavala',\n 'Kazan',\n 'Kerkyra (Corfu)',\n 'Kirkenes',\n 'Kirov',\n 'Kittilä',\n 'Kjevik',\n 'Klagenfurt am Wörthersee',\n 'Kos Island',\n 'Košice',\n 'Krasnodar',\n 'Krasnoyarsk',\n 'Krasnyi Kurgan',\n 'Kuopio / Siilinjärvi',\n 'Kuusamo',\n 'Köln (Cologne)',\n 'Lamezia Terme (CZ)',\n 'Leeds',\n 'Leknes',\n 'Lesquin',\n 'Lisbon',\n 'Liverpool',\n 'London',\n 'Lublin',\n 'Luleå',\n 'Luton, Bedfordshire',\n 'Luxembourg',\n 'Lyon',\n 'Maastricht',\n 'Madrid',\n 'Magnitogorsk',\n 'Mahón (Maó)',\n 'Makhachkala',\n 'Malmö',\n 'Manchester',\n 'Marseille',\n 'Melilla',\n 'Memmingen',\n 'Mineralnyye Vody',\n 'Minsk',\n 'Montpellier/Méditerranée',\n 'Moscow',\n 'Mosjøen',\n 'Munich',\n 'Murmansk',\n 'Mykonos',\n 'Mytilene',\n 'Málaga',\n 'Nantes',\n 'Napoli',\n 'Naryan Mar',\n 'Newcastle',\n 'Newquay',\n 'Nice',\n 'Nizhnekamsk',\n 'Nizhny Novgorod',\n 'Niš',\n 'Norwich, Norfolk',\n 'Nottingham',\n 'Novokuznetsk',\n 'Nuremberg',\n 'Nyköping',\n 'Ohrid',\n 'Olbia (SS)',\n 'Olsztyn',\n 'Oradea',\n 'Orenburg',\n 'Orio al Serio (BG)',\n 'Orsk',\n 'Oslo',\n 'Otopeni',\n 'Oulu / Oulunsalo',\n 'Ożarowice',\n 'Paisley, Renfrewshire',\n 'Palanga',\n 'Palermo',\n 'Pamplona',\n 'Paris',\n 'Parma (PR)',\n 'Penza',\n 'Perm',\n 'Perugia',\n 'Pescara',\n 'Petrozavodsk',\n 'Pico Island',\n 'Pisa',\n 'Podgorica',\n 'Ponta Delgada',\n 'Porto',\n 'Poznań',\n 'Prague',\n 'Praia da Vitória',\n 'Prishtina',\n 'Pskov',\n 'Pula',\n 'Radom',\n 'Ranón',\n 'Reggio Calabria',\n 'Rheinmünster',\n 'Rhodes',\n 'Riga',\n 'Rinas',\n 'Rome',\n 'Ronchi dei Legionari (GO)',\n 'Rotterdam',\n 'Rovaniemi',\n 'Sabetta',\n 'Saint Anne',\n 'Saint Helier',\n 'Saint Peter Port',\n 'Saint-Louis',\n 'Saint-Étienne-de-Saint-Geoirs',\n 'Salzburg',\n 'Samara',\n 'Samos Island',\n 'San Bartolomé',\n 'Santander',\n 'Santiago de Compostela',\n 'Santorini Island',\n 'Sarajevo',\n 'Schkeuditz',\n 'Segrate (MI)',\n 'Sevilla',\n 'Sibiu',\n 'Simferopol',\n 'Sochi',\n 'Sofia',\n 'Souda',\n 'Southampton',\n 'Southend-on-Sea, Essex',\n 'Spata-Artemida',\n 'Split',\n 'St. Petersburg',\n 'Sta Cruz de la Palma, La Palma Island',\n 'Stavanger',\n 'Stavropol',\n 'Stockholm',\n 'Stornoway, Western Isles',\n 'Stuttgart',\n 'Suceava',\n 'Svolvær',\n 'Syktyvkar',\n 'Tallinn',\n 'Tampere / Pirkkala',\n 'Tarbes/Lourdes/Pyrénées',\n 'Thessaloniki',\n 'Tillé',\n 'Timişoara',\n 'Tivat',\n 'Torp',\n 'Toulouse/Blagnac',\n 'Tours/Val de Loire (Loire Valley)',\n 'Treviso (TV)',\n 'Tromsø',\n 'Trondheim',\n 'Ufa',\n 'Ulyanovsk',\n 'Umeå',\n 'Vaasa',\n 'Vadsø',\n 'Valencia',\n 'Valletta',\n 'Varna',\n 'Venezia (VE)',\n 'Vienna',\n 'Vigo',\n 'Vila Baleira',\n 'Vila Real',\n 'Vila do Porto',\n 'Vilnius',\n 'Viseu',\n 'Viviers-du-Lac',\n 'Volgograd',\n 'Voronezh',\n 'Vágar',\n 'Warsaw',\n 'Weeze',\n 'Wrocław',\n 'Zagreb',\n 'Zakynthos',\n 'Zaragoza',\n 'Zaventem',\n 'Zgornji Brnik',\n 'Zurich',\n 'Ålesund',\n 'Čilipi',\n 'Łódź'}"
     },
     "execution_count": 28,
     "metadata": {},
     "output_type": "execute_result"
    }
   ],
   "source": [
    "airport_cities_set = set(airport_cites[0])\n",
    "airport_cities_set"
   ]
  },
  {
   "cell_type": "code",
   "execution_count": 29,
   "id": "ee953fdc",
   "metadata": {
    "ExecuteTime": {
     "end_time": "2024-01-22T19:45:41.088998Z",
     "start_time": "2024-01-22T19:45:41.045953Z"
    }
   },
   "outputs": [
    {
     "data": {
      "text/plain": "{\"'s-Hertogenbosch\",\n 'A Coruña',\n 'Aachen',\n 'Aberdeen',\n 'Acerra',\n 'Acireale',\n 'Aix-en-Provence',\n 'Albacete',\n 'Alcalá de Henares',\n 'Aldwick',\n 'Alessandria',\n 'Alicante/Alacant',\n 'Alkmaar',\n 'Almada',\n 'Almelo',\n 'Almere',\n 'Alphen aan den Rijn',\n 'Amersfoort',\n 'Amiens',\n 'Amsterdam',\n 'Ancona',\n 'Angers',\n 'Annecy',\n 'Antibes',\n 'Antwerpen',\n 'Anzio',\n 'Apeldoorn',\n 'Arad',\n 'Arcozelo',\n 'Arezzo',\n 'Arnhem',\n 'Arras',\n 'Ashford',\n 'Assen',\n 'Asti',\n 'Augsburg',\n 'Avellino',\n 'Avignon',\n 'Aylesbury',\n 'Ayr',\n 'Bacău',\n 'Bad Soden am Taunus',\n 'Badajoz',\n 'Bagheria',\n 'Baia Mare',\n 'Bamberg',\n 'Bangor',\n 'Banská Bystrica',\n 'Barcelona',\n 'Bari',\n 'Barletta',\n 'Barnsley',\n 'Barreiro',\n 'Basel',\n 'Basildon',\n 'Basingstoke and Deane',\n 'Bath',\n 'Battipaglia',\n 'Bayonne',\n 'Bayreuth',\n 'Bedford',\n 'Belfast',\n 'Belfort',\n 'Benrath',\n 'Bergamo',\n 'Bergen op Zoom',\n 'Berlin',\n 'Bern',\n 'Besançon',\n 'Beverwijk/Heemskerk',\n 'Białystok',\n 'Biel/Bienne',\n 'Bielefeld',\n 'Bielsko-Biała',\n 'Birmingham',\n 'Bisceglie',\n 'Blackburn with Darwen',\n 'Blackpool',\n 'Blanchardstown',\n 'Blantyre',\n 'Bocholt',\n 'Bologna',\n 'Bolzano',\n 'Bonn',\n 'Borås',\n 'Boulogne-sur-mer',\n 'Bourges',\n 'Bournemouth',\n 'Bracknell',\n 'Braga',\n 'Bratislava',\n 'Braunschweig',\n 'Braşov',\n 'Breda',\n 'Bregenz',\n 'Bremen',\n 'Bremerhaven',\n 'Brescia',\n 'Brest',\n 'Brighton',\n 'Brindisi',\n 'Bristol',\n 'Brno',\n 'Brugge',\n 'Bruxelles',\n 'Brăila',\n 'Bucureşti',\n 'Budapest',\n 'Burgos',\n 'Burnley',\n 'Burton-on-Trent',\n 'Busto Arsizio',\n 'Buzău',\n 'Bydgoszcz',\n 'Béziers',\n 'Caen',\n 'Calais',\n 'Cambridge',\n 'Cannes',\n 'Cannock',\n 'Cardiff',\n 'Carlisle',\n 'Carpi',\n 'Cartagena',\n 'Caserta',\n 'Castelldefels',\n 'Castellón de la Plana/Castelló de la Plana',\n 'Catania',\n 'Cergy-Pontoise',\n 'Chambery',\n 'Charleroi',\n 'Chartres',\n 'Chelmsford',\n 'Cheltenham',\n 'Chemnitz',\n 'Cherbourg',\n 'Chester',\n 'Chełm',\n 'Chomutov',\n 'Ciudad Real',\n 'Coatbridge',\n 'Coimbra',\n 'Colchester',\n 'Collado Villalba',\n 'Colmar',\n 'Como',\n 'Corby',\n 'Cork',\n 'Coslada',\n 'Cottbus',\n 'Coventry',\n 'Crawley',\n 'Creil',\n 'Cremona',\n 'Crewe',\n 'Częstochowa',\n 'Cáceres',\n 'Cádiz',\n 'Córdoba',\n 'Dacorum',\n 'Darlington',\n 'Darmstadt',\n 'Delmenhorst',\n 'Den Haag',\n 'Derby',\n 'Deventer',\n 'Dijon',\n 'Doncaster',\n 'Dordrecht',\n 'Dos Hermanas',\n 'Douai',\n 'Dresden',\n 'Dublin',\n 'Duisburg',\n 'Dundee City',\n 'Dunkerque',\n 'Düren',\n 'Düsseldorf',\n 'East Kilbride',\n 'Eastbourne',\n 'Eastleigh',\n 'Ede',\n 'Edinburgh',\n 'Eindhoven',\n 'El Prat de Llobregat',\n 'Elbląg',\n 'Elche/Elx',\n 'Ellesmere Port',\n 'Enschede',\n 'Erfurt',\n 'Erlangen',\n 'Esslingen am Neckar',\n 'Exeter',\n 'Ełk',\n 'Falkirk',\n 'Ferrara',\n 'Ferrol',\n 'Firenze',\n 'Flensburg',\n 'Foggia',\n 'Forlì',\n 'Frankfurt (Oder)',\n 'Frankfurt am Main',\n 'Freiburg im Breisgau',\n 'Fribourg',\n 'Frimley',\n 'Fréjus',\n 'Fuenlabrada',\n 'Fürth',\n 'Galaţi',\n 'Gallarate',\n 'Gandia',\n 'Gdańsk',\n 'Gdynia',\n 'Gela',\n 'Genova',\n 'Gent',\n 'Genève',\n 'Gera',\n 'Gevelsberg',\n 'Gießen',\n 'Gijón',\n 'Girona',\n 'Giurgiu',\n 'Glasgow',\n 'Gliwice',\n 'Gloucester',\n 'Gniezno',\n 'Gouda',\n 'Granollers',\n 'Gravesham',\n 'Graz',\n 'Great Yarmouth',\n 'Greater Manchester',\n 'Greater Nottingham',\n 'Grenoble',\n 'Greve',\n 'Grimsby',\n 'Groningen',\n 'Grosseto',\n 'Grudziądz',\n 'Gröpelingen',\n 'Guildford',\n 'Gyõr',\n 'Górnośląski Związek Metropolitalny',\n 'Göppingen',\n 'Görlitz',\n 'Göteborg',\n 'Göttingen',\n 'Gütersloh',\n 'Haarlem',\n 'Hagen',\n 'Halifax',\n 'Halle an der Saale',\n 'Halton',\n 'Hamburg',\n 'Hamm',\n 'Hanau',\n 'Haninge',\n 'Hannover',\n 'Harburg',\n 'Harlow',\n 'Harrogate',\n 'Hartlepool',\n 'Hastings',\n 'Havířov',\n 'Heerlen',\n 'Heidelberg',\n 'Heilbronn',\n 'Helmond',\n 'Helsingborg',\n 'Helsinki',\n 'Hengelo',\n 'Hereford',\n 'Herzogenrath',\n 'Hildesheim',\n 'Hilversum',\n 'Hoorn',\n 'Hrabuvka',\n 'Hradec Králové',\n 'Huddersfield',\n 'Huelva',\n 'Hyndburn',\n 'Ingolstadt',\n 'Innsbruck',\n 'Inowrocław',\n 'Ipswich',\n 'Irun',\n 'Iserlohn',\n 'Jelenia Góra',\n 'Jena',\n 'Jerez de la Frontera',\n 'Jyväskylä',\n 'Kaiserslautern',\n 'Kalisz',\n 'Kapellen',\n 'Karlsruhe',\n 'Kassel',\n 'Kasztelanka',\n 'Kecskemét',\n 'Keighley',\n 'Kempten (Allgäu)',\n 'Kettering',\n 'Kidderminster',\n 'Kiel',\n 'Kielce',\n 'Kingston-upon-Hull',\n 'Kladno',\n 'Koblenz',\n 'Konstanz',\n 'Koszalin',\n 'Krefeld',\n 'Köln',\n 'København',\n 'La Louvière',\n 'La Spezia',\n 'Landshut',\n 'Larisa',\n 'Lausanne',\n 'Le Havre',\n 'Le Mans',\n 'Lecce',\n 'Leeds',\n 'Leeuwarden',\n 'Legionowo',\n 'Legnica',\n 'Leicester',\n 'Leiden',\n 'Leipzig',\n 'Lelystad',\n 'Lens',\n 'Les Clayes-sous-Bois',\n 'Leuven',\n 'Leverkusen',\n 'León',\n 'Lille',\n 'Limerick',\n 'Lincoln',\n 'Linköping',\n 'Linz',\n 'Lisboa',\n 'Liverpool',\n 'Livingston',\n 'Livorno',\n 'Liège',\n 'Lleida',\n 'London',\n 'Lorca',\n 'Loughborough',\n 'Lublin',\n 'Ludwigsburg',\n 'Lugano',\n 'Lugo',\n 'Lund',\n 'Luton',\n 'Luxembourg',\n 'Luzern',\n 'Lyon',\n 'Lørenskog',\n 'Lübeck',\n 'Lüdenscheid',\n 'Lüneburg',\n 'Lünen',\n 'Lütten Klein',\n 'Maastricht',\n 'Madrid',\n 'Magdeburg',\n 'Maidenhead',\n 'Maidstone',\n 'Mainz',\n 'Majadahonda',\n 'Malmö',\n 'Manfredonia',\n 'Mannheim/Ludwigshafen',\n 'Manresa',\n 'Mansfield',\n 'Mantes en Yvelines',\n 'Maribor',\n 'Marl',\n 'Marseille',\n 'Martigues',\n 'Martin',\n 'Maurepas',\n 'Meaux',\n 'Mechelen',\n 'Medway',\n 'Melun',\n 'Messina',\n 'Mestre',\n 'Metz',\n 'Milano',\n 'Milton Keynes',\n 'Modena',\n 'Moers',\n 'Molfetta',\n 'Monaco',\n 'Montpellier',\n 'Most',\n 'Motherwell',\n 'Mulhouse',\n 'Murcia',\n 'Mysłowice',\n 'Málaga',\n 'Mérida',\n 'Mönchengladbach',\n 'München',\n 'Münster',\n 'Namur',\n 'Nancy',\n 'Nantes',\n 'Napoli',\n 'Neumünster',\n 'Neuss',\n 'Newcastle-under-Lyme',\n 'Newport',\n 'Nice',\n 'Nijmegen',\n 'Nimes',\n 'Nitra',\n 'Norrköping',\n 'Northampton',\n 'Norwich',\n 'Novara',\n 'Nuneaton',\n 'Odense',\n 'Oldenburg (Oldenburg)',\n 'Olomouc',\n 'Olsztyn',\n 'Oostende',\n 'Opole',\n 'Orléans',\n 'Oslo',\n 'Osnabrück',\n 'Oss',\n 'Ostrava',\n 'Ostrów Wielkopolski',\n 'Ourense',\n 'Oviedo',\n 'Oxford',\n 'Pabianice',\n 'Paderborn',\n 'Padova',\n 'Palencia',\n 'Palermo',\n 'Pamplona/Iruña',\n 'Pardubice',\n 'Paris',\n 'Parla',\n 'Parma',\n 'Pau',\n 'Pavia',\n 'Perpignan',\n 'Perugia',\n 'Pesaro',\n 'Pescara',\n 'Peterborough',\n 'Pforzheim',\n 'Piacenza',\n 'Piatra Neamţ',\n 'Piotrków Trybunalski',\n 'Pisa',\n 'Piła',\n 'Plauen',\n 'Ploieşti',\n 'Plymouth',\n 'Plzeň',\n 'Poissy',\n 'Poitiers',\n 'Ponferrada',\n 'Pontevedra',\n 'Pordenone',\n 'Porto',\n 'Portsmouth',\n 'Porz',\n 'Potsdam',\n 'Poznań',\n 'Pozuelo de Alarcón',\n 'Pozzuoli',\n 'Praha',\n 'Prato',\n 'Preston',\n 'Przemyśl',\n 'Puerto de Santa María, El',\n 'Purmerend',\n 'Quaregnon',\n 'Radom',\n 'Ragusa',\n 'Ravenna',\n 'Reading',\n 'Redditch',\n 'Redhill',\n 'Regensburg',\n \"Reggio nell'Emilia\",\n 'Reims',\n 'Remscheid',\n 'Rennes',\n 'Reus',\n 'Reutlingen',\n 'Rimini',\n 'Roma',\n 'Roosendaal',\n 'Rosenheim',\n 'Rostock',\n 'Rotherham',\n 'Rotterdam',\n 'Rouen',\n 'Rugby',\n 'Ruhrgebiet',\n 'Ruse',\n 'Rustington',\n 'Rybnik',\n 'Rzeszów',\n 'Rákosliget',\n 'Rüsselsheim am Main',\n 'Saarbrücken',\n 'Sabadell',\n 'Saint-Brieuc',\n 'Saint-Etienne',\n 'Saint-Quentin',\n 'Salamanca',\n 'Salerno',\n 'Salzburg',\n 'San Fernando',\n 'San Sebastián/Donostia',\n 'San Severo',\n 'Sant Boi de Llobregat',\n 'Sant Cugat del Vallès/Rubí',\n 'Santander',\n 'Santiago de Compostela',\n 'Satu Mare',\n 'Savona',\n 'Schweinfurt',\n 'Scunthorpe',\n 'Sefton',\n 'Setúbal',\n 'Sevilla',\n 'Sfântu Gheorghe',\n 'Shrewsbury',\n 'Shumen',\n 'Siedlce',\n 'Sindelfingen',\n 'Siracusa',\n 'Sittard-Geleen',\n 'Slough',\n 'Soest',\n 'Solingen',\n 'Southampton',\n 'Southend-on-Sea',\n 'St Albans',\n 'St. Gallen',\n 'Stafford',\n 'Stargard Szczeciński',\n 'Stevenage',\n 'Stockholm',\n 'Stockton-on-Tees',\n 'Strasbourg',\n 'Stuttgart',\n 'Sutton in Ashfield',\n 'Swansea',\n 'Swindon',\n 'Swords',\n 'Szczecin',\n 'Szolnok',\n 'Szombathely',\n 'Székesfehérvár',\n 'Södertälje',\n 'Słupsk',\n 'Talavera de la Reina',\n 'Tampere',\n 'Tamworth',\n 'Taranto',\n 'Tarragona',\n 'Tatabánya',\n 'Taunton',\n 'Tczew',\n 'Telford',\n 'Terni',\n 'Terrassa',\n 'Thanet',\n 'Thatcham',\n 'Thessaloniki',\n 'Thun',\n 'Thurrock',\n 'Tilburg',\n 'Timişoara',\n 'Toledo',\n 'Torbay',\n 'Torino',\n 'Torrejón de Ardoz',\n 'Torrelavega',\n 'Toruń',\n 'Toulon',\n 'Toulouse',\n 'Tours',\n 'Trani',\n 'Trento',\n 'Treviso',\n 'Trier',\n 'Trieste',\n 'Trnava',\n 'Troyes',\n 'Tunbridge Wells',\n 'Tychy',\n 'Tyneside conurbation',\n 'Tübingen',\n 'Udine',\n 'Ulm/Neu-Ulm',\n 'Uppsala',\n 'Utrecht',\n 'Vaihingen',\n 'Valence',\n 'Valencia',\n 'Valenciennes',\n 'Valladolid',\n 'Varna',\n 'Veenendaal',\n 'Venezia',\n 'Venlo',\n 'Verona',\n 'Verviers',\n 'Vicenza',\n 'Vigo',\n 'Viladecans',\n 'Vilanova i la Geltrú',\n 'Vitoria/Gasteiz',\n 'Vleuten',\n 'Volos',\n 'Västerås',\n 'Wakefield',\n 'Warrington',\n 'Warszawa',\n 'Warwick',\n 'Waveney',\n 'Wałbrzych',\n 'Weston-super-Mare',\n 'Wien',\n 'Wiesbaden',\n 'Wigan',\n 'Winterthur',\n 'Woking',\n 'Worcester',\n 'Worthing',\n 'Wrocław',\n 'Wycombe',\n 'Würzburg',\n 'Włocławek',\n 'York',\n 'Zaragoza',\n 'Zgierz',\n 'Zielona Góra',\n 'Zoetermeer',\n 'Zwolle',\n 'Zürich',\n 'Ávila',\n 'Århus',\n 'Érd',\n 'Örebro',\n 'Ústí nad Labem',\n 'Łódź',\n 'Świdnica',\n 'Žilina'}"
     },
     "execution_count": 29,
     "metadata": {},
     "output_type": "execute_result"
    }
   ],
   "source": [
    "train_cities_set = set(train_cities[\"city\"])\n",
    "train_cities_set"
   ]
  },
  {
   "cell_type": "markdown",
   "id": "44d4c2d9c9b6103f",
   "metadata": {
    "collapsed": false
   },
   "source": [
    "Which cities are in the airport dataset but not the train dataset?"
   ]
  },
  {
   "cell_type": "code",
   "execution_count": 30,
   "id": "2c8c648fa7b7be32",
   "metadata": {
    "collapsed": false,
    "ExecuteTime": {
     "end_time": "2024-01-22T19:45:41.199536Z",
     "start_time": "2024-01-22T19:45:41.074163Z"
    }
   },
   "outputs": [
    {
     "data": {
      "text/plain": "232"
     },
     "execution_count": 30,
     "metadata": {},
     "output_type": "execute_result"
    }
   ],
   "source": [
    "len(airport_cities_set - train_cities_set)"
   ]
  },
  {
   "cell_type": "markdown",
   "id": "c675f608",
   "metadata": {},
   "source": [
    "Names we have in both"
   ]
  },
  {
   "cell_type": "code",
   "execution_count": 31,
   "id": "ff75073e",
   "metadata": {
    "ExecuteTime": {
     "end_time": "2024-01-22T19:45:41.220945Z",
     "start_time": "2024-01-22T19:45:41.182969Z"
    }
   },
   "outputs": [
    {
     "data": {
      "text/plain": "{'Aberdeen',\n 'Amsterdam',\n 'Ancona',\n 'Bacău',\n 'Barcelona',\n 'Bari',\n 'Belfast',\n 'Birmingham',\n 'Bologna',\n 'Bournemouth',\n 'Bratislava',\n 'Bremen',\n 'Brindisi',\n 'Bristol',\n 'Budapest',\n 'Bydgoszcz',\n 'Cardiff',\n 'Catania',\n 'Charleroi',\n 'Dresden',\n 'Düsseldorf',\n 'Edinburgh',\n 'Eindhoven',\n 'Firenze',\n 'Frankfurt am Main',\n 'Gdańsk',\n 'Girona',\n 'Hamburg',\n 'Hannover',\n 'Helsinki',\n 'Innsbruck',\n 'Jerez de la Frontera',\n 'Leeds',\n 'Liverpool',\n 'London',\n 'Lublin',\n 'Luxembourg',\n 'Lyon',\n 'Maastricht',\n 'Madrid',\n 'Malmö',\n 'Marseille',\n 'Málaga',\n 'Nantes',\n 'Napoli',\n 'Nice',\n 'Olsztyn',\n 'Oslo',\n 'Palermo',\n 'Paris',\n 'Perugia',\n 'Pescara',\n 'Pisa',\n 'Porto',\n 'Poznań',\n 'Radom',\n 'Rotterdam',\n 'Salzburg',\n 'Santander',\n 'Santiago de Compostela',\n 'Sevilla',\n 'Southampton',\n 'Stockholm',\n 'Stuttgart',\n 'Thessaloniki',\n 'Timişoara',\n 'Valencia',\n 'Varna',\n 'Vigo',\n 'Wrocław',\n 'Zaragoza',\n 'Łódź'}"
     },
     "execution_count": 31,
     "metadata": {},
     "output_type": "execute_result"
    }
   ],
   "source": [
    "airport_cities_set & train_cities_set"
   ]
  },
  {
   "cell_type": "markdown",
   "id": "6d11f90e",
   "metadata": {},
   "source": [
    "Names in Airports, not in train_stations"
   ]
  },
  {
   "cell_type": "code",
   "execution_count": 32,
   "id": "f2869cf19880f0ed",
   "metadata": {
    "collapsed": false,
    "ExecuteTime": {
     "end_time": "2024-01-22T19:45:41.282251Z",
     "start_time": "2024-01-22T19:45:41.223361Z"
    }
   },
   "outputs": [
    {
     "data": {
      "text/plain": "{\"'s-Hertogenbosch\",\n 'A Coruña',\n 'Aachen',\n 'Acerra',\n 'Acireale',\n 'Aix-en-Provence',\n 'Albacete',\n 'Alcalá de Henares',\n 'Aldwick',\n 'Alessandria',\n 'Alicante/Alacant',\n 'Alkmaar',\n 'Almada',\n 'Almelo',\n 'Almere',\n 'Alphen aan den Rijn',\n 'Amersfoort',\n 'Amiens',\n 'Angers',\n 'Annecy',\n 'Antibes',\n 'Antwerpen',\n 'Anzio',\n 'Apeldoorn',\n 'Arad',\n 'Arcozelo',\n 'Arezzo',\n 'Arnhem',\n 'Arras',\n 'Ashford',\n 'Assen',\n 'Asti',\n 'Augsburg',\n 'Avellino',\n 'Avignon',\n 'Aylesbury',\n 'Ayr',\n 'Bad Soden am Taunus',\n 'Badajoz',\n 'Bagheria',\n 'Baia Mare',\n 'Bamberg',\n 'Bangor',\n 'Banská Bystrica',\n 'Barletta',\n 'Barnsley',\n 'Barreiro',\n 'Basel',\n 'Basildon',\n 'Basingstoke and Deane',\n 'Bath',\n 'Battipaglia',\n 'Bayonne',\n 'Bayreuth',\n 'Bedford',\n 'Belfort',\n 'Benrath',\n 'Bergamo',\n 'Bergen op Zoom',\n 'Berlin',\n 'Bern',\n 'Besançon',\n 'Beverwijk/Heemskerk',\n 'Białystok',\n 'Biel/Bienne',\n 'Bielefeld',\n 'Bielsko-Biała',\n 'Bisceglie',\n 'Blackburn with Darwen',\n 'Blackpool',\n 'Blanchardstown',\n 'Blantyre',\n 'Bocholt',\n 'Bolzano',\n 'Bonn',\n 'Borås',\n 'Boulogne-sur-mer',\n 'Bourges',\n 'Bracknell',\n 'Braga',\n 'Braunschweig',\n 'Braşov',\n 'Breda',\n 'Bregenz',\n 'Bremerhaven',\n 'Brescia',\n 'Brest',\n 'Brighton',\n 'Brno',\n 'Brugge',\n 'Bruxelles',\n 'Brăila',\n 'Bucureşti',\n 'Burgos',\n 'Burnley',\n 'Burton-on-Trent',\n 'Busto Arsizio',\n 'Buzău',\n 'Béziers',\n 'Caen',\n 'Calais',\n 'Cambridge',\n 'Cannes',\n 'Cannock',\n 'Carlisle',\n 'Carpi',\n 'Cartagena',\n 'Caserta',\n 'Castelldefels',\n 'Castellón de la Plana/Castelló de la Plana',\n 'Cergy-Pontoise',\n 'Chambery',\n 'Chartres',\n 'Chelmsford',\n 'Cheltenham',\n 'Chemnitz',\n 'Cherbourg',\n 'Chester',\n 'Chełm',\n 'Chomutov',\n 'Ciudad Real',\n 'Coatbridge',\n 'Coimbra',\n 'Colchester',\n 'Collado Villalba',\n 'Colmar',\n 'Como',\n 'Corby',\n 'Cork',\n 'Coslada',\n 'Cottbus',\n 'Coventry',\n 'Crawley',\n 'Creil',\n 'Cremona',\n 'Crewe',\n 'Częstochowa',\n 'Cáceres',\n 'Cádiz',\n 'Córdoba',\n 'Dacorum',\n 'Darlington',\n 'Darmstadt',\n 'Delmenhorst',\n 'Den Haag',\n 'Derby',\n 'Deventer',\n 'Dijon',\n 'Doncaster',\n 'Dordrecht',\n 'Dos Hermanas',\n 'Douai',\n 'Dublin',\n 'Duisburg',\n 'Dundee City',\n 'Dunkerque',\n 'Düren',\n 'East Kilbride',\n 'Eastbourne',\n 'Eastleigh',\n 'Ede',\n 'El Prat de Llobregat',\n 'Elbląg',\n 'Elche/Elx',\n 'Ellesmere Port',\n 'Enschede',\n 'Erfurt',\n 'Erlangen',\n 'Esslingen am Neckar',\n 'Exeter',\n 'Ełk',\n 'Falkirk',\n 'Ferrara',\n 'Ferrol',\n 'Flensburg',\n 'Foggia',\n 'Forlì',\n 'Frankfurt (Oder)',\n 'Freiburg im Breisgau',\n 'Fribourg',\n 'Frimley',\n 'Fréjus',\n 'Fuenlabrada',\n 'Fürth',\n 'Galaţi',\n 'Gallarate',\n 'Gandia',\n 'Gdynia',\n 'Gela',\n 'Genova',\n 'Gent',\n 'Genève',\n 'Gera',\n 'Gevelsberg',\n 'Gießen',\n 'Gijón',\n 'Giurgiu',\n 'Glasgow',\n 'Gliwice',\n 'Gloucester',\n 'Gniezno',\n 'Gouda',\n 'Granollers',\n 'Gravesham',\n 'Graz',\n 'Great Yarmouth',\n 'Greater Manchester',\n 'Greater Nottingham',\n 'Grenoble',\n 'Greve',\n 'Grimsby',\n 'Groningen',\n 'Grosseto',\n 'Grudziądz',\n 'Gröpelingen',\n 'Guildford',\n 'Gyõr',\n 'Górnośląski Związek Metropolitalny',\n 'Göppingen',\n 'Görlitz',\n 'Göteborg',\n 'Göttingen',\n 'Gütersloh',\n 'Haarlem',\n 'Hagen',\n 'Halifax',\n 'Halle an der Saale',\n 'Halton',\n 'Hamm',\n 'Hanau',\n 'Haninge',\n 'Harburg',\n 'Harlow',\n 'Harrogate',\n 'Hartlepool',\n 'Hastings',\n 'Havířov',\n 'Heerlen',\n 'Heidelberg',\n 'Heilbronn',\n 'Helmond',\n 'Helsingborg',\n 'Hengelo',\n 'Hereford',\n 'Herzogenrath',\n 'Hildesheim',\n 'Hilversum',\n 'Hoorn',\n 'Hrabuvka',\n 'Hradec Králové',\n 'Huddersfield',\n 'Huelva',\n 'Hyndburn',\n 'Ingolstadt',\n 'Inowrocław',\n 'Ipswich',\n 'Irun',\n 'Iserlohn',\n 'Jelenia Góra',\n 'Jena',\n 'Jyväskylä',\n 'Kaiserslautern',\n 'Kalisz',\n 'Kapellen',\n 'Karlsruhe',\n 'Kassel',\n 'Kasztelanka',\n 'Kecskemét',\n 'Keighley',\n 'Kempten (Allgäu)',\n 'Kettering',\n 'Kidderminster',\n 'Kiel',\n 'Kielce',\n 'Kingston-upon-Hull',\n 'Kladno',\n 'Koblenz',\n 'Konstanz',\n 'Koszalin',\n 'Krefeld',\n 'Köln',\n 'København',\n 'La Louvière',\n 'La Spezia',\n 'Landshut',\n 'Larisa',\n 'Lausanne',\n 'Le Havre',\n 'Le Mans',\n 'Lecce',\n 'Leeuwarden',\n 'Legionowo',\n 'Legnica',\n 'Leicester',\n 'Leiden',\n 'Leipzig',\n 'Lelystad',\n 'Lens',\n 'Les Clayes-sous-Bois',\n 'Leuven',\n 'Leverkusen',\n 'León',\n 'Lille',\n 'Limerick',\n 'Lincoln',\n 'Linköping',\n 'Linz',\n 'Lisboa',\n 'Livingston',\n 'Livorno',\n 'Liège',\n 'Lleida',\n 'Lorca',\n 'Loughborough',\n 'Ludwigsburg',\n 'Lugano',\n 'Lugo',\n 'Lund',\n 'Luton',\n 'Luzern',\n 'Lørenskog',\n 'Lübeck',\n 'Lüdenscheid',\n 'Lüneburg',\n 'Lünen',\n 'Lütten Klein',\n 'Magdeburg',\n 'Maidenhead',\n 'Maidstone',\n 'Mainz',\n 'Majadahonda',\n 'Manfredonia',\n 'Mannheim/Ludwigshafen',\n 'Manresa',\n 'Mansfield',\n 'Mantes en Yvelines',\n 'Maribor',\n 'Marl',\n 'Martigues',\n 'Martin',\n 'Maurepas',\n 'Meaux',\n 'Mechelen',\n 'Medway',\n 'Melun',\n 'Messina',\n 'Mestre',\n 'Metz',\n 'Milano',\n 'Milton Keynes',\n 'Modena',\n 'Moers',\n 'Molfetta',\n 'Monaco',\n 'Montpellier',\n 'Most',\n 'Motherwell',\n 'Mulhouse',\n 'Murcia',\n 'Mysłowice',\n 'Mérida',\n 'Mönchengladbach',\n 'München',\n 'Münster',\n 'Namur',\n 'Nancy',\n 'Neumünster',\n 'Neuss',\n 'Newcastle-under-Lyme',\n 'Newport',\n 'Nijmegen',\n 'Nimes',\n 'Nitra',\n 'Norrköping',\n 'Northampton',\n 'Norwich',\n 'Novara',\n 'Nuneaton',\n 'Odense',\n 'Oldenburg (Oldenburg)',\n 'Olomouc',\n 'Oostende',\n 'Opole',\n 'Orléans',\n 'Osnabrück',\n 'Oss',\n 'Ostrava',\n 'Ostrów Wielkopolski',\n 'Ourense',\n 'Oviedo',\n 'Oxford',\n 'Pabianice',\n 'Paderborn',\n 'Padova',\n 'Palencia',\n 'Pamplona/Iruña',\n 'Pardubice',\n 'Parla',\n 'Parma',\n 'Pau',\n 'Pavia',\n 'Perpignan',\n 'Pesaro',\n 'Peterborough',\n 'Pforzheim',\n 'Piacenza',\n 'Piatra Neamţ',\n 'Piotrków Trybunalski',\n 'Piła',\n 'Plauen',\n 'Ploieşti',\n 'Plymouth',\n 'Plzeň',\n 'Poissy',\n 'Poitiers',\n 'Ponferrada',\n 'Pontevedra',\n 'Pordenone',\n 'Portsmouth',\n 'Porz',\n 'Potsdam',\n 'Pozuelo de Alarcón',\n 'Pozzuoli',\n 'Praha',\n 'Prato',\n 'Preston',\n 'Przemyśl',\n 'Puerto de Santa María, El',\n 'Purmerend',\n 'Quaregnon',\n 'Ragusa',\n 'Ravenna',\n 'Reading',\n 'Redditch',\n 'Redhill',\n 'Regensburg',\n \"Reggio nell'Emilia\",\n 'Reims',\n 'Remscheid',\n 'Rennes',\n 'Reus',\n 'Reutlingen',\n 'Rimini',\n 'Roma',\n 'Roosendaal',\n 'Rosenheim',\n 'Rostock',\n 'Rotherham',\n 'Rouen',\n 'Rugby',\n 'Ruhrgebiet',\n 'Ruse',\n 'Rustington',\n 'Rybnik',\n 'Rzeszów',\n 'Rákosliget',\n 'Rüsselsheim am Main',\n 'Saarbrücken',\n 'Sabadell',\n 'Saint-Brieuc',\n 'Saint-Etienne',\n 'Saint-Quentin',\n 'Salamanca',\n 'Salerno',\n 'San Fernando',\n 'San Sebastián/Donostia',\n 'San Severo',\n 'Sant Boi de Llobregat',\n 'Sant Cugat del Vallès/Rubí',\n 'Satu Mare',\n 'Savona',\n 'Schweinfurt',\n 'Scunthorpe',\n 'Sefton',\n 'Setúbal',\n 'Sfântu Gheorghe',\n 'Shrewsbury',\n 'Shumen',\n 'Siedlce',\n 'Sindelfingen',\n 'Siracusa',\n 'Sittard-Geleen',\n 'Slough',\n 'Soest',\n 'Solingen',\n 'Southend-on-Sea',\n 'St Albans',\n 'St. Gallen',\n 'Stafford',\n 'Stargard Szczeciński',\n 'Stevenage',\n 'Stockton-on-Tees',\n 'Strasbourg',\n 'Sutton in Ashfield',\n 'Swansea',\n 'Swindon',\n 'Swords',\n 'Szczecin',\n 'Szolnok',\n 'Szombathely',\n 'Székesfehérvár',\n 'Södertälje',\n 'Słupsk',\n 'Talavera de la Reina',\n 'Tampere',\n 'Tamworth',\n 'Taranto',\n 'Tarragona',\n 'Tatabánya',\n 'Taunton',\n 'Tczew',\n 'Telford',\n 'Terni',\n 'Terrassa',\n 'Thanet',\n 'Thatcham',\n 'Thun',\n 'Thurrock',\n 'Tilburg',\n 'Toledo',\n 'Torbay',\n 'Torino',\n 'Torrejón de Ardoz',\n 'Torrelavega',\n 'Toruń',\n 'Toulon',\n 'Toulouse',\n 'Tours',\n 'Trani',\n 'Trento',\n 'Treviso',\n 'Trier',\n 'Trieste',\n 'Trnava',\n 'Troyes',\n 'Tunbridge Wells',\n 'Tychy',\n 'Tyneside conurbation',\n 'Tübingen',\n 'Udine',\n 'Ulm/Neu-Ulm',\n 'Uppsala',\n 'Utrecht',\n 'Vaihingen',\n 'Valence',\n 'Valenciennes',\n 'Valladolid',\n 'Veenendaal',\n 'Venezia',\n 'Venlo',\n 'Verona',\n 'Verviers',\n 'Vicenza',\n 'Viladecans',\n 'Vilanova i la Geltrú',\n 'Vitoria/Gasteiz',\n 'Vleuten',\n 'Volos',\n 'Västerås',\n 'Wakefield',\n 'Warrington',\n 'Warszawa',\n 'Warwick',\n 'Waveney',\n 'Wałbrzych',\n 'Weston-super-Mare',\n 'Wien',\n 'Wiesbaden',\n 'Wigan',\n 'Winterthur',\n 'Woking',\n 'Worcester',\n 'Worthing',\n 'Wycombe',\n 'Würzburg',\n 'Włocławek',\n 'York',\n 'Zgierz',\n 'Zielona Góra',\n 'Zoetermeer',\n 'Zwolle',\n 'Zürich',\n 'Ávila',\n 'Århus',\n 'Érd',\n 'Örebro',\n 'Ústí nad Labem',\n 'Świdnica',\n 'Žilina'}"
     },
     "execution_count": 32,
     "metadata": {},
     "output_type": "execute_result"
    }
   ],
   "source": [
    "train_cities_set - airport_cities_set"
   ]
  },
  {
   "cell_type": "code",
   "execution_count": 33,
   "id": "b5937a9e6bc2ed53",
   "metadata": {
    "collapsed": false,
    "ExecuteTime": {
     "end_time": "2024-01-22T19:45:41.340343Z",
     "start_time": "2024-01-22T19:45:41.282525Z"
    }
   },
   "outputs": [
    {
     "data": {
      "text/plain": "{'Aalborg',\n 'Aarhus',\n 'Ajaccio/Napoléon Bonaparte',\n 'Alexandroupolis',\n 'Alghero',\n 'Alicante',\n 'Almería',\n 'Andenes',\n 'Archangelsk',\n 'Astrakhan',\n 'Balice',\n 'Banja Luka',\n 'Bastia/Poretta',\n 'Belgrade',\n 'Bergen',\n 'Beslan',\n 'Bilbao',\n 'Billund',\n 'Bodø',\n 'Bolzano (BZ)',\n 'Bordeaux/Mérignac',\n 'Bragança',\n 'Brønnøy',\n 'Bugulma',\n 'Burgas',\n 'Béziers/Vias',\n 'Cagliari',\n 'Calvi/Sainte-Catherine',\n 'Cascais',\n 'Caselle (VR)',\n 'Caselle Torinese (TO)',\n 'Castellón de la Plana',\n 'Castletown',\n 'Cheboksary',\n 'Chelyabinsk',\n 'Cherepovets',\n 'Chios Island',\n 'Chita',\n 'Chişinău',\n 'Cluj-Napoca',\n 'Copenhagen',\n 'Corvera',\n 'Craiova',\n 'Crete Island',\n 'Crotone',\n 'Culleredo',\n 'Debrecen',\n 'Dortmund',\n 'Dubrave Gornje',\n 'El Matorral',\n 'Evenes',\n 'Faro',\n 'Feldkirchen bei Graz',\n 'Ferno (VA)',\n 'Figari Sud-Corse',\n 'Florø',\n 'Frankfurt am Main (Lautzenhausen)',\n 'Funchal',\n 'Gatwick, Surrey',\n 'Gelendzhik',\n 'Geneva',\n 'Genova (GE)',\n 'Gibraltar',\n 'Goleniow',\n 'Gothenburg',\n 'Granada',\n 'Greven',\n 'Grozny',\n 'Grâce-Hollogne',\n 'Hadsel',\n 'Hondarribia',\n 'Horta',\n 'Iaşi',\n 'Ibiza (Eivissa)',\n 'Ilinden',\n 'Inverness',\n 'Ioannina',\n 'Ivalo',\n 'Ivanovo',\n 'Izhevsk',\n 'Jasionka',\n 'Kaliningrad',\n 'Kaluga',\n 'Karmøy',\n 'Kaunas',\n 'Kavala',\n 'Kazan',\n 'Kerkyra (Corfu)',\n 'Kirkenes',\n 'Kirov',\n 'Kittilä',\n 'Kjevik',\n 'Klagenfurt am Wörthersee',\n 'Kos Island',\n 'Košice',\n 'Krasnodar',\n 'Krasnoyarsk',\n 'Krasnyi Kurgan',\n 'Kuopio / Siilinjärvi',\n 'Kuusamo',\n 'Köln (Cologne)',\n 'Lamezia Terme (CZ)',\n 'Leknes',\n 'Lesquin',\n 'Lisbon',\n 'Luleå',\n 'Luton, Bedfordshire',\n 'Magnitogorsk',\n 'Mahón (Maó)',\n 'Makhachkala',\n 'Manchester',\n 'Melilla',\n 'Memmingen',\n 'Mineralnyye Vody',\n 'Minsk',\n 'Montpellier/Méditerranée',\n 'Moscow',\n 'Mosjøen',\n 'Munich',\n 'Murmansk',\n 'Mykonos',\n 'Mytilene',\n 'Naryan Mar',\n 'Newcastle',\n 'Newquay',\n 'Nizhnekamsk',\n 'Nizhny Novgorod',\n 'Niš',\n 'Norwich, Norfolk',\n 'Nottingham',\n 'Novokuznetsk',\n 'Nuremberg',\n 'Nyköping',\n 'Ohrid',\n 'Olbia (SS)',\n 'Oradea',\n 'Orenburg',\n 'Orio al Serio (BG)',\n 'Orsk',\n 'Otopeni',\n 'Oulu / Oulunsalo',\n 'Ożarowice',\n 'Paisley, Renfrewshire',\n 'Palanga',\n 'Pamplona',\n 'Parma (PR)',\n 'Penza',\n 'Perm',\n 'Petrozavodsk',\n 'Pico Island',\n 'Podgorica',\n 'Ponta Delgada',\n 'Prague',\n 'Praia da Vitória',\n 'Prishtina',\n 'Pskov',\n 'Pula',\n 'Ranón',\n 'Reggio Calabria',\n 'Rheinmünster',\n 'Rhodes',\n 'Riga',\n 'Rinas',\n 'Rome',\n 'Ronchi dei Legionari (GO)',\n 'Rovaniemi',\n 'Sabetta',\n 'Saint Anne',\n 'Saint Helier',\n 'Saint Peter Port',\n 'Saint-Louis',\n 'Saint-Étienne-de-Saint-Geoirs',\n 'Samara',\n 'Samos Island',\n 'San Bartolomé',\n 'Santorini Island',\n 'Sarajevo',\n 'Schkeuditz',\n 'Segrate (MI)',\n 'Sibiu',\n 'Simferopol',\n 'Sochi',\n 'Sofia',\n 'Souda',\n 'Southend-on-Sea, Essex',\n 'Spata-Artemida',\n 'Split',\n 'St. Petersburg',\n 'Sta Cruz de la Palma, La Palma Island',\n 'Stavanger',\n 'Stavropol',\n 'Stornoway, Western Isles',\n 'Suceava',\n 'Svolvær',\n 'Syktyvkar',\n 'Tallinn',\n 'Tampere / Pirkkala',\n 'Tarbes/Lourdes/Pyrénées',\n 'Tillé',\n 'Tivat',\n 'Torp',\n 'Toulouse/Blagnac',\n 'Tours/Val de Loire (Loire Valley)',\n 'Treviso (TV)',\n 'Tromsø',\n 'Trondheim',\n 'Ufa',\n 'Ulyanovsk',\n 'Umeå',\n 'Vaasa',\n 'Vadsø',\n 'Valletta',\n 'Venezia (VE)',\n 'Vienna',\n 'Vila Baleira',\n 'Vila Real',\n 'Vila do Porto',\n 'Vilnius',\n 'Viseu',\n 'Viviers-du-Lac',\n 'Volgograd',\n 'Voronezh',\n 'Vágar',\n 'Warsaw',\n 'Weeze',\n 'Zagreb',\n 'Zakynthos',\n 'Zaventem',\n 'Zgornji Brnik',\n 'Zurich',\n 'Ålesund',\n 'Čilipi'}"
     },
     "execution_count": 33,
     "metadata": {},
     "output_type": "execute_result"
    }
   ],
   "source": [
    "airport_cities_set - train_cities_set"
   ]
  },
  {
   "cell_type": "markdown",
   "id": "f2b752213fed6db",
   "metadata": {
    "collapsed": false
   },
   "source": [
    "## Pipeline for matching routes\n",
    "input: a list of cities\n",
    "output: a dataset with routes, train travel times and plane travel times"
   ]
  },
  {
   "cell_type": "markdown",
   "id": "febcd53fa1b1a04e",
   "metadata": {
    "collapsed": false
   },
   "source": [
    "### Intersecting cities"
   ]
  },
  {
   "cell_type": "code",
   "execution_count": 34,
   "id": "75b7bb0b44a373e",
   "metadata": {
    "collapsed": false,
    "ExecuteTime": {
     "end_time": "2024-01-22T19:45:41.358244Z",
     "start_time": "2024-01-22T19:45:41.330221Z"
    }
   },
   "outputs": [
    {
     "name": "stdout",
     "output_type": "stream",
     "text": [
      "Number of cities we are working with: 72\n"
     ]
    },
    {
     "data": {
      "text/plain": "{'Aberdeen',\n 'Amsterdam',\n 'Ancona',\n 'Bacău',\n 'Barcelona',\n 'Bari',\n 'Belfast',\n 'Birmingham',\n 'Bologna',\n 'Bournemouth',\n 'Bratislava',\n 'Bremen',\n 'Brindisi',\n 'Bristol',\n 'Budapest',\n 'Bydgoszcz',\n 'Cardiff',\n 'Catania',\n 'Charleroi',\n 'Dresden',\n 'Düsseldorf',\n 'Edinburgh',\n 'Eindhoven',\n 'Firenze',\n 'Frankfurt am Main',\n 'Gdańsk',\n 'Girona',\n 'Hamburg',\n 'Hannover',\n 'Helsinki',\n 'Innsbruck',\n 'Jerez de la Frontera',\n 'Leeds',\n 'Liverpool',\n 'London',\n 'Lublin',\n 'Luxembourg',\n 'Lyon',\n 'Maastricht',\n 'Madrid',\n 'Malmö',\n 'Marseille',\n 'Málaga',\n 'Nantes',\n 'Napoli',\n 'Nice',\n 'Olsztyn',\n 'Oslo',\n 'Palermo',\n 'Paris',\n 'Perugia',\n 'Pescara',\n 'Pisa',\n 'Porto',\n 'Poznań',\n 'Radom',\n 'Rotterdam',\n 'Salzburg',\n 'Santander',\n 'Santiago de Compostela',\n 'Sevilla',\n 'Southampton',\n 'Stockholm',\n 'Stuttgart',\n 'Thessaloniki',\n 'Timişoara',\n 'Valencia',\n 'Varna',\n 'Vigo',\n 'Wrocław',\n 'Zaragoza',\n 'Łódź'}"
     },
     "execution_count": 34,
     "metadata": {},
     "output_type": "execute_result"
    }
   ],
   "source": [
    "intersecting_cities = airport_cities_set & train_cities_set # TODO: change this variable to integrate more cities\n",
    "print(f'Number of cities we are working with: {len(intersecting_cities)}')\n",
    "intersecting_cities"
   ]
  },
  {
   "cell_type": "markdown",
   "id": "b424d841c2f1a534",
   "metadata": {
    "collapsed": false
   },
   "source": [
    "### Train routes"
   ]
  },
  {
   "cell_type": "code",
   "execution_count": 35,
   "id": "dd12e69ac4a71455",
   "metadata": {
    "collapsed": false,
    "ExecuteTime": {
     "end_time": "2024-01-22T19:45:41.419330Z",
     "start_time": "2024-01-22T19:45:41.360016Z"
    }
   },
   "outputs": [
    {
     "data": {
      "text/plain": "      index      city_1          city_2  time_avg[h]  time_opti[h]  \\\n0         0       Paris       Bruxelles         1.71          1.44   \n1         1       Paris           Lille         1.29          1.00   \n2         2       Paris           Rouen         1.67          1.24   \n3         3       Paris  Cergy-Pontoise         0.17          0.07   \n4         4       Paris           Tours         1.54          0.86   \n...     ...         ...             ...          ...           ...   \n3429   6575       Trani     Manfredonia         3.88          1.13   \n3430   6582   Kettering           Corby         0.83          0.14   \n3431   6584  San Severo       Bisceglie         2.69          1.10   \n3432   6585  San Severo     Manfredonia         4.26          0.85   \n3433   6591   Bisceglie     Manfredonia         3.99          1.27   \n\n      time_opti[min]  time_avg[min]  \n0               86.4          102.6  \n1               60.0           77.4  \n2               74.4          100.2  \n3                4.2           10.2  \n4               51.6           92.4  \n...              ...            ...  \n3429            67.8          232.8  \n3430             8.4           49.8  \n3431            66.0          161.4  \n3432            51.0          255.6  \n3433            76.2          239.4  \n\n[3434 rows x 7 columns]",
      "text/html": "<div>\n<style scoped>\n    .dataframe tbody tr th:only-of-type {\n        vertical-align: middle;\n    }\n\n    .dataframe tbody tr th {\n        vertical-align: top;\n    }\n\n    .dataframe thead th {\n        text-align: right;\n    }\n</style>\n<table border=\"1\" class=\"dataframe\">\n  <thead>\n    <tr style=\"text-align: right;\">\n      <th></th>\n      <th>index</th>\n      <th>city_1</th>\n      <th>city_2</th>\n      <th>time_avg[h]</th>\n      <th>time_opti[h]</th>\n      <th>time_opti[min]</th>\n      <th>time_avg[min]</th>\n    </tr>\n  </thead>\n  <tbody>\n    <tr>\n      <th>0</th>\n      <td>0</td>\n      <td>Paris</td>\n      <td>Bruxelles</td>\n      <td>1.71</td>\n      <td>1.44</td>\n      <td>86.4</td>\n      <td>102.6</td>\n    </tr>\n    <tr>\n      <th>1</th>\n      <td>1</td>\n      <td>Paris</td>\n      <td>Lille</td>\n      <td>1.29</td>\n      <td>1.00</td>\n      <td>60.0</td>\n      <td>77.4</td>\n    </tr>\n    <tr>\n      <th>2</th>\n      <td>2</td>\n      <td>Paris</td>\n      <td>Rouen</td>\n      <td>1.67</td>\n      <td>1.24</td>\n      <td>74.4</td>\n      <td>100.2</td>\n    </tr>\n    <tr>\n      <th>3</th>\n      <td>3</td>\n      <td>Paris</td>\n      <td>Cergy-Pontoise</td>\n      <td>0.17</td>\n      <td>0.07</td>\n      <td>4.2</td>\n      <td>10.2</td>\n    </tr>\n    <tr>\n      <th>4</th>\n      <td>4</td>\n      <td>Paris</td>\n      <td>Tours</td>\n      <td>1.54</td>\n      <td>0.86</td>\n      <td>51.6</td>\n      <td>92.4</td>\n    </tr>\n    <tr>\n      <th>...</th>\n      <td>...</td>\n      <td>...</td>\n      <td>...</td>\n      <td>...</td>\n      <td>...</td>\n      <td>...</td>\n      <td>...</td>\n    </tr>\n    <tr>\n      <th>3429</th>\n      <td>6575</td>\n      <td>Trani</td>\n      <td>Manfredonia</td>\n      <td>3.88</td>\n      <td>1.13</td>\n      <td>67.8</td>\n      <td>232.8</td>\n    </tr>\n    <tr>\n      <th>3430</th>\n      <td>6582</td>\n      <td>Kettering</td>\n      <td>Corby</td>\n      <td>0.83</td>\n      <td>0.14</td>\n      <td>8.4</td>\n      <td>49.8</td>\n    </tr>\n    <tr>\n      <th>3431</th>\n      <td>6584</td>\n      <td>San Severo</td>\n      <td>Bisceglie</td>\n      <td>2.69</td>\n      <td>1.10</td>\n      <td>66.0</td>\n      <td>161.4</td>\n    </tr>\n    <tr>\n      <th>3432</th>\n      <td>6585</td>\n      <td>San Severo</td>\n      <td>Manfredonia</td>\n      <td>4.26</td>\n      <td>0.85</td>\n      <td>51.0</td>\n      <td>255.6</td>\n    </tr>\n    <tr>\n      <th>3433</th>\n      <td>6591</td>\n      <td>Bisceglie</td>\n      <td>Manfredonia</td>\n      <td>3.99</td>\n      <td>1.27</td>\n      <td>76.2</td>\n      <td>239.4</td>\n    </tr>\n  </tbody>\n</table>\n<p>3434 rows × 7 columns</p>\n</div>"
     },
     "execution_count": 35,
     "metadata": {},
     "output_type": "execute_result"
    }
   ],
   "source": [
    "train_routes = pd.read_csv('../datasets/train_routes.csv') # TODO: change how the dataframe is obtained, it should be directly in the notebook and not from a csv file\n",
    "train_routes"
   ]
  },
  {
   "cell_type": "code",
   "execution_count": 36,
   "id": "510cea1e276cf2dc",
   "metadata": {
    "collapsed": false,
    "ExecuteTime": {
     "end_time": "2024-01-22T19:45:41.433696Z",
     "start_time": "2024-01-22T19:45:41.408267Z"
    }
   },
   "outputs": [
    {
     "data": {
      "text/plain": "      index             city_1                  city_2  time_avg[h]  \\\n22       22             London              Birmingham         1.52   \n25       25             London                 Bristol         1.82   \n29       29             London             Southampton         1.45   \n87       87             Madrid                Zaragoza         1.99   \n169     187          Barcelona                Zaragoza         2.05   \n175     194          Barcelona                  Girona         1.21   \n186     208         Birmingham               Liverpool         1.44   \n188     210         Birmingham                 Bristol         1.66   \n287     340            Hamburg                Hannover         1.57   \n288     341            Hamburg                  Bremen         1.22   \n355     445          Liverpool                   Leeds         1.72   \n381     478          Amsterdam               Rotterdam         0.86   \n385     482          Amsterdam               Eindhoven         1.34   \n531     659          Rotterdam               Eindhoven         1.35   \n605     755  Frankfurt am Main               Stuttgart         1.69   \n606     756  Frankfurt am Main              Düsseldorf         1.91   \n628     787            Sevilla    Jerez de la Frontera         1.65   \n749     980            Bristol                 Cardiff         0.84   \n767    1004           Hannover                  Bremen         1.44   \n940    1252            Bologna                 Firenze         0.75   \n950    1262            Bologna                    Pisa         2.20   \n1037   1390            Firenze                    Pisa         1.27   \n1061   1425        Bournemouth             Southampton         0.79   \n1144   1583             Lublin                   Radom         2.48   \n1275   1835               Vigo  Santiago de Compostela         2.02   \n1332   1933          Eindhoven              Maastricht         1.23   \n1452   2128               Bari                Brindisi         1.60   \n\n      time_opti[h]  time_opti[min]  time_avg[min]  \n22            1.11            66.6           91.2  \n25            1.48            88.8          109.2  \n29            1.14            68.4           87.0  \n87            1.43            85.8          119.4  \n169           1.47            88.2          123.0  \n175           0.63            37.8           72.6  \n186           1.10            66.0           86.4  \n188           1.38            82.8           99.6  \n287           1.27            76.2           94.2  \n288           0.91            54.6           73.2  \n355           1.25            75.0          103.2  \n381           0.50            30.0           51.6  \n385           1.19            71.4           80.4  \n531           1.17            70.2           81.0  \n605           1.29            77.4          101.4  \n606           1.42            85.2          114.6  \n628           0.95            57.0           99.0  \n749           0.64            38.4           50.4  \n767           0.99            59.4           86.4  \n940           0.58            34.8           45.0  \n950           1.48            88.8          132.0  \n1037          0.81            48.6           76.2  \n1061          0.44            26.4           47.4  \n1144          1.36            81.6          148.8  \n1275          1.33            79.8          121.2  \n1332          1.04            62.4           73.8  \n1452          0.91            54.6           96.0  ",
      "text/html": "<div>\n<style scoped>\n    .dataframe tbody tr th:only-of-type {\n        vertical-align: middle;\n    }\n\n    .dataframe tbody tr th {\n        vertical-align: top;\n    }\n\n    .dataframe thead th {\n        text-align: right;\n    }\n</style>\n<table border=\"1\" class=\"dataframe\">\n  <thead>\n    <tr style=\"text-align: right;\">\n      <th></th>\n      <th>index</th>\n      <th>city_1</th>\n      <th>city_2</th>\n      <th>time_avg[h]</th>\n      <th>time_opti[h]</th>\n      <th>time_opti[min]</th>\n      <th>time_avg[min]</th>\n    </tr>\n  </thead>\n  <tbody>\n    <tr>\n      <th>22</th>\n      <td>22</td>\n      <td>London</td>\n      <td>Birmingham</td>\n      <td>1.52</td>\n      <td>1.11</td>\n      <td>66.6</td>\n      <td>91.2</td>\n    </tr>\n    <tr>\n      <th>25</th>\n      <td>25</td>\n      <td>London</td>\n      <td>Bristol</td>\n      <td>1.82</td>\n      <td>1.48</td>\n      <td>88.8</td>\n      <td>109.2</td>\n    </tr>\n    <tr>\n      <th>29</th>\n      <td>29</td>\n      <td>London</td>\n      <td>Southampton</td>\n      <td>1.45</td>\n      <td>1.14</td>\n      <td>68.4</td>\n      <td>87.0</td>\n    </tr>\n    <tr>\n      <th>87</th>\n      <td>87</td>\n      <td>Madrid</td>\n      <td>Zaragoza</td>\n      <td>1.99</td>\n      <td>1.43</td>\n      <td>85.8</td>\n      <td>119.4</td>\n    </tr>\n    <tr>\n      <th>169</th>\n      <td>187</td>\n      <td>Barcelona</td>\n      <td>Zaragoza</td>\n      <td>2.05</td>\n      <td>1.47</td>\n      <td>88.2</td>\n      <td>123.0</td>\n    </tr>\n    <tr>\n      <th>175</th>\n      <td>194</td>\n      <td>Barcelona</td>\n      <td>Girona</td>\n      <td>1.21</td>\n      <td>0.63</td>\n      <td>37.8</td>\n      <td>72.6</td>\n    </tr>\n    <tr>\n      <th>186</th>\n      <td>208</td>\n      <td>Birmingham</td>\n      <td>Liverpool</td>\n      <td>1.44</td>\n      <td>1.10</td>\n      <td>66.0</td>\n      <td>86.4</td>\n    </tr>\n    <tr>\n      <th>188</th>\n      <td>210</td>\n      <td>Birmingham</td>\n      <td>Bristol</td>\n      <td>1.66</td>\n      <td>1.38</td>\n      <td>82.8</td>\n      <td>99.6</td>\n    </tr>\n    <tr>\n      <th>287</th>\n      <td>340</td>\n      <td>Hamburg</td>\n      <td>Hannover</td>\n      <td>1.57</td>\n      <td>1.27</td>\n      <td>76.2</td>\n      <td>94.2</td>\n    </tr>\n    <tr>\n      <th>288</th>\n      <td>341</td>\n      <td>Hamburg</td>\n      <td>Bremen</td>\n      <td>1.22</td>\n      <td>0.91</td>\n      <td>54.6</td>\n      <td>73.2</td>\n    </tr>\n    <tr>\n      <th>355</th>\n      <td>445</td>\n      <td>Liverpool</td>\n      <td>Leeds</td>\n      <td>1.72</td>\n      <td>1.25</td>\n      <td>75.0</td>\n      <td>103.2</td>\n    </tr>\n    <tr>\n      <th>381</th>\n      <td>478</td>\n      <td>Amsterdam</td>\n      <td>Rotterdam</td>\n      <td>0.86</td>\n      <td>0.50</td>\n      <td>30.0</td>\n      <td>51.6</td>\n    </tr>\n    <tr>\n      <th>385</th>\n      <td>482</td>\n      <td>Amsterdam</td>\n      <td>Eindhoven</td>\n      <td>1.34</td>\n      <td>1.19</td>\n      <td>71.4</td>\n      <td>80.4</td>\n    </tr>\n    <tr>\n      <th>531</th>\n      <td>659</td>\n      <td>Rotterdam</td>\n      <td>Eindhoven</td>\n      <td>1.35</td>\n      <td>1.17</td>\n      <td>70.2</td>\n      <td>81.0</td>\n    </tr>\n    <tr>\n      <th>605</th>\n      <td>755</td>\n      <td>Frankfurt am Main</td>\n      <td>Stuttgart</td>\n      <td>1.69</td>\n      <td>1.29</td>\n      <td>77.4</td>\n      <td>101.4</td>\n    </tr>\n    <tr>\n      <th>606</th>\n      <td>756</td>\n      <td>Frankfurt am Main</td>\n      <td>Düsseldorf</td>\n      <td>1.91</td>\n      <td>1.42</td>\n      <td>85.2</td>\n      <td>114.6</td>\n    </tr>\n    <tr>\n      <th>628</th>\n      <td>787</td>\n      <td>Sevilla</td>\n      <td>Jerez de la Frontera</td>\n      <td>1.65</td>\n      <td>0.95</td>\n      <td>57.0</td>\n      <td>99.0</td>\n    </tr>\n    <tr>\n      <th>749</th>\n      <td>980</td>\n      <td>Bristol</td>\n      <td>Cardiff</td>\n      <td>0.84</td>\n      <td>0.64</td>\n      <td>38.4</td>\n      <td>50.4</td>\n    </tr>\n    <tr>\n      <th>767</th>\n      <td>1004</td>\n      <td>Hannover</td>\n      <td>Bremen</td>\n      <td>1.44</td>\n      <td>0.99</td>\n      <td>59.4</td>\n      <td>86.4</td>\n    </tr>\n    <tr>\n      <th>940</th>\n      <td>1252</td>\n      <td>Bologna</td>\n      <td>Firenze</td>\n      <td>0.75</td>\n      <td>0.58</td>\n      <td>34.8</td>\n      <td>45.0</td>\n    </tr>\n    <tr>\n      <th>950</th>\n      <td>1262</td>\n      <td>Bologna</td>\n      <td>Pisa</td>\n      <td>2.20</td>\n      <td>1.48</td>\n      <td>88.8</td>\n      <td>132.0</td>\n    </tr>\n    <tr>\n      <th>1037</th>\n      <td>1390</td>\n      <td>Firenze</td>\n      <td>Pisa</td>\n      <td>1.27</td>\n      <td>0.81</td>\n      <td>48.6</td>\n      <td>76.2</td>\n    </tr>\n    <tr>\n      <th>1061</th>\n      <td>1425</td>\n      <td>Bournemouth</td>\n      <td>Southampton</td>\n      <td>0.79</td>\n      <td>0.44</td>\n      <td>26.4</td>\n      <td>47.4</td>\n    </tr>\n    <tr>\n      <th>1144</th>\n      <td>1583</td>\n      <td>Lublin</td>\n      <td>Radom</td>\n      <td>2.48</td>\n      <td>1.36</td>\n      <td>81.6</td>\n      <td>148.8</td>\n    </tr>\n    <tr>\n      <th>1275</th>\n      <td>1835</td>\n      <td>Vigo</td>\n      <td>Santiago de Compostela</td>\n      <td>2.02</td>\n      <td>1.33</td>\n      <td>79.8</td>\n      <td>121.2</td>\n    </tr>\n    <tr>\n      <th>1332</th>\n      <td>1933</td>\n      <td>Eindhoven</td>\n      <td>Maastricht</td>\n      <td>1.23</td>\n      <td>1.04</td>\n      <td>62.4</td>\n      <td>73.8</td>\n    </tr>\n    <tr>\n      <th>1452</th>\n      <td>2128</td>\n      <td>Bari</td>\n      <td>Brindisi</td>\n      <td>1.60</td>\n      <td>0.91</td>\n      <td>54.6</td>\n      <td>96.0</td>\n    </tr>\n  </tbody>\n</table>\n</div>"
     },
     "execution_count": 36,
     "metadata": {},
     "output_type": "execute_result"
    }
   ],
   "source": [
    "reduced_train_routes = train_routes[(train_routes['city_1'].isin(intersecting_cities)) & (train_routes['city_2'].isin(intersecting_cities))]\n",
    "reduced_train_routes"
   ]
  },
  {
   "cell_type": "code",
   "execution_count": 37,
   "id": "1e9177b2f68bf845",
   "metadata": {
    "collapsed": false,
    "ExecuteTime": {
     "end_time": "2024-01-22T19:45:41.491485Z",
     "start_time": "2024-01-22T19:45:41.434931Z"
    }
   },
   "outputs": [
    {
     "name": "stderr",
     "output_type": "stream",
     "text": [
      "/var/folders/x2/jj0kgq010j128mdwvs89btf00000gp/T/ipykernel_40187/1158335715.py:1: SettingWithCopyWarning: \n",
      "A value is trying to be set on a copy of a slice from a DataFrame.\n",
      "Try using .loc[row_indexer,col_indexer] = value instead\n",
      "\n",
      "See the caveats in the documentation: https://pandas.pydata.org/pandas-docs/stable/user_guide/indexing.html#returning-a-view-versus-a-copy\n",
      "  reduced_train_routes['trip'] = reduced_train_routes.apply(lambda row: {row['city_1'], row['city_2']}, axis=1)\n"
     ]
    },
    {
     "data": {
      "text/plain": "      index             city_1                  city_2  time_avg[h]  \\\n22       22             London              Birmingham         1.52   \n25       25             London                 Bristol         1.82   \n29       29             London             Southampton         1.45   \n87       87             Madrid                Zaragoza         1.99   \n169     187          Barcelona                Zaragoza         2.05   \n175     194          Barcelona                  Girona         1.21   \n186     208         Birmingham               Liverpool         1.44   \n188     210         Birmingham                 Bristol         1.66   \n287     340            Hamburg                Hannover         1.57   \n288     341            Hamburg                  Bremen         1.22   \n355     445          Liverpool                   Leeds         1.72   \n381     478          Amsterdam               Rotterdam         0.86   \n385     482          Amsterdam               Eindhoven         1.34   \n531     659          Rotterdam               Eindhoven         1.35   \n605     755  Frankfurt am Main               Stuttgart         1.69   \n606     756  Frankfurt am Main              Düsseldorf         1.91   \n628     787            Sevilla    Jerez de la Frontera         1.65   \n749     980            Bristol                 Cardiff         0.84   \n767    1004           Hannover                  Bremen         1.44   \n940    1252            Bologna                 Firenze         0.75   \n950    1262            Bologna                    Pisa         2.20   \n1037   1390            Firenze                    Pisa         1.27   \n1061   1425        Bournemouth             Southampton         0.79   \n1144   1583             Lublin                   Radom         2.48   \n1275   1835               Vigo  Santiago de Compostela         2.02   \n1332   1933          Eindhoven              Maastricht         1.23   \n1452   2128               Bari                Brindisi         1.60   \n\n      time_opti[h]  time_opti[min]  time_avg[min]  \\\n22            1.11            66.6           91.2   \n25            1.48            88.8          109.2   \n29            1.14            68.4           87.0   \n87            1.43            85.8          119.4   \n169           1.47            88.2          123.0   \n175           0.63            37.8           72.6   \n186           1.10            66.0           86.4   \n188           1.38            82.8           99.6   \n287           1.27            76.2           94.2   \n288           0.91            54.6           73.2   \n355           1.25            75.0          103.2   \n381           0.50            30.0           51.6   \n385           1.19            71.4           80.4   \n531           1.17            70.2           81.0   \n605           1.29            77.4          101.4   \n606           1.42            85.2          114.6   \n628           0.95            57.0           99.0   \n749           0.64            38.4           50.4   \n767           0.99            59.4           86.4   \n940           0.58            34.8           45.0   \n950           1.48            88.8          132.0   \n1037          0.81            48.6           76.2   \n1061          0.44            26.4           47.4   \n1144          1.36            81.6          148.8   \n1275          1.33            79.8          121.2   \n1332          1.04            62.4           73.8   \n1452          0.91            54.6           96.0   \n\n                                 trip  \n22               {Birmingham, London}  \n25                  {Bristol, London}  \n29              {Southampton, London}  \n87                 {Zaragoza, Madrid}  \n169             {Zaragoza, Barcelona}  \n175               {Girona, Barcelona}  \n186           {Liverpool, Birmingham}  \n188             {Bristol, Birmingham}  \n287               {Hannover, Hamburg}  \n288                 {Bremen, Hamburg}  \n355                {Leeds, Liverpool}  \n381            {Rotterdam, Amsterdam}  \n385            {Amsterdam, Eindhoven}  \n531            {Rotterdam, Eindhoven}  \n605    {Stuttgart, Frankfurt am Main}  \n606   {Düsseldorf, Frankfurt am Main}  \n628   {Jerez de la Frontera, Sevilla}  \n749                {Cardiff, Bristol}  \n767                {Hannover, Bremen}  \n940                {Bologna, Firenze}  \n950                   {Pisa, Bologna}  \n1037                  {Pisa, Firenze}  \n1061       {Southampton, Bournemouth}  \n1144                  {Radom, Lublin}  \n1275   {Santiago de Compostela, Vigo}  \n1332          {Maastricht, Eindhoven}  \n1452                 {Brindisi, Bari}  ",
      "text/html": "<div>\n<style scoped>\n    .dataframe tbody tr th:only-of-type {\n        vertical-align: middle;\n    }\n\n    .dataframe tbody tr th {\n        vertical-align: top;\n    }\n\n    .dataframe thead th {\n        text-align: right;\n    }\n</style>\n<table border=\"1\" class=\"dataframe\">\n  <thead>\n    <tr style=\"text-align: right;\">\n      <th></th>\n      <th>index</th>\n      <th>city_1</th>\n      <th>city_2</th>\n      <th>time_avg[h]</th>\n      <th>time_opti[h]</th>\n      <th>time_opti[min]</th>\n      <th>time_avg[min]</th>\n      <th>trip</th>\n    </tr>\n  </thead>\n  <tbody>\n    <tr>\n      <th>22</th>\n      <td>22</td>\n      <td>London</td>\n      <td>Birmingham</td>\n      <td>1.52</td>\n      <td>1.11</td>\n      <td>66.6</td>\n      <td>91.2</td>\n      <td>{Birmingham, London}</td>\n    </tr>\n    <tr>\n      <th>25</th>\n      <td>25</td>\n      <td>London</td>\n      <td>Bristol</td>\n      <td>1.82</td>\n      <td>1.48</td>\n      <td>88.8</td>\n      <td>109.2</td>\n      <td>{Bristol, London}</td>\n    </tr>\n    <tr>\n      <th>29</th>\n      <td>29</td>\n      <td>London</td>\n      <td>Southampton</td>\n      <td>1.45</td>\n      <td>1.14</td>\n      <td>68.4</td>\n      <td>87.0</td>\n      <td>{Southampton, London}</td>\n    </tr>\n    <tr>\n      <th>87</th>\n      <td>87</td>\n      <td>Madrid</td>\n      <td>Zaragoza</td>\n      <td>1.99</td>\n      <td>1.43</td>\n      <td>85.8</td>\n      <td>119.4</td>\n      <td>{Zaragoza, Madrid}</td>\n    </tr>\n    <tr>\n      <th>169</th>\n      <td>187</td>\n      <td>Barcelona</td>\n      <td>Zaragoza</td>\n      <td>2.05</td>\n      <td>1.47</td>\n      <td>88.2</td>\n      <td>123.0</td>\n      <td>{Zaragoza, Barcelona}</td>\n    </tr>\n    <tr>\n      <th>175</th>\n      <td>194</td>\n      <td>Barcelona</td>\n      <td>Girona</td>\n      <td>1.21</td>\n      <td>0.63</td>\n      <td>37.8</td>\n      <td>72.6</td>\n      <td>{Girona, Barcelona}</td>\n    </tr>\n    <tr>\n      <th>186</th>\n      <td>208</td>\n      <td>Birmingham</td>\n      <td>Liverpool</td>\n      <td>1.44</td>\n      <td>1.10</td>\n      <td>66.0</td>\n      <td>86.4</td>\n      <td>{Liverpool, Birmingham}</td>\n    </tr>\n    <tr>\n      <th>188</th>\n      <td>210</td>\n      <td>Birmingham</td>\n      <td>Bristol</td>\n      <td>1.66</td>\n      <td>1.38</td>\n      <td>82.8</td>\n      <td>99.6</td>\n      <td>{Bristol, Birmingham}</td>\n    </tr>\n    <tr>\n      <th>287</th>\n      <td>340</td>\n      <td>Hamburg</td>\n      <td>Hannover</td>\n      <td>1.57</td>\n      <td>1.27</td>\n      <td>76.2</td>\n      <td>94.2</td>\n      <td>{Hannover, Hamburg}</td>\n    </tr>\n    <tr>\n      <th>288</th>\n      <td>341</td>\n      <td>Hamburg</td>\n      <td>Bremen</td>\n      <td>1.22</td>\n      <td>0.91</td>\n      <td>54.6</td>\n      <td>73.2</td>\n      <td>{Bremen, Hamburg}</td>\n    </tr>\n    <tr>\n      <th>355</th>\n      <td>445</td>\n      <td>Liverpool</td>\n      <td>Leeds</td>\n      <td>1.72</td>\n      <td>1.25</td>\n      <td>75.0</td>\n      <td>103.2</td>\n      <td>{Leeds, Liverpool}</td>\n    </tr>\n    <tr>\n      <th>381</th>\n      <td>478</td>\n      <td>Amsterdam</td>\n      <td>Rotterdam</td>\n      <td>0.86</td>\n      <td>0.50</td>\n      <td>30.0</td>\n      <td>51.6</td>\n      <td>{Rotterdam, Amsterdam}</td>\n    </tr>\n    <tr>\n      <th>385</th>\n      <td>482</td>\n      <td>Amsterdam</td>\n      <td>Eindhoven</td>\n      <td>1.34</td>\n      <td>1.19</td>\n      <td>71.4</td>\n      <td>80.4</td>\n      <td>{Amsterdam, Eindhoven}</td>\n    </tr>\n    <tr>\n      <th>531</th>\n      <td>659</td>\n      <td>Rotterdam</td>\n      <td>Eindhoven</td>\n      <td>1.35</td>\n      <td>1.17</td>\n      <td>70.2</td>\n      <td>81.0</td>\n      <td>{Rotterdam, Eindhoven}</td>\n    </tr>\n    <tr>\n      <th>605</th>\n      <td>755</td>\n      <td>Frankfurt am Main</td>\n      <td>Stuttgart</td>\n      <td>1.69</td>\n      <td>1.29</td>\n      <td>77.4</td>\n      <td>101.4</td>\n      <td>{Stuttgart, Frankfurt am Main}</td>\n    </tr>\n    <tr>\n      <th>606</th>\n      <td>756</td>\n      <td>Frankfurt am Main</td>\n      <td>Düsseldorf</td>\n      <td>1.91</td>\n      <td>1.42</td>\n      <td>85.2</td>\n      <td>114.6</td>\n      <td>{Düsseldorf, Frankfurt am Main}</td>\n    </tr>\n    <tr>\n      <th>628</th>\n      <td>787</td>\n      <td>Sevilla</td>\n      <td>Jerez de la Frontera</td>\n      <td>1.65</td>\n      <td>0.95</td>\n      <td>57.0</td>\n      <td>99.0</td>\n      <td>{Jerez de la Frontera, Sevilla}</td>\n    </tr>\n    <tr>\n      <th>749</th>\n      <td>980</td>\n      <td>Bristol</td>\n      <td>Cardiff</td>\n      <td>0.84</td>\n      <td>0.64</td>\n      <td>38.4</td>\n      <td>50.4</td>\n      <td>{Cardiff, Bristol}</td>\n    </tr>\n    <tr>\n      <th>767</th>\n      <td>1004</td>\n      <td>Hannover</td>\n      <td>Bremen</td>\n      <td>1.44</td>\n      <td>0.99</td>\n      <td>59.4</td>\n      <td>86.4</td>\n      <td>{Hannover, Bremen}</td>\n    </tr>\n    <tr>\n      <th>940</th>\n      <td>1252</td>\n      <td>Bologna</td>\n      <td>Firenze</td>\n      <td>0.75</td>\n      <td>0.58</td>\n      <td>34.8</td>\n      <td>45.0</td>\n      <td>{Bologna, Firenze}</td>\n    </tr>\n    <tr>\n      <th>950</th>\n      <td>1262</td>\n      <td>Bologna</td>\n      <td>Pisa</td>\n      <td>2.20</td>\n      <td>1.48</td>\n      <td>88.8</td>\n      <td>132.0</td>\n      <td>{Pisa, Bologna}</td>\n    </tr>\n    <tr>\n      <th>1037</th>\n      <td>1390</td>\n      <td>Firenze</td>\n      <td>Pisa</td>\n      <td>1.27</td>\n      <td>0.81</td>\n      <td>48.6</td>\n      <td>76.2</td>\n      <td>{Pisa, Firenze}</td>\n    </tr>\n    <tr>\n      <th>1061</th>\n      <td>1425</td>\n      <td>Bournemouth</td>\n      <td>Southampton</td>\n      <td>0.79</td>\n      <td>0.44</td>\n      <td>26.4</td>\n      <td>47.4</td>\n      <td>{Southampton, Bournemouth}</td>\n    </tr>\n    <tr>\n      <th>1144</th>\n      <td>1583</td>\n      <td>Lublin</td>\n      <td>Radom</td>\n      <td>2.48</td>\n      <td>1.36</td>\n      <td>81.6</td>\n      <td>148.8</td>\n      <td>{Radom, Lublin}</td>\n    </tr>\n    <tr>\n      <th>1275</th>\n      <td>1835</td>\n      <td>Vigo</td>\n      <td>Santiago de Compostela</td>\n      <td>2.02</td>\n      <td>1.33</td>\n      <td>79.8</td>\n      <td>121.2</td>\n      <td>{Santiago de Compostela, Vigo}</td>\n    </tr>\n    <tr>\n      <th>1332</th>\n      <td>1933</td>\n      <td>Eindhoven</td>\n      <td>Maastricht</td>\n      <td>1.23</td>\n      <td>1.04</td>\n      <td>62.4</td>\n      <td>73.8</td>\n      <td>{Maastricht, Eindhoven}</td>\n    </tr>\n    <tr>\n      <th>1452</th>\n      <td>2128</td>\n      <td>Bari</td>\n      <td>Brindisi</td>\n      <td>1.60</td>\n      <td>0.91</td>\n      <td>54.6</td>\n      <td>96.0</td>\n      <td>{Brindisi, Bari}</td>\n    </tr>\n  </tbody>\n</table>\n</div>"
     },
     "execution_count": 37,
     "metadata": {},
     "output_type": "execute_result"
    }
   ],
   "source": [
    "reduced_train_routes['trip'] = reduced_train_routes.apply(lambda row: {row['city_1'], row['city_2']}, axis=1)\n",
    "reduced_train_routes"
   ]
  },
  {
   "cell_type": "markdown",
   "id": "9eee7a985a8ed493",
   "metadata": {
    "collapsed": false
   },
   "source": [
    "To be able to perform an inner join, the sets need to be converted to tuples, which are immutable and hashable and therefore can be used as keys in a join with pandas."
   ]
  },
  {
   "cell_type": "code",
   "execution_count": 38,
   "id": "c1e9304dc52e63b1",
   "metadata": {
    "collapsed": false,
    "ExecuteTime": {
     "end_time": "2024-01-22T19:45:41.534762Z",
     "start_time": "2024-01-22T19:45:41.475938Z"
    }
   },
   "outputs": [
    {
     "name": "stderr",
     "output_type": "stream",
     "text": [
      "/var/folders/x2/jj0kgq010j128mdwvs89btf00000gp/T/ipykernel_40187/298190041.py:1: SettingWithCopyWarning: \n",
      "A value is trying to be set on a copy of a slice from a DataFrame.\n",
      "Try using .loc[row_indexer,col_indexer] = value instead\n",
      "\n",
      "See the caveats in the documentation: https://pandas.pydata.org/pandas-docs/stable/user_guide/indexing.html#returning-a-view-versus-a-copy\n",
      "  reduced_train_routes['trip'] = reduced_train_routes['trip'].apply(lambda x: tuple(sorted(x)))\n"
     ]
    }
   ],
   "source": [
    "reduced_train_routes['trip'] = reduced_train_routes['trip'].apply(lambda x: tuple(sorted(x)))"
   ]
  },
  {
   "cell_type": "code",
   "execution_count": 39,
   "id": "f5efc2ec47286cd5",
   "metadata": {
    "collapsed": false,
    "ExecuteTime": {
     "end_time": "2024-01-22T19:45:41.675154Z",
     "start_time": "2024-01-22T19:45:41.543960Z"
    }
   },
   "outputs": [
    {
     "data": {
      "text/plain": "      index             city_1                  city_2  time_avg[h]  \\\n22       22             London              Birmingham         1.52   \n25       25             London                 Bristol         1.82   \n29       29             London             Southampton         1.45   \n87       87             Madrid                Zaragoza         1.99   \n169     187          Barcelona                Zaragoza         2.05   \n175     194          Barcelona                  Girona         1.21   \n186     208         Birmingham               Liverpool         1.44   \n188     210         Birmingham                 Bristol         1.66   \n287     340            Hamburg                Hannover         1.57   \n288     341            Hamburg                  Bremen         1.22   \n355     445          Liverpool                   Leeds         1.72   \n381     478          Amsterdam               Rotterdam         0.86   \n385     482          Amsterdam               Eindhoven         1.34   \n531     659          Rotterdam               Eindhoven         1.35   \n605     755  Frankfurt am Main               Stuttgart         1.69   \n606     756  Frankfurt am Main              Düsseldorf         1.91   \n628     787            Sevilla    Jerez de la Frontera         1.65   \n749     980            Bristol                 Cardiff         0.84   \n767    1004           Hannover                  Bremen         1.44   \n940    1252            Bologna                 Firenze         0.75   \n950    1262            Bologna                    Pisa         2.20   \n1037   1390            Firenze                    Pisa         1.27   \n1061   1425        Bournemouth             Southampton         0.79   \n1144   1583             Lublin                   Radom         2.48   \n1275   1835               Vigo  Santiago de Compostela         2.02   \n1332   1933          Eindhoven              Maastricht         1.23   \n1452   2128               Bari                Brindisi         1.60   \n\n      time_opti[h]  time_opti[min]  time_avg[min]  \\\n22            1.11            66.6           91.2   \n25            1.48            88.8          109.2   \n29            1.14            68.4           87.0   \n87            1.43            85.8          119.4   \n169           1.47            88.2          123.0   \n175           0.63            37.8           72.6   \n186           1.10            66.0           86.4   \n188           1.38            82.8           99.6   \n287           1.27            76.2           94.2   \n288           0.91            54.6           73.2   \n355           1.25            75.0          103.2   \n381           0.50            30.0           51.6   \n385           1.19            71.4           80.4   \n531           1.17            70.2           81.0   \n605           1.29            77.4          101.4   \n606           1.42            85.2          114.6   \n628           0.95            57.0           99.0   \n749           0.64            38.4           50.4   \n767           0.99            59.4           86.4   \n940           0.58            34.8           45.0   \n950           1.48            88.8          132.0   \n1037          0.81            48.6           76.2   \n1061          0.44            26.4           47.4   \n1144          1.36            81.6          148.8   \n1275          1.33            79.8          121.2   \n1332          1.04            62.4           73.8   \n1452          0.91            54.6           96.0   \n\n                                 trip  \n22               (Birmingham, London)  \n25                  (Bristol, London)  \n29              (London, Southampton)  \n87                 (Madrid, Zaragoza)  \n169             (Barcelona, Zaragoza)  \n175               (Barcelona, Girona)  \n186           (Birmingham, Liverpool)  \n188             (Birmingham, Bristol)  \n287               (Hamburg, Hannover)  \n288                 (Bremen, Hamburg)  \n355                (Leeds, Liverpool)  \n381            (Amsterdam, Rotterdam)  \n385            (Amsterdam, Eindhoven)  \n531            (Eindhoven, Rotterdam)  \n605    (Frankfurt am Main, Stuttgart)  \n606   (Düsseldorf, Frankfurt am Main)  \n628   (Jerez de la Frontera, Sevilla)  \n749                (Bristol, Cardiff)  \n767                (Bremen, Hannover)  \n940                (Bologna, Firenze)  \n950                   (Bologna, Pisa)  \n1037                  (Firenze, Pisa)  \n1061       (Bournemouth, Southampton)  \n1144                  (Lublin, Radom)  \n1275   (Santiago de Compostela, Vigo)  \n1332          (Eindhoven, Maastricht)  \n1452                 (Bari, Brindisi)  ",
      "text/html": "<div>\n<style scoped>\n    .dataframe tbody tr th:only-of-type {\n        vertical-align: middle;\n    }\n\n    .dataframe tbody tr th {\n        vertical-align: top;\n    }\n\n    .dataframe thead th {\n        text-align: right;\n    }\n</style>\n<table border=\"1\" class=\"dataframe\">\n  <thead>\n    <tr style=\"text-align: right;\">\n      <th></th>\n      <th>index</th>\n      <th>city_1</th>\n      <th>city_2</th>\n      <th>time_avg[h]</th>\n      <th>time_opti[h]</th>\n      <th>time_opti[min]</th>\n      <th>time_avg[min]</th>\n      <th>trip</th>\n    </tr>\n  </thead>\n  <tbody>\n    <tr>\n      <th>22</th>\n      <td>22</td>\n      <td>London</td>\n      <td>Birmingham</td>\n      <td>1.52</td>\n      <td>1.11</td>\n      <td>66.6</td>\n      <td>91.2</td>\n      <td>(Birmingham, London)</td>\n    </tr>\n    <tr>\n      <th>25</th>\n      <td>25</td>\n      <td>London</td>\n      <td>Bristol</td>\n      <td>1.82</td>\n      <td>1.48</td>\n      <td>88.8</td>\n      <td>109.2</td>\n      <td>(Bristol, London)</td>\n    </tr>\n    <tr>\n      <th>29</th>\n      <td>29</td>\n      <td>London</td>\n      <td>Southampton</td>\n      <td>1.45</td>\n      <td>1.14</td>\n      <td>68.4</td>\n      <td>87.0</td>\n      <td>(London, Southampton)</td>\n    </tr>\n    <tr>\n      <th>87</th>\n      <td>87</td>\n      <td>Madrid</td>\n      <td>Zaragoza</td>\n      <td>1.99</td>\n      <td>1.43</td>\n      <td>85.8</td>\n      <td>119.4</td>\n      <td>(Madrid, Zaragoza)</td>\n    </tr>\n    <tr>\n      <th>169</th>\n      <td>187</td>\n      <td>Barcelona</td>\n      <td>Zaragoza</td>\n      <td>2.05</td>\n      <td>1.47</td>\n      <td>88.2</td>\n      <td>123.0</td>\n      <td>(Barcelona, Zaragoza)</td>\n    </tr>\n    <tr>\n      <th>175</th>\n      <td>194</td>\n      <td>Barcelona</td>\n      <td>Girona</td>\n      <td>1.21</td>\n      <td>0.63</td>\n      <td>37.8</td>\n      <td>72.6</td>\n      <td>(Barcelona, Girona)</td>\n    </tr>\n    <tr>\n      <th>186</th>\n      <td>208</td>\n      <td>Birmingham</td>\n      <td>Liverpool</td>\n      <td>1.44</td>\n      <td>1.10</td>\n      <td>66.0</td>\n      <td>86.4</td>\n      <td>(Birmingham, Liverpool)</td>\n    </tr>\n    <tr>\n      <th>188</th>\n      <td>210</td>\n      <td>Birmingham</td>\n      <td>Bristol</td>\n      <td>1.66</td>\n      <td>1.38</td>\n      <td>82.8</td>\n      <td>99.6</td>\n      <td>(Birmingham, Bristol)</td>\n    </tr>\n    <tr>\n      <th>287</th>\n      <td>340</td>\n      <td>Hamburg</td>\n      <td>Hannover</td>\n      <td>1.57</td>\n      <td>1.27</td>\n      <td>76.2</td>\n      <td>94.2</td>\n      <td>(Hamburg, Hannover)</td>\n    </tr>\n    <tr>\n      <th>288</th>\n      <td>341</td>\n      <td>Hamburg</td>\n      <td>Bremen</td>\n      <td>1.22</td>\n      <td>0.91</td>\n      <td>54.6</td>\n      <td>73.2</td>\n      <td>(Bremen, Hamburg)</td>\n    </tr>\n    <tr>\n      <th>355</th>\n      <td>445</td>\n      <td>Liverpool</td>\n      <td>Leeds</td>\n      <td>1.72</td>\n      <td>1.25</td>\n      <td>75.0</td>\n      <td>103.2</td>\n      <td>(Leeds, Liverpool)</td>\n    </tr>\n    <tr>\n      <th>381</th>\n      <td>478</td>\n      <td>Amsterdam</td>\n      <td>Rotterdam</td>\n      <td>0.86</td>\n      <td>0.50</td>\n      <td>30.0</td>\n      <td>51.6</td>\n      <td>(Amsterdam, Rotterdam)</td>\n    </tr>\n    <tr>\n      <th>385</th>\n      <td>482</td>\n      <td>Amsterdam</td>\n      <td>Eindhoven</td>\n      <td>1.34</td>\n      <td>1.19</td>\n      <td>71.4</td>\n      <td>80.4</td>\n      <td>(Amsterdam, Eindhoven)</td>\n    </tr>\n    <tr>\n      <th>531</th>\n      <td>659</td>\n      <td>Rotterdam</td>\n      <td>Eindhoven</td>\n      <td>1.35</td>\n      <td>1.17</td>\n      <td>70.2</td>\n      <td>81.0</td>\n      <td>(Eindhoven, Rotterdam)</td>\n    </tr>\n    <tr>\n      <th>605</th>\n      <td>755</td>\n      <td>Frankfurt am Main</td>\n      <td>Stuttgart</td>\n      <td>1.69</td>\n      <td>1.29</td>\n      <td>77.4</td>\n      <td>101.4</td>\n      <td>(Frankfurt am Main, Stuttgart)</td>\n    </tr>\n    <tr>\n      <th>606</th>\n      <td>756</td>\n      <td>Frankfurt am Main</td>\n      <td>Düsseldorf</td>\n      <td>1.91</td>\n      <td>1.42</td>\n      <td>85.2</td>\n      <td>114.6</td>\n      <td>(Düsseldorf, Frankfurt am Main)</td>\n    </tr>\n    <tr>\n      <th>628</th>\n      <td>787</td>\n      <td>Sevilla</td>\n      <td>Jerez de la Frontera</td>\n      <td>1.65</td>\n      <td>0.95</td>\n      <td>57.0</td>\n      <td>99.0</td>\n      <td>(Jerez de la Frontera, Sevilla)</td>\n    </tr>\n    <tr>\n      <th>749</th>\n      <td>980</td>\n      <td>Bristol</td>\n      <td>Cardiff</td>\n      <td>0.84</td>\n      <td>0.64</td>\n      <td>38.4</td>\n      <td>50.4</td>\n      <td>(Bristol, Cardiff)</td>\n    </tr>\n    <tr>\n      <th>767</th>\n      <td>1004</td>\n      <td>Hannover</td>\n      <td>Bremen</td>\n      <td>1.44</td>\n      <td>0.99</td>\n      <td>59.4</td>\n      <td>86.4</td>\n      <td>(Bremen, Hannover)</td>\n    </tr>\n    <tr>\n      <th>940</th>\n      <td>1252</td>\n      <td>Bologna</td>\n      <td>Firenze</td>\n      <td>0.75</td>\n      <td>0.58</td>\n      <td>34.8</td>\n      <td>45.0</td>\n      <td>(Bologna, Firenze)</td>\n    </tr>\n    <tr>\n      <th>950</th>\n      <td>1262</td>\n      <td>Bologna</td>\n      <td>Pisa</td>\n      <td>2.20</td>\n      <td>1.48</td>\n      <td>88.8</td>\n      <td>132.0</td>\n      <td>(Bologna, Pisa)</td>\n    </tr>\n    <tr>\n      <th>1037</th>\n      <td>1390</td>\n      <td>Firenze</td>\n      <td>Pisa</td>\n      <td>1.27</td>\n      <td>0.81</td>\n      <td>48.6</td>\n      <td>76.2</td>\n      <td>(Firenze, Pisa)</td>\n    </tr>\n    <tr>\n      <th>1061</th>\n      <td>1425</td>\n      <td>Bournemouth</td>\n      <td>Southampton</td>\n      <td>0.79</td>\n      <td>0.44</td>\n      <td>26.4</td>\n      <td>47.4</td>\n      <td>(Bournemouth, Southampton)</td>\n    </tr>\n    <tr>\n      <th>1144</th>\n      <td>1583</td>\n      <td>Lublin</td>\n      <td>Radom</td>\n      <td>2.48</td>\n      <td>1.36</td>\n      <td>81.6</td>\n      <td>148.8</td>\n      <td>(Lublin, Radom)</td>\n    </tr>\n    <tr>\n      <th>1275</th>\n      <td>1835</td>\n      <td>Vigo</td>\n      <td>Santiago de Compostela</td>\n      <td>2.02</td>\n      <td>1.33</td>\n      <td>79.8</td>\n      <td>121.2</td>\n      <td>(Santiago de Compostela, Vigo)</td>\n    </tr>\n    <tr>\n      <th>1332</th>\n      <td>1933</td>\n      <td>Eindhoven</td>\n      <td>Maastricht</td>\n      <td>1.23</td>\n      <td>1.04</td>\n      <td>62.4</td>\n      <td>73.8</td>\n      <td>(Eindhoven, Maastricht)</td>\n    </tr>\n    <tr>\n      <th>1452</th>\n      <td>2128</td>\n      <td>Bari</td>\n      <td>Brindisi</td>\n      <td>1.60</td>\n      <td>0.91</td>\n      <td>54.6</td>\n      <td>96.0</td>\n      <td>(Bari, Brindisi)</td>\n    </tr>\n  </tbody>\n</table>\n</div>"
     },
     "execution_count": 39,
     "metadata": {},
     "output_type": "execute_result"
    }
   ],
   "source": [
    "reduced_train_routes"
   ]
  },
  {
   "cell_type": "markdown",
   "id": "3dcd37a30e37d253",
   "metadata": {
    "collapsed": false
   },
   "source": [
    "### Flights"
   ]
  },
  {
   "cell_type": "code",
   "execution_count": 40,
   "id": "2b54bb3eebc8ef47",
   "metadata": {
    "collapsed": false,
    "ExecuteTime": {
     "end_time": "2024-01-22T19:45:41.853490Z",
     "start_time": "2024-01-22T19:45:41.656209Z"
    }
   },
   "outputs": [
    {
     "data": {
      "text/plain": "               route   time departure airport arrival airport  \\\n2     {'AMS', 'ABZ'}   85.0               AMS             ABZ   \n34    {'BCN', 'AGP'}   97.5               BCN             AGP   \n37    {'HAM', 'AGP'}  205.0               HAM             AGP   \n39    {'MAD', 'AGP'}   80.0               MAD             AGP   \n62    {'ABZ', 'AMS'}   95.0               ABZ             AMS   \n...              ...    ...               ...             ...   \n1434  {'WRO', 'AGP'}  220.0               WRO             AGP   \n1435  {'WRO', 'BHX'}  125.0               WRO             BHX   \n1437  {'WRO', 'VLC'}  187.5               WRO             VLC   \n1438  {'XRY', 'BCN'}  105.0               XRY             BCN   \n1439  {'XRY', 'MAD'}   77.5               XRY             MAD   \n\n            departure city arrival city  \n2                Amsterdam     Aberdeen  \n34               Barcelona       Málaga  \n37                 Hamburg       Málaga  \n39                  Madrid       Málaga  \n62                Aberdeen    Amsterdam  \n...                    ...          ...  \n1434               Wrocław       Málaga  \n1435               Wrocław   Birmingham  \n1437               Wrocław     Valencia  \n1438  Jerez de la Frontera    Barcelona  \n1439  Jerez de la Frontera       Madrid  \n\n[251 rows x 6 columns]",
      "text/html": "<div>\n<style scoped>\n    .dataframe tbody tr th:only-of-type {\n        vertical-align: middle;\n    }\n\n    .dataframe tbody tr th {\n        vertical-align: top;\n    }\n\n    .dataframe thead th {\n        text-align: right;\n    }\n</style>\n<table border=\"1\" class=\"dataframe\">\n  <thead>\n    <tr style=\"text-align: right;\">\n      <th></th>\n      <th>route</th>\n      <th>time</th>\n      <th>departure airport</th>\n      <th>arrival airport</th>\n      <th>departure city</th>\n      <th>arrival city</th>\n    </tr>\n  </thead>\n  <tbody>\n    <tr>\n      <th>2</th>\n      <td>{'AMS', 'ABZ'}</td>\n      <td>85.0</td>\n      <td>AMS</td>\n      <td>ABZ</td>\n      <td>Amsterdam</td>\n      <td>Aberdeen</td>\n    </tr>\n    <tr>\n      <th>34</th>\n      <td>{'BCN', 'AGP'}</td>\n      <td>97.5</td>\n      <td>BCN</td>\n      <td>AGP</td>\n      <td>Barcelona</td>\n      <td>Málaga</td>\n    </tr>\n    <tr>\n      <th>37</th>\n      <td>{'HAM', 'AGP'}</td>\n      <td>205.0</td>\n      <td>HAM</td>\n      <td>AGP</td>\n      <td>Hamburg</td>\n      <td>Málaga</td>\n    </tr>\n    <tr>\n      <th>39</th>\n      <td>{'MAD', 'AGP'}</td>\n      <td>80.0</td>\n      <td>MAD</td>\n      <td>AGP</td>\n      <td>Madrid</td>\n      <td>Málaga</td>\n    </tr>\n    <tr>\n      <th>62</th>\n      <td>{'ABZ', 'AMS'}</td>\n      <td>95.0</td>\n      <td>ABZ</td>\n      <td>AMS</td>\n      <td>Aberdeen</td>\n      <td>Amsterdam</td>\n    </tr>\n    <tr>\n      <th>...</th>\n      <td>...</td>\n      <td>...</td>\n      <td>...</td>\n      <td>...</td>\n      <td>...</td>\n      <td>...</td>\n    </tr>\n    <tr>\n      <th>1434</th>\n      <td>{'WRO', 'AGP'}</td>\n      <td>220.0</td>\n      <td>WRO</td>\n      <td>AGP</td>\n      <td>Wrocław</td>\n      <td>Málaga</td>\n    </tr>\n    <tr>\n      <th>1435</th>\n      <td>{'WRO', 'BHX'}</td>\n      <td>125.0</td>\n      <td>WRO</td>\n      <td>BHX</td>\n      <td>Wrocław</td>\n      <td>Birmingham</td>\n    </tr>\n    <tr>\n      <th>1437</th>\n      <td>{'WRO', 'VLC'}</td>\n      <td>187.5</td>\n      <td>WRO</td>\n      <td>VLC</td>\n      <td>Wrocław</td>\n      <td>Valencia</td>\n    </tr>\n    <tr>\n      <th>1438</th>\n      <td>{'XRY', 'BCN'}</td>\n      <td>105.0</td>\n      <td>XRY</td>\n      <td>BCN</td>\n      <td>Jerez de la Frontera</td>\n      <td>Barcelona</td>\n    </tr>\n    <tr>\n      <th>1439</th>\n      <td>{'XRY', 'MAD'}</td>\n      <td>77.5</td>\n      <td>XRY</td>\n      <td>MAD</td>\n      <td>Jerez de la Frontera</td>\n      <td>Madrid</td>\n    </tr>\n  </tbody>\n</table>\n<p>251 rows × 6 columns</p>\n</div>"
     },
     "execution_count": 40,
     "metadata": {},
     "output_type": "execute_result"
    }
   ],
   "source": [
    "# TODO: this dataframe contains strings of sets, it should not be the case in the final notebook\n",
    "reduced_flights = flights[(flights['departure city'].isin(intersecting_cities)) & (flights['arrival city'].isin(intersecting_cities))]\n",
    "reduced_flights"
   ]
  },
  {
   "cell_type": "markdown",
   "id": "9afef64fce99a4ad",
   "metadata": {
    "collapsed": false
   },
   "source": [
    "Looking for a particular city"
   ]
  },
  {
   "cell_type": "code",
   "execution_count": 56,
   "id": "66504b505f61291b",
   "metadata": {
    "collapsed": false,
    "ExecuteTime": {
     "end_time": "2024-01-22T19:52:30.681492Z",
     "start_time": "2024-01-22T19:52:30.666821Z"
    }
   },
   "outputs": [
    {
     "name": "stderr",
     "output_type": "stream",
     "text": [
      "/var/folders/x2/jj0kgq010j128mdwvs89btf00000gp/T/ipykernel_40187/1333528284.py:1: SettingWithCopyWarning: \n",
      "A value is trying to be set on a copy of a slice from a DataFrame.\n",
      "Try using .loc[row_indexer,col_indexer] = value instead\n",
      "\n",
      "See the caveats in the documentation: https://pandas.pydata.org/pandas-docs/stable/user_guide/indexing.html#returning-a-view-versus-a-copy\n",
      "  reduced_flights['trip'] = reduced_flights.apply(lambda row: {row['departure city'], row['arrival city']}, axis=1)\n",
      "/var/folders/x2/jj0kgq010j128mdwvs89btf00000gp/T/ipykernel_40187/1333528284.py:2: SettingWithCopyWarning: \n",
      "A value is trying to be set on a copy of a slice from a DataFrame\n",
      "\n",
      "See the caveats in the documentation: https://pandas.pydata.org/pandas-docs/stable/user_guide/indexing.html#returning-a-view-versus-a-copy\n",
      "  reduced_flights.drop(columns=['route', 'departure airport', 'arrival airport', 'departure city', 'arrival city'], inplace=True)\n"
     ]
    },
    {
     "data": {
      "text/plain": "       time                               trip\n2      85.0              {Aberdeen, Amsterdam}\n34     97.5                {Barcelona, Málaga}\n37    205.0                  {Hamburg, Málaga}\n39     80.0                   {Málaga, Madrid}\n62     95.0              {Aberdeen, Amsterdam}\n...     ...                                ...\n1434  220.0                  {Wrocław, Málaga}\n1435  125.0              {Wrocław, Birmingham}\n1437  187.5                {Wrocław, Valencia}\n1438  105.0  {Jerez de la Frontera, Barcelona}\n1439   77.5     {Jerez de la Frontera, Madrid}\n\n[251 rows x 2 columns]",
      "text/html": "<div>\n<style scoped>\n    .dataframe tbody tr th:only-of-type {\n        vertical-align: middle;\n    }\n\n    .dataframe tbody tr th {\n        vertical-align: top;\n    }\n\n    .dataframe thead th {\n        text-align: right;\n    }\n</style>\n<table border=\"1\" class=\"dataframe\">\n  <thead>\n    <tr style=\"text-align: right;\">\n      <th></th>\n      <th>time</th>\n      <th>trip</th>\n    </tr>\n  </thead>\n  <tbody>\n    <tr>\n      <th>2</th>\n      <td>85.0</td>\n      <td>{Aberdeen, Amsterdam}</td>\n    </tr>\n    <tr>\n      <th>34</th>\n      <td>97.5</td>\n      <td>{Barcelona, Málaga}</td>\n    </tr>\n    <tr>\n      <th>37</th>\n      <td>205.0</td>\n      <td>{Hamburg, Málaga}</td>\n    </tr>\n    <tr>\n      <th>39</th>\n      <td>80.0</td>\n      <td>{Málaga, Madrid}</td>\n    </tr>\n    <tr>\n      <th>62</th>\n      <td>95.0</td>\n      <td>{Aberdeen, Amsterdam}</td>\n    </tr>\n    <tr>\n      <th>...</th>\n      <td>...</td>\n      <td>...</td>\n    </tr>\n    <tr>\n      <th>1434</th>\n      <td>220.0</td>\n      <td>{Wrocław, Málaga}</td>\n    </tr>\n    <tr>\n      <th>1435</th>\n      <td>125.0</td>\n      <td>{Wrocław, Birmingham}</td>\n    </tr>\n    <tr>\n      <th>1437</th>\n      <td>187.5</td>\n      <td>{Wrocław, Valencia}</td>\n    </tr>\n    <tr>\n      <th>1438</th>\n      <td>105.0</td>\n      <td>{Jerez de la Frontera, Barcelona}</td>\n    </tr>\n    <tr>\n      <th>1439</th>\n      <td>77.5</td>\n      <td>{Jerez de la Frontera, Madrid}</td>\n    </tr>\n  </tbody>\n</table>\n<p>251 rows × 2 columns</p>\n</div>"
     },
     "execution_count": 56,
     "metadata": {},
     "output_type": "execute_result"
    }
   ],
   "source": [
    "reduced_flights['trip'] = reduced_flights.apply(lambda row: {row['departure city'], row['arrival city']}, axis=1)\n",
    "reduced_flights.drop(columns=['route', 'departure airport', 'arrival airport', 'departure city', 'arrival city'], inplace=True)\n",
    "reduced_flights"
   ]
  },
  {
   "cell_type": "markdown",
   "id": "25884d60e1f3be07",
   "metadata": {
    "collapsed": false
   },
   "source": [
    "To be able to perform an inner join, the sets need to be converted to tuples, which are immutable and hashable and therefore can be used as keys in a join with pandas."
   ]
  },
  {
   "cell_type": "code",
   "execution_count": 57,
   "id": "26624712c6e6b616",
   "metadata": {
    "collapsed": false,
    "ExecuteTime": {
     "end_time": "2024-01-22T19:52:32.805359Z",
     "start_time": "2024-01-22T19:52:32.798457Z"
    }
   },
   "outputs": [
    {
     "name": "stderr",
     "output_type": "stream",
     "text": [
      "/var/folders/x2/jj0kgq010j128mdwvs89btf00000gp/T/ipykernel_40187/3047522961.py:1: SettingWithCopyWarning: \n",
      "A value is trying to be set on a copy of a slice from a DataFrame.\n",
      "Try using .loc[row_indexer,col_indexer] = value instead\n",
      "\n",
      "See the caveats in the documentation: https://pandas.pydata.org/pandas-docs/stable/user_guide/indexing.html#returning-a-view-versus-a-copy\n",
      "  reduced_flights['trip'] = reduced_flights['trip'].apply(lambda x: tuple(sorted(x)))\n"
     ]
    }
   ],
   "source": [
    "reduced_flights['trip'] = reduced_flights['trip'].apply(lambda x: tuple(sorted(x)))"
   ]
  },
  {
   "cell_type": "markdown",
   "id": "c8dc26ba5b042a6b",
   "metadata": {
    "collapsed": false
   },
   "source": [
    "### Final result"
   ]
  },
  {
   "cell_type": "code",
   "execution_count": 58,
   "id": "6b1dcaa4e930bff8",
   "metadata": {
    "collapsed": false,
    "ExecuteTime": {
     "end_time": "2024-01-22T19:52:34.513859Z",
     "start_time": "2024-01-22T19:52:34.496286Z"
    }
   },
   "outputs": [
    {
     "data": {
      "text/plain": "   index             city_1      city_2  time_avg[h]  time_opti[h]  \\\n0    755  Frankfurt am Main   Stuttgart         1.69          1.29   \n1    756  Frankfurt am Main  Düsseldorf         1.91          1.42   \n2    756  Frankfurt am Main  Düsseldorf         1.91          1.42   \n\n   time_opti[min]  time_avg[min]                             trip  time  \n0            77.4          101.4   (Frankfurt am Main, Stuttgart)  50.0  \n1            85.2          114.6  (Düsseldorf, Frankfurt am Main)  50.0  \n2            85.2          114.6  (Düsseldorf, Frankfurt am Main)  50.0  ",
      "text/html": "<div>\n<style scoped>\n    .dataframe tbody tr th:only-of-type {\n        vertical-align: middle;\n    }\n\n    .dataframe tbody tr th {\n        vertical-align: top;\n    }\n\n    .dataframe thead th {\n        text-align: right;\n    }\n</style>\n<table border=\"1\" class=\"dataframe\">\n  <thead>\n    <tr style=\"text-align: right;\">\n      <th></th>\n      <th>index</th>\n      <th>city_1</th>\n      <th>city_2</th>\n      <th>time_avg[h]</th>\n      <th>time_opti[h]</th>\n      <th>time_opti[min]</th>\n      <th>time_avg[min]</th>\n      <th>trip</th>\n      <th>time</th>\n    </tr>\n  </thead>\n  <tbody>\n    <tr>\n      <th>0</th>\n      <td>755</td>\n      <td>Frankfurt am Main</td>\n      <td>Stuttgart</td>\n      <td>1.69</td>\n      <td>1.29</td>\n      <td>77.4</td>\n      <td>101.4</td>\n      <td>(Frankfurt am Main, Stuttgart)</td>\n      <td>50.0</td>\n    </tr>\n    <tr>\n      <th>1</th>\n      <td>756</td>\n      <td>Frankfurt am Main</td>\n      <td>Düsseldorf</td>\n      <td>1.91</td>\n      <td>1.42</td>\n      <td>85.2</td>\n      <td>114.6</td>\n      <td>(Düsseldorf, Frankfurt am Main)</td>\n      <td>50.0</td>\n    </tr>\n    <tr>\n      <th>2</th>\n      <td>756</td>\n      <td>Frankfurt am Main</td>\n      <td>Düsseldorf</td>\n      <td>1.91</td>\n      <td>1.42</td>\n      <td>85.2</td>\n      <td>114.6</td>\n      <td>(Düsseldorf, Frankfurt am Main)</td>\n      <td>50.0</td>\n    </tr>\n  </tbody>\n</table>\n</div>"
     },
     "execution_count": 58,
     "metadata": {},
     "output_type": "execute_result"
    }
   ],
   "source": [
    "flights_and_trains = pd.merge(reduced_train_routes, reduced_flights, on='trip', how='inner')\n",
    "flights_and_trains"
   ]
  },
  {
   "cell_type": "markdown",
   "source": [
    "## Trying to match airport city names to train city names"
   ],
   "metadata": {
    "collapsed": false
   },
   "id": "c57c196d54d0c937"
  },
  {
   "cell_type": "code",
   "outputs": [],
   "source": [
    "import pandas as pd\n",
    "\n",
    "airport_cities = pd.read_csv(\"../datasets/AG_airport_cities_cleaned.csv\")\n",
    "train_routes  = pd.read_csv('../datasets/train_routes.csv')\n",
    "train_cities = pd.read_csv(\"../datasets/train_cities.csv\")\n",
    "flight_times = pd.read_csv(\"../datasets/flight_times_extended.csv\")\n",
    "flight_times = flight_times.iloc[:,1:]\n",
    "train_routes = train_routes.iloc[:,1:]"
   ],
   "metadata": {
    "collapsed": false
   },
   "id": "4470ef2f76046ed1",
   "execution_count": 79
  },
  {
   "cell_type": "markdown",
   "source": [
    "Map old names of the cities. Same for trains will be below developped"
   ],
   "metadata": {
    "collapsed": false
   },
   "id": "5be15115765f5e62"
  },
  {
   "cell_type": "code",
   "outputs": [
    {
     "data": {
      "text/html": [
       "<div>\n",
       "<style scoped>\n",
       "    .dataframe tbody tr th:only-of-type {\n",
       "        vertical-align: middle;\n",
       "    }\n",
       "\n",
       "    .dataframe tbody tr th {\n",
       "        vertical-align: top;\n",
       "    }\n",
       "\n",
       "    .dataframe thead th {\n",
       "        text-align: right;\n",
       "    }\n",
       "</style>\n",
       "<table border=\"1\" class=\"dataframe\">\n",
       "  <thead>\n",
       "    <tr style=\"text-align: right;\">\n",
       "      <th></th>\n",
       "      <th>original_city</th>\n",
       "      <th>city_new</th>\n",
       "    </tr>\n",
       "  </thead>\n",
       "  <tbody>\n",
       "    <tr>\n",
       "      <th>0</th>\n",
       "      <td>Andenes</td>\n",
       "      <td>Andenes</td>\n",
       "    </tr>\n",
       "    <tr>\n",
       "      <th>1</th>\n",
       "      <td>Moscow</td>\n",
       "      <td>Moscow</td>\n",
       "    </tr>\n",
       "    <tr>\n",
       "      <th>2</th>\n",
       "      <td>Prague</td>\n",
       "      <td>Prague</td>\n",
       "    </tr>\n",
       "    <tr>\n",
       "      <th>3</th>\n",
       "      <td>Stavropol</td>\n",
       "      <td>Stavropol</td>\n",
       "    </tr>\n",
       "    <tr>\n",
       "      <th>4</th>\n",
       "      <td>Craiova</td>\n",
       "      <td>Craiova</td>\n",
       "    </tr>\n",
       "    <tr>\n",
       "      <th>...</th>\n",
       "      <td>...</td>\n",
       "      <td>...</td>\n",
       "    </tr>\n",
       "    <tr>\n",
       "      <th>299</th>\n",
       "      <td>Krasnoyarsk</td>\n",
       "      <td>Krasnoyarsk</td>\n",
       "    </tr>\n",
       "    <tr>\n",
       "      <th>300</th>\n",
       "      <td>Syktyvkar</td>\n",
       "      <td>Syktyvkar</td>\n",
       "    </tr>\n",
       "    <tr>\n",
       "      <th>301</th>\n",
       "      <td>Pescara</td>\n",
       "      <td>Pescara</td>\n",
       "    </tr>\n",
       "    <tr>\n",
       "      <th>302</th>\n",
       "      <td>Bragança</td>\n",
       "      <td>Braganca</td>\n",
       "    </tr>\n",
       "    <tr>\n",
       "      <th>303</th>\n",
       "      <td>Wrocław</td>\n",
       "      <td>Wroclaw</td>\n",
       "    </tr>\n",
       "  </tbody>\n",
       "</table>\n",
       "<p>304 rows × 2 columns</p>\n",
       "</div>"
      ],
      "text/plain": [
       "    original_city     city_new\n",
       "0         Andenes      Andenes\n",
       "1          Moscow       Moscow\n",
       "2          Prague       Prague\n",
       "3       Stavropol    Stavropol\n",
       "4         Craiova      Craiova\n",
       "..            ...          ...\n",
       "299   Krasnoyarsk  Krasnoyarsk\n",
       "300     Syktyvkar    Syktyvkar\n",
       "301       Pescara      Pescara\n",
       "302      Bragança     Braganca\n",
       "303       Wrocław      Wroclaw\n",
       "\n",
       "[304 rows x 2 columns]"
      ]
     },
     "execution_count": 80,
     "metadata": {},
     "output_type": "execute_result"
    }
   ],
   "source": [
    "# airport cities + routes [should be matched with a iata code - need for identifier ]\n",
    "airport_cities_mapping = airport_cities[[\"original_city\",\"new_cleaned_city\"]].copy()\n",
    "airport_cities_mapping.rename(columns={\"new_cleaned_city\":\"city_new\"}, inplace=True )\n",
    "airport_cities_mapping"
   ],
   "metadata": {
    "collapsed": false
   },
   "id": "7f95341d6b83d057",
   "execution_count": 80
  },
  {
   "cell_type": "code",
   "outputs": [
    {
     "data": {
      "text/html": [
       "<div>\n",
       "<style scoped>\n",
       "    .dataframe tbody tr th:only-of-type {\n",
       "        vertical-align: middle;\n",
       "    }\n",
       "\n",
       "    .dataframe tbody tr th {\n",
       "        vertical-align: top;\n",
       "    }\n",
       "\n",
       "    .dataframe thead th {\n",
       "        text-align: right;\n",
       "    }\n",
       "</style>\n",
       "<table border=\"1\" class=\"dataframe\">\n",
       "  <thead>\n",
       "    <tr style=\"text-align: right;\">\n",
       "      <th></th>\n",
       "      <th>Matches</th>\n",
       "      <th>Airports only</th>\n",
       "      <th>Train cities only</th>\n",
       "    </tr>\n",
       "  </thead>\n",
       "  <tbody>\n",
       "    <tr>\n",
       "      <th>0</th>\n",
       "      <td>84</td>\n",
       "      <td>218</td>\n",
       "      <td>577</td>\n",
       "    </tr>\n",
       "  </tbody>\n",
       "</table>\n",
       "</div>"
      ],
      "text/plain": [
       "   Matches  Airports only  Train cities only\n",
       "0       84            218                577"
      ]
     },
     "execution_count": 81,
     "metadata": {},
     "output_type": "execute_result"
    }
   ],
   "source": [
    "train_cities[\"city_new\"] = train_cities[\"city\"].apply(lambda x: x.split(\"/\")[0].strip())\n",
    "train_cities[\"city_new\"] = train_cities[\"city_new\"].apply(lambda x: x.split(\"(\")[0].strip())\n",
    "\n",
    "#character replacements\n",
    "replacements = {\n",
    "    \"København\":\"Copenhagen\",\n",
    "    \"Warszawa\":\"Warsaw\",\n",
    "    \"Wien\":\"Vienna\",\n",
    "    \"ü\": \"u\",\n",
    "    \"Ł\" : \"L\",\n",
    "    \"ł\" : \"l\",\n",
    "    \"ä\" : \"a\",\n",
    "    \"ö\" : \"o\",\n",
    "    \"å\" : \"a\",\n",
    "    \"ú\" : \"u\",\n",
    "    \"ń\" : \"n\",\n",
    "    \"ş\" : \"s\",\n",
    "    \"é\" : \"e\",\n",
    "    \"ú\" : \"u\",\n",
    "    \"è\":\"e\",\n",
    "    \"ø\":\"o\",\n",
    "    \"ţ\":\"t\",\n",
    "    \"õ\":\"o\",\n",
    "    \"ś\":\"s\",\n",
    "    \"í\":\"i\"\n",
    "}\n",
    "\n",
    "for kchar, vchar in replacements.items():\n",
    "    train_cities[\"city_new\"] = train_cities[\"city_new\"].apply(lambda x: x.replace(kchar, vchar)) \n",
    "# train_cities[\"city_new\"] = train_cities[\"city_new\"].apply(lambda x: x.replace(\"\"))\n",
    "train_cities = train_cities.loc[ ~(train_cities[\"city_new\"] ==  \"s-Hertogenbosch\")]\n",
    "train_cities_set =  set(train_cities[\"city_new\"])\n",
    "airport_cities_set = set(airport_cities_mapping[\"city_new\"])\n",
    "matches = train_cities_set & airport_cities_set\n",
    "\n",
    "# Matchings after cleaning\n",
    "matchings = pd.DataFrame( [{\"Matches\": len(matches),\n",
    "                            \"Airports only\": len(airport_cities_set - train_cities_set),\n",
    "                            \"Train cities only\":len(train_cities_set - airport_cities_set)\n",
    "                }])\n",
    "matchings"
   ],
   "metadata": {
    "collapsed": false
   },
   "id": "87835f0d8e512e2f",
   "execution_count": 81
  },
  {
   "cell_type": "markdown",
   "source": [
    "The cities which match (are in both set) will be used to subset train routes:"
   ],
   "metadata": {
    "collapsed": false
   },
   "id": "9271acad118ac978"
  },
  {
   "cell_type": "code",
   "outputs": [
    {
     "data": {
      "text/html": [
       "<div>\n",
       "<style scoped>\n",
       "    .dataframe tbody tr th:only-of-type {\n",
       "        vertical-align: middle;\n",
       "    }\n",
       "\n",
       "    .dataframe tbody tr th {\n",
       "        vertical-align: top;\n",
       "    }\n",
       "\n",
       "    .dataframe thead th {\n",
       "        text-align: right;\n",
       "    }\n",
       "</style>\n",
       "<table border=\"1\" class=\"dataframe\">\n",
       "  <thead>\n",
       "    <tr style=\"text-align: right;\">\n",
       "      <th></th>\n",
       "      <th>route</th>\n",
       "      <th>time</th>\n",
       "      <th>departure airport</th>\n",
       "      <th>arrival airport</th>\n",
       "      <th>city2</th>\n",
       "      <th>city1</th>\n",
       "    </tr>\n",
       "  </thead>\n",
       "  <tbody>\n",
       "    <tr>\n",
       "      <th>1</th>\n",
       "      <td>{'ABZ', 'AMS'}</td>\n",
       "      <td>95.0</td>\n",
       "      <td>ABZ</td>\n",
       "      <td>AMS</td>\n",
       "      <td>Amsterdam</td>\n",
       "      <td>Aberdeen</td>\n",
       "    </tr>\n",
       "    <tr>\n",
       "      <th>19</th>\n",
       "      <td>{'LTN', 'AMS'}</td>\n",
       "      <td>70.0</td>\n",
       "      <td>LTN</td>\n",
       "      <td>AMS</td>\n",
       "      <td>Amsterdam</td>\n",
       "      <td>Luton</td>\n",
       "    </tr>\n",
       "    <tr>\n",
       "      <th>21</th>\n",
       "      <td>{'LTN', 'BCN'}</td>\n",
       "      <td>125.0</td>\n",
       "      <td>LTN</td>\n",
       "      <td>BCN</td>\n",
       "      <td>Barcelona</td>\n",
       "      <td>Luton</td>\n",
       "    </tr>\n",
       "    <tr>\n",
       "      <th>22</th>\n",
       "      <td>{'LTN', 'BFS'}</td>\n",
       "      <td>75.0</td>\n",
       "      <td>LTN</td>\n",
       "      <td>BFS</td>\n",
       "      <td>Belfast</td>\n",
       "      <td>Luton</td>\n",
       "    </tr>\n",
       "    <tr>\n",
       "      <th>23</th>\n",
       "      <td>{'LTN', 'EDI'}</td>\n",
       "      <td>75.0</td>\n",
       "      <td>LTN</td>\n",
       "      <td>EDI</td>\n",
       "      <td>Edinburgh</td>\n",
       "      <td>Luton</td>\n",
       "    </tr>\n",
       "    <tr>\n",
       "      <th>...</th>\n",
       "      <td>...</td>\n",
       "      <td>...</td>\n",
       "      <td>...</td>\n",
       "      <td>...</td>\n",
       "      <td>...</td>\n",
       "      <td>...</td>\n",
       "    </tr>\n",
       "    <tr>\n",
       "      <th>1403</th>\n",
       "      <td>{'MMX', 'ARN'}</td>\n",
       "      <td>70.0</td>\n",
       "      <td>MMX</td>\n",
       "      <td>ARN</td>\n",
       "      <td>Stockholm</td>\n",
       "      <td>Malmo</td>\n",
       "    </tr>\n",
       "    <tr>\n",
       "      <th>1404</th>\n",
       "      <td>{'MMX', 'BMA'}</td>\n",
       "      <td>80.0</td>\n",
       "      <td>MMX</td>\n",
       "      <td>BMA</td>\n",
       "      <td>Stockholm</td>\n",
       "      <td>Malmo</td>\n",
       "    </tr>\n",
       "    <tr>\n",
       "      <th>1443</th>\n",
       "      <td>{'STR', 'SKG'}</td>\n",
       "      <td>135.0</td>\n",
       "      <td>STR</td>\n",
       "      <td>SKG</td>\n",
       "      <td>Thessaloniki</td>\n",
       "      <td>Stuttgart</td>\n",
       "    </tr>\n",
       "    <tr>\n",
       "      <th>1451</th>\n",
       "      <td>{'TUF', 'STN'}</td>\n",
       "      <td>85.0</td>\n",
       "      <td>TUF</td>\n",
       "      <td>STN</td>\n",
       "      <td>London</td>\n",
       "      <td>Tours</td>\n",
       "    </tr>\n",
       "    <tr>\n",
       "      <th>1464</th>\n",
       "      <td>{'SKG', 'STR'}</td>\n",
       "      <td>150.0</td>\n",
       "      <td>SKG</td>\n",
       "      <td>STR</td>\n",
       "      <td>Stuttgart</td>\n",
       "      <td>Thessaloniki</td>\n",
       "    </tr>\n",
       "  </tbody>\n",
       "</table>\n",
       "<p>339 rows × 6 columns</p>\n",
       "</div>"
      ],
      "text/plain": [
       "               route   time departure airport arrival airport         city2  \\\n",
       "1     {'ABZ', 'AMS'}   95.0               ABZ             AMS     Amsterdam   \n",
       "19    {'LTN', 'AMS'}   70.0               LTN             AMS     Amsterdam   \n",
       "21    {'LTN', 'BCN'}  125.0               LTN             BCN     Barcelona   \n",
       "22    {'LTN', 'BFS'}   75.0               LTN             BFS       Belfast   \n",
       "23    {'LTN', 'EDI'}   75.0               LTN             EDI     Edinburgh   \n",
       "...              ...    ...               ...             ...           ...   \n",
       "1403  {'MMX', 'ARN'}   70.0               MMX             ARN     Stockholm   \n",
       "1404  {'MMX', 'BMA'}   80.0               MMX             BMA     Stockholm   \n",
       "1443  {'STR', 'SKG'}  135.0               STR             SKG  Thessaloniki   \n",
       "1451  {'TUF', 'STN'}   85.0               TUF             STN        London   \n",
       "1464  {'SKG', 'STR'}  150.0               SKG             STR     Stuttgart   \n",
       "\n",
       "             city1  \n",
       "1         Aberdeen  \n",
       "19           Luton  \n",
       "21           Luton  \n",
       "22           Luton  \n",
       "23           Luton  \n",
       "...            ...  \n",
       "1403         Malmo  \n",
       "1404         Malmo  \n",
       "1443     Stuttgart  \n",
       "1451         Tours  \n",
       "1464  Thessaloniki  \n",
       "\n",
       "[339 rows x 6 columns]"
      ]
     },
     "execution_count": 91,
     "metadata": {},
     "output_type": "execute_result"
    }
   ],
   "source": [
    "# find flight routes for Matches\n",
    "flight_times_arrival = flight_times.merge(airport_cities_mapping, right_on=\"original_city\", left_on= \"arrival city\")\n",
    "flight_times_arrival.drop([\"arrival city\", \"original_city\"], axis=1, inplace=True)\n",
    "flight_times_arrival.rename(columns={\"city_new\":\"city2\"}, inplace=True)\n",
    "\n",
    "flight_times_departure = flight_times_arrival.merge(airport_cities_mapping, right_on=\"original_city\", left_on= \"departure city\")\n",
    "flight_times_departure.drop([\"departure city\", \"original_city\"], axis=1, inplace=True)\n",
    "flight_times_departure.rename(columns={\"city_new\":\"city1\"}, inplace=True)\n",
    "\n",
    "flight_times_new = flight_times_departure.loc[flight_times_departure[\"city1\"].isin(matches) & flight_times_departure[\"city2\"].isin(matches)]\n",
    "# flight_times_new.to_csv(\"../datasets/flight_times_cleaned.csv\",index=False)\n",
    "flight_times_new"
   ],
   "metadata": {
    "collapsed": false
   },
   "id": "993fe2d02c0cdc40",
   "execution_count": 91
  },
  {
   "cell_type": "code",
   "outputs": [
    {
     "data": {
      "text/html": [
       "<div>\n",
       "<style scoped>\n",
       "    .dataframe tbody tr th:only-of-type {\n",
       "        vertical-align: middle;\n",
       "    }\n",
       "\n",
       "    .dataframe tbody tr th {\n",
       "        vertical-align: top;\n",
       "    }\n",
       "\n",
       "    .dataframe thead th {\n",
       "        text-align: right;\n",
       "    }\n",
       "</style>\n",
       "<table border=\"1\" class=\"dataframe\">\n",
       "  <thead>\n",
       "    <tr style=\"text-align: right;\">\n",
       "      <th></th>\n",
       "      <th>time_avg[h]</th>\n",
       "      <th>time_opti[h]</th>\n",
       "      <th>time_opti[min]</th>\n",
       "      <th>time_avg[min]</th>\n",
       "      <th>city1</th>\n",
       "      <th>city2</th>\n",
       "    </tr>\n",
       "  </thead>\n",
       "  <tbody>\n",
       "    <tr>\n",
       "      <th>7</th>\n",
       "      <td>1.54</td>\n",
       "      <td>0.86</td>\n",
       "      <td>51.6</td>\n",
       "      <td>92.4</td>\n",
       "      <td>Paris</td>\n",
       "      <td>Tours</td>\n",
       "    </tr>\n",
       "    <tr>\n",
       "      <th>92</th>\n",
       "      <td>1.52</td>\n",
       "      <td>1.11</td>\n",
       "      <td>66.6</td>\n",
       "      <td>91.2</td>\n",
       "      <td>London</td>\n",
       "      <td>Birmingham</td>\n",
       "    </tr>\n",
       "    <tr>\n",
       "      <th>97</th>\n",
       "      <td>1.82</td>\n",
       "      <td>1.48</td>\n",
       "      <td>88.8</td>\n",
       "      <td>109.2</td>\n",
       "      <td>London</td>\n",
       "      <td>Bristol</td>\n",
       "    </tr>\n",
       "    <tr>\n",
       "      <th>98</th>\n",
       "      <td>1.66</td>\n",
       "      <td>1.38</td>\n",
       "      <td>82.8</td>\n",
       "      <td>99.6</td>\n",
       "      <td>Birmingham</td>\n",
       "      <td>Bristol</td>\n",
       "    </tr>\n",
       "    <tr>\n",
       "      <th>113</th>\n",
       "      <td>1.45</td>\n",
       "      <td>1.14</td>\n",
       "      <td>68.4</td>\n",
       "      <td>87.0</td>\n",
       "      <td>London</td>\n",
       "      <td>Southampton</td>\n",
       "    </tr>\n",
       "    <tr>\n",
       "      <th>115</th>\n",
       "      <td>0.79</td>\n",
       "      <td>0.44</td>\n",
       "      <td>26.4</td>\n",
       "      <td>47.4</td>\n",
       "      <td>Bournemouth</td>\n",
       "      <td>Southampton</td>\n",
       "    </tr>\n",
       "    <tr>\n",
       "      <th>126</th>\n",
       "      <td>0.60</td>\n",
       "      <td>0.35</td>\n",
       "      <td>21.0</td>\n",
       "      <td>36.0</td>\n",
       "      <td>London</td>\n",
       "      <td>Luton</td>\n",
       "    </tr>\n",
       "    <tr>\n",
       "      <th>846</th>\n",
       "      <td>1.99</td>\n",
       "      <td>1.43</td>\n",
       "      <td>85.8</td>\n",
       "      <td>119.4</td>\n",
       "      <td>Madrid</td>\n",
       "      <td>Zaragoza</td>\n",
       "    </tr>\n",
       "    <tr>\n",
       "      <th>847</th>\n",
       "      <td>2.05</td>\n",
       "      <td>1.47</td>\n",
       "      <td>88.2</td>\n",
       "      <td>123.0</td>\n",
       "      <td>Barcelona</td>\n",
       "      <td>Zaragoza</td>\n",
       "    </tr>\n",
       "    <tr>\n",
       "      <th>952</th>\n",
       "      <td>1.19</td>\n",
       "      <td>0.81</td>\n",
       "      <td>48.6</td>\n",
       "      <td>71.4</td>\n",
       "      <td>Bologna</td>\n",
       "      <td>Parma</td>\n",
       "    </tr>\n",
       "    <tr>\n",
       "      <th>953</th>\n",
       "      <td>1.88</td>\n",
       "      <td>1.48</td>\n",
       "      <td>88.8</td>\n",
       "      <td>112.8</td>\n",
       "      <td>Firenze</td>\n",
       "      <td>Parma</td>\n",
       "    </tr>\n",
       "    <tr>\n",
       "      <th>1008</th>\n",
       "      <td>1.91</td>\n",
       "      <td>1.42</td>\n",
       "      <td>85.2</td>\n",
       "      <td>114.6</td>\n",
       "      <td>Frankfurt am Main</td>\n",
       "      <td>Dusseldorf</td>\n",
       "    </tr>\n",
       "    <tr>\n",
       "      <th>1471</th>\n",
       "      <td>1.21</td>\n",
       "      <td>0.63</td>\n",
       "      <td>37.8</td>\n",
       "      <td>72.6</td>\n",
       "      <td>Barcelona</td>\n",
       "      <td>Girona</td>\n",
       "    </tr>\n",
       "    <tr>\n",
       "      <th>1539</th>\n",
       "      <td>1.44</td>\n",
       "      <td>1.10</td>\n",
       "      <td>66.0</td>\n",
       "      <td>86.4</td>\n",
       "      <td>Birmingham</td>\n",
       "      <td>Liverpool</td>\n",
       "    </tr>\n",
       "    <tr>\n",
       "      <th>1766</th>\n",
       "      <td>0.75</td>\n",
       "      <td>0.58</td>\n",
       "      <td>34.8</td>\n",
       "      <td>45.0</td>\n",
       "      <td>Bologna</td>\n",
       "      <td>Firenze</td>\n",
       "    </tr>\n",
       "    <tr>\n",
       "      <th>1773</th>\n",
       "      <td>1.72</td>\n",
       "      <td>1.25</td>\n",
       "      <td>75.0</td>\n",
       "      <td>103.2</td>\n",
       "      <td>Liverpool</td>\n",
       "      <td>Leeds</td>\n",
       "    </tr>\n",
       "    <tr>\n",
       "      <th>1918</th>\n",
       "      <td>1.41</td>\n",
       "      <td>0.79</td>\n",
       "      <td>47.4</td>\n",
       "      <td>84.6</td>\n",
       "      <td>Vienna</td>\n",
       "      <td>Bratislava</td>\n",
       "    </tr>\n",
       "    <tr>\n",
       "      <th>1942</th>\n",
       "      <td>1.22</td>\n",
       "      <td>0.91</td>\n",
       "      <td>54.6</td>\n",
       "      <td>73.2</td>\n",
       "      <td>Hamburg</td>\n",
       "      <td>Bremen</td>\n",
       "    </tr>\n",
       "    <tr>\n",
       "      <th>2010</th>\n",
       "      <td>2.54</td>\n",
       "      <td>1.50</td>\n",
       "      <td>90.0</td>\n",
       "      <td>152.4</td>\n",
       "      <td>Valencia</td>\n",
       "      <td>Alicante</td>\n",
       "    </tr>\n",
       "    <tr>\n",
       "      <th>2014</th>\n",
       "      <td>0.86</td>\n",
       "      <td>0.50</td>\n",
       "      <td>30.0</td>\n",
       "      <td>51.6</td>\n",
       "      <td>Amsterdam</td>\n",
       "      <td>Rotterdam</td>\n",
       "    </tr>\n",
       "    <tr>\n",
       "      <th>2050</th>\n",
       "      <td>1.23</td>\n",
       "      <td>1.04</td>\n",
       "      <td>62.4</td>\n",
       "      <td>73.8</td>\n",
       "      <td>Eindhoven</td>\n",
       "      <td>Maastricht</td>\n",
       "    </tr>\n",
       "    <tr>\n",
       "      <th>2207</th>\n",
       "      <td>1.34</td>\n",
       "      <td>1.19</td>\n",
       "      <td>71.4</td>\n",
       "      <td>80.4</td>\n",
       "      <td>Amsterdam</td>\n",
       "      <td>Eindhoven</td>\n",
       "    </tr>\n",
       "    <tr>\n",
       "      <th>2208</th>\n",
       "      <td>1.35</td>\n",
       "      <td>1.17</td>\n",
       "      <td>70.2</td>\n",
       "      <td>81.0</td>\n",
       "      <td>Rotterdam</td>\n",
       "      <td>Eindhoven</td>\n",
       "    </tr>\n",
       "    <tr>\n",
       "      <th>2579</th>\n",
       "      <td>0.38</td>\n",
       "      <td>0.27</td>\n",
       "      <td>16.2</td>\n",
       "      <td>22.8</td>\n",
       "      <td>Copenhagen</td>\n",
       "      <td>Malmo</td>\n",
       "    </tr>\n",
       "    <tr>\n",
       "      <th>2784</th>\n",
       "      <td>2.52</td>\n",
       "      <td>1.43</td>\n",
       "      <td>85.8</td>\n",
       "      <td>151.2</td>\n",
       "      <td>Marseille</td>\n",
       "      <td>Montpellier</td>\n",
       "    </tr>\n",
       "    <tr>\n",
       "      <th>2792</th>\n",
       "      <td>1.67</td>\n",
       "      <td>1.24</td>\n",
       "      <td>74.4</td>\n",
       "      <td>100.2</td>\n",
       "      <td>Helsinki</td>\n",
       "      <td>Tampere</td>\n",
       "    </tr>\n",
       "    <tr>\n",
       "      <th>2794</th>\n",
       "      <td>1.69</td>\n",
       "      <td>1.29</td>\n",
       "      <td>77.4</td>\n",
       "      <td>101.4</td>\n",
       "      <td>Frankfurt am Main</td>\n",
       "      <td>Stuttgart</td>\n",
       "    </tr>\n",
       "    <tr>\n",
       "      <th>3004</th>\n",
       "      <td>2.74</td>\n",
       "      <td>1.45</td>\n",
       "      <td>87.0</td>\n",
       "      <td>164.4</td>\n",
       "      <td>Toulouse</td>\n",
       "      <td>Beziers</td>\n",
       "    </tr>\n",
       "    <tr>\n",
       "      <th>3005</th>\n",
       "      <td>1.02</td>\n",
       "      <td>0.69</td>\n",
       "      <td>41.4</td>\n",
       "      <td>61.2</td>\n",
       "      <td>Montpellier</td>\n",
       "      <td>Beziers</td>\n",
       "    </tr>\n",
       "    <tr>\n",
       "      <th>3017</th>\n",
       "      <td>0.84</td>\n",
       "      <td>0.64</td>\n",
       "      <td>38.4</td>\n",
       "      <td>50.4</td>\n",
       "      <td>Bristol</td>\n",
       "      <td>Cardiff</td>\n",
       "    </tr>\n",
       "    <tr>\n",
       "      <th>3139</th>\n",
       "      <td>2.20</td>\n",
       "      <td>1.48</td>\n",
       "      <td>88.8</td>\n",
       "      <td>132.0</td>\n",
       "      <td>Bologna</td>\n",
       "      <td>Pisa</td>\n",
       "    </tr>\n",
       "    <tr>\n",
       "      <th>3140</th>\n",
       "      <td>1.27</td>\n",
       "      <td>0.81</td>\n",
       "      <td>48.6</td>\n",
       "      <td>76.2</td>\n",
       "      <td>Firenze</td>\n",
       "      <td>Pisa</td>\n",
       "    </tr>\n",
       "    <tr>\n",
       "      <th>3171</th>\n",
       "      <td>2.00</td>\n",
       "      <td>1.41</td>\n",
       "      <td>84.6</td>\n",
       "      <td>120.0</td>\n",
       "      <td>Bologna</td>\n",
       "      <td>Venezia</td>\n",
       "    </tr>\n",
       "    <tr>\n",
       "      <th>3275</th>\n",
       "      <td>2.02</td>\n",
       "      <td>1.33</td>\n",
       "      <td>79.8</td>\n",
       "      <td>121.2</td>\n",
       "      <td>Vigo</td>\n",
       "      <td>Santiago de Compostela</td>\n",
       "    </tr>\n",
       "    <tr>\n",
       "      <th>3314</th>\n",
       "      <td>1.60</td>\n",
       "      <td>0.91</td>\n",
       "      <td>54.6</td>\n",
       "      <td>96.0</td>\n",
       "      <td>Bari</td>\n",
       "      <td>Brindisi</td>\n",
       "    </tr>\n",
       "    <tr>\n",
       "      <th>3340</th>\n",
       "      <td>0.71</td>\n",
       "      <td>0.51</td>\n",
       "      <td>30.6</td>\n",
       "      <td>42.6</td>\n",
       "      <td>Venezia</td>\n",
       "      <td>Treviso</td>\n",
       "    </tr>\n",
       "  </tbody>\n",
       "</table>\n",
       "</div>"
      ],
      "text/plain": [
       "      time_avg[h]  time_opti[h]  time_opti[min]  time_avg[min]  \\\n",
       "7            1.54          0.86            51.6           92.4   \n",
       "92           1.52          1.11            66.6           91.2   \n",
       "97           1.82          1.48            88.8          109.2   \n",
       "98           1.66          1.38            82.8           99.6   \n",
       "113          1.45          1.14            68.4           87.0   \n",
       "115          0.79          0.44            26.4           47.4   \n",
       "126          0.60          0.35            21.0           36.0   \n",
       "846          1.99          1.43            85.8          119.4   \n",
       "847          2.05          1.47            88.2          123.0   \n",
       "952          1.19          0.81            48.6           71.4   \n",
       "953          1.88          1.48            88.8          112.8   \n",
       "1008         1.91          1.42            85.2          114.6   \n",
       "1471         1.21          0.63            37.8           72.6   \n",
       "1539         1.44          1.10            66.0           86.4   \n",
       "1766         0.75          0.58            34.8           45.0   \n",
       "1773         1.72          1.25            75.0          103.2   \n",
       "1918         1.41          0.79            47.4           84.6   \n",
       "1942         1.22          0.91            54.6           73.2   \n",
       "2010         2.54          1.50            90.0          152.4   \n",
       "2014         0.86          0.50            30.0           51.6   \n",
       "2050         1.23          1.04            62.4           73.8   \n",
       "2207         1.34          1.19            71.4           80.4   \n",
       "2208         1.35          1.17            70.2           81.0   \n",
       "2579         0.38          0.27            16.2           22.8   \n",
       "2784         2.52          1.43            85.8          151.2   \n",
       "2792         1.67          1.24            74.4          100.2   \n",
       "2794         1.69          1.29            77.4          101.4   \n",
       "3004         2.74          1.45            87.0          164.4   \n",
       "3005         1.02          0.69            41.4           61.2   \n",
       "3017         0.84          0.64            38.4           50.4   \n",
       "3139         2.20          1.48            88.8          132.0   \n",
       "3140         1.27          0.81            48.6           76.2   \n",
       "3171         2.00          1.41            84.6          120.0   \n",
       "3275         2.02          1.33            79.8          121.2   \n",
       "3314         1.60          0.91            54.6           96.0   \n",
       "3340         0.71          0.51            30.6           42.6   \n",
       "\n",
       "                  city1                   city2  \n",
       "7                 Paris                   Tours  \n",
       "92               London              Birmingham  \n",
       "97               London                 Bristol  \n",
       "98           Birmingham                 Bristol  \n",
       "113              London             Southampton  \n",
       "115         Bournemouth             Southampton  \n",
       "126              London                   Luton  \n",
       "846              Madrid                Zaragoza  \n",
       "847           Barcelona                Zaragoza  \n",
       "952             Bologna                   Parma  \n",
       "953             Firenze                   Parma  \n",
       "1008  Frankfurt am Main              Dusseldorf  \n",
       "1471          Barcelona                  Girona  \n",
       "1539         Birmingham               Liverpool  \n",
       "1766            Bologna                 Firenze  \n",
       "1773          Liverpool                   Leeds  \n",
       "1918             Vienna              Bratislava  \n",
       "1942            Hamburg                  Bremen  \n",
       "2010           Valencia                Alicante  \n",
       "2014          Amsterdam               Rotterdam  \n",
       "2050          Eindhoven              Maastricht  \n",
       "2207          Amsterdam               Eindhoven  \n",
       "2208          Rotterdam               Eindhoven  \n",
       "2579         Copenhagen                   Malmo  \n",
       "2784          Marseille             Montpellier  \n",
       "2792           Helsinki                 Tampere  \n",
       "2794  Frankfurt am Main               Stuttgart  \n",
       "3004           Toulouse                 Beziers  \n",
       "3005        Montpellier                 Beziers  \n",
       "3017            Bristol                 Cardiff  \n",
       "3139            Bologna                    Pisa  \n",
       "3140            Firenze                    Pisa  \n",
       "3171            Bologna                 Venezia  \n",
       "3275               Vigo  Santiago de Compostela  \n",
       "3314               Bari                Brindisi  \n",
       "3340            Venezia                 Treviso  "
      ]
     },
     "execution_count": 89,
     "metadata": {},
     "output_type": "execute_result"
    }
   ],
   "source": [
    "# train routes for matches\n",
    "train_routes_city1 = train_routes.merge(train_cities, right_on=\"city\", left_on= \"city_1\")\n",
    "train_routes_city1.drop([\"city\", \"city_1\"], axis=1, inplace=True)\n",
    "train_routes_city1.rename(columns={\"city_new\":\"city1\"}, inplace=True)\n",
    "\n",
    "train_routes_city2 = train_routes_city1.merge(train_cities, right_on=\"city\", left_on= \"city_2\")\n",
    "train_routes_city2.drop([\"city\", \"city_2\"], axis=1, inplace=True)\n",
    "train_routes_city2.rename(columns={\"city_new\":\"city2\"}, inplace=True)\n",
    "\n",
    "train_routes_new = train_routes_city2.loc[ train_routes_city2[\"city1\"].isin(matches) & train_routes_city2[\"city2\"].isin(matches)]\n",
    "# train_routes_new.to_csv(\"../datasets/train_routes_cleaned.csv\",index=False)\n",
    "train_routes_new"
   ],
   "metadata": {
    "collapsed": false
   },
   "id": "d9ed0cadff045300",
   "execution_count": 89
  },
  {
   "cell_type": "code",
   "outputs": [
    {
     "name": "stderr",
     "output_type": "stream",
     "text": [
      "C:\\Users\\Adam\\AppData\\Local\\Temp\\ipykernel_16960\\3447592772.py:2: SettingWithCopyWarning: \n",
      "A value is trying to be set on a copy of a slice from a DataFrame.\n",
      "Try using .loc[row_indexer,col_indexer] = value instead\n",
      "\n",
      "See the caveats in the documentation: https://pandas.pydata.org/pandas-docs/stable/user_guide/indexing.html#returning-a-view-versus-a-copy\n",
      "  train_routes_new[\"route_new\"] =  train_routes_new.apply(lambda row: str( set([row[\"city1\"], row[\"city2\"]]) ), axis=1)\n",
      "C:\\Users\\Adam\\AppData\\Local\\Temp\\ipykernel_16960\\3447592772.py:3: SettingWithCopyWarning: \n",
      "A value is trying to be set on a copy of a slice from a DataFrame.\n",
      "Try using .loc[row_indexer,col_indexer] = value instead\n",
      "\n",
      "See the caveats in the documentation: https://pandas.pydata.org/pandas-docs/stable/user_guide/indexing.html#returning-a-view-versus-a-copy\n",
      "  flight_times_new[\"route_new\"] =  flight_times_new.apply(lambda row: str( set([row[\"city1\"], row[\"city2\"]]) ), axis=1)\n"
     ]
    },
    {
     "data": {
      "text/html": [
       "<div>\n",
       "<style scoped>\n",
       "    .dataframe tbody tr th:only-of-type {\n",
       "        vertical-align: middle;\n",
       "    }\n",
       "\n",
       "    .dataframe tbody tr th {\n",
       "        vertical-align: top;\n",
       "    }\n",
       "\n",
       "    .dataframe thead th {\n",
       "        text-align: right;\n",
       "    }\n",
       "</style>\n",
       "<table border=\"1\" class=\"dataframe\">\n",
       "  <thead>\n",
       "    <tr style=\"text-align: right;\">\n",
       "      <th></th>\n",
       "      <th>route</th>\n",
       "      <th>time</th>\n",
       "      <th>departure airport</th>\n",
       "      <th>arrival airport</th>\n",
       "      <th>city2</th>\n",
       "      <th>city1</th>\n",
       "      <th>route_new</th>\n",
       "    </tr>\n",
       "  </thead>\n",
       "  <tbody>\n",
       "    <tr>\n",
       "      <th>1</th>\n",
       "      <td>{'ABZ', 'AMS'}</td>\n",
       "      <td>95.0</td>\n",
       "      <td>ABZ</td>\n",
       "      <td>AMS</td>\n",
       "      <td>Amsterdam</td>\n",
       "      <td>Aberdeen</td>\n",
       "      <td>{'Amsterdam', 'Aberdeen'}</td>\n",
       "    </tr>\n",
       "    <tr>\n",
       "      <th>19</th>\n",
       "      <td>{'LTN', 'AMS'}</td>\n",
       "      <td>70.0</td>\n",
       "      <td>LTN</td>\n",
       "      <td>AMS</td>\n",
       "      <td>Amsterdam</td>\n",
       "      <td>Luton</td>\n",
       "      <td>{'Luton', 'Amsterdam'}</td>\n",
       "    </tr>\n",
       "    <tr>\n",
       "      <th>21</th>\n",
       "      <td>{'LTN', 'BCN'}</td>\n",
       "      <td>125.0</td>\n",
       "      <td>LTN</td>\n",
       "      <td>BCN</td>\n",
       "      <td>Barcelona</td>\n",
       "      <td>Luton</td>\n",
       "      <td>{'Luton', 'Barcelona'}</td>\n",
       "    </tr>\n",
       "    <tr>\n",
       "      <th>22</th>\n",
       "      <td>{'LTN', 'BFS'}</td>\n",
       "      <td>75.0</td>\n",
       "      <td>LTN</td>\n",
       "      <td>BFS</td>\n",
       "      <td>Belfast</td>\n",
       "      <td>Luton</td>\n",
       "      <td>{'Luton', 'Belfast'}</td>\n",
       "    </tr>\n",
       "    <tr>\n",
       "      <th>23</th>\n",
       "      <td>{'LTN', 'EDI'}</td>\n",
       "      <td>75.0</td>\n",
       "      <td>LTN</td>\n",
       "      <td>EDI</td>\n",
       "      <td>Edinburgh</td>\n",
       "      <td>Luton</td>\n",
       "      <td>{'Luton', 'Edinburgh'}</td>\n",
       "    </tr>\n",
       "    <tr>\n",
       "      <th>...</th>\n",
       "      <td>...</td>\n",
       "      <td>...</td>\n",
       "      <td>...</td>\n",
       "      <td>...</td>\n",
       "      <td>...</td>\n",
       "      <td>...</td>\n",
       "      <td>...</td>\n",
       "    </tr>\n",
       "    <tr>\n",
       "      <th>1403</th>\n",
       "      <td>{'MMX', 'ARN'}</td>\n",
       "      <td>70.0</td>\n",
       "      <td>MMX</td>\n",
       "      <td>ARN</td>\n",
       "      <td>Stockholm</td>\n",
       "      <td>Malmo</td>\n",
       "      <td>{'Stockholm', 'Malmo'}</td>\n",
       "    </tr>\n",
       "    <tr>\n",
       "      <th>1404</th>\n",
       "      <td>{'MMX', 'BMA'}</td>\n",
       "      <td>80.0</td>\n",
       "      <td>MMX</td>\n",
       "      <td>BMA</td>\n",
       "      <td>Stockholm</td>\n",
       "      <td>Malmo</td>\n",
       "      <td>{'Stockholm', 'Malmo'}</td>\n",
       "    </tr>\n",
       "    <tr>\n",
       "      <th>1443</th>\n",
       "      <td>{'STR', 'SKG'}</td>\n",
       "      <td>135.0</td>\n",
       "      <td>STR</td>\n",
       "      <td>SKG</td>\n",
       "      <td>Thessaloniki</td>\n",
       "      <td>Stuttgart</td>\n",
       "      <td>{'Thessaloniki', 'Stuttgart'}</td>\n",
       "    </tr>\n",
       "    <tr>\n",
       "      <th>1451</th>\n",
       "      <td>{'TUF', 'STN'}</td>\n",
       "      <td>85.0</td>\n",
       "      <td>TUF</td>\n",
       "      <td>STN</td>\n",
       "      <td>London</td>\n",
       "      <td>Tours</td>\n",
       "      <td>{'London', 'Tours'}</td>\n",
       "    </tr>\n",
       "    <tr>\n",
       "      <th>1464</th>\n",
       "      <td>{'SKG', 'STR'}</td>\n",
       "      <td>150.0</td>\n",
       "      <td>SKG</td>\n",
       "      <td>STR</td>\n",
       "      <td>Stuttgart</td>\n",
       "      <td>Thessaloniki</td>\n",
       "      <td>{'Stuttgart', 'Thessaloniki'}</td>\n",
       "    </tr>\n",
       "  </tbody>\n",
       "</table>\n",
       "<p>339 rows × 7 columns</p>\n",
       "</div>"
      ],
      "text/plain": [
       "               route   time departure airport arrival airport         city2  \\\n",
       "1     {'ABZ', 'AMS'}   95.0               ABZ             AMS     Amsterdam   \n",
       "19    {'LTN', 'AMS'}   70.0               LTN             AMS     Amsterdam   \n",
       "21    {'LTN', 'BCN'}  125.0               LTN             BCN     Barcelona   \n",
       "22    {'LTN', 'BFS'}   75.0               LTN             BFS       Belfast   \n",
       "23    {'LTN', 'EDI'}   75.0               LTN             EDI     Edinburgh   \n",
       "...              ...    ...               ...             ...           ...   \n",
       "1403  {'MMX', 'ARN'}   70.0               MMX             ARN     Stockholm   \n",
       "1404  {'MMX', 'BMA'}   80.0               MMX             BMA     Stockholm   \n",
       "1443  {'STR', 'SKG'}  135.0               STR             SKG  Thessaloniki   \n",
       "1451  {'TUF', 'STN'}   85.0               TUF             STN        London   \n",
       "1464  {'SKG', 'STR'}  150.0               SKG             STR     Stuttgart   \n",
       "\n",
       "             city1                      route_new  \n",
       "1         Aberdeen      {'Amsterdam', 'Aberdeen'}  \n",
       "19           Luton         {'Luton', 'Amsterdam'}  \n",
       "21           Luton         {'Luton', 'Barcelona'}  \n",
       "22           Luton           {'Luton', 'Belfast'}  \n",
       "23           Luton         {'Luton', 'Edinburgh'}  \n",
       "...            ...                            ...  \n",
       "1403         Malmo         {'Stockholm', 'Malmo'}  \n",
       "1404         Malmo         {'Stockholm', 'Malmo'}  \n",
       "1443     Stuttgart  {'Thessaloniki', 'Stuttgart'}  \n",
       "1451         Tours            {'London', 'Tours'}  \n",
       "1464  Thessaloniki  {'Stuttgart', 'Thessaloniki'}  \n",
       "\n",
       "[339 rows x 7 columns]"
      ]
     },
     "execution_count": 92,
     "metadata": {},
     "output_type": "execute_result"
    }
   ],
   "source": [
    "# math routes\n",
    "train_routes_new[\"route_new\"] =  train_routes_new.apply(lambda row: str( set([row[\"city1\"], row[\"city2\"]]) ), axis=1)\n",
    "flight_times_new[\"route_new\"] =  flight_times_new.apply(lambda row: str( set([row[\"city1\"], row[\"city2\"]]) ), axis=1)\n",
    "flight_times_new"
   ],
   "metadata": {
    "collapsed": false
   },
   "id": "44af9951e425c4d9",
   "execution_count": 92
  },
  {
   "cell_type": "code",
   "outputs": [
    {
     "data": {
      "text/html": [
       "<div>\n",
       "<style scoped>\n",
       "    .dataframe tbody tr th:only-of-type {\n",
       "        vertical-align: middle;\n",
       "    }\n",
       "\n",
       "    .dataframe tbody tr th {\n",
       "        vertical-align: top;\n",
       "    }\n",
       "\n",
       "    .dataframe thead th {\n",
       "        text-align: right;\n",
       "    }\n",
       "</style>\n",
       "<table border=\"1\" class=\"dataframe\">\n",
       "  <thead>\n",
       "    <tr style=\"text-align: right;\">\n",
       "      <th></th>\n",
       "      <th>route</th>\n",
       "      <th>time</th>\n",
       "      <th>departure airport</th>\n",
       "      <th>arrival airport</th>\n",
       "      <th>city2_x</th>\n",
       "      <th>city1_x</th>\n",
       "      <th>route_new</th>\n",
       "      <th>time_avg[h]</th>\n",
       "      <th>time_opti[h]</th>\n",
       "      <th>time_opti[min]</th>\n",
       "      <th>time_avg[min]</th>\n",
       "      <th>city1_y</th>\n",
       "      <th>city2_y</th>\n",
       "    </tr>\n",
       "  </thead>\n",
       "  <tbody>\n",
       "    <tr>\n",
       "      <th>0</th>\n",
       "      <td>{'DUS', 'FRA'}</td>\n",
       "      <td>50.0</td>\n",
       "      <td>DUS</td>\n",
       "      <td>FRA</td>\n",
       "      <td>Frankfurt am Main</td>\n",
       "      <td>Dusseldorf</td>\n",
       "      <td>{'Frankfurt am Main', 'Dusseldorf'}</td>\n",
       "      <td>1.91</td>\n",
       "      <td>1.42</td>\n",
       "      <td>85.2</td>\n",
       "      <td>114.6</td>\n",
       "      <td>Frankfurt am Main</td>\n",
       "      <td>Dusseldorf</td>\n",
       "    </tr>\n",
       "    <tr>\n",
       "      <th>1</th>\n",
       "      <td>{'FRA', 'DUS'}</td>\n",
       "      <td>50.0</td>\n",
       "      <td>FRA</td>\n",
       "      <td>DUS</td>\n",
       "      <td>Dusseldorf</td>\n",
       "      <td>Frankfurt am Main</td>\n",
       "      <td>{'Frankfurt am Main', 'Dusseldorf'}</td>\n",
       "      <td>1.91</td>\n",
       "      <td>1.42</td>\n",
       "      <td>85.2</td>\n",
       "      <td>114.6</td>\n",
       "      <td>Frankfurt am Main</td>\n",
       "      <td>Dusseldorf</td>\n",
       "    </tr>\n",
       "    <tr>\n",
       "      <th>2</th>\n",
       "      <td>{'FRA', 'STR'}</td>\n",
       "      <td>50.0</td>\n",
       "      <td>FRA</td>\n",
       "      <td>STR</td>\n",
       "      <td>Stuttgart</td>\n",
       "      <td>Frankfurt am Main</td>\n",
       "      <td>{'Stuttgart', 'Frankfurt am Main'}</td>\n",
       "      <td>1.69</td>\n",
       "      <td>1.29</td>\n",
       "      <td>77.4</td>\n",
       "      <td>101.4</td>\n",
       "      <td>Frankfurt am Main</td>\n",
       "      <td>Stuttgart</td>\n",
       "    </tr>\n",
       "  </tbody>\n",
       "</table>\n",
       "</div>"
      ],
      "text/plain": [
       "            route  time departure airport arrival airport            city2_x  \\\n",
       "0  {'DUS', 'FRA'}  50.0               DUS             FRA  Frankfurt am Main   \n",
       "1  {'FRA', 'DUS'}  50.0               FRA             DUS         Dusseldorf   \n",
       "2  {'FRA', 'STR'}  50.0               FRA             STR          Stuttgart   \n",
       "\n",
       "             city1_x                            route_new  time_avg[h]  \\\n",
       "0         Dusseldorf  {'Frankfurt am Main', 'Dusseldorf'}         1.91   \n",
       "1  Frankfurt am Main  {'Frankfurt am Main', 'Dusseldorf'}         1.91   \n",
       "2  Frankfurt am Main   {'Stuttgart', 'Frankfurt am Main'}         1.69   \n",
       "\n",
       "   time_opti[h]  time_opti[min]  time_avg[min]            city1_y     city2_y  \n",
       "0          1.42            85.2          114.6  Frankfurt am Main  Dusseldorf  \n",
       "1          1.42            85.2          114.6  Frankfurt am Main  Dusseldorf  \n",
       "2          1.29            77.4          101.4  Frankfurt am Main   Stuttgart  "
      ]
     },
     "execution_count": 93,
     "metadata": {},
     "output_type": "execute_result"
    }
   ],
   "source": [
    "flight_times_new.merge(train_routes_new, on=\"route_new\")"
   ],
   "metadata": {
    "collapsed": false
   },
   "id": "5c87a32c5468c76a",
   "execution_count": 93
  },
  {
   "cell_type": "markdown",
   "source": [
    "These solutions are unsuccesful at obtaining more connections that are common to railway and flights, so we need to try something else."
   ],
   "metadata": {
    "collapsed": false
   },
   "id": "cde3783b5e899ef"
  },
  {
   "cell_type": "markdown",
   "id": "378783ef870fa2da",
   "metadata": {
    "collapsed": false
   },
   "source": [
    "## Trying geolocation\n",
    "Since our previous methods for matching airports to cities have been insufficient, we try to match them using geolocation data."
   ]
  },
  {
   "cell_type": "markdown",
   "id": "64200446344c7f52",
   "metadata": {
    "collapsed": false
   },
   "source": [
    "### Testing Basemap"
   ]
  },
  {
   "cell_type": "code",
   "execution_count": 43,
   "id": "cd52415ff290d2ee",
   "metadata": {
    "collapsed": false,
    "ExecuteTime": {
     "end_time": "2024-01-22T19:45:42.606684Z",
     "start_time": "2024-01-22T19:45:42.525710Z"
    }
   },
   "outputs": [],
   "source": [
    "#!pip install basemap"
   ]
  },
  {
   "cell_type": "code",
   "execution_count": 44,
   "id": "1fdd3571a7a3e898",
   "metadata": {
    "collapsed": false,
    "ExecuteTime": {
     "end_time": "2024-01-22T19:45:42.726370Z",
     "start_time": "2024-01-22T19:45:42.608686Z"
    }
   },
   "outputs": [
    {
     "ename": "ModuleNotFoundError",
     "evalue": "No module named 'mpl_toolkits'",
     "output_type": "error",
     "traceback": [
      "\u001B[0;31m---------------------------------------------------------------------------\u001B[0m",
      "\u001B[0;31mModuleNotFoundError\u001B[0m                       Traceback (most recent call last)",
      "Cell \u001B[0;32mIn[44], line 1\u001B[0m\n\u001B[0;32m----> 1\u001B[0m \u001B[38;5;28;01mfrom\u001B[39;00m \u001B[38;5;21;01mmpl_toolkits\u001B[39;00m\u001B[38;5;21;01m.\u001B[39;00m\u001B[38;5;21;01mbasemap\u001B[39;00m \u001B[38;5;28;01mimport\u001B[39;00m Basemap\n\u001B[1;32m      2\u001B[0m \u001B[38;5;28;01mimport\u001B[39;00m \u001B[38;5;21;01mmatplotlib\u001B[39;00m\u001B[38;5;21;01m.\u001B[39;00m\u001B[38;5;21;01mpyplot\u001B[39;00m \u001B[38;5;28;01mas\u001B[39;00m \u001B[38;5;21;01mplt\u001B[39;00m\n",
      "\u001B[0;31mModuleNotFoundError\u001B[0m: No module named 'mpl_toolkits'"
     ]
    }
   ],
   "source": [
    "from mpl_toolkits.basemap import Basemap\n",
    "import matplotlib.pyplot as plt"
   ]
  },
  {
   "cell_type": "code",
   "execution_count": 45,
   "id": "a4bc8f15c92c6b59",
   "metadata": {
    "collapsed": false,
    "ExecuteTime": {
     "start_time": "2024-01-22T19:45:42.714887Z"
    }
   },
   "outputs": [
    {
     "ename": "NameError",
     "evalue": "name 'Basemap' is not defined",
     "output_type": "error",
     "traceback": [
      "\u001B[0;31m---------------------------------------------------------------------------\u001B[0m",
      "\u001B[0;31mNameError\u001B[0m                                 Traceback (most recent call last)",
      "Cell \u001B[0;32mIn[45], line 2\u001B[0m\n\u001B[1;32m      1\u001B[0m \u001B[38;5;66;03m# Create a Basemap instance for a map of Europe\u001B[39;00m\n\u001B[0;32m----> 2\u001B[0m \u001B[38;5;28mmap\u001B[39m \u001B[38;5;241m=\u001B[39m \u001B[43mBasemap\u001B[49m(projection\u001B[38;5;241m=\u001B[39m\u001B[38;5;124m'\u001B[39m\u001B[38;5;124mmerc\u001B[39m\u001B[38;5;124m'\u001B[39m,\n\u001B[1;32m      3\u001B[0m \t\t\t  llcrnrlat\u001B[38;5;241m=\u001B[39m\u001B[38;5;241m35\u001B[39m, urcrnrlat\u001B[38;5;241m=\u001B[39m\u001B[38;5;241m70\u001B[39m, \u001B[38;5;66;03m# Latitude limits (lower left, upper right)\u001B[39;00m\n\u001B[1;32m      4\u001B[0m \t\t\t  llcrnrlon\u001B[38;5;241m=\u001B[39m\u001B[38;5;241m-\u001B[39m\u001B[38;5;241m25\u001B[39m, urcrnrlon\u001B[38;5;241m=\u001B[39m\u001B[38;5;241m45\u001B[39m, \u001B[38;5;66;03m# Longitude limits\u001B[39;00m\n\u001B[1;32m      5\u001B[0m \t\t\t  resolution\u001B[38;5;241m=\u001B[39m\u001B[38;5;124m'\u001B[39m\u001B[38;5;124mi\u001B[39m\u001B[38;5;124m'\u001B[39m)\n\u001B[1;32m      7\u001B[0m \u001B[38;5;66;03m# Draw coastlines and countries\u001B[39;00m\n\u001B[1;32m      8\u001B[0m \u001B[38;5;28mmap\u001B[39m\u001B[38;5;241m.\u001B[39mdrawcoastlines() \u001B[38;5;66;03m# coastlines take up too much space\u001B[39;00m\n",
      "\u001B[0;31mNameError\u001B[0m: name 'Basemap' is not defined"
     ]
    }
   ],
   "source": [
    "# Create a Basemap instance for a map of Europe\n",
    "map = Basemap(projection='merc',\n",
    "\t\t\t  llcrnrlat=35, urcrnrlat=70, # Latitude limits (lower left, upper right)\n",
    "\t\t\t  llcrnrlon=-25, urcrnrlon=45, # Longitude limits\n",
    "\t\t\t  resolution='i')\n",
    "\n",
    "# Draw coastlines and countries\n",
    "map.drawcoastlines() # coastlines take up too much space\n",
    "map.drawcountries()\n",
    "\n",
    "# Define coordinates of Paris, Berlin, and London\n",
    "cities = {\n",
    "\t\"Paris\": (48.8566, 2.3522),\n",
    "\t\"Berlin\": (52.5200, 13.4050),\n",
    "\t\"London\": (51.5074, -0.1278)\n",
    "}\n",
    "\n",
    "# Plot each city\n",
    "for city, (lat, lon) in cities.items():\n",
    "\tx, y = map(lon, lat)\n",
    "\tmap.plot(x, y, marker='o', color='Red', markersize=5)\n",
    "\tplt.text(x, y, city)\n",
    "\n",
    "# Show the plot\n",
    "plt.show()"
   ]
  },
  {
   "cell_type": "markdown",
   "id": "7d0f0ba0a115c962",
   "metadata": {
    "collapsed": false
   },
   "source": [
    "### Airports"
   ]
  },
  {
   "cell_type": "code",
   "execution_count": 59,
   "id": "48f6f49b79f331f4",
   "metadata": {
    "collapsed": false,
    "ExecuteTime": {
     "end_time": "2024-01-22T19:52:44.822507Z",
     "start_time": "2024-01-22T19:52:44.805491Z"
    }
   },
   "outputs": [
    {
     "name": "stdout",
     "output_type": "stream",
     "text": [
      "Number of airports we are working with: 313\n"
     ]
    }
   ],
   "source": [
    "air_codes_set = set(flights[\"departure airport\"]) | set(flights[\"arrival airport\"])\n",
    "print(f'Number of airports we are working with: {len(air_codes_set)}')"
   ]
  },
  {
   "cell_type": "code",
   "execution_count": 68,
   "id": "c9c02d598bb94959",
   "metadata": {
    "collapsed": false,
    "ExecuteTime": {
     "end_time": "2024-01-22T19:56:19.153079Z",
     "start_time": "2024-01-22T19:56:19.121438Z"
    }
   },
   "outputs": [
    {
     "name": "stderr",
     "output_type": "stream",
     "text": [
      "/var/folders/x2/jj0kgq010j128mdwvs89btf00000gp/T/ipykernel_40187/2056757824.py:2: SettingWithCopyWarning: \n",
      "A value is trying to be set on a copy of a slice from a DataFrame\n",
      "\n",
      "See the caveats in the documentation: https://pandas.pydata.org/pandas-docs/stable/user_guide/indexing.html#returning-a-view-versus-a-copy\n",
      "  our_airports.rename(columns={'latitude_deg': 'latitude', 'longitude_deg': 'longitude'}, inplace=True)\n"
     ]
    },
    {
     "data": {
      "text/plain": "          id ident            type  \\\n13969   4614  BKPR  medium_airport   \n22121   2155  EBBR   large_airport   \n22129   2157  EBCI  medium_airport   \n22177   2162  EBLG  medium_airport   \n22398   2210  EDDC  medium_airport   \n...      ...   ...             ...   \n72929  26408  UWOO  medium_airport   \n72930  26409  UWOR  medium_airport   \n72932  32155  UWPP  medium_airport   \n72944  26411  UWUU   large_airport   \n72951  26412  UWWW   large_airport   \n\n                                              name   latitude  longitude  \\\n13969  Priština Adem Jashari International Airport  42.572800  21.035801   \n22121                             Brussels Airport  50.901402   4.484440   \n22129             Brussels South Charleroi Airport  50.460982   4.457158   \n22177                                Liège Airport  50.638574   5.443897   \n22398                              Dresden Airport  51.134123  13.767831   \n...                                            ...        ...        ...   \n72929                     Orenburg Central Airport  51.795799  55.456699   \n72930                                 Orsk Airport  51.072498  58.595600   \n72932                                Penza Airport  53.110600  45.021099   \n72944                    Ufa International Airport  54.557499  55.874401   \n72951               Kurumoch International Airport  53.504902  50.164299   \n\n       elevation_ft continent iso_country iso_region    municipality  \\\n13969        1789.0        EU          XK      XK-01       Prishtina   \n22121         175.0        EU          BE     BE-BRU        Zaventem   \n22129         614.0        EU          BE     BE-WHT       Charleroi   \n22177         659.0        EU          BE     BE-WLG  Grâce-Hollogne   \n22398         755.0        EU          DE      DE-SN         Dresden   \n...             ...       ...         ...        ...             ...   \n72929         387.0        EU          RU     RU-ORE        Orenburg   \n72930         909.0        AS          RU     RU-ORE            Orsk   \n72932         614.0        EU          RU     RU-PNZ           Penza   \n72944         449.0        EU          RU      RU-BA             Ufa   \n72951         477.0        EU          RU     RU-SAM          Samara   \n\n      scheduled_service gps_code iata_code local_code  \\\n13969               yes     BKPR       PRN        NaN   \n22121               yes     EBBR       BRU        NaN   \n22129               yes     EBCI       CRL        NaN   \n22177               yes     EBLG       LGG        NaN   \n22398               yes     EDDC       DRS        NaN   \n...                 ...      ...       ...        ...   \n72929               yes     UWOO       REN        NaN   \n72930               yes     UWOR       OSW        NaN   \n72932               yes     UWPP       PEZ        NaN   \n72944               yes     UWUU       UFA        NaN   \n72951               yes     UWWW       KUF        NaN   \n\n                                               home_link  \\\n13969                    http://www.airportpristina.com/   \n22121                  http://www.brusselsairport.be/en/   \n22129  http://www.charleroi-airport.com/doc.php?nd=o2...   \n22177                        http://www.liegeairport.be/   \n22398        http://www.dresden-airport.de/en/index.html   \n...                                                  ...   \n72929                    http://www.airoport.orenair.ru/   \n72930                                                NaN   \n72932                                                NaN   \n72944                       http://www.airportufa.ru/en/   \n72951                       http://airport.samara.ru/en/   \n\n                                          wikipedia_link  \\\n13969  https://en.wikipedia.org/wiki/Pristina_Interna...   \n22121     https://en.wikipedia.org/wiki/Brussels_Airport   \n22129  https://en.wikipedia.org/wiki/Brussels_South_C...   \n22177   https://en.wikipedia.org/wiki/Li%C3%A8ge_Airport   \n22398      https://en.wikipedia.org/wiki/Dresden_Airport   \n...                                                  ...   \n72929  https://en.wikipedia.org/wiki/Orenburg_Tsentra...   \n72930         https://en.wikipedia.org/wiki/Orsk_Airport   \n72932        https://en.wikipedia.org/wiki/Penza_Airport   \n72944  https://en.wikipedia.org/wiki/Ufa_Internationa...   \n72951  https://en.wikipedia.org/wiki/Kurumoch_Interna...   \n\n                                                keywords  \n13969                   LYPR, Pristina, Slatina Air Base  \n22121                  Brussels National, Zaventem, EBMB  \n22129                                  Gosselies Airport  \n22177                                            Bierset  \n22398                                                NaN  \n...                                                  ...  \n72929  Orenburg Tsentralny Airport, Аэропорт Центральный  \n72930                                                NaN  \n72932                                        Penza South  \n72944                         Международный аэропорт Уфа  \n72951                                                NaN  \n\n[313 rows x 18 columns]",
      "text/html": "<div>\n<style scoped>\n    .dataframe tbody tr th:only-of-type {\n        vertical-align: middle;\n    }\n\n    .dataframe tbody tr th {\n        vertical-align: top;\n    }\n\n    .dataframe thead th {\n        text-align: right;\n    }\n</style>\n<table border=\"1\" class=\"dataframe\">\n  <thead>\n    <tr style=\"text-align: right;\">\n      <th></th>\n      <th>id</th>\n      <th>ident</th>\n      <th>type</th>\n      <th>name</th>\n      <th>latitude</th>\n      <th>longitude</th>\n      <th>elevation_ft</th>\n      <th>continent</th>\n      <th>iso_country</th>\n      <th>iso_region</th>\n      <th>municipality</th>\n      <th>scheduled_service</th>\n      <th>gps_code</th>\n      <th>iata_code</th>\n      <th>local_code</th>\n      <th>home_link</th>\n      <th>wikipedia_link</th>\n      <th>keywords</th>\n    </tr>\n  </thead>\n  <tbody>\n    <tr>\n      <th>13969</th>\n      <td>4614</td>\n      <td>BKPR</td>\n      <td>medium_airport</td>\n      <td>Priština Adem Jashari International Airport</td>\n      <td>42.572800</td>\n      <td>21.035801</td>\n      <td>1789.0</td>\n      <td>EU</td>\n      <td>XK</td>\n      <td>XK-01</td>\n      <td>Prishtina</td>\n      <td>yes</td>\n      <td>BKPR</td>\n      <td>PRN</td>\n      <td>NaN</td>\n      <td>http://www.airportpristina.com/</td>\n      <td>https://en.wikipedia.org/wiki/Pristina_Interna...</td>\n      <td>LYPR, Pristina, Slatina Air Base</td>\n    </tr>\n    <tr>\n      <th>22121</th>\n      <td>2155</td>\n      <td>EBBR</td>\n      <td>large_airport</td>\n      <td>Brussels Airport</td>\n      <td>50.901402</td>\n      <td>4.484440</td>\n      <td>175.0</td>\n      <td>EU</td>\n      <td>BE</td>\n      <td>BE-BRU</td>\n      <td>Zaventem</td>\n      <td>yes</td>\n      <td>EBBR</td>\n      <td>BRU</td>\n      <td>NaN</td>\n      <td>http://www.brusselsairport.be/en/</td>\n      <td>https://en.wikipedia.org/wiki/Brussels_Airport</td>\n      <td>Brussels National, Zaventem, EBMB</td>\n    </tr>\n    <tr>\n      <th>22129</th>\n      <td>2157</td>\n      <td>EBCI</td>\n      <td>medium_airport</td>\n      <td>Brussels South Charleroi Airport</td>\n      <td>50.460982</td>\n      <td>4.457158</td>\n      <td>614.0</td>\n      <td>EU</td>\n      <td>BE</td>\n      <td>BE-WHT</td>\n      <td>Charleroi</td>\n      <td>yes</td>\n      <td>EBCI</td>\n      <td>CRL</td>\n      <td>NaN</td>\n      <td>http://www.charleroi-airport.com/doc.php?nd=o2...</td>\n      <td>https://en.wikipedia.org/wiki/Brussels_South_C...</td>\n      <td>Gosselies Airport</td>\n    </tr>\n    <tr>\n      <th>22177</th>\n      <td>2162</td>\n      <td>EBLG</td>\n      <td>medium_airport</td>\n      <td>Liège Airport</td>\n      <td>50.638574</td>\n      <td>5.443897</td>\n      <td>659.0</td>\n      <td>EU</td>\n      <td>BE</td>\n      <td>BE-WLG</td>\n      <td>Grâce-Hollogne</td>\n      <td>yes</td>\n      <td>EBLG</td>\n      <td>LGG</td>\n      <td>NaN</td>\n      <td>http://www.liegeairport.be/</td>\n      <td>https://en.wikipedia.org/wiki/Li%C3%A8ge_Airport</td>\n      <td>Bierset</td>\n    </tr>\n    <tr>\n      <th>22398</th>\n      <td>2210</td>\n      <td>EDDC</td>\n      <td>medium_airport</td>\n      <td>Dresden Airport</td>\n      <td>51.134123</td>\n      <td>13.767831</td>\n      <td>755.0</td>\n      <td>EU</td>\n      <td>DE</td>\n      <td>DE-SN</td>\n      <td>Dresden</td>\n      <td>yes</td>\n      <td>EDDC</td>\n      <td>DRS</td>\n      <td>NaN</td>\n      <td>http://www.dresden-airport.de/en/index.html</td>\n      <td>https://en.wikipedia.org/wiki/Dresden_Airport</td>\n      <td>NaN</td>\n    </tr>\n    <tr>\n      <th>...</th>\n      <td>...</td>\n      <td>...</td>\n      <td>...</td>\n      <td>...</td>\n      <td>...</td>\n      <td>...</td>\n      <td>...</td>\n      <td>...</td>\n      <td>...</td>\n      <td>...</td>\n      <td>...</td>\n      <td>...</td>\n      <td>...</td>\n      <td>...</td>\n      <td>...</td>\n      <td>...</td>\n      <td>...</td>\n      <td>...</td>\n    </tr>\n    <tr>\n      <th>72929</th>\n      <td>26408</td>\n      <td>UWOO</td>\n      <td>medium_airport</td>\n      <td>Orenburg Central Airport</td>\n      <td>51.795799</td>\n      <td>55.456699</td>\n      <td>387.0</td>\n      <td>EU</td>\n      <td>RU</td>\n      <td>RU-ORE</td>\n      <td>Orenburg</td>\n      <td>yes</td>\n      <td>UWOO</td>\n      <td>REN</td>\n      <td>NaN</td>\n      <td>http://www.airoport.orenair.ru/</td>\n      <td>https://en.wikipedia.org/wiki/Orenburg_Tsentra...</td>\n      <td>Orenburg Tsentralny Airport, Аэропорт Центральный</td>\n    </tr>\n    <tr>\n      <th>72930</th>\n      <td>26409</td>\n      <td>UWOR</td>\n      <td>medium_airport</td>\n      <td>Orsk Airport</td>\n      <td>51.072498</td>\n      <td>58.595600</td>\n      <td>909.0</td>\n      <td>AS</td>\n      <td>RU</td>\n      <td>RU-ORE</td>\n      <td>Orsk</td>\n      <td>yes</td>\n      <td>UWOR</td>\n      <td>OSW</td>\n      <td>NaN</td>\n      <td>NaN</td>\n      <td>https://en.wikipedia.org/wiki/Orsk_Airport</td>\n      <td>NaN</td>\n    </tr>\n    <tr>\n      <th>72932</th>\n      <td>32155</td>\n      <td>UWPP</td>\n      <td>medium_airport</td>\n      <td>Penza Airport</td>\n      <td>53.110600</td>\n      <td>45.021099</td>\n      <td>614.0</td>\n      <td>EU</td>\n      <td>RU</td>\n      <td>RU-PNZ</td>\n      <td>Penza</td>\n      <td>yes</td>\n      <td>UWPP</td>\n      <td>PEZ</td>\n      <td>NaN</td>\n      <td>NaN</td>\n      <td>https://en.wikipedia.org/wiki/Penza_Airport</td>\n      <td>Penza South</td>\n    </tr>\n    <tr>\n      <th>72944</th>\n      <td>26411</td>\n      <td>UWUU</td>\n      <td>large_airport</td>\n      <td>Ufa International Airport</td>\n      <td>54.557499</td>\n      <td>55.874401</td>\n      <td>449.0</td>\n      <td>EU</td>\n      <td>RU</td>\n      <td>RU-BA</td>\n      <td>Ufa</td>\n      <td>yes</td>\n      <td>UWUU</td>\n      <td>UFA</td>\n      <td>NaN</td>\n      <td>http://www.airportufa.ru/en/</td>\n      <td>https://en.wikipedia.org/wiki/Ufa_Internationa...</td>\n      <td>Международный аэропорт Уфа</td>\n    </tr>\n    <tr>\n      <th>72951</th>\n      <td>26412</td>\n      <td>UWWW</td>\n      <td>large_airport</td>\n      <td>Kurumoch International Airport</td>\n      <td>53.504902</td>\n      <td>50.164299</td>\n      <td>477.0</td>\n      <td>EU</td>\n      <td>RU</td>\n      <td>RU-SAM</td>\n      <td>Samara</td>\n      <td>yes</td>\n      <td>UWWW</td>\n      <td>KUF</td>\n      <td>NaN</td>\n      <td>http://airport.samara.ru/en/</td>\n      <td>https://en.wikipedia.org/wiki/Kurumoch_Interna...</td>\n      <td>NaN</td>\n    </tr>\n  </tbody>\n</table>\n<p>313 rows × 18 columns</p>\n</div>"
     },
     "execution_count": 68,
     "metadata": {},
     "output_type": "execute_result"
    }
   ],
   "source": [
    "our_airports = airports[airports['iata_code'].isin(air_codes_set)] # TODO: make sure airport_cities_set has original municipality names\n",
    "our_airports.rename(columns={'latitude_deg': 'latitude', 'longitude_deg': 'longitude'}, inplace=True)\n",
    "our_airports"
   ]
  },
  {
   "cell_type": "code",
   "execution_count": 61,
   "id": "da10efbc59e685c5",
   "metadata": {
    "collapsed": false,
    "ExecuteTime": {
     "end_time": "2024-01-22T19:52:46.051242Z",
     "start_time": "2024-01-22T19:52:46.023163Z"
    }
   },
   "outputs": [
    {
     "ename": "NameError",
     "evalue": "name 'Basemap' is not defined",
     "output_type": "error",
     "traceback": [
      "\u001B[0;31m---------------------------------------------------------------------------\u001B[0m",
      "\u001B[0;31mNameError\u001B[0m                                 Traceback (most recent call last)",
      "Cell \u001B[0;32mIn[61], line 2\u001B[0m\n\u001B[1;32m      1\u001B[0m \u001B[38;5;66;03m# Create a Basemap instance for a map of Europe\u001B[39;00m\n\u001B[0;32m----> 2\u001B[0m \u001B[38;5;28mmap\u001B[39m \u001B[38;5;241m=\u001B[39m \u001B[43mBasemap\u001B[49m(projection\u001B[38;5;241m=\u001B[39m\u001B[38;5;124m'\u001B[39m\u001B[38;5;124mmerc\u001B[39m\u001B[38;5;124m'\u001B[39m,\n\u001B[1;32m      3\u001B[0m \t\t\t  llcrnrlat\u001B[38;5;241m=\u001B[39m\u001B[38;5;241m35\u001B[39m, urcrnrlat\u001B[38;5;241m=\u001B[39m\u001B[38;5;241m70\u001B[39m,  \u001B[38;5;66;03m# Latitude limits (lower left, upper right)\u001B[39;00m\n\u001B[1;32m      4\u001B[0m \t\t\t  llcrnrlon\u001B[38;5;241m=\u001B[39m\u001B[38;5;241m-\u001B[39m\u001B[38;5;241m25\u001B[39m, urcrnrlon\u001B[38;5;241m=\u001B[39m\u001B[38;5;241m45\u001B[39m,  \u001B[38;5;66;03m# Longitude limits\u001B[39;00m\n\u001B[1;32m      5\u001B[0m \t\t\t  resolution\u001B[38;5;241m=\u001B[39m\u001B[38;5;124m'\u001B[39m\u001B[38;5;124mi\u001B[39m\u001B[38;5;124m'\u001B[39m)\n\u001B[1;32m      7\u001B[0m \u001B[38;5;66;03m# Draw coastlines and countries\u001B[39;00m\n\u001B[1;32m      8\u001B[0m \u001B[38;5;28mmap\u001B[39m\u001B[38;5;241m.\u001B[39mdrawcoastlines() \u001B[38;5;66;03m# coastlines take up too much space\u001B[39;00m\n",
      "\u001B[0;31mNameError\u001B[0m: name 'Basemap' is not defined"
     ]
    }
   ],
   "source": [
    "# Create a Basemap instance for a map of Europe\n",
    "map = Basemap(projection='merc',\n",
    "\t\t\t  llcrnrlat=35, urcrnrlat=70,  # Latitude limits (lower left, upper right)\n",
    "\t\t\t  llcrnrlon=-25, urcrnrlon=45,  # Longitude limits\n",
    "\t\t\t  resolution='i')\n",
    "\n",
    "# Draw coastlines and countries\n",
    "map.drawcoastlines() # coastlines take up too much space\n",
    "map.drawcountries()\n",
    "\n",
    "# Plot each city\n",
    "for index, row in our_airports.iterrows():\n",
    "\tx, y = map(row['longitude_deg'], row['latitude_deg'])\n",
    "\tmap.plot(x, y, marker='o', color='Red', markersize=5)\n",
    "\t# plt.text(x, y, row['municipality']) # text would take up too much space\n",
    "\n",
    "# Show the plot\n",
    "plt.show()"
   ]
  },
  {
   "cell_type": "markdown",
   "id": "1b235e1209c9305d",
   "metadata": {
    "collapsed": false
   },
   "source": [
    "### Cities"
   ]
  },
  {
   "cell_type": "code",
   "outputs": [
    {
     "data": {
      "text/plain": "            city      lat      lng  country iso2 admin_name  capital  \\\n0         Tirana  41.3289  19.8178  Albania   AL     Tiranë  primary   \n1          Vlorë  40.4667  19.4833  Albania   AL      Vlorë    admin   \n2          Kamëz  41.3833  19.7667  Albania   AL     Tiranë      NaN   \n3           Fier  40.7250  19.5572  Albania   AL       Fier    admin   \n4         Durrës  41.3111  19.4392  Albania   AL     Durrës    admin   \n...          ...      ...      ...      ...  ...        ...      ...   \n7923  Lommedalen  59.9500  10.4667   Norway   NO      Viken      NaN   \n7924       Barbu  58.4664   8.7781   Norway   NO      Agder      NaN   \n7925      Tiller  63.3550  10.3790   Norway   NO  Trøndelag      NaN   \n7926     Kolbotn  59.8112  10.8000   Norway   NO      Viken    minor   \n7927  Lillestrøm  59.9500  11.0833   Norway   NO      Viken    minor   \n\n      population  population_proper  \n0       418495.0           418495.0  \n1       130827.0           130827.0  \n2       126777.0           126777.0  \n3       120655.0           120655.0  \n4       113249.0           113249.0  \n...          ...                ...  \n7923     11200.0            11200.0  \n7924      6787.0             6787.0  \n7925      3595.0             3595.0  \n7926         NaN                NaN  \n7927         NaN                NaN  \n\n[7928 rows x 9 columns]",
      "text/html": "<div>\n<style scoped>\n    .dataframe tbody tr th:only-of-type {\n        vertical-align: middle;\n    }\n\n    .dataframe tbody tr th {\n        vertical-align: top;\n    }\n\n    .dataframe thead th {\n        text-align: right;\n    }\n</style>\n<table border=\"1\" class=\"dataframe\">\n  <thead>\n    <tr style=\"text-align: right;\">\n      <th></th>\n      <th>city</th>\n      <th>lat</th>\n      <th>lng</th>\n      <th>country</th>\n      <th>iso2</th>\n      <th>admin_name</th>\n      <th>capital</th>\n      <th>population</th>\n      <th>population_proper</th>\n    </tr>\n  </thead>\n  <tbody>\n    <tr>\n      <th>0</th>\n      <td>Tirana</td>\n      <td>41.3289</td>\n      <td>19.8178</td>\n      <td>Albania</td>\n      <td>AL</td>\n      <td>Tiranë</td>\n      <td>primary</td>\n      <td>418495.0</td>\n      <td>418495.0</td>\n    </tr>\n    <tr>\n      <th>1</th>\n      <td>Vlorë</td>\n      <td>40.4667</td>\n      <td>19.4833</td>\n      <td>Albania</td>\n      <td>AL</td>\n      <td>Vlorë</td>\n      <td>admin</td>\n      <td>130827.0</td>\n      <td>130827.0</td>\n    </tr>\n    <tr>\n      <th>2</th>\n      <td>Kamëz</td>\n      <td>41.3833</td>\n      <td>19.7667</td>\n      <td>Albania</td>\n      <td>AL</td>\n      <td>Tiranë</td>\n      <td>NaN</td>\n      <td>126777.0</td>\n      <td>126777.0</td>\n    </tr>\n    <tr>\n      <th>3</th>\n      <td>Fier</td>\n      <td>40.7250</td>\n      <td>19.5572</td>\n      <td>Albania</td>\n      <td>AL</td>\n      <td>Fier</td>\n      <td>admin</td>\n      <td>120655.0</td>\n      <td>120655.0</td>\n    </tr>\n    <tr>\n      <th>4</th>\n      <td>Durrës</td>\n      <td>41.3111</td>\n      <td>19.4392</td>\n      <td>Albania</td>\n      <td>AL</td>\n      <td>Durrës</td>\n      <td>admin</td>\n      <td>113249.0</td>\n      <td>113249.0</td>\n    </tr>\n    <tr>\n      <th>...</th>\n      <td>...</td>\n      <td>...</td>\n      <td>...</td>\n      <td>...</td>\n      <td>...</td>\n      <td>...</td>\n      <td>...</td>\n      <td>...</td>\n      <td>...</td>\n    </tr>\n    <tr>\n      <th>7923</th>\n      <td>Lommedalen</td>\n      <td>59.9500</td>\n      <td>10.4667</td>\n      <td>Norway</td>\n      <td>NO</td>\n      <td>Viken</td>\n      <td>NaN</td>\n      <td>11200.0</td>\n      <td>11200.0</td>\n    </tr>\n    <tr>\n      <th>7924</th>\n      <td>Barbu</td>\n      <td>58.4664</td>\n      <td>8.7781</td>\n      <td>Norway</td>\n      <td>NO</td>\n      <td>Agder</td>\n      <td>NaN</td>\n      <td>6787.0</td>\n      <td>6787.0</td>\n    </tr>\n    <tr>\n      <th>7925</th>\n      <td>Tiller</td>\n      <td>63.3550</td>\n      <td>10.3790</td>\n      <td>Norway</td>\n      <td>NO</td>\n      <td>Trøndelag</td>\n      <td>NaN</td>\n      <td>3595.0</td>\n      <td>3595.0</td>\n    </tr>\n    <tr>\n      <th>7926</th>\n      <td>Kolbotn</td>\n      <td>59.8112</td>\n      <td>10.8000</td>\n      <td>Norway</td>\n      <td>NO</td>\n      <td>Viken</td>\n      <td>minor</td>\n      <td>NaN</td>\n      <td>NaN</td>\n    </tr>\n    <tr>\n      <th>7927</th>\n      <td>Lillestrøm</td>\n      <td>59.9500</td>\n      <td>11.0833</td>\n      <td>Norway</td>\n      <td>NO</td>\n      <td>Viken</td>\n      <td>minor</td>\n      <td>NaN</td>\n      <td>NaN</td>\n    </tr>\n  </tbody>\n</table>\n<p>7928 rows × 9 columns</p>\n</div>"
     },
     "execution_count": 77,
     "metadata": {},
     "output_type": "execute_result"
    }
   ],
   "source": [
    "import os\n",
    "def create_combined_dataframe(directory):\n",
    "\tdataframes = []\n",
    "\n",
    "\t# Iterate over all files in the directory\n",
    "\tfor filename in os.listdir(directory):\n",
    "\t\tif filename.endswith('.csv'):\n",
    "\t\t\tfilepath = os.path.join(directory, filename)\n",
    "\t\t\tdf = pd.read_csv(filepath)\n",
    "\t\t\tdataframes.append(df)\n",
    "\n",
    "\t# Concatenate all df\n",
    "\tcombined_df = pd.concat(dataframes, ignore_index=True)\n",
    "\treturn combined_df\n",
    "\n",
    "#\n",
    "directory_path = '../datasets/Geolocation'  # Replace with your directory path\n",
    "cities_info = create_combined_dataframe(directory_path)\n",
    "cities_info"
   ],
   "metadata": {
    "collapsed": false,
    "ExecuteTime": {
     "end_time": "2024-01-22T20:28:36.883495Z",
     "start_time": "2024-01-22T20:28:36.802664Z"
    }
   },
   "id": "b7ae47f29202a66b",
   "execution_count": 77
  },
  {
   "cell_type": "code",
   "outputs": [
    {
     "data": {
      "text/plain": "            city  latitude  longitude  country iso2 admin_name  capital  \\\n0         Tirana   41.3289    19.8178  Albania   AL     Tiranë  primary   \n1          Vlorë   40.4667    19.4833  Albania   AL      Vlorë    admin   \n2          Kamëz   41.3833    19.7667  Albania   AL     Tiranë      NaN   \n3           Fier   40.7250    19.5572  Albania   AL       Fier    admin   \n4         Durrës   41.3111    19.4392  Albania   AL     Durrës    admin   \n...          ...       ...        ...      ...  ...        ...      ...   \n7923  Lommedalen   59.9500    10.4667   Norway   NO      Viken      NaN   \n7924       Barbu   58.4664     8.7781   Norway   NO      Agder      NaN   \n7925      Tiller   63.3550    10.3790   Norway   NO  Trøndelag      NaN   \n7926     Kolbotn   59.8112    10.8000   Norway   NO      Viken    minor   \n7927  Lillestrøm   59.9500    11.0833   Norway   NO      Viken    minor   \n\n      population  population_proper  \n0       418495.0           418495.0  \n1       130827.0           130827.0  \n2       126777.0           126777.0  \n3       120655.0           120655.0  \n4       113249.0           113249.0  \n...          ...                ...  \n7923     11200.0            11200.0  \n7924      6787.0             6787.0  \n7925      3595.0             3595.0  \n7926         NaN                NaN  \n7927         NaN                NaN  \n\n[7928 rows x 9 columns]",
      "text/html": "<div>\n<style scoped>\n    .dataframe tbody tr th:only-of-type {\n        vertical-align: middle;\n    }\n\n    .dataframe tbody tr th {\n        vertical-align: top;\n    }\n\n    .dataframe thead th {\n        text-align: right;\n    }\n</style>\n<table border=\"1\" class=\"dataframe\">\n  <thead>\n    <tr style=\"text-align: right;\">\n      <th></th>\n      <th>city</th>\n      <th>latitude</th>\n      <th>longitude</th>\n      <th>country</th>\n      <th>iso2</th>\n      <th>admin_name</th>\n      <th>capital</th>\n      <th>population</th>\n      <th>population_proper</th>\n    </tr>\n  </thead>\n  <tbody>\n    <tr>\n      <th>0</th>\n      <td>Tirana</td>\n      <td>41.3289</td>\n      <td>19.8178</td>\n      <td>Albania</td>\n      <td>AL</td>\n      <td>Tiranë</td>\n      <td>primary</td>\n      <td>418495.0</td>\n      <td>418495.0</td>\n    </tr>\n    <tr>\n      <th>1</th>\n      <td>Vlorë</td>\n      <td>40.4667</td>\n      <td>19.4833</td>\n      <td>Albania</td>\n      <td>AL</td>\n      <td>Vlorë</td>\n      <td>admin</td>\n      <td>130827.0</td>\n      <td>130827.0</td>\n    </tr>\n    <tr>\n      <th>2</th>\n      <td>Kamëz</td>\n      <td>41.3833</td>\n      <td>19.7667</td>\n      <td>Albania</td>\n      <td>AL</td>\n      <td>Tiranë</td>\n      <td>NaN</td>\n      <td>126777.0</td>\n      <td>126777.0</td>\n    </tr>\n    <tr>\n      <th>3</th>\n      <td>Fier</td>\n      <td>40.7250</td>\n      <td>19.5572</td>\n      <td>Albania</td>\n      <td>AL</td>\n      <td>Fier</td>\n      <td>admin</td>\n      <td>120655.0</td>\n      <td>120655.0</td>\n    </tr>\n    <tr>\n      <th>4</th>\n      <td>Durrës</td>\n      <td>41.3111</td>\n      <td>19.4392</td>\n      <td>Albania</td>\n      <td>AL</td>\n      <td>Durrës</td>\n      <td>admin</td>\n      <td>113249.0</td>\n      <td>113249.0</td>\n    </tr>\n    <tr>\n      <th>...</th>\n      <td>...</td>\n      <td>...</td>\n      <td>...</td>\n      <td>...</td>\n      <td>...</td>\n      <td>...</td>\n      <td>...</td>\n      <td>...</td>\n      <td>...</td>\n    </tr>\n    <tr>\n      <th>7923</th>\n      <td>Lommedalen</td>\n      <td>59.9500</td>\n      <td>10.4667</td>\n      <td>Norway</td>\n      <td>NO</td>\n      <td>Viken</td>\n      <td>NaN</td>\n      <td>11200.0</td>\n      <td>11200.0</td>\n    </tr>\n    <tr>\n      <th>7924</th>\n      <td>Barbu</td>\n      <td>58.4664</td>\n      <td>8.7781</td>\n      <td>Norway</td>\n      <td>NO</td>\n      <td>Agder</td>\n      <td>NaN</td>\n      <td>6787.0</td>\n      <td>6787.0</td>\n    </tr>\n    <tr>\n      <th>7925</th>\n      <td>Tiller</td>\n      <td>63.3550</td>\n      <td>10.3790</td>\n      <td>Norway</td>\n      <td>NO</td>\n      <td>Trøndelag</td>\n      <td>NaN</td>\n      <td>3595.0</td>\n      <td>3595.0</td>\n    </tr>\n    <tr>\n      <th>7926</th>\n      <td>Kolbotn</td>\n      <td>59.8112</td>\n      <td>10.8000</td>\n      <td>Norway</td>\n      <td>NO</td>\n      <td>Viken</td>\n      <td>minor</td>\n      <td>NaN</td>\n      <td>NaN</td>\n    </tr>\n    <tr>\n      <th>7927</th>\n      <td>Lillestrøm</td>\n      <td>59.9500</td>\n      <td>11.0833</td>\n      <td>Norway</td>\n      <td>NO</td>\n      <td>Viken</td>\n      <td>minor</td>\n      <td>NaN</td>\n      <td>NaN</td>\n    </tr>\n  </tbody>\n</table>\n<p>7928 rows × 9 columns</p>\n</div>"
     },
     "execution_count": 78,
     "metadata": {},
     "output_type": "execute_result"
    }
   ],
   "source": [
    "cities_info.rename(columns={'lat': 'latitude', 'lng': 'longitude'}, inplace=True)\n",
    "cities_info"
   ],
   "metadata": {
    "collapsed": false,
    "ExecuteTime": {
     "end_time": "2024-01-22T20:28:40.812747Z",
     "start_time": "2024-01-22T20:28:40.779359Z"
    }
   },
   "id": "8b0caa309fe15b69",
   "execution_count": 78
  },
  {
   "cell_type": "code",
   "outputs": [
    {
     "data": {
      "text/plain": "country\nUnited Kingdom    680\nFrance            634\nRomania           528\nSlovakia          443\nFinland           357\nIreland           345\nMoldova           294\nItaly             281\nSlovenia          273\nSpain             266\nBulgaria          256\nSerbia            250\nRussia            235\nNetherlands       229\nGreece            225\nHungary           218\nUkraine           216\nTurkey            204\nSwitzerland       185\nAustria           182\nDenmark           172\nPoland            172\nCzechia           153\nBelarus           136\nLatvia            129\nLithuania         127\nGermany           123\nSweden            119\nAlbania           101\nEstonia            93\nKosovo             91\nMacedonia          75\nPortugal           54\nBelgium            52\nNorway             30\nName: count, dtype: int64"
     },
     "execution_count": 79,
     "metadata": {},
     "output_type": "execute_result"
    }
   ],
   "source": [
    "cities_info['country'].value_counts()"
   ],
   "metadata": {
    "collapsed": false,
    "ExecuteTime": {
     "end_time": "2024-01-22T20:28:42.306871Z",
     "start_time": "2024-01-22T20:28:42.272947Z"
    }
   },
   "id": "ee345286ed5bae67",
   "execution_count": 79
  },
  {
   "cell_type": "code",
   "execution_count": 92,
   "id": "2bc4fcca80a050d9",
   "metadata": {
    "collapsed": false,
    "ExecuteTime": {
     "end_time": "2024-01-22T21:15:22.179455Z",
     "start_time": "2024-01-22T21:15:22.094969Z"
    }
   },
   "outputs": [
    {
     "data": {
      "text/plain": "           city  latitude  longitude      country iso2  admin_name  capital  \\\n0        Tirana   41.3289    19.8178      Albania   AL      Tiranë  primary   \n1         Vlorë   40.4667    19.4833      Albania   AL       Vlorë    admin   \n2         Kamëz   41.3833    19.7667      Albania   AL      Tiranë      NaN   \n3          Fier   40.7250    19.5572      Albania   AL        Fier    admin   \n101       Sofia   42.7000    23.3300     Bulgaria   BG  Sofia-Grad  primary   \n...         ...       ...        ...          ...  ...         ...      ...   \n7717       Bern   46.9481     7.4475  Switzerland   CH        Bern  primary   \n7898       Oslo   59.9133    10.7389       Norway   NO        Oslo  primary   \n7899     Bergen   60.3894     5.3300       Norway   NO    Vestland    admin   \n7900  Stavanger   58.9700     5.7314       Norway   NO    Rogaland    admin   \n7902  Trondheim   63.4297    10.3933       Norway   NO   Trøndelag    minor   \n\n      population  population_proper  \n0       418495.0           418495.0  \n1       130827.0           130827.0  \n2       126777.0           126777.0  \n3       120655.0           120655.0  \n101    1547779.0          1276956.0  \n...          ...                ...  \n7717    133883.0           133883.0  \n7898   1064235.0           709037.0  \n7899    267117.0           267117.0  \n7900    237369.0           129300.0  \n7902    194860.0           194860.0  \n\n[723 rows x 9 columns]",
      "text/html": "<div>\n<style scoped>\n    .dataframe tbody tr th:only-of-type {\n        vertical-align: middle;\n    }\n\n    .dataframe tbody tr th {\n        vertical-align: top;\n    }\n\n    .dataframe thead th {\n        text-align: right;\n    }\n</style>\n<table border=\"1\" class=\"dataframe\">\n  <thead>\n    <tr style=\"text-align: right;\">\n      <th></th>\n      <th>city</th>\n      <th>latitude</th>\n      <th>longitude</th>\n      <th>country</th>\n      <th>iso2</th>\n      <th>admin_name</th>\n      <th>capital</th>\n      <th>population</th>\n      <th>population_proper</th>\n    </tr>\n  </thead>\n  <tbody>\n    <tr>\n      <th>0</th>\n      <td>Tirana</td>\n      <td>41.3289</td>\n      <td>19.8178</td>\n      <td>Albania</td>\n      <td>AL</td>\n      <td>Tiranë</td>\n      <td>primary</td>\n      <td>418495.0</td>\n      <td>418495.0</td>\n    </tr>\n    <tr>\n      <th>1</th>\n      <td>Vlorë</td>\n      <td>40.4667</td>\n      <td>19.4833</td>\n      <td>Albania</td>\n      <td>AL</td>\n      <td>Vlorë</td>\n      <td>admin</td>\n      <td>130827.0</td>\n      <td>130827.0</td>\n    </tr>\n    <tr>\n      <th>2</th>\n      <td>Kamëz</td>\n      <td>41.3833</td>\n      <td>19.7667</td>\n      <td>Albania</td>\n      <td>AL</td>\n      <td>Tiranë</td>\n      <td>NaN</td>\n      <td>126777.0</td>\n      <td>126777.0</td>\n    </tr>\n    <tr>\n      <th>3</th>\n      <td>Fier</td>\n      <td>40.7250</td>\n      <td>19.5572</td>\n      <td>Albania</td>\n      <td>AL</td>\n      <td>Fier</td>\n      <td>admin</td>\n      <td>120655.0</td>\n      <td>120655.0</td>\n    </tr>\n    <tr>\n      <th>101</th>\n      <td>Sofia</td>\n      <td>42.7000</td>\n      <td>23.3300</td>\n      <td>Bulgaria</td>\n      <td>BG</td>\n      <td>Sofia-Grad</td>\n      <td>primary</td>\n      <td>1547779.0</td>\n      <td>1276956.0</td>\n    </tr>\n    <tr>\n      <th>...</th>\n      <td>...</td>\n      <td>...</td>\n      <td>...</td>\n      <td>...</td>\n      <td>...</td>\n      <td>...</td>\n      <td>...</td>\n      <td>...</td>\n      <td>...</td>\n    </tr>\n    <tr>\n      <th>7717</th>\n      <td>Bern</td>\n      <td>46.9481</td>\n      <td>7.4475</td>\n      <td>Switzerland</td>\n      <td>CH</td>\n      <td>Bern</td>\n      <td>primary</td>\n      <td>133883.0</td>\n      <td>133883.0</td>\n    </tr>\n    <tr>\n      <th>7898</th>\n      <td>Oslo</td>\n      <td>59.9133</td>\n      <td>10.7389</td>\n      <td>Norway</td>\n      <td>NO</td>\n      <td>Oslo</td>\n      <td>primary</td>\n      <td>1064235.0</td>\n      <td>709037.0</td>\n    </tr>\n    <tr>\n      <th>7899</th>\n      <td>Bergen</td>\n      <td>60.3894</td>\n      <td>5.3300</td>\n      <td>Norway</td>\n      <td>NO</td>\n      <td>Vestland</td>\n      <td>admin</td>\n      <td>267117.0</td>\n      <td>267117.0</td>\n    </tr>\n    <tr>\n      <th>7900</th>\n      <td>Stavanger</td>\n      <td>58.9700</td>\n      <td>5.7314</td>\n      <td>Norway</td>\n      <td>NO</td>\n      <td>Rogaland</td>\n      <td>admin</td>\n      <td>237369.0</td>\n      <td>129300.0</td>\n    </tr>\n    <tr>\n      <th>7902</th>\n      <td>Trondheim</td>\n      <td>63.4297</td>\n      <td>10.3933</td>\n      <td>Norway</td>\n      <td>NO</td>\n      <td>Trøndelag</td>\n      <td>minor</td>\n      <td>194860.0</td>\n      <td>194860.0</td>\n    </tr>\n  </tbody>\n</table>\n<p>723 rows × 9 columns</p>\n</div>"
     },
     "execution_count": 92,
     "metadata": {},
     "output_type": "execute_result"
    }
   ],
   "source": [
    "# TODO: is the threshold good?\n",
    "big_cities_info = cities_info[cities_info['population_proper'] > 120000] # to avoid problems with small cities\n",
    "big_cities_info"
   ]
  },
  {
   "cell_type": "code",
   "outputs": [
    {
     "data": {
      "text/plain": "country\nRussia            141\nTurkey            139\nGermany            63\nSpain              53\nUnited Kingdom     40\nUkraine            37\nItaly              35\nFrance             29\nPoland             28\nPortugal           23\nNetherlands        23\nRomania            15\nBelarus            10\nFinland             8\nSweden              8\nGreece              7\nBelgium             6\nBulgaria            6\nHungary             6\nAustria             5\nSwitzerland         5\nSerbia              5\nCzechia             4\nAlbania             4\nNorway              4\nLithuania           3\nDenmark             3\nIreland             3\nMoldova             2\nSlovakia            2\nMacedonia           2\nSlovenia            1\nEstonia             1\nLatvia              1\nKosovo              1\nName: count, dtype: int64"
     },
     "execution_count": 93,
     "metadata": {},
     "output_type": "execute_result"
    }
   ],
   "source": [
    "big_cities_info['country'].value_counts()"
   ],
   "metadata": {
    "collapsed": false,
    "ExecuteTime": {
     "end_time": "2024-01-22T21:15:25.980360Z",
     "start_time": "2024-01-22T21:15:25.961401Z"
    }
   },
   "id": "e31e32cc05bb2462",
   "execution_count": 93
  },
  {
   "cell_type": "markdown",
   "id": "89830056f067e9da",
   "metadata": {
    "collapsed": false
   },
   "source": [
    "### Matching with distance"
   ]
  },
  {
   "cell_type": "code",
   "outputs": [],
   "source": [
    "import geopandas as gpd\n",
    "from shapely.geometry import Point"
   ],
   "metadata": {
    "collapsed": false,
    "ExecuteTime": {
     "end_time": "2024-01-22T21:15:28.228297Z",
     "start_time": "2024-01-22T21:15:28.212101Z"
    }
   },
   "id": "e5b2587cd0c0c6b8",
   "execution_count": 94
  },
  {
   "cell_type": "code",
   "outputs": [],
   "source": [
    "def essential(df):\n",
    "\treturn df[['airport name', 'airport city', 'nearest city','population']]"
   ],
   "metadata": {
    "collapsed": false,
    "ExecuteTime": {
     "end_time": "2024-01-22T22:13:19.932165Z",
     "start_time": "2024-01-22T22:13:19.898280Z"
    }
   },
   "id": "3c04323952b76047",
   "execution_count": 112
  },
  {
   "cell_type": "code",
   "outputs": [],
   "source": [
    "gdf_airports = gpd.GeoDataFrame(our_airports, geometry=gpd.points_from_xy(our_airports.longitude, our_airports.latitude))\n",
    "gdf_cities = gpd.GeoDataFrame(big_cities_info, geometry=gpd.points_from_xy(big_cities_info.longitude, big_cities_info.latitude))"
   ],
   "metadata": {
    "collapsed": false,
    "ExecuteTime": {
     "end_time": "2024-01-22T21:15:32.008475Z",
     "start_time": "2024-01-22T21:15:31.984062Z"
    }
   },
   "id": "1722f40d9df2ce26",
   "execution_count": 95
  },
  {
   "cell_type": "code",
   "outputs": [
    {
     "data": {
      "text/plain": "          id ident            type  \\\n13969   4614  BKPR  medium_airport   \n22121   2155  EBBR   large_airport   \n22129   2157  EBCI  medium_airport   \n22177   2162  EBLG  medium_airport   \n22398   2210  EDDC  medium_airport   \n...      ...   ...             ...   \n72929  26408  UWOO  medium_airport   \n72930  26409  UWOR  medium_airport   \n72932  32155  UWPP  medium_airport   \n72944  26411  UWUU   large_airport   \n72951  26412  UWWW   large_airport   \n\n                                              name  latitude_left  \\\n13969  Priština Adem Jashari International Airport      42.572800   \n22121                             Brussels Airport      50.901402   \n22129             Brussels South Charleroi Airport      50.460982   \n22177                                Liège Airport      50.638574   \n22398                              Dresden Airport      51.134123   \n...                                            ...            ...   \n72929                     Orenburg Central Airport      51.795799   \n72930                                 Orsk Airport      51.072498   \n72932                                Penza Airport      53.110600   \n72944                    Ufa International Airport      54.557499   \n72951               Kurumoch International Airport      53.504902   \n\n       longitude_left  elevation_ft continent iso_country iso_region  ...  \\\n13969       21.035801        1789.0        EU          XK      XK-01  ...   \n22121        4.484440         175.0        EU          BE     BE-BRU  ...   \n22129        4.457158         614.0        EU          BE     BE-WHT  ...   \n22177        5.443897         659.0        EU          BE     BE-WLG  ...   \n22398       13.767831         755.0        EU          DE      DE-SN  ...   \n...               ...           ...       ...         ...        ...  ...   \n72929       55.456699         387.0        EU          RU     RU-ORE  ...   \n72930       58.595600         909.0        AS          RU     RU-ORE  ...   \n72932       45.021099         614.0        EU          RU     RU-PNZ  ...   \n72944       55.874401         449.0        EU          RU      RU-BA  ...   \n72951       50.164299         477.0        EU          RU     RU-SAM  ...   \n\n            city latitude_right longitude_right  country iso2  \\\n13969   Pristina        42.6633         21.1622   Kosovo   XK   \n22121   Brussels        50.8467          4.3525  Belgium   BE   \n22129  Charleroi        50.4000          4.4333  Belgium   BE   \n22177      Liège        50.6397          5.5706  Belgium   BE   \n22398    Dresden        51.0500         13.7400  Germany   DE   \n...          ...            ...             ...      ...  ...   \n72929   Orenburg        51.7667         55.1000   Russia   RU   \n72930       Orsk        51.2000         58.5667   Russia   RU   \n72932      Penza        53.2000         45.0000   Russia   RU   \n72944        Ufa        54.7261         55.9475   Russia   RU   \n72951     Samara        53.2028         50.1408   Russia   RU   \n\n                    admin_name  capital population population_proper  distance  \n13969                Prishtinë  primary   161751.0          161751.0  0.155457  \n22121  Brussels-Capital Region  primary  1743000.0          188737.0  0.142830  \n22129                 Wallonia    minor   201816.0          201816.0  0.065483  \n22177                 Wallonia    minor   196623.0          195278.0  0.126708  \n22398                   Saxony    admin   561922.0          561922.0  0.088607  \n...                        ...      ...        ...               ...       ...  \n72929    Orenburgskaya Oblast’    admin   564773.0          564773.0  0.357884  \n72930    Orenburgskaya Oblast’      NaN   230414.0          229255.0  0.130736  \n72932      Penzenskaya Oblast’    admin   523726.0          523726.0  0.091857  \n72944            Bashkortostan    admin  1115560.0         1115560.0  0.183766  \n72951       Samarskaya Oblast’    admin  1169719.0         1169719.0  0.303014  \n\n[313 rows x 30 columns]",
      "text/html": "<div>\n<style scoped>\n    .dataframe tbody tr th:only-of-type {\n        vertical-align: middle;\n    }\n\n    .dataframe tbody tr th {\n        vertical-align: top;\n    }\n\n    .dataframe thead th {\n        text-align: right;\n    }\n</style>\n<table border=\"1\" class=\"dataframe\">\n  <thead>\n    <tr style=\"text-align: right;\">\n      <th></th>\n      <th>id</th>\n      <th>ident</th>\n      <th>type</th>\n      <th>name</th>\n      <th>latitude_left</th>\n      <th>longitude_left</th>\n      <th>elevation_ft</th>\n      <th>continent</th>\n      <th>iso_country</th>\n      <th>iso_region</th>\n      <th>...</th>\n      <th>city</th>\n      <th>latitude_right</th>\n      <th>longitude_right</th>\n      <th>country</th>\n      <th>iso2</th>\n      <th>admin_name</th>\n      <th>capital</th>\n      <th>population</th>\n      <th>population_proper</th>\n      <th>distance</th>\n    </tr>\n  </thead>\n  <tbody>\n    <tr>\n      <th>13969</th>\n      <td>4614</td>\n      <td>BKPR</td>\n      <td>medium_airport</td>\n      <td>Priština Adem Jashari International Airport</td>\n      <td>42.572800</td>\n      <td>21.035801</td>\n      <td>1789.0</td>\n      <td>EU</td>\n      <td>XK</td>\n      <td>XK-01</td>\n      <td>...</td>\n      <td>Pristina</td>\n      <td>42.6633</td>\n      <td>21.1622</td>\n      <td>Kosovo</td>\n      <td>XK</td>\n      <td>Prishtinë</td>\n      <td>primary</td>\n      <td>161751.0</td>\n      <td>161751.0</td>\n      <td>0.155457</td>\n    </tr>\n    <tr>\n      <th>22121</th>\n      <td>2155</td>\n      <td>EBBR</td>\n      <td>large_airport</td>\n      <td>Brussels Airport</td>\n      <td>50.901402</td>\n      <td>4.484440</td>\n      <td>175.0</td>\n      <td>EU</td>\n      <td>BE</td>\n      <td>BE-BRU</td>\n      <td>...</td>\n      <td>Brussels</td>\n      <td>50.8467</td>\n      <td>4.3525</td>\n      <td>Belgium</td>\n      <td>BE</td>\n      <td>Brussels-Capital Region</td>\n      <td>primary</td>\n      <td>1743000.0</td>\n      <td>188737.0</td>\n      <td>0.142830</td>\n    </tr>\n    <tr>\n      <th>22129</th>\n      <td>2157</td>\n      <td>EBCI</td>\n      <td>medium_airport</td>\n      <td>Brussels South Charleroi Airport</td>\n      <td>50.460982</td>\n      <td>4.457158</td>\n      <td>614.0</td>\n      <td>EU</td>\n      <td>BE</td>\n      <td>BE-WHT</td>\n      <td>...</td>\n      <td>Charleroi</td>\n      <td>50.4000</td>\n      <td>4.4333</td>\n      <td>Belgium</td>\n      <td>BE</td>\n      <td>Wallonia</td>\n      <td>minor</td>\n      <td>201816.0</td>\n      <td>201816.0</td>\n      <td>0.065483</td>\n    </tr>\n    <tr>\n      <th>22177</th>\n      <td>2162</td>\n      <td>EBLG</td>\n      <td>medium_airport</td>\n      <td>Liège Airport</td>\n      <td>50.638574</td>\n      <td>5.443897</td>\n      <td>659.0</td>\n      <td>EU</td>\n      <td>BE</td>\n      <td>BE-WLG</td>\n      <td>...</td>\n      <td>Liège</td>\n      <td>50.6397</td>\n      <td>5.5706</td>\n      <td>Belgium</td>\n      <td>BE</td>\n      <td>Wallonia</td>\n      <td>minor</td>\n      <td>196623.0</td>\n      <td>195278.0</td>\n      <td>0.126708</td>\n    </tr>\n    <tr>\n      <th>22398</th>\n      <td>2210</td>\n      <td>EDDC</td>\n      <td>medium_airport</td>\n      <td>Dresden Airport</td>\n      <td>51.134123</td>\n      <td>13.767831</td>\n      <td>755.0</td>\n      <td>EU</td>\n      <td>DE</td>\n      <td>DE-SN</td>\n      <td>...</td>\n      <td>Dresden</td>\n      <td>51.0500</td>\n      <td>13.7400</td>\n      <td>Germany</td>\n      <td>DE</td>\n      <td>Saxony</td>\n      <td>admin</td>\n      <td>561922.0</td>\n      <td>561922.0</td>\n      <td>0.088607</td>\n    </tr>\n    <tr>\n      <th>...</th>\n      <td>...</td>\n      <td>...</td>\n      <td>...</td>\n      <td>...</td>\n      <td>...</td>\n      <td>...</td>\n      <td>...</td>\n      <td>...</td>\n      <td>...</td>\n      <td>...</td>\n      <td>...</td>\n      <td>...</td>\n      <td>...</td>\n      <td>...</td>\n      <td>...</td>\n      <td>...</td>\n      <td>...</td>\n      <td>...</td>\n      <td>...</td>\n      <td>...</td>\n      <td>...</td>\n    </tr>\n    <tr>\n      <th>72929</th>\n      <td>26408</td>\n      <td>UWOO</td>\n      <td>medium_airport</td>\n      <td>Orenburg Central Airport</td>\n      <td>51.795799</td>\n      <td>55.456699</td>\n      <td>387.0</td>\n      <td>EU</td>\n      <td>RU</td>\n      <td>RU-ORE</td>\n      <td>...</td>\n      <td>Orenburg</td>\n      <td>51.7667</td>\n      <td>55.1000</td>\n      <td>Russia</td>\n      <td>RU</td>\n      <td>Orenburgskaya Oblast’</td>\n      <td>admin</td>\n      <td>564773.0</td>\n      <td>564773.0</td>\n      <td>0.357884</td>\n    </tr>\n    <tr>\n      <th>72930</th>\n      <td>26409</td>\n      <td>UWOR</td>\n      <td>medium_airport</td>\n      <td>Orsk Airport</td>\n      <td>51.072498</td>\n      <td>58.595600</td>\n      <td>909.0</td>\n      <td>AS</td>\n      <td>RU</td>\n      <td>RU-ORE</td>\n      <td>...</td>\n      <td>Orsk</td>\n      <td>51.2000</td>\n      <td>58.5667</td>\n      <td>Russia</td>\n      <td>RU</td>\n      <td>Orenburgskaya Oblast’</td>\n      <td>NaN</td>\n      <td>230414.0</td>\n      <td>229255.0</td>\n      <td>0.130736</td>\n    </tr>\n    <tr>\n      <th>72932</th>\n      <td>32155</td>\n      <td>UWPP</td>\n      <td>medium_airport</td>\n      <td>Penza Airport</td>\n      <td>53.110600</td>\n      <td>45.021099</td>\n      <td>614.0</td>\n      <td>EU</td>\n      <td>RU</td>\n      <td>RU-PNZ</td>\n      <td>...</td>\n      <td>Penza</td>\n      <td>53.2000</td>\n      <td>45.0000</td>\n      <td>Russia</td>\n      <td>RU</td>\n      <td>Penzenskaya Oblast’</td>\n      <td>admin</td>\n      <td>523726.0</td>\n      <td>523726.0</td>\n      <td>0.091857</td>\n    </tr>\n    <tr>\n      <th>72944</th>\n      <td>26411</td>\n      <td>UWUU</td>\n      <td>large_airport</td>\n      <td>Ufa International Airport</td>\n      <td>54.557499</td>\n      <td>55.874401</td>\n      <td>449.0</td>\n      <td>EU</td>\n      <td>RU</td>\n      <td>RU-BA</td>\n      <td>...</td>\n      <td>Ufa</td>\n      <td>54.7261</td>\n      <td>55.9475</td>\n      <td>Russia</td>\n      <td>RU</td>\n      <td>Bashkortostan</td>\n      <td>admin</td>\n      <td>1115560.0</td>\n      <td>1115560.0</td>\n      <td>0.183766</td>\n    </tr>\n    <tr>\n      <th>72951</th>\n      <td>26412</td>\n      <td>UWWW</td>\n      <td>large_airport</td>\n      <td>Kurumoch International Airport</td>\n      <td>53.504902</td>\n      <td>50.164299</td>\n      <td>477.0</td>\n      <td>EU</td>\n      <td>RU</td>\n      <td>RU-SAM</td>\n      <td>...</td>\n      <td>Samara</td>\n      <td>53.2028</td>\n      <td>50.1408</td>\n      <td>Russia</td>\n      <td>RU</td>\n      <td>Samarskaya Oblast’</td>\n      <td>admin</td>\n      <td>1169719.0</td>\n      <td>1169719.0</td>\n      <td>0.303014</td>\n    </tr>\n  </tbody>\n</table>\n<p>313 rows × 30 columns</p>\n</div>"
     },
     "execution_count": 96,
     "metadata": {},
     "output_type": "execute_result"
    }
   ],
   "source": [
    "nearest_cities = gpd.sjoin_nearest(gdf_airports, gdf_cities, distance_col=\"distance\")\n",
    "nearest_cities"
   ],
   "metadata": {
    "collapsed": false,
    "ExecuteTime": {
     "end_time": "2024-01-22T21:15:34.690660Z",
     "start_time": "2024-01-22T21:15:34.619789Z"
    }
   },
   "id": "8906b2664e3524f4",
   "execution_count": 96
  },
  {
   "cell_type": "markdown",
   "source": [
    "Do the airports match cities that make sense?"
   ],
   "metadata": {
    "collapsed": false
   },
   "id": "329dc46838e4f146"
  },
  {
   "cell_type": "code",
   "execution_count": 97,
   "id": "40720194381e6fb8",
   "metadata": {
    "collapsed": false,
    "ExecuteTime": {
     "end_time": "2024-01-22T21:15:41.096163Z",
     "start_time": "2024-01-22T21:15:41.063663Z"
    }
   },
   "outputs": [
    {
     "data": {
      "text/plain": "                                      airport name    airport city  \\\n13969  Priština Adem Jashari International Airport       Prishtina   \n22121                             Brussels Airport        Zaventem   \n22129             Brussels South Charleroi Airport       Charleroi   \n22177                                Liège Airport  Grâce-Hollogne   \n22398                              Dresden Airport         Dresden   \n...                                            ...             ...   \n72929                     Orenburg Central Airport        Orenburg   \n72930                                 Orsk Airport            Orsk   \n72932                                Penza Airport           Penza   \n72944                    Ufa International Airport             Ufa   \n72951               Kurumoch International Airport          Samara   \n\n      nearest city  population  \n13969     Pristina    161751.0  \n22121     Brussels   1743000.0  \n22129    Charleroi    201816.0  \n22177        Liège    196623.0  \n22398      Dresden    561922.0  \n...            ...         ...  \n72929     Orenburg    564773.0  \n72930         Orsk    230414.0  \n72932        Penza    523726.0  \n72944          Ufa   1115560.0  \n72951       Samara   1169719.0  \n\n[313 rows x 4 columns]",
      "text/html": "<div>\n<style scoped>\n    .dataframe tbody tr th:only-of-type {\n        vertical-align: middle;\n    }\n\n    .dataframe tbody tr th {\n        vertical-align: top;\n    }\n\n    .dataframe thead th {\n        text-align: right;\n    }\n</style>\n<table border=\"1\" class=\"dataframe\">\n  <thead>\n    <tr style=\"text-align: right;\">\n      <th></th>\n      <th>airport name</th>\n      <th>airport city</th>\n      <th>nearest city</th>\n      <th>population</th>\n    </tr>\n  </thead>\n  <tbody>\n    <tr>\n      <th>13969</th>\n      <td>Priština Adem Jashari International Airport</td>\n      <td>Prishtina</td>\n      <td>Pristina</td>\n      <td>161751.0</td>\n    </tr>\n    <tr>\n      <th>22121</th>\n      <td>Brussels Airport</td>\n      <td>Zaventem</td>\n      <td>Brussels</td>\n      <td>1743000.0</td>\n    </tr>\n    <tr>\n      <th>22129</th>\n      <td>Brussels South Charleroi Airport</td>\n      <td>Charleroi</td>\n      <td>Charleroi</td>\n      <td>201816.0</td>\n    </tr>\n    <tr>\n      <th>22177</th>\n      <td>Liège Airport</td>\n      <td>Grâce-Hollogne</td>\n      <td>Liège</td>\n      <td>196623.0</td>\n    </tr>\n    <tr>\n      <th>22398</th>\n      <td>Dresden Airport</td>\n      <td>Dresden</td>\n      <td>Dresden</td>\n      <td>561922.0</td>\n    </tr>\n    <tr>\n      <th>...</th>\n      <td>...</td>\n      <td>...</td>\n      <td>...</td>\n      <td>...</td>\n    </tr>\n    <tr>\n      <th>72929</th>\n      <td>Orenburg Central Airport</td>\n      <td>Orenburg</td>\n      <td>Orenburg</td>\n      <td>564773.0</td>\n    </tr>\n    <tr>\n      <th>72930</th>\n      <td>Orsk Airport</td>\n      <td>Orsk</td>\n      <td>Orsk</td>\n      <td>230414.0</td>\n    </tr>\n    <tr>\n      <th>72932</th>\n      <td>Penza Airport</td>\n      <td>Penza</td>\n      <td>Penza</td>\n      <td>523726.0</td>\n    </tr>\n    <tr>\n      <th>72944</th>\n      <td>Ufa International Airport</td>\n      <td>Ufa</td>\n      <td>Ufa</td>\n      <td>1115560.0</td>\n    </tr>\n    <tr>\n      <th>72951</th>\n      <td>Kurumoch International Airport</td>\n      <td>Samara</td>\n      <td>Samara</td>\n      <td>1169719.0</td>\n    </tr>\n  </tbody>\n</table>\n<p>313 rows × 4 columns</p>\n</div>"
     },
     "execution_count": 97,
     "metadata": {},
     "output_type": "execute_result"
    }
   ],
   "source": [
    "nearest_cities.rename(columns={'municipality': 'airport city', 'city': 'nearest city', 'name': 'airport name'}, inplace=True)\n",
    "nearest_cities[['airport name', 'airport city', 'nearest city','population']]"
   ]
  },
  {
   "cell_type": "code",
   "outputs": [],
   "source": [
    "# write nearest_cities to csv\n",
    "nearest_cities[['airport name', 'airport city', 'nearest city','population']].to_csv(\"../datasets/nearest_cities.csv\",index=False, header=True)"
   ],
   "metadata": {
    "collapsed": false,
    "ExecuteTime": {
     "end_time": "2024-01-22T21:04:41.768352Z",
     "start_time": "2024-01-22T21:04:41.724236Z"
    }
   },
   "id": "e68ff37aca26188d",
   "execution_count": 89
  },
  {
   "cell_type": "markdown",
   "source": [
    "### Merging with flights"
   ],
   "metadata": {
    "collapsed": false
   },
   "id": "55a77facad068e15"
  },
  {
   "cell_type": "code",
   "outputs": [
    {
     "data": {
      "text/plain": "      iata_code nearest city\n13969       PRN     Pristina\n22121       BRU     Brussels\n22129       CRL    Charleroi\n22177       LGG        Liège\n22398       DRS      Dresden\n...         ...          ...\n72929       REN     Orenburg\n72930       OSW         Orsk\n72932       PEZ        Penza\n72944       UFA          Ufa\n72951       KUF       Samara\n\n[313 rows x 2 columns]",
      "text/html": "<div>\n<style scoped>\n    .dataframe tbody tr th:only-of-type {\n        vertical-align: middle;\n    }\n\n    .dataframe tbody tr th {\n        vertical-align: top;\n    }\n\n    .dataframe thead th {\n        text-align: right;\n    }\n</style>\n<table border=\"1\" class=\"dataframe\">\n  <thead>\n    <tr style=\"text-align: right;\">\n      <th></th>\n      <th>iata_code</th>\n      <th>nearest city</th>\n    </tr>\n  </thead>\n  <tbody>\n    <tr>\n      <th>13969</th>\n      <td>PRN</td>\n      <td>Pristina</td>\n    </tr>\n    <tr>\n      <th>22121</th>\n      <td>BRU</td>\n      <td>Brussels</td>\n    </tr>\n    <tr>\n      <th>22129</th>\n      <td>CRL</td>\n      <td>Charleroi</td>\n    </tr>\n    <tr>\n      <th>22177</th>\n      <td>LGG</td>\n      <td>Liège</td>\n    </tr>\n    <tr>\n      <th>22398</th>\n      <td>DRS</td>\n      <td>Dresden</td>\n    </tr>\n    <tr>\n      <th>...</th>\n      <td>...</td>\n      <td>...</td>\n    </tr>\n    <tr>\n      <th>72929</th>\n      <td>REN</td>\n      <td>Orenburg</td>\n    </tr>\n    <tr>\n      <th>72930</th>\n      <td>OSW</td>\n      <td>Orsk</td>\n    </tr>\n    <tr>\n      <th>72932</th>\n      <td>PEZ</td>\n      <td>Penza</td>\n    </tr>\n    <tr>\n      <th>72944</th>\n      <td>UFA</td>\n      <td>Ufa</td>\n    </tr>\n    <tr>\n      <th>72951</th>\n      <td>KUF</td>\n      <td>Samara</td>\n    </tr>\n  </tbody>\n</table>\n<p>313 rows × 2 columns</p>\n</div>"
     },
     "execution_count": 98,
     "metadata": {},
     "output_type": "execute_result"
    }
   ],
   "source": [
    "code_to_city = nearest_cities[['iata_code', 'nearest city']]\n",
    "code_to_city"
   ],
   "metadata": {
    "collapsed": false,
    "ExecuteTime": {
     "end_time": "2024-01-22T21:18:14.366922Z",
     "start_time": "2024-01-22T21:18:14.334936Z"
    }
   },
   "id": "74580ebb36e9173e",
   "execution_count": 98
  },
  {
   "cell_type": "code",
   "outputs": [
    {
     "data": {
      "text/plain": "               route   time departure airport arrival airport  departure city  \\\n0     {'AAL', 'AMS'}   85.0               AAL             AMS         Aalborg   \n1     {'AAQ', 'LED'}  170.0               AAQ             LED  Krasnyi Kurgan   \n2     {'AMS', 'ABZ'}   85.0               AMS             ABZ       Amsterdam   \n3     {'ABZ', 'LGW'}   95.0               ABZ             LGW        Aberdeen   \n4     {'ACE', 'AGP'}  130.0               ACE             AGP   San Bartolomé   \n...              ...    ...               ...             ...             ...   \n1464  {'ZRH', 'OTP'}  150.0               ZRH             OTP          Zurich   \n1465  {'ZRH', 'PRN'}  127.5               ZRH             PRN          Zurich   \n1466  {'ZRH', 'RVN'}  205.0               ZRH             RVN          Zurich   \n1467  {'ZRH', 'STR'}   45.0               ZRH             STR          Zurich   \n1468  {'ZTH', 'ATH'}   62.5               ZTH             ATH       Zakynthos   \n\n         arrival city  \n0           Amsterdam  \n1      St. Petersburg  \n2            Aberdeen  \n3     Gatwick, Surrey  \n4              Málaga  \n...               ...  \n1464          Otopeni  \n1465        Prishtina  \n1466        Rovaniemi  \n1467        Stuttgart  \n1468   Spata-Artemida  \n\n[1469 rows x 6 columns]",
      "text/html": "<div>\n<style scoped>\n    .dataframe tbody tr th:only-of-type {\n        vertical-align: middle;\n    }\n\n    .dataframe tbody tr th {\n        vertical-align: top;\n    }\n\n    .dataframe thead th {\n        text-align: right;\n    }\n</style>\n<table border=\"1\" class=\"dataframe\">\n  <thead>\n    <tr style=\"text-align: right;\">\n      <th></th>\n      <th>route</th>\n      <th>time</th>\n      <th>departure airport</th>\n      <th>arrival airport</th>\n      <th>departure city</th>\n      <th>arrival city</th>\n    </tr>\n  </thead>\n  <tbody>\n    <tr>\n      <th>0</th>\n      <td>{'AAL', 'AMS'}</td>\n      <td>85.0</td>\n      <td>AAL</td>\n      <td>AMS</td>\n      <td>Aalborg</td>\n      <td>Amsterdam</td>\n    </tr>\n    <tr>\n      <th>1</th>\n      <td>{'AAQ', 'LED'}</td>\n      <td>170.0</td>\n      <td>AAQ</td>\n      <td>LED</td>\n      <td>Krasnyi Kurgan</td>\n      <td>St. Petersburg</td>\n    </tr>\n    <tr>\n      <th>2</th>\n      <td>{'AMS', 'ABZ'}</td>\n      <td>85.0</td>\n      <td>AMS</td>\n      <td>ABZ</td>\n      <td>Amsterdam</td>\n      <td>Aberdeen</td>\n    </tr>\n    <tr>\n      <th>3</th>\n      <td>{'ABZ', 'LGW'}</td>\n      <td>95.0</td>\n      <td>ABZ</td>\n      <td>LGW</td>\n      <td>Aberdeen</td>\n      <td>Gatwick, Surrey</td>\n    </tr>\n    <tr>\n      <th>4</th>\n      <td>{'ACE', 'AGP'}</td>\n      <td>130.0</td>\n      <td>ACE</td>\n      <td>AGP</td>\n      <td>San Bartolomé</td>\n      <td>Málaga</td>\n    </tr>\n    <tr>\n      <th>...</th>\n      <td>...</td>\n      <td>...</td>\n      <td>...</td>\n      <td>...</td>\n      <td>...</td>\n      <td>...</td>\n    </tr>\n    <tr>\n      <th>1464</th>\n      <td>{'ZRH', 'OTP'}</td>\n      <td>150.0</td>\n      <td>ZRH</td>\n      <td>OTP</td>\n      <td>Zurich</td>\n      <td>Otopeni</td>\n    </tr>\n    <tr>\n      <th>1465</th>\n      <td>{'ZRH', 'PRN'}</td>\n      <td>127.5</td>\n      <td>ZRH</td>\n      <td>PRN</td>\n      <td>Zurich</td>\n      <td>Prishtina</td>\n    </tr>\n    <tr>\n      <th>1466</th>\n      <td>{'ZRH', 'RVN'}</td>\n      <td>205.0</td>\n      <td>ZRH</td>\n      <td>RVN</td>\n      <td>Zurich</td>\n      <td>Rovaniemi</td>\n    </tr>\n    <tr>\n      <th>1467</th>\n      <td>{'ZRH', 'STR'}</td>\n      <td>45.0</td>\n      <td>ZRH</td>\n      <td>STR</td>\n      <td>Zurich</td>\n      <td>Stuttgart</td>\n    </tr>\n    <tr>\n      <th>1468</th>\n      <td>{'ZTH', 'ATH'}</td>\n      <td>62.5</td>\n      <td>ZTH</td>\n      <td>ATH</td>\n      <td>Zakynthos</td>\n      <td>Spata-Artemida</td>\n    </tr>\n  </tbody>\n</table>\n<p>1469 rows × 6 columns</p>\n</div>"
     },
     "execution_count": 99,
     "metadata": {},
     "output_type": "execute_result"
    }
   ],
   "source": [
    "flights"
   ],
   "metadata": {
    "collapsed": false,
    "ExecuteTime": {
     "end_time": "2024-01-22T21:18:26.168465Z",
     "start_time": "2024-01-22T21:18:26.159806Z"
    }
   },
   "id": "1af2f624f21ce869",
   "execution_count": 99
  },
  {
   "cell_type": "code",
   "outputs": [
    {
     "data": {
      "text/plain": "               route   time departure airport arrival airport iata_code  \\\n0     {'AAL', 'AMS'}   85.0               AAL             AMS       AAL   \n1     {'AAQ', 'LED'}  170.0               AAQ             LED       AAQ   \n2     {'AMS', 'ABZ'}   85.0               AMS             ABZ       AMS   \n3     {'ABZ', 'LGW'}   95.0               ABZ             LGW       ABZ   \n4     {'ACE', 'AGP'}  130.0               ACE             AGP       ACE   \n...              ...    ...               ...             ...       ...   \n1464  {'ZRH', 'OTP'}  150.0               ZRH             OTP       ZRH   \n1465  {'ZRH', 'PRN'}  127.5               ZRH             PRN       ZRH   \n1466  {'ZRH', 'RVN'}  205.0               ZRH             RVN       ZRH   \n1467  {'ZRH', 'STR'}   45.0               ZRH             STR       ZRH   \n1468  {'ZTH', 'ATH'}   62.5               ZTH             ATH       ZTH   \n\n     departure city  \n0            Aarhus  \n1      Novorossiysk  \n2         Hoofddorp  \n3          Aberdeen  \n4        Las Palmas  \n...             ...  \n1464         Zürich  \n1465         Zürich  \n1466         Zürich  \n1467         Zürich  \n1468          Pátra  \n\n[1469 rows x 6 columns]",
      "text/html": "<div>\n<style scoped>\n    .dataframe tbody tr th:only-of-type {\n        vertical-align: middle;\n    }\n\n    .dataframe tbody tr th {\n        vertical-align: top;\n    }\n\n    .dataframe thead th {\n        text-align: right;\n    }\n</style>\n<table border=\"1\" class=\"dataframe\">\n  <thead>\n    <tr style=\"text-align: right;\">\n      <th></th>\n      <th>route</th>\n      <th>time</th>\n      <th>departure airport</th>\n      <th>arrival airport</th>\n      <th>iata_code</th>\n      <th>departure city</th>\n    </tr>\n  </thead>\n  <tbody>\n    <tr>\n      <th>0</th>\n      <td>{'AAL', 'AMS'}</td>\n      <td>85.0</td>\n      <td>AAL</td>\n      <td>AMS</td>\n      <td>AAL</td>\n      <td>Aarhus</td>\n    </tr>\n    <tr>\n      <th>1</th>\n      <td>{'AAQ', 'LED'}</td>\n      <td>170.0</td>\n      <td>AAQ</td>\n      <td>LED</td>\n      <td>AAQ</td>\n      <td>Novorossiysk</td>\n    </tr>\n    <tr>\n      <th>2</th>\n      <td>{'AMS', 'ABZ'}</td>\n      <td>85.0</td>\n      <td>AMS</td>\n      <td>ABZ</td>\n      <td>AMS</td>\n      <td>Hoofddorp</td>\n    </tr>\n    <tr>\n      <th>3</th>\n      <td>{'ABZ', 'LGW'}</td>\n      <td>95.0</td>\n      <td>ABZ</td>\n      <td>LGW</td>\n      <td>ABZ</td>\n      <td>Aberdeen</td>\n    </tr>\n    <tr>\n      <th>4</th>\n      <td>{'ACE', 'AGP'}</td>\n      <td>130.0</td>\n      <td>ACE</td>\n      <td>AGP</td>\n      <td>ACE</td>\n      <td>Las Palmas</td>\n    </tr>\n    <tr>\n      <th>...</th>\n      <td>...</td>\n      <td>...</td>\n      <td>...</td>\n      <td>...</td>\n      <td>...</td>\n      <td>...</td>\n    </tr>\n    <tr>\n      <th>1464</th>\n      <td>{'ZRH', 'OTP'}</td>\n      <td>150.0</td>\n      <td>ZRH</td>\n      <td>OTP</td>\n      <td>ZRH</td>\n      <td>Zürich</td>\n    </tr>\n    <tr>\n      <th>1465</th>\n      <td>{'ZRH', 'PRN'}</td>\n      <td>127.5</td>\n      <td>ZRH</td>\n      <td>PRN</td>\n      <td>ZRH</td>\n      <td>Zürich</td>\n    </tr>\n    <tr>\n      <th>1466</th>\n      <td>{'ZRH', 'RVN'}</td>\n      <td>205.0</td>\n      <td>ZRH</td>\n      <td>RVN</td>\n      <td>ZRH</td>\n      <td>Zürich</td>\n    </tr>\n    <tr>\n      <th>1467</th>\n      <td>{'ZRH', 'STR'}</td>\n      <td>45.0</td>\n      <td>ZRH</td>\n      <td>STR</td>\n      <td>ZRH</td>\n      <td>Zürich</td>\n    </tr>\n    <tr>\n      <th>1468</th>\n      <td>{'ZTH', 'ATH'}</td>\n      <td>62.5</td>\n      <td>ZTH</td>\n      <td>ATH</td>\n      <td>ZTH</td>\n      <td>Pátra</td>\n    </tr>\n  </tbody>\n</table>\n<p>1469 rows × 6 columns</p>\n</div>"
     },
     "execution_count": 103,
     "metadata": {},
     "output_type": "execute_result"
    }
   ],
   "source": [
    "# add departure city names\n",
    "flights_nearest = pd.merge(flights, code_to_city, left_on='departure airport', right_on='iata_code', how='inner')\n",
    "flights_nearest.drop(columns=['departure city', 'arrival city'], inplace=True) # remove previous city names\n",
    "flights_nearest.rename(columns={'nearest city': 'departure city'}, inplace=True) # rename new city names\n",
    "flights_nearest"
   ],
   "metadata": {
    "collapsed": false,
    "ExecuteTime": {
     "end_time": "2024-01-22T21:22:12.560290Z",
     "start_time": "2024-01-22T21:22:12.533433Z"
    }
   },
   "id": "a01b570e95f8ca28",
   "execution_count": 103
  },
  {
   "cell_type": "code",
   "outputs": [
    {
     "data": {
      "text/plain": "               route   time departure airport arrival airport iata_code_x  \\\n0     {'AAL', 'AMS'}   85.0               AAL             AMS         AAL   \n1     {'AAQ', 'LED'}  170.0               AAQ             LED         AAQ   \n2     {'AMS', 'ABZ'}   85.0               AMS             ABZ         AMS   \n3     {'ABZ', 'LGW'}   95.0               ABZ             LGW         ABZ   \n4     {'ACE', 'AGP'}  130.0               ACE             AGP         ACE   \n...              ...    ...               ...             ...         ...   \n1464  {'ZRH', 'OTP'}  150.0               ZRH             OTP         ZRH   \n1465  {'ZRH', 'PRN'}  127.5               ZRH             PRN         ZRH   \n1466  {'ZRH', 'RVN'}  205.0               ZRH             RVN         ZRH   \n1467  {'ZRH', 'STR'}   45.0               ZRH             STR         ZRH   \n1468  {'ZTH', 'ATH'}   62.5               ZTH             ATH         ZTH   \n\n     departure city iata_code_y      nearest city  \n0            Aarhus         AMS         Hoofddorp  \n1      Novorossiysk         LED  Saint Petersburg  \n2         Hoofddorp         ABZ          Aberdeen  \n3          Aberdeen         LGW           Croydon  \n4        Las Palmas         AGP            Málaga  \n...             ...         ...               ...  \n1464         Zürich         OTP         Bucharest  \n1465         Zürich         PRN          Pristina  \n1466         Zürich         RVN              Oulu  \n1467         Zürich         STR         Stuttgart  \n1468          Pátra         ATH            Athens  \n\n[1469 rows x 8 columns]",
      "text/html": "<div>\n<style scoped>\n    .dataframe tbody tr th:only-of-type {\n        vertical-align: middle;\n    }\n\n    .dataframe tbody tr th {\n        vertical-align: top;\n    }\n\n    .dataframe thead th {\n        text-align: right;\n    }\n</style>\n<table border=\"1\" class=\"dataframe\">\n  <thead>\n    <tr style=\"text-align: right;\">\n      <th></th>\n      <th>route</th>\n      <th>time</th>\n      <th>departure airport</th>\n      <th>arrival airport</th>\n      <th>iata_code_x</th>\n      <th>departure city</th>\n      <th>iata_code_y</th>\n      <th>nearest city</th>\n    </tr>\n  </thead>\n  <tbody>\n    <tr>\n      <th>0</th>\n      <td>{'AAL', 'AMS'}</td>\n      <td>85.0</td>\n      <td>AAL</td>\n      <td>AMS</td>\n      <td>AAL</td>\n      <td>Aarhus</td>\n      <td>AMS</td>\n      <td>Hoofddorp</td>\n    </tr>\n    <tr>\n      <th>1</th>\n      <td>{'AAQ', 'LED'}</td>\n      <td>170.0</td>\n      <td>AAQ</td>\n      <td>LED</td>\n      <td>AAQ</td>\n      <td>Novorossiysk</td>\n      <td>LED</td>\n      <td>Saint Petersburg</td>\n    </tr>\n    <tr>\n      <th>2</th>\n      <td>{'AMS', 'ABZ'}</td>\n      <td>85.0</td>\n      <td>AMS</td>\n      <td>ABZ</td>\n      <td>AMS</td>\n      <td>Hoofddorp</td>\n      <td>ABZ</td>\n      <td>Aberdeen</td>\n    </tr>\n    <tr>\n      <th>3</th>\n      <td>{'ABZ', 'LGW'}</td>\n      <td>95.0</td>\n      <td>ABZ</td>\n      <td>LGW</td>\n      <td>ABZ</td>\n      <td>Aberdeen</td>\n      <td>LGW</td>\n      <td>Croydon</td>\n    </tr>\n    <tr>\n      <th>4</th>\n      <td>{'ACE', 'AGP'}</td>\n      <td>130.0</td>\n      <td>ACE</td>\n      <td>AGP</td>\n      <td>ACE</td>\n      <td>Las Palmas</td>\n      <td>AGP</td>\n      <td>Málaga</td>\n    </tr>\n    <tr>\n      <th>...</th>\n      <td>...</td>\n      <td>...</td>\n      <td>...</td>\n      <td>...</td>\n      <td>...</td>\n      <td>...</td>\n      <td>...</td>\n      <td>...</td>\n    </tr>\n    <tr>\n      <th>1464</th>\n      <td>{'ZRH', 'OTP'}</td>\n      <td>150.0</td>\n      <td>ZRH</td>\n      <td>OTP</td>\n      <td>ZRH</td>\n      <td>Zürich</td>\n      <td>OTP</td>\n      <td>Bucharest</td>\n    </tr>\n    <tr>\n      <th>1465</th>\n      <td>{'ZRH', 'PRN'}</td>\n      <td>127.5</td>\n      <td>ZRH</td>\n      <td>PRN</td>\n      <td>ZRH</td>\n      <td>Zürich</td>\n      <td>PRN</td>\n      <td>Pristina</td>\n    </tr>\n    <tr>\n      <th>1466</th>\n      <td>{'ZRH', 'RVN'}</td>\n      <td>205.0</td>\n      <td>ZRH</td>\n      <td>RVN</td>\n      <td>ZRH</td>\n      <td>Zürich</td>\n      <td>RVN</td>\n      <td>Oulu</td>\n    </tr>\n    <tr>\n      <th>1467</th>\n      <td>{'ZRH', 'STR'}</td>\n      <td>45.0</td>\n      <td>ZRH</td>\n      <td>STR</td>\n      <td>ZRH</td>\n      <td>Zürich</td>\n      <td>STR</td>\n      <td>Stuttgart</td>\n    </tr>\n    <tr>\n      <th>1468</th>\n      <td>{'ZTH', 'ATH'}</td>\n      <td>62.5</td>\n      <td>ZTH</td>\n      <td>ATH</td>\n      <td>ZTH</td>\n      <td>Pátra</td>\n      <td>ATH</td>\n      <td>Athens</td>\n    </tr>\n  </tbody>\n</table>\n<p>1469 rows × 8 columns</p>\n</div>"
     },
     "execution_count": 104,
     "metadata": {},
     "output_type": "execute_result"
    }
   ],
   "source": [
    "\n",
    "# add arrival city names\n",
    "flights_nearest = pd.merge(flights_nearest, code_to_city, left_on='arrival airport', right_on='iata_code', how='inner')\n",
    "flights_nearest"
   ],
   "metadata": {
    "collapsed": false,
    "ExecuteTime": {
     "end_time": "2024-01-22T21:22:52.703532Z",
     "start_time": "2024-01-22T21:22:52.630915Z"
    }
   },
   "id": "edf5ea1de135ad86",
   "execution_count": 104
  },
  {
   "cell_type": "code",
   "outputs": [
    {
     "data": {
      "text/plain": "               route   time departure airport arrival airport iata_code_x  \\\n0     {'AAL', 'AMS'}   85.0               AAL             AMS         AAL   \n1     {'AAQ', 'LED'}  170.0               AAQ             LED         AAQ   \n2     {'AMS', 'ABZ'}   85.0               AMS             ABZ         AMS   \n3     {'ABZ', 'LGW'}   95.0               ABZ             LGW         ABZ   \n4     {'ACE', 'AGP'}  130.0               ACE             AGP         ACE   \n...              ...    ...               ...             ...         ...   \n1464  {'ZRH', 'OTP'}  150.0               ZRH             OTP         ZRH   \n1465  {'ZRH', 'PRN'}  127.5               ZRH             PRN         ZRH   \n1466  {'ZRH', 'RVN'}  205.0               ZRH             RVN         ZRH   \n1467  {'ZRH', 'STR'}   45.0               ZRH             STR         ZRH   \n1468  {'ZTH', 'ATH'}   62.5               ZTH             ATH         ZTH   \n\n     departure city iata_code_y      arrival city  \n0            Aarhus         AMS         Hoofddorp  \n1      Novorossiysk         LED  Saint Petersburg  \n2         Hoofddorp         ABZ          Aberdeen  \n3          Aberdeen         LGW           Croydon  \n4        Las Palmas         AGP            Málaga  \n...             ...         ...               ...  \n1464         Zürich         OTP         Bucharest  \n1465         Zürich         PRN          Pristina  \n1466         Zürich         RVN              Oulu  \n1467         Zürich         STR         Stuttgart  \n1468          Pátra         ATH            Athens  \n\n[1469 rows x 8 columns]",
      "text/html": "<div>\n<style scoped>\n    .dataframe tbody tr th:only-of-type {\n        vertical-align: middle;\n    }\n\n    .dataframe tbody tr th {\n        vertical-align: top;\n    }\n\n    .dataframe thead th {\n        text-align: right;\n    }\n</style>\n<table border=\"1\" class=\"dataframe\">\n  <thead>\n    <tr style=\"text-align: right;\">\n      <th></th>\n      <th>route</th>\n      <th>time</th>\n      <th>departure airport</th>\n      <th>arrival airport</th>\n      <th>iata_code_x</th>\n      <th>departure city</th>\n      <th>iata_code_y</th>\n      <th>arrival city</th>\n    </tr>\n  </thead>\n  <tbody>\n    <tr>\n      <th>0</th>\n      <td>{'AAL', 'AMS'}</td>\n      <td>85.0</td>\n      <td>AAL</td>\n      <td>AMS</td>\n      <td>AAL</td>\n      <td>Aarhus</td>\n      <td>AMS</td>\n      <td>Hoofddorp</td>\n    </tr>\n    <tr>\n      <th>1</th>\n      <td>{'AAQ', 'LED'}</td>\n      <td>170.0</td>\n      <td>AAQ</td>\n      <td>LED</td>\n      <td>AAQ</td>\n      <td>Novorossiysk</td>\n      <td>LED</td>\n      <td>Saint Petersburg</td>\n    </tr>\n    <tr>\n      <th>2</th>\n      <td>{'AMS', 'ABZ'}</td>\n      <td>85.0</td>\n      <td>AMS</td>\n      <td>ABZ</td>\n      <td>AMS</td>\n      <td>Hoofddorp</td>\n      <td>ABZ</td>\n      <td>Aberdeen</td>\n    </tr>\n    <tr>\n      <th>3</th>\n      <td>{'ABZ', 'LGW'}</td>\n      <td>95.0</td>\n      <td>ABZ</td>\n      <td>LGW</td>\n      <td>ABZ</td>\n      <td>Aberdeen</td>\n      <td>LGW</td>\n      <td>Croydon</td>\n    </tr>\n    <tr>\n      <th>4</th>\n      <td>{'ACE', 'AGP'}</td>\n      <td>130.0</td>\n      <td>ACE</td>\n      <td>AGP</td>\n      <td>ACE</td>\n      <td>Las Palmas</td>\n      <td>AGP</td>\n      <td>Málaga</td>\n    </tr>\n    <tr>\n      <th>...</th>\n      <td>...</td>\n      <td>...</td>\n      <td>...</td>\n      <td>...</td>\n      <td>...</td>\n      <td>...</td>\n      <td>...</td>\n      <td>...</td>\n    </tr>\n    <tr>\n      <th>1464</th>\n      <td>{'ZRH', 'OTP'}</td>\n      <td>150.0</td>\n      <td>ZRH</td>\n      <td>OTP</td>\n      <td>ZRH</td>\n      <td>Zürich</td>\n      <td>OTP</td>\n      <td>Bucharest</td>\n    </tr>\n    <tr>\n      <th>1465</th>\n      <td>{'ZRH', 'PRN'}</td>\n      <td>127.5</td>\n      <td>ZRH</td>\n      <td>PRN</td>\n      <td>ZRH</td>\n      <td>Zürich</td>\n      <td>PRN</td>\n      <td>Pristina</td>\n    </tr>\n    <tr>\n      <th>1466</th>\n      <td>{'ZRH', 'RVN'}</td>\n      <td>205.0</td>\n      <td>ZRH</td>\n      <td>RVN</td>\n      <td>ZRH</td>\n      <td>Zürich</td>\n      <td>RVN</td>\n      <td>Oulu</td>\n    </tr>\n    <tr>\n      <th>1467</th>\n      <td>{'ZRH', 'STR'}</td>\n      <td>45.0</td>\n      <td>ZRH</td>\n      <td>STR</td>\n      <td>ZRH</td>\n      <td>Zürich</td>\n      <td>STR</td>\n      <td>Stuttgart</td>\n    </tr>\n    <tr>\n      <th>1468</th>\n      <td>{'ZTH', 'ATH'}</td>\n      <td>62.5</td>\n      <td>ZTH</td>\n      <td>ATH</td>\n      <td>ZTH</td>\n      <td>Pátra</td>\n      <td>ATH</td>\n      <td>Athens</td>\n    </tr>\n  </tbody>\n</table>\n<p>1469 rows × 8 columns</p>\n</div>"
     },
     "execution_count": 105,
     "metadata": {},
     "output_type": "execute_result"
    }
   ],
   "source": [
    "flights_nearest.rename(columns={'nearest city': 'arrival city'}, inplace=True) # rename new city names\n",
    "flights_nearest"
   ],
   "metadata": {
    "collapsed": false,
    "ExecuteTime": {
     "end_time": "2024-01-22T21:23:10.637674Z",
     "start_time": "2024-01-22T21:23:10.580200Z"
    }
   },
   "id": "34f90b2b29ad0b87",
   "execution_count": 105
  },
  {
   "cell_type": "code",
   "outputs": [
    {
     "data": {
      "text/plain": "               route   time departure airport arrival airport departure city  \\\n0     {'AAL', 'AMS'}   85.0               AAL             AMS         Aarhus   \n1     {'AAQ', 'LED'}  170.0               AAQ             LED   Novorossiysk   \n2     {'AMS', 'ABZ'}   85.0               AMS             ABZ      Hoofddorp   \n3     {'ABZ', 'LGW'}   95.0               ABZ             LGW       Aberdeen   \n4     {'ACE', 'AGP'}  130.0               ACE             AGP     Las Palmas   \n...              ...    ...               ...             ...            ...   \n1464  {'ZRH', 'OTP'}  150.0               ZRH             OTP         Zürich   \n1465  {'ZRH', 'PRN'}  127.5               ZRH             PRN         Zürich   \n1466  {'ZRH', 'RVN'}  205.0               ZRH             RVN         Zürich   \n1467  {'ZRH', 'STR'}   45.0               ZRH             STR         Zürich   \n1468  {'ZTH', 'ATH'}   62.5               ZTH             ATH          Pátra   \n\n          arrival city  \n0            Hoofddorp  \n1     Saint Petersburg  \n2             Aberdeen  \n3              Croydon  \n4               Málaga  \n...                ...  \n1464         Bucharest  \n1465          Pristina  \n1466              Oulu  \n1467         Stuttgart  \n1468            Athens  \n\n[1469 rows x 6 columns]",
      "text/html": "<div>\n<style scoped>\n    .dataframe tbody tr th:only-of-type {\n        vertical-align: middle;\n    }\n\n    .dataframe tbody tr th {\n        vertical-align: top;\n    }\n\n    .dataframe thead th {\n        text-align: right;\n    }\n</style>\n<table border=\"1\" class=\"dataframe\">\n  <thead>\n    <tr style=\"text-align: right;\">\n      <th></th>\n      <th>route</th>\n      <th>time</th>\n      <th>departure airport</th>\n      <th>arrival airport</th>\n      <th>departure city</th>\n      <th>arrival city</th>\n    </tr>\n  </thead>\n  <tbody>\n    <tr>\n      <th>0</th>\n      <td>{'AAL', 'AMS'}</td>\n      <td>85.0</td>\n      <td>AAL</td>\n      <td>AMS</td>\n      <td>Aarhus</td>\n      <td>Hoofddorp</td>\n    </tr>\n    <tr>\n      <th>1</th>\n      <td>{'AAQ', 'LED'}</td>\n      <td>170.0</td>\n      <td>AAQ</td>\n      <td>LED</td>\n      <td>Novorossiysk</td>\n      <td>Saint Petersburg</td>\n    </tr>\n    <tr>\n      <th>2</th>\n      <td>{'AMS', 'ABZ'}</td>\n      <td>85.0</td>\n      <td>AMS</td>\n      <td>ABZ</td>\n      <td>Hoofddorp</td>\n      <td>Aberdeen</td>\n    </tr>\n    <tr>\n      <th>3</th>\n      <td>{'ABZ', 'LGW'}</td>\n      <td>95.0</td>\n      <td>ABZ</td>\n      <td>LGW</td>\n      <td>Aberdeen</td>\n      <td>Croydon</td>\n    </tr>\n    <tr>\n      <th>4</th>\n      <td>{'ACE', 'AGP'}</td>\n      <td>130.0</td>\n      <td>ACE</td>\n      <td>AGP</td>\n      <td>Las Palmas</td>\n      <td>Málaga</td>\n    </tr>\n    <tr>\n      <th>...</th>\n      <td>...</td>\n      <td>...</td>\n      <td>...</td>\n      <td>...</td>\n      <td>...</td>\n      <td>...</td>\n    </tr>\n    <tr>\n      <th>1464</th>\n      <td>{'ZRH', 'OTP'}</td>\n      <td>150.0</td>\n      <td>ZRH</td>\n      <td>OTP</td>\n      <td>Zürich</td>\n      <td>Bucharest</td>\n    </tr>\n    <tr>\n      <th>1465</th>\n      <td>{'ZRH', 'PRN'}</td>\n      <td>127.5</td>\n      <td>ZRH</td>\n      <td>PRN</td>\n      <td>Zürich</td>\n      <td>Pristina</td>\n    </tr>\n    <tr>\n      <th>1466</th>\n      <td>{'ZRH', 'RVN'}</td>\n      <td>205.0</td>\n      <td>ZRH</td>\n      <td>RVN</td>\n      <td>Zürich</td>\n      <td>Oulu</td>\n    </tr>\n    <tr>\n      <th>1467</th>\n      <td>{'ZRH', 'STR'}</td>\n      <td>45.0</td>\n      <td>ZRH</td>\n      <td>STR</td>\n      <td>Zürich</td>\n      <td>Stuttgart</td>\n    </tr>\n    <tr>\n      <th>1468</th>\n      <td>{'ZTH', 'ATH'}</td>\n      <td>62.5</td>\n      <td>ZTH</td>\n      <td>ATH</td>\n      <td>Pátra</td>\n      <td>Athens</td>\n    </tr>\n  </tbody>\n</table>\n<p>1469 rows × 6 columns</p>\n</div>"
     },
     "execution_count": 106,
     "metadata": {},
     "output_type": "execute_result"
    }
   ],
   "source": [
    "flights_nearest.drop(columns=['iata_code_x', 'iata_code_y'], inplace=True) # remove redundant columns\n",
    "flights_nearest"
   ],
   "metadata": {
    "collapsed": false,
    "ExecuteTime": {
     "end_time": "2024-01-22T21:24:08.252192Z",
     "start_time": "2024-01-22T21:24:08.235467Z"
    }
   },
   "id": "e8553c9277d4500a",
   "execution_count": 106
  },
  {
   "cell_type": "markdown",
   "source": [
    "### Writing to csv"
   ],
   "metadata": {
    "collapsed": false
   },
   "id": "6bb15ad2844a8ffd"
  },
  {
   "cell_type": "code",
   "outputs": [],
   "source": [
    "flights_nearest[['departure city', 'arrival city']].to_csv(\"../datasets/geo_flight_routes.csv\",index=False, header=True)"
   ],
   "metadata": {
    "collapsed": false,
    "ExecuteTime": {
     "end_time": "2024-01-22T21:25:11.611821Z",
     "start_time": "2024-01-22T21:25:11.590595Z"
    }
   },
   "id": "544e9b3e5e328839",
   "execution_count": 107
  },
  {
   "cell_type": "markdown",
   "source": [
    "### Biggest city within 50 km"
   ],
   "metadata": {
    "collapsed": false
   },
   "id": "57a5515b29b0fd9d"
  },
  {
   "cell_type": "code",
   "outputs": [],
   "source": [
    "gdf_all_cities = gpd.GeoDataFrame(cities_info, geometry=gpd.points_from_xy(cities_info.longitude, cities_info.latitude))"
   ],
   "metadata": {
    "collapsed": false,
    "ExecuteTime": {
     "end_time": "2024-01-22T20:58:55.980498Z",
     "start_time": "2024-01-22T20:58:55.964613Z"
    }
   },
   "id": "e33d35569d8e1c3f",
   "execution_count": 86
  },
  {
   "cell_type": "code",
   "outputs": [],
   "source": [
    "gdf_airports_crs = gdf_airports.set_crs(epsg=4326).to_crs(epsg=3035)\n",
    "gdf_all_cities_crs = gdf_all_cities.set_crs(epsg=4326).to_crs(epsg=3035)"
   ],
   "metadata": {
    "collapsed": false,
    "ExecuteTime": {
     "end_time": "2024-01-22T21:13:41.609826Z",
     "start_time": "2024-01-22T21:13:41.556681Z"
    }
   },
   "id": "d203d8d4a35ba69f",
   "execution_count": 90
  },
  {
   "cell_type": "code",
   "outputs": [
    {
     "data": {
      "text/plain": "          id ident            type  \\\n13969   4614  BKPR  medium_airport   \n22121   2155  EBBR   large_airport   \n22129   2157  EBCI  medium_airport   \n22177   2162  EBLG  medium_airport   \n22398   2210  EDDC  medium_airport   \n...      ...   ...             ...   \n72929  26408  UWOO  medium_airport   \n72930  26409  UWOR  medium_airport   \n72932  32155  UWPP  medium_airport   \n72944  26411  UWUU   large_airport   \n72951  26412  UWWW   large_airport   \n\n                                              name   latitude  longitude  \\\n13969  Priština Adem Jashari International Airport  42.572800  21.035801   \n22121                             Brussels Airport  50.901402   4.484440   \n22129             Brussels South Charleroi Airport  50.460982   4.457158   \n22177                                Liège Airport  50.638574   5.443897   \n22398                              Dresden Airport  51.134123  13.767831   \n...                                            ...        ...        ...   \n72929                     Orenburg Central Airport  51.795799  55.456699   \n72930                                 Orsk Airport  51.072498  58.595600   \n72932                                Penza Airport  53.110600  45.021099   \n72944                    Ufa International Airport  54.557499  55.874401   \n72951               Kurumoch International Airport  53.504902  50.164299   \n\n       elevation_ft continent iso_country iso_region    municipality  \\\n13969        1789.0        EU          XK      XK-01       Prishtina   \n22121         175.0        EU          BE     BE-BRU        Zaventem   \n22129         614.0        EU          BE     BE-WHT       Charleroi   \n22177         659.0        EU          BE     BE-WLG  Grâce-Hollogne   \n22398         755.0        EU          DE      DE-SN         Dresden   \n...             ...       ...         ...        ...             ...   \n72929         387.0        EU          RU     RU-ORE        Orenburg   \n72930         909.0        AS          RU     RU-ORE            Orsk   \n72932         614.0        EU          RU     RU-PNZ           Penza   \n72944         449.0        EU          RU      RU-BA             Ufa   \n72951         477.0        EU          RU     RU-SAM          Samara   \n\n      scheduled_service gps_code iata_code local_code  \\\n13969               yes     BKPR       PRN        NaN   \n22121               yes     EBBR       BRU        NaN   \n22129               yes     EBCI       CRL        NaN   \n22177               yes     EBLG       LGG        NaN   \n22398               yes     EDDC       DRS        NaN   \n...                 ...      ...       ...        ...   \n72929               yes     UWOO       REN        NaN   \n72930               yes     UWOR       OSW        NaN   \n72932               yes     UWPP       PEZ        NaN   \n72944               yes     UWUU       UFA        NaN   \n72951               yes     UWWW       KUF        NaN   \n\n                                               home_link  \\\n13969                    http://www.airportpristina.com/   \n22121                  http://www.brusselsairport.be/en/   \n22129  http://www.charleroi-airport.com/doc.php?nd=o2...   \n22177                        http://www.liegeairport.be/   \n22398        http://www.dresden-airport.de/en/index.html   \n...                                                  ...   \n72929                    http://www.airoport.orenair.ru/   \n72930                                                NaN   \n72932                                                NaN   \n72944                       http://www.airportufa.ru/en/   \n72951                       http://airport.samara.ru/en/   \n\n                                          wikipedia_link  \\\n13969  https://en.wikipedia.org/wiki/Pristina_Interna...   \n22121     https://en.wikipedia.org/wiki/Brussels_Airport   \n22129  https://en.wikipedia.org/wiki/Brussels_South_C...   \n22177   https://en.wikipedia.org/wiki/Li%C3%A8ge_Airport   \n22398      https://en.wikipedia.org/wiki/Dresden_Airport   \n...                                                  ...   \n72929  https://en.wikipedia.org/wiki/Orenburg_Tsentra...   \n72930         https://en.wikipedia.org/wiki/Orsk_Airport   \n72932        https://en.wikipedia.org/wiki/Penza_Airport   \n72944  https://en.wikipedia.org/wiki/Ufa_Internationa...   \n72951  https://en.wikipedia.org/wiki/Kurumoch_Interna...   \n\n                                                keywords  \\\n13969                   LYPR, Pristina, Slatina Air Base   \n22121                  Brussels National, Zaventem, EBMB   \n22129                                  Gosselies Airport   \n22177                                            Bierset   \n22398                                                NaN   \n...                                                  ...   \n72929  Orenburg Tsentralny Airport, Аэропорт Центральный   \n72930                                                NaN   \n72932                                        Penza South   \n72944                         Международный аэропорт Уфа   \n72951                                                NaN   \n\n                              geometry  \\\n13969  POINT (5226301.486 2229520.157)   \n22121  POINT (3933414.530 3102393.242)   \n22129  POINT (3927823.017 3053663.802)   \n22177  POINT (3998919.053 3068560.679)   \n22398  POINT (4584598.199 3120458.122)   \n...                                ...   \n72929  POINT (7222397.879 4141882.502)   \n72930  POINT (7437485.368 4209138.698)   \n72932  POINT (6561039.408 3891210.198)   \n72944  POINT (7058342.159 4413193.941)   \n72951  POINT (6828322.730 4101719.109)   \n\n                                                  buffer  \n13969  POLYGON ((10226301.486 2229520.157, 10202225.1...  \n22121  POLYGON ((8933414.530 3102393.242, 8909338.163...  \n22129  POLYGON ((8927823.017 3053663.802, 8903746.651...  \n22177  POLYGON ((8998919.053 3068560.679, 8974842.686...  \n22398  POLYGON ((9584598.199 3120458.122, 9560521.833...  \n...                                                  ...  \n72929  POLYGON ((12222397.879 4141882.502, 12198321.5...  \n72930  POLYGON ((12437485.368 4209138.698, 12413409.0...  \n72932  POLYGON ((11561039.408 3891210.198, 11536963.0...  \n72944  POLYGON ((12058342.159 4413193.941, 12034265.7...  \n72951  POLYGON ((11828322.730 4101719.109, 11804246.3...  \n\n[313 rows x 20 columns]",
      "text/html": "<div>\n<style scoped>\n    .dataframe tbody tr th:only-of-type {\n        vertical-align: middle;\n    }\n\n    .dataframe tbody tr th {\n        vertical-align: top;\n    }\n\n    .dataframe thead th {\n        text-align: right;\n    }\n</style>\n<table border=\"1\" class=\"dataframe\">\n  <thead>\n    <tr style=\"text-align: right;\">\n      <th></th>\n      <th>id</th>\n      <th>ident</th>\n      <th>type</th>\n      <th>name</th>\n      <th>latitude</th>\n      <th>longitude</th>\n      <th>elevation_ft</th>\n      <th>continent</th>\n      <th>iso_country</th>\n      <th>iso_region</th>\n      <th>municipality</th>\n      <th>scheduled_service</th>\n      <th>gps_code</th>\n      <th>iata_code</th>\n      <th>local_code</th>\n      <th>home_link</th>\n      <th>wikipedia_link</th>\n      <th>keywords</th>\n      <th>geometry</th>\n      <th>buffer</th>\n    </tr>\n  </thead>\n  <tbody>\n    <tr>\n      <th>13969</th>\n      <td>4614</td>\n      <td>BKPR</td>\n      <td>medium_airport</td>\n      <td>Priština Adem Jashari International Airport</td>\n      <td>42.572800</td>\n      <td>21.035801</td>\n      <td>1789.0</td>\n      <td>EU</td>\n      <td>XK</td>\n      <td>XK-01</td>\n      <td>Prishtina</td>\n      <td>yes</td>\n      <td>BKPR</td>\n      <td>PRN</td>\n      <td>NaN</td>\n      <td>http://www.airportpristina.com/</td>\n      <td>https://en.wikipedia.org/wiki/Pristina_Interna...</td>\n      <td>LYPR, Pristina, Slatina Air Base</td>\n      <td>POINT (5226301.486 2229520.157)</td>\n      <td>POLYGON ((10226301.486 2229520.157, 10202225.1...</td>\n    </tr>\n    <tr>\n      <th>22121</th>\n      <td>2155</td>\n      <td>EBBR</td>\n      <td>large_airport</td>\n      <td>Brussels Airport</td>\n      <td>50.901402</td>\n      <td>4.484440</td>\n      <td>175.0</td>\n      <td>EU</td>\n      <td>BE</td>\n      <td>BE-BRU</td>\n      <td>Zaventem</td>\n      <td>yes</td>\n      <td>EBBR</td>\n      <td>BRU</td>\n      <td>NaN</td>\n      <td>http://www.brusselsairport.be/en/</td>\n      <td>https://en.wikipedia.org/wiki/Brussels_Airport</td>\n      <td>Brussels National, Zaventem, EBMB</td>\n      <td>POINT (3933414.530 3102393.242)</td>\n      <td>POLYGON ((8933414.530 3102393.242, 8909338.163...</td>\n    </tr>\n    <tr>\n      <th>22129</th>\n      <td>2157</td>\n      <td>EBCI</td>\n      <td>medium_airport</td>\n      <td>Brussels South Charleroi Airport</td>\n      <td>50.460982</td>\n      <td>4.457158</td>\n      <td>614.0</td>\n      <td>EU</td>\n      <td>BE</td>\n      <td>BE-WHT</td>\n      <td>Charleroi</td>\n      <td>yes</td>\n      <td>EBCI</td>\n      <td>CRL</td>\n      <td>NaN</td>\n      <td>http://www.charleroi-airport.com/doc.php?nd=o2...</td>\n      <td>https://en.wikipedia.org/wiki/Brussels_South_C...</td>\n      <td>Gosselies Airport</td>\n      <td>POINT (3927823.017 3053663.802)</td>\n      <td>POLYGON ((8927823.017 3053663.802, 8903746.651...</td>\n    </tr>\n    <tr>\n      <th>22177</th>\n      <td>2162</td>\n      <td>EBLG</td>\n      <td>medium_airport</td>\n      <td>Liège Airport</td>\n      <td>50.638574</td>\n      <td>5.443897</td>\n      <td>659.0</td>\n      <td>EU</td>\n      <td>BE</td>\n      <td>BE-WLG</td>\n      <td>Grâce-Hollogne</td>\n      <td>yes</td>\n      <td>EBLG</td>\n      <td>LGG</td>\n      <td>NaN</td>\n      <td>http://www.liegeairport.be/</td>\n      <td>https://en.wikipedia.org/wiki/Li%C3%A8ge_Airport</td>\n      <td>Bierset</td>\n      <td>POINT (3998919.053 3068560.679)</td>\n      <td>POLYGON ((8998919.053 3068560.679, 8974842.686...</td>\n    </tr>\n    <tr>\n      <th>22398</th>\n      <td>2210</td>\n      <td>EDDC</td>\n      <td>medium_airport</td>\n      <td>Dresden Airport</td>\n      <td>51.134123</td>\n      <td>13.767831</td>\n      <td>755.0</td>\n      <td>EU</td>\n      <td>DE</td>\n      <td>DE-SN</td>\n      <td>Dresden</td>\n      <td>yes</td>\n      <td>EDDC</td>\n      <td>DRS</td>\n      <td>NaN</td>\n      <td>http://www.dresden-airport.de/en/index.html</td>\n      <td>https://en.wikipedia.org/wiki/Dresden_Airport</td>\n      <td>NaN</td>\n      <td>POINT (4584598.199 3120458.122)</td>\n      <td>POLYGON ((9584598.199 3120458.122, 9560521.833...</td>\n    </tr>\n    <tr>\n      <th>...</th>\n      <td>...</td>\n      <td>...</td>\n      <td>...</td>\n      <td>...</td>\n      <td>...</td>\n      <td>...</td>\n      <td>...</td>\n      <td>...</td>\n      <td>...</td>\n      <td>...</td>\n      <td>...</td>\n      <td>...</td>\n      <td>...</td>\n      <td>...</td>\n      <td>...</td>\n      <td>...</td>\n      <td>...</td>\n      <td>...</td>\n      <td>...</td>\n      <td>...</td>\n    </tr>\n    <tr>\n      <th>72929</th>\n      <td>26408</td>\n      <td>UWOO</td>\n      <td>medium_airport</td>\n      <td>Orenburg Central Airport</td>\n      <td>51.795799</td>\n      <td>55.456699</td>\n      <td>387.0</td>\n      <td>EU</td>\n      <td>RU</td>\n      <td>RU-ORE</td>\n      <td>Orenburg</td>\n      <td>yes</td>\n      <td>UWOO</td>\n      <td>REN</td>\n      <td>NaN</td>\n      <td>http://www.airoport.orenair.ru/</td>\n      <td>https://en.wikipedia.org/wiki/Orenburg_Tsentra...</td>\n      <td>Orenburg Tsentralny Airport, Аэропорт Центральный</td>\n      <td>POINT (7222397.879 4141882.502)</td>\n      <td>POLYGON ((12222397.879 4141882.502, 12198321.5...</td>\n    </tr>\n    <tr>\n      <th>72930</th>\n      <td>26409</td>\n      <td>UWOR</td>\n      <td>medium_airport</td>\n      <td>Orsk Airport</td>\n      <td>51.072498</td>\n      <td>58.595600</td>\n      <td>909.0</td>\n      <td>AS</td>\n      <td>RU</td>\n      <td>RU-ORE</td>\n      <td>Orsk</td>\n      <td>yes</td>\n      <td>UWOR</td>\n      <td>OSW</td>\n      <td>NaN</td>\n      <td>NaN</td>\n      <td>https://en.wikipedia.org/wiki/Orsk_Airport</td>\n      <td>NaN</td>\n      <td>POINT (7437485.368 4209138.698)</td>\n      <td>POLYGON ((12437485.368 4209138.698, 12413409.0...</td>\n    </tr>\n    <tr>\n      <th>72932</th>\n      <td>32155</td>\n      <td>UWPP</td>\n      <td>medium_airport</td>\n      <td>Penza Airport</td>\n      <td>53.110600</td>\n      <td>45.021099</td>\n      <td>614.0</td>\n      <td>EU</td>\n      <td>RU</td>\n      <td>RU-PNZ</td>\n      <td>Penza</td>\n      <td>yes</td>\n      <td>UWPP</td>\n      <td>PEZ</td>\n      <td>NaN</td>\n      <td>NaN</td>\n      <td>https://en.wikipedia.org/wiki/Penza_Airport</td>\n      <td>Penza South</td>\n      <td>POINT (6561039.408 3891210.198)</td>\n      <td>POLYGON ((11561039.408 3891210.198, 11536963.0...</td>\n    </tr>\n    <tr>\n      <th>72944</th>\n      <td>26411</td>\n      <td>UWUU</td>\n      <td>large_airport</td>\n      <td>Ufa International Airport</td>\n      <td>54.557499</td>\n      <td>55.874401</td>\n      <td>449.0</td>\n      <td>EU</td>\n      <td>RU</td>\n      <td>RU-BA</td>\n      <td>Ufa</td>\n      <td>yes</td>\n      <td>UWUU</td>\n      <td>UFA</td>\n      <td>NaN</td>\n      <td>http://www.airportufa.ru/en/</td>\n      <td>https://en.wikipedia.org/wiki/Ufa_Internationa...</td>\n      <td>Международный аэропорт Уфа</td>\n      <td>POINT (7058342.159 4413193.941)</td>\n      <td>POLYGON ((12058342.159 4413193.941, 12034265.7...</td>\n    </tr>\n    <tr>\n      <th>72951</th>\n      <td>26412</td>\n      <td>UWWW</td>\n      <td>large_airport</td>\n      <td>Kurumoch International Airport</td>\n      <td>53.504902</td>\n      <td>50.164299</td>\n      <td>477.0</td>\n      <td>EU</td>\n      <td>RU</td>\n      <td>RU-SAM</td>\n      <td>Samara</td>\n      <td>yes</td>\n      <td>UWWW</td>\n      <td>KUF</td>\n      <td>NaN</td>\n      <td>http://airport.samara.ru/en/</td>\n      <td>https://en.wikipedia.org/wiki/Kurumoch_Interna...</td>\n      <td>NaN</td>\n      <td>POINT (6828322.730 4101719.109)</td>\n      <td>POLYGON ((11828322.730 4101719.109, 11804246.3...</td>\n    </tr>\n  </tbody>\n</table>\n<p>313 rows × 20 columns</p>\n</div>"
     },
     "execution_count": 116,
     "metadata": {},
     "output_type": "execute_result"
    }
   ],
   "source": [
    "gdf_airports_crs"
   ],
   "metadata": {
    "collapsed": false,
    "ExecuteTime": {
     "end_time": "2024-01-22T22:22:10.177073Z",
     "start_time": "2024-01-22T22:22:10.136709Z"
    }
   },
   "id": "7e4e75f4d4e9f654",
   "execution_count": 116
  },
  {
   "cell_type": "markdown",
   "source": [
    "#### Within 50 using sjoin_nearest – doesn't work"
   ],
   "metadata": {
    "collapsed": false
   },
   "id": "1086c80316fee55b"
  },
  {
   "cell_type": "code",
   "outputs": [
    {
     "data": {
      "text/plain": "          id ident            type  \\\n13969   4614  BKPR  medium_airport   \n22121   2155  EBBR   large_airport   \n22129   2157  EBCI  medium_airport   \n22177   2162  EBLG  medium_airport   \n22398   2210  EDDC  medium_airport   \n...      ...   ...             ...   \n72929  26408  UWOO  medium_airport   \n72930  26409  UWOR  medium_airport   \n72932  32155  UWPP  medium_airport   \n72944  26411  UWUU   large_airport   \n72951  26412  UWWW   large_airport   \n\n                                              name  latitude_left  \\\n13969  Priština Adem Jashari International Airport      42.572800   \n22121                             Brussels Airport      50.901402   \n22129             Brussels South Charleroi Airport      50.460982   \n22177                                Liège Airport      50.638574   \n22398                              Dresden Airport      51.134123   \n...                                            ...            ...   \n72929                     Orenburg Central Airport      51.795799   \n72930                                 Orsk Airport      51.072498   \n72932                                Penza Airport      53.110600   \n72944                    Ufa International Airport      54.557499   \n72951               Kurumoch International Airport      53.504902   \n\n       longitude_left  elevation_ft continent iso_country iso_region  ...  \\\n13969       21.035801        1789.0        EU          XK      XK-01  ...   \n22121        4.484440         175.0        EU          BE     BE-BRU  ...   \n22129        4.457158         614.0        EU          BE     BE-WHT  ...   \n22177        5.443897         659.0        EU          BE     BE-WLG  ...   \n22398       13.767831         755.0        EU          DE      DE-SN  ...   \n...               ...           ...       ...         ...        ...  ...   \n72929       55.456699         387.0        EU          RU     RU-ORE  ...   \n72930       58.595600         909.0        AS          RU     RU-ORE  ...   \n72932       45.021099         614.0        EU          RU     RU-PNZ  ...   \n72944       55.874401         449.0        EU          RU      RU-BA  ...   \n72951       50.164299         477.0        EU          RU     RU-SAM  ...   \n\n                city latitude_right longitude_right  country iso2  \\\n13969  Bardhi i Madh        42.6315         21.0222   Kosovo   XK   \n22121       Zaventem        50.8833          4.4667  Belgium   BE   \n22129      Charleroi        50.4000          4.4333  Belgium   BE   \n22177            Ans        50.6625          5.5200  Belgium   BE   \n22398        Dresden        51.0500         13.7400  Germany   DE   \n...              ...            ...             ...      ...  ...   \n72929       Orenburg        51.7667         55.1000   Russia   RU   \n72930           Orsk        51.2000         58.5667   Russia   RU   \n72932          Penza        53.2000         45.0000   Russia   RU   \n72944            Ufa        54.7261         55.9475   Russia   RU   \n72951         Samara        53.2028         50.1408   Russia   RU   \n\n                  admin_name capital population population_proper  \\\n13969           Fushë Kosovë     NaN     2750.0            2750.0   \n22121               Flanders     NaN    35184.0           35184.0   \n22129               Wallonia   minor   201816.0          201816.0   \n22177               Wallonia     NaN    28238.0           28238.0   \n22398                 Saxony   admin   561922.0          561922.0   \n...                      ...     ...        ...               ...   \n72929  Orenburgskaya Oblast’   admin   564773.0          564773.0   \n72930  Orenburgskaya Oblast’     NaN   230414.0          229255.0   \n72932    Penzenskaya Oblast’   admin   523726.0          523726.0   \n72944          Bashkortostan   admin  1115560.0         1115560.0   \n72951     Samarskaya Oblast’   admin  1169719.0         1169719.0   \n\n           distance  \n13969   6593.750003  \n22121   2369.121873  \n22129   6993.130995  \n22177   6002.303618  \n22398   9561.777186  \n...             ...  \n72929  24390.377746  \n72930  14605.832867  \n72932  10188.831751  \n72944  19908.744814  \n72951  34375.804599  \n\n[274 rows x 31 columns]",
      "text/html": "<div>\n<style scoped>\n    .dataframe tbody tr th:only-of-type {\n        vertical-align: middle;\n    }\n\n    .dataframe tbody tr th {\n        vertical-align: top;\n    }\n\n    .dataframe thead th {\n        text-align: right;\n    }\n</style>\n<table border=\"1\" class=\"dataframe\">\n  <thead>\n    <tr style=\"text-align: right;\">\n      <th></th>\n      <th>id</th>\n      <th>ident</th>\n      <th>type</th>\n      <th>name</th>\n      <th>latitude_left</th>\n      <th>longitude_left</th>\n      <th>elevation_ft</th>\n      <th>continent</th>\n      <th>iso_country</th>\n      <th>iso_region</th>\n      <th>...</th>\n      <th>city</th>\n      <th>latitude_right</th>\n      <th>longitude_right</th>\n      <th>country</th>\n      <th>iso2</th>\n      <th>admin_name</th>\n      <th>capital</th>\n      <th>population</th>\n      <th>population_proper</th>\n      <th>distance</th>\n    </tr>\n  </thead>\n  <tbody>\n    <tr>\n      <th>13969</th>\n      <td>4614</td>\n      <td>BKPR</td>\n      <td>medium_airport</td>\n      <td>Priština Adem Jashari International Airport</td>\n      <td>42.572800</td>\n      <td>21.035801</td>\n      <td>1789.0</td>\n      <td>EU</td>\n      <td>XK</td>\n      <td>XK-01</td>\n      <td>...</td>\n      <td>Bardhi i Madh</td>\n      <td>42.6315</td>\n      <td>21.0222</td>\n      <td>Kosovo</td>\n      <td>XK</td>\n      <td>Fushë Kosovë</td>\n      <td>NaN</td>\n      <td>2750.0</td>\n      <td>2750.0</td>\n      <td>6593.750003</td>\n    </tr>\n    <tr>\n      <th>22121</th>\n      <td>2155</td>\n      <td>EBBR</td>\n      <td>large_airport</td>\n      <td>Brussels Airport</td>\n      <td>50.901402</td>\n      <td>4.484440</td>\n      <td>175.0</td>\n      <td>EU</td>\n      <td>BE</td>\n      <td>BE-BRU</td>\n      <td>...</td>\n      <td>Zaventem</td>\n      <td>50.8833</td>\n      <td>4.4667</td>\n      <td>Belgium</td>\n      <td>BE</td>\n      <td>Flanders</td>\n      <td>NaN</td>\n      <td>35184.0</td>\n      <td>35184.0</td>\n      <td>2369.121873</td>\n    </tr>\n    <tr>\n      <th>22129</th>\n      <td>2157</td>\n      <td>EBCI</td>\n      <td>medium_airport</td>\n      <td>Brussels South Charleroi Airport</td>\n      <td>50.460982</td>\n      <td>4.457158</td>\n      <td>614.0</td>\n      <td>EU</td>\n      <td>BE</td>\n      <td>BE-WHT</td>\n      <td>...</td>\n      <td>Charleroi</td>\n      <td>50.4000</td>\n      <td>4.4333</td>\n      <td>Belgium</td>\n      <td>BE</td>\n      <td>Wallonia</td>\n      <td>minor</td>\n      <td>201816.0</td>\n      <td>201816.0</td>\n      <td>6993.130995</td>\n    </tr>\n    <tr>\n      <th>22177</th>\n      <td>2162</td>\n      <td>EBLG</td>\n      <td>medium_airport</td>\n      <td>Liège Airport</td>\n      <td>50.638574</td>\n      <td>5.443897</td>\n      <td>659.0</td>\n      <td>EU</td>\n      <td>BE</td>\n      <td>BE-WLG</td>\n      <td>...</td>\n      <td>Ans</td>\n      <td>50.6625</td>\n      <td>5.5200</td>\n      <td>Belgium</td>\n      <td>BE</td>\n      <td>Wallonia</td>\n      <td>NaN</td>\n      <td>28238.0</td>\n      <td>28238.0</td>\n      <td>6002.303618</td>\n    </tr>\n    <tr>\n      <th>22398</th>\n      <td>2210</td>\n      <td>EDDC</td>\n      <td>medium_airport</td>\n      <td>Dresden Airport</td>\n      <td>51.134123</td>\n      <td>13.767831</td>\n      <td>755.0</td>\n      <td>EU</td>\n      <td>DE</td>\n      <td>DE-SN</td>\n      <td>...</td>\n      <td>Dresden</td>\n      <td>51.0500</td>\n      <td>13.7400</td>\n      <td>Germany</td>\n      <td>DE</td>\n      <td>Saxony</td>\n      <td>admin</td>\n      <td>561922.0</td>\n      <td>561922.0</td>\n      <td>9561.777186</td>\n    </tr>\n    <tr>\n      <th>...</th>\n      <td>...</td>\n      <td>...</td>\n      <td>...</td>\n      <td>...</td>\n      <td>...</td>\n      <td>...</td>\n      <td>...</td>\n      <td>...</td>\n      <td>...</td>\n      <td>...</td>\n      <td>...</td>\n      <td>...</td>\n      <td>...</td>\n      <td>...</td>\n      <td>...</td>\n      <td>...</td>\n      <td>...</td>\n      <td>...</td>\n      <td>...</td>\n      <td>...</td>\n      <td>...</td>\n    </tr>\n    <tr>\n      <th>72929</th>\n      <td>26408</td>\n      <td>UWOO</td>\n      <td>medium_airport</td>\n      <td>Orenburg Central Airport</td>\n      <td>51.795799</td>\n      <td>55.456699</td>\n      <td>387.0</td>\n      <td>EU</td>\n      <td>RU</td>\n      <td>RU-ORE</td>\n      <td>...</td>\n      <td>Orenburg</td>\n      <td>51.7667</td>\n      <td>55.1000</td>\n      <td>Russia</td>\n      <td>RU</td>\n      <td>Orenburgskaya Oblast’</td>\n      <td>admin</td>\n      <td>564773.0</td>\n      <td>564773.0</td>\n      <td>24390.377746</td>\n    </tr>\n    <tr>\n      <th>72930</th>\n      <td>26409</td>\n      <td>UWOR</td>\n      <td>medium_airport</td>\n      <td>Orsk Airport</td>\n      <td>51.072498</td>\n      <td>58.595600</td>\n      <td>909.0</td>\n      <td>AS</td>\n      <td>RU</td>\n      <td>RU-ORE</td>\n      <td>...</td>\n      <td>Orsk</td>\n      <td>51.2000</td>\n      <td>58.5667</td>\n      <td>Russia</td>\n      <td>RU</td>\n      <td>Orenburgskaya Oblast’</td>\n      <td>NaN</td>\n      <td>230414.0</td>\n      <td>229255.0</td>\n      <td>14605.832867</td>\n    </tr>\n    <tr>\n      <th>72932</th>\n      <td>32155</td>\n      <td>UWPP</td>\n      <td>medium_airport</td>\n      <td>Penza Airport</td>\n      <td>53.110600</td>\n      <td>45.021099</td>\n      <td>614.0</td>\n      <td>EU</td>\n      <td>RU</td>\n      <td>RU-PNZ</td>\n      <td>...</td>\n      <td>Penza</td>\n      <td>53.2000</td>\n      <td>45.0000</td>\n      <td>Russia</td>\n      <td>RU</td>\n      <td>Penzenskaya Oblast’</td>\n      <td>admin</td>\n      <td>523726.0</td>\n      <td>523726.0</td>\n      <td>10188.831751</td>\n    </tr>\n    <tr>\n      <th>72944</th>\n      <td>26411</td>\n      <td>UWUU</td>\n      <td>large_airport</td>\n      <td>Ufa International Airport</td>\n      <td>54.557499</td>\n      <td>55.874401</td>\n      <td>449.0</td>\n      <td>EU</td>\n      <td>RU</td>\n      <td>RU-BA</td>\n      <td>...</td>\n      <td>Ufa</td>\n      <td>54.7261</td>\n      <td>55.9475</td>\n      <td>Russia</td>\n      <td>RU</td>\n      <td>Bashkortostan</td>\n      <td>admin</td>\n      <td>1115560.0</td>\n      <td>1115560.0</td>\n      <td>19908.744814</td>\n    </tr>\n    <tr>\n      <th>72951</th>\n      <td>26412</td>\n      <td>UWWW</td>\n      <td>large_airport</td>\n      <td>Kurumoch International Airport</td>\n      <td>53.504902</td>\n      <td>50.164299</td>\n      <td>477.0</td>\n      <td>EU</td>\n      <td>RU</td>\n      <td>RU-SAM</td>\n      <td>...</td>\n      <td>Samara</td>\n      <td>53.2028</td>\n      <td>50.1408</td>\n      <td>Russia</td>\n      <td>RU</td>\n      <td>Samarskaya Oblast’</td>\n      <td>admin</td>\n      <td>1169719.0</td>\n      <td>1169719.0</td>\n      <td>34375.804599</td>\n    </tr>\n  </tbody>\n</table>\n<p>274 rows × 31 columns</p>\n</div>"
     },
     "execution_count": 110,
     "metadata": {},
     "output_type": "execute_result"
    }
   ],
   "source": [
    "within_50_nearest = gpd.sjoin_nearest(gdf_airports_crs, gdf_all_cities_crs, max_distance=50000, distance_col=\"distance\")\n",
    "within_50_nearest"
   ],
   "metadata": {
    "collapsed": false,
    "ExecuteTime": {
     "end_time": "2024-01-22T22:10:33.400454Z",
     "start_time": "2024-01-22T22:10:33.326661Z"
    }
   },
   "id": "1317449caf96bae3",
   "execution_count": 110
  },
  {
   "cell_type": "markdown",
   "source": [
    "#### Using a buffer"
   ],
   "metadata": {
    "collapsed": false
   },
   "id": "df4b3ebaf3cc0459"
  },
  {
   "cell_type": "code",
   "outputs": [],
   "source": [
    "gdf_airports_crs['buffer'] = gdf_airports_crs.geometry.buffer(50000)"
   ],
   "metadata": {
    "collapsed": false,
    "ExecuteTime": {
     "end_time": "2024-01-22T22:20:42.554958Z",
     "start_time": "2024-01-22T22:20:42.522118Z"
    }
   },
   "id": "198a060de844795d",
   "execution_count": 114
  },
  {
   "cell_type": "code",
   "outputs": [
    {
     "data": {
      "text/plain": "          id ident            type  \\\n13969   4614  BKPR  medium_airport   \n22121   2155  EBBR   large_airport   \n22129   2157  EBCI  medium_airport   \n22177   2162  EBLG  medium_airport   \n22398   2210  EDDC  medium_airport   \n...      ...   ...             ...   \n72929  26408  UWOO  medium_airport   \n72930  26409  UWOR  medium_airport   \n72932  32155  UWPP  medium_airport   \n72944  26411  UWUU   large_airport   \n72951  26412  UWWW   large_airport   \n\n                                              name  latitude_left  \\\n13969  Priština Adem Jashari International Airport      42.572800   \n22121                             Brussels Airport      50.901402   \n22129             Brussels South Charleroi Airport      50.460982   \n22177                                Liège Airport      50.638574   \n22398                              Dresden Airport      51.134123   \n...                                            ...            ...   \n72929                     Orenburg Central Airport      51.795799   \n72930                                 Orsk Airport      51.072498   \n72932                                Penza Airport      53.110600   \n72944                    Ufa International Airport      54.557499   \n72951               Kurumoch International Airport      53.504902   \n\n       longitude_left  elevation_ft continent iso_country iso_region  ...  \\\n13969       21.035801        1789.0        EU          XK      XK-01  ...   \n22121        4.484440         175.0        EU          BE     BE-BRU  ...   \n22129        4.457158         614.0        EU          BE     BE-WHT  ...   \n22177        5.443897         659.0        EU          BE     BE-WLG  ...   \n22398       13.767831         755.0        EU          DE      DE-SN  ...   \n...               ...           ...       ...         ...        ...  ...   \n72929       55.456699         387.0        EU          RU     RU-ORE  ...   \n72930       58.595600         909.0        AS          RU     RU-ORE  ...   \n72932       45.021099         614.0        EU          RU     RU-PNZ  ...   \n72944       55.874401         449.0        EU          RU      RU-BA  ...   \n72951       50.164299         477.0        EU          RU     RU-SAM  ...   \n\n      index_right city latitude_right longitude_right country iso2 admin_name  \\\n13969         NaN  NaN            NaN             NaN     NaN  NaN        NaN   \n22121         NaN  NaN            NaN             NaN     NaN  NaN        NaN   \n22129         NaN  NaN            NaN             NaN     NaN  NaN        NaN   \n22177         NaN  NaN            NaN             NaN     NaN  NaN        NaN   \n22398         NaN  NaN            NaN             NaN     NaN  NaN        NaN   \n...           ...  ...            ...             ...     ...  ...        ...   \n72929         NaN  NaN            NaN             NaN     NaN  NaN        NaN   \n72930         NaN  NaN            NaN             NaN     NaN  NaN        NaN   \n72932         NaN  NaN            NaN             NaN     NaN  NaN        NaN   \n72944         NaN  NaN            NaN             NaN     NaN  NaN        NaN   \n72951         NaN  NaN            NaN             NaN     NaN  NaN        NaN   \n\n      capital population  population_proper  \n13969     NaN        NaN                NaN  \n22121     NaN        NaN                NaN  \n22129     NaN        NaN                NaN  \n22177     NaN        NaN                NaN  \n22398     NaN        NaN                NaN  \n...       ...        ...                ...  \n72929     NaN        NaN                NaN  \n72930     NaN        NaN                NaN  \n72932     NaN        NaN                NaN  \n72944     NaN        NaN                NaN  \n72951     NaN        NaN                NaN  \n\n[313 rows x 29 columns]",
      "text/html": "<div>\n<style scoped>\n    .dataframe tbody tr th:only-of-type {\n        vertical-align: middle;\n    }\n\n    .dataframe tbody tr th {\n        vertical-align: top;\n    }\n\n    .dataframe thead th {\n        text-align: right;\n    }\n</style>\n<table border=\"1\" class=\"dataframe\">\n  <thead>\n    <tr style=\"text-align: right;\">\n      <th></th>\n      <th>id</th>\n      <th>ident</th>\n      <th>type</th>\n      <th>name</th>\n      <th>latitude_left</th>\n      <th>longitude_left</th>\n      <th>elevation_ft</th>\n      <th>continent</th>\n      <th>iso_country</th>\n      <th>iso_region</th>\n      <th>...</th>\n      <th>index_right</th>\n      <th>city</th>\n      <th>latitude_right</th>\n      <th>longitude_right</th>\n      <th>country</th>\n      <th>iso2</th>\n      <th>admin_name</th>\n      <th>capital</th>\n      <th>population</th>\n      <th>population_proper</th>\n    </tr>\n  </thead>\n  <tbody>\n    <tr>\n      <th>13969</th>\n      <td>4614</td>\n      <td>BKPR</td>\n      <td>medium_airport</td>\n      <td>Priština Adem Jashari International Airport</td>\n      <td>42.572800</td>\n      <td>21.035801</td>\n      <td>1789.0</td>\n      <td>EU</td>\n      <td>XK</td>\n      <td>XK-01</td>\n      <td>...</td>\n      <td>NaN</td>\n      <td>NaN</td>\n      <td>NaN</td>\n      <td>NaN</td>\n      <td>NaN</td>\n      <td>NaN</td>\n      <td>NaN</td>\n      <td>NaN</td>\n      <td>NaN</td>\n      <td>NaN</td>\n    </tr>\n    <tr>\n      <th>22121</th>\n      <td>2155</td>\n      <td>EBBR</td>\n      <td>large_airport</td>\n      <td>Brussels Airport</td>\n      <td>50.901402</td>\n      <td>4.484440</td>\n      <td>175.0</td>\n      <td>EU</td>\n      <td>BE</td>\n      <td>BE-BRU</td>\n      <td>...</td>\n      <td>NaN</td>\n      <td>NaN</td>\n      <td>NaN</td>\n      <td>NaN</td>\n      <td>NaN</td>\n      <td>NaN</td>\n      <td>NaN</td>\n      <td>NaN</td>\n      <td>NaN</td>\n      <td>NaN</td>\n    </tr>\n    <tr>\n      <th>22129</th>\n      <td>2157</td>\n      <td>EBCI</td>\n      <td>medium_airport</td>\n      <td>Brussels South Charleroi Airport</td>\n      <td>50.460982</td>\n      <td>4.457158</td>\n      <td>614.0</td>\n      <td>EU</td>\n      <td>BE</td>\n      <td>BE-WHT</td>\n      <td>...</td>\n      <td>NaN</td>\n      <td>NaN</td>\n      <td>NaN</td>\n      <td>NaN</td>\n      <td>NaN</td>\n      <td>NaN</td>\n      <td>NaN</td>\n      <td>NaN</td>\n      <td>NaN</td>\n      <td>NaN</td>\n    </tr>\n    <tr>\n      <th>22177</th>\n      <td>2162</td>\n      <td>EBLG</td>\n      <td>medium_airport</td>\n      <td>Liège Airport</td>\n      <td>50.638574</td>\n      <td>5.443897</td>\n      <td>659.0</td>\n      <td>EU</td>\n      <td>BE</td>\n      <td>BE-WLG</td>\n      <td>...</td>\n      <td>NaN</td>\n      <td>NaN</td>\n      <td>NaN</td>\n      <td>NaN</td>\n      <td>NaN</td>\n      <td>NaN</td>\n      <td>NaN</td>\n      <td>NaN</td>\n      <td>NaN</td>\n      <td>NaN</td>\n    </tr>\n    <tr>\n      <th>22398</th>\n      <td>2210</td>\n      <td>EDDC</td>\n      <td>medium_airport</td>\n      <td>Dresden Airport</td>\n      <td>51.134123</td>\n      <td>13.767831</td>\n      <td>755.0</td>\n      <td>EU</td>\n      <td>DE</td>\n      <td>DE-SN</td>\n      <td>...</td>\n      <td>NaN</td>\n      <td>NaN</td>\n      <td>NaN</td>\n      <td>NaN</td>\n      <td>NaN</td>\n      <td>NaN</td>\n      <td>NaN</td>\n      <td>NaN</td>\n      <td>NaN</td>\n      <td>NaN</td>\n    </tr>\n    <tr>\n      <th>...</th>\n      <td>...</td>\n      <td>...</td>\n      <td>...</td>\n      <td>...</td>\n      <td>...</td>\n      <td>...</td>\n      <td>...</td>\n      <td>...</td>\n      <td>...</td>\n      <td>...</td>\n      <td>...</td>\n      <td>...</td>\n      <td>...</td>\n      <td>...</td>\n      <td>...</td>\n      <td>...</td>\n      <td>...</td>\n      <td>...</td>\n      <td>...</td>\n      <td>...</td>\n      <td>...</td>\n    </tr>\n    <tr>\n      <th>72929</th>\n      <td>26408</td>\n      <td>UWOO</td>\n      <td>medium_airport</td>\n      <td>Orenburg Central Airport</td>\n      <td>51.795799</td>\n      <td>55.456699</td>\n      <td>387.0</td>\n      <td>EU</td>\n      <td>RU</td>\n      <td>RU-ORE</td>\n      <td>...</td>\n      <td>NaN</td>\n      <td>NaN</td>\n      <td>NaN</td>\n      <td>NaN</td>\n      <td>NaN</td>\n      <td>NaN</td>\n      <td>NaN</td>\n      <td>NaN</td>\n      <td>NaN</td>\n      <td>NaN</td>\n    </tr>\n    <tr>\n      <th>72930</th>\n      <td>26409</td>\n      <td>UWOR</td>\n      <td>medium_airport</td>\n      <td>Orsk Airport</td>\n      <td>51.072498</td>\n      <td>58.595600</td>\n      <td>909.0</td>\n      <td>AS</td>\n      <td>RU</td>\n      <td>RU-ORE</td>\n      <td>...</td>\n      <td>NaN</td>\n      <td>NaN</td>\n      <td>NaN</td>\n      <td>NaN</td>\n      <td>NaN</td>\n      <td>NaN</td>\n      <td>NaN</td>\n      <td>NaN</td>\n      <td>NaN</td>\n      <td>NaN</td>\n    </tr>\n    <tr>\n      <th>72932</th>\n      <td>32155</td>\n      <td>UWPP</td>\n      <td>medium_airport</td>\n      <td>Penza Airport</td>\n      <td>53.110600</td>\n      <td>45.021099</td>\n      <td>614.0</td>\n      <td>EU</td>\n      <td>RU</td>\n      <td>RU-PNZ</td>\n      <td>...</td>\n      <td>NaN</td>\n      <td>NaN</td>\n      <td>NaN</td>\n      <td>NaN</td>\n      <td>NaN</td>\n      <td>NaN</td>\n      <td>NaN</td>\n      <td>NaN</td>\n      <td>NaN</td>\n      <td>NaN</td>\n    </tr>\n    <tr>\n      <th>72944</th>\n      <td>26411</td>\n      <td>UWUU</td>\n      <td>large_airport</td>\n      <td>Ufa International Airport</td>\n      <td>54.557499</td>\n      <td>55.874401</td>\n      <td>449.0</td>\n      <td>EU</td>\n      <td>RU</td>\n      <td>RU-BA</td>\n      <td>...</td>\n      <td>NaN</td>\n      <td>NaN</td>\n      <td>NaN</td>\n      <td>NaN</td>\n      <td>NaN</td>\n      <td>NaN</td>\n      <td>NaN</td>\n      <td>NaN</td>\n      <td>NaN</td>\n      <td>NaN</td>\n    </tr>\n    <tr>\n      <th>72951</th>\n      <td>26412</td>\n      <td>UWWW</td>\n      <td>large_airport</td>\n      <td>Kurumoch International Airport</td>\n      <td>53.504902</td>\n      <td>50.164299</td>\n      <td>477.0</td>\n      <td>EU</td>\n      <td>RU</td>\n      <td>RU-SAM</td>\n      <td>...</td>\n      <td>NaN</td>\n      <td>NaN</td>\n      <td>NaN</td>\n      <td>NaN</td>\n      <td>NaN</td>\n      <td>NaN</td>\n      <td>NaN</td>\n      <td>NaN</td>\n      <td>NaN</td>\n      <td>NaN</td>\n    </tr>\n  </tbody>\n</table>\n<p>313 rows × 29 columns</p>\n</div>"
     },
     "execution_count": 115,
     "metadata": {},
     "output_type": "execute_result"
    }
   ],
   "source": [
    "within_50 = gpd.sjoin(gdf_airports_crs, gdf_all_cities_crs, how='left', predicate='intersects')\n",
    "within_50 = within_50.drop(columns=['buffer'])\n",
    "within_50"
   ],
   "metadata": {
    "collapsed": false,
    "ExecuteTime": {
     "end_time": "2024-01-22T22:20:43.927623Z",
     "start_time": "2024-01-22T22:20:43.859728Z"
    }
   },
   "id": "bf4949faf6370369",
   "execution_count": 115
  },
  {
   "cell_type": "markdown",
   "source": [
    "#### Without CRS"
   ],
   "metadata": {
    "collapsed": false
   },
   "id": "793064c3832aaec9"
  },
  {
   "cell_type": "code",
   "outputs": [],
   "source": [
    "from shapely.geometry import box"
   ],
   "metadata": {
    "collapsed": false,
    "ExecuteTime": {
     "end_time": "2024-01-22T22:35:06.430497Z",
     "start_time": "2024-01-22T22:35:06.395792Z"
    }
   },
   "id": "bb0a229413e81420",
   "execution_count": 118
  },
  {
   "cell_type": "code",
   "outputs": [],
   "source": [
    "km_in_degrees = 50/111"
   ],
   "metadata": {
    "collapsed": false,
    "ExecuteTime": {
     "end_time": "2024-01-22T22:34:54.339849Z",
     "start_time": "2024-01-22T22:34:54.297422Z"
    }
   },
   "id": "7279db375b4e5bef",
   "execution_count": 117
  },
  {
   "cell_type": "code",
   "outputs": [],
   "source": [
    "gdf_airports['buffer'] = gdf_airports.apply(lambda row: box(row.geometry.x - km_in_degrees,\n",
    "\t\t\t\t\t\t\t\t\t\t\t\t\t\t\trow.geometry.y - km_in_degrees,\n",
    "\t\t\t\t\t\t\t\t\t\t\t\t\t\t\trow.geometry.x + km_in_degrees,\n",
    "\t\t\t\t\t\t\t\t\t\t\t\t\t\t\trow.geometry.y + km_in_degrees), axis=1)"
   ],
   "metadata": {
    "collapsed": false,
    "ExecuteTime": {
     "end_time": "2024-01-22T22:35:10.093771Z",
     "start_time": "2024-01-22T22:35:10.061806Z"
    }
   },
   "id": "fa15d7a7219f55df",
   "execution_count": 119
  },
  {
   "cell_type": "code",
   "outputs": [],
   "source": [
    "gdf_airports_buffer = gpd.GeoDataFrame(geometry=gdf_airports['buffer'])"
   ],
   "metadata": {
    "collapsed": false,
    "ExecuteTime": {
     "end_time": "2024-01-22T22:35:33.400767Z",
     "start_time": "2024-01-22T22:35:33.370614Z"
    }
   },
   "id": "94a86202c4343321",
   "execution_count": 120
  },
  {
   "cell_type": "code",
   "outputs": [],
   "source": [
    "gdf_airports['buffer'] = gpd.GeoDataFrame(geometry=gdf_airports['buffer'])"
   ],
   "metadata": {
    "collapsed": false,
    "ExecuteTime": {
     "end_time": "2024-01-22T22:42:21.574873Z",
     "start_time": "2024-01-22T22:42:21.529477Z"
    }
   },
   "id": "cbc52f0b06ea154c",
   "execution_count": 124
  },
  {
   "cell_type": "code",
   "outputs": [
    {
     "data": {
      "text/plain": "          id ident            type  \\\n13969   4614  BKPR  medium_airport   \n22121   2155  EBBR   large_airport   \n22129   2157  EBCI  medium_airport   \n22177   2162  EBLG  medium_airport   \n22398   2210  EDDC  medium_airport   \n...      ...   ...             ...   \n72929  26408  UWOO  medium_airport   \n72930  26409  UWOR  medium_airport   \n72932  32155  UWPP  medium_airport   \n72944  26411  UWUU   large_airport   \n72951  26412  UWWW   large_airport   \n\n                                              name   latitude  longitude  \\\n13969  Priština Adem Jashari International Airport  42.572800  21.035801   \n22121                             Brussels Airport  50.901402   4.484440   \n22129             Brussels South Charleroi Airport  50.460982   4.457158   \n22177                                Liège Airport  50.638574   5.443897   \n22398                              Dresden Airport  51.134123  13.767831   \n...                                            ...        ...        ...   \n72929                     Orenburg Central Airport  51.795799  55.456699   \n72930                                 Orsk Airport  51.072498  58.595600   \n72932                                Penza Airport  53.110600  45.021099   \n72944                    Ufa International Airport  54.557499  55.874401   \n72951               Kurumoch International Airport  53.504902  50.164299   \n\n       elevation_ft continent iso_country iso_region    municipality  \\\n13969        1789.0        EU          XK      XK-01       Prishtina   \n22121         175.0        EU          BE     BE-BRU        Zaventem   \n22129         614.0        EU          BE     BE-WHT       Charleroi   \n22177         659.0        EU          BE     BE-WLG  Grâce-Hollogne   \n22398         755.0        EU          DE      DE-SN         Dresden   \n...             ...       ...         ...        ...             ...   \n72929         387.0        EU          RU     RU-ORE        Orenburg   \n72930         909.0        AS          RU     RU-ORE            Orsk   \n72932         614.0        EU          RU     RU-PNZ           Penza   \n72944         449.0        EU          RU      RU-BA             Ufa   \n72951         477.0        EU          RU     RU-SAM          Samara   \n\n      scheduled_service gps_code iata_code local_code  \\\n13969               yes     BKPR       PRN        NaN   \n22121               yes     EBBR       BRU        NaN   \n22129               yes     EBCI       CRL        NaN   \n22177               yes     EBLG       LGG        NaN   \n22398               yes     EDDC       DRS        NaN   \n...                 ...      ...       ...        ...   \n72929               yes     UWOO       REN        NaN   \n72930               yes     UWOR       OSW        NaN   \n72932               yes     UWPP       PEZ        NaN   \n72944               yes     UWUU       UFA        NaN   \n72951               yes     UWWW       KUF        NaN   \n\n                                               home_link  \\\n13969                    http://www.airportpristina.com/   \n22121                  http://www.brusselsairport.be/en/   \n22129  http://www.charleroi-airport.com/doc.php?nd=o2...   \n22177                        http://www.liegeairport.be/   \n22398        http://www.dresden-airport.de/en/index.html   \n...                                                  ...   \n72929                    http://www.airoport.orenair.ru/   \n72930                                                NaN   \n72932                                                NaN   \n72944                       http://www.airportufa.ru/en/   \n72951                       http://airport.samara.ru/en/   \n\n                                          wikipedia_link  \\\n13969  https://en.wikipedia.org/wiki/Pristina_Interna...   \n22121     https://en.wikipedia.org/wiki/Brussels_Airport   \n22129  https://en.wikipedia.org/wiki/Brussels_South_C...   \n22177   https://en.wikipedia.org/wiki/Li%C3%A8ge_Airport   \n22398      https://en.wikipedia.org/wiki/Dresden_Airport   \n...                                                  ...   \n72929  https://en.wikipedia.org/wiki/Orenburg_Tsentra...   \n72930         https://en.wikipedia.org/wiki/Orsk_Airport   \n72932        https://en.wikipedia.org/wiki/Penza_Airport   \n72944  https://en.wikipedia.org/wiki/Ufa_Internationa...   \n72951  https://en.wikipedia.org/wiki/Kurumoch_Interna...   \n\n                                                keywords  \\\n13969                   LYPR, Pristina, Slatina Air Base   \n22121                  Brussels National, Zaventem, EBMB   \n22129                                  Gosselies Airport   \n22177                                            Bierset   \n22398                                                NaN   \n...                                                  ...   \n72929  Orenburg Tsentralny Airport, Аэропорт Центральный   \n72930                                                NaN   \n72932                                        Penza South   \n72944                         Международный аэропорт Уфа   \n72951                                                NaN   \n\n                        geometry  \\\n13969  POINT (21.03580 42.57280)   \n22121   POINT (4.48444 50.90140)   \n22129   POINT (4.45716 50.46098)   \n22177   POINT (5.44390 50.63857)   \n22398  POINT (13.76783 51.13412)   \n...                          ...   \n72929  POINT (55.45670 51.79580)   \n72930  POINT (58.59560 51.07250)   \n72932  POINT (45.02110 53.11060)   \n72944  POINT (55.87440 54.55750)   \n72951  POINT (50.16430 53.50490)   \n\n                                                  buffer  \n13969  POLYGON ((21.48625 42.12235, 21.48625 43.02325...  \n22121  POLYGON ((4.93489 50.45095, 4.93489 51.35185, ...  \n22129  POLYGON ((4.90761 50.01053, 4.90761 50.91143, ...  \n22177  POLYGON ((5.89435 50.18812, 5.89435 51.08902, ...  \n22398  POLYGON ((14.21828 50.68367, 14.21828 51.58457...  \n...                                                  ...  \n72929  POLYGON ((55.90715 51.34535, 55.90715 52.24625...  \n72930  POLYGON ((59.04605 50.62205, 59.04605 51.52295...  \n72932  POLYGON ((45.47155 52.66015, 45.47155 53.56105...  \n72944  POLYGON ((56.32485 54.10705, 56.32485 55.00795...  \n72951  POLYGON ((50.61475 53.05445, 50.61475 53.95535...  \n\n[313 rows x 20 columns]",
      "text/html": "<div>\n<style scoped>\n    .dataframe tbody tr th:only-of-type {\n        vertical-align: middle;\n    }\n\n    .dataframe tbody tr th {\n        vertical-align: top;\n    }\n\n    .dataframe thead th {\n        text-align: right;\n    }\n</style>\n<table border=\"1\" class=\"dataframe\">\n  <thead>\n    <tr style=\"text-align: right;\">\n      <th></th>\n      <th>id</th>\n      <th>ident</th>\n      <th>type</th>\n      <th>name</th>\n      <th>latitude</th>\n      <th>longitude</th>\n      <th>elevation_ft</th>\n      <th>continent</th>\n      <th>iso_country</th>\n      <th>iso_region</th>\n      <th>municipality</th>\n      <th>scheduled_service</th>\n      <th>gps_code</th>\n      <th>iata_code</th>\n      <th>local_code</th>\n      <th>home_link</th>\n      <th>wikipedia_link</th>\n      <th>keywords</th>\n      <th>geometry</th>\n      <th>buffer</th>\n    </tr>\n  </thead>\n  <tbody>\n    <tr>\n      <th>13969</th>\n      <td>4614</td>\n      <td>BKPR</td>\n      <td>medium_airport</td>\n      <td>Priština Adem Jashari International Airport</td>\n      <td>42.572800</td>\n      <td>21.035801</td>\n      <td>1789.0</td>\n      <td>EU</td>\n      <td>XK</td>\n      <td>XK-01</td>\n      <td>Prishtina</td>\n      <td>yes</td>\n      <td>BKPR</td>\n      <td>PRN</td>\n      <td>NaN</td>\n      <td>http://www.airportpristina.com/</td>\n      <td>https://en.wikipedia.org/wiki/Pristina_Interna...</td>\n      <td>LYPR, Pristina, Slatina Air Base</td>\n      <td>POINT (21.03580 42.57280)</td>\n      <td>POLYGON ((21.48625 42.12235, 21.48625 43.02325...</td>\n    </tr>\n    <tr>\n      <th>22121</th>\n      <td>2155</td>\n      <td>EBBR</td>\n      <td>large_airport</td>\n      <td>Brussels Airport</td>\n      <td>50.901402</td>\n      <td>4.484440</td>\n      <td>175.0</td>\n      <td>EU</td>\n      <td>BE</td>\n      <td>BE-BRU</td>\n      <td>Zaventem</td>\n      <td>yes</td>\n      <td>EBBR</td>\n      <td>BRU</td>\n      <td>NaN</td>\n      <td>http://www.brusselsairport.be/en/</td>\n      <td>https://en.wikipedia.org/wiki/Brussels_Airport</td>\n      <td>Brussels National, Zaventem, EBMB</td>\n      <td>POINT (4.48444 50.90140)</td>\n      <td>POLYGON ((4.93489 50.45095, 4.93489 51.35185, ...</td>\n    </tr>\n    <tr>\n      <th>22129</th>\n      <td>2157</td>\n      <td>EBCI</td>\n      <td>medium_airport</td>\n      <td>Brussels South Charleroi Airport</td>\n      <td>50.460982</td>\n      <td>4.457158</td>\n      <td>614.0</td>\n      <td>EU</td>\n      <td>BE</td>\n      <td>BE-WHT</td>\n      <td>Charleroi</td>\n      <td>yes</td>\n      <td>EBCI</td>\n      <td>CRL</td>\n      <td>NaN</td>\n      <td>http://www.charleroi-airport.com/doc.php?nd=o2...</td>\n      <td>https://en.wikipedia.org/wiki/Brussels_South_C...</td>\n      <td>Gosselies Airport</td>\n      <td>POINT (4.45716 50.46098)</td>\n      <td>POLYGON ((4.90761 50.01053, 4.90761 50.91143, ...</td>\n    </tr>\n    <tr>\n      <th>22177</th>\n      <td>2162</td>\n      <td>EBLG</td>\n      <td>medium_airport</td>\n      <td>Liège Airport</td>\n      <td>50.638574</td>\n      <td>5.443897</td>\n      <td>659.0</td>\n      <td>EU</td>\n      <td>BE</td>\n      <td>BE-WLG</td>\n      <td>Grâce-Hollogne</td>\n      <td>yes</td>\n      <td>EBLG</td>\n      <td>LGG</td>\n      <td>NaN</td>\n      <td>http://www.liegeairport.be/</td>\n      <td>https://en.wikipedia.org/wiki/Li%C3%A8ge_Airport</td>\n      <td>Bierset</td>\n      <td>POINT (5.44390 50.63857)</td>\n      <td>POLYGON ((5.89435 50.18812, 5.89435 51.08902, ...</td>\n    </tr>\n    <tr>\n      <th>22398</th>\n      <td>2210</td>\n      <td>EDDC</td>\n      <td>medium_airport</td>\n      <td>Dresden Airport</td>\n      <td>51.134123</td>\n      <td>13.767831</td>\n      <td>755.0</td>\n      <td>EU</td>\n      <td>DE</td>\n      <td>DE-SN</td>\n      <td>Dresden</td>\n      <td>yes</td>\n      <td>EDDC</td>\n      <td>DRS</td>\n      <td>NaN</td>\n      <td>http://www.dresden-airport.de/en/index.html</td>\n      <td>https://en.wikipedia.org/wiki/Dresden_Airport</td>\n      <td>NaN</td>\n      <td>POINT (13.76783 51.13412)</td>\n      <td>POLYGON ((14.21828 50.68367, 14.21828 51.58457...</td>\n    </tr>\n    <tr>\n      <th>...</th>\n      <td>...</td>\n      <td>...</td>\n      <td>...</td>\n      <td>...</td>\n      <td>...</td>\n      <td>...</td>\n      <td>...</td>\n      <td>...</td>\n      <td>...</td>\n      <td>...</td>\n      <td>...</td>\n      <td>...</td>\n      <td>...</td>\n      <td>...</td>\n      <td>...</td>\n      <td>...</td>\n      <td>...</td>\n      <td>...</td>\n      <td>...</td>\n      <td>...</td>\n    </tr>\n    <tr>\n      <th>72929</th>\n      <td>26408</td>\n      <td>UWOO</td>\n      <td>medium_airport</td>\n      <td>Orenburg Central Airport</td>\n      <td>51.795799</td>\n      <td>55.456699</td>\n      <td>387.0</td>\n      <td>EU</td>\n      <td>RU</td>\n      <td>RU-ORE</td>\n      <td>Orenburg</td>\n      <td>yes</td>\n      <td>UWOO</td>\n      <td>REN</td>\n      <td>NaN</td>\n      <td>http://www.airoport.orenair.ru/</td>\n      <td>https://en.wikipedia.org/wiki/Orenburg_Tsentra...</td>\n      <td>Orenburg Tsentralny Airport, Аэропорт Центральный</td>\n      <td>POINT (55.45670 51.79580)</td>\n      <td>POLYGON ((55.90715 51.34535, 55.90715 52.24625...</td>\n    </tr>\n    <tr>\n      <th>72930</th>\n      <td>26409</td>\n      <td>UWOR</td>\n      <td>medium_airport</td>\n      <td>Orsk Airport</td>\n      <td>51.072498</td>\n      <td>58.595600</td>\n      <td>909.0</td>\n      <td>AS</td>\n      <td>RU</td>\n      <td>RU-ORE</td>\n      <td>Orsk</td>\n      <td>yes</td>\n      <td>UWOR</td>\n      <td>OSW</td>\n      <td>NaN</td>\n      <td>NaN</td>\n      <td>https://en.wikipedia.org/wiki/Orsk_Airport</td>\n      <td>NaN</td>\n      <td>POINT (58.59560 51.07250)</td>\n      <td>POLYGON ((59.04605 50.62205, 59.04605 51.52295...</td>\n    </tr>\n    <tr>\n      <th>72932</th>\n      <td>32155</td>\n      <td>UWPP</td>\n      <td>medium_airport</td>\n      <td>Penza Airport</td>\n      <td>53.110600</td>\n      <td>45.021099</td>\n      <td>614.0</td>\n      <td>EU</td>\n      <td>RU</td>\n      <td>RU-PNZ</td>\n      <td>Penza</td>\n      <td>yes</td>\n      <td>UWPP</td>\n      <td>PEZ</td>\n      <td>NaN</td>\n      <td>NaN</td>\n      <td>https://en.wikipedia.org/wiki/Penza_Airport</td>\n      <td>Penza South</td>\n      <td>POINT (45.02110 53.11060)</td>\n      <td>POLYGON ((45.47155 52.66015, 45.47155 53.56105...</td>\n    </tr>\n    <tr>\n      <th>72944</th>\n      <td>26411</td>\n      <td>UWUU</td>\n      <td>large_airport</td>\n      <td>Ufa International Airport</td>\n      <td>54.557499</td>\n      <td>55.874401</td>\n      <td>449.0</td>\n      <td>EU</td>\n      <td>RU</td>\n      <td>RU-BA</td>\n      <td>Ufa</td>\n      <td>yes</td>\n      <td>UWUU</td>\n      <td>UFA</td>\n      <td>NaN</td>\n      <td>http://www.airportufa.ru/en/</td>\n      <td>https://en.wikipedia.org/wiki/Ufa_Internationa...</td>\n      <td>Международный аэропорт Уфа</td>\n      <td>POINT (55.87440 54.55750)</td>\n      <td>POLYGON ((56.32485 54.10705, 56.32485 55.00795...</td>\n    </tr>\n    <tr>\n      <th>72951</th>\n      <td>26412</td>\n      <td>UWWW</td>\n      <td>large_airport</td>\n      <td>Kurumoch International Airport</td>\n      <td>53.504902</td>\n      <td>50.164299</td>\n      <td>477.0</td>\n      <td>EU</td>\n      <td>RU</td>\n      <td>RU-SAM</td>\n      <td>Samara</td>\n      <td>yes</td>\n      <td>UWWW</td>\n      <td>KUF</td>\n      <td>NaN</td>\n      <td>http://airport.samara.ru/en/</td>\n      <td>https://en.wikipedia.org/wiki/Kurumoch_Interna...</td>\n      <td>NaN</td>\n      <td>POINT (50.16430 53.50490)</td>\n      <td>POLYGON ((50.61475 53.05445, 50.61475 53.95535...</td>\n    </tr>\n  </tbody>\n</table>\n<p>313 rows × 20 columns</p>\n</div>"
     },
     "execution_count": 128,
     "metadata": {},
     "output_type": "execute_result"
    }
   ],
   "source": [
    "gdf_airports"
   ],
   "metadata": {
    "collapsed": false,
    "ExecuteTime": {
     "end_time": "2024-01-22T22:45:19.767643Z",
     "start_time": "2024-01-22T22:45:19.731591Z"
    }
   },
   "id": "a7fac19b0914d939",
   "execution_count": 128
  },
  {
   "cell_type": "code",
   "outputs": [
    {
     "data": {
      "text/plain": "                                                geometry  index_right  \\\n13969  POLYGON ((21.48625 42.12235, 21.48625 43.02325...          461   \n13969  POLYGON ((21.48625 42.12235, 21.48625 43.02325...          494   \n13969  POLYGON ((21.48625 42.12235, 21.48625 43.02325...          435   \n13969  POLYGON ((21.48625 42.12235, 21.48625 43.02325...          457   \n13969  POLYGON ((21.48625 42.12235, 21.48625 43.02325...          460   \n...                                                  ...          ...   \n72930  POLYGON ((59.04605 50.62205, 59.04605 51.52295...         5893   \n72932  POLYGON ((45.47155 52.66015, 45.47155 53.56105...         5842   \n72944  POLYGON ((56.32485 54.10705, 56.32485 55.00795...         5818   \n72951  POLYGON ((50.61475 53.05445, 50.61475 53.95535...         5977   \n72951  POLYGON ((50.61475 53.05445, 50.61475 53.95535...         5816   \n\n                  city  latitude  longitude country iso2  \\\n13969             Zhur   42.1639    20.6211  Kosovo   XK   \n13969   Hoçë e Qytetit   42.1749    20.6902  Kosovo   XK   \n13969          Prizren   42.2128    20.7392  Kosovo   XK   \n13969         Shtërpcë   42.2333    21.0167  Kosovo   XK   \n13969        Dushanovë   42.2347    20.7091  Kosovo   XK   \n...                ...       ...        ...     ...  ...   \n72930             Orsk   51.2000    58.5667  Russia   RU   \n72932            Penza   53.2000    45.0000  Russia   RU   \n72944              Ufa   54.7261    55.9475  Russia   RU   \n72951  Novokuybyshevsk   53.1000    49.9333  Russia   RU   \n72951           Samara   53.2028    50.1408  Russia   RU   \n\n                  admin_name capital  population  population_proper  \n13969                Prizren     NaN      8927.0             8927.0  \n13969                Prizren     NaN      3410.0             3410.0  \n13969                Prizren   admin     94517.0            94517.0  \n13969               Shtërpcë   admin     13630.0            13630.0  \n13969                Prizren     NaN      9398.0             9398.0  \n...                      ...     ...         ...                ...  \n72930  Orenburgskaya Oblast’     NaN    230414.0           229255.0  \n72932    Penzenskaya Oblast’   admin    523726.0           523726.0  \n72944          Bashkortostan   admin   1115560.0          1115560.0  \n72951     Samarskaya Oblast’     NaN    102075.0           102075.0  \n72951     Samarskaya Oblast’   admin   1169719.0          1169719.0  \n\n[4599 rows x 11 columns]",
      "text/html": "<div>\n<style scoped>\n    .dataframe tbody tr th:only-of-type {\n        vertical-align: middle;\n    }\n\n    .dataframe tbody tr th {\n        vertical-align: top;\n    }\n\n    .dataframe thead th {\n        text-align: right;\n    }\n</style>\n<table border=\"1\" class=\"dataframe\">\n  <thead>\n    <tr style=\"text-align: right;\">\n      <th></th>\n      <th>geometry</th>\n      <th>index_right</th>\n      <th>city</th>\n      <th>latitude</th>\n      <th>longitude</th>\n      <th>country</th>\n      <th>iso2</th>\n      <th>admin_name</th>\n      <th>capital</th>\n      <th>population</th>\n      <th>population_proper</th>\n    </tr>\n  </thead>\n  <tbody>\n    <tr>\n      <th>13969</th>\n      <td>POLYGON ((21.48625 42.12235, 21.48625 43.02325...</td>\n      <td>461</td>\n      <td>Zhur</td>\n      <td>42.1639</td>\n      <td>20.6211</td>\n      <td>Kosovo</td>\n      <td>XK</td>\n      <td>Prizren</td>\n      <td>NaN</td>\n      <td>8927.0</td>\n      <td>8927.0</td>\n    </tr>\n    <tr>\n      <th>13969</th>\n      <td>POLYGON ((21.48625 42.12235, 21.48625 43.02325...</td>\n      <td>494</td>\n      <td>Hoçë e Qytetit</td>\n      <td>42.1749</td>\n      <td>20.6902</td>\n      <td>Kosovo</td>\n      <td>XK</td>\n      <td>Prizren</td>\n      <td>NaN</td>\n      <td>3410.0</td>\n      <td>3410.0</td>\n    </tr>\n    <tr>\n      <th>13969</th>\n      <td>POLYGON ((21.48625 42.12235, 21.48625 43.02325...</td>\n      <td>435</td>\n      <td>Prizren</td>\n      <td>42.2128</td>\n      <td>20.7392</td>\n      <td>Kosovo</td>\n      <td>XK</td>\n      <td>Prizren</td>\n      <td>admin</td>\n      <td>94517.0</td>\n      <td>94517.0</td>\n    </tr>\n    <tr>\n      <th>13969</th>\n      <td>POLYGON ((21.48625 42.12235, 21.48625 43.02325...</td>\n      <td>457</td>\n      <td>Shtërpcë</td>\n      <td>42.2333</td>\n      <td>21.0167</td>\n      <td>Kosovo</td>\n      <td>XK</td>\n      <td>Shtërpcë</td>\n      <td>admin</td>\n      <td>13630.0</td>\n      <td>13630.0</td>\n    </tr>\n    <tr>\n      <th>13969</th>\n      <td>POLYGON ((21.48625 42.12235, 21.48625 43.02325...</td>\n      <td>460</td>\n      <td>Dushanovë</td>\n      <td>42.2347</td>\n      <td>20.7091</td>\n      <td>Kosovo</td>\n      <td>XK</td>\n      <td>Prizren</td>\n      <td>NaN</td>\n      <td>9398.0</td>\n      <td>9398.0</td>\n    </tr>\n    <tr>\n      <th>...</th>\n      <td>...</td>\n      <td>...</td>\n      <td>...</td>\n      <td>...</td>\n      <td>...</td>\n      <td>...</td>\n      <td>...</td>\n      <td>...</td>\n      <td>...</td>\n      <td>...</td>\n      <td>...</td>\n    </tr>\n    <tr>\n      <th>72930</th>\n      <td>POLYGON ((59.04605 50.62205, 59.04605 51.52295...</td>\n      <td>5893</td>\n      <td>Orsk</td>\n      <td>51.2000</td>\n      <td>58.5667</td>\n      <td>Russia</td>\n      <td>RU</td>\n      <td>Orenburgskaya Oblast’</td>\n      <td>NaN</td>\n      <td>230414.0</td>\n      <td>229255.0</td>\n    </tr>\n    <tr>\n      <th>72932</th>\n      <td>POLYGON ((45.47155 52.66015, 45.47155 53.56105...</td>\n      <td>5842</td>\n      <td>Penza</td>\n      <td>53.2000</td>\n      <td>45.0000</td>\n      <td>Russia</td>\n      <td>RU</td>\n      <td>Penzenskaya Oblast’</td>\n      <td>admin</td>\n      <td>523726.0</td>\n      <td>523726.0</td>\n    </tr>\n    <tr>\n      <th>72944</th>\n      <td>POLYGON ((56.32485 54.10705, 56.32485 55.00795...</td>\n      <td>5818</td>\n      <td>Ufa</td>\n      <td>54.7261</td>\n      <td>55.9475</td>\n      <td>Russia</td>\n      <td>RU</td>\n      <td>Bashkortostan</td>\n      <td>admin</td>\n      <td>1115560.0</td>\n      <td>1115560.0</td>\n    </tr>\n    <tr>\n      <th>72951</th>\n      <td>POLYGON ((50.61475 53.05445, 50.61475 53.95535...</td>\n      <td>5977</td>\n      <td>Novokuybyshevsk</td>\n      <td>53.1000</td>\n      <td>49.9333</td>\n      <td>Russia</td>\n      <td>RU</td>\n      <td>Samarskaya Oblast’</td>\n      <td>NaN</td>\n      <td>102075.0</td>\n      <td>102075.0</td>\n    </tr>\n    <tr>\n      <th>72951</th>\n      <td>POLYGON ((50.61475 53.05445, 50.61475 53.95535...</td>\n      <td>5816</td>\n      <td>Samara</td>\n      <td>53.2028</td>\n      <td>50.1408</td>\n      <td>Russia</td>\n      <td>RU</td>\n      <td>Samarskaya Oblast’</td>\n      <td>admin</td>\n      <td>1169719.0</td>\n      <td>1169719.0</td>\n    </tr>\n  </tbody>\n</table>\n<p>4599 rows × 11 columns</p>\n</div>"
     },
     "execution_count": 126,
     "metadata": {},
     "output_type": "execute_result"
    }
   ],
   "source": [
    "wit_50 = gpd.sjoin(gdf_airports_buffer, gdf_all_cities, how='inner', predicate='intersects')\n",
    "wit_50"
   ],
   "metadata": {
    "collapsed": false,
    "ExecuteTime": {
     "end_time": "2024-01-22T22:42:52.621954Z",
     "start_time": "2024-01-22T22:42:52.492243Z"
    }
   },
   "id": "1fe5b4cd0999f8a0",
   "execution_count": 126
  },
  {
   "cell_type": "code",
   "outputs": [
    {
     "data": {
      "text/plain": "            city  latitude  longitude  country iso2 admin_name  capital  \\\n0         Tirana   41.3289    19.8178  Albania   AL     Tiranë  primary   \n1          Vlorë   40.4667    19.4833  Albania   AL      Vlorë    admin   \n2          Kamëz   41.3833    19.7667  Albania   AL     Tiranë      NaN   \n3           Fier   40.7250    19.5572  Albania   AL       Fier    admin   \n4         Durrës   41.3111    19.4392  Albania   AL     Durrës    admin   \n...          ...       ...        ...      ...  ...        ...      ...   \n7923  Lommedalen   59.9500    10.4667   Norway   NO      Viken      NaN   \n7924       Barbu   58.4664     8.7781   Norway   NO      Agder      NaN   \n7925      Tiller   63.3550    10.3790   Norway   NO  Trøndelag      NaN   \n7926     Kolbotn   59.8112    10.8000   Norway   NO      Viken    minor   \n7927  Lillestrøm   59.9500    11.0833   Norway   NO      Viken    minor   \n\n      population  population_proper                   geometry  \n0       418495.0           418495.0  POINT (19.81780 41.32890)  \n1       130827.0           130827.0  POINT (19.48330 40.46670)  \n2       126777.0           126777.0  POINT (19.76670 41.38330)  \n3       120655.0           120655.0  POINT (19.55720 40.72500)  \n4       113249.0           113249.0  POINT (19.43920 41.31110)  \n...          ...                ...                        ...  \n7923     11200.0            11200.0  POINT (10.46670 59.95000)  \n7924      6787.0             6787.0   POINT (8.77810 58.46640)  \n7925      3595.0             3595.0  POINT (10.37900 63.35500)  \n7926         NaN                NaN  POINT (10.80000 59.81120)  \n7927         NaN                NaN  POINT (11.08330 59.95000)  \n\n[7928 rows x 10 columns]",
      "text/html": "<div>\n<style scoped>\n    .dataframe tbody tr th:only-of-type {\n        vertical-align: middle;\n    }\n\n    .dataframe tbody tr th {\n        vertical-align: top;\n    }\n\n    .dataframe thead th {\n        text-align: right;\n    }\n</style>\n<table border=\"1\" class=\"dataframe\">\n  <thead>\n    <tr style=\"text-align: right;\">\n      <th></th>\n      <th>city</th>\n      <th>latitude</th>\n      <th>longitude</th>\n      <th>country</th>\n      <th>iso2</th>\n      <th>admin_name</th>\n      <th>capital</th>\n      <th>population</th>\n      <th>population_proper</th>\n      <th>geometry</th>\n    </tr>\n  </thead>\n  <tbody>\n    <tr>\n      <th>0</th>\n      <td>Tirana</td>\n      <td>41.3289</td>\n      <td>19.8178</td>\n      <td>Albania</td>\n      <td>AL</td>\n      <td>Tiranë</td>\n      <td>primary</td>\n      <td>418495.0</td>\n      <td>418495.0</td>\n      <td>POINT (19.81780 41.32890)</td>\n    </tr>\n    <tr>\n      <th>1</th>\n      <td>Vlorë</td>\n      <td>40.4667</td>\n      <td>19.4833</td>\n      <td>Albania</td>\n      <td>AL</td>\n      <td>Vlorë</td>\n      <td>admin</td>\n      <td>130827.0</td>\n      <td>130827.0</td>\n      <td>POINT (19.48330 40.46670)</td>\n    </tr>\n    <tr>\n      <th>2</th>\n      <td>Kamëz</td>\n      <td>41.3833</td>\n      <td>19.7667</td>\n      <td>Albania</td>\n      <td>AL</td>\n      <td>Tiranë</td>\n      <td>NaN</td>\n      <td>126777.0</td>\n      <td>126777.0</td>\n      <td>POINT (19.76670 41.38330)</td>\n    </tr>\n    <tr>\n      <th>3</th>\n      <td>Fier</td>\n      <td>40.7250</td>\n      <td>19.5572</td>\n      <td>Albania</td>\n      <td>AL</td>\n      <td>Fier</td>\n      <td>admin</td>\n      <td>120655.0</td>\n      <td>120655.0</td>\n      <td>POINT (19.55720 40.72500)</td>\n    </tr>\n    <tr>\n      <th>4</th>\n      <td>Durrës</td>\n      <td>41.3111</td>\n      <td>19.4392</td>\n      <td>Albania</td>\n      <td>AL</td>\n      <td>Durrës</td>\n      <td>admin</td>\n      <td>113249.0</td>\n      <td>113249.0</td>\n      <td>POINT (19.43920 41.31110)</td>\n    </tr>\n    <tr>\n      <th>...</th>\n      <td>...</td>\n      <td>...</td>\n      <td>...</td>\n      <td>...</td>\n      <td>...</td>\n      <td>...</td>\n      <td>...</td>\n      <td>...</td>\n      <td>...</td>\n      <td>...</td>\n    </tr>\n    <tr>\n      <th>7923</th>\n      <td>Lommedalen</td>\n      <td>59.9500</td>\n      <td>10.4667</td>\n      <td>Norway</td>\n      <td>NO</td>\n      <td>Viken</td>\n      <td>NaN</td>\n      <td>11200.0</td>\n      <td>11200.0</td>\n      <td>POINT (10.46670 59.95000)</td>\n    </tr>\n    <tr>\n      <th>7924</th>\n      <td>Barbu</td>\n      <td>58.4664</td>\n      <td>8.7781</td>\n      <td>Norway</td>\n      <td>NO</td>\n      <td>Agder</td>\n      <td>NaN</td>\n      <td>6787.0</td>\n      <td>6787.0</td>\n      <td>POINT (8.77810 58.46640)</td>\n    </tr>\n    <tr>\n      <th>7925</th>\n      <td>Tiller</td>\n      <td>63.3550</td>\n      <td>10.3790</td>\n      <td>Norway</td>\n      <td>NO</td>\n      <td>Trøndelag</td>\n      <td>NaN</td>\n      <td>3595.0</td>\n      <td>3595.0</td>\n      <td>POINT (10.37900 63.35500)</td>\n    </tr>\n    <tr>\n      <th>7926</th>\n      <td>Kolbotn</td>\n      <td>59.8112</td>\n      <td>10.8000</td>\n      <td>Norway</td>\n      <td>NO</td>\n      <td>Viken</td>\n      <td>minor</td>\n      <td>NaN</td>\n      <td>NaN</td>\n      <td>POINT (10.80000 59.81120)</td>\n    </tr>\n    <tr>\n      <th>7927</th>\n      <td>Lillestrøm</td>\n      <td>59.9500</td>\n      <td>11.0833</td>\n      <td>Norway</td>\n      <td>NO</td>\n      <td>Viken</td>\n      <td>minor</td>\n      <td>NaN</td>\n      <td>NaN</td>\n      <td>POINT (11.08330 59.95000)</td>\n    </tr>\n  </tbody>\n</table>\n<p>7928 rows × 10 columns</p>\n</div>"
     },
     "execution_count": 127,
     "metadata": {},
     "output_type": "execute_result"
    }
   ],
   "source": [
    "gdf_all_cities"
   ],
   "metadata": {
    "collapsed": false,
    "ExecuteTime": {
     "end_time": "2024-01-22T22:43:26.793990Z",
     "start_time": "2024-01-22T22:43:26.754014Z"
    }
   },
   "id": "f7d4f97ff48bd214",
   "execution_count": 127
  },
  {
   "cell_type": "code",
   "outputs": [
    {
     "data": {
      "text/plain": "         id ident            type  \\\n0      4614  BKPR  medium_airport   \n1      4614  BKPR  medium_airport   \n2      4614  BKPR  medium_airport   \n3      4614  BKPR  medium_airport   \n4      4614  BKPR  medium_airport   \n...     ...   ...             ...   \n4594  26409  UWOR  medium_airport   \n4595  32155  UWPP  medium_airport   \n4596  26411  UWUU   large_airport   \n4597  26412  UWWW   large_airport   \n4598  26412  UWWW   large_airport   \n\n                                             name  latitude_x  longitude_x  \\\n0     Priština Adem Jashari International Airport   42.572800    21.035801   \n1     Priština Adem Jashari International Airport   42.572800    21.035801   \n2     Priština Adem Jashari International Airport   42.572800    21.035801   \n3     Priština Adem Jashari International Airport   42.572800    21.035801   \n4     Priština Adem Jashari International Airport   42.572800    21.035801   \n...                                           ...         ...          ...   \n4594                                 Orsk Airport   51.072498    58.595600   \n4595                                Penza Airport   53.110600    45.021099   \n4596                    Ufa International Airport   54.557499    55.874401   \n4597               Kurumoch International Airport   53.504902    50.164299   \n4598               Kurumoch International Airport   53.504902    50.164299   \n\n      elevation_ft continent iso_country iso_region  ... index_right  \\\n0           1789.0        EU          XK      XK-01  ...         461   \n1           1789.0        EU          XK      XK-01  ...         494   \n2           1789.0        EU          XK      XK-01  ...         435   \n3           1789.0        EU          XK      XK-01  ...         457   \n4           1789.0        EU          XK      XK-01  ...         460   \n...            ...       ...         ...        ...  ...         ...   \n4594         909.0        AS          RU     RU-ORE  ...        5893   \n4595         614.0        EU          RU     RU-PNZ  ...        5842   \n4596         449.0        EU          RU      RU-BA  ...        5818   \n4597         477.0        EU          RU     RU-SAM  ...        5977   \n4598         477.0        EU          RU     RU-SAM  ...        5816   \n\n                 city latitude_y longitude_y country iso2  \\\n0                Zhur    42.1639     20.6211  Kosovo   XK   \n1      Hoçë e Qytetit    42.1749     20.6902  Kosovo   XK   \n2             Prizren    42.2128     20.7392  Kosovo   XK   \n3            Shtërpcë    42.2333     21.0167  Kosovo   XK   \n4           Dushanovë    42.2347     20.7091  Kosovo   XK   \n...               ...        ...         ...     ...  ...   \n4594             Orsk    51.2000     58.5667  Russia   RU   \n4595            Penza    53.2000     45.0000  Russia   RU   \n4596              Ufa    54.7261     55.9475  Russia   RU   \n4597  Novokuybyshevsk    53.1000     49.9333  Russia   RU   \n4598           Samara    53.2028     50.1408  Russia   RU   \n\n                 admin_name capital population population_proper  \n0                   Prizren     NaN     8927.0            8927.0  \n1                   Prizren     NaN     3410.0            3410.0  \n2                   Prizren   admin    94517.0           94517.0  \n3                  Shtërpcë   admin    13630.0           13630.0  \n4                   Prizren     NaN     9398.0            9398.0  \n...                     ...     ...        ...               ...  \n4594  Orenburgskaya Oblast’     NaN   230414.0          229255.0  \n4595    Penzenskaya Oblast’   admin   523726.0          523726.0  \n4596          Bashkortostan   admin  1115560.0         1115560.0  \n4597     Samarskaya Oblast’     NaN   102075.0          102075.0  \n4598     Samarskaya Oblast’   admin  1169719.0         1169719.0  \n\n[4599 rows x 31 columns]",
      "text/html": "<div>\n<style scoped>\n    .dataframe tbody tr th:only-of-type {\n        vertical-align: middle;\n    }\n\n    .dataframe tbody tr th {\n        vertical-align: top;\n    }\n\n    .dataframe thead th {\n        text-align: right;\n    }\n</style>\n<table border=\"1\" class=\"dataframe\">\n  <thead>\n    <tr style=\"text-align: right;\">\n      <th></th>\n      <th>id</th>\n      <th>ident</th>\n      <th>type</th>\n      <th>name</th>\n      <th>latitude_x</th>\n      <th>longitude_x</th>\n      <th>elevation_ft</th>\n      <th>continent</th>\n      <th>iso_country</th>\n      <th>iso_region</th>\n      <th>...</th>\n      <th>index_right</th>\n      <th>city</th>\n      <th>latitude_y</th>\n      <th>longitude_y</th>\n      <th>country</th>\n      <th>iso2</th>\n      <th>admin_name</th>\n      <th>capital</th>\n      <th>population</th>\n      <th>population_proper</th>\n    </tr>\n  </thead>\n  <tbody>\n    <tr>\n      <th>0</th>\n      <td>4614</td>\n      <td>BKPR</td>\n      <td>medium_airport</td>\n      <td>Priština Adem Jashari International Airport</td>\n      <td>42.572800</td>\n      <td>21.035801</td>\n      <td>1789.0</td>\n      <td>EU</td>\n      <td>XK</td>\n      <td>XK-01</td>\n      <td>...</td>\n      <td>461</td>\n      <td>Zhur</td>\n      <td>42.1639</td>\n      <td>20.6211</td>\n      <td>Kosovo</td>\n      <td>XK</td>\n      <td>Prizren</td>\n      <td>NaN</td>\n      <td>8927.0</td>\n      <td>8927.0</td>\n    </tr>\n    <tr>\n      <th>1</th>\n      <td>4614</td>\n      <td>BKPR</td>\n      <td>medium_airport</td>\n      <td>Priština Adem Jashari International Airport</td>\n      <td>42.572800</td>\n      <td>21.035801</td>\n      <td>1789.0</td>\n      <td>EU</td>\n      <td>XK</td>\n      <td>XK-01</td>\n      <td>...</td>\n      <td>494</td>\n      <td>Hoçë e Qytetit</td>\n      <td>42.1749</td>\n      <td>20.6902</td>\n      <td>Kosovo</td>\n      <td>XK</td>\n      <td>Prizren</td>\n      <td>NaN</td>\n      <td>3410.0</td>\n      <td>3410.0</td>\n    </tr>\n    <tr>\n      <th>2</th>\n      <td>4614</td>\n      <td>BKPR</td>\n      <td>medium_airport</td>\n      <td>Priština Adem Jashari International Airport</td>\n      <td>42.572800</td>\n      <td>21.035801</td>\n      <td>1789.0</td>\n      <td>EU</td>\n      <td>XK</td>\n      <td>XK-01</td>\n      <td>...</td>\n      <td>435</td>\n      <td>Prizren</td>\n      <td>42.2128</td>\n      <td>20.7392</td>\n      <td>Kosovo</td>\n      <td>XK</td>\n      <td>Prizren</td>\n      <td>admin</td>\n      <td>94517.0</td>\n      <td>94517.0</td>\n    </tr>\n    <tr>\n      <th>3</th>\n      <td>4614</td>\n      <td>BKPR</td>\n      <td>medium_airport</td>\n      <td>Priština Adem Jashari International Airport</td>\n      <td>42.572800</td>\n      <td>21.035801</td>\n      <td>1789.0</td>\n      <td>EU</td>\n      <td>XK</td>\n      <td>XK-01</td>\n      <td>...</td>\n      <td>457</td>\n      <td>Shtërpcë</td>\n      <td>42.2333</td>\n      <td>21.0167</td>\n      <td>Kosovo</td>\n      <td>XK</td>\n      <td>Shtërpcë</td>\n      <td>admin</td>\n      <td>13630.0</td>\n      <td>13630.0</td>\n    </tr>\n    <tr>\n      <th>4</th>\n      <td>4614</td>\n      <td>BKPR</td>\n      <td>medium_airport</td>\n      <td>Priština Adem Jashari International Airport</td>\n      <td>42.572800</td>\n      <td>21.035801</td>\n      <td>1789.0</td>\n      <td>EU</td>\n      <td>XK</td>\n      <td>XK-01</td>\n      <td>...</td>\n      <td>460</td>\n      <td>Dushanovë</td>\n      <td>42.2347</td>\n      <td>20.7091</td>\n      <td>Kosovo</td>\n      <td>XK</td>\n      <td>Prizren</td>\n      <td>NaN</td>\n      <td>9398.0</td>\n      <td>9398.0</td>\n    </tr>\n    <tr>\n      <th>...</th>\n      <td>...</td>\n      <td>...</td>\n      <td>...</td>\n      <td>...</td>\n      <td>...</td>\n      <td>...</td>\n      <td>...</td>\n      <td>...</td>\n      <td>...</td>\n      <td>...</td>\n      <td>...</td>\n      <td>...</td>\n      <td>...</td>\n      <td>...</td>\n      <td>...</td>\n      <td>...</td>\n      <td>...</td>\n      <td>...</td>\n      <td>...</td>\n      <td>...</td>\n      <td>...</td>\n    </tr>\n    <tr>\n      <th>4594</th>\n      <td>26409</td>\n      <td>UWOR</td>\n      <td>medium_airport</td>\n      <td>Orsk Airport</td>\n      <td>51.072498</td>\n      <td>58.595600</td>\n      <td>909.0</td>\n      <td>AS</td>\n      <td>RU</td>\n      <td>RU-ORE</td>\n      <td>...</td>\n      <td>5893</td>\n      <td>Orsk</td>\n      <td>51.2000</td>\n      <td>58.5667</td>\n      <td>Russia</td>\n      <td>RU</td>\n      <td>Orenburgskaya Oblast’</td>\n      <td>NaN</td>\n      <td>230414.0</td>\n      <td>229255.0</td>\n    </tr>\n    <tr>\n      <th>4595</th>\n      <td>32155</td>\n      <td>UWPP</td>\n      <td>medium_airport</td>\n      <td>Penza Airport</td>\n      <td>53.110600</td>\n      <td>45.021099</td>\n      <td>614.0</td>\n      <td>EU</td>\n      <td>RU</td>\n      <td>RU-PNZ</td>\n      <td>...</td>\n      <td>5842</td>\n      <td>Penza</td>\n      <td>53.2000</td>\n      <td>45.0000</td>\n      <td>Russia</td>\n      <td>RU</td>\n      <td>Penzenskaya Oblast’</td>\n      <td>admin</td>\n      <td>523726.0</td>\n      <td>523726.0</td>\n    </tr>\n    <tr>\n      <th>4596</th>\n      <td>26411</td>\n      <td>UWUU</td>\n      <td>large_airport</td>\n      <td>Ufa International Airport</td>\n      <td>54.557499</td>\n      <td>55.874401</td>\n      <td>449.0</td>\n      <td>EU</td>\n      <td>RU</td>\n      <td>RU-BA</td>\n      <td>...</td>\n      <td>5818</td>\n      <td>Ufa</td>\n      <td>54.7261</td>\n      <td>55.9475</td>\n      <td>Russia</td>\n      <td>RU</td>\n      <td>Bashkortostan</td>\n      <td>admin</td>\n      <td>1115560.0</td>\n      <td>1115560.0</td>\n    </tr>\n    <tr>\n      <th>4597</th>\n      <td>26412</td>\n      <td>UWWW</td>\n      <td>large_airport</td>\n      <td>Kurumoch International Airport</td>\n      <td>53.504902</td>\n      <td>50.164299</td>\n      <td>477.0</td>\n      <td>EU</td>\n      <td>RU</td>\n      <td>RU-SAM</td>\n      <td>...</td>\n      <td>5977</td>\n      <td>Novokuybyshevsk</td>\n      <td>53.1000</td>\n      <td>49.9333</td>\n      <td>Russia</td>\n      <td>RU</td>\n      <td>Samarskaya Oblast’</td>\n      <td>NaN</td>\n      <td>102075.0</td>\n      <td>102075.0</td>\n    </tr>\n    <tr>\n      <th>4598</th>\n      <td>26412</td>\n      <td>UWWW</td>\n      <td>large_airport</td>\n      <td>Kurumoch International Airport</td>\n      <td>53.504902</td>\n      <td>50.164299</td>\n      <td>477.0</td>\n      <td>EU</td>\n      <td>RU</td>\n      <td>RU-SAM</td>\n      <td>...</td>\n      <td>5816</td>\n      <td>Samara</td>\n      <td>53.2028</td>\n      <td>50.1408</td>\n      <td>Russia</td>\n      <td>RU</td>\n      <td>Samarskaya Oblast’</td>\n      <td>admin</td>\n      <td>1169719.0</td>\n      <td>1169719.0</td>\n    </tr>\n  </tbody>\n</table>\n<p>4599 rows × 31 columns</p>\n</div>"
     },
     "execution_count": 129,
     "metadata": {},
     "output_type": "execute_result"
    }
   ],
   "source": [
    "airport_in_50 = pd.merge(gdf_airports, wit_50, left_on='buffer', right_on='geometry', how='inner')\n",
    "airport_in_50"
   ],
   "metadata": {
    "collapsed": false,
    "ExecuteTime": {
     "end_time": "2024-01-22T22:47:25.483940Z",
     "start_time": "2024-01-22T22:47:25.443886Z"
    }
   },
   "id": "793053ec40c11acf",
   "execution_count": 129
  },
  {
   "cell_type": "code",
   "outputs": [],
   "source": [
    "# Assuming 'joined' is your DataFrame, and it includes columns like 'airport_id', 'city_name', and 'population'\n",
    "# Replace these column names with the actual names in your DataFrame\n",
    "\n",
    "# Sort the DataFrame by airport and city size (population) in descending order\n",
    "sorted_joined = joined.sort_values(by=['airport_id', 'population'], ascending=[True, False])\n",
    "\n",
    "# Group by airport and keep the first row of each group, which is the biggest city\n",
    "# biggest_city_per_airport = sorted_joined.groupby('airport_id').first().reset_index()\n",
    "\n",
    "# 'biggest_city_per_airport' now contains only the biggest city within 50 km of each airport\n"
   ],
   "metadata": {
    "collapsed": false
   },
   "id": "29804871b71fa35"
  },
  {
   "cell_type": "code",
   "outputs": [],
   "source": [
    "sorted_airport_in_50 = airport_in_50.sort_values(by=['iata_code', 'population'], ascending=[True, False])\n"
   ],
   "metadata": {
    "collapsed": false,
    "ExecuteTime": {
     "end_time": "2024-01-22T22:50:30.878459Z",
     "start_time": "2024-01-22T22:50:30.832272Z"
    }
   },
   "id": "778ed0855dcedd10",
   "execution_count": 130
  },
  {
   "cell_type": "code",
   "outputs": [
    {
     "data": {
      "text/plain": "    iata_code     id ident            type  \\\n0         AAL   2562  EKYT  medium_airport   \n1         AAQ   6511  URKA  medium_airport   \n2         AAR   2540  EKAH  medium_airport   \n3         ABZ   2459  EGPD  medium_airport   \n4         ACE   3082  GCRR   large_airport   \n..        ...    ...   ...             ...   \n266       ZAG   3993  LDZA   large_airport   \n267       ZAZ   4048  LEZG  medium_airport   \n268       ZIA  42967  UUBW   large_airport   \n269       ZRH   4505  LSZH   large_airport   \n270       ZTH   4295  LGZA  medium_airport   \n\n                                                  name  latitude_x  \\\n0                                      Aalborg Airport   57.094763   \n1                              Anapa Vityazevo Airport   45.002102   \n2                                       Aarhus Airport   56.303331   \n3                                Aberdeen Dyce Airport   57.201900   \n4                     César Manrique-Lanzarote Airport   28.945499   \n..                                                 ...         ...   \n266                                     Zagreb Airport   45.742901   \n267                                   Zaragoza Airport   41.666199   \n268                    Zhukovsky International Airport   55.553299   \n269                                     Zürich Airport   47.458056   \n270  Zakynthos International Airport Dionysios Solomos   37.750900   \n\n     longitude_x  elevation_ft continent iso_country  ... index_right  \\\n0       9.849930          10.0        EU          DK  ...        3559   \n1      37.347301         174.0        EU          RU  ...        5881   \n2      10.618286          82.0        EU          DK  ...        3557   \n3      -2.197780         215.0        EU          GB  ...        5149   \n4     -13.605200          46.0        AF          ES  ...        2923   \n..           ...           ...       ...         ...  ...         ...   \n266    16.068800         353.0        EU          HR  ...        2815   \n267    -1.041550         863.0        EU          ES  ...        2838   \n268    38.150002         377.0        EU          RU  ...        5848   \n269     8.548056        1417.0        EU          CH  ...        7713   \n270    20.884300          12.0        EU          GR  ...        4312   \n\n                  city latitude_y longitude_y         country iso2  \\\n0              Aalborg    57.0500      9.9167         Denmark   DK   \n1         Novorossiysk    44.7167     37.7500          Russia   RU   \n2               Aarhus    56.1572     10.2107         Denmark   DK   \n3             Aberdeen    57.1500     -2.1100  United Kingdom   GB   \n4             Arrecife    28.9625    -13.5506           Spain   ES   \n..                 ...        ...         ...             ...  ...   \n266  Bistrica ob Sotli    46.0589     15.6642        Slovenia   SI   \n267           Zaragoza    41.6500     -0.8833           Spain   ES   \n268         Balashikha    55.8167     37.9667          Russia   RU   \n269             Zürich    47.3744      8.5411     Switzerland   CH   \n270             Alykés    37.8333     20.7667          Greece   GR   \n\n              admin_name capital population population_proper  \n0            Nordjylland   admin   143598.0          119862.0  \n1     Krasnodarskiy Kray    None   273278.0          273278.0  \n2            Midtjylland   minor   285273.0          269022.0  \n3          Aberdeen City    None   200680.0          200680.0  \n4         Canary Islands    None    64497.0           63750.0  \n..                   ...     ...        ...               ...  \n266    Bistrica ob Sotli   admin      235.0             235.0  \n267               Aragon   admin   675301.0          673010.0  \n268  Moskovskaya Oblast’    None   468221.0          468221.0  \n269               Zürich   admin   436332.0          436332.0  \n270          Ionía Nísia   minor     4834.0            4834.0  \n\n[271 rows x 31 columns]",
      "text/html": "<div>\n<style scoped>\n    .dataframe tbody tr th:only-of-type {\n        vertical-align: middle;\n    }\n\n    .dataframe tbody tr th {\n        vertical-align: top;\n    }\n\n    .dataframe thead th {\n        text-align: right;\n    }\n</style>\n<table border=\"1\" class=\"dataframe\">\n  <thead>\n    <tr style=\"text-align: right;\">\n      <th></th>\n      <th>iata_code</th>\n      <th>id</th>\n      <th>ident</th>\n      <th>type</th>\n      <th>name</th>\n      <th>latitude_x</th>\n      <th>longitude_x</th>\n      <th>elevation_ft</th>\n      <th>continent</th>\n      <th>iso_country</th>\n      <th>...</th>\n      <th>index_right</th>\n      <th>city</th>\n      <th>latitude_y</th>\n      <th>longitude_y</th>\n      <th>country</th>\n      <th>iso2</th>\n      <th>admin_name</th>\n      <th>capital</th>\n      <th>population</th>\n      <th>population_proper</th>\n    </tr>\n  </thead>\n  <tbody>\n    <tr>\n      <th>0</th>\n      <td>AAL</td>\n      <td>2562</td>\n      <td>EKYT</td>\n      <td>medium_airport</td>\n      <td>Aalborg Airport</td>\n      <td>57.094763</td>\n      <td>9.849930</td>\n      <td>10.0</td>\n      <td>EU</td>\n      <td>DK</td>\n      <td>...</td>\n      <td>3559</td>\n      <td>Aalborg</td>\n      <td>57.0500</td>\n      <td>9.9167</td>\n      <td>Denmark</td>\n      <td>DK</td>\n      <td>Nordjylland</td>\n      <td>admin</td>\n      <td>143598.0</td>\n      <td>119862.0</td>\n    </tr>\n    <tr>\n      <th>1</th>\n      <td>AAQ</td>\n      <td>6511</td>\n      <td>URKA</td>\n      <td>medium_airport</td>\n      <td>Anapa Vityazevo Airport</td>\n      <td>45.002102</td>\n      <td>37.347301</td>\n      <td>174.0</td>\n      <td>EU</td>\n      <td>RU</td>\n      <td>...</td>\n      <td>5881</td>\n      <td>Novorossiysk</td>\n      <td>44.7167</td>\n      <td>37.7500</td>\n      <td>Russia</td>\n      <td>RU</td>\n      <td>Krasnodarskiy Kray</td>\n      <td>None</td>\n      <td>273278.0</td>\n      <td>273278.0</td>\n    </tr>\n    <tr>\n      <th>2</th>\n      <td>AAR</td>\n      <td>2540</td>\n      <td>EKAH</td>\n      <td>medium_airport</td>\n      <td>Aarhus Airport</td>\n      <td>56.303331</td>\n      <td>10.618286</td>\n      <td>82.0</td>\n      <td>EU</td>\n      <td>DK</td>\n      <td>...</td>\n      <td>3557</td>\n      <td>Aarhus</td>\n      <td>56.1572</td>\n      <td>10.2107</td>\n      <td>Denmark</td>\n      <td>DK</td>\n      <td>Midtjylland</td>\n      <td>minor</td>\n      <td>285273.0</td>\n      <td>269022.0</td>\n    </tr>\n    <tr>\n      <th>3</th>\n      <td>ABZ</td>\n      <td>2459</td>\n      <td>EGPD</td>\n      <td>medium_airport</td>\n      <td>Aberdeen Dyce Airport</td>\n      <td>57.201900</td>\n      <td>-2.197780</td>\n      <td>215.0</td>\n      <td>EU</td>\n      <td>GB</td>\n      <td>...</td>\n      <td>5149</td>\n      <td>Aberdeen</td>\n      <td>57.1500</td>\n      <td>-2.1100</td>\n      <td>United Kingdom</td>\n      <td>GB</td>\n      <td>Aberdeen City</td>\n      <td>None</td>\n      <td>200680.0</td>\n      <td>200680.0</td>\n    </tr>\n    <tr>\n      <th>4</th>\n      <td>ACE</td>\n      <td>3082</td>\n      <td>GCRR</td>\n      <td>large_airport</td>\n      <td>César Manrique-Lanzarote Airport</td>\n      <td>28.945499</td>\n      <td>-13.605200</td>\n      <td>46.0</td>\n      <td>AF</td>\n      <td>ES</td>\n      <td>...</td>\n      <td>2923</td>\n      <td>Arrecife</td>\n      <td>28.9625</td>\n      <td>-13.5506</td>\n      <td>Spain</td>\n      <td>ES</td>\n      <td>Canary Islands</td>\n      <td>None</td>\n      <td>64497.0</td>\n      <td>63750.0</td>\n    </tr>\n    <tr>\n      <th>...</th>\n      <td>...</td>\n      <td>...</td>\n      <td>...</td>\n      <td>...</td>\n      <td>...</td>\n      <td>...</td>\n      <td>...</td>\n      <td>...</td>\n      <td>...</td>\n      <td>...</td>\n      <td>...</td>\n      <td>...</td>\n      <td>...</td>\n      <td>...</td>\n      <td>...</td>\n      <td>...</td>\n      <td>...</td>\n      <td>...</td>\n      <td>...</td>\n      <td>...</td>\n      <td>...</td>\n    </tr>\n    <tr>\n      <th>266</th>\n      <td>ZAG</td>\n      <td>3993</td>\n      <td>LDZA</td>\n      <td>large_airport</td>\n      <td>Zagreb Airport</td>\n      <td>45.742901</td>\n      <td>16.068800</td>\n      <td>353.0</td>\n      <td>EU</td>\n      <td>HR</td>\n      <td>...</td>\n      <td>2815</td>\n      <td>Bistrica ob Sotli</td>\n      <td>46.0589</td>\n      <td>15.6642</td>\n      <td>Slovenia</td>\n      <td>SI</td>\n      <td>Bistrica ob Sotli</td>\n      <td>admin</td>\n      <td>235.0</td>\n      <td>235.0</td>\n    </tr>\n    <tr>\n      <th>267</th>\n      <td>ZAZ</td>\n      <td>4048</td>\n      <td>LEZG</td>\n      <td>medium_airport</td>\n      <td>Zaragoza Airport</td>\n      <td>41.666199</td>\n      <td>-1.041550</td>\n      <td>863.0</td>\n      <td>EU</td>\n      <td>ES</td>\n      <td>...</td>\n      <td>2838</td>\n      <td>Zaragoza</td>\n      <td>41.6500</td>\n      <td>-0.8833</td>\n      <td>Spain</td>\n      <td>ES</td>\n      <td>Aragon</td>\n      <td>admin</td>\n      <td>675301.0</td>\n      <td>673010.0</td>\n    </tr>\n    <tr>\n      <th>268</th>\n      <td>ZIA</td>\n      <td>42967</td>\n      <td>UUBW</td>\n      <td>large_airport</td>\n      <td>Zhukovsky International Airport</td>\n      <td>55.553299</td>\n      <td>38.150002</td>\n      <td>377.0</td>\n      <td>EU</td>\n      <td>RU</td>\n      <td>...</td>\n      <td>5848</td>\n      <td>Balashikha</td>\n      <td>55.8167</td>\n      <td>37.9667</td>\n      <td>Russia</td>\n      <td>RU</td>\n      <td>Moskovskaya Oblast’</td>\n      <td>None</td>\n      <td>468221.0</td>\n      <td>468221.0</td>\n    </tr>\n    <tr>\n      <th>269</th>\n      <td>ZRH</td>\n      <td>4505</td>\n      <td>LSZH</td>\n      <td>large_airport</td>\n      <td>Zürich Airport</td>\n      <td>47.458056</td>\n      <td>8.548056</td>\n      <td>1417.0</td>\n      <td>EU</td>\n      <td>CH</td>\n      <td>...</td>\n      <td>7713</td>\n      <td>Zürich</td>\n      <td>47.3744</td>\n      <td>8.5411</td>\n      <td>Switzerland</td>\n      <td>CH</td>\n      <td>Zürich</td>\n      <td>admin</td>\n      <td>436332.0</td>\n      <td>436332.0</td>\n    </tr>\n    <tr>\n      <th>270</th>\n      <td>ZTH</td>\n      <td>4295</td>\n      <td>LGZA</td>\n      <td>medium_airport</td>\n      <td>Zakynthos International Airport Dionysios Solomos</td>\n      <td>37.750900</td>\n      <td>20.884300</td>\n      <td>12.0</td>\n      <td>EU</td>\n      <td>GR</td>\n      <td>...</td>\n      <td>4312</td>\n      <td>Alykés</td>\n      <td>37.8333</td>\n      <td>20.7667</td>\n      <td>Greece</td>\n      <td>GR</td>\n      <td>Ionía Nísia</td>\n      <td>minor</td>\n      <td>4834.0</td>\n      <td>4834.0</td>\n    </tr>\n  </tbody>\n</table>\n<p>271 rows × 31 columns</p>\n</div>"
     },
     "execution_count": 144,
     "metadata": {},
     "output_type": "execute_result"
    }
   ],
   "source": [
    "biggest_city_per_airport = sorted_airport_in_50.groupby('iata_code').first().reset_index()\n",
    "biggest_city_per_airport"
   ],
   "metadata": {
    "collapsed": false,
    "ExecuteTime": {
     "end_time": "2024-01-22T23:16:22.124447Z",
     "start_time": "2024-01-22T23:16:21.962538Z"
    }
   },
   "id": "4a6dbb368de66cd3",
   "execution_count": 144
  },
  {
   "cell_type": "code",
   "outputs": [],
   "source": [
    "biggest_city_per_airport.rename(columns={'municipality': 'airport city', 'city': 'nearest city', 'name': 'airport name'}, inplace=True)"
   ],
   "metadata": {
    "collapsed": false,
    "ExecuteTime": {
     "end_time": "2024-01-22T23:16:23.677993Z",
     "start_time": "2024-01-22T23:16:23.647063Z"
    }
   },
   "id": "b8097f4259da8785",
   "execution_count": 145
  },
  {
   "cell_type": "code",
   "outputs": [
    {
     "data": {
      "text/plain": "                                          airport name    airport city  \\\n0                                      Aalborg Airport         Aalborg   \n1                              Anapa Vityazevo Airport  Krasnyi Kurgan   \n2                                       Aarhus Airport          Aarhus   \n3                                Aberdeen Dyce Airport        Aberdeen   \n4                     César Manrique-Lanzarote Airport   San Bartolomé   \n..                                                 ...             ...   \n266                                     Zagreb Airport          Zagreb   \n267                                   Zaragoza Airport        Zaragoza   \n268                    Zhukovsky International Airport          Moscow   \n269                                     Zürich Airport          Zurich   \n270  Zakynthos International Airport Dionysios Solomos       Zakynthos   \n\n          nearest city  \n0              Aalborg  \n1         Novorossiysk  \n2               Aarhus  \n3             Aberdeen  \n4             Arrecife  \n..                 ...  \n266  Bistrica ob Sotli  \n267           Zaragoza  \n268         Balashikha  \n269             Zürich  \n270             Alykés  \n\n[271 rows x 3 columns]",
      "text/html": "<div>\n<style scoped>\n    .dataframe tbody tr th:only-of-type {\n        vertical-align: middle;\n    }\n\n    .dataframe tbody tr th {\n        vertical-align: top;\n    }\n\n    .dataframe thead th {\n        text-align: right;\n    }\n</style>\n<table border=\"1\" class=\"dataframe\">\n  <thead>\n    <tr style=\"text-align: right;\">\n      <th></th>\n      <th>airport name</th>\n      <th>airport city</th>\n      <th>nearest city</th>\n    </tr>\n  </thead>\n  <tbody>\n    <tr>\n      <th>0</th>\n      <td>Aalborg Airport</td>\n      <td>Aalborg</td>\n      <td>Aalborg</td>\n    </tr>\n    <tr>\n      <th>1</th>\n      <td>Anapa Vityazevo Airport</td>\n      <td>Krasnyi Kurgan</td>\n      <td>Novorossiysk</td>\n    </tr>\n    <tr>\n      <th>2</th>\n      <td>Aarhus Airport</td>\n      <td>Aarhus</td>\n      <td>Aarhus</td>\n    </tr>\n    <tr>\n      <th>3</th>\n      <td>Aberdeen Dyce Airport</td>\n      <td>Aberdeen</td>\n      <td>Aberdeen</td>\n    </tr>\n    <tr>\n      <th>4</th>\n      <td>César Manrique-Lanzarote Airport</td>\n      <td>San Bartolomé</td>\n      <td>Arrecife</td>\n    </tr>\n    <tr>\n      <th>...</th>\n      <td>...</td>\n      <td>...</td>\n      <td>...</td>\n    </tr>\n    <tr>\n      <th>266</th>\n      <td>Zagreb Airport</td>\n      <td>Zagreb</td>\n      <td>Bistrica ob Sotli</td>\n    </tr>\n    <tr>\n      <th>267</th>\n      <td>Zaragoza Airport</td>\n      <td>Zaragoza</td>\n      <td>Zaragoza</td>\n    </tr>\n    <tr>\n      <th>268</th>\n      <td>Zhukovsky International Airport</td>\n      <td>Moscow</td>\n      <td>Balashikha</td>\n    </tr>\n    <tr>\n      <th>269</th>\n      <td>Zürich Airport</td>\n      <td>Zurich</td>\n      <td>Zürich</td>\n    </tr>\n    <tr>\n      <th>270</th>\n      <td>Zakynthos International Airport Dionysios Solomos</td>\n      <td>Zakynthos</td>\n      <td>Alykés</td>\n    </tr>\n  </tbody>\n</table>\n<p>271 rows × 3 columns</p>\n</div>"
     },
     "execution_count": 146,
     "metadata": {},
     "output_type": "execute_result"
    }
   ],
   "source": [
    "biggest_city_per_airport[['airport name', 'airport city', 'nearest city']]"
   ],
   "metadata": {
    "collapsed": false,
    "ExecuteTime": {
     "end_time": "2024-01-22T23:16:35.897661Z",
     "start_time": "2024-01-22T23:16:35.825271Z"
    }
   },
   "id": "832fd842d57410ee",
   "execution_count": 146
  },
  {
   "cell_type": "markdown",
   "source": [
    "#### Merging with flights"
   ],
   "metadata": {
    "collapsed": false
   },
   "id": "4dbaae1899df3555"
  },
  {
   "cell_type": "code",
   "outputs": [
    {
     "data": {
      "text/plain": "    iata_code       nearest city\n0         AAL            Aalborg\n1         AAQ       Novorossiysk\n2         AAR             Aarhus\n3         ABZ           Aberdeen\n4         ACE           Arrecife\n..        ...                ...\n266       ZAG  Bistrica ob Sotli\n267       ZAZ           Zaragoza\n268       ZIA         Balashikha\n269       ZRH             Zürich\n270       ZTH             Alykés\n\n[271 rows x 2 columns]",
      "text/html": "<div>\n<style scoped>\n    .dataframe tbody tr th:only-of-type {\n        vertical-align: middle;\n    }\n\n    .dataframe tbody tr th {\n        vertical-align: top;\n    }\n\n    .dataframe thead th {\n        text-align: right;\n    }\n</style>\n<table border=\"1\" class=\"dataframe\">\n  <thead>\n    <tr style=\"text-align: right;\">\n      <th></th>\n      <th>iata_code</th>\n      <th>nearest city</th>\n    </tr>\n  </thead>\n  <tbody>\n    <tr>\n      <th>0</th>\n      <td>AAL</td>\n      <td>Aalborg</td>\n    </tr>\n    <tr>\n      <th>1</th>\n      <td>AAQ</td>\n      <td>Novorossiysk</td>\n    </tr>\n    <tr>\n      <th>2</th>\n      <td>AAR</td>\n      <td>Aarhus</td>\n    </tr>\n    <tr>\n      <th>3</th>\n      <td>ABZ</td>\n      <td>Aberdeen</td>\n    </tr>\n    <tr>\n      <th>4</th>\n      <td>ACE</td>\n      <td>Arrecife</td>\n    </tr>\n    <tr>\n      <th>...</th>\n      <td>...</td>\n      <td>...</td>\n    </tr>\n    <tr>\n      <th>266</th>\n      <td>ZAG</td>\n      <td>Bistrica ob Sotli</td>\n    </tr>\n    <tr>\n      <th>267</th>\n      <td>ZAZ</td>\n      <td>Zaragoza</td>\n    </tr>\n    <tr>\n      <th>268</th>\n      <td>ZIA</td>\n      <td>Balashikha</td>\n    </tr>\n    <tr>\n      <th>269</th>\n      <td>ZRH</td>\n      <td>Zürich</td>\n    </tr>\n    <tr>\n      <th>270</th>\n      <td>ZTH</td>\n      <td>Alykés</td>\n    </tr>\n  </tbody>\n</table>\n<p>271 rows × 2 columns</p>\n</div>"
     },
     "execution_count": 147,
     "metadata": {},
     "output_type": "execute_result"
    }
   ],
   "source": [
    "new_code_to_city = biggest_city_per_airport[['iata_code', 'nearest city']]\n",
    "new_code_to_city"
   ],
   "metadata": {
    "collapsed": false,
    "ExecuteTime": {
     "end_time": "2024-01-22T23:16:46.098442Z",
     "start_time": "2024-01-22T23:16:46.010681Z"
    }
   },
   "id": "c6ade8e9eeeda10a",
   "execution_count": 147
  },
  {
   "cell_type": "code",
   "outputs": [
    {
     "data": {
      "text/plain": "               route   time departure airport arrival airport iata_code  \\\n0     {'AAL', 'AMS'}   85.0               AAL             AMS       AAL   \n1     {'AAQ', 'LED'}  170.0               AAQ             LED       AAQ   \n2     {'AMS', 'ABZ'}   85.0               AMS             ABZ       AMS   \n3     {'ABZ', 'LGW'}   95.0               ABZ             LGW       ABZ   \n4     {'ACE', 'AGP'}  130.0               ACE             AGP       ACE   \n...              ...    ...               ...             ...       ...   \n1400  {'ZRH', 'OTP'}  150.0               ZRH             OTP       ZRH   \n1401  {'ZRH', 'PRN'}  127.5               ZRH             PRN       ZRH   \n1402  {'ZRH', 'RVN'}  205.0               ZRH             RVN       ZRH   \n1403  {'ZRH', 'STR'}   45.0               ZRH             STR       ZRH   \n1404  {'ZTH', 'ATH'}   62.5               ZTH             ATH       ZTH   \n\n     departure city  \n0           Aalborg  \n1      Novorossiysk  \n2         Amsterdam  \n3          Aberdeen  \n4          Arrecife  \n...             ...  \n1400         Zürich  \n1401         Zürich  \n1402         Zürich  \n1403         Zürich  \n1404         Alykés  \n\n[1405 rows x 6 columns]",
      "text/html": "<div>\n<style scoped>\n    .dataframe tbody tr th:only-of-type {\n        vertical-align: middle;\n    }\n\n    .dataframe tbody tr th {\n        vertical-align: top;\n    }\n\n    .dataframe thead th {\n        text-align: right;\n    }\n</style>\n<table border=\"1\" class=\"dataframe\">\n  <thead>\n    <tr style=\"text-align: right;\">\n      <th></th>\n      <th>route</th>\n      <th>time</th>\n      <th>departure airport</th>\n      <th>arrival airport</th>\n      <th>iata_code</th>\n      <th>departure city</th>\n    </tr>\n  </thead>\n  <tbody>\n    <tr>\n      <th>0</th>\n      <td>{'AAL', 'AMS'}</td>\n      <td>85.0</td>\n      <td>AAL</td>\n      <td>AMS</td>\n      <td>AAL</td>\n      <td>Aalborg</td>\n    </tr>\n    <tr>\n      <th>1</th>\n      <td>{'AAQ', 'LED'}</td>\n      <td>170.0</td>\n      <td>AAQ</td>\n      <td>LED</td>\n      <td>AAQ</td>\n      <td>Novorossiysk</td>\n    </tr>\n    <tr>\n      <th>2</th>\n      <td>{'AMS', 'ABZ'}</td>\n      <td>85.0</td>\n      <td>AMS</td>\n      <td>ABZ</td>\n      <td>AMS</td>\n      <td>Amsterdam</td>\n    </tr>\n    <tr>\n      <th>3</th>\n      <td>{'ABZ', 'LGW'}</td>\n      <td>95.0</td>\n      <td>ABZ</td>\n      <td>LGW</td>\n      <td>ABZ</td>\n      <td>Aberdeen</td>\n    </tr>\n    <tr>\n      <th>4</th>\n      <td>{'ACE', 'AGP'}</td>\n      <td>130.0</td>\n      <td>ACE</td>\n      <td>AGP</td>\n      <td>ACE</td>\n      <td>Arrecife</td>\n    </tr>\n    <tr>\n      <th>...</th>\n      <td>...</td>\n      <td>...</td>\n      <td>...</td>\n      <td>...</td>\n      <td>...</td>\n      <td>...</td>\n    </tr>\n    <tr>\n      <th>1400</th>\n      <td>{'ZRH', 'OTP'}</td>\n      <td>150.0</td>\n      <td>ZRH</td>\n      <td>OTP</td>\n      <td>ZRH</td>\n      <td>Zürich</td>\n    </tr>\n    <tr>\n      <th>1401</th>\n      <td>{'ZRH', 'PRN'}</td>\n      <td>127.5</td>\n      <td>ZRH</td>\n      <td>PRN</td>\n      <td>ZRH</td>\n      <td>Zürich</td>\n    </tr>\n    <tr>\n      <th>1402</th>\n      <td>{'ZRH', 'RVN'}</td>\n      <td>205.0</td>\n      <td>ZRH</td>\n      <td>RVN</td>\n      <td>ZRH</td>\n      <td>Zürich</td>\n    </tr>\n    <tr>\n      <th>1403</th>\n      <td>{'ZRH', 'STR'}</td>\n      <td>45.0</td>\n      <td>ZRH</td>\n      <td>STR</td>\n      <td>ZRH</td>\n      <td>Zürich</td>\n    </tr>\n    <tr>\n      <th>1404</th>\n      <td>{'ZTH', 'ATH'}</td>\n      <td>62.5</td>\n      <td>ZTH</td>\n      <td>ATH</td>\n      <td>ZTH</td>\n      <td>Alykés</td>\n    </tr>\n  </tbody>\n</table>\n<p>1405 rows × 6 columns</p>\n</div>"
     },
     "execution_count": 148,
     "metadata": {},
     "output_type": "execute_result"
    }
   ],
   "source": [
    "# add departure city names\n",
    "new_flight_routes = pd.merge(flights, new_code_to_city, left_on='departure airport', right_on='iata_code', how='inner')\n",
    "new_flight_routes.drop(columns=['departure city', 'arrival city'], inplace=True) # remove previous city names\n",
    "new_flight_routes.rename(columns={'nearest city': 'departure city'}, inplace=True) # rename new city names\n",
    "new_flight_routes"
   ],
   "metadata": {
    "collapsed": false,
    "ExecuteTime": {
     "end_time": "2024-01-22T23:16:53.973699Z",
     "start_time": "2024-01-22T23:16:53.902472Z"
    }
   },
   "id": "d66bf7c867ae9f8d",
   "execution_count": 148
  },
  {
   "cell_type": "code",
   "outputs": [
    {
     "data": {
      "text/plain": "               route   time departure airport arrival airport iata_code_x  \\\n0     {'AAL', 'AMS'}   85.0               AAL             AMS         AAL   \n1     {'AAQ', 'LED'}  170.0               AAQ             LED         AAQ   \n2     {'AMS', 'ABZ'}   85.0               AMS             ABZ         AMS   \n3     {'ABZ', 'LGW'}   95.0               ABZ             LGW         ABZ   \n4     {'ACE', 'AGP'}  130.0               ACE             AGP         ACE   \n...              ...    ...               ...             ...         ...   \n1333  {'ZRH', 'OTP'}  150.0               ZRH             OTP         ZRH   \n1334  {'ZRH', 'PRN'}  127.5               ZRH             PRN         ZRH   \n1335  {'ZRH', 'RVN'}  205.0               ZRH             RVN         ZRH   \n1336  {'ZRH', 'STR'}   45.0               ZRH             STR         ZRH   \n1337  {'ZTH', 'ATH'}   62.5               ZTH             ATH         ZTH   \n\n     departure city iata_code_y      nearest city  \n0           Aalborg         AMS         Amsterdam  \n1      Novorossiysk         LED  Saint Petersburg  \n2         Amsterdam         ABZ          Aberdeen  \n3          Aberdeen         LGW            London  \n4          Arrecife         AGP            Málaga  \n...             ...         ...               ...  \n1333         Zürich         OTP         Bucharest  \n1334         Zürich         PRN          Pristina  \n1335         Zürich         RVN         Rovaniemi  \n1336         Zürich         STR         Stuttgart  \n1337         Alykés         ATH            Athens  \n\n[1338 rows x 8 columns]",
      "text/html": "<div>\n<style scoped>\n    .dataframe tbody tr th:only-of-type {\n        vertical-align: middle;\n    }\n\n    .dataframe tbody tr th {\n        vertical-align: top;\n    }\n\n    .dataframe thead th {\n        text-align: right;\n    }\n</style>\n<table border=\"1\" class=\"dataframe\">\n  <thead>\n    <tr style=\"text-align: right;\">\n      <th></th>\n      <th>route</th>\n      <th>time</th>\n      <th>departure airport</th>\n      <th>arrival airport</th>\n      <th>iata_code_x</th>\n      <th>departure city</th>\n      <th>iata_code_y</th>\n      <th>nearest city</th>\n    </tr>\n  </thead>\n  <tbody>\n    <tr>\n      <th>0</th>\n      <td>{'AAL', 'AMS'}</td>\n      <td>85.0</td>\n      <td>AAL</td>\n      <td>AMS</td>\n      <td>AAL</td>\n      <td>Aalborg</td>\n      <td>AMS</td>\n      <td>Amsterdam</td>\n    </tr>\n    <tr>\n      <th>1</th>\n      <td>{'AAQ', 'LED'}</td>\n      <td>170.0</td>\n      <td>AAQ</td>\n      <td>LED</td>\n      <td>AAQ</td>\n      <td>Novorossiysk</td>\n      <td>LED</td>\n      <td>Saint Petersburg</td>\n    </tr>\n    <tr>\n      <th>2</th>\n      <td>{'AMS', 'ABZ'}</td>\n      <td>85.0</td>\n      <td>AMS</td>\n      <td>ABZ</td>\n      <td>AMS</td>\n      <td>Amsterdam</td>\n      <td>ABZ</td>\n      <td>Aberdeen</td>\n    </tr>\n    <tr>\n      <th>3</th>\n      <td>{'ABZ', 'LGW'}</td>\n      <td>95.0</td>\n      <td>ABZ</td>\n      <td>LGW</td>\n      <td>ABZ</td>\n      <td>Aberdeen</td>\n      <td>LGW</td>\n      <td>London</td>\n    </tr>\n    <tr>\n      <th>4</th>\n      <td>{'ACE', 'AGP'}</td>\n      <td>130.0</td>\n      <td>ACE</td>\n      <td>AGP</td>\n      <td>ACE</td>\n      <td>Arrecife</td>\n      <td>AGP</td>\n      <td>Málaga</td>\n    </tr>\n    <tr>\n      <th>...</th>\n      <td>...</td>\n      <td>...</td>\n      <td>...</td>\n      <td>...</td>\n      <td>...</td>\n      <td>...</td>\n      <td>...</td>\n      <td>...</td>\n    </tr>\n    <tr>\n      <th>1333</th>\n      <td>{'ZRH', 'OTP'}</td>\n      <td>150.0</td>\n      <td>ZRH</td>\n      <td>OTP</td>\n      <td>ZRH</td>\n      <td>Zürich</td>\n      <td>OTP</td>\n      <td>Bucharest</td>\n    </tr>\n    <tr>\n      <th>1334</th>\n      <td>{'ZRH', 'PRN'}</td>\n      <td>127.5</td>\n      <td>ZRH</td>\n      <td>PRN</td>\n      <td>ZRH</td>\n      <td>Zürich</td>\n      <td>PRN</td>\n      <td>Pristina</td>\n    </tr>\n    <tr>\n      <th>1335</th>\n      <td>{'ZRH', 'RVN'}</td>\n      <td>205.0</td>\n      <td>ZRH</td>\n      <td>RVN</td>\n      <td>ZRH</td>\n      <td>Zürich</td>\n      <td>RVN</td>\n      <td>Rovaniemi</td>\n    </tr>\n    <tr>\n      <th>1336</th>\n      <td>{'ZRH', 'STR'}</td>\n      <td>45.0</td>\n      <td>ZRH</td>\n      <td>STR</td>\n      <td>ZRH</td>\n      <td>Zürich</td>\n      <td>STR</td>\n      <td>Stuttgart</td>\n    </tr>\n    <tr>\n      <th>1337</th>\n      <td>{'ZTH', 'ATH'}</td>\n      <td>62.5</td>\n      <td>ZTH</td>\n      <td>ATH</td>\n      <td>ZTH</td>\n      <td>Alykés</td>\n      <td>ATH</td>\n      <td>Athens</td>\n    </tr>\n  </tbody>\n</table>\n<p>1338 rows × 8 columns</p>\n</div>"
     },
     "execution_count": 149,
     "metadata": {},
     "output_type": "execute_result"
    }
   ],
   "source": [
    "# add arrival city names\n",
    "new_flight_routes = pd.merge(new_flight_routes, new_code_to_city, left_on='arrival airport', right_on='iata_code', how='inner')\n",
    "new_flight_routes"
   ],
   "metadata": {
    "collapsed": false,
    "ExecuteTime": {
     "end_time": "2024-01-22T23:17:11.235644Z",
     "start_time": "2024-01-22T23:17:11.140002Z"
    }
   },
   "id": "a85c9055fc060ff8",
   "execution_count": 149
  },
  {
   "cell_type": "code",
   "outputs": [
    {
     "data": {
      "text/plain": "               route   time departure airport arrival airport iata_code_x  \\\n0     {'AAL', 'AMS'}   85.0               AAL             AMS         AAL   \n1     {'AAQ', 'LED'}  170.0               AAQ             LED         AAQ   \n2     {'AMS', 'ABZ'}   85.0               AMS             ABZ         AMS   \n3     {'ABZ', 'LGW'}   95.0               ABZ             LGW         ABZ   \n4     {'ACE', 'AGP'}  130.0               ACE             AGP         ACE   \n...              ...    ...               ...             ...         ...   \n1333  {'ZRH', 'OTP'}  150.0               ZRH             OTP         ZRH   \n1334  {'ZRH', 'PRN'}  127.5               ZRH             PRN         ZRH   \n1335  {'ZRH', 'RVN'}  205.0               ZRH             RVN         ZRH   \n1336  {'ZRH', 'STR'}   45.0               ZRH             STR         ZRH   \n1337  {'ZTH', 'ATH'}   62.5               ZTH             ATH         ZTH   \n\n     departure city iata_code_y      arrival city  \n0           Aalborg         AMS         Amsterdam  \n1      Novorossiysk         LED  Saint Petersburg  \n2         Amsterdam         ABZ          Aberdeen  \n3          Aberdeen         LGW            London  \n4          Arrecife         AGP            Málaga  \n...             ...         ...               ...  \n1333         Zürich         OTP         Bucharest  \n1334         Zürich         PRN          Pristina  \n1335         Zürich         RVN         Rovaniemi  \n1336         Zürich         STR         Stuttgart  \n1337         Alykés         ATH            Athens  \n\n[1338 rows x 8 columns]",
      "text/html": "<div>\n<style scoped>\n    .dataframe tbody tr th:only-of-type {\n        vertical-align: middle;\n    }\n\n    .dataframe tbody tr th {\n        vertical-align: top;\n    }\n\n    .dataframe thead th {\n        text-align: right;\n    }\n</style>\n<table border=\"1\" class=\"dataframe\">\n  <thead>\n    <tr style=\"text-align: right;\">\n      <th></th>\n      <th>route</th>\n      <th>time</th>\n      <th>departure airport</th>\n      <th>arrival airport</th>\n      <th>iata_code_x</th>\n      <th>departure city</th>\n      <th>iata_code_y</th>\n      <th>arrival city</th>\n    </tr>\n  </thead>\n  <tbody>\n    <tr>\n      <th>0</th>\n      <td>{'AAL', 'AMS'}</td>\n      <td>85.0</td>\n      <td>AAL</td>\n      <td>AMS</td>\n      <td>AAL</td>\n      <td>Aalborg</td>\n      <td>AMS</td>\n      <td>Amsterdam</td>\n    </tr>\n    <tr>\n      <th>1</th>\n      <td>{'AAQ', 'LED'}</td>\n      <td>170.0</td>\n      <td>AAQ</td>\n      <td>LED</td>\n      <td>AAQ</td>\n      <td>Novorossiysk</td>\n      <td>LED</td>\n      <td>Saint Petersburg</td>\n    </tr>\n    <tr>\n      <th>2</th>\n      <td>{'AMS', 'ABZ'}</td>\n      <td>85.0</td>\n      <td>AMS</td>\n      <td>ABZ</td>\n      <td>AMS</td>\n      <td>Amsterdam</td>\n      <td>ABZ</td>\n      <td>Aberdeen</td>\n    </tr>\n    <tr>\n      <th>3</th>\n      <td>{'ABZ', 'LGW'}</td>\n      <td>95.0</td>\n      <td>ABZ</td>\n      <td>LGW</td>\n      <td>ABZ</td>\n      <td>Aberdeen</td>\n      <td>LGW</td>\n      <td>London</td>\n    </tr>\n    <tr>\n      <th>4</th>\n      <td>{'ACE', 'AGP'}</td>\n      <td>130.0</td>\n      <td>ACE</td>\n      <td>AGP</td>\n      <td>ACE</td>\n      <td>Arrecife</td>\n      <td>AGP</td>\n      <td>Málaga</td>\n    </tr>\n    <tr>\n      <th>...</th>\n      <td>...</td>\n      <td>...</td>\n      <td>...</td>\n      <td>...</td>\n      <td>...</td>\n      <td>...</td>\n      <td>...</td>\n      <td>...</td>\n    </tr>\n    <tr>\n      <th>1333</th>\n      <td>{'ZRH', 'OTP'}</td>\n      <td>150.0</td>\n      <td>ZRH</td>\n      <td>OTP</td>\n      <td>ZRH</td>\n      <td>Zürich</td>\n      <td>OTP</td>\n      <td>Bucharest</td>\n    </tr>\n    <tr>\n      <th>1334</th>\n      <td>{'ZRH', 'PRN'}</td>\n      <td>127.5</td>\n      <td>ZRH</td>\n      <td>PRN</td>\n      <td>ZRH</td>\n      <td>Zürich</td>\n      <td>PRN</td>\n      <td>Pristina</td>\n    </tr>\n    <tr>\n      <th>1335</th>\n      <td>{'ZRH', 'RVN'}</td>\n      <td>205.0</td>\n      <td>ZRH</td>\n      <td>RVN</td>\n      <td>ZRH</td>\n      <td>Zürich</td>\n      <td>RVN</td>\n      <td>Rovaniemi</td>\n    </tr>\n    <tr>\n      <th>1336</th>\n      <td>{'ZRH', 'STR'}</td>\n      <td>45.0</td>\n      <td>ZRH</td>\n      <td>STR</td>\n      <td>ZRH</td>\n      <td>Zürich</td>\n      <td>STR</td>\n      <td>Stuttgart</td>\n    </tr>\n    <tr>\n      <th>1337</th>\n      <td>{'ZTH', 'ATH'}</td>\n      <td>62.5</td>\n      <td>ZTH</td>\n      <td>ATH</td>\n      <td>ZTH</td>\n      <td>Alykés</td>\n      <td>ATH</td>\n      <td>Athens</td>\n    </tr>\n  </tbody>\n</table>\n<p>1338 rows × 8 columns</p>\n</div>"
     },
     "execution_count": 150,
     "metadata": {},
     "output_type": "execute_result"
    }
   ],
   "source": [
    "new_flight_routes.rename(columns={'nearest city': 'arrival city'}, inplace=True) # rename new city names\n",
    "new_flight_routes"
   ],
   "metadata": {
    "collapsed": false,
    "ExecuteTime": {
     "end_time": "2024-01-22T23:17:16.948832Z",
     "start_time": "2024-01-22T23:17:16.886139Z"
    }
   },
   "id": "2c6a3dcf50af9ee6",
   "execution_count": 150
  },
  {
   "cell_type": "code",
   "outputs": [
    {
     "data": {
      "text/plain": "               route   time departure airport arrival airport departure city  \\\n0     {'AAL', 'AMS'}   85.0               AAL             AMS        Aalborg   \n1     {'AAQ', 'LED'}  170.0               AAQ             LED   Novorossiysk   \n2     {'AMS', 'ABZ'}   85.0               AMS             ABZ      Amsterdam   \n3     {'ABZ', 'LGW'}   95.0               ABZ             LGW       Aberdeen   \n4     {'ACE', 'AGP'}  130.0               ACE             AGP       Arrecife   \n...              ...    ...               ...             ...            ...   \n1333  {'ZRH', 'OTP'}  150.0               ZRH             OTP         Zürich   \n1334  {'ZRH', 'PRN'}  127.5               ZRH             PRN         Zürich   \n1335  {'ZRH', 'RVN'}  205.0               ZRH             RVN         Zürich   \n1336  {'ZRH', 'STR'}   45.0               ZRH             STR         Zürich   \n1337  {'ZTH', 'ATH'}   62.5               ZTH             ATH         Alykés   \n\n          arrival city  \n0            Amsterdam  \n1     Saint Petersburg  \n2             Aberdeen  \n3               London  \n4               Málaga  \n...                ...  \n1333         Bucharest  \n1334          Pristina  \n1335         Rovaniemi  \n1336         Stuttgart  \n1337            Athens  \n\n[1338 rows x 6 columns]",
      "text/html": "<div>\n<style scoped>\n    .dataframe tbody tr th:only-of-type {\n        vertical-align: middle;\n    }\n\n    .dataframe tbody tr th {\n        vertical-align: top;\n    }\n\n    .dataframe thead th {\n        text-align: right;\n    }\n</style>\n<table border=\"1\" class=\"dataframe\">\n  <thead>\n    <tr style=\"text-align: right;\">\n      <th></th>\n      <th>route</th>\n      <th>time</th>\n      <th>departure airport</th>\n      <th>arrival airport</th>\n      <th>departure city</th>\n      <th>arrival city</th>\n    </tr>\n  </thead>\n  <tbody>\n    <tr>\n      <th>0</th>\n      <td>{'AAL', 'AMS'}</td>\n      <td>85.0</td>\n      <td>AAL</td>\n      <td>AMS</td>\n      <td>Aalborg</td>\n      <td>Amsterdam</td>\n    </tr>\n    <tr>\n      <th>1</th>\n      <td>{'AAQ', 'LED'}</td>\n      <td>170.0</td>\n      <td>AAQ</td>\n      <td>LED</td>\n      <td>Novorossiysk</td>\n      <td>Saint Petersburg</td>\n    </tr>\n    <tr>\n      <th>2</th>\n      <td>{'AMS', 'ABZ'}</td>\n      <td>85.0</td>\n      <td>AMS</td>\n      <td>ABZ</td>\n      <td>Amsterdam</td>\n      <td>Aberdeen</td>\n    </tr>\n    <tr>\n      <th>3</th>\n      <td>{'ABZ', 'LGW'}</td>\n      <td>95.0</td>\n      <td>ABZ</td>\n      <td>LGW</td>\n      <td>Aberdeen</td>\n      <td>London</td>\n    </tr>\n    <tr>\n      <th>4</th>\n      <td>{'ACE', 'AGP'}</td>\n      <td>130.0</td>\n      <td>ACE</td>\n      <td>AGP</td>\n      <td>Arrecife</td>\n      <td>Málaga</td>\n    </tr>\n    <tr>\n      <th>...</th>\n      <td>...</td>\n      <td>...</td>\n      <td>...</td>\n      <td>...</td>\n      <td>...</td>\n      <td>...</td>\n    </tr>\n    <tr>\n      <th>1333</th>\n      <td>{'ZRH', 'OTP'}</td>\n      <td>150.0</td>\n      <td>ZRH</td>\n      <td>OTP</td>\n      <td>Zürich</td>\n      <td>Bucharest</td>\n    </tr>\n    <tr>\n      <th>1334</th>\n      <td>{'ZRH', 'PRN'}</td>\n      <td>127.5</td>\n      <td>ZRH</td>\n      <td>PRN</td>\n      <td>Zürich</td>\n      <td>Pristina</td>\n    </tr>\n    <tr>\n      <th>1335</th>\n      <td>{'ZRH', 'RVN'}</td>\n      <td>205.0</td>\n      <td>ZRH</td>\n      <td>RVN</td>\n      <td>Zürich</td>\n      <td>Rovaniemi</td>\n    </tr>\n    <tr>\n      <th>1336</th>\n      <td>{'ZRH', 'STR'}</td>\n      <td>45.0</td>\n      <td>ZRH</td>\n      <td>STR</td>\n      <td>Zürich</td>\n      <td>Stuttgart</td>\n    </tr>\n    <tr>\n      <th>1337</th>\n      <td>{'ZTH', 'ATH'}</td>\n      <td>62.5</td>\n      <td>ZTH</td>\n      <td>ATH</td>\n      <td>Alykés</td>\n      <td>Athens</td>\n    </tr>\n  </tbody>\n</table>\n<p>1338 rows × 6 columns</p>\n</div>"
     },
     "execution_count": 151,
     "metadata": {},
     "output_type": "execute_result"
    }
   ],
   "source": [
    "new_flight_routes.drop(columns=['iata_code_x', 'iata_code_y'], inplace=True) # remove redundant columns\n",
    "new_flight_routes"
   ],
   "metadata": {
    "collapsed": false,
    "ExecuteTime": {
     "end_time": "2024-01-22T23:17:46.243461Z",
     "start_time": "2024-01-22T23:17:46.183315Z"
    }
   },
   "id": "2f30fa582713805a",
   "execution_count": 151
  },
  {
   "cell_type": "markdown",
   "source": [
    "### Writing to csv"
   ],
   "metadata": {
    "collapsed": false
   },
   "id": "84fa1b7c2450f0d6"
  },
  {
   "cell_type": "markdown",
   "source": [
    "#### For the google maps API"
   ],
   "metadata": {
    "collapsed": false
   },
   "id": "60aa98af3223495f"
  },
  {
   "cell_type": "code",
   "outputs": [],
   "source": [
    "new_flight_routes[['departure city', 'arrival city']].to_csv(\"../datasets/new_geo_flights.csv\",index=False, header=True)"
   ],
   "metadata": {
    "collapsed": false,
    "ExecuteTime": {
     "end_time": "2024-01-22T23:18:04.164696Z",
     "start_time": "2024-01-22T23:18:04.135978Z"
    }
   },
   "id": "f46d8ad7dea39b2f",
   "execution_count": 152
  },
  {
   "cell_type": "markdown",
   "source": [
    "#### For merging with the train times"
   ],
   "metadata": {
    "collapsed": false
   },
   "id": "ac8758d9007bef88"
  },
  {
   "cell_type": "code",
   "outputs": [],
   "source": [
    "new_flight_routes.to_csv(\"../datasets/final_flight_routes.csv\",index=False, header=True)"
   ],
   "metadata": {
    "collapsed": false,
    "ExecuteTime": {
     "end_time": "2024-01-23T00:47:48.208327Z",
     "start_time": "2024-01-23T00:47:48.172089Z"
    }
   },
   "id": "5807c1ebf38e7419",
   "execution_count": 153
  },
  {
   "cell_type": "markdown",
   "id": "3689cc4d371381df",
   "metadata": {
    "collapsed": false
   },
   "source": [
    "## DistanceMatrix API from Google Maps\n",
    "One of our main problems so far is that we can't match the names of cities from the datasets of flights and trains. If we use the DistanceMatrix API from Google Maps, we can obtain train travel times from the airport city names, which should mostly resolve the problem."
   ]
  },
  {
   "cell_type": "code",
   "outputs": [],
   "source": [
    "import pandas as pd\n",
    "import requests\n",
    "import json\n",
    "from datetime import datetime, timezone, timedelta"
   ],
   "metadata": {
    "collapsed": false
   },
   "id": "c3d4f0a055729d2f",
   "execution_count": 0
  },
  {
   "cell_type": "markdown",
   "source": [
    "### Dividing the dataframe into 5 parts"
   ],
   "metadata": {
    "collapsed": false
   },
   "id": "be0661ecc7d220a3"
  },
  {
   "cell_type": "markdown",
   "source": [
    "Dividing file with needed routes into 5 files to make it possible to extract data through Google Distance Matrix API."
   ],
   "metadata": {
    "collapsed": false
   },
   "id": "91be2518ec48bcad"
  },
  {
   "cell_type": "code",
   "outputs": [],
   "source": [
    "updated_city_names_df = pd.read_csv(\"datasets/new_geo_flights.csv\")"
   ],
   "metadata": {
    "collapsed": false
   },
   "id": "b127edff5904d460",
   "execution_count": 41
  },
  {
   "cell_type": "code",
   "outputs": [],
   "source": [
    "# Calculate the number of files needed\n",
    "num_files = (len(updated_city_names_df) + 299) // 300\n",
    "\n",
    "# Split the DataFrame into chunks of 300 rows each\n",
    "df_chunks = [updated_city_names_df.iloc[i:i+300] for i in range(0, len(updated_city_names_df), 300)]\n",
    "\n",
    "# Save each chunk to a separate file\n",
    "for i, chunk in enumerate(df_chunks):\n",
    "    chunk.to_csv(f'datasets/flight_times3/flight_times_{i+1}.csv', index=False)"
   ],
   "metadata": {
    "collapsed": false
   },
   "id": "4909a0fb4a810311",
   "execution_count": 42
  },
  {
   "cell_type": "markdown",
   "source": [
    "### Distance Matrix API"
   ],
   "metadata": {
    "collapsed": false
   },
   "id": "835021c547491400"
  },
  {
   "cell_type": "markdown",
   "source": [
    "Extracting train data with Distance Matrix API"
   ],
   "metadata": {
    "collapsed": false
   },
   "id": "666a8b8d1b17d905"
  },
  {
   "cell_type": "code",
   "outputs": [],
   "source": [
    "# Method for calling the API\n",
    "def call_matrix_api(origins, destination, departure_time, mode='transit'):\n",
    "    url = 'https://maps.googleapis.com/maps/api/distancematrix/json'\n",
    "    key = ''  #API key\n",
    "    params = {'key': key, \n",
    "              'origins': origins, \n",
    "              'destinations': destination, \n",
    "              'mode': mode,\n",
    "              'transit_mode': 'train',\n",
    "              'departure_time': departure_time \n",
    "              }\n",
    "\n",
    "    req = requests.get(url=url, params=params)\n",
    "    response = json.loads(req.content)\n",
    "    return response\n",
    "\n",
    "# Convert '23.01.2024 07:00' to a UNIX timestamp\n",
    "departure_time_str = '23.01.2024 08:00'\n",
    "departure_time_obj = datetime.strptime(departure_time_str, '%d.%m.%Y %H:%M')\n",
    "departure_time_obj_utc = departure_time_obj.replace(tzinfo=timezone.utc)\n",
    "departure_time_unix = int(departure_time_obj_utc.timestamp())\n",
    "\n",
    "# Read the location data\n",
    "df = pd.read_csv('datasets/flight_times3/flight_times_5.csv')\n",
    "\n",
    "# Get the list of destinations\n",
    "destinations = df['arrival city'].value_counts().index\n",
    "\n",
    "results = []\n",
    "\n",
    "for destination in destinations:\n",
    "    # Leave only rows with one destination\n",
    "    df_temp = df[df['arrival city'] == destination]\n",
    "\n",
    "    for index, row in df_temp.iterrows():\n",
    "        origin = row['departure city']\n",
    "        \n",
    "        # Call the API for transit information (train mode)\n",
    "        api_response = call_matrix_api(origin, destination, mode='transit', departure_time=departure_time_unix)\n",
    "\n",
    "        # Extract transit information\n",
    "        if api_response['status'] == 'OK':\n",
    "            for row in api_response['rows']:\n",
    "                for element in row['elements']:\n",
    "                    if element['status'] == 'OK':\n",
    "                        transit_distance = element.get('distance', {}).get('value', -1)\n",
    "                        transit_time_seconds = element.get('duration', {}).get('value', -1)\n",
    "                        \n",
    "                        # Convert transit time from seconds to minutes\n",
    "                        #transit_time_minutes = transit_time_seconds / 60.0\n",
    "                        \n",
    "                        results.append([origin, destination, transit_distance, transit_time_seconds])\n",
    "                    else:\n",
    "                        results.append([origin, destination, -1, -1])\n",
    "        else:\n",
    "            results.append([origin, destination, -1, -1])\n",
    "\n",
    "# Create a dataframe out of the results list\n",
    "results_df = pd.DataFrame(results, columns=['departure city', 'arrival city', 'transit_distance [m]', 'transit_time [s]'])\n",
    "\n",
    "# Export to CSV\n",
    "results_df.to_csv('datasets/train_distances3/train_distances_5.csv', index=False)\n"
   ],
   "metadata": {
    "collapsed": false
   },
   "id": "da6178ddccc0a8ea",
   "execution_count": 47
  },
  {
   "cell_type": "markdown",
   "source": [
    "### Combine data back in one file"
   ],
   "metadata": {
    "collapsed": false
   },
   "id": "86d71198b96d57dc"
  },
  {
   "cell_type": "markdown",
   "source": [
    "Combine result train_distances files in 1"
   ],
   "metadata": {
    "collapsed": false
   },
   "id": "437179e004d3a8ee"
  },
  {
   "cell_type": "code",
   "outputs": [],
   "source": [
    "# List to store individual DataFrames\n",
    "dfs = []\n",
    "\n",
    "# Number of files\n",
    "num_files = 5\n",
    "\n",
    "# Reading and appending each CSV file to the list\n",
    "for i in range(1, num_files + 1):\n",
    "    file_path = f'datasets/train_distances3/train_distances_{i}.csv'\n",
    "    df_chunk = pd.read_csv(file_path)\n",
    "    dfs.append(df_chunk)\n",
    "\n",
    "# Concatenate the DataFrames\n",
    "combined_df = pd.concat(dfs, ignore_index=True)\n",
    "\n",
    "# Save the combined DataFrame to a new CSV file\n",
    "combined_df.to_csv('datasets/train_distances3/combined_train_distances3.csv', index=False)"
   ],
   "metadata": {
    "collapsed": false
   },
   "id": "89342db58bbcb210",
   "execution_count": 49
  },
  {
   "cell_type": "markdown",
   "source": [
    "## Merging flights with train data from DistanceMatrix"
   ],
   "metadata": {
    "collapsed": false
   },
   "id": "cfb8c00a349a676f"
  },
  {
   "cell_type": "code",
   "outputs": [
    {
     "data": {
      "text/html": [
       "<div>\n",
       "<style scoped>\n",
       "    .dataframe tbody tr th:only-of-type {\n",
       "        vertical-align: middle;\n",
       "    }\n",
       "\n",
       "    .dataframe tbody tr th {\n",
       "        vertical-align: top;\n",
       "    }\n",
       "\n",
       "    .dataframe thead th {\n",
       "        text-align: right;\n",
       "    }\n",
       "</style>\n",
       "<table border=\"1\" class=\"dataframe\">\n",
       "  <thead>\n",
       "    <tr style=\"text-align: right;\">\n",
       "      <th></th>\n",
       "      <th>route</th>\n",
       "      <th>time</th>\n",
       "      <th>departure airport</th>\n",
       "      <th>arrival airport</th>\n",
       "      <th>departure city</th>\n",
       "      <th>arrival city</th>\n",
       "    </tr>\n",
       "  </thead>\n",
       "  <tbody>\n",
       "    <tr>\n",
       "      <th>0</th>\n",
       "      <td>{'AAL', 'AMS'}</td>\n",
       "      <td>85.0</td>\n",
       "      <td>AAL</td>\n",
       "      <td>AMS</td>\n",
       "      <td>Aalborg</td>\n",
       "      <td>Amsterdam</td>\n",
       "    </tr>\n",
       "    <tr>\n",
       "      <th>1</th>\n",
       "      <td>{'AAQ', 'LED'}</td>\n",
       "      <td>170.0</td>\n",
       "      <td>AAQ</td>\n",
       "      <td>LED</td>\n",
       "      <td>Novorossiysk</td>\n",
       "      <td>Saint Petersburg</td>\n",
       "    </tr>\n",
       "    <tr>\n",
       "      <th>2</th>\n",
       "      <td>{'AMS', 'ABZ'}</td>\n",
       "      <td>85.0</td>\n",
       "      <td>AMS</td>\n",
       "      <td>ABZ</td>\n",
       "      <td>Amsterdam</td>\n",
       "      <td>Aberdeen</td>\n",
       "    </tr>\n",
       "    <tr>\n",
       "      <th>3</th>\n",
       "      <td>{'ABZ', 'LGW'}</td>\n",
       "      <td>95.0</td>\n",
       "      <td>ABZ</td>\n",
       "      <td>LGW</td>\n",
       "      <td>Aberdeen</td>\n",
       "      <td>London</td>\n",
       "    </tr>\n",
       "    <tr>\n",
       "      <th>4</th>\n",
       "      <td>{'ACE', 'AGP'}</td>\n",
       "      <td>130.0</td>\n",
       "      <td>ACE</td>\n",
       "      <td>AGP</td>\n",
       "      <td>Arrecife</td>\n",
       "      <td>Málaga</td>\n",
       "    </tr>\n",
       "    <tr>\n",
       "      <th>...</th>\n",
       "      <td>...</td>\n",
       "      <td>...</td>\n",
       "      <td>...</td>\n",
       "      <td>...</td>\n",
       "      <td>...</td>\n",
       "      <td>...</td>\n",
       "    </tr>\n",
       "    <tr>\n",
       "      <th>1333</th>\n",
       "      <td>{'ZRH', 'OTP'}</td>\n",
       "      <td>150.0</td>\n",
       "      <td>ZRH</td>\n",
       "      <td>OTP</td>\n",
       "      <td>Zürich</td>\n",
       "      <td>Bucharest</td>\n",
       "    </tr>\n",
       "    <tr>\n",
       "      <th>1334</th>\n",
       "      <td>{'ZRH', 'PRN'}</td>\n",
       "      <td>127.5</td>\n",
       "      <td>ZRH</td>\n",
       "      <td>PRN</td>\n",
       "      <td>Zürich</td>\n",
       "      <td>Pristina</td>\n",
       "    </tr>\n",
       "    <tr>\n",
       "      <th>1335</th>\n",
       "      <td>{'ZRH', 'RVN'}</td>\n",
       "      <td>205.0</td>\n",
       "      <td>ZRH</td>\n",
       "      <td>RVN</td>\n",
       "      <td>Zürich</td>\n",
       "      <td>Rovaniemi</td>\n",
       "    </tr>\n",
       "    <tr>\n",
       "      <th>1336</th>\n",
       "      <td>{'ZRH', 'STR'}</td>\n",
       "      <td>45.0</td>\n",
       "      <td>ZRH</td>\n",
       "      <td>STR</td>\n",
       "      <td>Zürich</td>\n",
       "      <td>Stuttgart</td>\n",
       "    </tr>\n",
       "    <tr>\n",
       "      <th>1337</th>\n",
       "      <td>{'ZTH', 'ATH'}</td>\n",
       "      <td>62.5</td>\n",
       "      <td>ZTH</td>\n",
       "      <td>ATH</td>\n",
       "      <td>Alykés</td>\n",
       "      <td>Athens</td>\n",
       "    </tr>\n",
       "  </tbody>\n",
       "</table>\n",
       "<p>1338 rows × 6 columns</p>\n",
       "</div>"
      ],
      "text/plain": [
       "               route   time departure airport arrival airport departure city  \\\n",
       "0     {'AAL', 'AMS'}   85.0               AAL             AMS        Aalborg   \n",
       "1     {'AAQ', 'LED'}  170.0               AAQ             LED   Novorossiysk   \n",
       "2     {'AMS', 'ABZ'}   85.0               AMS             ABZ      Amsterdam   \n",
       "3     {'ABZ', 'LGW'}   95.0               ABZ             LGW       Aberdeen   \n",
       "4     {'ACE', 'AGP'}  130.0               ACE             AGP       Arrecife   \n",
       "...              ...    ...               ...             ...            ...   \n",
       "1333  {'ZRH', 'OTP'}  150.0               ZRH             OTP         Zürich   \n",
       "1334  {'ZRH', 'PRN'}  127.5               ZRH             PRN         Zürich   \n",
       "1335  {'ZRH', 'RVN'}  205.0               ZRH             RVN         Zürich   \n",
       "1336  {'ZRH', 'STR'}   45.0               ZRH             STR         Zürich   \n",
       "1337  {'ZTH', 'ATH'}   62.5               ZTH             ATH         Alykés   \n",
       "\n",
       "          arrival city  \n",
       "0            Amsterdam  \n",
       "1     Saint Petersburg  \n",
       "2             Aberdeen  \n",
       "3               London  \n",
       "4               Málaga  \n",
       "...                ...  \n",
       "1333         Bucharest  \n",
       "1334          Pristina  \n",
       "1335         Rovaniemi  \n",
       "1336         Stuttgart  \n",
       "1337            Athens  \n",
       "\n",
       "[1338 rows x 6 columns]"
      ]
     },
     "execution_count": 54,
     "metadata": {},
     "output_type": "execute_result"
    }
   ],
   "source": [
    "flights = pd.read_csv('./datasets/final_flight_routes.csv')\n",
    "flights"
   ],
   "metadata": {
    "collapsed": false
   },
   "id": "6495d25e5bb7eed7",
   "execution_count": 54
  },
  {
   "cell_type": "code",
   "outputs": [
    {
     "data": {
      "text/html": [
       "<div>\n",
       "<style scoped>\n",
       "    .dataframe tbody tr th:only-of-type {\n",
       "        vertical-align: middle;\n",
       "    }\n",
       "\n",
       "    .dataframe tbody tr th {\n",
       "        vertical-align: top;\n",
       "    }\n",
       "\n",
       "    .dataframe thead th {\n",
       "        text-align: right;\n",
       "    }\n",
       "</style>\n",
       "<table border=\"1\" class=\"dataframe\">\n",
       "  <thead>\n",
       "    <tr style=\"text-align: right;\">\n",
       "      <th></th>\n",
       "      <th>departure city</th>\n",
       "      <th>arrival city</th>\n",
       "      <th>transit_distance [m]</th>\n",
       "      <th>transit_time [s]</th>\n",
       "    </tr>\n",
       "  </thead>\n",
       "  <tbody>\n",
       "    <tr>\n",
       "      <th>0</th>\n",
       "      <td>Arrecife</td>\n",
       "      <td>Barcelona</td>\n",
       "      <td>-1</td>\n",
       "      <td>-1</td>\n",
       "    </tr>\n",
       "    <tr>\n",
       "      <th>1</th>\n",
       "      <td>Alicante</td>\n",
       "      <td>Barcelona</td>\n",
       "      <td>525005</td>\n",
       "      <td>19080</td>\n",
       "    </tr>\n",
       "    <tr>\n",
       "      <th>2</th>\n",
       "      <td>Amsterdam</td>\n",
       "      <td>Barcelona</td>\n",
       "      <td>1627336</td>\n",
       "      <td>44340</td>\n",
       "    </tr>\n",
       "    <tr>\n",
       "      <th>3</th>\n",
       "      <td>Athens</td>\n",
       "      <td>Barcelona</td>\n",
       "      <td>-1</td>\n",
       "      <td>-1</td>\n",
       "    </tr>\n",
       "    <tr>\n",
       "      <th>4</th>\n",
       "      <td>Málaga</td>\n",
       "      <td>Barcelona</td>\n",
       "      <td>1110453</td>\n",
       "      <td>22380</td>\n",
       "    </tr>\n",
       "    <tr>\n",
       "      <th>...</th>\n",
       "      <td>...</td>\n",
       "      <td>...</td>\n",
       "      <td>...</td>\n",
       "      <td>...</td>\n",
       "    </tr>\n",
       "    <tr>\n",
       "      <th>1333</th>\n",
       "      <td>Vienna</td>\n",
       "      <td>Santander</td>\n",
       "      <td>-1</td>\n",
       "      <td>-1</td>\n",
       "    </tr>\n",
       "    <tr>\n",
       "      <th>1334</th>\n",
       "      <td>Vienna</td>\n",
       "      <td>Tromsø</td>\n",
       "      <td>3970237</td>\n",
       "      <td>197151</td>\n",
       "    </tr>\n",
       "    <tr>\n",
       "      <th>1335</th>\n",
       "      <td>Moscow</td>\n",
       "      <td>Groznyy</td>\n",
       "      <td>3147441</td>\n",
       "      <td>126600</td>\n",
       "    </tr>\n",
       "    <tr>\n",
       "      <th>1336</th>\n",
       "      <td>Moscow</td>\n",
       "      <td>Samara</td>\n",
       "      <td>1569205</td>\n",
       "      <td>52860</td>\n",
       "    </tr>\n",
       "    <tr>\n",
       "      <th>1337</th>\n",
       "      <td>Zürich</td>\n",
       "      <td>Rovaniemi</td>\n",
       "      <td>-1</td>\n",
       "      <td>-1</td>\n",
       "    </tr>\n",
       "  </tbody>\n",
       "</table>\n",
       "<p>1338 rows × 4 columns</p>\n",
       "</div>"
      ],
      "text/plain": [
       "     departure city arrival city  transit_distance [m]  transit_time [s]\n",
       "0          Arrecife    Barcelona                    -1                -1\n",
       "1          Alicante    Barcelona                525005             19080\n",
       "2         Amsterdam    Barcelona               1627336             44340\n",
       "3            Athens    Barcelona                    -1                -1\n",
       "4            Málaga    Barcelona               1110453             22380\n",
       "...             ...          ...                   ...               ...\n",
       "1333         Vienna    Santander                    -1                -1\n",
       "1334         Vienna       Tromsø               3970237            197151\n",
       "1335         Moscow      Groznyy               3147441            126600\n",
       "1336         Moscow       Samara               1569205             52860\n",
       "1337         Zürich    Rovaniemi                    -1                -1\n",
       "\n",
       "[1338 rows x 4 columns]"
      ]
     },
     "execution_count": 56,
     "metadata": {},
     "output_type": "execute_result"
    }
   ],
   "source": [
    "trains =  pd.read_csv('./datasets/train_distances3/combined_train_distances3.csv')\n",
    "trains"
   ],
   "metadata": {
    "collapsed": false
   },
   "id": "e980a6528c647a0e",
   "execution_count": 56
  },
  {
   "cell_type": "code",
   "outputs": [
    {
     "name": "stdout",
     "output_type": "stream",
     "text": [
      "Number of rows in flights: 1338\n",
      "Number of rows in trains: 1338\n"
     ]
    }
   ],
   "source": [
    "print(\"Number of rows in flights:\", flights.shape[0])\n",
    "print(\"Number of rows in trains:\", trains.shape[0])"
   ],
   "metadata": {
    "collapsed": false
   },
   "id": "d0b3d986e5346bae",
   "execution_count": 57
  },
  {
   "cell_type": "code",
   "outputs": [
    {
     "name": "stdout",
     "output_type": "stream",
     "text": [
      "Number of rows in merged data: 1572\n"
     ]
    }
   ],
   "source": [
    "merged_data = pd.merge(flights, trains, on=['departure city', 'arrival city'])\n",
    "print(\"Number of rows in merged data:\", merged_data.shape[0])"
   ],
   "metadata": {
    "collapsed": false
   },
   "id": "aca07cc5661bdb17",
   "execution_count": 58
  },
  {
   "cell_type": "code",
   "outputs": [
    {
     "data": {
      "text/html": [
       "<div>\n",
       "<style scoped>\n",
       "    .dataframe tbody tr th:only-of-type {\n",
       "        vertical-align: middle;\n",
       "    }\n",
       "\n",
       "    .dataframe tbody tr th {\n",
       "        vertical-align: top;\n",
       "    }\n",
       "\n",
       "    .dataframe thead th {\n",
       "        text-align: right;\n",
       "    }\n",
       "</style>\n",
       "<table border=\"1\" class=\"dataframe\">\n",
       "  <thead>\n",
       "    <tr style=\"text-align: right;\">\n",
       "      <th></th>\n",
       "      <th>route</th>\n",
       "      <th>time</th>\n",
       "      <th>departure airport</th>\n",
       "      <th>arrival airport</th>\n",
       "      <th>departure city</th>\n",
       "      <th>arrival city</th>\n",
       "      <th>transit_distance [m]</th>\n",
       "      <th>transit_time [s]</th>\n",
       "    </tr>\n",
       "  </thead>\n",
       "  <tbody>\n",
       "    <tr>\n",
       "      <th>0</th>\n",
       "      <td>{'AAL', 'AMS'}</td>\n",
       "      <td>85.0</td>\n",
       "      <td>AAL</td>\n",
       "      <td>AMS</td>\n",
       "      <td>Aalborg</td>\n",
       "      <td>Amsterdam</td>\n",
       "      <td>1014627</td>\n",
       "      <td>43500</td>\n",
       "    </tr>\n",
       "    <tr>\n",
       "      <th>1</th>\n",
       "      <td>{'AAQ', 'LED'}</td>\n",
       "      <td>170.0</td>\n",
       "      <td>AAQ</td>\n",
       "      <td>LED</td>\n",
       "      <td>Novorossiysk</td>\n",
       "      <td>Saint Petersburg</td>\n",
       "      <td>2538536</td>\n",
       "      <td>110220</td>\n",
       "    </tr>\n",
       "    <tr>\n",
       "      <th>2</th>\n",
       "      <td>{'AAQ', 'LED'}</td>\n",
       "      <td>170.0</td>\n",
       "      <td>AAQ</td>\n",
       "      <td>LED</td>\n",
       "      <td>Novorossiysk</td>\n",
       "      <td>Saint Petersburg</td>\n",
       "      <td>2538536</td>\n",
       "      <td>110220</td>\n",
       "    </tr>\n",
       "    <tr>\n",
       "      <th>3</th>\n",
       "      <td>{'GDZ', 'LED'}</td>\n",
       "      <td>180.0</td>\n",
       "      <td>GDZ</td>\n",
       "      <td>LED</td>\n",
       "      <td>Novorossiysk</td>\n",
       "      <td>Saint Petersburg</td>\n",
       "      <td>2538536</td>\n",
       "      <td>110220</td>\n",
       "    </tr>\n",
       "    <tr>\n",
       "      <th>4</th>\n",
       "      <td>{'GDZ', 'LED'}</td>\n",
       "      <td>180.0</td>\n",
       "      <td>GDZ</td>\n",
       "      <td>LED</td>\n",
       "      <td>Novorossiysk</td>\n",
       "      <td>Saint Petersburg</td>\n",
       "      <td>2538536</td>\n",
       "      <td>110220</td>\n",
       "    </tr>\n",
       "    <tr>\n",
       "      <th>...</th>\n",
       "      <td>...</td>\n",
       "      <td>...</td>\n",
       "      <td>...</td>\n",
       "      <td>...</td>\n",
       "      <td>...</td>\n",
       "      <td>...</td>\n",
       "      <td>...</td>\n",
       "      <td>...</td>\n",
       "    </tr>\n",
       "    <tr>\n",
       "      <th>1567</th>\n",
       "      <td>{'ZRH', 'OTP'}</td>\n",
       "      <td>150.0</td>\n",
       "      <td>ZRH</td>\n",
       "      <td>OTP</td>\n",
       "      <td>Zürich</td>\n",
       "      <td>Bucharest</td>\n",
       "      <td>1923309</td>\n",
       "      <td>95580</td>\n",
       "    </tr>\n",
       "    <tr>\n",
       "      <th>1568</th>\n",
       "      <td>{'ZRH', 'PRN'}</td>\n",
       "      <td>127.5</td>\n",
       "      <td>ZRH</td>\n",
       "      <td>PRN</td>\n",
       "      <td>Zürich</td>\n",
       "      <td>Pristina</td>\n",
       "      <td>1622886</td>\n",
       "      <td>254489</td>\n",
       "    </tr>\n",
       "    <tr>\n",
       "      <th>1569</th>\n",
       "      <td>{'ZRH', 'RVN'}</td>\n",
       "      <td>205.0</td>\n",
       "      <td>ZRH</td>\n",
       "      <td>RVN</td>\n",
       "      <td>Zürich</td>\n",
       "      <td>Rovaniemi</td>\n",
       "      <td>-1</td>\n",
       "      <td>-1</td>\n",
       "    </tr>\n",
       "    <tr>\n",
       "      <th>1570</th>\n",
       "      <td>{'ZRH', 'STR'}</td>\n",
       "      <td>45.0</td>\n",
       "      <td>ZRH</td>\n",
       "      <td>STR</td>\n",
       "      <td>Zürich</td>\n",
       "      <td>Stuttgart</td>\n",
       "      <td>418160</td>\n",
       "      <td>15960</td>\n",
       "    </tr>\n",
       "    <tr>\n",
       "      <th>1571</th>\n",
       "      <td>{'ZTH', 'ATH'}</td>\n",
       "      <td>62.5</td>\n",
       "      <td>ZTH</td>\n",
       "      <td>ATH</td>\n",
       "      <td>Alykés</td>\n",
       "      <td>Athens</td>\n",
       "      <td>-1</td>\n",
       "      <td>-1</td>\n",
       "    </tr>\n",
       "  </tbody>\n",
       "</table>\n",
       "<p>1572 rows × 8 columns</p>\n",
       "</div>"
      ],
      "text/plain": [
       "               route   time departure airport arrival airport departure city  \\\n",
       "0     {'AAL', 'AMS'}   85.0               AAL             AMS        Aalborg   \n",
       "1     {'AAQ', 'LED'}  170.0               AAQ             LED   Novorossiysk   \n",
       "2     {'AAQ', 'LED'}  170.0               AAQ             LED   Novorossiysk   \n",
       "3     {'GDZ', 'LED'}  180.0               GDZ             LED   Novorossiysk   \n",
       "4     {'GDZ', 'LED'}  180.0               GDZ             LED   Novorossiysk   \n",
       "...              ...    ...               ...             ...            ...   \n",
       "1567  {'ZRH', 'OTP'}  150.0               ZRH             OTP         Zürich   \n",
       "1568  {'ZRH', 'PRN'}  127.5               ZRH             PRN         Zürich   \n",
       "1569  {'ZRH', 'RVN'}  205.0               ZRH             RVN         Zürich   \n",
       "1570  {'ZRH', 'STR'}   45.0               ZRH             STR         Zürich   \n",
       "1571  {'ZTH', 'ATH'}   62.5               ZTH             ATH         Alykés   \n",
       "\n",
       "          arrival city  transit_distance [m]  transit_time [s]  \n",
       "0            Amsterdam               1014627             43500  \n",
       "1     Saint Petersburg               2538536            110220  \n",
       "2     Saint Petersburg               2538536            110220  \n",
       "3     Saint Petersburg               2538536            110220  \n",
       "4     Saint Petersburg               2538536            110220  \n",
       "...                ...                   ...               ...  \n",
       "1567         Bucharest               1923309             95580  \n",
       "1568          Pristina               1622886            254489  \n",
       "1569         Rovaniemi                    -1                -1  \n",
       "1570         Stuttgart                418160             15960  \n",
       "1571            Athens                    -1                -1  \n",
       "\n",
       "[1572 rows x 8 columns]"
      ]
     },
     "execution_count": 59,
     "metadata": {},
     "output_type": "execute_result"
    }
   ],
   "source": [
    "merged_data"
   ],
   "metadata": {
    "collapsed": false
   },
   "id": "b411d021090d1b40",
   "execution_count": 59
  },
  {
   "cell_type": "markdown",
   "source": [
    "## Removing duplicates"
   ],
   "metadata": {
    "collapsed": false
   },
   "id": "1fe6ed0f3f014c55"
  },
  {
   "cell_type": "code",
   "outputs": [
    {
     "name": "stdout",
     "output_type": "stream",
     "text": [
      "Number of rows after removing duplicates: 1338\n",
      "<class 'pandas.core.frame.DataFrame'>\n",
      "Int64Index: 1338 entries, 0 to 1571\n",
      "Data columns (total 8 columns):\n",
      " #   Column                Non-Null Count  Dtype  \n",
      "---  ------                --------------  -----  \n",
      " 0   route                 1338 non-null   object \n",
      " 1   time                  1338 non-null   float64\n",
      " 2   departure airport     1338 non-null   object \n",
      " 3   arrival airport       1338 non-null   object \n",
      " 4   departure city        1338 non-null   object \n",
      " 5   arrival city          1338 non-null   object \n",
      " 6   transit_distance [m]  1338 non-null   int64  \n",
      " 7   transit_time [s]      1338 non-null   int64  \n",
      "dtypes: float64(1), int64(2), object(5)\n",
      "memory usage: 94.1+ KB\n"
     ]
    }
   ],
   "source": [
    "cleaned_data = merged_data.drop_duplicates()\n",
    "print(\"Number of rows after removing duplicates:\", cleaned_data.shape[0])\n",
    "cleaned_data.info()"
   ],
   "metadata": {
    "collapsed": false
   },
   "id": "440bdae3cf2a9fb5",
   "execution_count": 60
  },
  {
   "cell_type": "code",
   "outputs": [
    {
     "data": {
      "text/html": [
       "<div>\n",
       "<style scoped>\n",
       "    .dataframe tbody tr th:only-of-type {\n",
       "        vertical-align: middle;\n",
       "    }\n",
       "\n",
       "    .dataframe tbody tr th {\n",
       "        vertical-align: top;\n",
       "    }\n",
       "\n",
       "    .dataframe thead th {\n",
       "        text-align: right;\n",
       "    }\n",
       "</style>\n",
       "<table border=\"1\" class=\"dataframe\">\n",
       "  <thead>\n",
       "    <tr style=\"text-align: right;\">\n",
       "      <th></th>\n",
       "      <th>time</th>\n",
       "      <th>transit_distance [m]</th>\n",
       "      <th>transit_time [s]</th>\n",
       "    </tr>\n",
       "  </thead>\n",
       "  <tbody>\n",
       "    <tr>\n",
       "      <th>count</th>\n",
       "      <td>1338.000000</td>\n",
       "      <td>1.338000e+03</td>\n",
       "      <td>1338.000000</td>\n",
       "    </tr>\n",
       "    <tr>\n",
       "      <th>mean</th>\n",
       "      <td>127.338254</td>\n",
       "      <td>1.356371e+06</td>\n",
       "      <td>60274.839312</td>\n",
       "    </tr>\n",
       "    <tr>\n",
       "      <th>std</th>\n",
       "      <td>51.661933</td>\n",
       "      <td>1.119806e+06</td>\n",
       "      <td>54533.294224</td>\n",
       "    </tr>\n",
       "    <tr>\n",
       "      <th>min</th>\n",
       "      <td>10.000000</td>\n",
       "      <td>-1.000000e+00</td>\n",
       "      <td>-1.000000</td>\n",
       "    </tr>\n",
       "    <tr>\n",
       "      <th>25%</th>\n",
       "      <td>90.000000</td>\n",
       "      <td>4.877642e+05</td>\n",
       "      <td>15711.000000</td>\n",
       "    </tr>\n",
       "    <tr>\n",
       "      <th>50%</th>\n",
       "      <td>120.000000</td>\n",
       "      <td>1.229288e+06</td>\n",
       "      <td>45990.000000</td>\n",
       "    </tr>\n",
       "    <tr>\n",
       "      <th>75%</th>\n",
       "      <td>160.000000</td>\n",
       "      <td>2.069596e+06</td>\n",
       "      <td>95055.000000</td>\n",
       "    </tr>\n",
       "    <tr>\n",
       "      <th>max</th>\n",
       "      <td>402.500000</td>\n",
       "      <td>8.877409e+06</td>\n",
       "      <td>301620.000000</td>\n",
       "    </tr>\n",
       "  </tbody>\n",
       "</table>\n",
       "</div>"
      ],
      "text/plain": [
       "              time  transit_distance [m]  transit_time [s]\n",
       "count  1338.000000          1.338000e+03       1338.000000\n",
       "mean    127.338254          1.356371e+06      60274.839312\n",
       "std      51.661933          1.119806e+06      54533.294224\n",
       "min      10.000000         -1.000000e+00         -1.000000\n",
       "25%      90.000000          4.877642e+05      15711.000000\n",
       "50%     120.000000          1.229288e+06      45990.000000\n",
       "75%     160.000000          2.069596e+06      95055.000000\n",
       "max     402.500000          8.877409e+06     301620.000000"
      ]
     },
     "execution_count": 61,
     "metadata": {},
     "output_type": "execute_result"
    }
   ],
   "source": [
    "cleaned_data.describe()"
   ],
   "metadata": {
    "collapsed": false
   },
   "id": "116319eed8c88b0",
   "execution_count": 61
  },
  {
   "cell_type": "markdown",
   "source": [
    "## Removing -1 (NaN) values for distance & time"
   ],
   "metadata": {
    "collapsed": false
   },
   "id": "4e2e342f18354e5a"
  },
  {
   "cell_type": "code",
   "outputs": [
    {
     "data": {
      "text/html": [
       "<div>\n",
       "<style scoped>\n",
       "    .dataframe tbody tr th:only-of-type {\n",
       "        vertical-align: middle;\n",
       "    }\n",
       "\n",
       "    .dataframe tbody tr th {\n",
       "        vertical-align: top;\n",
       "    }\n",
       "\n",
       "    .dataframe thead th {\n",
       "        text-align: right;\n",
       "    }\n",
       "</style>\n",
       "<table border=\"1\" class=\"dataframe\">\n",
       "  <thead>\n",
       "    <tr style=\"text-align: right;\">\n",
       "      <th></th>\n",
       "      <th>route</th>\n",
       "      <th>time</th>\n",
       "      <th>departure airport</th>\n",
       "      <th>arrival airport</th>\n",
       "      <th>departure city</th>\n",
       "      <th>arrival city</th>\n",
       "      <th>transit_distance [m]</th>\n",
       "      <th>transit_time [s]</th>\n",
       "    </tr>\n",
       "  </thead>\n",
       "  <tbody>\n",
       "    <tr>\n",
       "      <th>0</th>\n",
       "      <td>{'AAL', 'AMS'}</td>\n",
       "      <td>85.0</td>\n",
       "      <td>AAL</td>\n",
       "      <td>AMS</td>\n",
       "      <td>Aalborg</td>\n",
       "      <td>Amsterdam</td>\n",
       "      <td>1014627</td>\n",
       "      <td>43500</td>\n",
       "    </tr>\n",
       "    <tr>\n",
       "      <th>1</th>\n",
       "      <td>{'AAQ', 'LED'}</td>\n",
       "      <td>170.0</td>\n",
       "      <td>AAQ</td>\n",
       "      <td>LED</td>\n",
       "      <td>Novorossiysk</td>\n",
       "      <td>Saint Petersburg</td>\n",
       "      <td>2538536</td>\n",
       "      <td>110220</td>\n",
       "    </tr>\n",
       "    <tr>\n",
       "      <th>3</th>\n",
       "      <td>{'GDZ', 'LED'}</td>\n",
       "      <td>180.0</td>\n",
       "      <td>GDZ</td>\n",
       "      <td>LED</td>\n",
       "      <td>Novorossiysk</td>\n",
       "      <td>Saint Petersburg</td>\n",
       "      <td>2538536</td>\n",
       "      <td>110220</td>\n",
       "    </tr>\n",
       "    <tr>\n",
       "      <th>5</th>\n",
       "      <td>{'AMS', 'ABZ'}</td>\n",
       "      <td>85.0</td>\n",
       "      <td>AMS</td>\n",
       "      <td>ABZ</td>\n",
       "      <td>Amsterdam</td>\n",
       "      <td>Aberdeen</td>\n",
       "      <td>1435877</td>\n",
       "      <td>46020</td>\n",
       "    </tr>\n",
       "    <tr>\n",
       "      <th>6</th>\n",
       "      <td>{'ABZ', 'LGW'}</td>\n",
       "      <td>95.0</td>\n",
       "      <td>ABZ</td>\n",
       "      <td>LGW</td>\n",
       "      <td>Aberdeen</td>\n",
       "      <td>London</td>\n",
       "      <td>841037</td>\n",
       "      <td>27540</td>\n",
       "    </tr>\n",
       "    <tr>\n",
       "      <th>...</th>\n",
       "      <td>...</td>\n",
       "      <td>...</td>\n",
       "      <td>...</td>\n",
       "      <td>...</td>\n",
       "      <td>...</td>\n",
       "      <td>...</td>\n",
       "      <td>...</td>\n",
       "      <td>...</td>\n",
       "    </tr>\n",
       "    <tr>\n",
       "      <th>1565</th>\n",
       "      <td>{'ZRH', 'MUC'}</td>\n",
       "      <td>55.0</td>\n",
       "      <td>ZRH</td>\n",
       "      <td>MUC</td>\n",
       "      <td>Zürich</td>\n",
       "      <td>Munich</td>\n",
       "      <td>331898</td>\n",
       "      <td>12660</td>\n",
       "    </tr>\n",
       "    <tr>\n",
       "      <th>1566</th>\n",
       "      <td>{'ZRH', 'OPO'}</td>\n",
       "      <td>160.0</td>\n",
       "      <td>ZRH</td>\n",
       "      <td>OPO</td>\n",
       "      <td>Zürich</td>\n",
       "      <td>Porto</td>\n",
       "      <td>2960675</td>\n",
       "      <td>191400</td>\n",
       "    </tr>\n",
       "    <tr>\n",
       "      <th>1567</th>\n",
       "      <td>{'ZRH', 'OTP'}</td>\n",
       "      <td>150.0</td>\n",
       "      <td>ZRH</td>\n",
       "      <td>OTP</td>\n",
       "      <td>Zürich</td>\n",
       "      <td>Bucharest</td>\n",
       "      <td>1923309</td>\n",
       "      <td>95580</td>\n",
       "    </tr>\n",
       "    <tr>\n",
       "      <th>1568</th>\n",
       "      <td>{'ZRH', 'PRN'}</td>\n",
       "      <td>127.5</td>\n",
       "      <td>ZRH</td>\n",
       "      <td>PRN</td>\n",
       "      <td>Zürich</td>\n",
       "      <td>Pristina</td>\n",
       "      <td>1622886</td>\n",
       "      <td>254489</td>\n",
       "    </tr>\n",
       "    <tr>\n",
       "      <th>1570</th>\n",
       "      <td>{'ZRH', 'STR'}</td>\n",
       "      <td>45.0</td>\n",
       "      <td>ZRH</td>\n",
       "      <td>STR</td>\n",
       "      <td>Zürich</td>\n",
       "      <td>Stuttgart</td>\n",
       "      <td>418160</td>\n",
       "      <td>15960</td>\n",
       "    </tr>\n",
       "  </tbody>\n",
       "</table>\n",
       "<p>1083 rows × 8 columns</p>\n",
       "</div>"
      ],
      "text/plain": [
       "               route   time departure airport arrival airport departure city  \\\n",
       "0     {'AAL', 'AMS'}   85.0               AAL             AMS        Aalborg   \n",
       "1     {'AAQ', 'LED'}  170.0               AAQ             LED   Novorossiysk   \n",
       "3     {'GDZ', 'LED'}  180.0               GDZ             LED   Novorossiysk   \n",
       "5     {'AMS', 'ABZ'}   85.0               AMS             ABZ      Amsterdam   \n",
       "6     {'ABZ', 'LGW'}   95.0               ABZ             LGW       Aberdeen   \n",
       "...              ...    ...               ...             ...            ...   \n",
       "1565  {'ZRH', 'MUC'}   55.0               ZRH             MUC         Zürich   \n",
       "1566  {'ZRH', 'OPO'}  160.0               ZRH             OPO         Zürich   \n",
       "1567  {'ZRH', 'OTP'}  150.0               ZRH             OTP         Zürich   \n",
       "1568  {'ZRH', 'PRN'}  127.5               ZRH             PRN         Zürich   \n",
       "1570  {'ZRH', 'STR'}   45.0               ZRH             STR         Zürich   \n",
       "\n",
       "          arrival city  transit_distance [m]  transit_time [s]  \n",
       "0            Amsterdam               1014627             43500  \n",
       "1     Saint Petersburg               2538536            110220  \n",
       "3     Saint Petersburg               2538536            110220  \n",
       "5             Aberdeen               1435877             46020  \n",
       "6               London                841037             27540  \n",
       "...                ...                   ...               ...  \n",
       "1565            Munich                331898             12660  \n",
       "1566             Porto               2960675            191400  \n",
       "1567         Bucharest               1923309             95580  \n",
       "1568          Pristina               1622886            254489  \n",
       "1570         Stuttgart                418160             15960  \n",
       "\n",
       "[1083 rows x 8 columns]"
      ]
     },
     "execution_count": 62,
     "metadata": {},
     "output_type": "execute_result"
    }
   ],
   "source": [
    "filtered_data = cleaned_data[cleaned_data['transit_distance [m]'] != -1]\n",
    "cleaned_df = filtered_data[filtered_data['transit_time [s]'] != -1]\n",
    "cleaned_df\n",
    "cleaned_df.to_csv('datasets/merged_df.csv')\n",
    "cleaned_df"
   ],
   "metadata": {
    "collapsed": false
   },
   "id": "699a3c34a64cd180",
   "execution_count": 62
  },
  {
   "cell_type": "markdown",
   "source": [],
   "metadata": {
    "collapsed": false
   },
   "id": "b0fd7769cd52703a"
  },
  {
   "cell_type": "code",
   "outputs": [],
   "source": [
    "filtered_data = filtered_data.rename(columns={\n",
    "    'time': 'flight_time', \n",
    "    'transit_time [s]': 'train_time', \n",
    "    'transit_distance [m]': 'train_distance'\n",
    "})\n"
   ],
   "metadata": {
    "collapsed": false
   },
   "id": "13342d83c215ed3c",
   "execution_count": 63
  },
  {
   "cell_type": "code",
   "outputs": [
    {
     "name": "stdout",
     "output_type": "stream",
     "text": [
      "            route  flight_time departure airport arrival airport  \\\n",
      "0  {'AAL', 'AMS'}         85.0               AAL             AMS   \n",
      "1  {'AAQ', 'LED'}        170.0               AAQ             LED   \n",
      "3  {'GDZ', 'LED'}        180.0               GDZ             LED   \n",
      "5  {'AMS', 'ABZ'}         85.0               AMS             ABZ   \n",
      "6  {'ABZ', 'LGW'}         95.0               ABZ             LGW   \n",
      "\n",
      "  departure city      arrival city  train_distance  train_time  \n",
      "0        Aalborg         Amsterdam         1014627       725.0  \n",
      "1   Novorossiysk  Saint Petersburg         2538536      1837.0  \n",
      "3   Novorossiysk  Saint Petersburg         2538536      1837.0  \n",
      "5      Amsterdam          Aberdeen         1435877       767.0  \n",
      "6       Aberdeen            London          841037       459.0  \n"
     ]
    }
   ],
   "source": [
    "# Convert train time from seconds to minutes using .loc\n",
    "filtered_data.loc[:, 'train_time'] = filtered_data['train_time'] / 60\n",
    "\n",
    "print(filtered_data.head())"
   ],
   "metadata": {
    "collapsed": false
   },
   "id": "b56ea3ed286aff07",
   "execution_count": 64
  },
  {
   "cell_type": "code",
   "outputs": [
    {
     "name": "stdout",
     "output_type": "stream",
     "text": [
      "Total NaN values in merged_data: 0\n"
     ]
    }
   ],
   "source": [
    "total_nans = merged_data.isna().sum().sum()\n",
    "print(f\"Total NaN values in merged_data: {total_nans}\")"
   ],
   "metadata": {
    "collapsed": false
   },
   "id": "367d83862ae3d565",
   "execution_count": 115
  },
  {
   "cell_type": "code",
   "outputs": [],
   "source": [
    "iata_codes_country = pd.read_csv('/Users/slavicagjorgieva/Desktop/TU/WS23/DOPP/Ex2/DOPP_group18/datasets/fixed-airports-codes.csv')"
   ],
   "metadata": {
    "collapsed": false
   },
   "id": "31f8b08b5f29ed9a",
   "execution_count": 65
  },
  {
   "cell_type": "code",
   "outputs": [
    {
     "data": {
      "text/html": [
       "<div>\n",
       "<style scoped>\n",
       "    .dataframe tbody tr th:only-of-type {\n",
       "        vertical-align: middle;\n",
       "    }\n",
       "\n",
       "    .dataframe tbody tr th {\n",
       "        vertical-align: top;\n",
       "    }\n",
       "\n",
       "    .dataframe thead th {\n",
       "        text-align: right;\n",
       "    }\n",
       "</style>\n",
       "<table border=\"1\" class=\"dataframe\">\n",
       "  <thead>\n",
       "    <tr style=\"text-align: right;\">\n",
       "      <th></th>\n",
       "      <th>id</th>\n",
       "      <th>ident</th>\n",
       "      <th>type</th>\n",
       "      <th>name</th>\n",
       "      <th>latitude_deg</th>\n",
       "      <th>longitude_deg</th>\n",
       "      <th>elevation_ft</th>\n",
       "      <th>continent</th>\n",
       "      <th>iso_country</th>\n",
       "      <th>iso_region</th>\n",
       "      <th>municipality</th>\n",
       "      <th>scheduled_service</th>\n",
       "      <th>gps_code</th>\n",
       "      <th>iata_code</th>\n",
       "      <th>local_code</th>\n",
       "      <th>home_link</th>\n",
       "      <th>wikipedia_link</th>\n",
       "      <th>keywords</th>\n",
       "    </tr>\n",
       "  </thead>\n",
       "  <tbody>\n",
       "    <tr>\n",
       "      <th>0</th>\n",
       "      <td>6523</td>\n",
       "      <td>00A</td>\n",
       "      <td>heliport</td>\n",
       "      <td>Total RF Heliport</td>\n",
       "      <td>40.070985</td>\n",
       "      <td>-74.933689</td>\n",
       "      <td>11.0</td>\n",
       "      <td>NaN</td>\n",
       "      <td>US</td>\n",
       "      <td>US-PA</td>\n",
       "      <td>Bensalem</td>\n",
       "      <td>no</td>\n",
       "      <td>K00A</td>\n",
       "      <td>NaN</td>\n",
       "      <td>00A</td>\n",
       "      <td>https://www.penndot.pa.gov/TravelInPA/airports...</td>\n",
       "      <td>NaN</td>\n",
       "      <td>NaN</td>\n",
       "    </tr>\n",
       "    <tr>\n",
       "      <th>1</th>\n",
       "      <td>323361</td>\n",
       "      <td>00AA</td>\n",
       "      <td>small_airport</td>\n",
       "      <td>Aero B Ranch Airport</td>\n",
       "      <td>38.704022</td>\n",
       "      <td>-101.473911</td>\n",
       "      <td>3435.0</td>\n",
       "      <td>NaN</td>\n",
       "      <td>US</td>\n",
       "      <td>US-KS</td>\n",
       "      <td>Leoti</td>\n",
       "      <td>no</td>\n",
       "      <td>00AA</td>\n",
       "      <td>NaN</td>\n",
       "      <td>00AA</td>\n",
       "      <td>NaN</td>\n",
       "      <td>NaN</td>\n",
       "      <td>NaN</td>\n",
       "    </tr>\n",
       "    <tr>\n",
       "      <th>2</th>\n",
       "      <td>6524</td>\n",
       "      <td>00AK</td>\n",
       "      <td>small_airport</td>\n",
       "      <td>Lowell Field</td>\n",
       "      <td>59.947733</td>\n",
       "      <td>-151.692524</td>\n",
       "      <td>450.0</td>\n",
       "      <td>NaN</td>\n",
       "      <td>US</td>\n",
       "      <td>US-AK</td>\n",
       "      <td>Anchor Point</td>\n",
       "      <td>no</td>\n",
       "      <td>00AK</td>\n",
       "      <td>NaN</td>\n",
       "      <td>00AK</td>\n",
       "      <td>NaN</td>\n",
       "      <td>NaN</td>\n",
       "      <td>NaN</td>\n",
       "    </tr>\n",
       "    <tr>\n",
       "      <th>3</th>\n",
       "      <td>6525</td>\n",
       "      <td>00AL</td>\n",
       "      <td>small_airport</td>\n",
       "      <td>Epps Airpark</td>\n",
       "      <td>34.864799</td>\n",
       "      <td>-86.770302</td>\n",
       "      <td>820.0</td>\n",
       "      <td>NaN</td>\n",
       "      <td>US</td>\n",
       "      <td>US-AL</td>\n",
       "      <td>Harvest</td>\n",
       "      <td>no</td>\n",
       "      <td>00AL</td>\n",
       "      <td>NaN</td>\n",
       "      <td>00AL</td>\n",
       "      <td>NaN</td>\n",
       "      <td>NaN</td>\n",
       "      <td>NaN</td>\n",
       "    </tr>\n",
       "    <tr>\n",
       "      <th>4</th>\n",
       "      <td>506791</td>\n",
       "      <td>00AN</td>\n",
       "      <td>small_airport</td>\n",
       "      <td>Katmai Lodge Airport</td>\n",
       "      <td>59.093287</td>\n",
       "      <td>-156.456699</td>\n",
       "      <td>80.0</td>\n",
       "      <td>NaN</td>\n",
       "      <td>US</td>\n",
       "      <td>US-AK</td>\n",
       "      <td>King Salmon</td>\n",
       "      <td>no</td>\n",
       "      <td>00AN</td>\n",
       "      <td>NaN</td>\n",
       "      <td>00AN</td>\n",
       "      <td>NaN</td>\n",
       "      <td>NaN</td>\n",
       "      <td>NaN</td>\n",
       "    </tr>\n",
       "    <tr>\n",
       "      <th>...</th>\n",
       "      <td>...</td>\n",
       "      <td>...</td>\n",
       "      <td>...</td>\n",
       "      <td>...</td>\n",
       "      <td>...</td>\n",
       "      <td>...</td>\n",
       "      <td>...</td>\n",
       "      <td>...</td>\n",
       "      <td>...</td>\n",
       "      <td>...</td>\n",
       "      <td>...</td>\n",
       "      <td>...</td>\n",
       "      <td>...</td>\n",
       "      <td>...</td>\n",
       "      <td>...</td>\n",
       "      <td>...</td>\n",
       "      <td>...</td>\n",
       "      <td>...</td>\n",
       "    </tr>\n",
       "    <tr>\n",
       "      <th>78148</th>\n",
       "      <td>46378</td>\n",
       "      <td>ZZ-0001</td>\n",
       "      <td>heliport</td>\n",
       "      <td>Sealand Helipad</td>\n",
       "      <td>51.894444</td>\n",
       "      <td>1.482500</td>\n",
       "      <td>40.0</td>\n",
       "      <td>EU</td>\n",
       "      <td>GB</td>\n",
       "      <td>GB-ENG</td>\n",
       "      <td>Sealand</td>\n",
       "      <td>no</td>\n",
       "      <td>NaN</td>\n",
       "      <td>NaN</td>\n",
       "      <td>NaN</td>\n",
       "      <td>http://www.sealandgov.org/</td>\n",
       "      <td>https://en.wikipedia.org/wiki/Principality_of_...</td>\n",
       "      <td>Roughs Tower Helipad</td>\n",
       "    </tr>\n",
       "    <tr>\n",
       "      <th>78149</th>\n",
       "      <td>307326</td>\n",
       "      <td>ZZ-0002</td>\n",
       "      <td>small_airport</td>\n",
       "      <td>Glorioso Islands Airstrip</td>\n",
       "      <td>-11.584278</td>\n",
       "      <td>47.296389</td>\n",
       "      <td>11.0</td>\n",
       "      <td>AF</td>\n",
       "      <td>TF</td>\n",
       "      <td>TF-U-A</td>\n",
       "      <td>Grande Glorieuse</td>\n",
       "      <td>no</td>\n",
       "      <td>NaN</td>\n",
       "      <td>NaN</td>\n",
       "      <td>NaN</td>\n",
       "      <td>NaN</td>\n",
       "      <td>NaN</td>\n",
       "      <td>NaN</td>\n",
       "    </tr>\n",
       "    <tr>\n",
       "      <th>78150</th>\n",
       "      <td>346788</td>\n",
       "      <td>ZZ-0003</td>\n",
       "      <td>small_airport</td>\n",
       "      <td>Fainting Goat Airport</td>\n",
       "      <td>32.110587</td>\n",
       "      <td>-97.356312</td>\n",
       "      <td>690.0</td>\n",
       "      <td>NaN</td>\n",
       "      <td>US</td>\n",
       "      <td>US-TX</td>\n",
       "      <td>Blum</td>\n",
       "      <td>no</td>\n",
       "      <td>87TX</td>\n",
       "      <td>NaN</td>\n",
       "      <td>87TX</td>\n",
       "      <td>NaN</td>\n",
       "      <td>NaN</td>\n",
       "      <td>NaN</td>\n",
       "    </tr>\n",
       "    <tr>\n",
       "      <th>78151</th>\n",
       "      <td>342102</td>\n",
       "      <td>ZZZW</td>\n",
       "      <td>closed</td>\n",
       "      <td>Scandium City Heliport</td>\n",
       "      <td>69.355287</td>\n",
       "      <td>-138.939310</td>\n",
       "      <td>4.0</td>\n",
       "      <td>NaN</td>\n",
       "      <td>CA</td>\n",
       "      <td>CA-YT</td>\n",
       "      <td>(Old) Scandium City</td>\n",
       "      <td>no</td>\n",
       "      <td>NaN</td>\n",
       "      <td>NaN</td>\n",
       "      <td>NaN</td>\n",
       "      <td>NaN</td>\n",
       "      <td>NaN</td>\n",
       "      <td>ZZZW, ZZZW, ZYW, YK96</td>\n",
       "    </tr>\n",
       "    <tr>\n",
       "      <th>78152</th>\n",
       "      <td>313629</td>\n",
       "      <td>ZZZZ</td>\n",
       "      <td>small_airport</td>\n",
       "      <td>Satsuma Iōjima Airport</td>\n",
       "      <td>30.784722</td>\n",
       "      <td>130.270556</td>\n",
       "      <td>338.0</td>\n",
       "      <td>AS</td>\n",
       "      <td>JP</td>\n",
       "      <td>JP-46</td>\n",
       "      <td>Mishima</td>\n",
       "      <td>no</td>\n",
       "      <td>RJX7</td>\n",
       "      <td>NaN</td>\n",
       "      <td>RJX7</td>\n",
       "      <td>NaN</td>\n",
       "      <td>http://wikimapia.org/6705190/Satsuma-Iwo-jima-...</td>\n",
       "      <td>SATSUMA,IWOJIMA,RJX7</td>\n",
       "    </tr>\n",
       "  </tbody>\n",
       "</table>\n",
       "<p>78153 rows × 18 columns</p>\n",
       "</div>"
      ],
      "text/plain": [
       "           id    ident           type                       name  \\\n",
       "0        6523      00A       heliport          Total RF Heliport   \n",
       "1      323361     00AA  small_airport       Aero B Ranch Airport   \n",
       "2        6524     00AK  small_airport               Lowell Field   \n",
       "3        6525     00AL  small_airport               Epps Airpark   \n",
       "4      506791     00AN  small_airport       Katmai Lodge Airport   \n",
       "...       ...      ...            ...                        ...   \n",
       "78148   46378  ZZ-0001       heliport            Sealand Helipad   \n",
       "78149  307326  ZZ-0002  small_airport  Glorioso Islands Airstrip   \n",
       "78150  346788  ZZ-0003  small_airport      Fainting Goat Airport   \n",
       "78151  342102     ZZZW         closed     Scandium City Heliport   \n",
       "78152  313629     ZZZZ  small_airport     Satsuma Iōjima Airport   \n",
       "\n",
       "       latitude_deg  longitude_deg  elevation_ft continent iso_country  \\\n",
       "0         40.070985     -74.933689          11.0       NaN          US   \n",
       "1         38.704022    -101.473911        3435.0       NaN          US   \n",
       "2         59.947733    -151.692524         450.0       NaN          US   \n",
       "3         34.864799     -86.770302         820.0       NaN          US   \n",
       "4         59.093287    -156.456699          80.0       NaN          US   \n",
       "...             ...            ...           ...       ...         ...   \n",
       "78148     51.894444       1.482500          40.0        EU          GB   \n",
       "78149    -11.584278      47.296389          11.0        AF          TF   \n",
       "78150     32.110587     -97.356312         690.0       NaN          US   \n",
       "78151     69.355287    -138.939310           4.0       NaN          CA   \n",
       "78152     30.784722     130.270556         338.0        AS          JP   \n",
       "\n",
       "      iso_region         municipality scheduled_service gps_code iata_code  \\\n",
       "0          US-PA             Bensalem                no     K00A       NaN   \n",
       "1          US-KS                Leoti                no     00AA       NaN   \n",
       "2          US-AK         Anchor Point                no     00AK       NaN   \n",
       "3          US-AL              Harvest                no     00AL       NaN   \n",
       "4          US-AK          King Salmon                no     00AN       NaN   \n",
       "...          ...                  ...               ...      ...       ...   \n",
       "78148     GB-ENG              Sealand                no      NaN       NaN   \n",
       "78149     TF-U-A     Grande Glorieuse                no      NaN       NaN   \n",
       "78150      US-TX                 Blum                no     87TX       NaN   \n",
       "78151      CA-YT  (Old) Scandium City                no      NaN       NaN   \n",
       "78152      JP-46              Mishima                no     RJX7       NaN   \n",
       "\n",
       "      local_code                                          home_link  \\\n",
       "0            00A  https://www.penndot.pa.gov/TravelInPA/airports...   \n",
       "1           00AA                                                NaN   \n",
       "2           00AK                                                NaN   \n",
       "3           00AL                                                NaN   \n",
       "4           00AN                                                NaN   \n",
       "...          ...                                                ...   \n",
       "78148        NaN                         http://www.sealandgov.org/   \n",
       "78149        NaN                                                NaN   \n",
       "78150       87TX                                                NaN   \n",
       "78151        NaN                                                NaN   \n",
       "78152       RJX7                                                NaN   \n",
       "\n",
       "                                          wikipedia_link  \\\n",
       "0                                                    NaN   \n",
       "1                                                    NaN   \n",
       "2                                                    NaN   \n",
       "3                                                    NaN   \n",
       "4                                                    NaN   \n",
       "...                                                  ...   \n",
       "78148  https://en.wikipedia.org/wiki/Principality_of_...   \n",
       "78149                                                NaN   \n",
       "78150                                                NaN   \n",
       "78151                                                NaN   \n",
       "78152  http://wikimapia.org/6705190/Satsuma-Iwo-jima-...   \n",
       "\n",
       "                    keywords  \n",
       "0                        NaN  \n",
       "1                        NaN  \n",
       "2                        NaN  \n",
       "3                        NaN  \n",
       "4                        NaN  \n",
       "...                      ...  \n",
       "78148   Roughs Tower Helipad  \n",
       "78149                    NaN  \n",
       "78150                    NaN  \n",
       "78151  ZZZW, ZZZW, ZYW, YK96  \n",
       "78152   SATSUMA,IWOJIMA,RJX7  \n",
       "\n",
       "[78153 rows x 18 columns]"
      ]
     },
     "execution_count": 81,
     "metadata": {},
     "output_type": "execute_result"
    }
   ],
   "source": [
    "iata_codes_country"
   ],
   "metadata": {
    "collapsed": false
   },
   "id": "92085b6b5fc0c96",
   "execution_count": 81
  },
  {
   "cell_type": "markdown",
   "source": [
    "## Adding country code for each city (arrival & departure) and their geo-coordinates(longitude & latitude)"
   ],
   "metadata": {
    "collapsed": false
   },
   "id": "3a4b949b0d8da6cb"
  },
  {
   "cell_type": "code",
   "outputs": [
    {
     "name": "stdout",
     "output_type": "stream",
     "text": [
      "            route  flight_time departure airport arrival airport  \\\n",
      "0  {'AAL', 'AMS'}         85.0               AAL             AMS   \n",
      "1  {'AAQ', 'LED'}        170.0               AAQ             LED   \n",
      "2  {'GDZ', 'LED'}        180.0               GDZ             LED   \n",
      "3  {'AMS', 'ABZ'}         85.0               AMS             ABZ   \n",
      "4  {'ABZ', 'LGW'}         95.0               ABZ             LGW   \n",
      "\n",
      "  departure city      arrival city  train_distance  train_time  \\\n",
      "0        Aalborg         Amsterdam         1014627       725.0   \n",
      "1   Novorossiysk  Saint Petersburg         2538536      1837.0   \n",
      "2   Novorossiysk  Saint Petersburg         2538536      1837.0   \n",
      "3      Amsterdam          Aberdeen         1435877       767.0   \n",
      "4       Aberdeen            London          841037       459.0   \n",
      "\n",
      "   dep_latitude_deg  dep_longitude_deg dep_iso_country  arr_latitude_deg  \\\n",
      "0         57.094763           9.849930              DK         52.308601   \n",
      "1         45.002102          37.347301              RU         59.800301   \n",
      "2         44.582093          38.012481              RU         59.800301   \n",
      "3         52.308601           4.763890              NL         57.201900   \n",
      "4         57.201900          -2.197780              GB         51.148771   \n",
      "\n",
      "   arr_longitude_deg arr_iso_country  \n",
      "0           4.763890              NL  \n",
      "1          30.262501              RU  \n",
      "2          30.262501              RU  \n",
      "3          -2.197780              GB  \n",
      "4          -0.192089              GB  \n"
     ]
    }
   ],
   "source": [
    "merged_departure = pd.merge(filtered_data, iata_codes_country, left_on='departure airport', right_on='iata_code', how='left')\n",
    "\n",
    "# Rename columns from the first merge\n",
    "merged_departure.rename(columns={'latitude_deg': 'dep_latitude_deg', 'longitude_deg': 'dep_longitude_deg', 'iso_country': 'dep_iso_country'}, inplace=True)\n",
    "\n",
    "# Drop extra columns after the first merge\n",
    "columns_to_drop_first_merge = ['id', 'ident', 'type', 'name', 'elevation_ft', 'continent', 'iso_region', 'municipality', 'scheduled_service', 'gps_code', 'iata_code', 'local_code', 'home_link', 'wikipedia_link', 'keywords']\n",
    "merged_departure.drop(columns_to_drop_first_merge, axis=1, inplace=True)\n",
    "\n",
    "# Second, merge for arrival airport\n",
    "merged_data = pd.merge(merged_departure, iata_codes_country, left_on='arrival airport', right_on='iata_code', how='left')\n",
    "\n",
    "# Rename columns from the second merge\n",
    "merged_data.rename(columns={'latitude_deg': 'arr_latitude_deg', 'longitude_deg': 'arr_longitude_deg', 'iso_country': 'arr_iso_country'}, inplace=True)\n",
    "\n",
    "# Drop extra columns after the second merge\n",
    "columns_to_drop_second_merge = ['id', 'ident', 'type', 'name', 'elevation_ft', 'continent', 'iso_region', 'municipality', 'scheduled_service', 'gps_code', 'iata_code', 'local_code', 'home_link', 'wikipedia_link', 'keywords']\n",
    "merged_data.drop(columns_to_drop_second_merge, axis=1, inplace=True)\n",
    "\n",
    "\n",
    "print(merged_data.head())"
   ],
   "metadata": {
    "collapsed": false
   },
   "id": "45f008e91c3dc266",
   "execution_count": 82
  },
  {
   "cell_type": "code",
   "outputs": [
    {
     "data": {
      "text/html": [
       "<div>\n",
       "<style scoped>\n",
       "    .dataframe tbody tr th:only-of-type {\n",
       "        vertical-align: middle;\n",
       "    }\n",
       "\n",
       "    .dataframe tbody tr th {\n",
       "        vertical-align: top;\n",
       "    }\n",
       "\n",
       "    .dataframe thead th {\n",
       "        text-align: right;\n",
       "    }\n",
       "</style>\n",
       "<table border=\"1\" class=\"dataframe\">\n",
       "  <thead>\n",
       "    <tr style=\"text-align: right;\">\n",
       "      <th></th>\n",
       "      <th>flight_time</th>\n",
       "      <th>train_distance</th>\n",
       "      <th>train_time</th>\n",
       "      <th>dep_latitude_deg</th>\n",
       "      <th>dep_longitude_deg</th>\n",
       "      <th>arr_latitude_deg</th>\n",
       "      <th>arr_longitude_deg</th>\n",
       "    </tr>\n",
       "  </thead>\n",
       "  <tbody>\n",
       "    <tr>\n",
       "      <th>count</th>\n",
       "      <td>1083.000000</td>\n",
       "      <td>1.083000e+03</td>\n",
       "      <td>1083.000000</td>\n",
       "      <td>1083.000000</td>\n",
       "      <td>1083.000000</td>\n",
       "      <td>1083.000000</td>\n",
       "      <td>1083.000000</td>\n",
       "    </tr>\n",
       "    <tr>\n",
       "      <th>mean</th>\n",
       "      <td>122.512850</td>\n",
       "      <td>1.675739e+06</td>\n",
       "      <td>1241.120191</td>\n",
       "      <td>48.532025</td>\n",
       "      <td>12.304472</td>\n",
       "      <td>48.166043</td>\n",
       "      <td>10.753863</td>\n",
       "    </tr>\n",
       "    <tr>\n",
       "      <th>std</th>\n",
       "      <td>46.300586</td>\n",
       "      <td>1.006887e+06</td>\n",
       "      <td>852.592627</td>\n",
       "      <td>5.828496</td>\n",
       "      <td>13.789245</td>\n",
       "      <td>6.690596</td>\n",
       "      <td>12.933604</td>\n",
       "    </tr>\n",
       "    <tr>\n",
       "      <th>min</th>\n",
       "      <td>10.000000</td>\n",
       "      <td>8.333800e+04</td>\n",
       "      <td>63.000000</td>\n",
       "      <td>36.674900</td>\n",
       "      <td>-9.135920</td>\n",
       "      <td>36.151199</td>\n",
       "      <td>-9.355230</td>\n",
       "    </tr>\n",
       "    <tr>\n",
       "      <th>25%</th>\n",
       "      <td>85.000000</td>\n",
       "      <td>9.061895e+05</td>\n",
       "      <td>544.000000</td>\n",
       "      <td>43.810001</td>\n",
       "      <td>2.112780</td>\n",
       "      <td>42.572800</td>\n",
       "      <td>2.078460</td>\n",
       "    </tr>\n",
       "    <tr>\n",
       "      <th>50%</th>\n",
       "      <td>117.500000</td>\n",
       "      <td>1.536602e+06</td>\n",
       "      <td>1166.166667</td>\n",
       "      <td>49.012798</td>\n",
       "      <td>10.887303</td>\n",
       "      <td>48.353802</td>\n",
       "      <td>9.160452</td>\n",
       "    </tr>\n",
       "    <tr>\n",
       "      <th>75%</th>\n",
       "      <td>152.500000</td>\n",
       "      <td>2.269107e+06</td>\n",
       "      <td>1731.000000</td>\n",
       "      <td>52.165699</td>\n",
       "      <td>19.720600</td>\n",
       "      <td>52.308601</td>\n",
       "      <td>17.918600</td>\n",
       "    </tr>\n",
       "    <tr>\n",
       "      <th>max</th>\n",
       "      <td>325.000000</td>\n",
       "      <td>8.877409e+06</td>\n",
       "      <td>5027.000000</td>\n",
       "      <td>68.781700</td>\n",
       "      <td>92.492437</td>\n",
       "      <td>69.683296</td>\n",
       "      <td>92.492437</td>\n",
       "    </tr>\n",
       "  </tbody>\n",
       "</table>\n",
       "</div>"
      ],
      "text/plain": [
       "       flight_time  train_distance   train_time  dep_latitude_deg  \\\n",
       "count  1083.000000    1.083000e+03  1083.000000       1083.000000   \n",
       "mean    122.512850    1.675739e+06  1241.120191         48.532025   \n",
       "std      46.300586    1.006887e+06   852.592627          5.828496   \n",
       "min      10.000000    8.333800e+04    63.000000         36.674900   \n",
       "25%      85.000000    9.061895e+05   544.000000         43.810001   \n",
       "50%     117.500000    1.536602e+06  1166.166667         49.012798   \n",
       "75%     152.500000    2.269107e+06  1731.000000         52.165699   \n",
       "max     325.000000    8.877409e+06  5027.000000         68.781700   \n",
       "\n",
       "       dep_longitude_deg  arr_latitude_deg  arr_longitude_deg  \n",
       "count        1083.000000       1083.000000        1083.000000  \n",
       "mean           12.304472         48.166043          10.753863  \n",
       "std            13.789245          6.690596          12.933604  \n",
       "min            -9.135920         36.151199          -9.355230  \n",
       "25%             2.112780         42.572800           2.078460  \n",
       "50%            10.887303         48.353802           9.160452  \n",
       "75%            19.720600         52.308601          17.918600  \n",
       "max            92.492437         69.683296          92.492437  "
      ]
     },
     "execution_count": 83,
     "metadata": {},
     "output_type": "execute_result"
    }
   ],
   "source": [
    "merged_data.describe()"
   ],
   "metadata": {
    "collapsed": false
   },
   "id": "5b41ec0f115e4f64",
   "execution_count": 83
  },
  {
   "cell_type": "markdown",
   "source": [
    "## Statistical Analysis"
   ],
   "metadata": {
    "collapsed": false
   },
   "id": "7e60bb09fbf6997d"
  },
  {
   "cell_type": "code",
   "outputs": [
    {
     "name": "stdout",
     "output_type": "stream",
     "text": [
      "<class 'pandas.core.frame.DataFrame'>\n",
      "Int64Index: 1083 entries, 0 to 1082\n",
      "Data columns (total 14 columns):\n",
      " #   Column             Non-Null Count  Dtype  \n",
      "---  ------             --------------  -----  \n",
      " 0   route              1083 non-null   object \n",
      " 1   flight_time        1083 non-null   float64\n",
      " 2   departure airport  1083 non-null   object \n",
      " 3   arrival airport    1083 non-null   object \n",
      " 4   departure city     1083 non-null   object \n",
      " 5   arrival city       1083 non-null   object \n",
      " 6   train_distance     1083 non-null   int64  \n",
      " 7   train_time         1083 non-null   float64\n",
      " 8   dep_latitude_deg   1083 non-null   float64\n",
      " 9   dep_longitude_deg  1083 non-null   float64\n",
      " 10  dep_iso_country    1083 non-null   object \n",
      " 11  arr_latitude_deg   1083 non-null   float64\n",
      " 12  arr_longitude_deg  1083 non-null   float64\n",
      " 13  arr_iso_country    1083 non-null   object \n",
      "dtypes: float64(6), int64(1), object(7)\n",
      "memory usage: 126.9+ KB\n"
     ]
    }
   ],
   "source": [
    "merged_data.info()"
   ],
   "metadata": {
    "collapsed": false
   },
   "id": "2edfe03e8456f405",
   "execution_count": 84
  },
  {
   "cell_type": "code",
   "outputs": [
    {
     "name": "stdout",
     "output_type": "stream",
     "text": [
      "            Statistic  Flight Time (hours)  Flight Time (min)  \\\n",
      "0                Mean             2.041881         122.512850   \n",
      "1              Median             1.958333         117.500000   \n",
      "2  Standard Deviation             0.771676          46.300586   \n",
      "\n",
      "   Train Time (hours)  Train Time (min)  \n",
      "0           20.685337       1241.120191  \n",
      "1           19.436111       1166.166667  \n",
      "2           14.209877        852.592627  \n"
     ]
    }
   ],
   "source": [
    "mean_flight_time = merged_data['flight_time'].mean()\n",
    "mean_train_time = merged_data['train_time'].mean()\n",
    "\n",
    "median_flight_time = merged_data['flight_time'].median()\n",
    "median_train_time = merged_data['train_time'].median()\n",
    "\n",
    "std_flight_time = merged_data['flight_time'].std()\n",
    "std_train_time = merged_data['train_time'].std()\n",
    "\n",
    "\n",
    "summary_data = {\n",
    "    \"Statistic\": [\"Mean\", \"Median\", \"Standard Deviation\"],\n",
    "    \"Flight Time (hours)\": [mean_flight_time / 60, median_flight_time / 60, std_flight_time / 60],\n",
    "    \"Flight Time (min)\": [mean_flight_time, median_flight_time, std_flight_time],\n",
    "    \"Train Time (hours)\": [mean_train_time / 60, median_train_time / 60, std_train_time / 60],\n",
    "    \"Train Time (min)\": [mean_train_time, median_train_time, std_train_time]\n",
    "}\n",
    "\n",
    "summary_df = pd.DataFrame(summary_data)\n",
    "\n",
    "print(summary_df)"
   ],
   "metadata": {
    "collapsed": false
   },
   "id": "ea66f5a19d5b0469",
   "execution_count": 85
  },
  {
   "cell_type": "code",
   "outputs": [
    {
     "name": "stdout",
     "output_type": "stream",
     "text": [
      "                                     Mean       Median  Standard Deviation  \\\n",
      "flight_time                    122.512850   117.500000           46.300586   \n",
      "train_time                    1241.120191  1166.166667          852.592627   \n",
      "train_time_hours                20.685337    19.436111           14.209877   \n",
      "flight_time_plus_90            212.512850   207.500000           46.300586   \n",
      "flight_time_hours_with_extra     3.541881     3.458333            0.771676   \n",
      "\n",
      "                                 Minimum      Maximum  \n",
      "flight_time                    10.000000   325.000000  \n",
      "train_time                     63.000000  5027.000000  \n",
      "train_time_hours                1.050000    83.783333  \n",
      "flight_time_plus_90           100.000000   415.000000  \n",
      "flight_time_hours_with_extra    1.666667     6.916667  \n"
     ]
    }
   ],
   "source": [
    "summary_stats = {\n",
    "    \"Mean\": merged_data[['flight_time', 'train_time', 'train_time_hours', 'flight_time_plus_90', 'flight_time_hours_with_extra']].mean(),\n",
    "    \"Median\": merged_data[['flight_time', 'train_time', 'train_time_hours', 'flight_time_plus_90', 'flight_time_hours_with_extra']].median(),\n",
    "    \"Standard Deviation\": merged_data[['flight_time', 'train_time', 'train_time_hours', 'flight_time_plus_90', 'flight_time_hours_with_extra']].std(),\n",
    "    \"Minimum\": merged_data[['flight_time', 'train_time', 'train_time_hours', 'flight_time_plus_90', 'flight_time_hours_with_extra']].min(),\n",
    "    \"Maximum\": merged_data[['flight_time', 'train_time', 'train_time_hours', 'flight_time_plus_90', 'flight_time_hours_with_extra']].max()\n",
    "}\n",
    "\n",
    "# Create a DataFrame from the summary statistics\n",
    "summary_df = pd.DataFrame(summary_stats)\n",
    "\n",
    "# Display the summary statistics DataFrame\n",
    "print(summary_df)\n",
    "\n"
   ],
   "metadata": {
    "collapsed": false
   },
   "id": "cebb413be07ae322",
   "execution_count": 138
  },
  {
   "cell_type": "code",
   "outputs": [],
   "source": [
    "all_countries = pd.concat([merged_data['dep_iso_country'], merged_data['arr_iso_country']])"
   ],
   "metadata": {
    "collapsed": false
   },
   "id": "422eb1b8a69308e",
   "execution_count": null
  },
  {
   "cell_type": "markdown",
   "source": [
    "## Plots"
   ],
   "metadata": {
    "collapsed": false
   },
   "id": "884852d2e19e961c"
  },
  {
   "cell_type": "code",
   "outputs": [
    {
     "data": {
      "application/vnd.plotly.v1+json": {
       "config": {
        "plotlyServerURL": "https://plot.ly"
       },
       "data": [
        {
         "alignmentgroup": "True",
         "bingroup": "x",
         "hovertemplate": "x=%{x}<br>count=%{y}<extra></extra>",
         "legendgroup": "",
         "marker": {
          "color": "#636efa",
          "pattern": {
           "shape": ""
          }
         },
         "name": "",
         "offsetgroup": "",
         "orientation": "v",
         "showlegend": false,
         "type": "histogram",
         "x": [
          "DK",
          "RU",
          "RU",
          "NL",
          "GB",
          "RU",
          "RU",
          "RU",
          "RU",
          "RU",
          "RU",
          "RU",
          "RU",
          "NO",
          "NO",
          "ES",
          "FR",
          "SE",
          "DE",
          "GB",
          "GB",
          "GB",
          "GB",
          "ES",
          "IT",
          "IT",
          "IT",
          "FR",
          "FR",
          "ES",
          "GB",
          "ES",
          "ES",
          "ES",
          "GB",
          "NL",
          "NL",
          "GR",
          "NL",
          "NL",
          "NL",
          "NL",
          "NL",
          "NL",
          "NL",
          "NL",
          "NL",
          "NL",
          "NL",
          "NL",
          "NL",
          "NL",
          "GB",
          "GB",
          "GB",
          "NL",
          "NL",
          "NL",
          "NL",
          "NL",
          "NL",
          "NL",
          "NL",
          "NL",
          "RU",
          "SE",
          "IT",
          "SE",
          "FI",
          "DE",
          "SE",
          "RU",
          "GR",
          "GR",
          "GR",
          "GR",
          "GR",
          "GR",
          "GR",
          "GR",
          "GR",
          "ES",
          "FR",
          "BE",
          "BE",
          "IT",
          "SE",
          "GB",
          "GB",
          "GB",
          "GB",
          "NL",
          "PT",
          "RO",
          "RS",
          "RS",
          "RS",
          "RS",
          "RS",
          "RS",
          "RS",
          "RS",
          "RS",
          "RS",
          "RS",
          "GB",
          "GB",
          "GB",
          "GB",
          "PT",
          "SE",
          "GB",
          "FR",
          "IT",
          "IT",
          "IT",
          "IT",
          "IT",
          "IT",
          "GB",
          "GB",
          "GB",
          "GB",
          "GB",
          "GB",
          "GB",
          "GB",
          "GB",
          "GB",
          "GB",
          "ES",
          "ES",
          "ES",
          "ES",
          "ES",
          "PL",
          "RO",
          "RO",
          "GB",
          "DE",
          "IT",
          "IT",
          "IT",
          "IT",
          "IT",
          "IT",
          "IT",
          "IT",
          "IT",
          "IT",
          "GB",
          "IT",
          "FR",
          "GB",
          "GB",
          "ES",
          "ES",
          "FR",
          "FR",
          "FR",
          "FR",
          "FR",
          "FR",
          "FR",
          "SK",
          "SK",
          "HU",
          "HU",
          "HU",
          "HU",
          "HU",
          "HU",
          "HU",
          "HU",
          "HU",
          "HU",
          "HU",
          "HU",
          "HU",
          "HU",
          "HU",
          "HU",
          "HU",
          "HU",
          "HU",
          "FR",
          "IT",
          "FR",
          "PL",
          "FR",
          "FR",
          "FR",
          "SE",
          "FR",
          "FR",
          "FR",
          "FR",
          "FR",
          "FR",
          "FR",
          "FI",
          "DE",
          "FR",
          "ES",
          "RU",
          "RU",
          "RU",
          "RU",
          "RU",
          "DE",
          "DE",
          "DE",
          "BG",
          "BE",
          "RO",
          "RO",
          "RO",
          "GB",
          "RO",
          "FR",
          "DK",
          "DK",
          "DK",
          "DK",
          "DK",
          "DK",
          "DK",
          "DK",
          "DK",
          "DK",
          "DK",
          "DK",
          "DK",
          "DK",
          "DK",
          "DK",
          "DK",
          "DK",
          "DK",
          "DK",
          "DK",
          "DK",
          "DK",
          "DK",
          "DK",
          "DK",
          "DK",
          "DK",
          "IT",
          "BE",
          "IT",
          "IT",
          "RO",
          "RU",
          "RU",
          "IT",
          "IT",
          "IT",
          "IT",
          "IT",
          "IT",
          "HU",
          "RU",
          "RU",
          "RU",
          "RU",
          "RU",
          "RU",
          "RU",
          "RU",
          "RU",
          "RU",
          "RU",
          "RU",
          "RU",
          "RU",
          "DE",
          "DE",
          "DE",
          "DE",
          "DE",
          "DE",
          "DE",
          "DE",
          "DE",
          "DE",
          "DE",
          "DE",
          "DE",
          "DE",
          "DE",
          "DE",
          "DE",
          "DE",
          "DE",
          "DE",
          "DE",
          "DE",
          "ES",
          "GB",
          "GB",
          "GB",
          "GB",
          "GB",
          "GB",
          "GB",
          "NL",
          "NL",
          "NL",
          "NL",
          "NL",
          "NL",
          "NL",
          "NL",
          "NL",
          "NL",
          "NL",
          "GB",
          "GB",
          "GB",
          "GB",
          "GB",
          "GB",
          "PT",
          "PT",
          "IT",
          "IT",
          "IT",
          "IT",
          "IT",
          "IT",
          "IT",
          "IT",
          "IT",
          "IT",
          "IT",
          "IT",
          "IT",
          "IT",
          "IT",
          "IT",
          "IT",
          "IT",
          "IT",
          "IT",
          "IT",
          "IT",
          "IT",
          "IT",
          "IT",
          "IT",
          "IT",
          "IT",
          "IT",
          "IT",
          "IT",
          "IT",
          "IT",
          "IT",
          "IT",
          "IT",
          "IT",
          "IT",
          "IT",
          "IT",
          "IT",
          "IT",
          "DE",
          "DE",
          "DE",
          "DE",
          "DE",
          "DE",
          "DE",
          "DE",
          "DE",
          "DE",
          "DE",
          "DE",
          "DE",
          "DE",
          "DE",
          "DE",
          "DE",
          "DE",
          "DE",
          "DE",
          "DE",
          "DE",
          "DE",
          "DE",
          "DE",
          "DE",
          "DE",
          "DE",
          "DE",
          "DE",
          "DE",
          "DE",
          "DE",
          "DE",
          "DE",
          "DE",
          "DE",
          "DE",
          "DE",
          "DE",
          "DE",
          "DE",
          "DE",
          "GB",
          "RU",
          "RU",
          "ES",
          "NO",
          "ES",
          "ES",
          "ES",
          "CH",
          "CH",
          "CH",
          "CH",
          "CH",
          "CH",
          "CH",
          "CH",
          "CH",
          "CH",
          "CH",
          "CH",
          "CH",
          "DE",
          "DE",
          "ES",
          "NO",
          "SE",
          "FI",
          "FI",
          "FR",
          "FI",
          "FI",
          "FI",
          "FI",
          "DE",
          "RS",
          "RO",
          "RO",
          "ES",
          "ES",
          "ES",
          "AT",
          "AT",
          "AT",
          "AT",
          "AT",
          "AT",
          "GB",
          "RU",
          "RU",
          "RU",
          "RU",
          "GR",
          "MD",
          "MD",
          "MD",
          "RU",
          "RU",
          "RU",
          "RU",
          "PL",
          "PL",
          "PL",
          "PL",
          "PL",
          "PL",
          "PL",
          "PL",
          "PL",
          "PL",
          "PL",
          "PL",
          "PL",
          "PL",
          "PL",
          "PL",
          "PL",
          "PL",
          "PL",
          "PL",
          "PL",
          "PL",
          "PL",
          "PL",
          "RU",
          "RU",
          "NO",
          "SK",
          "PL",
          "PL",
          "PL",
          "PL",
          "RU",
          "LT",
          "FI",
          "GR",
          "RU",
          "RU",
          "RU",
          "RU",
          "RU",
          "RU",
          "GB",
          "GB",
          "GB",
          "GB",
          "GB",
          "GB",
          "ES",
          "RU",
          "RU",
          "ES",
          "BE",
          "ES",
          "ES",
          "RO",
          "GB",
          "GB",
          "GB",
          "GB",
          "GB",
          "GB",
          "GB",
          "GB",
          "GB",
          "GB",
          "FR",
          "GB",
          "GB",
          "GB",
          "GB",
          "GB",
          "GB",
          "GB",
          "GB",
          "GB",
          "GB",
          "GB",
          "GB",
          "GB",
          "GB",
          "GB",
          "GB",
          "GB",
          "GB",
          "GB",
          "GB",
          "GB",
          "GB",
          "GB",
          "GB",
          "GB",
          "GB",
          "GB",
          "GB",
          "GB",
          "GB",
          "GB",
          "GB",
          "FR",
          "IT",
          "IT",
          "IT",
          "IT",
          "IT",
          "IT",
          "IT",
          "IT",
          "IT",
          "IT",
          "PT",
          "PT",
          "PT",
          "PT",
          "PT",
          "PT",
          "PT",
          "PT",
          "PT",
          "PT",
          "GB",
          "GB",
          "PT",
          "PT",
          "PT",
          "PT",
          "PT",
          "PT",
          "PT",
          "SE",
          "GB",
          "GB",
          "RO",
          "GB",
          "GB",
          "GB",
          "GB",
          "GB",
          "GB",
          "GB",
          "GB",
          "GB",
          "LU",
          "LU",
          "PL",
          "FR",
          "FR",
          "FR",
          "FR",
          "FR",
          "ES",
          "ES",
          "FR",
          "BE",
          "DE",
          "PT",
          "GB",
          "GB",
          "GB",
          "GB",
          "GB",
          "GB",
          "GB",
          "GB",
          "GB",
          "GB",
          "GB",
          "GB",
          "GB",
          "GB",
          "GB",
          "GB",
          "GB",
          "GB",
          "GB",
          "GB",
          "GB",
          "GB",
          "GB",
          "GB",
          "GB",
          "GB",
          "GB",
          "GB",
          "RU",
          "RU",
          "RU",
          "RU",
          "SE",
          "SE",
          "FR",
          "FR",
          "FR",
          "FR",
          "FR",
          "FR",
          "FR",
          "FR",
          "FR",
          "FR",
          "FR",
          "FR",
          "RU",
          "RU",
          "RU",
          "RU",
          "RU",
          "RU",
          "RU",
          "RU",
          "DE",
          "SE",
          "DE",
          "DE",
          "DE",
          "DE",
          "DE",
          "DE",
          "DE",
          "DE",
          "DE",
          "DE",
          "DE",
          "IT",
          "IT",
          "IT",
          "IT",
          "IT",
          "IT",
          "IT",
          "IT",
          "IT",
          "IT",
          "IT",
          "IT",
          "IT",
          "IT",
          "IT",
          "IT",
          "IT",
          "IT",
          "IT",
          "IT",
          "IT",
          "IT",
          "IT",
          "IT",
          "IT",
          "IT",
          "IT",
          "IT",
          "IT",
          "RU",
          "FR",
          "FR",
          "FR",
          "GB",
          "GB",
          "GB",
          "DE",
          "DE",
          "FR",
          "FR",
          "FR",
          "DE",
          "SE",
          "RU",
          "MK",
          "RO",
          "ES",
          "FR",
          "FR",
          "FR",
          "FR",
          "FR",
          "FR",
          "FR",
          "FR",
          "FR",
          "FR",
          "NO",
          "NO",
          "NO",
          "NO",
          "NO",
          "NO",
          "NO",
          "NO",
          "NO",
          "NO",
          "RU",
          "DK",
          "IT",
          "ES",
          "ES",
          "ES",
          "RU",
          "RU",
          "IT",
          "IT",
          "IT",
          "IT",
          "IT",
          "IT",
          "IT",
          "IT",
          "IT",
          "IT",
          "IT",
          "IT",
          "IT",
          "IT",
          "IT",
          "IT",
          "ES",
          "CZ",
          "CZ",
          "CZ",
          "CZ",
          "CZ",
          "CZ",
          "CZ",
          "XK",
          "XK",
          "IT",
          "IT",
          "RU",
          "RU",
          "LV",
          "LV",
          "LV",
          "LV",
          "LV",
          "LV",
          "LV",
          "LV",
          "LV",
          "NL",
          "NL",
          "RO",
          "RO",
          "ES",
          "ES",
          "RU",
          "GB",
          "DE",
          "MK",
          "MK",
          "MK",
          "MK",
          "MK",
          "MK",
          "MK",
          "MK",
          "MK",
          "MK",
          "MK",
          "BG",
          "BG",
          "BG",
          "BG",
          "BG",
          "BG",
          "BG",
          "BG",
          "BG",
          "BG",
          "BG",
          "BG",
          "BG",
          "BG",
          "BG",
          "BG",
          "BG",
          "BG",
          "GB",
          "GB",
          "GB",
          "GB",
          "GB",
          "GB",
          "GB",
          "GB",
          "GB",
          "GB",
          "GB",
          "GB",
          "GB",
          "GB",
          "GB",
          "GB",
          "GB",
          "GB",
          "GB",
          "GB",
          "GB",
          "GB",
          "GB",
          "GB",
          "GB",
          "GB",
          "GB",
          "GB",
          "GB",
          "GB",
          "GB",
          "GB",
          "GB",
          "GB",
          "GB",
          "GB",
          "GB",
          "GB",
          "GB",
          "RO",
          "GR",
          "NO",
          "NO",
          "NO",
          "RU",
          "RU",
          "RU",
          "RU",
          "RU",
          "ES",
          "ES",
          "ES",
          "ES",
          "ES",
          "ES",
          "ES",
          "ES",
          "ES",
          "AT",
          "AT",
          "AT",
          "AT",
          "AT",
          "AT",
          "PL",
          "AL",
          "AL",
          "AL",
          "AL",
          "AL",
          "AL",
          "AL",
          "AL",
          "AL",
          "AL",
          "AL",
          "AL",
          "AL",
          "AL",
          "AL",
          "AL",
          "AL",
          "AL",
          "AL",
          "AL",
          "EE",
          "EE",
          "EE",
          "EE",
          "FR",
          "FR",
          "FR",
          "FI",
          "FI",
          "NO",
          "IT",
          "IT",
          "IT",
          "IT",
          "IT",
          "IT",
          "IT",
          "IT",
          "IT",
          "IT",
          "IT",
          "IT",
          "IT",
          "IT",
          "IT",
          "IT",
          "RO",
          "RO",
          "RO",
          "FR",
          "RU",
          "RU",
          "RU",
          "RU",
          "RU",
          "RU",
          "RU",
          "RU",
          "RU",
          "SE",
          "FI",
          "DE",
          "BG",
          "IT",
          "IT",
          "IT",
          "IT",
          "IT",
          "IT",
          "IT",
          "IT",
          "IT",
          "IT",
          "IT",
          "IT",
          "IT",
          "IT",
          "IT",
          "IT",
          "IT",
          "IT",
          "ES",
          "ES",
          "AT",
          "AT",
          "AT",
          "AT",
          "AT",
          "AT",
          "AT",
          "AT",
          "AT",
          "AT",
          "AT",
          "AT",
          "AT",
          "AT",
          "AT",
          "AT",
          "AT",
          "AT",
          "AT",
          "AT",
          "RU",
          "RU",
          "ES",
          "ES",
          "ES",
          "LT",
          "LT",
          "LT",
          "RU",
          "RU",
          "RU",
          "RU",
          "IT",
          "IT",
          "IT",
          "PT",
          "PT",
          "PL",
          "PL",
          "PL",
          "PL",
          "PL",
          "PL",
          "PL",
          "PL",
          "PL",
          "PL",
          "PL",
          "PL",
          "PL",
          "PL",
          "PL",
          "PL",
          "PL",
          "PL",
          "PL",
          "PL",
          "PL",
          "PL",
          "PL",
          "PL",
          "PL",
          "PL",
          "PL",
          "PL",
          "PL",
          "FR",
          "PL",
          "ES",
          "ES",
          "HR",
          "HR",
          "HR",
          "HR",
          "HR",
          "HR",
          "HR",
          "ES",
          "CH",
          "CH",
          "CH",
          "CH",
          "CH",
          "CH",
          "CH",
          "CH",
          "CH",
          "CH",
          "CH",
          "CH",
          "CH",
          "NL",
          "RU",
          "RU",
          "GB",
          "GB",
          "RU",
          "RU",
          "RU",
          "RU",
          "RU",
          "RU",
          "RU",
          "RU",
          "ES",
          "NO",
          "ES",
          "ES",
          "ES",
          "ES",
          "ES",
          "ES",
          "ES",
          "ES",
          "ES",
          "IT",
          "IT",
          "IT",
          "FR",
          "FR",
          "ES",
          "ES",
          "ES",
          "PT",
          "PL",
          "NL",
          "ES",
          "SE",
          "NL",
          "ES",
          "NO",
          "GB",
          "DK",
          "BG",
          "GB",
          "FR",
          "GB",
          "IT",
          "PL",
          "CH",
          "DE",
          "FI",
          "GB",
          "NL",
          "NL",
          "NL",
          "DE",
          "GB",
          "PT",
          "RO",
          "CZ",
          "FI",
          "GB",
          "ES",
          "CH",
          "RU",
          "ES",
          "SE",
          "SE",
          "SE",
          "SE",
          "PL",
          "RU",
          "IT",
          "BE",
          "FR",
          "CH",
          "GR",
          "GB",
          "RO",
          "GR",
          "CH",
          "ES",
          "ES",
          "ES",
          "ES",
          "ES",
          "ES",
          "ES",
          "ES",
          "ES",
          "ES",
          "ES",
          "ES",
          "ES",
          "ES",
          "HU",
          "FR",
          "FR",
          "RS",
          "PT",
          "NO",
          "RU",
          "AT",
          "PL",
          "CH",
          "GB",
          "GB",
          "GB",
          "CH",
          "PT",
          "IT",
          "IT",
          "IT",
          "IT",
          "BE",
          "RO",
          "RO",
          "IT",
          "IT",
          "NL",
          "GB",
          "GB",
          "GB",
          "ES",
          "ES",
          "RO",
          "PT",
          "RO",
          "PL",
          "ES",
          "NL",
          "ES",
          "GB",
          "ES",
          "PT",
          "DK",
          "DK",
          "IT",
          "ES",
          "DE",
          "IT",
          "HU",
          "BE",
          "IT",
          "IT",
          "IT",
          "IT",
          "IT",
          "IT",
          "PL",
          "ES",
          "GB",
          "GB",
          "PT",
          "PL",
          "BE",
          "BE",
          "NL",
          "FR",
          "IT",
          "DE",
          "RO",
          "XK",
          "IT",
          "LT",
          "GB",
          "ES",
          "SE",
          "GR",
          "ES",
          "IT",
          "GB",
          "IT",
          "GB",
          "IT",
          "BE",
          "IT",
          "FI",
          "GB",
          "GB",
          "ES",
          "FR",
          "IT",
          "CZ",
          "PL",
          "ES",
          "FR",
          "PT",
          "GB",
          "BE",
          "ES",
          "ES",
          "FR",
          "ES",
          "ES",
          "GB",
          "IT",
          "FR",
          "BE",
          "SE",
          "FR",
          "FR",
          "RO",
          "DE",
          "RU",
          "RU",
          "RU",
          "RU",
          "RU",
          "ES",
          "DE",
          "DE",
          "DE",
          "IT",
          "IT",
          "IT",
          "IT",
          "RO",
          "RO",
          "GB",
          "DK",
          "DK",
          "ES",
          "ES",
          "NL",
          "SE",
          "HU",
          "IT",
          "FR",
          "DE",
          "PT",
          "DE",
          "SE",
          "CH",
          "DE",
          "FI",
          "PL",
          "LT",
          "GB",
          "GB",
          "ES",
          "GB",
          "DE",
          "PT",
          "NO",
          "AT",
          "AT",
          "CH",
          "RO",
          "RO",
          "BE",
          "BE",
          "BE",
          "RU",
          "RU",
          "IT",
          "IT",
          "BE",
          "IT",
          "CZ",
          "IT",
          "GB",
          "RU",
          "RU",
          "RU",
          "RU",
          "RU",
          "RU",
          "RU",
          "RU",
          "RU",
          "RU",
          "RU",
          "RU",
          "RU",
          "RU",
          "RS",
          "HU",
          "RO",
          "IT",
          "PL",
          "PL",
          "PL",
          "LT",
          "NL",
          "FR",
          "DK",
          "DE",
          "FI",
          "MD",
          "GB",
          "PT",
          "ES",
          "XK",
          "AL",
          "NO",
          "AT",
          "CH",
          "ES",
          "ES",
          "GB",
          "GB",
          "BE",
          "CH",
          "GB",
          "ES",
          "ES",
          "ES",
          "GR",
          "IT",
          "HU",
          "RO",
          "HU",
          "PL",
          "PT",
          "AT",
          "LT",
          "ES",
          "ES",
          "GB",
          "CH",
          "FR",
          "PL",
          "GB",
          "PT",
          "ES",
          "NL",
          "IT",
          "ES",
          "IT",
          "HU",
          "IT",
          "FR",
          "FR",
          "DE",
          "IT",
          "NL",
          "IT",
          "DE",
          "IT",
          "GB",
          "GB",
          "IT",
          "PT",
          "FR",
          "ES",
          "DE",
          "FR",
          "RO",
          "RO",
          "IT",
          "PL",
          "CZ",
          "PL",
          "IT",
          "AL",
          "IT",
          "IT",
          "AT",
          "ES",
          "IT",
          "PL",
          "CH",
          "FR",
          "GB",
          "ES",
          "DE",
          "RO",
          "PT",
          "RO",
          "ES",
          "ES",
          "NL",
          "SE",
          "IT",
          "DE",
          "GB",
          "BE",
          "FR",
          "HU",
          "FR",
          "DE",
          "DE",
          "IT",
          "SE",
          "AT",
          "CH",
          "DE",
          "FI",
          "DE",
          "PL",
          "DE",
          "GB",
          "GB",
          "IT",
          "GB",
          "DE",
          "IT",
          "DE",
          "NO",
          "PL",
          "CZ",
          "DE",
          "AT",
          "IT",
          "AT",
          "PL",
          "PL",
          "HR",
          "CH",
          "FR",
          "RU",
          "RU",
          "SE",
          "SE",
          "GB",
          "ES",
          "ES",
          "SE",
          "ES",
          "GB",
          "GB",
          "GB",
          "BE",
          "SE",
          "GB",
          "ES",
          "DE",
          "PT",
          "XK",
          "GB",
          "DE",
          "DE",
          "DE",
          "NO",
          "FI",
          "ES",
          "BE",
          "FI",
          "SE",
          "DE",
          "FI",
          "FI",
          "ES",
          "DE",
          "IT",
          "RO",
          "ES",
          "ES",
          "ES",
          "GB",
          "GB",
          "DE",
          "GB",
          "GB",
          "AT",
          "GB",
          "RU",
          "RU",
          "RU",
          "RU",
          "GR",
          "FR",
          "PT",
          "RO",
          "RU",
          "RU",
          "RU",
          "RU",
          "ES",
          "NL",
          "SE",
          "ES",
          "IT",
          "GB",
          "IT",
          "FR",
          "IT",
          "IT",
          "BE",
          "GB",
          "NL",
          "SE",
          "GB",
          "GB",
          "FR",
          "SE",
          "NO",
          "IT",
          "FR",
          "AT",
          "ES",
          "PL",
          "RU",
          "RU",
          "NO",
          "CZ",
          "ES",
          "GR",
          "IT",
          "GB",
          "RU",
          "IT",
          "FI",
          "GR",
          "RU",
          "RU",
          "RU",
          "RU",
          "RU",
          "RU",
          "ES",
          "NL",
          "FR",
          "PT",
          "PL",
          "PL",
          "ES",
          "RU",
          "RU",
          "ES",
          "ES",
          "GB",
          "GB",
          "GB",
          "GB",
          "SE",
          "SE",
          "GR",
          "GR",
          "DK",
          "DK",
          "IT",
          "IT",
          "BE",
          "GB",
          "GB",
          "GB",
          "GB",
          "GI",
          "FR",
          "FR",
          "FR",
          "SE",
          "SE",
          "CH",
          "CH",
          "CH",
          "IT",
          "FR",
          "ES",
          "ES",
          "ES",
          "IT",
          "IT",
          "FR",
          "GB",
          "NO",
          "RO",
          "RO",
          "RO",
          "RO",
          "AT",
          "AT",
          "FR",
          "AT",
          "AT",
          "CH",
          "CH",
          "NL",
          "BE",
          "IT",
          "FR",
          "IT",
          "FI",
          "ES",
          "DE",
          "IT",
          "IT",
          "ES",
          "NL",
          "ES",
          "FR",
          "BE",
          "FR",
          "FR",
          "DE",
          "CH",
          "FI",
          "PT",
          "PT",
          "LU",
          "FR",
          "ES",
          "DE",
          "PT",
          "ES",
          "PL",
          "SE",
          "GB",
          "GB",
          "GB",
          "PL",
          "PL",
          "RO",
          "XK",
          "NO",
          "LT",
          "LT",
          "PL",
          "PL",
          "ES",
          "IT",
          "GB",
          "SE",
          "FR",
          "GB",
          "ES",
          "DE",
          "ES",
          "ES",
          "ES",
          "ES",
          "ES",
          "ES",
          "ES",
          "ES",
          "NL",
          "GB",
          "GB",
          "HU",
          "FR",
          "DE",
          "IT",
          "FR",
          "DK",
          "DE",
          "FR",
          "CH",
          "FI",
          "PL",
          "GB",
          "ES",
          "DE",
          "PL",
          "CZ",
          "ES",
          "PL",
          "ES",
          "AT",
          "IT",
          "IT",
          "PL",
          "RU",
          "RU",
          "RU",
          "RU",
          "SE",
          "SE",
          "NL",
          "FR",
          "ES",
          "ES",
          "HU",
          "FR",
          "FR",
          "BE",
          "PT",
          "FR",
          "ES",
          "FR",
          "RU",
          "RU",
          "RU",
          "RU",
          "RU",
          "RU",
          "RU",
          "RU",
          "ES",
          "DE",
          "GB",
          "IT",
          "BE",
          "DE",
          "DE",
          "AT",
          "DE",
          "GB",
          "XK",
          "DE",
          "ES",
          "NL",
          "GR",
          "IT",
          "FR",
          "FR",
          "IT",
          "FI",
          "GB",
          "DE",
          "XK",
          "PL",
          "IT",
          "AT",
          "LT",
          "CH",
          "ES",
          "IT",
          "BE",
          "IT",
          "IT",
          "PL",
          "IT",
          "IT",
          "IT",
          "GB",
          "IT",
          "IT",
          "AT",
          "ES",
          "RU",
          "FR",
          "ES",
          "CH",
          "ES",
          "ES",
          "GB",
          "ES",
          "GR",
          "NL",
          "CH",
          "FR",
          "GR",
          "RO",
          "RU",
          "CH",
          "RO",
          "PT",
          "FR",
          "GB",
          "ES",
          "FR",
          "IT",
          "FR",
          "PT",
          "GB",
          "FR",
          "ES",
          "ES",
          "NL",
          "SE",
          "NO",
          "FR",
          "SE",
          "FI",
          "NO",
          "NO",
          "CH",
          "RU",
          "RO",
          "RO",
          "ES",
          "ES",
          "DE",
          "RU",
          "RU",
          "IT",
          "ES",
          "IT",
          "IT",
          "IT",
          "DE",
          "IT",
          "ES",
          "IT",
          "IT",
          "DE",
          "IT",
          "GB",
          "IT",
          "IT",
          "IT",
          "ES",
          "ES",
          "ES",
          "IT",
          "FR",
          "CH",
          "FI",
          "ES",
          "DE",
          "DE",
          "BE",
          "IT",
          "RU",
          "RU",
          "NL",
          "GB",
          "CH",
          "PT",
          "LT",
          "GB",
          "AT",
          "EE",
          "AT",
          "ES",
          "AT",
          "GB",
          "DE",
          "ES",
          "ES",
          "RU",
          "CH",
          "GR",
          "RS",
          "SK",
          "DE",
          "DK",
          "NL",
          "IT",
          "DE",
          "DE",
          "SE",
          "HR",
          "CH",
          "ES",
          "GR",
          "ES",
          "IT",
          "GB",
          "DK",
          "BE",
          "NL",
          "DE",
          "DE",
          "GB",
          "GB",
          "GB",
          "ES",
          "DE",
          "IT",
          "BG",
          "AT",
          "IT",
          "FR",
          "SK",
          "HU",
          "PL",
          "DE",
          "IT",
          "FR",
          "IT",
          "NL",
          "PT",
          "IT",
          "PL",
          "PL",
          "PL",
          "FR",
          "IT",
          "DE",
          "PT",
          "PL",
          "CZ",
          "IT",
          "LV",
          "ES",
          "GR",
          "BG",
          "ES",
          "PL",
          "PL",
          "AL",
          "IT",
          "IT",
          "IT",
          "ES",
          "ES",
          "IT",
          "PL",
          "HR",
          "ES",
          "DE",
          "DE",
          "NL",
          "PL",
          "NO",
          "RU",
          "RU",
          "RU",
          "RU",
          "RU",
          "ES",
          "IT",
          "IT",
          "ES",
          "GB",
          "IT",
          "IT",
          "GB",
          "PL",
          "NL",
          "SE",
          "GB",
          "DE",
          "FI",
          "GB",
          "NO",
          "SE",
          "ES",
          "IT",
          "IT",
          "IT",
          "FR",
          "IT",
          "IT",
          "BE",
          "IT",
          "DE",
          "DE",
          "FR",
          "IT",
          "DE",
          "IT",
          "IT",
          "IT",
          "IT",
          "IT",
          "SE",
          "CH",
          "FI",
          "GB",
          "FR",
          "ES",
          "DE",
          "NL",
          "EE",
          "NO",
          "SE",
          "IT",
          "IT",
          "SE",
          "GB",
          "DE",
          "RO",
          "IT",
          "LT",
          "FR",
          "BE",
          "RO",
          "BG",
          "AL",
          "AT",
          "ES",
          "IT",
          "FR",
          "RO",
          "GB",
          "RU",
          "RU",
          "RU",
          "RU",
          "RU",
          "RU",
          "RU",
          "RU",
          "RU",
          "SE",
          "FI",
          "BG",
          "DE",
          "NL",
          "ES",
          "IT",
          "FR",
          "FR",
          "IT",
          "GB",
          "IT",
          "DE",
          "GB",
          "GB",
          "PT",
          "ES",
          "GB",
          "DE",
          "IT",
          "IT",
          "IT",
          "ES",
          "ES",
          "ES",
          "GR",
          "ES",
          "IT",
          "BE",
          "FR",
          "RO",
          "CH",
          "DE",
          "FI",
          "AT",
          "GB",
          "LU",
          "ES",
          "DE",
          "IT",
          "RO",
          "DE",
          "NO",
          "CH",
          "RU",
          "RU",
          "BE",
          "ES",
          "PT",
          "ES",
          "FR",
          "DE",
          "RU",
          "RU",
          "RU",
          "RU",
          "PL",
          "PL",
          "IT",
          "PT",
          "PT",
          "NL",
          "GR",
          "ES",
          "ES",
          "IT",
          "BE",
          "BE",
          "HU",
          "FR",
          "RO",
          "PL",
          "FR",
          "CH",
          "PL",
          "PL",
          "GB",
          "GB",
          "SI",
          "DE",
          "RO",
          "CZ",
          "LT",
          "IT",
          "PL",
          "CH",
          "ES",
          "IT",
          "ES",
          "GB",
          "PL",
          "ES",
          "ES",
          "ES",
          "NL",
          "BE",
          "DE",
          "GB",
          "DE",
          "AT",
          "CH",
          "FR",
          "ES",
          "IT",
          "BE",
          "FR",
          "GB",
          "SE",
          "CH",
          "ES",
          "DE",
          "PT",
          "RO",
          "XK",
          "DE"
         ],
         "xaxis": "x",
         "yaxis": "y"
        }
       ],
       "layout": {
        "barmode": "relative",
        "legend": {
         "tracegroupgap": 0
        },
        "margin": {
         "t": 60
        },
        "template": {
         "data": {
          "bar": [
           {
            "error_x": {
             "color": "#2a3f5f"
            },
            "error_y": {
             "color": "#2a3f5f"
            },
            "marker": {
             "line": {
              "color": "#E5ECF6",
              "width": 0.5
             },
             "pattern": {
              "fillmode": "overlay",
              "size": 10,
              "solidity": 0.2
             }
            },
            "type": "bar"
           }
          ],
          "barpolar": [
           {
            "marker": {
             "line": {
              "color": "#E5ECF6",
              "width": 0.5
             },
             "pattern": {
              "fillmode": "overlay",
              "size": 10,
              "solidity": 0.2
             }
            },
            "type": "barpolar"
           }
          ],
          "carpet": [
           {
            "aaxis": {
             "endlinecolor": "#2a3f5f",
             "gridcolor": "white",
             "linecolor": "white",
             "minorgridcolor": "white",
             "startlinecolor": "#2a3f5f"
            },
            "baxis": {
             "endlinecolor": "#2a3f5f",
             "gridcolor": "white",
             "linecolor": "white",
             "minorgridcolor": "white",
             "startlinecolor": "#2a3f5f"
            },
            "type": "carpet"
           }
          ],
          "choropleth": [
           {
            "colorbar": {
             "outlinewidth": 0,
             "ticks": ""
            },
            "type": "choropleth"
           }
          ],
          "contour": [
           {
            "colorbar": {
             "outlinewidth": 0,
             "ticks": ""
            },
            "colorscale": [
             [
              0,
              "#0d0887"
             ],
             [
              0.1111111111111111,
              "#46039f"
             ],
             [
              0.2222222222222222,
              "#7201a8"
             ],
             [
              0.3333333333333333,
              "#9c179e"
             ],
             [
              0.4444444444444444,
              "#bd3786"
             ],
             [
              0.5555555555555556,
              "#d8576b"
             ],
             [
              0.6666666666666666,
              "#ed7953"
             ],
             [
              0.7777777777777778,
              "#fb9f3a"
             ],
             [
              0.8888888888888888,
              "#fdca26"
             ],
             [
              1,
              "#f0f921"
             ]
            ],
            "type": "contour"
           }
          ],
          "contourcarpet": [
           {
            "colorbar": {
             "outlinewidth": 0,
             "ticks": ""
            },
            "type": "contourcarpet"
           }
          ],
          "heatmap": [
           {
            "colorbar": {
             "outlinewidth": 0,
             "ticks": ""
            },
            "colorscale": [
             [
              0,
              "#0d0887"
             ],
             [
              0.1111111111111111,
              "#46039f"
             ],
             [
              0.2222222222222222,
              "#7201a8"
             ],
             [
              0.3333333333333333,
              "#9c179e"
             ],
             [
              0.4444444444444444,
              "#bd3786"
             ],
             [
              0.5555555555555556,
              "#d8576b"
             ],
             [
              0.6666666666666666,
              "#ed7953"
             ],
             [
              0.7777777777777778,
              "#fb9f3a"
             ],
             [
              0.8888888888888888,
              "#fdca26"
             ],
             [
              1,
              "#f0f921"
             ]
            ],
            "type": "heatmap"
           }
          ],
          "heatmapgl": [
           {
            "colorbar": {
             "outlinewidth": 0,
             "ticks": ""
            },
            "colorscale": [
             [
              0,
              "#0d0887"
             ],
             [
              0.1111111111111111,
              "#46039f"
             ],
             [
              0.2222222222222222,
              "#7201a8"
             ],
             [
              0.3333333333333333,
              "#9c179e"
             ],
             [
              0.4444444444444444,
              "#bd3786"
             ],
             [
              0.5555555555555556,
              "#d8576b"
             ],
             [
              0.6666666666666666,
              "#ed7953"
             ],
             [
              0.7777777777777778,
              "#fb9f3a"
             ],
             [
              0.8888888888888888,
              "#fdca26"
             ],
             [
              1,
              "#f0f921"
             ]
            ],
            "type": "heatmapgl"
           }
          ],
          "histogram": [
           {
            "marker": {
             "pattern": {
              "fillmode": "overlay",
              "size": 10,
              "solidity": 0.2
             }
            },
            "type": "histogram"
           }
          ],
          "histogram2d": [
           {
            "colorbar": {
             "outlinewidth": 0,
             "ticks": ""
            },
            "colorscale": [
             [
              0,
              "#0d0887"
             ],
             [
              0.1111111111111111,
              "#46039f"
             ],
             [
              0.2222222222222222,
              "#7201a8"
             ],
             [
              0.3333333333333333,
              "#9c179e"
             ],
             [
              0.4444444444444444,
              "#bd3786"
             ],
             [
              0.5555555555555556,
              "#d8576b"
             ],
             [
              0.6666666666666666,
              "#ed7953"
             ],
             [
              0.7777777777777778,
              "#fb9f3a"
             ],
             [
              0.8888888888888888,
              "#fdca26"
             ],
             [
              1,
              "#f0f921"
             ]
            ],
            "type": "histogram2d"
           }
          ],
          "histogram2dcontour": [
           {
            "colorbar": {
             "outlinewidth": 0,
             "ticks": ""
            },
            "colorscale": [
             [
              0,
              "#0d0887"
             ],
             [
              0.1111111111111111,
              "#46039f"
             ],
             [
              0.2222222222222222,
              "#7201a8"
             ],
             [
              0.3333333333333333,
              "#9c179e"
             ],
             [
              0.4444444444444444,
              "#bd3786"
             ],
             [
              0.5555555555555556,
              "#d8576b"
             ],
             [
              0.6666666666666666,
              "#ed7953"
             ],
             [
              0.7777777777777778,
              "#fb9f3a"
             ],
             [
              0.8888888888888888,
              "#fdca26"
             ],
             [
              1,
              "#f0f921"
             ]
            ],
            "type": "histogram2dcontour"
           }
          ],
          "mesh3d": [
           {
            "colorbar": {
             "outlinewidth": 0,
             "ticks": ""
            },
            "type": "mesh3d"
           }
          ],
          "parcoords": [
           {
            "line": {
             "colorbar": {
              "outlinewidth": 0,
              "ticks": ""
             }
            },
            "type": "parcoords"
           }
          ],
          "pie": [
           {
            "automargin": true,
            "type": "pie"
           }
          ],
          "scatter": [
           {
            "fillpattern": {
             "fillmode": "overlay",
             "size": 10,
             "solidity": 0.2
            },
            "type": "scatter"
           }
          ],
          "scatter3d": [
           {
            "line": {
             "colorbar": {
              "outlinewidth": 0,
              "ticks": ""
             }
            },
            "marker": {
             "colorbar": {
              "outlinewidth": 0,
              "ticks": ""
             }
            },
            "type": "scatter3d"
           }
          ],
          "scattercarpet": [
           {
            "marker": {
             "colorbar": {
              "outlinewidth": 0,
              "ticks": ""
             }
            },
            "type": "scattercarpet"
           }
          ],
          "scattergeo": [
           {
            "marker": {
             "colorbar": {
              "outlinewidth": 0,
              "ticks": ""
             }
            },
            "type": "scattergeo"
           }
          ],
          "scattergl": [
           {
            "marker": {
             "colorbar": {
              "outlinewidth": 0,
              "ticks": ""
             }
            },
            "type": "scattergl"
           }
          ],
          "scattermapbox": [
           {
            "marker": {
             "colorbar": {
              "outlinewidth": 0,
              "ticks": ""
             }
            },
            "type": "scattermapbox"
           }
          ],
          "scatterpolar": [
           {
            "marker": {
             "colorbar": {
              "outlinewidth": 0,
              "ticks": ""
             }
            },
            "type": "scatterpolar"
           }
          ],
          "scatterpolargl": [
           {
            "marker": {
             "colorbar": {
              "outlinewidth": 0,
              "ticks": ""
             }
            },
            "type": "scatterpolargl"
           }
          ],
          "scatterternary": [
           {
            "marker": {
             "colorbar": {
              "outlinewidth": 0,
              "ticks": ""
             }
            },
            "type": "scatterternary"
           }
          ],
          "surface": [
           {
            "colorbar": {
             "outlinewidth": 0,
             "ticks": ""
            },
            "colorscale": [
             [
              0,
              "#0d0887"
             ],
             [
              0.1111111111111111,
              "#46039f"
             ],
             [
              0.2222222222222222,
              "#7201a8"
             ],
             [
              0.3333333333333333,
              "#9c179e"
             ],
             [
              0.4444444444444444,
              "#bd3786"
             ],
             [
              0.5555555555555556,
              "#d8576b"
             ],
             [
              0.6666666666666666,
              "#ed7953"
             ],
             [
              0.7777777777777778,
              "#fb9f3a"
             ],
             [
              0.8888888888888888,
              "#fdca26"
             ],
             [
              1,
              "#f0f921"
             ]
            ],
            "type": "surface"
           }
          ],
          "table": [
           {
            "cells": {
             "fill": {
              "color": "#EBF0F8"
             },
             "line": {
              "color": "white"
             }
            },
            "header": {
             "fill": {
              "color": "#C8D4E3"
             },
             "line": {
              "color": "white"
             }
            },
            "type": "table"
           }
          ]
         },
         "layout": {
          "annotationdefaults": {
           "arrowcolor": "#2a3f5f",
           "arrowhead": 0,
           "arrowwidth": 1
          },
          "autotypenumbers": "strict",
          "coloraxis": {
           "colorbar": {
            "outlinewidth": 0,
            "ticks": ""
           }
          },
          "colorscale": {
           "diverging": [
            [
             0,
             "#8e0152"
            ],
            [
             0.1,
             "#c51b7d"
            ],
            [
             0.2,
             "#de77ae"
            ],
            [
             0.3,
             "#f1b6da"
            ],
            [
             0.4,
             "#fde0ef"
            ],
            [
             0.5,
             "#f7f7f7"
            ],
            [
             0.6,
             "#e6f5d0"
            ],
            [
             0.7,
             "#b8e186"
            ],
            [
             0.8,
             "#7fbc41"
            ],
            [
             0.9,
             "#4d9221"
            ],
            [
             1,
             "#276419"
            ]
           ],
           "sequential": [
            [
             0,
             "#0d0887"
            ],
            [
             0.1111111111111111,
             "#46039f"
            ],
            [
             0.2222222222222222,
             "#7201a8"
            ],
            [
             0.3333333333333333,
             "#9c179e"
            ],
            [
             0.4444444444444444,
             "#bd3786"
            ],
            [
             0.5555555555555556,
             "#d8576b"
            ],
            [
             0.6666666666666666,
             "#ed7953"
            ],
            [
             0.7777777777777778,
             "#fb9f3a"
            ],
            [
             0.8888888888888888,
             "#fdca26"
            ],
            [
             1,
             "#f0f921"
            ]
           ],
           "sequentialminus": [
            [
             0,
             "#0d0887"
            ],
            [
             0.1111111111111111,
             "#46039f"
            ],
            [
             0.2222222222222222,
             "#7201a8"
            ],
            [
             0.3333333333333333,
             "#9c179e"
            ],
            [
             0.4444444444444444,
             "#bd3786"
            ],
            [
             0.5555555555555556,
             "#d8576b"
            ],
            [
             0.6666666666666666,
             "#ed7953"
            ],
            [
             0.7777777777777778,
             "#fb9f3a"
            ],
            [
             0.8888888888888888,
             "#fdca26"
            ],
            [
             1,
             "#f0f921"
            ]
           ]
          },
          "colorway": [
           "#636efa",
           "#EF553B",
           "#00cc96",
           "#ab63fa",
           "#FFA15A",
           "#19d3f3",
           "#FF6692",
           "#B6E880",
           "#FF97FF",
           "#FECB52"
          ],
          "font": {
           "color": "#2a3f5f"
          },
          "geo": {
           "bgcolor": "white",
           "lakecolor": "white",
           "landcolor": "#E5ECF6",
           "showlakes": true,
           "showland": true,
           "subunitcolor": "white"
          },
          "hoverlabel": {
           "align": "left"
          },
          "hovermode": "closest",
          "mapbox": {
           "style": "light"
          },
          "paper_bgcolor": "white",
          "plot_bgcolor": "#E5ECF6",
          "polar": {
           "angularaxis": {
            "gridcolor": "white",
            "linecolor": "white",
            "ticks": ""
           },
           "bgcolor": "#E5ECF6",
           "radialaxis": {
            "gridcolor": "white",
            "linecolor": "white",
            "ticks": ""
           }
          },
          "scene": {
           "xaxis": {
            "backgroundcolor": "#E5ECF6",
            "gridcolor": "white",
            "gridwidth": 2,
            "linecolor": "white",
            "showbackground": true,
            "ticks": "",
            "zerolinecolor": "white"
           },
           "yaxis": {
            "backgroundcolor": "#E5ECF6",
            "gridcolor": "white",
            "gridwidth": 2,
            "linecolor": "white",
            "showbackground": true,
            "ticks": "",
            "zerolinecolor": "white"
           },
           "zaxis": {
            "backgroundcolor": "#E5ECF6",
            "gridcolor": "white",
            "gridwidth": 2,
            "linecolor": "white",
            "showbackground": true,
            "ticks": "",
            "zerolinecolor": "white"
           }
          },
          "shapedefaults": {
           "line": {
            "color": "#2a3f5f"
           }
          },
          "ternary": {
           "aaxis": {
            "gridcolor": "white",
            "linecolor": "white",
            "ticks": ""
           },
           "baxis": {
            "gridcolor": "white",
            "linecolor": "white",
            "ticks": ""
           },
           "bgcolor": "#E5ECF6",
           "caxis": {
            "gridcolor": "white",
            "linecolor": "white",
            "ticks": ""
           }
          },
          "title": {
           "x": 0.05
          },
          "xaxis": {
           "automargin": true,
           "gridcolor": "white",
           "linecolor": "white",
           "ticks": "",
           "title": {
            "standoff": 15
           },
           "zerolinecolor": "white",
           "zerolinewidth": 2
          },
          "yaxis": {
           "automargin": true,
           "gridcolor": "white",
           "linecolor": "white",
           "ticks": "",
           "title": {
            "standoff": 15
           },
           "zerolinecolor": "white",
           "zerolinewidth": 2
          }
         }
        },
        "title": {
         "text": "Country Representation in Dataset"
        },
        "xaxis": {
         "anchor": "y",
         "domain": [
          0,
          1
         ],
         "title": {
          "text": "Country"
         }
        },
        "yaxis": {
         "anchor": "x",
         "domain": [
          0,
          1
         ],
         "title": {
          "text": "Count"
         }
        }
       }
      }
     },
     "metadata": {},
     "output_type": "display_data"
    }
   ],
   "source": [
    "# Create a histogram of the countries\n",
    "country_histogram = px.histogram(all_countries, x=all_countries)\n",
    "country_histogram.update_layout(\n",
    "    title='Country Representation in Dataset',\n",
    "    xaxis_title='Country',\n",
    "    yaxis_title='Count'\n",
    ")\n",
    "\n",
    "\n",
    "country_histogram.show()"
   ],
   "metadata": {
    "collapsed": false
   },
   "id": "402f158be828b9dc",
   "execution_count": 119
  },
  {
   "cell_type": "markdown",
   "source": [],
   "metadata": {
    "collapsed": false
   },
   "id": "c8bf5e4a477fe2a6"
  },
  {
   "cell_type": "code",
   "outputs": [
    {
     "data": {
      "application/vnd.plotly.v1+json": {
       "config": {
        "plotlyServerURL": "https://plot.ly"
       },
       "data": [
        {
         "customdata": [
          [
           "Aalborg",
           "Amsterdam"
          ],
          [
           "Novorossiysk",
           "Saint Petersburg"
          ],
          [
           "Novorossiysk",
           "Saint Petersburg"
          ],
          [
           "Amsterdam",
           "Aberdeen"
          ],
          [
           "Aberdeen",
           "London"
          ],
          [
           "Sochi",
           "Cherepovets"
          ],
          [
           "Sochi",
           "Moscow"
          ],
          [
           "Sochi",
           "Moscow"
          ],
          [
           "Sochi",
           "Moscow"
          ],
          [
           "Sochi",
           "Krasnoyarsk"
          ],
          [
           "Sochi",
           "Kazan"
          ],
          [
           "Sochi",
           "Saint Petersburg"
          ],
          [
           "Sochi",
           "Pskov"
          ],
          [
           "Ålesund",
           "Alicante"
          ],
          [
           "Ålesund",
           "Bergen"
          ],
          [
           "Barcelona",
           "Málaga"
          ],
          [
           "Bordeaux",
           "Málaga"
          ],
          [
           "Gothenburg",
           "Málaga"
          ],
          [
           "Hamburg",
           "Málaga"
          ],
          [
           "London",
           "Málaga"
          ],
          [
           "London",
           "Málaga"
          ],
          [
           "London",
           "Málaga"
          ],
          [
           "London",
           "Málaga"
          ],
          [
           "Madrid",
           "Málaga"
          ],
          [
           "Sassari",
           "Monza"
          ],
          [
           "Sassari",
           "Rome"
          ],
          [
           "Sassari",
           "Milan"
          ],
          [
           "Ajaccio",
           "Nice"
          ],
          [
           "Ajaccio",
           "Paris"
          ],
          [
           "Alicante",
           "Barcelona"
          ],
          [
           "Bristol",
           "Alicante"
          ],
          [
           "Alicante",
           "Madrid"
          ],
          [
           "Alicante",
           "Porto"
          ],
          [
           "Alicante",
           "Warsaw"
          ],
          [
           "Aberdeen",
           "Amsterdam"
          ],
          [
           "Amsterdam",
           "Málaga"
          ],
          [
           "Amsterdam",
           "Stockholm"
          ],
          [
           "Athens",
           "Amsterdam"
          ],
          [
           "Amsterdam",
           "Barcelona"
          ],
          [
           "Amsterdam",
           "Bergen"
          ],
          [
           "Amsterdam",
           "Birmingham"
          ],
          [
           "Amsterdam",
           "Kolding"
          ],
          [
           "Amsterdam",
           "Burgas"
          ],
          [
           "Amsterdam",
           "Bristol"
          ],
          [
           "Amsterdam",
           "Paris"
          ],
          [
           "Amsterdam",
           "Weston-super-Mare"
          ],
          [
           "Amsterdam",
           "Florence"
          ],
          [
           "Amsterdam",
           "Gdańsk"
          ],
          [
           "Amsterdam",
           "Geneva"
          ],
          [
           "Amsterdam",
           "Hamburg"
          ],
          [
           "Amsterdam",
           "Helsinki"
          ],
          [
           "Amsterdam",
           "London"
          ],
          [
           "London",
           "Amsterdam"
          ],
          [
           "London",
           "Amsterdam"
          ],
          [
           "London",
           "Amsterdam"
          ],
          [
           "Amsterdam",
           "Munich"
          ],
          [
           "Amsterdam",
           "Norwich"
          ],
          [
           "Amsterdam",
           "Porto"
          ],
          [
           "Amsterdam",
           "Bucharest"
          ],
          [
           "Amsterdam",
           "Prague"
          ],
          [
           "Amsterdam",
           "Rovaniemi"
          ],
          [
           "Amsterdam",
           "Portsmouth"
          ],
          [
           "Amsterdam",
           "Valencia"
          ],
          [
           "Amsterdam",
           "Zürich"
          ],
          [
           "Arkhangelsk",
           "Saint Petersburg"
          ],
          [
           "Stockholm",
           "Málaga"
          ],
          [
           "Monza",
           "Stockholm"
          ],
          [
           "Stockholm",
           "Gothenburg"
          ],
          [
           "Helsinki",
           "Stockholm"
          ],
          [
           "Munich",
           "Stockholm"
          ],
          [
           "Stockholm",
           "Poznań"
          ],
          [
           "Astrakhan",
           "Moscow"
          ],
          [
           "Athens",
           "Bologna"
          ],
          [
           "Athens",
           "Brussels"
          ],
          [
           "Athens",
           "Paris"
          ],
          [
           "Athens",
           "Geneva"
          ],
          [
           "Kavála",
           "Athens"
          ],
          [
           "Athens",
           "London"
          ],
          [
           "Athens",
           "Bucharest"
          ],
          [
           "Athens",
           "Thessaloníki"
          ],
          [
           "Athens",
           "Zürich"
          ],
          [
           "Málaga",
           "Barcelona"
          ],
          [
           "Bordeaux",
           "Barcelona"
          ],
          [
           "Brussels",
           "Barcelona"
          ],
          [
           "Brussels",
           "Barcelona"
          ],
          [
           "Genoa",
           "Barcelona"
          ],
          [
           "Gothenburg",
           "Barcelona"
          ],
          [
           "London",
           "Barcelona"
          ],
          [
           "London",
           "Barcelona"
          ],
          [
           "London",
           "Barcelona"
          ],
          [
           "London",
           "Barcelona"
          ],
          [
           "Maastricht",
           "Barcelona"
          ],
          [
           "Porto",
           "Barcelona"
          ],
          [
           "Bucharest",
           "Barcelona"
          ],
          [
           "Belgrade",
           "Barcelona"
          ],
          [
           "Belgrade",
           "Budapest"
          ],
          [
           "Belgrade",
           "Amiens"
          ],
          [
           "Belgrade",
           "Paris"
          ],
          [
           "Belgrade",
           "Niš"
          ],
          [
           "Belgrade",
           "Lisbon"
          ],
          [
           "Belgrade",
           "Oslo"
          ],
          [
           "Belgrade",
           "Moscow"
          ],
          [
           "Belgrade",
           "Vienna"
          ],
          [
           "Belgrade",
           "Warsaw"
          ],
          [
           "Belgrade",
           "Zürich"
          ],
          [
           "Belfast",
           "Birmingham"
          ],
          [
           "Belfast",
           "Birmingham"
          ],
          [
           "Belfast",
           "Dunfermline"
          ],
          [
           "Belfast",
           "Geneva"
          ],
          [
           "Bragança",
           "Vila Real"
          ],
          [
           "Stockholm",
           "Monza"
          ],
          [
           "Bristol",
           "Monza"
          ],
          [
           "Amiens",
           "Monza"
          ],
          [
           "Monza",
           "Cagliari"
          ],
          [
           "Monza",
           "Brussels"
          ],
          [
           "Monza",
           "Iaşi"
          ],
          [
           "Monza",
           "Bucharest"
          ],
          [
           "Pescara",
           "Monza"
          ],
          [
           "Monza",
           "Cosenza"
          ],
          [
           "Belfast",
           "Amsterdam"
          ],
          [
           "Belfast",
           "London"
          ],
          [
           "Belfast",
           "London"
          ],
          [
           "Belfast",
           "Manchester"
          ],
          [
           "Birmingham",
           "Málaga"
          ],
          [
           "Birmingham",
           "Barcelona"
          ],
          [
           "Birmingham",
           "Craiova"
          ],
          [
           "Birmingham",
           "Porto"
          ],
          [
           "Birmingham",
           "Bucharest"
          ],
          [
           "Birmingham",
           "Poznań"
          ],
          [
           "Birmingham",
           "Valencia"
          ],
          [
           "Bilbao",
           "Amsterdam"
          ],
          [
           "Bilbao",
           "Barcelona"
          ],
          [
           "Bilbao",
           "London"
          ],
          [
           "Bilbao",
           "Madrid"
          ],
          [
           "Bilbao",
           "Porto"
          ],
          [
           "Gdańsk",
           "Kolding"
          ],
          [
           "Bucharest",
           "Kolding"
          ],
          [
           "Craiova",
           "Bologna"
          ],
          [
           "Southampton",
           "Málaga"
          ],
          [
           "Bremen",
           "Munich"
          ],
          [
           "Bari",
           "Monza"
          ],
          [
           "Bari",
           "Budapest"
          ],
          [
           "Bari",
           "Brussels"
          ],
          [
           "Bari",
           "Rome"
          ],
          [
           "Bari",
           "Milan"
          ],
          [
           "Bari",
           "Novara"
          ],
          [
           "Bari",
           "Turin"
          ],
          [
           "Bari",
           "Venice"
          ],
          [
           "Bari",
           "Verona"
          ],
          [
           "Bari",
           "Warsaw"
          ],
          [
           "Bristol",
           "Málaga"
          ],
          [
           "Monza",
           "Bristol"
          ],
          [
           "Grenoble",
           "Bristol"
          ],
          [
           "Bristol",
           "Porto"
          ],
          [
           "Bristol",
           "Poznań"
          ],
          [
           "Barcelona",
           "Brussels"
          ],
          [
           "Barcelona",
           "Brussels"
          ],
          [
           "Freiburg im Breisgau",
           "Amsterdam"
          ],
          [
           "Freiburg im Breisgau",
           "Paris"
          ],
          [
           "Freiburg im Breisgau",
           "Catania"
          ],
          [
           "Freiburg im Breisgau",
           "Munich"
          ],
          [
           "Freiburg im Breisgau",
           "Bucharest"
          ],
          [
           "Freiburg im Breisgau",
           "Pristina"
          ],
          [
           "Freiburg im Breisgau",
           "Cosenza"
          ],
          [
           "Bratislava",
           "Kaunas"
          ],
          [
           "Bratislava",
           "London"
          ],
          [
           "Budapest",
           "Málaga"
          ],
          [
           "Budapest",
           "Stockholm"
          ],
          [
           "Budapest",
           "Athens"
          ],
          [
           "Budapest",
           "Barcelona"
          ],
          [
           "Budapest",
           "Monza"
          ],
          [
           "Budapest",
           "Birmingham"
          ],
          [
           "Budapest",
           "Bologna"
          ],
          [
           "Budapest",
           "Bristol"
          ],
          [
           "Budapest",
           "Rome"
          ],
          [
           "Budapest",
           "Brussels"
          ],
          [
           "Budapest",
           "Catania"
          ],
          [
           "Budapest",
           "Helsinki"
          ],
          [
           "Budapest",
           "London"
          ],
          [
           "Budapest",
           "London"
          ],
          [
           "Budapest",
           "Madrid"
          ],
          [
           "Budapest",
           "Marseille"
          ],
          [
           "Budapest",
           "Novara"
          ],
          [
           "Budapest",
           "Prague"
          ],
          [
           "Budapest",
           "Warsaw"
          ],
          [
           "Amiens",
           "Barcelona"
          ],
          [
           "Monza",
           "Amiens"
          ],
          [
           "Amiens",
           "Porto"
          ],
          [
           "Bydgoszcz",
           "London"
          ],
          [
           "Sète",
           "Brussels"
          ],
          [
           "Paris",
           "Málaga"
          ],
          [
           "Paris",
           "Málaga"
          ],
          [
           "Stockholm",
           "Paris"
          ],
          [
           "Paris",
           "Barcelona"
          ],
          [
           "Paris",
           "Barcelona"
          ],
          [
           "Paris",
           "Birmingham"
          ],
          [
           "Paris",
           "Bologna"
          ],
          [
           "Paris",
           "Bordeaux"
          ],
          [
           "Paris",
           "Brussels"
          ],
          [
           "Paris",
           "Gothenburg"
          ],
          [
           "Helsinki",
           "Paris"
          ],
          [
           "Munich",
           "Paris"
          ],
          [
           "Paris",
           "Bucharest"
          ],
          [
           "Castellón de la Plana",
           "Mönchengladbach"
          ],
          [
           "Saint Petersburg",
           "Cherepovets"
          ],
          [
           "Chelyabinsk",
           "Saint Petersburg"
          ],
          [
           "Moscow",
           "Chelyabinsk"
          ],
          [
           "Chelyabinsk",
           "Moscow"
          ],
          [
           "Chelyabinsk",
           "Moscow"
          ],
          [
           "Cologne",
           "Málaga"
          ],
          [
           "Cologne",
           "Munich"
          ],
          [
           "Cologne",
           "Munich"
          ],
          [
           "Varna",
           "Cologne"
          ],
          [
           "Brussels",
           "Rome"
          ],
          [
           "Bucharest",
           "Rome"
          ],
          [
           "Cluj-Napoca",
           "Monza"
          ],
          [
           "Cluj-Napoca",
           "Rome"
          ],
          [
           "London",
           "Cluj-Napoca"
          ],
          [
           "Cluj-Napoca",
           "Bucharest"
          ],
          [
           "Annecy",
           "Birmingham"
          ],
          [
           "Copenhagen",
           "Aalborg"
          ],
          [
           "Copenhagen",
           "Aarhus"
          ],
          [
           "Copenhagen",
           "Málaga"
          ],
          [
           "Copenhagen",
           "Alicante"
          ],
          [
           "Copenhagen",
           "Amsterdam"
          ],
          [
           "Copenhagen",
           "Stockholm"
          ],
          [
           "Copenhagen",
           "Budapest"
          ],
          [
           "Copenhagen",
           "Trento"
          ],
          [
           "Copenhagen",
           "Paris"
          ],
          [
           "Copenhagen",
           "Cologne"
          ],
          [
           "Copenhagen",
           "Faro"
          ],
          [
           "Copenhagen",
           "Frankfurt"
          ],
          [
           "Copenhagen",
           "Gothenburg"
          ],
          [
           "Copenhagen",
           "Geneva"
          ],
          [
           "Copenhagen",
           "Hamburg"
          ],
          [
           "Copenhagen",
           "Helsinki"
          ],
          [
           "Copenhagen",
           "Kraków"
          ],
          [
           "Copenhagen",
           "Kaunas"
          ],
          [
           "Copenhagen",
           "London"
          ],
          [
           "Copenhagen",
           "London"
          ],
          [
           "Copenhagen",
           "Madrid"
          ],
          [
           "Copenhagen",
           "Manchester"
          ],
          [
           "Copenhagen",
           "Munich"
          ],
          [
           "Copenhagen",
           "Porto"
          ],
          [
           "Copenhagen",
           "Oslo"
          ],
          [
           "Copenhagen",
           "Salzburg"
          ],
          [
           "Copenhagen",
           "Vienna"
          ],
          [
           "Copenhagen",
           "Zürich"
          ],
          [
           "Bologna",
           "Craiova"
          ],
          [
           "Brussels",
           "Craiova"
          ],
          [
           "Rome",
           "Brussels"
          ],
          [
           "Rome",
           "Brussels"
          ],
          [
           "Bucharest",
           "Brussels"
          ],
          [
           "Cheboksary",
           "Moscow"
          ],
          [
           "Cheboksary",
           "Moscow"
          ],
          [
           "Catania",
           "Monza"
          ],
          [
           "Catania",
           "Bologna"
          ],
          [
           "Catania",
           "Brussels"
          ],
          [
           "Catania",
           "Florence"
          ],
          [
           "Catania",
           "Prague"
          ],
          [
           "Catania",
           "Verona"
          ],
          [
           "Debrecen",
           "London"
          ],
          [
           "Moscow",
           "Sochi"
          ],
          [
           "Moscow",
           "Groznyy"
          ],
          [
           "Moscow",
           "Groznyy"
          ],
          [
           "Moscow",
           "Groznyy"
          ],
          [
           "Moscow",
           "Izhevsk"
          ],
          [
           "Moscow",
           "Kazan"
          ],
          [
           "Moscow",
           "Saint Petersburg"
          ],
          [
           "Moscow",
           "Saint Petersburg"
          ],
          [
           "Moscow",
           "Saint Petersburg"
          ],
          [
           "Moscow",
           "Murmansk"
          ],
          [
           "Moscow",
           "Murmansk"
          ],
          [
           "Moscow",
           "Murmansk"
          ],
          [
           "Moscow",
           "Penza"
          ],
          [
           "Moscow",
           "Volgograd"
          ],
          [
           "Dortmund",
           "Belgrade"
          ],
          [
           "Dortmund",
           "Budapest"
          ],
          [
           "Dortmund",
           "Cluj-Napoca"
          ],
          [
           "Dortmund",
           "Rome"
          ],
          [
           "Dortmund",
           "Gdańsk"
          ],
          [
           "Dortmund",
           "Katowice"
          ],
          [
           "Dortmund",
           "Szczytno"
          ],
          [
           "Dortmund",
           "Vilnius"
          ],
          [
           "Cologne",
           "Amsterdam"
          ],
          [
           "Cologne",
           "Paris"
          ],
          [
           "Cologne",
           "Copenhagen"
          ],
          [
           "Cologne",
           "Frankfurt"
          ],
          [
           "Cologne",
           "Helsinki"
          ],
          [
           "Cologne",
           "Chisinau"
          ],
          [
           "Cologne",
           "London"
          ],
          [
           "Cologne",
           "Lisbon"
          ],
          [
           "Cologne",
           "Madrid"
          ],
          [
           "Cologne",
           "Pristina"
          ],
          [
           "Cologne",
           "Tirana"
          ],
          [
           "Cologne",
           "Tromsø"
          ],
          [
           "Cologne",
           "Vienna"
          ],
          [
           "Cologne",
           "Zürich"
          ],
          [
           "Donostia",
           "Madrid"
          ],
          [
           "Dunfermline",
           "Málaga"
          ],
          [
           "Dunfermline",
           "Birmingham"
          ],
          [
           "Dunfermline",
           "Bristol"
          ],
          [
           "Dunfermline",
           "Brussels"
          ],
          [
           "Dunfermline",
           "Geneva"
          ],
          [
           "Dunfermline",
           "London"
          ],
          [
           "Dunfermline",
           "Madrid"
          ],
          [
           "Eindhoven",
           "Málaga"
          ],
          [
           "Eindhoven",
           "Alicante"
          ],
          [
           "Eindhoven",
           "Athens"
          ],
          [
           "Eindhoven",
           "Monza"
          ],
          [
           "Eindhoven",
           "Budapest"
          ],
          [
           "Eindhoven",
           "Cluj-Napoca"
          ],
          [
           "Eindhoven",
           "Debrecen"
          ],
          [
           "Eindhoven",
           "Kraków"
          ],
          [
           "Eindhoven",
           "Lisbon"
          ],
          [
           "Eindhoven",
           "Salzburg"
          ],
          [
           "Eindhoven",
           "Vilnius"
          ],
          [
           "Nottingham",
           "Málaga"
          ],
          [
           "Nottingham",
           "Alicante"
          ],
          [
           "Nottingham",
           "Belfast"
          ],
          [
           "Nottingham",
           "Geneva"
          ],
          [
           "Nottingham",
           "Paris"
          ],
          [
           "Nottingham",
           "Rzeszów"
          ],
          [
           "Faro",
           "Belfast"
          ],
          [
           "Faro",
           "Lisbon"
          ],
          [
           "Rome",
           "Málaga"
          ],
          [
           "Rome",
           "Amsterdam"
          ],
          [
           "Rome",
           "Ancona"
          ],
          [
           "Rome",
           "Barcelona"
          ],
          [
           "Rome",
           "Bologna"
          ],
          [
           "Rome",
           "Budapest"
          ],
          [
           "Rome",
           "Cagliari"
          ],
          [
           "Rome",
           "Paris"
          ],
          [
           "Rome",
           "Paris"
          ],
          [
           "Rome",
           "Cologne"
          ],
          [
           "Rome",
           "Catania"
          ],
          [
           "Rome",
           "Eindhoven"
          ],
          [
           "Rome",
           "Florence"
          ],
          [
           "Rome",
           "Ulm"
          ],
          [
           "Rome",
           "Genoa"
          ],
          [
           "Rome",
           "London"
          ],
          [
           "Rome",
           "London"
          ],
          [
           "Rome",
           "Milan"
          ],
          [
           "Rome",
           "Lisbon"
          ],
          [
           "Rome",
           "Lyon"
          ],
          [
           "Rome",
           "Madrid"
          ],
          [
           "Rome",
           "Munich"
          ],
          [
           "Rome",
           "Nice"
          ],
          [
           "Rome",
           "Bucharest"
          ],
          [
           "Rome",
           "Bucharest"
          ],
          [
           "Rome",
           "Palermo"
          ],
          [
           "Rome",
           "Poznań"
          ],
          [
           "Rome",
           "Prague"
          ],
          [
           "Rome",
           "Radom"
          ],
          [
           "Rome",
           "Cosenza"
          ],
          [
           "Rome",
           "Tirana"
          ],
          [
           "Rome",
           "Turin"
          ],
          [
           "Rome",
           "Trieste"
          ],
          [
           "Rome",
           "Vienna"
          ],
          [
           "Rome",
           "Valencia"
          ],
          [
           "Rome",
           "Verona"
          ],
          [
           "Rome",
           "Warsaw"
          ],
          [
           "Rome",
           "Zürich"
          ],
          [
           "Florence",
           "Paris"
          ],
          [
           "Florence",
           "London"
          ],
          [
           "Florence",
           "Madrid"
          ],
          [
           "Florence",
           "Munich"
          ],
          [
           "Ulm",
           "Cluj-Napoca"
          ],
          [
           "Ulm",
           "Porto"
          ],
          [
           "Ulm",
           "Bucharest"
          ],
          [
           "Frankfurt",
           "Málaga"
          ],
          [
           "Frankfurt",
           "Alicante"
          ],
          [
           "Frankfurt",
           "Amsterdam"
          ],
          [
           "Frankfurt",
           "Stockholm"
          ],
          [
           "Frankfurt",
           "Bologna"
          ],
          [
           "Frankfurt",
           "Bremen"
          ],
          [
           "Frankfurt",
           "Bristol"
          ],
          [
           "Frankfurt",
           "Brussels"
          ],
          [
           "Frankfurt",
           "Freiburg im Breisgau"
          ],
          [
           "Frankfurt",
           "Budapest"
          ],
          [
           "Frankfurt",
           "Paris"
          ],
          [
           "Frankfurt",
           "Dresden"
          ],
          [
           "Frankfurt",
           "Cologne"
          ],
          [
           "Frankfurt",
           "Florence"
          ],
          [
           "Frankfurt",
           "Gothenburg"
          ],
          [
           "Frankfurt",
           "Graz"
          ],
          [
           "Frankfurt",
           "Geneva"
          ],
          [
           "Frankfurt",
           "Hamburg"
          ],
          [
           "Frankfurt",
           "Helsinki"
          ],
          [
           "Frankfurt",
           "Koblenz"
          ],
          [
           "Frankfurt",
           "Kraków"
          ],
          [
           "Frankfurt",
           "Leipzig"
          ],
          [
           "Frankfurt",
           "London"
          ],
          [
           "Frankfurt",
           "London"
          ],
          [
           "Frankfurt",
           "Milan"
          ],
          [
           "Frankfurt",
           "Manchester"
          ],
          [
           "Frankfurt",
           "Munich"
          ],
          [
           "Frankfurt",
           "Novara"
          ],
          [
           "Frankfurt",
           "Nuremberg"
          ],
          [
           "Frankfurt",
           "Oslo"
          ],
          [
           "Frankfurt",
           "Poznań"
          ],
          [
           "Frankfurt",
           "Prague"
          ],
          [
           "Frankfurt",
           "Stuttgart"
          ],
          [
           "Frankfurt",
           "Salzburg"
          ],
          [
           "Frankfurt",
           "Turin"
          ],
          [
           "Frankfurt",
           "Vienna"
          ],
          [
           "Frankfurt",
           "Warsaw"
          ],
          [
           "Frankfurt",
           "Wrocław"
          ],
          [
           "Frankfurt",
           "Bistrica ob Sotli"
          ],
          [
           "Frankfurt",
           "Zürich"
          ],
          [
           "Bristol",
           "Grenoble"
          ],
          [
           "Nizhniy Novgorod",
           "Saint Petersburg"
          ],
          [
           "Nizhniy Novgorod",
           "Moscow"
          ],
          [
           "Málaga",
           "Gothenburg"
          ],
          [
           "Bergen",
           "Gothenburg"
          ],
          [
           "Mataró",
           "Birmingham"
          ],
          [
           "Granada",
           "Barcelona"
          ],
          [
           "Granada",
           "Madrid"
          ],
          [
           "Geneva",
           "Stockholm"
          ],
          [
           "Geneva",
           "Barcelona"
          ],
          [
           "Geneva",
           "Birmingham"
          ],
          [
           "Geneva",
           "Southampton"
          ],
          [
           "Geneva",
           "Bristol"
          ],
          [
           "Geneva",
           "Brussels"
          ],
          [
           "Geneva",
           "Gothenburg"
          ],
          [
           "Geneva",
           "London"
          ],
          [
           "Geneva",
           "Madrid"
          ],
          [
           "Geneva",
           "Munich"
          ],
          [
           "Geneva",
           "Porto"
          ],
          [
           "Geneva",
           "Pristina"
          ],
          [
           "Geneva",
           "Portsmouth"
          ],
          [
           "Hannover",
           "Frankfurt"
          ],
          [
           "Hannover",
           "Munich"
          ],
          [
           "Málaga",
           "Hamburg"
          ],
          [
           "Haugesund",
           "Bergen"
          ],
          [
           "Stockholm",
           "Helsinki"
          ],
          [
           "Helsinki",
           "Barcelona"
          ],
          [
           "Helsinki",
           "Brussels"
          ],
          [
           "Paris",
           "Helsinki"
          ],
          [
           "Helsinki",
           "Gothenburg"
          ],
          [
           "Helsinki",
           "Hamburg"
          ],
          [
           "Oulu",
           "Helsinki"
          ],
          [
           "Rovaniemi",
           "Helsinki"
          ],
          [
           "Koblenz",
           "Málaga"
          ],
          [
           "Niš",
           "Koblenz"
          ],
          [
           "Iaşi",
           "Rome"
          ],
          [
           "Iaşi",
           "Bucharest"
          ],
          [
           "Ibiza",
           "Barcelona"
          ],
          [
           "Ibiza",
           "Madrid"
          ],
          [
           "Ibiza",
           "Valencia"
          ],
          [
           "Innsbruck",
           "Bristol"
          ],
          [
           "Innsbruck",
           "Dunfermline"
          ],
          [
           "Innsbruck",
           "Frankfurt"
          ],
          [
           "Innsbruck",
           "London"
          ],
          [
           "Innsbruck",
           "Manchester"
          ],
          [
           "Innsbruck",
           "Vienna"
          ],
          [
           "Forres",
           "London"
          ],
          [
           "Ivanovo",
           "Saint Petersburg"
          ],
          [
           "Kaliningrad",
           "Saint Petersburg"
          ],
          [
           "Moscow",
           "Kaliningrad"
          ],
          [
           "Moscow",
           "Kaliningrad"
          ],
          [
           "Bodrum",
           "Ródos"
          ],
          [
           "Chisinau",
           "Paris"
          ],
          [
           "Chisinau",
           "Lisbon"
          ],
          [
           "Chisinau",
           "Bucharest"
          ],
          [
           "Krasnoyarsk",
           "Saint Petersburg"
          ],
          [
           "Moscow",
           "Krasnoyarsk"
          ],
          [
           "Krasnoyarsk",
           "Moscow"
          ],
          [
           "Krasnoyarsk",
           "Moscow"
          ],
          [
           "Kraków",
           "Málaga"
          ],
          [
           "Kraków",
           "Amsterdam"
          ],
          [
           "Kraków",
           "Stockholm"
          ],
          [
           "Kraków",
           "Barcelona"
          ],
          [
           "Kraków",
           "Monza"
          ],
          [
           "Kraków",
           "Birmingham"
          ],
          [
           "Kraków",
           "Bologna"
          ],
          [
           "Kraków",
           "Amiens"
          ],
          [
           "Kraków",
           "Cagliari"
          ],
          [
           "Kraków",
           "Rome"
          ],
          [
           "Kraków",
           "Brussels"
          ],
          [
           "Kraków",
           "Dunfermline"
          ],
          [
           "Kraków",
           "Eindhoven"
          ],
          [
           "Kraków",
           "Gothenburg"
          ],
          [
           "Kraków",
           "London"
          ],
          [
           "Kraków",
           "London"
          ],
          [
           "Kraków",
           "Lille"
          ],
          [
           "Kraków",
           "Nyköping"
          ],
          [
           "Kraków",
           "Oslo"
          ],
          [
           "Kraków",
           "Livorno"
          ],
          [
           "Kraków",
           "Toulouse"
          ],
          [
           "Kraków",
           "Vienna"
          ],
          [
           "Kraków",
           "Valencia"
          ],
          [
           "Kraków",
           "Warsaw"
          ],
          [
           "Krasnodar",
           "Moscow"
          ],
          [
           "Krasnodar",
           "Moscow"
          ],
          [
           "Kristiansand",
           "Bergen"
          ],
          [
           "Košice",
           "Prague"
          ],
          [
           "Katowice",
           "Alicante"
          ],
          [
           "Katowice",
           "Athens"
          ],
          [
           "Katowice",
           "Catania"
          ],
          [
           "Katowice",
           "London"
          ],
          [
           "Samara",
           "Saint Petersburg"
          ],
          [
           "Kaunas",
           "Monza"
          ],
          [
           "Kuopio",
           "Helsinki"
          ],
          [
           "Athens",
           "Kavála"
          ],
          [
           "Kirov",
           "Saint Petersburg"
          ],
          [
           "Kirov",
           "Moscow"
          ],
          [
           "Kirov",
           "Moscow"
          ],
          [
           "Kazan",
           "Saint Petersburg"
          ],
          [
           "Kazan",
           "Moscow"
          ],
          [
           "Kazan",
           "Moscow"
          ],
          [
           "Bradford",
           "Alicante"
          ],
          [
           "Bradford",
           "Amsterdam"
          ],
          [
           "Bradford",
           "Annecy"
          ],
          [
           "Bradford",
           "Faro"
          ],
          [
           "Bradford",
           "Kraków"
          ],
          [
           "Bradford",
           "Poznań"
          ],
          [
           "A Coruña",
           "Madrid"
          ],
          [
           "Cherepovets",
           "Saint Petersburg"
          ],
          [
           "Murmansk",
           "Saint Petersburg"
          ],
          [
           "Almería",
           "Madrid"
          ],
          [
           "Maastricht",
           "Málaga"
          ],
          [
           "Málaga",
           "London"
          ],
          [
           "Barcelona",
           "London"
          ],
          [
           "Bucharest",
           "London"
          ],
          [
           "London",
           "Aberdeen"
          ],
          [
           "London",
           "Stockholm"
          ],
          [
           "London",
           "Stockholm"
          ],
          [
           "London",
           "Athens"
          ],
          [
           "London",
           "Athens"
          ],
          [
           "London",
           "Kolding"
          ],
          [
           "London",
           "Kolding"
          ],
          [
           "London",
           "Bologna"
          ],
          [
           "London",
           "Bologna"
          ],
          [
           "London",
           "Brussels"
          ],
          [
           "Freiburg im Breisgau",
           "London"
          ],
          [
           "London",
           "Dunfermline"
          ],
          [
           "London",
           "Dunfermline"
          ],
          [
           "London",
           "Dunfermline"
          ],
          [
           "London",
           "Algeciras"
          ],
          [
           "London",
           "Grenoble"
          ],
          [
           "London",
           "Grenoble"
          ],
          [
           "London",
           "Grenoble"
          ],
          [
           "London",
           "Gothenburg"
          ],
          [
           "London",
           "Gothenburg"
          ],
          [
           "London",
           "Geneva"
          ],
          [
           "London",
           "Geneva"
          ],
          [
           "London",
           "Geneva"
          ],
          [
           "London",
           "Milan"
          ],
          [
           "London",
           "Lyon"
          ],
          [
           "London",
           "Madrid"
          ],
          [
           "London",
           "Madrid"
          ],
          [
           "London",
           "Madrid"
          ],
          [
           "London",
           "Novara"
          ],
          [
           "London",
           "Novara"
          ],
          [
           "London",
           "Nice"
          ],
          [
           "London",
           "Gateshead"
          ],
          [
           "London",
           "Oslo"
          ],
          [
           "London",
           "Bucharest"
          ],
          [
           "London",
           "Bucharest"
          ],
          [
           "London",
           "Bucharest"
          ],
          [
           "London",
           "Bucharest"
          ],
          [
           "London",
           "Salzburg"
          ],
          [
           "London",
           "Salzburg"
          ],
          [
           "London",
           "Toulouse"
          ],
          [
           "London",
           "Vienna"
          ],
          [
           "London",
           "Vienna"
          ],
          [
           "London",
           "Zürich"
          ],
          [
           "Lille",
           "Geneva"
          ],
          [
           "Milan",
           "Amsterdam"
          ],
          [
           "Milan",
           "Brussels"
          ],
          [
           "Milan",
           "Cagliari"
          ],
          [
           "Milan",
           "Paris"
          ],
          [
           "Milan",
           "Catania"
          ],
          [
           "Milan",
           "Helsinki"
          ],
          [
           "Milan",
           "Madrid"
          ],
          [
           "Milan",
           "Munich"
          ],
          [
           "Milan",
           "Messina"
          ],
          [
           "Milan",
           "Cosenza"
          ],
          [
           "Lisbon",
           "Alicante"
          ],
          [
           "Lisbon",
           "Amsterdam"
          ],
          [
           "Lisbon",
           "Barcelona"
          ],
          [
           "Lisbon",
           "Bordeaux"
          ],
          [
           "Lisbon",
           "Brussels"
          ],
          [
           "Lisbon",
           "Paris"
          ],
          [
           "Lisbon",
           "Paris"
          ],
          [
           "Lisbon",
           "Cologne"
          ],
          [
           "Lisbon",
           "Geneva"
          ],
          [
           "Lisbon",
           "Helsinki"
          ],
          [
           "London",
           "Lisbon"
          ],
          [
           "London",
           "Lisbon"
          ],
          [
           "Lisbon",
           "Trier"
          ],
          [
           "Lisbon",
           "Lyon"
          ],
          [
           "Lisbon",
           "Madrid"
          ],
          [
           "Lisbon",
           "Munich"
          ],
          [
           "Lisbon",
           "Porto"
          ],
          [
           "Lisbon",
           "Valencia"
          ],
          [
           "Lisbon",
           "Warsaw"
          ],
          [
           "Luleå",
           "Stockholm"
          ],
          [
           "London",
           "Belfast"
          ],
          [
           "London",
           "Belfast"
          ],
          [
           "Cluj-Napoca",
           "London"
          ],
          [
           "London",
           "Gdańsk"
          ],
          [
           "London",
           "Gdańsk"
          ],
          [
           "London",
           "Iaşi"
          ],
          [
           "London",
           "Pristina"
          ],
          [
           "London",
           "Tromsø"
          ],
          [
           "London",
           "Vilnius"
          ],
          [
           "London",
           "Vilnius"
          ],
          [
           "London",
           "Wrocław"
          ],
          [
           "London",
           "Wrocław"
          ],
          [
           "Trier",
           "Málaga"
          ],
          [
           "Trier",
           "Monza"
          ],
          [
           "Lublin",
           "London"
          ],
          [
           "Lyon",
           "Stockholm"
          ],
          [
           "Lyon",
           "Paris"
          ],
          [
           "Lyon",
           "Dunfermline"
          ],
          [
           "Lyon",
           "Madrid"
          ],
          [
           "Lyon",
           "Munich"
          ],
          [
           "Málaga",
           "Madrid"
          ],
          [
           "Barcelona",
           "Madrid"
          ],
          [
           "Bordeaux",
           "Madrid"
          ],
          [
           "Brussels",
           "Madrid"
          ],
          [
           "Hamburg",
           "Madrid"
          ],
          [
           "Porto",
           "Madrid"
          ],
          [
           "Manchester",
           "Málaga"
          ],
          [
           "Manchester",
           "Alicante"
          ],
          [
           "Manchester",
           "Amsterdam"
          ],
          [
           "Manchester",
           "Belfast"
          ],
          [
           "Manchester",
           "Belfast"
          ],
          [
           "Manchester",
           "Budapest"
          ],
          [
           "Manchester",
           "Paris"
          ],
          [
           "Manchester",
           "Cologne"
          ],
          [
           "Manchester",
           "Rome"
          ],
          [
           "Manchester",
           "Annecy"
          ],
          [
           "Manchester",
           "Copenhagen"
          ],
          [
           "Manchester",
           "Frankfurt"
          ],
          [
           "Manchester",
           "Grenoble"
          ],
          [
           "Manchester",
           "Geneva"
          ],
          [
           "Manchester",
           "Helsinki"
          ],
          [
           "Manchester",
           "Kraków"
          ],
          [
           "Manchester",
           "London"
          ],
          [
           "Manchester",
           "Madrid"
          ],
          [
           "Manchester",
           "Munich"
          ],
          [
           "Manchester",
           "Poznań"
          ],
          [
           "Manchester",
           "Prague"
          ],
          [
           "Manchester",
           "Murcia"
          ],
          [
           "Manchester",
           "Rzeszów"
          ],
          [
           "Manchester",
           "Sevilla"
          ],
          [
           "Manchester",
           "Salzburg"
          ],
          [
           "Manchester",
           "Venice"
          ],
          [
           "Manchester",
           "Verona"
          ],
          [
           "Manchester",
           "Wrocław"
          ],
          [
           "Makhachkala",
           "Moscow"
          ],
          [
           "Makhachkala",
           "Moscow"
          ],
          [
           "Makhachkala",
           "Moscow"
          ],
          [
           "Makhachkala",
           "Saint Petersburg"
          ],
          [
           "Malmö",
           "Stockholm"
          ],
          [
           "Malmö",
           "Stockholm"
          ],
          [
           "Montpellier",
           "Amsterdam"
          ],
          [
           "Montpellier",
           "Paris"
          ],
          [
           "Marseille",
           "Málaga"
          ],
          [
           "Marseille",
           "Alicante"
          ],
          [
           "Marseille",
           "Budapest"
          ],
          [
           "Marseille",
           "Paris"
          ],
          [
           "Marseille",
           "Paris"
          ],
          [
           "Marseille",
           "Brussels"
          ],
          [
           "Marseille",
           "Lisbon"
          ],
          [
           "Marseille",
           "Lyon"
          ],
          [
           "Marseille",
           "Madrid"
          ],
          [
           "Marseille",
           "Nantes"
          ],
          [
           "Pyatigorsk",
           "Cherepovets"
          ],
          [
           "Pyatigorsk",
           "Moscow"
          ],
          [
           "Pyatigorsk",
           "Moscow"
          ],
          [
           "Pyatigorsk",
           "Moscow"
          ],
          [
           "Pyatigorsk",
           "Saint Petersburg"
          ],
          [
           "Pyatigorsk",
           "Magnitogorsk"
          ],
          [
           "Pyatigorsk",
           "Naberezhnyye Chelny"
          ],
          [
           "Pyatigorsk",
           "Volgograd"
          ],
          [
           "Munich",
           "Málaga"
          ],
          [
           "Stockholm",
           "Munich"
          ],
          [
           "Munich",
           "Birmingham"
          ],
          [
           "Munich",
           "Bologna"
          ],
          [
           "Munich",
           "Brussels"
          ],
          [
           "Dresden",
           "Munich"
          ],
          [
           "Munich",
           "Münster"
          ],
          [
           "Munich",
           "Graz"
          ],
          [
           "Munich",
           "Hamburg"
          ],
          [
           "Munich",
           "London"
          ],
          [
           "Munich",
           "Pristina"
          ],
          [
           "Munich",
           "Stuttgart"
          ],
          [
           "Munich",
           "Valencia"
          ],
          [
           "Novara",
           "Amsterdam"
          ],
          [
           "Novara",
           "Athens"
          ],
          [
           "Novara",
           "Cagliari"
          ],
          [
           "Novara",
           "Paris"
          ],
          [
           "Novara",
           "Paris"
          ],
          [
           "Novara",
           "Catania"
          ],
          [
           "Novara",
           "Helsinki"
          ],
          [
           "Novara",
           "London"
          ],
          [
           "Novara",
           "Munich"
          ],
          [
           "Novara",
           "Pristina"
          ],
          [
           "Novara",
           "Rzeszów"
          ],
          [
           "Novara",
           "Cosenza"
          ],
          [
           "Novara",
           "Vienna"
          ],
          [
           "Novara",
           "Vilnius"
          ],
          [
           "Novara",
           "Zürich"
          ],
          [
           "Naples",
           "Barcelona"
          ],
          [
           "Naples",
           "Monza"
          ],
          [
           "Naples",
           "Brussels"
          ],
          [
           "Naples",
           "Catania"
          ],
          [
           "Naples",
           "Rome"
          ],
          [
           "Naples",
           "Kraków"
          ],
          [
           "Naples",
           "Milan"
          ],
          [
           "Naples",
           "Novara"
          ],
          [
           "Naples",
           "Palermo"
          ],
          [
           "Naples",
           "London"
          ],
          [
           "Naples",
           "Trieste"
          ],
          [
           "Naples",
           "Venice"
          ],
          [
           "Naples",
           "Vienna"
          ],
          [
           "Naples",
           "Valencia"
          ],
          [
           "Naberezhnyye Chelny",
           "Saint Petersburg"
          ],
          [
           "Nice",
           "Paris"
          ],
          [
           "Nice",
           "Madrid"
          ],
          [
           "Nice",
           "Zürich"
          ],
          [
           "Gateshead",
           "Málaga"
          ],
          [
           "Gateshead",
           "Alicante"
          ],
          [
           "Camborne",
           "London"
          ],
          [
           "Mönchengladbach",
           "Málaga"
          ],
          [
           "Mönchengladbach",
           "Thessaloníki"
          ],
          [
           "Nantes",
           "Amsterdam"
          ],
          [
           "Nantes",
           "Geneva"
          ],
          [
           "Nantes",
           "Marseille"
          ],
          [
           "Nuremberg",
           "Thessaloníki"
          ],
          [
           "Nyköping",
           "Bucharest"
          ],
          [
           "Vladikavkaz",
           "Moscow"
          ],
          [
           "Ohrid",
           "Zürich"
          ],
          [
           "Oradea",
           "Bucharest"
          ],
          [
           "Madrid",
           "Porto"
          ],
          [
           "Paris",
           "Pau"
          ],
          [
           "Paris",
           "London"
          ],
          [
           "Paris",
           "Madrid"
          ],
          [
           "Paris",
           "Montpellier"
          ],
          [
           "Paris",
           "Novara"
          ],
          [
           "Paris",
           "Nice"
          ],
          [
           "Paris",
           "Porto"
          ],
          [
           "Paris",
           "Portsmouth"
          ],
          [
           "Paris",
           "Toulouse"
          ],
          [
           "Paris",
           "Valencia"
          ],
          [
           "Oslo",
           "Málaga"
          ],
          [
           "Oslo",
           "Amsterdam"
          ],
          [
           "Oslo",
           "Stockholm"
          ],
          [
           "Oslo",
           "Bergen"
          ],
          [
           "Oslo",
           "Paris"
          ],
          [
           "Oslo",
           "Gothenburg"
          ],
          [
           "Oslo",
           "Helsinki"
          ],
          [
           "Oslo",
           "Sandnes"
          ],
          [
           "Oslo",
           "Tromsø"
          ],
          [
           "Oslo",
           "Zürich"
          ],
          [
           "Orsk",
           "Moscow"
          ],
          [
           "Kolding",
           "Bucharest"
          ],
          [
           "Bologna",
           "Bucharest"
          ],
          [
           "Gijón",
           "Barcelona"
          ],
          [
           "Gijón",
           "Madrid"
          ],
          [
           "Gijón",
           "Mönchengladbach"
          ],
          [
           "Perm",
           "Saint Petersburg"
          ],
          [
           "Petrozavodsk",
           "Moscow"
          ],
          [
           "Parma",
           "Cagliari"
          ],
          [
           "Palermo",
           "Barcelona"
          ],
          [
           "Palermo",
           "Monza"
          ],
          [
           "Palermo",
           "Bologna"
          ],
          [
           "Palermo",
           "Rome"
          ],
          [
           "Palermo",
           "Ulm"
          ],
          [
           "Palermo",
           "Milan"
          ],
          [
           "Palermo",
           "Madrid"
          ],
          [
           "Palermo",
           "Novara"
          ],
          [
           "Palermo",
           "Naples"
          ],
          [
           "Palermo",
           "Nuremberg"
          ],
          [
           "Palermo",
           "Livorno"
          ],
          [
           "Palermo",
           "London"
          ],
          [
           "Palermo",
           "Turin"
          ],
          [
           "Palermo",
           "Venice"
          ],
          [
           "Palermo",
           "Verona"
          ],
          [
           "Pamplona",
           "Madrid"
          ],
          [
           "Prague",
           "Málaga"
          ],
          [
           "Prague",
           "Barcelona"
          ],
          [
           "Prague",
           "Monza"
          ],
          [
           "Prague",
           "Paris"
          ],
          [
           "Prague",
           "Geneva"
          ],
          [
           "Prague",
           "Helsinki"
          ],
          [
           "Prague",
           "Madrid"
          ],
          [
           "Pristina",
           "Hamburg"
          ],
          [
           "Pristina",
           "Stuttgart"
          ],
          [
           "Livorno",
           "Brussels"
          ],
          [
           "Monza",
           "Pescara"
          ],
          [
           "Orenburg",
           "Saint Petersburg"
          ],
          [
           "Orenburg",
           "Moscow"
          ],
          [
           "Riga",
           "Amsterdam"
          ],
          [
           "Riga",
           "Bristol"
          ],
          [
           "Riga",
           "Geneva"
          ],
          [
           "Riga",
           "Lisbon"
          ],
          [
           "Riga",
           "Klaipėda"
          ],
          [
           "Riga",
           "London"
          ],
          [
           "Riga",
           "Salzburg"
          ],
          [
           "Riga",
           "Tallinn"
          ],
          [
           "Riga",
           "Vienna"
          ],
          [
           "Rotterdam",
           "Málaga"
          ],
          [
           "Rotterdam",
           "Salzburg"
          ],
          [
           "Sibiu",
           "London"
          ],
          [
           "Sibiu",
           "Munich"
          ],
          [
           "Santiago de Compostela",
           "Madrid"
          ],
          [
           "Santiago de Compostela",
           "Valencia"
          ],
          [
           "Syktyvkar",
           "Saint Petersburg"
          ],
          [
           "Basildon",
           "Geneva"
          ],
          [
           "Stuttgart",
           "Thessaloníki"
          ],
          [
           "Skopje",
           "Belgrade"
          ],
          [
           "Skopje",
           "Bratislava"
          ],
          [
           "Skopje",
           "Cologne"
          ],
          [
           "Skopje",
           "Copenhagen"
          ],
          [
           "Skopje",
           "Eindhoven"
          ],
          [
           "Skopje",
           "Rome"
          ],
          [
           "Skopje",
           "Karlsruhe"
          ],
          [
           "Skopje",
           "Frankfurt"
          ],
          [
           "Skopje",
           "Nyköping"
          ],
          [
           "Skopje",
           "Bistrica ob Sotli"
          ],
          [
           "Skopje",
           "Zürich"
          ],
          [
           "Sofia",
           "Alicante"
          ],
          [
           "Sofia",
           "Athens"
          ],
          [
           "Sofia",
           "Barcelona"
          ],
          [
           "Sofia",
           "Monza"
          ],
          [
           "Sofia",
           "Bristol"
          ],
          [
           "Sofia",
           "Copenhagen"
          ],
          [
           "Sofia",
           "Brussels"
          ],
          [
           "Sofia",
           "Eindhoven"
          ],
          [
           "Sofia",
           "Karlsruhe"
          ],
          [
           "Sofia",
           "Ulm"
          ],
          [
           "Sofia",
           "London"
          ],
          [
           "Sofia",
           "London"
          ],
          [
           "Sofia",
           "London"
          ],
          [
           "Sofia",
           "Madrid"
          ],
          [
           "Sofia",
           "Munich"
          ],
          [
           "Sofia",
           "Venice"
          ],
          [
           "Sofia",
           "Varna"
          ],
          [
           "Sofia",
           "Vienna"
          ],
          [
           "London",
           "Monza"
          ],
          [
           "London",
           "Bordeaux"
          ],
          [
           "London",
           "Bratislava"
          ],
          [
           "London",
           "Budapest"
          ],
          [
           "London",
           "Bydgoszcz"
          ],
          [
           "London",
           "Cologne"
          ],
          [
           "London",
           "Rome"
          ],
          [
           "London",
           "Annecy"
          ],
          [
           "London",
           "Catania"
          ],
          [
           "London",
           "Eindhoven"
          ],
          [
           "London",
           "Faro"
          ],
          [
           "London",
           "Genoa"
          ],
          [
           "London",
           "Kraków"
          ],
          [
           "London",
           "Katowice"
          ],
          [
           "London",
           "Łódź"
          ],
          [
           "London",
           "Marseille"
          ],
          [
           "London",
           "Naples"
          ],
          [
           "London",
           "Nuremberg"
          ],
          [
           "London",
           "Porto"
          ],
          [
           "London",
           "Poznań"
          ],
          [
           "London",
           "Prague"
          ],
          [
           "London",
           "Livorno"
          ],
          [
           "London",
           "Riga"
          ],
          [
           "London",
           "Santiago de Compostela"
          ],
          [
           "London",
           "Thessaloníki"
          ],
          [
           "London",
           "Sofia"
          ],
          [
           "London",
           "Sevilla"
          ],
          [
           "London",
           "Szczytno"
          ],
          [
           "London",
           "Szczecin"
          ],
          [
           "London",
           "Tirana"
          ],
          [
           "London",
           "Turin"
          ],
          [
           "London",
           "Trieste"
          ],
          [
           "London",
           "Venice"
          ],
          [
           "London",
           "Vigo"
          ],
          [
           "London",
           "Valencia"
          ],
          [
           "London",
           "Verona"
          ],
          [
           "London",
           "Warsaw"
          ],
          [
           "London",
           "Bistrica ob Sotli"
          ],
          [
           "London",
           "Zaragoza"
          ],
          [
           "Bucharest",
           "Stuttgart"
          ],
          [
           "Thessaloníki",
           "Stuttgart"
          ],
          [
           "Sandnes",
           "Amsterdam"
          ],
          [
           "Sandnes",
           "Gdańsk"
          ],
          [
           "Sandnes",
           "Oslo"
          ],
          [
           "Izhevsk",
           "Moscow"
          ],
          [
           "Moscow",
           "Samara"
          ],
          [
           "Moscow",
           "Samara"
          ],
          [
           "Moscow",
           "Magnitogorsk"
          ],
          [
           "Moscow",
           "Naberezhnyye Chelny"
          ],
          [
           "Sevilla",
           "Barcelona"
          ],
          [
           "Sevilla",
           "Monza"
          ],
          [
           "Sevilla",
           "Rome"
          ],
          [
           "Sevilla",
           "Madrid"
          ],
          [
           "Sevilla",
           "Manchester"
          ],
          [
           "Sevilla",
           "Novara"
          ],
          [
           "Sevilla",
           "Livorno"
          ],
          [
           "Sevilla",
           "London"
          ],
          [
           "Sevilla",
           "Warsaw"
          ],
          [
           "Salzburg",
           "Amsterdam"
          ],
          [
           "Salzburg",
           "Stockholm"
          ],
          [
           "Salzburg",
           "Bristol"
          ],
          [
           "Salzburg",
           "Hamburg"
          ],
          [
           "Salzburg",
           "Helsinki"
          ],
          [
           "Salzburg",
           "London"
          ],
          [
           "Szczecin",
           "Oslo"
          ],
          [
           "Tirana",
           "Stockholm"
          ],
          [
           "Tirana",
           "Barcelona"
          ],
          [
           "Tirana",
           "Monza"
          ],
          [
           "Tirana",
           "Bologna"
          ],
          [
           "Tirana",
           "Bari"
          ],
          [
           "Tirana",
           "Amiens"
          ],
          [
           "Tirana",
           "Rome"
          ],
          [
           "Tirana",
           "Rome"
          ],
          [
           "Tirana",
           "Brussels"
          ],
          [
           "Tirana",
           "Genoa"
          ],
          [
           "Tirana",
           "Hamburg"
          ],
          [
           "Tirana",
           "Koblenz"
          ],
          [
           "Tirana",
           "Lyon"
          ],
          [
           "Tirana",
           "Novara"
          ],
          [
           "Tirana",
           "Nuremberg"
          ],
          [
           "Tirana",
           "Perugia"
          ],
          [
           "Tirana",
           "Livorno"
          ],
          [
           "Tirana",
           "Trieste"
          ],
          [
           "Tirana",
           "Venice"
          ],
          [
           "Tirana",
           "Verona"
          ],
          [
           "Tallinn",
           "Stockholm"
          ],
          [
           "Tallinn",
           "Geneva"
          ],
          [
           "Tallinn",
           "Helsinki"
          ],
          [
           "Tallinn",
           "London"
          ],
          [
           "Toulouse",
           "Bordeaux"
          ],
          [
           "Toulouse",
           "Madrid"
          ],
          [
           "Toulouse",
           "Munich"
          ],
          [
           "Tampere",
           "Amsterdam"
          ],
          [
           "Tampere",
           "Tallinn"
          ],
          [
           "Tønsberg",
           "Bergen"
          ],
          [
           "Turin",
           "Stockholm"
          ],
          [
           "Turin",
           "Cagliari"
          ],
          [
           "Turin",
           "Catania"
          ],
          [
           "Turin",
           "Gothenburg"
          ],
          [
           "Turin",
           "London"
          ],
          [
           "Turin",
           "Munich"
          ],
          [
           "Turin",
           "Bucharest"
          ],
          [
           "Turin",
           "Cosenza"
          ],
          [
           "Turin",
           "Vilnius"
          ],
          [
           "Venice",
           "Amiens"
          ],
          [
           "Venice",
           "Brussels"
          ],
          [
           "Venice",
           "Bucharest"
          ],
          [
           "Venice",
           "Sofia"
          ],
          [
           "Venice",
           "Tirana"
          ],
          [
           "Venice",
           "Vienna"
          ],
          [
           "Venice",
           "Valencia"
          ],
          [
           "Timişoara",
           "Monza"
          ],
          [
           "Timişoara",
           "Amiens"
          ],
          [
           "Timişoara",
           "Bucharest"
          ],
          [
           "Tours",
           "London"
          ],
          [
           "Ufa",
           "Sochi"
          ],
          [
           "Ufa",
           "Moscow"
          ],
          [
           "Ufa",
           "Moscow"
          ],
          [
           "Ufa",
           "Moscow"
          ],
          [
           "Ufa",
           "Krasnoyarsk"
          ],
          [
           "Ufa",
           "Saint Petersburg"
          ],
          [
           "Ulyanovsk",
           "Saint Petersburg"
          ],
          [
           "Ulyanovsk",
           "Moscow"
          ],
          [
           "Ulyanovsk",
           "Moscow"
          ],
          [
           "Umeå",
           "Stockholm"
          ],
          [
           "Vaasa",
           "Helsinki"
          ],
          [
           "Cologne",
           "Varna"
          ],
          [
           "Varna",
           "Hamburg"
          ],
          [
           "Venice",
           "Amsterdam"
          ],
          [
           "Venice",
           "Barcelona"
          ],
          [
           "Venice",
           "Bari"
          ],
          [
           "Venice",
           "Paris"
          ],
          [
           "Venice",
           "Paris"
          ],
          [
           "Venice",
           "Catania"
          ],
          [
           "Venice",
           "Dunfermline"
          ],
          [
           "Venice",
           "Rome"
          ],
          [
           "Venice",
           "Frankfurt"
          ],
          [
           "Venice",
           "London"
          ],
          [
           "Venice",
           "London"
          ],
          [
           "Venice",
           "Lisbon"
          ],
          [
           "Venice",
           "Madrid"
          ],
          [
           "Venice",
           "Manchester"
          ],
          [
           "Venice",
           "Munich"
          ],
          [
           "Venice",
           "Naples"
          ],
          [
           "Venice",
           "Palermo"
          ],
          [
           "Venice",
           "Cosenza"
          ],
          [
           "Vigo",
           "Barcelona"
          ],
          [
           "Vigo",
           "Madrid"
          ],
          [
           "Vienna",
           "Málaga"
          ],
          [
           "Vienna",
           "Athens"
          ],
          [
           "Vienna",
           "Barcelona"
          ],
          [
           "Vienna",
           "Monza"
          ],
          [
           "Vienna",
           "Brussels"
          ],
          [
           "Vienna",
           "Paris"
          ],
          [
           "Vienna",
           "Cluj-Napoca"
          ],
          [
           "Vienna",
           "Geneva"
          ],
          [
           "Vienna",
           "Hamburg"
          ],
          [
           "Vienna",
           "Helsinki"
          ],
          [
           "Vienna",
           "Klagenfurt"
          ],
          [
           "Vienna",
           "London"
          ],
          [
           "Vienna",
           "Trier"
          ],
          [
           "Vienna",
           "Madrid"
          ],
          [
           "Vienna",
           "Munich"
          ],
          [
           "Vienna",
           "Novara"
          ],
          [
           "Vienna",
           "Bucharest"
          ],
          [
           "Vienna",
           "Stuttgart"
          ],
          [
           "Vienna",
           "Tromsø"
          ],
          [
           "Vienna",
           "Zürich"
          ],
          [
           "Kaliningrad",
           "Moscow"
          ],
          [
           "Naberezhnyye Chelny",
           "Moscow"
          ],
          [
           "Valencia",
           "Brussels"
          ],
          [
           "Valencia",
           "Madrid"
          ],
          [
           "Valencia",
           "Porto"
          ],
          [
           "Vilnius",
           "Málaga"
          ],
          [
           "Vilnius",
           "Amiens"
          ],
          [
           "Vilnius",
           "Munich"
          ],
          [
           "Volgograd",
           "Saint Petersburg"
          ],
          [
           "Volgograd",
           "Moscow"
          ],
          [
           "Volgograd",
           "Moscow"
          ],
          [
           "Voronezh",
           "Saint Petersburg"
          ],
          [
           "Verona",
           "Gdańsk"
          ],
          [
           "Verona",
           "Poznań"
          ],
          [
           "Verona",
           "Cosenza"
          ],
          [
           "Viseu",
           "Lisbon"
          ],
          [
           "Viseu",
           "Vila Real"
          ],
          [
           "Warsaw",
           "Amsterdam"
          ],
          [
           "Warsaw",
           "Athens"
          ],
          [
           "Warsaw",
           "Barcelona"
          ],
          [
           "Warsaw",
           "Barcelona"
          ],
          [
           "Warsaw",
           "Monza"
          ],
          [
           "Warsaw",
           "Brussels"
          ],
          [
           "Warsaw",
           "Brussels"
          ],
          [
           "Warsaw",
           "Budapest"
          ],
          [
           "Warsaw",
           "Paris"
          ],
          [
           "Warsaw",
           "Cluj-Napoca"
          ],
          [
           "Warsaw",
           "Gdańsk"
          ],
          [
           "Warsaw",
           "Grenoble"
          ],
          [
           "Warsaw",
           "Geneva"
          ],
          [
           "Warsaw",
           "Kraków"
          ],
          [
           "Warsaw",
           "Katowice"
          ],
          [
           "Warsaw",
           "London"
          ],
          [
           "Warsaw",
           "London"
          ],
          [
           "Warsaw",
           "Ljubljana"
          ],
          [
           "Warsaw",
           "Munich"
          ],
          [
           "Warsaw",
           "Bucharest"
          ],
          [
           "Warsaw",
           "Prague"
          ],
          [
           "Warsaw",
           "Vilnius"
          ],
          [
           "Warsaw",
           "Verona"
          ],
          [
           "Warsaw",
           "Wrocław"
          ],
          [
           "Warsaw",
           "Zürich"
          ],
          [
           "Warsaw",
           "Málaga"
          ],
          [
           "Warsaw",
           "Rome"
          ],
          [
           "Wrocław",
           "Málaga"
          ],
          [
           "Wrocław",
           "Birmingham"
          ],
          [
           "Amiens",
           "Wrocław"
          ],
          [
           "Wrocław",
           "Valencia"
          ],
          [
           "Jerez de la Frontera",
           "Barcelona"
          ],
          [
           "Jerez de la Frontera",
           "Madrid"
          ],
          [
           "Bistrica ob Sotli",
           "Amsterdam"
          ],
          [
           "Bistrica ob Sotli",
           "Brussels"
          ],
          [
           "Bistrica ob Sotli",
           "Koblenz"
          ],
          [
           "Bistrica ob Sotli",
           "London"
          ],
          [
           "Bistrica ob Sotli",
           "Munich"
          ],
          [
           "Bistrica ob Sotli",
           "Vienna"
          ],
          [
           "Bistrica ob Sotli",
           "Zürich"
          ],
          [
           "Zaragoza",
           "Amiens"
          ],
          [
           "Zürich",
           "Barcelona"
          ],
          [
           "Zürich",
           "Bologna"
          ],
          [
           "Zürich",
           "Brussels"
          ],
          [
           "Zürich",
           "Paris"
          ],
          [
           "Zürich",
           "Dunfermline"
          ],
          [
           "Zürich",
           "Gothenburg"
          ],
          [
           "Zürich",
           "Geneva"
          ],
          [
           "Zürich",
           "Madrid"
          ],
          [
           "Zürich",
           "Munich"
          ],
          [
           "Zürich",
           "Porto"
          ],
          [
           "Zürich",
           "Bucharest"
          ],
          [
           "Zürich",
           "Pristina"
          ],
          [
           "Zürich",
           "Stuttgart"
          ]
         ],
         "hovertemplate": "train_time=%{x}<br>flight_time=%{y}<br>departure city=%{customdata[0]}<br>arrival city=%{customdata[1]}<extra></extra>",
         "legendgroup": "",
         "marker": {
          "color": "#636efa",
          "symbol": "circle"
         },
         "mode": "markers",
         "name": "",
         "showlegend": false,
         "type": "scattergl",
         "x": [
          725,
          1837,
          1837,
          767,
          459,
          2062,
          1376,
          1376,
          1376,
          5027,
          2174,
          1678,
          2194,
          4509.166666666667,
          588.5333333333333,
          332,
          796,
          4129,
          1966,
          1554,
          1554,
          1554,
          1554,
          181,
          946,
          1265,
          915,
          881.65,
          951.65,
          318,
          1597,
          148,
          642,
          2515,
          1091,
          1648,
          1156,
          3077,
          739,
          1952,
          408,
          546,
          2948.3333333333335,
          447,
          207,
          511,
          1290,
          1240.5,
          501,
          329,
          1912,
          313,
          236,
          236,
          236,
          453,
          432,
          3010,
          2151,
          699,
          2626,
          440,
          1502,
          558,
          1403,
          4251,
          1661,
          186,
          964,
          1169,
          1383,
          3826.733333333333,
          3386,
          2896,
          3418,
          2940,
          497.3833333333333,
          3219,
          1379,
          323,
          3242,
          373,
          380,
          627,
          627,
          767,
          1864,
          645,
          645,
          645,
          645,
          1318,
          677,
          2812,
          2037,
          465,
          1630,
          1533,
          204.61666666666667,
          3660,
          2207,
          3145,
          680,
          1289,
          1280,
          753.7,
          753.7,
          462,
          1569.7,
          80,
          1738,
          1201,
          653,
          1113,
          662,
          2233.5,
          1739,
          280,
          548.2333333333333,
          1434.7,
          969.7,
          969.7,
          744.7,
          1639,
          730,
          2230.116666666667,
          2191,
          2438,
          1129,
          1493,
          716,
          507,
          723,
          340,
          1490,
          872,
          2060,
          1825.1166666666666,
          1681,
          389,
          481,
          1172,
          1406,
          249,
          444,
          504,
          526.05,
          484,
          435,
          1465,
          1681,
          915,
          579,
          2178,
          1176,
          567,
          567,
          407,
          260,
          1194.0333333333333,
          362,
          1631,
          2116.483333333333,
          1087.15,
          1018.35,
          1362,
          2127,
          1779,
          2533,
          1476,
          793,
          1532,
          766,
          1563,
          1240,
          1189,
          1739.55,
          2855,
          1443,
          1443,
          1920,
          1419.1666666666667,
          827,
          403,
          602,
          544,
          642,
          2521,
          1438,
          509.95,
          833,
          833,
          1351,
          409,
          409,
          276,
          511,
          150,
          91,
          1198,
          2512,
          366,
          1741,
          1307,
          573,
          2745,
          1906,
          2490,
          2490,
          1650,
          265,
          265,
          2799.8166666666666,
          858,
          1819,
          1736,
          1577,
          2066,
          573,
          627,
          287,
          188,
          2049,
          2054,
          634,
          320,
          1263,
          1335,
          1224,
          563,
          2223,
          570,
          230,
          1281,
          280,
          1088,
          868,
          1670,
          1281,
          1281,
          1819,
          1433,
          679,
          2754,
          494,
          813,
          1154,
          875,
          1568.1166666666666,
          2022.1166666666666,
          1291,
          1291,
          1794,
          745,
          745,
          1099.8666666666666,
          699.8666666666667,
          1840.5,
          653.8666666666667,
          1556.5,
          1166.8666666666666,
          1313,
          1358,
          2110,
          2110,
          2110,
          1021,
          700,
          244,
          244,
          244,
          1901,
          1901,
          1901,
          781,
          1278,
          1667,
          743,
          1445,
          826,
          659.5,
          658,
          1030.8166666666666,
          1204,
          211,
          301,
          563,
          63,
          1815,
          2248.4333333333334,
          339,
          2328,
          1451,
          1920.4833333333333,
          2131.65,
          2814.85,
          465,
          351,
          294,
          1865,
          304,
          390,
          531,
          813,
          356,
          1458,
          1588,
          1433,
          3604,
          707,
          823,
          1889,
          1174,
          867,
          2266,
          520,
          1289,
          1661,
          1585,
          838.3333333333334,
          519,
          325,
          1602,
          2702.766666666667,
          231,
          2080,
          1080,
          230,
          1685,
          123,
          867,
          873,
          768,
          768,
          761,
          573.0833333333334,
          937,
          87,
          624,
          313,
          1418,
          1418,
          190,
          2458,
          665,
          1895,
          533,
          554,
          2276,
          2276,
          652.3333333333334,
          1381,
          1066,
          1460,
          356.26666666666665,
          1191.65,
          266.6166666666667,
          339,
          685,
          1917,
          188,
          1374,
          450,
          664,
          1339,
          1815,
          442,
          1408,
          3257,
          1470,
          1626,
          1421,
          243,
          1072,
          540,
          277,
          542,
          188,
          132,
          609,
          249,
          261,
          67,
          586,
          862,
          521,
          358,
          261.8,
          1828,
          130,
          727,
          186,
          381,
          381,
          471,
          558,
          192,
          523,
          123,
          1427,
          459,
          431,
          93,
          305,
          577.05,
          378,
          610,
          498,
          1011,
          251,
          1081,
          657,
          302,
          2688,
          677,
          1361,
          390,
          235,
          1482,
          715,
          538,
          553,
          571,
          324,
          1385,
          449,
          1203,
          409,
          2033,
          2466.483333333333,
          582,
          179,
          300,
          1826.8,
          212.8,
          682,
          3207,
          2460,
          2294,
          1114,
          1681,
          340,
          513,
          1667,
          1736.2,
          2559.75,
          529.75,
          622.2333333333333,
          797.2333333333333,
          458.8333333333333,
          889,
          1245,
          324,
          724,
          901,
          251,
          550,
          657,
          1642,
          1193,
          1193,
          2131.1,
          2211.133333333333,
          4658.133333333333,
          633.1333333333333,
          4328,
          3954,
          3890,
          3890,
          2070,
          945,
          1437,
          1646,
          1240,
          1616,
          1107,
          1483,
          2559,
          1288,
          1338,
          1829,
          821,
          1340,
          1487,
          1487,
          1370,
          1394,
          1665,
          1296,
          1661,
          337,
          1922,
          132,
          1128,
          1128,
          683,
          509,
          2009,
          2015,
          1756.4,
          1434,
          1210,
          1913,
          265,
          485.68333333333334,
          1264,
          826,
          826,
          1040,
          739,
          739,
          1650,
          428,
          608,
          1821,
          1690,
          1228,
          250,
          584,
          1574,
          400,
          1573.4,
          1601,
          630,
          1997,
          435,
          1313,
          1313,
          3881,
          3881,
          881,
          881,
          1181,
          1181,
          122,
          643,
          343,
          343,
          343,
          1791,
          391,
          391,
          391,
          1216,
          1216,
          407,
          407,
          407,
          718,
          340,
          1306,
          1306,
          1306,
          810,
          810,
          553,
          203,
          1541,
          2421,
          2421,
          2421,
          2421,
          762,
          762,
          518,
          819,
          819,
          464,
          346,
          754,
          645,
          1080,
          508,
          718.0833333333334,
          2560,
          1645,
          412,
          643.4833333333333,
          520.2333333333333,
          825,
          2047,
          1416,
          1856,
          1930,
          1767,
          1767,
          2264,
          1913,
          4118,
          1993,
          1993,
          2056,
          1745,
          626,
          2188,
          185,
          745,
          3142,
          933,
          852.3333333333334,
          852.3333333333334,
          2003,
          1280.5,
          1280.5,
          2616.5,
          2559.483333333333,
          3173.85,
          1865.7166666666667,
          1865.7166666666667,
          1124,
          1124,
          1655,
          629,
          1655,
          1433,
          116,
          682,
          519,
          540,
          199,
          165,
          563,
          832,
          1742.1,
          503,
          1676,
          1622,
          400,
          728.3333333333334,
          728.3333333333334,
          1327,
          362,
          400,
          1395,
          580,
          1105,
          485,
          544,
          534,
          2548,
          1638,
          154,
          1560,
          645,
          1181,
          1229,
          1630,
          1617,
          1662,
          787,
          1319,
          1343,
          1379,
          2647,
          2647,
          2647,
          2647,
          267,
          267,
          532,
          308,
          743,
          748,
          1352.6333333333334,
          240.63333333333333,
          240.63333333333333,
          365.6333333333333,
          1668,
          116.63333333333334,
          513,
          465.6333333333333,
          2064,
          1666,
          1666,
          1666,
          1968,
          3252,
          3857,
          951,
          1586,
          1328,
          740,
          405,
          447,
          294,
          364,
          358,
          377,
          640,
          1625.4833333333333,
          119,
          1547,
          851,
          2576,
          1135,
          573,
          573,
          896.1166666666667,
          2645,
          826,
          490,
          2373.483333333333,
          1394,
          607.5833333333334,
          680,
          1952.7166666666667,
          337,
          1797.4833333333333,
          303.48333333333335,
          1358.4833333333333,
          474.8833333333333,
          77.48333333333333,
          1230.4833333333333,
          270.48333333333335,
          326.48333333333335,
          561.8166666666667,
          1485.4833333333333,
          436.48333333333335,
          321.48333333333335,
          786.4833333333333,
          2029.4833333333333,
          1681,
          346,
          1263,
          587,
          1724,
          1896,
          318,
          1670,
          3014.6666666666665,
          407,
          384,
          431.46666666666664,
          2579.6666666666665,
          2700,
          2205,
          2379.7166666666667,
          1129,
          468,
          294.8,
          166,
          603,
          209,
          494,
          345,
          1538,
          290,
          294,
          685,
          4378,
          1436,
          321,
          423,
          1579,
          211,
          2473,
          487,
          1884.85,
          1546,
          1965,
          2347,
          1700,
          425,
          238,
          1541,
          1515,
          970,
          1113,
          2067,
          1170.3333333333333,
          770.3333333333334,
          612.3333333333334,
          1488.3333333333333,
          857.3333333333334,
          2728,
          1241.3333333333333,
          552.7,
          1450.3333333333333,
          896.3333333333334,
          1978,
          1318.3833333333334,
          1212.3333333333333,
          1237.3333333333333,
          210,
          2147,
          1323,
          1208,
          758,
          875,
          2462,
          1940,
          2428.9666666666667,
          2027.9666666666667,
          1299,
          293,
          1890,
          1576,
          1774.3833333333334,
          3179.383333333333,
          1999.3833333333334,
          3696,
          446.3833333333333,
          3075.383333333333,
          2204.5333333333333,
          606,
          1667.9666666666667,
          1598,
          584,
          1732,
          1107,
          202,
          371,
          3018,
          461,
          2716.6666666666665,
          495.01666666666665,
          1270.0166666666667,
          2058.016666666667,
          2449.016666666667,
          2216.016666666667,
          2155.016666666667,
          1735.4833333333333,
          1795.0166666666667,
          2789.016666666667,
          1977.0166666666667,
          2195.016666666667,
          3700,
          624,
          3271,
          1951,
          2232,
          2535,
          1894,
          1901,
          1745,
          2204,
          2087,
          2087,
          2087,
          3465,
          2119,
          1945,
          522.0833333333334,
          1582,
          746,
          376,
          960.0833333333334,
          1303,
          1125,
          296,
          1318,
          495,
          1846.5166666666667,
          267,
          1722.4666666666667,
          818,
          1254,
          1231,
          1237,
          406.1666666666667,
          1408.3666666666666,
          517,
          2054,
          879,
          893,
          1326,
          1918.9666666666667,
          1504,
          3373.6666666666665,
          2012,
          1490,
          1433.8166666666666,
          872.4166666666666,
          2650.65,
          679.05,
          1234,
          1198,
          1615,
          1408,
          1193,
          1096,
          1433,
          1226,
          1503,
          2280.483333333333,
          1785,
          2041.5,
          444,
          1003,
          881,
          881,
          2854,
          1931,
          334,
          1797,
          1969,
          157,
          1723,
          1761,
          1812,
          1582,
          2551,
          605,
          1358,
          852,
          491,
          2485,
          707,
          1484,
          2979.8333333333335,
          2832.8333333333335,
          1353.8333333333333,
          1217.8333333333333,
          842.8333333333334,
          2445.8333333333335,
          1137.8333333333333,
          1137.8333333333333,
          2397.8333333333335,
          1426.8333333333333,
          2204.8333333333335,
          2083.8333333333335,
          2244.8333333333335,
          1376.8333333333333,
          1815.8333333333333,
          1340.8333333333333,
          1333.8333333333333,
          1426.8333333333333,
          1317.8333333333333,
          1300.8333333333333,
          1120.8666666666666,
          3347.35,
          162.35,
          2726.8166666666666,
          129,
          431,
          665,
          2275,
          289,
          487.35,
          1790.1666666666667,
          1166.1666666666667,
          917.2833333333333,
          1726.1666666666667,
          882.1666666666666,
          524.1666666666666,
          2267.1666666666665,
          646.75,
          2050.1666666666665,
          865,
          1234,
          1690,
          1504,
          1157.65,
          453,
          1874,
          1435.7833333333333,
          1647.7833333333333,
          605.7833333333333,
          313,
          3011,
          1782,
          1782,
          1782,
          2701,
          2037,
          1204,
          949,
          949,
          422,
          240,
          2780.133333333333,
          2937.8166666666666,
          1027,
          1642,
          446,
          767,
          767,
          855.1166666666667,
          1721,
          233,
          654,
          1390,
          1390,
          3072,
          1852,
          1531,
          437,
          314.3666666666667,
          865,
          569.5833333333334,
          480,
          262,
          1815,
          2743,
          1557,
          633,
          614,
          608,
          823,
          643,
          571,
          2523,
          280,
          817,
          599,
          1730,
          246,
          679,
          1265,
          407,
          3285.85,
          465,
          1131,
          1190,
          828,
          123,
          616,
          3625,
          2052,
          1548,
          2624,
          2310,
          2310,
          749,
          1445.5,
          942,
          595.5833333333334,
          244.51666666666668,
          75.06666666666666,
          759,
          2476,
          1661,
          1661,
          1262,
          1276,
          1276,
          705,
          1260,
          1379,
          222.5,
          1392,
          1257,
          132,
          189,
          1437,
          1437,
          1098,
          552,
          1641,
          562,
          595,
          1141,
          256,
          1139,
          2085,
          1310,
          1852,
          1440,
          1085,
          1704,
          441,
          250,
          1354,
          1329,
          1036,
          1593,
          616,
          450,
          1168,
          654,
          713,
          337,
          379,
          244,
          859,
          1281,
          163,
          1374,
          211,
          3190,
          1593,
          4241.483333333334,
          266
         ],
         "xaxis": "x",
         "y": [
          85,
          170,
          180,
          85,
          95,
          210,
          215,
          225.8333333333333,
          165,
          325,
          205,
          240,
          245,
          230,
          50,
          97.5,
          110,
          230,
          205,
          165,
          185,
          172.5,
          175,
          80,
          77.5,
          65,
          70,
          50,
          100,
          70,
          145,
          70,
          95,
          205,
          95,
          187.5,
          130,
          220,
          142.5,
          107.5,
          80,
          75,
          200,
          85,
          80,
          80,
          130,
          110,
          97.5,
          70,
          160,
          80,
          70,
          85,
          70,
          100,
          55,
          162.5,
          185,
          80,
          185,
          75,
          160,
          102.5,
          90,
          265,
          165,
          65,
          77.5,
          135,
          100,
          162.5,
          135,
          180,
          210,
          165,
          75,
          230,
          95,
          53.333333333333336,
          165,
          92.5,
          75,
          120,
          115,
          95,
          190,
          125,
          145,
          125,
          137.5,
          120,
          105,
          205,
          165,
          65,
          152.5,
          155,
          55,
          240,
          170,
          190,
          90,
          100,
          100,
          65,
          75,
          52.5,
          135,
          20,
          165,
          120,
          90,
          90,
          92.5,
          145,
          137.5,
          75,
          102.5,
          92.5,
          85,
          80,
          65,
          175,
          130,
          210,
          140,
          215,
          135,
          150,
          135,
          72.5,
          108.33333333333331,
          67.5,
          77.5,
          90,
          180,
          120,
          157.5,
          75,
          90,
          91.66666666666669,
          145,
          70,
          85,
          97.5,
          97.5,
          80,
          82.5,
          130,
          165,
          125,
          112.5,
          125,
          135,
          130,
          135,
          85,
          75,
          135,
          60,
          152.5,
          130,
          130,
          105,
          150,
          213.75,
          145,
          120,
          157.5,
          94.5,
          165,
          90,
          160,
          100,
          122.5,
          130,
          142.5,
          170,
          157.5,
          205,
          130,
          105,
          72.5,
          77.5,
          105,
          100,
          132.5,
          135,
          100,
          165,
          150,
          165,
          105,
          100,
          85,
          105,
          85,
          70,
          140,
          200,
          100,
          190,
          152.5,
          55,
          180,
          155,
          152.5,
          167.5,
          180,
          65,
          70,
          180,
          120,
          125,
          121.66666666666669,
          130,
          175,
          55,
          115,
          48.333333333333336,
          40,
          220,
          200,
          87.5,
          72.5,
          115,
          130,
          120,
          85,
          235,
          90,
          52.5,
          123.75,
          60,
          100,
          105,
          90,
          125,
          115,
          195,
          120,
          100,
          205,
          75,
          96.66666666666669,
          102.5,
          105,
          110,
          150,
          130,
          125,
          175,
          95,
          85,
          112.5,
          105,
          160,
          95,
          140,
          107.5,
          167.5,
          217.5,
          185,
          175,
          195,
          100,
          105,
          96.25,
          92.5,
          90,
          165,
          158,
          155,
          80,
          110,
          125,
          105,
          130,
          125,
          95,
          95,
          107.5,
          125,
          55,
          75,
          75,
          50,
          140,
          160,
          85,
          185,
          160,
          162.5,
          145,
          210,
          95,
          70,
          65,
          200,
          65,
          75,
          105,
          137.5,
          85,
          175,
          177.5,
          155,
          175,
          97.5,
          120,
          140,
          130,
          115,
          175,
          85,
          137.5,
          180,
          165,
          65,
          112.5,
          105,
          165,
          188.75,
          47.5,
          157.5,
          155,
          65,
          105,
          60,
          105,
          65,
          127.5,
          115,
          120,
          80,
          130,
          55,
          90,
          65,
          150,
          160,
          70,
          185,
          95,
          152.5,
          90,
          70,
          140,
          120,
          67.5,
          140,
          110,
          135,
          70,
          80,
          75,
          65,
          102.5,
          125,
          60,
          145,
          95,
          110,
          130,
          145,
          75,
          115,
          170,
          135,
          185,
          165,
          75,
          132.5,
          90,
          60,
          97.5,
          60,
          55,
          100,
          75,
          65,
          50,
          92.5,
          105,
          85,
          65,
          67.5,
          160,
          45,
          97.5,
          60,
          90,
          105,
          77.5,
          105,
          65,
          80,
          45,
          140,
          90,
          70,
          50,
          65,
          80,
          86.66666666666667,
          120,
          85,
          95,
          60,
          100,
          125,
          80,
          235,
          75,
          135,
          87.5,
          70,
          160,
          90,
          110,
          100,
          105,
          80,
          135,
          97.5,
          125,
          75,
          135,
          137.5,
          100,
          55,
          70,
          200,
          30,
          65,
          245,
          157.5,
          170,
          122.5,
          117.5,
          62.5,
          77.5,
          175,
          135,
          140,
          70,
          55,
          75,
          50,
          127.5,
          155,
          65,
          123.33333333333331,
          140,
          57.5,
          97.5,
          105,
          105,
          115,
          168.33333333333334,
          30,
          195,
          270,
          72.5,
          297.5,
          292.5,
          286.6666666666667,
          317.5,
          222.5,
          120,
          120,
          167.5,
          107.5,
          152.5,
          105,
          135,
          147.5,
          120,
          120,
          165,
          120,
          107.5,
          155,
          147.5,
          127.5,
          110,
          137.5,
          115,
          160,
          62.5,
          185,
          55,
          140,
          132.5,
          50,
          75,
          195,
          155,
          153.33333333333334,
          147.5,
          143.75,
          145,
          60,
          70,
          120,
          107.5,
          102.5,
          135,
          105,
          105,
          167.5,
          80,
          120,
          182.5,
          152.5,
          130,
          76.66666666666667,
          55,
          110,
          75,
          190,
          170,
          135,
          225,
          95,
          160,
          147.5,
          245,
          215,
          110,
          95,
          145,
          125,
          71.66666666666667,
          100,
          85,
          75,
          80,
          185,
          110,
          107.5,
          110,
          127.5,
          112.5,
          102.5,
          105,
          107.5,
          120,
          112.5,
          147.5,
          145,
          155,
          130,
          117.5,
          130,
          77.5,
          147.5,
          200,
          207.5,
          190,
          195,
          130,
          120,
          115,
          140,
          135,
          107.5,
          80,
          115,
          85,
          82.5,
          95,
          115,
          185,
          145,
          70,
          100,
          97.5,
          105,
          190,
          117.5,
          115,
          170,
          155,
          151.25,
          185,
          155,
          275,
          165,
          165,
          160,
          145,
          80,
          190,
          60,
          92.5,
          250,
          80,
          75,
          80,
          185,
          140,
          135,
          205,
          202.5,
          225,
          167.5,
          175,
          127.5,
          125,
          162.5,
          75,
          160,
          185,
          72.5,
          140,
          115,
          80,
          75,
          85,
          85,
          147.5,
          175,
          75,
          177.5,
          167.5,
          77.5,
          61.25,
          70,
          162.5,
          87.5,
          97.5,
          167.5,
          125,
          115,
          100,
          115,
          116.66666666666669,
          172.5,
          150,
          62.5,
          155,
          125,
          130,
          135,
          170,
          170,
          170,
          135,
          145,
          145,
          137.5,
          185,
          195,
          167.5,
          200,
          70,
          80,
          125,
          87.5,
          120,
          95,
          120,
          95,
          82.5,
          105,
          140,
          65,
          107.5,
          90,
          210,
          195,
          197.5,
          142.5,
          180,
          160,
          170,
          130,
          180,
          135,
          115,
          67.5,
          77.5,
          55,
          65,
          50,
          77.5,
          110,
          120,
          50,
          145,
          117.5,
          147.5,
          90,
          90,
          95,
          117.5,
          185,
          116.25,
          70,
          130,
          127.5,
          110,
          90,
          165,
          57.5,
          117.5,
          85,
          137.5,
          65,
          55,
          120,
          77.5,
          92.5,
          60,
          175,
          75,
          80,
          105,
          125,
          145,
          96.66666666666669,
          120,
          72.5,
          190,
          177.5,
          80,
          182.5,
          170,
          92.5,
          82.5,
          90,
          145,
          175,
          175,
          125,
          82.5,
          80,
          85,
          72.5,
          125,
          85,
          85,
          87.5,
          135,
          90,
          75,
          116.66666666666669,
          250,
          115,
          72.5,
          56.25,
          150,
          55,
          125,
          60,
          117.5,
          150,
          160,
          160,
          125,
          85,
          75,
          132.5,
          146.25,
          95,
          80,
          115,
          100,
          90,
          75,
          117.5,
          95,
          160,
          105,
          60,
          127.5,
          80,
          190,
          100,
          95,
          92.5,
          65,
          200,
          147.5,
          80,
          105,
          90,
          135,
          185,
          158.75,
          125,
          105,
          75,
          172.5,
          141.66666666666666,
          145,
          180,
          165,
          270,
          39,
          175,
          132.5,
          50,
          127.5,
          172.5,
          90,
          182.5,
          102.5,
          72.5,
          92.5,
          115,
          95,
          135,
          70,
          92.5,
          157.5,
          175,
          155,
          105,
          135,
          145,
          185,
          85,
          130,
          202.5,
          80,
          175,
          120,
          200,
          185,
          165,
          155,
          135,
          122.5,
          195,
          200,
          200,
          220,
          120,
          110,
          50,
          95,
          120,
          102.5,
          135,
          150,
          130,
          77.5,
          152.5,
          110,
          202.5,
          65,
          170,
          130,
          145,
          140,
          140,
          120,
          155,
          100,
          147.5,
          125,
          115,
          132.5,
          155,
          130,
          190,
          180,
          165,
          142.5,
          115,
          185,
          117.5,
          130,
          120,
          130,
          155,
          122.5,
          135,
          135,
          132.5,
          145,
          150,
          95,
          107.5,
          50,
          135,
          113.75,
          112.5,
          152.5,
          118.33333333333331,
          100,
          160,
          160,
          67.5,
          180,
          155,
          150,
          170,
          235,
          105,
          127.5,
          125,
          77.5,
          150,
          125,
          90,
          195,
          170,
          115,
          100,
          60,
          162.5,
          87.5,
          90,
          162.5,
          107.5,
          157.5,
          147.5,
          130,
          122.5,
          120,
          85,
          102.5,
          102.5,
          105,
          110,
          60,
          175,
          35,
          170,
          50,
          85,
          107.5,
          150,
          45,
          52.5,
          165,
          85,
          115,
          135,
          115,
          72.5,
          155,
          107.5,
          162.5,
          102.5,
          97.5,
          120,
          100,
          90,
          75,
          130,
          105,
          145,
          60,
          85,
          205,
          140,
          141.25,
          130,
          205,
          167.5,
          127.5,
          105,
          95,
          65,
          60,
          165,
          160,
          112.5,
          117.5,
          80,
          110,
          110,
          108.33333333333331,
          165,
          75,
          90,
          140,
          135,
          190,
          165,
          145,
          65,
          75,
          95,
          100,
          105,
          75,
          200,
          125,
          142.5,
          85,
          105,
          122.5,
          80,
          95,
          95,
          147.5,
          45,
          142.5,
          110,
          190,
          62.5,
          85,
          100,
          75,
          220,
          81.66666666666667,
          115,
          110,
          142.5,
          62.5,
          95,
          265,
          160,
          125,
          155,
          125,
          107.5,
          115,
          125,
          107.5,
          95,
          50,
          10,
          130,
          150,
          190,
          184.5,
          127.5,
          127.5,
          125,
          80,
          150,
          90,
          57.5,
          140,
          140,
          57.5,
          50,
          170,
          155,
          95,
          105,
          110,
          80,
          67.5,
          120,
          56.66666666666666,
          125,
          237.5,
          137.5,
          220,
          125,
          115,
          187.5,
          105,
          77.5,
          130,
          115,
          95,
          155,
          70,
          50,
          90,
          105,
          105,
          70,
          72.5,
          75,
          135,
          120,
          55,
          145,
          55,
          160,
          150,
          127.5,
          45
         ],
         "yaxis": "y"
        }
       ],
       "layout": {
        "legend": {
         "tracegroupgap": 0
        },
        "margin": {
         "t": 60
        },
        "template": {
         "data": {
          "bar": [
           {
            "error_x": {
             "color": "#2a3f5f"
            },
            "error_y": {
             "color": "#2a3f5f"
            },
            "marker": {
             "line": {
              "color": "#E5ECF6",
              "width": 0.5
             },
             "pattern": {
              "fillmode": "overlay",
              "size": 10,
              "solidity": 0.2
             }
            },
            "type": "bar"
           }
          ],
          "barpolar": [
           {
            "marker": {
             "line": {
              "color": "#E5ECF6",
              "width": 0.5
             },
             "pattern": {
              "fillmode": "overlay",
              "size": 10,
              "solidity": 0.2
             }
            },
            "type": "barpolar"
           }
          ],
          "carpet": [
           {
            "aaxis": {
             "endlinecolor": "#2a3f5f",
             "gridcolor": "white",
             "linecolor": "white",
             "minorgridcolor": "white",
             "startlinecolor": "#2a3f5f"
            },
            "baxis": {
             "endlinecolor": "#2a3f5f",
             "gridcolor": "white",
             "linecolor": "white",
             "minorgridcolor": "white",
             "startlinecolor": "#2a3f5f"
            },
            "type": "carpet"
           }
          ],
          "choropleth": [
           {
            "colorbar": {
             "outlinewidth": 0,
             "ticks": ""
            },
            "type": "choropleth"
           }
          ],
          "contour": [
           {
            "colorbar": {
             "outlinewidth": 0,
             "ticks": ""
            },
            "colorscale": [
             [
              0,
              "#0d0887"
             ],
             [
              0.1111111111111111,
              "#46039f"
             ],
             [
              0.2222222222222222,
              "#7201a8"
             ],
             [
              0.3333333333333333,
              "#9c179e"
             ],
             [
              0.4444444444444444,
              "#bd3786"
             ],
             [
              0.5555555555555556,
              "#d8576b"
             ],
             [
              0.6666666666666666,
              "#ed7953"
             ],
             [
              0.7777777777777778,
              "#fb9f3a"
             ],
             [
              0.8888888888888888,
              "#fdca26"
             ],
             [
              1,
              "#f0f921"
             ]
            ],
            "type": "contour"
           }
          ],
          "contourcarpet": [
           {
            "colorbar": {
             "outlinewidth": 0,
             "ticks": ""
            },
            "type": "contourcarpet"
           }
          ],
          "heatmap": [
           {
            "colorbar": {
             "outlinewidth": 0,
             "ticks": ""
            },
            "colorscale": [
             [
              0,
              "#0d0887"
             ],
             [
              0.1111111111111111,
              "#46039f"
             ],
             [
              0.2222222222222222,
              "#7201a8"
             ],
             [
              0.3333333333333333,
              "#9c179e"
             ],
             [
              0.4444444444444444,
              "#bd3786"
             ],
             [
              0.5555555555555556,
              "#d8576b"
             ],
             [
              0.6666666666666666,
              "#ed7953"
             ],
             [
              0.7777777777777778,
              "#fb9f3a"
             ],
             [
              0.8888888888888888,
              "#fdca26"
             ],
             [
              1,
              "#f0f921"
             ]
            ],
            "type": "heatmap"
           }
          ],
          "heatmapgl": [
           {
            "colorbar": {
             "outlinewidth": 0,
             "ticks": ""
            },
            "colorscale": [
             [
              0,
              "#0d0887"
             ],
             [
              0.1111111111111111,
              "#46039f"
             ],
             [
              0.2222222222222222,
              "#7201a8"
             ],
             [
              0.3333333333333333,
              "#9c179e"
             ],
             [
              0.4444444444444444,
              "#bd3786"
             ],
             [
              0.5555555555555556,
              "#d8576b"
             ],
             [
              0.6666666666666666,
              "#ed7953"
             ],
             [
              0.7777777777777778,
              "#fb9f3a"
             ],
             [
              0.8888888888888888,
              "#fdca26"
             ],
             [
              1,
              "#f0f921"
             ]
            ],
            "type": "heatmapgl"
           }
          ],
          "histogram": [
           {
            "marker": {
             "pattern": {
              "fillmode": "overlay",
              "size": 10,
              "solidity": 0.2
             }
            },
            "type": "histogram"
           }
          ],
          "histogram2d": [
           {
            "colorbar": {
             "outlinewidth": 0,
             "ticks": ""
            },
            "colorscale": [
             [
              0,
              "#0d0887"
             ],
             [
              0.1111111111111111,
              "#46039f"
             ],
             [
              0.2222222222222222,
              "#7201a8"
             ],
             [
              0.3333333333333333,
              "#9c179e"
             ],
             [
              0.4444444444444444,
              "#bd3786"
             ],
             [
              0.5555555555555556,
              "#d8576b"
             ],
             [
              0.6666666666666666,
              "#ed7953"
             ],
             [
              0.7777777777777778,
              "#fb9f3a"
             ],
             [
              0.8888888888888888,
              "#fdca26"
             ],
             [
              1,
              "#f0f921"
             ]
            ],
            "type": "histogram2d"
           }
          ],
          "histogram2dcontour": [
           {
            "colorbar": {
             "outlinewidth": 0,
             "ticks": ""
            },
            "colorscale": [
             [
              0,
              "#0d0887"
             ],
             [
              0.1111111111111111,
              "#46039f"
             ],
             [
              0.2222222222222222,
              "#7201a8"
             ],
             [
              0.3333333333333333,
              "#9c179e"
             ],
             [
              0.4444444444444444,
              "#bd3786"
             ],
             [
              0.5555555555555556,
              "#d8576b"
             ],
             [
              0.6666666666666666,
              "#ed7953"
             ],
             [
              0.7777777777777778,
              "#fb9f3a"
             ],
             [
              0.8888888888888888,
              "#fdca26"
             ],
             [
              1,
              "#f0f921"
             ]
            ],
            "type": "histogram2dcontour"
           }
          ],
          "mesh3d": [
           {
            "colorbar": {
             "outlinewidth": 0,
             "ticks": ""
            },
            "type": "mesh3d"
           }
          ],
          "parcoords": [
           {
            "line": {
             "colorbar": {
              "outlinewidth": 0,
              "ticks": ""
             }
            },
            "type": "parcoords"
           }
          ],
          "pie": [
           {
            "automargin": true,
            "type": "pie"
           }
          ],
          "scatter": [
           {
            "fillpattern": {
             "fillmode": "overlay",
             "size": 10,
             "solidity": 0.2
            },
            "type": "scatter"
           }
          ],
          "scatter3d": [
           {
            "line": {
             "colorbar": {
              "outlinewidth": 0,
              "ticks": ""
             }
            },
            "marker": {
             "colorbar": {
              "outlinewidth": 0,
              "ticks": ""
             }
            },
            "type": "scatter3d"
           }
          ],
          "scattercarpet": [
           {
            "marker": {
             "colorbar": {
              "outlinewidth": 0,
              "ticks": ""
             }
            },
            "type": "scattercarpet"
           }
          ],
          "scattergeo": [
           {
            "marker": {
             "colorbar": {
              "outlinewidth": 0,
              "ticks": ""
             }
            },
            "type": "scattergeo"
           }
          ],
          "scattergl": [
           {
            "marker": {
             "colorbar": {
              "outlinewidth": 0,
              "ticks": ""
             }
            },
            "type": "scattergl"
           }
          ],
          "scattermapbox": [
           {
            "marker": {
             "colorbar": {
              "outlinewidth": 0,
              "ticks": ""
             }
            },
            "type": "scattermapbox"
           }
          ],
          "scatterpolar": [
           {
            "marker": {
             "colorbar": {
              "outlinewidth": 0,
              "ticks": ""
             }
            },
            "type": "scatterpolar"
           }
          ],
          "scatterpolargl": [
           {
            "marker": {
             "colorbar": {
              "outlinewidth": 0,
              "ticks": ""
             }
            },
            "type": "scatterpolargl"
           }
          ],
          "scatterternary": [
           {
            "marker": {
             "colorbar": {
              "outlinewidth": 0,
              "ticks": ""
             }
            },
            "type": "scatterternary"
           }
          ],
          "surface": [
           {
            "colorbar": {
             "outlinewidth": 0,
             "ticks": ""
            },
            "colorscale": [
             [
              0,
              "#0d0887"
             ],
             [
              0.1111111111111111,
              "#46039f"
             ],
             [
              0.2222222222222222,
              "#7201a8"
             ],
             [
              0.3333333333333333,
              "#9c179e"
             ],
             [
              0.4444444444444444,
              "#bd3786"
             ],
             [
              0.5555555555555556,
              "#d8576b"
             ],
             [
              0.6666666666666666,
              "#ed7953"
             ],
             [
              0.7777777777777778,
              "#fb9f3a"
             ],
             [
              0.8888888888888888,
              "#fdca26"
             ],
             [
              1,
              "#f0f921"
             ]
            ],
            "type": "surface"
           }
          ],
          "table": [
           {
            "cells": {
             "fill": {
              "color": "#EBF0F8"
             },
             "line": {
              "color": "white"
             }
            },
            "header": {
             "fill": {
              "color": "#C8D4E3"
             },
             "line": {
              "color": "white"
             }
            },
            "type": "table"
           }
          ]
         },
         "layout": {
          "annotationdefaults": {
           "arrowcolor": "#2a3f5f",
           "arrowhead": 0,
           "arrowwidth": 1
          },
          "autotypenumbers": "strict",
          "coloraxis": {
           "colorbar": {
            "outlinewidth": 0,
            "ticks": ""
           }
          },
          "colorscale": {
           "diverging": [
            [
             0,
             "#8e0152"
            ],
            [
             0.1,
             "#c51b7d"
            ],
            [
             0.2,
             "#de77ae"
            ],
            [
             0.3,
             "#f1b6da"
            ],
            [
             0.4,
             "#fde0ef"
            ],
            [
             0.5,
             "#f7f7f7"
            ],
            [
             0.6,
             "#e6f5d0"
            ],
            [
             0.7,
             "#b8e186"
            ],
            [
             0.8,
             "#7fbc41"
            ],
            [
             0.9,
             "#4d9221"
            ],
            [
             1,
             "#276419"
            ]
           ],
           "sequential": [
            [
             0,
             "#0d0887"
            ],
            [
             0.1111111111111111,
             "#46039f"
            ],
            [
             0.2222222222222222,
             "#7201a8"
            ],
            [
             0.3333333333333333,
             "#9c179e"
            ],
            [
             0.4444444444444444,
             "#bd3786"
            ],
            [
             0.5555555555555556,
             "#d8576b"
            ],
            [
             0.6666666666666666,
             "#ed7953"
            ],
            [
             0.7777777777777778,
             "#fb9f3a"
            ],
            [
             0.8888888888888888,
             "#fdca26"
            ],
            [
             1,
             "#f0f921"
            ]
           ],
           "sequentialminus": [
            [
             0,
             "#0d0887"
            ],
            [
             0.1111111111111111,
             "#46039f"
            ],
            [
             0.2222222222222222,
             "#7201a8"
            ],
            [
             0.3333333333333333,
             "#9c179e"
            ],
            [
             0.4444444444444444,
             "#bd3786"
            ],
            [
             0.5555555555555556,
             "#d8576b"
            ],
            [
             0.6666666666666666,
             "#ed7953"
            ],
            [
             0.7777777777777778,
             "#fb9f3a"
            ],
            [
             0.8888888888888888,
             "#fdca26"
            ],
            [
             1,
             "#f0f921"
            ]
           ]
          },
          "colorway": [
           "#636efa",
           "#EF553B",
           "#00cc96",
           "#ab63fa",
           "#FFA15A",
           "#19d3f3",
           "#FF6692",
           "#B6E880",
           "#FF97FF",
           "#FECB52"
          ],
          "font": {
           "color": "#2a3f5f"
          },
          "geo": {
           "bgcolor": "white",
           "lakecolor": "white",
           "landcolor": "#E5ECF6",
           "showlakes": true,
           "showland": true,
           "subunitcolor": "white"
          },
          "hoverlabel": {
           "align": "left"
          },
          "hovermode": "closest",
          "mapbox": {
           "style": "light"
          },
          "paper_bgcolor": "white",
          "plot_bgcolor": "#E5ECF6",
          "polar": {
           "angularaxis": {
            "gridcolor": "white",
            "linecolor": "white",
            "ticks": ""
           },
           "bgcolor": "#E5ECF6",
           "radialaxis": {
            "gridcolor": "white",
            "linecolor": "white",
            "ticks": ""
           }
          },
          "scene": {
           "xaxis": {
            "backgroundcolor": "#E5ECF6",
            "gridcolor": "white",
            "gridwidth": 2,
            "linecolor": "white",
            "showbackground": true,
            "ticks": "",
            "zerolinecolor": "white"
           },
           "yaxis": {
            "backgroundcolor": "#E5ECF6",
            "gridcolor": "white",
            "gridwidth": 2,
            "linecolor": "white",
            "showbackground": true,
            "ticks": "",
            "zerolinecolor": "white"
           },
           "zaxis": {
            "backgroundcolor": "#E5ECF6",
            "gridcolor": "white",
            "gridwidth": 2,
            "linecolor": "white",
            "showbackground": true,
            "ticks": "",
            "zerolinecolor": "white"
           }
          },
          "shapedefaults": {
           "line": {
            "color": "#2a3f5f"
           }
          },
          "ternary": {
           "aaxis": {
            "gridcolor": "white",
            "linecolor": "white",
            "ticks": ""
           },
           "baxis": {
            "gridcolor": "white",
            "linecolor": "white",
            "ticks": ""
           },
           "bgcolor": "#E5ECF6",
           "caxis": {
            "gridcolor": "white",
            "linecolor": "white",
            "ticks": ""
           }
          },
          "title": {
           "x": 0.05
          },
          "xaxis": {
           "automargin": true,
           "gridcolor": "white",
           "linecolor": "white",
           "ticks": "",
           "title": {
            "standoff": 15
           },
           "zerolinecolor": "white",
           "zerolinewidth": 2
          },
          "yaxis": {
           "automargin": true,
           "gridcolor": "white",
           "linecolor": "white",
           "ticks": "",
           "title": {
            "standoff": 15
           },
           "zerolinecolor": "white",
           "zerolinewidth": 2
          }
         }
        },
        "title": {
         "text": "Comparison of Train Time vs Flight Time in minutes"
        },
        "xaxis": {
         "anchor": "y",
         "domain": [
          0,
          1
         ],
         "title": {
          "text": "Train Time (minutes)"
         }
        },
        "yaxis": {
         "anchor": "x",
         "domain": [
          0,
          1
         ],
         "title": {
          "text": "Flight Time (minutes)"
         }
        }
       }
      }
     },
     "metadata": {},
     "output_type": "display_data"
    }
   ],
   "source": [
    "scatter_fig = px.scatter(merged_data, x='train_time', y='flight_time', hover_data=['departure city', 'arrival city'])\n",
    "scatter_fig.update_layout(title='Comparison of Train Time vs Flight Time in minutes', xaxis_title='Train Time (minutes)', yaxis_title='Flight Time (minutes)')\n",
    "scatter_fig.show()"
   ],
   "metadata": {
    "collapsed": false
   },
   "id": "6d14b780e83ac4cf",
   "execution_count": 131
  },
  {
   "cell_type": "markdown",
   "source": [
    "## Connectivity between cities – which are the best connected?"
   ],
   "metadata": {
    "collapsed": false
   },
   "id": "d3ad8f2f9b786146"
  },
  {
   "cell_type": "code",
   "outputs": [
    {
     "data": {
      "text/html": [
       "<div>\n",
       "<style scoped>\n",
       "    .dataframe tbody tr th:only-of-type {\n",
       "        vertical-align: middle;\n",
       "    }\n",
       "\n",
       "    .dataframe tbody tr th {\n",
       "        vertical-align: top;\n",
       "    }\n",
       "\n",
       "    .dataframe thead th {\n",
       "        text-align: right;\n",
       "    }\n",
       "</style>\n",
       "<table border=\"1\" class=\"dataframe\">\n",
       "  <thead>\n",
       "    <tr style=\"text-align: right;\">\n",
       "      <th></th>\n",
       "      <th>departure city</th>\n",
       "      <th>arrival city</th>\n",
       "      <th>transit_distance [m]</th>\n",
       "      <th>transit_time [s]</th>\n",
       "    </tr>\n",
       "  </thead>\n",
       "  <tbody>\n",
       "    <tr>\n",
       "      <th>0</th>\n",
       "      <td>Arrecife</td>\n",
       "      <td>Barcelona</td>\n",
       "      <td>-1</td>\n",
       "      <td>-1</td>\n",
       "    </tr>\n",
       "    <tr>\n",
       "      <th>1</th>\n",
       "      <td>Alicante</td>\n",
       "      <td>Barcelona</td>\n",
       "      <td>525005</td>\n",
       "      <td>19080</td>\n",
       "    </tr>\n",
       "    <tr>\n",
       "      <th>2</th>\n",
       "      <td>Amsterdam</td>\n",
       "      <td>Barcelona</td>\n",
       "      <td>1627336</td>\n",
       "      <td>44340</td>\n",
       "    </tr>\n",
       "    <tr>\n",
       "      <th>3</th>\n",
       "      <td>Athens</td>\n",
       "      <td>Barcelona</td>\n",
       "      <td>-1</td>\n",
       "      <td>-1</td>\n",
       "    </tr>\n",
       "    <tr>\n",
       "      <th>4</th>\n",
       "      <td>Málaga</td>\n",
       "      <td>Barcelona</td>\n",
       "      <td>1110453</td>\n",
       "      <td>22380</td>\n",
       "    </tr>\n",
       "    <tr>\n",
       "      <th>...</th>\n",
       "      <td>...</td>\n",
       "      <td>...</td>\n",
       "      <td>...</td>\n",
       "      <td>...</td>\n",
       "    </tr>\n",
       "    <tr>\n",
       "      <th>1333</th>\n",
       "      <td>Vienna</td>\n",
       "      <td>Santander</td>\n",
       "      <td>-1</td>\n",
       "      <td>-1</td>\n",
       "    </tr>\n",
       "    <tr>\n",
       "      <th>1334</th>\n",
       "      <td>Vienna</td>\n",
       "      <td>Tromsø</td>\n",
       "      <td>3970237</td>\n",
       "      <td>197151</td>\n",
       "    </tr>\n",
       "    <tr>\n",
       "      <th>1335</th>\n",
       "      <td>Moscow</td>\n",
       "      <td>Groznyy</td>\n",
       "      <td>3147441</td>\n",
       "      <td>126600</td>\n",
       "    </tr>\n",
       "    <tr>\n",
       "      <th>1336</th>\n",
       "      <td>Moscow</td>\n",
       "      <td>Samara</td>\n",
       "      <td>1569205</td>\n",
       "      <td>52860</td>\n",
       "    </tr>\n",
       "    <tr>\n",
       "      <th>1337</th>\n",
       "      <td>Zürich</td>\n",
       "      <td>Rovaniemi</td>\n",
       "      <td>-1</td>\n",
       "      <td>-1</td>\n",
       "    </tr>\n",
       "  </tbody>\n",
       "</table>\n",
       "<p>1338 rows × 4 columns</p>\n",
       "</div>"
      ],
      "text/plain": [
       "     departure city arrival city  transit_distance [m]  transit_time [s]\n",
       "0          Arrecife    Barcelona                    -1                -1\n",
       "1          Alicante    Barcelona                525005             19080\n",
       "2         Amsterdam    Barcelona               1627336             44340\n",
       "3            Athens    Barcelona                    -1                -1\n",
       "4            Málaga    Barcelona               1110453             22380\n",
       "...             ...          ...                   ...               ...\n",
       "1333         Vienna    Santander                    -1                -1\n",
       "1334         Vienna       Tromsø               3970237            197151\n",
       "1335         Moscow      Groznyy               3147441            126600\n",
       "1336         Moscow       Samara               1569205             52860\n",
       "1337         Zürich    Rovaniemi                    -1                -1\n",
       "\n",
       "[1338 rows x 4 columns]"
      ]
     },
     "execution_count": 95,
     "metadata": {},
     "output_type": "execute_result"
    }
   ],
   "source": [
    "import pandas as pd\n",
    "\n",
    "# for connectivity there's required only one matrice with minimum time to different cities\n",
    "trains = pd.read_csv(\"../datasets/train_distances3/combined_train_distances3.csv\")\n",
    "flights = pd.read_csv(\"../datasets/final_flight_routes.csv\")\n",
    "merged_distance = pd.read_csv(\"../datasets/merged_df.csv\")\n",
    "\n",
    "trains"
   ],
   "metadata": {
    "collapsed": false
   },
   "id": "fd48155f02e48897",
   "execution_count": 95
  },
  {
   "cell_type": "code",
   "outputs": [
    {
     "name": "stderr",
     "output_type": "stream",
     "text": [
      "C:\\Users\\Adam\\AppData\\Local\\Temp\\ipykernel_19484\\3866892317.py:3: SettingWithCopyWarning: \n",
      "A value is trying to be set on a copy of a slice from a DataFrame.\n",
      "Try using .loc[row_indexer,col_indexer] = value instead\n",
      "\n",
      "See the caveats in the documentation: https://pandas.pydata.org/pandas-docs/stable/user_guide/indexing.html#returning-a-view-versus-a-copy\n",
      "  trains[\"time\"] = trains[\"transit_time [s]\"].apply(lambda x: x//60)\n",
      "C:\\Users\\Adam\\AppData\\Local\\Temp\\ipykernel_19484\\3866892317.py:4: SettingWithCopyWarning: \n",
      "A value is trying to be set on a copy of a slice from a DataFrame\n",
      "\n",
      "See the caveats in the documentation: https://pandas.pydata.org/pandas-docs/stable/user_guide/indexing.html#returning-a-view-versus-a-copy\n",
      "  trains.drop(columns=[\"transit_distance [m]\",\"transit_time [s]\"], inplace=True)\n",
      "C:\\Users\\Adam\\AppData\\Local\\Temp\\ipykernel_19484\\3866892317.py:5: SettingWithCopyWarning: \n",
      "A value is trying to be set on a copy of a slice from a DataFrame\n",
      "\n",
      "See the caveats in the documentation: https://pandas.pydata.org/pandas-docs/stable/user_guide/indexing.html#returning-a-view-versus-a-copy\n",
      "  trains.rename(columns={\"departure city\":\"city1\",\n"
     ]
    }
   ],
   "source": [
    "# transform train connections\n",
    "trains = trains.loc[~(trains[\"transit_time [s]\"] == -1)]\n",
    "trains[\"time\"] = trains[\"transit_time [s]\"].apply(lambda x: x//60)\n",
    "trains.drop(columns=[\"transit_distance [m]\",\"transit_time [s]\"], inplace=True)\n",
    "trains.rename(columns={\"departure city\":\"city1\",\n",
    "                       \"arrival city\":\"city2\"}, inplace=True)\n"
   ],
   "metadata": {
    "collapsed": false
   },
   "id": "47e5217113111443",
   "execution_count": 96
  },
  {
   "cell_type": "code",
   "outputs": [
    {
     "name": "stderr",
     "output_type": "stream",
     "text": [
      "C:\\Users\\Adam\\AppData\\Local\\Temp\\ipykernel_19484\\2419805734.py:1: SettingWithCopyWarning: \n",
      "A value is trying to be set on a copy of a slice from a DataFrame.\n",
      "Try using .loc[row_indexer,col_indexer] = value instead\n",
      "\n",
      "See the caveats in the documentation: https://pandas.pydata.org/pandas-docs/stable/user_guide/indexing.html#returning-a-view-versus-a-copy\n",
      "  trains[\"route\"] = trains.apply(lambda row: str( set([row[\"city1\"], row[\"city2\"]]) ), axis=1)\n",
      "C:\\Users\\Adam\\AppData\\Local\\Temp\\ipykernel_19484\\2419805734.py:2: SettingWithCopyWarning: \n",
      "A value is trying to be set on a copy of a slice from a DataFrame\n",
      "\n",
      "See the caveats in the documentation: https://pandas.pydata.org/pandas-docs/stable/user_guide/indexing.html#returning-a-view-versus-a-copy\n",
      "  trains.drop(columns=[\"city1\",\"city2\"], inplace=True)\n"
     ]
    }
   ],
   "source": [
    "trains[\"route\"] = trains.apply(lambda row: str( set([row[\"city1\"], row[\"city2\"]]) ), axis=1)\n",
    "trains.drop(columns=[\"city1\",\"city2\"], inplace=True)\n",
    "\n",
    "flights.drop(columns=[\"route\",\"departure airport\",\"arrival airport\"], inplace=True)\n",
    "flights.rename(columns={\"departure city\":\"city1\",\n",
    "                       \"arrival city\":\"city2\"}, inplace=True)\n",
    "flights[\"route\"] = flights.apply(lambda row: str( set([row[\"city1\"], row[\"city2\"]]) ), axis=1)\n",
    "flights.drop(columns=[\"city1\",\"city2\"], inplace=True)\n"
   ],
   "metadata": {
    "collapsed": false
   },
   "id": "6bf3599aba367de4",
   "execution_count": 97
  },
  {
   "cell_type": "code",
   "outputs": [
    {
     "data": {
      "text/html": [
       "<div>\n",
       "<style scoped>\n",
       "    .dataframe tbody tr th:only-of-type {\n",
       "        vertical-align: middle;\n",
       "    }\n",
       "\n",
       "    .dataframe tbody tr th {\n",
       "        vertical-align: top;\n",
       "    }\n",
       "\n",
       "    .dataframe thead th {\n",
       "        text-align: right;\n",
       "    }\n",
       "</style>\n",
       "<table border=\"1\" class=\"dataframe\">\n",
       "  <thead>\n",
       "    <tr style=\"text-align: right;\">\n",
       "      <th></th>\n",
       "      <th>time</th>\n",
       "      <th>route</th>\n",
       "      <th>time60</th>\n",
       "      <th>time45</th>\n",
       "      <th>time90</th>\n",
       "      <th>time120</th>\n",
       "    </tr>\n",
       "  </thead>\n",
       "  <tbody>\n",
       "    <tr>\n",
       "      <th>0</th>\n",
       "      <td>85.0</td>\n",
       "      <td>{'Aalborg', 'Amsterdam'}</td>\n",
       "      <td>145.0</td>\n",
       "      <td>130.0</td>\n",
       "      <td>175.0</td>\n",
       "      <td>205.0</td>\n",
       "    </tr>\n",
       "    <tr>\n",
       "      <th>1</th>\n",
       "      <td>170.0</td>\n",
       "      <td>{'Saint Petersburg', 'Novorossiysk'}</td>\n",
       "      <td>230.0</td>\n",
       "      <td>215.0</td>\n",
       "      <td>260.0</td>\n",
       "      <td>290.0</td>\n",
       "    </tr>\n",
       "    <tr>\n",
       "      <th>2</th>\n",
       "      <td>85.0</td>\n",
       "      <td>{'Amsterdam', 'Aberdeen'}</td>\n",
       "      <td>145.0</td>\n",
       "      <td>130.0</td>\n",
       "      <td>175.0</td>\n",
       "      <td>205.0</td>\n",
       "    </tr>\n",
       "    <tr>\n",
       "      <th>3</th>\n",
       "      <td>95.0</td>\n",
       "      <td>{'London', 'Aberdeen'}</td>\n",
       "      <td>155.0</td>\n",
       "      <td>140.0</td>\n",
       "      <td>185.0</td>\n",
       "      <td>215.0</td>\n",
       "    </tr>\n",
       "    <tr>\n",
       "      <th>4</th>\n",
       "      <td>130.0</td>\n",
       "      <td>{'Arrecife', 'Málaga'}</td>\n",
       "      <td>190.0</td>\n",
       "      <td>175.0</td>\n",
       "      <td>220.0</td>\n",
       "      <td>250.0</td>\n",
       "    </tr>\n",
       "    <tr>\n",
       "      <th>...</th>\n",
       "      <td>...</td>\n",
       "      <td>...</td>\n",
       "      <td>...</td>\n",
       "      <td>...</td>\n",
       "      <td>...</td>\n",
       "      <td>...</td>\n",
       "    </tr>\n",
       "    <tr>\n",
       "      <th>1333</th>\n",
       "      <td>150.0</td>\n",
       "      <td>{'Zürich', 'Bucharest'}</td>\n",
       "      <td>210.0</td>\n",
       "      <td>195.0</td>\n",
       "      <td>240.0</td>\n",
       "      <td>270.0</td>\n",
       "    </tr>\n",
       "    <tr>\n",
       "      <th>1334</th>\n",
       "      <td>127.5</td>\n",
       "      <td>{'Zürich', 'Pristina'}</td>\n",
       "      <td>187.5</td>\n",
       "      <td>172.5</td>\n",
       "      <td>217.5</td>\n",
       "      <td>247.5</td>\n",
       "    </tr>\n",
       "    <tr>\n",
       "      <th>1335</th>\n",
       "      <td>205.0</td>\n",
       "      <td>{'Zürich', 'Rovaniemi'}</td>\n",
       "      <td>265.0</td>\n",
       "      <td>250.0</td>\n",
       "      <td>295.0</td>\n",
       "      <td>325.0</td>\n",
       "    </tr>\n",
       "    <tr>\n",
       "      <th>1336</th>\n",
       "      <td>45.0</td>\n",
       "      <td>{'Zürich', 'Stuttgart'}</td>\n",
       "      <td>105.0</td>\n",
       "      <td>90.0</td>\n",
       "      <td>135.0</td>\n",
       "      <td>165.0</td>\n",
       "    </tr>\n",
       "    <tr>\n",
       "      <th>1337</th>\n",
       "      <td>62.5</td>\n",
       "      <td>{'Athens', 'Alykés'}</td>\n",
       "      <td>122.5</td>\n",
       "      <td>107.5</td>\n",
       "      <td>152.5</td>\n",
       "      <td>182.5</td>\n",
       "    </tr>\n",
       "  </tbody>\n",
       "</table>\n",
       "<p>1338 rows × 6 columns</p>\n",
       "</div>"
      ],
      "text/plain": [
       "       time                                 route  time60  time45  time90  \\\n",
       "0      85.0              {'Aalborg', 'Amsterdam'}   145.0   130.0   175.0   \n",
       "1     170.0  {'Saint Petersburg', 'Novorossiysk'}   230.0   215.0   260.0   \n",
       "2      85.0             {'Amsterdam', 'Aberdeen'}   145.0   130.0   175.0   \n",
       "3      95.0                {'London', 'Aberdeen'}   155.0   140.0   185.0   \n",
       "4     130.0                {'Arrecife', 'Málaga'}   190.0   175.0   220.0   \n",
       "...     ...                                   ...     ...     ...     ...   \n",
       "1333  150.0               {'Zürich', 'Bucharest'}   210.0   195.0   240.0   \n",
       "1334  127.5                {'Zürich', 'Pristina'}   187.5   172.5   217.5   \n",
       "1335  205.0               {'Zürich', 'Rovaniemi'}   265.0   250.0   295.0   \n",
       "1336   45.0               {'Zürich', 'Stuttgart'}   105.0    90.0   135.0   \n",
       "1337   62.5                  {'Athens', 'Alykés'}   122.5   107.5   152.5   \n",
       "\n",
       "      time120  \n",
       "0       205.0  \n",
       "1       290.0  \n",
       "2       205.0  \n",
       "3       215.0  \n",
       "4       250.0  \n",
       "...       ...  \n",
       "1333    270.0  \n",
       "1334    247.5  \n",
       "1335    325.0  \n",
       "1336    165.0  \n",
       "1337    182.5  \n",
       "\n",
       "[1338 rows x 6 columns]"
      ]
     },
     "execution_count": 98,
     "metadata": {},
     "output_type": "execute_result"
    }
   ],
   "source": [
    "flights[\"time60\"] = flights[\"time\"] + 60\n",
    "flights[\"time45\"] = flights[\"time\"] + 45\n",
    "flights[\"time90\"] = flights[\"time\"] + 90 \n",
    "flights[\"time120\"] = flights[\"time\"] + 120\n",
    "flights"
   ],
   "metadata": {
    "collapsed": false
   },
   "id": "b024becd6bf30e91",
   "execution_count": 98
  },
  {
   "cell_type": "code",
   "outputs": [
    {
     "data": {
      "text/html": [
       "<div>\n",
       "<style scoped>\n",
       "    .dataframe tbody tr th:only-of-type {\n",
       "        vertical-align: middle;\n",
       "    }\n",
       "\n",
       "    .dataframe tbody tr th {\n",
       "        vertical-align: top;\n",
       "    }\n",
       "\n",
       "    .dataframe thead th {\n",
       "        text-align: right;\n",
       "    }\n",
       "</style>\n",
       "<table border=\"1\" class=\"dataframe\">\n",
       "  <thead>\n",
       "    <tr style=\"text-align: right;\">\n",
       "      <th></th>\n",
       "      <th>time</th>\n",
       "      <th>route</th>\n",
       "    </tr>\n",
       "  </thead>\n",
       "  <tbody>\n",
       "    <tr>\n",
       "      <th>1</th>\n",
       "      <td>318</td>\n",
       "      <td>{'Barcelona', 'Alicante'}</td>\n",
       "    </tr>\n",
       "    <tr>\n",
       "      <th>2</th>\n",
       "      <td>739</td>\n",
       "      <td>{'Amsterdam', 'Barcelona'}</td>\n",
       "    </tr>\n",
       "    <tr>\n",
       "      <th>4</th>\n",
       "      <td>373</td>\n",
       "      <td>{'Málaga', 'Barcelona'}</td>\n",
       "    </tr>\n",
       "    <tr>\n",
       "      <th>6</th>\n",
       "      <td>380</td>\n",
       "      <td>{'Bordeaux', 'Barcelona'}</td>\n",
       "    </tr>\n",
       "    <tr>\n",
       "      <th>7</th>\n",
       "      <td>627</td>\n",
       "      <td>{'Brussels', 'Barcelona'}</td>\n",
       "    </tr>\n",
       "    <tr>\n",
       "      <th>...</th>\n",
       "      <td>...</td>\n",
       "      <td>...</td>\n",
       "    </tr>\n",
       "    <tr>\n",
       "      <th>1331</th>\n",
       "      <td>280</td>\n",
       "      <td>{'Vienna', 'Klagenfurt'}</td>\n",
       "    </tr>\n",
       "    <tr>\n",
       "      <th>1332</th>\n",
       "      <td>599</td>\n",
       "      <td>{'Vienna', 'Trier'}</td>\n",
       "    </tr>\n",
       "    <tr>\n",
       "      <th>1334</th>\n",
       "      <td>3285</td>\n",
       "      <td>{'Vienna', 'Tromsø'}</td>\n",
       "    </tr>\n",
       "    <tr>\n",
       "      <th>1335</th>\n",
       "      <td>2110</td>\n",
       "      <td>{'Moscow', 'Groznyy'}</td>\n",
       "    </tr>\n",
       "    <tr>\n",
       "      <th>1336</th>\n",
       "      <td>881</td>\n",
       "      <td>{'Samara', 'Moscow'}</td>\n",
       "    </tr>\n",
       "  </tbody>\n",
       "</table>\n",
       "<p>1083 rows × 2 columns</p>\n",
       "</div>"
      ],
      "text/plain": [
       "      time                       route\n",
       "1      318   {'Barcelona', 'Alicante'}\n",
       "2      739  {'Amsterdam', 'Barcelona'}\n",
       "4      373     {'Málaga', 'Barcelona'}\n",
       "6      380   {'Bordeaux', 'Barcelona'}\n",
       "7      627   {'Brussels', 'Barcelona'}\n",
       "...    ...                         ...\n",
       "1331   280    {'Vienna', 'Klagenfurt'}\n",
       "1332   599         {'Vienna', 'Trier'}\n",
       "1334  3285        {'Vienna', 'Tromsø'}\n",
       "1335  2110       {'Moscow', 'Groznyy'}\n",
       "1336   881        {'Samara', 'Moscow'}\n",
       "\n",
       "[1083 rows x 2 columns]"
      ]
     },
     "execution_count": 99,
     "metadata": {},
     "output_type": "execute_result"
    }
   ],
   "source": [
    "trains"
   ],
   "metadata": {
    "collapsed": false
   },
   "id": "46551e1fd1abce6b",
   "execution_count": 99
  },
  {
   "cell_type": "code",
   "outputs": [],
   "source": [
    "def calculate_closeness(trains, flights, flight_time=\"time\"):\n",
    "    flights = flights[[\"route\",flight_time]].copy()\n",
    "    print(flights.columns)\n",
    "    flights.rename({flight_time:\"time\"},inplace=True)\n",
    "    \n",
    "    DF = pd.concat([trains, flights])\n",
    "    DF = DF.groupby([\"route\"]).min()\n",
    "    DF.reset_index(inplace=True)\n",
    "    DF[[\"city1\",\"city2\"]] = DF[\"route\"].apply(lambda x: pd.Series(list(eval(x))))\n",
    "    DF.drop(columns=[\"route\"],inplace=True )\n",
    "    DF[\"time\"] = 1/DF[\"time\"]\n",
    "\n",
    "    # Combine unique cities from both columns into a single set\n",
    "    all_cities = list(set(DF['city1']).union(set(DF['city2'])))\n",
    "\n",
    "    # Create a DataFrame with all unique cities as both index and columns\n",
    "    distance_matrix = pd.DataFrame(index=all_cities, columns=all_cities)\n",
    "\n",
    "    distance_matrix.values[[range(len(all_cities))]*2] = 0\n",
    "    # Fill the distance matrix with distances from the original DataFrame\n",
    "    for _, row in DF.iterrows():\n",
    "        city1, city2, time = row['city1'], row['city2'], row['time']\n",
    "        distance_matrix.at[city1, city2] = time\n",
    "        distance_matrix.at[city2, city1] = time  # Assuming distances are symmetric\n",
    "\n",
    "    # Fill diagonal with zeros (distance from a city to itself)\n",
    "    closeness_cities = pd.DataFrame({\n",
    "        \"City\":all_cities,\n",
    "        \"Closeness\":distance_matrix.sum(axis=1)\n",
    "    })\n",
    "    return closeness_cities.reset_index().iloc[:,1:]"
   ],
   "metadata": {
    "collapsed": false
   },
   "id": "58b0f74dca6c9e86",
   "execution_count": 100
  },
  {
   "cell_type": "code",
   "outputs": [
    {
     "name": "stdout",
     "output_type": "stream",
     "text": [
      "Index(['route', 'time'], dtype='object')\n"
     ]
    },
    {
     "data": {
      "text/html": [
       "<div>\n",
       "<style scoped>\n",
       "    .dataframe tbody tr th:only-of-type {\n",
       "        vertical-align: middle;\n",
       "    }\n",
       "\n",
       "    .dataframe tbody tr th {\n",
       "        vertical-align: top;\n",
       "    }\n",
       "\n",
       "    .dataframe thead th {\n",
       "        text-align: right;\n",
       "    }\n",
       "</style>\n",
       "<table border=\"1\" class=\"dataframe\">\n",
       "  <thead>\n",
       "    <tr style=\"text-align: right;\">\n",
       "      <th></th>\n",
       "      <th>City</th>\n",
       "      <th>Closeness</th>\n",
       "    </tr>\n",
       "  </thead>\n",
       "  <tbody>\n",
       "    <tr>\n",
       "      <th>65</th>\n",
       "      <td>London</td>\n",
       "      <td>0.784561</td>\n",
       "    </tr>\n",
       "    <tr>\n",
       "      <th>225</th>\n",
       "      <td>Frankfurt</td>\n",
       "      <td>0.585549</td>\n",
       "    </tr>\n",
       "    <tr>\n",
       "      <th>137</th>\n",
       "      <td>Amsterdam</td>\n",
       "      <td>0.541825</td>\n",
       "    </tr>\n",
       "    <tr>\n",
       "      <th>111</th>\n",
       "      <td>Rome</td>\n",
       "      <td>0.538658</td>\n",
       "    </tr>\n",
       "    <tr>\n",
       "      <th>156</th>\n",
       "      <td>Munich</td>\n",
       "      <td>0.509447</td>\n",
       "    </tr>\n",
       "    <tr>\n",
       "      <th>140</th>\n",
       "      <td>Madrid</td>\n",
       "      <td>0.490417</td>\n",
       "    </tr>\n",
       "    <tr>\n",
       "      <th>116</th>\n",
       "      <td>Barcelona</td>\n",
       "      <td>0.477464</td>\n",
       "    </tr>\n",
       "    <tr>\n",
       "      <th>9</th>\n",
       "      <td>Paris</td>\n",
       "      <td>0.477409</td>\n",
       "    </tr>\n",
       "    <tr>\n",
       "      <th>90</th>\n",
       "      <td>Athens</td>\n",
       "      <td>0.378658</td>\n",
       "    </tr>\n",
       "    <tr>\n",
       "      <th>231</th>\n",
       "      <td>Vienna</td>\n",
       "      <td>0.366777</td>\n",
       "    </tr>\n",
       "  </tbody>\n",
       "</table>\n",
       "</div>"
      ],
      "text/plain": [
       "          City  Closeness\n",
       "65      London   0.784561\n",
       "225  Frankfurt   0.585549\n",
       "137  Amsterdam   0.541825\n",
       "111       Rome   0.538658\n",
       "156     Munich   0.509447\n",
       "140     Madrid   0.490417\n",
       "116  Barcelona   0.477464\n",
       "9        Paris   0.477409\n",
       "90      Athens   0.378658\n",
       "231     Vienna   0.366777"
      ]
     },
     "execution_count": 101,
     "metadata": {},
     "output_type": "execute_result"
    }
   ],
   "source": [
    "closeness = calculate_closeness(trains, flights)\n",
    "closeness.sort_values(\"Closeness\",ascending=False).iloc[:10,:]"
   ],
   "metadata": {
    "collapsed": false
   },
   "id": "131510de1ac3234a",
   "execution_count": 101
  },
  {
   "cell_type": "code",
   "outputs": [
    {
     "name": "stdout",
     "output_type": "stream",
     "text": [
      "Index(['route', 'time45'], dtype='object')\n"
     ]
    },
    {
     "data": {
      "text/html": [
       "<div>\n",
       "<style scoped>\n",
       "    .dataframe tbody tr th:only-of-type {\n",
       "        vertical-align: middle;\n",
       "    }\n",
       "\n",
       "    .dataframe tbody tr th {\n",
       "        vertical-align: top;\n",
       "    }\n",
       "\n",
       "    .dataframe thead th {\n",
       "        text-align: right;\n",
       "    }\n",
       "</style>\n",
       "<table border=\"1\" class=\"dataframe\">\n",
       "  <thead>\n",
       "    <tr style=\"text-align: right;\">\n",
       "      <th></th>\n",
       "      <th>City</th>\n",
       "      <th>Closeness</th>\n",
       "    </tr>\n",
       "  </thead>\n",
       "  <tbody>\n",
       "    <tr>\n",
       "      <th>225</th>\n",
       "      <td>Frankfurt</td>\n",
       "      <td>0.145137</td>\n",
       "    </tr>\n",
       "    <tr>\n",
       "      <th>65</th>\n",
       "      <td>London</td>\n",
       "      <td>0.131604</td>\n",
       "    </tr>\n",
       "    <tr>\n",
       "      <th>9</th>\n",
       "      <td>Paris</td>\n",
       "      <td>0.114955</td>\n",
       "    </tr>\n",
       "    <tr>\n",
       "      <th>111</th>\n",
       "      <td>Rome</td>\n",
       "      <td>0.103805</td>\n",
       "    </tr>\n",
       "    <tr>\n",
       "      <th>140</th>\n",
       "      <td>Madrid</td>\n",
       "      <td>0.098245</td>\n",
       "    </tr>\n",
       "    <tr>\n",
       "      <th>156</th>\n",
       "      <td>Munich</td>\n",
       "      <td>0.089299</td>\n",
       "    </tr>\n",
       "    <tr>\n",
       "      <th>137</th>\n",
       "      <td>Amsterdam</td>\n",
       "      <td>0.079304</td>\n",
       "    </tr>\n",
       "    <tr>\n",
       "      <th>85</th>\n",
       "      <td>Brussels</td>\n",
       "      <td>0.059046</td>\n",
       "    </tr>\n",
       "    <tr>\n",
       "      <th>116</th>\n",
       "      <td>Barcelona</td>\n",
       "      <td>0.055977</td>\n",
       "    </tr>\n",
       "    <tr>\n",
       "      <th>93</th>\n",
       "      <td>Zürich</td>\n",
       "      <td>0.054904</td>\n",
       "    </tr>\n",
       "  </tbody>\n",
       "</table>\n",
       "</div>"
      ],
      "text/plain": [
       "          City  Closeness\n",
       "225  Frankfurt   0.145137\n",
       "65      London   0.131604\n",
       "9        Paris   0.114955\n",
       "111       Rome   0.103805\n",
       "140     Madrid   0.098245\n",
       "156     Munich   0.089299\n",
       "137  Amsterdam   0.079304\n",
       "85    Brussels   0.059046\n",
       "116  Barcelona   0.055977\n",
       "93      Zürich   0.054904"
      ]
     },
     "execution_count": 102,
     "metadata": {},
     "output_type": "execute_result"
    }
   ],
   "source": [
    "closeness = calculate_closeness(trains, flights, \"time45\")\n",
    "closeness.sort_values(\"Closeness\",ascending=False).iloc[:10,:]"
   ],
   "metadata": {
    "collapsed": false
   },
   "id": "1f3857b6b53df24b",
   "execution_count": 102
  },
  {
   "cell_type": "code",
   "outputs": [
    {
     "name": "stdout",
     "output_type": "stream",
     "text": [
      "Index(['route', 'time60'], dtype='object')\n"
     ]
    },
    {
     "data": {
      "text/html": [
       "<div>\n",
       "<style scoped>\n",
       "    .dataframe tbody tr th:only-of-type {\n",
       "        vertical-align: middle;\n",
       "    }\n",
       "\n",
       "    .dataframe tbody tr th {\n",
       "        vertical-align: top;\n",
       "    }\n",
       "\n",
       "    .dataframe thead th {\n",
       "        text-align: right;\n",
       "    }\n",
       "</style>\n",
       "<table border=\"1\" class=\"dataframe\">\n",
       "  <thead>\n",
       "    <tr style=\"text-align: right;\">\n",
       "      <th></th>\n",
       "      <th>City</th>\n",
       "      <th>Closeness</th>\n",
       "    </tr>\n",
       "  </thead>\n",
       "  <tbody>\n",
       "    <tr>\n",
       "      <th>225</th>\n",
       "      <td>Frankfurt</td>\n",
       "      <td>0.145137</td>\n",
       "    </tr>\n",
       "    <tr>\n",
       "      <th>65</th>\n",
       "      <td>London</td>\n",
       "      <td>0.131604</td>\n",
       "    </tr>\n",
       "    <tr>\n",
       "      <th>9</th>\n",
       "      <td>Paris</td>\n",
       "      <td>0.114955</td>\n",
       "    </tr>\n",
       "    <tr>\n",
       "      <th>111</th>\n",
       "      <td>Rome</td>\n",
       "      <td>0.103805</td>\n",
       "    </tr>\n",
       "    <tr>\n",
       "      <th>140</th>\n",
       "      <td>Madrid</td>\n",
       "      <td>0.098245</td>\n",
       "    </tr>\n",
       "    <tr>\n",
       "      <th>156</th>\n",
       "      <td>Munich</td>\n",
       "      <td>0.089299</td>\n",
       "    </tr>\n",
       "    <tr>\n",
       "      <th>137</th>\n",
       "      <td>Amsterdam</td>\n",
       "      <td>0.079304</td>\n",
       "    </tr>\n",
       "    <tr>\n",
       "      <th>85</th>\n",
       "      <td>Brussels</td>\n",
       "      <td>0.059046</td>\n",
       "    </tr>\n",
       "    <tr>\n",
       "      <th>116</th>\n",
       "      <td>Barcelona</td>\n",
       "      <td>0.055977</td>\n",
       "    </tr>\n",
       "    <tr>\n",
       "      <th>93</th>\n",
       "      <td>Zürich</td>\n",
       "      <td>0.054904</td>\n",
       "    </tr>\n",
       "  </tbody>\n",
       "</table>\n",
       "</div>"
      ],
      "text/plain": [
       "          City  Closeness\n",
       "225  Frankfurt   0.145137\n",
       "65      London   0.131604\n",
       "9        Paris   0.114955\n",
       "111       Rome   0.103805\n",
       "140     Madrid   0.098245\n",
       "156     Munich   0.089299\n",
       "137  Amsterdam   0.079304\n",
       "85    Brussels   0.059046\n",
       "116  Barcelona   0.055977\n",
       "93      Zürich   0.054904"
      ]
     },
     "execution_count": 103,
     "metadata": {},
     "output_type": "execute_result"
    }
   ],
   "source": [
    "closeness = calculate_closeness(trains, flights, \"time60\")\n",
    "closeness.sort_values(\"Closeness\",ascending=False).iloc[:10,:]"
   ],
   "metadata": {
    "collapsed": false
   },
   "id": "afb73791521e34b1",
   "execution_count": 103
  },
  {
   "cell_type": "code",
   "outputs": [
    {
     "name": "stdout",
     "output_type": "stream",
     "text": [
      "Index(['route', 'time90'], dtype='object')\n"
     ]
    },
    {
     "data": {
      "text/html": [
       "<div>\n",
       "<style scoped>\n",
       "    .dataframe tbody tr th:only-of-type {\n",
       "        vertical-align: middle;\n",
       "    }\n",
       "\n",
       "    .dataframe tbody tr th {\n",
       "        vertical-align: top;\n",
       "    }\n",
       "\n",
       "    .dataframe thead th {\n",
       "        text-align: right;\n",
       "    }\n",
       "</style>\n",
       "<table border=\"1\" class=\"dataframe\">\n",
       "  <thead>\n",
       "    <tr style=\"text-align: right;\">\n",
       "      <th></th>\n",
       "      <th>City</th>\n",
       "      <th>Closeness</th>\n",
       "    </tr>\n",
       "  </thead>\n",
       "  <tbody>\n",
       "    <tr>\n",
       "      <th>225</th>\n",
       "      <td>Frankfurt</td>\n",
       "      <td>0.145137</td>\n",
       "    </tr>\n",
       "    <tr>\n",
       "      <th>65</th>\n",
       "      <td>London</td>\n",
       "      <td>0.131604</td>\n",
       "    </tr>\n",
       "    <tr>\n",
       "      <th>9</th>\n",
       "      <td>Paris</td>\n",
       "      <td>0.114955</td>\n",
       "    </tr>\n",
       "    <tr>\n",
       "      <th>111</th>\n",
       "      <td>Rome</td>\n",
       "      <td>0.103805</td>\n",
       "    </tr>\n",
       "    <tr>\n",
       "      <th>140</th>\n",
       "      <td>Madrid</td>\n",
       "      <td>0.098245</td>\n",
       "    </tr>\n",
       "    <tr>\n",
       "      <th>156</th>\n",
       "      <td>Munich</td>\n",
       "      <td>0.089299</td>\n",
       "    </tr>\n",
       "    <tr>\n",
       "      <th>137</th>\n",
       "      <td>Amsterdam</td>\n",
       "      <td>0.079304</td>\n",
       "    </tr>\n",
       "    <tr>\n",
       "      <th>85</th>\n",
       "      <td>Brussels</td>\n",
       "      <td>0.059046</td>\n",
       "    </tr>\n",
       "    <tr>\n",
       "      <th>116</th>\n",
       "      <td>Barcelona</td>\n",
       "      <td>0.055977</td>\n",
       "    </tr>\n",
       "    <tr>\n",
       "      <th>93</th>\n",
       "      <td>Zürich</td>\n",
       "      <td>0.054904</td>\n",
       "    </tr>\n",
       "  </tbody>\n",
       "</table>\n",
       "</div>"
      ],
      "text/plain": [
       "          City  Closeness\n",
       "225  Frankfurt   0.145137\n",
       "65      London   0.131604\n",
       "9        Paris   0.114955\n",
       "111       Rome   0.103805\n",
       "140     Madrid   0.098245\n",
       "156     Munich   0.089299\n",
       "137  Amsterdam   0.079304\n",
       "85    Brussels   0.059046\n",
       "116  Barcelona   0.055977\n",
       "93      Zürich   0.054904"
      ]
     },
     "execution_count": 104,
     "metadata": {},
     "output_type": "execute_result"
    }
   ],
   "source": [
    "closeness = calculate_closeness(trains, flights, \"time90\")\n",
    "closeness.sort_values(\"Closeness\",ascending=False).iloc[:10,:]"
   ],
   "metadata": {
    "collapsed": false
   },
   "id": "33096b959f0438be",
   "execution_count": 104
  }
 ],
 "metadata": {
  "kernelspec": {
   "display_name": "Python 3",
   "language": "python",
   "name": "python3"
  },
  "language_info": {
   "codemirror_mode": {
    "name": "ipython",
    "version": 3
   },
   "file_extension": ".py",
   "mimetype": "text/x-python",
   "name": "python",
   "nbconvert_exporter": "python",
   "pygments_lexer": "ipython3",
   "version": "3.10.13"
  }
 },
 "nbformat": 4,
 "nbformat_minor": 5
}
