{
 "cells": [
  {
   "cell_type": "markdown",
   "id": "7ed1711d",
   "metadata": {},
   "source": [
    "Output: airport_cities.csv, flight_times_extended.csv\n",
    "To create: dataset with cities, that are not matched between airport_cities and train_cities"
   ]
  },
  {
   "cell_type": "markdown",
   "id": "3556dc49dec53ec5",
   "metadata": {
    "collapsed": false
   },
   "source": [
    "# Comparing train and plane travel times\n",
    "\n",
    "Import of libraries/flight data"
   ]
  },
  {
   "cell_type": "code",
   "execution_count": 15,
   "id": "35e62a514ab4468",
   "metadata": {
    "collapsed": false,
    "ExecuteTime": {
     "end_time": "2024-01-22T19:45:39.987875Z",
     "start_time": "2024-01-22T19:45:39.764070Z"
    }
   },
   "outputs": [],
   "source": [
    "# # TODO: delete this cell\n",
    "# import os\n",
    "# # set working directory\n",
    "# os.chdir('/Users/emilejohnston/DataspellProjects/DOPP_group18')\n",
    "# # show current working directory\n",
    "# os.getcwd()"
   ]
  },
  {
   "cell_type": "markdown",
   "id": "682189e8168352d5",
   "metadata": {
    "collapsed": false
   },
   "source": []
  },
  {
   "cell_type": "markdown",
   "id": "a3ed0f3478c6550b",
   "metadata": {
    "collapsed": false
   },
   "source": [
    "## Processing of flight data (should be changed to avoid strings of sets)"
   ]
  },
  {
   "cell_type": "code",
   "execution_count": 16,
   "id": "632ddce05182a07d",
   "metadata": {
    "collapsed": false,
    "ExecuteTime": {
     "end_time": "2024-01-22T19:45:40.008252Z",
     "start_time": "2024-01-22T19:45:39.992036Z"
    }
   },
   "outputs": [],
   "source": [
    "import pandas as pd"
   ]
  },
  {
   "cell_type": "code",
   "execution_count": 17,
   "id": "ad211d6708cc439e",
   "metadata": {
    "collapsed": false,
    "ExecuteTime": {
     "end_time": "2024-01-22T19:45:40.057131Z",
     "start_time": "2024-01-22T19:45:40.009289Z"
    }
   },
   "outputs": [
    {
     "data": {
      "text/plain": "      Unnamed: 0           route   time\n0              0  {'AAL', 'AMS'}   85.0\n1              1  {'AAQ', 'LED'}  170.0\n2              2  {'AMS', 'ABZ'}   85.0\n3              3  {'ABZ', 'LGW'}   95.0\n4              4  {'ACE', 'AGP'}  130.0\n...          ...             ...    ...\n1464        1464  {'ZRH', 'OTP'}  150.0\n1465        1465  {'ZRH', 'PRN'}  127.5\n1466        1466  {'ZRH', 'RVN'}  205.0\n1467        1467  {'ZRH', 'STR'}   45.0\n1468        1468  {'ZTH', 'ATH'}   62.5\n\n[1469 rows x 3 columns]",
      "text/html": "<div>\n<style scoped>\n    .dataframe tbody tr th:only-of-type {\n        vertical-align: middle;\n    }\n\n    .dataframe tbody tr th {\n        vertical-align: top;\n    }\n\n    .dataframe thead th {\n        text-align: right;\n    }\n</style>\n<table border=\"1\" class=\"dataframe\">\n  <thead>\n    <tr style=\"text-align: right;\">\n      <th></th>\n      <th>Unnamed: 0</th>\n      <th>route</th>\n      <th>time</th>\n    </tr>\n  </thead>\n  <tbody>\n    <tr>\n      <th>0</th>\n      <td>0</td>\n      <td>{'AAL', 'AMS'}</td>\n      <td>85.0</td>\n    </tr>\n    <tr>\n      <th>1</th>\n      <td>1</td>\n      <td>{'AAQ', 'LED'}</td>\n      <td>170.0</td>\n    </tr>\n    <tr>\n      <th>2</th>\n      <td>2</td>\n      <td>{'AMS', 'ABZ'}</td>\n      <td>85.0</td>\n    </tr>\n    <tr>\n      <th>3</th>\n      <td>3</td>\n      <td>{'ABZ', 'LGW'}</td>\n      <td>95.0</td>\n    </tr>\n    <tr>\n      <th>4</th>\n      <td>4</td>\n      <td>{'ACE', 'AGP'}</td>\n      <td>130.0</td>\n    </tr>\n    <tr>\n      <th>...</th>\n      <td>...</td>\n      <td>...</td>\n      <td>...</td>\n    </tr>\n    <tr>\n      <th>1464</th>\n      <td>1464</td>\n      <td>{'ZRH', 'OTP'}</td>\n      <td>150.0</td>\n    </tr>\n    <tr>\n      <th>1465</th>\n      <td>1465</td>\n      <td>{'ZRH', 'PRN'}</td>\n      <td>127.5</td>\n    </tr>\n    <tr>\n      <th>1466</th>\n      <td>1466</td>\n      <td>{'ZRH', 'RVN'}</td>\n      <td>205.0</td>\n    </tr>\n    <tr>\n      <th>1467</th>\n      <td>1467</td>\n      <td>{'ZRH', 'STR'}</td>\n      <td>45.0</td>\n    </tr>\n    <tr>\n      <th>1468</th>\n      <td>1468</td>\n      <td>{'ZTH', 'ATH'}</td>\n      <td>62.5</td>\n    </tr>\n  </tbody>\n</table>\n<p>1469 rows × 3 columns</p>\n</div>"
     },
     "execution_count": 17,
     "metadata": {},
     "output_type": "execute_result"
    }
   ],
   "source": [
    "flights = pd.read_csv('../datasets/flight_times.csv') # TODO: the way this file is made is not good, the routes are strings of sets, need to change \n",
    "flights"
   ]
  },
  {
   "cell_type": "code",
   "execution_count": 18,
   "id": "380ba37d213b8db8",
   "metadata": {
    "collapsed": false,
    "ExecuteTime": {
     "end_time": "2024-01-22T19:45:40.070702Z",
     "start_time": "2024-01-22T19:45:40.027998Z"
    }
   },
   "outputs": [
    {
     "data": {
      "text/plain": "               route   time\n0     {'AAL', 'AMS'}   85.0\n1     {'AAQ', 'LED'}  170.0\n2     {'AMS', 'ABZ'}   85.0\n3     {'ABZ', 'LGW'}   95.0\n4     {'ACE', 'AGP'}  130.0\n...              ...    ...\n1464  {'ZRH', 'OTP'}  150.0\n1465  {'ZRH', 'PRN'}  127.5\n1466  {'ZRH', 'RVN'}  205.0\n1467  {'ZRH', 'STR'}   45.0\n1468  {'ZTH', 'ATH'}   62.5\n\n[1469 rows x 2 columns]",
      "text/html": "<div>\n<style scoped>\n    .dataframe tbody tr th:only-of-type {\n        vertical-align: middle;\n    }\n\n    .dataframe tbody tr th {\n        vertical-align: top;\n    }\n\n    .dataframe thead th {\n        text-align: right;\n    }\n</style>\n<table border=\"1\" class=\"dataframe\">\n  <thead>\n    <tr style=\"text-align: right;\">\n      <th></th>\n      <th>route</th>\n      <th>time</th>\n    </tr>\n  </thead>\n  <tbody>\n    <tr>\n      <th>0</th>\n      <td>{'AAL', 'AMS'}</td>\n      <td>85.0</td>\n    </tr>\n    <tr>\n      <th>1</th>\n      <td>{'AAQ', 'LED'}</td>\n      <td>170.0</td>\n    </tr>\n    <tr>\n      <th>2</th>\n      <td>{'AMS', 'ABZ'}</td>\n      <td>85.0</td>\n    </tr>\n    <tr>\n      <th>3</th>\n      <td>{'ABZ', 'LGW'}</td>\n      <td>95.0</td>\n    </tr>\n    <tr>\n      <th>4</th>\n      <td>{'ACE', 'AGP'}</td>\n      <td>130.0</td>\n    </tr>\n    <tr>\n      <th>...</th>\n      <td>...</td>\n      <td>...</td>\n    </tr>\n    <tr>\n      <th>1464</th>\n      <td>{'ZRH', 'OTP'}</td>\n      <td>150.0</td>\n    </tr>\n    <tr>\n      <th>1465</th>\n      <td>{'ZRH', 'PRN'}</td>\n      <td>127.5</td>\n    </tr>\n    <tr>\n      <th>1466</th>\n      <td>{'ZRH', 'RVN'}</td>\n      <td>205.0</td>\n    </tr>\n    <tr>\n      <th>1467</th>\n      <td>{'ZRH', 'STR'}</td>\n      <td>45.0</td>\n    </tr>\n    <tr>\n      <th>1468</th>\n      <td>{'ZTH', 'ATH'}</td>\n      <td>62.5</td>\n    </tr>\n  </tbody>\n</table>\n<p>1469 rows × 2 columns</p>\n</div>"
     },
     "execution_count": 18,
     "metadata": {},
     "output_type": "execute_result"
    }
   ],
   "source": [
    "flights.drop(flights.columns[0], axis=1, inplace=True)\n",
    "flights"
   ]
  },
  {
   "cell_type": "code",
   "execution_count": 19,
   "id": "b9fdb607bf3f06e5",
   "metadata": {
    "collapsed": false,
    "ExecuteTime": {
     "end_time": "2024-01-22T19:45:40.182293Z",
     "start_time": "2024-01-22T19:45:40.077026Z"
    }
   },
   "outputs": [
    {
     "data": {
      "text/plain": "               route   time departure airport arrival airport\n0     {'AAL', 'AMS'}   85.0               AAL             AMS\n1     {'AAQ', 'LED'}  170.0               AAQ             LED\n2     {'AMS', 'ABZ'}   85.0               AMS             ABZ\n3     {'ABZ', 'LGW'}   95.0               ABZ             LGW\n4     {'ACE', 'AGP'}  130.0               ACE             AGP\n...              ...    ...               ...             ...\n1464  {'ZRH', 'OTP'}  150.0               ZRH             OTP\n1465  {'ZRH', 'PRN'}  127.5               ZRH             PRN\n1466  {'ZRH', 'RVN'}  205.0               ZRH             RVN\n1467  {'ZRH', 'STR'}   45.0               ZRH             STR\n1468  {'ZTH', 'ATH'}   62.5               ZTH             ATH\n\n[1469 rows x 4 columns]",
      "text/html": "<div>\n<style scoped>\n    .dataframe tbody tr th:only-of-type {\n        vertical-align: middle;\n    }\n\n    .dataframe tbody tr th {\n        vertical-align: top;\n    }\n\n    .dataframe thead th {\n        text-align: right;\n    }\n</style>\n<table border=\"1\" class=\"dataframe\">\n  <thead>\n    <tr style=\"text-align: right;\">\n      <th></th>\n      <th>route</th>\n      <th>time</th>\n      <th>departure airport</th>\n      <th>arrival airport</th>\n    </tr>\n  </thead>\n  <tbody>\n    <tr>\n      <th>0</th>\n      <td>{'AAL', 'AMS'}</td>\n      <td>85.0</td>\n      <td>AAL</td>\n      <td>AMS</td>\n    </tr>\n    <tr>\n      <th>1</th>\n      <td>{'AAQ', 'LED'}</td>\n      <td>170.0</td>\n      <td>AAQ</td>\n      <td>LED</td>\n    </tr>\n    <tr>\n      <th>2</th>\n      <td>{'AMS', 'ABZ'}</td>\n      <td>85.0</td>\n      <td>AMS</td>\n      <td>ABZ</td>\n    </tr>\n    <tr>\n      <th>3</th>\n      <td>{'ABZ', 'LGW'}</td>\n      <td>95.0</td>\n      <td>ABZ</td>\n      <td>LGW</td>\n    </tr>\n    <tr>\n      <th>4</th>\n      <td>{'ACE', 'AGP'}</td>\n      <td>130.0</td>\n      <td>ACE</td>\n      <td>AGP</td>\n    </tr>\n    <tr>\n      <th>...</th>\n      <td>...</td>\n      <td>...</td>\n      <td>...</td>\n      <td>...</td>\n    </tr>\n    <tr>\n      <th>1464</th>\n      <td>{'ZRH', 'OTP'}</td>\n      <td>150.0</td>\n      <td>ZRH</td>\n      <td>OTP</td>\n    </tr>\n    <tr>\n      <th>1465</th>\n      <td>{'ZRH', 'PRN'}</td>\n      <td>127.5</td>\n      <td>ZRH</td>\n      <td>PRN</td>\n    </tr>\n    <tr>\n      <th>1466</th>\n      <td>{'ZRH', 'RVN'}</td>\n      <td>205.0</td>\n      <td>ZRH</td>\n      <td>RVN</td>\n    </tr>\n    <tr>\n      <th>1467</th>\n      <td>{'ZRH', 'STR'}</td>\n      <td>45.0</td>\n      <td>ZRH</td>\n      <td>STR</td>\n    </tr>\n    <tr>\n      <th>1468</th>\n      <td>{'ZTH', 'ATH'}</td>\n      <td>62.5</td>\n      <td>ZTH</td>\n      <td>ATH</td>\n    </tr>\n  </tbody>\n</table>\n<p>1469 rows × 4 columns</p>\n</div>"
     },
     "execution_count": 19,
     "metadata": {},
     "output_type": "execute_result"
    }
   ],
   "source": [
    "flights['departure airport'] = flights['route'].apply(lambda x: x.split(',')[0].strip(\"{'\"))\n",
    "flights['arrival airport'] = flights['route'].apply(lambda x: x.split(',')[1].strip(\" }'\"))\n",
    "flights"
   ]
  },
  {
   "cell_type": "markdown",
   "id": "16cd8bff1ea71928",
   "metadata": {
    "collapsed": false
   },
   "source": [
    "## Import airport codes"
   ]
  },
  {
   "cell_type": "code",
   "execution_count": 20,
   "id": "3edcc758d018dbe1",
   "metadata": {
    "collapsed": false,
    "ExecuteTime": {
     "end_time": "2024-01-22T19:45:40.389331Z",
     "start_time": "2024-01-22T19:45:40.101864Z"
    }
   },
   "outputs": [
    {
     "data": {
      "text/plain": "           id    ident           type                       name  \\\n0        6523      00A       heliport          Total RF Heliport   \n1      323361     00AA  small_airport       Aero B Ranch Airport   \n2        6524     00AK  small_airport               Lowell Field   \n3        6525     00AL  small_airport               Epps Airpark   \n4      506791     00AN  small_airport       Katmai Lodge Airport   \n...       ...      ...            ...                        ...   \n78148   46378  ZZ-0001       heliport            Sealand Helipad   \n78149  307326  ZZ-0002  small_airport  Glorioso Islands Airstrip   \n78150  346788  ZZ-0003  small_airport      Fainting Goat Airport   \n78151  342102     ZZZW         closed     Scandium City Heliport   \n78152  313629     ZZZZ  small_airport     Satsuma Iōjima Airport   \n\n       latitude_deg  longitude_deg  elevation_ft continent iso_country  \\\n0         40.070985     -74.933689          11.0       NaN          US   \n1         38.704022    -101.473911        3435.0       NaN          US   \n2         59.947733    -151.692524         450.0       NaN          US   \n3         34.864799     -86.770302         820.0       NaN          US   \n4         59.093287    -156.456699          80.0       NaN          US   \n...             ...            ...           ...       ...         ...   \n78148     51.894444       1.482500          40.0        EU          GB   \n78149    -11.584278      47.296389          11.0        AF          TF   \n78150     32.110587     -97.356312         690.0       NaN          US   \n78151     69.355287    -138.939310           4.0       NaN          CA   \n78152     30.784722     130.270556         338.0        AS          JP   \n\n      iso_region         municipality scheduled_service gps_code iata_code  \\\n0          US-PA             Bensalem                no     K00A       NaN   \n1          US-KS                Leoti                no     00AA       NaN   \n2          US-AK         Anchor Point                no     00AK       NaN   \n3          US-AL              Harvest                no     00AL       NaN   \n4          US-AK          King Salmon                no     00AN       NaN   \n...          ...                  ...               ...      ...       ...   \n78148     GB-ENG              Sealand                no      NaN       NaN   \n78149     TF-U-A     Grande Glorieuse                no      NaN       NaN   \n78150      US-TX                 Blum                no     87TX       NaN   \n78151      CA-YT  (Old) Scandium City                no      NaN       NaN   \n78152      JP-46              Mishima                no     RJX7       NaN   \n\n      local_code                                          home_link  \\\n0            00A  https://www.penndot.pa.gov/TravelInPA/airports...   \n1           00AA                                                NaN   \n2           00AK                                                NaN   \n3           00AL                                                NaN   \n4           00AN                                                NaN   \n...          ...                                                ...   \n78148        NaN                         http://www.sealandgov.org/   \n78149        NaN                                                NaN   \n78150       87TX                                                NaN   \n78151        NaN                                                NaN   \n78152       RJX7                                                NaN   \n\n                                          wikipedia_link  \\\n0                                                    NaN   \n1                                                    NaN   \n2                                                    NaN   \n3                                                    NaN   \n4                                                    NaN   \n...                                                  ...   \n78148  https://en.wikipedia.org/wiki/Principality_of_...   \n78149                                                NaN   \n78150                                                NaN   \n78151                                                NaN   \n78152  http://wikimapia.org/6705190/Satsuma-Iwo-jima-...   \n\n                    keywords  \n0                        NaN  \n1                        NaN  \n2                        NaN  \n3                        NaN  \n4                        NaN  \n...                      ...  \n78148   Roughs Tower Helipad  \n78149                    NaN  \n78150                    NaN  \n78151  ZZZW, ZZZW, ZYW, YK96  \n78152   SATSUMA,IWOJIMA,RJX7  \n\n[78153 rows x 18 columns]",
      "text/html": "<div>\n<style scoped>\n    .dataframe tbody tr th:only-of-type {\n        vertical-align: middle;\n    }\n\n    .dataframe tbody tr th {\n        vertical-align: top;\n    }\n\n    .dataframe thead th {\n        text-align: right;\n    }\n</style>\n<table border=\"1\" class=\"dataframe\">\n  <thead>\n    <tr style=\"text-align: right;\">\n      <th></th>\n      <th>id</th>\n      <th>ident</th>\n      <th>type</th>\n      <th>name</th>\n      <th>latitude_deg</th>\n      <th>longitude_deg</th>\n      <th>elevation_ft</th>\n      <th>continent</th>\n      <th>iso_country</th>\n      <th>iso_region</th>\n      <th>municipality</th>\n      <th>scheduled_service</th>\n      <th>gps_code</th>\n      <th>iata_code</th>\n      <th>local_code</th>\n      <th>home_link</th>\n      <th>wikipedia_link</th>\n      <th>keywords</th>\n    </tr>\n  </thead>\n  <tbody>\n    <tr>\n      <th>0</th>\n      <td>6523</td>\n      <td>00A</td>\n      <td>heliport</td>\n      <td>Total RF Heliport</td>\n      <td>40.070985</td>\n      <td>-74.933689</td>\n      <td>11.0</td>\n      <td>NaN</td>\n      <td>US</td>\n      <td>US-PA</td>\n      <td>Bensalem</td>\n      <td>no</td>\n      <td>K00A</td>\n      <td>NaN</td>\n      <td>00A</td>\n      <td>https://www.penndot.pa.gov/TravelInPA/airports...</td>\n      <td>NaN</td>\n      <td>NaN</td>\n    </tr>\n    <tr>\n      <th>1</th>\n      <td>323361</td>\n      <td>00AA</td>\n      <td>small_airport</td>\n      <td>Aero B Ranch Airport</td>\n      <td>38.704022</td>\n      <td>-101.473911</td>\n      <td>3435.0</td>\n      <td>NaN</td>\n      <td>US</td>\n      <td>US-KS</td>\n      <td>Leoti</td>\n      <td>no</td>\n      <td>00AA</td>\n      <td>NaN</td>\n      <td>00AA</td>\n      <td>NaN</td>\n      <td>NaN</td>\n      <td>NaN</td>\n    </tr>\n    <tr>\n      <th>2</th>\n      <td>6524</td>\n      <td>00AK</td>\n      <td>small_airport</td>\n      <td>Lowell Field</td>\n      <td>59.947733</td>\n      <td>-151.692524</td>\n      <td>450.0</td>\n      <td>NaN</td>\n      <td>US</td>\n      <td>US-AK</td>\n      <td>Anchor Point</td>\n      <td>no</td>\n      <td>00AK</td>\n      <td>NaN</td>\n      <td>00AK</td>\n      <td>NaN</td>\n      <td>NaN</td>\n      <td>NaN</td>\n    </tr>\n    <tr>\n      <th>3</th>\n      <td>6525</td>\n      <td>00AL</td>\n      <td>small_airport</td>\n      <td>Epps Airpark</td>\n      <td>34.864799</td>\n      <td>-86.770302</td>\n      <td>820.0</td>\n      <td>NaN</td>\n      <td>US</td>\n      <td>US-AL</td>\n      <td>Harvest</td>\n      <td>no</td>\n      <td>00AL</td>\n      <td>NaN</td>\n      <td>00AL</td>\n      <td>NaN</td>\n      <td>NaN</td>\n      <td>NaN</td>\n    </tr>\n    <tr>\n      <th>4</th>\n      <td>506791</td>\n      <td>00AN</td>\n      <td>small_airport</td>\n      <td>Katmai Lodge Airport</td>\n      <td>59.093287</td>\n      <td>-156.456699</td>\n      <td>80.0</td>\n      <td>NaN</td>\n      <td>US</td>\n      <td>US-AK</td>\n      <td>King Salmon</td>\n      <td>no</td>\n      <td>00AN</td>\n      <td>NaN</td>\n      <td>00AN</td>\n      <td>NaN</td>\n      <td>NaN</td>\n      <td>NaN</td>\n    </tr>\n    <tr>\n      <th>...</th>\n      <td>...</td>\n      <td>...</td>\n      <td>...</td>\n      <td>...</td>\n      <td>...</td>\n      <td>...</td>\n      <td>...</td>\n      <td>...</td>\n      <td>...</td>\n      <td>...</td>\n      <td>...</td>\n      <td>...</td>\n      <td>...</td>\n      <td>...</td>\n      <td>...</td>\n      <td>...</td>\n      <td>...</td>\n      <td>...</td>\n    </tr>\n    <tr>\n      <th>78148</th>\n      <td>46378</td>\n      <td>ZZ-0001</td>\n      <td>heliport</td>\n      <td>Sealand Helipad</td>\n      <td>51.894444</td>\n      <td>1.482500</td>\n      <td>40.0</td>\n      <td>EU</td>\n      <td>GB</td>\n      <td>GB-ENG</td>\n      <td>Sealand</td>\n      <td>no</td>\n      <td>NaN</td>\n      <td>NaN</td>\n      <td>NaN</td>\n      <td>http://www.sealandgov.org/</td>\n      <td>https://en.wikipedia.org/wiki/Principality_of_...</td>\n      <td>Roughs Tower Helipad</td>\n    </tr>\n    <tr>\n      <th>78149</th>\n      <td>307326</td>\n      <td>ZZ-0002</td>\n      <td>small_airport</td>\n      <td>Glorioso Islands Airstrip</td>\n      <td>-11.584278</td>\n      <td>47.296389</td>\n      <td>11.0</td>\n      <td>AF</td>\n      <td>TF</td>\n      <td>TF-U-A</td>\n      <td>Grande Glorieuse</td>\n      <td>no</td>\n      <td>NaN</td>\n      <td>NaN</td>\n      <td>NaN</td>\n      <td>NaN</td>\n      <td>NaN</td>\n      <td>NaN</td>\n    </tr>\n    <tr>\n      <th>78150</th>\n      <td>346788</td>\n      <td>ZZ-0003</td>\n      <td>small_airport</td>\n      <td>Fainting Goat Airport</td>\n      <td>32.110587</td>\n      <td>-97.356312</td>\n      <td>690.0</td>\n      <td>NaN</td>\n      <td>US</td>\n      <td>US-TX</td>\n      <td>Blum</td>\n      <td>no</td>\n      <td>87TX</td>\n      <td>NaN</td>\n      <td>87TX</td>\n      <td>NaN</td>\n      <td>NaN</td>\n      <td>NaN</td>\n    </tr>\n    <tr>\n      <th>78151</th>\n      <td>342102</td>\n      <td>ZZZW</td>\n      <td>closed</td>\n      <td>Scandium City Heliport</td>\n      <td>69.355287</td>\n      <td>-138.939310</td>\n      <td>4.0</td>\n      <td>NaN</td>\n      <td>CA</td>\n      <td>CA-YT</td>\n      <td>(Old) Scandium City</td>\n      <td>no</td>\n      <td>NaN</td>\n      <td>NaN</td>\n      <td>NaN</td>\n      <td>NaN</td>\n      <td>NaN</td>\n      <td>ZZZW, ZZZW, ZYW, YK96</td>\n    </tr>\n    <tr>\n      <th>78152</th>\n      <td>313629</td>\n      <td>ZZZZ</td>\n      <td>small_airport</td>\n      <td>Satsuma Iōjima Airport</td>\n      <td>30.784722</td>\n      <td>130.270556</td>\n      <td>338.0</td>\n      <td>AS</td>\n      <td>JP</td>\n      <td>JP-46</td>\n      <td>Mishima</td>\n      <td>no</td>\n      <td>RJX7</td>\n      <td>NaN</td>\n      <td>RJX7</td>\n      <td>NaN</td>\n      <td>http://wikimapia.org/6705190/Satsuma-Iwo-jima-...</td>\n      <td>SATSUMA,IWOJIMA,RJX7</td>\n    </tr>\n  </tbody>\n</table>\n<p>78153 rows × 18 columns</p>\n</div>"
     },
     "execution_count": 20,
     "metadata": {},
     "output_type": "execute_result"
    }
   ],
   "source": [
    "# new dataset, which is the same but without the encoding error:\n",
    "airports = pd.read_csv('../datasets/fixed-airports-codes.csv')\n",
    "airports"
   ]
  },
  {
   "cell_type": "code",
   "execution_count": 21,
   "id": "a60bd43312a1859a",
   "metadata": {
    "collapsed": false,
    "ExecuteTime": {
     "end_time": "2024-01-22T19:45:40.412778Z",
     "start_time": "2024-01-22T19:45:40.314284Z"
    }
   },
   "outputs": [],
   "source": [
    "# airports = pd.read_csv('./datasets/airport-codes.csv')\n",
    "# airports"
   ]
  },
  {
   "cell_type": "code",
   "execution_count": 22,
   "id": "49860ddb61aa7de2",
   "metadata": {
    "collapsed": false,
    "ExecuteTime": {
     "end_time": "2024-01-22T19:45:40.437591Z",
     "start_time": "2024-01-22T19:45:40.345349Z"
    }
   },
   "outputs": [
    {
     "data": {
      "text/plain": "      iata_code         municipality\n0           NaN             Bensalem\n1           NaN                Leoti\n2           NaN         Anchor Point\n3           NaN              Harvest\n4           NaN          King Salmon\n...         ...                  ...\n78148       NaN              Sealand\n78149       NaN     Grande Glorieuse\n78150       NaN                 Blum\n78151       NaN  (Old) Scandium City\n78152       NaN              Mishima\n\n[78153 rows x 2 columns]",
      "text/html": "<div>\n<style scoped>\n    .dataframe tbody tr th:only-of-type {\n        vertical-align: middle;\n    }\n\n    .dataframe tbody tr th {\n        vertical-align: top;\n    }\n\n    .dataframe thead th {\n        text-align: right;\n    }\n</style>\n<table border=\"1\" class=\"dataframe\">\n  <thead>\n    <tr style=\"text-align: right;\">\n      <th></th>\n      <th>iata_code</th>\n      <th>municipality</th>\n    </tr>\n  </thead>\n  <tbody>\n    <tr>\n      <th>0</th>\n      <td>NaN</td>\n      <td>Bensalem</td>\n    </tr>\n    <tr>\n      <th>1</th>\n      <td>NaN</td>\n      <td>Leoti</td>\n    </tr>\n    <tr>\n      <th>2</th>\n      <td>NaN</td>\n      <td>Anchor Point</td>\n    </tr>\n    <tr>\n      <th>3</th>\n      <td>NaN</td>\n      <td>Harvest</td>\n    </tr>\n    <tr>\n      <th>4</th>\n      <td>NaN</td>\n      <td>King Salmon</td>\n    </tr>\n    <tr>\n      <th>...</th>\n      <td>...</td>\n      <td>...</td>\n    </tr>\n    <tr>\n      <th>78148</th>\n      <td>NaN</td>\n      <td>Sealand</td>\n    </tr>\n    <tr>\n      <th>78149</th>\n      <td>NaN</td>\n      <td>Grande Glorieuse</td>\n    </tr>\n    <tr>\n      <th>78150</th>\n      <td>NaN</td>\n      <td>Blum</td>\n    </tr>\n    <tr>\n      <th>78151</th>\n      <td>NaN</td>\n      <td>(Old) Scandium City</td>\n    </tr>\n    <tr>\n      <th>78152</th>\n      <td>NaN</td>\n      <td>Mishima</td>\n    </tr>\n  </tbody>\n</table>\n<p>78153 rows × 2 columns</p>\n</div>"
     },
     "execution_count": 22,
     "metadata": {},
     "output_type": "execute_result"
    }
   ],
   "source": [
    "cities = airports[['iata_code', 'municipality']]\n",
    "cities"
   ]
  },
  {
   "cell_type": "markdown",
   "id": "a253d3e6181bc328",
   "metadata": {
    "collapsed": false
   },
   "source": [
    "## Merging flights with airport names"
   ]
  },
  {
   "cell_type": "code",
   "execution_count": 23,
   "id": "5868dab6458a6101",
   "metadata": {
    "collapsed": false,
    "ExecuteTime": {
     "end_time": "2024-01-22T19:45:40.528637Z",
     "start_time": "2024-01-22T19:45:40.443502Z"
    }
   },
   "outputs": [
    {
     "data": {
      "text/plain": "               route   time departure airport arrival airport  departure city  \\\n0     {'AAL', 'AMS'}   85.0               AAL             AMS         Aalborg   \n1     {'AAQ', 'LED'}  170.0               AAQ             LED  Krasnyi Kurgan   \n2     {'AMS', 'ABZ'}   85.0               AMS             ABZ       Amsterdam   \n3     {'ABZ', 'LGW'}   95.0               ABZ             LGW        Aberdeen   \n4     {'ACE', 'AGP'}  130.0               ACE             AGP   San Bartolomé   \n...              ...    ...               ...             ...             ...   \n1464  {'ZRH', 'OTP'}  150.0               ZRH             OTP          Zurich   \n1465  {'ZRH', 'PRN'}  127.5               ZRH             PRN          Zurich   \n1466  {'ZRH', 'RVN'}  205.0               ZRH             RVN          Zurich   \n1467  {'ZRH', 'STR'}   45.0               ZRH             STR          Zurich   \n1468  {'ZTH', 'ATH'}   62.5               ZTH             ATH       Zakynthos   \n\n         arrival city  \n0           Amsterdam  \n1      St. Petersburg  \n2            Aberdeen  \n3     Gatwick, Surrey  \n4              Málaga  \n...               ...  \n1464          Otopeni  \n1465        Prishtina  \n1466        Rovaniemi  \n1467        Stuttgart  \n1468   Spata-Artemida  \n\n[1469 rows x 6 columns]",
      "text/html": "<div>\n<style scoped>\n    .dataframe tbody tr th:only-of-type {\n        vertical-align: middle;\n    }\n\n    .dataframe tbody tr th {\n        vertical-align: top;\n    }\n\n    .dataframe thead th {\n        text-align: right;\n    }\n</style>\n<table border=\"1\" class=\"dataframe\">\n  <thead>\n    <tr style=\"text-align: right;\">\n      <th></th>\n      <th>route</th>\n      <th>time</th>\n      <th>departure airport</th>\n      <th>arrival airport</th>\n      <th>departure city</th>\n      <th>arrival city</th>\n    </tr>\n  </thead>\n  <tbody>\n    <tr>\n      <th>0</th>\n      <td>{'AAL', 'AMS'}</td>\n      <td>85.0</td>\n      <td>AAL</td>\n      <td>AMS</td>\n      <td>Aalborg</td>\n      <td>Amsterdam</td>\n    </tr>\n    <tr>\n      <th>1</th>\n      <td>{'AAQ', 'LED'}</td>\n      <td>170.0</td>\n      <td>AAQ</td>\n      <td>LED</td>\n      <td>Krasnyi Kurgan</td>\n      <td>St. Petersburg</td>\n    </tr>\n    <tr>\n      <th>2</th>\n      <td>{'AMS', 'ABZ'}</td>\n      <td>85.0</td>\n      <td>AMS</td>\n      <td>ABZ</td>\n      <td>Amsterdam</td>\n      <td>Aberdeen</td>\n    </tr>\n    <tr>\n      <th>3</th>\n      <td>{'ABZ', 'LGW'}</td>\n      <td>95.0</td>\n      <td>ABZ</td>\n      <td>LGW</td>\n      <td>Aberdeen</td>\n      <td>Gatwick, Surrey</td>\n    </tr>\n    <tr>\n      <th>4</th>\n      <td>{'ACE', 'AGP'}</td>\n      <td>130.0</td>\n      <td>ACE</td>\n      <td>AGP</td>\n      <td>San Bartolomé</td>\n      <td>Málaga</td>\n    </tr>\n    <tr>\n      <th>...</th>\n      <td>...</td>\n      <td>...</td>\n      <td>...</td>\n      <td>...</td>\n      <td>...</td>\n      <td>...</td>\n    </tr>\n    <tr>\n      <th>1464</th>\n      <td>{'ZRH', 'OTP'}</td>\n      <td>150.0</td>\n      <td>ZRH</td>\n      <td>OTP</td>\n      <td>Zurich</td>\n      <td>Otopeni</td>\n    </tr>\n    <tr>\n      <th>1465</th>\n      <td>{'ZRH', 'PRN'}</td>\n      <td>127.5</td>\n      <td>ZRH</td>\n      <td>PRN</td>\n      <td>Zurich</td>\n      <td>Prishtina</td>\n    </tr>\n    <tr>\n      <th>1466</th>\n      <td>{'ZRH', 'RVN'}</td>\n      <td>205.0</td>\n      <td>ZRH</td>\n      <td>RVN</td>\n      <td>Zurich</td>\n      <td>Rovaniemi</td>\n    </tr>\n    <tr>\n      <th>1467</th>\n      <td>{'ZRH', 'STR'}</td>\n      <td>45.0</td>\n      <td>ZRH</td>\n      <td>STR</td>\n      <td>Zurich</td>\n      <td>Stuttgart</td>\n    </tr>\n    <tr>\n      <th>1468</th>\n      <td>{'ZTH', 'ATH'}</td>\n      <td>62.5</td>\n      <td>ZTH</td>\n      <td>ATH</td>\n      <td>Zakynthos</td>\n      <td>Spata-Artemida</td>\n    </tr>\n  </tbody>\n</table>\n<p>1469 rows × 6 columns</p>\n</div>"
     },
     "execution_count": 23,
     "metadata": {},
     "output_type": "execute_result"
    }
   ],
   "source": [
    "# add departure city names\n",
    "flights = pd.merge(flights, cities, left_on='departure airport', right_on='iata_code', how='left')\n",
    "# remove the redundant column\n",
    "flights.drop('iata_code', axis=1, inplace=True)\n",
    "# rename the column\n",
    "flights.rename(columns={'municipality': 'departure city'}, inplace=True)\n",
    "# add arrival city names\n",
    "flights = pd.merge(flights, cities, left_on='arrival airport', right_on='iata_code', how='left')\n",
    "# remove the redundant column\n",
    "flights.drop('iata_code', axis=1, inplace=True)\n",
    "# rename the column\n",
    "flights.rename(columns={'municipality': 'arrival city'}, inplace=True)\n",
    "flights"
   ]
  },
  {
   "cell_type": "markdown",
   "id": "4c7417e8a924ed3d",
   "metadata": {
    "collapsed": false
   },
   "source": [
    "Does the 'municipality' variable refer to the actual administrative division that the airport is located in, or the big city it's next to? Let's check."
   ]
  },
  {
   "cell_type": "code",
   "execution_count": 24,
   "id": "5c478e773e03a42e",
   "metadata": {
    "collapsed": false,
    "ExecuteTime": {
     "end_time": "2024-01-22T19:45:40.633708Z",
     "start_time": "2024-01-22T19:45:40.515894Z"
    }
   },
   "outputs": [
    {
     "data": {
      "text/plain": "               route   time departure airport arrival airport departure city  \\\n698   {'LHR', 'ABZ'}   95.0               LHR             ABZ         London   \n699   {'LHR', 'AGP'}  185.0               LHR             AGP         London   \n700   {'LHR', 'AMS'}   85.0               LHR             AMS         London   \n701   {'LHR', 'ARN'}  160.0               LHR             ARN         London   \n702   {'LHR', 'ATH'}  245.0               LHR             ATH         London   \n...              ...    ...               ...             ...            ...   \n1201  {'STN', 'VRN'}  122.5               STN             VRN         London   \n1202  {'STN', 'WMI'}  135.0               STN             WMI         London   \n1203  {'STN', 'WRO'}  125.0               STN             WRO         London   \n1204  {'STN', 'ZAG'}  135.0               STN             ZAG         London   \n1205  {'STN', 'ZAZ'}  132.5               STN             ZAZ         London   \n\n        arrival city  \n698         Aberdeen  \n699           Málaga  \n700        Amsterdam  \n701        Stockholm  \n702   Spata-Artemida  \n...              ...  \n1201    Caselle (VR)  \n1202          Warsaw  \n1203         Wrocław  \n1204          Zagreb  \n1205        Zaragoza  \n\n[93 rows x 6 columns]",
      "text/html": "<div>\n<style scoped>\n    .dataframe tbody tr th:only-of-type {\n        vertical-align: middle;\n    }\n\n    .dataframe tbody tr th {\n        vertical-align: top;\n    }\n\n    .dataframe thead th {\n        text-align: right;\n    }\n</style>\n<table border=\"1\" class=\"dataframe\">\n  <thead>\n    <tr style=\"text-align: right;\">\n      <th></th>\n      <th>route</th>\n      <th>time</th>\n      <th>departure airport</th>\n      <th>arrival airport</th>\n      <th>departure city</th>\n      <th>arrival city</th>\n    </tr>\n  </thead>\n  <tbody>\n    <tr>\n      <th>698</th>\n      <td>{'LHR', 'ABZ'}</td>\n      <td>95.0</td>\n      <td>LHR</td>\n      <td>ABZ</td>\n      <td>London</td>\n      <td>Aberdeen</td>\n    </tr>\n    <tr>\n      <th>699</th>\n      <td>{'LHR', 'AGP'}</td>\n      <td>185.0</td>\n      <td>LHR</td>\n      <td>AGP</td>\n      <td>London</td>\n      <td>Málaga</td>\n    </tr>\n    <tr>\n      <th>700</th>\n      <td>{'LHR', 'AMS'}</td>\n      <td>85.0</td>\n      <td>LHR</td>\n      <td>AMS</td>\n      <td>London</td>\n      <td>Amsterdam</td>\n    </tr>\n    <tr>\n      <th>701</th>\n      <td>{'LHR', 'ARN'}</td>\n      <td>160.0</td>\n      <td>LHR</td>\n      <td>ARN</td>\n      <td>London</td>\n      <td>Stockholm</td>\n    </tr>\n    <tr>\n      <th>702</th>\n      <td>{'LHR', 'ATH'}</td>\n      <td>245.0</td>\n      <td>LHR</td>\n      <td>ATH</td>\n      <td>London</td>\n      <td>Spata-Artemida</td>\n    </tr>\n    <tr>\n      <th>...</th>\n      <td>...</td>\n      <td>...</td>\n      <td>...</td>\n      <td>...</td>\n      <td>...</td>\n      <td>...</td>\n    </tr>\n    <tr>\n      <th>1201</th>\n      <td>{'STN', 'VRN'}</td>\n      <td>122.5</td>\n      <td>STN</td>\n      <td>VRN</td>\n      <td>London</td>\n      <td>Caselle (VR)</td>\n    </tr>\n    <tr>\n      <th>1202</th>\n      <td>{'STN', 'WMI'}</td>\n      <td>135.0</td>\n      <td>STN</td>\n      <td>WMI</td>\n      <td>London</td>\n      <td>Warsaw</td>\n    </tr>\n    <tr>\n      <th>1203</th>\n      <td>{'STN', 'WRO'}</td>\n      <td>125.0</td>\n      <td>STN</td>\n      <td>WRO</td>\n      <td>London</td>\n      <td>Wrocław</td>\n    </tr>\n    <tr>\n      <th>1204</th>\n      <td>{'STN', 'ZAG'}</td>\n      <td>135.0</td>\n      <td>STN</td>\n      <td>ZAG</td>\n      <td>London</td>\n      <td>Zagreb</td>\n    </tr>\n    <tr>\n      <th>1205</th>\n      <td>{'STN', 'ZAZ'}</td>\n      <td>132.5</td>\n      <td>STN</td>\n      <td>ZAZ</td>\n      <td>London</td>\n      <td>Zaragoza</td>\n    </tr>\n  </tbody>\n</table>\n<p>93 rows × 6 columns</p>\n</div>"
     },
     "execution_count": 24,
     "metadata": {},
     "output_type": "execute_result"
    }
   ],
   "source": [
    "flights[flights['departure city'].str.contains('London')]"
   ]
  },
  {
   "cell_type": "markdown",
   "id": "d89c8e3f",
   "metadata": {},
   "source": [
    "## Save extended flight routes (TODO: delete)"
   ]
  },
  {
   "cell_type": "code",
   "execution_count": 25,
   "id": "49376b6f",
   "metadata": {
    "ExecuteTime": {
     "end_time": "2024-01-22T19:45:40.731881Z",
     "start_time": "2024-01-22T19:45:40.635374Z"
    }
   },
   "outputs": [],
   "source": [
    "flights.to_csv(\"../datasets/flight_times_extended.csv\")"
   ]
  },
  {
   "cell_type": "markdown",
   "id": "5e0fd932",
   "metadata": {},
   "source": [
    "Save airport cities we have so far"
   ]
  },
  {
   "cell_type": "markdown",
   "id": "8a7991026f7ceba5",
   "metadata": {
    "collapsed": false
   },
   "source": [
    "## Retrieve airport cities"
   ]
  },
  {
   "cell_type": "code",
   "execution_count": 26,
   "id": "b84c48ff",
   "metadata": {
    "ExecuteTime": {
     "end_time": "2024-01-22T19:45:40.876618Z",
     "start_time": "2024-01-22T19:45:40.709619Z"
    }
   },
   "outputs": [
    {
     "data": {
      "text/plain": "0              Almería\n1           Düsseldorf\n2               Greven\n3            Newcastle\n4             Salzburg\n            ...       \n299    Nizhny Novgorod\n300         Kos Island\n301              Paris\n302             Geneva\n303          Nuremberg\nName: 0, Length: 304, dtype: object"
     },
     "execution_count": 26,
     "metadata": {},
     "output_type": "execute_result"
    }
   ],
   "source": [
    "airport_cites = set(flights[\"departure city\"]) | set(flights[\"arrival city\"])\n",
    "airport_cites = pd.DataFrame(airport_cites)\n",
    "airport_cites.to_csv(\"../datasets/airport_cities.csv\",index=False, header=False)\n",
    "airport_cites[0]"
   ]
  },
  {
   "cell_type": "markdown",
   "id": "a9eea938157307c",
   "metadata": {
    "collapsed": false
   },
   "source": [
    "## Intersection of cities from flight and train data "
   ]
  },
  {
   "cell_type": "markdown",
   "id": "d46d875dbf588f83",
   "metadata": {
    "collapsed": false
   },
   "source": [
    "Now we need to check that the train and plane datasets are using the same city names. We'll do this by checking that the city names in the plane dataset are a subset of the city names in the train dataset.\n",
    "\n",
    "Import of train routes preprocessed in \"Rail transport performance.ipnyb\""
   ]
  },
  {
   "cell_type": "code",
   "execution_count": 27,
   "id": "ce8995f1",
   "metadata": {
    "ExecuteTime": {
     "end_time": "2024-01-22T19:45:40.946785Z",
     "start_time": "2024-01-22T19:45:40.881098Z"
    }
   },
   "outputs": [
    {
     "data": {
      "text/plain": "           city\n0    St. Gallen\n1       Cremona\n2     Gütersloh\n3         Basel\n4      Salzburg\n..          ...\n656   Bruxelles\n657       Parla\n658    Iserlohn\n659   Harrogate\n660    Zaragoza\n\n[661 rows x 1 columns]",
      "text/html": "<div>\n<style scoped>\n    .dataframe tbody tr th:only-of-type {\n        vertical-align: middle;\n    }\n\n    .dataframe tbody tr th {\n        vertical-align: top;\n    }\n\n    .dataframe thead th {\n        text-align: right;\n    }\n</style>\n<table border=\"1\" class=\"dataframe\">\n  <thead>\n    <tr style=\"text-align: right;\">\n      <th></th>\n      <th>city</th>\n    </tr>\n  </thead>\n  <tbody>\n    <tr>\n      <th>0</th>\n      <td>St. Gallen</td>\n    </tr>\n    <tr>\n      <th>1</th>\n      <td>Cremona</td>\n    </tr>\n    <tr>\n      <th>2</th>\n      <td>Gütersloh</td>\n    </tr>\n    <tr>\n      <th>3</th>\n      <td>Basel</td>\n    </tr>\n    <tr>\n      <th>4</th>\n      <td>Salzburg</td>\n    </tr>\n    <tr>\n      <th>...</th>\n      <td>...</td>\n    </tr>\n    <tr>\n      <th>656</th>\n      <td>Bruxelles</td>\n    </tr>\n    <tr>\n      <th>657</th>\n      <td>Parla</td>\n    </tr>\n    <tr>\n      <th>658</th>\n      <td>Iserlohn</td>\n    </tr>\n    <tr>\n      <th>659</th>\n      <td>Harrogate</td>\n    </tr>\n    <tr>\n      <th>660</th>\n      <td>Zaragoza</td>\n    </tr>\n  </tbody>\n</table>\n<p>661 rows × 1 columns</p>\n</div>"
     },
     "execution_count": 27,
     "metadata": {},
     "output_type": "execute_result"
    }
   ],
   "source": [
    "trains  = pd.read_csv('../datasets/train_routes.csv')\n",
    "train_cities = pd.read_csv(\"../datasets/train_cities.csv\")\n",
    "trains = trains.iloc[:,1:]\n",
    "train_cities"
   ]
  },
  {
   "cell_type": "code",
   "execution_count": 28,
   "id": "e927b42b4c119d57",
   "metadata": {
    "collapsed": false,
    "ExecuteTime": {
     "end_time": "2024-01-22T19:45:41.052683Z",
     "start_time": "2024-01-22T19:45:40.930039Z"
    }
   },
   "outputs": [
    {
     "data": {
      "text/plain": "{'Aalborg',\n 'Aarhus',\n 'Aberdeen',\n 'Ajaccio/Napoléon Bonaparte',\n 'Alexandroupolis',\n 'Alghero',\n 'Alicante',\n 'Almería',\n 'Amsterdam',\n 'Ancona',\n 'Andenes',\n 'Archangelsk',\n 'Astrakhan',\n 'Bacău',\n 'Balice',\n 'Banja Luka',\n 'Barcelona',\n 'Bari',\n 'Bastia/Poretta',\n 'Belfast',\n 'Belgrade',\n 'Bergen',\n 'Beslan',\n 'Bilbao',\n 'Billund',\n 'Birmingham',\n 'Bodø',\n 'Bologna',\n 'Bolzano (BZ)',\n 'Bordeaux/Mérignac',\n 'Bournemouth',\n 'Bragança',\n 'Bratislava',\n 'Bremen',\n 'Brindisi',\n 'Bristol',\n 'Brønnøy',\n 'Budapest',\n 'Bugulma',\n 'Burgas',\n 'Bydgoszcz',\n 'Béziers/Vias',\n 'Cagliari',\n 'Calvi/Sainte-Catherine',\n 'Cardiff',\n 'Cascais',\n 'Caselle (VR)',\n 'Caselle Torinese (TO)',\n 'Castellón de la Plana',\n 'Castletown',\n 'Catania',\n 'Charleroi',\n 'Cheboksary',\n 'Chelyabinsk',\n 'Cherepovets',\n 'Chios Island',\n 'Chita',\n 'Chişinău',\n 'Cluj-Napoca',\n 'Copenhagen',\n 'Corvera',\n 'Craiova',\n 'Crete Island',\n 'Crotone',\n 'Culleredo',\n 'Debrecen',\n 'Dortmund',\n 'Dresden',\n 'Dubrave Gornje',\n 'Düsseldorf',\n 'Edinburgh',\n 'Eindhoven',\n 'El Matorral',\n 'Evenes',\n 'Faro',\n 'Feldkirchen bei Graz',\n 'Ferno (VA)',\n 'Figari Sud-Corse',\n 'Firenze',\n 'Florø',\n 'Frankfurt am Main',\n 'Frankfurt am Main (Lautzenhausen)',\n 'Funchal',\n 'Gatwick, Surrey',\n 'Gdańsk',\n 'Gelendzhik',\n 'Geneva',\n 'Genova (GE)',\n 'Gibraltar',\n 'Girona',\n 'Goleniow',\n 'Gothenburg',\n 'Granada',\n 'Greven',\n 'Grozny',\n 'Grâce-Hollogne',\n 'Hadsel',\n 'Hamburg',\n 'Hannover',\n 'Helsinki',\n 'Hondarribia',\n 'Horta',\n 'Iaşi',\n 'Ibiza (Eivissa)',\n 'Ilinden',\n 'Innsbruck',\n 'Inverness',\n 'Ioannina',\n 'Ivalo',\n 'Ivanovo',\n 'Izhevsk',\n 'Jasionka',\n 'Jerez de la Frontera',\n 'Kaliningrad',\n 'Kaluga',\n 'Karmøy',\n 'Kaunas',\n 'Kavala',\n 'Kazan',\n 'Kerkyra (Corfu)',\n 'Kirkenes',\n 'Kirov',\n 'Kittilä',\n 'Kjevik',\n 'Klagenfurt am Wörthersee',\n 'Kos Island',\n 'Košice',\n 'Krasnodar',\n 'Krasnoyarsk',\n 'Krasnyi Kurgan',\n 'Kuopio / Siilinjärvi',\n 'Kuusamo',\n 'Köln (Cologne)',\n 'Lamezia Terme (CZ)',\n 'Leeds',\n 'Leknes',\n 'Lesquin',\n 'Lisbon',\n 'Liverpool',\n 'London',\n 'Lublin',\n 'Luleå',\n 'Luton, Bedfordshire',\n 'Luxembourg',\n 'Lyon',\n 'Maastricht',\n 'Madrid',\n 'Magnitogorsk',\n 'Mahón (Maó)',\n 'Makhachkala',\n 'Malmö',\n 'Manchester',\n 'Marseille',\n 'Melilla',\n 'Memmingen',\n 'Mineralnyye Vody',\n 'Minsk',\n 'Montpellier/Méditerranée',\n 'Moscow',\n 'Mosjøen',\n 'Munich',\n 'Murmansk',\n 'Mykonos',\n 'Mytilene',\n 'Málaga',\n 'Nantes',\n 'Napoli',\n 'Naryan Mar',\n 'Newcastle',\n 'Newquay',\n 'Nice',\n 'Nizhnekamsk',\n 'Nizhny Novgorod',\n 'Niš',\n 'Norwich, Norfolk',\n 'Nottingham',\n 'Novokuznetsk',\n 'Nuremberg',\n 'Nyköping',\n 'Ohrid',\n 'Olbia (SS)',\n 'Olsztyn',\n 'Oradea',\n 'Orenburg',\n 'Orio al Serio (BG)',\n 'Orsk',\n 'Oslo',\n 'Otopeni',\n 'Oulu / Oulunsalo',\n 'Ożarowice',\n 'Paisley, Renfrewshire',\n 'Palanga',\n 'Palermo',\n 'Pamplona',\n 'Paris',\n 'Parma (PR)',\n 'Penza',\n 'Perm',\n 'Perugia',\n 'Pescara',\n 'Petrozavodsk',\n 'Pico Island',\n 'Pisa',\n 'Podgorica',\n 'Ponta Delgada',\n 'Porto',\n 'Poznań',\n 'Prague',\n 'Praia da Vitória',\n 'Prishtina',\n 'Pskov',\n 'Pula',\n 'Radom',\n 'Ranón',\n 'Reggio Calabria',\n 'Rheinmünster',\n 'Rhodes',\n 'Riga',\n 'Rinas',\n 'Rome',\n 'Ronchi dei Legionari (GO)',\n 'Rotterdam',\n 'Rovaniemi',\n 'Sabetta',\n 'Saint Anne',\n 'Saint Helier',\n 'Saint Peter Port',\n 'Saint-Louis',\n 'Saint-Étienne-de-Saint-Geoirs',\n 'Salzburg',\n 'Samara',\n 'Samos Island',\n 'San Bartolomé',\n 'Santander',\n 'Santiago de Compostela',\n 'Santorini Island',\n 'Sarajevo',\n 'Schkeuditz',\n 'Segrate (MI)',\n 'Sevilla',\n 'Sibiu',\n 'Simferopol',\n 'Sochi',\n 'Sofia',\n 'Souda',\n 'Southampton',\n 'Southend-on-Sea, Essex',\n 'Spata-Artemida',\n 'Split',\n 'St. Petersburg',\n 'Sta Cruz de la Palma, La Palma Island',\n 'Stavanger',\n 'Stavropol',\n 'Stockholm',\n 'Stornoway, Western Isles',\n 'Stuttgart',\n 'Suceava',\n 'Svolvær',\n 'Syktyvkar',\n 'Tallinn',\n 'Tampere / Pirkkala',\n 'Tarbes/Lourdes/Pyrénées',\n 'Thessaloniki',\n 'Tillé',\n 'Timişoara',\n 'Tivat',\n 'Torp',\n 'Toulouse/Blagnac',\n 'Tours/Val de Loire (Loire Valley)',\n 'Treviso (TV)',\n 'Tromsø',\n 'Trondheim',\n 'Ufa',\n 'Ulyanovsk',\n 'Umeå',\n 'Vaasa',\n 'Vadsø',\n 'Valencia',\n 'Valletta',\n 'Varna',\n 'Venezia (VE)',\n 'Vienna',\n 'Vigo',\n 'Vila Baleira',\n 'Vila Real',\n 'Vila do Porto',\n 'Vilnius',\n 'Viseu',\n 'Viviers-du-Lac',\n 'Volgograd',\n 'Voronezh',\n 'Vágar',\n 'Warsaw',\n 'Weeze',\n 'Wrocław',\n 'Zagreb',\n 'Zakynthos',\n 'Zaragoza',\n 'Zaventem',\n 'Zgornji Brnik',\n 'Zurich',\n 'Ålesund',\n 'Čilipi',\n 'Łódź'}"
     },
     "execution_count": 28,
     "metadata": {},
     "output_type": "execute_result"
    }
   ],
   "source": [
    "airport_cities_set = set(airport_cites[0])\n",
    "airport_cities_set"
   ]
  },
  {
   "cell_type": "code",
   "execution_count": 29,
   "id": "ee953fdc",
   "metadata": {
    "ExecuteTime": {
     "end_time": "2024-01-22T19:45:41.088998Z",
     "start_time": "2024-01-22T19:45:41.045953Z"
    }
   },
   "outputs": [
    {
     "data": {
      "text/plain": "{\"'s-Hertogenbosch\",\n 'A Coruña',\n 'Aachen',\n 'Aberdeen',\n 'Acerra',\n 'Acireale',\n 'Aix-en-Provence',\n 'Albacete',\n 'Alcalá de Henares',\n 'Aldwick',\n 'Alessandria',\n 'Alicante/Alacant',\n 'Alkmaar',\n 'Almada',\n 'Almelo',\n 'Almere',\n 'Alphen aan den Rijn',\n 'Amersfoort',\n 'Amiens',\n 'Amsterdam',\n 'Ancona',\n 'Angers',\n 'Annecy',\n 'Antibes',\n 'Antwerpen',\n 'Anzio',\n 'Apeldoorn',\n 'Arad',\n 'Arcozelo',\n 'Arezzo',\n 'Arnhem',\n 'Arras',\n 'Ashford',\n 'Assen',\n 'Asti',\n 'Augsburg',\n 'Avellino',\n 'Avignon',\n 'Aylesbury',\n 'Ayr',\n 'Bacău',\n 'Bad Soden am Taunus',\n 'Badajoz',\n 'Bagheria',\n 'Baia Mare',\n 'Bamberg',\n 'Bangor',\n 'Banská Bystrica',\n 'Barcelona',\n 'Bari',\n 'Barletta',\n 'Barnsley',\n 'Barreiro',\n 'Basel',\n 'Basildon',\n 'Basingstoke and Deane',\n 'Bath',\n 'Battipaglia',\n 'Bayonne',\n 'Bayreuth',\n 'Bedford',\n 'Belfast',\n 'Belfort',\n 'Benrath',\n 'Bergamo',\n 'Bergen op Zoom',\n 'Berlin',\n 'Bern',\n 'Besançon',\n 'Beverwijk/Heemskerk',\n 'Białystok',\n 'Biel/Bienne',\n 'Bielefeld',\n 'Bielsko-Biała',\n 'Birmingham',\n 'Bisceglie',\n 'Blackburn with Darwen',\n 'Blackpool',\n 'Blanchardstown',\n 'Blantyre',\n 'Bocholt',\n 'Bologna',\n 'Bolzano',\n 'Bonn',\n 'Borås',\n 'Boulogne-sur-mer',\n 'Bourges',\n 'Bournemouth',\n 'Bracknell',\n 'Braga',\n 'Bratislava',\n 'Braunschweig',\n 'Braşov',\n 'Breda',\n 'Bregenz',\n 'Bremen',\n 'Bremerhaven',\n 'Brescia',\n 'Brest',\n 'Brighton',\n 'Brindisi',\n 'Bristol',\n 'Brno',\n 'Brugge',\n 'Bruxelles',\n 'Brăila',\n 'Bucureşti',\n 'Budapest',\n 'Burgos',\n 'Burnley',\n 'Burton-on-Trent',\n 'Busto Arsizio',\n 'Buzău',\n 'Bydgoszcz',\n 'Béziers',\n 'Caen',\n 'Calais',\n 'Cambridge',\n 'Cannes',\n 'Cannock',\n 'Cardiff',\n 'Carlisle',\n 'Carpi',\n 'Cartagena',\n 'Caserta',\n 'Castelldefels',\n 'Castellón de la Plana/Castelló de la Plana',\n 'Catania',\n 'Cergy-Pontoise',\n 'Chambery',\n 'Charleroi',\n 'Chartres',\n 'Chelmsford',\n 'Cheltenham',\n 'Chemnitz',\n 'Cherbourg',\n 'Chester',\n 'Chełm',\n 'Chomutov',\n 'Ciudad Real',\n 'Coatbridge',\n 'Coimbra',\n 'Colchester',\n 'Collado Villalba',\n 'Colmar',\n 'Como',\n 'Corby',\n 'Cork',\n 'Coslada',\n 'Cottbus',\n 'Coventry',\n 'Crawley',\n 'Creil',\n 'Cremona',\n 'Crewe',\n 'Częstochowa',\n 'Cáceres',\n 'Cádiz',\n 'Córdoba',\n 'Dacorum',\n 'Darlington',\n 'Darmstadt',\n 'Delmenhorst',\n 'Den Haag',\n 'Derby',\n 'Deventer',\n 'Dijon',\n 'Doncaster',\n 'Dordrecht',\n 'Dos Hermanas',\n 'Douai',\n 'Dresden',\n 'Dublin',\n 'Duisburg',\n 'Dundee City',\n 'Dunkerque',\n 'Düren',\n 'Düsseldorf',\n 'East Kilbride',\n 'Eastbourne',\n 'Eastleigh',\n 'Ede',\n 'Edinburgh',\n 'Eindhoven',\n 'El Prat de Llobregat',\n 'Elbląg',\n 'Elche/Elx',\n 'Ellesmere Port',\n 'Enschede',\n 'Erfurt',\n 'Erlangen',\n 'Esslingen am Neckar',\n 'Exeter',\n 'Ełk',\n 'Falkirk',\n 'Ferrara',\n 'Ferrol',\n 'Firenze',\n 'Flensburg',\n 'Foggia',\n 'Forlì',\n 'Frankfurt (Oder)',\n 'Frankfurt am Main',\n 'Freiburg im Breisgau',\n 'Fribourg',\n 'Frimley',\n 'Fréjus',\n 'Fuenlabrada',\n 'Fürth',\n 'Galaţi',\n 'Gallarate',\n 'Gandia',\n 'Gdańsk',\n 'Gdynia',\n 'Gela',\n 'Genova',\n 'Gent',\n 'Genève',\n 'Gera',\n 'Gevelsberg',\n 'Gießen',\n 'Gijón',\n 'Girona',\n 'Giurgiu',\n 'Glasgow',\n 'Gliwice',\n 'Gloucester',\n 'Gniezno',\n 'Gouda',\n 'Granollers',\n 'Gravesham',\n 'Graz',\n 'Great Yarmouth',\n 'Greater Manchester',\n 'Greater Nottingham',\n 'Grenoble',\n 'Greve',\n 'Grimsby',\n 'Groningen',\n 'Grosseto',\n 'Grudziądz',\n 'Gröpelingen',\n 'Guildford',\n 'Gyõr',\n 'Górnośląski Związek Metropolitalny',\n 'Göppingen',\n 'Görlitz',\n 'Göteborg',\n 'Göttingen',\n 'Gütersloh',\n 'Haarlem',\n 'Hagen',\n 'Halifax',\n 'Halle an der Saale',\n 'Halton',\n 'Hamburg',\n 'Hamm',\n 'Hanau',\n 'Haninge',\n 'Hannover',\n 'Harburg',\n 'Harlow',\n 'Harrogate',\n 'Hartlepool',\n 'Hastings',\n 'Havířov',\n 'Heerlen',\n 'Heidelberg',\n 'Heilbronn',\n 'Helmond',\n 'Helsingborg',\n 'Helsinki',\n 'Hengelo',\n 'Hereford',\n 'Herzogenrath',\n 'Hildesheim',\n 'Hilversum',\n 'Hoorn',\n 'Hrabuvka',\n 'Hradec Králové',\n 'Huddersfield',\n 'Huelva',\n 'Hyndburn',\n 'Ingolstadt',\n 'Innsbruck',\n 'Inowrocław',\n 'Ipswich',\n 'Irun',\n 'Iserlohn',\n 'Jelenia Góra',\n 'Jena',\n 'Jerez de la Frontera',\n 'Jyväskylä',\n 'Kaiserslautern',\n 'Kalisz',\n 'Kapellen',\n 'Karlsruhe',\n 'Kassel',\n 'Kasztelanka',\n 'Kecskemét',\n 'Keighley',\n 'Kempten (Allgäu)',\n 'Kettering',\n 'Kidderminster',\n 'Kiel',\n 'Kielce',\n 'Kingston-upon-Hull',\n 'Kladno',\n 'Koblenz',\n 'Konstanz',\n 'Koszalin',\n 'Krefeld',\n 'Köln',\n 'København',\n 'La Louvière',\n 'La Spezia',\n 'Landshut',\n 'Larisa',\n 'Lausanne',\n 'Le Havre',\n 'Le Mans',\n 'Lecce',\n 'Leeds',\n 'Leeuwarden',\n 'Legionowo',\n 'Legnica',\n 'Leicester',\n 'Leiden',\n 'Leipzig',\n 'Lelystad',\n 'Lens',\n 'Les Clayes-sous-Bois',\n 'Leuven',\n 'Leverkusen',\n 'León',\n 'Lille',\n 'Limerick',\n 'Lincoln',\n 'Linköping',\n 'Linz',\n 'Lisboa',\n 'Liverpool',\n 'Livingston',\n 'Livorno',\n 'Liège',\n 'Lleida',\n 'London',\n 'Lorca',\n 'Loughborough',\n 'Lublin',\n 'Ludwigsburg',\n 'Lugano',\n 'Lugo',\n 'Lund',\n 'Luton',\n 'Luxembourg',\n 'Luzern',\n 'Lyon',\n 'Lørenskog',\n 'Lübeck',\n 'Lüdenscheid',\n 'Lüneburg',\n 'Lünen',\n 'Lütten Klein',\n 'Maastricht',\n 'Madrid',\n 'Magdeburg',\n 'Maidenhead',\n 'Maidstone',\n 'Mainz',\n 'Majadahonda',\n 'Malmö',\n 'Manfredonia',\n 'Mannheim/Ludwigshafen',\n 'Manresa',\n 'Mansfield',\n 'Mantes en Yvelines',\n 'Maribor',\n 'Marl',\n 'Marseille',\n 'Martigues',\n 'Martin',\n 'Maurepas',\n 'Meaux',\n 'Mechelen',\n 'Medway',\n 'Melun',\n 'Messina',\n 'Mestre',\n 'Metz',\n 'Milano',\n 'Milton Keynes',\n 'Modena',\n 'Moers',\n 'Molfetta',\n 'Monaco',\n 'Montpellier',\n 'Most',\n 'Motherwell',\n 'Mulhouse',\n 'Murcia',\n 'Mysłowice',\n 'Málaga',\n 'Mérida',\n 'Mönchengladbach',\n 'München',\n 'Münster',\n 'Namur',\n 'Nancy',\n 'Nantes',\n 'Napoli',\n 'Neumünster',\n 'Neuss',\n 'Newcastle-under-Lyme',\n 'Newport',\n 'Nice',\n 'Nijmegen',\n 'Nimes',\n 'Nitra',\n 'Norrköping',\n 'Northampton',\n 'Norwich',\n 'Novara',\n 'Nuneaton',\n 'Odense',\n 'Oldenburg (Oldenburg)',\n 'Olomouc',\n 'Olsztyn',\n 'Oostende',\n 'Opole',\n 'Orléans',\n 'Oslo',\n 'Osnabrück',\n 'Oss',\n 'Ostrava',\n 'Ostrów Wielkopolski',\n 'Ourense',\n 'Oviedo',\n 'Oxford',\n 'Pabianice',\n 'Paderborn',\n 'Padova',\n 'Palencia',\n 'Palermo',\n 'Pamplona/Iruña',\n 'Pardubice',\n 'Paris',\n 'Parla',\n 'Parma',\n 'Pau',\n 'Pavia',\n 'Perpignan',\n 'Perugia',\n 'Pesaro',\n 'Pescara',\n 'Peterborough',\n 'Pforzheim',\n 'Piacenza',\n 'Piatra Neamţ',\n 'Piotrków Trybunalski',\n 'Pisa',\n 'Piła',\n 'Plauen',\n 'Ploieşti',\n 'Plymouth',\n 'Plzeň',\n 'Poissy',\n 'Poitiers',\n 'Ponferrada',\n 'Pontevedra',\n 'Pordenone',\n 'Porto',\n 'Portsmouth',\n 'Porz',\n 'Potsdam',\n 'Poznań',\n 'Pozuelo de Alarcón',\n 'Pozzuoli',\n 'Praha',\n 'Prato',\n 'Preston',\n 'Przemyśl',\n 'Puerto de Santa María, El',\n 'Purmerend',\n 'Quaregnon',\n 'Radom',\n 'Ragusa',\n 'Ravenna',\n 'Reading',\n 'Redditch',\n 'Redhill',\n 'Regensburg',\n \"Reggio nell'Emilia\",\n 'Reims',\n 'Remscheid',\n 'Rennes',\n 'Reus',\n 'Reutlingen',\n 'Rimini',\n 'Roma',\n 'Roosendaal',\n 'Rosenheim',\n 'Rostock',\n 'Rotherham',\n 'Rotterdam',\n 'Rouen',\n 'Rugby',\n 'Ruhrgebiet',\n 'Ruse',\n 'Rustington',\n 'Rybnik',\n 'Rzeszów',\n 'Rákosliget',\n 'Rüsselsheim am Main',\n 'Saarbrücken',\n 'Sabadell',\n 'Saint-Brieuc',\n 'Saint-Etienne',\n 'Saint-Quentin',\n 'Salamanca',\n 'Salerno',\n 'Salzburg',\n 'San Fernando',\n 'San Sebastián/Donostia',\n 'San Severo',\n 'Sant Boi de Llobregat',\n 'Sant Cugat del Vallès/Rubí',\n 'Santander',\n 'Santiago de Compostela',\n 'Satu Mare',\n 'Savona',\n 'Schweinfurt',\n 'Scunthorpe',\n 'Sefton',\n 'Setúbal',\n 'Sevilla',\n 'Sfântu Gheorghe',\n 'Shrewsbury',\n 'Shumen',\n 'Siedlce',\n 'Sindelfingen',\n 'Siracusa',\n 'Sittard-Geleen',\n 'Slough',\n 'Soest',\n 'Solingen',\n 'Southampton',\n 'Southend-on-Sea',\n 'St Albans',\n 'St. Gallen',\n 'Stafford',\n 'Stargard Szczeciński',\n 'Stevenage',\n 'Stockholm',\n 'Stockton-on-Tees',\n 'Strasbourg',\n 'Stuttgart',\n 'Sutton in Ashfield',\n 'Swansea',\n 'Swindon',\n 'Swords',\n 'Szczecin',\n 'Szolnok',\n 'Szombathely',\n 'Székesfehérvár',\n 'Södertälje',\n 'Słupsk',\n 'Talavera de la Reina',\n 'Tampere',\n 'Tamworth',\n 'Taranto',\n 'Tarragona',\n 'Tatabánya',\n 'Taunton',\n 'Tczew',\n 'Telford',\n 'Terni',\n 'Terrassa',\n 'Thanet',\n 'Thatcham',\n 'Thessaloniki',\n 'Thun',\n 'Thurrock',\n 'Tilburg',\n 'Timişoara',\n 'Toledo',\n 'Torbay',\n 'Torino',\n 'Torrejón de Ardoz',\n 'Torrelavega',\n 'Toruń',\n 'Toulon',\n 'Toulouse',\n 'Tours',\n 'Trani',\n 'Trento',\n 'Treviso',\n 'Trier',\n 'Trieste',\n 'Trnava',\n 'Troyes',\n 'Tunbridge Wells',\n 'Tychy',\n 'Tyneside conurbation',\n 'Tübingen',\n 'Udine',\n 'Ulm/Neu-Ulm',\n 'Uppsala',\n 'Utrecht',\n 'Vaihingen',\n 'Valence',\n 'Valencia',\n 'Valenciennes',\n 'Valladolid',\n 'Varna',\n 'Veenendaal',\n 'Venezia',\n 'Venlo',\n 'Verona',\n 'Verviers',\n 'Vicenza',\n 'Vigo',\n 'Viladecans',\n 'Vilanova i la Geltrú',\n 'Vitoria/Gasteiz',\n 'Vleuten',\n 'Volos',\n 'Västerås',\n 'Wakefield',\n 'Warrington',\n 'Warszawa',\n 'Warwick',\n 'Waveney',\n 'Wałbrzych',\n 'Weston-super-Mare',\n 'Wien',\n 'Wiesbaden',\n 'Wigan',\n 'Winterthur',\n 'Woking',\n 'Worcester',\n 'Worthing',\n 'Wrocław',\n 'Wycombe',\n 'Würzburg',\n 'Włocławek',\n 'York',\n 'Zaragoza',\n 'Zgierz',\n 'Zielona Góra',\n 'Zoetermeer',\n 'Zwolle',\n 'Zürich',\n 'Ávila',\n 'Århus',\n 'Érd',\n 'Örebro',\n 'Ústí nad Labem',\n 'Łódź',\n 'Świdnica',\n 'Žilina'}"
     },
     "execution_count": 29,
     "metadata": {},
     "output_type": "execute_result"
    }
   ],
   "source": [
    "train_cities_set = set(train_cities[\"city\"])\n",
    "train_cities_set"
   ]
  },
  {
   "cell_type": "markdown",
   "id": "44d4c2d9c9b6103f",
   "metadata": {
    "collapsed": false
   },
   "source": [
    "Which cities are in the airport dataset but not the train dataset?"
   ]
  },
  {
   "cell_type": "code",
   "execution_count": 30,
   "id": "2c8c648fa7b7be32",
   "metadata": {
    "collapsed": false,
    "ExecuteTime": {
     "end_time": "2024-01-22T19:45:41.199536Z",
     "start_time": "2024-01-22T19:45:41.074163Z"
    }
   },
   "outputs": [
    {
     "data": {
      "text/plain": "232"
     },
     "execution_count": 30,
     "metadata": {},
     "output_type": "execute_result"
    }
   ],
   "source": [
    "len(airport_cities_set - train_cities_set)"
   ]
  },
  {
   "cell_type": "markdown",
   "id": "c675f608",
   "metadata": {},
   "source": [
    "Names we have in both"
   ]
  },
  {
   "cell_type": "code",
   "execution_count": 31,
   "id": "ff75073e",
   "metadata": {
    "ExecuteTime": {
     "end_time": "2024-01-22T19:45:41.220945Z",
     "start_time": "2024-01-22T19:45:41.182969Z"
    }
   },
   "outputs": [
    {
     "data": {
      "text/plain": "{'Aberdeen',\n 'Amsterdam',\n 'Ancona',\n 'Bacău',\n 'Barcelona',\n 'Bari',\n 'Belfast',\n 'Birmingham',\n 'Bologna',\n 'Bournemouth',\n 'Bratislava',\n 'Bremen',\n 'Brindisi',\n 'Bristol',\n 'Budapest',\n 'Bydgoszcz',\n 'Cardiff',\n 'Catania',\n 'Charleroi',\n 'Dresden',\n 'Düsseldorf',\n 'Edinburgh',\n 'Eindhoven',\n 'Firenze',\n 'Frankfurt am Main',\n 'Gdańsk',\n 'Girona',\n 'Hamburg',\n 'Hannover',\n 'Helsinki',\n 'Innsbruck',\n 'Jerez de la Frontera',\n 'Leeds',\n 'Liverpool',\n 'London',\n 'Lublin',\n 'Luxembourg',\n 'Lyon',\n 'Maastricht',\n 'Madrid',\n 'Malmö',\n 'Marseille',\n 'Málaga',\n 'Nantes',\n 'Napoli',\n 'Nice',\n 'Olsztyn',\n 'Oslo',\n 'Palermo',\n 'Paris',\n 'Perugia',\n 'Pescara',\n 'Pisa',\n 'Porto',\n 'Poznań',\n 'Radom',\n 'Rotterdam',\n 'Salzburg',\n 'Santander',\n 'Santiago de Compostela',\n 'Sevilla',\n 'Southampton',\n 'Stockholm',\n 'Stuttgart',\n 'Thessaloniki',\n 'Timişoara',\n 'Valencia',\n 'Varna',\n 'Vigo',\n 'Wrocław',\n 'Zaragoza',\n 'Łódź'}"
     },
     "execution_count": 31,
     "metadata": {},
     "output_type": "execute_result"
    }
   ],
   "source": [
    "airport_cities_set & train_cities_set"
   ]
  },
  {
   "cell_type": "markdown",
   "id": "6d11f90e",
   "metadata": {},
   "source": [
    "Names in Airports, not in train_stations"
   ]
  },
  {
   "cell_type": "code",
   "execution_count": 32,
   "id": "f2869cf19880f0ed",
   "metadata": {
    "collapsed": false,
    "ExecuteTime": {
     "end_time": "2024-01-22T19:45:41.282251Z",
     "start_time": "2024-01-22T19:45:41.223361Z"
    }
   },
   "outputs": [
    {
     "data": {
      "text/plain": "{\"'s-Hertogenbosch\",\n 'A Coruña',\n 'Aachen',\n 'Acerra',\n 'Acireale',\n 'Aix-en-Provence',\n 'Albacete',\n 'Alcalá de Henares',\n 'Aldwick',\n 'Alessandria',\n 'Alicante/Alacant',\n 'Alkmaar',\n 'Almada',\n 'Almelo',\n 'Almere',\n 'Alphen aan den Rijn',\n 'Amersfoort',\n 'Amiens',\n 'Angers',\n 'Annecy',\n 'Antibes',\n 'Antwerpen',\n 'Anzio',\n 'Apeldoorn',\n 'Arad',\n 'Arcozelo',\n 'Arezzo',\n 'Arnhem',\n 'Arras',\n 'Ashford',\n 'Assen',\n 'Asti',\n 'Augsburg',\n 'Avellino',\n 'Avignon',\n 'Aylesbury',\n 'Ayr',\n 'Bad Soden am Taunus',\n 'Badajoz',\n 'Bagheria',\n 'Baia Mare',\n 'Bamberg',\n 'Bangor',\n 'Banská Bystrica',\n 'Barletta',\n 'Barnsley',\n 'Barreiro',\n 'Basel',\n 'Basildon',\n 'Basingstoke and Deane',\n 'Bath',\n 'Battipaglia',\n 'Bayonne',\n 'Bayreuth',\n 'Bedford',\n 'Belfort',\n 'Benrath',\n 'Bergamo',\n 'Bergen op Zoom',\n 'Berlin',\n 'Bern',\n 'Besançon',\n 'Beverwijk/Heemskerk',\n 'Białystok',\n 'Biel/Bienne',\n 'Bielefeld',\n 'Bielsko-Biała',\n 'Bisceglie',\n 'Blackburn with Darwen',\n 'Blackpool',\n 'Blanchardstown',\n 'Blantyre',\n 'Bocholt',\n 'Bolzano',\n 'Bonn',\n 'Borås',\n 'Boulogne-sur-mer',\n 'Bourges',\n 'Bracknell',\n 'Braga',\n 'Braunschweig',\n 'Braşov',\n 'Breda',\n 'Bregenz',\n 'Bremerhaven',\n 'Brescia',\n 'Brest',\n 'Brighton',\n 'Brno',\n 'Brugge',\n 'Bruxelles',\n 'Brăila',\n 'Bucureşti',\n 'Burgos',\n 'Burnley',\n 'Burton-on-Trent',\n 'Busto Arsizio',\n 'Buzău',\n 'Béziers',\n 'Caen',\n 'Calais',\n 'Cambridge',\n 'Cannes',\n 'Cannock',\n 'Carlisle',\n 'Carpi',\n 'Cartagena',\n 'Caserta',\n 'Castelldefels',\n 'Castellón de la Plana/Castelló de la Plana',\n 'Cergy-Pontoise',\n 'Chambery',\n 'Chartres',\n 'Chelmsford',\n 'Cheltenham',\n 'Chemnitz',\n 'Cherbourg',\n 'Chester',\n 'Chełm',\n 'Chomutov',\n 'Ciudad Real',\n 'Coatbridge',\n 'Coimbra',\n 'Colchester',\n 'Collado Villalba',\n 'Colmar',\n 'Como',\n 'Corby',\n 'Cork',\n 'Coslada',\n 'Cottbus',\n 'Coventry',\n 'Crawley',\n 'Creil',\n 'Cremona',\n 'Crewe',\n 'Częstochowa',\n 'Cáceres',\n 'Cádiz',\n 'Córdoba',\n 'Dacorum',\n 'Darlington',\n 'Darmstadt',\n 'Delmenhorst',\n 'Den Haag',\n 'Derby',\n 'Deventer',\n 'Dijon',\n 'Doncaster',\n 'Dordrecht',\n 'Dos Hermanas',\n 'Douai',\n 'Dublin',\n 'Duisburg',\n 'Dundee City',\n 'Dunkerque',\n 'Düren',\n 'East Kilbride',\n 'Eastbourne',\n 'Eastleigh',\n 'Ede',\n 'El Prat de Llobregat',\n 'Elbląg',\n 'Elche/Elx',\n 'Ellesmere Port',\n 'Enschede',\n 'Erfurt',\n 'Erlangen',\n 'Esslingen am Neckar',\n 'Exeter',\n 'Ełk',\n 'Falkirk',\n 'Ferrara',\n 'Ferrol',\n 'Flensburg',\n 'Foggia',\n 'Forlì',\n 'Frankfurt (Oder)',\n 'Freiburg im Breisgau',\n 'Fribourg',\n 'Frimley',\n 'Fréjus',\n 'Fuenlabrada',\n 'Fürth',\n 'Galaţi',\n 'Gallarate',\n 'Gandia',\n 'Gdynia',\n 'Gela',\n 'Genova',\n 'Gent',\n 'Genève',\n 'Gera',\n 'Gevelsberg',\n 'Gießen',\n 'Gijón',\n 'Giurgiu',\n 'Glasgow',\n 'Gliwice',\n 'Gloucester',\n 'Gniezno',\n 'Gouda',\n 'Granollers',\n 'Gravesham',\n 'Graz',\n 'Great Yarmouth',\n 'Greater Manchester',\n 'Greater Nottingham',\n 'Grenoble',\n 'Greve',\n 'Grimsby',\n 'Groningen',\n 'Grosseto',\n 'Grudziądz',\n 'Gröpelingen',\n 'Guildford',\n 'Gyõr',\n 'Górnośląski Związek Metropolitalny',\n 'Göppingen',\n 'Görlitz',\n 'Göteborg',\n 'Göttingen',\n 'Gütersloh',\n 'Haarlem',\n 'Hagen',\n 'Halifax',\n 'Halle an der Saale',\n 'Halton',\n 'Hamm',\n 'Hanau',\n 'Haninge',\n 'Harburg',\n 'Harlow',\n 'Harrogate',\n 'Hartlepool',\n 'Hastings',\n 'Havířov',\n 'Heerlen',\n 'Heidelberg',\n 'Heilbronn',\n 'Helmond',\n 'Helsingborg',\n 'Hengelo',\n 'Hereford',\n 'Herzogenrath',\n 'Hildesheim',\n 'Hilversum',\n 'Hoorn',\n 'Hrabuvka',\n 'Hradec Králové',\n 'Huddersfield',\n 'Huelva',\n 'Hyndburn',\n 'Ingolstadt',\n 'Inowrocław',\n 'Ipswich',\n 'Irun',\n 'Iserlohn',\n 'Jelenia Góra',\n 'Jena',\n 'Jyväskylä',\n 'Kaiserslautern',\n 'Kalisz',\n 'Kapellen',\n 'Karlsruhe',\n 'Kassel',\n 'Kasztelanka',\n 'Kecskemét',\n 'Keighley',\n 'Kempten (Allgäu)',\n 'Kettering',\n 'Kidderminster',\n 'Kiel',\n 'Kielce',\n 'Kingston-upon-Hull',\n 'Kladno',\n 'Koblenz',\n 'Konstanz',\n 'Koszalin',\n 'Krefeld',\n 'Köln',\n 'København',\n 'La Louvière',\n 'La Spezia',\n 'Landshut',\n 'Larisa',\n 'Lausanne',\n 'Le Havre',\n 'Le Mans',\n 'Lecce',\n 'Leeuwarden',\n 'Legionowo',\n 'Legnica',\n 'Leicester',\n 'Leiden',\n 'Leipzig',\n 'Lelystad',\n 'Lens',\n 'Les Clayes-sous-Bois',\n 'Leuven',\n 'Leverkusen',\n 'León',\n 'Lille',\n 'Limerick',\n 'Lincoln',\n 'Linköping',\n 'Linz',\n 'Lisboa',\n 'Livingston',\n 'Livorno',\n 'Liège',\n 'Lleida',\n 'Lorca',\n 'Loughborough',\n 'Ludwigsburg',\n 'Lugano',\n 'Lugo',\n 'Lund',\n 'Luton',\n 'Luzern',\n 'Lørenskog',\n 'Lübeck',\n 'Lüdenscheid',\n 'Lüneburg',\n 'Lünen',\n 'Lütten Klein',\n 'Magdeburg',\n 'Maidenhead',\n 'Maidstone',\n 'Mainz',\n 'Majadahonda',\n 'Manfredonia',\n 'Mannheim/Ludwigshafen',\n 'Manresa',\n 'Mansfield',\n 'Mantes en Yvelines',\n 'Maribor',\n 'Marl',\n 'Martigues',\n 'Martin',\n 'Maurepas',\n 'Meaux',\n 'Mechelen',\n 'Medway',\n 'Melun',\n 'Messina',\n 'Mestre',\n 'Metz',\n 'Milano',\n 'Milton Keynes',\n 'Modena',\n 'Moers',\n 'Molfetta',\n 'Monaco',\n 'Montpellier',\n 'Most',\n 'Motherwell',\n 'Mulhouse',\n 'Murcia',\n 'Mysłowice',\n 'Mérida',\n 'Mönchengladbach',\n 'München',\n 'Münster',\n 'Namur',\n 'Nancy',\n 'Neumünster',\n 'Neuss',\n 'Newcastle-under-Lyme',\n 'Newport',\n 'Nijmegen',\n 'Nimes',\n 'Nitra',\n 'Norrköping',\n 'Northampton',\n 'Norwich',\n 'Novara',\n 'Nuneaton',\n 'Odense',\n 'Oldenburg (Oldenburg)',\n 'Olomouc',\n 'Oostende',\n 'Opole',\n 'Orléans',\n 'Osnabrück',\n 'Oss',\n 'Ostrava',\n 'Ostrów Wielkopolski',\n 'Ourense',\n 'Oviedo',\n 'Oxford',\n 'Pabianice',\n 'Paderborn',\n 'Padova',\n 'Palencia',\n 'Pamplona/Iruña',\n 'Pardubice',\n 'Parla',\n 'Parma',\n 'Pau',\n 'Pavia',\n 'Perpignan',\n 'Pesaro',\n 'Peterborough',\n 'Pforzheim',\n 'Piacenza',\n 'Piatra Neamţ',\n 'Piotrków Trybunalski',\n 'Piła',\n 'Plauen',\n 'Ploieşti',\n 'Plymouth',\n 'Plzeň',\n 'Poissy',\n 'Poitiers',\n 'Ponferrada',\n 'Pontevedra',\n 'Pordenone',\n 'Portsmouth',\n 'Porz',\n 'Potsdam',\n 'Pozuelo de Alarcón',\n 'Pozzuoli',\n 'Praha',\n 'Prato',\n 'Preston',\n 'Przemyśl',\n 'Puerto de Santa María, El',\n 'Purmerend',\n 'Quaregnon',\n 'Ragusa',\n 'Ravenna',\n 'Reading',\n 'Redditch',\n 'Redhill',\n 'Regensburg',\n \"Reggio nell'Emilia\",\n 'Reims',\n 'Remscheid',\n 'Rennes',\n 'Reus',\n 'Reutlingen',\n 'Rimini',\n 'Roma',\n 'Roosendaal',\n 'Rosenheim',\n 'Rostock',\n 'Rotherham',\n 'Rouen',\n 'Rugby',\n 'Ruhrgebiet',\n 'Ruse',\n 'Rustington',\n 'Rybnik',\n 'Rzeszów',\n 'Rákosliget',\n 'Rüsselsheim am Main',\n 'Saarbrücken',\n 'Sabadell',\n 'Saint-Brieuc',\n 'Saint-Etienne',\n 'Saint-Quentin',\n 'Salamanca',\n 'Salerno',\n 'San Fernando',\n 'San Sebastián/Donostia',\n 'San Severo',\n 'Sant Boi de Llobregat',\n 'Sant Cugat del Vallès/Rubí',\n 'Satu Mare',\n 'Savona',\n 'Schweinfurt',\n 'Scunthorpe',\n 'Sefton',\n 'Setúbal',\n 'Sfântu Gheorghe',\n 'Shrewsbury',\n 'Shumen',\n 'Siedlce',\n 'Sindelfingen',\n 'Siracusa',\n 'Sittard-Geleen',\n 'Slough',\n 'Soest',\n 'Solingen',\n 'Southend-on-Sea',\n 'St Albans',\n 'St. Gallen',\n 'Stafford',\n 'Stargard Szczeciński',\n 'Stevenage',\n 'Stockton-on-Tees',\n 'Strasbourg',\n 'Sutton in Ashfield',\n 'Swansea',\n 'Swindon',\n 'Swords',\n 'Szczecin',\n 'Szolnok',\n 'Szombathely',\n 'Székesfehérvár',\n 'Södertälje',\n 'Słupsk',\n 'Talavera de la Reina',\n 'Tampere',\n 'Tamworth',\n 'Taranto',\n 'Tarragona',\n 'Tatabánya',\n 'Taunton',\n 'Tczew',\n 'Telford',\n 'Terni',\n 'Terrassa',\n 'Thanet',\n 'Thatcham',\n 'Thun',\n 'Thurrock',\n 'Tilburg',\n 'Toledo',\n 'Torbay',\n 'Torino',\n 'Torrejón de Ardoz',\n 'Torrelavega',\n 'Toruń',\n 'Toulon',\n 'Toulouse',\n 'Tours',\n 'Trani',\n 'Trento',\n 'Treviso',\n 'Trier',\n 'Trieste',\n 'Trnava',\n 'Troyes',\n 'Tunbridge Wells',\n 'Tychy',\n 'Tyneside conurbation',\n 'Tübingen',\n 'Udine',\n 'Ulm/Neu-Ulm',\n 'Uppsala',\n 'Utrecht',\n 'Vaihingen',\n 'Valence',\n 'Valenciennes',\n 'Valladolid',\n 'Veenendaal',\n 'Venezia',\n 'Venlo',\n 'Verona',\n 'Verviers',\n 'Vicenza',\n 'Viladecans',\n 'Vilanova i la Geltrú',\n 'Vitoria/Gasteiz',\n 'Vleuten',\n 'Volos',\n 'Västerås',\n 'Wakefield',\n 'Warrington',\n 'Warszawa',\n 'Warwick',\n 'Waveney',\n 'Wałbrzych',\n 'Weston-super-Mare',\n 'Wien',\n 'Wiesbaden',\n 'Wigan',\n 'Winterthur',\n 'Woking',\n 'Worcester',\n 'Worthing',\n 'Wycombe',\n 'Würzburg',\n 'Włocławek',\n 'York',\n 'Zgierz',\n 'Zielona Góra',\n 'Zoetermeer',\n 'Zwolle',\n 'Zürich',\n 'Ávila',\n 'Århus',\n 'Érd',\n 'Örebro',\n 'Ústí nad Labem',\n 'Świdnica',\n 'Žilina'}"
     },
     "execution_count": 32,
     "metadata": {},
     "output_type": "execute_result"
    }
   ],
   "source": [
    "train_cities_set - airport_cities_set"
   ]
  },
  {
   "cell_type": "code",
   "execution_count": 33,
   "id": "b5937a9e6bc2ed53",
   "metadata": {
    "collapsed": false,
    "ExecuteTime": {
     "end_time": "2024-01-22T19:45:41.340343Z",
     "start_time": "2024-01-22T19:45:41.282525Z"
    }
   },
   "outputs": [
    {
     "data": {
      "text/plain": "{'Aalborg',\n 'Aarhus',\n 'Ajaccio/Napoléon Bonaparte',\n 'Alexandroupolis',\n 'Alghero',\n 'Alicante',\n 'Almería',\n 'Andenes',\n 'Archangelsk',\n 'Astrakhan',\n 'Balice',\n 'Banja Luka',\n 'Bastia/Poretta',\n 'Belgrade',\n 'Bergen',\n 'Beslan',\n 'Bilbao',\n 'Billund',\n 'Bodø',\n 'Bolzano (BZ)',\n 'Bordeaux/Mérignac',\n 'Bragança',\n 'Brønnøy',\n 'Bugulma',\n 'Burgas',\n 'Béziers/Vias',\n 'Cagliari',\n 'Calvi/Sainte-Catherine',\n 'Cascais',\n 'Caselle (VR)',\n 'Caselle Torinese (TO)',\n 'Castellón de la Plana',\n 'Castletown',\n 'Cheboksary',\n 'Chelyabinsk',\n 'Cherepovets',\n 'Chios Island',\n 'Chita',\n 'Chişinău',\n 'Cluj-Napoca',\n 'Copenhagen',\n 'Corvera',\n 'Craiova',\n 'Crete Island',\n 'Crotone',\n 'Culleredo',\n 'Debrecen',\n 'Dortmund',\n 'Dubrave Gornje',\n 'El Matorral',\n 'Evenes',\n 'Faro',\n 'Feldkirchen bei Graz',\n 'Ferno (VA)',\n 'Figari Sud-Corse',\n 'Florø',\n 'Frankfurt am Main (Lautzenhausen)',\n 'Funchal',\n 'Gatwick, Surrey',\n 'Gelendzhik',\n 'Geneva',\n 'Genova (GE)',\n 'Gibraltar',\n 'Goleniow',\n 'Gothenburg',\n 'Granada',\n 'Greven',\n 'Grozny',\n 'Grâce-Hollogne',\n 'Hadsel',\n 'Hondarribia',\n 'Horta',\n 'Iaşi',\n 'Ibiza (Eivissa)',\n 'Ilinden',\n 'Inverness',\n 'Ioannina',\n 'Ivalo',\n 'Ivanovo',\n 'Izhevsk',\n 'Jasionka',\n 'Kaliningrad',\n 'Kaluga',\n 'Karmøy',\n 'Kaunas',\n 'Kavala',\n 'Kazan',\n 'Kerkyra (Corfu)',\n 'Kirkenes',\n 'Kirov',\n 'Kittilä',\n 'Kjevik',\n 'Klagenfurt am Wörthersee',\n 'Kos Island',\n 'Košice',\n 'Krasnodar',\n 'Krasnoyarsk',\n 'Krasnyi Kurgan',\n 'Kuopio / Siilinjärvi',\n 'Kuusamo',\n 'Köln (Cologne)',\n 'Lamezia Terme (CZ)',\n 'Leknes',\n 'Lesquin',\n 'Lisbon',\n 'Luleå',\n 'Luton, Bedfordshire',\n 'Magnitogorsk',\n 'Mahón (Maó)',\n 'Makhachkala',\n 'Manchester',\n 'Melilla',\n 'Memmingen',\n 'Mineralnyye Vody',\n 'Minsk',\n 'Montpellier/Méditerranée',\n 'Moscow',\n 'Mosjøen',\n 'Munich',\n 'Murmansk',\n 'Mykonos',\n 'Mytilene',\n 'Naryan Mar',\n 'Newcastle',\n 'Newquay',\n 'Nizhnekamsk',\n 'Nizhny Novgorod',\n 'Niš',\n 'Norwich, Norfolk',\n 'Nottingham',\n 'Novokuznetsk',\n 'Nuremberg',\n 'Nyköping',\n 'Ohrid',\n 'Olbia (SS)',\n 'Oradea',\n 'Orenburg',\n 'Orio al Serio (BG)',\n 'Orsk',\n 'Otopeni',\n 'Oulu / Oulunsalo',\n 'Ożarowice',\n 'Paisley, Renfrewshire',\n 'Palanga',\n 'Pamplona',\n 'Parma (PR)',\n 'Penza',\n 'Perm',\n 'Petrozavodsk',\n 'Pico Island',\n 'Podgorica',\n 'Ponta Delgada',\n 'Prague',\n 'Praia da Vitória',\n 'Prishtina',\n 'Pskov',\n 'Pula',\n 'Ranón',\n 'Reggio Calabria',\n 'Rheinmünster',\n 'Rhodes',\n 'Riga',\n 'Rinas',\n 'Rome',\n 'Ronchi dei Legionari (GO)',\n 'Rovaniemi',\n 'Sabetta',\n 'Saint Anne',\n 'Saint Helier',\n 'Saint Peter Port',\n 'Saint-Louis',\n 'Saint-Étienne-de-Saint-Geoirs',\n 'Samara',\n 'Samos Island',\n 'San Bartolomé',\n 'Santorini Island',\n 'Sarajevo',\n 'Schkeuditz',\n 'Segrate (MI)',\n 'Sibiu',\n 'Simferopol',\n 'Sochi',\n 'Sofia',\n 'Souda',\n 'Southend-on-Sea, Essex',\n 'Spata-Artemida',\n 'Split',\n 'St. Petersburg',\n 'Sta Cruz de la Palma, La Palma Island',\n 'Stavanger',\n 'Stavropol',\n 'Stornoway, Western Isles',\n 'Suceava',\n 'Svolvær',\n 'Syktyvkar',\n 'Tallinn',\n 'Tampere / Pirkkala',\n 'Tarbes/Lourdes/Pyrénées',\n 'Tillé',\n 'Tivat',\n 'Torp',\n 'Toulouse/Blagnac',\n 'Tours/Val de Loire (Loire Valley)',\n 'Treviso (TV)',\n 'Tromsø',\n 'Trondheim',\n 'Ufa',\n 'Ulyanovsk',\n 'Umeå',\n 'Vaasa',\n 'Vadsø',\n 'Valletta',\n 'Venezia (VE)',\n 'Vienna',\n 'Vila Baleira',\n 'Vila Real',\n 'Vila do Porto',\n 'Vilnius',\n 'Viseu',\n 'Viviers-du-Lac',\n 'Volgograd',\n 'Voronezh',\n 'Vágar',\n 'Warsaw',\n 'Weeze',\n 'Zagreb',\n 'Zakynthos',\n 'Zaventem',\n 'Zgornji Brnik',\n 'Zurich',\n 'Ålesund',\n 'Čilipi'}"
     },
     "execution_count": 33,
     "metadata": {},
     "output_type": "execute_result"
    }
   ],
   "source": [
    "airport_cities_set - train_cities_set"
   ]
  },
  {
   "cell_type": "markdown",
   "id": "f2b752213fed6db",
   "metadata": {
    "collapsed": false
   },
   "source": [
    "## Pipeline for matching routes\n",
    "input: a list of cities\n",
    "output: a dataset with routes, train travel times and plane travel times"
   ]
  },
  {
   "cell_type": "markdown",
   "id": "febcd53fa1b1a04e",
   "metadata": {
    "collapsed": false
   },
   "source": [
    "### Intersecting cities"
   ]
  },
  {
   "cell_type": "code",
   "execution_count": 34,
   "id": "75b7bb0b44a373e",
   "metadata": {
    "collapsed": false,
    "ExecuteTime": {
     "end_time": "2024-01-22T19:45:41.358244Z",
     "start_time": "2024-01-22T19:45:41.330221Z"
    }
   },
   "outputs": [
    {
     "name": "stdout",
     "output_type": "stream",
     "text": [
      "Number of cities we are working with: 72\n"
     ]
    },
    {
     "data": {
      "text/plain": "{'Aberdeen',\n 'Amsterdam',\n 'Ancona',\n 'Bacău',\n 'Barcelona',\n 'Bari',\n 'Belfast',\n 'Birmingham',\n 'Bologna',\n 'Bournemouth',\n 'Bratislava',\n 'Bremen',\n 'Brindisi',\n 'Bristol',\n 'Budapest',\n 'Bydgoszcz',\n 'Cardiff',\n 'Catania',\n 'Charleroi',\n 'Dresden',\n 'Düsseldorf',\n 'Edinburgh',\n 'Eindhoven',\n 'Firenze',\n 'Frankfurt am Main',\n 'Gdańsk',\n 'Girona',\n 'Hamburg',\n 'Hannover',\n 'Helsinki',\n 'Innsbruck',\n 'Jerez de la Frontera',\n 'Leeds',\n 'Liverpool',\n 'London',\n 'Lublin',\n 'Luxembourg',\n 'Lyon',\n 'Maastricht',\n 'Madrid',\n 'Malmö',\n 'Marseille',\n 'Málaga',\n 'Nantes',\n 'Napoli',\n 'Nice',\n 'Olsztyn',\n 'Oslo',\n 'Palermo',\n 'Paris',\n 'Perugia',\n 'Pescara',\n 'Pisa',\n 'Porto',\n 'Poznań',\n 'Radom',\n 'Rotterdam',\n 'Salzburg',\n 'Santander',\n 'Santiago de Compostela',\n 'Sevilla',\n 'Southampton',\n 'Stockholm',\n 'Stuttgart',\n 'Thessaloniki',\n 'Timişoara',\n 'Valencia',\n 'Varna',\n 'Vigo',\n 'Wrocław',\n 'Zaragoza',\n 'Łódź'}"
     },
     "execution_count": 34,
     "metadata": {},
     "output_type": "execute_result"
    }
   ],
   "source": [
    "intersecting_cities = airport_cities_set & train_cities_set # TODO: change this variable to integrate more cities\n",
    "print(f'Number of cities we are working with: {len(intersecting_cities)}')\n",
    "intersecting_cities"
   ]
  },
  {
   "cell_type": "markdown",
   "id": "b424d841c2f1a534",
   "metadata": {
    "collapsed": false
   },
   "source": [
    "### Train routes"
   ]
  },
  {
   "cell_type": "code",
   "execution_count": 35,
   "id": "dd12e69ac4a71455",
   "metadata": {
    "collapsed": false,
    "ExecuteTime": {
     "end_time": "2024-01-22T19:45:41.419330Z",
     "start_time": "2024-01-22T19:45:41.360016Z"
    }
   },
   "outputs": [
    {
     "data": {
      "text/plain": "      index      city_1          city_2  time_avg[h]  time_opti[h]  \\\n0         0       Paris       Bruxelles         1.71          1.44   \n1         1       Paris           Lille         1.29          1.00   \n2         2       Paris           Rouen         1.67          1.24   \n3         3       Paris  Cergy-Pontoise         0.17          0.07   \n4         4       Paris           Tours         1.54          0.86   \n...     ...         ...             ...          ...           ...   \n3429   6575       Trani     Manfredonia         3.88          1.13   \n3430   6582   Kettering           Corby         0.83          0.14   \n3431   6584  San Severo       Bisceglie         2.69          1.10   \n3432   6585  San Severo     Manfredonia         4.26          0.85   \n3433   6591   Bisceglie     Manfredonia         3.99          1.27   \n\n      time_opti[min]  time_avg[min]  \n0               86.4          102.6  \n1               60.0           77.4  \n2               74.4          100.2  \n3                4.2           10.2  \n4               51.6           92.4  \n...              ...            ...  \n3429            67.8          232.8  \n3430             8.4           49.8  \n3431            66.0          161.4  \n3432            51.0          255.6  \n3433            76.2          239.4  \n\n[3434 rows x 7 columns]",
      "text/html": "<div>\n<style scoped>\n    .dataframe tbody tr th:only-of-type {\n        vertical-align: middle;\n    }\n\n    .dataframe tbody tr th {\n        vertical-align: top;\n    }\n\n    .dataframe thead th {\n        text-align: right;\n    }\n</style>\n<table border=\"1\" class=\"dataframe\">\n  <thead>\n    <tr style=\"text-align: right;\">\n      <th></th>\n      <th>index</th>\n      <th>city_1</th>\n      <th>city_2</th>\n      <th>time_avg[h]</th>\n      <th>time_opti[h]</th>\n      <th>time_opti[min]</th>\n      <th>time_avg[min]</th>\n    </tr>\n  </thead>\n  <tbody>\n    <tr>\n      <th>0</th>\n      <td>0</td>\n      <td>Paris</td>\n      <td>Bruxelles</td>\n      <td>1.71</td>\n      <td>1.44</td>\n      <td>86.4</td>\n      <td>102.6</td>\n    </tr>\n    <tr>\n      <th>1</th>\n      <td>1</td>\n      <td>Paris</td>\n      <td>Lille</td>\n      <td>1.29</td>\n      <td>1.00</td>\n      <td>60.0</td>\n      <td>77.4</td>\n    </tr>\n    <tr>\n      <th>2</th>\n      <td>2</td>\n      <td>Paris</td>\n      <td>Rouen</td>\n      <td>1.67</td>\n      <td>1.24</td>\n      <td>74.4</td>\n      <td>100.2</td>\n    </tr>\n    <tr>\n      <th>3</th>\n      <td>3</td>\n      <td>Paris</td>\n      <td>Cergy-Pontoise</td>\n      <td>0.17</td>\n      <td>0.07</td>\n      <td>4.2</td>\n      <td>10.2</td>\n    </tr>\n    <tr>\n      <th>4</th>\n      <td>4</td>\n      <td>Paris</td>\n      <td>Tours</td>\n      <td>1.54</td>\n      <td>0.86</td>\n      <td>51.6</td>\n      <td>92.4</td>\n    </tr>\n    <tr>\n      <th>...</th>\n      <td>...</td>\n      <td>...</td>\n      <td>...</td>\n      <td>...</td>\n      <td>...</td>\n      <td>...</td>\n      <td>...</td>\n    </tr>\n    <tr>\n      <th>3429</th>\n      <td>6575</td>\n      <td>Trani</td>\n      <td>Manfredonia</td>\n      <td>3.88</td>\n      <td>1.13</td>\n      <td>67.8</td>\n      <td>232.8</td>\n    </tr>\n    <tr>\n      <th>3430</th>\n      <td>6582</td>\n      <td>Kettering</td>\n      <td>Corby</td>\n      <td>0.83</td>\n      <td>0.14</td>\n      <td>8.4</td>\n      <td>49.8</td>\n    </tr>\n    <tr>\n      <th>3431</th>\n      <td>6584</td>\n      <td>San Severo</td>\n      <td>Bisceglie</td>\n      <td>2.69</td>\n      <td>1.10</td>\n      <td>66.0</td>\n      <td>161.4</td>\n    </tr>\n    <tr>\n      <th>3432</th>\n      <td>6585</td>\n      <td>San Severo</td>\n      <td>Manfredonia</td>\n      <td>4.26</td>\n      <td>0.85</td>\n      <td>51.0</td>\n      <td>255.6</td>\n    </tr>\n    <tr>\n      <th>3433</th>\n      <td>6591</td>\n      <td>Bisceglie</td>\n      <td>Manfredonia</td>\n      <td>3.99</td>\n      <td>1.27</td>\n      <td>76.2</td>\n      <td>239.4</td>\n    </tr>\n  </tbody>\n</table>\n<p>3434 rows × 7 columns</p>\n</div>"
     },
     "execution_count": 35,
     "metadata": {},
     "output_type": "execute_result"
    }
   ],
   "source": [
    "train_routes = pd.read_csv('../datasets/train_routes.csv') # TODO: change how the dataframe is obtained, it should be directly in the notebook and not from a csv file\n",
    "train_routes"
   ]
  },
  {
   "cell_type": "code",
   "execution_count": 36,
   "id": "510cea1e276cf2dc",
   "metadata": {
    "collapsed": false,
    "ExecuteTime": {
     "end_time": "2024-01-22T19:45:41.433696Z",
     "start_time": "2024-01-22T19:45:41.408267Z"
    }
   },
   "outputs": [
    {
     "data": {
      "text/plain": "      index             city_1                  city_2  time_avg[h]  \\\n22       22             London              Birmingham         1.52   \n25       25             London                 Bristol         1.82   \n29       29             London             Southampton         1.45   \n87       87             Madrid                Zaragoza         1.99   \n169     187          Barcelona                Zaragoza         2.05   \n175     194          Barcelona                  Girona         1.21   \n186     208         Birmingham               Liverpool         1.44   \n188     210         Birmingham                 Bristol         1.66   \n287     340            Hamburg                Hannover         1.57   \n288     341            Hamburg                  Bremen         1.22   \n355     445          Liverpool                   Leeds         1.72   \n381     478          Amsterdam               Rotterdam         0.86   \n385     482          Amsterdam               Eindhoven         1.34   \n531     659          Rotterdam               Eindhoven         1.35   \n605     755  Frankfurt am Main               Stuttgart         1.69   \n606     756  Frankfurt am Main              Düsseldorf         1.91   \n628     787            Sevilla    Jerez de la Frontera         1.65   \n749     980            Bristol                 Cardiff         0.84   \n767    1004           Hannover                  Bremen         1.44   \n940    1252            Bologna                 Firenze         0.75   \n950    1262            Bologna                    Pisa         2.20   \n1037   1390            Firenze                    Pisa         1.27   \n1061   1425        Bournemouth             Southampton         0.79   \n1144   1583             Lublin                   Radom         2.48   \n1275   1835               Vigo  Santiago de Compostela         2.02   \n1332   1933          Eindhoven              Maastricht         1.23   \n1452   2128               Bari                Brindisi         1.60   \n\n      time_opti[h]  time_opti[min]  time_avg[min]  \n22            1.11            66.6           91.2  \n25            1.48            88.8          109.2  \n29            1.14            68.4           87.0  \n87            1.43            85.8          119.4  \n169           1.47            88.2          123.0  \n175           0.63            37.8           72.6  \n186           1.10            66.0           86.4  \n188           1.38            82.8           99.6  \n287           1.27            76.2           94.2  \n288           0.91            54.6           73.2  \n355           1.25            75.0          103.2  \n381           0.50            30.0           51.6  \n385           1.19            71.4           80.4  \n531           1.17            70.2           81.0  \n605           1.29            77.4          101.4  \n606           1.42            85.2          114.6  \n628           0.95            57.0           99.0  \n749           0.64            38.4           50.4  \n767           0.99            59.4           86.4  \n940           0.58            34.8           45.0  \n950           1.48            88.8          132.0  \n1037          0.81            48.6           76.2  \n1061          0.44            26.4           47.4  \n1144          1.36            81.6          148.8  \n1275          1.33            79.8          121.2  \n1332          1.04            62.4           73.8  \n1452          0.91            54.6           96.0  ",
      "text/html": "<div>\n<style scoped>\n    .dataframe tbody tr th:only-of-type {\n        vertical-align: middle;\n    }\n\n    .dataframe tbody tr th {\n        vertical-align: top;\n    }\n\n    .dataframe thead th {\n        text-align: right;\n    }\n</style>\n<table border=\"1\" class=\"dataframe\">\n  <thead>\n    <tr style=\"text-align: right;\">\n      <th></th>\n      <th>index</th>\n      <th>city_1</th>\n      <th>city_2</th>\n      <th>time_avg[h]</th>\n      <th>time_opti[h]</th>\n      <th>time_opti[min]</th>\n      <th>time_avg[min]</th>\n    </tr>\n  </thead>\n  <tbody>\n    <tr>\n      <th>22</th>\n      <td>22</td>\n      <td>London</td>\n      <td>Birmingham</td>\n      <td>1.52</td>\n      <td>1.11</td>\n      <td>66.6</td>\n      <td>91.2</td>\n    </tr>\n    <tr>\n      <th>25</th>\n      <td>25</td>\n      <td>London</td>\n      <td>Bristol</td>\n      <td>1.82</td>\n      <td>1.48</td>\n      <td>88.8</td>\n      <td>109.2</td>\n    </tr>\n    <tr>\n      <th>29</th>\n      <td>29</td>\n      <td>London</td>\n      <td>Southampton</td>\n      <td>1.45</td>\n      <td>1.14</td>\n      <td>68.4</td>\n      <td>87.0</td>\n    </tr>\n    <tr>\n      <th>87</th>\n      <td>87</td>\n      <td>Madrid</td>\n      <td>Zaragoza</td>\n      <td>1.99</td>\n      <td>1.43</td>\n      <td>85.8</td>\n      <td>119.4</td>\n    </tr>\n    <tr>\n      <th>169</th>\n      <td>187</td>\n      <td>Barcelona</td>\n      <td>Zaragoza</td>\n      <td>2.05</td>\n      <td>1.47</td>\n      <td>88.2</td>\n      <td>123.0</td>\n    </tr>\n    <tr>\n      <th>175</th>\n      <td>194</td>\n      <td>Barcelona</td>\n      <td>Girona</td>\n      <td>1.21</td>\n      <td>0.63</td>\n      <td>37.8</td>\n      <td>72.6</td>\n    </tr>\n    <tr>\n      <th>186</th>\n      <td>208</td>\n      <td>Birmingham</td>\n      <td>Liverpool</td>\n      <td>1.44</td>\n      <td>1.10</td>\n      <td>66.0</td>\n      <td>86.4</td>\n    </tr>\n    <tr>\n      <th>188</th>\n      <td>210</td>\n      <td>Birmingham</td>\n      <td>Bristol</td>\n      <td>1.66</td>\n      <td>1.38</td>\n      <td>82.8</td>\n      <td>99.6</td>\n    </tr>\n    <tr>\n      <th>287</th>\n      <td>340</td>\n      <td>Hamburg</td>\n      <td>Hannover</td>\n      <td>1.57</td>\n      <td>1.27</td>\n      <td>76.2</td>\n      <td>94.2</td>\n    </tr>\n    <tr>\n      <th>288</th>\n      <td>341</td>\n      <td>Hamburg</td>\n      <td>Bremen</td>\n      <td>1.22</td>\n      <td>0.91</td>\n      <td>54.6</td>\n      <td>73.2</td>\n    </tr>\n    <tr>\n      <th>355</th>\n      <td>445</td>\n      <td>Liverpool</td>\n      <td>Leeds</td>\n      <td>1.72</td>\n      <td>1.25</td>\n      <td>75.0</td>\n      <td>103.2</td>\n    </tr>\n    <tr>\n      <th>381</th>\n      <td>478</td>\n      <td>Amsterdam</td>\n      <td>Rotterdam</td>\n      <td>0.86</td>\n      <td>0.50</td>\n      <td>30.0</td>\n      <td>51.6</td>\n    </tr>\n    <tr>\n      <th>385</th>\n      <td>482</td>\n      <td>Amsterdam</td>\n      <td>Eindhoven</td>\n      <td>1.34</td>\n      <td>1.19</td>\n      <td>71.4</td>\n      <td>80.4</td>\n    </tr>\n    <tr>\n      <th>531</th>\n      <td>659</td>\n      <td>Rotterdam</td>\n      <td>Eindhoven</td>\n      <td>1.35</td>\n      <td>1.17</td>\n      <td>70.2</td>\n      <td>81.0</td>\n    </tr>\n    <tr>\n      <th>605</th>\n      <td>755</td>\n      <td>Frankfurt am Main</td>\n      <td>Stuttgart</td>\n      <td>1.69</td>\n      <td>1.29</td>\n      <td>77.4</td>\n      <td>101.4</td>\n    </tr>\n    <tr>\n      <th>606</th>\n      <td>756</td>\n      <td>Frankfurt am Main</td>\n      <td>Düsseldorf</td>\n      <td>1.91</td>\n      <td>1.42</td>\n      <td>85.2</td>\n      <td>114.6</td>\n    </tr>\n    <tr>\n      <th>628</th>\n      <td>787</td>\n      <td>Sevilla</td>\n      <td>Jerez de la Frontera</td>\n      <td>1.65</td>\n      <td>0.95</td>\n      <td>57.0</td>\n      <td>99.0</td>\n    </tr>\n    <tr>\n      <th>749</th>\n      <td>980</td>\n      <td>Bristol</td>\n      <td>Cardiff</td>\n      <td>0.84</td>\n      <td>0.64</td>\n      <td>38.4</td>\n      <td>50.4</td>\n    </tr>\n    <tr>\n      <th>767</th>\n      <td>1004</td>\n      <td>Hannover</td>\n      <td>Bremen</td>\n      <td>1.44</td>\n      <td>0.99</td>\n      <td>59.4</td>\n      <td>86.4</td>\n    </tr>\n    <tr>\n      <th>940</th>\n      <td>1252</td>\n      <td>Bologna</td>\n      <td>Firenze</td>\n      <td>0.75</td>\n      <td>0.58</td>\n      <td>34.8</td>\n      <td>45.0</td>\n    </tr>\n    <tr>\n      <th>950</th>\n      <td>1262</td>\n      <td>Bologna</td>\n      <td>Pisa</td>\n      <td>2.20</td>\n      <td>1.48</td>\n      <td>88.8</td>\n      <td>132.0</td>\n    </tr>\n    <tr>\n      <th>1037</th>\n      <td>1390</td>\n      <td>Firenze</td>\n      <td>Pisa</td>\n      <td>1.27</td>\n      <td>0.81</td>\n      <td>48.6</td>\n      <td>76.2</td>\n    </tr>\n    <tr>\n      <th>1061</th>\n      <td>1425</td>\n      <td>Bournemouth</td>\n      <td>Southampton</td>\n      <td>0.79</td>\n      <td>0.44</td>\n      <td>26.4</td>\n      <td>47.4</td>\n    </tr>\n    <tr>\n      <th>1144</th>\n      <td>1583</td>\n      <td>Lublin</td>\n      <td>Radom</td>\n      <td>2.48</td>\n      <td>1.36</td>\n      <td>81.6</td>\n      <td>148.8</td>\n    </tr>\n    <tr>\n      <th>1275</th>\n      <td>1835</td>\n      <td>Vigo</td>\n      <td>Santiago de Compostela</td>\n      <td>2.02</td>\n      <td>1.33</td>\n      <td>79.8</td>\n      <td>121.2</td>\n    </tr>\n    <tr>\n      <th>1332</th>\n      <td>1933</td>\n      <td>Eindhoven</td>\n      <td>Maastricht</td>\n      <td>1.23</td>\n      <td>1.04</td>\n      <td>62.4</td>\n      <td>73.8</td>\n    </tr>\n    <tr>\n      <th>1452</th>\n      <td>2128</td>\n      <td>Bari</td>\n      <td>Brindisi</td>\n      <td>1.60</td>\n      <td>0.91</td>\n      <td>54.6</td>\n      <td>96.0</td>\n    </tr>\n  </tbody>\n</table>\n</div>"
     },
     "execution_count": 36,
     "metadata": {},
     "output_type": "execute_result"
    }
   ],
   "source": [
    "reduced_train_routes = train_routes[(train_routes['city_1'].isin(intersecting_cities)) & (train_routes['city_2'].isin(intersecting_cities))]\n",
    "reduced_train_routes"
   ]
  },
  {
   "cell_type": "code",
   "execution_count": 37,
   "id": "1e9177b2f68bf845",
   "metadata": {
    "collapsed": false,
    "ExecuteTime": {
     "end_time": "2024-01-22T19:45:41.491485Z",
     "start_time": "2024-01-22T19:45:41.434931Z"
    }
   },
   "outputs": [
    {
     "name": "stderr",
     "output_type": "stream",
     "text": [
      "/var/folders/x2/jj0kgq010j128mdwvs89btf00000gp/T/ipykernel_40187/1158335715.py:1: SettingWithCopyWarning: \n",
      "A value is trying to be set on a copy of a slice from a DataFrame.\n",
      "Try using .loc[row_indexer,col_indexer] = value instead\n",
      "\n",
      "See the caveats in the documentation: https://pandas.pydata.org/pandas-docs/stable/user_guide/indexing.html#returning-a-view-versus-a-copy\n",
      "  reduced_train_routes['trip'] = reduced_train_routes.apply(lambda row: {row['city_1'], row['city_2']}, axis=1)\n"
     ]
    },
    {
     "data": {
      "text/plain": "      index             city_1                  city_2  time_avg[h]  \\\n22       22             London              Birmingham         1.52   \n25       25             London                 Bristol         1.82   \n29       29             London             Southampton         1.45   \n87       87             Madrid                Zaragoza         1.99   \n169     187          Barcelona                Zaragoza         2.05   \n175     194          Barcelona                  Girona         1.21   \n186     208         Birmingham               Liverpool         1.44   \n188     210         Birmingham                 Bristol         1.66   \n287     340            Hamburg                Hannover         1.57   \n288     341            Hamburg                  Bremen         1.22   \n355     445          Liverpool                   Leeds         1.72   \n381     478          Amsterdam               Rotterdam         0.86   \n385     482          Amsterdam               Eindhoven         1.34   \n531     659          Rotterdam               Eindhoven         1.35   \n605     755  Frankfurt am Main               Stuttgart         1.69   \n606     756  Frankfurt am Main              Düsseldorf         1.91   \n628     787            Sevilla    Jerez de la Frontera         1.65   \n749     980            Bristol                 Cardiff         0.84   \n767    1004           Hannover                  Bremen         1.44   \n940    1252            Bologna                 Firenze         0.75   \n950    1262            Bologna                    Pisa         2.20   \n1037   1390            Firenze                    Pisa         1.27   \n1061   1425        Bournemouth             Southampton         0.79   \n1144   1583             Lublin                   Radom         2.48   \n1275   1835               Vigo  Santiago de Compostela         2.02   \n1332   1933          Eindhoven              Maastricht         1.23   \n1452   2128               Bari                Brindisi         1.60   \n\n      time_opti[h]  time_opti[min]  time_avg[min]  \\\n22            1.11            66.6           91.2   \n25            1.48            88.8          109.2   \n29            1.14            68.4           87.0   \n87            1.43            85.8          119.4   \n169           1.47            88.2          123.0   \n175           0.63            37.8           72.6   \n186           1.10            66.0           86.4   \n188           1.38            82.8           99.6   \n287           1.27            76.2           94.2   \n288           0.91            54.6           73.2   \n355           1.25            75.0          103.2   \n381           0.50            30.0           51.6   \n385           1.19            71.4           80.4   \n531           1.17            70.2           81.0   \n605           1.29            77.4          101.4   \n606           1.42            85.2          114.6   \n628           0.95            57.0           99.0   \n749           0.64            38.4           50.4   \n767           0.99            59.4           86.4   \n940           0.58            34.8           45.0   \n950           1.48            88.8          132.0   \n1037          0.81            48.6           76.2   \n1061          0.44            26.4           47.4   \n1144          1.36            81.6          148.8   \n1275          1.33            79.8          121.2   \n1332          1.04            62.4           73.8   \n1452          0.91            54.6           96.0   \n\n                                 trip  \n22               {Birmingham, London}  \n25                  {Bristol, London}  \n29              {Southampton, London}  \n87                 {Zaragoza, Madrid}  \n169             {Zaragoza, Barcelona}  \n175               {Girona, Barcelona}  \n186           {Liverpool, Birmingham}  \n188             {Bristol, Birmingham}  \n287               {Hannover, Hamburg}  \n288                 {Bremen, Hamburg}  \n355                {Leeds, Liverpool}  \n381            {Rotterdam, Amsterdam}  \n385            {Amsterdam, Eindhoven}  \n531            {Rotterdam, Eindhoven}  \n605    {Stuttgart, Frankfurt am Main}  \n606   {Düsseldorf, Frankfurt am Main}  \n628   {Jerez de la Frontera, Sevilla}  \n749                {Cardiff, Bristol}  \n767                {Hannover, Bremen}  \n940                {Bologna, Firenze}  \n950                   {Pisa, Bologna}  \n1037                  {Pisa, Firenze}  \n1061       {Southampton, Bournemouth}  \n1144                  {Radom, Lublin}  \n1275   {Santiago de Compostela, Vigo}  \n1332          {Maastricht, Eindhoven}  \n1452                 {Brindisi, Bari}  ",
      "text/html": "<div>\n<style scoped>\n    .dataframe tbody tr th:only-of-type {\n        vertical-align: middle;\n    }\n\n    .dataframe tbody tr th {\n        vertical-align: top;\n    }\n\n    .dataframe thead th {\n        text-align: right;\n    }\n</style>\n<table border=\"1\" class=\"dataframe\">\n  <thead>\n    <tr style=\"text-align: right;\">\n      <th></th>\n      <th>index</th>\n      <th>city_1</th>\n      <th>city_2</th>\n      <th>time_avg[h]</th>\n      <th>time_opti[h]</th>\n      <th>time_opti[min]</th>\n      <th>time_avg[min]</th>\n      <th>trip</th>\n    </tr>\n  </thead>\n  <tbody>\n    <tr>\n      <th>22</th>\n      <td>22</td>\n      <td>London</td>\n      <td>Birmingham</td>\n      <td>1.52</td>\n      <td>1.11</td>\n      <td>66.6</td>\n      <td>91.2</td>\n      <td>{Birmingham, London}</td>\n    </tr>\n    <tr>\n      <th>25</th>\n      <td>25</td>\n      <td>London</td>\n      <td>Bristol</td>\n      <td>1.82</td>\n      <td>1.48</td>\n      <td>88.8</td>\n      <td>109.2</td>\n      <td>{Bristol, London}</td>\n    </tr>\n    <tr>\n      <th>29</th>\n      <td>29</td>\n      <td>London</td>\n      <td>Southampton</td>\n      <td>1.45</td>\n      <td>1.14</td>\n      <td>68.4</td>\n      <td>87.0</td>\n      <td>{Southampton, London}</td>\n    </tr>\n    <tr>\n      <th>87</th>\n      <td>87</td>\n      <td>Madrid</td>\n      <td>Zaragoza</td>\n      <td>1.99</td>\n      <td>1.43</td>\n      <td>85.8</td>\n      <td>119.4</td>\n      <td>{Zaragoza, Madrid}</td>\n    </tr>\n    <tr>\n      <th>169</th>\n      <td>187</td>\n      <td>Barcelona</td>\n      <td>Zaragoza</td>\n      <td>2.05</td>\n      <td>1.47</td>\n      <td>88.2</td>\n      <td>123.0</td>\n      <td>{Zaragoza, Barcelona}</td>\n    </tr>\n    <tr>\n      <th>175</th>\n      <td>194</td>\n      <td>Barcelona</td>\n      <td>Girona</td>\n      <td>1.21</td>\n      <td>0.63</td>\n      <td>37.8</td>\n      <td>72.6</td>\n      <td>{Girona, Barcelona}</td>\n    </tr>\n    <tr>\n      <th>186</th>\n      <td>208</td>\n      <td>Birmingham</td>\n      <td>Liverpool</td>\n      <td>1.44</td>\n      <td>1.10</td>\n      <td>66.0</td>\n      <td>86.4</td>\n      <td>{Liverpool, Birmingham}</td>\n    </tr>\n    <tr>\n      <th>188</th>\n      <td>210</td>\n      <td>Birmingham</td>\n      <td>Bristol</td>\n      <td>1.66</td>\n      <td>1.38</td>\n      <td>82.8</td>\n      <td>99.6</td>\n      <td>{Bristol, Birmingham}</td>\n    </tr>\n    <tr>\n      <th>287</th>\n      <td>340</td>\n      <td>Hamburg</td>\n      <td>Hannover</td>\n      <td>1.57</td>\n      <td>1.27</td>\n      <td>76.2</td>\n      <td>94.2</td>\n      <td>{Hannover, Hamburg}</td>\n    </tr>\n    <tr>\n      <th>288</th>\n      <td>341</td>\n      <td>Hamburg</td>\n      <td>Bremen</td>\n      <td>1.22</td>\n      <td>0.91</td>\n      <td>54.6</td>\n      <td>73.2</td>\n      <td>{Bremen, Hamburg}</td>\n    </tr>\n    <tr>\n      <th>355</th>\n      <td>445</td>\n      <td>Liverpool</td>\n      <td>Leeds</td>\n      <td>1.72</td>\n      <td>1.25</td>\n      <td>75.0</td>\n      <td>103.2</td>\n      <td>{Leeds, Liverpool}</td>\n    </tr>\n    <tr>\n      <th>381</th>\n      <td>478</td>\n      <td>Amsterdam</td>\n      <td>Rotterdam</td>\n      <td>0.86</td>\n      <td>0.50</td>\n      <td>30.0</td>\n      <td>51.6</td>\n      <td>{Rotterdam, Amsterdam}</td>\n    </tr>\n    <tr>\n      <th>385</th>\n      <td>482</td>\n      <td>Amsterdam</td>\n      <td>Eindhoven</td>\n      <td>1.34</td>\n      <td>1.19</td>\n      <td>71.4</td>\n      <td>80.4</td>\n      <td>{Amsterdam, Eindhoven}</td>\n    </tr>\n    <tr>\n      <th>531</th>\n      <td>659</td>\n      <td>Rotterdam</td>\n      <td>Eindhoven</td>\n      <td>1.35</td>\n      <td>1.17</td>\n      <td>70.2</td>\n      <td>81.0</td>\n      <td>{Rotterdam, Eindhoven}</td>\n    </tr>\n    <tr>\n      <th>605</th>\n      <td>755</td>\n      <td>Frankfurt am Main</td>\n      <td>Stuttgart</td>\n      <td>1.69</td>\n      <td>1.29</td>\n      <td>77.4</td>\n      <td>101.4</td>\n      <td>{Stuttgart, Frankfurt am Main}</td>\n    </tr>\n    <tr>\n      <th>606</th>\n      <td>756</td>\n      <td>Frankfurt am Main</td>\n      <td>Düsseldorf</td>\n      <td>1.91</td>\n      <td>1.42</td>\n      <td>85.2</td>\n      <td>114.6</td>\n      <td>{Düsseldorf, Frankfurt am Main}</td>\n    </tr>\n    <tr>\n      <th>628</th>\n      <td>787</td>\n      <td>Sevilla</td>\n      <td>Jerez de la Frontera</td>\n      <td>1.65</td>\n      <td>0.95</td>\n      <td>57.0</td>\n      <td>99.0</td>\n      <td>{Jerez de la Frontera, Sevilla}</td>\n    </tr>\n    <tr>\n      <th>749</th>\n      <td>980</td>\n      <td>Bristol</td>\n      <td>Cardiff</td>\n      <td>0.84</td>\n      <td>0.64</td>\n      <td>38.4</td>\n      <td>50.4</td>\n      <td>{Cardiff, Bristol}</td>\n    </tr>\n    <tr>\n      <th>767</th>\n      <td>1004</td>\n      <td>Hannover</td>\n      <td>Bremen</td>\n      <td>1.44</td>\n      <td>0.99</td>\n      <td>59.4</td>\n      <td>86.4</td>\n      <td>{Hannover, Bremen}</td>\n    </tr>\n    <tr>\n      <th>940</th>\n      <td>1252</td>\n      <td>Bologna</td>\n      <td>Firenze</td>\n      <td>0.75</td>\n      <td>0.58</td>\n      <td>34.8</td>\n      <td>45.0</td>\n      <td>{Bologna, Firenze}</td>\n    </tr>\n    <tr>\n      <th>950</th>\n      <td>1262</td>\n      <td>Bologna</td>\n      <td>Pisa</td>\n      <td>2.20</td>\n      <td>1.48</td>\n      <td>88.8</td>\n      <td>132.0</td>\n      <td>{Pisa, Bologna}</td>\n    </tr>\n    <tr>\n      <th>1037</th>\n      <td>1390</td>\n      <td>Firenze</td>\n      <td>Pisa</td>\n      <td>1.27</td>\n      <td>0.81</td>\n      <td>48.6</td>\n      <td>76.2</td>\n      <td>{Pisa, Firenze}</td>\n    </tr>\n    <tr>\n      <th>1061</th>\n      <td>1425</td>\n      <td>Bournemouth</td>\n      <td>Southampton</td>\n      <td>0.79</td>\n      <td>0.44</td>\n      <td>26.4</td>\n      <td>47.4</td>\n      <td>{Southampton, Bournemouth}</td>\n    </tr>\n    <tr>\n      <th>1144</th>\n      <td>1583</td>\n      <td>Lublin</td>\n      <td>Radom</td>\n      <td>2.48</td>\n      <td>1.36</td>\n      <td>81.6</td>\n      <td>148.8</td>\n      <td>{Radom, Lublin}</td>\n    </tr>\n    <tr>\n      <th>1275</th>\n      <td>1835</td>\n      <td>Vigo</td>\n      <td>Santiago de Compostela</td>\n      <td>2.02</td>\n      <td>1.33</td>\n      <td>79.8</td>\n      <td>121.2</td>\n      <td>{Santiago de Compostela, Vigo}</td>\n    </tr>\n    <tr>\n      <th>1332</th>\n      <td>1933</td>\n      <td>Eindhoven</td>\n      <td>Maastricht</td>\n      <td>1.23</td>\n      <td>1.04</td>\n      <td>62.4</td>\n      <td>73.8</td>\n      <td>{Maastricht, Eindhoven}</td>\n    </tr>\n    <tr>\n      <th>1452</th>\n      <td>2128</td>\n      <td>Bari</td>\n      <td>Brindisi</td>\n      <td>1.60</td>\n      <td>0.91</td>\n      <td>54.6</td>\n      <td>96.0</td>\n      <td>{Brindisi, Bari}</td>\n    </tr>\n  </tbody>\n</table>\n</div>"
     },
     "execution_count": 37,
     "metadata": {},
     "output_type": "execute_result"
    }
   ],
   "source": [
    "reduced_train_routes['trip'] = reduced_train_routes.apply(lambda row: {row['city_1'], row['city_2']}, axis=1)\n",
    "reduced_train_routes"
   ]
  },
  {
   "cell_type": "markdown",
   "id": "9eee7a985a8ed493",
   "metadata": {
    "collapsed": false
   },
   "source": [
    "To be able to perform an inner join, the sets need to be converted to tuples, which are immutable and hashable and therefore can be used as keys in a join with pandas."
   ]
  },
  {
   "cell_type": "code",
   "execution_count": 38,
   "id": "c1e9304dc52e63b1",
   "metadata": {
    "collapsed": false,
    "ExecuteTime": {
     "end_time": "2024-01-22T19:45:41.534762Z",
     "start_time": "2024-01-22T19:45:41.475938Z"
    }
   },
   "outputs": [
    {
     "name": "stderr",
     "output_type": "stream",
     "text": [
      "/var/folders/x2/jj0kgq010j128mdwvs89btf00000gp/T/ipykernel_40187/298190041.py:1: SettingWithCopyWarning: \n",
      "A value is trying to be set on a copy of a slice from a DataFrame.\n",
      "Try using .loc[row_indexer,col_indexer] = value instead\n",
      "\n",
      "See the caveats in the documentation: https://pandas.pydata.org/pandas-docs/stable/user_guide/indexing.html#returning-a-view-versus-a-copy\n",
      "  reduced_train_routes['trip'] = reduced_train_routes['trip'].apply(lambda x: tuple(sorted(x)))\n"
     ]
    }
   ],
   "source": [
    "reduced_train_routes['trip'] = reduced_train_routes['trip'].apply(lambda x: tuple(sorted(x)))"
   ]
  },
  {
   "cell_type": "code",
   "execution_count": 39,
   "id": "f5efc2ec47286cd5",
   "metadata": {
    "collapsed": false,
    "ExecuteTime": {
     "end_time": "2024-01-22T19:45:41.675154Z",
     "start_time": "2024-01-22T19:45:41.543960Z"
    }
   },
   "outputs": [
    {
     "data": {
      "text/plain": "      index             city_1                  city_2  time_avg[h]  \\\n22       22             London              Birmingham         1.52   \n25       25             London                 Bristol         1.82   \n29       29             London             Southampton         1.45   \n87       87             Madrid                Zaragoza         1.99   \n169     187          Barcelona                Zaragoza         2.05   \n175     194          Barcelona                  Girona         1.21   \n186     208         Birmingham               Liverpool         1.44   \n188     210         Birmingham                 Bristol         1.66   \n287     340            Hamburg                Hannover         1.57   \n288     341            Hamburg                  Bremen         1.22   \n355     445          Liverpool                   Leeds         1.72   \n381     478          Amsterdam               Rotterdam         0.86   \n385     482          Amsterdam               Eindhoven         1.34   \n531     659          Rotterdam               Eindhoven         1.35   \n605     755  Frankfurt am Main               Stuttgart         1.69   \n606     756  Frankfurt am Main              Düsseldorf         1.91   \n628     787            Sevilla    Jerez de la Frontera         1.65   \n749     980            Bristol                 Cardiff         0.84   \n767    1004           Hannover                  Bremen         1.44   \n940    1252            Bologna                 Firenze         0.75   \n950    1262            Bologna                    Pisa         2.20   \n1037   1390            Firenze                    Pisa         1.27   \n1061   1425        Bournemouth             Southampton         0.79   \n1144   1583             Lublin                   Radom         2.48   \n1275   1835               Vigo  Santiago de Compostela         2.02   \n1332   1933          Eindhoven              Maastricht         1.23   \n1452   2128               Bari                Brindisi         1.60   \n\n      time_opti[h]  time_opti[min]  time_avg[min]  \\\n22            1.11            66.6           91.2   \n25            1.48            88.8          109.2   \n29            1.14            68.4           87.0   \n87            1.43            85.8          119.4   \n169           1.47            88.2          123.0   \n175           0.63            37.8           72.6   \n186           1.10            66.0           86.4   \n188           1.38            82.8           99.6   \n287           1.27            76.2           94.2   \n288           0.91            54.6           73.2   \n355           1.25            75.0          103.2   \n381           0.50            30.0           51.6   \n385           1.19            71.4           80.4   \n531           1.17            70.2           81.0   \n605           1.29            77.4          101.4   \n606           1.42            85.2          114.6   \n628           0.95            57.0           99.0   \n749           0.64            38.4           50.4   \n767           0.99            59.4           86.4   \n940           0.58            34.8           45.0   \n950           1.48            88.8          132.0   \n1037          0.81            48.6           76.2   \n1061          0.44            26.4           47.4   \n1144          1.36            81.6          148.8   \n1275          1.33            79.8          121.2   \n1332          1.04            62.4           73.8   \n1452          0.91            54.6           96.0   \n\n                                 trip  \n22               (Birmingham, London)  \n25                  (Bristol, London)  \n29              (London, Southampton)  \n87                 (Madrid, Zaragoza)  \n169             (Barcelona, Zaragoza)  \n175               (Barcelona, Girona)  \n186           (Birmingham, Liverpool)  \n188             (Birmingham, Bristol)  \n287               (Hamburg, Hannover)  \n288                 (Bremen, Hamburg)  \n355                (Leeds, Liverpool)  \n381            (Amsterdam, Rotterdam)  \n385            (Amsterdam, Eindhoven)  \n531            (Eindhoven, Rotterdam)  \n605    (Frankfurt am Main, Stuttgart)  \n606   (Düsseldorf, Frankfurt am Main)  \n628   (Jerez de la Frontera, Sevilla)  \n749                (Bristol, Cardiff)  \n767                (Bremen, Hannover)  \n940                (Bologna, Firenze)  \n950                   (Bologna, Pisa)  \n1037                  (Firenze, Pisa)  \n1061       (Bournemouth, Southampton)  \n1144                  (Lublin, Radom)  \n1275   (Santiago de Compostela, Vigo)  \n1332          (Eindhoven, Maastricht)  \n1452                 (Bari, Brindisi)  ",
      "text/html": "<div>\n<style scoped>\n    .dataframe tbody tr th:only-of-type {\n        vertical-align: middle;\n    }\n\n    .dataframe tbody tr th {\n        vertical-align: top;\n    }\n\n    .dataframe thead th {\n        text-align: right;\n    }\n</style>\n<table border=\"1\" class=\"dataframe\">\n  <thead>\n    <tr style=\"text-align: right;\">\n      <th></th>\n      <th>index</th>\n      <th>city_1</th>\n      <th>city_2</th>\n      <th>time_avg[h]</th>\n      <th>time_opti[h]</th>\n      <th>time_opti[min]</th>\n      <th>time_avg[min]</th>\n      <th>trip</th>\n    </tr>\n  </thead>\n  <tbody>\n    <tr>\n      <th>22</th>\n      <td>22</td>\n      <td>London</td>\n      <td>Birmingham</td>\n      <td>1.52</td>\n      <td>1.11</td>\n      <td>66.6</td>\n      <td>91.2</td>\n      <td>(Birmingham, London)</td>\n    </tr>\n    <tr>\n      <th>25</th>\n      <td>25</td>\n      <td>London</td>\n      <td>Bristol</td>\n      <td>1.82</td>\n      <td>1.48</td>\n      <td>88.8</td>\n      <td>109.2</td>\n      <td>(Bristol, London)</td>\n    </tr>\n    <tr>\n      <th>29</th>\n      <td>29</td>\n      <td>London</td>\n      <td>Southampton</td>\n      <td>1.45</td>\n      <td>1.14</td>\n      <td>68.4</td>\n      <td>87.0</td>\n      <td>(London, Southampton)</td>\n    </tr>\n    <tr>\n      <th>87</th>\n      <td>87</td>\n      <td>Madrid</td>\n      <td>Zaragoza</td>\n      <td>1.99</td>\n      <td>1.43</td>\n      <td>85.8</td>\n      <td>119.4</td>\n      <td>(Madrid, Zaragoza)</td>\n    </tr>\n    <tr>\n      <th>169</th>\n      <td>187</td>\n      <td>Barcelona</td>\n      <td>Zaragoza</td>\n      <td>2.05</td>\n      <td>1.47</td>\n      <td>88.2</td>\n      <td>123.0</td>\n      <td>(Barcelona, Zaragoza)</td>\n    </tr>\n    <tr>\n      <th>175</th>\n      <td>194</td>\n      <td>Barcelona</td>\n      <td>Girona</td>\n      <td>1.21</td>\n      <td>0.63</td>\n      <td>37.8</td>\n      <td>72.6</td>\n      <td>(Barcelona, Girona)</td>\n    </tr>\n    <tr>\n      <th>186</th>\n      <td>208</td>\n      <td>Birmingham</td>\n      <td>Liverpool</td>\n      <td>1.44</td>\n      <td>1.10</td>\n      <td>66.0</td>\n      <td>86.4</td>\n      <td>(Birmingham, Liverpool)</td>\n    </tr>\n    <tr>\n      <th>188</th>\n      <td>210</td>\n      <td>Birmingham</td>\n      <td>Bristol</td>\n      <td>1.66</td>\n      <td>1.38</td>\n      <td>82.8</td>\n      <td>99.6</td>\n      <td>(Birmingham, Bristol)</td>\n    </tr>\n    <tr>\n      <th>287</th>\n      <td>340</td>\n      <td>Hamburg</td>\n      <td>Hannover</td>\n      <td>1.57</td>\n      <td>1.27</td>\n      <td>76.2</td>\n      <td>94.2</td>\n      <td>(Hamburg, Hannover)</td>\n    </tr>\n    <tr>\n      <th>288</th>\n      <td>341</td>\n      <td>Hamburg</td>\n      <td>Bremen</td>\n      <td>1.22</td>\n      <td>0.91</td>\n      <td>54.6</td>\n      <td>73.2</td>\n      <td>(Bremen, Hamburg)</td>\n    </tr>\n    <tr>\n      <th>355</th>\n      <td>445</td>\n      <td>Liverpool</td>\n      <td>Leeds</td>\n      <td>1.72</td>\n      <td>1.25</td>\n      <td>75.0</td>\n      <td>103.2</td>\n      <td>(Leeds, Liverpool)</td>\n    </tr>\n    <tr>\n      <th>381</th>\n      <td>478</td>\n      <td>Amsterdam</td>\n      <td>Rotterdam</td>\n      <td>0.86</td>\n      <td>0.50</td>\n      <td>30.0</td>\n      <td>51.6</td>\n      <td>(Amsterdam, Rotterdam)</td>\n    </tr>\n    <tr>\n      <th>385</th>\n      <td>482</td>\n      <td>Amsterdam</td>\n      <td>Eindhoven</td>\n      <td>1.34</td>\n      <td>1.19</td>\n      <td>71.4</td>\n      <td>80.4</td>\n      <td>(Amsterdam, Eindhoven)</td>\n    </tr>\n    <tr>\n      <th>531</th>\n      <td>659</td>\n      <td>Rotterdam</td>\n      <td>Eindhoven</td>\n      <td>1.35</td>\n      <td>1.17</td>\n      <td>70.2</td>\n      <td>81.0</td>\n      <td>(Eindhoven, Rotterdam)</td>\n    </tr>\n    <tr>\n      <th>605</th>\n      <td>755</td>\n      <td>Frankfurt am Main</td>\n      <td>Stuttgart</td>\n      <td>1.69</td>\n      <td>1.29</td>\n      <td>77.4</td>\n      <td>101.4</td>\n      <td>(Frankfurt am Main, Stuttgart)</td>\n    </tr>\n    <tr>\n      <th>606</th>\n      <td>756</td>\n      <td>Frankfurt am Main</td>\n      <td>Düsseldorf</td>\n      <td>1.91</td>\n      <td>1.42</td>\n      <td>85.2</td>\n      <td>114.6</td>\n      <td>(Düsseldorf, Frankfurt am Main)</td>\n    </tr>\n    <tr>\n      <th>628</th>\n      <td>787</td>\n      <td>Sevilla</td>\n      <td>Jerez de la Frontera</td>\n      <td>1.65</td>\n      <td>0.95</td>\n      <td>57.0</td>\n      <td>99.0</td>\n      <td>(Jerez de la Frontera, Sevilla)</td>\n    </tr>\n    <tr>\n      <th>749</th>\n      <td>980</td>\n      <td>Bristol</td>\n      <td>Cardiff</td>\n      <td>0.84</td>\n      <td>0.64</td>\n      <td>38.4</td>\n      <td>50.4</td>\n      <td>(Bristol, Cardiff)</td>\n    </tr>\n    <tr>\n      <th>767</th>\n      <td>1004</td>\n      <td>Hannover</td>\n      <td>Bremen</td>\n      <td>1.44</td>\n      <td>0.99</td>\n      <td>59.4</td>\n      <td>86.4</td>\n      <td>(Bremen, Hannover)</td>\n    </tr>\n    <tr>\n      <th>940</th>\n      <td>1252</td>\n      <td>Bologna</td>\n      <td>Firenze</td>\n      <td>0.75</td>\n      <td>0.58</td>\n      <td>34.8</td>\n      <td>45.0</td>\n      <td>(Bologna, Firenze)</td>\n    </tr>\n    <tr>\n      <th>950</th>\n      <td>1262</td>\n      <td>Bologna</td>\n      <td>Pisa</td>\n      <td>2.20</td>\n      <td>1.48</td>\n      <td>88.8</td>\n      <td>132.0</td>\n      <td>(Bologna, Pisa)</td>\n    </tr>\n    <tr>\n      <th>1037</th>\n      <td>1390</td>\n      <td>Firenze</td>\n      <td>Pisa</td>\n      <td>1.27</td>\n      <td>0.81</td>\n      <td>48.6</td>\n      <td>76.2</td>\n      <td>(Firenze, Pisa)</td>\n    </tr>\n    <tr>\n      <th>1061</th>\n      <td>1425</td>\n      <td>Bournemouth</td>\n      <td>Southampton</td>\n      <td>0.79</td>\n      <td>0.44</td>\n      <td>26.4</td>\n      <td>47.4</td>\n      <td>(Bournemouth, Southampton)</td>\n    </tr>\n    <tr>\n      <th>1144</th>\n      <td>1583</td>\n      <td>Lublin</td>\n      <td>Radom</td>\n      <td>2.48</td>\n      <td>1.36</td>\n      <td>81.6</td>\n      <td>148.8</td>\n      <td>(Lublin, Radom)</td>\n    </tr>\n    <tr>\n      <th>1275</th>\n      <td>1835</td>\n      <td>Vigo</td>\n      <td>Santiago de Compostela</td>\n      <td>2.02</td>\n      <td>1.33</td>\n      <td>79.8</td>\n      <td>121.2</td>\n      <td>(Santiago de Compostela, Vigo)</td>\n    </tr>\n    <tr>\n      <th>1332</th>\n      <td>1933</td>\n      <td>Eindhoven</td>\n      <td>Maastricht</td>\n      <td>1.23</td>\n      <td>1.04</td>\n      <td>62.4</td>\n      <td>73.8</td>\n      <td>(Eindhoven, Maastricht)</td>\n    </tr>\n    <tr>\n      <th>1452</th>\n      <td>2128</td>\n      <td>Bari</td>\n      <td>Brindisi</td>\n      <td>1.60</td>\n      <td>0.91</td>\n      <td>54.6</td>\n      <td>96.0</td>\n      <td>(Bari, Brindisi)</td>\n    </tr>\n  </tbody>\n</table>\n</div>"
     },
     "execution_count": 39,
     "metadata": {},
     "output_type": "execute_result"
    }
   ],
   "source": [
    "reduced_train_routes"
   ]
  },
  {
   "cell_type": "markdown",
   "id": "3dcd37a30e37d253",
   "metadata": {
    "collapsed": false
   },
   "source": [
    "### Flights"
   ]
  },
  {
   "cell_type": "code",
   "execution_count": 40,
   "id": "2b54bb3eebc8ef47",
   "metadata": {
    "collapsed": false,
    "ExecuteTime": {
     "end_time": "2024-01-22T19:45:41.853490Z",
     "start_time": "2024-01-22T19:45:41.656209Z"
    }
   },
   "outputs": [
    {
     "data": {
      "text/plain": "               route   time departure airport arrival airport  \\\n2     {'AMS', 'ABZ'}   85.0               AMS             ABZ   \n34    {'BCN', 'AGP'}   97.5               BCN             AGP   \n37    {'HAM', 'AGP'}  205.0               HAM             AGP   \n39    {'MAD', 'AGP'}   80.0               MAD             AGP   \n62    {'ABZ', 'AMS'}   95.0               ABZ             AMS   \n...              ...    ...               ...             ...   \n1434  {'WRO', 'AGP'}  220.0               WRO             AGP   \n1435  {'WRO', 'BHX'}  125.0               WRO             BHX   \n1437  {'WRO', 'VLC'}  187.5               WRO             VLC   \n1438  {'XRY', 'BCN'}  105.0               XRY             BCN   \n1439  {'XRY', 'MAD'}   77.5               XRY             MAD   \n\n            departure city arrival city  \n2                Amsterdam     Aberdeen  \n34               Barcelona       Málaga  \n37                 Hamburg       Málaga  \n39                  Madrid       Málaga  \n62                Aberdeen    Amsterdam  \n...                    ...          ...  \n1434               Wrocław       Málaga  \n1435               Wrocław   Birmingham  \n1437               Wrocław     Valencia  \n1438  Jerez de la Frontera    Barcelona  \n1439  Jerez de la Frontera       Madrid  \n\n[251 rows x 6 columns]",
      "text/html": "<div>\n<style scoped>\n    .dataframe tbody tr th:only-of-type {\n        vertical-align: middle;\n    }\n\n    .dataframe tbody tr th {\n        vertical-align: top;\n    }\n\n    .dataframe thead th {\n        text-align: right;\n    }\n</style>\n<table border=\"1\" class=\"dataframe\">\n  <thead>\n    <tr style=\"text-align: right;\">\n      <th></th>\n      <th>route</th>\n      <th>time</th>\n      <th>departure airport</th>\n      <th>arrival airport</th>\n      <th>departure city</th>\n      <th>arrival city</th>\n    </tr>\n  </thead>\n  <tbody>\n    <tr>\n      <th>2</th>\n      <td>{'AMS', 'ABZ'}</td>\n      <td>85.0</td>\n      <td>AMS</td>\n      <td>ABZ</td>\n      <td>Amsterdam</td>\n      <td>Aberdeen</td>\n    </tr>\n    <tr>\n      <th>34</th>\n      <td>{'BCN', 'AGP'}</td>\n      <td>97.5</td>\n      <td>BCN</td>\n      <td>AGP</td>\n      <td>Barcelona</td>\n      <td>Málaga</td>\n    </tr>\n    <tr>\n      <th>37</th>\n      <td>{'HAM', 'AGP'}</td>\n      <td>205.0</td>\n      <td>HAM</td>\n      <td>AGP</td>\n      <td>Hamburg</td>\n      <td>Málaga</td>\n    </tr>\n    <tr>\n      <th>39</th>\n      <td>{'MAD', 'AGP'}</td>\n      <td>80.0</td>\n      <td>MAD</td>\n      <td>AGP</td>\n      <td>Madrid</td>\n      <td>Málaga</td>\n    </tr>\n    <tr>\n      <th>62</th>\n      <td>{'ABZ', 'AMS'}</td>\n      <td>95.0</td>\n      <td>ABZ</td>\n      <td>AMS</td>\n      <td>Aberdeen</td>\n      <td>Amsterdam</td>\n    </tr>\n    <tr>\n      <th>...</th>\n      <td>...</td>\n      <td>...</td>\n      <td>...</td>\n      <td>...</td>\n      <td>...</td>\n      <td>...</td>\n    </tr>\n    <tr>\n      <th>1434</th>\n      <td>{'WRO', 'AGP'}</td>\n      <td>220.0</td>\n      <td>WRO</td>\n      <td>AGP</td>\n      <td>Wrocław</td>\n      <td>Málaga</td>\n    </tr>\n    <tr>\n      <th>1435</th>\n      <td>{'WRO', 'BHX'}</td>\n      <td>125.0</td>\n      <td>WRO</td>\n      <td>BHX</td>\n      <td>Wrocław</td>\n      <td>Birmingham</td>\n    </tr>\n    <tr>\n      <th>1437</th>\n      <td>{'WRO', 'VLC'}</td>\n      <td>187.5</td>\n      <td>WRO</td>\n      <td>VLC</td>\n      <td>Wrocław</td>\n      <td>Valencia</td>\n    </tr>\n    <tr>\n      <th>1438</th>\n      <td>{'XRY', 'BCN'}</td>\n      <td>105.0</td>\n      <td>XRY</td>\n      <td>BCN</td>\n      <td>Jerez de la Frontera</td>\n      <td>Barcelona</td>\n    </tr>\n    <tr>\n      <th>1439</th>\n      <td>{'XRY', 'MAD'}</td>\n      <td>77.5</td>\n      <td>XRY</td>\n      <td>MAD</td>\n      <td>Jerez de la Frontera</td>\n      <td>Madrid</td>\n    </tr>\n  </tbody>\n</table>\n<p>251 rows × 6 columns</p>\n</div>"
     },
     "execution_count": 40,
     "metadata": {},
     "output_type": "execute_result"
    }
   ],
   "source": [
    "# TODO: this dataframe contains strings of sets, it should not be the case in the final notebook\n",
    "reduced_flights = flights[(flights['departure city'].isin(intersecting_cities)) & (flights['arrival city'].isin(intersecting_cities))]\n",
    "reduced_flights"
   ]
  },
  {
   "cell_type": "markdown",
   "id": "9afef64fce99a4ad",
   "metadata": {
    "collapsed": false
   },
   "source": [
    "Looking for a particular city"
   ]
  },
  {
   "cell_type": "code",
   "execution_count": null,
   "id": "66504b505f61291b",
   "metadata": {
    "collapsed": false,
    "ExecuteTime": {
     "start_time": "2024-01-22T19:45:42.236551Z"
    }
   },
   "outputs": [],
   "source": [
    "reduced_flights['trip'] = reduced_flights.apply(lambda row: {row['departure city'], row['arrival city']}, axis=1)\n",
    "reduced_flights.drop(columns=['route', 'departure airport', 'arrival airport', 'departure city', 'arrival city'], inplace=True)\n",
    "reduced_flights"
   ]
  },
  {
   "cell_type": "markdown",
   "id": "25884d60e1f3be07",
   "metadata": {
    "collapsed": false
   },
   "source": [
    "To be able to perform an inner join, the sets need to be converted to tuples, which are immutable and hashable and therefore can be used as keys in a join with pandas."
   ]
  },
  {
   "cell_type": "code",
   "execution_count": null,
   "id": "26624712c6e6b616",
   "metadata": {
    "collapsed": false,
    "ExecuteTime": {
     "start_time": "2024-01-22T19:45:42.240927Z"
    }
   },
   "outputs": [],
   "source": [
    "reduced_flights['trip'] = reduced_flights['trip'].apply(lambda x: tuple(sorted(x)))"
   ]
  },
  {
   "cell_type": "markdown",
   "id": "c8dc26ba5b042a6b",
   "metadata": {
    "collapsed": false
   },
   "source": [
    "### Final result"
   ]
  },
  {
   "cell_type": "code",
   "execution_count": 42,
   "id": "6b1dcaa4e930bff8",
   "metadata": {
    "collapsed": false,
    "ExecuteTime": {
     "start_time": "2024-01-22T19:45:42.357760Z"
    }
   },
   "outputs": [
    {
     "ename": "KeyError",
     "evalue": "'trip'",
     "output_type": "error",
     "traceback": [
      "\u001B[0;31m---------------------------------------------------------------------------\u001B[0m",
      "\u001B[0;31mKeyError\u001B[0m                                  Traceback (most recent call last)",
      "\u001B[0;32m/var/folders/x2/jj0kgq010j128mdwvs89btf00000gp/T/ipykernel_40187/933787910.py\u001B[0m in \u001B[0;36m?\u001B[0;34m()\u001B[0m\n\u001B[0;32m----> 1\u001B[0;31m \u001B[0mflights_and_trains\u001B[0m \u001B[0;34m=\u001B[0m \u001B[0mpd\u001B[0m\u001B[0;34m.\u001B[0m\u001B[0mmerge\u001B[0m\u001B[0;34m(\u001B[0m\u001B[0mreduced_train_routes\u001B[0m\u001B[0;34m,\u001B[0m \u001B[0mreduced_flights\u001B[0m\u001B[0;34m,\u001B[0m \u001B[0mon\u001B[0m\u001B[0;34m=\u001B[0m\u001B[0;34m'trip'\u001B[0m\u001B[0;34m,\u001B[0m \u001B[0mhow\u001B[0m\u001B[0;34m=\u001B[0m\u001B[0;34m'inner'\u001B[0m\u001B[0;34m)\u001B[0m\u001B[0;34m\u001B[0m\u001B[0;34m\u001B[0m\u001B[0m\n\u001B[0m\u001B[1;32m      2\u001B[0m \u001B[0mflights_and_trains\u001B[0m\u001B[0;34m\u001B[0m\u001B[0;34m\u001B[0m\u001B[0m\n",
      "\u001B[0;32m~/DataspellProjects/DOPP_group18/venv/lib/python3.11/site-packages/pandas/core/reshape/merge.py\u001B[0m in \u001B[0;36m?\u001B[0;34m(left, right, how, on, left_on, right_on, left_index, right_index, sort, suffixes, copy, indicator, validate)\u001B[0m\n\u001B[1;32m    166\u001B[0m             \u001B[0mvalidate\u001B[0m\u001B[0;34m=\u001B[0m\u001B[0mvalidate\u001B[0m\u001B[0;34m,\u001B[0m\u001B[0;34m\u001B[0m\u001B[0;34m\u001B[0m\u001B[0m\n\u001B[1;32m    167\u001B[0m             \u001B[0mcopy\u001B[0m\u001B[0;34m=\u001B[0m\u001B[0mcopy\u001B[0m\u001B[0;34m,\u001B[0m\u001B[0;34m\u001B[0m\u001B[0;34m\u001B[0m\u001B[0m\n\u001B[1;32m    168\u001B[0m         )\n\u001B[1;32m    169\u001B[0m     \u001B[0;32melse\u001B[0m\u001B[0;34m:\u001B[0m\u001B[0;34m\u001B[0m\u001B[0;34m\u001B[0m\u001B[0m\n\u001B[0;32m--> 170\u001B[0;31m         op = _MergeOperation(\n\u001B[0m\u001B[1;32m    171\u001B[0m             \u001B[0mleft_df\u001B[0m\u001B[0;34m,\u001B[0m\u001B[0;34m\u001B[0m\u001B[0;34m\u001B[0m\u001B[0m\n\u001B[1;32m    172\u001B[0m             \u001B[0mright_df\u001B[0m\u001B[0;34m,\u001B[0m\u001B[0;34m\u001B[0m\u001B[0;34m\u001B[0m\u001B[0m\n\u001B[1;32m    173\u001B[0m             \u001B[0mhow\u001B[0m\u001B[0;34m=\u001B[0m\u001B[0mhow\u001B[0m\u001B[0;34m,\u001B[0m\u001B[0;34m\u001B[0m\u001B[0;34m\u001B[0m\u001B[0m\n",
      "\u001B[0;32m~/DataspellProjects/DOPP_group18/venv/lib/python3.11/site-packages/pandas/core/reshape/merge.py\u001B[0m in \u001B[0;36m?\u001B[0;34m(self, left, right, how, on, left_on, right_on, left_index, right_index, sort, suffixes, indicator, validate)\u001B[0m\n\u001B[1;32m    790\u001B[0m             \u001B[0mself\u001B[0m\u001B[0;34m.\u001B[0m\u001B[0mright_join_keys\u001B[0m\u001B[0;34m,\u001B[0m\u001B[0;34m\u001B[0m\u001B[0;34m\u001B[0m\u001B[0m\n\u001B[1;32m    791\u001B[0m             \u001B[0mself\u001B[0m\u001B[0;34m.\u001B[0m\u001B[0mjoin_names\u001B[0m\u001B[0;34m,\u001B[0m\u001B[0;34m\u001B[0m\u001B[0;34m\u001B[0m\u001B[0m\n\u001B[1;32m    792\u001B[0m             \u001B[0mleft_drop\u001B[0m\u001B[0;34m,\u001B[0m\u001B[0;34m\u001B[0m\u001B[0;34m\u001B[0m\u001B[0m\n\u001B[1;32m    793\u001B[0m             \u001B[0mright_drop\u001B[0m\u001B[0;34m,\u001B[0m\u001B[0;34m\u001B[0m\u001B[0;34m\u001B[0m\u001B[0m\n\u001B[0;32m--> 794\u001B[0;31m         ) = self._get_merge_keys()\n\u001B[0m\u001B[1;32m    795\u001B[0m \u001B[0;34m\u001B[0m\u001B[0m\n\u001B[1;32m    796\u001B[0m         \u001B[0;32mif\u001B[0m \u001B[0mleft_drop\u001B[0m\u001B[0;34m:\u001B[0m\u001B[0;34m\u001B[0m\u001B[0;34m\u001B[0m\u001B[0m\n\u001B[1;32m    797\u001B[0m             \u001B[0mself\u001B[0m\u001B[0;34m.\u001B[0m\u001B[0mleft\u001B[0m \u001B[0;34m=\u001B[0m \u001B[0mself\u001B[0m\u001B[0;34m.\u001B[0m\u001B[0mleft\u001B[0m\u001B[0;34m.\u001B[0m\u001B[0m_drop_labels_or_levels\u001B[0m\u001B[0;34m(\u001B[0m\u001B[0mleft_drop\u001B[0m\u001B[0;34m)\u001B[0m\u001B[0;34m\u001B[0m\u001B[0;34m\u001B[0m\u001B[0m\n",
      "\u001B[0;32m~/DataspellProjects/DOPP_group18/venv/lib/python3.11/site-packages/pandas/core/reshape/merge.py\u001B[0m in \u001B[0;36m?\u001B[0;34m(self)\u001B[0m\n\u001B[1;32m   1293\u001B[0m                         \u001B[0;31m# Then we're either Hashable or a wrong-length arraylike,\u001B[0m\u001B[0;34m\u001B[0m\u001B[0;34m\u001B[0m\u001B[0m\n\u001B[1;32m   1294\u001B[0m                         \u001B[0;31m#  the latter of which will raise\u001B[0m\u001B[0;34m\u001B[0m\u001B[0;34m\u001B[0m\u001B[0m\n\u001B[1;32m   1295\u001B[0m                         \u001B[0mrk\u001B[0m \u001B[0;34m=\u001B[0m \u001B[0mcast\u001B[0m\u001B[0;34m(\u001B[0m\u001B[0mHashable\u001B[0m\u001B[0;34m,\u001B[0m \u001B[0mrk\u001B[0m\u001B[0;34m)\u001B[0m\u001B[0;34m\u001B[0m\u001B[0;34m\u001B[0m\u001B[0m\n\u001B[1;32m   1296\u001B[0m                         \u001B[0;32mif\u001B[0m \u001B[0mrk\u001B[0m \u001B[0;32mis\u001B[0m \u001B[0;32mnot\u001B[0m \u001B[0;32mNone\u001B[0m\u001B[0;34m:\u001B[0m\u001B[0;34m\u001B[0m\u001B[0;34m\u001B[0m\u001B[0m\n\u001B[0;32m-> 1297\u001B[0;31m                             \u001B[0mright_keys\u001B[0m\u001B[0;34m.\u001B[0m\u001B[0mappend\u001B[0m\u001B[0;34m(\u001B[0m\u001B[0mright\u001B[0m\u001B[0;34m.\u001B[0m\u001B[0m_get_label_or_level_values\u001B[0m\u001B[0;34m(\u001B[0m\u001B[0mrk\u001B[0m\u001B[0;34m)\u001B[0m\u001B[0;34m)\u001B[0m\u001B[0;34m\u001B[0m\u001B[0;34m\u001B[0m\u001B[0m\n\u001B[0m\u001B[1;32m   1298\u001B[0m                         \u001B[0;32melse\u001B[0m\u001B[0;34m:\u001B[0m\u001B[0;34m\u001B[0m\u001B[0;34m\u001B[0m\u001B[0m\n\u001B[1;32m   1299\u001B[0m                             \u001B[0;31m# work-around for merge_asof(right_index=True)\u001B[0m\u001B[0;34m\u001B[0m\u001B[0;34m\u001B[0m\u001B[0m\n\u001B[1;32m   1300\u001B[0m                             \u001B[0mright_keys\u001B[0m\u001B[0;34m.\u001B[0m\u001B[0mappend\u001B[0m\u001B[0;34m(\u001B[0m\u001B[0mright\u001B[0m\u001B[0;34m.\u001B[0m\u001B[0mindex\u001B[0m\u001B[0;34m.\u001B[0m\u001B[0m_values\u001B[0m\u001B[0;34m)\u001B[0m\u001B[0;34m\u001B[0m\u001B[0;34m\u001B[0m\u001B[0m\n",
      "\u001B[0;32m~/DataspellProjects/DOPP_group18/venv/lib/python3.11/site-packages/pandas/core/generic.py\u001B[0m in \u001B[0;36m?\u001B[0;34m(self, key, axis)\u001B[0m\n\u001B[1;32m   1906\u001B[0m             \u001B[0mvalues\u001B[0m \u001B[0;34m=\u001B[0m \u001B[0mself\u001B[0m\u001B[0;34m.\u001B[0m\u001B[0mxs\u001B[0m\u001B[0;34m(\u001B[0m\u001B[0mkey\u001B[0m\u001B[0;34m,\u001B[0m \u001B[0maxis\u001B[0m\u001B[0;34m=\u001B[0m\u001B[0mother_axes\u001B[0m\u001B[0;34m[\u001B[0m\u001B[0;36m0\u001B[0m\u001B[0;34m]\u001B[0m\u001B[0;34m)\u001B[0m\u001B[0;34m.\u001B[0m\u001B[0m_values\u001B[0m\u001B[0;34m\u001B[0m\u001B[0;34m\u001B[0m\u001B[0m\n\u001B[1;32m   1907\u001B[0m         \u001B[0;32melif\u001B[0m \u001B[0mself\u001B[0m\u001B[0;34m.\u001B[0m\u001B[0m_is_level_reference\u001B[0m\u001B[0;34m(\u001B[0m\u001B[0mkey\u001B[0m\u001B[0;34m,\u001B[0m \u001B[0maxis\u001B[0m\u001B[0;34m=\u001B[0m\u001B[0maxis\u001B[0m\u001B[0;34m)\u001B[0m\u001B[0;34m:\u001B[0m\u001B[0;34m\u001B[0m\u001B[0;34m\u001B[0m\u001B[0m\n\u001B[1;32m   1908\u001B[0m             \u001B[0mvalues\u001B[0m \u001B[0;34m=\u001B[0m \u001B[0mself\u001B[0m\u001B[0;34m.\u001B[0m\u001B[0maxes\u001B[0m\u001B[0;34m[\u001B[0m\u001B[0maxis\u001B[0m\u001B[0;34m]\u001B[0m\u001B[0;34m.\u001B[0m\u001B[0mget_level_values\u001B[0m\u001B[0;34m(\u001B[0m\u001B[0mkey\u001B[0m\u001B[0;34m)\u001B[0m\u001B[0;34m.\u001B[0m\u001B[0m_values\u001B[0m\u001B[0;34m\u001B[0m\u001B[0;34m\u001B[0m\u001B[0m\n\u001B[1;32m   1909\u001B[0m         \u001B[0;32melse\u001B[0m\u001B[0;34m:\u001B[0m\u001B[0;34m\u001B[0m\u001B[0;34m\u001B[0m\u001B[0m\n\u001B[0;32m-> 1910\u001B[0;31m             \u001B[0;32mraise\u001B[0m \u001B[0mKeyError\u001B[0m\u001B[0;34m(\u001B[0m\u001B[0mkey\u001B[0m\u001B[0;34m)\u001B[0m\u001B[0;34m\u001B[0m\u001B[0;34m\u001B[0m\u001B[0m\n\u001B[0m\u001B[1;32m   1911\u001B[0m \u001B[0;34m\u001B[0m\u001B[0m\n\u001B[1;32m   1912\u001B[0m         \u001B[0;31m# Check for duplicates\u001B[0m\u001B[0;34m\u001B[0m\u001B[0;34m\u001B[0m\u001B[0m\n\u001B[1;32m   1913\u001B[0m         \u001B[0;32mif\u001B[0m \u001B[0mvalues\u001B[0m\u001B[0;34m.\u001B[0m\u001B[0mndim\u001B[0m \u001B[0;34m>\u001B[0m \u001B[0;36m1\u001B[0m\u001B[0;34m:\u001B[0m\u001B[0;34m\u001B[0m\u001B[0;34m\u001B[0m\u001B[0m\n",
      "\u001B[0;31mKeyError\u001B[0m: 'trip'"
     ]
    }
   ],
   "source": [
    "flights_and_trains = pd.merge(reduced_train_routes, reduced_flights, on='trip', how='inner')\n",
    "flights_and_trains"
   ]
  },
  {
   "cell_type": "markdown",
   "id": "378783ef870fa2da",
   "metadata": {
    "collapsed": false
   },
   "source": [
    "## Trying geolocation"
   ]
  },
  {
   "cell_type": "markdown",
   "id": "64200446344c7f52",
   "metadata": {
    "collapsed": false
   },
   "source": [
    "### Testing Basemap"
   ]
  },
  {
   "cell_type": "code",
   "execution_count": 43,
   "id": "cd52415ff290d2ee",
   "metadata": {
    "collapsed": false,
    "ExecuteTime": {
     "end_time": "2024-01-22T19:45:42.606684Z",
     "start_time": "2024-01-22T19:45:42.525710Z"
    }
   },
   "outputs": [],
   "source": [
    "#!pip install basemap"
   ]
  },
  {
   "cell_type": "code",
   "execution_count": 44,
   "id": "1fdd3571a7a3e898",
   "metadata": {
    "collapsed": false,
    "ExecuteTime": {
     "end_time": "2024-01-22T19:45:42.726370Z",
     "start_time": "2024-01-22T19:45:42.608686Z"
    }
   },
   "outputs": [
    {
     "ename": "ModuleNotFoundError",
     "evalue": "No module named 'mpl_toolkits'",
     "output_type": "error",
     "traceback": [
      "\u001B[0;31m---------------------------------------------------------------------------\u001B[0m",
      "\u001B[0;31mModuleNotFoundError\u001B[0m                       Traceback (most recent call last)",
      "Cell \u001B[0;32mIn[44], line 1\u001B[0m\n\u001B[0;32m----> 1\u001B[0m \u001B[38;5;28;01mfrom\u001B[39;00m \u001B[38;5;21;01mmpl_toolkits\u001B[39;00m\u001B[38;5;21;01m.\u001B[39;00m\u001B[38;5;21;01mbasemap\u001B[39;00m \u001B[38;5;28;01mimport\u001B[39;00m Basemap\n\u001B[1;32m      2\u001B[0m \u001B[38;5;28;01mimport\u001B[39;00m \u001B[38;5;21;01mmatplotlib\u001B[39;00m\u001B[38;5;21;01m.\u001B[39;00m\u001B[38;5;21;01mpyplot\u001B[39;00m \u001B[38;5;28;01mas\u001B[39;00m \u001B[38;5;21;01mplt\u001B[39;00m\n",
      "\u001B[0;31mModuleNotFoundError\u001B[0m: No module named 'mpl_toolkits'"
     ]
    }
   ],
   "source": [
    "from mpl_toolkits.basemap import Basemap\n",
    "import matplotlib.pyplot as plt"
   ]
  },
  {
   "cell_type": "code",
   "execution_count": 45,
   "id": "a4bc8f15c92c6b59",
   "metadata": {
    "collapsed": false,
    "ExecuteTime": {
     "start_time": "2024-01-22T19:45:42.714887Z"
    }
   },
   "outputs": [
    {
     "ename": "NameError",
     "evalue": "name 'Basemap' is not defined",
     "output_type": "error",
     "traceback": [
      "\u001B[0;31m---------------------------------------------------------------------------\u001B[0m",
      "\u001B[0;31mNameError\u001B[0m                                 Traceback (most recent call last)",
      "Cell \u001B[0;32mIn[45], line 2\u001B[0m\n\u001B[1;32m      1\u001B[0m \u001B[38;5;66;03m# Create a Basemap instance for a map of Europe\u001B[39;00m\n\u001B[0;32m----> 2\u001B[0m \u001B[38;5;28mmap\u001B[39m \u001B[38;5;241m=\u001B[39m \u001B[43mBasemap\u001B[49m(projection\u001B[38;5;241m=\u001B[39m\u001B[38;5;124m'\u001B[39m\u001B[38;5;124mmerc\u001B[39m\u001B[38;5;124m'\u001B[39m,\n\u001B[1;32m      3\u001B[0m \t\t\t  llcrnrlat\u001B[38;5;241m=\u001B[39m\u001B[38;5;241m35\u001B[39m, urcrnrlat\u001B[38;5;241m=\u001B[39m\u001B[38;5;241m70\u001B[39m, \u001B[38;5;66;03m# Latitude limits (lower left, upper right)\u001B[39;00m\n\u001B[1;32m      4\u001B[0m \t\t\t  llcrnrlon\u001B[38;5;241m=\u001B[39m\u001B[38;5;241m-\u001B[39m\u001B[38;5;241m25\u001B[39m, urcrnrlon\u001B[38;5;241m=\u001B[39m\u001B[38;5;241m45\u001B[39m, \u001B[38;5;66;03m# Longitude limits\u001B[39;00m\n\u001B[1;32m      5\u001B[0m \t\t\t  resolution\u001B[38;5;241m=\u001B[39m\u001B[38;5;124m'\u001B[39m\u001B[38;5;124mi\u001B[39m\u001B[38;5;124m'\u001B[39m)\n\u001B[1;32m      7\u001B[0m \u001B[38;5;66;03m# Draw coastlines and countries\u001B[39;00m\n\u001B[1;32m      8\u001B[0m \u001B[38;5;28mmap\u001B[39m\u001B[38;5;241m.\u001B[39mdrawcoastlines() \u001B[38;5;66;03m# coastlines take up too much space\u001B[39;00m\n",
      "\u001B[0;31mNameError\u001B[0m: name 'Basemap' is not defined"
     ]
    }
   ],
   "source": [
    "# Create a Basemap instance for a map of Europe\n",
    "map = Basemap(projection='merc',\n",
    "\t\t\t  llcrnrlat=35, urcrnrlat=70, # Latitude limits (lower left, upper right)\n",
    "\t\t\t  llcrnrlon=-25, urcrnrlon=45, # Longitude limits\n",
    "\t\t\t  resolution='i')\n",
    "\n",
    "# Draw coastlines and countries\n",
    "map.drawcoastlines() # coastlines take up too much space\n",
    "map.drawcountries()\n",
    "\n",
    "# Define coordinates of Paris, Berlin, and London\n",
    "cities = {\n",
    "\t\"Paris\": (48.8566, 2.3522),\n",
    "\t\"Berlin\": (52.5200, 13.4050),\n",
    "\t\"London\": (51.5074, -0.1278)\n",
    "}\n",
    "\n",
    "# Plot each city\n",
    "for city, (lat, lon) in cities.items():\n",
    "\tx, y = map(lon, lat)\n",
    "\tmap.plot(x, y, marker='o', color='Red', markersize=5)\n",
    "\tplt.text(x, y, city)\n",
    "\n",
    "# Show the plot\n",
    "plt.show()"
   ]
  },
  {
   "cell_type": "markdown",
   "id": "7d0f0ba0a115c962",
   "metadata": {
    "collapsed": false
   },
   "source": [
    "### Airports"
   ]
  },
  {
   "cell_type": "code",
   "execution_count": 46,
   "id": "48f6f49b79f331f4",
   "metadata": {
    "collapsed": false,
    "ExecuteTime": {
     "end_time": "2024-01-22T19:45:42.802434Z",
     "start_time": "2024-01-22T19:45:42.736958Z"
    }
   },
   "outputs": [
    {
     "name": "stdout",
     "output_type": "stream",
     "text": [
      "Number of airports we are working with: 313\n"
     ]
    }
   ],
   "source": [
    "air_codes_set = set(flights[\"departure airport\"]) | set(flights[\"arrival airport\"])\n",
    "print(f'Number of airports we are working with: {len(air_codes_set)}')"
   ]
  },
  {
   "cell_type": "code",
   "execution_count": 47,
   "id": "c9c02d598bb94959",
   "metadata": {
    "collapsed": false,
    "ExecuteTime": {
     "end_time": "2024-01-22T19:45:42.822907Z",
     "start_time": "2024-01-22T19:45:42.764084Z"
    }
   },
   "outputs": [
    {
     "data": {
      "text/plain": "          id ident            type  \\\n13969   4614  BKPR  medium_airport   \n22121   2155  EBBR   large_airport   \n22129   2157  EBCI  medium_airport   \n22177   2162  EBLG  medium_airport   \n22398   2210  EDDC  medium_airport   \n...      ...   ...             ...   \n72929  26408  UWOO  medium_airport   \n72930  26409  UWOR  medium_airport   \n72932  32155  UWPP  medium_airport   \n72944  26411  UWUU   large_airport   \n72951  26412  UWWW   large_airport   \n\n                                              name  latitude_deg  \\\n13969  Priština Adem Jashari International Airport     42.572800   \n22121                             Brussels Airport     50.901402   \n22129             Brussels South Charleroi Airport     50.460982   \n22177                                Liège Airport     50.638574   \n22398                              Dresden Airport     51.134123   \n...                                            ...           ...   \n72929                     Orenburg Central Airport     51.795799   \n72930                                 Orsk Airport     51.072498   \n72932                                Penza Airport     53.110600   \n72944                    Ufa International Airport     54.557499   \n72951               Kurumoch International Airport     53.504902   \n\n       longitude_deg  elevation_ft continent iso_country iso_region  \\\n13969      21.035801        1789.0        EU          XK      XK-01   \n22121       4.484440         175.0        EU          BE     BE-BRU   \n22129       4.457158         614.0        EU          BE     BE-WHT   \n22177       5.443897         659.0        EU          BE     BE-WLG   \n22398      13.767831         755.0        EU          DE      DE-SN   \n...              ...           ...       ...         ...        ...   \n72929      55.456699         387.0        EU          RU     RU-ORE   \n72930      58.595600         909.0        AS          RU     RU-ORE   \n72932      45.021099         614.0        EU          RU     RU-PNZ   \n72944      55.874401         449.0        EU          RU      RU-BA   \n72951      50.164299         477.0        EU          RU     RU-SAM   \n\n         municipality scheduled_service gps_code iata_code local_code  \\\n13969       Prishtina               yes     BKPR       PRN        NaN   \n22121        Zaventem               yes     EBBR       BRU        NaN   \n22129       Charleroi               yes     EBCI       CRL        NaN   \n22177  Grâce-Hollogne               yes     EBLG       LGG        NaN   \n22398         Dresden               yes     EDDC       DRS        NaN   \n...               ...               ...      ...       ...        ...   \n72929        Orenburg               yes     UWOO       REN        NaN   \n72930            Orsk               yes     UWOR       OSW        NaN   \n72932           Penza               yes     UWPP       PEZ        NaN   \n72944             Ufa               yes     UWUU       UFA        NaN   \n72951          Samara               yes     UWWW       KUF        NaN   \n\n                                               home_link  \\\n13969                    http://www.airportpristina.com/   \n22121                  http://www.brusselsairport.be/en/   \n22129  http://www.charleroi-airport.com/doc.php?nd=o2...   \n22177                        http://www.liegeairport.be/   \n22398        http://www.dresden-airport.de/en/index.html   \n...                                                  ...   \n72929                    http://www.airoport.orenair.ru/   \n72930                                                NaN   \n72932                                                NaN   \n72944                       http://www.airportufa.ru/en/   \n72951                       http://airport.samara.ru/en/   \n\n                                          wikipedia_link  \\\n13969  https://en.wikipedia.org/wiki/Pristina_Interna...   \n22121     https://en.wikipedia.org/wiki/Brussels_Airport   \n22129  https://en.wikipedia.org/wiki/Brussels_South_C...   \n22177   https://en.wikipedia.org/wiki/Li%C3%A8ge_Airport   \n22398      https://en.wikipedia.org/wiki/Dresden_Airport   \n...                                                  ...   \n72929  https://en.wikipedia.org/wiki/Orenburg_Tsentra...   \n72930         https://en.wikipedia.org/wiki/Orsk_Airport   \n72932        https://en.wikipedia.org/wiki/Penza_Airport   \n72944  https://en.wikipedia.org/wiki/Ufa_Internationa...   \n72951  https://en.wikipedia.org/wiki/Kurumoch_Interna...   \n\n                                                keywords  \n13969                   LYPR, Pristina, Slatina Air Base  \n22121                  Brussels National, Zaventem, EBMB  \n22129                                  Gosselies Airport  \n22177                                            Bierset  \n22398                                                NaN  \n...                                                  ...  \n72929  Orenburg Tsentralny Airport, Аэропорт Центральный  \n72930                                                NaN  \n72932                                        Penza South  \n72944                         Международный аэропорт Уфа  \n72951                                                NaN  \n\n[313 rows x 18 columns]",
      "text/html": "<div>\n<style scoped>\n    .dataframe tbody tr th:only-of-type {\n        vertical-align: middle;\n    }\n\n    .dataframe tbody tr th {\n        vertical-align: top;\n    }\n\n    .dataframe thead th {\n        text-align: right;\n    }\n</style>\n<table border=\"1\" class=\"dataframe\">\n  <thead>\n    <tr style=\"text-align: right;\">\n      <th></th>\n      <th>id</th>\n      <th>ident</th>\n      <th>type</th>\n      <th>name</th>\n      <th>latitude_deg</th>\n      <th>longitude_deg</th>\n      <th>elevation_ft</th>\n      <th>continent</th>\n      <th>iso_country</th>\n      <th>iso_region</th>\n      <th>municipality</th>\n      <th>scheduled_service</th>\n      <th>gps_code</th>\n      <th>iata_code</th>\n      <th>local_code</th>\n      <th>home_link</th>\n      <th>wikipedia_link</th>\n      <th>keywords</th>\n    </tr>\n  </thead>\n  <tbody>\n    <tr>\n      <th>13969</th>\n      <td>4614</td>\n      <td>BKPR</td>\n      <td>medium_airport</td>\n      <td>Priština Adem Jashari International Airport</td>\n      <td>42.572800</td>\n      <td>21.035801</td>\n      <td>1789.0</td>\n      <td>EU</td>\n      <td>XK</td>\n      <td>XK-01</td>\n      <td>Prishtina</td>\n      <td>yes</td>\n      <td>BKPR</td>\n      <td>PRN</td>\n      <td>NaN</td>\n      <td>http://www.airportpristina.com/</td>\n      <td>https://en.wikipedia.org/wiki/Pristina_Interna...</td>\n      <td>LYPR, Pristina, Slatina Air Base</td>\n    </tr>\n    <tr>\n      <th>22121</th>\n      <td>2155</td>\n      <td>EBBR</td>\n      <td>large_airport</td>\n      <td>Brussels Airport</td>\n      <td>50.901402</td>\n      <td>4.484440</td>\n      <td>175.0</td>\n      <td>EU</td>\n      <td>BE</td>\n      <td>BE-BRU</td>\n      <td>Zaventem</td>\n      <td>yes</td>\n      <td>EBBR</td>\n      <td>BRU</td>\n      <td>NaN</td>\n      <td>http://www.brusselsairport.be/en/</td>\n      <td>https://en.wikipedia.org/wiki/Brussels_Airport</td>\n      <td>Brussels National, Zaventem, EBMB</td>\n    </tr>\n    <tr>\n      <th>22129</th>\n      <td>2157</td>\n      <td>EBCI</td>\n      <td>medium_airport</td>\n      <td>Brussels South Charleroi Airport</td>\n      <td>50.460982</td>\n      <td>4.457158</td>\n      <td>614.0</td>\n      <td>EU</td>\n      <td>BE</td>\n      <td>BE-WHT</td>\n      <td>Charleroi</td>\n      <td>yes</td>\n      <td>EBCI</td>\n      <td>CRL</td>\n      <td>NaN</td>\n      <td>http://www.charleroi-airport.com/doc.php?nd=o2...</td>\n      <td>https://en.wikipedia.org/wiki/Brussels_South_C...</td>\n      <td>Gosselies Airport</td>\n    </tr>\n    <tr>\n      <th>22177</th>\n      <td>2162</td>\n      <td>EBLG</td>\n      <td>medium_airport</td>\n      <td>Liège Airport</td>\n      <td>50.638574</td>\n      <td>5.443897</td>\n      <td>659.0</td>\n      <td>EU</td>\n      <td>BE</td>\n      <td>BE-WLG</td>\n      <td>Grâce-Hollogne</td>\n      <td>yes</td>\n      <td>EBLG</td>\n      <td>LGG</td>\n      <td>NaN</td>\n      <td>http://www.liegeairport.be/</td>\n      <td>https://en.wikipedia.org/wiki/Li%C3%A8ge_Airport</td>\n      <td>Bierset</td>\n    </tr>\n    <tr>\n      <th>22398</th>\n      <td>2210</td>\n      <td>EDDC</td>\n      <td>medium_airport</td>\n      <td>Dresden Airport</td>\n      <td>51.134123</td>\n      <td>13.767831</td>\n      <td>755.0</td>\n      <td>EU</td>\n      <td>DE</td>\n      <td>DE-SN</td>\n      <td>Dresden</td>\n      <td>yes</td>\n      <td>EDDC</td>\n      <td>DRS</td>\n      <td>NaN</td>\n      <td>http://www.dresden-airport.de/en/index.html</td>\n      <td>https://en.wikipedia.org/wiki/Dresden_Airport</td>\n      <td>NaN</td>\n    </tr>\n    <tr>\n      <th>...</th>\n      <td>...</td>\n      <td>...</td>\n      <td>...</td>\n      <td>...</td>\n      <td>...</td>\n      <td>...</td>\n      <td>...</td>\n      <td>...</td>\n      <td>...</td>\n      <td>...</td>\n      <td>...</td>\n      <td>...</td>\n      <td>...</td>\n      <td>...</td>\n      <td>...</td>\n      <td>...</td>\n      <td>...</td>\n      <td>...</td>\n    </tr>\n    <tr>\n      <th>72929</th>\n      <td>26408</td>\n      <td>UWOO</td>\n      <td>medium_airport</td>\n      <td>Orenburg Central Airport</td>\n      <td>51.795799</td>\n      <td>55.456699</td>\n      <td>387.0</td>\n      <td>EU</td>\n      <td>RU</td>\n      <td>RU-ORE</td>\n      <td>Orenburg</td>\n      <td>yes</td>\n      <td>UWOO</td>\n      <td>REN</td>\n      <td>NaN</td>\n      <td>http://www.airoport.orenair.ru/</td>\n      <td>https://en.wikipedia.org/wiki/Orenburg_Tsentra...</td>\n      <td>Orenburg Tsentralny Airport, Аэропорт Центральный</td>\n    </tr>\n    <tr>\n      <th>72930</th>\n      <td>26409</td>\n      <td>UWOR</td>\n      <td>medium_airport</td>\n      <td>Orsk Airport</td>\n      <td>51.072498</td>\n      <td>58.595600</td>\n      <td>909.0</td>\n      <td>AS</td>\n      <td>RU</td>\n      <td>RU-ORE</td>\n      <td>Orsk</td>\n      <td>yes</td>\n      <td>UWOR</td>\n      <td>OSW</td>\n      <td>NaN</td>\n      <td>NaN</td>\n      <td>https://en.wikipedia.org/wiki/Orsk_Airport</td>\n      <td>NaN</td>\n    </tr>\n    <tr>\n      <th>72932</th>\n      <td>32155</td>\n      <td>UWPP</td>\n      <td>medium_airport</td>\n      <td>Penza Airport</td>\n      <td>53.110600</td>\n      <td>45.021099</td>\n      <td>614.0</td>\n      <td>EU</td>\n      <td>RU</td>\n      <td>RU-PNZ</td>\n      <td>Penza</td>\n      <td>yes</td>\n      <td>UWPP</td>\n      <td>PEZ</td>\n      <td>NaN</td>\n      <td>NaN</td>\n      <td>https://en.wikipedia.org/wiki/Penza_Airport</td>\n      <td>Penza South</td>\n    </tr>\n    <tr>\n      <th>72944</th>\n      <td>26411</td>\n      <td>UWUU</td>\n      <td>large_airport</td>\n      <td>Ufa International Airport</td>\n      <td>54.557499</td>\n      <td>55.874401</td>\n      <td>449.0</td>\n      <td>EU</td>\n      <td>RU</td>\n      <td>RU-BA</td>\n      <td>Ufa</td>\n      <td>yes</td>\n      <td>UWUU</td>\n      <td>UFA</td>\n      <td>NaN</td>\n      <td>http://www.airportufa.ru/en/</td>\n      <td>https://en.wikipedia.org/wiki/Ufa_Internationa...</td>\n      <td>Международный аэропорт Уфа</td>\n    </tr>\n    <tr>\n      <th>72951</th>\n      <td>26412</td>\n      <td>UWWW</td>\n      <td>large_airport</td>\n      <td>Kurumoch International Airport</td>\n      <td>53.504902</td>\n      <td>50.164299</td>\n      <td>477.0</td>\n      <td>EU</td>\n      <td>RU</td>\n      <td>RU-SAM</td>\n      <td>Samara</td>\n      <td>yes</td>\n      <td>UWWW</td>\n      <td>KUF</td>\n      <td>NaN</td>\n      <td>http://airport.samara.ru/en/</td>\n      <td>https://en.wikipedia.org/wiki/Kurumoch_Interna...</td>\n      <td>NaN</td>\n    </tr>\n  </tbody>\n</table>\n<p>313 rows × 18 columns</p>\n</div>"
     },
     "execution_count": 47,
     "metadata": {},
     "output_type": "execute_result"
    }
   ],
   "source": [
    "our_airports = airports[airports['iata_code'].isin(air_codes_set)] # TODO: make sure airport_cities_set has original municipality names\n",
    "our_airports"
   ]
  },
  {
   "cell_type": "code",
   "execution_count": 48,
   "id": "da10efbc59e685c5",
   "metadata": {
    "collapsed": false,
    "ExecuteTime": {
     "end_time": "2024-01-22T19:45:42.869772Z",
     "start_time": "2024-01-22T19:45:42.825751Z"
    }
   },
   "outputs": [
    {
     "ename": "NameError",
     "evalue": "name 'Basemap' is not defined",
     "output_type": "error",
     "traceback": [
      "\u001B[0;31m---------------------------------------------------------------------------\u001B[0m",
      "\u001B[0;31mNameError\u001B[0m                                 Traceback (most recent call last)",
      "Cell \u001B[0;32mIn[48], line 2\u001B[0m\n\u001B[1;32m      1\u001B[0m \u001B[38;5;66;03m# Create a Basemap instance for a map of Europe\u001B[39;00m\n\u001B[0;32m----> 2\u001B[0m \u001B[38;5;28mmap\u001B[39m \u001B[38;5;241m=\u001B[39m \u001B[43mBasemap\u001B[49m(projection\u001B[38;5;241m=\u001B[39m\u001B[38;5;124m'\u001B[39m\u001B[38;5;124mmerc\u001B[39m\u001B[38;5;124m'\u001B[39m,\n\u001B[1;32m      3\u001B[0m \t\t\t  llcrnrlat\u001B[38;5;241m=\u001B[39m\u001B[38;5;241m35\u001B[39m, urcrnrlat\u001B[38;5;241m=\u001B[39m\u001B[38;5;241m70\u001B[39m,  \u001B[38;5;66;03m# Latitude limits (lower left, upper right)\u001B[39;00m\n\u001B[1;32m      4\u001B[0m \t\t\t  llcrnrlon\u001B[38;5;241m=\u001B[39m\u001B[38;5;241m-\u001B[39m\u001B[38;5;241m25\u001B[39m, urcrnrlon\u001B[38;5;241m=\u001B[39m\u001B[38;5;241m45\u001B[39m,  \u001B[38;5;66;03m# Longitude limits\u001B[39;00m\n\u001B[1;32m      5\u001B[0m \t\t\t  resolution\u001B[38;5;241m=\u001B[39m\u001B[38;5;124m'\u001B[39m\u001B[38;5;124mi\u001B[39m\u001B[38;5;124m'\u001B[39m)\n\u001B[1;32m      7\u001B[0m \u001B[38;5;66;03m# Draw coastlines and countries\u001B[39;00m\n\u001B[1;32m      8\u001B[0m \u001B[38;5;28mmap\u001B[39m\u001B[38;5;241m.\u001B[39mdrawcoastlines() \u001B[38;5;66;03m# coastlines take up too much space\u001B[39;00m\n",
      "\u001B[0;31mNameError\u001B[0m: name 'Basemap' is not defined"
     ]
    }
   ],
   "source": [
    "# Create a Basemap instance for a map of Europe\n",
    "map = Basemap(projection='merc',\n",
    "\t\t\t  llcrnrlat=35, urcrnrlat=70,  # Latitude limits (lower left, upper right)\n",
    "\t\t\t  llcrnrlon=-25, urcrnrlon=45,  # Longitude limits\n",
    "\t\t\t  resolution='i')\n",
    "\n",
    "# Draw coastlines and countries\n",
    "map.drawcoastlines() # coastlines take up too much space\n",
    "map.drawcountries()\n",
    "\n",
    "# Plot each city\n",
    "for index, row in our_airports.iterrows():\n",
    "\tx, y = map(row['longitude_deg'], row['latitude_deg'])\n",
    "\tmap.plot(x, y, marker='o', color='Red', markersize=5)\n",
    "\t# plt.text(x, y, row['municipality']) # text would take up too much space\n",
    "\n",
    "# Show the plot\n",
    "plt.show()"
   ]
  },
  {
   "cell_type": "markdown",
   "id": "1b235e1209c9305d",
   "metadata": {
    "collapsed": false
   },
   "source": [
    "### Cities"
   ]
  },
  {
   "cell_type": "code",
   "outputs": [
    {
     "data": {
      "text/plain": "            city      lat      lng  country iso2 admin_name  capital  \\\n0         Tirana  41.3289  19.8178  Albania   AL     Tiranë  primary   \n1          Vlorë  40.4667  19.4833  Albania   AL      Vlorë    admin   \n2          Kamëz  41.3833  19.7667  Albania   AL     Tiranë      NaN   \n3           Fier  40.7250  19.5572  Albania   AL       Fier    admin   \n4         Durrës  41.3111  19.4392  Albania   AL     Durrës    admin   \n...          ...      ...      ...      ...  ...        ...      ...   \n7923  Lommedalen  59.9500  10.4667   Norway   NO      Viken      NaN   \n7924       Barbu  58.4664   8.7781   Norway   NO      Agder      NaN   \n7925      Tiller  63.3550  10.3790   Norway   NO  Trøndelag      NaN   \n7926     Kolbotn  59.8112  10.8000   Norway   NO      Viken    minor   \n7927  Lillestrøm  59.9500  11.0833   Norway   NO      Viken    minor   \n\n      population  population_proper  \n0       418495.0           418495.0  \n1       130827.0           130827.0  \n2       126777.0           126777.0  \n3       120655.0           120655.0  \n4       113249.0           113249.0  \n...          ...                ...  \n7923     11200.0            11200.0  \n7924      6787.0             6787.0  \n7925      3595.0             3595.0  \n7926         NaN                NaN  \n7927         NaN                NaN  \n\n[7928 rows x 9 columns]",
      "text/html": "<div>\n<style scoped>\n    .dataframe tbody tr th:only-of-type {\n        vertical-align: middle;\n    }\n\n    .dataframe tbody tr th {\n        vertical-align: top;\n    }\n\n    .dataframe thead th {\n        text-align: right;\n    }\n</style>\n<table border=\"1\" class=\"dataframe\">\n  <thead>\n    <tr style=\"text-align: right;\">\n      <th></th>\n      <th>city</th>\n      <th>lat</th>\n      <th>lng</th>\n      <th>country</th>\n      <th>iso2</th>\n      <th>admin_name</th>\n      <th>capital</th>\n      <th>population</th>\n      <th>population_proper</th>\n    </tr>\n  </thead>\n  <tbody>\n    <tr>\n      <th>0</th>\n      <td>Tirana</td>\n      <td>41.3289</td>\n      <td>19.8178</td>\n      <td>Albania</td>\n      <td>AL</td>\n      <td>Tiranë</td>\n      <td>primary</td>\n      <td>418495.0</td>\n      <td>418495.0</td>\n    </tr>\n    <tr>\n      <th>1</th>\n      <td>Vlorë</td>\n      <td>40.4667</td>\n      <td>19.4833</td>\n      <td>Albania</td>\n      <td>AL</td>\n      <td>Vlorë</td>\n      <td>admin</td>\n      <td>130827.0</td>\n      <td>130827.0</td>\n    </tr>\n    <tr>\n      <th>2</th>\n      <td>Kamëz</td>\n      <td>41.3833</td>\n      <td>19.7667</td>\n      <td>Albania</td>\n      <td>AL</td>\n      <td>Tiranë</td>\n      <td>NaN</td>\n      <td>126777.0</td>\n      <td>126777.0</td>\n    </tr>\n    <tr>\n      <th>3</th>\n      <td>Fier</td>\n      <td>40.7250</td>\n      <td>19.5572</td>\n      <td>Albania</td>\n      <td>AL</td>\n      <td>Fier</td>\n      <td>admin</td>\n      <td>120655.0</td>\n      <td>120655.0</td>\n    </tr>\n    <tr>\n      <th>4</th>\n      <td>Durrës</td>\n      <td>41.3111</td>\n      <td>19.4392</td>\n      <td>Albania</td>\n      <td>AL</td>\n      <td>Durrës</td>\n      <td>admin</td>\n      <td>113249.0</td>\n      <td>113249.0</td>\n    </tr>\n    <tr>\n      <th>...</th>\n      <td>...</td>\n      <td>...</td>\n      <td>...</td>\n      <td>...</td>\n      <td>...</td>\n      <td>...</td>\n      <td>...</td>\n      <td>...</td>\n      <td>...</td>\n    </tr>\n    <tr>\n      <th>7923</th>\n      <td>Lommedalen</td>\n      <td>59.9500</td>\n      <td>10.4667</td>\n      <td>Norway</td>\n      <td>NO</td>\n      <td>Viken</td>\n      <td>NaN</td>\n      <td>11200.0</td>\n      <td>11200.0</td>\n    </tr>\n    <tr>\n      <th>7924</th>\n      <td>Barbu</td>\n      <td>58.4664</td>\n      <td>8.7781</td>\n      <td>Norway</td>\n      <td>NO</td>\n      <td>Agder</td>\n      <td>NaN</td>\n      <td>6787.0</td>\n      <td>6787.0</td>\n    </tr>\n    <tr>\n      <th>7925</th>\n      <td>Tiller</td>\n      <td>63.3550</td>\n      <td>10.3790</td>\n      <td>Norway</td>\n      <td>NO</td>\n      <td>Trøndelag</td>\n      <td>NaN</td>\n      <td>3595.0</td>\n      <td>3595.0</td>\n    </tr>\n    <tr>\n      <th>7926</th>\n      <td>Kolbotn</td>\n      <td>59.8112</td>\n      <td>10.8000</td>\n      <td>Norway</td>\n      <td>NO</td>\n      <td>Viken</td>\n      <td>minor</td>\n      <td>NaN</td>\n      <td>NaN</td>\n    </tr>\n    <tr>\n      <th>7927</th>\n      <td>Lillestrøm</td>\n      <td>59.9500</td>\n      <td>11.0833</td>\n      <td>Norway</td>\n      <td>NO</td>\n      <td>Viken</td>\n      <td>minor</td>\n      <td>NaN</td>\n      <td>NaN</td>\n    </tr>\n  </tbody>\n</table>\n<p>7928 rows × 9 columns</p>\n</div>"
     },
     "execution_count": 49,
     "metadata": {},
     "output_type": "execute_result"
    }
   ],
   "source": [
    "import os\n",
    "def create_combined_dataframe(directory):\n",
    "\tdataframes = []\n",
    "\n",
    "\t# Iterate over all files in the directory\n",
    "\tfor filename in os.listdir(directory):\n",
    "\t\tif filename.endswith('.csv'):\n",
    "\t\t\tfilepath = os.path.join(directory, filename)\n",
    "\t\t\tdf = pd.read_csv(filepath)\n",
    "\t\t\tdataframes.append(df)\n",
    "\n",
    "\t# Concatenate all df\n",
    "\tcombined_df = pd.concat(dataframes, ignore_index=True)\n",
    "\treturn combined_df\n",
    "\n",
    "#\n",
    "directory_path = '../datasets/Geolocation'  # Replace with your directory path\n",
    "cities_info = create_combined_dataframe(directory_path)\n",
    "cities_info"
   ],
   "metadata": {
    "collapsed": false,
    "ExecuteTime": {
     "end_time": "2024-01-22T19:45:43.008831Z",
     "start_time": "2024-01-22T19:45:42.868742Z"
    }
   },
   "id": "b7ae47f29202a66b",
   "execution_count": 49
  },
  {
   "cell_type": "code",
   "outputs": [
    {
     "data": {
      "text/plain": "country\nUnited Kingdom    680\nFrance            634\nRomania           528\nSlovakia          443\nFinland           357\nIreland           345\nMoldova           294\nItaly             281\nSlovenia          273\nSpain             266\nBulgaria          256\nSerbia            250\nRussia            235\nNetherlands       229\nGreece            225\nHungary           218\nUkraine           216\nTurkey            204\nSwitzerland       185\nAustria           182\nDenmark           172\nPoland            172\nCzechia           153\nBelarus           136\nLatvia            129\nLithuania         127\nGermany           123\nSweden            119\nAlbania           101\nEstonia            93\nKosovo             91\nMacedonia          75\nPortugal           54\nBelgium            52\nNorway             30\nName: count, dtype: int64"
     },
     "execution_count": 50,
     "metadata": {},
     "output_type": "execute_result"
    }
   ],
   "source": [
    "cities_info['country'].value_counts()"
   ],
   "metadata": {
    "collapsed": false,
    "ExecuteTime": {
     "end_time": "2024-01-22T19:45:43.017261Z",
     "start_time": "2024-01-22T19:45:42.935423Z"
    }
   },
   "id": "ee345286ed5bae67",
   "execution_count": 50
  },
  {
   "cell_type": "code",
   "execution_count": 51,
   "id": "2bc4fcca80a050d9",
   "metadata": {
    "collapsed": false,
    "ExecuteTime": {
     "end_time": "2024-01-22T19:45:43.098119Z",
     "start_time": "2024-01-22T19:45:43.021988Z"
    }
   },
   "outputs": [
    {
     "data": {
      "text/plain": "              city      lat      lng  country iso2 admin_name  capital  \\\n0           Tirana  41.3289  19.8178  Albania   AL     Tiranë  primary   \n1            Vlorë  40.4667  19.4833  Albania   AL      Vlorë    admin   \n2            Kamëz  41.3833  19.7667  Albania   AL     Tiranë      NaN   \n3             Fier  40.7250  19.5572  Albania   AL       Fier    admin   \n4           Durrës  41.3111  19.4392  Albania   AL     Durrës    admin   \n...            ...      ...      ...      ...  ...        ...      ...   \n7900     Stavanger  58.9700   5.7314   Norway   NO   Rogaland    admin   \n7902     Trondheim  63.4297  10.3933   Norway   NO  Trøndelag    minor   \n7903      Sandvika  59.8833  10.5167   Norway   NO      Viken    minor   \n7904  Kristiansand  58.1472   7.9972   Norway   NO      Agder    minor   \n7905       Drammen  59.7378  10.2050   Norway   NO      Viken    minor   \n\n      population  population_proper  \n0       418495.0           418495.0  \n1       130827.0           130827.0  \n2       126777.0           126777.0  \n3       120655.0           120655.0  \n4       113249.0           113249.0  \n...          ...                ...  \n7900    237369.0           129300.0  \n7902    194860.0           194860.0  \n7903    115543.0           115543.0  \n7904    113737.0           113737.0  \n7905    109416.0           109416.0  \n\n[888 rows x 9 columns]",
      "text/html": "<div>\n<style scoped>\n    .dataframe tbody tr th:only-of-type {\n        vertical-align: middle;\n    }\n\n    .dataframe tbody tr th {\n        vertical-align: top;\n    }\n\n    .dataframe thead th {\n        text-align: right;\n    }\n</style>\n<table border=\"1\" class=\"dataframe\">\n  <thead>\n    <tr style=\"text-align: right;\">\n      <th></th>\n      <th>city</th>\n      <th>lat</th>\n      <th>lng</th>\n      <th>country</th>\n      <th>iso2</th>\n      <th>admin_name</th>\n      <th>capital</th>\n      <th>population</th>\n      <th>population_proper</th>\n    </tr>\n  </thead>\n  <tbody>\n    <tr>\n      <th>0</th>\n      <td>Tirana</td>\n      <td>41.3289</td>\n      <td>19.8178</td>\n      <td>Albania</td>\n      <td>AL</td>\n      <td>Tiranë</td>\n      <td>primary</td>\n      <td>418495.0</td>\n      <td>418495.0</td>\n    </tr>\n    <tr>\n      <th>1</th>\n      <td>Vlorë</td>\n      <td>40.4667</td>\n      <td>19.4833</td>\n      <td>Albania</td>\n      <td>AL</td>\n      <td>Vlorë</td>\n      <td>admin</td>\n      <td>130827.0</td>\n      <td>130827.0</td>\n    </tr>\n    <tr>\n      <th>2</th>\n      <td>Kamëz</td>\n      <td>41.3833</td>\n      <td>19.7667</td>\n      <td>Albania</td>\n      <td>AL</td>\n      <td>Tiranë</td>\n      <td>NaN</td>\n      <td>126777.0</td>\n      <td>126777.0</td>\n    </tr>\n    <tr>\n      <th>3</th>\n      <td>Fier</td>\n      <td>40.7250</td>\n      <td>19.5572</td>\n      <td>Albania</td>\n      <td>AL</td>\n      <td>Fier</td>\n      <td>admin</td>\n      <td>120655.0</td>\n      <td>120655.0</td>\n    </tr>\n    <tr>\n      <th>4</th>\n      <td>Durrës</td>\n      <td>41.3111</td>\n      <td>19.4392</td>\n      <td>Albania</td>\n      <td>AL</td>\n      <td>Durrës</td>\n      <td>admin</td>\n      <td>113249.0</td>\n      <td>113249.0</td>\n    </tr>\n    <tr>\n      <th>...</th>\n      <td>...</td>\n      <td>...</td>\n      <td>...</td>\n      <td>...</td>\n      <td>...</td>\n      <td>...</td>\n      <td>...</td>\n      <td>...</td>\n      <td>...</td>\n    </tr>\n    <tr>\n      <th>7900</th>\n      <td>Stavanger</td>\n      <td>58.9700</td>\n      <td>5.7314</td>\n      <td>Norway</td>\n      <td>NO</td>\n      <td>Rogaland</td>\n      <td>admin</td>\n      <td>237369.0</td>\n      <td>129300.0</td>\n    </tr>\n    <tr>\n      <th>7902</th>\n      <td>Trondheim</td>\n      <td>63.4297</td>\n      <td>10.3933</td>\n      <td>Norway</td>\n      <td>NO</td>\n      <td>Trøndelag</td>\n      <td>minor</td>\n      <td>194860.0</td>\n      <td>194860.0</td>\n    </tr>\n    <tr>\n      <th>7903</th>\n      <td>Sandvika</td>\n      <td>59.8833</td>\n      <td>10.5167</td>\n      <td>Norway</td>\n      <td>NO</td>\n      <td>Viken</td>\n      <td>minor</td>\n      <td>115543.0</td>\n      <td>115543.0</td>\n    </tr>\n    <tr>\n      <th>7904</th>\n      <td>Kristiansand</td>\n      <td>58.1472</td>\n      <td>7.9972</td>\n      <td>Norway</td>\n      <td>NO</td>\n      <td>Agder</td>\n      <td>minor</td>\n      <td>113737.0</td>\n      <td>113737.0</td>\n    </tr>\n    <tr>\n      <th>7905</th>\n      <td>Drammen</td>\n      <td>59.7378</td>\n      <td>10.2050</td>\n      <td>Norway</td>\n      <td>NO</td>\n      <td>Viken</td>\n      <td>minor</td>\n      <td>109416.0</td>\n      <td>109416.0</td>\n    </tr>\n  </tbody>\n</table>\n<p>888 rows × 9 columns</p>\n</div>"
     },
     "execution_count": 51,
     "metadata": {},
     "output_type": "execute_result"
    }
   ],
   "source": [
    "cities_info = cities_info[cities_info['population_proper'] > 100000] # to avoid problems with small cities\n",
    "cities_info"
   ]
  },
  {
   "cell_type": "code",
   "outputs": [
    {
     "data": {
      "text/plain": "country\nRussia            172\nTurkey            159\nGermany            79\nSpain              62\nUnited Kingdom     52\nUkraine            46\nItaly              45\nFrance             40\nPoland             37\nNetherlands        29\nPortugal           24\nRomania            18\nBelarus            13\nSweden             12\nGreece              9\nBelgium             9\nFinland             9\nHungary             8\nNorway              7\nBulgaria            7\nAustria             6\nSwitzerland         6\nAlbania             6\nSerbia              5\nCzechia             5\nDenmark             4\nLithuania           4\nSlovakia            3\nIreland             3\nMoldova             2\nKosovo              2\nMacedonia           2\nSlovenia            1\nEstonia             1\nLatvia              1\nName: count, dtype: int64"
     },
     "execution_count": 52,
     "metadata": {},
     "output_type": "execute_result"
    }
   ],
   "source": [
    "cities_info['country'].value_counts()"
   ],
   "metadata": {
    "collapsed": false,
    "ExecuteTime": {
     "end_time": "2024-01-22T19:45:43.168364Z",
     "start_time": "2024-01-22T19:45:43.067543Z"
    }
   },
   "id": "e31e32cc05bb2462",
   "execution_count": 52
  },
  {
   "cell_type": "markdown",
   "id": "89830056f067e9da",
   "metadata": {
    "collapsed": false
   },
   "source": [
    "### Matching with distance"
   ]
  },
  {
   "cell_type": "code",
   "outputs": [],
   "source": [
    "import geopandas as gpd\n",
    "from shapely.geometry import Point"
   ],
   "metadata": {
    "collapsed": false,
    "ExecuteTime": {
     "end_time": "2024-01-22T19:45:43.267790Z",
     "start_time": "2024-01-22T19:45:43.154898Z"
    }
   },
   "id": "e5b2587cd0c0c6b8",
   "execution_count": 53
  },
  {
   "cell_type": "code",
   "outputs": [
    {
     "ename": "AttributeError",
     "evalue": "'DataFrame' object has no attribute 'longitude'",
     "output_type": "error",
     "traceback": [
      "\u001B[0;31m---------------------------------------------------------------------------\u001B[0m",
      "\u001B[0;31mAttributeError\u001B[0m                            Traceback (most recent call last)",
      "\u001B[0;32m/var/folders/x2/jj0kgq010j128mdwvs89btf00000gp/T/ipykernel_40187/2265120090.py\u001B[0m in \u001B[0;36m?\u001B[0;34m()\u001B[0m\n\u001B[0;32m----> 1\u001B[0;31m \u001B[0mgdf_airports\u001B[0m \u001B[0;34m=\u001B[0m \u001B[0mgpd\u001B[0m\u001B[0;34m.\u001B[0m\u001B[0mGeoDataFrame\u001B[0m\u001B[0;34m(\u001B[0m\u001B[0mour_airports\u001B[0m\u001B[0;34m,\u001B[0m \u001B[0mgeometry\u001B[0m\u001B[0;34m=\u001B[0m\u001B[0mgpd\u001B[0m\u001B[0;34m.\u001B[0m\u001B[0mpoints_from_xy\u001B[0m\u001B[0;34m(\u001B[0m\u001B[0mour_airports\u001B[0m\u001B[0;34m.\u001B[0m\u001B[0mlongitude\u001B[0m\u001B[0;34m,\u001B[0m \u001B[0mour_airports\u001B[0m\u001B[0;34m.\u001B[0m\u001B[0mlatitude\u001B[0m\u001B[0;34m)\u001B[0m\u001B[0;34m)\u001B[0m\u001B[0;34m\u001B[0m\u001B[0;34m\u001B[0m\u001B[0m\n\u001B[0m\u001B[1;32m      2\u001B[0m \u001B[0mgdf_cities\u001B[0m \u001B[0;34m=\u001B[0m \u001B[0mgpd\u001B[0m\u001B[0;34m.\u001B[0m\u001B[0mGeoDataFrame\u001B[0m\u001B[0;34m(\u001B[0m\u001B[0mcities_info\u001B[0m\u001B[0;34m,\u001B[0m \u001B[0mgeometry\u001B[0m\u001B[0;34m=\u001B[0m\u001B[0mgpd\u001B[0m\u001B[0;34m.\u001B[0m\u001B[0mpoints_from_xy\u001B[0m\u001B[0;34m(\u001B[0m\u001B[0mcities_info\u001B[0m\u001B[0;34m.\u001B[0m\u001B[0mlongitude\u001B[0m\u001B[0;34m,\u001B[0m \u001B[0mcities_info\u001B[0m\u001B[0;34m.\u001B[0m\u001B[0mlatitude\u001B[0m\u001B[0;34m)\u001B[0m\u001B[0;34m)\u001B[0m\u001B[0;34m\u001B[0m\u001B[0;34m\u001B[0m\u001B[0m\n",
      "\u001B[0;32m~/DataspellProjects/DOPP_group18/venv/lib/python3.11/site-packages/pandas/core/generic.py\u001B[0m in \u001B[0;36m?\u001B[0;34m(self, name)\u001B[0m\n\u001B[1;32m   6289\u001B[0m             \u001B[0;32mand\u001B[0m \u001B[0mname\u001B[0m \u001B[0;32mnot\u001B[0m \u001B[0;32min\u001B[0m \u001B[0mself\u001B[0m\u001B[0;34m.\u001B[0m\u001B[0m_accessors\u001B[0m\u001B[0;34m\u001B[0m\u001B[0;34m\u001B[0m\u001B[0m\n\u001B[1;32m   6290\u001B[0m             \u001B[0;32mand\u001B[0m \u001B[0mself\u001B[0m\u001B[0;34m.\u001B[0m\u001B[0m_info_axis\u001B[0m\u001B[0;34m.\u001B[0m\u001B[0m_can_hold_identifiers_and_holds_name\u001B[0m\u001B[0;34m(\u001B[0m\u001B[0mname\u001B[0m\u001B[0;34m)\u001B[0m\u001B[0;34m\u001B[0m\u001B[0;34m\u001B[0m\u001B[0m\n\u001B[1;32m   6291\u001B[0m         ):\n\u001B[1;32m   6292\u001B[0m             \u001B[0;32mreturn\u001B[0m \u001B[0mself\u001B[0m\u001B[0;34m[\u001B[0m\u001B[0mname\u001B[0m\u001B[0;34m]\u001B[0m\u001B[0;34m\u001B[0m\u001B[0;34m\u001B[0m\u001B[0m\n\u001B[0;32m-> 6293\u001B[0;31m         \u001B[0;32mreturn\u001B[0m \u001B[0mobject\u001B[0m\u001B[0;34m.\u001B[0m\u001B[0m__getattribute__\u001B[0m\u001B[0;34m(\u001B[0m\u001B[0mself\u001B[0m\u001B[0;34m,\u001B[0m \u001B[0mname\u001B[0m\u001B[0;34m)\u001B[0m\u001B[0;34m\u001B[0m\u001B[0;34m\u001B[0m\u001B[0m\n\u001B[0m",
      "\u001B[0;31mAttributeError\u001B[0m: 'DataFrame' object has no attribute 'longitude'"
     ]
    }
   ],
   "source": [
    "gdf_airports = gpd.GeoDataFrame(our_airports, geometry=gpd.points_from_xy(our_airports.longitude, our_airports.latitude))\n",
    "gdf_cities = gpd.GeoDataFrame(cities_info, geometry=gpd.points_from_xy(cities_info.longitude, cities_info.latitude))"
   ],
   "metadata": {
    "collapsed": false,
    "ExecuteTime": {
     "end_time": "2024-01-22T19:45:43.349425Z",
     "start_time": "2024-01-22T19:45:43.251926Z"
    }
   },
   "id": "1722f40d9df2ce26",
   "execution_count": 54
  },
  {
   "cell_type": "code",
   "execution_count": 55,
   "id": "40720194381e6fb8",
   "metadata": {
    "collapsed": false,
    "ExecuteTime": {
     "end_time": "2024-01-22T19:45:43.375601Z",
     "start_time": "2024-01-22T19:45:43.351288Z"
    }
   },
   "outputs": [],
   "source": [
    "# TODO: make a function that matches each airport with the closest (big) city based on coordinates"
   ]
  },
  {
   "cell_type": "markdown",
   "id": "3689cc4d371381df",
   "metadata": {
    "collapsed": false
   },
   "source": [
    "## Further steps"
   ]
  },
  {
   "cell_type": "markdown",
   "id": "5298a62dec5198cb",
   "metadata": {
    "collapsed": false
   },
   "source": []
  }
 ],
 "metadata": {
  "kernelspec": {
   "display_name": "Python 3",
   "language": "python",
   "name": "python3"
  },
  "language_info": {
   "codemirror_mode": {
    "name": "ipython",
    "version": 3
   },
   "file_extension": ".py",
   "mimetype": "text/x-python",
   "name": "python",
   "nbconvert_exporter": "python",
   "pygments_lexer": "ipython3",
   "version": "3.10.13"
  }
 },
 "nbformat": 4,
 "nbformat_minor": 5
}
