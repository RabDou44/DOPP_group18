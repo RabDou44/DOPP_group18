{
 "cells": [
  {
   "cell_type": "markdown",
   "source": [
    "## Rail transport performance in Europe in 2021"
   ],
   "metadata": {
    "collapsed": false
   },
   "id": "e515c79e8e779a37"
  },
  {
   "cell_type": "code",
   "execution_count": 1,
   "id": "initial_id",
   "metadata": {
    "collapsed": true,
    "ExecuteTime": {
     "end_time": "2023-12-12T11:29:43.235159Z",
     "start_time": "2023-12-12T11:29:41.916204Z"
    }
   },
   "outputs": [],
   "source": [
    "import pandas as pd"
   ]
  },
  {
   "cell_type": "code",
   "execution_count": 2,
   "outputs": [],
   "source": [
    "df = pd.read_csv('datasets/Rail_transport_performance_in_Europe_2021.csv')"
   ],
   "metadata": {
    "collapsed": false,
    "ExecuteTime": {
     "end_time": "2023-12-12T11:30:46.473829Z",
     "start_time": "2023-12-12T11:30:46.447170Z"
    }
   },
   "id": "1c197387a7cb9358"
  },
  {
   "cell_type": "code",
   "execution_count": 4,
   "outputs": [
    {
     "data": {
      "text/plain": "     country_larger_city HDC_code_larger  larger_city  pop_larger_city  \\\n0                     FR   GEOSTAT11_450        Paris          8900172   \n1                     FR   GEOSTAT11_450        Paris          8900172   \n2                     FR   GEOSTAT11_450        Paris          8900172   \n3                     FR   GEOSTAT11_450        Paris          8900172   \n4                     FR   GEOSTAT11_450        Paris          8900172   \n...                  ...             ...          ...              ...   \n6594                  HU   GEOSTAT11_506      Szolnok            51457   \n6595                  HU   GEOSTAT11_500          Érd            51285   \n6596                  IT   GEOSTAT11_770      Bitonto            50961   \n6597                  IT   GEOSTAT11_770      Bitonto            50961   \n6598                  IT   GEOSTAT11_734  Manfredonia            50684   \n\n     country_smaller_city HDC_code_smaller         smaller_city  \\\n0                      BE    GEOSTAT11_349  Bruxelles / Brussel   \n1                      FR    GEOSTAT11_361                Lille   \n2                      FR    GEOSTAT11_418                Rouen   \n3                      FR    GEOSTAT11_434       Cergy-Pontoise   \n4                      FR    GEOSTAT11_499                Tours   \n...                   ...              ...                  ...   \n6594                   HU    GEOSTAT11_500                  Érd   \n6595                   HU    GEOSTAT11_516             Veszprém   \n6596                   IT    GEOSTAT11_734          Manfredonia   \n6597                   IT    GEOSTAT11_761            Cerignola   \n6598                   IT    GEOSTAT11_761            Cerignola   \n\n      pop_smaller_city  crossborder distance_centroids  av_dist_opti  \\\n0              1233487         True   more than 120 km         260.8   \n1               911478        False   more than 120 km         202.0   \n2               298297        False              114.6         110.0   \n3               273138        False               30.6           4.8   \n4               211915        False   more than 120 km         187.7   \n...                ...          ...                ...           ...   \n6594             51285        False               99.6           NaN   \n6595             50141        False               82.2           NaN   \n6596             50684        False               86.8           NaN   \n6597             50074        False               68.5           NaN   \n6598             50074        False               40.5           NaN   \n\n      time_opti  speed_opti  av_dist_avt  time_avt  speed_avt  \n0          1.44       182.1        261.6      1.71      153.5  \n1          1.00       202.1        201.9      1.29      157.3  \n2          1.24        88.7        110.0      1.67       65.9  \n3          0.07        67.9          4.8      0.17       27.9  \n4          0.86       218.2        200.4      1.54      130.6  \n...         ...         ...          ...       ...        ...  \n6594        NaN         NaN          NaN       NaN        NaN  \n6595        NaN         NaN          NaN       NaN        NaN  \n6596        NaN         NaN          NaN       NaN        NaN  \n6597        NaN         NaN          NaN       NaN        NaN  \n6598        NaN         NaN          NaN       NaN        NaN  \n\n[6599 rows x 16 columns]",
      "text/html": "<div>\n<style scoped>\n    .dataframe tbody tr th:only-of-type {\n        vertical-align: middle;\n    }\n\n    .dataframe tbody tr th {\n        vertical-align: top;\n    }\n\n    .dataframe thead th {\n        text-align: right;\n    }\n</style>\n<table border=\"1\" class=\"dataframe\">\n  <thead>\n    <tr style=\"text-align: right;\">\n      <th></th>\n      <th>country_larger_city</th>\n      <th>HDC_code_larger</th>\n      <th>larger_city</th>\n      <th>pop_larger_city</th>\n      <th>country_smaller_city</th>\n      <th>HDC_code_smaller</th>\n      <th>smaller_city</th>\n      <th>pop_smaller_city</th>\n      <th>crossborder</th>\n      <th>distance_centroids</th>\n      <th>av_dist_opti</th>\n      <th>time_opti</th>\n      <th>speed_opti</th>\n      <th>av_dist_avt</th>\n      <th>time_avt</th>\n      <th>speed_avt</th>\n    </tr>\n  </thead>\n  <tbody>\n    <tr>\n      <th>0</th>\n      <td>FR</td>\n      <td>GEOSTAT11_450</td>\n      <td>Paris</td>\n      <td>8900172</td>\n      <td>BE</td>\n      <td>GEOSTAT11_349</td>\n      <td>Bruxelles / Brussel</td>\n      <td>1233487</td>\n      <td>True</td>\n      <td>more than 120 km</td>\n      <td>260.8</td>\n      <td>1.44</td>\n      <td>182.1</td>\n      <td>261.6</td>\n      <td>1.71</td>\n      <td>153.5</td>\n    </tr>\n    <tr>\n      <th>1</th>\n      <td>FR</td>\n      <td>GEOSTAT11_450</td>\n      <td>Paris</td>\n      <td>8900172</td>\n      <td>FR</td>\n      <td>GEOSTAT11_361</td>\n      <td>Lille</td>\n      <td>911478</td>\n      <td>False</td>\n      <td>more than 120 km</td>\n      <td>202.0</td>\n      <td>1.00</td>\n      <td>202.1</td>\n      <td>201.9</td>\n      <td>1.29</td>\n      <td>157.3</td>\n    </tr>\n    <tr>\n      <th>2</th>\n      <td>FR</td>\n      <td>GEOSTAT11_450</td>\n      <td>Paris</td>\n      <td>8900172</td>\n      <td>FR</td>\n      <td>GEOSTAT11_418</td>\n      <td>Rouen</td>\n      <td>298297</td>\n      <td>False</td>\n      <td>114.6</td>\n      <td>110.0</td>\n      <td>1.24</td>\n      <td>88.7</td>\n      <td>110.0</td>\n      <td>1.67</td>\n      <td>65.9</td>\n    </tr>\n    <tr>\n      <th>3</th>\n      <td>FR</td>\n      <td>GEOSTAT11_450</td>\n      <td>Paris</td>\n      <td>8900172</td>\n      <td>FR</td>\n      <td>GEOSTAT11_434</td>\n      <td>Cergy-Pontoise</td>\n      <td>273138</td>\n      <td>False</td>\n      <td>30.6</td>\n      <td>4.8</td>\n      <td>0.07</td>\n      <td>67.9</td>\n      <td>4.8</td>\n      <td>0.17</td>\n      <td>27.9</td>\n    </tr>\n    <tr>\n      <th>4</th>\n      <td>FR</td>\n      <td>GEOSTAT11_450</td>\n      <td>Paris</td>\n      <td>8900172</td>\n      <td>FR</td>\n      <td>GEOSTAT11_499</td>\n      <td>Tours</td>\n      <td>211915</td>\n      <td>False</td>\n      <td>more than 120 km</td>\n      <td>187.7</td>\n      <td>0.86</td>\n      <td>218.2</td>\n      <td>200.4</td>\n      <td>1.54</td>\n      <td>130.6</td>\n    </tr>\n    <tr>\n      <th>...</th>\n      <td>...</td>\n      <td>...</td>\n      <td>...</td>\n      <td>...</td>\n      <td>...</td>\n      <td>...</td>\n      <td>...</td>\n      <td>...</td>\n      <td>...</td>\n      <td>...</td>\n      <td>...</td>\n      <td>...</td>\n      <td>...</td>\n      <td>...</td>\n      <td>...</td>\n      <td>...</td>\n    </tr>\n    <tr>\n      <th>6594</th>\n      <td>HU</td>\n      <td>GEOSTAT11_506</td>\n      <td>Szolnok</td>\n      <td>51457</td>\n      <td>HU</td>\n      <td>GEOSTAT11_500</td>\n      <td>Érd</td>\n      <td>51285</td>\n      <td>False</td>\n      <td>99.6</td>\n      <td>NaN</td>\n      <td>NaN</td>\n      <td>NaN</td>\n      <td>NaN</td>\n      <td>NaN</td>\n      <td>NaN</td>\n    </tr>\n    <tr>\n      <th>6595</th>\n      <td>HU</td>\n      <td>GEOSTAT11_500</td>\n      <td>Érd</td>\n      <td>51285</td>\n      <td>HU</td>\n      <td>GEOSTAT11_516</td>\n      <td>Veszprém</td>\n      <td>50141</td>\n      <td>False</td>\n      <td>82.2</td>\n      <td>NaN</td>\n      <td>NaN</td>\n      <td>NaN</td>\n      <td>NaN</td>\n      <td>NaN</td>\n      <td>NaN</td>\n    </tr>\n    <tr>\n      <th>6596</th>\n      <td>IT</td>\n      <td>GEOSTAT11_770</td>\n      <td>Bitonto</td>\n      <td>50961</td>\n      <td>IT</td>\n      <td>GEOSTAT11_734</td>\n      <td>Manfredonia</td>\n      <td>50684</td>\n      <td>False</td>\n      <td>86.8</td>\n      <td>NaN</td>\n      <td>NaN</td>\n      <td>NaN</td>\n      <td>NaN</td>\n      <td>NaN</td>\n      <td>NaN</td>\n    </tr>\n    <tr>\n      <th>6597</th>\n      <td>IT</td>\n      <td>GEOSTAT11_770</td>\n      <td>Bitonto</td>\n      <td>50961</td>\n      <td>IT</td>\n      <td>GEOSTAT11_761</td>\n      <td>Cerignola</td>\n      <td>50074</td>\n      <td>False</td>\n      <td>68.5</td>\n      <td>NaN</td>\n      <td>NaN</td>\n      <td>NaN</td>\n      <td>NaN</td>\n      <td>NaN</td>\n      <td>NaN</td>\n    </tr>\n    <tr>\n      <th>6598</th>\n      <td>IT</td>\n      <td>GEOSTAT11_734</td>\n      <td>Manfredonia</td>\n      <td>50684</td>\n      <td>IT</td>\n      <td>GEOSTAT11_761</td>\n      <td>Cerignola</td>\n      <td>50074</td>\n      <td>False</td>\n      <td>40.5</td>\n      <td>NaN</td>\n      <td>NaN</td>\n      <td>NaN</td>\n      <td>NaN</td>\n      <td>NaN</td>\n      <td>NaN</td>\n    </tr>\n  </tbody>\n</table>\n<p>6599 rows × 16 columns</p>\n</div>"
     },
     "execution_count": 4,
     "metadata": {},
     "output_type": "execute_result"
    }
   ],
   "source": [
    "df"
   ],
   "metadata": {
    "collapsed": false,
    "ExecuteTime": {
     "end_time": "2023-12-12T11:31:36.748737Z",
     "start_time": "2023-12-12T11:31:36.722723Z"
    }
   },
   "id": "b1e85c80f5c48d3e"
  },
  {
   "cell_type": "code",
   "execution_count": 5,
   "outputs": [
    {
     "data": {
      "text/plain": "country_larger_city\nUK    2336\nNL    1037\nDE    1025\nES     496\nIT     487\nPL     301\nFR     287\nBE     184\nRO      91\nCZ      75\nCH      68\nHU      43\nBG      42\nSE      30\nSK      24\nPT      20\nAT      16\nDK       7\nSI       7\nLT       5\nIE       4\nEL       4\nFI       3\nHR       3\nLU       3\nNO       1\nName: count, dtype: int64"
     },
     "execution_count": 5,
     "metadata": {},
     "output_type": "execute_result"
    }
   ],
   "source": [
    "df['country_larger_city'].value_counts()"
   ],
   "metadata": {
    "collapsed": false,
    "ExecuteTime": {
     "end_time": "2023-12-12T11:32:11.478525Z",
     "start_time": "2023-12-12T11:32:11.467273Z"
    }
   },
   "id": "ca05440a82d71739"
  },
  {
   "cell_type": "code",
   "execution_count": 7,
   "outputs": [
    {
     "data": {
      "text/plain": "<Axes: ylabel='country_larger_city'>"
     },
     "execution_count": 7,
     "metadata": {},
     "output_type": "execute_result"
    },
    {
     "data": {
      "text/plain": "<Figure size 640x480 with 1 Axes>",
      "image/png": "[encoded data removed]"
     },
     "metadata": {},
     "output_type": "display_data"
    }
   ],
   "source": [
    "df['country_larger_city'].value_counts().plot(kind='barh')"
   ],
   "metadata": {
    "collapsed": false,
    "ExecuteTime": {
     "end_time": "2023-12-12T11:33:27.179826Z",
     "start_time": "2023-12-12T11:33:27.081064Z"
    }
   },
   "id": "1f3e5434fbeaf070"
  },
  {
   "cell_type": "code",
   "execution_count": 10,
   "outputs": [
    {
     "data": {
      "text/plain": "country_smaller_city\nUK    2335\nNL    1066\nDE     982\nES     490\nIT     481\nFR     280\nPL     271\nBE     204\nCZ     104\nRO      92\nCH      63\nHU      55\nBG      36\nSK      31\nSE      30\nPT      22\nAT      17\nDK       7\nEL       5\nMC       5\nIE       4\nSI       4\nHR       4\nFI       3\nLT       3\nLU       3\nNO       1\nLV       1\nName: count, dtype: int64"
     },
     "execution_count": 10,
     "metadata": {},
     "output_type": "execute_result"
    }
   ],
   "source": [
    "df['country_smaller_city'].value_counts()"
   ],
   "metadata": {
    "collapsed": false,
    "ExecuteTime": {
     "end_time": "2023-12-12T11:36:40.408986Z",
     "start_time": "2023-12-12T11:36:40.395628Z"
    }
   },
   "id": "a016ec6052129d9d"
  },
  {
   "cell_type": "code",
   "execution_count": 8,
   "outputs": [
    {
     "data": {
      "text/plain": "count    3434.000000\nmean        0.948771\nstd         0.399241\nmin         0.030000\n25%         0.660000\n50%         1.020000\n75%         1.290000\nmax         1.500000\nName: time_opti, dtype: float64"
     },
     "execution_count": 8,
     "metadata": {},
     "output_type": "execute_result"
    }
   ],
   "source": [
    "df['time_opti'].describe()"
   ],
   "metadata": {
    "collapsed": false,
    "ExecuteTime": {
     "end_time": "2023-12-12T11:35:02.676004Z",
     "start_time": "2023-12-12T11:35:02.658733Z"
    }
   },
   "id": "708a8734a524358c"
  },
  {
   "cell_type": "code",
   "execution_count": 9,
   "outputs": [
    {
     "data": {
      "text/plain": "count    3434.000000\nmean        1.563730\nstd         1.265469\nmin         0.100000\n25%         1.050000\n50%         1.500000\n75%         1.840000\nmax        17.600000\nName: time_avt, dtype: float64"
     },
     "execution_count": 9,
     "metadata": {},
     "output_type": "execute_result"
    }
   ],
   "source": [
    "df['time_avt'].describe()"
   ],
   "metadata": {
    "collapsed": false,
    "ExecuteTime": {
     "end_time": "2023-12-12T11:35:23.217948Z",
     "start_time": "2023-12-12T11:35:23.209369Z"
    }
   },
   "id": "d16841fd31d0e15c"
  },
  {
   "cell_type": "code",
   "execution_count": null,
   "outputs": [],
   "source": [],
   "metadata": {
    "collapsed": false
   },
   "id": "8703be60a88271d6"
  }
 ],
 "metadata": {
  "kernelspec": {
   "display_name": "Python 3",
   "language": "python",
   "name": "python3"
  },
  "language_info": {
   "codemirror_mode": {
    "name": "ipython",
    "version": 2
   },
   "file_extension": ".py",
   "mimetype": "text/x-python",
   "name": "python",
   "nbconvert_exporter": "python",
   "pygments_lexer": "ipython2",
   "version": "2.7.6"
  }
 },
 "nbformat": 4,
 "nbformat_minor": 5
}
