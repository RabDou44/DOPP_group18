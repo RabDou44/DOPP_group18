{
 "cells": [
  {
   "cell_type": "code",
   "execution_count": 1,
   "metadata": {},
   "outputs": [],
   "source": [
    "import pandas as pd\n",
    "import requests\n",
    "import json"
   ]
  },
  {
   "cell_type": "code",
   "execution_count": null,
   "metadata": {},
   "outputs": [],
   "source": [
    "# Method for calling the API\n",
    "def call_matrix_api(origins, destination, transit_mode=None):\n",
    "    url = 'https://maps.googleapis.com/maps/api/distancematrix/json'\n",
    "    key = ''  # INSERT API KEY !!!\n",
    "    \n",
    "    # Add transit_mode to the parameters if provided\n",
    "    params = {'key': key, 'origins': origins, 'destinations': destination}\n",
    "    \n",
    "    if transit_mode:\n",
    "        params['transit_mode'] = transit_mode\n",
    "\n",
    "    req = requests.get(url=url, params=params)\n",
    "    response = json.loads(req.content)\n",
    "    return response\n"
   ]
  },
  {
   "cell_type": "code",
   "execution_count": null,
   "metadata": {},
   "outputs": [],
   "source": [
    "# Read the location data\n",
    "df = pd.read_excel('Book1.xlsx')\n",
    "\n",
    "# Get the list of destinations\n",
    "destinations = df['destination'].value_counts().index"
   ]
  },
  {
   "cell_type": "code",
   "execution_count": null,
   "metadata": {},
   "outputs": [],
   "source": [
    "results = []\n",
    "count_calls = 0\n",
    "for destination in destinations:\n",
    "    # Leave only rows with one destination\n",
    "    df_temp = df[df['destination'] == destination]\n",
    "    df_temp = df_temp.reset_index()\n",
    "\n",
    "    origins = ''\n",
    "    origins_array = []\n",
    "    counter = 0\n",
    "\n",
    "    # Put origins into the right format: single string with | as separator\n",
    "    for location in df_temp['origin']:\n",
    "        # Each string has at most 25 origins, in case of more create a list of strings\n",
    "        if counter > 24:\n",
    "            origins_array.append(origins)\n",
    "            origins = ''\n",
    "            counter = 0\n",
    "\n",
    "        origins += location + '|'\n",
    "        counter += 1\n",
    "\n",
    "    origins_array.append(origins)\n",
    "\n",
    "    distances = []\n",
    "    times = []\n",
    "\n",
    "    # For each string of origins, call the API with transit mode\n",
    "    for origins_string in origins_array:\n",
    "        api_response = call_matrix_api(origins_string, destination, transit_mode='transit')\n",
    "        count_calls += 1\n",
    "\n",
    "        # Extract transit distance and time\n",
    "        if api_response['status'] == 'OK':\n",
    "            for row in api_response['rows']:\n",
    "                for element in row['elements']:\n",
    "                    if element['status'] == 'OK':\n",
    "                        distances.append(element.get('distance', {}).get('value', -1))\n",
    "                        times.append(element.get('duration', {}).get('value', -1))\n",
    "                    else:\n",
    "                        distances.append(-1)\n",
    "                        times.append(-1)\n",
    "\n",
    "    # Create result rows and append to the results list\n",
    "    for i in range(len(distances)):\n",
    "        results.append([df_temp['origin'][i], destination, distances[i], times[i]])"
   ]
  },
  {
   "cell_type": "code",
   "execution_count": null,
   "metadata": {},
   "outputs": [],
   "source": [
    "# Create a dataframe out of the results list\n",
    "results_df = pd.DataFrame(results, columns=['origin', 'destination', 'transit distance [m]', 'transit time [s]'])\n",
    "\n",
    "# Export to CSV / Excel\n",
    "results_df.to_csv('transit-distances.csv')\n",
    "results_df.to_excel('transit-distances.xlsx')"
   ]
  }
 ],
 "metadata": {
  "kernelspec": {
   "display_name": "Python 3",
   "language": "python",
   "name": "python3"
  },
  "language_info": {
   "codemirror_mode": {
    "name": "ipython",
    "version": 3
   },
   "file_extension": ".py",
   "mimetype": "text/x-python",
   "name": "python",
   "nbconvert_exporter": "python",
   "pygments_lexer": "ipython3",
   "version": "3.11.5"
  }
 },
 "nbformat": 4,
 "nbformat_minor": 2
}
